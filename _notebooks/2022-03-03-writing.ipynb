{
 "cells": [
  {
   "cell_type": "markdown",
   "id": "e7be0996-e38e-43c7-85ba-5c66be547fd0",
   "metadata": {
    "id": "67a097ac-8d49-4481-ac5a-62838b3b7249",
    "tags": []
   },
   "source": [
    "# (논문) Proposed method\n",
    "> decomposition 소개\n",
    "\n",
    "- toc:true\n",
    "- branch: master\n",
    "- badges: true\n",
    "- comments: true\n",
    "- author: 김하영\n",
    "- categories: [Study]"
   ]
  },
  {
   "cell_type": "markdown",
   "id": "bc8a8b6c-5de9-47f3-ab07-5b17eb3df1fb",
   "metadata": {},
   "source": [
    "---"
   ]
  },
  {
   "cell_type": "markdown",
   "id": "9dfe6d88-c6f1-4993-986e-7f0845adab9d",
   "metadata": {},
   "source": [
    "## 3. Proposed method"
   ]
  },
  {
   "cell_type": "markdown",
   "id": "2ec6cfa1-a03e-469f-8619-09f4177938da",
   "metadata": {},
   "source": [
    "#### 작은 인트로\n",
    "AI는 이미지를 분류할 때 사람이 통상적으로 사용하는 분류 기준을 이용하지 않기도 한다. 이 때 추가적인 결과를 제공한다면 이미지를 분류한 충분한 증거가 확보되어 AI의 결과를 보완할 수 있을 것이다.     \n",
    "우리는 CAM을 통해 이미지가 특정 클래스로 분류되는데 중요한 역할을 한 픽셀을 확인하고 이미지에서 분리한다. 그 후에 해당 픽셀을 마스킹(masking)한 이미지를 생성해 그 다음 중요도가 높은 픽셀을 CAM을 통해 확인하는 과정을 올바른 클래스로 분류해낼 때 까지 반복한다."
   ]
  },
  {
   "cell_type": "markdown",
   "id": "46c4eddf-b9f2-45c4-915f-fb49c302ed67",
   "metadata": {},
   "source": [
    "### 3.1 모드 분해(mode decompositon)"
   ]
  },
  {
   "cell_type": "markdown",
   "id": "a48054b7-6480-4a7d-9807-c47fa51d7400",
   "metadata": {},
   "source": [
    "$\\bf X$ 는 입력 이미지로, size는 $\\bf{H}$ $\\times$ $\\bf{W}$이다. $\\bf{H}$는 이미지의 높이, $\\bf{W}$는 이미지의 넓이이다. 분석에 사용되는 이미지는 컬러 이미지이기 때문에 이미지 1개의 형태는 $1\\times3\\times \\bf{H} \\times \\bf{W}$이다.  \n",
    "> RISE 논문에서 $\\bf{I}$ : $\\bf{\\Lambda} \\to \\mathbb{R}^3$ of size $\\bf{H}$ $\\times$ $\\bf{W}$ $(\\Lambda = {1, \\dots, \\bf{H}} \\times {1, \\dots, \\bf{W}})$ 이렇게 표현했는데 써도 될까??\n",
    "\n",
    "$\\bf X$는 "
   ]
  },
  {
   "cell_type": "code",
   "execution_count": null,
   "id": "983328a9-7720-4da3-9143-bc9767940868",
   "metadata": {},
   "outputs": [],
   "source": []
  }
 ],
 "metadata": {
  "kernelspec": {
   "display_name": "Python 3 (ipykernel)",
   "language": "python",
   "name": "python3"
  },
  "language_info": {
   "codemirror_mode": {
    "name": "ipython",
    "version": 3
   },
   "file_extension": ".py",
   "mimetype": "text/x-python",
   "name": "python",
   "nbconvert_exporter": "python",
   "pygments_lexer": "ipython3",
   "version": "3.8.12"
  }
 },
 "nbformat": 4,
 "nbformat_minor": 5
}
