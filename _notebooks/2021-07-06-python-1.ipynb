{
 "cells": [
  {
   "cell_type": "markdown",
   "id": "f8ffe9a2-9842-4421-983f-c82d9f2b18f5",
   "metadata": {},
   "source": [
    "# 파이썬 객체 소개_0차원 자료형\n",
    "> 작성완료\n",
    "\n",
    "- toc:true\n",
    "- branch: master\n",
    "- badges: true\n",
    "- comments: true\n",
    "- author: kimha0\n",
    "- categories: [Python]"
   ]
  },
  {
   "cell_type": "markdown",
   "id": "centered-prior",
   "metadata": {},
   "source": [
    "객체? "
   ]
  },
  {
   "cell_type": "markdown",
   "id": "distant-serial",
   "metadata": {},
   "source": [
    "- 본질적으로는 객체는 메모리 조각이다. \n",
    "- 파이썬에서는 모든것이 객체이다. (값, 연산, 함수, 클래스, 컴파일된 코드) \n",
    "    - 예를들면 숫자(99)도 객체이며, 파이썬이 제공하는 연산들(더하기, 빼기)도 객체이다. \n",
    "- 내장객체의 타입을 알아보자. "
   ]
  },
  {
   "cell_type": "markdown",
   "id": "stock-liechtenstein",
   "metadata": {},
   "source": [
    "##  `0차원` 자료형  "
   ]
  },
  {
   "cell_type": "markdown",
   "id": "exact-validity",
   "metadata": {},
   "source": [
    "### (1) `int`형"
   ]
  },
  {
   "cell_type": "code",
   "execution_count": 24,
   "id": "e08a22c0-7f77-4903-bfb7-3c20786219fb",
   "metadata": {},
   "outputs": [],
   "source": [
    "a=333"
   ]
  },
  {
   "cell_type": "code",
   "execution_count": 25,
   "id": "c06382df-d392-4402-b2bb-2890fda230a7",
   "metadata": {},
   "outputs": [
    {
     "data": {
      "text/plain": [
       "333"
      ]
     },
     "execution_count": 25,
     "metadata": {},
     "output_type": "execute_result"
    }
   ],
   "source": [
    "a"
   ]
  },
  {
   "cell_type": "markdown",
   "id": "prescribed-temple",
   "metadata": {},
   "source": [
    "### (2) `float`형"
   ]
  },
  {
   "cell_type": "code",
   "execution_count": 13,
   "id": "threatened-cemetery",
   "metadata": {},
   "outputs": [
    {
     "data": {
      "text/plain": [
       "3.5999999999999996"
      ]
     },
     "execution_count": 13,
     "metadata": {},
     "output_type": "execute_result"
    }
   ],
   "source": [
    "a=1.2*3\n",
    "a"
   ]
  },
  {
   "cell_type": "markdown",
   "id": "beautiful-attempt",
   "metadata": {},
   "source": [
    "### (3) `complex`형 "
   ]
  },
  {
   "cell_type": "code",
   "execution_count": 15,
   "id": "tired-hawaiian",
   "metadata": {},
   "outputs": [],
   "source": [
    "a=1+2j\n",
    "b=2-2j\n",
    "c=a+b"
   ]
  },
  {
   "cell_type": "markdown",
   "id": "faced-hurricane",
   "metadata": {},
   "source": [
    "### (4) `bool`형 "
   ]
  },
  {
   "cell_type": "code",
   "execution_count": 19,
   "id": "applied-airline",
   "metadata": {},
   "outputs": [],
   "source": [
    "a=True ## a=1로 생각해도 .. \n",
    "b=False ## b=0으로 생각해도 .. "
   ]
  },
  {
   "cell_type": "markdown",
   "id": "renewable-windsor",
   "metadata": {},
   "source": [
    "#### [$\\ast$] 형태변환 "
   ]
  },
  {
   "cell_type": "code",
   "execution_count": 31,
   "id": "ahead-regulation",
   "metadata": {},
   "outputs": [],
   "source": [
    "a=3.6234   #float"
   ]
  },
  {
   "cell_type": "code",
   "execution_count": 34,
   "id": "spoken-interview",
   "metadata": {},
   "outputs": [],
   "source": [
    "b=int(a)  #float->int 형태로 변환"
   ]
  },
  {
   "cell_type": "code",
   "execution_count": 33,
   "id": "05fb0862-0d78-46a8-a121-7ed8484e66bb",
   "metadata": {},
   "outputs": [
    {
     "data": {
      "text/plain": [
       "3"
      ]
     },
     "execution_count": 33,
     "metadata": {},
     "output_type": "execute_result"
    }
   ],
   "source": [
    "b  "
   ]
  },
  {
   "cell_type": "code",
   "execution_count": 36,
   "id": "measured-amateur",
   "metadata": {},
   "outputs": [],
   "source": [
    "a=3"
   ]
  },
  {
   "cell_type": "code",
   "execution_count": 37,
   "id": "colored-valuation",
   "metadata": {},
   "outputs": [
    {
     "data": {
      "text/plain": [
       "3"
      ]
     },
     "execution_count": 37,
     "metadata": {},
     "output_type": "execute_result"
    }
   ],
   "source": [
    "a"
   ]
  },
  {
   "cell_type": "code",
   "execution_count": 38,
   "id": "mobile-bacteria",
   "metadata": {},
   "outputs": [
    {
     "data": {
      "text/plain": [
       "3.0"
      ]
     },
     "execution_count": 38,
     "metadata": {},
     "output_type": "execute_result"
    }
   ],
   "source": [
    "float(a)  #int->float 형태로 변환"
   ]
  },
  {
   "cell_type": "code",
   "execution_count": 39,
   "id": "median-boost",
   "metadata": {},
   "outputs": [
    {
     "data": {
      "text/plain": [
       "1"
      ]
     },
     "execution_count": 39,
     "metadata": {},
     "output_type": "execute_result"
    }
   ],
   "source": [
    "int(True)  #bool->int 형태로 변환"
   ]
  },
  {
   "cell_type": "code",
   "execution_count": 40,
   "id": "intended-forestry",
   "metadata": {},
   "outputs": [
    {
     "data": {
      "text/plain": [
       "0.0"
      ]
     },
     "execution_count": 40,
     "metadata": {},
     "output_type": "execute_result"
    }
   ],
   "source": [
    "float(False)  #bool->float 형태로 변환"
   ]
  },
  {
   "cell_type": "code",
   "execution_count": 41,
   "id": "oriented-maple",
   "metadata": {},
   "outputs": [
    {
     "ename": "TypeError",
     "evalue": "can't convert complex to float",
     "output_type": "error",
     "traceback": [
      "\u001b[0;31m---------------------------------------------------------------------------\u001b[0m",
      "\u001b[0;31mTypeError\u001b[0m                                 Traceback (most recent call last)",
      "\u001b[0;32m<ipython-input-41-262acd6bef5b>\u001b[0m in \u001b[0;36m<module>\u001b[0;34m\u001b[0m\n\u001b[0;32m----> 1\u001b[0;31m \u001b[0mfloat\u001b[0m\u001b[0;34m(\u001b[0m\u001b[0;36m3\u001b[0m\u001b[0;34m+\u001b[0m\u001b[0;36m0j\u001b[0m\u001b[0;34m)\u001b[0m  \u001b[0;31m#complex->float 불가\u001b[0m\u001b[0;34m\u001b[0m\u001b[0;34m\u001b[0m\u001b[0m\n\u001b[0m",
      "\u001b[0;31mTypeError\u001b[0m: can't convert complex to float"
     ]
    }
   ],
   "source": [
    "float(3+0j)  #complex->float 불가"
   ]
  },
  {
   "cell_type": "markdown",
   "id": "fossil-theater",
   "metadata": {},
   "source": [
    "#### [$\\ast$] `math`"
   ]
  },
  {
   "cell_type": "code",
   "execution_count": 45,
   "id": "b225d356-1b18-4918-9606-0ca9ff17fa5d",
   "metadata": {},
   "outputs": [
    {
     "ename": "NameError",
     "evalue": "name 'pi' is not defined",
     "output_type": "error",
     "traceback": [
      "\u001b[0;31m---------------------------------------------------------------------------\u001b[0m",
      "\u001b[0;31mNameError\u001b[0m                                 Traceback (most recent call last)",
      "\u001b[0;32m<ipython-input-45-604074d5eb00>\u001b[0m in \u001b[0;36m<module>\u001b[0;34m\u001b[0m\n\u001b[0;32m----> 1\u001b[0;31m \u001b[0mpi\u001b[0m  \u001b[0;31m#우리가 아는 파이(원주율)가 바로 나올까? A:안 나온다.\u001b[0m\u001b[0;34m\u001b[0m\u001b[0;34m\u001b[0m\u001b[0m\n\u001b[0m",
      "\u001b[0;31mNameError\u001b[0m: name 'pi' is not defined"
     ]
    }
   ],
   "source": [
    "pi  #우리가 아는 파이(원주율)가 바로 나올까? A:안 나온다."
   ]
  },
  {
   "cell_type": "code",
   "execution_count": 54,
   "id": "mechanical-theorem",
   "metadata": {},
   "outputs": [
    {
     "data": {
      "text/plain": [
       "3.141592653589793"
      ]
     },
     "execution_count": 54,
     "metadata": {},
     "output_type": "execute_result"
    }
   ],
   "source": [
    "import math\n",
    "math.pi #math패키지를 사용하면 바로 파이가 나온다."
   ]
  },
  {
   "cell_type": "code",
   "execution_count": 42,
   "id": "robust-myanmar",
   "metadata": {},
   "outputs": [
    {
     "data": {
      "text/plain": [
       "2.718281828459045"
      ]
     },
     "execution_count": 42,
     "metadata": {},
     "output_type": "execute_result"
    }
   ],
   "source": [
    "math.e"
   ]
  },
  {
   "cell_type": "code",
   "execution_count": 55,
   "id": "promotional-conditioning",
   "metadata": {},
   "outputs": [
    {
     "data": {
      "text/plain": [
       "1.0"
      ]
     },
     "execution_count": 55,
     "metadata": {},
     "output_type": "execute_result"
    }
   ],
   "source": [
    "math.sin(math.pi/2)  #삼각함수"
   ]
  },
  {
   "cell_type": "code",
   "execution_count": 56,
   "id": "norwegian-natural",
   "metadata": {},
   "outputs": [
    {
     "data": {
      "text/plain": [
       "1.4142135623730951"
      ]
     },
     "execution_count": 56,
     "metadata": {},
     "output_type": "execute_result"
    }
   ],
   "source": [
    "math.sqrt(2)"
   ]
  },
  {
   "cell_type": "code",
   "execution_count": 57,
   "id": "dedicated-intro",
   "metadata": {},
   "outputs": [],
   "source": [
    "dir(math)  #math 안에 있는 함수 확인"
   ]
  },
  {
   "cell_type": "markdown",
   "id": "applied-motor",
   "metadata": {},
   "source": [
    "- `math.??`의 사용법을 아는 방법? "
   ]
  },
  {
   "cell_type": "code",
   "execution_count": 60,
   "id": "august-secondary",
   "metadata": {},
   "outputs": [
    {
     "data": {
      "text/plain": [
       "<function math.sqrt(x, /)>"
      ]
     },
     "execution_count": 60,
     "metadata": {},
     "output_type": "execute_result"
    }
   ],
   "source": [
    "math.sqrt"
   ]
  },
  {
   "cell_type": "markdown",
   "id": "republican-pollution",
   "metadata": {},
   "source": [
    "(의문) `math.`에서 `.`을 왜 항상 붙이는가?"
   ]
  },
  {
   "cell_type": "markdown",
   "id": "former-deployment",
   "metadata": {},
   "source": [
    "(요구) `.` 을 안붙이는 방법은 없을까? "
   ]
  },
  {
   "cell_type": "code",
   "execution_count": 63,
   "id": "adjusted-belly",
   "metadata": {},
   "outputs": [],
   "source": [
    "from math import pi "
   ]
  },
  {
   "cell_type": "code",
   "execution_count": 64,
   "id": "satisfied-mention",
   "metadata": {},
   "outputs": [
    {
     "data": {
      "text/plain": [
       "3.141592653589793"
      ]
     },
     "execution_count": 64,
     "metadata": {},
     "output_type": "execute_result"
    }
   ],
   "source": [
    "pi"
   ]
  },
  {
   "cell_type": "code",
   "execution_count": 61,
   "id": "common-lawyer",
   "metadata": {},
   "outputs": [
    {
     "data": {
      "text/plain": [
       "1.0"
      ]
     },
     "execution_count": 61,
     "metadata": {},
     "output_type": "execute_result"
    }
   ],
   "source": [
    "math.sin(pi/2)"
   ]
  },
  {
   "cell_type": "code",
   "execution_count": 66,
   "id": "outer-ukraine",
   "metadata": {},
   "outputs": [],
   "source": [
    "from math import sin "
   ]
  },
  {
   "cell_type": "code",
   "execution_count": 67,
   "id": "active-portal",
   "metadata": {},
   "outputs": [
    {
     "data": {
      "text/plain": [
       "1.0"
      ]
     },
     "execution_count": 67,
     "metadata": {},
     "output_type": "execute_result"
    }
   ],
   "source": [
    "sin(pi/2)"
   ]
  },
  {
   "cell_type": "code",
   "execution_count": 68,
   "id": "listed-weapon",
   "metadata": {},
   "outputs": [
    {
     "data": {
      "text/plain": [
       "1.4142135623730951"
      ]
     },
     "execution_count": 68,
     "metadata": {},
     "output_type": "execute_result"
    }
   ],
   "source": [
    "abs(1+1j)"
   ]
  },
  {
   "cell_type": "code",
   "execution_count": 67,
   "id": "universal-graduation",
   "metadata": {},
   "outputs": [
    {
     "data": {
      "text/plain": [
       "1.4142135623730951"
      ]
     },
     "execution_count": 67,
     "metadata": {},
     "output_type": "execute_result"
    }
   ],
   "source": [
    "math.sqrt(2)"
   ]
  },
  {
   "cell_type": "markdown",
   "id": "special-fusion",
   "metadata": {},
   "source": [
    "#### [$\\ast$] 파이썬 빌트인함수"
   ]
  },
  {
   "cell_type": "markdown",
   "id": "furnished-milton",
   "metadata": {},
   "source": [
    "빌트인함수의 종류에 어떤것이 있는지 확인하는 방법? "
   ]
  },
  {
   "cell_type": "markdown",
   "id": "unsigned-letter",
   "metadata": {},
   "source": [
    "- https://docs.python.org/3.8/library/functions.html"
   ]
  },
  {
   "cell_type": "code",
   "execution_count": 69,
   "id": "global-dispute",
   "metadata": {},
   "outputs": [],
   "source": [
    "import builtins "
   ]
  },
  {
   "cell_type": "code",
   "execution_count": 69,
   "id": "horizontal-suspect",
   "metadata": {},
   "outputs": [],
   "source": [
    "#dir(builtins)  #빌트인 함수 확인"
   ]
  }
 ],
 "metadata": {
  "kernelspec": {
   "display_name": "Python 3",
   "language": "python",
   "name": "python3"
  },
  "language_info": {
   "codemirror_mode": {
    "name": "ipython",
    "version": 3
   },
   "file_extension": ".py",
   "mimetype": "text/x-python",
   "name": "python",
   "nbconvert_exporter": "python",
   "pygments_lexer": "ipython3",
   "version": "3.8.10"
  }
 },
 "nbformat": 4,
 "nbformat_minor": 5
}
