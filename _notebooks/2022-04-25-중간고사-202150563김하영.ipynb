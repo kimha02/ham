{
 "cells": [
  {
   "cell_type": "markdown",
   "id": "a6ef6547-c0c4-449a-996b-b9dc83b3feb6",
   "metadata": {
    "id": "461b396e-d7f0-4a8a-8d11-4ec4cb066a90"
   },
   "source": [
    "# (8주차) 중간고사\n",
    "- toc:true\n",
    "- branch: master\n",
    "- badges: true\n",
    "- comments: true\n",
    "- author: 김하영\n",
    "- categories : [Bigdata]"
   ]
  },
  {
   "cell_type": "markdown",
   "id": "a649de31-52c1-433a-9f73-212ff720832a",
   "metadata": {
    "tags": []
   },
   "source": [
    "# 빅데이터분석 특강 중간고사"
   ]
  },
  {
   "cell_type": "code",
   "execution_count": 1,
   "id": "a05d1125-708a-4485-92a7-75d22b4a90fc",
   "metadata": {},
   "outputs": [],
   "source": [
    "import numpy as np\n",
    "import tensorflow as tf \n",
    "import tensorflow.experimental.numpy as tnp "
   ]
  },
  {
   "cell_type": "code",
   "execution_count": 2,
   "id": "d18e1f6b-45d7-427c-8c84-9274f2ea341d",
   "metadata": {},
   "outputs": [],
   "source": [
    "tnp.experimental_enable_numpy_behavior()"
   ]
  },
  {
   "cell_type": "code",
   "execution_count": 3,
   "id": "87906483-47e5-408e-bcb7-ce0bcb1fad5b",
   "metadata": {},
   "outputs": [],
   "source": [
    "import matplotlib.pyplot as plt "
   ]
  },
  {
   "cell_type": "markdown",
   "id": "13f70088-339a-48c7-927b-1e039fe43b62",
   "metadata": {},
   "source": [
    "## `1`. 경사하강법과 tf.GradientTape()의 사용방법 (30점)"
   ]
  },
  {
   "cell_type": "markdown",
   "id": "1bf2e145-d18c-4006-93a0-c4e9f5f91d94",
   "metadata": {},
   "source": [
    "`(1)` 아래는 $X_i \\overset{iid}{\\sim} N(3,2^2)$ 를 생성하는 코드이다. "
   ]
  },
  {
   "cell_type": "code",
   "execution_count": 230,
   "id": "62c4c5bb-1c84-4d08-9a8c-0f56ac31fc7a",
   "metadata": {},
   "outputs": [
    {
     "data": {
      "text/plain": [
       "<tf.Tensor: shape=(10000,), dtype=float64, numpy=\n",
       "array([ 4.12539849,  5.46696729,  5.27243374, ...,  2.89712332,\n",
       "        5.01072291, -1.13050477])>"
      ]
     },
     "execution_count": 230,
     "metadata": {},
     "output_type": "execute_result"
    }
   ],
   "source": [
    "tf.random.set_seed(43052)\n",
    "x= tnp.random.randn(10000)*2+3\n",
    "x"
   ]
  },
  {
   "cell_type": "markdown",
   "id": "4266f989-9bc3-4bb6-ae0a-5bde6f7fa489",
   "metadata": {},
   "source": [
    "함수 $L(\\mu,\\sigma)$을 최대화하는 $(\\mu,\\sigma)$를 `tf.GradeintTape()`를 활용하여 추정하라. (경사하강법 혹은 경사상승법을 사용하고 $\\mu$의 초기값은 2로 $\\sigma$의 초기값은 3으로 설정할 것) \n",
    "\n",
    "$$L(\\mu,\\sigma)=\\prod_{i=1}^{n}f(x_i), \\quad f(x_i)=\\frac{1}{\\sqrt{2\\pi}\\sigma}e^{-\\frac{1}{2}(\\frac{x_i-\\mu}{\\sigma})^2}$$"
   ]
  },
  {
   "cell_type": "markdown",
   "id": "1f58cdd6-de86-4a26-bae9-cb3b1a0050e5",
   "metadata": {},
   "source": [
    "##### **`1.(1)` 풀이**"
   ]
  },
  {
   "cell_type": "code",
   "execution_count": 231,
   "id": "cc0b07a4-d6fc-4561-ad25-70daf3076895",
   "metadata": {},
   "outputs": [],
   "source": [
    "N=10000"
   ]
  },
  {
   "cell_type": "markdown",
   "id": "585766a4-f9c8-49ac-90e0-58353952e0f2",
   "metadata": {},
   "source": [
    "위의 식에 로그를 취해 정리하면 아래와 같다.  \n",
    "\n",
    "$\\log L = \\log \\prod_{i=1}^{n}f(x_i) $\n",
    "\n",
    "$= \\sum^{10000}_{i=1} \\big \\{ -\\frac{1}{2} \\log(2\\pi \\sigma^2) - \\frac{(x_i - \\mu)^2}{2\\sigma^2} \\big \\}$\n",
    "\n",
    "$= \\frac{10000}{2}\\log (2\\pi \\sigma^2) - \\frac{1}{2\\sigma^2} \\sum^{10000}_{i=1} (x_i - \\mu)^2$  \n",
    "\n",
    "$L(\\mu,\\sigma)$을 최대화를 하는 것은 $\\log L$을 최대화하는 것과 같고,  \n",
    "$\\log L$을 최대화하기 위해서는 $\\frac{(x_i - \\mu)^2}{\\sigma^2}$가 최소화 되어야 한다."
   ]
  },
  {
   "cell_type": "code",
   "execution_count": 232,
   "id": "9d3a72db-7d48-4841-bead-c4b11522ec60",
   "metadata": {},
   "outputs": [],
   "source": [
    "y_true=(x-3)**2/2**2"
   ]
  },
  {
   "cell_type": "code",
   "execution_count": 233,
   "id": "81c6ddae-cbb1-447a-8e6b-5f8cdee32bef",
   "metadata": {},
   "outputs": [],
   "source": [
    "epsilon = tnp.random.randn(N)*0.5\n",
    "y=(x-3)**2/2**2+epsilon"
   ]
  },
  {
   "cell_type": "code",
   "execution_count": 234,
   "id": "444f5f0a-7737-4337-a3a9-937b1fd68c53",
   "metadata": {},
   "outputs": [
    {
     "data": {
      "text/plain": [
       "(TensorShape([10000]), TensorShape([10000]))"
      ]
     },
     "execution_count": 234,
     "metadata": {},
     "output_type": "execute_result"
    }
   ],
   "source": [
    "x.shape, y.shape"
   ]
  },
  {
   "cell_type": "code",
   "execution_count": 235,
   "id": "2839947e-ead6-492d-954d-dd46b95e462e",
   "metadata": {},
   "outputs": [],
   "source": [
    "mu_hat = tf.Variable(2.0)\n",
    "sigma_hat = tf.Variable(3.0)"
   ]
  },
  {
   "cell_type": "code",
   "execution_count": 236,
   "id": "b1c7210f-a634-47e1-8484-31b065ce7d40",
   "metadata": {},
   "outputs": [],
   "source": [
    "alpha=0.1000"
   ]
  },
  {
   "cell_type": "code",
   "execution_count": 237,
   "id": "441268e8-8656-4e50-92ef-f858474f1546",
   "metadata": {},
   "outputs": [],
   "source": [
    "for epoc in range(1000):   \n",
    "    with tf.GradientTape() as tape: \n",
    "        yhat = (x-mu_hat)**2/(sigma_hat**2)\n",
    "        loss = tf.reduce_sum((y-yhat)**2)/N \n",
    "    slope0,slope1 = tape.gradient(loss,[mu_hat,sigma_hat]) \n",
    "    mu_hat.assign_sub(slope0 * alpha) \n",
    "    sigma_hat.assign_sub(slope1 * alpha) "
   ]
  },
  {
   "cell_type": "code",
   "execution_count": 238,
   "id": "ed5f9bac-4811-4128-b37c-ca3595ea2d08",
   "metadata": {},
   "outputs": [
    {
     "data": {
      "text/plain": [
       "(<tf.Variable 'Variable:0' shape=() dtype=float32, numpy=3.004977>,\n",
       " <tf.Variable 'Variable:0' shape=() dtype=float32, numpy=2.0002522>)"
      ]
     },
     "execution_count": 238,
     "metadata": {},
     "output_type": "execute_result"
    }
   ],
   "source": [
    "mu_hat, sigma_hat"
   ]
  },
  {
   "cell_type": "code",
   "execution_count": 239,
   "id": "3e877097-23c0-47fd-bbe6-6a4350f163f8",
   "metadata": {},
   "outputs": [],
   "source": [
    "yhat=(x-mu_hat)**2/(sigma_hat**2)"
   ]
  },
  {
   "cell_type": "code",
   "execution_count": 240,
   "id": "168ef9a6-81d3-48e2-b2fe-3376e626e01b",
   "metadata": {
    "id": "af3a1e90-9370-4705-9be7-f321f7c2f856",
    "outputId": "8fa70cf1-56d8-4f1f-909b-bb54a7c9e0c6"
   },
   "outputs": [
    {
     "data": {
      "text/plain": [
       "[<matplotlib.lines.Line2D at 0x7f406089b460>]"
      ]
     },
     "execution_count": 240,
     "metadata": {},
     "output_type": "execute_result"
    },
    {
     "data": {
      "image/png": "[encoded data removed]",
      "text/plain": [
       "<Figure size 432x288 with 1 Axes>"
      ]
     },
     "metadata": {
      "needs_background": "light"
     },
     "output_type": "display_data"
    }
   ],
   "source": [
    "plt.plot(x,y,'.')\n",
    "plt.plot(x,yhat,'r.')"
   ]
  },
  {
   "cell_type": "markdown",
   "id": "22a89af4-8834-4b4a-b0bc-6d9782315e99",
   "metadata": {},
   "source": [
    "`(2)` 아래는 $X_i \\overset{iid}{\\sim} Ber(0.8)$을 생성하는 코드이다. "
   ]
  },
  {
   "cell_type": "code",
   "execution_count": 201,
   "id": "78dc1408-f4f7-4124-a073-c71296fcc249",
   "metadata": {},
   "outputs": [
    {
     "data": {
      "text/plain": [
       "<tf.Tensor: shape=(10000,), dtype=int64, numpy=array([1, 1, 1, ..., 1, 0, 1])>"
      ]
     },
     "execution_count": 201,
     "metadata": {},
     "output_type": "execute_result"
    }
   ],
   "source": [
    "tf.random.set_seed(43052)\n",
    "x= tf.constant(np.random.binomial(1,0.8,(10000,)))\n",
    "x"
   ]
  },
  {
   "cell_type": "markdown",
   "id": "56d3b31c-ac0a-4648-8663-5b74c2b2b051",
   "metadata": {},
   "source": [
    "함수 $L(p)$을 최대화하는 $p$를 `tf.GradeintTape()`를 활용하여 추정하라. (경사하강법 혹은 경사상승법을 사용하고 $p$의 초기값은 0.3으로 설정할 것) \n",
    "\n",
    "\n",
    "$$L(\\mu,\\sigma)=\\prod_{i=1}^{n}f(x_i), \\quad f(x_i)=p^{x_i}(1-p)^{1-x_i}$$"
   ]
  },
  {
   "cell_type": "markdown",
   "id": "24c84405-8a25-4112-a2a7-d1a50a1f9947",
   "metadata": {
    "tags": []
   },
   "source": [
    "##### `1.(2)` 풀이"
   ]
  },
  {
   "cell_type": "code",
   "execution_count": 78,
   "id": "bcbb083e-8aeb-45d8-aff1-dd9eba80ea98",
   "metadata": {},
   "outputs": [],
   "source": [
    "N=10000"
   ]
  },
  {
   "cell_type": "code",
   "execution_count": 79,
   "id": "7ee75f35-f9ef-4058-b6f5-e3e16cc69f42",
   "metadata": {},
   "outputs": [],
   "source": [
    "epsilon = tnp.random.randn(N)*0.5\n",
    "y=0.8**x*0.2**(1-x)+epsilon"
   ]
  },
  {
   "cell_type": "code",
   "execution_count": 80,
   "id": "83704b93-8eb9-46c1-9c2f-b51437e56f0d",
   "metadata": {},
   "outputs": [
    {
     "data": {
      "text/plain": [
       "(TensorShape([10000]), TensorShape([10000]))"
      ]
     },
     "execution_count": 80,
     "metadata": {},
     "output_type": "execute_result"
    }
   ],
   "source": [
    "x.shape, y.shape"
   ]
  },
  {
   "cell_type": "code",
   "execution_count": 81,
   "id": "d8597367-6fc0-459e-8158-46226fe9aa45",
   "metadata": {},
   "outputs": [],
   "source": [
    "p_hat = tf.Variable(0.300)"
   ]
  },
  {
   "cell_type": "code",
   "execution_count": 82,
   "id": "2ed07e0b-008a-4619-bc23-c16e294fdba6",
   "metadata": {},
   "outputs": [],
   "source": [
    "alpha=0.1"
   ]
  },
  {
   "cell_type": "code",
   "execution_count": 83,
   "id": "b7c4cb5a-f3ab-434e-9491-4b29ba5bb3a3",
   "metadata": {},
   "outputs": [],
   "source": [
    "for epoc in range(1000):   \n",
    "    with tf.GradientTape() as tape: \n",
    "        yhat = (p_hat)**x*(1-p_hat)**(1-x)\n",
    "        loss = tf.reduce_sum((y-yhat)**2)/N \n",
    "    slope = tape.gradient(loss,p_hat) \n",
    "    p_hat.assign_sub(slope * alpha) "
   ]
  },
  {
   "cell_type": "code",
   "execution_count": 85,
   "id": "450e2f7b-992b-4a52-9ebf-d6765589b4e9",
   "metadata": {},
   "outputs": [
    {
     "data": {
      "text/plain": [
       "<tf.Variable 'Variable:0' shape=() dtype=float32, numpy=0.80455846>"
      ]
     },
     "execution_count": 85,
     "metadata": {},
     "output_type": "execute_result"
    }
   ],
   "source": [
    "p_hat"
   ]
  },
  {
   "cell_type": "code",
   "execution_count": 86,
   "id": "ae792c7c-4fc2-4077-9c41-32163613188a",
   "metadata": {},
   "outputs": [],
   "source": [
    "yhat=p_hat**x*(1-p_hat)**(1-x)"
   ]
  },
  {
   "cell_type": "code",
   "execution_count": 87,
   "id": "c492f336-03d3-4a39-985a-2cf1b641bb34",
   "metadata": {
    "id": "af3a1e90-9370-4705-9be7-f321f7c2f856",
    "outputId": "8fa70cf1-56d8-4f1f-909b-bb54a7c9e0c6"
   },
   "outputs": [
    {
     "data": {
      "text/plain": [
       "[<matplotlib.lines.Line2D at 0x7f40937de7a0>]"
      ]
     },
     "execution_count": 87,
     "metadata": {},
     "output_type": "execute_result"
    },
    {
     "data": {
      "image/png": "[encoded data removed]",
      "text/plain": [
       "<Figure size 432x288 with 1 Axes>"
      ]
     },
     "metadata": {
      "needs_background": "light"
     },
     "output_type": "display_data"
    }
   ],
   "source": [
    "plt.plot(x,y,'.')\n",
    "plt.plot(x,yhat,'r.')"
   ]
  },
  {
   "cell_type": "markdown",
   "id": "af7d2663-4db7-4da1-b55c-acab57da3f9b",
   "metadata": {},
   "source": [
    "`(3)` 아래의 모형에 따라서 $\\{Y_i\\}_{i=1}^{10000}$를 생성하는 코드를 작성하라. \n",
    "- $Y_i \\overset{iid}{\\sim} N(\\mu_i,1)$ \n",
    "- $\\mu_i = \\beta_0 + \\beta_1 x_i = 0.5 + 2 x_i$ , where $x_i = \\frac{i}{10000}$"
   ]
  },
  {
   "cell_type": "code",
   "execution_count": 254,
   "id": "53923b17-0a69-443e-a8cf-7e3b6985ec7f",
   "metadata": {},
   "outputs": [],
   "source": [
    "tf.random.set_seed(43052)\n",
    "x=np.linspace(0,1,10000)\n",
    "mu_true=0.5+2*x"
   ]
  },
  {
   "cell_type": "code",
   "execution_count": 255,
   "id": "bd87fe18-0592-43b5-8f29-c4639a152ee3",
   "metadata": {},
   "outputs": [],
   "source": [
    "y_true= tnp.random.randn(10000)+mu_true"
   ]
  },
  {
   "cell_type": "markdown",
   "id": "da6536c1-15f4-4d5a-b119-2a9e4a9ee146",
   "metadata": {},
   "source": [
    "함수 $L(\\beta_0,\\beta_1)$을 최대화하는 $(\\beta_0,\\beta_1)$를 `tf.GradeintTape()`를 활용하여 추정하라. (경사하강법 혹은 경사상승법을 사용하고 $\\beta_0,\\beta_1$의 초기값은 모두 1로 설정할 것) \n",
    "\n",
    "$$L(\\beta_0,\\beta_1)=\\prod_{i=1}^{n}f(y_i), \\quad f(y_i)=\\frac{1}{\\sqrt{2\\pi}}e^{-\\frac{1}{2}(y_i-\\mu_i)^2}, \\quad \\mu_i=\\beta_0+\\beta_1 x_i$$"
   ]
  },
  {
   "cell_type": "markdown",
   "id": "f2fc09af-b7f0-4292-8237-6a7c7aa27cb8",
   "metadata": {
    "tags": []
   },
   "source": [
    "##### `1.(3)` 풀이"
   ]
  },
  {
   "cell_type": "code",
   "execution_count": 280,
   "id": "6f8a2584-9413-402c-b2b5-ad705a3f5556",
   "metadata": {},
   "outputs": [],
   "source": [
    "epsilon = tnp.random.randn(N)*0.5\n",
    "mu=0.5+2*x+epsilon"
   ]
  },
  {
   "cell_type": "code",
   "execution_count": 281,
   "id": "ecb01416-04fa-42ce-bb8e-128e2a1e53b8",
   "metadata": {},
   "outputs": [
    {
     "data": {
      "text/plain": [
       "((10000,), TensorShape([10000]))"
      ]
     },
     "execution_count": 281,
     "metadata": {},
     "output_type": "execute_result"
    }
   ],
   "source": [
    "x.shape, mu.shape"
   ]
  },
  {
   "cell_type": "code",
   "execution_count": 282,
   "id": "196ac7db-d761-41be-bc60-f706f33180fb",
   "metadata": {},
   "outputs": [],
   "source": [
    "beta0_hat = tf.Variable(1.0)\n",
    "beta1_hat = tf.Variable(1.0)"
   ]
  },
  {
   "cell_type": "code",
   "execution_count": 283,
   "id": "57f27db0-d3ee-46b5-b4be-222f43d24ff4",
   "metadata": {},
   "outputs": [],
   "source": [
    "alpha=0.1"
   ]
  },
  {
   "cell_type": "code",
   "execution_count": 284,
   "id": "4897c150-6407-4255-ba13-f0df5bd92472",
   "metadata": {},
   "outputs": [],
   "source": [
    "for epoc in range(1000):   \n",
    "    with tf.GradientTape() as tape: \n",
    "        mu_hat = beta0_hat+beta1_hat*x\n",
    "        loss = tf.reduce_sum((mu-mu_hat)**2)/N \n",
    "    slope0,slope1 = tape.gradient(loss,[beta0_hat,beta1_hat]) \n",
    "    beta0_hat.assign_sub(slope0 * alpha) \n",
    "    beta1_hat.assign_sub(slope1 * alpha) "
   ]
  },
  {
   "cell_type": "code",
   "execution_count": 285,
   "id": "8f77a88d-5397-48fb-af9e-f7441a44d08a",
   "metadata": {},
   "outputs": [
    {
     "data": {
      "text/plain": [
       "(<tf.Variable 'Variable:0' shape=() dtype=float32, numpy=0.4881675>,\n",
       " <tf.Variable 'Variable:0' shape=() dtype=float32, numpy=2.0264335>)"
      ]
     },
     "execution_count": 285,
     "metadata": {},
     "output_type": "execute_result"
    }
   ],
   "source": [
    "beta0_hat, beta1_hat"
   ]
  },
  {
   "cell_type": "code",
   "execution_count": 286,
   "id": "a0fecb97-167b-4865-aa69-dfa98a2ea00e",
   "metadata": {},
   "outputs": [],
   "source": [
    "mu_hat=beta0_hat+beta1_hat*x"
   ]
  },
  {
   "cell_type": "code",
   "execution_count": 287,
   "id": "12b28223-7271-49d2-82f5-07a02b56151d",
   "metadata": {
    "id": "af3a1e90-9370-4705-9be7-f321f7c2f856",
    "outputId": "8fa70cf1-56d8-4f1f-909b-bb54a7c9e0c6"
   },
   "outputs": [
    {
     "data": {
      "text/plain": [
       "[<matplotlib.lines.Line2D at 0x7f403d2b8e20>]"
      ]
     },
     "execution_count": 287,
     "metadata": {},
     "output_type": "execute_result"
    },
    {
     "data": {
      "image/png": "[encoded data removed]",
      "text/plain": [
       "<Figure size 432x288 with 1 Axes>"
      ]
     },
     "metadata": {
      "needs_background": "light"
     },
     "output_type": "display_data"
    }
   ],
   "source": [
    "plt.plot(x,mu,'.')\n",
    "plt.plot(x,mu_hat,'r.')"
   ]
  },
  {
   "cell_type": "markdown",
   "id": "f702594a-236e-4e18-a409-c0d926897d2b",
   "metadata": {},
   "source": [
    "## `2`. 회귀분석의 이론적해와 tf.keras.optimizer 이용방법 (20점)"
   ]
  },
  {
   "cell_type": "markdown",
   "id": "3efebdc4-8086-43bb-a1fd-9a8b49d86b97",
   "metadata": {},
   "source": [
    "아래와 같은 선형모형을 고려하자. \n",
    "\n",
    "$$y_i = \\beta_0 + \\beta_1 x_i +\\epsilon_i.$$\n",
    "\n",
    "이때 오차항은 정규분포로 가정한다. 즉 $\\epsilon_i \\overset{iid}{\\sim} N(0,\\sigma^2)$라고 가정한다. \n",
    "\n",
    "관측데이터가 아래와 같을때 아래의 물음에 답하라. "
   ]
  },
  {
   "cell_type": "code",
   "execution_count": 19,
   "id": "eabac705-2792-40cd-9aef-c395ad3c0bb8",
   "metadata": {
    "tags": []
   },
   "outputs": [],
   "source": [
    "x= tnp.array([20.1, 22.2, 22.7, 23.3, 24.4, 25.1, 26.2, 27.3, 28.4, 30.4])\n",
    "y= tnp.array([55.4183651 , 58.19427589, 61.23082496, 62.31255873, 63.1070028 , \n",
    "              63.69569103, 67.24704918, 71.43650092, 73.10130336, 77.84988286])\n",
    "# X= tnp.array([[1.0, 20.1], [1.0, 22.2], [1.0, 22.7], [1.0, 23.3], [1.0, 24.4],\n",
    "#               [1.0, 25.1], [1.0, 26.2], [1.0, 27.3], [1.0, 28.4], [1.0, 30.4]])"
   ]
  },
  {
   "cell_type": "markdown",
   "id": "b9f5139e-1d1d-4644-a09d-04a7c9a24e22",
   "metadata": {},
   "source": [
    "`(1)` MSE loss를 최소화 하는 $\\beta_0,\\beta_1$의 해석해를 구하라. "
   ]
  },
  {
   "cell_type": "markdown",
   "id": "9df51130-eaf2-4a6a-852d-3d63d0013207",
   "metadata": {
    "tags": []
   },
   "source": [
    "##### `2.(1)` 풀이"
   ]
  },
  {
   "cell_type": "code",
   "execution_count": 20,
   "id": "8cb8fbed-6a20-4739-9e04-b4987ba1c99c",
   "metadata": {},
   "outputs": [],
   "source": [
    "N=10"
   ]
  },
  {
   "cell_type": "code",
   "execution_count": 21,
   "id": "e826e34d-dd91-4308-a390-d68f9c0b3940",
   "metadata": {},
   "outputs": [],
   "source": [
    "y = y.reshape(N,1)\n",
    "X = tf.stack([tf.ones(N,dtype='float64'),x],axis=1)"
   ]
  },
  {
   "cell_type": "code",
   "execution_count": 22,
   "id": "5aef3197-390f-4aa1-8a32-326bf7700f2e",
   "metadata": {},
   "outputs": [
    {
     "data": {
      "text/plain": [
       "(TensorShape([10, 1]), TensorShape([10, 2]))"
      ]
     },
     "execution_count": 22,
     "metadata": {},
     "output_type": "execute_result"
    }
   ],
   "source": [
    "y.shape, X.shape"
   ]
  },
  {
   "cell_type": "code",
   "execution_count": 23,
   "id": "e0042214-749c-4e56-b8e8-c4f0c5d77b8a",
   "metadata": {},
   "outputs": [
    {
     "name": "stderr",
     "output_type": "stream",
     "text": [
      "2022-04-25 19:22:42.471097: I tensorflow/core/util/cuda_solvers.cc:179] Creating GpuSolver handles for stream 0x5575b8efdbd0\n"
     ]
    },
    {
     "data": {
      "text/plain": [
       "<tf.Tensor: shape=(2, 1), dtype=float64, numpy=\n",
       "array([[9.94457323],\n",
       "       [2.21570461]])>"
      ]
     },
     "execution_count": 23,
     "metadata": {},
     "output_type": "execute_result"
    }
   ],
   "source": [
    "tf.linalg.inv(X.T @ X) @ X.T @ y"
   ]
  },
  {
   "cell_type": "code",
   "execution_count": 24,
   "id": "3cd8e2fa-5f73-4736-a253-645466c9749a",
   "metadata": {},
   "outputs": [],
   "source": [
    "y_hat=9.94457323+2.21570461*x"
   ]
  },
  {
   "cell_type": "code",
   "execution_count": 25,
   "id": "e7921dd9-eeae-4dc8-a49c-20eb6dfac59d",
   "metadata": {
    "id": "af3a1e90-9370-4705-9be7-f321f7c2f856",
    "outputId": "8fa70cf1-56d8-4f1f-909b-bb54a7c9e0c6"
   },
   "outputs": [
    {
     "data": {
      "text/plain": [
       "[<matplotlib.lines.Line2D at 0x7f415008ab30>]"
      ]
     },
     "execution_count": 25,
     "metadata": {},
     "output_type": "execute_result"
    },
    {
     "data": {
      "image/png": "[encoded data removed]",
      "text/plain": [
       "<Figure size 432x288 with 1 Axes>"
      ]
     },
     "metadata": {
      "needs_background": "light"
     },
     "output_type": "display_data"
    }
   ],
   "source": [
    "plt.plot(x,y,'.')\n",
    "plt.plot(x,y_hat,'r--')"
   ]
  },
  {
   "cell_type": "markdown",
   "id": "cbfabe4b-ffc2-40ef-ad4e-7df81174f0ce",
   "metadata": {},
   "source": [
    "`(2)` 경사하강법과 MSE loss의 도함수를 이용하여 $\\beta_0,\\beta_1$을 추정하라. \n",
    "\n",
    "**주의** tf.GradeintTape()를 이용하지 말고 MSE loss의 해석적 도함수를 사용할 것."
   ]
  },
  {
   "cell_type": "markdown",
   "id": "e24a1adf-9b7b-4186-8574-5110edb5a812",
   "metadata": {
    "tags": []
   },
   "source": [
    "##### `2.(2)` 풀이"
   ]
  },
  {
   "cell_type": "code",
   "execution_count": 26,
   "id": "a307e669-12de-402f-863b-20788791fc9d",
   "metadata": {},
   "outputs": [],
   "source": [
    "N=10"
   ]
  },
  {
   "cell_type": "code",
   "execution_count": 27,
   "id": "ebcc66d6-d65b-4162-b0d0-6e9228ba6e7d",
   "metadata": {},
   "outputs": [],
   "source": [
    "X = tf.stack([tf.ones(N,dtype='float64'),x],axis=1)"
   ]
  },
  {
   "cell_type": "code",
   "execution_count": 28,
   "id": "15a96861-8c6e-4e98-a82e-9aa58405cf81",
   "metadata": {},
   "outputs": [],
   "source": [
    "y=y.reshape(N,1)"
   ]
  },
  {
   "cell_type": "code",
   "execution_count": 29,
   "id": "94580316-a044-44e1-a29c-4634b23ddb39",
   "metadata": {},
   "outputs": [
    {
     "data": {
      "text/plain": [
       "(TensorShape([10, 2]), TensorShape([10, 1]))"
      ]
     },
     "execution_count": 29,
     "metadata": {},
     "output_type": "execute_result"
    }
   ],
   "source": [
    "X.shape, y.shape"
   ]
  },
  {
   "cell_type": "code",
   "execution_count": 30,
   "id": "172b1065-07b5-4559-94cb-e87e703d9249",
   "metadata": {},
   "outputs": [
    {
     "data": {
      "text/plain": [
       "<tf.Tensor: shape=(2, 1), dtype=int64, numpy=\n",
       "array([[10],\n",
       "       [ 5]])>"
      ]
     },
     "execution_count": 30,
     "metadata": {},
     "output_type": "execute_result"
    }
   ],
   "source": [
    "beta_hat = tnp.array([10,5]).reshape(2,1)  #b0,b1순\n",
    "beta_hat"
   ]
  },
  {
   "cell_type": "code",
   "execution_count": 31,
   "id": "ce2be6b1-c8f9-4115-83f3-45ad5c2add65",
   "metadata": {},
   "outputs": [],
   "source": [
    "alpha = 0.0015"
   ]
  },
  {
   "cell_type": "code",
   "execution_count": 32,
   "id": "b9ab0a9d-2bf0-42f4-8f9d-deddeefdaf14",
   "metadata": {},
   "outputs": [],
   "source": [
    "for epoc in range(1000):\n",
    "    slope = (-2*X.T @ y + 2*X.T@ X @ beta_hat)/N\n",
    "    beta_hat = beta_hat - alpha * slope"
   ]
  },
  {
   "cell_type": "code",
   "execution_count": 33,
   "id": "d63bbecf-2d00-442b-acc3-767820cd87cf",
   "metadata": {},
   "outputs": [
    {
     "data": {
      "text/plain": [
       "<tf.Tensor: shape=(2, 1), dtype=float64, numpy=\n",
       "array([[9.89250229],\n",
       "       [2.21775782]])>"
      ]
     },
     "execution_count": 33,
     "metadata": {},
     "output_type": "execute_result"
    }
   ],
   "source": [
    "beta_hat"
   ]
  },
  {
   "cell_type": "code",
   "execution_count": 34,
   "id": "cd1bbe73-322b-4d23-a37a-7df266992dea",
   "metadata": {},
   "outputs": [],
   "source": [
    "y_hat=9.89250229+2.21775782*x"
   ]
  },
  {
   "cell_type": "code",
   "execution_count": 35,
   "id": "ffd85e68-d1f5-4f0a-9db7-b5f03e3d97e0",
   "metadata": {
    "id": "af3a1e90-9370-4705-9be7-f321f7c2f856",
    "outputId": "8fa70cf1-56d8-4f1f-909b-bb54a7c9e0c6"
   },
   "outputs": [
    {
     "data": {
      "text/plain": [
       "[<matplotlib.lines.Line2D at 0x7f40f8537a30>]"
      ]
     },
     "execution_count": 35,
     "metadata": {},
     "output_type": "execute_result"
    },
    {
     "data": {
      "image/png": "[encoded data removed]",
      "text/plain": [
       "<Figure size 432x288 with 1 Axes>"
      ]
     },
     "metadata": {
      "needs_background": "light"
     },
     "output_type": "display_data"
    }
   ],
   "source": [
    "plt.plot(x,y,'.')\n",
    "plt.plot(x,y_hat,'r--')"
   ]
  },
  {
   "cell_type": "markdown",
   "id": "79cd50f2-b147-4203-8ae4-ae94e75a9e81",
   "metadata": {},
   "source": [
    "`(3)` `tf.keras.optimizers`의 `apply_gradients()`를 이용하여 $\\beta_0,\\beta_1$을 추정하라. "
   ]
  },
  {
   "cell_type": "markdown",
   "id": "409726d2-932c-436b-bf9f-04e27c0d5e28",
   "metadata": {
    "tags": []
   },
   "source": [
    "##### `2.(3)` 풀이"
   ]
  },
  {
   "cell_type": "code",
   "execution_count": 36,
   "id": "900440bf-cab8-4bd3-83ce-7947340654af",
   "metadata": {},
   "outputs": [
    {
     "data": {
      "text/plain": [
       "(TensorShape([10, 2]), TensorShape([10, 1]))"
      ]
     },
     "execution_count": 36,
     "metadata": {},
     "output_type": "execute_result"
    }
   ],
   "source": [
    "X.shape,y.shape"
   ]
  },
  {
   "cell_type": "code",
   "execution_count": 37,
   "id": "19d5a438-02e4-41ba-978b-10f591b34e72",
   "metadata": {},
   "outputs": [
    {
     "data": {
      "text/plain": [
       "<tf.Variable 'Variable:0' shape=(2, 1) dtype=float64, numpy=\n",
       "array([[10.],\n",
       "       [ 5.]])>"
      ]
     },
     "execution_count": 37,
     "metadata": {},
     "output_type": "execute_result"
    }
   ],
   "source": [
    "beta_hat = tf.Variable(tnp.array([10,5],dtype='float64').reshape(2,1))\n",
    "beta_hat"
   ]
  },
  {
   "cell_type": "code",
   "execution_count": 38,
   "id": "2a528d89-d3f5-4f7b-ab48-9349843b2222",
   "metadata": {},
   "outputs": [],
   "source": [
    "alpha=0.0015"
   ]
  },
  {
   "cell_type": "code",
   "execution_count": 39,
   "id": "033d6598-4007-4d32-9710-5951607b9fd5",
   "metadata": {},
   "outputs": [],
   "source": [
    "opt = tf.keras.optimizers.SGD(alpha)"
   ]
  },
  {
   "cell_type": "code",
   "execution_count": 40,
   "id": "fc0e95b2-6375-41e1-bd56-d302d9526f96",
   "metadata": {},
   "outputs": [],
   "source": [
    "for epoc in range(1000): \n",
    "    with tf.GradientTape() as tape: \n",
    "        yhat = X@beta_hat\n",
    "        loss = (y-yhat).T @ (y-yhat) / N \n",
    "    slope = tape.gradient(loss,beta_hat)  \n",
    "    opt.apply_gradients( [(slope,beta_hat)] )"
   ]
  },
  {
   "cell_type": "code",
   "execution_count": 41,
   "id": "2585e12e-6a92-41ba-81c9-f799210f088c",
   "metadata": {},
   "outputs": [
    {
     "data": {
      "text/plain": [
       "<tf.Variable 'Variable:0' shape=(2, 1) dtype=float64, numpy=\n",
       "array([[9.89250229],\n",
       "       [2.21775782]])>"
      ]
     },
     "execution_count": 41,
     "metadata": {},
     "output_type": "execute_result"
    }
   ],
   "source": [
    "beta_hat"
   ]
  },
  {
   "cell_type": "code",
   "execution_count": 42,
   "id": "661a1926-d0c7-4607-a325-05b2f360d46a",
   "metadata": {},
   "outputs": [],
   "source": [
    "y_hat=9.89250229+2.21775782*x"
   ]
  },
  {
   "cell_type": "code",
   "execution_count": 43,
   "id": "88efce1c-6dfd-4e7f-835e-d6c6bd27e5f1",
   "metadata": {
    "id": "af3a1e90-9370-4705-9be7-f321f7c2f856",
    "outputId": "8fa70cf1-56d8-4f1f-909b-bb54a7c9e0c6"
   },
   "outputs": [
    {
     "data": {
      "text/plain": [
       "[<matplotlib.lines.Line2D at 0x7f40b904e110>]"
      ]
     },
     "execution_count": 43,
     "metadata": {},
     "output_type": "execute_result"
    },
    {
     "data": {
      "image/png": "[encoded data removed]",
      "text/plain": [
       "<Figure size 432x288 with 1 Axes>"
      ]
     },
     "metadata": {
      "needs_background": "light"
     },
     "output_type": "display_data"
    }
   ],
   "source": [
    "plt.plot(x,y,'.')\n",
    "plt.plot(x,y_hat,'r--')"
   ]
  },
  {
   "cell_type": "markdown",
   "id": "0c172474-11b5-41ae-84e8-538c8ac2af17",
   "metadata": {},
   "source": [
    "`(4)` `tf.keras.optimizers`의 `minimize()`를 이용하여 $\\beta_0,\\beta_1$을 추정하라. "
   ]
  },
  {
   "cell_type": "markdown",
   "id": "2bbc8d20-4927-4929-92cb-41371ec7aca5",
   "metadata": {
    "tags": []
   },
   "source": [
    "##### `2.(4)` 풀이"
   ]
  },
  {
   "cell_type": "code",
   "execution_count": 44,
   "id": "187a9f9c-407d-4def-bc20-d63aca4b3ac9",
   "metadata": {},
   "outputs": [
    {
     "data": {
      "text/plain": [
       "(TensorShape([10, 2]), TensorShape([10, 1]))"
      ]
     },
     "execution_count": 44,
     "metadata": {},
     "output_type": "execute_result"
    }
   ],
   "source": [
    "y=y.reshape(N,1)\n",
    "X.shape,y.shape"
   ]
  },
  {
   "cell_type": "code",
   "execution_count": 45,
   "id": "4146b029-c2fb-4aae-8cff-176fad8638ba",
   "metadata": {},
   "outputs": [
    {
     "data": {
      "text/plain": [
       "<tf.Variable 'Variable:0' shape=(2, 1) dtype=float64, numpy=\n",
       "array([[10.],\n",
       "       [ 5.]])>"
      ]
     },
     "execution_count": 45,
     "metadata": {},
     "output_type": "execute_result"
    }
   ],
   "source": [
    "beta_hat = tf.Variable(tnp.array([10,5],dtype='float64').reshape(2,1))\n",
    "beta_hat"
   ]
  },
  {
   "cell_type": "code",
   "execution_count": 46,
   "id": "d83473bf-4602-48a3-8592-c68b03844286",
   "metadata": {},
   "outputs": [],
   "source": [
    "alpha=0.0015\n",
    "opt = tf.keras.optimizers.SGD(alpha) "
   ]
  },
  {
   "cell_type": "code",
   "execution_count": 47,
   "id": "cf301e4d-2a4a-4523-8bab-f28e791f8aab",
   "metadata": {},
   "outputs": [],
   "source": [
    "mseloss_fn=tf.losses.MeanSquaredError()"
   ]
  },
  {
   "cell_type": "code",
   "execution_count": 48,
   "id": "442de96e-2f76-4983-960e-6a5c0822089c",
   "metadata": {},
   "outputs": [
    {
     "data": {
      "text/plain": [
       "<tf.Tensor: shape=(), dtype=float64, numpy=0.9495536088943481>"
      ]
     },
     "execution_count": 48,
     "metadata": {},
     "output_type": "execute_result"
    }
   ],
   "source": [
    "mseloss_fn(y.reshape(-1),yhat.reshape(-1))"
   ]
  },
  {
   "cell_type": "code",
   "execution_count": 49,
   "id": "bf3efcc8-ee81-4cd3-91f9-e3bf3061fc6e",
   "metadata": {},
   "outputs": [],
   "source": [
    "def loss_fn():\n",
    "    yhat= X@beta_hat\n",
    "    loss = mseloss_fn(y.reshape(-1),yhat.reshape(-1))\n",
    "    return loss"
   ]
  },
  {
   "cell_type": "code",
   "execution_count": 50,
   "id": "acdfa8f8-4c73-4382-9632-cd819e3ca369",
   "metadata": {},
   "outputs": [],
   "source": [
    "for epoc in range(1000):\n",
    "    opt.minimize(loss_fn,beta_hat) # 미분 + update "
   ]
  },
  {
   "cell_type": "code",
   "execution_count": 51,
   "id": "6aa89422-1733-4ada-84fb-c2ca0cd65995",
   "metadata": {},
   "outputs": [
    {
     "data": {
      "text/plain": [
       "<tf.Variable 'Variable:0' shape=(2, 1) dtype=float64, numpy=\n",
       "array([[9.89250229],\n",
       "       [2.21775782]])>"
      ]
     },
     "execution_count": 51,
     "metadata": {},
     "output_type": "execute_result"
    }
   ],
   "source": [
    "beta_hat"
   ]
  },
  {
   "cell_type": "code",
   "execution_count": 52,
   "id": "15f03f0f-906f-494c-9a48-45017a2bb071",
   "metadata": {},
   "outputs": [],
   "source": [
    "y_hat=9.89250229+2.21775782*x"
   ]
  },
  {
   "cell_type": "code",
   "execution_count": 53,
   "id": "5b4d315b-c4ec-4ede-add5-e436c721e472",
   "metadata": {
    "id": "af3a1e90-9370-4705-9be7-f321f7c2f856",
    "outputId": "8fa70cf1-56d8-4f1f-909b-bb54a7c9e0c6"
   },
   "outputs": [
    {
     "data": {
      "text/plain": [
       "[<matplotlib.lines.Line2D at 0x7f40b84983a0>]"
      ]
     },
     "execution_count": 53,
     "metadata": {},
     "output_type": "execute_result"
    },
    {
     "data": {
      "image/png": "[encoded data removed]",
      "text/plain": [
       "<Figure size 432x288 with 1 Axes>"
      ]
     },
     "metadata": {
      "needs_background": "light"
     },
     "output_type": "display_data"
    }
   ],
   "source": [
    "plt.plot(x,y,'.')\n",
    "plt.plot(x,y_hat,'r--')"
   ]
  },
  {
   "cell_type": "markdown",
   "id": "4c5fe083-f319-4381-bc21-5bf18ae531cf",
   "metadata": {},
   "source": [
    "## `3`. keras를 이용한 풀이 (30점)"
   ]
  },
  {
   "cell_type": "markdown",
   "id": "5d15790d-6f7e-4ecd-9b9d-27d809ff8a0d",
   "metadata": {},
   "source": [
    "`(1)` 아래와 같은 모형을 고려하자. \n",
    "\n",
    "$$y_i= \\beta_0 + \\sum_{k=1}^{5} \\beta_k \\cos(k t_i)+\\epsilon_i, \\quad i=0,1,\\dots, 999$$\n",
    "\n",
    "여기에서 $t_i=\\frac{2\\pi i}{1000}$ 이다. 그리고 $\\epsilon_i \\sim i.i.d~ N(0,\\sigma^2)$, 즉 서로 독립인 표준정규분포에서 추출된 샘플이다. 위의 모형에서 아래와 같은 데이터를 관측했다고 가정하자. "
   ]
  },
  {
   "cell_type": "code",
   "execution_count": 54,
   "id": "d136550f-c5de-49c2-9592-d5727132eeae",
   "metadata": {},
   "outputs": [
    {
     "data": {
      "text/plain": [
       "[<matplotlib.lines.Line2D at 0x7f40b84de140>]"
      ]
     },
     "execution_count": 54,
     "metadata": {},
     "output_type": "execute_result"
    },
    {
     "data": {
      "image/png": "[encoded data removed]",
      "text/plain": [
       "<Figure size 432x288 with 1 Axes>"
      ]
     },
     "metadata": {
      "needs_background": "light"
     },
     "output_type": "display_data"
    }
   ],
   "source": [
    "np.random.seed(43052)\n",
    "t= np.array(range(1000))* np.pi/1000\n",
    "y = -2+ 3*np.cos(t) + 1*np.cos(2*t) + 0.5*np.cos(5*t) + np.random.randn(1000)*0.2\n",
    "plt.plot(t,y,'.',alpha=0.2)"
   ]
  },
  {
   "cell_type": "markdown",
   "id": "eeab60d2-c405-4d7b-9cc7-49d887f414bc",
   "metadata": {},
   "source": [
    "tf.keras를 이용하여 $\\beta_0,\\dots,\\beta_5$를 추정하라. ($\\beta_0,\\dots,\\beta_5$의 참값은 각각 -2,3,1,0,0,0.5 이다) "
   ]
  },
  {
   "cell_type": "markdown",
   "id": "8c3bb5c8-9ccb-44e3-9b9a-abc4b3ddb09c",
   "metadata": {
    "tags": []
   },
   "source": [
    "##### `3.(1)` 풀이"
   ]
  },
  {
   "cell_type": "code",
   "execution_count": 55,
   "id": "3dde5496-4198-4366-9fd0-9ea44e0949e8",
   "metadata": {
    "tags": []
   },
   "outputs": [],
   "source": [
    "X = np.stack([np.ones(1000),np.cos(1*t),np.cos(2*t),np.cos(3*t),np.cos(4*t),np.cos(5*t)],axis=1)\n",
    "y = y.reshape(1000,1)"
   ]
  },
  {
   "cell_type": "code",
   "execution_count": 56,
   "id": "268c91bb-92f0-4b56-993c-f7ca6e695a9a",
   "metadata": {},
   "outputs": [
    {
     "data": {
      "text/plain": [
       "<keras.callbacks.History at 0x7f40b8414b20>"
      ]
     },
     "execution_count": 56,
     "metadata": {},
     "output_type": "execute_result"
    }
   ],
   "source": [
    "net = tf.keras.Sequential() # 1: 네트워크 생성\n",
    "net.add(tf.keras.layers.Dense(1,use_bias=False)) # 2: add layer \n",
    "net.compile(tf.optimizers.SGD(0.1), loss='mse') # 3: compile\n",
    "net.fit(X,y,epochs=30, batch_size=N, verbose=0) # 4: fit "
   ]
  },
  {
   "cell_type": "code",
   "execution_count": 57,
   "id": "884395cd-2f73-4002-bfe6-b90a472bbe21",
   "metadata": {},
   "outputs": [
    {
     "data": {
      "text/plain": [
       "[<tf.Variable 'dense/kernel:0' shape=(6, 1) dtype=float32, numpy=\n",
       " array([[-1.9798379 ],\n",
       "        [ 3.0361695 ],\n",
       "        [ 1.0182086 ],\n",
       "        [-0.00371682],\n",
       "        [-0.00969309],\n",
       "        [ 0.48762447]], dtype=float32)>]"
      ]
     },
     "execution_count": 57,
     "metadata": {},
     "output_type": "execute_result"
    }
   ],
   "source": [
    "net.weights"
   ]
  },
  {
   "cell_type": "markdown",
   "id": "85e44a28-4970-40ba-92ad-821134f8cb79",
   "metadata": {},
   "source": [
    "`(2)` 아래와 같은 모형을 고려하자. \n",
    "\n",
    "$$y_i \\sim Ber(\\pi_i), ~ \\text{where} ~ \\pi_i=\\frac{\\exp(w_0+w_1x_i)}{1+\\exp(w_0+w_1x_i)}$$\n"
   ]
  },
  {
   "cell_type": "markdown",
   "id": "f7caedd8-176b-4b04-8632-729c376ee521",
   "metadata": {},
   "source": [
    "위의 모형에서 관측한 데이터는 아래와 같다. "
   ]
  },
  {
   "cell_type": "code",
   "execution_count": 58,
   "id": "f4761787-1e6b-49f0-b8bf-a11e8332bab6",
   "metadata": {
    "tags": []
   },
   "outputs": [
    {
     "data": {
      "text/plain": [
       "[<matplotlib.lines.Line2D at 0x7f40b81cfcd0>]"
      ]
     },
     "execution_count": 58,
     "metadata": {},
     "output_type": "execute_result"
    },
    {
     "data": {
      "image/png": "[encoded data removed]",
      "text/plain": [
       "<Figure size 432x288 with 1 Axes>"
      ]
     },
     "metadata": {
      "needs_background": "light"
     },
     "output_type": "display_data"
    }
   ],
   "source": [
    "tf.random.set_seed(43052)\n",
    "x = tnp.linspace(-1,1,2000) \n",
    "y = tf.constant(np.random.binomial(1, tf.nn.sigmoid(-1+5*x)),dtype=tf.float64) \n",
    "plt.plot(x,y,'.',alpha=0.05)"
   ]
  },
  {
   "cell_type": "markdown",
   "id": "d449924f-1bb3-460b-bfd5-5a68ae2de894",
   "metadata": {},
   "source": [
    "tf.keras를 이용하여 $w_0,w_1$을 추정하라. (참고: $w_0, w_1$에 대한 참값은 -1과 5이다.) "
   ]
  },
  {
   "cell_type": "markdown",
   "id": "fb050296-788e-4144-97b5-cd6a742392c1",
   "metadata": {
    "tags": []
   },
   "source": [
    "##### `3.(2)` 풀이"
   ]
  },
  {
   "cell_type": "code",
   "execution_count": 59,
   "id": "6c3074c9-4f64-46ba-bf09-1d5a5419e27f",
   "metadata": {},
   "outputs": [
    {
     "data": {
      "text/plain": [
       "(TensorShape([2000]), TensorShape([2000]))"
      ]
     },
     "execution_count": 59,
     "metadata": {},
     "output_type": "execute_result"
    }
   ],
   "source": [
    "x.shape, y.shape"
   ]
  },
  {
   "cell_type": "code",
   "execution_count": 60,
   "id": "9a0bc479-4531-4de7-aedf-5fd8eca7ca95",
   "metadata": {},
   "outputs": [
    {
     "data": {
      "text/plain": [
       "(TensorShape([2000, 1]), TensorShape([2000]))"
      ]
     },
     "execution_count": 60,
     "metadata": {},
     "output_type": "execute_result"
    }
   ],
   "source": [
    "x=x.reshape(2000,1)\n",
    "x.shape, y.shape"
   ]
  },
  {
   "cell_type": "code",
   "execution_count": 61,
   "id": "4135b787-7157-4d13-a061-7269a7a1c0e7",
   "metadata": {
    "id": "b9d05ed4-15d2-4e7a-a684-3998c957d1c3",
    "outputId": "912db689-ef30-49cf-d924-d19aa0499e72"
   },
   "outputs": [
    {
     "data": {
      "text/plain": [
       "<keras.callbacks.History at 0x7f40b8228e20>"
      ]
     },
     "execution_count": 61,
     "metadata": {},
     "output_type": "execute_result"
    }
   ],
   "source": [
    "net = tf.keras.Sequential() \n",
    "net.add(tf.keras.layers.Dense(1,activation='sigmoid'))\n",
    "bceloss_fn = lambda y,yhat: -tf.reduce_mean(y*tnp.log(yhat) + (1-y)*tnp.log(1-yhat))\n",
    "net.compile(loss=bceloss_fn, optimizer=tf.optimizers.SGD(0.1))\n",
    "net.fit(x,y,epochs=10000,verbose=0,batch_size=2000) "
   ]
  },
  {
   "cell_type": "code",
   "execution_count": 62,
   "id": "786be7c4-6d4d-48b0-aba6-be4a73a8e014",
   "metadata": {
    "id": "d7c497b1-b5a4-4ca0-80da-77d35154be27",
    "outputId": "f02f60ba-fc18-41d3-d349-fc9ef7b93732"
   },
   "outputs": [
    {
     "data": {
      "text/plain": [
       "[<tf.Variable 'dense_1/kernel:0' shape=(1, 1) dtype=float32, numpy=array([[5.09306]], dtype=float32)>,\n",
       " <tf.Variable 'dense_1/bias:0' shape=(1,) dtype=float32, numpy=array([-1.0963831], dtype=float32)>]"
      ]
     },
     "execution_count": 62,
     "metadata": {},
     "output_type": "execute_result"
    }
   ],
   "source": [
    "net.weights"
   ]
  },
  {
   "cell_type": "code",
   "execution_count": 63,
   "id": "f6e6af66-0beb-415e-968f-8df152d4dec0",
   "metadata": {
    "id": "9b334dbb-8736-4301-a6e6-c7983ef6826c",
    "outputId": "93f51fd9-62b1-4719-e90c-336ead8b5fdd"
   },
   "outputs": [
    {
     "data": {
      "text/plain": [
       "[<matplotlib.lines.Line2D at 0x7f40b8228ee0>]"
      ]
     },
     "execution_count": 63,
     "metadata": {},
     "output_type": "execute_result"
    },
    {
     "data": {
      "image/png": "[encoded data removed]",
      "text/plain": [
       "<Figure size 432x288 with 1 Axes>"
      ]
     },
     "metadata": {
      "needs_background": "light"
     },
     "output_type": "display_data"
    }
   ],
   "source": [
    "plt.plot(x,y,'.',alpha=0.05)\n",
    "plt.plot(x,net(x),'--b')"
   ]
  },
  {
   "cell_type": "markdown",
   "id": "6d234980-2466-4209-a6a1-190475ffec6d",
   "metadata": {},
   "source": [
    "## `4`. Piecewise-linear regression (15점) "
   ]
  },
  {
   "cell_type": "markdown",
   "id": "413d267a-10c6-405b-90dc-edfdd9f42e5a",
   "metadata": {},
   "source": [
    "아래의 모형을 고려하자. \n",
    "\n",
    "model: $y_i=\\begin{cases} x_i +0.3\\epsilon_i & x\\leq 0 \\\\ 3.5x_i +0.3\\epsilon_i & x>0 \\end{cases}$ "
   ]
  },
  {
   "cell_type": "markdown",
   "id": "e7f1c5db-e8cc-4518-9c8e-0e5a44b570fa",
   "metadata": {},
   "source": [
    "아래는 위의 모형에서 생성한 샘플이다. "
   ]
  },
  {
   "cell_type": "code",
   "execution_count": 292,
   "id": "908224ae-65a2-414a-95c2-2f3f62e18da0",
   "metadata": {},
   "outputs": [],
   "source": [
    "## data \n",
    "np.random.seed(43052)\n",
    "N=100\n",
    "x= np.linspace(-1,1,N).reshape(N,1)\n",
    "y= np.array(list(map(lambda x: x*1+np.random.normal()*0.3 if x<0 else x*3.5+np.random.normal()*0.3,x))).reshape(N,1)"
   ]
  },
  {
   "cell_type": "markdown",
   "id": "908a20cf-96ca-448e-a19e-a0f24792f6b2",
   "metadata": {},
   "source": [
    "`(1)` 다음은 $(x_i,y_i)$를 아래와 같은 아키텍처로 적합시키는 코드이다. \n",
    "\n",
    "- $\\hat{y} =  \\hat{\\beta}_0+\\hat{\\beta}_1x $"
   ]
  },
  {
   "cell_type": "code",
   "execution_count": 293,
   "id": "8ed0488d-ad21-4f0b-81ec-6317ce3257ee",
   "metadata": {},
   "outputs": [
    {
     "data": {
      "text/plain": [
       "<keras.callbacks.History at 0x7f403d309c00>"
      ]
     },
     "execution_count": 293,
     "metadata": {},
     "output_type": "execute_result"
    }
   ],
   "source": [
    "tf.random.set_seed(43054) \n",
    "net = tf.keras.Sequential()\n",
    "net.add(tf.keras.layers.Dense(1)) \n",
    "net.compile(optimizer=tf.optimizers.SGD(0.1),loss='mse')\n",
    "net.fit(x,y,batch_size=N,epochs=1000,verbose=0) # numpy로 해도 돌아감"
   ]
  },
  {
   "cell_type": "markdown",
   "id": "2aafce5a-c3c4-4102-8b24-40d345f47c91",
   "metadata": {},
   "source": [
    "케라스에 의해 추정된 $\\hat{\\beta}_0,\\hat{\\beta}_1$을 구하라. "
   ]
  },
  {
   "cell_type": "markdown",
   "id": "1573345d-ced5-43c0-ae41-44bf58232323",
   "metadata": {},
   "source": [
    "##### **`4.(1)` 풀이**"
   ]
  },
  {
   "cell_type": "code",
   "execution_count": 294,
   "id": "80bdaf10-4c14-4cac-b836-d89498a648ab",
   "metadata": {},
   "outputs": [
    {
     "data": {
      "text/plain": [
       "[<tf.Variable 'dense_40/kernel:0' shape=(1, 1) dtype=float32, numpy=array([[2.2616348]], dtype=float32)>,\n",
       " <tf.Variable 'dense_40/bias:0' shape=(1,) dtype=float32, numpy=array([0.6069048], dtype=float32)>]"
      ]
     },
     "execution_count": 294,
     "metadata": {},
     "output_type": "execute_result"
    }
   ],
   "source": [
    "net.weights"
   ]
  },
  {
   "cell_type": "code",
   "execution_count": 295,
   "id": "ac052c39-19e3-4328-aa08-0629526114fd",
   "metadata": {},
   "outputs": [],
   "source": [
    "yhat = net.predict(x)"
   ]
  },
  {
   "cell_type": "code",
   "execution_count": 296,
   "id": "9c1dd7d8-b44f-44dc-80b9-2850791f9607",
   "metadata": {},
   "outputs": [
    {
     "data": {
      "text/plain": [
       "[<matplotlib.lines.Line2D at 0x7f403c9d8e80>]"
      ]
     },
     "execution_count": 296,
     "metadata": {},
     "output_type": "execute_result"
    },
    {
     "data": {
      "image/png": "[encoded data removed]",
      "text/plain": [
       "<Figure size 432x288 with 1 Axes>"
      ]
     },
     "metadata": {
      "needs_background": "light"
     },
     "output_type": "display_data"
    }
   ],
   "source": [
    "plt.plot(x,y,'.')\n",
    "plt.plot(x,yhat,'--')"
   ]
  },
  {
   "cell_type": "markdown",
   "id": "5899c1fc-0b60-4eed-9732-3fe7b14c1e81",
   "metadata": {},
   "source": [
    "`(2)` 다음은 $(x_i,y_i)$를 아래와 같은 아키텍처로 적합시키는 코드이다. \n",
    "\n",
    "- $\\boldsymbol{u}= x\\boldsymbol{W}^{(1)}+\\boldsymbol{b}^{(1)}$\n",
    "- $\\boldsymbol{v}= \\text{relu}(u)$ \n",
    "- $y= \\boldsymbol{v}\\boldsymbol{W}^{(2)}+b^{(2)}$"
   ]
  },
  {
   "cell_type": "code",
   "execution_count": 148,
   "id": "7763ed76-b80a-4e87-b03b-054e49cfed69",
   "metadata": {},
   "outputs": [
    {
     "data": {
      "text/plain": [
       "<keras.callbacks.History at 0x7f4060eaf100>"
      ]
     },
     "execution_count": 148,
     "metadata": {},
     "output_type": "execute_result"
    }
   ],
   "source": [
    "tf.random.set_seed(43056) \n",
    "## 1단계\n",
    "net = tf.keras.Sequential() \n",
    "net.add(tf.keras.layers.Dense(2))\n",
    "net.add(tf.keras.layers.Activation('relu')) \n",
    "net.add(tf.keras.layers.Dense(1))\n",
    "net.compile(optimizer=tf.optimizers.SGD(0.1),loss='mse')\n",
    "net.fit(x,y,epochs=1000,verbose=0,batch_size=N)"
   ]
  },
  {
   "cell_type": "markdown",
   "id": "e33d6f7e-aa2e-4fb3-b2c8-dfab5e675de7",
   "metadata": {},
   "source": [
    "${\\boldsymbol u}$를 이용하여 ${\\boldsymbol v}$를 만드는 코드와 ${\\boldsymbol v}$를 이용하여 $y$를 만드는 코드를 작성하라. "
   ]
  },
  {
   "cell_type": "markdown",
   "id": "9ebd7179-34db-4aa2-8539-4c1eb129f9df",
   "metadata": {
    "tags": []
   },
   "source": [
    "##### **`4.(2)` 풀이**"
   ]
  },
  {
   "cell_type": "code",
   "execution_count": 194,
   "id": "892c3074-512d-4649-882e-a298c4092828",
   "metadata": {},
   "outputs": [],
   "source": [
    "l1=tf.keras.layers.Dense(2)\n",
    "a1=tf.keras.layers.Activation('relu')\n",
    "l2=tf.keras.layers.Dense(1)"
   ]
  },
  {
   "cell_type": "code",
   "execution_count": 195,
   "id": "4ef474cd-2878-443e-9cfa-bc72145ed13a",
   "metadata": {
    "id": "6357b691-5e50-4341-91cd-411e67d7d3a4"
   },
   "outputs": [],
   "source": [
    "u=l1(x)"
   ]
  },
  {
   "cell_type": "code",
   "execution_count": 196,
   "id": "3e3d1250-e1bc-4e94-a382-23f397630eaa",
   "metadata": {
    "id": "dfcd78f6-f820-46b1-bde0-dfe5be7fc370"
   },
   "outputs": [],
   "source": [
    "v= a1(u)"
   ]
  },
  {
   "cell_type": "code",
   "execution_count": 197,
   "id": "45c9406c-f3a7-41c2-96f6-248f892dab73",
   "metadata": {},
   "outputs": [],
   "source": [
    "y=l2(v)"
   ]
  },
  {
   "cell_type": "code",
   "execution_count": 200,
   "id": "a70aeef8-c46d-4759-9535-0a12c5e1caa1",
   "metadata": {
    "id": "25d6a198-c191-4459-a563-ef05cbb6f245",
    "outputId": "8f8e8554-0806-4175-b2a1-7ba48c273c2e"
   },
   "outputs": [
    {
     "data": {
      "text/plain": [
       "[<matplotlib.lines.Line2D at 0x7f4060929c00>]"
      ]
     },
     "execution_count": 200,
     "metadata": {},
     "output_type": "execute_result"
    },
    {
     "data": {
      "image/png": "[encoded data removed]",
      "text/plain": [
       "<Figure size 432x288 with 1 Axes>"
      ]
     },
     "metadata": {
      "needs_background": "light"
     },
     "output_type": "display_data"
    }
   ],
   "source": [
    "plt.plot(x,x)\n",
    "plt.plot(x,u,'--r')\n",
    "plt.plot(x,v,'--b')\n",
    "plt.plot(x,y,'--g')"
   ]
  },
  {
   "cell_type": "markdown",
   "id": "baa588e0-03dd-4f33-aff2-19e09ab69f6d",
   "metadata": {},
   "source": [
    "`(3)` 아래는 `(1)-(2)`번 모형에 대한 discussion이다. 올바른 것을 모두 골라라. \n",
    "\n",
    "**(곤이)** (2) 모형은 활성화함수로 relu를 사용하였다. \n",
    "\n",
    "**(철용)** (1) 모형에서 추정해야할 파라메터의 수는 2개이다. \n",
    "\n",
    "**(아귀)** (2) 모형이 (1) 모형보다 복잡한 모형이다. \n",
    "\n",
    "**(짝귀)** (1) 의 모형은 오버피팅의 위험이 있다. "
   ]
  },
  {
   "cell_type": "markdown",
   "id": "98e2c0b7-7e0a-41e6-801f-3a1b44a4280a",
   "metadata": {
    "jp-MarkdownHeadingCollapsed": true,
    "tags": []
   },
   "source": [
    "##### `4.(3)` 풀이\n",
    "- 곤이, 철용, 아귀"
   ]
  },
  {
   "cell_type": "markdown",
   "id": "1fbe974e-1a43-4281-bfd0-84c09e00ead4",
   "metadata": {},
   "source": [
    "## `5`. 다음을 잘 읽고 참과 거짓을 판단하라. (5점)"
   ]
  },
  {
   "cell_type": "markdown",
   "id": "6a972202-b9ef-4e37-9561-41bb58c3df17",
   "metadata": {},
   "source": [
    "`(1)` 적절한 학습률이 선택된다면, 경사하강법은 손실함수가 convex일때 언제나 전역최소해를 찾을 수 있다."
   ]
  },
  {
   "cell_type": "markdown",
   "id": "99bcd77d-c751-4cb9-ac24-ba15f5f01d01",
   "metadata": {},
   "source": [
    "`(2)` `tf.GradeintTape()`는 경사하강법을 이용하여 최적점을 찾아주는 tool이다. "
   ]
  },
  {
   "cell_type": "markdown",
   "id": "9ce0ca2f-39c7-441f-ac28-4d2647f42049",
   "metadata": {},
   "source": [
    "`(3)` 학습률이 크다는 것은 파라메터는 1회 업데이트 하는 양이 크다는 것을 의미한다. "
   ]
  },
  {
   "cell_type": "markdown",
   "id": "00e49702-9cfc-4148-bbd9-d90c61299cfb",
   "metadata": {},
   "source": [
    "`(4)` 학습률이 크면 학습파라메터의 수렴속도가 빨라지지만 때때로 과적합에 빠질 수도 있다. "
   ]
  },
  {
   "cell_type": "markdown",
   "id": "7520eafe-392a-4b37-b117-add58f81f74e",
   "metadata": {},
   "source": [
    "`(5)` 단순회귀분석에서 MSE loss를 최소화 하는 해는 경사하강법을 이용하지 않아도 해석적으로 구할 수 있다. "
   ]
  },
  {
   "cell_type": "markdown",
   "id": "a3eef15f-1d32-4cfb-9f12-d33c75429f5f",
   "metadata": {
    "jp-MarkdownHeadingCollapsed": true,
    "tags": []
   },
   "source": [
    "##### `5.` 풀이\n",
    "- (1) O\n",
    "- (2) X\n",
    "- (3) O\n",
    "- (4) X\n",
    "- (5) O"
   ]
  }
 ],
 "metadata": {
  "kernelspec": {
   "display_name": "Python 3 (ipykernel)",
   "language": "python",
   "name": "python3"
  },
  "language_info": {
   "codemirror_mode": {
    "name": "ipython",
    "version": 3
   },
   "file_extension": ".py",
   "mimetype": "text/x-python",
   "name": "python",
   "nbconvert_exporter": "python",
   "pygments_lexer": "ipython3",
   "version": "3.10.4"
  }
 },
 "nbformat": 4,
 "nbformat_minor": 5
}
