{
 "cells": [
  {
   "cell_type": "markdown",
   "id": "8dc839bb-4ca3-42e4-b353-8cf66a866970",
   "metadata": {
    "tags": []
   },
   "source": [
    "# (공부) aliasing(에일리어싱)\n",
    "> 작성 완료\n",
    "\n",
    "- toc:true\n",
    "- branch: master\n",
    "- badges: true\n",
    "- comments: true\n",
    "- author: kimha02\n",
    "- categories: [Python]"
   ]
  },
  {
   "cell_type": "markdown",
   "id": "41674c3b-5b1b-4c46-8970-74172c588aaf",
   "metadata": {},
   "source": [
    "-----------------------"
   ]
  },
  {
   "cell_type": "markdown",
   "id": "6d0e5f82-1f5d-4dc5-992b-ba8255c3b417",
   "metadata": {},
   "source": [
    "### 예제1"
   ]
  },
  {
   "cell_type": "markdown",
   "id": "1ce0640f-6a63-43ef-890d-6c8e23065858",
   "metadata": {},
   "source": [
    "- 아래의 코드를 관찰하자. "
   ]
  },
  {
   "cell_type": "code",
   "execution_count": 1,
   "id": "d4e24706-17d7-4291-8178-6fa941bf31dd",
   "metadata": {},
   "outputs": [],
   "source": [
    "a=[1,2,3]\n",
    "b=a\n",
    "a.append(4)"
   ]
  },
  {
   "cell_type": "markdown",
   "id": "5de75d4b-2725-4828-ae71-b6e1c4080021",
   "metadata": {},
   "source": [
    "- 현재 b의 출력결과는?  \n",
    "→ a와 b 모두 바뀌어버렸다!  \n",
    "→ a와 b는 무조건 같이 움직이는 건가?"
   ]
  },
  {
   "cell_type": "code",
   "execution_count": 3,
   "id": "83eac848-b54e-4560-95b5-dd62e426e28f",
   "metadata": {
    "tags": []
   },
   "outputs": [
    {
     "data": {
      "text/plain": [
       "([1, 2, 3, 4], [1, 2, 3, 4])"
      ]
     },
     "execution_count": 3,
     "metadata": {},
     "output_type": "execute_result"
    }
   ],
   "source": [
    "a, b"
   ]
  },
  {
   "cell_type": "markdown",
   "id": "6f82d881-6c35-4a89-9e35-99e35b802dba",
   "metadata": {},
   "source": [
    "----------------------"
   ]
  },
  {
   "cell_type": "markdown",
   "id": "2d162348-6651-4061-83ec-5ec2db208c13",
   "metadata": {},
   "source": [
    "### 예제2"
   ]
  },
  {
   "cell_type": "markdown",
   "id": "f3d2a926-40d3-4cd4-bc6d-1673db21254d",
   "metadata": {},
   "source": [
    "- 하지만 아래 예제에서 b는 영향을 받지 않았다..?"
   ]
  },
  {
   "cell_type": "code",
   "execution_count": 4,
   "id": "9de990dd-58ef-455b-8d21-48a2d560482f",
   "metadata": {},
   "outputs": [],
   "source": [
    "a=[1,2,3]\n",
    "b=a\n",
    "a=[1,2,3]+[4]"
   ]
  },
  {
   "cell_type": "code",
   "execution_count": 6,
   "id": "687c1689-60cb-4bba-8920-3660b3817a77",
   "metadata": {
    "tags": []
   },
   "outputs": [
    {
     "data": {
      "text/plain": [
       "([1, 2, 3, 4], [1, 2, 3])"
      ]
     },
     "execution_count": 6,
     "metadata": {},
     "output_type": "execute_result"
    }
   ],
   "source": [
    "a, b"
   ]
  },
  {
   "cell_type": "markdown",
   "id": "674399b1-8b61-4e78-93f7-f654d41dc1a6",
   "metadata": {},
   "source": [
    "-----"
   ]
  },
  {
   "cell_type": "markdown",
   "id": "7545a2ae-7e3a-4475-95a2-1822d0d40bb0",
   "metadata": {},
   "source": [
    "### **메모리구조 상상**"
   ]
  },
  {
   "cell_type": "markdown",
   "id": "28c68c42-ae2c-4cd7-b758-f32bed3f3954",
   "metadata": {},
   "source": [
    "- 아래의 코드를 다시 살펴보자. \n",
    "```python \n",
    "a=[1,2,3]\n",
    "b=a\n",
    "a.append(4)\n",
    "```\n",
    "a,b라는 변수들은 메모리에 어떻게 저장되어 있을까? "
   ]
  },
  {
   "cell_type": "markdown",
   "id": "fa031b53-1b4d-47e4-9d4a-2eb22a8245fb",
   "metadata": {},
   "source": [
    "- 상상력을 발휘하면 아래와 같이 생각할 수 있다. "
   ]
  },
  {
   "cell_type": "markdown",
   "id": "2c65413e-bc4b-408b-a38b-2e9aa9a1a950",
   "metadata": {},
   "source": [
    "> (1) 메모리는 **방이 100개 있는 호텔**이라고 생각하자.  \n",
    "  \n",
    "> (2) 아래를 실행했을 때\n",
    "> ```python\n",
    "> a=[1,2,3] \n",
    "> ```\n",
    "> - 메모리주소1에 존재하는 방을 앞으로 `a`라고 부르자. 그리고 그 방에 `[1,2,3]`을 넣는다.  \n",
    "  \n",
    "> (3) 아래를 실행했을 때 \n",
    "> ```python\n",
    "> b=a\n",
    "> ```\n",
    "> - 메모리주소7에 존재하는 방을 앞으로 `b`라고 부르고 그 방에 `a`를 넣는다. \n",
    "> - 그런데 `a=[1,2,3]`이므로 `b`역시 `[1,2,3]`이 들어가 있다.  \n",
    "  \n",
    "> (4) 아래를 실행했을 때 \n",
    "> ```python\n",
    "> a.append(4)\n",
    "> ```\n",
    "> - 방 `a`로 가서 `[1,2,3]`을 `[1,2,3,4]`로 바꾼다. \n",
    "> - 방 `b`는 아무일도 일어나지 않는다.  \n",
    "> - 다른 언어에서는 이러한 상상이 맞는 이야기 일 수 있는데, 파이썬에서는 다르다. `"
   ]
  },
  {
   "cell_type": "code",
   "execution_count": 7,
   "id": "e9043d7a-7ef8-4f2a-bfb9-f842b4e69b06",
   "metadata": {},
   "outputs": [],
   "source": [
    "a=[1,2,3]\n",
    "b=a\n",
    "a.append(4)"
   ]
  },
  {
   "cell_type": "code",
   "execution_count": 8,
   "id": "0c531ccb-e08b-495c-b34b-290459b9e997",
   "metadata": {},
   "outputs": [
    {
     "data": {
      "text/plain": [
       "140603071933120"
      ]
     },
     "execution_count": 8,
     "metadata": {},
     "output_type": "execute_result"
    }
   ],
   "source": [
    "id(a)"
   ]
  },
  {
   "cell_type": "code",
   "execution_count": 9,
   "id": "7ccb0137-eb30-4b43-8bd2-89f298c58c20",
   "metadata": {},
   "outputs": [
    {
     "data": {
      "text/plain": [
       "140603071933120"
      ]
     },
     "execution_count": 9,
     "metadata": {},
     "output_type": "execute_result"
    }
   ],
   "source": [
    "id(b)"
   ]
  },
  {
   "cell_type": "code",
   "execution_count": 11,
   "id": "dbeed46f-4d2d-47a7-a047-c4fda36ee243",
   "metadata": {},
   "outputs": [
    {
     "data": {
      "text/plain": [
       "[1, 2, 3, 4]"
      ]
     },
     "execution_count": 11,
     "metadata": {},
     "output_type": "execute_result"
    }
   ],
   "source": [
    "b"
   ]
  },
  {
   "cell_type": "markdown",
   "id": "c2839a54-b967-43ff-8311-703e4834fa7e",
   "metadata": {},
   "source": [
    "- a,b 변수 모두 동일한 메모리주소에 저장되어 있음. "
   ]
  },
  {
   "cell_type": "markdown",
   "id": "f643e7b0-f658-4a8b-b9c9-590c1171e0cc",
   "metadata": {},
   "source": [
    "★ 아래와 같이 상상하는것이 더 올바르게 이해할 수 있다. "
   ]
  },
  {
   "cell_type": "markdown",
   "id": "ba4e1e16-16bf-4103-8424-4acf969600f9",
   "metadata": {},
   "source": [
    "> (1) 메모리는 **방이 100개 있는 호텔**이라고 생각하자. \n",
    "  \n",
    "> (2) 아래를 실행했을 때\n",
    "> ```python\n",
    "> a=[1,2,3] \n",
    "> ```\n",
    "> - `[1,2,3]` 이라는 오브젝트가 먼저 만들어지고, \n",
    "> - `[1,2,3]` 이 저장된 메모리주소(140187934839488번 방)에 `a`라는 포스트잇을 붙이자.  \n",
    "> - `[1,2,3]` 을 찾기위해서는 `a`라는 포스트잇이 붙은 방을 찾아가서 내용을 열어보면 된다.  \n",
    "  \n",
    "> (3) 아래를 실행했을 때 \n",
    "> ```python\n",
    "> b=a\n",
    "> ```\n",
    "> - `a`라는 포스트잇이 붙은 메모리주소(140187934839488번 방)에 `b`라는 포스트잇을 추가로 붙인다. \n",
    "> - 같은 방에 `a`,`b`라는 포스트잇이 모두 붙어있는 상태이므로, `[1,2,3]`을 찾기 위해서는 `b`라는 포스트잇을 찾아가서 내용을 읽어보거나, `a`라는 포스트잇을 찾아가서 내용을 읽어본다. \n",
    "  \n",
    "> (4) 아래를 실행했을 때 \n",
    "> ```python\n",
    "> a.append(4)\n",
    "> ```\n",
    "> - `a`라는 포스트잇이 붙은 방으로 찾아가서, `[1,2,3]`을 찾고 거기에서 `append`함수를 써서 `[1,2,3,4]`로 바꾼다. \n",
    "> - 같은 방에 `a`,`b`라는 포스트잇이 모두 붙어있으므로 `b`라는 포스트잇을 찾아가서 내용을 열어보면 `[1,2,3,4]`가 나온다. "
   ]
  },
  {
   "cell_type": "markdown",
   "id": "230061ad-8bc6-4ef1-898c-1d96090051f6",
   "metadata": {},
   "source": [
    "-----------"
   ]
  },
  {
   "cell_type": "markdown",
   "id": "10220eff-3039-4358-b2ae-6f13e99d3c3b",
   "metadata": {},
   "source": [
    "### 할당문의 이해"
   ]
  },
  {
   "cell_type": "markdown",
   "id": "58c56030-203a-4e84-8f59-caa4f7192251",
   "metadata": {},
   "source": [
    "파이썬에서 할당문을 이해하려면 언제나 **오른쪽**을 먼저 읽어야 한다. \n",
    "\n",
    "- 할당문의 오른쪽에서 객체를 생성하거나 가져온다. \n",
    "- 그 후에 포스트잇을 붙이듯이 할당문 왼쪽의 변수가 객체에 바인딩 된다.  \n",
    "  \n",
    "→ `[1,2,3]`이라는 공간이 생긴 후 그 메모리 주소를 `a`라고 부른다."
   ]
  },
  {
   "cell_type": "markdown",
   "id": "8d47b33d-5ff9-48f8-a9d8-eb0bd9ef520e",
   "metadata": {},
   "source": [
    "-----------"
   ]
  },
  {
   "cell_type": "markdown",
   "id": "e707762e-8dee-426a-90d6-6a4f0938a74c",
   "metadata": {},
   "source": [
    "### 에일리어싱(aliasing)"
   ]
  },
  {
   "cell_type": "markdown",
   "id": "057c63f3-c15a-421d-afb8-619b11e97bb7",
   "metadata": {},
   "source": [
    "`b=a`는 \n",
    "\n",
    "> 나는 이미 a가 의미하는걸 알고 있어, 그런데 a가 의미하는걸 b라고도 부르고 싶다.\n",
    "\n",
    "라는 것과 같다. 즉 이미 a라고 부르고 있던것을 `가져와서` b라고도 부르고 싶다는 의미인데, 이러한 관점에서 **★b는 a의 별칭(alias)★**이라고 볼 수 있다. "
   ]
  },
  {
   "cell_type": "markdown",
   "id": "2997218b-d50e-468e-ae19-2ec211a75af0",
   "metadata": {},
   "source": [
    "반대로 생각해보면 a 역시 b의 별명이라고 볼 수 있다. "
   ]
  },
  {
   "cell_type": "markdown",
   "id": "332f243e-e928-4d42-86eb-b0648b55eff4",
   "metadata": {},
   "source": [
    "**★하나의 메모리 주소에 여러 개의 변수이름을 바인드하는 것을 aliasing이라고 부른다.★**"
   ]
  },
  {
   "cell_type": "markdown",
   "id": "66df5dd2-716f-4c02-aee4-34d36469be4c",
   "metadata": {},
   "source": [
    "-----------"
   ]
  },
  {
   "cell_type": "markdown",
   "id": "a77b57f3-72b6-4e20-a096-92aa00a85051",
   "metadata": {},
   "source": [
    "### ID vs value "
   ]
  },
  {
   "cell_type": "markdown",
   "id": "4856e23a-4a32-4daf-b467-ba748bb30d43",
   "metadata": {},
   "source": [
    "`-` 모든 객체(object)는 ID, value, type을 가진다. "
   ]
  },
  {
   "cell_type": "markdown",
   "id": "08ea74fb-fe72-4f3f-a7c1-22fa29310dba",
   "metadata": {},
   "source": [
    "https://docs.python.org/3/reference/datamodel.html#objects-values-and-types"
   ]
  },
  {
   "cell_type": "markdown",
   "id": "0c17458b-c62c-4b97-a3e9-61b184d5fb5b",
   "metadata": {},
   "source": [
    "`-` 아래의 예제를 고려하자. "
   ]
  },
  {
   "cell_type": "code",
   "execution_count": 12,
   "id": "5b2c4747-97f0-4ec8-9c91-21104dcc7a78",
   "metadata": {},
   "outputs": [],
   "source": [
    "a=[1,2,3]\n",
    "b=a\n",
    "a.append(4)\n",
    "c=[1,2,3,4]"
   ]
  },
  {
   "cell_type": "markdown",
   "id": "c395dedc-2fb7-4e05-aa10-86f0d1219dcb",
   "metadata": {},
   "source": [
    "여기에서 a,b,c는 모두 같은 값을 가진다. "
   ]
  },
  {
   "cell_type": "code",
   "execution_count": 13,
   "id": "2bc1b63f-aff4-4f4a-84b1-d426a35273c5",
   "metadata": {},
   "outputs": [
    {
     "data": {
      "text/plain": [
       "([1, 2, 3, 4], [1, 2, 3, 4], [1, 2, 3, 4])"
      ]
     },
     "execution_count": 13,
     "metadata": {},
     "output_type": "execute_result"
    }
   ],
   "source": [
    "a,b,c"
   ]
  },
  {
   "cell_type": "code",
   "execution_count": 14,
   "id": "af149696-36da-4f47-a507-b5f4c5e156fb",
   "metadata": {},
   "outputs": [
    {
     "data": {
      "text/plain": [
       "(True, True, True)"
      ]
     },
     "execution_count": 14,
     "metadata": {},
     "output_type": "execute_result"
    }
   ],
   "source": [
    "a==c, b==c, c==a"
   ]
  },
  {
   "cell_type": "markdown",
   "id": "2eb11c27-38fa-4874-943e-da1c9ced7750",
   "metadata": {},
   "source": [
    "`-` 하지만 그 ID가 같은 것은 아니다. "
   ]
  },
  {
   "cell_type": "code",
   "execution_count": 15,
   "id": "02ba9bf8-fd15-44c1-b6e9-7ed8f243d0ac",
   "metadata": {},
   "outputs": [
    {
     "data": {
      "text/plain": [
       "(140603072685248, 140603072685248, 140603072642688)"
      ]
     },
     "execution_count": 15,
     "metadata": {},
     "output_type": "execute_result"
    }
   ],
   "source": [
    "id(a),id(b),id(c)"
   ]
  },
  {
   "cell_type": "code",
   "execution_count": 16,
   "id": "08a615e5-dda3-460f-bcaa-9e2ab2470fcb",
   "metadata": {},
   "outputs": [
    {
     "data": {
      "text/plain": [
       "(True, False, False)"
      ]
     },
     "execution_count": 16,
     "metadata": {},
     "output_type": "execute_result"
    }
   ],
   "source": [
    "a is b, b is c, c is a"
   ]
  },
  {
   "cell_type": "markdown",
   "id": "988fe78d-d6a1-4cfa-88c2-faf616cda216",
   "metadata": {},
   "source": [
    "> Note: 연산자 `==` 는 두 객체간의 값(value)를 비교하고 연산자 `is`는 두 객체간의 메모리주소값을 비교한다. "
   ]
  },
  {
   "cell_type": "markdown",
   "id": "3fd3b54f-5fc7-4977-9dc2-f17c7d5f2175",
   "metadata": {},
   "source": [
    "-----------"
   ]
  },
  {
   "cell_type": "markdown",
   "id": "80692d61-9f14-4128-9107-feb5f471fbb0",
   "metadata": {},
   "source": [
    "### 마무리 "
   ]
  },
  {
   "cell_type": "markdown",
   "id": "d8a34aab-e753-41f1-ab8a-324638d27f8f",
   "metadata": {},
   "source": [
    "- 아래의 코드를 다시 비교해보자. \n",
    "\n",
    "```python\n",
    "## code1\n",
    "a=[1,2,3]\n",
    "b=a\n",
    "a.append(4)\n",
    "```\n",
    "\n",
    "```python \n",
    "## code2\n",
    "a=[1,2,3]\n",
    "b=a\n",
    "a=[1,2,3]+[4]\n",
    "```"
   ]
  },
  {
   "cell_type": "markdown",
   "id": "5176d2b9-3583-40fa-b518-52d8ba46e008",
   "metadata": {},
   "source": [
    "- code2는 [1,2,3]+[4]라는 새로운 오브젝트가 만들어진 후, `a` 포스트잇이 이 공간에 붙여지는 것이다.  \n",
    "→ 그래서 `b`와 개별로 움직이는 것!"
   ]
  }
 ],
 "metadata": {
  "kernelspec": {
   "display_name": "Python 3 (ipykernel)",
   "language": "python",
   "name": "python3"
  },
  "language_info": {
   "codemirror_mode": {
    "name": "ipython",
    "version": 3
   },
   "file_extension": ".py",
   "mimetype": "text/x-python",
   "name": "python",
   "nbconvert_exporter": "python",
   "pygments_lexer": "ipython3",
   "version": "3.8.11"
  }
 },
 "nbformat": 4,
 "nbformat_minor": 5
}
