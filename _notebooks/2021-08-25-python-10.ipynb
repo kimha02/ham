{
 "cells": [
  {
   "cell_type": "markdown",
   "id": "1bca0037-487c-4ad6-bb2f-6779b12a8b60",
   "metadata": {},
   "source": [
    "# [공부] if문 & for문\n",
    "> 작성 완료\n",
    "\n",
    "- toc:true\n",
    "- branch: master\n",
    "- badges: true\n",
    "- comments: true\n",
    "- author: kimhayoung\n",
    "- categories: [Python]"
   ]
  },
  {
   "cell_type": "markdown",
   "id": "d5d550cf-94d1-478a-9e8e-5cf2242baea5",
   "metadata": {},
   "source": [
    "------"
   ]
  },
  {
   "cell_type": "markdown",
   "id": "8cafc4bc-95bd-4ad3-8cc3-4aa475971d26",
   "metadata": {},
   "source": [
    "## if문"
   ]
  },
  {
   "cell_type": "markdown",
   "id": "67b25ca7-ea76-47fa-b05c-1bc016214969",
   "metadata": {},
   "source": [
    "`-` 예제1  \n",
    "    - a=11 처음에 선언  \n",
    "    - a<5, a>10, 5<=a=<10 으로 나눠서 if문 작성  \n",
    "    - **if, elif, else** 로 구분했다는 것을 기억해두자!     "
   ]
  },
  {
   "cell_type": "code",
   "execution_count": 1,
   "id": "e5bc6170-211a-4706-af4c-d8ceb6f397ec",
   "metadata": {},
   "outputs": [
    {
     "name": "stdout",
     "output_type": "stream",
     "text": [
      "a=11,12,13,....\n"
     ]
    }
   ],
   "source": [
    "a=11\n",
    "if a<5: \n",
    "    print('a=....1,2,3,4')\n",
    "elif a>10: \n",
    "    print('a=11,12,13,....')\n",
    "else: \n",
    "    print('a=5,6,7,...,10')"
   ]
  },
  {
   "cell_type": "markdown",
   "id": "fd8164d3-9733-4b53-a9b2-9a6c0e958bc6",
   "metadata": {},
   "source": [
    "`-` 예제2  \n",
    "    - a,b=2,3이면 a=2, b=3으로 입력됨  \n",
    "    - 크게 **if, else**로 나누고, **else 안에서 다시 if, else로 나눌 수 있다!**"
   ]
  },
  {
   "cell_type": "code",
   "execution_count": 2,
   "id": "74f6291a-126d-494f-880d-a18dad8a1a42",
   "metadata": {},
   "outputs": [
    {
     "name": "stdout",
     "output_type": "stream",
     "text": [
      "a>b\n"
     ]
    }
   ],
   "source": [
    "a,b=5,2 \n",
    "if a==b:\n",
    "    print('a=b')\n",
    "else: \n",
    "    if a<b: \n",
    "        print('a<b')\n",
    "    else:\n",
    "        print('a>b')"
   ]
  },
  {
   "cell_type": "markdown",
   "id": "0fd1abf7-83ce-4723-9026-da8a7e887313",
   "metadata": {},
   "source": [
    "`-` 예제3  \n",
    "    - a==1이면 a=1을 출력"
   ]
  },
  {
   "cell_type": "code",
   "execution_count": 6,
   "id": "ccf74642-5db5-4862-8cb9-edc4cfe73489",
   "metadata": {},
   "outputs": [],
   "source": [
    "a=1.0005\n",
    "if a==1: \n",
    "    print('a=1')"
   ]
  },
  {
   "cell_type": "markdown",
   "id": "fe7d2583-6ee7-4cf3-b6eb-68e9967d46c4",
   "metadata": {},
   "source": [
    "---------"
   ]
  },
  {
   "cell_type": "markdown",
   "id": "c9f61f72-4039-48ba-a191-26bcf6edae53",
   "metadata": {},
   "source": [
    "## for 문 "
   ]
  },
  {
   "cell_type": "markdown",
   "id": "4f754a06-0f42-4a3d-bc2d-dcff7e3c1bd1",
   "metadata": {},
   "source": [
    "`-` 예제1  \n",
    "    - 리스트여도 잘 된다."
   ]
  },
  {
   "cell_type": "code",
   "execution_count": 22,
   "id": "cf3d331e-dafc-4f80-9d61-fc207ecc9716",
   "metadata": {},
   "outputs": [
    {
     "name": "stdout",
     "output_type": "stream",
     "text": [
      "1\n",
      "2\n",
      "3\n",
      "4\n"
     ]
    }
   ],
   "source": [
    "for i in [1,2,3,4]:\n",
    "    print(i)"
   ]
  },
  {
   "cell_type": "markdown",
   "id": "7c5c61ce-3703-4867-8b02-82cc851bf9f1",
   "metadata": {},
   "source": [
    "`-` 예제2  \n",
    "    - tuple이어도 잘 된다."
   ]
  },
  {
   "cell_type": "code",
   "execution_count": 23,
   "id": "112d2819-6049-4c7d-80d3-1bedab831341",
   "metadata": {},
   "outputs": [
    {
     "name": "stdout",
     "output_type": "stream",
     "text": [
      "1\n",
      "2\n",
      "3\n",
      "4\n"
     ]
    }
   ],
   "source": [
    "for i in (1,2,3,4):\n",
    "    print(i)"
   ]
  },
  {
   "cell_type": "markdown",
   "id": "47864c59-3392-4441-bc7a-c8aa9bb6f1bd",
   "metadata": {},
   "source": [
    "`-` 예제3  \n",
    "    - string도 잘 된다."
   ]
  },
  {
   "cell_type": "code",
   "execution_count": 24,
   "id": "bc68712f-39d9-43c1-ac54-2636c73a5817",
   "metadata": {},
   "outputs": [
    {
     "name": "stdout",
     "output_type": "stream",
     "text": [
      "1\n",
      "2\n",
      "3\n",
      "4\n"
     ]
    }
   ],
   "source": [
    "for i in '1234':\n",
    "    print(i)"
   ]
  },
  {
   "cell_type": "markdown",
   "id": "42a718aa-5d7a-43bc-8260-969e575a3d90",
   "metadata": {},
   "source": [
    "**(?) <u>의문</u>**  \n",
    "```python\n",
    "for i in ???: \n",
    "    print(i)\n",
    "```\n",
    "에서 물음표 자리에 올 수 있는 것이 무엇일까? "
   ]
  },
  {
   "cell_type": "markdown",
   "id": "7d0c7de3-8443-4205-9a8a-462f2b346947",
   "metadata": {},
   "source": [
    "`-` 예제4 "
   ]
  },
  {
   "cell_type": "code",
   "execution_count": 25,
   "id": "dc29f88c-4bdc-4ce5-be1a-1a75f1e24c3f",
   "metadata": {},
   "outputs": [
    {
     "ename": "TypeError",
     "evalue": "'int' object is not iterable",
     "output_type": "error",
     "traceback": [
      "\u001b[0;31m---------------------------------------------------------------------------\u001b[0m",
      "\u001b[0;31mTypeError\u001b[0m                                 Traceback (most recent call last)",
      "\u001b[0;32m<ipython-input-25-0141710f97f4>\u001b[0m in \u001b[0;36m<module>\u001b[0;34m\u001b[0m\n\u001b[1;32m      1\u001b[0m \u001b[0ma\u001b[0m\u001b[0;34m=\u001b[0m\u001b[0;36m5\u001b[0m\u001b[0;34m\u001b[0m\u001b[0;34m\u001b[0m\u001b[0m\n\u001b[0;32m----> 2\u001b[0;31m \u001b[0;32mfor\u001b[0m \u001b[0mi\u001b[0m \u001b[0;32min\u001b[0m \u001b[0ma\u001b[0m\u001b[0;34m:\u001b[0m\u001b[0;34m\u001b[0m\u001b[0;34m\u001b[0m\u001b[0m\n\u001b[0m\u001b[1;32m      3\u001b[0m     \u001b[0mprint\u001b[0m\u001b[0;34m(\u001b[0m\u001b[0mi\u001b[0m\u001b[0;34m)\u001b[0m\u001b[0;34m\u001b[0m\u001b[0;34m\u001b[0m\u001b[0m\n",
      "\u001b[0;31mTypeError\u001b[0m: 'int' object is not iterable"
     ]
    }
   ],
   "source": [
    "a=5 \n",
    "for i in a:\n",
    "    print(i)"
   ]
  },
  {
   "cell_type": "markdown",
   "id": "2b8fd935-86b2-4282-8569-4aac15ad62c7",
   "metadata": {},
   "source": [
    "- `5`라고 출력될 줄 알았는데 아니었다.  \n",
    "무슨 차이인가?  \n",
    "A : 길이가 정의되는 1차원 자료형 이상이어야 for문은 정의된다."
   ]
  },
  {
   "cell_type": "markdown",
   "id": "4c15da8e-584b-4584-a12c-451859f5f9d9",
   "metadata": {},
   "source": [
    "- 아래를 살펴보자. "
   ]
  },
  {
   "cell_type": "markdown",
   "id": "fe6bd4a6-e192-47cd-978b-40dadb849aac",
   "metadata": {},
   "source": [
    "`-` 예제5"
   ]
  },
  {
   "cell_type": "code",
   "execution_count": 12,
   "id": "a554b7ef-5bf6-4d4f-884b-359902384b5a",
   "metadata": {},
   "outputs": [],
   "source": [
    "L=[[1,2,3],[3,4,5]]"
   ]
  },
  {
   "cell_type": "code",
   "execution_count": 13,
   "id": "3869c4c4-0287-4dc6-966c-32e3caa53d34",
   "metadata": {},
   "outputs": [
    {
     "name": "stdout",
     "output_type": "stream",
     "text": [
      "[1, 2, 3]\n",
      "[3, 4, 5]\n"
     ]
    }
   ],
   "source": [
    "for i in L:\n",
    "    print(i)"
   ]
  },
  {
   "cell_type": "code",
   "execution_count": 14,
   "id": "36b61889-f5b1-491f-8257-f7af09daa6b8",
   "metadata": {},
   "outputs": [],
   "source": [
    "import pandas as pd\n",
    "df=pd.DataFrame(L)"
   ]
  },
  {
   "cell_type": "code",
   "execution_count": 15,
   "id": "156718e1-9ab6-4015-8849-2b84edccae65",
   "metadata": {},
   "outputs": [
    {
     "name": "stdout",
     "output_type": "stream",
     "text": [
      "0\n",
      "1\n",
      "2\n"
     ]
    }
   ],
   "source": [
    "for i in df:\n",
    "    print(i)"
   ]
  },
  {
   "cell_type": "code",
   "execution_count": 16,
   "id": "9ad9ef7d-4315-45b2-942f-04c2005e57a6",
   "metadata": {},
   "outputs": [],
   "source": [
    "import numpy as np \n",
    "ndr=np.array(L)"
   ]
  },
  {
   "cell_type": "code",
   "execution_count": 17,
   "id": "9acdcad4-1d34-4518-a011-442c901b376f",
   "metadata": {},
   "outputs": [
    {
     "name": "stdout",
     "output_type": "stream",
     "text": [
      "[1 2 3]\n",
      "[3 4 5]\n"
     ]
    }
   ],
   "source": [
    "for i in ndr: \n",
    "    print(i)"
   ]
  },
  {
   "cell_type": "markdown",
   "id": "a7a7e5e9-6c6a-4635-8992-1f083c953f9c",
   "metadata": {},
   "source": [
    "- 1차원 자료형을 넣었지만 결과를 예측할 수 없었다.  \n",
    "    결과를 어떻게 예상할 수 있을까? "
   ]
  },
  {
   "cell_type": "markdown",
   "id": "ae724d02-ad44-46b3-bf88-8e1b5d82de11",
   "metadata": {},
   "source": [
    "### ★ for문의 동작원리 "
   ]
  },
  {
   "cell_type": "markdown",
   "id": "f5a00c03-76e0-4182-8e33-3ca846b3007d",
   "metadata": {},
   "source": [
    "- 사실 ??? 자리에 올 수 있는 것은 dir()하여 `__iter__()`라는 메서드가 있는 object이다.  \n",
    "- 이러한 오브젝트를 *iterable*한 오브젝트라고 한다. "
   ]
  },
  {
   "cell_type": "code",
   "execution_count": 18,
   "id": "e2160d6d-e08d-4db5-ae80-67736b217507",
   "metadata": {},
   "outputs": [],
   "source": [
    "a=1"
   ]
  },
  {
   "cell_type": "code",
   "execution_count": 19,
   "id": "2c396cdc-2771-4989-ad61-0fa9a4257440",
   "metadata": {},
   "outputs": [
    {
     "data": {
      "text/plain": [
       "['__abs__',\n",
       " '__add__',\n",
       " '__and__',\n",
       " '__bool__',\n",
       " '__ceil__',\n",
       " '__class__',\n",
       " '__delattr__',\n",
       " '__dir__',\n",
       " '__divmod__',\n",
       " '__doc__',\n",
       " '__eq__',\n",
       " '__float__',\n",
       " '__floor__',\n",
       " '__floordiv__',\n",
       " '__format__',\n",
       " '__ge__',\n",
       " '__getattribute__',\n",
       " '__getnewargs__',\n",
       " '__gt__',\n",
       " '__hash__',\n",
       " '__index__',\n",
       " '__init__',\n",
       " '__init_subclass__',\n",
       " '__int__',\n",
       " '__invert__',\n",
       " '__le__',\n",
       " '__lshift__',\n",
       " '__lt__',\n",
       " '__mod__',\n",
       " '__mul__',\n",
       " '__ne__',\n",
       " '__neg__',\n",
       " '__new__',\n",
       " '__or__',\n",
       " '__pos__',\n",
       " '__pow__',\n",
       " '__radd__',\n",
       " '__rand__',\n",
       " '__rdivmod__',\n",
       " '__reduce__',\n",
       " '__reduce_ex__',\n",
       " '__repr__',\n",
       " '__rfloordiv__',\n",
       " '__rlshift__',\n",
       " '__rmod__',\n",
       " '__rmul__',\n",
       " '__ror__',\n",
       " '__round__',\n",
       " '__rpow__',\n",
       " '__rrshift__',\n",
       " '__rshift__',\n",
       " '__rsub__',\n",
       " '__rtruediv__',\n",
       " '__rxor__',\n",
       " '__setattr__',\n",
       " '__sizeof__',\n",
       " '__str__',\n",
       " '__sub__',\n",
       " '__subclasshook__',\n",
       " '__truediv__',\n",
       " '__trunc__',\n",
       " '__xor__',\n",
       " 'as_integer_ratio',\n",
       " 'bit_length',\n",
       " 'conjugate',\n",
       " 'denominator',\n",
       " 'from_bytes',\n",
       " 'imag',\n",
       " 'numerator',\n",
       " 'real',\n",
       " 'to_bytes']"
      ]
     },
     "execution_count": 19,
     "metadata": {},
     "output_type": "execute_result"
    }
   ],
   "source": [
    "dir(a)"
   ]
  },
  {
   "cell_type": "markdown",
   "id": "866cf617-eef2-4dbb-b146-d9e2b2549ae7",
   "metadata": {},
   "source": [
    "예상대로 int클래스의 인스턴스는 `__iter__()`가 없다. "
   ]
  },
  {
   "cell_type": "markdown",
   "id": "b650f404-e411-4d31-8a85-54a3891caf5a",
   "metadata": {},
   "source": [
    "`-` 위에서 정의한 L, df, ndr 는 모두 `__iter__()` 함수가 있다. 따라서 iterable한 오브젝트이다. "
   ]
  },
  {
   "cell_type": "markdown",
   "id": "d54166cd-aac1-4efc-8f6d-134a9c961910",
   "metadata": {},
   "source": [
    "-> iterable한 오브젝트는 iterator로 만들 수 있는 특징이 있다. "
   ]
  },
  {
   "cell_type": "markdown",
   "id": "9f53fb8e-a9c6-40fc-80ab-96a3be4e674b",
   "metadata": {},
   "source": [
    "- iterable한 오브젝트를 어떻게 iterator로 만드는가? "
   ]
  },
  {
   "cell_type": "code",
   "execution_count": 20,
   "id": "3bbc51c3-89db-4b74-976b-8065d74bf1b8",
   "metadata": {},
   "outputs": [],
   "source": [
    "### 방법1\n",
    "dfiter1=df.__iter__()"
   ]
  },
  {
   "cell_type": "code",
   "execution_count": 21,
   "id": "0f3cee6c-a9ed-4907-8d2a-6e1cbf478382",
   "metadata": {},
   "outputs": [
    {
     "data": {
      "text/plain": [
       "\u001b[0;31mType:\u001b[0m        generator\n",
       "\u001b[0;31mString form:\u001b[0m <generator object RangeIndex.__iter__ at 0x7fa6071b6cf0>\n",
       "\u001b[0;31mDocstring:\u001b[0m   <no docstring>\n"
      ]
     },
     "metadata": {},
     "output_type": "display_data"
    }
   ],
   "source": [
    "dfiter1?"
   ]
  },
  {
   "cell_type": "markdown",
   "id": "6e00e4bd-aa6f-4d7b-a7b8-ba56dc37a0f1",
   "metadata": {},
   "source": [
    "`-` dfiter1은 generator라는 클래스에서 만들어진 인스턴스 오브젝트이다. "
   ]
  },
  {
   "cell_type": "code",
   "execution_count": 44,
   "id": "cebc42ea-8a79-4ecc-840b-33e2230b290b",
   "metadata": {},
   "outputs": [
    {
     "data": {
      "text/plain": [
       "['__class__',\n",
       " '__del__',\n",
       " '__delattr__',\n",
       " '__dir__',\n",
       " '__doc__',\n",
       " '__eq__',\n",
       " '__format__',\n",
       " '__ge__',\n",
       " '__getattribute__',\n",
       " '__gt__',\n",
       " '__hash__',\n",
       " '__init__',\n",
       " '__init_subclass__',\n",
       " '__iter__',\n",
       " '__le__',\n",
       " '__lt__',\n",
       " '__name__',\n",
       " '__ne__',\n",
       " '__new__',\n",
       " '__next__',\n",
       " '__qualname__',\n",
       " '__reduce__',\n",
       " '__reduce_ex__',\n",
       " '__repr__',\n",
       " '__setattr__',\n",
       " '__sizeof__',\n",
       " '__str__',\n",
       " '__subclasshook__',\n",
       " 'close',\n",
       " 'gi_code',\n",
       " 'gi_frame',\n",
       " 'gi_running',\n",
       " 'gi_yieldfrom',\n",
       " 'send',\n",
       " 'throw']"
      ]
     },
     "execution_count": 44,
     "metadata": {},
     "output_type": "execute_result"
    }
   ],
   "source": [
    "dir(dfiter1)"
   ]
  },
  {
   "cell_type": "code",
   "execution_count": 26,
   "id": "5f8ad78c-94b7-4736-9564-3b7c89914bd6",
   "metadata": {},
   "outputs": [
    {
     "ename": "StopIteration",
     "evalue": "",
     "output_type": "error",
     "traceback": [
      "\u001b[0;31m---------------------------------------------------------------------------\u001b[0m",
      "\u001b[0;31mStopIteration\u001b[0m                             Traceback (most recent call last)",
      "\u001b[0;32m/tmp/ipykernel_23225/135013321.py\u001b[0m in \u001b[0;36m<module>\u001b[0;34m\u001b[0m\n\u001b[0;32m----> 1\u001b[0;31m \u001b[0mdfiter1\u001b[0m\u001b[0;34m.\u001b[0m\u001b[0m__next__\u001b[0m\u001b[0;34m(\u001b[0m\u001b[0;34m)\u001b[0m  \u001b[0;31m#next의 역할은 순서대로 계속 작업하는..\u001b[0m\u001b[0;34m\u001b[0m\u001b[0;34m\u001b[0m\u001b[0m\n\u001b[0m",
      "\u001b[0;31mStopIteration\u001b[0m: "
     ]
    }
   ],
   "source": [
    "dfiter1.__next__()  #next의 역할은 순서대로 계속 작업하는.."
   ]
  },
  {
   "cell_type": "code",
   "execution_count": 27,
   "id": "480a038c-0e4b-432a-95b3-f34eb82b4dff",
   "metadata": {},
   "outputs": [],
   "source": [
    "### 방법2\n",
    "dfiter2=iter(df)"
   ]
  },
  {
   "cell_type": "code",
   "execution_count": 28,
   "id": "8b7ea229-dc4c-40ef-ae2d-23ec77579059",
   "metadata": {},
   "outputs": [
    {
     "data": {
      "text/plain": [
       "\u001b[0;31mType:\u001b[0m        generator\n",
       "\u001b[0;31mString form:\u001b[0m <generator object RangeIndex.__iter__ at 0x7fa6404a54a0>\n",
       "\u001b[0;31mDocstring:\u001b[0m   <no docstring>\n"
      ]
     },
     "metadata": {},
     "output_type": "display_data"
    }
   ],
   "source": [
    "?dfiter2"
   ]
  },
  {
   "cell_type": "code",
   "execution_count": 34,
   "id": "f90a86e2-43ad-42b8-8087-74d457fedaa1",
   "metadata": {},
   "outputs": [
    {
     "ename": "StopIteration",
     "evalue": "",
     "output_type": "error",
     "traceback": [
      "\u001b[0;31m---------------------------------------------------------------------------\u001b[0m",
      "\u001b[0;31mStopIteration\u001b[0m                             Traceback (most recent call last)",
      "\u001b[0;32m/tmp/ipykernel_23225/2401884540.py\u001b[0m in \u001b[0;36m<module>\u001b[0;34m\u001b[0m\n\u001b[0;32m----> 1\u001b[0;31m \u001b[0mdfiter2\u001b[0m\u001b[0;34m.\u001b[0m\u001b[0m__next__\u001b[0m\u001b[0;34m(\u001b[0m\u001b[0;34m)\u001b[0m\u001b[0;34m\u001b[0m\u001b[0;34m\u001b[0m\u001b[0m\n\u001b[0m",
      "\u001b[0;31mStopIteration\u001b[0m: "
     ]
    }
   ],
   "source": [
    "dfiter2.__next__() "
   ]
  },
  {
   "cell_type": "markdown",
   "id": "9658e76c-6d9f-4e03-bdf1-8e926d969e17",
   "metadata": {},
   "source": [
    "### **`–` for 문의 작동원리**\n",
    "\n",
    "```python\n",
    "for i in L:\n",
    "    print(i)\n",
    "```\n",
    "\n",
    "(1) iter함수를 사용해서 L을 iterator로 만든다. \n",
    "\n",
    "(2) iterator에서 `.__next__()`함수를 호출하고 결과를 i에 저장한 뒤에 for문 블 안에 있는 내용(들여쓰기 된 내용)을 실행한다. \n",
    "\n",
    "(3) StopIteration 에러가 발생하면 for 문을 멈춘다. "
   ]
  },
  {
   "cell_type": "code",
   "execution_count": 35,
   "id": "4cc5ac92-ba0d-4025-b1a8-3b5a7a03f73f",
   "metadata": {},
   "outputs": [],
   "source": [
    "Liter=iter(L)"
   ]
  },
  {
   "cell_type": "code",
   "execution_count": 41,
   "id": "eb61723a-daf1-4328-898f-d3ff9aeab730",
   "metadata": {},
   "outputs": [
    {
     "data": {
      "text/plain": [
       "\u001b[0;31mType:\u001b[0m        list_iterator\n",
       "\u001b[0;31mString form:\u001b[0m <list_iterator object at 0x7fa6071bb880>\n",
       "\u001b[0;31mDocstring:\u001b[0m   <no docstring>\n"
      ]
     },
     "metadata": {},
     "output_type": "display_data"
    }
   ],
   "source": [
    "?Liter"
   ]
  },
  {
   "cell_type": "code",
   "execution_count": 40,
   "id": "a97432c9-6fca-4044-9684-0396583f4eeb",
   "metadata": {},
   "outputs": [
    {
     "ename": "StopIteration",
     "evalue": "",
     "output_type": "error",
     "traceback": [
      "\u001b[0;31m---------------------------------------------------------------------------\u001b[0m",
      "\u001b[0;31mStopIteration\u001b[0m                             Traceback (most recent call last)",
      "\u001b[0;32m/tmp/ipykernel_23225/3305166288.py\u001b[0m in \u001b[0;36m<module>\u001b[0;34m\u001b[0m\n\u001b[0;32m----> 1\u001b[0;31m \u001b[0mLiter\u001b[0m\u001b[0;34m.\u001b[0m\u001b[0m__next__\u001b[0m\u001b[0;34m(\u001b[0m\u001b[0;34m)\u001b[0m\u001b[0;34m\u001b[0m\u001b[0;34m\u001b[0m\u001b[0m\n\u001b[0m",
      "\u001b[0;31mStopIteration\u001b[0m: "
     ]
    }
   ],
   "source": [
    "Liter.__next__()"
   ]
  },
  {
   "cell_type": "code",
   "execution_count": 42,
   "id": "b32b88ec-2690-4d88-a9f2-e6f7639b88d4",
   "metadata": {},
   "outputs": [],
   "source": [
    "ndriter=iter(ndr)"
   ]
  },
  {
   "cell_type": "code",
   "execution_count": 47,
   "id": "8a228b46-b100-4eb9-8abf-a168740023b8",
   "metadata": {},
   "outputs": [
    {
     "ename": "StopIteration",
     "evalue": "",
     "output_type": "error",
     "traceback": [
      "\u001b[0;31m---------------------------------------------------------------------------\u001b[0m",
      "\u001b[0;31mStopIteration\u001b[0m                             Traceback (most recent call last)",
      "\u001b[0;32m/tmp/ipykernel_23225/3774912080.py\u001b[0m in \u001b[0;36m<module>\u001b[0;34m\u001b[0m\n\u001b[0;32m----> 1\u001b[0;31m \u001b[0mprint\u001b[0m\u001b[0;34m(\u001b[0m\u001b[0mndriter\u001b[0m\u001b[0;34m.\u001b[0m\u001b[0m__next__\u001b[0m\u001b[0;34m(\u001b[0m\u001b[0;34m)\u001b[0m\u001b[0;34m)\u001b[0m\u001b[0;34m\u001b[0m\u001b[0;34m\u001b[0m\u001b[0m\n\u001b[0m",
      "\u001b[0;31mStopIteration\u001b[0m: "
     ]
    }
   ],
   "source": [
    "print(ndriter.__next__())"
   ]
  },
  {
   "cell_type": "markdown",
   "id": "f236b79f-2520-4e06-9dd3-f942a9a735be",
   "metadata": {},
   "source": [
    "#### range()"
   ]
  },
  {
   "cell_type": "markdown",
   "id": "251733c6-3b8f-4137-a3a9-8594f09b676e",
   "metadata": {},
   "source": [
    "`-` for문의 정석은 아래와 같이 **range()** 를 사용하는 것이다.  "
   ]
  },
  {
   "cell_type": "code",
   "execution_count": 48,
   "id": "f3933fab-ebc1-433d-b3cc-2a9dd3ca0f8f",
   "metadata": {},
   "outputs": [
    {
     "name": "stdout",
     "output_type": "stream",
     "text": [
      "0\n",
      "1\n",
      "2\n",
      "3\n",
      "4\n"
     ]
    }
   ],
   "source": [
    "for i in range(5):\n",
    "    print(i)"
   ]
  },
  {
   "cell_type": "markdown",
   "id": "ae1d236b-3f2d-4895-8748-2da6262e9109",
   "metadata": {},
   "source": [
    "`-` `range(5)`의 정체는 그냥 iterable object이다. "
   ]
  },
  {
   "cell_type": "code",
   "execution_count": 51,
   "id": "8f6704e2-6656-4fbb-99df-3f05916fdd82",
   "metadata": {},
   "outputs": [],
   "source": [
    "a=range(5)"
   ]
  },
  {
   "cell_type": "markdown",
   "id": "9072d597-ef8d-4409-80a6-468ca0533409",
   "metadata": {},
   "source": [
    "`-` 그래서 언제든지 iterator로 바꿀 수 있다. "
   ]
  },
  {
   "cell_type": "code",
   "execution_count": 52,
   "id": "d47458de-2d86-4760-9240-0b01ef4da1af",
   "metadata": {},
   "outputs": [],
   "source": [
    "aiter=iter(a)"
   ]
  },
  {
   "cell_type": "code",
   "execution_count": 53,
   "id": "68dfa659-e12d-4d73-b392-eeb60a2069fb",
   "metadata": {},
   "outputs": [
    {
     "data": {
      "text/plain": [
       "<range_iterator at 0x7fa6071bbf90>"
      ]
     },
     "execution_count": 53,
     "metadata": {},
     "output_type": "execute_result"
    }
   ],
   "source": [
    "aiter"
   ]
  },
  {
   "cell_type": "code",
   "execution_count": 60,
   "id": "198adc54-60c3-438f-bd9d-234ad6000439",
   "metadata": {},
   "outputs": [
    {
     "ename": "StopIteration",
     "evalue": "",
     "output_type": "error",
     "traceback": [
      "\u001b[0;31m---------------------------------------------------------------------------\u001b[0m",
      "\u001b[0;31mStopIteration\u001b[0m                             Traceback (most recent call last)",
      "\u001b[0;32m/tmp/ipykernel_23225/3185881957.py\u001b[0m in \u001b[0;36m<module>\u001b[0;34m\u001b[0m\n\u001b[0;32m----> 1\u001b[0;31m \u001b[0maiter\u001b[0m\u001b[0;34m.\u001b[0m\u001b[0m__next__\u001b[0m\u001b[0;34m(\u001b[0m\u001b[0;34m)\u001b[0m\u001b[0;34m\u001b[0m\u001b[0;34m\u001b[0m\u001b[0m\n\u001b[0m",
      "\u001b[0;31mStopIteration\u001b[0m: "
     ]
    }
   ],
   "source": [
    "aiter.__next__()"
   ]
  },
  {
   "cell_type": "markdown",
   "id": "548fb620-6cbf-477e-a986-4ae5506f82c3",
   "metadata": {},
   "source": [
    "#### **이터레이터의 개념은 디버깅에 응용이 가능하다.**"
   ]
  },
  {
   "cell_type": "code",
   "execution_count": 61,
   "id": "38413729-a3a8-436a-a2af-62d6ef0e1fea",
   "metadata": {},
   "outputs": [
    {
     "name": "stdout",
     "output_type": "stream",
     "text": [
      "(1, 'a')\n",
      "(2, 'b')\n",
      "(3, 'c')\n"
     ]
    }
   ],
   "source": [
    "for i in zip([1,2,3],'abc'):\n",
    "    print(i)"
   ]
  },
  {
   "cell_type": "code",
   "execution_count": 62,
   "id": "de252d33-49f3-4b3a-834d-65c33bddb906",
   "metadata": {},
   "outputs": [
    {
     "data": {
      "text/plain": [
       "<zip at 0x7fa6404bb580>"
      ]
     },
     "execution_count": 62,
     "metadata": {},
     "output_type": "execute_result"
    }
   ],
   "source": [
    "zip([1,2,3],'abc')"
   ]
  },
  {
   "cell_type": "markdown",
   "id": "a2ce8eea-e9dd-4a99-86c3-24b72f40edf2",
   "metadata": {},
   "source": [
    "어차피 `for i in ????:` ????의 자리는 iterable object 자리이다. "
   ]
  },
  {
   "cell_type": "code",
   "execution_count": 63,
   "id": "7100daaf-62c9-4bec-9a1b-316314f078a5",
   "metadata": {},
   "outputs": [],
   "source": [
    "z=zip([1,2,3],'abc')"
   ]
  },
  {
   "cell_type": "code",
   "execution_count": 64,
   "id": "556c239e-6806-4018-9a07-987eb83a6ccc",
   "metadata": {},
   "outputs": [
    {
     "data": {
      "text/plain": [
       "['__class__',\n",
       " '__delattr__',\n",
       " '__dir__',\n",
       " '__doc__',\n",
       " '__eq__',\n",
       " '__format__',\n",
       " '__ge__',\n",
       " '__getattribute__',\n",
       " '__gt__',\n",
       " '__hash__',\n",
       " '__init__',\n",
       " '__init_subclass__',\n",
       " '__iter__',\n",
       " '__le__',\n",
       " '__lt__',\n",
       " '__ne__',\n",
       " '__new__',\n",
       " '__next__',\n",
       " '__reduce__',\n",
       " '__reduce_ex__',\n",
       " '__repr__',\n",
       " '__setattr__',\n",
       " '__sizeof__',\n",
       " '__str__',\n",
       " '__subclasshook__']"
      ]
     },
     "execution_count": 64,
     "metadata": {},
     "output_type": "execute_result"
    }
   ],
   "source": [
    "dir(z)"
   ]
  },
  {
   "cell_type": "markdown",
   "id": "374aa244-2f17-4077-a584-803a9edbd515",
   "metadata": {},
   "source": [
    "`-` `__next__()`함수가 있음 $\\to$ z자체가 iterable object 이면서 iterator였다."
   ]
  },
  {
   "cell_type": "code",
   "execution_count": 68,
   "id": "44e71b66-dca2-45aa-992c-bd9feadea5ea",
   "metadata": {},
   "outputs": [
    {
     "ename": "StopIteration",
     "evalue": "",
     "output_type": "error",
     "traceback": [
      "\u001b[0;31m---------------------------------------------------------------------------\u001b[0m",
      "\u001b[0;31mStopIteration\u001b[0m                             Traceback (most recent call last)",
      "\u001b[0;32m/tmp/ipykernel_23225/4267025455.py\u001b[0m in \u001b[0;36m<module>\u001b[0;34m\u001b[0m\n\u001b[0;32m----> 1\u001b[0;31m \u001b[0mz\u001b[0m\u001b[0;34m.\u001b[0m\u001b[0m__next__\u001b[0m\u001b[0;34m(\u001b[0m\u001b[0;34m)\u001b[0m\u001b[0;34m\u001b[0m\u001b[0;34m\u001b[0m\u001b[0m\n\u001b[0m",
      "\u001b[0;31mStopIteration\u001b[0m: "
     ]
    }
   ],
   "source": [
    "z.__next__()"
   ]
  },
  {
   "cell_type": "markdown",
   "id": "68b85a05-c1cc-4833-8264-633dc62672d3",
   "metadata": {},
   "source": [
    "`-` ???? 자리에 iterator 자체가와도 무방할것 같다. "
   ]
  },
  {
   "cell_type": "markdown",
   "id": "f8fe116b-4f2e-41fa-9ce0-d5e491842ac6",
   "metadata": {},
   "source": [
    "`-` 확인 $\\to$ 가능하다!"
   ]
  },
  {
   "cell_type": "code",
   "execution_count": 72,
   "id": "d1f665ba-ab45-48d8-88d6-df02e5c96f74",
   "metadata": {},
   "outputs": [
    {
     "name": "stdout",
     "output_type": "stream",
     "text": [
      "1\n",
      "2\n",
      "3\n",
      "4\n"
     ]
    }
   ],
   "source": [
    "L=iter([1,2,3,4])\n",
    "for i in L:\n",
    "    print(i)"
   ]
  }
 ],
 "metadata": {
  "kernelspec": {
   "display_name": "Python 3 (ipykernel)",
   "language": "python",
   "name": "python3"
  },
  "language_info": {
   "codemirror_mode": {
    "name": "ipython",
    "version": 3
   },
   "file_extension": ".py",
   "mimetype": "text/x-python",
   "name": "python",
   "nbconvert_exporter": "python",
   "pygments_lexer": "ipython3",
   "version": "3.8.11"
  }
 },
 "nbformat": 4,
 "nbformat_minor": 5
}
