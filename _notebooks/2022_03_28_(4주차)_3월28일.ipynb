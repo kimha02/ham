{
 "cells": [
  {
   "cell_type": "markdown",
   "id": "4a733813-1b35-4d41-839e-0efdb1da5c6e",
   "metadata": {
    "id": "4a733813-1b35-4d41-839e-0efdb1da5c6e"
   },
   "source": [
    "# (4주차) 3월28일\n",
    "> GradientTape 보충, **경사하강법**, 학습률\n",
    "- toc:true\n",
    "- branch: master\n",
    "- badges: true\n",
    "- comments: true\n",
    "- author: 최규빈\n",
    "- categories: [Bigdata]"
   ]
  },
  {
   "cell_type": "markdown",
   "id": "a9756b93-8999-4711-9404-09f229e799b7",
   "metadata": {
    "id": "a9756b93-8999-4711-9404-09f229e799b7"
   },
   "source": [
    "---"
   ]
  },
  {
   "cell_type": "code",
   "execution_count": 1,
   "id": "4b9ea442-5a51-46a5-a735-3441c4788e86",
   "metadata": {},
   "outputs": [],
   "source": [
    "import matplotlib.pyplot as plt \n",
    "import tensorflow as tf \n",
    "import numpy as np"
   ]
  },
  {
   "cell_type": "code",
   "execution_count": 2,
   "id": "338b7541-0fe9-4382-9599-47435c0ff185",
   "metadata": {},
   "outputs": [],
   "source": [
    "import tensorflow.experimental.numpy as tnp"
   ]
  },
  {
   "cell_type": "code",
   "execution_count": 63,
   "id": "eb11f984-fa68-48b3-af52-d791e9d83a00",
   "metadata": {},
   "outputs": [],
   "source": [
    "import matplotlib.pyplot as plt "
   ]
  },
  {
   "cell_type": "code",
   "execution_count": 3,
   "id": "e37bca2e-16dc-48e2-a7c6-9f63a374d718",
   "metadata": {},
   "outputs": [],
   "source": [
    "tnp.experimental_enable_numpy_behavior()"
   ]
  },
  {
   "cell_type": "markdown",
   "id": "0f2afc92-f05c-4dfa-b202-30bd166f54a5",
   "metadata": {
    "id": "0f2afc92-f05c-4dfa-b202-30bd166f54a5"
   },
   "source": [
    "### 미분 "
   ]
  },
  {
   "cell_type": "markdown",
   "id": "d800db5c-6c4a-4e44-9b6c-73e2ecd06c7e",
   "metadata": {
    "id": "d800db5c-6c4a-4e44-9b6c-73e2ecd06c7e"
   },
   "source": [
    "#### tf.GradientTape() 사용방법"
   ]
  },
  {
   "cell_type": "markdown",
   "id": "cbd7d77f-4b57-48fb-8520-b4b86722c973",
   "metadata": {
    "id": "cbd7d77f-4b57-48fb-8520-b4b86722c973"
   },
   "source": [
    "`-` 예제9: 카페 예제로 돌아오자. "
   ]
  },
  {
   "cell_type": "code",
   "execution_count": 4,
   "id": "7c428ecf-e850-4157-a79b-3080b418711c",
   "metadata": {},
   "outputs": [
    {
     "name": "stderr",
     "output_type": "stream",
     "text": [
      "2022-03-28 19:21:12.403805: I tensorflow/stream_executor/cuda/cuda_gpu_executor.cc:939] successful NUMA node read from SysFS had negative value (-1), but there must be at least one NUMA node, so returning NUMA node zero\n",
      "2022-03-28 19:21:12.424856: I tensorflow/stream_executor/cuda/cuda_gpu_executor.cc:939] successful NUMA node read from SysFS had negative value (-1), but there must be at least one NUMA node, so returning NUMA node zero\n",
      "2022-03-28 19:21:12.425236: I tensorflow/stream_executor/cuda/cuda_gpu_executor.cc:939] successful NUMA node read from SysFS had negative value (-1), but there must be at least one NUMA node, so returning NUMA node zero\n",
      "2022-03-28 19:21:12.425800: I tensorflow/core/platform/cpu_feature_guard.cc:151] This TensorFlow binary is optimized with oneAPI Deep Neural Network Library (oneDNN) to use the following CPU instructions in performance-critical operations:  SSE4.1 SSE4.2 AVX AVX2 FMA\n",
      "To enable them in other operations, rebuild TensorFlow with the appropriate compiler flags.\n",
      "2022-03-28 19:21:12.426165: I tensorflow/stream_executor/cuda/cuda_gpu_executor.cc:939] successful NUMA node read from SysFS had negative value (-1), but there must be at least one NUMA node, so returning NUMA node zero\n",
      "2022-03-28 19:21:12.426536: I tensorflow/stream_executor/cuda/cuda_gpu_executor.cc:939] successful NUMA node read from SysFS had negative value (-1), but there must be at least one NUMA node, so returning NUMA node zero\n",
      "2022-03-28 19:21:12.426887: I tensorflow/stream_executor/cuda/cuda_gpu_executor.cc:939] successful NUMA node read from SysFS had negative value (-1), but there must be at least one NUMA node, so returning NUMA node zero\n",
      "2022-03-28 19:21:13.397834: I tensorflow/stream_executor/cuda/cuda_gpu_executor.cc:939] successful NUMA node read from SysFS had negative value (-1), but there must be at least one NUMA node, so returning NUMA node zero\n",
      "2022-03-28 19:21:13.398221: I tensorflow/stream_executor/cuda/cuda_gpu_executor.cc:939] successful NUMA node read from SysFS had negative value (-1), but there must be at least one NUMA node, so returning NUMA node zero\n",
      "2022-03-28 19:21:13.398573: I tensorflow/stream_executor/cuda/cuda_gpu_executor.cc:939] successful NUMA node read from SysFS had negative value (-1), but there must be at least one NUMA node, so returning NUMA node zero\n",
      "2022-03-28 19:21:13.398922: I tensorflow/core/common_runtime/gpu/gpu_device.cc:1525] Created device /job:localhost/replica:0/task:0/device:GPU:0 with 12486 MB memory:  -> device: 0, name: NVIDIA GeForce RTX 3090, pci bus id: 0000:09:00.0, compute capability: 8.6\n"
     ]
    }
   ],
   "source": [
    "x=tnp.array([20.1, 22.2, 22.7, 23.3, 24.4, 25.1, 26.2, 27.3, 28.4, 30.4])"
   ]
  },
  {
   "cell_type": "code",
   "execution_count": 5,
   "id": "f598ee53-bd2a-4f3c-be0c-fa414032759f",
   "metadata": {},
   "outputs": [],
   "source": [
    "tf.random.set_seed(43052)\n",
    "epsilon=tf.random.normal([10])\n",
    "y=10.2 + 2.2*x + epsilon"
   ]
  },
  {
   "cell_type": "code",
   "execution_count": 6,
   "id": "33bb39d6-baf5-4188-b013-8e158b0d9667",
   "metadata": {},
   "outputs": [
    {
     "data": {
      "text/plain": [
       "<tf.Tensor: shape=(10,), dtype=float64, numpy=\n",
       "array([55.4183651 , 58.19427589, 61.23082496, 62.31255873, 63.1070028 ,\n",
       "       63.69569103, 67.24704918, 71.43650092, 73.10130336, 77.84988286])>"
      ]
     },
     "execution_count": 6,
     "metadata": {},
     "output_type": "execute_result"
    }
   ],
   "source": [
    "y  #잘 생성되었다."
   ]
  },
  {
   "cell_type": "code",
   "execution_count": 7,
   "id": "e83b93a3-e8ed-404f-a46e-3b6a62a024e1",
   "metadata": {},
   "outputs": [],
   "source": [
    "beta0 = tf.Variable(9.0)\n",
    "beta1 = tf.Variable(2.0)"
   ]
  },
  {
   "cell_type": "code",
   "execution_count": 8,
   "id": "bac950e2-e984-47af-b42a-878d991cfc98",
   "metadata": {},
   "outputs": [],
   "source": [
    "with tf.GradientTape(persistent=True) as tape:\n",
    "    loss = sum((y-beta1*x-beta0)**2)"
   ]
  },
  {
   "cell_type": "code",
   "execution_count": 9,
   "id": "98fdb76c-6895-4623-b814-ca4a94f5748c",
   "metadata": {},
   "outputs": [
    {
     "data": {
      "text/plain": [
       "(<tf.Tensor: shape=(), dtype=float32, numpy=-126.78691>,\n",
       " <tf.Tensor: shape=(), dtype=float32, numpy=-3208.8396>)"
      ]
     },
     "execution_count": 9,
     "metadata": {},
     "output_type": "execute_result"
    }
   ],
   "source": [
    "tape.gradient(loss, beta0), tape.gradient(loss, beta1)  #loss의 미분값"
   ]
  },
  {
   "cell_type": "markdown",
   "id": "9a8e8dd5-d515-4327-98ad-8d7c36edf0d1",
   "metadata": {
    "id": "9a8e8dd5-d515-4327-98ad-8d7c36edf0d1"
   },
   "source": [
    "`-` 🥸시험🥸 **예제10: 카페 예제의 매트릭스 버전** "
   ]
  },
  {
   "cell_type": "code",
   "execution_count": 10,
   "id": "88fc6dc3-7d7b-45d2-afc4-0f339b486f87",
   "metadata": {},
   "outputs": [
    {
     "data": {
      "text/plain": [
       "<tf.Tensor: shape=(10, 2), dtype=float64, numpy=\n",
       "array([[ 1. , 20.1],\n",
       "       [ 1. , 22.2],\n",
       "       [ 1. , 22.7],\n",
       "       [ 1. , 23.3],\n",
       "       [ 1. , 24.4],\n",
       "       [ 1. , 25.1],\n",
       "       [ 1. , 26.2],\n",
       "       [ 1. , 27.3],\n",
       "       [ 1. , 28.4],\n",
       "       [ 1. , 30.4]])>"
      ]
     },
     "execution_count": 10,
     "metadata": {},
     "output_type": "execute_result"
    }
   ],
   "source": [
    "X=tnp.array([1]*10+[20.1, 22.2, 22.7, 23.3, 24.4, 25.1, 26.2, 27.3, 28.4, 30.4]).reshape(2,10).T\n",
    "X"
   ]
  },
  {
   "cell_type": "code",
   "execution_count": 11,
   "id": "eb8bbade-4e6c-44d8-92dd-dadcccdbf587",
   "metadata": {},
   "outputs": [
    {
     "data": {
      "text/plain": [
       "<tf.Tensor: shape=(2, 1), dtype=float64, numpy=\n",
       "array([[9.],\n",
       "       [2.]])>"
      ]
     },
     "execution_count": 11,
     "metadata": {},
     "output_type": "execute_result"
    }
   ],
   "source": [
    "beta = tnp.array([9.0,2.0]).reshape(2,1)\n",
    "beta"
   ]
  },
  {
   "cell_type": "code",
   "execution_count": 14,
   "id": "bad39c74-4c8e-46f0-a29c-8e2180efc5c2",
   "metadata": {},
   "outputs": [
    {
     "data": {
      "text/plain": [
       "<tf.Tensor: shape=(10, 1), dtype=float64, numpy=\n",
       "array([[55.4183651 ],\n",
       "       [58.19427589],\n",
       "       [61.23082496],\n",
       "       [62.31255873],\n",
       "       [63.1070028 ],\n",
       "       [63.69569103],\n",
       "       [67.24704918],\n",
       "       [71.43650092],\n",
       "       [73.10130336],\n",
       "       [77.84988286]])>"
      ]
     },
     "execution_count": 14,
     "metadata": {},
     "output_type": "execute_result"
    }
   ],
   "source": [
    "beta_true = tnp.array([10.2,2.2]).reshape(2,1)\n",
    "y = X @ beta_true + epsilon.reshape(10,1)\n",
    "y"
   ]
  },
  {
   "cell_type": "code",
   "execution_count": 22,
   "id": "9b0cc18f-612b-4708-be62-dd17269f16ba",
   "metadata": {},
   "outputs": [],
   "source": [
    "with tf.GradientTape(persistent=True) as tape:\n",
    "    tape.watch(beta)  #constant일 때, 꼭 확인\n",
    "    yhat = X@beta\n",
    "    loss = (y-yhat).T @ (y-yhat)"
   ]
  },
  {
   "cell_type": "code",
   "execution_count": 23,
   "id": "8a9fa482-5e4f-428d-a0a8-fb862cbda88b",
   "metadata": {},
   "outputs": [
    {
     "data": {
      "text/plain": [
       "<tf.Tensor: shape=(2, 1), dtype=float64, numpy=\n",
       "array([[ -126.78690968],\n",
       "       [-3208.83947922]])>"
      ]
     },
     "execution_count": 23,
     "metadata": {},
     "output_type": "execute_result"
    }
   ],
   "source": [
    "tape.gradient(loss,beta)"
   ]
  },
  {
   "cell_type": "markdown",
   "id": "adc950f4-cd52-48e1-8d45-e7fd52daa84b",
   "metadata": {},
   "source": [
    "`-` 위의 이론적인 값을 확인하면"
   ]
  },
  {
   "cell_type": "code",
   "execution_count": 32,
   "id": "f49c43e5-b9e3-4cfb-a69b-2f0b1d6d6c1d",
   "metadata": {},
   "outputs": [
    {
     "data": {
      "text/plain": [
       "<tf.Tensor: shape=(2, 1), dtype=float64, numpy=\n",
       "array([[ -126.78690968],\n",
       "       [-3208.83947922]])>"
      ]
     },
     "execution_count": 32,
     "metadata": {},
     "output_type": "execute_result"
    }
   ],
   "source": [
    "-2 * X.T @ y + 2 * X.T @ X @ beta  #loss"
   ]
  },
  {
   "cell_type": "markdown",
   "id": "61f3450d-65d3-469a-af17-ee5caf4824f0",
   "metadata": {
    "id": "61f3450d-65d3-469a-af17-ee5caf4824f0"
   },
   "source": [
    "`-` 🥸시험🥸 **예제11: 위의 예제에서 이론적인 $\\boldsymbol{\\beta}$의 최적값을 찾아보고 (즉 $\\boldsymbol{\\hat\\beta}$을 찾고) 그 지점에서 loss의 미분값(=접선의 기울기)를 구하라. 결과가 $\\bf{0}$인지 확인하라. (단 ${\\bf 0}$은 길이가 2이고 각 원소가 0인 벡터)**"
   ]
  },
  {
   "cell_type": "markdown",
   "id": "bedb7f27-9a12-4a5f-baaa-a7d3019d1661",
   "metadata": {},
   "source": [
    "$\\boldsymbol{\\beta}$의 최적값은 $({\\bf X}^\\top {\\bf X})^{-1}{\\bf X}^\\top {\\bf y} $ 이다."
   ]
  },
  {
   "cell_type": "code",
   "execution_count": 33,
   "id": "b4c4c09b-c9d8-4b11-a6fd-d43a819f00fa",
   "metadata": {},
   "outputs": [
    {
     "data": {
      "text/plain": [
       "<tf.Tensor: shape=(2, 1), dtype=float64, numpy=\n",
       "array([[9.94457324],\n",
       "       [2.21570461]])>"
      ]
     },
     "execution_count": 33,
     "metadata": {},
     "output_type": "execute_result"
    }
   ],
   "source": [
    "beta_optimal = tf.linalg.inv(X.T @ X) @ X.T @ y\n",
    "beta_optimal"
   ]
  },
  {
   "cell_type": "code",
   "execution_count": 34,
   "id": "0f8e7ec1-e973-4647-95bc-75ba6e711aa0",
   "metadata": {},
   "outputs": [],
   "source": [
    "with tf.GradientTape(persistent=True) as tape:\n",
    "    tape.watch(beta_optimal)  \n",
    "    yhat = X@beta_optimal\n",
    "    loss = (y-yhat).T @ (y-yhat)"
   ]
  },
  {
   "cell_type": "code",
   "execution_count": 35,
   "id": "ae411046-8d8b-4da9-be1d-97c5303e1096",
   "metadata": {},
   "outputs": [
    {
     "data": {
      "text/plain": [
       "<tf.Tensor: shape=(2, 1), dtype=float64, numpy=\n",
       "array([[-6.67910172e-12],\n",
       "       [-1.67774636e-10]])>"
      ]
     },
     "execution_count": 35,
     "metadata": {},
     "output_type": "execute_result"
    }
   ],
   "source": [
    "tape.gradient(loss,beta_optimal)"
   ]
  },
  {
   "cell_type": "markdown",
   "id": "944acc4c-39fe-4da3-bc35-040875408adf",
   "metadata": {},
   "source": [
    "`-` beta_true에서의 기울기도 계산해보자."
   ]
  },
  {
   "cell_type": "code",
   "execution_count": 37,
   "id": "52ff7b79-7474-4fe0-a86c-5d8b6e338e53",
   "metadata": {},
   "outputs": [],
   "source": [
    "with tf.GradientTape(persistent=True) as tape:\n",
    "    tape.watch(beta_true)  \n",
    "    yhat = X@beta_true\n",
    "    loss = (y-yhat).T @ (y-yhat)"
   ]
  },
  {
   "cell_type": "code",
   "execution_count": 38,
   "id": "de050d1e-4a1f-48e3-b6c6-8c18e7e6e153",
   "metadata": {},
   "outputs": [
    {
     "data": {
      "text/plain": [
       "<tf.Tensor: shape=(2, 1), dtype=float64, numpy=\n",
       "array([[ -2.74690968],\n",
       "       [-71.45947922]])>"
      ]
     },
     "execution_count": 38,
     "metadata": {},
     "output_type": "execute_result"
    }
   ],
   "source": [
    "tape.gradient(loss,beta_true)"
   ]
  },
  {
   "cell_type": "markdown",
   "id": "21c6f955-1f15-4891-af95-99d24fdf19b1",
   "metadata": {},
   "source": [
    "- 현재에서는 true값보다 optimal에서 기울기가 더 작게 나타남.\n",
    "- 샘플 사이즈가 커질수록 tape.gradient(loss,beta_true) $\\approx$ tape.gradient(loss,beta_optimal)\n",
    "- `beta_true` $\\approx$ `beta_optimal`"
   ]
  },
  {
   "cell_type": "markdown",
   "id": "1b0362af-5ffb-4070-a444-90e8e4d6ccae",
   "metadata": {},
   "source": [
    "---"
   ]
  },
  {
   "cell_type": "markdown",
   "id": "1bdd3374-7884-485a-acb9-3ffba10e4aed",
   "metadata": {
    "id": "1bdd3374-7884-485a-acb9-3ffba10e4aed"
   },
   "source": [
    "## 경사하강법 "
   ]
  },
  {
   "cell_type": "markdown",
   "id": "2533e309-a267-4807-aa6c-fee7efb873f9",
   "metadata": {
    "id": "2533e309-a267-4807-aa6c-fee7efb873f9"
   },
   "source": [
    "### 최적화문제 "
   ]
  },
  {
   "cell_type": "markdown",
   "id": "34c07436-0452-4003-b565-9d6d923f4a3b",
   "metadata": {
    "id": "34c07436-0452-4003-b565-9d6d923f4a3b"
   },
   "source": [
    "`-` $loss=(\\frac{1}{2}\\beta-1)^2$를 최소하는 $\\beta$를 컴퓨터를 활용하여 구하는 문제를 생각해보자.  \n",
    "- 답은 $\\beta=2$임을 알고 있다."
   ]
  },
  {
   "cell_type": "markdown",
   "id": "77d075a4-3d9a-4a65-91ad-72bbc7beb98b",
   "metadata": {
    "id": "77d075a4-3d9a-4a65-91ad-72bbc7beb98b"
   },
   "source": [
    "### 방법1: grid search"
   ]
  },
  {
   "cell_type": "markdown",
   "id": "c62a0eec-a902-467c-bdc7-8055ffce0be7",
   "metadata": {
    "id": "c62a0eec-a902-467c-bdc7-8055ffce0be7",
    "tags": []
   },
   "source": [
    "#### 알고리즘 "
   ]
  },
  {
   "cell_type": "markdown",
   "id": "8efbd524-af8f-443e-b15a-bd82c6625579",
   "metadata": {},
   "source": [
    "(1) $beta = [-10.00, -9.99, ... , 10.00]$와 같은 리스트를 만든다.\n",
    "\n",
    "(2) (1)의 리스트의 각 원소에 해당하는 $loss$를 구한다.\n",
    "\n",
    "(3) (2)에서 구한 $loss$를 제일 작게 만드는 $beta$를 찾는다."
   ]
  },
  {
   "cell_type": "markdown",
   "id": "da611891-726e-4ed9-aed4-b573ce16dccd",
   "metadata": {
    "id": "da611891-726e-4ed9-aed4-b573ce16dccd"
   },
   "source": [
    "#### 구현코드 "
   ]
  },
  {
   "cell_type": "code",
   "execution_count": 53,
   "id": "88a83bde-89bc-4d68-810d-fea9105d0baa",
   "metadata": {},
   "outputs": [],
   "source": [
    "beta = np.linspace(-10,10,100)\n",
    "loss = (beta/2-1)**2"
   ]
  },
  {
   "cell_type": "markdown",
   "id": "3d92f177-b63a-4aa1-a3fd-03291b6fcdbc",
   "metadata": {},
   "source": [
    "- 먼저 연습~"
   ]
  },
  {
   "cell_type": "code",
   "execution_count": 45,
   "id": "6ec3ace0-60f5-45de-b19c-1d2301dc3e67",
   "metadata": {},
   "outputs": [
    {
     "data": {
      "text/plain": [
       "<tf.Tensor: shape=(), dtype=int64, numpy=2>"
      ]
     },
     "execution_count": 45,
     "metadata": {},
     "output_type": "execute_result"
    }
   ],
   "source": [
    "tnp.argmin([1,2,-3,3,4])"
   ]
  },
  {
   "cell_type": "code",
   "execution_count": 46,
   "id": "2712ecf7-2a7b-4784-b81c-e7df9a257117",
   "metadata": {},
   "outputs": [
    {
     "data": {
      "text/plain": [
       "<tf.Tensor: shape=(), dtype=int64, numpy=3>"
      ]
     },
     "execution_count": 46,
     "metadata": {},
     "output_type": "execute_result"
    }
   ],
   "source": [
    "tnp.argmin([1,2,3,-3,4])"
   ]
  },
  {
   "cell_type": "markdown",
   "id": "f97c689f-5f43-40cc-b1be-8186baf688a8",
   "metadata": {},
   "source": [
    "- 대입하면"
   ]
  },
  {
   "cell_type": "code",
   "execution_count": 51,
   "id": "e1e93838-51ea-4dda-a51c-c5e1ae4a6477",
   "metadata": {},
   "outputs": [
    {
     "data": {
      "text/plain": [
       "<tf.Tensor: shape=(), dtype=int64, numpy=59>"
      ]
     },
     "execution_count": 51,
     "metadata": {},
     "output_type": "execute_result"
    }
   ],
   "source": [
    "tnp.argmin(loss)"
   ]
  },
  {
   "cell_type": "markdown",
   "id": "a2495aa5-d231-4bac-9584-5eb5e8963f67",
   "metadata": {},
   "source": [
    "- 비슷한 값끼리 비교하려면"
   ]
  },
  {
   "cell_type": "code",
   "execution_count": 52,
   "id": "fc51f282-7466-40ed-92e2-de3735d8aa60",
   "metadata": {},
   "outputs": [
    {
     "data": {
      "text/plain": [
       "0.0016324864809713505"
      ]
     },
     "execution_count": 52,
     "metadata": {},
     "output_type": "execute_result"
    }
   ],
   "source": [
    "(beta[59]/2-1)**2   #beta[59]가 최적이다"
   ]
  },
  {
   "cell_type": "code",
   "execution_count": 50,
   "id": "9f687f77-ec78-4e74-abde-d9763b86849d",
   "metadata": {},
   "outputs": [
    {
     "data": {
      "text/plain": [
       "0.0036730945821854847"
      ]
     },
     "execution_count": 50,
     "metadata": {},
     "output_type": "execute_result"
    }
   ],
   "source": [
    "(beta[60]/2-1)**2"
   ]
  },
  {
   "cell_type": "markdown",
   "id": "77a4415a-b109-4a24-a4df-93165d411d61",
   "metadata": {
    "id": "77a4415a-b109-4a24-a4df-93165d411d61"
   },
   "source": [
    "#### 그리드서치의 문제점 "
   ]
  },
  {
   "cell_type": "markdown",
   "id": "98ce2838-514c-4df2-bb70-1444deb88e7b",
   "metadata": {
    "id": "98ce2838-514c-4df2-bb70-1444deb88e7b"
   },
   "source": [
    "`-` 비판1: [-10,10]이외에 해가 존재하면? \n",
    "- 이 예제의 경우는 운좋게 [-10,10]에서 해가 존재했음\n",
    "- 하지만 임의의 고정된 $x,y$에 대하여 $loss(\\beta)=(x\\beta-y)^2$ 의 형태의 해가 항상 [-10,10]에서 존재한다는 보장은 없음\n",
    "- 해결책: 더 넓게 많은 범위를 탐색하자? $\\to$ 무한대로 나아갈 수는 없기 때문에 해결책은 아니다.."
   ]
  },
  {
   "cell_type": "markdown",
   "id": "aafe2234-aab7-4d4e-961c-ad8751bd1ee5",
   "metadata": {
    "id": "aafe2234-aab7-4d4e-961c-ad8751bd1ee5"
   },
   "source": [
    "`-` 비판2: 효율적이지 않음\n",
    "- 알고리즘을 요약하면 결국 -10부터 10까지 작은 간격으로 조금씩 이동하며 loss를 조사하는 것이 grid search의 아이디어 \n",
    "- $\\to$ 생각해보니까 $\\beta=2$인 순간 $loss=(\\frac{1}{2}\\beta-1)^2=0$이 되어서 이것보다 작은 최소값은 존재하지 않는다(제곱은 항상 양수이어야 하므로)\n",
    "- $\\to$ 따라서 $\\beta=2$ 이후로는 탐색할 필요가 없다 "
   ]
  },
  {
   "cell_type": "markdown",
   "id": "635f0538-144e-40f9-9dbd-ef1b15e07cf4",
   "metadata": {
    "id": "635f0538-144e-40f9-9dbd-ef1b15e07cf4",
    "tags": []
   },
   "source": [
    "### 방법2: gradient descent"
   ]
  },
  {
   "cell_type": "markdown",
   "id": "3f08788e-94cf-4bc1-ac35-4272cf0ab67f",
   "metadata": {
    "id": "3f08788e-94cf-4bc1-ac35-4272cf0ab67f"
   },
   "source": [
    "#### 알고리즘!"
   ]
  },
  {
   "cell_type": "markdown",
   "id": "73c33f23-7924-426b-be90-71a9f3fa69d3",
   "metadata": {},
   "source": [
    "(1) $beta = -5$ 로 셋팅한다.  #초기값 세팅"
   ]
  },
  {
   "cell_type": "code",
   "execution_count": 54,
   "id": "fb9a5166-041c-44b5-8f1c-4aeae2107114",
   "metadata": {},
   "outputs": [
    {
     "data": {
      "text/plain": [
       "12.25"
      ]
     },
     "execution_count": 54,
     "metadata": {},
     "output_type": "execute_result"
    }
   ],
   "source": [
    "(-5/2-1)**2"
   ]
  },
  {
   "cell_type": "markdown",
   "id": "c32036bc-27f3-4336-bcc3-d7410d5fc497",
   "metadata": {},
   "source": [
    "(2) $beta = -5$ 근처에서 조금씩 이동하여 $loss$를 조사한다.  #미분"
   ]
  },
  {
   "cell_type": "code",
   "execution_count": 55,
   "id": "5fe28018-4701-48c2-a95c-e9ffde2b4f7a",
   "metadata": {},
   "outputs": [
    {
     "data": {
      "text/plain": [
       "12.215025"
      ]
     },
     "execution_count": 55,
     "metadata": {},
     "output_type": "execute_result"
    }
   ],
   "source": [
    "(-4.99/2-1)**2   #오른쪽으로 0.01 이동 후 loss 조사"
   ]
  },
  {
   "cell_type": "code",
   "execution_count": 57,
   "id": "cb46b119-8f83-4707-aa7f-4ffcf28f0cf6",
   "metadata": {},
   "outputs": [
    {
     "data": {
      "text/plain": [
       "12.285025"
      ]
     },
     "execution_count": 57,
     "metadata": {},
     "output_type": "execute_result"
    }
   ],
   "source": [
    "(-5.01/2-1)**2   #왼쪽으로 0.01 이동 후 loss 조사"
   ]
  },
  {
   "cell_type": "markdown",
   "id": "087f17d6-0e55-4913-84a1-fe929755cf74",
   "metadata": {},
   "source": [
    "(3) (2)의 결과를 잘 해석하고 더 유리한 쪽으로 이동한다."
   ]
  },
  {
   "cell_type": "markdown",
   "id": "f784d6a7-749d-47d7-bd36-63fff2931934",
   "metadata": {},
   "source": [
    "(4) 위의 과정을 반복하고 어느 쪽으로 움직여도 이득이 없다면 멈춘다."
   ]
  },
  {
   "cell_type": "markdown",
   "id": "74f370cb-6acb-4f84-be83-7cffdb706a97",
   "metadata": {
    "id": "74f370cb-6acb-4f84-be83-7cffdb706a97"
   },
   "source": [
    "#### 알고리즘 분석 "
   ]
  },
  {
   "cell_type": "markdown",
   "id": "179d717a-b1b0-4067-96a1-089a21c16e77",
   "metadata": {},
   "source": [
    "`-` (2)-(3)의 과정은 `$beta=-5$에서 미분계수를 구하고 미분계수가 양수이면 왼쪽으로, 음수이면 오른쪽으로 움직인다`고 해석이 가능하다. 아래 그림을 보면 더 이해가 쉽다."
   ]
  },
  {
   "cell_type": "code",
   "execution_count": 64,
   "id": "7b672202-2cc0-4eb9-9a63-67176740039c",
   "metadata": {},
   "outputs": [
    {
     "data": {
      "text/plain": [
       "[<matplotlib.lines.Line2D at 0x7fd66026ac80>]"
      ]
     },
     "execution_count": 64,
     "metadata": {},
     "output_type": "execute_result"
    },
    {
     "data": {
      "image/png": "[encoded data removed]",
      "text/plain": [
       "<Figure size 432x288 with 1 Axes>"
      ]
     },
     "metadata": {
      "needs_background": "light"
     },
     "output_type": "display_data"
    }
   ],
   "source": [
    "plt.plot(beta, loss)"
   ]
  },
  {
   "cell_type": "markdown",
   "id": "2cc8d193-d0d1-4441-94c7-03cf3c461b45",
   "metadata": {
    "id": "2cc8d193-d0d1-4441-94c7-03cf3c461b45"
   },
   "source": [
    "#### 왼쪽/오른쪽중에 어디로 갈지 어떻게 판단하는 과정을 수식화?"
   ]
  },
  {
   "cell_type": "markdown",
   "id": "f6b6374a-086e-4bbb-a996-da8fea9a2c62",
   "metadata": {},
   "source": [
    "`-` 아래와 같이 해석이 가능하다."
   ]
  },
  {
   "cell_type": "markdown",
   "id": "b6f31c5d-c25d-4b48-a6c3-a1003564ee72",
   "metadata": {},
   "source": [
    "- 오른쪽으로 0.01 간다 = beta_old에 0.01을 더함. (if, 미분계수가 음수이면)\n",
    "- 왼쪽으로 0.01 간다 = beta_old에 0.01을 빼야 함. (if, 미분계수가 양수이면)"
   ]
  },
  {
   "cell_type": "markdown",
   "id": "1644341a-1d27-4353-aee1-5fb01b50587d",
   "metadata": {},
   "source": [
    "`-` 그렇다면\n",
    "\n",
    "$\\beta_{new} = \n",
    "\\begin{cases}\n",
    "\\beta_{old} + 0.01, &loss'(\\beta_{old})<0 \\\\\n",
    "\\beta_{old} - 0.01, & loss'(\\beta_{old})>0\n",
    "\\end{cases}$"
   ]
  },
  {
   "cell_type": "markdown",
   "id": "a0647403-dbd6-4bcf-8c8b-162177997a40",
   "metadata": {
    "id": "a0647403-dbd6-4bcf-8c8b-162177997a40"
   },
   "source": [
    "#### 혹시 알고리즘을 좀 개선할수 있을까?"
   ]
  },
  {
   "cell_type": "markdown",
   "id": "6d2837e3-72f7-4d64-ae3b-ae8e51d777df",
   "metadata": {},
   "source": [
    "`-` 항상 0.01 만큼만 움직여야 하는가?"
   ]
  },
  {
   "cell_type": "code",
   "execution_count": 64,
   "id": "b851b7dc-b2a9-4251-9dcd-55008a366b09",
   "metadata": {},
   "outputs": [
    {
     "data": {
      "text/plain": [
       "[<matplotlib.lines.Line2D at 0x7fd66026ac80>]"
      ]
     },
     "execution_count": 64,
     "metadata": {},
     "output_type": "execute_result"
    },
    {
     "data": {
      "image/png": "[encoded data removed]",
      "text/plain": [
       "<Figure size 432x288 with 1 Axes>"
      ]
     },
     "metadata": {
      "needs_background": "light"
     },
     "output_type": "display_data"
    }
   ],
   "source": [
    "plt.plot(beta, loss)"
   ]
  },
  {
   "cell_type": "markdown",
   "id": "d8dfd3ce-1033-4e52-b32c-596b511b580f",
   "metadata": {},
   "source": [
    "$\\to$ 최적점에서 가까울수록 보폭이 작으면 좋겠다.  \n",
    "$\\to$ 음/양수에 따라서 방향을, 절댓값 크기에 따라 보폭 크기를 정하면 되겠다!"
   ]
  },
  {
   "cell_type": "markdown",
   "id": "d65df75b-a7ca-465a-9372-6dbc8a657ba0",
   "metadata": {
    "id": "d65df75b-a7ca-465a-9372-6dbc8a657ba0"
   },
   "source": [
    "`-` $\\beta=-10$ 일 경우의 접선의 기울기? $\\beta=-4$ 일때 접선의 기울기?"
   ]
  },
  {
   "cell_type": "markdown",
   "id": "76bf94c3-84bc-404b-b8fc-857f7bbe52c0",
   "metadata": {},
   "source": [
    "- $\\beta=-10$일 때 기울기는 -6\n",
    "- $\\beta=-4$일 때 기울기는 -3"
   ]
  },
  {
   "cell_type": "markdown",
   "id": "907837ea-a042-485a-92c8-4c5a3b16215e",
   "metadata": {},
   "source": [
    "`-` 실제로 6,3씩 이동할 순 없으니 적당한 $\\alpha$(예를 들면 $\\alpha=0.01$)를 잡아서 곱한만큼 이동하자."
   ]
  },
  {
   "cell_type": "markdown",
   "id": "9b59121a-c2b4-485b-bb4f-26ca72832138",
   "metadata": {},
   "source": [
    "`-` 수식화하면\n",
    "\n",
    "- $\\beta_{new} = \n",
    "\\beta_{old} - \\alpha loss'(\\beta_{old})$\n",
    "- $\\beta_{new} = \n",
    "\\beta_{old} - \\alpha \\left[\\frac{\\partial}{\\partial \\beta} loss(\\beta) \\right]_{\\beta = \\beta_{old}}$"
   ]
  },
  {
   "cell_type": "markdown",
   "id": "d705ce24-d20f-406b-a943-f96fac192828",
   "metadata": {},
   "source": [
    "`-` 위 식을 +로 하면 최대값을 찾을 수 있겠다."
   ]
  },
  {
   "cell_type": "markdown",
   "id": "c954b1d0-2cfc-451f-9c11-5b0a4a3dd2ae",
   "metadata": {},
   "source": [
    "`-` $\\alpha$의 의미\n",
    "- $\\alpha$가 크면 크게 움직이고, 작으면 작게 움직인다.\n",
    "- $\\alpha>0$이어야 한다."
   ]
  },
  {
   "cell_type": "markdown",
   "id": "2b4a1de3-6c6b-457c-9907-a3c8c23bebb5",
   "metadata": {
    "id": "2b4a1de3-6c6b-457c-9907-a3c8c23bebb5"
   },
   "source": [
    "#### **구현코드**"
   ]
  },
  {
   "cell_type": "markdown",
   "id": "7eb612e4-41dd-422a-91b1-e3fa6008e99f",
   "metadata": {},
   "source": [
    "`-` **iter 1**"
   ]
  },
  {
   "cell_type": "markdown",
   "id": "02c8bcb3-5760-4b10-adac-e210d0a34f9c",
   "metadata": {},
   "source": [
    " $\\beta = -10$이라고 하자."
   ]
  },
  {
   "cell_type": "code",
   "execution_count": 76,
   "id": "d278a03f-75d1-4842-a371-f27b50de1144",
   "metadata": {},
   "outputs": [],
   "source": [
    "beta = tf.Variable(-10.0)"
   ]
  },
  {
   "cell_type": "code",
   "execution_count": 77,
   "id": "8e8ef5c8-9207-4faf-bc78-0d3c97229e8e",
   "metadata": {},
   "outputs": [],
   "source": [
    "with tf.GradientTape(persistent=True) as tape :\n",
    "    loss = (beta/2-1)**2"
   ]
  },
  {
   "cell_type": "code",
   "execution_count": 78,
   "id": "4bbadf7d-b764-4bc3-a39f-6291f80666a2",
   "metadata": {},
   "outputs": [
    {
     "data": {
      "text/plain": [
       "<tf.Tensor: shape=(), dtype=float32, numpy=-6.0>"
      ]
     },
     "execution_count": 78,
     "metadata": {},
     "output_type": "execute_result"
    }
   ],
   "source": [
    "tape.gradient(loss, beta)"
   ]
  },
  {
   "cell_type": "markdown",
   "id": "f93a502e-6012-48ac-b1ac-19decd9f3c00",
   "metadata": {},
   "source": [
    "`-` $\\beta = -10$에서 $0.01$만큼 움직이고 싶음."
   ]
  },
  {
   "cell_type": "code",
   "execution_count": 79,
   "id": "6840a5c2-7203-49cb-a6a3-5e3f0f28e789",
   "metadata": {},
   "outputs": [],
   "source": [
    "alpha = 0.01/6"
   ]
  },
  {
   "cell_type": "code",
   "execution_count": 80,
   "id": "7deed5da-995e-4809-bfc9-7e0a9599bc8d",
   "metadata": {},
   "outputs": [
    {
     "data": {
      "text/plain": [
       "<tf.Variable 'UnreadVariable' shape=() dtype=float32, numpy=-9.99>"
      ]
     },
     "execution_count": 80,
     "metadata": {},
     "output_type": "execute_result"
    }
   ],
   "source": [
    "beta.assign_sub(alpha * tape.gradient(loss, beta))  #원래 할당값에 ()안의 숫자를 빼주는"
   ]
  },
  {
   "cell_type": "code",
   "execution_count": 81,
   "id": "b3705b8c-a252-4376-a71b-c59b4f2270af",
   "metadata": {},
   "outputs": [
    {
     "data": {
      "text/plain": [
       "<tf.Variable 'Variable:0' shape=() dtype=float32, numpy=-9.99>"
      ]
     },
     "execution_count": 81,
     "metadata": {},
     "output_type": "execute_result"
    }
   ],
   "source": [
    "beta"
   ]
  },
  {
   "cell_type": "markdown",
   "id": "120805b0-afec-4466-852e-cc87201f161a",
   "metadata": {},
   "source": [
    "`-` **iter 2**"
   ]
  },
  {
   "cell_type": "code",
   "execution_count": 82,
   "id": "5147e42a-7b55-49de-a368-964d1e45628c",
   "metadata": {},
   "outputs": [],
   "source": [
    "with tf.GradientTape(persistent=True) as tape :\n",
    "    loss = (beta/2-1)**2"
   ]
  },
  {
   "cell_type": "code",
   "execution_count": 83,
   "id": "8d98fc4d-fb7b-4c52-9fa4-3585ab350a07",
   "metadata": {},
   "outputs": [
    {
     "data": {
      "text/plain": [
       "<tf.Variable 'UnreadVariable' shape=() dtype=float32, numpy=-9.980008>"
      ]
     },
     "execution_count": 83,
     "metadata": {},
     "output_type": "execute_result"
    }
   ],
   "source": [
    "beta.assign_sub(tape.gradient(loss,beta)*alpha)"
   ]
  },
  {
   "cell_type": "markdown",
   "id": "972322ec-6abb-4d50-908b-ed1b52c23145",
   "metadata": {},
   "source": [
    "`-` **for 문을 이용하자!**"
   ]
  },
  {
   "cell_type": "markdown",
   "id": "259330c6-e2e0-45e2-b5c3-125ea459f8cc",
   "metadata": {},
   "source": [
    "(강의용)"
   ]
  },
  {
   "cell_type": "code",
   "execution_count": 96,
   "id": "d6097466-d373-4f73-be22-af0dbc6e06ac",
   "metadata": {},
   "outputs": [],
   "source": [
    "beta = tf.Variable(-10.0)"
   ]
  },
  {
   "cell_type": "code",
   "execution_count": 97,
   "id": "a965c7ab-ac5d-4870-b5de-bbd84391d387",
   "metadata": {},
   "outputs": [],
   "source": [
    "for k in range(10000):\n",
    "    with tf.GradientTape(persistent=True) as tape:\n",
    "        loss = (beta/2-1)**2\n",
    "    beta.assign_sub(tape.gradient(loss,beta)*alpha)"
   ]
  },
  {
   "cell_type": "code",
   "execution_count": 98,
   "id": "6b5b0937-08b4-4359-8b0c-433831ceb175",
   "metadata": {},
   "outputs": [
    {
     "data": {
      "text/plain": [
       "<tf.Variable 'Variable:0' shape=() dtype=float32, numpy=1.997125>"
      ]
     },
     "execution_count": 98,
     "metadata": {},
     "output_type": "execute_result"
    }
   ],
   "source": [
    "beta"
   ]
  },
  {
   "cell_type": "markdown",
   "id": "687f2846-9d4b-45c4-891f-96f078016fb0",
   "metadata": {},
   "source": [
    "(시도1)"
   ]
  },
  {
   "cell_type": "code",
   "execution_count": 100,
   "id": "3203b2b6-e50f-42fe-b961-ef652064ea46",
   "metadata": {},
   "outputs": [],
   "source": [
    "beta = tf.Variable(-10.0)"
   ]
  },
  {
   "cell_type": "code",
   "execution_count": 101,
   "id": "1b3a9d86-c35d-4375-89f7-a78cb4023b15",
   "metadata": {},
   "outputs": [],
   "source": [
    "for k in range(100):\n",
    "    with tf.GradientTape(persistent=True) as tape:\n",
    "        loss = (beta/2-1)**2\n",
    "    beta.assign_sub(tape.gradient(loss,beta)*alpha)"
   ]
  },
  {
   "cell_type": "code",
   "execution_count": 102,
   "id": "f5685bdf-c04a-45cc-a3d1-9b357387d817",
   "metadata": {},
   "outputs": [
    {
     "data": {
      "text/plain": [
       "<tf.Variable 'Variable:0' shape=() dtype=float32, numpy=-9.040152>"
      ]
     },
     "execution_count": 102,
     "metadata": {},
     "output_type": "execute_result"
    }
   ],
   "source": [
    "beta"
   ]
  },
  {
   "cell_type": "markdown",
   "id": "f4f47677-d349-4b82-bcb8-16fae48f3f2e",
   "metadata": {},
   "source": [
    "(시도2)"
   ]
  },
  {
   "cell_type": "code",
   "execution_count": 93,
   "id": "1d9bb88f-9830-42b3-a8f1-f494a9262112",
   "metadata": {},
   "outputs": [],
   "source": [
    "beta = tf.Variable(-10.0)"
   ]
  },
  {
   "cell_type": "code",
   "execution_count": 94,
   "id": "981f36a6-3f99-4b91-a756-3584141c2da8",
   "metadata": {},
   "outputs": [],
   "source": [
    "for k in range(1000):\n",
    "    with tf.GradientTape(persistent=True) as tape:\n",
    "        loss = (beta/2-1)**2\n",
    "    beta.assign_sub(tape.gradient(loss,beta)*alpha)"
   ]
  },
  {
   "cell_type": "code",
   "execution_count": 95,
   "id": "aa1f352d-cf44-4771-8217-e4ac84d33060",
   "metadata": {},
   "outputs": [
    {
     "data": {
      "text/plain": [
       "<tf.Variable 'Variable:0' shape=() dtype=float32, numpy=-3.2133687>"
      ]
     },
     "execution_count": 95,
     "metadata": {},
     "output_type": "execute_result"
    }
   ],
   "source": [
    "beta"
   ]
  },
  {
   "cell_type": "markdown",
   "id": "294ee48a-17f7-4275-a8ff-7643035f0410",
   "metadata": {},
   "source": [
    "`-` 너무 느리다. $\\to$ $\\alpha$를 키워보자!"
   ]
  },
  {
   "cell_type": "markdown",
   "id": "d9b46b9e-2b52-4150-b27d-0d3ca503a113",
   "metadata": {
    "id": "d9b46b9e-2b52-4150-b27d-0d3ca503a113"
   },
   "source": [
    "#### 학습률 (learning rate)"
   ]
  },
  {
   "cell_type": "markdown",
   "id": "50a8dfba-1690-4793-9afa-b6f71bf0fe29",
   "metadata": {},
   "source": [
    "`-` $\\alpha$에 따라서 함수의 수렴과정이 어떻게 달라지는지 시각화해보자."
   ]
  },
  {
   "cell_type": "markdown",
   "id": "b7bc1884-f99d-446c-9260-ebf41f9b6541",
   "metadata": {
    "id": "b7bc1884-f99d-446c-9260-ebf41f9b6541"
   },
   "source": [
    "##### [시각화 코드 예비학습] "
   ]
  },
  {
   "cell_type": "code",
   "execution_count": 109,
   "id": "51b9052c-3d4a-4e6a-a86a-afc8c6619125",
   "metadata": {},
   "outputs": [
    {
     "data": {
      "text/plain": [
       "[<matplotlib.lines.Line2D at 0x7fd2bc92f220>]"
      ]
     },
     "execution_count": 109,
     "metadata": {},
     "output_type": "execute_result"
    },
    {
     "data": {
      "image/png": "[encoded data removed]",
      "text/plain": [
       "<Figure size 432x288 with 1 Axes>"
      ]
     },
     "metadata": {
      "needs_background": "light"
     },
     "output_type": "display_data"
    }
   ],
   "source": [
    "plt.plot([1,2,3],[3,4,5], 'or')"
   ]
  },
  {
   "cell_type": "code",
   "execution_count": 143,
   "id": "985e5484-37f4-40a0-b7e3-572eb09fcca7",
   "metadata": {},
   "outputs": [
    {
     "data": {
      "text/plain": [
       "<Figure size 432x288 with 0 Axes>"
      ]
     },
     "metadata": {},
     "output_type": "display_data"
    }
   ],
   "source": [
    "fig=plt.figure()  #도화지가 만들어지고 fig라는 이름을 붙인다."
   ]
  },
  {
   "cell_type": "code",
   "execution_count": 144,
   "id": "8d9ce649-8aab-49c2-9876-a7339e7bfba7",
   "metadata": {},
   "outputs": [],
   "source": [
    "ax = fig.add_subplot()  #fig는 ax라는 물체를 만든다."
   ]
  },
  {
   "cell_type": "code",
   "execution_count": 145,
   "id": "668119c0-dd58-4d07-a17b-f7ea928a6c18",
   "metadata": {},
   "outputs": [
    {
     "data": {
      "text/plain": [
       "140542468107968"
      ]
     },
     "execution_count": 145,
     "metadata": {},
     "output_type": "execute_result"
    }
   ],
   "source": [
    "id(fig.axes[0])  #fig에 있는 것들을 보여주는 코드, 리스트형태"
   ]
  },
  {
   "cell_type": "code",
   "execution_count": 146,
   "id": "9706f592-272a-4417-a075-0d4c12783ebb",
   "metadata": {},
   "outputs": [
    {
     "data": {
      "text/plain": [
       "140542468107968"
      ]
     },
     "execution_count": 146,
     "metadata": {},
     "output_type": "execute_result"
    }
   ],
   "source": [
    "id(ax)"
   ]
  },
  {
   "cell_type": "markdown",
   "id": "e398975a-971c-49bc-ac98-2aed62001892",
   "metadata": {},
   "source": [
    "- 둘이 포함 관계에 있다는 것을 확인할 수 있음."
   ]
  },
  {
   "cell_type": "code",
   "execution_count": 147,
   "id": "6ca8bb90-0dfa-4473-8ff4-7c1a5520e022",
   "metadata": {},
   "outputs": [
    {
     "data": {
      "text/plain": [
       "<matplotlib.lines.Line2D at 0x7fd2bc6dc4f0>"
      ]
     },
     "execution_count": 147,
     "metadata": {},
     "output_type": "execute_result"
    }
   ],
   "source": [
    "pnts, = ax.plot([1,2,3],[4,5,6], 'or')\n",
    "pnts"
   ]
  },
  {
   "cell_type": "markdown",
   "id": "de21ccc1-ce79-4c41-81eb-6a21d856d182",
   "metadata": {},
   "source": [
    "- `,`를 붙이면 tuple이 된다."
   ]
  },
  {
   "cell_type": "code",
   "execution_count": 148,
   "id": "af1e36c5-7796-4e20-9ab6-d493e29a7359",
   "metadata": {},
   "outputs": [
    {
     "data": {
      "text/plain": [
       "array([1, 2, 3])"
      ]
     },
     "execution_count": 148,
     "metadata": {},
     "output_type": "execute_result"
    }
   ],
   "source": [
    "pnts.get_xdata()"
   ]
  },
  {
   "cell_type": "code",
   "execution_count": 149,
   "id": "e34105cc-45ff-41a9-bb36-5f7ca34d0ce3",
   "metadata": {},
   "outputs": [
    {
     "data": {
      "text/plain": [
       "array([4, 5, 6])"
      ]
     },
     "execution_count": 149,
     "metadata": {},
     "output_type": "execute_result"
    }
   ],
   "source": [
    "pnts.get_ydata()"
   ]
  },
  {
   "cell_type": "code",
   "execution_count": 150,
   "id": "dc1cab7a-904e-4765-b3cc-4e54770a9b54",
   "metadata": {},
   "outputs": [
    {
     "data": {
      "image/png": "[encoded data removed]",
      "text/plain": [
       "<Figure size 432x288 with 1 Axes>"
      ]
     },
     "execution_count": 150,
     "metadata": {},
     "output_type": "execute_result"
    }
   ],
   "source": [
    "fig"
   ]
  },
  {
   "cell_type": "code",
   "execution_count": 151,
   "id": "7aa6b243-c7b5-4b4e-8fed-faab6cd576ef",
   "metadata": {},
   "outputs": [],
   "source": [
    "pnts.set_ydata([5,5,5])"
   ]
  },
  {
   "cell_type": "code",
   "execution_count": 152,
   "id": "79b7c725-b00a-49ab-837c-36f135e4eb42",
   "metadata": {},
   "outputs": [
    {
     "data": {
      "text/plain": [
       "[5, 5, 5]"
      ]
     },
     "execution_count": 152,
     "metadata": {},
     "output_type": "execute_result"
    }
   ],
   "source": [
    "pnts.get_ydata()"
   ]
  },
  {
   "cell_type": "code",
   "execution_count": 153,
   "id": "301817f9-fef0-451c-9157-add170d563bb",
   "metadata": {},
   "outputs": [
    {
     "data": {
      "image/png": "[encoded data removed]",
      "text/plain": [
       "<Figure size 432x288 with 1 Axes>"
      ]
     },
     "execution_count": 153,
     "metadata": {},
     "output_type": "execute_result"
    }
   ],
   "source": [
    "fig"
   ]
  },
  {
   "cell_type": "markdown",
   "id": "b725448b-09a6-4b7c-8490-98d9104ed67c",
   "metadata": {},
   "source": [
    "`-` 응용"
   ]
  },
  {
   "cell_type": "code",
   "execution_count": null,
   "id": "3eb7c9ae-13f7-422a-be37-e5c102eb1d92",
   "metadata": {},
   "outputs": [],
   "source": [
    "def "
   ]
  }
 ],
 "metadata": {
  "colab": {
   "name": "2022-03-28-(4주차) 3월28일.ipynb",
   "provenance": []
  },
  "kernelspec": {
   "display_name": "Python 3 (ipykernel)",
   "language": "python",
   "name": "python3"
  },
  "language_info": {
   "codemirror_mode": {
    "name": "ipython",
    "version": 3
   },
   "file_extension": ".py",
   "mimetype": "text/x-python",
   "name": "python",
   "nbconvert_exporter": "python",
   "pygments_lexer": "ipython3",
   "version": "3.10.0"
  }
 },
 "nbformat": 4,
 "nbformat_minor": 5
}
