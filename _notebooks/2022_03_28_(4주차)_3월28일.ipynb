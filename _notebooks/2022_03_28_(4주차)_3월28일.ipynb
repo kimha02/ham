{
 "cells": [
  {
   "cell_type": "markdown",
   "id": "4a733813-1b35-4d41-839e-0efdb1da5c6e",
   "metadata": {
    "id": "4a733813-1b35-4d41-839e-0efdb1da5c6e"
   },
   "source": [
    "# (4주차) 3월28일 -- draft\n",
    "\n",
    "- toc:true\n",
    "- branch: master\n",
    "- badges: true\n",
    "- comments: true\n",
    "- author: 최규빈\n",
    "- categories: [Bigdata]"
   ]
  },
  {
   "cell_type": "markdown",
   "id": "a9756b93-8999-4711-9404-09f229e799b7",
   "metadata": {
    "id": "a9756b93-8999-4711-9404-09f229e799b7"
   },
   "source": [
    "### 강의영상 "
   ]
  },
  {
   "cell_type": "markdown",
   "id": "0f2afc92-f05c-4dfa-b202-30bd166f54a5",
   "metadata": {
    "id": "0f2afc92-f05c-4dfa-b202-30bd166f54a5"
   },
   "source": [
    "### 미분 "
   ]
  },
  {
   "cell_type": "markdown",
   "id": "d800db5c-6c4a-4e44-9b6c-73e2ecd06c7e",
   "metadata": {
    "id": "d800db5c-6c4a-4e44-9b6c-73e2ecd06c7e"
   },
   "source": [
    "#### tf.GradientTape() 사용방법"
   ]
  },
  {
   "cell_type": "markdown",
   "id": "cbd7d77f-4b57-48fb-8520-b4b86722c973",
   "metadata": {
    "id": "cbd7d77f-4b57-48fb-8520-b4b86722c973"
   },
   "source": [
    "`-` 예제9: 카페예제로 돌아오자. "
   ]
  },
  {
   "cell_type": "markdown",
   "id": "9a8e8dd5-d515-4327-98ad-8d7c36edf0d1",
   "metadata": {
    "id": "9a8e8dd5-d515-4327-98ad-8d7c36edf0d1"
   },
   "source": [
    "`-` 예제10: 카페예제의 매트릭스 버전 "
   ]
  },
  {
   "cell_type": "markdown",
   "id": "61f3450d-65d3-469a-af17-ee5caf4824f0",
   "metadata": {
    "id": "61f3450d-65d3-469a-af17-ee5caf4824f0"
   },
   "source": [
    "`-` 예제11: 위의 예제에서 이론적인 $\\boldsymbol{\\beta}$의 최적값을 찾아보고 (즉 $\\boldsymbol{\\hat\\beta}$을 찾고) 그 지점에서 loss의 미분값(=접선의 기울기)를 구하라. 결과가 $\\bf{0}$인지 확인하라. (단 ${\\bf 0}$은 길이가 2이고 각 원소가 0인 벡터)"
   ]
  },
  {
   "cell_type": "markdown",
   "id": "1bdd3374-7884-485a-acb9-3ffba10e4aed",
   "metadata": {
    "id": "1bdd3374-7884-485a-acb9-3ffba10e4aed"
   },
   "source": [
    "## 경사하강법 "
   ]
  },
  {
   "cell_type": "markdown",
   "id": "2533e309-a267-4807-aa6c-fee7efb873f9",
   "metadata": {
    "id": "2533e309-a267-4807-aa6c-fee7efb873f9"
   },
   "source": [
    "### 최적화문제 "
   ]
  },
  {
   "cell_type": "markdown",
   "id": "34c07436-0452-4003-b565-9d6d923f4a3b",
   "metadata": {
    "id": "34c07436-0452-4003-b565-9d6d923f4a3b"
   },
   "source": [
    "`-` $loss=(\\frac{1}{2}\\beta-1)^2$를 최소하는 $\\beta$를 컴퓨터를 활용하여 구하는 문제를 생각해보자."
   ]
  },
  {
   "cell_type": "markdown",
   "id": "77d075a4-3d9a-4a65-91ad-72bbc7beb98b",
   "metadata": {
    "id": "77d075a4-3d9a-4a65-91ad-72bbc7beb98b"
   },
   "source": [
    "### 방법1: grid search"
   ]
  },
  {
   "cell_type": "markdown",
   "id": "c62a0eec-a902-467c-bdc7-8055ffce0be7",
   "metadata": {
    "id": "c62a0eec-a902-467c-bdc7-8055ffce0be7"
   },
   "source": [
    "#### 알고리즘 "
   ]
  },
  {
   "cell_type": "markdown",
   "id": "da611891-726e-4ed9-aed4-b573ce16dccd",
   "metadata": {
    "id": "da611891-726e-4ed9-aed4-b573ce16dccd"
   },
   "source": [
    "#### 구현코드 "
   ]
  },
  {
   "cell_type": "markdown",
   "id": "77a4415a-b109-4a24-a4df-93165d411d61",
   "metadata": {
    "id": "77a4415a-b109-4a24-a4df-93165d411d61"
   },
   "source": [
    "#### 그리드서치의 문제점 "
   ]
  },
  {
   "cell_type": "markdown",
   "id": "98ce2838-514c-4df2-bb70-1444deb88e7b",
   "metadata": {
    "id": "98ce2838-514c-4df2-bb70-1444deb88e7b"
   },
   "source": [
    "`-` 비판1: [-10,10]이외에 해가 존재하면? \n",
    "- 이 예제의 경우는 운좋게 [-10,10]에서 해가 존재했음\n",
    "- 하지만 임의의 고정된 $x,y$에 대하여 $loss(\\beta)=(x\\beta-y)^2$ 의 형태의 해가 항상 [-10,10]에서 존재한다는 보장은 없음\n",
    "- 해결책: 더 넓게 많은 범위를 탐색하자? "
   ]
  },
  {
   "cell_type": "markdown",
   "id": "aafe2234-aab7-4d4e-961c-ad8751bd1ee5",
   "metadata": {
    "id": "aafe2234-aab7-4d4e-961c-ad8751bd1ee5"
   },
   "source": [
    "`-` 비판2: 효율적이지 않음\n",
    "- 알고리즘을 요약하면 결국 -10부터 10까지 작은 간격으로 조금씩 이동하며 loss를 조사하는 것이 grid search의 아이디어 \n",
    "- $\\to$ 생각해보니까 $\\beta=2$인 순간 $loss=(\\frac{1}{2}\\beta-1)^2=0$이 되어서 이것보다 작은 최소값은 존재하지 않는다(제곱은 항상 양수이어야 하므로)\n",
    "- $\\to$ 따라서 $\\beta=2$ 이후로는 탐색할 필요가 없다 "
   ]
  },
  {
   "cell_type": "markdown",
   "id": "635f0538-144e-40f9-9dbd-ef1b15e07cf4",
   "metadata": {
    "id": "635f0538-144e-40f9-9dbd-ef1b15e07cf4",
    "tags": []
   },
   "source": [
    "### 방법2: gradient descent"
   ]
  },
  {
   "cell_type": "markdown",
   "id": "3f08788e-94cf-4bc1-ac35-4272cf0ab67f",
   "metadata": {
    "id": "3f08788e-94cf-4bc1-ac35-4272cf0ab67f"
   },
   "source": [
    "#### 알고리즘!"
   ]
  },
  {
   "cell_type": "markdown",
   "id": "74f370cb-6acb-4f84-be83-7cffdb706a97",
   "metadata": {
    "id": "74f370cb-6acb-4f84-be83-7cffdb706a97"
   },
   "source": [
    "#### 알고리즘 분석 "
   ]
  },
  {
   "cell_type": "markdown",
   "id": "2cc8d193-d0d1-4441-94c7-03cf3c461b45",
   "metadata": {
    "id": "2cc8d193-d0d1-4441-94c7-03cf3c461b45"
   },
   "source": [
    "#### 왼쪽/오른쪽중에 어디로 갈지 어떻게 판단하는 과정을 수식화?"
   ]
  },
  {
   "cell_type": "markdown",
   "id": "a0647403-dbd6-4bcf-8c8b-162177997a40",
   "metadata": {
    "id": "a0647403-dbd6-4bcf-8c8b-162177997a40"
   },
   "source": [
    "#### 혹시 알고리즘을 좀 개선할수 있을까?"
   ]
  },
  {
   "cell_type": "markdown",
   "id": "d65df75b-a7ca-465a-9372-6dbc8a657ba0",
   "metadata": {
    "id": "d65df75b-a7ca-465a-9372-6dbc8a657ba0"
   },
   "source": [
    "`-` $\\beta=-10$ 일 경우의 접선의 기울기? $\\beta=-4$ 일때 접선의 기울기?"
   ]
  },
  {
   "cell_type": "markdown",
   "id": "2b4a1de3-6c6b-457c-9907-a3c8c23bebb5",
   "metadata": {
    "id": "2b4a1de3-6c6b-457c-9907-a3c8c23bebb5"
   },
   "source": [
    "#### 구현코드 "
   ]
  },
  {
   "cell_type": "markdown",
   "id": "d9b46b9e-2b52-4150-b27d-0d3ca503a113",
   "metadata": {
    "id": "d9b46b9e-2b52-4150-b27d-0d3ca503a113"
   },
   "source": [
    "#### 학습률 "
   ]
  },
  {
   "cell_type": "markdown",
   "id": "b7bc1884-f99d-446c-9260-ebf41f9b6541",
   "metadata": {
    "id": "b7bc1884-f99d-446c-9260-ebf41f9b6541"
   },
   "source": [
    "##### [시각화 코드 예비학습] "
   ]
  }
 ],
 "metadata": {
  "colab": {
   "name": "2022-03-28-(4주차) 3월28일.ipynb",
   "provenance": []
  },
  "kernelspec": {
   "display_name": "Python 3 (ipykernel)",
   "language": "python",
   "name": "python3"
  },
  "language_info": {
   "codemirror_mode": {
    "name": "ipython",
    "version": 3
   },
   "file_extension": ".py",
   "mimetype": "text/x-python",
   "name": "python",
   "nbconvert_exporter": "python",
   "pygments_lexer": "ipython3",
   "version": "3.10.0"
  }
 },
 "nbformat": 4,
 "nbformat_minor": 5
}
