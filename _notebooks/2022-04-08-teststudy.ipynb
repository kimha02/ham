{
 "cells": [
  {
   "cell_type": "markdown",
   "id": "c59b9854-d5fc-40db-bc16-43d32933ab88",
   "metadata": {
    "tags": []
   },
   "source": [
    "# (공부) 데이터분석 코딩테스트 연습\n",
    "> kaggle_python\n",
    "- toc:true\n",
    "- branch: master\n",
    "- badges: true\n",
    "- comments: true\n",
    "- author: 김하영\n",
    "- categories: [Study]"
   ]
  },
  {
   "cell_type": "markdown",
   "id": "fb84c98b-cdae-467b-b9e7-b8667df5f296",
   "metadata": {},
   "source": [
    "---"
   ]
  },
  {
   "cell_type": "markdown",
   "id": "e01257c9-396c-484e-94a6-490ec8260937",
   "metadata": {},
   "source": [
    "https://didu-story.tistory.com/m/43?category=937100 을 참고하여 공부  \n",
    "\n",
    "data : www.kaggle.com/c/bike-sharing-demand/"
   ]
  },
  {
   "cell_type": "code",
   "execution_count": 33,
   "id": "9d4bc46b-af15-47c0-a15f-8b6fb911e722",
   "metadata": {},
   "outputs": [],
   "source": [
    "import numpy as np\n",
    "import pandas as pd"
   ]
  },
  {
   "cell_type": "code",
   "execution_count": 34,
   "id": "ed9af716-5b75-433a-8295-b342736bc4e4",
   "metadata": {},
   "outputs": [
    {
     "ename": "NameError",
     "evalue": "name 'train' is not defined",
     "output_type": "error",
     "traceback": [
      "\u001b[0;31m---------------------------------------------------------------------------\u001b[0m",
      "\u001b[0;31mNameError\u001b[0m                                 Traceback (most recent call last)",
      "\u001b[0;32m/tmp/ipykernel_673036/3052164591.py\u001b[0m in \u001b[0;36m<module>\u001b[0;34m\u001b[0m\n\u001b[0;32m----> 1\u001b[0;31m \u001b[0mtrain\u001b[0m\u001b[0;34m.\u001b[0m\u001b[0mcsv\u001b[0m\u001b[0;34m\u001b[0m\u001b[0;34m\u001b[0m\u001b[0m\n\u001b[0m",
      "\u001b[0;31mNameError\u001b[0m: name 'train' is not defined"
     ]
    }
   ],
   "source": [
    "train.csv"
   ]
  },
  {
   "cell_type": "code",
   "execution_count": null,
   "id": "0f7d6fb3-fff1-4073-b786-c625a10bfa61",
   "metadata": {},
   "outputs": [],
   "source": []
  },
  {
   "cell_type": "code",
   "execution_count": null,
   "id": "f1fbd58b-d2fb-46c2-a01d-f04abe4923dd",
   "metadata": {},
   "outputs": [],
   "source": []
  }
 ],
 "metadata": {
  "kernelspec": {
   "display_name": "Python 3 (ipykernel)",
   "language": "python",
   "name": "python3"
  },
  "language_info": {
   "codemirror_mode": {
    "name": "ipython",
    "version": 3
   },
   "file_extension": ".py",
   "mimetype": "text/x-python",
   "name": "python",
   "nbconvert_exporter": "python",
   "pygments_lexer": "ipython3",
   "version": "3.8.12"
  }
 },
 "nbformat": 4,
 "nbformat_minor": 5
}
