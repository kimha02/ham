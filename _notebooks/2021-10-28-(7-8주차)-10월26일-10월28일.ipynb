{
 "cells": [
  {
   "cell_type": "markdown",
   "id": "f3553b32-b994-44a7-baea-e85d57f2ce34",
   "metadata": {
    "id": "f3553b32-b994-44a7-baea-e85d57f2ce34",
    "tags": []
   },
   "source": [
    "# (7-8주차) 10월26일 10월28일\n",
    "> Pytorch CNN (MNIST 3/7), CAM\n",
    "\n",
    "- toc:true\n",
    "- branch: master\n",
    "- badges: true\n",
    "- comments: true\n",
    "- author: 최규빈\n",
    "- categories: [Python]"
   ]
  },
  {
   "cell_type": "markdown",
   "id": "522d1daf-f2f3-4ef0-8ad8-e05ca8953ae6",
   "metadata": {},
   "source": [
    "---"
   ]
  },
  {
   "cell_type": "markdown",
   "id": "84609931-b98d-40d2-9ca9-912e3f98f3ca",
   "metadata": {
    "id": "84609931-b98d-40d2-9ca9-912e3f98f3ca"
   },
   "source": [
    "### import "
   ]
  },
  {
   "cell_type": "code",
   "execution_count": 91,
   "id": "94447313-55da-4ba4-ae45-96e96a7e8da1",
   "metadata": {
    "id": "94447313-55da-4ba4-ae45-96e96a7e8da1"
   },
   "outputs": [],
   "source": [
    "import torch \n",
    "from fastai.vision.all import * "
   ]
  },
  {
   "cell_type": "code",
   "execution_count": 2,
   "id": "0bedb3e2-9017-4089-83b3-9af34bba047a",
   "metadata": {
    "id": "0bedb3e2-9017-4089-83b3-9af34bba047a"
   },
   "outputs": [],
   "source": [
    "import graphviz"
   ]
  },
  {
   "cell_type": "code",
   "execution_count": 3,
   "id": "7b2e79da-4995-4036-b098-57da5da84da1",
   "metadata": {
    "id": "7b2e79da-4995-4036-b098-57da5da84da1"
   },
   "outputs": [],
   "source": [
    "def gv(s): return graphviz.Source('digraph G{ rankdir=\"LR\"'+ s + ';}')"
   ]
  },
  {
   "cell_type": "markdown",
   "id": "a259f5e0-92b3-4afc-a15d-55128ddf019f",
   "metadata": {
    "id": "a259f5e0-92b3-4afc-a15d-55128ddf019f"
   },
   "source": [
    "### data "
   ]
  },
  {
   "cell_type": "markdown",
   "id": "dc8f2f0b-d2b0-4183-8dba-79e3365c0b17",
   "metadata": {
    "id": "dc8f2f0b-d2b0-4183-8dba-79e3365c0b17"
   },
   "source": [
    "`-` download data "
   ]
  },
  {
   "cell_type": "code",
   "execution_count": 4,
   "id": "eefa10af-44a1-4dc1-b8e7-99782aa35838",
   "metadata": {
    "id": "eefa10af-44a1-4dc1-b8e7-99782aa35838"
   },
   "outputs": [],
   "source": [
    "path = untar_data(URLs.MNIST_SAMPLE)"
   ]
  },
  {
   "cell_type": "code",
   "execution_count": 5,
   "id": "a3c3efc0-189f-4643-8ec7-e22bb07c5ed7",
   "metadata": {
    "id": "a3c3efc0-189f-4643-8ec7-e22bb07c5ed7",
    "outputId": "c8d8bbcc-ee8c-481b-aae5-7f927480adad"
   },
   "outputs": [
    {
     "data": {
      "text/plain": [
       "(#3) [Path('/home/khy/.fastai/data/mnist_sample/train'),Path('/home/khy/.fastai/data/mnist_sample/valid'),Path('/home/khy/.fastai/data/mnist_sample/labels.csv')]"
      ]
     },
     "execution_count": 5,
     "metadata": {},
     "output_type": "execute_result"
    }
   ],
   "source": [
    "path.ls()"
   ]
  },
  {
   "cell_type": "markdown",
   "id": "bc644873-334d-436b-9e1f-88a239b37836",
   "metadata": {
    "id": "bc644873-334d-436b-9e1f-88a239b37836"
   },
   "source": [
    "`-` list "
   ]
  },
  {
   "cell_type": "code",
   "execution_count": 6,
   "id": "585a1726-58e6-41b4-8909-e823aa6cd06c",
   "metadata": {
    "id": "585a1726-58e6-41b4-8909-e823aa6cd06c"
   },
   "outputs": [],
   "source": [
    "threes=(path/'train'/'3').ls()\n",
    "sevens=(path/'train'/'7').ls()"
   ]
  },
  {
   "cell_type": "markdown",
   "id": "8d531782-2666-499c-9131-de641f256275",
   "metadata": {
    "id": "8d531782-2666-499c-9131-de641f256275"
   },
   "source": [
    "`-` list $\\to$ image "
   ]
  },
  {
   "cell_type": "code",
   "execution_count": 7,
   "id": "ef6bdd32-14ac-4024-a0e3-3347813bd0c6",
   "metadata": {
    "id": "ef6bdd32-14ac-4024-a0e3-3347813bd0c6",
    "outputId": "290376eb-9b53-4531-ce92-8909b312c0dd"
   },
   "outputs": [
    {
     "data": {
      "image/png": "[encoded data removed]",
      "text/plain": [
       "<PIL.PngImagePlugin.PngImageFile image mode=L size=28x28 at 0x7FBD2472BA60>"
      ]
     },
     "execution_count": 7,
     "metadata": {},
     "output_type": "execute_result"
    }
   ],
   "source": [
    "Image.open(threes[4])"
   ]
  },
  {
   "cell_type": "markdown",
   "id": "390c7430-3e09-4749-80e5-da59fbbe274c",
   "metadata": {
    "id": "390c7430-3e09-4749-80e5-da59fbbe274c"
   },
   "source": [
    "`-` image $\\to$ tensor "
   ]
  },
  {
   "cell_type": "code",
   "execution_count": 8,
   "id": "57e47fe6-7218-43fb-9559-74e6245945f0",
   "metadata": {
    "id": "57e47fe6-7218-43fb-9559-74e6245945f0",
    "outputId": "d04d9b2a-68be-4a07-a8ca-f90d33e7ccc9"
   },
   "outputs": [
    {
     "data": {
      "text/plain": [
       "tensor([[  0,   0,   0,   0,   0,   0,   0,   0,   0,   0,   0,   0,   0,   0,\n",
       "           0,   0,   0,   0,   0,   0,   0,   0,   0,   0,   0,   0,   0,   0],\n",
       "        [  0,   0,   0,   0,   0,   0,   0,   0,   0,   0,   0,   0,   0,   0,\n",
       "           0,   0,   0,   0,   0,   0,   0,   0,   0,   0,   0,   0,   0,   0],\n",
       "        [  0,   0,   0,   0,   0,   0,   0,   0,   0,   0,   0,   0,   0,   0,\n",
       "           0,   0,   0,   0,   0,   0,   0,   0,   0,   0,   0,   0,   0,   0],\n",
       "        [  0,   0,   0,   0,   0,   0,   0,   0,   0,   0,   0,   0,   0,   0,\n",
       "           0,   0,   0,   0,   0,   0,   0,   0,   0,   0,   0,   0,   0,   0],\n",
       "        [  0,   0,   0,   0,   0,   0,   0,   0,   0,   0,   0,   0,   0,   0,\n",
       "           0,   0,   0,   0,   0,   0,   0,   0,   0,   0,   0,   0,   0,   0],\n",
       "        [  0,   0,   0,   0,   0,   0,   0,   0,   0,   0,  36, 211, 254, 254,\n",
       "         241, 144, 144,  35,   0,   0,   0,   0,   0,   0,   0,   0,   0,   0],\n",
       "        [  0,   0,   0,   0,   0,   0,   0,   0,   0,  62, 247, 253, 253, 253,\n",
       "         254, 253, 253, 247,  91,   0,   0,   0,   0,   0,   0,   0,   0,   0],\n",
       "        [  0,   0,   0,   0,   0,   0,   0,   0,   0,  89, 253, 236, 154, 154,\n",
       "         154, 223, 253, 253, 244, 171,  52,   0,   0,   0,   0,   0,   0,   0],\n",
       "        [  0,   0,   0,   0,   0,   0,   0,   0,   0,  81, 241,  95,   0,   0,\n",
       "           0,   7,  54, 229, 253, 253, 141,   0,   0,   0,   0,   0,   0,   0],\n",
       "        [  0,   0,   0,   0,   0,   0,   0,   0,   0,   0,  39,   0,   0,   0,\n",
       "           0,   0,   0,  23, 253, 253, 250,  65,   0,   0,   0,   0,   0,   0],\n",
       "        [  0,   0,   0,   0,   0,   0,   0,   0,   0,   0,   0,   0,   0,   0,\n",
       "           0,   0,  35, 199, 253, 253, 206,  22,   0,   0,   0,   0,   0,   0],\n",
       "        [  0,   0,   0,   0,   0,   0,   0,   0,   0,   0,   0,   0,   0,  10,\n",
       "          75, 199, 241, 253, 253, 245,  78,   0,   0,   0,   0,   0,   0,   0],\n",
       "        [  0,   0,   0,   0,   0,   0,   0,   0,   0,  16,  45, 113, 155, 241,\n",
       "         254, 253, 253, 250, 185,  22,   0,   0,   0,   0,   0,   0,   0,   0],\n",
       "        [  0,   0,   0,   0,   0,   0,   0,  51, 188, 211, 253, 253, 253, 253,\n",
       "         254, 253, 253, 238,  27,   0,   0,   0,   0,   0,   0,   0,   0,   0],\n",
       "        [  0,   0,   0,   0,   0,   0,   0, 133, 253, 253, 253, 253, 253, 253,\n",
       "         206, 253, 253, 253, 208,  24,   0,   0,   0,   0,   0,   0,   0,   0],\n",
       "        [  0,   0,   0,   0,   0,   0,   0,  10, 183, 183, 111, 111,  29,   0,\n",
       "           0,   0, 135, 253, 254,  70,   0,   0,   0,   0,   0,   0,   0,   0],\n",
       "        [  0,   0,   0,   0,   0,   0,   0,   0,   0,   0,   0,   0,   0,   0,\n",
       "           0,   0,   0, 214, 253, 227,  15,   0,   0,   0,   0,   0,   0,   0],\n",
       "        [  0,   0,   0,   0,   0,   0,   0,   0,   0,   0,   0,   0,   0,   0,\n",
       "           0,   0,   0, 133, 253, 253,  22,   0,   0,   0,   0,   0,   0,   0],\n",
       "        [  0,   0,   0,   0,   0,   0,   0,   0,   0,   0,   0,   0,   0,   0,\n",
       "           0,   0,   0, 142, 253, 253,  22,   0,   0,   0,   0,   0,   0,   0],\n",
       "        [  0,   0,   0,   0,   0,   0,   0,   0,   0,   0,   0,   0,   0,   0,\n",
       "           0,   0,  90, 250, 253, 234,  17,   0,   0,   0,   0,   0,   0,   0],\n",
       "        [  0,   0,   0,   0,   0,   0,   0,   0,   0,   0,   0,   0,   0,   0,\n",
       "          12, 166, 244, 253, 253,  79,   0,   0,   0,   0,   0,   0,   0,   0],\n",
       "        [  0,   0,   0,   0,   0,   0,   0,   0,   0,   0,   0,   7,  45, 122,\n",
       "         236, 253, 253, 238, 108,   5,   0,   0,   0,   0,   0,   0,   0,   0],\n",
       "        [  0,   0,   0,   0,   0,   0,  81, 145,  69, 155, 155, 215, 253, 253,\n",
       "         255, 253, 236,  52,   0,   0,   0,   0,   0,   0,   0,   0,   0,   0],\n",
       "        [  0,   0,   0,   0,   0,   0, 176, 253, 253, 253, 253, 253, 253, 253,\n",
       "         177,  99,  40,   0,   0,   0,   0,   0,   0,   0,   0,   0,   0,   0],\n",
       "        [  0,   0,   0,   0,   0,   0,  13,  42, 143, 230, 200, 143, 110,  33,\n",
       "           0,   0,   0,   0,   0,   0,   0,   0,   0,   0,   0,   0,   0,   0],\n",
       "        [  0,   0,   0,   0,   0,   0,   0,   0,   0,   0,   0,   0,   0,   0,\n",
       "           0,   0,   0,   0,   0,   0,   0,   0,   0,   0,   0,   0,   0,   0],\n",
       "        [  0,   0,   0,   0,   0,   0,   0,   0,   0,   0,   0,   0,   0,   0,\n",
       "           0,   0,   0,   0,   0,   0,   0,   0,   0,   0,   0,   0,   0,   0],\n",
       "        [  0,   0,   0,   0,   0,   0,   0,   0,   0,   0,   0,   0,   0,   0,\n",
       "           0,   0,   0,   0,   0,   0,   0,   0,   0,   0,   0,   0,   0,   0]],\n",
       "       dtype=torch.uint8)"
      ]
     },
     "execution_count": 8,
     "metadata": {},
     "output_type": "execute_result"
    }
   ],
   "source": [
    "tensor(Image.open(threes[4]))"
   ]
  },
  {
   "cell_type": "markdown",
   "id": "36e2a40a-0ea7-4b73-bdcc-41cb9c13fcb3",
   "metadata": {
    "id": "36e2a40a-0ea7-4b73-bdcc-41cb9c13fcb3"
   },
   "source": [
    "- 여기에서 tensor는 파이토치가 아니라 fastai에서 구현한 함수임 "
   ]
  },
  {
   "cell_type": "markdown",
   "id": "a2b975bf-fd5f-4915-9905-75dc7b5c1e11",
   "metadata": {
    "id": "a2b975bf-fd5f-4915-9905-75dc7b5c1e11"
   },
   "source": [
    "`-` 여러개의 리스트를 모두 텐서로 바꿔보자. "
   ]
  },
  {
   "cell_type": "code",
   "execution_count": 9,
   "id": "c021d0cb-caf2-46a4-b101-e9a4581dfbb9",
   "metadata": {
    "id": "c021d0cb-caf2-46a4-b101-e9a4581dfbb9"
   },
   "outputs": [],
   "source": [
    "seven_tensor = torch.stack([tensor(Image.open(i)) for i in sevens]).float()/255\n",
    "three_tensor = torch.stack([tensor(Image.open(i)) for i in threes]).float()/255"
   ]
  },
  {
   "cell_type": "markdown",
   "id": "52adf4f6-1538-429c-9e97-ade1629ed98c",
   "metadata": {
    "id": "52adf4f6-1538-429c-9e97-ade1629ed98c"
   },
   "source": [
    "`-` $X$와 $y$를 만들자. "
   ]
  },
  {
   "cell_type": "code",
   "execution_count": 10,
   "id": "8530952e-db11-4258-a61f-82484da3d01f",
   "metadata": {
    "id": "8530952e-db11-4258-a61f-82484da3d01f",
    "outputId": "799ad2ac-f96c-4945-a982-5207327df449"
   },
   "outputs": [
    {
     "data": {
      "text/plain": [
       "(torch.Size([6265, 28, 28]), torch.Size([6131, 28, 28]))"
      ]
     },
     "execution_count": 10,
     "metadata": {},
     "output_type": "execute_result"
    }
   ],
   "source": [
    "seven_tensor.shape, three_tensor.shape"
   ]
  },
  {
   "cell_type": "code",
   "execution_count": 11,
   "id": "b1c18dea-07df-4d1a-af03-52320a039375",
   "metadata": {
    "id": "b1c18dea-07df-4d1a-af03-52320a039375"
   },
   "outputs": [],
   "source": [
    "y=torch.tensor([0.0]*6265+ [1.0]*6131).reshape(12396,1)"
   ]
  },
  {
   "cell_type": "code",
   "execution_count": 12,
   "id": "f6f19f64-4527-4f54-b7f1-3bfada66138c",
   "metadata": {
    "id": "f6f19f64-4527-4f54-b7f1-3bfada66138c"
   },
   "outputs": [],
   "source": [
    "X=torch.vstack([seven_tensor,three_tensor]).reshape(12396,-1)"
   ]
  },
  {
   "cell_type": "code",
   "execution_count": 13,
   "id": "525188e3-e476-4a67-aeaa-b72f21f81d7b",
   "metadata": {
    "id": "525188e3-e476-4a67-aeaa-b72f21f81d7b",
    "outputId": "e298e411-1792-40c7-b16f-70d6a3c5a9cc"
   },
   "outputs": [
    {
     "data": {
      "text/plain": [
       "(torch.Size([12396, 784]), torch.Size([12396, 1]))"
      ]
     },
     "execution_count": 13,
     "metadata": {},
     "output_type": "execute_result"
    }
   ],
   "source": [
    "X.shape, y.shape"
   ]
  },
  {
   "cell_type": "code",
   "execution_count": 14,
   "id": "eed2e9c8-0968-411b-b001-a1f0f57e437f",
   "metadata": {
    "id": "eed2e9c8-0968-411b-b001-a1f0f57e437f"
   },
   "outputs": [],
   "source": [
    "X=X.reshape(12396,1,28,28)"
   ]
  },
  {
   "cell_type": "code",
   "execution_count": 15,
   "id": "4e4aad3d-d379-426b-8b23-3738ab7ab002",
   "metadata": {
    "id": "4e4aad3d-d379-426b-8b23-3738ab7ab002",
    "outputId": "1fffd448-3e83-4f4e-a037-568c48b6eb16"
   },
   "outputs": [
    {
     "data": {
      "text/plain": [
       "torch.Size([12396, 1, 28, 28])"
      ]
     },
     "execution_count": 15,
     "metadata": {},
     "output_type": "execute_result"
    }
   ],
   "source": [
    "X.shape"
   ]
  },
  {
   "cell_type": "markdown",
   "id": "737bdbcc-6477-4d73-9caf-a5c592026ceb",
   "metadata": {
    "id": "737bdbcc-6477-4d73-9caf-a5c592026ceb",
    "tags": []
   },
   "source": [
    "### 1. 지난시간까지의 모형 (직접네트워크설계, pytorch)"
   ]
  },
  {
   "cell_type": "markdown",
   "id": "4aa846b1-7d79-400f-986d-573e5285740d",
   "metadata": {
    "id": "4aa846b1-7d79-400f-986d-573e5285740d",
    "tags": []
   },
   "source": [
    "#### 2d convolution with windowsize=5"
   ]
  },
  {
   "cell_type": "code",
   "execution_count": 16,
   "id": "250227c1-3fba-4648-b569-1fd32e21aa41",
   "metadata": {
    "id": "250227c1-3fba-4648-b569-1fd32e21aa41"
   },
   "outputs": [],
   "source": [
    "c1=torch.nn.Conv2d(1,16,5) # 입력채널=1 (흑백이므로), 출력채널=16, 윈도우크기5 "
   ]
  },
  {
   "cell_type": "code",
   "execution_count": 17,
   "id": "fb240922-7c77-438c-b341-d301ec8e62c6",
   "metadata": {
    "id": "fb240922-7c77-438c-b341-d301ec8e62c6",
    "outputId": "7cb42c47-b349-4bc5-b03b-9d4b21f7c80f"
   },
   "outputs": [
    {
     "data": {
      "text/plain": [
       "(torch.Size([12396, 1, 28, 28]), torch.Size([12396, 16, 24, 24]))"
      ]
     },
     "execution_count": 17,
     "metadata": {},
     "output_type": "execute_result"
    }
   ],
   "source": [
    "X.shape, c1(X).shape"
   ]
  },
  {
   "cell_type": "markdown",
   "id": "adf353ab-ee1d-4612-8b19-fc954669fe0a",
   "metadata": {
    "id": "adf353ab-ee1d-4612-8b19-fc954669fe0a"
   },
   "source": [
    "#### MaxPool2d"
   ]
  },
  {
   "cell_type": "code",
   "execution_count": 18,
   "id": "f59c84b5-bf3c-49f0-9515-b2f623afef7c",
   "metadata": {
    "id": "f59c84b5-bf3c-49f0-9515-b2f623afef7c"
   },
   "outputs": [],
   "source": [
    "m1=torch.nn.MaxPool2d(2)"
   ]
  },
  {
   "cell_type": "code",
   "execution_count": 19,
   "id": "f39a6b91-8a83-45d7-9a2b-ad7eb462a125",
   "metadata": {
    "id": "f39a6b91-8a83-45d7-9a2b-ad7eb462a125",
    "outputId": "f9c07cf8-7abb-4588-9935-d29370438b94"
   },
   "outputs": [
    {
     "data": {
      "text/plain": [
       "(torch.Size([12396, 1, 28, 28]),\n",
       " torch.Size([12396, 16, 24, 24]),\n",
       " torch.Size([12396, 16, 12, 12]))"
      ]
     },
     "execution_count": 19,
     "metadata": {},
     "output_type": "execute_result"
    }
   ],
   "source": [
    "X.shape,c1(X).shape,m1(c1(X)).shape"
   ]
  },
  {
   "cell_type": "markdown",
   "id": "67cb3097-0de6-4215-b1e2-98510a3cfb56",
   "metadata": {
    "id": "67cb3097-0de6-4215-b1e2-98510a3cfb56"
   },
   "source": [
    "#### ReLU "
   ]
  },
  {
   "cell_type": "code",
   "execution_count": 20,
   "id": "2b3d0b4b-9f78-4559-8833-a31025e67e48",
   "metadata": {
    "id": "2b3d0b4b-9f78-4559-8833-a31025e67e48"
   },
   "outputs": [],
   "source": [
    "a1=torch.nn.ReLU()"
   ]
  },
  {
   "cell_type": "code",
   "execution_count": 21,
   "id": "f8ed9b29-9a9c-4f33-8fc2-aaf812fe29ba",
   "metadata": {
    "id": "f8ed9b29-9a9c-4f33-8fc2-aaf812fe29ba",
    "outputId": "39690572-8a59-47cc-b4d6-d6dda1c66f6d"
   },
   "outputs": [
    {
     "data": {
      "text/plain": [
       "(torch.Size([12396, 1, 28, 28]),\n",
       " torch.Size([12396, 16, 24, 24]),\n",
       " torch.Size([12396, 16, 12, 12]),\n",
       " torch.Size([12396, 16, 12, 12]))"
      ]
     },
     "execution_count": 21,
     "metadata": {},
     "output_type": "execute_result"
    }
   ],
   "source": [
    "X.shape,c1(X).shape, m1(c1(X)).shape, a1(m1(c1(X))).shape"
   ]
  },
  {
   "cell_type": "markdown",
   "id": "9d7bb0d2-7a61-4ac1-919d-271fe931633c",
   "metadata": {
    "id": "9d7bb0d2-7a61-4ac1-919d-271fe931633c"
   },
   "source": [
    "#### flatten "
   ]
  },
  {
   "cell_type": "code",
   "execution_count": 22,
   "id": "02600bb9-6868-4825-a827-e57a3a6880ef",
   "metadata": {
    "id": "02600bb9-6868-4825-a827-e57a3a6880ef"
   },
   "outputs": [],
   "source": [
    "class Flatten(torch.nn.Module):\n",
    "    def forward(self,x): \n",
    "        return x.reshape(12396,-1)"
   ]
  },
  {
   "cell_type": "code",
   "execution_count": 23,
   "id": "66b7fde4-ab89-43d4-9144-19ced26b97a4",
   "metadata": {
    "id": "66b7fde4-ab89-43d4-9144-19ced26b97a4"
   },
   "outputs": [],
   "source": [
    "flatten=Flatten()"
   ]
  },
  {
   "cell_type": "code",
   "execution_count": 24,
   "id": "d5f4a324-7d81-4a0a-97d2-487cb7d379d9",
   "metadata": {
    "id": "d5f4a324-7d81-4a0a-97d2-487cb7d379d9",
    "outputId": "fe7d0517-9686-4476-f2ff-8e1297e9c60c"
   },
   "outputs": [
    {
     "data": {
      "text/plain": [
       "(torch.Size([12396, 1, 28, 28]),\n",
       " torch.Size([12396, 16, 24, 24]),\n",
       " torch.Size([12396, 16, 12, 12]),\n",
       " torch.Size([12396, 16, 12, 12]),\n",
       " torch.Size([12396, 2304]))"
      ]
     },
     "execution_count": 24,
     "metadata": {},
     "output_type": "execute_result"
    }
   ],
   "source": [
    "X.shape,c1(X).shape, m1(c1(X)).shape, a1(m1(c1(X))).shape, flatten(a1(m1(c1(X)))).shape"
   ]
  },
  {
   "cell_type": "markdown",
   "id": "c5177d85-1ead-43bf-a7c3-16d8bb63f7e0",
   "metadata": {
    "id": "c5177d85-1ead-43bf-a7c3-16d8bb63f7e0"
   },
   "source": [
    "#### linear "
   ]
  },
  {
   "cell_type": "code",
   "execution_count": 25,
   "id": "4fb124b8-c5f0-48f4-b305-7c57ae58787d",
   "metadata": {
    "id": "4fb124b8-c5f0-48f4-b305-7c57ae58787d"
   },
   "outputs": [],
   "source": [
    "l1=torch.nn.Linear(in_features=2304,out_features=1) "
   ]
  },
  {
   "cell_type": "code",
   "execution_count": 26,
   "id": "ed0b5d54-2e02-4cd0-afbd-ee450088e08e",
   "metadata": {
    "id": "ed0b5d54-2e02-4cd0-afbd-ee450088e08e",
    "outputId": "3238f34e-a9d3-4ef7-cc7b-67a5762ad855"
   },
   "outputs": [
    {
     "data": {
      "text/plain": [
       "(torch.Size([12396, 1, 28, 28]),\n",
       " torch.Size([12396, 16, 24, 24]),\n",
       " torch.Size([12396, 16, 12, 12]),\n",
       " torch.Size([12396, 16, 12, 12]),\n",
       " torch.Size([12396, 2304]),\n",
       " torch.Size([12396, 1]))"
      ]
     },
     "execution_count": 26,
     "metadata": {},
     "output_type": "execute_result"
    }
   ],
   "source": [
    "X.shape,\\\n",
    "c1(X).shape, \\\n",
    "m1(c1(X)).shape, \\\n",
    "a1(m1(c1(X))).shape, \\\n",
    "flatten(a1(m1(c1(X)))).shape, \\\n",
    "l1(flatten(a1(m1(c1(X))))).shape"
   ]
  },
  {
   "cell_type": "code",
   "execution_count": 27,
   "id": "998c90bb-d3a6-4ae4-b626-06a0a716fae2",
   "metadata": {
    "id": "998c90bb-d3a6-4ae4-b626-06a0a716fae2",
    "outputId": "89c8bd98-6665-49c6-b32c-9cdf4b4e7b73"
   },
   "outputs": [
    {
     "data": {
      "text/plain": [
       "[<matplotlib.lines.Line2D at 0x7fbb6f340b50>]"
      ]
     },
     "execution_count": 27,
     "metadata": {},
     "output_type": "execute_result"
    },
    {
     "data": {
      "image/png": "[encoded data removed]",
      "text/plain": [
       "<Figure size 432x288 with 1 Axes>"
      ]
     },
     "metadata": {
      "needs_background": "light"
     },
     "output_type": "display_data"
    }
   ],
   "source": [
    "plt.plot(l1(flatten(a1(m1(c1(X))))).data)"
   ]
  },
  {
   "cell_type": "markdown",
   "id": "2642654c-c57b-42f4-9ad7-919c44b2ba02",
   "metadata": {},
   "source": [
    "- 학습이 되지 않아서 분리되지 않은 모습이다."
   ]
  },
  {
   "cell_type": "markdown",
   "id": "f3bcef3d-31d0-43b6-be21-f8e630307aa8",
   "metadata": {
    "id": "f3bcef3d-31d0-43b6-be21-f8e630307aa8"
   },
   "source": [
    "#### networks 설계 "
   ]
  },
  {
   "cell_type": "code",
   "execution_count": 28,
   "id": "d0ff02c4-9be8-4514-8b15-104383952a56",
   "metadata": {
    "id": "d0ff02c4-9be8-4514-8b15-104383952a56"
   },
   "outputs": [],
   "source": [
    "net = nn.Sequential(c1,m1,a1,flatten,l1)\n",
    "## 마지막의 sigmoid는 생략한다. torch.nn..BCEWithLogitsLoss()에 내장되어 있을것이므로 "
   ]
  },
  {
   "cell_type": "markdown",
   "id": "589470aa-77f1-4b07-ae3c-862a9e6ef217",
   "metadata": {
    "id": "589470aa-77f1-4b07-ae3c-862a9e6ef217"
   },
   "source": [
    "`-` 손실함수와 옵티마이저 정의 "
   ]
  },
  {
   "cell_type": "code",
   "execution_count": 29,
   "id": "5557f21d-e49f-4c59-82df-5a3def4c7373",
   "metadata": {
    "id": "5557f21d-e49f-4c59-82df-5a3def4c7373"
   },
   "outputs": [],
   "source": [
    "loss_fn=torch.nn.BCEWithLogitsLoss()\n",
    "optimizer= torch.optim.Adam(net.parameters())"
   ]
  },
  {
   "cell_type": "markdown",
   "id": "ad4acb60-c25e-4456-bef9-02494f690251",
   "metadata": {
    "id": "ad4acb60-c25e-4456-bef9-02494f690251"
   },
   "source": [
    "`-` step1~4"
   ]
  },
  {
   "cell_type": "code",
   "execution_count": 30,
   "id": "428e4b35-c9b0-40e9-b437-e02382626977",
   "metadata": {
    "id": "428e4b35-c9b0-40e9-b437-e02382626977"
   },
   "outputs": [],
   "source": [
    "for epoc in range(200): \n",
    "    ## 1 \n",
    "    yhat=net(X)\n",
    "    ## 2 \n",
    "    loss=loss_fn(yhat,y) \n",
    "    ## 3 \n",
    "    loss.backward()\n",
    "    ## 4 \n",
    "    optimizer.step()\n",
    "    net.zero_grad()"
   ]
  },
  {
   "cell_type": "code",
   "execution_count": 31,
   "id": "eb62dcb0-e013-4cf7-88cd-c8c21dbd472c",
   "metadata": {
    "id": "eb62dcb0-e013-4cf7-88cd-c8c21dbd472c"
   },
   "outputs": [],
   "source": [
    "a2= torch.nn.Sigmoid()"
   ]
  },
  {
   "cell_type": "code",
   "execution_count": 32,
   "id": "c02ffd43-ab88-423f-9970-5b211bbba28e",
   "metadata": {
    "id": "c02ffd43-ab88-423f-9970-5b211bbba28e",
    "outputId": "612194cc-9004-4654-d164-85dc2fc9b3db"
   },
   "outputs": [
    {
     "data": {
      "text/plain": [
       "[<matplotlib.lines.Line2D at 0x7fbb6f158490>]"
      ]
     },
     "execution_count": 32,
     "metadata": {},
     "output_type": "execute_result"
    },
    {
     "data": {
      "image/png": "[encoded data removed]",
      "text/plain": [
       "<Figure size 432x288 with 1 Axes>"
      ]
     },
     "metadata": {
      "needs_background": "light"
     },
     "output_type": "display_data"
    }
   ],
   "source": [
    "plt.plot(y)\n",
    "plt.plot(a2(yhat.data),'.')"
   ]
  },
  {
   "cell_type": "code",
   "execution_count": 33,
   "id": "c18f3ae9-5a83-4443-bfa3-e632636d62d5",
   "metadata": {
    "id": "c18f3ae9-5a83-4443-bfa3-e632636d62d5"
   },
   "outputs": [],
   "source": [
    "ypred=a2(yhat.data)>0.5 "
   ]
  },
  {
   "cell_type": "code",
   "execution_count": 34,
   "id": "702b1e57-0fa9-434d-a0c6-e368faefdf5f",
   "metadata": {
    "id": "702b1e57-0fa9-434d-a0c6-e368faefdf5f",
    "outputId": "f6774785-0a66-47c1-fd44-4867dadbcc26"
   },
   "outputs": [
    {
     "data": {
      "text/plain": [
       "tensor([0.9925])"
      ]
     },
     "execution_count": 34,
     "metadata": {},
     "output_type": "execute_result"
    }
   ],
   "source": [
    "sum(ypred==y)/12396"
   ]
  },
  {
   "cell_type": "markdown",
   "id": "a7488c30-2e54-4dc5-b42c-b1190dc4054b",
   "metadata": {
    "id": "a7488c30-2e54-4dc5-b42c-b1190dc4054b"
   },
   "source": [
    "### 2. 드랍아웃, 배치추가 (직접네트워크설계, pytorch+fastai) "
   ]
  },
  {
   "cell_type": "markdown",
   "id": "84b80298-3c82-4205-9fc9-e98e7b38e3df",
   "metadata": {
    "id": "84b80298-3c82-4205-9fc9-e98e7b38e3df"
   },
   "source": [
    "#### step1: dls를 만들자. "
   ]
  },
  {
   "cell_type": "code",
   "execution_count": 35,
   "id": "0a7f283e-ec07-42e7-92bb-f0e04a6ab986",
   "metadata": {
    "id": "0a7f283e-ec07-42e7-92bb-f0e04a6ab986"
   },
   "outputs": [],
   "source": [
    "ds=torch.utils.data.TensorDataset(X,y)"
   ]
  },
  {
   "cell_type": "code",
   "execution_count": 36,
   "id": "148eac13-3bf0-407b-bac6-37926cecc9ba",
   "metadata": {
    "id": "148eac13-3bf0-407b-bac6-37926cecc9ba",
    "outputId": "fbfe3959-cea5-42de-e768-6148f633fea6"
   },
   "outputs": [
    {
     "data": {
      "text/plain": [
       "torch.Size([12396, 1, 28, 28])"
      ]
     },
     "execution_count": 36,
     "metadata": {},
     "output_type": "execute_result"
    }
   ],
   "source": [
    "ds.tensors[0].shape  #이미지 자체가 들어간 모습"
   ]
  },
  {
   "cell_type": "markdown",
   "id": "cb0ac306-cc0a-4e39-90c2-2e7cd787e8f5",
   "metadata": {},
   "source": [
    "- training/validation으로 나누자\n",
    "- 10000개는 training, 2396개는 validation"
   ]
  },
  {
   "cell_type": "code",
   "execution_count": 37,
   "id": "0f96d874-1f22-4b9e-8963-acf72bdb2b87",
   "metadata": {
    "id": "0f96d874-1f22-4b9e-8963-acf72bdb2b87"
   },
   "outputs": [],
   "source": [
    "ds1,ds2 = torch.utils.data.random_split(ds,[10000,2396]) "
   ]
  },
  {
   "cell_type": "code",
   "execution_count": 38,
   "id": "2d9c79bd-314f-47f3-b6ba-d1c1db60ba49",
   "metadata": {
    "id": "2d9c79bd-314f-47f3-b6ba-d1c1db60ba49"
   },
   "outputs": [],
   "source": [
    "dl1 = torch.utils.data.DataLoader(ds1,batch_size=500) \n",
    "dl2 = torch.utils.data.DataLoader(ds2,batch_size=2396) "
   ]
  },
  {
   "cell_type": "markdown",
   "id": "9a74d929-1343-476c-b895-446d264fa827",
   "metadata": {},
   "source": [
    "- 트레이닝 데이터는 배치사이즈 500으로 나눠줬다"
   ]
  },
  {
   "cell_type": "code",
   "execution_count": 39,
   "id": "4dc92741-6de2-457b-ac60-cdc2d0582c0a",
   "metadata": {
    "id": "4dc92741-6de2-457b-ac60-cdc2d0582c0a"
   },
   "outputs": [],
   "source": [
    "dls=DataLoaders(dl1,dl2) #여기부터 fastai"
   ]
  },
  {
   "cell_type": "markdown",
   "id": "4a1bd941-8a57-4dfa-acca-577690e69b93",
   "metadata": {
    "id": "4a1bd941-8a57-4dfa-acca-577690e69b93",
    "tags": []
   },
   "source": [
    "#### step2: 아키텍처, 손실함수, 옵티마이저 "
   ]
  },
  {
   "cell_type": "code",
   "execution_count": 40,
   "id": "6c5d55be-e741-44a0-934d-64c2526ff7d1",
   "metadata": {},
   "outputs": [
    {
     "data": {
      "text/plain": [
       "torch.Size([12396, 1, 28, 28])"
      ]
     },
     "execution_count": 40,
     "metadata": {},
     "output_type": "execute_result"
    }
   ],
   "source": [
    "X.shape"
   ]
  },
  {
   "cell_type": "code",
   "execution_count": 41,
   "id": "92942806-88bb-4cf6-932c-51a35a4ea07e",
   "metadata": {
    "id": "92942806-88bb-4cf6-932c-51a35a4ea07e"
   },
   "outputs": [],
   "source": [
    "class Flatten(torch.nn.Module):\n",
    "    def forward(self,x): \n",
    "        return x.reshape(x.shape[0],-1)"
   ]
  },
  {
   "cell_type": "markdown",
   "id": "25cfb1d8-0c4f-43db-9924-e1fa98e33211",
   "metadata": {},
   "source": [
    "- 이전 예제에서는 직접 값을 넣어줬는데 이번에는 열로 지정"
   ]
  },
  {
   "cell_type": "code",
   "execution_count": 42,
   "id": "3d96af86-5962-4e43-9545-e8ac179843e0",
   "metadata": {
    "id": "3d96af86-5962-4e43-9545-e8ac179843e0"
   },
   "outputs": [],
   "source": [
    "net=torch.nn.Sequential(\n",
    "    torch.nn.Conv2d(1,16,5), \n",
    "    torch.nn.MaxPool2d(2), \n",
    "    torch.nn.ReLU(),\n",
    "    torch.nn.Dropout2d(), #dropout에도 2D!\n",
    "    Flatten(),\n",
    "    torch.nn.Linear(2304,1))"
   ]
  },
  {
   "cell_type": "code",
   "execution_count": 43,
   "id": "0da0d260-bc5c-4130-89fb-2928cf72adac",
   "metadata": {
    "id": "0da0d260-bc5c-4130-89fb-2928cf72adac"
   },
   "outputs": [],
   "source": [
    "loss_fn=torch.nn.BCEWithLogitsLoss()\n",
    "#optimizer= torch.optim.Adam(net.parameters()) : 러너에서 옵션으로 들어가기 때문에 주석 처리"
   ]
  },
  {
   "cell_type": "markdown",
   "id": "3c8c6d20-d294-49cd-89cc-3c9407435237",
   "metadata": {
    "id": "3c8c6d20-d294-49cd-89cc-3c9407435237"
   },
   "source": [
    "#### step3: lrnr 생성 후 적합"
   ]
  },
  {
   "cell_type": "code",
   "execution_count": 44,
   "id": "c95b38c7-7a09-4c30-b90a-439709109a2f",
   "metadata": {
    "id": "c95b38c7-7a09-4c30-b90a-439709109a2f"
   },
   "outputs": [],
   "source": [
    "lrnr1 = Learner(dls,net,opt_func=Adam,loss_func=loss_fn) "
   ]
  },
  {
   "cell_type": "code",
   "execution_count": 45,
   "id": "29acdef5-1b67-4628-b4b4-607bbc2ab616",
   "metadata": {
    "id": "29acdef5-1b67-4628-b4b4-607bbc2ab616",
    "outputId": "842abff6-a8de-4886-deb1-c45e235035b9"
   },
   "outputs": [
    {
     "data": {
      "text/html": [
       "<table border=\"1\" class=\"dataframe\">\n",
       "  <thead>\n",
       "    <tr style=\"text-align: left;\">\n",
       "      <th>epoch</th>\n",
       "      <th>train_loss</th>\n",
       "      <th>valid_loss</th>\n",
       "      <th>time</th>\n",
       "    </tr>\n",
       "  </thead>\n",
       "  <tbody>\n",
       "    <tr>\n",
       "      <td>0</td>\n",
       "      <td>0.423429</td>\n",
       "      <td>0.211979</td>\n",
       "      <td>00:00</td>\n",
       "    </tr>\n",
       "    <tr>\n",
       "      <td>1</td>\n",
       "      <td>0.257305</td>\n",
       "      <td>0.089080</td>\n",
       "      <td>00:00</td>\n",
       "    </tr>\n",
       "    <tr>\n",
       "      <td>2</td>\n",
       "      <td>0.176406</td>\n",
       "      <td>0.066869</td>\n",
       "      <td>00:00</td>\n",
       "    </tr>\n",
       "    <tr>\n",
       "      <td>3</td>\n",
       "      <td>0.132031</td>\n",
       "      <td>0.057877</td>\n",
       "      <td>00:00</td>\n",
       "    </tr>\n",
       "    <tr>\n",
       "      <td>4</td>\n",
       "      <td>0.104421</td>\n",
       "      <td>0.052093</td>\n",
       "      <td>00:00</td>\n",
       "    </tr>\n",
       "    <tr>\n",
       "      <td>5</td>\n",
       "      <td>0.086606</td>\n",
       "      <td>0.048054</td>\n",
       "      <td>00:00</td>\n",
       "    </tr>\n",
       "    <tr>\n",
       "      <td>6</td>\n",
       "      <td>0.074307</td>\n",
       "      <td>0.044980</td>\n",
       "      <td>00:00</td>\n",
       "    </tr>\n",
       "    <tr>\n",
       "      <td>7</td>\n",
       "      <td>0.064603</td>\n",
       "      <td>0.041866</td>\n",
       "      <td>00:00</td>\n",
       "    </tr>\n",
       "    <tr>\n",
       "      <td>8</td>\n",
       "      <td>0.058012</td>\n",
       "      <td>0.039282</td>\n",
       "      <td>00:00</td>\n",
       "    </tr>\n",
       "    <tr>\n",
       "      <td>9</td>\n",
       "      <td>0.052672</td>\n",
       "      <td>0.037370</td>\n",
       "      <td>00:00</td>\n",
       "    </tr>\n",
       "  </tbody>\n",
       "</table>"
      ],
      "text/plain": [
       "<IPython.core.display.HTML object>"
      ]
     },
     "metadata": {},
     "output_type": "display_data"
    }
   ],
   "source": [
    "lrnr1.fit(10)"
   ]
  },
  {
   "cell_type": "markdown",
   "id": "8ed4f885-8d43-4792-a726-219bf6401ff0",
   "metadata": {},
   "source": [
    "> **왜 10번만 돌렸을까?**  \n",
    "  우리가 넣은 데이터는 총 10,000개, 배치 사이즈는 500  $\\to$ 20번이 1 epoc  \n",
    "  이전 예제에서 총 200번 학습하였기 때문에 10*20=200이므로 10번만 학습하면 된다."
   ]
  },
  {
   "cell_type": "markdown",
   "id": "15f944de-b4f2-4818-adbb-8543ec39382f",
   "metadata": {
    "id": "15f944de-b4f2-4818-adbb-8543ec39382f"
   },
   "source": [
    "`-` 결과를 시각화하면 아래와 같다. "
   ]
  },
  {
   "cell_type": "code",
   "execution_count": 46,
   "id": "ba08639f-8784-4586-b81d-c724d2e187db",
   "metadata": {
    "id": "ba08639f-8784-4586-b81d-c724d2e187db",
    "outputId": "6ebe4bd4-d779-44c5-a094-b73ad71467d5"
   },
   "outputs": [
    {
     "data": {
      "text/plain": [
       "[<matplotlib.lines.Line2D at 0x7fbb6dce6880>]"
      ]
     },
     "execution_count": 46,
     "metadata": {},
     "output_type": "execute_result"
    },
    {
     "data": {
      "image/png": "[encoded data removed]",
      "text/plain": [
       "<Figure size 432x288 with 1 Axes>"
      ]
     },
     "metadata": {
      "needs_background": "light"
     },
     "output_type": "display_data"
    }
   ],
   "source": [
    "plt.plot(a2(net(X.to(\"cuda:0\")).to(\"cpu\").data),'.')"
   ]
  },
  {
   "cell_type": "markdown",
   "id": "f6887f6e-3945-4aa2-9153-a650d0d20108",
   "metadata": {},
   "source": [
    "> 네트워크의 parameter가 GPU(cuda:0)에 올라가 있기 때문에 X도 GPU에 올려주고 다시 CPU로 옮겨야 그림을 그릴 수 있음.\n",
    "->사실 GPU에 올려서 그려도 되는데 메모리 아끼기 위한..?"
   ]
  },
  {
   "cell_type": "markdown",
   "id": "e2ad3912-7ff2-4280-8634-70de5360bb9a",
   "metadata": {
    "id": "e2ad3912-7ff2-4280-8634-70de5360bb9a"
   },
   "source": [
    "`-` 빠르고 적합결과도 좋음 "
   ]
  },
  {
   "cell_type": "markdown",
   "id": "9143603a-3460-4ed9-ab59-e4162d172809",
   "metadata": {
    "id": "9143603a-3460-4ed9-ab59-e4162d172809",
    "tags": []
   },
   "source": [
    "### 3. resnet34 (기존의 네트워크 사용, 순수 fastai)"
   ]
  },
  {
   "cell_type": "markdown",
   "id": "a84b63cb-349a-404d-ab96-8e375b4dbefc",
   "metadata": {
    "id": "a84b63cb-349a-404d-ab96-8e375b4dbefc"
   },
   "source": [
    "`-` 데이터로부터 새로운 데이터로더스를 만들고 이를 dls2라고 하자.\n",
    "* 전에 만든 거 쓰면 안됨!!"
   ]
  },
  {
   "cell_type": "code",
   "execution_count": 47,
   "id": "370e4e59-b3ac-4ef2-badc-2a60a5c00a8d",
   "metadata": {
    "id": "370e4e59-b3ac-4ef2-badc-2a60a5c00a8d",
    "outputId": "82074220-ebc7-479d-940b-6b167c2df87e"
   },
   "outputs": [
    {
     "data": {
      "text/plain": [
       "Path('/home/khy/.fastai/data/mnist_sample')"
      ]
     },
     "execution_count": 47,
     "metadata": {},
     "output_type": "execute_result"
    }
   ],
   "source": [
    "path=untar_data(URLs.MNIST_SAMPLE) \n",
    "path"
   ]
  },
  {
   "cell_type": "code",
   "execution_count": 48,
   "id": "8c4cb9ed-d17b-476d-a1cd-d587fcb116cd",
   "metadata": {
    "id": "8c4cb9ed-d17b-476d-a1cd-d587fcb116cd"
   },
   "outputs": [],
   "source": [
    "dls2=ImageDataLoaders.from_folder(\n",
    "    path,\n",
    "    train='train',\n",
    "    valid_pct=0.2)     "
   ]
  },
  {
   "cell_type": "markdown",
   "id": "da9f95aa-fddf-411e-bea2-d1342d5f499a",
   "metadata": {},
   "source": [
    "> 참고 : 가수 사진 분류 하기"
   ]
  },
  {
   "cell_type": "markdown",
   "id": "7c6b7f57-06ab-419b-9309-a8e2084b3784",
   "metadata": {
    "id": "7c6b7f57-06ab-419b-9309-a8e2084b3784"
   },
   "source": [
    "`-` 러너오브젝트를 생성하고 학습하자. "
   ]
  },
  {
   "cell_type": "code",
   "execution_count": 49,
   "id": "88239f97-ea8a-45ea-a811-16ac9befb566",
   "metadata": {
    "id": "88239f97-ea8a-45ea-a811-16ac9befb566",
    "outputId": "8fe5896f-521a-4736-ff80-0e9402309816"
   },
   "outputs": [
    {
     "data": {
      "text/html": [
       "<table border=\"1\" class=\"dataframe\">\n",
       "  <thead>\n",
       "    <tr style=\"text-align: left;\">\n",
       "      <th>epoch</th>\n",
       "      <th>train_loss</th>\n",
       "      <th>valid_loss</th>\n",
       "      <th>error_rate</th>\n",
       "      <th>time</th>\n",
       "    </tr>\n",
       "  </thead>\n",
       "  <tbody>\n",
       "    <tr>\n",
       "      <td>0</td>\n",
       "      <td>0.312044</td>\n",
       "      <td>0.162629</td>\n",
       "      <td>0.054054</td>\n",
       "      <td>00:05</td>\n",
       "    </tr>\n",
       "  </tbody>\n",
       "</table>"
      ],
      "text/plain": [
       "<IPython.core.display.HTML object>"
      ]
     },
     "metadata": {},
     "output_type": "display_data"
    },
    {
     "data": {
      "text/html": [
       "<table border=\"1\" class=\"dataframe\">\n",
       "  <thead>\n",
       "    <tr style=\"text-align: left;\">\n",
       "      <th>epoch</th>\n",
       "      <th>train_loss</th>\n",
       "      <th>valid_loss</th>\n",
       "      <th>error_rate</th>\n",
       "      <th>time</th>\n",
       "    </tr>\n",
       "  </thead>\n",
       "  <tbody>\n",
       "    <tr>\n",
       "      <td>0</td>\n",
       "      <td>0.043864</td>\n",
       "      <td>0.020806</td>\n",
       "      <td>0.007623</td>\n",
       "      <td>00:05</td>\n",
       "    </tr>\n",
       "  </tbody>\n",
       "</table>"
      ],
      "text/plain": [
       "<IPython.core.display.HTML object>"
      ]
     },
     "metadata": {},
     "output_type": "display_data"
    }
   ],
   "source": [
    "lrnr2=cnn_learner(dls2,resnet34,metrics=error_rate)\n",
    "lrnr2.fine_tune(1)"
   ]
  },
  {
   "cell_type": "markdown",
   "id": "05806159-6d88-4b56-9704-781114c7a98e",
   "metadata": {
    "id": "05806159-6d88-4b56-9704-781114c7a98e"
   },
   "source": [
    "`-` 결과관찰"
   ]
  },
  {
   "cell_type": "code",
   "execution_count": 50,
   "id": "1e095c86-7c2a-4e0a-b1a4-63f7f529f91e",
   "metadata": {
    "id": "1e095c86-7c2a-4e0a-b1a4-63f7f529f91e",
    "outputId": "30d1027e-33d2-49d3-d71f-fa1d42eb9e10"
   },
   "outputs": [
    {
     "data": {
      "text/html": [],
      "text/plain": [
       "<IPython.core.display.HTML object>"
      ]
     },
     "metadata": {},
     "output_type": "display_data"
    },
    {
     "data": {
      "image/png": "[encoded data removed]",
      "text/plain": [
       "<Figure size 648x648 with 9 Axes>"
      ]
     },
     "metadata": {
      "needs_background": "light"
     },
     "output_type": "display_data"
    }
   ],
   "source": [
    "lrnr2.show_results()"
   ]
  },
  {
   "cell_type": "markdown",
   "id": "b1e04b49-4f99-499b-b52f-7ed0bf712ad1",
   "metadata": {
    "id": "b1e04b49-4f99-499b-b52f-7ed0bf712ad1"
   },
   "source": [
    "### 모형을 뜯어보는 방법 (lrnr1.model)"
   ]
  },
  {
   "cell_type": "markdown",
   "id": "7c3af94c-249b-478d-8a45-72f641dab27b",
   "metadata": {
    "id": "7c3af94c-249b-478d-8a45-72f641dab27b"
   },
   "source": [
    "`-` 우선 방법2로 돌아가자."
   ]
  },
  {
   "cell_type": "code",
   "execution_count": 51,
   "id": "7c4e3cec-05c9-4980-9247-125e4eb3f56a",
   "metadata": {
    "id": "7c4e3cec-05c9-4980-9247-125e4eb3f56a",
    "outputId": "d61d86f0-fcfd-434f-ac78-19abebad7787"
   },
   "outputs": [
    {
     "data": {
      "text/plain": [
       "tensor([[-10.7490],\n",
       "        [ -0.9917],\n",
       "        [ -7.9382],\n",
       "        ...,\n",
       "        [ 11.1710],\n",
       "        [ 14.0146],\n",
       "        [ 12.4753]], device='cuda:0', grad_fn=<AddmmBackward>)"
      ]
     },
     "execution_count": 51,
     "metadata": {},
     "output_type": "execute_result"
    }
   ],
   "source": [
    "net(X.to(\"cuda:0\"))  #적합결과"
   ]
  },
  {
   "cell_type": "markdown",
   "id": "229cbb84-f947-4925-bc36-d413c426434b",
   "metadata": {
    "id": "229cbb84-f947-4925-bc36-d413c426434b"
   },
   "source": [
    "`-` 네트워크 구조"
   ]
  },
  {
   "cell_type": "code",
   "execution_count": 52,
   "id": "3e95b9ab-75d9-4943-a692-f8bc8b7a5dc4",
   "metadata": {
    "id": "3e95b9ab-75d9-4943-a692-f8bc8b7a5dc4",
    "outputId": "2d3f5c30-e99a-4f5a-a95f-980c21f3f0a4"
   },
   "outputs": [
    {
     "data": {
      "text/plain": [
       "Sequential(\n",
       "  (0): Conv2d(1, 16, kernel_size=(5, 5), stride=(1, 1))\n",
       "  (1): MaxPool2d(kernel_size=2, stride=2, padding=0, dilation=1, ceil_mode=False)\n",
       "  (2): ReLU()\n",
       "  (3): Dropout2d(p=0.5, inplace=False)\n",
       "  (4): Flatten()\n",
       "  (5): Linear(in_features=2304, out_features=1, bias=True)\n",
       ")"
      ]
     },
     "execution_count": 52,
     "metadata": {},
     "output_type": "execute_result"
    }
   ],
   "source": [
    "net"
   ]
  },
  {
   "cell_type": "code",
   "execution_count": 53,
   "id": "4ea83b58-7cac-45ff-a6d5-80979343c007",
   "metadata": {},
   "outputs": [
    {
     "data": {
      "text/plain": [
       "MaxPool2d(kernel_size=2, stride=2, padding=0, dilation=1, ceil_mode=False)"
      ]
     },
     "execution_count": 53,
     "metadata": {},
     "output_type": "execute_result"
    }
   ],
   "source": [
    "net[1]  #층별로 확인할 수 있음"
   ]
  },
  {
   "cell_type": "markdown",
   "id": "6e56fdc2-21d2-48bb-8be3-ce4d171156cc",
   "metadata": {
    "id": "6e56fdc2-21d2-48bb-8be3-ce4d171156cc"
   },
   "source": [
    "`-` 층별변환과정"
   ]
  },
  {
   "cell_type": "code",
   "execution_count": 54,
   "id": "cd476c5c-dd0d-44fa-b4ca-bce37f7b9489",
   "metadata": {
    "id": "cd476c5c-dd0d-44fa-b4ca-bce37f7b9489",
    "outputId": "538256d4-22e3-42b8-caf3-d745c02e5207"
   },
   "outputs": [
    {
     "name": "stdout",
     "output_type": "stream",
     "text": [
      "torch.Size([12396, 1, 28, 28]) --> input image\n",
      "torch.Size([12396, 16, 24, 24]) --> 2dConv\n",
      "torch.Size([12396, 16, 12, 12]) --> MaxPool2d\n",
      "torch.Size([12396, 16, 12, 12]) --> ReLU\n",
      "torch.Size([12396, 16, 12, 12]) --> Dropout2d\n",
      "torch.Size([12396, 2304]) --> Flatten\n",
      "torch.Size([12396, 1]) --> Linear\n"
     ]
    }
   ],
   "source": [
    "print(X.shape, '--> input image')\n",
    "print(net[0](X.to(\"cuda:0\")).shape, '--> 2dConv')\n",
    "print(net[1](net[0](X.to(\"cuda:0\"))).shape, '--> MaxPool2d')\n",
    "print(net[2](net[1](net[0](X.to(\"cuda:0\")))).shape, '--> ReLU')\n",
    "print(net[3](net[2](net[1](net[0](X.to(\"cuda:0\"))))).shape, '--> Dropout2d')\n",
    "print(net[4](net[3](net[2](net[1](net[0](X.to(\"cuda:0\")))))).shape, '--> Flatten')\n",
    "print(net[5](net[4](net[3](net[2](net[1](net[0](X.to(\"cuda:0\"))))))).shape, '--> Linear')"
   ]
  },
  {
   "cell_type": "markdown",
   "id": "d1d26543-b405-48e7-a724-4d7ad81abe2d",
   "metadata": {
    "id": "d1d26543-b405-48e7-a724-4d7ad81abe2d"
   },
   "source": [
    "`-` 최종결과"
   ]
  },
  {
   "cell_type": "code",
   "execution_count": 55,
   "id": "7f566088-8853-4dab-a3f5-bd884aa772c6",
   "metadata": {
    "id": "7f566088-8853-4dab-a3f5-bd884aa772c6",
    "outputId": "7de62dfb-0d4c-4fea-ae11-877bbf9e4669"
   },
   "outputs": [
    {
     "data": {
      "text/plain": [
       "tensor([[-10.7490],\n",
       "        [ -0.9917],\n",
       "        [ -7.9382],\n",
       "        ...,\n",
       "        [ 11.1710],\n",
       "        [ 14.0146],\n",
       "        [ 12.4753]], device='cuda:0', grad_fn=<AddmmBackward>)"
      ]
     },
     "execution_count": 55,
     "metadata": {},
     "output_type": "execute_result"
    }
   ],
   "source": [
    "net[5](net[4](net[3](net[2](net[1](net[0](X.to(\"cuda:0\")))))))"
   ]
  },
  {
   "cell_type": "code",
   "execution_count": 56,
   "id": "57401f49-d35a-443e-9b21-304c507374b7",
   "metadata": {
    "id": "57401f49-d35a-443e-9b21-304c507374b7",
    "outputId": "9aa5e8d2-87c8-43fa-830a-636576163b94"
   },
   "outputs": [
    {
     "data": {
      "text/plain": [
       "tensor([[-10.7490],\n",
       "        [ -0.9917],\n",
       "        [ -7.9382],\n",
       "        ...,\n",
       "        [ 11.1710],\n",
       "        [ 14.0146],\n",
       "        [ 12.4753]], device='cuda:0', grad_fn=<AddmmBackward>)"
      ]
     },
     "execution_count": 56,
     "metadata": {},
     "output_type": "execute_result"
    }
   ],
   "source": [
    "net(X.to(\"cuda:0\"))"
   ]
  },
  {
   "cell_type": "markdown",
   "id": "e3e4c524-be50-43ed-9928-1ce53c44a22f",
   "metadata": {
    "id": "e3e4c524-be50-43ed-9928-1ce53c44a22f"
   },
   "source": [
    "`-` lrnr1자체를 활용해도 층별변환과정을 추적할수 있음. (lrnr1.model = net 임을 이용) "
   ]
  },
  {
   "cell_type": "code",
   "execution_count": 57,
   "id": "9de46a7a-a711-45f9-a106-afddf39493c1",
   "metadata": {
    "id": "9de46a7a-a711-45f9-a106-afddf39493c1",
    "outputId": "8cd5d747-1ada-4388-e4b0-9613dc0e8f96"
   },
   "outputs": [
    {
     "data": {
      "text/plain": [
       "Sequential(\n",
       "  (0): Conv2d(1, 16, kernel_size=(5, 5), stride=(1, 1))\n",
       "  (1): MaxPool2d(kernel_size=2, stride=2, padding=0, dilation=1, ceil_mode=False)\n",
       "  (2): ReLU()\n",
       "  (3): Dropout2d(p=0.5, inplace=False)\n",
       "  (4): Flatten()\n",
       "  (5): Linear(in_features=2304, out_features=1, bias=True)\n",
       ")"
      ]
     },
     "execution_count": 57,
     "metadata": {},
     "output_type": "execute_result"
    }
   ],
   "source": [
    "lrnr1.model"
   ]
  },
  {
   "cell_type": "code",
   "execution_count": 58,
   "id": "9226fd7e-10eb-4e85-aa32-9cae22e13a92",
   "metadata": {
    "id": "9226fd7e-10eb-4e85-aa32-9cae22e13a92",
    "outputId": "f54b7e30-b9e4-48e5-9508-58c51e7e478a"
   },
   "outputs": [
    {
     "data": {
      "text/plain": [
       "Conv2d(1, 16, kernel_size=(5, 5), stride=(1, 1))"
      ]
     },
     "execution_count": 58,
     "metadata": {},
     "output_type": "execute_result"
    }
   ],
   "source": [
    "lrnr1.model[0]"
   ]
  },
  {
   "cell_type": "code",
   "execution_count": 59,
   "id": "ff947b2f-7a93-4005-b11a-13cdd0b93a65",
   "metadata": {
    "id": "ff947b2f-7a93-4005-b11a-13cdd0b93a65",
    "outputId": "8fd80b7d-afff-4e5b-92a2-3b2fe859fa80"
   },
   "outputs": [
    {
     "data": {
      "text/plain": [
       "tensor([[-10.7490],\n",
       "        [ -0.9917],\n",
       "        [ -7.9382],\n",
       "        ...,\n",
       "        [ 11.1710],\n",
       "        [ 14.0146],\n",
       "        [ 12.4753]], device='cuda:0', grad_fn=<AddmmBackward>)"
      ]
     },
     "execution_count": 59,
     "metadata": {},
     "output_type": "execute_result"
    }
   ],
   "source": [
    "lrnr1.model(X.to(\"cuda:0\"))"
   ]
  },
  {
   "cell_type": "code",
   "execution_count": 60,
   "id": "6801578d-905c-4ece-8e7a-471cd5f7bdc4",
   "metadata": {
    "id": "6801578d-905c-4ece-8e7a-471cd5f7bdc4",
    "outputId": "9d6f4905-a74c-4400-bb84-d6dad7ec46a3"
   },
   "outputs": [
    {
     "name": "stdout",
     "output_type": "stream",
     "text": [
      "torch.Size([12396, 1, 28, 28]) --> input image\n",
      "torch.Size([12396, 16, 24, 24]) --> 2dConv\n",
      "torch.Size([12396, 16, 12, 12]) --> MaxPool2d\n",
      "torch.Size([12396, 16, 12, 12]) --> ReLU\n",
      "torch.Size([12396, 16, 12, 12]) --> Dropout2d\n",
      "torch.Size([12396, 2304]) --> Flatten\n",
      "torch.Size([12396, 1]) --> Linear\n"
     ]
    }
   ],
   "source": [
    "print(X.shape, '--> input image')\n",
    "print(lrnr1.model[0](X.to(\"cuda:0\")).shape, '--> 2dConv')\n",
    "print(lrnr1.model[1](lrnr1.model[0](X.to(\"cuda:0\"))).shape, '--> MaxPool2d')\n",
    "print(lrnr1.model[2](lrnr1.model[1](lrnr1.model[0](X.to(\"cuda:0\")))).shape, '--> ReLU')\n",
    "print(lrnr1.model[3](lrnr1.model[2](lrnr1.model[1](lrnr1.model[0](X.to(\"cuda:0\"))))).shape, '--> Dropout2d')\n",
    "print(lrnr1.model[4](lrnr1.model[3](lrnr1.model[2](lrnr1.model[1](lrnr1.model[0](X.to(\"cuda:0\")))))).shape, '--> Flatten')\n",
    "print(lrnr1.model[5](lrnr1.model[4](lrnr1.model[3](lrnr1.model[2](lrnr1.model[1](lrnr1.model[0](X.to(\"cuda:0\"))))))).shape, '--> Linear')"
   ]
  },
  {
   "cell_type": "markdown",
   "id": "cca012f1-8930-4867-a2f9-cd1ef822efeb",
   "metadata": {
    "id": "cca012f1-8930-4867-a2f9-cd1ef822efeb"
   },
   "source": [
    "`-` 정리: 모형은 항상 아래와 같이 2d-part 와 1d-part로 나누어진다. \n",
    "```\n",
    "torch.Size([12396, 1, 28, 28]) --> input image\n",
    "torch.Size([12396, 16, 24, 24]) --> 2dConv\n",
    "torch.Size([12396, 16, 12, 12]) --> MaxPool2d\n",
    "torch.Size([12396, 16, 12, 12]) --> ReLU\n",
    "torch.Size([12396, 16, 12, 12]) --> Dropout2d\n",
    "===============================================================\n",
    "torch.Size([12396, 2304]) --> Flatten\n",
    "torch.Size([12396, 1]) --> Linear\n",
    "```"
   ]
  },
  {
   "cell_type": "markdown",
   "id": "c477a40c-064b-4575-8cc4-6286aff09bcd",
   "metadata": {
    "id": "c477a40c-064b-4575-8cc4-6286aff09bcd"
   },
   "source": [
    "`-` 2d-part: \n",
    "- 2d선형변환: nn.torch.nn.Conv2d()\n",
    "- 2d비선형변환: torch.nn.MaxPool2d(), torch.nn.ReLU()"
   ]
  },
  {
   "cell_type": "markdown",
   "id": "d67c740b-9834-4ef4-9f2d-a94c8863ad3f",
   "metadata": {},
   "source": [
    "> 선형-비선형 변환을 반복하면 특별한 특징들을 추출할 수 있음"
   ]
  },
  {
   "cell_type": "markdown",
   "id": "93b456c5-7fa3-4aae-8d65-4d196ec9aec7",
   "metadata": {
    "id": "93b456c5-7fa3-4aae-8d65-4d196ec9aec7"
   },
   "source": [
    "`-` 1d-part:\n",
    "- 1d선형변환: torch.nn.Linear() \n",
    "- 1d비선형변환: torch.nn.ReLU()"
   ]
  },
  {
   "cell_type": "markdown",
   "id": "6a673453-a4a4-46c3-a271-8b4aef201675",
   "metadata": {},
   "source": [
    "> **1d part에도 ReLU, Dropout을 넣기도 한다?**  \n",
    " 2d part에서 그냥 우리 옛날 예제처럼 1d로 바꿔주고 1d part에서 dropout, ReLU 등을 하는 것임! "
   ]
  },
  {
   "cell_type": "markdown",
   "id": "b0e36664-f27e-49c9-826e-0f8a787740ee",
   "metadata": {},
   "source": [
    "- 네트워크를 정리할 때 아래와 같이 2d, 1d를 나눠서 모형을 짜기도 함!"
   ]
  },
  {
   "cell_type": "code",
   "execution_count": 61,
   "id": "2c51ce27-ea5d-4bce-9a18-c8a0dc780452",
   "metadata": {
    "id": "2c51ce27-ea5d-4bce-9a18-c8a0dc780452"
   },
   "outputs": [],
   "source": [
    "_net1=torch.nn.Sequential(\n",
    "    net[0],\n",
    "    net[1],\n",
    "    net[2],\n",
    "    net[3])\n",
    "_net2=torch.nn.Sequential(\n",
    "    net[4],\n",
    "    net[5])"
   ]
  },
  {
   "cell_type": "code",
   "execution_count": 62,
   "id": "42bf22a3-81e4-4371-8d44-883793198aa1",
   "metadata": {
    "id": "42bf22a3-81e4-4371-8d44-883793198aa1",
    "outputId": "e9b1988a-ef92-4a81-a446-160c72ce40eb"
   },
   "outputs": [
    {
     "data": {
      "text/plain": [
       "Sequential(\n",
       "  (0): Conv2d(1, 16, kernel_size=(5, 5), stride=(1, 1))\n",
       "  (1): MaxPool2d(kernel_size=2, stride=2, padding=0, dilation=1, ceil_mode=False)\n",
       "  (2): ReLU()\n",
       "  (3): Dropout2d(p=0.5, inplace=False)\n",
       ")"
      ]
     },
     "execution_count": 62,
     "metadata": {},
     "output_type": "execute_result"
    }
   ],
   "source": [
    "_net1"
   ]
  },
  {
   "cell_type": "code",
   "execution_count": 63,
   "id": "4cf4ea93-4dbb-4132-905f-4ea6e48cd410",
   "metadata": {
    "id": "4cf4ea93-4dbb-4132-905f-4ea6e48cd410",
    "outputId": "7a108e99-939d-4256-c611-9136cba872a3"
   },
   "outputs": [
    {
     "data": {
      "text/plain": [
       "Sequential(\n",
       "  (0): Flatten()\n",
       "  (1): Linear(in_features=2304, out_features=1, bias=True)\n",
       ")"
      ]
     },
     "execution_count": 63,
     "metadata": {},
     "output_type": "execute_result"
    }
   ],
   "source": [
    "_net2"
   ]
  },
  {
   "cell_type": "code",
   "execution_count": 64,
   "id": "4f3905e3-8cc5-4081-861f-1735cb2e271b",
   "metadata": {
    "id": "4f3905e3-8cc5-4081-861f-1735cb2e271b"
   },
   "outputs": [],
   "source": [
    "_net=torch.nn.Sequential(_net1,_net2)"
   ]
  },
  {
   "cell_type": "code",
   "execution_count": 65,
   "id": "30784703-0d11-4cd7-866c-d8290f1b56b8",
   "metadata": {
    "id": "30784703-0d11-4cd7-866c-d8290f1b56b8",
    "outputId": "24bc0783-fcac-4db5-eef4-7af347a3867d"
   },
   "outputs": [
    {
     "data": {
      "text/plain": [
       "tensor([[-10.7490],\n",
       "        [ -0.9917],\n",
       "        [ -7.9382],\n",
       "        ...,\n",
       "        [ 11.1710],\n",
       "        [ 14.0146],\n",
       "        [ 12.4753]], device='cuda:0', grad_fn=<AddmmBackward>)"
      ]
     },
     "execution_count": 65,
     "metadata": {},
     "output_type": "execute_result"
    }
   ],
   "source": [
    "_net[1](_net[0](X.to('cuda:0')))"
   ]
  },
  {
   "cell_type": "markdown",
   "id": "369852b2-7abb-4338-acaf-7a23b46745a4",
   "metadata": {
    "id": "369852b2-7abb-4338-acaf-7a23b46745a4",
    "tags": []
   },
   "source": [
    "### lrnr2.model 분석 "
   ]
  },
  {
   "cell_type": "markdown",
   "id": "d6a39953-d313-4c9c-a6ef-7ed29d2963fd",
   "metadata": {
    "id": "d6a39953-d313-4c9c-a6ef-7ed29d2963fd"
   },
   "source": [
    "`-` 아래의 모형은 현재 가장 성능이 좋은 모형(state of the art)중 하나인 resnet이다. "
   ]
  },
  {
   "cell_type": "code",
   "execution_count": 66,
   "id": "d4ab1e42-93ac-43e1-838b-2b908e52195c",
   "metadata": {
    "id": "d4ab1e42-93ac-43e1-838b-2b908e52195c",
    "outputId": "3a0b3ead-76e0-4e51-f7a3-ae042e8ca284"
   },
   "outputs": [
    {
     "data": {
      "text/plain": [
       "Sequential(\n",
       "  (0): AdaptiveConcatPool2d(\n",
       "    (ap): AdaptiveAvgPool2d(output_size=1)\n",
       "    (mp): AdaptiveMaxPool2d(output_size=1)\n",
       "  )\n",
       "  (1): Flatten(full=False)\n",
       "  (2): BatchNorm1d(1024, eps=1e-05, momentum=0.1, affine=True, track_running_stats=True)\n",
       "  (3): Dropout(p=0.25, inplace=False)\n",
       "  (4): Linear(in_features=1024, out_features=512, bias=False)\n",
       "  (5): ReLU(inplace=True)\n",
       "  (6): BatchNorm1d(512, eps=1e-05, momentum=0.1, affine=True, track_running_stats=True)\n",
       "  (7): Dropout(p=0.5, inplace=False)\n",
       "  (8): Linear(in_features=512, out_features=2, bias=False)\n",
       ")"
      ]
     },
     "execution_count": 66,
     "metadata": {},
     "output_type": "execute_result"
    }
   ],
   "source": [
    "lrnr2.model[1] #2d part\n",
    "#lrnr2.model[0] #1d part"
   ]
  },
  {
   "cell_type": "markdown",
   "id": "90f29638-5204-43c0-8e97-13cddcf1c2cd",
   "metadata": {
    "id": "90f29638-5204-43c0-8e97-13cddcf1c2cd"
   },
   "source": [
    "`-` 특징 \n",
    "- 2d-part: 입력채널이3이다, Conv2d에 padding/stride의 옵션이 있다, 드랍아웃이 없다, 배치정규화(BatchNorm1d)가 있다.\n",
    "> 흑백이미지라 입력채널 1개로 충분하지만, 일반화를 위해 입력채널 3개임. 그래서 우리가 이전에 만든 dls를 쓸 수 없는 것\n",
    "- 1d-part: 배치정규화가 있다, 출력의 차원이 2이다."
   ]
  },
  {
   "cell_type": "markdown",
   "id": "1e76fbf6-c7aa-4f17-a3c3-f50f43681b5a",
   "metadata": {
    "id": "1e76fbf6-c7aa-4f17-a3c3-f50f43681b5a"
   },
   "source": [
    "***DLS, Networks***\n",
    "- 네트워크의 형태에 따라서 dls의 형태도 다르게 만들어야 한다. \n",
    "- MLP모형: 입력이 $784$, 첫 네트워크의 형태가 $784 \\to 30$ 인 torch.nn.Linear()\n",
    "- CNN모형: 입력이 $1\\times 28 \\times 28$, 첫 네트워크의 형태가 $1\\times 28 \\times 28 \\to 16 \\times 24 \\times 24$ 인 torch.nn.Conv2d()\n",
    "- Resnet34: 입력이 $3\\times 28 \\times 28$, 첫 네트워크의 형태가 $3\\times 28 \\times 28 \\to ??$ "
   ]
  },
  {
   "cell_type": "markdown",
   "id": "c2eec0e6-bc56-49ba-8d40-4ba1fb4cc815",
   "metadata": {
    "id": "c2eec0e6-bc56-49ba-8d40-4ba1fb4cc815"
   },
   "source": [
    "***참고***\n",
    "\n",
    "|$y$|분포가정|마지막층의 활성화함수|손실함수(파이토치)|\n",
    "|:--:|:--:|:--:|:--:|\n",
    "|3.45, 4.43, ... (연속형) |정규분포|Linear|MSEloss|\n",
    "|0 or 1|이항분포(베르누이)|Sigmoid| BCEloss|\n",
    "|[0,0,1], [0,1,0], [1,0,0]| 다항분포|Softmax| CrossEntropyLoss|"
   ]
  },
  {
   "cell_type": "markdown",
   "id": "9de933d2-396c-428a-b662-6350ac18c940",
   "metadata": {
    "id": "9de933d2-396c-428a-b662-6350ac18c940"
   },
   "source": [
    "### 딥러닝 연구의 네가지 축 "
   ]
  },
  {
   "cell_type": "markdown",
   "id": "3f4e5350-ccd9-408d-b006-28fae18be029",
   "metadata": {
    "id": "3f4e5350-ccd9-408d-b006-28fae18be029"
   },
   "source": [
    "(1) 아키텍처 $(\\star)$\n",
    "- 한 영역의 전문적인 지식이 필요한 것이 아닌것 같다. \n",
    "- 끈기, 약간의 운, 직관, 좋은컴퓨터.. \n",
    "\n",
    "(2) 손실함수 \n",
    "- 통계적지식필요 // 기존의 손실함수를 변형하는 형태 (패널티텀활용)\n",
    "\n",
    "(3) 미분계산 \n",
    "- 병렬처리등에 대한 지식 필요 \n",
    "\n",
    "(4) 옵티마이저 \n",
    "- 최적화에 대한 이론적 토대 필요 \n"
   ]
  },
  {
   "cell_type": "markdown",
   "id": "ffd2f396-1a12-46d6-b03b-698c79993d5c",
   "metadata": {
    "id": "ffd2f396-1a12-46d6-b03b-698c79993d5c"
   },
   "source": [
    "`-` 딥러닝 이전까지의 아키텍처에 대한 연구 \n",
    "- 파라메트릭 모형: 전문가 \n",
    "- 넌파라메트릭 모형: 전문가\n",
    "- 딥러닝: 상대적으로 비전문가"
   ]
  },
  {
   "cell_type": "markdown",
   "id": "a67a10c2-26d6-4732-88fa-e02ed2861d2d",
   "metadata": {
    "id": "a67a10c2-26d6-4732-88fa-e02ed2861d2d"
   },
   "source": [
    "`-` 특징: 비전문가도 만들수 있다 + 블랙박스 (내부연산을 뜯어볼 수는 있지만 우리가 해석하기 어려움) "
   ]
  },
  {
   "cell_type": "markdown",
   "id": "9a9dd78c-ca7c-42ef-a69d-a49e2b6d0220",
   "metadata": {
    "id": "9a9dd78c-ca7c-42ef-a69d-a49e2b6d0220"
   },
   "source": [
    "`-` 설명가능한 딥러닝에 대한 요구 (XAI)"
   ]
  },
  {
   "cell_type": "markdown",
   "id": "f66d6519-601b-4c76-a417-182d10752086",
   "metadata": {
    "id": "f66d6519-601b-4c76-a417-182d10752086"
   },
   "source": [
    "### 설명가능한 CNN모형"
   ]
  },
  {
   "cell_type": "markdown",
   "id": "06e595b7-0505-4cc7-90a8-cd563656a155",
   "metadata": {
    "id": "06e595b7-0505-4cc7-90a8-cd563656a155"
   },
   "source": [
    "`-` 현재까지의 모형 \n",
    "- 1단계: 2d선형변환 $\\to$ 2d비선형변환 \n",
    "- 2단계: Flatten $\\to$ MLP"
   ]
  },
  {
   "cell_type": "markdown",
   "id": "ffe049dc-4e2b-4045-b316-e9b32742f228",
   "metadata": {
    "id": "ffe049dc-4e2b-4045-b316-e9b32742f228"
   },
   "source": [
    "`-` lrnr1(제가만들었던 모형)의 모형을 다시 복습"
   ]
  },
  {
   "cell_type": "code",
   "execution_count": 67,
   "id": "0793ecf2-1d18-4998-9b0b-d13c848876a9",
   "metadata": {
    "id": "0793ecf2-1d18-4998-9b0b-d13c848876a9",
    "outputId": "5a04217e-1c3e-40cf-f66e-897c2c4f3654"
   },
   "outputs": [
    {
     "data": {
      "text/plain": [
       "Sequential(\n",
       "  (0): Conv2d(1, 16, kernel_size=(5, 5), stride=(1, 1))\n",
       "  (1): MaxPool2d(kernel_size=2, stride=2, padding=0, dilation=1, ceil_mode=False)\n",
       "  (2): ReLU()\n",
       "  (3): Dropout2d(p=0.5, inplace=False)\n",
       "  (4): Flatten()\n",
       "  (5): Linear(in_features=2304, out_features=1, bias=True)\n",
       ")"
      ]
     },
     "execution_count": 67,
     "metadata": {},
     "output_type": "execute_result"
    }
   ],
   "source": [
    "lrnr1.model"
   ]
  },
  {
   "cell_type": "code",
   "execution_count": 68,
   "id": "3401eb78-0d8e-4b84-85d1-40ff76532bff",
   "metadata": {
    "id": "3401eb78-0d8e-4b84-85d1-40ff76532bff"
   },
   "outputs": [],
   "source": [
    "net1=torch.nn.Sequential(\n",
    "    lrnr1.model[0],\n",
    "    lrnr1.model[1],\n",
    "    lrnr1.model[2],\n",
    "    lrnr1.model[3])"
   ]
  },
  {
   "cell_type": "code",
   "execution_count": 69,
   "id": "7729864c-1a98-4203-a6dd-f17d4709b2fe",
   "metadata": {
    "id": "7729864c-1a98-4203-a6dd-f17d4709b2fe",
    "outputId": "ded4cfef-3348-4804-92c3-6ba862566614"
   },
   "outputs": [
    {
     "data": {
      "text/plain": [
       "torch.Size([12396, 16, 12, 12])"
      ]
     },
     "execution_count": 69,
     "metadata": {},
     "output_type": "execute_result"
    }
   ],
   "source": [
    "net1(X.to('cuda:0')).shape"
   ]
  },
  {
   "cell_type": "markdown",
   "id": "1bf2d516-f98e-4ca2-b230-ab586ce5b1eb",
   "metadata": {
    "id": "1bf2d516-f98e-4ca2-b230-ab586ce5b1eb"
   },
   "source": [
    "`-` 1단계까지의 출력결과를 시각화 "
   ]
  },
  {
   "cell_type": "code",
   "execution_count": 70,
   "id": "1616a037-429f-47ca-a4b3-082b880ef534",
   "metadata": {
    "id": "1616a037-429f-47ca-a4b3-082b880ef534",
    "outputId": "faf8e948-f041-4fe1-97ab-1164971ba860"
   },
   "outputs": [
    {
     "data": {
      "image/png": "[encoded data removed]",
      "text/plain": [
       "<Figure size 576x576 with 16 Axes>"
      ]
     },
     "metadata": {
      "needs_background": "light"
     },
     "output_type": "display_data"
    }
   ],
   "source": [
    "fig, axs = plt.subplots(4,4) \n",
    "k=0\n",
    "for i in range(4):\n",
    "    for j in range(4):\n",
    "        axs[i,j].imshow(net1(X.to(\"cuda:0\"))[0][k].to(\"cpu\").data)\n",
    "        k=k+1\n",
    "fig.set_figheight(8)\n",
    "fig.set_figwidth(8)\n",
    "fig.tight_layout()"
   ]
  },
  {
   "cell_type": "markdown",
   "id": "d187b0b5-4a2d-485b-8812-7177823baec4",
   "metadata": {
    "id": "d187b0b5-4a2d-485b-8812-7177823baec4"
   },
   "source": [
    "#### net1은 유지+ net2의 구조를 변경!!"
   ]
  },
  {
   "cell_type": "code",
   "execution_count": 71,
   "id": "93e54e8f-92ac-4ac8-8e5a-0a4d5c7067b7",
   "metadata": {
    "id": "93e54e8f-92ac-4ac8-8e5a-0a4d5c7067b7",
    "outputId": "405b530c-ec2a-420d-9705-ca4cda9dfebd"
   },
   "outputs": [
    {
     "data": {
      "text/plain": [
       "Sequential(\n",
       "  (0): Conv2d(1, 16, kernel_size=(5, 5), stride=(1, 1))\n",
       "  (1): MaxPool2d(kernel_size=2, stride=2, padding=0, dilation=1, ceil_mode=False)\n",
       "  (2): ReLU()\n",
       "  (3): Dropout2d(p=0.5, inplace=False)\n",
       "  (4): Flatten()\n",
       "  (5): Linear(in_features=2304, out_features=1, bias=True)\n",
       ")"
      ]
     },
     "execution_count": 71,
     "metadata": {},
     "output_type": "execute_result"
    }
   ],
   "source": [
    "lrnr1.model"
   ]
  },
  {
   "cell_type": "markdown",
   "id": "3c6225fd-75b9-4653-8fe8-14263ba28d5b",
   "metadata": {
    "id": "3c6225fd-75b9-4653-8fe8-14263ba28d5b"
   },
   "source": [
    "`-` 계획 \n",
    "- 변경전net2: $(n,16,12,12) \\overset{flatten}{\\Longrightarrow} (n,?) \\overset{Linear(?,1)}{\\Longrightarrow} (n,1)$\n",
    "- 변경후net2: $(n,16,12,12) \\overset{gap+flatten}{\\Longrightarrow} (n,16) \\overset{Linear(16,1)}{\\Longrightarrow} (n,1)$"
   ]
  },
  {
   "cell_type": "markdown",
   "id": "bf0cc3c5-c945-4027-bfd7-f47d8bfb0c84",
   "metadata": {
    "id": "bf0cc3c5-c945-4027-bfd7-f47d8bfb0c84"
   },
   "source": [
    "`-` gap: 12$\\times$12 픽셀을 평균내서 하나의 값으로 대표하자 (왜?)"
   ]
  },
  {
   "cell_type": "code",
   "execution_count": 72,
   "id": "116e4114-bd1f-4add-bf65-a09111244878",
   "metadata": {
    "id": "116e4114-bd1f-4add-bf65-a09111244878"
   },
   "outputs": [],
   "source": [
    "ap=torch.nn.AdaptiveAvgPool2d(output_size=1)"
   ]
  },
  {
   "cell_type": "code",
   "execution_count": 73,
   "id": "913d191a-3af7-4f75-a9bc-abb494311d5e",
   "metadata": {
    "id": "913d191a-3af7-4f75-a9bc-abb494311d5e",
    "outputId": "db58872d-34d8-47b7-c2e0-815ed5be635b"
   },
   "outputs": [
    {
     "data": {
      "text/plain": [
       "torch.Size([12396, 16, 1, 1])"
      ]
     },
     "execution_count": 73,
     "metadata": {},
     "output_type": "execute_result"
    }
   ],
   "source": [
    "ap(net1(X.to(\"cuda:0\"))).shape"
   ]
  },
  {
   "cell_type": "markdown",
   "id": "00f9ae0d-6161-46fd-bb1e-3e2f42bd9ba4",
   "metadata": {
    "id": "00f9ae0d-6161-46fd-bb1e-3e2f42bd9ba4"
   },
   "source": [
    "---"
   ]
  },
  {
   "cell_type": "markdown",
   "id": "3efb5962-dfb2-4b53-8e03-8fdfe3fc2fce",
   "metadata": {
    "id": "3efb5962-dfb2-4b53-8e03-8fdfe3fc2fce"
   },
   "source": [
    "***보충학습 : ap(average pooling)는 그냥 평균***"
   ]
  },
  {
   "cell_type": "code",
   "execution_count": 74,
   "id": "93dca932-da09-434b-a8a2-ede71456e4a7",
   "metadata": {
    "id": "93dca932-da09-434b-a8a2-ede71456e4a7",
    "outputId": "b8a60a0f-ec65-4e69-8230-ea41dc73527b"
   },
   "outputs": [
    {
     "data": {
      "text/plain": [
       "tensor([[0.1000, 0.2000],\n",
       "        [0.3000, 0.4000]])"
      ]
     },
     "execution_count": 74,
     "metadata": {},
     "output_type": "execute_result"
    }
   ],
   "source": [
    "torch.tensor([[0.1,0.2],[0.3,0.4]])"
   ]
  },
  {
   "cell_type": "code",
   "execution_count": 75,
   "id": "93427d70-3277-4bd9-96f9-fba4c6415cb7",
   "metadata": {
    "id": "93427d70-3277-4bd9-96f9-fba4c6415cb7",
    "outputId": "1791687d-4210-4465-b17c-6c6923f7cd7d"
   },
   "outputs": [
    {
     "data": {
      "text/plain": [
       "tensor([[0.2500]])"
      ]
     },
     "execution_count": 75,
     "metadata": {},
     "output_type": "execute_result"
    }
   ],
   "source": [
    "ap(torch.tensor([[0.1,0.2],[0.3,0.4]]))"
   ]
  },
  {
   "cell_type": "markdown",
   "id": "a503a8f5-36f2-45da-ad2c-798658a62e7a",
   "metadata": {
    "id": "00f9ae0d-6161-46fd-bb1e-3e2f42bd9ba4"
   },
   "source": [
    "---"
   ]
  },
  {
   "cell_type": "markdown",
   "id": "cf1ec3f5-b130-4832-b6bd-79aef6cf3ca1",
   "metadata": {
    "id": "cf1ec3f5-b130-4832-b6bd-79aef6cf3ca1"
   },
   "source": [
    "`-` flatten "
   ]
  },
  {
   "cell_type": "code",
   "execution_count": 76,
   "id": "0da2d12d-9d94-4378-8c10-52d96bfc32ba",
   "metadata": {
    "id": "0da2d12d-9d94-4378-8c10-52d96bfc32ba",
    "outputId": "48caa96d-ea7f-4771-faec-61216753112b"
   },
   "outputs": [
    {
     "data": {
      "text/plain": [
       "torch.Size([12396, 16])"
      ]
     },
     "execution_count": 76,
     "metadata": {},
     "output_type": "execute_result"
    }
   ],
   "source": [
    "flatten(ap(net1(X.to(\"cuda:0\")))).shape"
   ]
  },
  {
   "cell_type": "markdown",
   "id": "1a4daac2-3f81-4427-b99a-66035ef20f49",
   "metadata": {
    "id": "1a4daac2-3f81-4427-b99a-66035ef20f49"
   },
   "source": [
    "`-` linear "
   ]
  },
  {
   "cell_type": "code",
   "execution_count": 77,
   "id": "5c642ee5-3516-4182-be84-9c34e52ea59c",
   "metadata": {
    "id": "5c642ee5-3516-4182-be84-9c34e52ea59c"
   },
   "outputs": [],
   "source": [
    "_l1=torch.nn.Linear(16,1,bias=False) "
   ]
  },
  {
   "cell_type": "code",
   "execution_count": 78,
   "id": "229e9bda-2b0c-41e5-b877-5c3fdc801ff8",
   "metadata": {
    "id": "229e9bda-2b0c-41e5-b877-5c3fdc801ff8",
    "outputId": "1841387e-ad7e-4def-f505-097c5e49ab36"
   },
   "outputs": [
    {
     "data": {
      "text/plain": [
       "Linear(in_features=16, out_features=1, bias=False)"
      ]
     },
     "execution_count": 78,
     "metadata": {},
     "output_type": "execute_result"
    }
   ],
   "source": [
    "_l1.to(\"cuda:0\")"
   ]
  },
  {
   "cell_type": "code",
   "execution_count": 79,
   "id": "827f7202-5864-48be-94e1-74bad9e49d3c",
   "metadata": {
    "id": "827f7202-5864-48be-94e1-74bad9e49d3c",
    "outputId": "19b456c8-1b36-47fd-bbbd-e12e528dd4ce"
   },
   "outputs": [
    {
     "data": {
      "text/plain": [
       "torch.Size([12396, 1])"
      ]
     },
     "execution_count": 79,
     "metadata": {},
     "output_type": "execute_result"
    }
   ],
   "source": [
    "_l1(flatten(ap(net1(X.to(\"cuda:0\"))))).shape"
   ]
  },
  {
   "cell_type": "markdown",
   "id": "68ef83c9-75d7-4f70-ba72-042f1ae5f40e",
   "metadata": {
    "id": "68ef83c9-75d7-4f70-ba72-042f1ae5f40e"
   },
   "source": [
    "`-` 이걸 net2로 구성하자. $\\to$ (net1,net2)를 묶어서 하나의 새로운 네트워크를 만들자. "
   ]
  },
  {
   "cell_type": "code",
   "execution_count": 80,
   "id": "1791de93-f3f0-4593-a029-1f7a8f3c0180",
   "metadata": {
    "id": "1791de93-f3f0-4593-a029-1f7a8f3c0180"
   },
   "outputs": [],
   "source": [
    "net2=torch.nn.Sequential(\n",
    "    torch.nn.AdaptiveAvgPool2d(1),\n",
    "    Flatten(),\n",
    "    torch.nn.Linear(16,1,bias=False))"
   ]
  },
  {
   "cell_type": "code",
   "execution_count": 81,
   "id": "3eb3c2a1-ac1a-4a40-bad2-b6dac917359f",
   "metadata": {
    "id": "3eb3c2a1-ac1a-4a40-bad2-b6dac917359f",
    "outputId": "25f656b6-36ec-46ca-db21-b2ee4fd7a011"
   },
   "outputs": [
    {
     "data": {
      "text/plain": [
       "Sequential(\n",
       "  (0): Sequential(\n",
       "    (0): Conv2d(1, 16, kernel_size=(5, 5), stride=(1, 1))\n",
       "    (1): MaxPool2d(kernel_size=2, stride=2, padding=0, dilation=1, ceil_mode=False)\n",
       "    (2): ReLU()\n",
       "    (3): Dropout2d(p=0.5, inplace=False)\n",
       "  )\n",
       "  (1): Sequential(\n",
       "    (0): AdaptiveAvgPool2d(output_size=1)\n",
       "    (1): Flatten()\n",
       "    (2): Linear(in_features=16, out_features=1, bias=False)\n",
       "  )\n",
       ")"
      ]
     },
     "execution_count": 81,
     "metadata": {},
     "output_type": "execute_result"
    }
   ],
   "source": [
    "net=torch.nn.Sequential(net1,net2) \n",
    "net"
   ]
  },
  {
   "cell_type": "markdown",
   "id": "f1403378-cf2a-4932-bd9a-d38f9fae713a",
   "metadata": {
    "id": "f1403378-cf2a-4932-bd9a-d38f9fae713a"
   },
   "source": [
    "`-` 수정된 네트워크로 lrnr3을 만들고 재학습"
   ]
  },
  {
   "cell_type": "code",
   "execution_count": 82,
   "id": "68ed2a98-0e98-4cd2-bc03-99264693454b",
   "metadata": {
    "id": "68ed2a98-0e98-4cd2-bc03-99264693454b"
   },
   "outputs": [],
   "source": [
    "ds=torch.utils.data.TensorDataset(X,y)\n",
    "ds1,ds2=torch.utils.data.random_split(ds,[10000,2396])\n",
    "dl1=torch.utils.data.DataLoader(ds1,batch_size=1000)\n",
    "dl2=torch.utils.data.DataLoader(ds2,batch_size=2396)\n",
    "dls=DataLoaders(dl1,dl2)"
   ]
  },
  {
   "cell_type": "code",
   "execution_count": 83,
   "id": "3b54604b-04de-49c0-a373-5679a8f75733",
   "metadata": {
    "id": "3b54604b-04de-49c0-a373-5679a8f75733"
   },
   "outputs": [],
   "source": [
    "lrnr3=Learner(dls,net,opt_func=Adam,loss_func=loss_fn,lr=0.1)"
   ]
  },
  {
   "cell_type": "code",
   "execution_count": 84,
   "id": "f24cd122-4484-4a4d-99ce-a4fdf267b9e0",
   "metadata": {
    "id": "f24cd122-4484-4a4d-99ce-a4fdf267b9e0",
    "outputId": "f06039f5-a357-4d58-8140-a2364b0621c7"
   },
   "outputs": [
    {
     "data": {
      "text/html": [
       "<table border=\"1\" class=\"dataframe\">\n",
       "  <thead>\n",
       "    <tr style=\"text-align: left;\">\n",
       "      <th>epoch</th>\n",
       "      <th>train_loss</th>\n",
       "      <th>valid_loss</th>\n",
       "      <th>time</th>\n",
       "    </tr>\n",
       "  </thead>\n",
       "  <tbody>\n",
       "    <tr>\n",
       "      <td>0</td>\n",
       "      <td>0.700811</td>\n",
       "      <td>0.687434</td>\n",
       "      <td>00:00</td>\n",
       "    </tr>\n",
       "    <tr>\n",
       "      <td>1</td>\n",
       "      <td>0.687112</td>\n",
       "      <td>0.645707</td>\n",
       "      <td>00:00</td>\n",
       "    </tr>\n",
       "    <tr>\n",
       "      <td>2</td>\n",
       "      <td>0.674917</td>\n",
       "      <td>0.603300</td>\n",
       "      <td>00:00</td>\n",
       "    </tr>\n",
       "    <tr>\n",
       "      <td>3</td>\n",
       "      <td>0.664421</td>\n",
       "      <td>0.589552</td>\n",
       "      <td>00:00</td>\n",
       "    </tr>\n",
       "    <tr>\n",
       "      <td>4</td>\n",
       "      <td>0.656465</td>\n",
       "      <td>0.578558</td>\n",
       "      <td>00:00</td>\n",
       "    </tr>\n",
       "    <tr>\n",
       "      <td>5</td>\n",
       "      <td>0.651120</td>\n",
       "      <td>0.575888</td>\n",
       "      <td>00:00</td>\n",
       "    </tr>\n",
       "    <tr>\n",
       "      <td>6</td>\n",
       "      <td>0.646332</td>\n",
       "      <td>0.564358</td>\n",
       "      <td>00:00</td>\n",
       "    </tr>\n",
       "    <tr>\n",
       "      <td>7</td>\n",
       "      <td>0.642453</td>\n",
       "      <td>0.561910</td>\n",
       "      <td>00:00</td>\n",
       "    </tr>\n",
       "    <tr>\n",
       "      <td>8</td>\n",
       "      <td>0.639582</td>\n",
       "      <td>0.549238</td>\n",
       "      <td>00:00</td>\n",
       "    </tr>\n",
       "    <tr>\n",
       "      <td>9</td>\n",
       "      <td>0.636548</td>\n",
       "      <td>0.552422</td>\n",
       "      <td>00:00</td>\n",
       "    </tr>\n",
       "  </tbody>\n",
       "</table>"
      ],
      "text/plain": [
       "<IPython.core.display.HTML object>"
      ]
     },
     "metadata": {},
     "output_type": "display_data"
    }
   ],
   "source": [
    "lrnr3.fit(10)"
   ]
  },
  {
   "cell_type": "markdown",
   "id": "da7176cb-f98b-4485-9cd0-9646ddf86ba6",
   "metadata": {
    "id": "da7176cb-f98b-4485-9cd0-9646ddf86ba6"
   },
   "source": [
    "### CAM: observation을 1개로 고정하고 net2에서 layer의 순서를 바꿔서 시각화"
   ]
  },
  {
   "cell_type": "markdown",
   "id": "76a745be-1e17-4397-acb2-bf3165b849fd",
   "metadata": {
    "id": "76a745be-1e17-4397-acb2-bf3165b849fd"
   },
   "source": [
    "`-` 계획 \n",
    "- 변경전net2: $(n,16,12,12) \\overset{flatten}{\\Longrightarrow} (n,?) \\overset{Linear(?,1)}{\\Longrightarrow} (n,1)$\n",
    "- 변경후net2: $(n,16,12,12) \\overset{gap+flatten}{\\Longrightarrow} (n,16) \\overset{Linear(16,1)}{\\Longrightarrow} (n,1)$\n",
    "- CAM: $(1,16,12,12) \\overset{Linear(16,1)+flatten}{\\Longrightarrow} (12,12) \\overset{gap}{\\Longrightarrow} 1$"
   ]
  },
  {
   "cell_type": "markdown",
   "id": "a8606fc0-b9c5-45a7-8d46-7b476909ac89",
   "metadata": {
    "id": "a8606fc0-b9c5-45a7-8d46-7b476909ac89"
   },
   "source": [
    "`-` 준비과정1: 시각화할 샘플을 하나 준비하자. "
   ]
  },
  {
   "cell_type": "code",
   "execution_count": 85,
   "id": "73bf7a76-0d90-40e9-a003-fc39b30acf37",
   "metadata": {
    "id": "73bf7a76-0d90-40e9-a003-fc39b30acf37",
    "outputId": "5358703f-9a5f-45de-a101-f70670eea38b"
   },
   "outputs": [
    {
     "data": {
      "text/plain": [
       "(torch.Size([12396, 1, 28, 28]), torch.Size([1, 28, 28]))"
      ]
     },
     "execution_count": 85,
     "metadata": {},
     "output_type": "execute_result"
    }
   ],
   "source": [
    "x=X[100]\n",
    "X.shape,x.shape"
   ]
  },
  {
   "cell_type": "markdown",
   "id": "80931103-b5ce-4518-b0b5-a2bff8c1dd02",
   "metadata": {
    "id": "80931103-b5ce-4518-b0b5-a2bff8c1dd02"
   },
   "source": [
    "- 차원이 다르므로 나중에 네트워크에 넣을때 문제가 생길 수 있음 $\\to$ 차원을 맞춰주자"
   ]
  },
  {
   "cell_type": "code",
   "execution_count": 86,
   "id": "ee314a9e-c73c-433c-9f66-09c992452950",
   "metadata": {
    "id": "ee314a9e-c73c-433c-9f66-09c992452950"
   },
   "outputs": [],
   "source": [
    "x=x.reshape(1,1,28,28) "
   ]
  },
  {
   "cell_type": "code",
   "execution_count": 87,
   "id": "b0cddb1b-a505-4056-9546-7c47439a97b8",
   "metadata": {
    "id": "b0cddb1b-a505-4056-9546-7c47439a97b8",
    "outputId": "4fb56856-5162-456a-a3ed-f60b29f8bc1b"
   },
   "outputs": [
    {
     "data": {
      "text/plain": [
       "<matplotlib.image.AxesImage at 0x7fbbbf077820>"
      ]
     },
     "execution_count": 87,
     "metadata": {},
     "output_type": "execute_result"
    },
    {
     "data": {
      "image/png": "[encoded data removed]",
      "text/plain": [
       "<Figure size 432x288 with 1 Axes>"
      ]
     },
     "metadata": {
      "needs_background": "light"
     },
     "output_type": "display_data"
    }
   ],
   "source": [
    "plt.imshow(x.squeeze())"
   ]
  },
  {
   "cell_type": "markdown",
   "id": "0f3ce075-b6cb-4425-8e5a-769d0c7c69af",
   "metadata": {
    "id": "0f3ce075-b6cb-4425-8e5a-769d0c7c69af"
   },
   "source": [
    "`-` 준비과정2: 계산과 시각화를 위해서 각 네트워크를 cpu로 옮기자. (fastai로 학습한 직후라 GPU에 있음)"
   ]
  },
  {
   "cell_type": "code",
   "execution_count": 88,
   "id": "e7ba362c-dc89-4314-ac63-c2fb1225613d",
   "metadata": {
    "id": "e7ba362c-dc89-4314-ac63-c2fb1225613d",
    "outputId": "7ecb67f3-227f-4862-c10e-efdb6209a0c6"
   },
   "outputs": [
    {
     "data": {
      "text/plain": [
       "Sequential(\n",
       "  (0): AdaptiveAvgPool2d(output_size=1)\n",
       "  (1): Flatten()\n",
       "  (2): Linear(in_features=16, out_features=1, bias=False)\n",
       ")"
      ]
     },
     "execution_count": 88,
     "metadata": {},
     "output_type": "execute_result"
    }
   ],
   "source": [
    "net1.to('cpu')\n",
    "net2.to('cpu')"
   ]
  },
  {
   "cell_type": "markdown",
   "id": "9bef02c7-d5b1-41b5-865b-ecfc9fbb5174",
   "metadata": {
    "id": "9bef02c7-d5b1-41b5-865b-ecfc9fbb5174"
   },
   "source": [
    "`-` forward확인: 이 값을 기억하자. "
   ]
  },
  {
   "cell_type": "code",
   "execution_count": 89,
   "id": "177bcf0c-391d-4508-978f-a19ff2fcce1b",
   "metadata": {
    "id": "177bcf0c-391d-4508-978f-a19ff2fcce1b",
    "outputId": "e57aaa31-5592-4f63-e3ee-548c5d48e4a3"
   },
   "outputs": [
    {
     "data": {
      "text/plain": [
       "tensor([[-0.0378]], grad_fn=<MmBackward>)"
      ]
     },
     "execution_count": 89,
     "metadata": {},
     "output_type": "execute_result"
    }
   ],
   "source": [
    "net2(net1(x)) ## 음수이므로 class=7 이라고 CNN이 판단 "
   ]
  },
  {
   "cell_type": "markdown",
   "id": "fb354c7a-488a-405b-94c4-32dabd56a0c4",
   "metadata": {
    "id": "fb354c7a-488a-405b-94c4-32dabd56a0c4"
   },
   "source": [
    "`-` net2를 수정하고 forward값 확인 "
   ]
  },
  {
   "cell_type": "code",
   "execution_count": 90,
   "id": "20a6fe38-e4da-46e4-9647-9360c13d9e65",
   "metadata": {
    "id": "20a6fe38-e4da-46e4-9647-9360c13d9e65",
    "outputId": "eb0169cf-e5e0-4938-cd41-48dc96873466"
   },
   "outputs": [
    {
     "data": {
      "text/plain": [
       "Sequential(\n",
       "  (0): AdaptiveAvgPool2d(output_size=1)\n",
       "  (1): Flatten()\n",
       "  (2): Linear(in_features=16, out_features=1, bias=False)\n",
       ")"
      ]
     },
     "execution_count": 90,
     "metadata": {},
     "output_type": "execute_result"
    }
   ],
   "source": [
    "net2"
   ]
  },
  {
   "cell_type": "markdown",
   "id": "4d314514-123c-4a78-b136-63795beceb52",
   "metadata": {
    "id": "4d314514-123c-4a78-b136-63795beceb52"
   },
   "source": [
    "- net2에서 Linear와 AdaptiveAvgPool2d의 적용순서를 바꿔줌"
   ]
  },
  {
   "cell_type": "markdown",
   "id": "a4283fc1-40d5-45b2-a281-ed49af3129b8",
   "metadata": {
    "id": "a4283fc1-40d5-45b2-a281-ed49af3129b8"
   },
   "source": [
    "차원확인"
   ]
  },
  {
   "cell_type": "code",
   "execution_count": 92,
   "id": "e587552f-5c9a-44b3-9c25-a9144f990d6e",
   "metadata": {
    "id": "e587552f-5c9a-44b3-9c25-a9144f990d6e",
    "outputId": "3730564f-bb65-4b9d-8c65-16911ee1c37b"
   },
   "outputs": [
    {
     "data": {
      "text/plain": [
       "torch.Size([16, 12, 12])"
      ]
     },
     "execution_count": 92,
     "metadata": {},
     "output_type": "execute_result"
    }
   ],
   "source": [
    "net1(x).squeeze().shape"
   ]
  },
  {
   "cell_type": "markdown",
   "id": "761eed7d-5306-4264-9735-a56585dbb187",
   "metadata": {},
   "source": [
    "> squeeze로 차원을 줄여주나?"
   ]
  },
  {
   "cell_type": "code",
   "execution_count": 93,
   "id": "a9a3001b-28c3-4692-95e4-7ffbfb45bd91",
   "metadata": {
    "id": "a9a3001b-28c3-4692-95e4-7ffbfb45bd91",
    "outputId": "6ddccd99-b958-4f19-ab43-d58d97f01319"
   },
   "outputs": [
    {
     "data": {
      "text/plain": [
       "torch.Size([16])"
      ]
     },
     "execution_count": 93,
     "metadata": {},
     "output_type": "execute_result"
    }
   ],
   "source": [
    "net2[2].weight.squeeze().shape"
   ]
  },
  {
   "cell_type": "markdown",
   "id": "21400cdd-8eb4-4a9a-9665-f8aa5077c5c4",
   "metadata": {
    "id": "21400cdd-8eb4-4a9a-9665-f8aa5077c5c4"
   },
   "source": [
    "**Linear(in_features=16, out_features=1, bias=False)** 를 적용: 16 $\\times$ (16,12,12) $\\to$ (12,12) "
   ]
  },
  {
   "cell_type": "code",
   "execution_count": 94,
   "id": "ae26c8aa-f61a-43fc-bb12-55dc21c7bddc",
   "metadata": {
    "id": "ae26c8aa-f61a-43fc-bb12-55dc21c7bddc",
    "outputId": "c0a5bb1c-aec0-4e6d-8ca9-1fee3b6ab395"
   },
   "outputs": [
    {
     "ename": "RuntimeError",
     "evalue": "mat1 and mat2 shapes cannot be multiplied (192x12 and 16x1)",
     "output_type": "error",
     "traceback": [
      "\u001b[0;31m---------------------------------------------------------------------------\u001b[0m",
      "\u001b[0;31mRuntimeError\u001b[0m                              Traceback (most recent call last)",
      "\u001b[0;32m/tmp/ipykernel_1243196/2879013373.py\u001b[0m in \u001b[0;36m<module>\u001b[0;34m\u001b[0m\n\u001b[0;32m----> 1\u001b[0;31m \u001b[0mnet2\u001b[0m\u001b[0;34m[\u001b[0m\u001b[0;36m2\u001b[0m\u001b[0;34m]\u001b[0m\u001b[0;34m.\u001b[0m\u001b[0mweight\u001b[0m\u001b[0;34m.\u001b[0m\u001b[0msqueeze\u001b[0m\u001b[0;34m(\u001b[0m\u001b[0;34m)\u001b[0m \u001b[0;34m@\u001b[0m \u001b[0mnet1\u001b[0m\u001b[0;34m(\u001b[0m\u001b[0mx\u001b[0m\u001b[0;34m)\u001b[0m\u001b[0;34m.\u001b[0m\u001b[0msqueeze\u001b[0m\u001b[0;34m(\u001b[0m\u001b[0;34m)\u001b[0m\u001b[0;34m\u001b[0m\u001b[0;34m\u001b[0m\u001b[0m\n\u001b[0m",
      "\u001b[0;31mRuntimeError\u001b[0m: mat1 and mat2 shapes cannot be multiplied (192x12 and 16x1)"
     ]
    }
   ],
   "source": [
    "net2[2].weight.squeeze() @ net1(x).squeeze()"
   ]
  },
  {
   "cell_type": "markdown",
   "id": "37b46f98-78f2-4e4b-9784-3ac4686efdd5",
   "metadata": {
    "id": "37b46f98-78f2-4e4b-9784-3ac4686efdd5"
   },
   "source": [
    "- 실패.. "
   ]
  },
  {
   "cell_type": "code",
   "execution_count": 95,
   "id": "b835533f-425c-4a4c-bed8-7029edaf9e0d",
   "metadata": {
    "id": "b835533f-425c-4a4c-bed8-7029edaf9e0d",
    "outputId": "d0d4b088-abb5-4959-bc00-47df1f8cee33"
   },
   "outputs": [
    {
     "data": {
      "text/plain": [
       "torch.Size([12, 12])"
      ]
     },
     "execution_count": 95,
     "metadata": {},
     "output_type": "execute_result"
    }
   ],
   "source": [
    "camimg=torch.einsum('i,ijk -> jk',net2[2].weight.squeeze(), net1(x).squeeze()) #어떻게 변해야 하는지를 알려줘야 함\n",
    "camimg.shape"
   ]
  },
  {
   "cell_type": "markdown",
   "id": "4df4ae71-0b5e-4523-b436-a8c33e6ea767",
   "metadata": {
    "id": "4df4ae71-0b5e-4523-b436-a8c33e6ea767"
   },
   "source": [
    "- 성공 "
   ]
  },
  {
   "cell_type": "markdown",
   "id": "ddc493a6-9551-48b9-b627-d0bddae3ac5b",
   "metadata": {
    "id": "ddc493a6-9551-48b9-b627-d0bddae3ac5b"
   },
   "source": [
    "**AdaptiveAvgPool2d(output_size=1)** 를 적용"
   ]
  },
  {
   "cell_type": "code",
   "execution_count": 96,
   "id": "50572a4b-ef74-4529-a769-b54e556f9c50",
   "metadata": {
    "id": "50572a4b-ef74-4529-a769-b54e556f9c50",
    "outputId": "231832c2-ba89-4a07-e0dc-00af7048a911"
   },
   "outputs": [
    {
     "data": {
      "text/plain": [
       "tensor([[-0.0378]], grad_fn=<MeanBackward1>)"
      ]
     },
     "execution_count": 96,
     "metadata": {},
     "output_type": "execute_result"
    }
   ],
   "source": [
    "ap(camimg)"
   ]
  },
  {
   "cell_type": "markdown",
   "id": "633ed779-d8ad-4262-8cb8-6c142925dd4b",
   "metadata": {
    "id": "633ed779-d8ad-4262-8cb8-6c142925dd4b"
   },
   "source": [
    "`!!!!` 똑같다?"
   ]
  },
  {
   "cell_type": "markdown",
   "id": "8b7ff87f-9eb1-4dc9-a2c0-a7fcbd3a5c45",
   "metadata": {
    "id": "8b7ff87f-9eb1-4dc9-a2c0-a7fcbd3a5c45"
   },
   "source": [
    "`-` 아래의 값이 같다. "
   ]
  },
  {
   "cell_type": "code",
   "execution_count": 97,
   "id": "ed0b7d24-7ee6-4f12-b0db-74147c0d3f4f",
   "metadata": {
    "id": "ed0b7d24-7ee6-4f12-b0db-74147c0d3f4f",
    "outputId": "be8b3b79-b88d-47c9-a8a2-707e7bea4816"
   },
   "outputs": [
    {
     "data": {
      "text/plain": [
       "(tensor([[-0.0378]], grad_fn=<MmBackward>),\n",
       " tensor([[-0.0378]], grad_fn=<MeanBackward1>))"
      ]
     },
     "execution_count": 97,
     "metadata": {},
     "output_type": "execute_result"
    }
   ],
   "source": [
    "net2(net1(x)),ap(camimg)"
   ]
  },
  {
   "cell_type": "markdown",
   "id": "ef04f3ba-3573-4d9b-a116-9390daa81efa",
   "metadata": {
    "id": "ef04f3ba-3573-4d9b-a116-9390daa81efa"
   },
   "source": [
    "`-` 왜냐하면 ap와 선형변환 모두 linear이므로 순서를 바꿔도 상관없음 "
   ]
  },
  {
   "cell_type": "markdown",
   "id": "c4ad0187-35a1-4309-8816-5a3f9688b245",
   "metadata": {
    "id": "c4ad0187-35a1-4309-8816-5a3f9688b245"
   },
   "source": [
    "`-` 아래와 결국 같은 이치"
   ]
  },
  {
   "cell_type": "code",
   "execution_count": 98,
   "id": "49566bf4-8530-4383-9206-c11f440ca5ca",
   "metadata": {
    "id": "49566bf4-8530-4383-9206-c11f440ca5ca",
    "outputId": "3694ae6b-8dde-4e6b-a823-82072910bacb"
   },
   "outputs": [
    {
     "data": {
      "text/plain": [
       "array([1, 2, 3, 4])"
      ]
     },
     "execution_count": 98,
     "metadata": {},
     "output_type": "execute_result"
    }
   ],
   "source": [
    "_x= np.array([1,2,3,4])\n",
    "_x"
   ]
  },
  {
   "cell_type": "code",
   "execution_count": 99,
   "id": "9f116844-08fb-4282-bdbb-7bf8f62fbda6",
   "metadata": {
    "id": "9f116844-08fb-4282-bdbb-7bf8f62fbda6",
    "outputId": "321c7bd4-cc80-4c1f-8ab1-a5d513334bf5"
   },
   "outputs": [
    {
     "data": {
      "text/plain": [
       "6.0"
      ]
     },
     "execution_count": 99,
     "metadata": {},
     "output_type": "execute_result"
    }
   ],
   "source": [
    "np.mean(_x*2+1)"
   ]
  },
  {
   "cell_type": "code",
   "execution_count": 100,
   "id": "34761bf4-66b6-4684-a646-2e2f41c4f538",
   "metadata": {
    "id": "34761bf4-66b6-4684-a646-2e2f41c4f538",
    "outputId": "9753db07-e082-4200-c635-f9e395265222"
   },
   "outputs": [
    {
     "data": {
      "text/plain": [
       "6.0"
      ]
     },
     "execution_count": 100,
     "metadata": {},
     "output_type": "execute_result"
    }
   ],
   "source": [
    "2*np.mean(_x)+1"
   ]
  },
  {
   "cell_type": "markdown",
   "id": "6bc3069f-6a56-469c-bace-a3cab83fa976",
   "metadata": {
    "id": "6bc3069f-6a56-469c-bace-a3cab83fa976"
   },
   "source": [
    "`-` 이제 camimg 에 관심을 가져보자. "
   ]
  },
  {
   "cell_type": "code",
   "execution_count": 101,
   "id": "1d93e7fb-d599-4361-b48f-154a6364e16f",
   "metadata": {
    "id": "1d93e7fb-d599-4361-b48f-154a6364e16f",
    "outputId": "b2fe1bfb-3241-4fd2-8561-7b6ea01a2e8a"
   },
   "outputs": [
    {
     "data": {
      "text/plain": [
       "tensor([[-0.8703, -0.8703, -0.8703, -0.8703, -0.8703, -0.8703, -0.8703, -0.8703,\n",
       "         -0.8703, -0.8703, -0.8703, -0.8703],\n",
       "        [-0.8703, -0.8703, -0.8703, -0.8703, -0.8703, -0.0642, -0.0699,  0.0000,\n",
       "          0.0000,  4.7832,  6.2696, -0.8703],\n",
       "        [-0.8703, -0.8703, -0.8703, -0.8703,  0.0000,  0.0000,  0.0000,  0.0000,\n",
       "          0.0000,  2.2098,  8.6752, -0.8703],\n",
       "        [-0.8703, -0.8703, -0.8703,  0.0000,  0.0000,  0.0000,  0.0000,  0.0000,\n",
       "          0.0000,  0.0000,  0.0000, -0.8703],\n",
       "        [-0.8703, -0.4438,  0.0000,  0.0000,  0.0000,  0.0000,  0.0000,  0.0000,\n",
       "          0.0000,  0.0000,  0.0000, -0.8703],\n",
       "        [-0.4438,  0.0000,  0.0000,  0.0000,  0.0000,  0.0000,  0.0000,  0.0000,\n",
       "          0.0000,  0.0000, -0.4498, -0.8703],\n",
       "        [ 0.0000,  0.0000,  0.0000,  0.0000,  0.0000,  0.0000,  0.0000,  0.0000,\n",
       "          0.0000,  0.0000, -0.8808, -0.8703],\n",
       "        [ 6.4213,  7.9686,  0.0000,  0.0000, -0.1827, -0.8703,  0.0000,  0.0000,\n",
       "          0.0000, -0.3028, -0.8703, -0.8703],\n",
       "        [ 0.1681,  3.7961, -0.0220, -0.8703, -0.8703, -0.0173,  0.0000,  0.0000,\n",
       "          0.0000, -0.8703, -0.8703, -0.8703],\n",
       "        [-0.8703, -0.8703, -0.8703, -0.8703, -0.8703,  0.0000,  0.0000,  0.0000,\n",
       "          0.0000, -0.8738, -0.8703, -0.8703],\n",
       "        [-0.8703, -0.8703, -0.8703, -0.8703, -0.4438,  0.0000,  0.0000,  0.0000,\n",
       "         -0.3890, -0.8703, -0.8703, -0.8703],\n",
       "        [-0.8703, -0.8703, -0.8703, -0.8703,  5.5741,  6.3670,  0.0000,  0.0000,\n",
       "         -0.8703, -0.8703, -0.8703, -0.8703]], grad_fn=<ViewBackward>)"
      ]
     },
     "execution_count": 101,
     "metadata": {},
     "output_type": "execute_result"
    }
   ],
   "source": [
    "camimg"
   ]
  },
  {
   "cell_type": "code",
   "execution_count": 102,
   "id": "c50990f3-79be-4bd1-9210-7c0f21f3c422",
   "metadata": {
    "id": "c50990f3-79be-4bd1-9210-7c0f21f3c422",
    "outputId": "52deac04-22dd-493d-840c-377d2d006c0c"
   },
   "outputs": [
    {
     "data": {
      "text/plain": [
       "(tensor([[-0.0378]], grad_fn=<MeanBackward1>),\n",
       " tensor(-0.0378, grad_fn=<MeanBackward0>))"
      ]
     },
     "execution_count": 102,
     "metadata": {},
     "output_type": "execute_result"
    }
   ],
   "source": [
    "ap(camimg), torch.mean(camimg)"
   ]
  },
  {
   "cell_type": "markdown",
   "id": "a18f5b72-686c-4b4f-bf07-d36fbe981f80",
   "metadata": {
    "id": "a18f5b72-686c-4b4f-bf07-d36fbe981f80"
   },
   "source": [
    "- 이미지의 값은 대부분0이지만 궁극적으로는 평균을 내서 음수의 값이 나와야 한다. "
   ]
  },
  {
   "cell_type": "markdown",
   "id": "65752872-4c68-4c5d-9fa1-d412472f1a0c",
   "metadata": {
    "id": "65752872-4c68-4c5d-9fa1-d412472f1a0c"
   },
   "source": [
    "`-` 결국 특정픽셀에서 큰 음의 값이 나오기 떄문에 궁극적으로는 평균이 음수가 된다. "
   ]
  },
  {
   "cell_type": "markdown",
   "id": "efa8ce40-062d-402a-8995-30bac98ecc7a",
   "metadata": {
    "id": "efa8ce40-062d-402a-8995-30bac98ecc7a"
   },
   "source": [
    "- 평균이 음수이다. $\\leftrightarrow$ 이미지가 의미하는것이 7이다. \n",
    "- 특정픽셀이 큰 음수값을 가진다. $\\leftrightarrow$ 그 픽셀에서 이미지가 7임을 뚜렷하게 알 수 있다. "
   ]
  },
  {
   "cell_type": "markdown",
   "id": "50f4b731-ae58-41f2-b85b-480dbe745564",
   "metadata": {
    "id": "50f4b731-ae58-41f2-b85b-480dbe745564"
   },
   "source": [
    "`-` 그 특정픽셀이 어딘가? "
   ]
  },
  {
   "cell_type": "code",
   "execution_count": 103,
   "id": "2c017a3f-ff74-48c4-8f9e-6cecc67afd2d",
   "metadata": {
    "id": "2c017a3f-ff74-48c4-8f9e-6cecc67afd2d",
    "outputId": "c5607cdb-576c-4538-b5ba-80fc7e1834aa"
   },
   "outputs": [
    {
     "data": {
      "text/plain": [
       "<matplotlib.image.AxesImage at 0x7fbbbf06a5e0>"
      ]
     },
     "execution_count": 103,
     "metadata": {},
     "output_type": "execute_result"
    },
    {
     "data": {
      "image/png": "[encoded data removed]",
      "text/plain": [
       "<Figure size 432x288 with 1 Axes>"
      ]
     },
     "metadata": {
      "needs_background": "light"
     },
     "output_type": "display_data"
    }
   ],
   "source": [
    "plt.imshow(camimg.data)"
   ]
  },
  {
   "cell_type": "markdown",
   "id": "74adf005-1ee3-46b9-b6bc-31b24592becf",
   "metadata": {
    "id": "74adf005-1ee3-46b9-b6bc-31b24592becf"
   },
   "source": [
    "- 초록색으로 표현된 부분은 CNN모형이 이 숫자를 7이라고 생각한 근거가 된다. "
   ]
  },
  {
   "cell_type": "markdown",
   "id": "2cf70bae-80c4-4fb3-8aef-6cb7942c8641",
   "metadata": {
    "id": "2cf70bae-80c4-4fb3-8aef-6cb7942c8641"
   },
   "source": [
    "`-` 원래의 이미지와 비교"
   ]
  },
  {
   "cell_type": "code",
   "execution_count": 104,
   "id": "de0795eb-d1e4-4782-b34c-a8b841efd874",
   "metadata": {
    "id": "de0795eb-d1e4-4782-b34c-a8b841efd874",
    "outputId": "45eb5018-1460-4f85-b5a6-f736ea41dc24"
   },
   "outputs": [
    {
     "data": {
      "text/plain": [
       "<matplotlib.image.AxesImage at 0x7fbbbf0dc460>"
      ]
     },
     "execution_count": 104,
     "metadata": {},
     "output_type": "execute_result"
    },
    {
     "data": {
      "image/png": "[encoded data removed]",
      "text/plain": [
       "<Figure size 432x288 with 1 Axes>"
      ]
     },
     "metadata": {
      "needs_background": "light"
     },
     "output_type": "display_data"
    }
   ],
   "source": [
    "plt.imshow(x.squeeze()) "
   ]
  },
  {
   "cell_type": "markdown",
   "id": "4941c8e8-bd7b-427d-bf08-12450d2fd89a",
   "metadata": {
    "id": "4941c8e8-bd7b-427d-bf08-12450d2fd89a"
   },
   "source": [
    "`-` 두 이미지를 겹쳐서 그리면 멋진 그림이 될 것 같다. "
   ]
  },
  {
   "cell_type": "markdown",
   "id": "0050cd9c-a9b4-4751-84a3-e30d11cfad9a",
   "metadata": {
    "id": "0050cd9c-a9b4-4751-84a3-e30d11cfad9a"
   },
   "source": [
    "step1: 원래이미지를 흑백으로 그리자. "
   ]
  },
  {
   "cell_type": "code",
   "execution_count": 105,
   "id": "e70dba4c-0674-4821-84d7-a6de19b89475",
   "metadata": {
    "id": "e70dba4c-0674-4821-84d7-a6de19b89475",
    "outputId": "124fefd5-a9ce-4c68-c957-29ee46418c3e"
   },
   "outputs": [
    {
     "data": {
      "text/plain": [
       "<matplotlib.image.AxesImage at 0x7fbbbf118640>"
      ]
     },
     "execution_count": 105,
     "metadata": {},
     "output_type": "execute_result"
    },
    {
     "data": {
      "image/png": "[encoded data removed]",
      "text/plain": [
       "<Figure size 432x288 with 1 Axes>"
      ]
     },
     "metadata": {
      "needs_background": "light"
     },
     "output_type": "display_data"
    }
   ],
   "source": [
    "plt.imshow(x.squeeze(),cmap='gray',alpha=0.5)"
   ]
  },
  {
   "cell_type": "markdown",
   "id": "b93bd1a7-3cac-454f-8f02-80b8abe44916",
   "metadata": {
    "id": "b93bd1a7-3cac-454f-8f02-80b8abe44916"
   },
   "source": [
    "`-` step2: 원래이미지는 (28,28)인데 camimg는 (12,12)픽셀 $\\to$ camimg의 픽셀을 늘리자. "
   ]
  },
  {
   "cell_type": "code",
   "execution_count": 106,
   "id": "074f628b-3295-4019-b354-2b1dad400f2d",
   "metadata": {
    "id": "074f628b-3295-4019-b354-2b1dad400f2d",
    "outputId": "5a96de33-38b4-49e8-abaf-ea2582bb665e"
   },
   "outputs": [
    {
     "data": {
      "text/plain": [
       "<matplotlib.image.AxesImage at 0x7fbbbea2b3a0>"
      ]
     },
     "execution_count": 106,
     "metadata": {},
     "output_type": "execute_result"
    },
    {
     "data": {
      "image/png": "[encoded data removed]",
      "text/plain": [
       "<Figure size 432x288 with 1 Axes>"
      ]
     },
     "metadata": {
      "needs_background": "light"
     },
     "output_type": "display_data"
    }
   ],
   "source": [
    "plt.imshow(camimg.data,alpha=0.5, extent=(0,27,27,0),interpolation='bilinear',cmap='magma')"
   ]
  },
  {
   "cell_type": "markdown",
   "id": "6b919ea3-815b-45dd-862d-da3e505cea4e",
   "metadata": {
    "id": "6b919ea3-815b-45dd-862d-da3e505cea4e"
   },
   "source": [
    "`-` step3: 합치자."
   ]
  },
  {
   "cell_type": "code",
   "execution_count": 107,
   "id": "28d06ea9-0b32-4f5c-8693-b729871185d9",
   "metadata": {
    "id": "28d06ea9-0b32-4f5c-8693-b729871185d9",
    "outputId": "75f88cf2-4179-47ae-f7e8-56f4b62e5d27"
   },
   "outputs": [
    {
     "data": {
      "text/plain": [
       "<matplotlib.image.AxesImage at 0x7fbbbea18f10>"
      ]
     },
     "execution_count": 107,
     "metadata": {},
     "output_type": "execute_result"
    },
    {
     "data": {
      "image/png": "[encoded data removed]",
      "text/plain": [
       "<Figure size 432x288 with 1 Axes>"
      ]
     },
     "metadata": {
      "needs_background": "light"
     },
     "output_type": "display_data"
    }
   ],
   "source": [
    "plt.imshow(x.squeeze(),cmap='gray',alpha=0.5)\n",
    "plt.imshow(camimg.data,alpha=0.5, extent=(0,27,27,0),interpolation='bilinear',cmap='magma')"
   ]
  },
  {
   "cell_type": "markdown",
   "id": "80a63524-fd25-4e23-8525-95a8bd044d30",
   "metadata": {
    "id": "80a63524-fd25-4e23-8525-95a8bd044d30"
   },
   "source": [
    "### 숙제 "
   ]
  },
  {
   "cell_type": "markdown",
   "id": "c51cd5fc-bfd8-4ae1-b4b5-ecaf6eb2224b",
   "metadata": {
    "id": "c51cd5fc-bfd8-4ae1-b4b5-ecaf6eb2224b"
   },
   "source": [
    "`-` 숫자3이 그려진 이미지를 observation으로 선택하고 위와 같이 cam을 이용하여 시각화하라. "
   ]
  }
 ],
 "metadata": {
  "colab": {
   "name": "2021-10-28-(7-8주차) 10월26일, 10월28일.ipynb",
   "provenance": []
  },
  "kernelspec": {
   "display_name": "Python 3 (ipykernel)",
   "language": "python",
   "name": "python3"
  },
  "language_info": {
   "codemirror_mode": {
    "name": "ipython",
    "version": 3
   },
   "file_extension": ".py",
   "mimetype": "text/x-python",
   "name": "python",
   "nbconvert_exporter": "python",
   "pygments_lexer": "ipython3",
   "version": "3.8.11"
  }
 },
 "nbformat": 4,
 "nbformat_minor": 5
}
