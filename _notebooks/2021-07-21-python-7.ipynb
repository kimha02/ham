{
 "cells": [
  {
   "cell_type": "markdown",
   "id": "8c6b9626-c5c5-421e-a3b9-e380faa4bf0a",
   "metadata": {},
   "source": [
    "# (공부) Class(클래스)_심화\n",
    "> 작성 완료\n",
    "\n",
    "- toc:true\n",
    "- branch: master\n",
    "- badges: true\n",
    "- comments: true\n",
    "- author: kimha02\n",
    "- categories: [Python]"
   ]
  },
  {
   "cell_type": "markdown",
   "id": "a8080d86-5ac7-416c-854f-40e897568adc",
   "metadata": {},
   "source": [
    "## **클래스, 인스턴스, 오브젝트**"
   ]
  },
  {
   "cell_type": "markdown",
   "id": "d6d8bf9a-9afa-46e7-9d6d-f05cf0eff0f7",
   "metadata": {},
   "source": [
    "`-` 오브젝트\n",
    "- 클래스 오브젝트\n",
    "- 인스턴스 오브젝트 "
   ]
  },
  {
   "cell_type": "markdown",
   "id": "31c642e8-67cb-483f-bf27-54d2870f319d",
   "metadata": {},
   "source": [
    "`-` 클래스 (=클래스 오브젝트)"
   ]
  },
  {
   "cell_type": "markdown",
   "id": "751e7c9e-2fe5-49bc-8b0d-f3eaaec46c10",
   "metadata": {},
   "source": [
    "`-` 인스턴스 (=인스턴스 오브젝트)"
   ]
  },
  {
   "cell_type": "markdown",
   "id": "dccba1e5-8614-4840-9b12-dbf149fcacf3",
   "metadata": {},
   "source": [
    "----"
   ]
  },
  {
   "cell_type": "markdown",
   "id": "8d443e23-dee4-4879-95de-8a280a3e63bb",
   "metadata": {},
   "source": [
    "## 클래스 속성 vs 인스턴스 속성"
   ]
  },
  {
   "cell_type": "markdown",
   "id": "192ecc5e-bcdc-4bfa-8ca9-505352c319fc",
   "metadata": {},
   "source": [
    "- 노트(5)에서 아래와 같은 노트가 있었다."
   ]
  },
  {
   "cell_type": "markdown",
   "id": "d6cb5efc-1925-41fe-861f-85131ea87713",
   "metadata": {},
   "source": [
    "> 규칙2: 클래스 내에서 정의한 변수 (예를들면 `title`, `img`, `don`)를 사용하려면\n",
    "    - `self.title`, `self.img`, `self.don`\n",
    "    - `MooYaHo.title`, `MooYaHo.img`, `MooYaHo.don`"
   ]
  },
  {
   "cell_type": "markdown",
   "id": "bea78b10-fbcd-46eb-9644-8980de7423ca",
   "metadata": {},
   "source": [
    "$\\to$  `self.`는 인스턴스 속성, `MooYaHo.`는 클래스 속성을 의미한다."
   ]
  },
  {
   "cell_type": "markdown",
   "id": "980e636f-50b3-40f0-94a4-a0ac35594ebe",
   "metadata": {},
   "source": [
    "### [예제1]"
   ]
  },
  {
   "cell_type": "code",
   "execution_count": null,
   "id": "0de7e24f-46a3-4cab-8aaf-21144d8556b4",
   "metadata": {},
   "outputs": [],
   "source": [
    "class Testclass1: \n",
    "    x=0 \n",
    "    y=0\n",
    "    def my_print(self):\n",
    "        self.x += 1 \n",
    "        Testclass1.y +=1 \n",
    "        print(\"현재 인스턴스에서 %s 회 출력\" % self.x)\n",
    "        print(\"전체 인스턴스에서 총 %s 회 출력\" % self.y)"
   ]
  },
  {
   "cell_type": "code",
   "execution_count": null,
   "id": "19fc123a-53d9-474c-aa19-ca7e7bd41c07",
   "metadata": {},
   "outputs": [],
   "source": [
    "f=Testclass1"
   ]
  },
  {
   "cell_type": "code",
   "execution_count": null,
   "id": "0ad59f40-0984-4989-b690-e12258c6418b",
   "metadata": {},
   "outputs": [],
   "source": [
    "a=Testclass1()"
   ]
  },
  {
   "cell_type": "code",
   "execution_count": null,
   "id": "00f91bca-9418-48d0-8f7f-0ba630ac7b53",
   "metadata": {},
   "outputs": [],
   "source": [
    "b=f()  ### f라는 클래스 오브젝트에서 b라는 인스턴트 오브젝트 생성"
   ]
  },
  {
   "cell_type": "code",
   "execution_count": null,
   "id": "04990a41-dfe9-47dc-a992-8850bfdcdf7e",
   "metadata": {},
   "outputs": [],
   "source": [
    "a.my_print()"
   ]
  },
  {
   "cell_type": "code",
   "execution_count": null,
   "id": "3dc23468-759b-4fcf-954f-5e08930a095c",
   "metadata": {},
   "outputs": [],
   "source": [
    "b.my_print()"
   ]
  },
  {
   "cell_type": "code",
   "execution_count": null,
   "id": "8e9cb194-6bdf-4af3-b9cc-4be85aba2581",
   "metadata": {},
   "outputs": [],
   "source": [
    "b.my_print()"
   ]
  },
  {
   "cell_type": "code",
   "execution_count": null,
   "id": "23de8939-ba2d-4276-abda-b2a8a41f0a9a",
   "metadata": {},
   "outputs": [],
   "source": [
    "a.my_print()"
   ]
  },
  {
   "cell_type": "code",
   "execution_count": null,
   "id": "4c21342a-bd19-44e3-a8b9-871b994ff756",
   "metadata": {},
   "outputs": [],
   "source": [
    "a.my_print()"
   ]
  },
  {
   "cell_type": "markdown",
   "id": "628af07e-a293-4fe5-9fde-ccd307e9b5e8",
   "metadata": {},
   "source": [
    "`-` 신기한 점: 각 인스턴스에서 instance.my_print()를 실행한 횟수를 서로 공유하는 듯 하다. "
   ]
  },
  {
   "cell_type": "markdown",
   "id": "2d78b603-2abc-4b17-af8e-26ab4f5b4460",
   "metadata": {},
   "source": [
    "#### 분석"
   ]
  },
  {
   "cell_type": "markdown",
   "id": "d12f528a-a5de-4a18-84d9-a70551cd73c9",
   "metadata": {},
   "source": [
    "`-` 코드를 시점별로 분석해보자. "
   ]
  },
  {
   "cell_type": "markdown",
   "id": "9147c566-07d1-4316-a839-0db8f47e1a9f",
   "metadata": {},
   "source": [
    "`-` 분석을 위해서 커널을 재시작한다. "
   ]
  },
  {
   "cell_type": "markdown",
   "id": "76469272-3412-43dc-8e6f-6d916195db53",
   "metadata": {},
   "source": [
    "[시점1]: Testclass1를 선언하는 시점"
   ]
  },
  {
   "cell_type": "code",
   "execution_count": 1,
   "id": "5f93615c-c3c7-41ef-9f27-079748e42cb6",
   "metadata": {},
   "outputs": [],
   "source": [
    "class Testclass1: \n",
    "    x=0 \n",
    "    y=0\n",
    "    def my_print(self):\n",
    "        self.x += 1 \n",
    "        Testclass1.y +=1 \n",
    "        print(\"현재 인스턴스에서 %s 회 출력\" % self.x)\n",
    "        print(\"전체 인스턴스에서 총 %s 회 출력\" % self.y)"
   ]
  },
  {
   "cell_type": "code",
   "execution_count": 2,
   "id": "280da2bb-7858-40a4-8372-dc0e61d46a86",
   "metadata": {},
   "outputs": [
    {
     "data": {
      "text/plain": [
       "['__class__',\n",
       " '__delattr__',\n",
       " '__dict__',\n",
       " '__dir__',\n",
       " '__doc__',\n",
       " '__eq__',\n",
       " '__format__',\n",
       " '__ge__',\n",
       " '__getattribute__',\n",
       " '__gt__',\n",
       " '__hash__',\n",
       " '__init__',\n",
       " '__init_subclass__',\n",
       " '__le__',\n",
       " '__lt__',\n",
       " '__module__',\n",
       " '__ne__',\n",
       " '__new__',\n",
       " '__reduce__',\n",
       " '__reduce_ex__',\n",
       " '__repr__',\n",
       " '__setattr__',\n",
       " '__sizeof__',\n",
       " '__str__',\n",
       " '__subclasshook__',\n",
       " '__weakref__',\n",
       " 'my_print',\n",
       " 'x',\n",
       " 'y']"
      ]
     },
     "execution_count": 2,
     "metadata": {},
     "output_type": "execute_result"
    }
   ],
   "source": [
    "dir(Testclass1)   ###Testclass 탐색"
   ]
  },
  {
   "cell_type": "code",
   "execution_count": 3,
   "id": "70142e77-41f9-4955-ad49-d1468033e98c",
   "metadata": {},
   "outputs": [
    {
     "ename": "NameError",
     "evalue": "name 'a' is not defined",
     "output_type": "error",
     "traceback": [
      "\u001b[0;31m---------------------------------------------------------------------------\u001b[0m",
      "\u001b[0;31mNameError\u001b[0m                                 Traceback (most recent call last)",
      "\u001b[0;32m<ipython-input-3-3af1c875b71a>\u001b[0m in \u001b[0;36m<module>\u001b[0;34m\u001b[0m\n\u001b[0;32m----> 1\u001b[0;31m \u001b[0mdir\u001b[0m\u001b[0;34m(\u001b[0m\u001b[0ma\u001b[0m\u001b[0;34m)\u001b[0m\u001b[0;34m\u001b[0m\u001b[0;34m\u001b[0m\u001b[0m\n\u001b[0m",
      "\u001b[0;31mNameError\u001b[0m: name 'a' is not defined"
     ]
    }
   ],
   "source": [
    "dir(a)"
   ]
  },
  {
   "cell_type": "code",
   "execution_count": 4,
   "id": "d237fcad-ea94-4215-86cd-49ce3b2b6f3e",
   "metadata": {},
   "outputs": [
    {
     "ename": "NameError",
     "evalue": "name 'b' is not defined",
     "output_type": "error",
     "traceback": [
      "\u001b[0;31m---------------------------------------------------------------------------\u001b[0m",
      "\u001b[0;31mNameError\u001b[0m                                 Traceback (most recent call last)",
      "\u001b[0;32m<ipython-input-4-35660f044d44>\u001b[0m in \u001b[0;36m<module>\u001b[0;34m\u001b[0m\n\u001b[0;32m----> 1\u001b[0;31m \u001b[0mdir\u001b[0m\u001b[0;34m(\u001b[0m\u001b[0mb\u001b[0m\u001b[0;34m)\u001b[0m\u001b[0;34m\u001b[0m\u001b[0;34m\u001b[0m\u001b[0m\n\u001b[0m",
      "\u001b[0;31mNameError\u001b[0m: name 'b' is not defined"
     ]
    }
   ],
   "source": [
    "dir(b)"
   ]
  },
  {
   "cell_type": "markdown",
   "id": "f1dcb3bf-422d-4ade-877a-c22c410ae469",
   "metadata": {},
   "source": [
    "`–` 이 시점에는 Testclass1만이 존재한다. Testclass1를 바로 `클래스 오브젝트` 라고 부름. "
   ]
  },
  {
   "cell_type": "code",
   "execution_count": 5,
   "id": "041e8bcf-ff50-48d7-abbc-0b42227f85b0",
   "metadata": {},
   "outputs": [
    {
     "data": {
      "text/plain": [
       "0"
      ]
     },
     "execution_count": 5,
     "metadata": {},
     "output_type": "execute_result"
    }
   ],
   "source": [
    "Testclass1.x"
   ]
  },
  {
   "cell_type": "code",
   "execution_count": 6,
   "id": "9e1007a6-34f7-4ce6-b0b3-fa367104d18c",
   "metadata": {},
   "outputs": [
    {
     "data": {
      "text/plain": [
       "0"
      ]
     },
     "execution_count": 6,
     "metadata": {},
     "output_type": "execute_result"
    }
   ],
   "source": [
    "Testclass1.y"
   ]
  },
  {
   "cell_type": "markdown",
   "id": "75b39449-df9e-4f34-a2af-df090b55cfae",
   "metadata": {},
   "source": [
    "`–` 현재시점에서는 클래스 오브젝트의 수 1개, 인스턴스 오브젝트의 수 0개, 따라서 총 오브젝트 수는 1개임. "
   ]
  },
  {
   "cell_type": "markdown",
   "id": "75913785-a602-460b-ae0c-d71b265ec6fd",
   "metadata": {},
   "source": [
    "[시점2] 클래스에 별칭을 지정하는 시점 "
   ]
  },
  {
   "cell_type": "code",
   "execution_count": 8,
   "id": "1121f3e3-4e7f-4b65-9f41-288d1ca60377",
   "metadata": {},
   "outputs": [],
   "source": [
    "f=Testclass1 ###f라는 별칭을 지정"
   ]
  },
  {
   "cell_type": "code",
   "execution_count": 9,
   "id": "a5fa5ad6-a8f3-465f-a702-693fd5f4d0eb",
   "metadata": {},
   "outputs": [
    {
     "data": {
      "text/plain": [
       "0"
      ]
     },
     "execution_count": 9,
     "metadata": {},
     "output_type": "execute_result"
    }
   ],
   "source": [
    "f.x"
   ]
  },
  {
   "cell_type": "code",
   "execution_count": 10,
   "id": "117be8f8-c708-4af8-bcbc-2bb02bb94bed",
   "metadata": {},
   "outputs": [
    {
     "data": {
      "text/plain": [
       "0"
      ]
     },
     "execution_count": 10,
     "metadata": {},
     "output_type": "execute_result"
    }
   ],
   "source": [
    "f.y"
   ]
  },
  {
   "cell_type": "code",
   "execution_count": 11,
   "id": "390ea321-d38e-401b-aed3-d8c83d4009a5",
   "metadata": {},
   "outputs": [
    {
     "data": {
      "text/plain": [
       "0"
      ]
     },
     "execution_count": 11,
     "metadata": {},
     "output_type": "execute_result"
    }
   ],
   "source": [
    "Testclass1.x"
   ]
  },
  {
   "cell_type": "code",
   "execution_count": 12,
   "id": "0304e694-ba2e-4338-8452-86af5c9ea464",
   "metadata": {},
   "outputs": [
    {
     "data": {
      "text/plain": [
       "0"
      ]
     },
     "execution_count": 12,
     "metadata": {},
     "output_type": "execute_result"
    }
   ],
   "source": [
    "Testclass1.y"
   ]
  },
  {
   "cell_type": "markdown",
   "id": "9d994187-75fd-46aa-b2b2-b08a3b0fd9d2",
   "metadata": {},
   "source": [
    "`–` 이 시점에서 클래스 오브젝트는 2개가 있는 것 처럼 보인다. "
   ]
  },
  {
   "cell_type": "markdown",
   "id": "ab488428-a862-4b07-9084-c69aaf2f2574",
   "metadata": {},
   "source": [
    "`-` 그렇다면 이 2개의 클래스 오브젝트는 컴퓨터의 어딘가에 저장이 되어 있을 것이다. "
   ]
  },
  {
   "cell_type": "markdown",
   "id": "fed805e3-7573-4e80-a21d-1bb7dc0f7ff5",
   "metadata": {},
   "source": [
    "`-` 구체적으로는 메모리에 저장되어 있을 것. "
   ]
  },
  {
   "cell_type": "markdown",
   "id": "86111c59-ccdb-4628-b94d-ee7b7963e399",
   "metadata": {},
   "source": [
    "`-` 2개의 클래스오브젝트는 서로 다른 메모리 공간에 저장되어 있을 것이다."
   ]
  },
  {
   "cell_type": "markdown",
   "id": "7f44e5ba-1428-4886-a21d-659169c492b6",
   "metadata": {},
   "source": [
    "`-` 진짜인가? 확인해보자. `id()`는 오브젝트(클래스 오브젝트, 인스턴스 오브젝트)가 저장된 메모리 주소를 확인하는 명령어이다. "
   ]
  },
  {
   "cell_type": "code",
   "execution_count": 13,
   "id": "548f3657-bb6a-4d51-800d-9ddd4acf72a5",
   "metadata": {},
   "outputs": [
    {
     "data": {
      "text/plain": [
       "93883369152752"
      ]
     },
     "execution_count": 13,
     "metadata": {},
     "output_type": "execute_result"
    }
   ],
   "source": [
    "id(f)"
   ]
  },
  {
   "cell_type": "markdown",
   "id": "3180852d-d09d-46bb-9c36-50ce818b4242",
   "metadata": {},
   "source": [
    "`–` f라는 오브젝트는 93883369152752 메모리에 저장되어 있다. "
   ]
  },
  {
   "cell_type": "code",
   "execution_count": 14,
   "id": "a35891f5-f535-4890-8891-25eb44997425",
   "metadata": {},
   "outputs": [
    {
     "data": {
      "text/plain": [
       "93883369152752"
      ]
     },
     "execution_count": 14,
     "metadata": {},
     "output_type": "execute_result"
    }
   ],
   "source": [
    "id(Testclass1)"
   ]
  },
  {
   "cell_type": "markdown",
   "id": "ae508272-455d-4909-97de-e87cf053a379",
   "metadata": {},
   "source": [
    "`-` Testclass1의 오브젝트 역시 93883369152752 메모리에 저장되어 있다. "
   ]
  },
  {
   "cell_type": "markdown",
   "id": "32804910-e11f-4c75-86af-220f4d36ae93",
   "metadata": {},
   "source": [
    "`-` 추론: 사실 93883369152752\n",
    "라는 메모리공간에 저장된 어떠한 것은 동일한데, 그것을 어떤사람은 `Testclass1` 이라고 부르고 어떤사람은 `f`라고 부른다. "
   ]
  },
  {
   "cell_type": "markdown",
   "id": "53b164fe-86c0-4a6e-9a42-5ca218000ac5",
   "metadata": {},
   "source": [
    "`-` 이는 마치 **별명**이랑 비슷하다. 부르는 이름이 2개라고 해서 나라는 오브젝트가 2개가 있는것은 아니다. "
   ]
  },
  {
   "cell_type": "markdown",
   "id": "cff47989-abd5-4d4e-92d1-e4076bd26531",
   "metadata": {},
   "source": [
    "`-` 결국 이 시점에서 클래스 오브젝트의 수는 여전히 1개라고 볼 수 있다. (인스턴스 오브젝트의 수는 0개)"
   ]
  },
  {
   "cell_type": "markdown",
   "id": "09567763-d740-40d4-ad7a-cc3fc04249ee",
   "metadata": {},
   "source": [
    "[시점3]: 클래스 오브젝트로부터 인스턴스 오브젝트를 만드는 시점"
   ]
  },
  {
   "cell_type": "code",
   "execution_count": 15,
   "id": "c04ed05a-8bbf-4421-b2d8-87a5560cd3c8",
   "metadata": {},
   "outputs": [],
   "source": [
    "a=Testclass1()\n",
    "b=f()"
   ]
  },
  {
   "cell_type": "code",
   "execution_count": 16,
   "id": "f1173e47-34b6-4227-b69b-1c232696ad16",
   "metadata": {},
   "outputs": [
    {
     "data": {
      "text/plain": [
       "(93883369152752, 93883369152752, 140489211063024, 140489211062064)"
      ]
     },
     "execution_count": 16,
     "metadata": {},
     "output_type": "execute_result"
    }
   ],
   "source": [
    "id(Testclass1),id(f),id(a),id(b)"
   ]
  },
  {
   "cell_type": "markdown",
   "id": "47f18958-0508-4723-b2fe-9e8a486c61d1",
   "metadata": {},
   "source": [
    "`–` 이 순간에는 클래스 오브젝트 1개, 인스턴스 오브젝트 2개 존재한다. 즉 총 3개의 오브젝트가 존재한다. "
   ]
  },
  {
   "cell_type": "markdown",
   "id": "c5058f64-c7ae-42a4-a9c2-2075b2190cba",
   "metadata": {},
   "source": [
    "`-` 메모리주소 93883369152752 에 존재하는 오브젝트는 클래스 오브젝트이며 Testclass1 또는 f 라고 불린다. "
   ]
  },
  {
   "cell_type": "markdown",
   "id": "f71dc1f4-cb24-46cb-a6a0-27bfcf29e213",
   "metadata": {},
   "source": [
    "`-` 메모리주소 140489211063024 에 존재하는 오브젝트는 인스턴스 오브젝트이며 a라고 불린다. "
   ]
  },
  {
   "cell_type": "markdown",
   "id": "0513c7de-2cde-454a-a162-9ba0ae12bf94",
   "metadata": {},
   "source": [
    "`-` 메모리주소 140489211062064 에 존재하는 오브젝트는 인스턴스 오브젝트이며 b라고 불린다. "
   ]
  },
  {
   "cell_type": "code",
   "execution_count": 17,
   "id": "89974586-1de9-4630-9d8d-13566e45ab61",
   "metadata": {},
   "outputs": [
    {
     "data": {
      "text/plain": [
       "(0, 0)"
      ]
     },
     "execution_count": 17,
     "metadata": {},
     "output_type": "execute_result"
    }
   ],
   "source": [
    "Testclass1.x, Testclass1.y"
   ]
  },
  {
   "cell_type": "code",
   "execution_count": 18,
   "id": "a97b3188-1685-4c48-85a1-6ced5113a2cf",
   "metadata": {},
   "outputs": [
    {
     "data": {
      "text/plain": [
       "(0, 0)"
      ]
     },
     "execution_count": 18,
     "metadata": {},
     "output_type": "execute_result"
    }
   ],
   "source": [
    "f.x,f.y"
   ]
  },
  {
   "cell_type": "code",
   "execution_count": 19,
   "id": "e93b4f6b-2cb6-4564-80cb-0f19acf51375",
   "metadata": {},
   "outputs": [
    {
     "data": {
      "text/plain": [
       "(0, 0)"
      ]
     },
     "execution_count": 19,
     "metadata": {},
     "output_type": "execute_result"
    }
   ],
   "source": [
    "a.x,a.y"
   ]
  },
  {
   "cell_type": "code",
   "execution_count": 20,
   "id": "a8c027b1-aa37-4b0f-b1d9-249fa4963def",
   "metadata": {},
   "outputs": [
    {
     "data": {
      "text/plain": [
       "(0, 0)"
      ]
     },
     "execution_count": 20,
     "metadata": {},
     "output_type": "execute_result"
    }
   ],
   "source": [
    "b.x,b.y"
   ]
  },
  {
   "cell_type": "markdown",
   "id": "8ea7e807-fa82-469f-9874-7bc82defd0f7",
   "metadata": {},
   "source": [
    "[시점4]"
   ]
  },
  {
   "cell_type": "code",
   "execution_count": 21,
   "id": "f01d1561-721c-4493-a056-0853074a5281",
   "metadata": {},
   "outputs": [
    {
     "name": "stdout",
     "output_type": "stream",
     "text": [
      "현재 인스턴스에서 1 회 출력\n",
      "전체 인스턴스에서 총 1 회 출력\n"
     ]
    }
   ],
   "source": [
    "a.my_print()"
   ]
  },
  {
   "cell_type": "code",
   "execution_count": 22,
   "id": "7cd012ee-5f12-4ab1-a60b-fc2bdbc8c7fd",
   "metadata": {},
   "outputs": [
    {
     "data": {
      "text/plain": [
       "((0, 1), (1, 1), (0, 1))"
      ]
     },
     "execution_count": 22,
     "metadata": {},
     "output_type": "execute_result"
    }
   ],
   "source": [
    "(f.x,f.y),(a.x,a.y),(b.x,b.y)"
   ]
  },
  {
   "cell_type": "markdown",
   "id": "d408d392-a5e5-4c75-943b-f9820c765eb7",
   "metadata": {},
   "source": [
    "`-` 특징 \n",
    " - a.my_print()를 실행하면 a.x 의 값이 1이 증가한다. \n",
    " - a.my_print()를 실행하면 f.y, a.y, b.y 의 값이 동시에 1이 증가한다. (공유가 되는 느낌)"
   ]
  },
  {
   "cell_type": "markdown",
   "id": "bea0ece1-0075-44fc-9e0c-4a73ecb07540",
   "metadata": {},
   "source": [
    "[시점5]"
   ]
  },
  {
   "cell_type": "code",
   "execution_count": 23,
   "id": "e3045923-5e45-4352-874e-fdb4efb5751f",
   "metadata": {},
   "outputs": [
    {
     "name": "stdout",
     "output_type": "stream",
     "text": [
      "현재 인스턴스에서 1 회 출력\n",
      "전체 인스턴스에서 총 2 회 출력\n"
     ]
    }
   ],
   "source": [
    "b.my_print()"
   ]
  },
  {
   "cell_type": "code",
   "execution_count": 24,
   "id": "2381a424-a106-454d-a57e-758b2e71d708",
   "metadata": {},
   "outputs": [
    {
     "data": {
      "text/plain": [
       "((0, 2), (1, 2), (1, 2))"
      ]
     },
     "execution_count": 24,
     "metadata": {},
     "output_type": "execute_result"
    }
   ],
   "source": [
    "(f.x,f.y),(a.x,a.y),(b.x,b.y)"
   ]
  },
  {
   "cell_type": "markdown",
   "id": "1fc747a8-c360-4062-89b9-11a1130eb2cd",
   "metadata": {},
   "source": [
    "[시점6]"
   ]
  },
  {
   "cell_type": "code",
   "execution_count": 25,
   "id": "92af473e-9f16-4ea2-b309-b157c50632fe",
   "metadata": {},
   "outputs": [
    {
     "name": "stdout",
     "output_type": "stream",
     "text": [
      "현재 인스턴스에서 2 회 출력\n",
      "전체 인스턴스에서 총 3 회 출력\n"
     ]
    }
   ],
   "source": [
    "b.my_print()"
   ]
  },
  {
   "cell_type": "code",
   "execution_count": 26,
   "id": "b65b0d5b-b203-4c56-9ca6-869ded88a0e3",
   "metadata": {},
   "outputs": [
    {
     "data": {
      "text/plain": [
       "((0, 3), (1, 3), (2, 3))"
      ]
     },
     "execution_count": 26,
     "metadata": {},
     "output_type": "execute_result"
    }
   ],
   "source": [
    "(f.x,f.y),(a.x,a.y),(b.x,b.y)"
   ]
  },
  {
   "cell_type": "markdown",
   "id": "d6fdef9b-37b5-4144-8b3c-7a79b1df227d",
   "metadata": {},
   "source": [
    "[시점7]"
   ]
  },
  {
   "cell_type": "code",
   "execution_count": 27,
   "id": "a6476f0a-18e6-429a-9b4b-64f9087af187",
   "metadata": {},
   "outputs": [
    {
     "name": "stdout",
     "output_type": "stream",
     "text": [
      "현재 인스턴스에서 2 회 출력\n",
      "전체 인스턴스에서 총 4 회 출력\n"
     ]
    }
   ],
   "source": [
    "a.my_print()"
   ]
  },
  {
   "cell_type": "code",
   "execution_count": 28,
   "id": "7a67ade4-e42e-427b-a914-b6a772545dcb",
   "metadata": {},
   "outputs": [
    {
     "data": {
      "text/plain": [
       "((0, 4), (2, 4), (2, 4))"
      ]
     },
     "execution_count": 28,
     "metadata": {},
     "output_type": "execute_result"
    }
   ],
   "source": [
    "(f.x,f.y),(a.x,a.y),(b.x,b.y)"
   ]
  },
  {
   "cell_type": "markdown",
   "id": "94085dad-ceb6-4978-a96b-26baf2c63212",
   "metadata": {},
   "source": [
    "[시점8]"
   ]
  },
  {
   "cell_type": "code",
   "execution_count": 29,
   "id": "c34dc4eb-70c4-450e-b39d-4f4ce0b1669f",
   "metadata": {},
   "outputs": [
    {
     "name": "stdout",
     "output_type": "stream",
     "text": [
      "현재 인스턴스에서 3 회 출력\n",
      "전체 인스턴스에서 총 5 회 출력\n"
     ]
    }
   ],
   "source": [
    "a.my_print()"
   ]
  },
  {
   "cell_type": "code",
   "execution_count": 30,
   "id": "ebcf7b5e-13c6-4ff0-b38e-640425207939",
   "metadata": {},
   "outputs": [
    {
     "data": {
      "text/plain": [
       "((0, 5), (3, 5), (2, 5))"
      ]
     },
     "execution_count": 30,
     "metadata": {},
     "output_type": "execute_result"
    }
   ],
   "source": [
    "(f.x,f.y),(a.x,a.y),(b.x,b.y)"
   ]
  },
  {
   "cell_type": "markdown",
   "id": "f08b7b26-9a2a-40e3-9ffe-834f072f160a",
   "metadata": {},
   "source": [
    "---"
   ]
  },
  {
   "cell_type": "markdown",
   "id": "2890914f-8997-4d05-8f91-99f6e0c61293",
   "metadata": {},
   "source": [
    "### [예제2]"
   ]
  },
  {
   "cell_type": "markdown",
   "id": "e548aed2-ade2-4116-8b16-6735800bf554",
   "metadata": {},
   "source": [
    "`-` 아래처럼 코드를 바꿔도 잘 동작할것 같다. "
   ]
  },
  {
   "cell_type": "code",
   "execution_count": 33,
   "id": "62dbb29c-a0aa-4d59-8097-296c5b7707b3",
   "metadata": {},
   "outputs": [],
   "source": [
    "class Testclass2: \n",
    "    def __init__(self):\n",
    "        self.x=0\n",
    "        self.y=0\n",
    "    def my_print(self):\n",
    "        self.x += 1 \n",
    "        Testclass2.y +=1 \n",
    "        print(\"현재 인스턴스에서 %s 회 출력\" % self.x)\n",
    "        print(\"전체 인스턴스에서 총 %s 회 출력\" % self.y)"
   ]
  },
  {
   "cell_type": "code",
   "execution_count": 34,
   "id": "0490c324-f64e-439e-90bb-b1ab30fc20a4",
   "metadata": {},
   "outputs": [],
   "source": [
    "c=Testclass2()"
   ]
  },
  {
   "cell_type": "code",
   "execution_count": 35,
   "id": "3cefa12a-f94b-4632-9319-b2ed2b9d13bb",
   "metadata": {},
   "outputs": [
    {
     "ename": "AttributeError",
     "evalue": "type object 'Testclass2' has no attribute 'y'",
     "output_type": "error",
     "traceback": [
      "\u001b[0;31m---------------------------------------------------------------------------\u001b[0m",
      "\u001b[0;31mAttributeError\u001b[0m                            Traceback (most recent call last)",
      "\u001b[0;32m<ipython-input-35-5500abb1215d>\u001b[0m in \u001b[0;36m<module>\u001b[0;34m\u001b[0m\n\u001b[0;32m----> 1\u001b[0;31m \u001b[0mc\u001b[0m\u001b[0;34m.\u001b[0m\u001b[0mmy_print\u001b[0m\u001b[0;34m(\u001b[0m\u001b[0;34m)\u001b[0m\u001b[0;34m\u001b[0m\u001b[0;34m\u001b[0m\u001b[0m\n\u001b[0m",
      "\u001b[0;32m<ipython-input-33-72dbe3bd77f6>\u001b[0m in \u001b[0;36mmy_print\u001b[0;34m(self)\u001b[0m\n\u001b[1;32m      5\u001b[0m     \u001b[0;32mdef\u001b[0m \u001b[0mmy_print\u001b[0m\u001b[0;34m(\u001b[0m\u001b[0mself\u001b[0m\u001b[0;34m)\u001b[0m\u001b[0;34m:\u001b[0m\u001b[0;34m\u001b[0m\u001b[0;34m\u001b[0m\u001b[0m\n\u001b[1;32m      6\u001b[0m         \u001b[0mself\u001b[0m\u001b[0;34m.\u001b[0m\u001b[0mx\u001b[0m \u001b[0;34m+=\u001b[0m \u001b[0;36m1\u001b[0m\u001b[0;34m\u001b[0m\u001b[0;34m\u001b[0m\u001b[0m\n\u001b[0;32m----> 7\u001b[0;31m         \u001b[0mTestclass2\u001b[0m\u001b[0;34m.\u001b[0m\u001b[0my\u001b[0m \u001b[0;34m+=\u001b[0m\u001b[0;36m1\u001b[0m\u001b[0;34m\u001b[0m\u001b[0;34m\u001b[0m\u001b[0m\n\u001b[0m\u001b[1;32m      8\u001b[0m         \u001b[0mprint\u001b[0m\u001b[0;34m(\u001b[0m\u001b[0;34m\"현재 인스턴스에서 %s 회 출력\"\u001b[0m \u001b[0;34m%\u001b[0m \u001b[0mself\u001b[0m\u001b[0;34m.\u001b[0m\u001b[0mx\u001b[0m\u001b[0;34m)\u001b[0m\u001b[0;34m\u001b[0m\u001b[0;34m\u001b[0m\u001b[0m\n\u001b[1;32m      9\u001b[0m         \u001b[0mprint\u001b[0m\u001b[0;34m(\u001b[0m\u001b[0;34m\"전체 인스턴스에서 총 %s 회 출력\"\u001b[0m \u001b[0;34m%\u001b[0m \u001b[0mself\u001b[0m\u001b[0;34m.\u001b[0m\u001b[0my\u001b[0m\u001b[0;34m)\u001b[0m\u001b[0;34m\u001b[0m\u001b[0;34m\u001b[0m\u001b[0m\n",
      "\u001b[0;31mAttributeError\u001b[0m: type object 'Testclass2' has no attribute 'y'"
     ]
    }
   ],
   "source": [
    "c.my_print()"
   ]
  },
  {
   "cell_type": "markdown",
   "id": "d231eb5b-44f9-4ee9-b739-3804fbfe8c1f",
   "metadata": {},
   "source": [
    "`–` 왜 에러가 나는가? "
   ]
  },
  {
   "cell_type": "code",
   "execution_count": 36,
   "id": "d6ae442b-912e-4e09-87d0-a3583816372e",
   "metadata": {},
   "outputs": [
    {
     "data": {
      "text/plain": [
       "['__class__',\n",
       " '__delattr__',\n",
       " '__dict__',\n",
       " '__dir__',\n",
       " '__doc__',\n",
       " '__eq__',\n",
       " '__format__',\n",
       " '__ge__',\n",
       " '__getattribute__',\n",
       " '__gt__',\n",
       " '__hash__',\n",
       " '__init__',\n",
       " '__init_subclass__',\n",
       " '__le__',\n",
       " '__lt__',\n",
       " '__module__',\n",
       " '__ne__',\n",
       " '__new__',\n",
       " '__reduce__',\n",
       " '__reduce_ex__',\n",
       " '__repr__',\n",
       " '__setattr__',\n",
       " '__sizeof__',\n",
       " '__str__',\n",
       " '__subclasshook__',\n",
       " '__weakref__',\n",
       " 'my_print']"
      ]
     },
     "execution_count": 36,
     "metadata": {},
     "output_type": "execute_result"
    }
   ],
   "source": [
    "dir(Testclass2)"
   ]
  },
  {
   "cell_type": "code",
   "execution_count": 37,
   "id": "8df4fe50-6b8a-40c5-afff-c91f2514f0b5",
   "metadata": {},
   "outputs": [
    {
     "data": {
      "text/plain": [
       "['__class__',\n",
       " '__delattr__',\n",
       " '__dict__',\n",
       " '__dir__',\n",
       " '__doc__',\n",
       " '__eq__',\n",
       " '__format__',\n",
       " '__ge__',\n",
       " '__getattribute__',\n",
       " '__gt__',\n",
       " '__hash__',\n",
       " '__init__',\n",
       " '__init_subclass__',\n",
       " '__le__',\n",
       " '__lt__',\n",
       " '__module__',\n",
       " '__ne__',\n",
       " '__new__',\n",
       " '__reduce__',\n",
       " '__reduce_ex__',\n",
       " '__repr__',\n",
       " '__setattr__',\n",
       " '__sizeof__',\n",
       " '__str__',\n",
       " '__subclasshook__',\n",
       " '__weakref__',\n",
       " 'my_print',\n",
       " 'x',\n",
       " 'y']"
      ]
     },
     "execution_count": 37,
     "metadata": {},
     "output_type": "execute_result"
    }
   ],
   "source": [
    "dir(Testclass1)"
   ]
  },
  {
   "cell_type": "markdown",
   "id": "c4ea5b0c-f1b7-47d6-bba9-5666b700ad51",
   "metadata": {},
   "source": [
    "`-` 관찰1: Testclass2에서는 Testclass1과는 다르게 x,y가 없다. "
   ]
  },
  {
   "cell_type": "code",
   "execution_count": 38,
   "id": "d604c56f-9a20-4f83-9d47-5c157f6b21ac",
   "metadata": {},
   "outputs": [
    {
     "data": {
      "text/plain": [
       "['__class__',\n",
       " '__delattr__',\n",
       " '__dict__',\n",
       " '__dir__',\n",
       " '__doc__',\n",
       " '__eq__',\n",
       " '__format__',\n",
       " '__ge__',\n",
       " '__getattribute__',\n",
       " '__gt__',\n",
       " '__hash__',\n",
       " '__init__',\n",
       " '__init_subclass__',\n",
       " '__le__',\n",
       " '__lt__',\n",
       " '__module__',\n",
       " '__ne__',\n",
       " '__new__',\n",
       " '__reduce__',\n",
       " '__reduce_ex__',\n",
       " '__repr__',\n",
       " '__setattr__',\n",
       " '__sizeof__',\n",
       " '__str__',\n",
       " '__subclasshook__',\n",
       " '__weakref__',\n",
       " 'my_print',\n",
       " 'x',\n",
       " 'y']"
      ]
     },
     "execution_count": 38,
     "metadata": {},
     "output_type": "execute_result"
    }
   ],
   "source": [
    "dir(c)"
   ]
  },
  {
   "cell_type": "markdown",
   "id": "5de665ef-4686-43ae-a254-9bc139898f5c",
   "metadata": {},
   "source": [
    "`–` 관찰2: 그런데 `c`라는 인스턴스 오브젝트에서는 x,y가 있다. "
   ]
  },
  {
   "cell_type": "markdown",
   "id": "8eb8f781-112b-47f9-9086-7f25cb359637",
   "metadata": {},
   "source": [
    "`-` 추론: `__init__`함수는 클래스 오브젝트가 만들어지는 시점에서는 실행되지 않고, **인스텐스 오브젝트가 만들어지는 시점에 실행된다.**"
   ]
  },
  {
   "cell_type": "markdown",
   "id": "33600c3a-3df5-42cb-863f-a419b36ea342",
   "metadata": {},
   "source": [
    "`-` 결국 `__init__`함수의 역할은 클래스 오브젝트에서 인스턴스 오브젝트를 만든후에 초기화를 위해서 실행하는 어떠한 일련의 명령들을 묶어놓은 것에 불과하다. "
   ]
  },
  {
   "cell_type": "markdown",
   "id": "19f255af-51e1-40f8-8aa8-2a8dc8bb8684",
   "metadata": {},
   "source": [
    "`–` 즉 위의 코드는 굳이 따지면 아래를 실행한 것과 동일하다. "
   ]
  },
  {
   "cell_type": "code",
   "execution_count": 39,
   "id": "f173828a-1914-4033-81cb-f609bd7bf64f",
   "metadata": {},
   "outputs": [],
   "source": [
    "class Testclass2: \n",
    "#     def __init__(self):\n",
    "#         self.x=0\n",
    "#         self.y=0\n",
    "    def my_print(self):\n",
    "        self.x += 1 \n",
    "        Testclass2.y +=1 \n",
    "        print(\"현재 인스턴스에서 %s 회 출력\" % self.x)\n",
    "        print(\"전체 인스턴스에서 총 %s 회 출력\" % self.y)"
   ]
  },
  {
   "cell_type": "code",
   "execution_count": 40,
   "id": "c9a08197-f319-4a30-b20b-54b948316250",
   "metadata": {},
   "outputs": [],
   "source": [
    "c=Testclass2()"
   ]
  },
  {
   "cell_type": "code",
   "execution_count": 41,
   "id": "3b9eb2c3-f714-4480-8cf3-c38dd0e16c67",
   "metadata": {},
   "outputs": [],
   "source": [
    "c.x=0\n",
    "c.y=0"
   ]
  },
  {
   "cell_type": "markdown",
   "id": "1b59f08c-bf56-4d72-863e-0e6168e135d3",
   "metadata": {},
   "source": [
    "`-` 이 상황에서 \n",
    "```python\n",
    "c.my_print()\n",
    "```\n",
    "를 실행하면\n",
    "```python\n",
    "c.x += 1 \n",
    "Testclass2.y +=1 \n",
    "print(\"현재 인스턴스에서 %s 회 출력\" % c.x)\n",
    "print(\"전체 인스턴스에서 총 %s 회 출력\" % c.y)\n",
    "```\n",
    "이 실행되는데, 이때 Testclass2.y 이 정의되어 있지 않으므로 \n",
    "```python\n",
    "Testclass2.y +=1 \n",
    "```\n",
    "에서 에러가 난다. "
   ]
  },
  {
   "cell_type": "markdown",
   "id": "c3e347ba-7a45-4497-9150-f3d049d19475",
   "metadata": {},
   "source": [
    "----"
   ]
  },
  {
   "cell_type": "markdown",
   "id": "6ae6d3dd-25de-429c-a3d4-0b64a6b92226",
   "metadata": {},
   "source": [
    "### [예제 3]"
   ]
  },
  {
   "cell_type": "markdown",
   "id": "138b6b00-9069-4cfc-a00f-9d479e087668",
   "metadata": {},
   "source": [
    "`-` 그렇다면 아래와 같이 수정하면 어떨까? "
   ]
  },
  {
   "cell_type": "code",
   "execution_count": 43,
   "id": "9e17eeea-a7f1-4c01-9f0a-1dbd171e067c",
   "metadata": {},
   "outputs": [],
   "source": [
    "class Testclass3: \n",
    "    def __init__(self):\n",
    "        self.x=0\n",
    "        Testclass3.y=0\n",
    "    def my_print(self):\n",
    "        self.x += 1 \n",
    "        Testclass3.y +=1 \n",
    "        print(\"현재 인스턴스에서 %s 회 출력\" % self.x)\n",
    "        print(\"전체 인스턴스에서 총 %s 회 출력\" % self.y)"
   ]
  },
  {
   "cell_type": "code",
   "execution_count": 44,
   "id": "eddc8e0a-46f6-446e-9042-ff2cff2b14f2",
   "metadata": {},
   "outputs": [],
   "source": [
    "a=Testclass3()\n",
    "b=Testclass3()"
   ]
  },
  {
   "cell_type": "code",
   "execution_count": 45,
   "id": "2b185c1f-6d82-43c8-9187-233492a2ab51",
   "metadata": {},
   "outputs": [
    {
     "name": "stdout",
     "output_type": "stream",
     "text": [
      "현재 인스턴스에서 1 회 출력\n",
      "전체 인스턴스에서 총 1 회 출력\n"
     ]
    }
   ],
   "source": [
    "a.my_print()"
   ]
  },
  {
   "cell_type": "code",
   "execution_count": 46,
   "id": "19068038-4077-4020-8842-684ded521d3e",
   "metadata": {},
   "outputs": [
    {
     "name": "stdout",
     "output_type": "stream",
     "text": [
      "현재 인스턴스에서 1 회 출력\n",
      "전체 인스턴스에서 총 2 회 출력\n"
     ]
    }
   ],
   "source": [
    "b.my_print()"
   ]
  },
  {
   "cell_type": "code",
   "execution_count": 47,
   "id": "ddf3502a-578c-4657-932b-78d71976428e",
   "metadata": {},
   "outputs": [
    {
     "name": "stdout",
     "output_type": "stream",
     "text": [
      "현재 인스턴스에서 2 회 출력\n",
      "전체 인스턴스에서 총 3 회 출력\n"
     ]
    }
   ],
   "source": [
    "a.my_print()"
   ]
  },
  {
   "cell_type": "code",
   "execution_count": 48,
   "id": "407df2c3-f8cd-4602-8369-5ebcc8ee4790",
   "metadata": {},
   "outputs": [
    {
     "name": "stdout",
     "output_type": "stream",
     "text": [
      "현재 인스턴스에서 3 회 출력\n",
      "전체 인스턴스에서 총 4 회 출력\n"
     ]
    }
   ],
   "source": [
    "a.my_print()"
   ]
  },
  {
   "cell_type": "code",
   "execution_count": 49,
   "id": "aca6da33-187b-49f3-bfcc-15e858d0d7e2",
   "metadata": {},
   "outputs": [
    {
     "name": "stdout",
     "output_type": "stream",
     "text": [
      "현재 인스턴스에서 2 회 출력\n",
      "전체 인스턴스에서 총 5 회 출력\n"
     ]
    }
   ],
   "source": [
    "b.my_print()"
   ]
  },
  {
   "cell_type": "code",
   "execution_count": 50,
   "id": "0f69cf56-11e6-4022-9bb8-db569e9c1257",
   "metadata": {},
   "outputs": [
    {
     "name": "stdout",
     "output_type": "stream",
     "text": [
      "현재 인스턴스에서 3 회 출력\n",
      "전체 인스턴스에서 총 6 회 출력\n"
     ]
    }
   ],
   "source": [
    "b.my_print()"
   ]
  },
  {
   "cell_type": "markdown",
   "id": "7541b2d2-d574-4cae-b157-1fba15ece133",
   "metadata": {},
   "source": [
    "`–` Testclass1과 동일한 기능이 수행되는것 같다. "
   ]
  },
  {
   "cell_type": "markdown",
   "id": "f9300061-98ca-4dbb-ae7e-3fd2cca54d4c",
   "metadata": {},
   "source": [
    "`-` 그런데 조금만 생각해보면 엉터리라는 것을 알 수 있다. 아래의 코드를 관찰하여보자. "
   ]
  },
  {
   "cell_type": "code",
   "execution_count": 51,
   "id": "1d23ac28-c616-4e69-b5b1-eebdcd5b1d13",
   "metadata": {},
   "outputs": [
    {
     "name": "stdout",
     "output_type": "stream",
     "text": [
      "현재 인스턴스에서 1 회 출력\n",
      "전체 인스턴스에서 총 1 회 출력\n",
      "현재 인스턴스에서 2 회 출력\n",
      "전체 인스턴스에서 총 2 회 출력\n",
      "현재 인스턴스에서 1 회 출력\n",
      "전체 인스턴스에서 총 1 회 출력\n"
     ]
    }
   ],
   "source": [
    "class Testclass3: \n",
    "    def __init__(self):\n",
    "        self.x=0\n",
    "        Testclass3.y=0\n",
    "    def my_print(self):\n",
    "        self.x += 1 \n",
    "        Testclass3.y +=1 \n",
    "        print(\"현재 인스턴스에서 %s 회 출력\" % self.x)\n",
    "        print(\"전체 인스턴스에서 총 %s 회 출력\" % self.y)\n",
    "        \n",
    "a=Testclass3()\n",
    "a.my_print()\n",
    "a.my_print()\n",
    "b=Testclass3()\n",
    "b.my_print()"
   ]
  },
  {
   "cell_type": "markdown",
   "id": "9ef93d87-4383-40b7-942e-b8f2f8db4c3e",
   "metadata": {},
   "source": [
    "`-` Testclass3는 인스턴스를 생성할때마다 `y=0`이 설정된다. 그래서 \n",
    "```python\n",
    "b=Testclass3()\n",
    "```\n",
    "이 시점에서 의도하지 않게 '전체 인스턴스에서 출력된 횟수'를 의미하는 `y`가 초기화되었다. "
   ]
  },
  {
   "cell_type": "markdown",
   "id": "15d69b3b-049d-4deb-96cd-6c79de1e65ce",
   "metadata": {},
   "source": [
    "`-` 코드는 엉터리이지만, Testclass3은 의외로 분석할만한 가치가 있다. 특히 위의 실행결과를 시점별로 Testclass1과 비교해보면 재미있다. "
   ]
  },
  {
   "cell_type": "markdown",
   "id": "50f5b404-53ff-4eec-900f-73fe00f2853c",
   "metadata": {},
   "source": [
    "#### ***Testclass1 & Testclass3 비교***"
   ]
  },
  {
   "cell_type": "markdown",
   "id": "865e7720-9121-4be7-8296-0649d90f692c",
   "metadata": {},
   "source": [
    "`-` Testclass1"
   ]
  },
  {
   "cell_type": "markdown",
   "id": "38408dfe-693c-49b6-af71-70212a5bba67",
   "metadata": {},
   "source": [
    "```python\n",
    "### Testclass1 \n",
    "## 시점1: 클래스 오브젝트 생성 \n",
    "class Testclass1: \n",
    "    x=0 \n",
    "    y=0\n",
    "    def my_print(self):\n",
    "        self.x += 1 \n",
    "        Testclass1.y +=1 \n",
    "        print(\"현재 인스턴스에서 %s 회 출력\" % self.x)\n",
    "        print(\"전체 인스턴스에서 총 %s 회 출력\" % self.y)\n",
    "## 시점2: 인스턴스 오브젝트 a를 생성 \n",
    "a=Testclass1()\n",
    "## 시점3: a에서 메소드 실행 \n",
    "a.my_print()\n",
    "## 시점4: a에서 메소드를 한번 더 실행 \n",
    "a.my_print()\n",
    "## 시점5: 인스턴스 오브젝트 b를 생성\n",
    "b=Testclass1()\n",
    "## 시점6: b에서 메소드를 실행\n",
    "b.my_print()\n",
    "```"
   ]
  },
  {
   "cell_type": "markdown",
   "id": "2af6ade5-e40c-4021-97c0-39752230540b",
   "metadata": {},
   "source": [
    "```\n",
    "현재 인스턴스에서 1 회 출력\n",
    "전체 인스턴스에서 총 1 회 출력\n",
    "현재 인스턴스에서 2 회 출력\n",
    "전체 인스턴스에서 총 2 회 출력\n",
    "현재 인스턴스에서 1 회 출력\n",
    "전체 인스턴스에서 총 3 회 출력\n",
    "```"
   ]
  },
  {
   "cell_type": "markdown",
   "id": "158f4deb-a8d3-43d6-8e11-e69d8eed132e",
   "metadata": {},
   "source": [
    "| |시점1 |시점2 |시점3 | 시점4 | 시점5| 시점6|\n",
    "|:-:|:-:|:-:|:-:|:-:|:-:|:-:|\n",
    "|Testclass1.x|0| 0| 0| 0| 0| 0|\n",
    "|Testclass1.y|0| 0| 1| 2| 2 | 3|\n",
    "|a.x| 값없음     | 0| 1| 2| 2| 2|\n",
    "|a.y| 값없음     | 0| 1| 2| 2| 3|\n",
    "|b.x| 값없음|     값없음| 값없음| 값없음| 0| 1|\n",
    "|b.y| 값없음|     값없음| 값없음| 값없음| 2| 3|"
   ]
  },
  {
   "cell_type": "markdown",
   "id": "401fa354-3e7d-47e3-888d-d1772dd22e07",
   "metadata": {},
   "source": [
    "`–` Testclass3"
   ]
  },
  {
   "cell_type": "markdown",
   "id": "f738a1cc-efdf-4cf8-a417-30b50bf2da1b",
   "metadata": {},
   "source": [
    "```python\n",
    "#### Testclass3\n",
    "## 시점1: 클래스 오브젝트 생성 \n",
    "class Testclass3: \n",
    "    def __init__(self):\n",
    "        self.x=0\n",
    "        Testclass3.y=0\n",
    "    def my_print(self):\n",
    "        self.x += 1 \n",
    "        Testclass3.y +=1 \n",
    "        print(\"현재 인스턴스에서 %s 회 출력\" % self.x)\n",
    "        print(\"전체 인스턴스에서 총 %s 회 출력\" % self.y)\n",
    "## 시점2: 인스턴스 오브젝트 a를 생성 \n",
    "a=Testclass3()\n",
    "## 시점3: a에서 메소드 실행 \n",
    "a.my_print()\n",
    "## 시점4: a에서 메소드를 한번 더 실행 \n",
    "a.my_print()\n",
    "## 시점5: 인스턴스 오브젝트 b를 생성\n",
    "b=Testclass3()\n",
    "## 시점6: b에서 메소드를 실행\n",
    "b.my_print()\n",
    "```"
   ]
  },
  {
   "cell_type": "markdown",
   "id": "9752c7c1-7532-4779-89ee-7ce3f97ab079",
   "metadata": {},
   "source": [
    "```\n",
    "현재 인스턴스에서 1 회 출력\n",
    "전체 인스턴스에서 총 1 회 출력\n",
    "현재 인스턴스에서 2 회 출력\n",
    "전체 인스턴스에서 총 2 회 출력\n",
    "현재 인스턴스에서 1 회 출력\n",
    "전체 인스턴스에서 총 1 회 출력\n",
    "```"
   ]
  },
  {
   "cell_type": "markdown",
   "id": "b65d66e9-b935-4e8c-a6d3-1f3b4d3ec609",
   "metadata": {},
   "source": [
    "| |시점1 |시점2 |시점3 | 시점4 | 시점5| 시점6|\n",
    "|:-:|:-:|:-:|:-:|:-:|:-:|:-:|\n",
    "|Testclass3.x|값없음| 값없음| 값없음| 값없음| 값없음| 값없음|\n",
    "|Testclass3.y|값없음| 0| 1| 2| 0 | 1|\n",
    "|a.x| 값없음     | 0| 1| 2| 2| 2|\n",
    "|a.y| 값없음     | 0| 1| 2| 0| 1|\n",
    "|b.x| 값없음|     값없음| 값없음| 값없음| 0| 1|\n",
    "|b.y| 값없음|     값없음| 값없음| 값없음| 0| 1|"
   ]
  },
  {
   "cell_type": "markdown",
   "id": "e13cb89f-8cfd-4628-bc83-eb02a2de23f2",
   "metadata": {},
   "source": [
    "`–` Testclass3.y가 업데이트 되면 a.y, b.y도 자동으로 업데이트 된다. "
   ]
  }
 ],
 "metadata": {
  "kernelspec": {
   "display_name": "Python 3 (ipykernel)",
   "language": "python",
   "name": "python3"
  },
  "language_info": {
   "codemirror_mode": {
    "name": "ipython",
    "version": 3
   },
   "file_extension": ".py",
   "mimetype": "text/x-python",
   "name": "python",
   "nbconvert_exporter": "python",
   "pygments_lexer": "ipython3",
   "version": "3.8.11"
  }
 },
 "nbformat": 4,
 "nbformat_minor": 5
}
