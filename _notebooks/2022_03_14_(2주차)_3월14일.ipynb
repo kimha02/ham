{
 "cells": [
  {
   "cell_type": "markdown",
   "id": "904c2d8f-accf-4a4a-86b3-e9a6361ba29a",
   "metadata": {
    "id": "904c2d8f-accf-4a4a-86b3-e9a6361ba29a"
   },
   "source": [
    "# (2주차) 3월14일\n",
    "> constant, concat, stack, tnp\n",
    "- toc:true\n",
    "- branch: master\n",
    "- badges: true\n",
    "- comments: true\n",
    "- author: 최규빈\n",
    "- categories: [Bigdata]"
   ]
  },
  {
   "cell_type": "code",
   "execution_count": 1,
   "id": "e18d4288-4668-45c2-a66f-5bb76f5b9ca2",
   "metadata": {
    "id": "e18d4288-4668-45c2-a66f-5bb76f5b9ca2"
   },
   "outputs": [],
   "source": [
    "import tensorflow as tf\n",
    "import numpy as np"
   ]
  },
  {
   "cell_type": "markdown",
   "id": "e5ae156a-a5f7-48c8-8320-48ed03b28339",
   "metadata": {},
   "source": [
    "- GPU 확인하기"
   ]
  },
  {
   "cell_type": "code",
   "execution_count": 2,
   "id": "c4a78936-73df-4a20-8041-0d76aa07fd0f",
   "metadata": {
    "id": "c4a78936-73df-4a20-8041-0d76aa07fd0f",
    "outputId": "18121c35-03ff-45b7-848d-bc674324b30b"
   },
   "outputs": [
    {
     "name": "stderr",
     "output_type": "stream",
     "text": [
      "2022-03-14 19:05:01.108074: I tensorflow/stream_executor/cuda/cuda_gpu_executor.cc:939] successful NUMA node read from SysFS had negative value (-1), but there must be at least one NUMA node, so returning NUMA node zero\n",
      "2022-03-14 19:05:01.137264: I tensorflow/stream_executor/cuda/cuda_gpu_executor.cc:939] successful NUMA node read from SysFS had negative value (-1), but there must be at least one NUMA node, so returning NUMA node zero\n",
      "2022-03-14 19:05:01.137808: I tensorflow/stream_executor/cuda/cuda_gpu_executor.cc:939] successful NUMA node read from SysFS had negative value (-1), but there must be at least one NUMA node, so returning NUMA node zero\n"
     ]
    },
    {
     "data": {
      "text/plain": [
       "[PhysicalDevice(name='/physical_device:GPU:0', device_type='GPU')]"
      ]
     },
     "execution_count": 2,
     "metadata": {},
     "output_type": "execute_result"
    }
   ],
   "source": [
    "tf.config.experimental.list_physical_devices('GPU')"
   ]
  },
  {
   "cell_type": "markdown",
   "id": "049d4e6b-7823-4af7-a542-f93e9084dd14",
   "metadata": {},
   "source": [
    "---"
   ]
  },
  {
   "cell_type": "markdown",
   "id": "1f7d8172-8b82-4777-b922-aa46ea9e5a48",
   "metadata": {
    "id": "1f7d8172-8b82-4777-b922-aa46ea9e5a48"
   },
   "source": [
    "### tf.constant "
   ]
  },
  {
   "cell_type": "markdown",
   "id": "19d1b4f6-91ae-4638-b332-103dadaf6473",
   "metadata": {
    "id": "19d1b4f6-91ae-4638-b332-103dadaf6473"
   },
   "source": [
    "#### 예비학습: 중첩리스트 "
   ]
  },
  {
   "cell_type": "code",
   "execution_count": 7,
   "id": "86d15a49-fd1a-4829-82ef-1f4a9f218d44",
   "metadata": {},
   "outputs": [
    {
     "data": {
      "text/plain": [
       "[1, 2]"
      ]
     },
     "execution_count": 7,
     "metadata": {},
     "output_type": "execute_result"
    }
   ],
   "source": [
    "lst=[1,2]\n",
    "lst"
   ]
  },
  {
   "cell_type": "code",
   "execution_count": 11,
   "id": "816d9881-586f-4c63-815c-28208faa082c",
   "metadata": {},
   "outputs": [
    {
     "data": {
      "text/plain": [
       "1"
      ]
     },
     "execution_count": 11,
     "metadata": {},
     "output_type": "execute_result"
    }
   ],
   "source": [
    "lst[0]"
   ]
  },
  {
   "cell_type": "code",
   "execution_count": 8,
   "id": "d1620272-6dc9-4a62-8fc2-8805ce8d9fb4",
   "metadata": {},
   "outputs": [
    {
     "data": {
      "text/plain": [
       "2"
      ]
     },
     "execution_count": 8,
     "metadata": {},
     "output_type": "execute_result"
    }
   ],
   "source": [
    "lst[-1]"
   ]
  },
  {
   "cell_type": "code",
   "execution_count": 15,
   "id": "f77f2858-40b4-42fc-8fce-685feab2d198",
   "metadata": {},
   "outputs": [],
   "source": [
    "lst=[[1,2],[3,4]]"
   ]
  },
  {
   "cell_type": "code",
   "execution_count": 20,
   "id": "503416b3-ac52-4767-9321-c11d5725df0e",
   "metadata": {},
   "outputs": [
    {
     "data": {
      "text/plain": [
       "[3, 4]"
      ]
     },
     "execution_count": 20,
     "metadata": {},
     "output_type": "execute_result"
    }
   ],
   "source": [
    "lst[1]"
   ]
  },
  {
   "cell_type": "code",
   "execution_count": 21,
   "id": "35425c1e-6871-4bcd-9fb8-ce5e100ee756",
   "metadata": {},
   "outputs": [
    {
     "data": {
      "text/plain": [
       "3"
      ]
     },
     "execution_count": 21,
     "metadata": {},
     "output_type": "execute_result"
    }
   ],
   "source": [
    "lst[1][0]"
   ]
  },
  {
   "cell_type": "markdown",
   "id": "d704728f-f7ab-45f8-9b11-ddae55149251",
   "metadata": {},
   "source": [
    "- 행렬같이 접근할 수 있다. -> 1차원이지만 2차원처럼 생각할 수 있다."
   ]
  },
  {
   "cell_type": "code",
   "execution_count": null,
   "id": "ebbaf099-dd31-4f79-a2c9-4016ac164f36",
   "metadata": {},
   "outputs": [],
   "source": [
    "print(lst[0][0])  #(1,1)"
   ]
  },
  {
   "cell_type": "markdown",
   "id": "6ce8ecec-04ae-45f8-b689-4d5d54b58a57",
   "metadata": {},
   "source": [
    "- 열벡터"
   ]
  },
  {
   "cell_type": "code",
   "execution_count": 39,
   "id": "9956c025-dc18-44fb-af2b-f952255b0405",
   "metadata": {},
   "outputs": [
    {
     "data": {
      "text/plain": [
       "([1], [2], [3], [4])"
      ]
     },
     "execution_count": 39,
     "metadata": {},
     "output_type": "execute_result"
    }
   ],
   "source": [
    "lst=[1],[2],[3],[4]\n",
    "lst"
   ]
  },
  {
   "cell_type": "code",
   "execution_count": 40,
   "id": "537d94e8-6f31-4e57-8142-67a9fc33f01a",
   "metadata": {},
   "outputs": [
    {
     "data": {
      "text/plain": [
       "(4, 1)"
      ]
     },
     "execution_count": 40,
     "metadata": {},
     "output_type": "execute_result"
    }
   ],
   "source": [
    "np.array(lst).shape"
   ]
  },
  {
   "cell_type": "markdown",
   "id": "9c83e8f8-418a-413c-b7e2-1598f82b77ee",
   "metadata": {},
   "source": [
    "- 행벡터"
   ]
  },
  {
   "cell_type": "code",
   "execution_count": 36,
   "id": "0412cc34-15e0-4e65-a573-4803385398a1",
   "metadata": {},
   "outputs": [
    {
     "data": {
      "text/plain": [
       "[[1, 2, 3, 4]]"
      ]
     },
     "execution_count": 36,
     "metadata": {},
     "output_type": "execute_result"
    }
   ],
   "source": [
    "lst=[[1,2,3,4]]\n",
    "lst"
   ]
  },
  {
   "cell_type": "code",
   "execution_count": 38,
   "id": "b6dad124-bf6b-4188-9bb8-c035dce4165d",
   "metadata": {},
   "outputs": [
    {
     "data": {
      "text/plain": [
       "(1, 4)"
      ]
     },
     "execution_count": 38,
     "metadata": {},
     "output_type": "execute_result"
    }
   ],
   "source": [
    "np.array(lst).shape"
   ]
  },
  {
   "cell_type": "markdown",
   "id": "6a4dd379-e9c5-4e5d-a3ec-c2383ae1ac56",
   "metadata": {
    "id": "6a4dd379-e9c5-4e5d-a3ec-c2383ae1ac56"
   },
   "source": [
    "#### 선언"
   ]
  },
  {
   "cell_type": "markdown",
   "id": "7a00eede-a22f-44c6-a584-0cabb2bd80bf",
   "metadata": {},
   "source": [
    "- 스칼라"
   ]
  },
  {
   "cell_type": "code",
   "execution_count": 45,
   "id": "2aec42a9-fa67-46f2-a2e7-5a111be7f74e",
   "metadata": {},
   "outputs": [
    {
     "name": "stderr",
     "output_type": "stream",
     "text": [
      "2022-03-14 19:25:59.940288: I tensorflow/core/platform/cpu_feature_guard.cc:151] This TensorFlow binary is optimized with oneAPI Deep Neural Network Library (oneDNN) to use the following CPU instructions in performance-critical operations:  SSE4.1 SSE4.2 AVX AVX2 FMA\n",
      "To enable them in other operations, rebuild TensorFlow with the appropriate compiler flags.\n",
      "2022-03-14 19:25:59.941215: I tensorflow/stream_executor/cuda/cuda_gpu_executor.cc:939] successful NUMA node read from SysFS had negative value (-1), but there must be at least one NUMA node, so returning NUMA node zero\n",
      "2022-03-14 19:25:59.942112: I tensorflow/stream_executor/cuda/cuda_gpu_executor.cc:939] successful NUMA node read from SysFS had negative value (-1), but there must be at least one NUMA node, so returning NUMA node zero\n",
      "2022-03-14 19:25:59.942934: I tensorflow/stream_executor/cuda/cuda_gpu_executor.cc:939] successful NUMA node read from SysFS had negative value (-1), but there must be at least one NUMA node, so returning NUMA node zero\n",
      "2022-03-14 19:26:00.917651: I tensorflow/stream_executor/cuda/cuda_gpu_executor.cc:939] successful NUMA node read from SysFS had negative value (-1), but there must be at least one NUMA node, so returning NUMA node zero\n",
      "2022-03-14 19:26:00.918070: I tensorflow/stream_executor/cuda/cuda_gpu_executor.cc:939] successful NUMA node read from SysFS had negative value (-1), but there must be at least one NUMA node, so returning NUMA node zero\n",
      "2022-03-14 19:26:00.918447: I tensorflow/stream_executor/cuda/cuda_gpu_executor.cc:939] successful NUMA node read from SysFS had negative value (-1), but there must be at least one NUMA node, so returning NUMA node zero\n",
      "2022-03-14 19:26:00.918816: I tensorflow/core/common_runtime/gpu/gpu_device.cc:1525] Created device /job:localhost/replica:0/task:0/device:GPU:0 with 14784 MB memory:  -> device: 0, name: NVIDIA GeForce RTX 3090, pci bus id: 0000:09:00.0, compute capability: 8.6\n"
     ]
    },
    {
     "data": {
      "text/plain": [
       "<tf.Tensor: shape=(), dtype=float32, numpy=3.14>"
      ]
     },
     "execution_count": 45,
     "metadata": {},
     "output_type": "execute_result"
    }
   ],
   "source": [
    "tf.constant(3.14)"
   ]
  },
  {
   "cell_type": "code",
   "execution_count": 46,
   "id": "cabee16a-3355-4dba-8d15-7546e84f571d",
   "metadata": {},
   "outputs": [
    {
     "data": {
      "text/plain": [
       "<tf.Tensor: shape=(), dtype=float32, numpy=6.28>"
      ]
     },
     "execution_count": 46,
     "metadata": {},
     "output_type": "execute_result"
    }
   ],
   "source": [
    "tf.constant(3.14)+tf.constant(3.14)"
   ]
  },
  {
   "cell_type": "markdown",
   "id": "6a3fb980-3a7f-4d5b-a9b1-39553998d096",
   "metadata": {},
   "source": [
    "- 벡터"
   ]
  },
  {
   "cell_type": "code",
   "execution_count": 47,
   "id": "8d6e41d5-c403-4492-872b-a570935fd78b",
   "metadata": {},
   "outputs": [
    {
     "data": {
      "text/plain": [
       "<tf.Tensor: shape=(3,), dtype=int32, numpy=array([1, 2, 3], dtype=int32)>"
      ]
     },
     "execution_count": 47,
     "metadata": {},
     "output_type": "execute_result"
    }
   ],
   "source": [
    "tf.constant([1,2,3])"
   ]
  },
  {
   "cell_type": "code",
   "execution_count": 49,
   "id": "02a20df2-370f-47ac-9479-0bc20227168d",
   "metadata": {},
   "outputs": [],
   "source": [
    "_vector=tf.constant([1,2,3])"
   ]
  },
  {
   "cell_type": "code",
   "execution_count": 51,
   "id": "ea9ccdf1-40f8-436e-8374-156bfe6e48d4",
   "metadata": {},
   "outputs": [
    {
     "data": {
      "text/plain": [
       "<tf.Tensor: shape=(), dtype=int32, numpy=3>"
      ]
     },
     "execution_count": 51,
     "metadata": {},
     "output_type": "execute_result"
    }
   ],
   "source": [
    "_vector[-1]"
   ]
  },
  {
   "cell_type": "code",
   "execution_count": 52,
   "id": "b95d84d3-43e8-498b-b7de-112096861a43",
   "metadata": {},
   "outputs": [
    {
     "data": {
      "text/plain": [
       "<tf.Tensor: shape=(), dtype=int32, numpy=1>"
      ]
     },
     "execution_count": 52,
     "metadata": {},
     "output_type": "execute_result"
    }
   ],
   "source": [
    "_vector[0]"
   ]
  },
  {
   "cell_type": "markdown",
   "id": "0338a3e6-5a01-46e2-9acc-e688415c1d2c",
   "metadata": {},
   "source": [
    "- 매트릭스"
   ]
  },
  {
   "cell_type": "code",
   "execution_count": 57,
   "id": "27920679-e854-4f5b-a04f-655348671d48",
   "metadata": {},
   "outputs": [
    {
     "data": {
      "text/plain": [
       "<tf.Tensor: shape=(2, 2), dtype=int32, numpy=\n",
       "array([[1, 2],\n",
       "       [3, 4]], dtype=int32)>"
      ]
     },
     "execution_count": 57,
     "metadata": {},
     "output_type": "execute_result"
    }
   ],
   "source": [
    "_matrix=tf.constant([[1,2],[3,4]])\n",
    "_matrix"
   ]
  },
  {
   "cell_type": "markdown",
   "id": "6db8df87-72ac-45a1-9a56-63c7e35db458",
   "metadata": {},
   "source": [
    "- 3차원 벡터(텐서)"
   ]
  },
  {
   "cell_type": "code",
   "execution_count": 62,
   "id": "62b20a70-25b9-4964-ac35-016e43028e67",
   "metadata": {},
   "outputs": [
    {
     "data": {
      "text/plain": [
       "<tf.Tensor: shape=(2, 2, 2), dtype=int32, numpy=\n",
       "array([[[1, 2],\n",
       "        [3, 4]],\n",
       "\n",
       "       [[1, 2],\n",
       "        [3, 4]]], dtype=int32)>"
      ]
     },
     "execution_count": 62,
     "metadata": {},
     "output_type": "execute_result"
    }
   ],
   "source": [
    "_tensor=tf.constant([[[1,2],[3,4]],[[1,2],[3,4]]])\n",
    "_tensor"
   ]
  },
  {
   "cell_type": "markdown",
   "id": "db79211f-706f-4388-9e10-6b057ec840fb",
   "metadata": {
    "id": "db79211f-706f-4388-9e10-6b057ec840fb"
   },
   "source": [
    "#### 타입"
   ]
  },
  {
   "cell_type": "code",
   "execution_count": 105,
   "id": "0daf5038-d040-4b3f-990f-de3599e7e71f",
   "metadata": {},
   "outputs": [
    {
     "data": {
      "text/plain": [
       "tensorflow.python.framework.ops.EagerTensor"
      ]
     },
     "execution_count": 105,
     "metadata": {},
     "output_type": "execute_result"
    }
   ],
   "source": [
    "type(tf.constant([1,2]))"
   ]
  },
  {
   "cell_type": "markdown",
   "id": "f06b1e19-16d1-4667-b881-5aabf63c84d9",
   "metadata": {
    "id": "f06b1e19-16d1-4667-b881-5aabf63c84d9"
   },
   "source": [
    "#### 인덱싱 "
   ]
  },
  {
   "cell_type": "code",
   "execution_count": 57,
   "id": "ad935ae9-f42d-4f26-ae7e-70c0d44a38c5",
   "metadata": {},
   "outputs": [
    {
     "data": {
      "text/plain": [
       "<tf.Tensor: shape=(2, 2), dtype=int32, numpy=\n",
       "array([[1, 2],\n",
       "       [3, 4]], dtype=int32)>"
      ]
     },
     "execution_count": 57,
     "metadata": {},
     "output_type": "execute_result"
    }
   ],
   "source": [
    "_matrix=tf.constant([[1,2],[3,4]])\n",
    "_matrix"
   ]
  },
  {
   "cell_type": "code",
   "execution_count": 65,
   "id": "a2edd36d-b3f8-4d46-9fa7-762d7d901ce8",
   "metadata": {},
   "outputs": [
    {
     "data": {
      "text/plain": [
       "<tf.Tensor: shape=(), dtype=int32, numpy=1>"
      ]
     },
     "execution_count": 65,
     "metadata": {},
     "output_type": "execute_result"
    }
   ],
   "source": [
    "_matrix[0][0]"
   ]
  },
  {
   "cell_type": "code",
   "execution_count": 72,
   "id": "22e96fe7-e2b1-461f-b20b-89e6e7d8b41a",
   "metadata": {},
   "outputs": [
    {
     "data": {
      "text/plain": [
       "<tf.Tensor: shape=(2,), dtype=int32, numpy=array([1, 2], dtype=int32)>"
      ]
     },
     "execution_count": 72,
     "metadata": {},
     "output_type": "execute_result"
    }
   ],
   "source": [
    "_matrix[0] #행뽑기"
   ]
  },
  {
   "cell_type": "code",
   "execution_count": 71,
   "id": "7789010c-d8cf-4430-a282-1daf0eace089",
   "metadata": {},
   "outputs": [
    {
     "data": {
      "text/plain": [
       "<tf.Tensor: shape=(2,), dtype=int32, numpy=array([1, 2], dtype=int32)>"
      ]
     },
     "execution_count": 71,
     "metadata": {},
     "output_type": "execute_result"
    }
   ],
   "source": [
    "_matrix[0,:] #행뽑기"
   ]
  },
  {
   "cell_type": "code",
   "execution_count": 70,
   "id": "80cec16c-e6a2-41f4-b43c-d83f872c08de",
   "metadata": {},
   "outputs": [
    {
     "data": {
      "text/plain": [
       "<tf.Tensor: shape=(2,), dtype=int32, numpy=array([1, 3], dtype=int32)>"
      ]
     },
     "execution_count": 70,
     "metadata": {},
     "output_type": "execute_result"
    }
   ],
   "source": [
    "_matrix[:,0]  #열뽑기"
   ]
  },
  {
   "cell_type": "markdown",
   "id": "cebc2e49-6c71-47bf-a884-e8556c3198cf",
   "metadata": {
    "id": "cebc2e49-6c71-47bf-a884-e8556c3198cf"
   },
   "source": [
    "#### tf.constant는 불편하다. "
   ]
  },
  {
   "cell_type": "markdown",
   "id": "95a1b3d3-bad6-474f-b7b9-ba5979e1b9eb",
   "metadata": {},
   "source": [
    "`-` 불편한 점\n",
    "- 모든 원소가 같은 데이터 타입을 가지고 있어야 함.\n",
    "- 원소 수령이 불가능함.\n",
    "- 묵시적 변환이 불가능함.\n",
    "- float + float 계산이 안 됨."
   ]
  },
  {
   "cell_type": "markdown",
   "id": "65817cdd-5823-46ad-a258-15ecffe7ba68",
   "metadata": {},
   "source": [
    "- 원소 수정이 불가능함"
   ]
  },
  {
   "cell_type": "code",
   "execution_count": 106,
   "id": "2084d779-a9b0-4adb-9056-b35619f0d807",
   "metadata": {},
   "outputs": [
    {
     "data": {
      "text/plain": [
       "<tf.Tensor: shape=(3,), dtype=int32, numpy=array([ 1, 22, 33], dtype=int32)>"
      ]
     },
     "execution_count": 106,
     "metadata": {},
     "output_type": "execute_result"
    }
   ],
   "source": [
    "a=tf.constant([1,22,33])\n",
    "a"
   ]
  },
  {
   "cell_type": "code",
   "execution_count": 107,
   "id": "4e53709e-6aac-4820-846b-4145ae9bd080",
   "metadata": {},
   "outputs": [
    {
     "data": {
      "text/plain": [
       "<tf.Tensor: shape=(), dtype=int32, numpy=1>"
      ]
     },
     "execution_count": 107,
     "metadata": {},
     "output_type": "execute_result"
    }
   ],
   "source": [
    "a[0]"
   ]
  },
  {
   "cell_type": "code",
   "execution_count": 93,
   "id": "465f4232-fee6-48ef-864a-5f8c0a03f57e",
   "metadata": {},
   "outputs": [
    {
     "ename": "TypeError",
     "evalue": "'tensorflow.python.framework.ops.EagerTensor' object does not support item assignment",
     "output_type": "error",
     "traceback": [
      "\u001b[0;31m---------------------------------------------------------------------------\u001b[0m",
      "\u001b[0;31mTypeError\u001b[0m                                 Traceback (most recent call last)",
      "Input \u001b[0;32mIn [93]\u001b[0m, in \u001b[0;36m<cell line: 1>\u001b[0;34m()\u001b[0m\n\u001b[0;32m----> 1\u001b[0m a[\u001b[38;5;241m0\u001b[39m]\u001b[38;5;241m=\u001b[39m[\u001b[38;5;241m11\u001b[39m]\n",
      "\u001b[0;31mTypeError\u001b[0m: 'tensorflow.python.framework.ops.EagerTensor' object does not support item assignment"
     ]
    }
   ],
   "source": [
    "a[0]=[11]  #변경이 안된다"
   ]
  },
  {
   "cell_type": "markdown",
   "id": "eb366fe6-0f99-4c1e-a3a6-74928a4e2944",
   "metadata": {},
   "source": [
    "---"
   ]
  },
  {
   "cell_type": "code",
   "execution_count": 77,
   "id": "7f6ecd87-4cd0-410a-ae22-263e3b98d210",
   "metadata": {},
   "outputs": [
    {
     "data": {
      "text/plain": [
       "4.140000000000001"
      ]
     },
     "execution_count": 77,
     "metadata": {},
     "output_type": "execute_result"
    }
   ],
   "source": [
    "1+3.14"
   ]
  },
  {
   "cell_type": "markdown",
   "id": "6d56964d-2eaa-457d-9af3-4789cf010c32",
   "metadata": {},
   "source": [
    "- 타입이 다른 두 숫자의 계산이 가능해보인다.\n",
    "- 그런데 살펴보면..."
   ]
  },
  {
   "cell_type": "code",
   "execution_count": 80,
   "id": "91ddece4-e6e6-41cc-afb6-fc19ee4745c1",
   "metadata": {},
   "outputs": [
    {
     "ename": "InvalidArgumentError",
     "evalue": "cannot compute AddV2 as input #1(zero-based) was expected to be a int32 tensor but is a float tensor [Op:AddV2]",
     "output_type": "error",
     "traceback": [
      "\u001b[0;31m---------------------------------------------------------------------------\u001b[0m",
      "\u001b[0;31mInvalidArgumentError\u001b[0m                      Traceback (most recent call last)",
      "Input \u001b[0;32mIn [80]\u001b[0m, in \u001b[0;36m<cell line: 1>\u001b[0;34m()\u001b[0m\n\u001b[0;32m----> 1\u001b[0m \u001b[43mtf\u001b[49m\u001b[38;5;241;43m.\u001b[39;49m\u001b[43mconstant\u001b[49m\u001b[43m(\u001b[49m\u001b[38;5;241;43m1\u001b[39;49m\u001b[43m)\u001b[49m\u001b[38;5;241;43m+\u001b[39;49m\u001b[43mtf\u001b[49m\u001b[38;5;241;43m.\u001b[39;49m\u001b[43mconstant\u001b[49m\u001b[43m(\u001b[49m\u001b[38;5;241;43m3.14\u001b[39;49m\u001b[43m)\u001b[49m\n",
      "File \u001b[0;32m~/anaconda3/envs/py310/lib/python3.10/site-packages/tensorflow/python/util/traceback_utils.py:153\u001b[0m, in \u001b[0;36mfilter_traceback.<locals>.error_handler\u001b[0;34m(*args, **kwargs)\u001b[0m\n\u001b[1;32m    151\u001b[0m \u001b[38;5;28;01mexcept\u001b[39;00m \u001b[38;5;167;01mException\u001b[39;00m \u001b[38;5;28;01mas\u001b[39;00m e:\n\u001b[1;32m    152\u001b[0m   filtered_tb \u001b[38;5;241m=\u001b[39m _process_traceback_frames(e\u001b[38;5;241m.\u001b[39m__traceback__)\n\u001b[0;32m--> 153\u001b[0m   \u001b[38;5;28;01mraise\u001b[39;00m e\u001b[38;5;241m.\u001b[39mwith_traceback(filtered_tb) \u001b[38;5;28;01mfrom\u001b[39;00m \u001b[38;5;28mNone\u001b[39m\n\u001b[1;32m    154\u001b[0m \u001b[38;5;28;01mfinally\u001b[39;00m:\n\u001b[1;32m    155\u001b[0m   \u001b[38;5;28;01mdel\u001b[39;00m filtered_tb\n",
      "File \u001b[0;32m~/anaconda3/envs/py310/lib/python3.10/site-packages/tensorflow/python/framework/ops.py:7107\u001b[0m, in \u001b[0;36mraise_from_not_ok_status\u001b[0;34m(e, name)\u001b[0m\n\u001b[1;32m   7105\u001b[0m \u001b[38;5;28;01mdef\u001b[39;00m \u001b[38;5;21mraise_from_not_ok_status\u001b[39m(e, name):\n\u001b[1;32m   7106\u001b[0m   e\u001b[38;5;241m.\u001b[39mmessage \u001b[38;5;241m+\u001b[39m\u001b[38;5;241m=\u001b[39m (\u001b[38;5;124m\"\u001b[39m\u001b[38;5;124m name: \u001b[39m\u001b[38;5;124m\"\u001b[39m \u001b[38;5;241m+\u001b[39m name \u001b[38;5;28;01mif\u001b[39;00m name \u001b[38;5;129;01mis\u001b[39;00m \u001b[38;5;129;01mnot\u001b[39;00m \u001b[38;5;28;01mNone\u001b[39;00m \u001b[38;5;28;01melse\u001b[39;00m \u001b[38;5;124m\"\u001b[39m\u001b[38;5;124m\"\u001b[39m)\n\u001b[0;32m-> 7107\u001b[0m   \u001b[38;5;28;01mraise\u001b[39;00m core\u001b[38;5;241m.\u001b[39m_status_to_exception(e) \u001b[38;5;28;01mfrom\u001b[39;00m \u001b[38;5;28mNone\u001b[39m\n",
      "\u001b[0;31mInvalidArgumentError\u001b[0m: cannot compute AddV2 as input #1(zero-based) was expected to be a int32 tensor but is a float tensor [Op:AddV2]"
     ]
    }
   ],
   "source": [
    "tf.constant(1)+tf.constant(3.14)  #여기서는 int+float 안된다."
   ]
  },
  {
   "cell_type": "code",
   "execution_count": 82,
   "id": "4a092bbe-a156-4140-97ba-a820e96e37f0",
   "metadata": {},
   "outputs": [
    {
     "data": {
      "text/plain": [
       "<tf.Tensor: shape=(), dtype=float32, numpy=4.1400003>"
      ]
     },
     "execution_count": 82,
     "metadata": {},
     "output_type": "execute_result"
    }
   ],
   "source": [
    "tf.constant(1.00)+tf.constant(3.14)  # float으로 바꿔주면 가능..."
   ]
  },
  {
   "cell_type": "markdown",
   "id": "c2751922-60f2-49fc-ae2c-fb300e283157",
   "metadata": {},
   "source": [
    "---"
   ]
  },
  {
   "cell_type": "code",
   "execution_count": 83,
   "id": "78eda44a-766f-46a0-98e8-d04d113688f9",
   "metadata": {},
   "outputs": [
    {
     "data": {
      "text/plain": [
       "<tf.Tensor: shape=(), dtype=float32, numpy=1.0>"
      ]
     },
     "execution_count": 83,
     "metadata": {},
     "output_type": "execute_result"
    }
   ],
   "source": [
    "tf.constant(1.00)"
   ]
  },
  {
   "cell_type": "code",
   "execution_count": 85,
   "id": "60949095-42af-477a-a84f-7d4c64745c93",
   "metadata": {},
   "outputs": [
    {
     "data": {
      "text/plain": [
       "<tf.Tensor: shape=(), dtype=float32, numpy=3.14>"
      ]
     },
     "execution_count": 85,
     "metadata": {},
     "output_type": "execute_result"
    }
   ],
   "source": [
    "tf.constant(3.14)"
   ]
  },
  {
   "cell_type": "code",
   "execution_count": 90,
   "id": "1e36ad46-8630-45ce-809c-486f5a08dacd",
   "metadata": {},
   "outputs": [
    {
     "data": {
      "text/plain": [
       "<tf.Tensor: shape=(), dtype=float64, numpy=1.0>"
      ]
     },
     "execution_count": 90,
     "metadata": {},
     "output_type": "execute_result"
    }
   ],
   "source": [
    "tf.constant(1.00, dtype=tf.float64)"
   ]
  },
  {
   "cell_type": "code",
   "execution_count": 92,
   "id": "77e97ced-b184-4bd4-bd9c-2fb2c41be474",
   "metadata": {},
   "outputs": [
    {
     "ename": "InvalidArgumentError",
     "evalue": "cannot compute AddV2 as input #1(zero-based) was expected to be a double tensor but is a float tensor [Op:AddV2]",
     "output_type": "error",
     "traceback": [
      "\u001b[0;31m---------------------------------------------------------------------------\u001b[0m",
      "\u001b[0;31mInvalidArgumentError\u001b[0m                      Traceback (most recent call last)",
      "Input \u001b[0;32mIn [92]\u001b[0m, in \u001b[0;36m<cell line: 1>\u001b[0;34m()\u001b[0m\n\u001b[0;32m----> 1\u001b[0m \u001b[43mtf\u001b[49m\u001b[38;5;241;43m.\u001b[39;49m\u001b[43mconstant\u001b[49m\u001b[43m(\u001b[49m\u001b[38;5;241;43m1.00\u001b[39;49m\u001b[43m,\u001b[49m\u001b[43m \u001b[49m\u001b[43mdtype\u001b[49m\u001b[38;5;241;43m=\u001b[39;49m\u001b[43mtf\u001b[49m\u001b[38;5;241;43m.\u001b[39;49m\u001b[43mfloat64\u001b[49m\u001b[43m)\u001b[49m\u001b[38;5;241;43m+\u001b[39;49m\u001b[43mtf\u001b[49m\u001b[38;5;241;43m.\u001b[39;49m\u001b[43mconstant\u001b[49m\u001b[43m(\u001b[49m\u001b[38;5;241;43m3.14\u001b[39;49m\u001b[43m)\u001b[49m\n",
      "File \u001b[0;32m~/anaconda3/envs/py310/lib/python3.10/site-packages/tensorflow/python/util/traceback_utils.py:153\u001b[0m, in \u001b[0;36mfilter_traceback.<locals>.error_handler\u001b[0;34m(*args, **kwargs)\u001b[0m\n\u001b[1;32m    151\u001b[0m \u001b[38;5;28;01mexcept\u001b[39;00m \u001b[38;5;167;01mException\u001b[39;00m \u001b[38;5;28;01mas\u001b[39;00m e:\n\u001b[1;32m    152\u001b[0m   filtered_tb \u001b[38;5;241m=\u001b[39m _process_traceback_frames(e\u001b[38;5;241m.\u001b[39m__traceback__)\n\u001b[0;32m--> 153\u001b[0m   \u001b[38;5;28;01mraise\u001b[39;00m e\u001b[38;5;241m.\u001b[39mwith_traceback(filtered_tb) \u001b[38;5;28;01mfrom\u001b[39;00m \u001b[38;5;28mNone\u001b[39m\n\u001b[1;32m    154\u001b[0m \u001b[38;5;28;01mfinally\u001b[39;00m:\n\u001b[1;32m    155\u001b[0m   \u001b[38;5;28;01mdel\u001b[39;00m filtered_tb\n",
      "File \u001b[0;32m~/anaconda3/envs/py310/lib/python3.10/site-packages/tensorflow/python/framework/ops.py:7107\u001b[0m, in \u001b[0;36mraise_from_not_ok_status\u001b[0;34m(e, name)\u001b[0m\n\u001b[1;32m   7105\u001b[0m \u001b[38;5;28;01mdef\u001b[39;00m \u001b[38;5;21mraise_from_not_ok_status\u001b[39m(e, name):\n\u001b[1;32m   7106\u001b[0m   e\u001b[38;5;241m.\u001b[39mmessage \u001b[38;5;241m+\u001b[39m\u001b[38;5;241m=\u001b[39m (\u001b[38;5;124m\"\u001b[39m\u001b[38;5;124m name: \u001b[39m\u001b[38;5;124m\"\u001b[39m \u001b[38;5;241m+\u001b[39m name \u001b[38;5;28;01mif\u001b[39;00m name \u001b[38;5;129;01mis\u001b[39;00m \u001b[38;5;129;01mnot\u001b[39;00m \u001b[38;5;28;01mNone\u001b[39;00m \u001b[38;5;28;01melse\u001b[39;00m \u001b[38;5;124m\"\u001b[39m\u001b[38;5;124m\"\u001b[39m)\n\u001b[0;32m-> 7107\u001b[0m   \u001b[38;5;28;01mraise\u001b[39;00m core\u001b[38;5;241m.\u001b[39m_status_to_exception(e) \u001b[38;5;28;01mfrom\u001b[39;00m \u001b[38;5;28mNone\u001b[39m\n",
      "\u001b[0;31mInvalidArgumentError\u001b[0m: cannot compute AddV2 as input #1(zero-based) was expected to be a double tensor but is a float tensor [Op:AddV2]"
     ]
    }
   ],
   "source": [
    "tf.constant(1.00, dtype=tf.float64)+tf.constant(3.14)  #float 버전이 다르니까 계산이 안됨."
   ]
  },
  {
   "cell_type": "markdown",
   "id": "0f7a75ed-b984-4f27-9440-d57253cb89bd",
   "metadata": {
    "id": "0f7a75ed-b984-4f27-9440-d57253cb89bd"
   },
   "source": [
    "#### tf.constant $\\to$ 넘파이 "
   ]
  },
  {
   "cell_type": "code",
   "execution_count": 94,
   "id": "fc0ae781-3044-4f2e-954f-18e2e4449c9c",
   "metadata": {},
   "outputs": [
    {
     "data": {
      "text/plain": [
       "4.140000000000001"
      ]
     },
     "execution_count": 94,
     "metadata": {},
     "output_type": "execute_result"
    }
   ],
   "source": [
    "np.array(1)+np.array(3.14)"
   ]
  },
  {
   "cell_type": "code",
   "execution_count": 97,
   "id": "07b10c19-06c6-45ae-b4cb-62b764c6184a",
   "metadata": {},
   "outputs": [
    {
     "data": {
      "text/plain": [
       "<tf.Tensor: shape=(2, 2), dtype=int64, numpy=\n",
       "array([[1, 2],\n",
       "       [3, 4]])>"
      ]
     },
     "execution_count": 97,
     "metadata": {},
     "output_type": "execute_result"
    }
   ],
   "source": [
    "tf.constant(np.array([[1,2],[3,4]]))"
   ]
  },
  {
   "cell_type": "markdown",
   "id": "d1d408c0-4088-4ac7-b1e2-6c5567c96813",
   "metadata": {},
   "source": [
    "- 텐서를 넘파이로 바꾸는 법"
   ]
  },
  {
   "cell_type": "code",
   "execution_count": 98,
   "id": "63e74c69-876c-4a74-9cfe-4012c212b1ed",
   "metadata": {},
   "outputs": [
    {
     "data": {
      "text/plain": [
       "array(1, dtype=int32)"
      ]
     },
     "execution_count": 98,
     "metadata": {},
     "output_type": "execute_result"
    }
   ],
   "source": [
    "np.array(tf.constant(1))"
   ]
  },
  {
   "cell_type": "code",
   "execution_count": 100,
   "id": "3525bf3f-ac40-4b46-b868-012c6544442b",
   "metadata": {},
   "outputs": [
    {
     "data": {
      "text/plain": [
       "tensorflow.python.framework.ops.EagerTensor"
      ]
     },
     "execution_count": 100,
     "metadata": {},
     "output_type": "execute_result"
    }
   ],
   "source": [
    "a=tf.constant(3.14)\n",
    "type(a)"
   ]
  },
  {
   "cell_type": "code",
   "execution_count": 104,
   "id": "1a1fff24-3216-4d79-be2f-2606cb8a1c09",
   "metadata": {},
   "outputs": [
    {
     "data": {
      "text/plain": [
       "3.14"
      ]
     },
     "execution_count": 104,
     "metadata": {},
     "output_type": "execute_result"
    }
   ],
   "source": [
    "a.numpy()"
   ]
  },
  {
   "cell_type": "markdown",
   "id": "b1e11f1e-122d-4de3-95e8-e8eda9dac045",
   "metadata": {
    "id": "b1e11f1e-122d-4de3-95e8-e8eda9dac045"
   },
   "source": [
    "#### 연산"
   ]
  },
  {
   "cell_type": "markdown",
   "id": "64a28cd9-d371-4fde-bc85-3f96aa5584bc",
   "metadata": {},
   "source": [
    "`-` 더하기"
   ]
  },
  {
   "cell_type": "code",
   "execution_count": 110,
   "id": "1ecc3edb-7f7b-4cbd-a210-2892bf1d940f",
   "metadata": {},
   "outputs": [
    {
     "data": {
      "text/plain": [
       "<tf.Tensor: shape=(2,), dtype=int32, numpy=array([4, 6], dtype=int32)>"
      ]
     },
     "execution_count": 110,
     "metadata": {},
     "output_type": "execute_result"
    }
   ],
   "source": [
    "tf.constant([1,2])+tf.constant([3,4])"
   ]
  },
  {
   "cell_type": "code",
   "execution_count": 111,
   "id": "94465774-5af0-4fea-b112-98f9fb04090c",
   "metadata": {},
   "outputs": [
    {
     "data": {
      "text/plain": [
       "<tf.Tensor: shape=(2,), dtype=int32, numpy=array([4, 6], dtype=int32)>"
      ]
     },
     "execution_count": 111,
     "metadata": {},
     "output_type": "execute_result"
    }
   ],
   "source": [
    "a=tf.constant([1,2])\n",
    "b=tf.constant([3,4])\n",
    "a+b"
   ]
  },
  {
   "cell_type": "code",
   "execution_count": 112,
   "id": "458a5277-9403-4f3e-82aa-64089a071415",
   "metadata": {},
   "outputs": [
    {
     "data": {
      "text/plain": [
       "<tf.Tensor: shape=(2,), dtype=int32, numpy=array([4, 6], dtype=int32)>"
      ]
     },
     "execution_count": 112,
     "metadata": {},
     "output_type": "execute_result"
    }
   ],
   "source": [
    "tf.add(a,b)"
   ]
  },
  {
   "cell_type": "code",
   "execution_count": 114,
   "id": "9a918a45-d6d3-4149-a123-1c211dbdefeb",
   "metadata": {},
   "outputs": [
    {
     "data": {
      "text/plain": [
       "<tf.Tensor: shape=(2,), dtype=int32, numpy=array([6, 8], dtype=int32)>"
      ]
     },
     "execution_count": 114,
     "metadata": {},
     "output_type": "execute_result"
    }
   ],
   "source": [
    "tf.add([1,2],[5,6])"
   ]
  },
  {
   "cell_type": "markdown",
   "id": "7c69121a-4b30-4b4a-b340-47c534d3f2c4",
   "metadata": {},
   "source": [
    "`-` 곱하기"
   ]
  },
  {
   "cell_type": "code",
   "execution_count": 133,
   "id": "913cf44d-b215-46ce-b89f-795ff4329abb",
   "metadata": {},
   "outputs": [
    {
     "data": {
      "text/plain": [
       "<tf.Tensor: shape=(2, 2), dtype=int32, numpy=\n",
       "array([[ 5, 12],\n",
       "       [21, 32]], dtype=int32)>"
      ]
     },
     "execution_count": 133,
     "metadata": {},
     "output_type": "execute_result"
    }
   ],
   "source": [
    "a=tf.constant([[1,2],[3,4]])\n",
    "b=tf.constant([[5,6],[7,8]])\n",
    "a*b"
   ]
  },
  {
   "cell_type": "code",
   "execution_count": 134,
   "id": "a3b4c8b2-46b6-4385-9410-4cc8bfbbf0b4",
   "metadata": {},
   "outputs": [
    {
     "data": {
      "text/plain": [
       "<tf.Tensor: shape=(2, 2), dtype=int32, numpy=\n",
       "array([[ 5, 12],\n",
       "       [21, 32]], dtype=int32)>"
      ]
     },
     "execution_count": 134,
     "metadata": {},
     "output_type": "execute_result"
    }
   ],
   "source": [
    "tf.multiply(a,b)"
   ]
  },
  {
   "cell_type": "markdown",
   "id": "86ca0b1c-0a2f-489a-a99f-1b8b47014ebe",
   "metadata": {},
   "source": [
    "`-` 일반적인 매트릭스 곱"
   ]
  },
  {
   "cell_type": "code",
   "execution_count": 131,
   "id": "383fd19b-4e04-42e8-a793-3752d98a55a6",
   "metadata": {},
   "outputs": [
    {
     "data": {
      "text/plain": [
       "<tf.Tensor: shape=(2, 1), dtype=int32, numpy=\n",
       "array([[5],\n",
       "       [7]], dtype=int32)>"
      ]
     },
     "execution_count": 131,
     "metadata": {},
     "output_type": "execute_result"
    }
   ],
   "source": [
    "a=tf.constant([[1,0],[0,1]]) #(2,2)\n",
    "b=tf.constant([[5],[7]]) #(2,1)\n",
    "a@b "
   ]
  },
  {
   "cell_type": "code",
   "execution_count": 132,
   "id": "d8a9afe9-c16f-4e18-a44c-22633659027b",
   "metadata": {},
   "outputs": [
    {
     "data": {
      "text/plain": [
       "<tf.Tensor: shape=(2, 1), dtype=int32, numpy=\n",
       "array([[5],\n",
       "       [7]], dtype=int32)>"
      ]
     },
     "execution_count": 132,
     "metadata": {},
     "output_type": "execute_result"
    }
   ],
   "source": [
    "tf.matmul(a,b)"
   ]
  },
  {
   "cell_type": "markdown",
   "id": "7f9f1b76-197c-4eb0-954a-b92ea5d8864f",
   "metadata": {},
   "source": [
    "`-` 역행렬"
   ]
  },
  {
   "cell_type": "code",
   "execution_count": 123,
   "id": "a1148eaa-fa4b-40cb-8683-2f86c9bd041c",
   "metadata": {},
   "outputs": [
    {
     "data": {
      "text/plain": [
       "<tf.Tensor: shape=(2, 2), dtype=int32, numpy=\n",
       "array([[1, 0],\n",
       "       [0, 2]], dtype=int32)>"
      ]
     },
     "execution_count": 123,
     "metadata": {},
     "output_type": "execute_result"
    }
   ],
   "source": [
    "a=tf.constant([[1,0],[0,2]])\n",
    "a"
   ]
  },
  {
   "cell_type": "code",
   "execution_count": 125,
   "id": "12ed0419-7bfb-4d61-af25-d0021e3c56c1",
   "metadata": {},
   "outputs": [
    {
     "ename": "InvalidArgumentError",
     "evalue": "Value for attr 'T' of int32 is not in the list of allowed values: double, float, half, complex64, complex128\n\t; NodeDef: {{node MatrixInverse}}; Op<name=MatrixInverse; signature=input:T -> output:T; attr=adjoint:bool,default=false; attr=T:type,allowed=[DT_DOUBLE, DT_FLOAT, DT_HALF, DT_COMPLEX64, DT_COMPLEX128]> [Op:MatrixInverse]",
     "output_type": "error",
     "traceback": [
      "\u001b[0;31m---------------------------------------------------------------------------\u001b[0m",
      "\u001b[0;31mInvalidArgumentError\u001b[0m                      Traceback (most recent call last)",
      "Input \u001b[0;32mIn [125]\u001b[0m, in \u001b[0;36m<cell line: 1>\u001b[0;34m()\u001b[0m\n\u001b[0;32m----> 1\u001b[0m \u001b[43mtf\u001b[49m\u001b[38;5;241;43m.\u001b[39;49m\u001b[43mlinalg\u001b[49m\u001b[38;5;241;43m.\u001b[39;49m\u001b[43minv\u001b[49m\u001b[43m(\u001b[49m\u001b[43ma\u001b[49m\u001b[43m)\u001b[49m\n",
      "File \u001b[0;32m~/anaconda3/envs/py310/lib/python3.10/site-packages/tensorflow/python/ops/gen_linalg_ops.py:1506\u001b[0m, in \u001b[0;36mmatrix_inverse\u001b[0;34m(input, adjoint, name)\u001b[0m\n\u001b[1;32m   1504\u001b[0m   \u001b[38;5;28;01mreturn\u001b[39;00m _result\n\u001b[1;32m   1505\u001b[0m \u001b[38;5;28;01mexcept\u001b[39;00m _core\u001b[38;5;241m.\u001b[39m_NotOkStatusException \u001b[38;5;28;01mas\u001b[39;00m e:\n\u001b[0;32m-> 1506\u001b[0m   \u001b[43m_ops\u001b[49m\u001b[38;5;241;43m.\u001b[39;49m\u001b[43mraise_from_not_ok_status\u001b[49m\u001b[43m(\u001b[49m\u001b[43me\u001b[49m\u001b[43m,\u001b[49m\u001b[43m \u001b[49m\u001b[43mname\u001b[49m\u001b[43m)\u001b[49m\n\u001b[1;32m   1507\u001b[0m \u001b[38;5;28;01mexcept\u001b[39;00m _core\u001b[38;5;241m.\u001b[39m_FallbackException:\n\u001b[1;32m   1508\u001b[0m   \u001b[38;5;28;01mpass\u001b[39;00m\n",
      "File \u001b[0;32m~/anaconda3/envs/py310/lib/python3.10/site-packages/tensorflow/python/framework/ops.py:7107\u001b[0m, in \u001b[0;36mraise_from_not_ok_status\u001b[0;34m(e, name)\u001b[0m\n\u001b[1;32m   7105\u001b[0m \u001b[38;5;28;01mdef\u001b[39;00m \u001b[38;5;21mraise_from_not_ok_status\u001b[39m(e, name):\n\u001b[1;32m   7106\u001b[0m   e\u001b[38;5;241m.\u001b[39mmessage \u001b[38;5;241m+\u001b[39m\u001b[38;5;241m=\u001b[39m (\u001b[38;5;124m\"\u001b[39m\u001b[38;5;124m name: \u001b[39m\u001b[38;5;124m\"\u001b[39m \u001b[38;5;241m+\u001b[39m name \u001b[38;5;28;01mif\u001b[39;00m name \u001b[38;5;129;01mis\u001b[39;00m \u001b[38;5;129;01mnot\u001b[39;00m \u001b[38;5;28;01mNone\u001b[39;00m \u001b[38;5;28;01melse\u001b[39;00m \u001b[38;5;124m\"\u001b[39m\u001b[38;5;124m\"\u001b[39m)\n\u001b[0;32m-> 7107\u001b[0m   \u001b[38;5;28;01mraise\u001b[39;00m core\u001b[38;5;241m.\u001b[39m_status_to_exception(e) \u001b[38;5;28;01mfrom\u001b[39;00m \u001b[38;5;28mNone\u001b[39m\n",
      "\u001b[0;31mInvalidArgumentError\u001b[0m: Value for attr 'T' of int32 is not in the list of allowed values: double, float, half, complex64, complex128\n\t; NodeDef: {{node MatrixInverse}}; Op<name=MatrixInverse; signature=input:T -> output:T; attr=adjoint:bool,default=false; attr=T:type,allowed=[DT_DOUBLE, DT_FLOAT, DT_HALF, DT_COMPLEX64, DT_COMPLEX128]> [Op:MatrixInverse]"
     ]
    }
   ],
   "source": [
    "tf.linalg.inv(a)  #1/2를 만들려면 int는 안되고 float으로 해야 한다는 오류..."
   ]
  },
  {
   "cell_type": "code",
   "execution_count": 127,
   "id": "54934481-008c-4af2-8310-11c17168fb47",
   "metadata": {},
   "outputs": [
    {
     "data": {
      "text/plain": [
       "<tf.Tensor: shape=(2, 2), dtype=float32, numpy=\n",
       "array([[1. , 0. ],\n",
       "       [0. , 0.5]], dtype=float32)>"
      ]
     },
     "execution_count": 127,
     "metadata": {},
     "output_type": "execute_result"
    }
   ],
   "source": [
    "a=tf.constant([[1.0,0.0],[0.0,2.0]])\n",
    "tf.linalg.inv(a)"
   ]
  },
  {
   "cell_type": "markdown",
   "id": "009a5c16-e52d-4a4f-9858-f61a093b4d7d",
   "metadata": {},
   "source": [
    "`-` `tf.linalg` + `tab` 에서 몇 개 응용"
   ]
  },
  {
   "cell_type": "code",
   "execution_count": 136,
   "id": "fc7dcc4c-792a-430a-9a88-3246223e3196",
   "metadata": {},
   "outputs": [
    {
     "name": "stdout",
     "output_type": "stream",
     "text": [
      "tf.Tensor(\n",
      "[[1. 2.]\n",
      " [3. 4.]], shape=(2, 2), dtype=float32)\n"
     ]
    },
    {
     "data": {
      "text/plain": [
       "<tf.Tensor: shape=(), dtype=float32, numpy=-2.0>"
      ]
     },
     "execution_count": 136,
     "metadata": {},
     "output_type": "execute_result"
    }
   ],
   "source": [
    "a=tf.constant([[1.0,2.0],[3.0,4.0]])\n",
    "print(a)\n",
    "tf.linalg.det(a)"
   ]
  },
  {
   "cell_type": "code",
   "execution_count": 138,
   "id": "7447cd09-0886-4ac0-8191-5df703cd38c9",
   "metadata": {},
   "outputs": [
    {
     "data": {
      "text/plain": [
       "<tf.Tensor: shape=(), dtype=float32, numpy=5.0>"
      ]
     },
     "execution_count": 138,
     "metadata": {},
     "output_type": "execute_result"
    }
   ],
   "source": [
    "tf.linalg.trace(a)  #대각 원소의 합"
   ]
  },
  {
   "cell_type": "markdown",
   "id": "36eb6964-8d92-469c-b4fd-5e9ae19bf9af",
   "metadata": {
    "id": "36eb6964-8d92-469c-b4fd-5e9ae19bf9af",
    "tags": []
   },
   "source": [
    "#### 형태변환"
   ]
  },
  {
   "cell_type": "markdown",
   "id": "1544e16a-20d2-454f-935b-fd96408466c1",
   "metadata": {},
   "source": [
    "`-` 기본 : `tf.reshape()`를 이용"
   ]
  },
  {
   "cell_type": "code",
   "execution_count": 142,
   "id": "f97e29e5-9757-4ad0-b193-55e751f6bafd",
   "metadata": {},
   "outputs": [
    {
     "data": {
      "text/plain": [
       "<tf.Tensor: shape=(4,), dtype=int32, numpy=array([1, 2, 3, 4], dtype=int32)>"
      ]
     },
     "execution_count": 142,
     "metadata": {},
     "output_type": "execute_result"
    }
   ],
   "source": [
    "a=tf.constant([1,2,3,4])  #그냥 길이가 4인 벡터\n",
    "a"
   ]
  },
  {
   "cell_type": "code",
   "execution_count": 143,
   "id": "9d572d6d-4523-48f6-b40f-8865404be94e",
   "metadata": {},
   "outputs": [
    {
     "data": {
      "text/plain": [
       "<tf.Tensor: shape=(4, 1), dtype=int32, numpy=\n",
       "array([[1],\n",
       "       [2],\n",
       "       [3],\n",
       "       [4]], dtype=int32)>"
      ]
     },
     "execution_count": 143,
     "metadata": {},
     "output_type": "execute_result"
    }
   ],
   "source": [
    "tf.reshape(a, (4,1))  #4X1 매트릭스로"
   ]
  },
  {
   "cell_type": "code",
   "execution_count": 146,
   "id": "c270440f-e42f-4dce-8a96-f77e759bed4c",
   "metadata": {},
   "outputs": [
    {
     "data": {
      "text/plain": [
       "<tf.Tensor: shape=(2, 2), dtype=int32, numpy=\n",
       "array([[1, 2],\n",
       "       [3, 4]], dtype=int32)>"
      ]
     },
     "execution_count": 146,
     "metadata": {},
     "output_type": "execute_result"
    }
   ],
   "source": [
    "tf.reshape(a, (2,2))  "
   ]
  },
  {
   "cell_type": "code",
   "execution_count": 147,
   "id": "8f5a3cf8-1072-486f-bdda-357989f5b811",
   "metadata": {},
   "outputs": [
    {
     "data": {
      "text/plain": [
       "<tf.Tensor: shape=(2, 2, 1), dtype=int32, numpy=\n",
       "array([[[1],\n",
       "        [2]],\n",
       "\n",
       "       [[3],\n",
       "        [4]]], dtype=int32)>"
      ]
     },
     "execution_count": 147,
     "metadata": {},
     "output_type": "execute_result"
    }
   ],
   "source": [
    "tf.reshape(a, (2,2,1))  #3차원도 가능하다"
   ]
  },
  {
   "cell_type": "markdown",
   "id": "4c596eae-59ed-41fd-a510-c1f4a8f521df",
   "metadata": {},
   "source": [
    "`-` 다차원"
   ]
  },
  {
   "cell_type": "code",
   "execution_count": 148,
   "id": "50011166-e169-48ee-b999-060df993ac5d",
   "metadata": {},
   "outputs": [
    {
     "data": {
      "text/plain": [
       "<tf.Tensor: shape=(12,), dtype=int32, numpy=array([ 1,  2,  3,  4,  5,  6,  7,  8,  9, 10, 11, 12], dtype=int32)>"
      ]
     },
     "execution_count": 148,
     "metadata": {},
     "output_type": "execute_result"
    }
   ],
   "source": [
    "a=tf.constant([1,2,3,4,5,6,7,8,9,10,11,12])\n",
    "a"
   ]
  },
  {
   "cell_type": "code",
   "execution_count": 149,
   "id": "b1f4c844-572c-4cf3-b79c-99732c6b13b0",
   "metadata": {},
   "outputs": [
    {
     "data": {
      "text/plain": [
       "<tf.Tensor: shape=(2, 2, 3), dtype=int32, numpy=\n",
       "array([[[ 1,  2,  3],\n",
       "        [ 4,  5,  6]],\n",
       "\n",
       "       [[ 7,  8,  9],\n",
       "        [10, 11, 12]]], dtype=int32)>"
      ]
     },
     "execution_count": 149,
     "metadata": {},
     "output_type": "execute_result"
    }
   ],
   "source": [
    "tf.reshape(a,(2,2,3))"
   ]
  },
  {
   "cell_type": "code",
   "execution_count": 150,
   "id": "9c05896f-f19a-4457-804a-0f0a019af0c0",
   "metadata": {},
   "outputs": [
    {
     "data": {
      "text/plain": [
       "<tf.Tensor: shape=(4, 3), dtype=int32, numpy=\n",
       "array([[ 1,  2,  3],\n",
       "       [ 4,  5,  6],\n",
       "       [ 7,  8,  9],\n",
       "       [10, 11, 12]], dtype=int32)>"
      ]
     },
     "execution_count": 150,
     "metadata": {},
     "output_type": "execute_result"
    }
   ],
   "source": [
    "tf.reshape(a,(4,3))"
   ]
  },
  {
   "cell_type": "markdown",
   "id": "77fec16d-58a4-4431-b980-1ae6141dca5e",
   "metadata": {},
   "source": [
    "`-` `tf.resh` : 알아서 짝을 찾아주면 안되나? 안되면 그냥 에러메세지를 띄워줘"
   ]
  },
  {
   "cell_type": "code",
   "execution_count": 153,
   "id": "97f20b1b-348b-4739-b81a-261dfc1d9ac2",
   "metadata": {},
   "outputs": [
    {
     "data": {
      "text/plain": [
       "<tf.Tensor: shape=(12,), dtype=int32, numpy=array([ 1,  2,  3,  4,  5,  6,  7,  8,  9, 10, 11, 12], dtype=int32)>"
      ]
     },
     "execution_count": 153,
     "metadata": {},
     "output_type": "execute_result"
    }
   ],
   "source": [
    "a=tf.constant([1,2,3,4,5,6,7,8,9,10,11,12])\n",
    "a"
   ]
  },
  {
   "cell_type": "code",
   "execution_count": 154,
   "id": "03abae63-14db-4f49-9acb-833c46c333a4",
   "metadata": {},
   "outputs": [
    {
     "data": {
      "text/plain": [
       "<tf.Tensor: shape=(4, 3), dtype=int32, numpy=\n",
       "array([[ 1,  2,  3],\n",
       "       [ 4,  5,  6],\n",
       "       [ 7,  8,  9],\n",
       "       [10, 11, 12]], dtype=int32)>"
      ]
     },
     "execution_count": 154,
     "metadata": {},
     "output_type": "execute_result"
    }
   ],
   "source": [
    "tf.reshape(a,(4,-1))  #-1은 물음표 역할"
   ]
  },
  {
   "cell_type": "code",
   "execution_count": 156,
   "id": "a3f711b8-c13e-4ab3-8cd2-26c7cef725b7",
   "metadata": {},
   "outputs": [
    {
     "data": {
      "text/plain": [
       "<tf.Tensor: shape=(2, 2, 3), dtype=int32, numpy=\n",
       "array([[[ 1,  2,  3],\n",
       "        [ 4,  5,  6]],\n",
       "\n",
       "       [[ 7,  8,  9],\n",
       "        [10, 11, 12]]], dtype=int32)>"
      ]
     },
     "execution_count": 156,
     "metadata": {},
     "output_type": "execute_result"
    }
   ],
   "source": [
    "tf.reshape(a,(2,2,-1))"
   ]
  },
  {
   "cell_type": "code",
   "execution_count": 159,
   "id": "9df7368c-2587-4446-8335-da29fede1229",
   "metadata": {},
   "outputs": [
    {
     "data": {
      "text/plain": [
       "<tf.Tensor: shape=(2, 2, 3), dtype=int32, numpy=\n",
       "array([[[ 1,  2,  3],\n",
       "        [ 4,  5,  6]],\n",
       "\n",
       "       [[ 7,  8,  9],\n",
       "        [10, 11, 12]]], dtype=int32)>"
      ]
     },
     "execution_count": 159,
     "metadata": {},
     "output_type": "execute_result"
    }
   ],
   "source": [
    "b=tf.reshape(a,(2,2,-1))\n",
    "b"
   ]
  },
  {
   "cell_type": "code",
   "execution_count": 160,
   "id": "f963ed52-db37-49da-8387-bb91c38e2f18",
   "metadata": {},
   "outputs": [
    {
     "data": {
      "text/plain": [
       "<tf.Tensor: shape=(12,), dtype=int32, numpy=array([ 1,  2,  3,  4,  5,  6,  7,  8,  9, 10, 11, 12], dtype=int32)>"
      ]
     },
     "execution_count": 160,
     "metadata": {},
     "output_type": "execute_result"
    }
   ],
   "source": [
    "tf.reshape(b,-1)  #그냥 벡터로 만들어줘"
   ]
  },
  {
   "cell_type": "markdown",
   "id": "327eb735-9f41-40d5-8837-1ff630860b58",
   "metadata": {
    "id": "327eb735-9f41-40d5-8837-1ff630860b58"
   },
   "source": [
    "#### 선언고급 "
   ]
  },
  {
   "cell_type": "markdown",
   "id": "a0383d06-611e-47d1-a029-807043c9d1d9",
   "metadata": {},
   "source": [
    "`-` 다른 자료형(리스트, 넘파이 등)로 만들고 바꾸는 것도 좋음!"
   ]
  },
  {
   "cell_type": "code",
   "execution_count": 162,
   "id": "d8daadea-8783-498c-b2a6-10b22f4f4d25",
   "metadata": {},
   "outputs": [
    {
     "data": {
      "text/plain": [
       "array([[1, 0, 0, 0],\n",
       "       [0, 2, 0, 0],\n",
       "       [0, 0, 3, 0],\n",
       "       [0, 0, 0, 4]])"
      ]
     },
     "execution_count": 162,
     "metadata": {},
     "output_type": "execute_result"
    }
   ],
   "source": [
    "np.diag([1,2,3,4])  #대각행렬"
   ]
  },
  {
   "cell_type": "code",
   "execution_count": 164,
   "id": "25b4a273-1517-4095-8674-0a0b09544672",
   "metadata": {},
   "outputs": [
    {
     "data": {
      "text/plain": [
       "<tf.Tensor: shape=(4, 4), dtype=int64, numpy=\n",
       "array([[1, 0, 0, 0],\n",
       "       [0, 2, 0, 0],\n",
       "       [0, 0, 3, 0],\n",
       "       [0, 0, 0, 4]])>"
      ]
     },
     "execution_count": 164,
     "metadata": {},
     "output_type": "execute_result"
    }
   ],
   "source": [
    "tf.constant(np.diag([1,2,3,4]))  #넘파이->텐서"
   ]
  },
  {
   "cell_type": "markdown",
   "id": "97d3707f-8de3-471f-a7fc-4398ce66c7d1",
   "metadata": {},
   "source": [
    "`-` `tf.ones`, `tf.zeros`"
   ]
  },
  {
   "cell_type": "code",
   "execution_count": 165,
   "id": "c1caab26-8a1e-4aa7-9af7-2993d40925e3",
   "metadata": {},
   "outputs": [
    {
     "data": {
      "text/plain": [
       "<tf.Tensor: shape=(3, 3), dtype=float32, numpy=\n",
       "array([[0., 0., 0.],\n",
       "       [0., 0., 0.],\n",
       "       [0., 0., 0.]], dtype=float32)>"
      ]
     },
     "execution_count": 165,
     "metadata": {},
     "output_type": "execute_result"
    }
   ],
   "source": [
    "tf.zeros([3,3])"
   ]
  },
  {
   "cell_type": "code",
   "execution_count": 170,
   "id": "8e46d6a4-2528-40fd-9525-5adba8e8e918",
   "metadata": {},
   "outputs": [
    {
     "data": {
      "text/plain": [
       "<tf.Tensor: shape=(3, 3), dtype=int32, numpy=\n",
       "array([[0, 0, 0],\n",
       "       [0, 0, 0],\n",
       "       [0, 0, 0]], dtype=int32)>"
      ]
     },
     "execution_count": 170,
     "metadata": {},
     "output_type": "execute_result"
    }
   ],
   "source": [
    "tf.reshape(tf.constant([0]*9),(3,3))"
   ]
  },
  {
   "cell_type": "markdown",
   "id": "8c6fcb59-7aa7-4b46-9f6c-1ddacdaa984f",
   "metadata": {},
   "source": [
    "`-` `range(10)`"
   ]
  },
  {
   "cell_type": "code",
   "execution_count": 178,
   "id": "e2107ca7-14e0-4939-9880-5be966f3b7f5",
   "metadata": {},
   "outputs": [
    {
     "data": {
      "text/plain": [
       "[0, 1, 2, 3, 4, 5, 6, 7, 8, 9]"
      ]
     },
     "execution_count": 178,
     "metadata": {},
     "output_type": "execute_result"
    }
   ],
   "source": [
    "a=range(0,10)  #그냥 range(0,10)은 아무 정보가 없다\n",
    "list(a)"
   ]
  },
  {
   "cell_type": "code",
   "execution_count": 181,
   "id": "aa48e720-9675-4193-95fd-f6d050bf55e0",
   "metadata": {},
   "outputs": [
    {
     "data": {
      "text/plain": [
       "<tf.Tensor: shape=(12,), dtype=int32, numpy=array([ 0,  1,  2,  3,  4,  5,  6,  7,  8,  9, 10, 11], dtype=int32)>"
      ]
     },
     "execution_count": 181,
     "metadata": {},
     "output_type": "execute_result"
    }
   ],
   "source": [
    "a=range(0,12)  \n",
    "tf.constant(a)"
   ]
  },
  {
   "cell_type": "code",
   "execution_count": 184,
   "id": "3530dedb-116f-44aa-9079-d9ee87266231",
   "metadata": {},
   "outputs": [
    {
     "data": {
      "text/plain": [
       "[0, 1, 2, 3, 4]"
      ]
     },
     "execution_count": 184,
     "metadata": {},
     "output_type": "execute_result"
    }
   ],
   "source": [
    "list(range(5))   #0은 생략할 수 있음, 마지막 숫자는 빠진다."
   ]
  },
  {
   "cell_type": "code",
   "execution_count": 186,
   "id": "48a1ac1f-8f9e-4a85-bb66-59db2542fac1",
   "metadata": {},
   "outputs": [
    {
     "data": {
      "text/plain": [
       "[1, 2, 3, 4]"
      ]
     },
     "execution_count": 186,
     "metadata": {},
     "output_type": "execute_result"
    }
   ],
   "source": [
    "list(range(1,5))   #1에서 시작하지만 여전히 5는 안들어감"
   ]
  },
  {
   "cell_type": "code",
   "execution_count": 187,
   "id": "4d1d9abc-e2f6-4289-a933-8ea8f40bf757",
   "metadata": {},
   "outputs": [
    {
     "data": {
      "text/plain": [
       "[1, 4, 7, 10, 13, 16, 19]"
      ]
     },
     "execution_count": 187,
     "metadata": {},
     "output_type": "execute_result"
    }
   ],
   "source": [
    "list(range(1,20,3))   #3칸씩 빼고"
   ]
  },
  {
   "cell_type": "code",
   "execution_count": 189,
   "id": "57f09c0b-ab20-4a35-9c32-b41dfb55a79c",
   "metadata": {},
   "outputs": [
    {
     "data": {
      "text/plain": [
       "<tf.Tensor: shape=(7,), dtype=int32, numpy=array([ 1,  4,  7, 10, 13, 16, 19], dtype=int32)>"
      ]
     },
     "execution_count": 189,
     "metadata": {},
     "output_type": "execute_result"
    }
   ],
   "source": [
    "tf.constant(range(1,20,3))  #3칸씩 빼고"
   ]
  },
  {
   "cell_type": "markdown",
   "id": "0d0bcf5f-d0ba-43c9-a4a8-b5b8bee24b4a",
   "metadata": {},
   "source": [
    "`-` `tf.linspace`"
   ]
  },
  {
   "cell_type": "code",
   "execution_count": 191,
   "id": "df235633-2565-44e8-8b39-47255750fe1b",
   "metadata": {},
   "outputs": [
    {
     "data": {
      "text/plain": [
       "<tf.Tensor: shape=(10,), dtype=float64, numpy=\n",
       "array([0.        , 0.11111111, 0.22222222, 0.33333333, 0.44444444,\n",
       "       0.55555556, 0.66666667, 0.77777778, 0.88888889, 1.        ])>"
      ]
     },
     "execution_count": 191,
     "metadata": {},
     "output_type": "execute_result"
    }
   ],
   "source": [
    "tf.linspace(0,1,10)  #0~1까지 10개 뽑기, 여기선 1이 포함된다."
   ]
  },
  {
   "cell_type": "markdown",
   "id": "2d0f27b7-688e-437a-856a-7ebb6d6a4a27",
   "metadata": {
    "id": "2d0f27b7-688e-437a-856a-7ebb6d6a4a27"
   },
   "source": [
    "#### tf.concat "
   ]
  },
  {
   "cell_type": "code",
   "execution_count": 194,
   "id": "9f9deffb-ce2f-4beb-b1a7-5022b6e14bb3",
   "metadata": {},
   "outputs": [
    {
     "data": {
      "text/plain": [
       "(<tf.Tensor: shape=(2, 1), dtype=int32, numpy=\n",
       " array([[1],\n",
       "        [2]], dtype=int32)>,\n",
       " <tf.Tensor: shape=(2, 1), dtype=int32, numpy=\n",
       " array([[3],\n",
       "        [4]], dtype=int32)>)"
      ]
     },
     "execution_count": 194,
     "metadata": {},
     "output_type": "execute_result"
    }
   ],
   "source": [
    "a=tf.constant([[1],[2]])\n",
    "b=tf.constant([[3],[4]])\n",
    "a,b"
   ]
  },
  {
   "cell_type": "markdown",
   "id": "6c73abc7-bb40-43df-aec8-881c1583de01",
   "metadata": {},
   "source": [
    "`-` (2,1) concat (2,1) => (4,1)\n",
    "- 첫번째 축이 바뀌었음. => axis=0"
   ]
  },
  {
   "cell_type": "code",
   "execution_count": 199,
   "id": "b40cbdc0-c49c-45c9-9525-302a24285b7f",
   "metadata": {},
   "outputs": [
    {
     "data": {
      "text/plain": [
       "<tf.Tensor: shape=(4, 1), dtype=int32, numpy=\n",
       "array([[1],\n",
       "       [2],\n",
       "       [3],\n",
       "       [4]], dtype=int32)>"
      ]
     },
     "execution_count": 199,
     "metadata": {},
     "output_type": "execute_result"
    }
   ],
   "source": [
    "tf.concat([a,b],axis=0)  #axis입력 필수"
   ]
  },
  {
   "cell_type": "markdown",
   "id": "5e7691a1-4a3c-4a0e-9034-f6f597c224b9",
   "metadata": {},
   "source": [
    "`-` (2,1) concat (2,1) => (2,2)\n",
    "- 두번째 축이 바뀌었음. => axis=1"
   ]
  },
  {
   "cell_type": "code",
   "execution_count": 200,
   "id": "0a48a82d-27d4-42a7-8c7a-4435f601f4b8",
   "metadata": {},
   "outputs": [
    {
     "data": {
      "text/plain": [
       "<tf.Tensor: shape=(2, 2), dtype=int32, numpy=\n",
       "array([[1, 3],\n",
       "       [2, 4]], dtype=int32)>"
      ]
     },
     "execution_count": 200,
     "metadata": {},
     "output_type": "execute_result"
    }
   ],
   "source": [
    "tf.concat([a,b],axis=1)  #axis입력 필수"
   ]
  },
  {
   "cell_type": "markdown",
   "id": "0b0ebbc2-85e9-490d-81ad-7191eca90105",
   "metadata": {},
   "source": [
    "`-` (1,2) concat (1,2) => (2,2)\n",
    "- 첫번째가 바뀌니까 axis=0"
   ]
  },
  {
   "cell_type": "code",
   "execution_count": 208,
   "id": "c8fa01b6-8800-4a42-9b36-0d794bd90ce8",
   "metadata": {},
   "outputs": [],
   "source": [
    "a=tf.constant([[1,2]])\n",
    "b=tf.constant([[3,4]])"
   ]
  },
  {
   "cell_type": "code",
   "execution_count": 209,
   "id": "4557a3ce-7a57-49ea-815e-bab790406e0a",
   "metadata": {},
   "outputs": [
    {
     "data": {
      "text/plain": [
       "<tf.Tensor: shape=(2, 2), dtype=int32, numpy=\n",
       "array([[1, 2],\n",
       "       [3, 4]], dtype=int32)>"
      ]
     },
     "execution_count": 209,
     "metadata": {},
     "output_type": "execute_result"
    }
   ],
   "source": [
    "tf.concat([a,b],axis=0)"
   ]
  },
  {
   "cell_type": "markdown",
   "id": "b05773b5-1f79-43ab-94df-2a8985c413cc",
   "metadata": {},
   "source": [
    "`-` (1,2) concat (1,2) => (1,4)\n",
    "- 첫번째가 바뀌니까 axis=1"
   ]
  },
  {
   "cell_type": "code",
   "execution_count": 208,
   "id": "8e03b7ed-d87c-48b3-a2d5-9e1b603ba577",
   "metadata": {},
   "outputs": [],
   "source": [
    "a=tf.constant([[1,2]])\n",
    "b=tf.constant([[3,4]])"
   ]
  },
  {
   "cell_type": "code",
   "execution_count": 210,
   "id": "f86a3794-8678-4707-b771-0e8681423ec5",
   "metadata": {},
   "outputs": [
    {
     "data": {
      "text/plain": [
       "<tf.Tensor: shape=(1, 4), dtype=int32, numpy=array([[1, 2, 3, 4]], dtype=int32)>"
      ]
     },
     "execution_count": 210,
     "metadata": {},
     "output_type": "execute_result"
    }
   ],
   "source": [
    "tf.concat([a,b],axis=1)"
   ]
  },
  {
   "cell_type": "markdown",
   "id": "dff7dc84-93d3-454c-a9db-80aa18394a44",
   "metadata": {},
   "source": [
    "`-` 차원을 늘려보자!  \n",
    "`-` (2,3,4,5) concat (2,3,4,5) => (4,3,4,5)  \n",
    "- 첫번째 -> axis=0"
   ]
  },
  {
   "cell_type": "code",
   "execution_count": 215,
   "id": "d927cc73-a5aa-4854-b9d9-678730279cb3",
   "metadata": {},
   "outputs": [],
   "source": [
    "a=tf.reshape(tf.constant(range(120)), (2,3,4,5))\n",
    "b=-a"
   ]
  },
  {
   "cell_type": "code",
   "execution_count": 218,
   "id": "8a417d6b-b4ac-4432-90ee-8fb62cd197a7",
   "metadata": {},
   "outputs": [
    {
     "data": {
      "text/plain": [
       "TensorShape([4, 3, 4, 5])"
      ]
     },
     "execution_count": 218,
     "metadata": {},
     "output_type": "execute_result"
    }
   ],
   "source": [
    "tf.concat([a,b],axis=0).shape"
   ]
  },
  {
   "cell_type": "markdown",
   "id": "80cec150-daf9-42cf-87f1-856ebd838138",
   "metadata": {},
   "source": [
    "`-` (2,3,4,5) concat (2,3,4,5) => (2,6,4,5)  \n",
    "- 두번째 -> axis=1"
   ]
  },
  {
   "cell_type": "code",
   "execution_count": 219,
   "id": "14667074-19f6-4eaf-baf6-c5f68b3702ec",
   "metadata": {},
   "outputs": [],
   "source": [
    "a=tf.reshape(tf.constant(range(120)), (2,3,4,5))\n",
    "b=-a"
   ]
  },
  {
   "cell_type": "code",
   "execution_count": 220,
   "id": "b0eb33a4-5f39-47a6-a682-20517afea143",
   "metadata": {},
   "outputs": [
    {
     "data": {
      "text/plain": [
       "TensorShape([2, 6, 4, 5])"
      ]
     },
     "execution_count": 220,
     "metadata": {},
     "output_type": "execute_result"
    }
   ],
   "source": [
    "tf.concat([a,b],axis=1).shape"
   ]
  },
  {
   "cell_type": "markdown",
   "id": "513f3628-203d-4529-a85b-aa82dde52161",
   "metadata": {},
   "source": [
    "`-` (2,3,4,5) concat (2,3,4,5) => (2,3,8,5)  \n",
    "- 세번째 -> axis=2"
   ]
  },
  {
   "cell_type": "code",
   "execution_count": 221,
   "id": "b2a7c1a9-3ecc-4913-b754-2af9953f7ec0",
   "metadata": {},
   "outputs": [],
   "source": [
    "a=tf.reshape(tf.constant(range(120)), (2,3,4,5))\n",
    "b=-a"
   ]
  },
  {
   "cell_type": "code",
   "execution_count": 222,
   "id": "b9833a27-7000-4751-9295-921e30548c16",
   "metadata": {},
   "outputs": [
    {
     "data": {
      "text/plain": [
       "TensorShape([2, 3, 8, 5])"
      ]
     },
     "execution_count": 222,
     "metadata": {},
     "output_type": "execute_result"
    }
   ],
   "source": [
    "tf.concat([a,b],axis=2).shape"
   ]
  },
  {
   "cell_type": "markdown",
   "id": "7751faf2-eb31-461e-b6fc-663b43c63a4c",
   "metadata": {},
   "source": [
    "`-` (2,3,4,5) concat (2,3,4,5) => (2,3,4,10)  \n",
    "- 네번째 -> axis=3, -1"
   ]
  },
  {
   "cell_type": "code",
   "execution_count": 223,
   "id": "6cb2ce0a-321f-413b-8925-745237a58b11",
   "metadata": {},
   "outputs": [],
   "source": [
    "a=tf.reshape(tf.constant(range(120)), (2,3,4,5))\n",
    "b=-a"
   ]
  },
  {
   "cell_type": "code",
   "execution_count": 225,
   "id": "9b9f23a4-2b52-4e79-bfe1-3fad0a9cd0f1",
   "metadata": {},
   "outputs": [
    {
     "data": {
      "text/plain": [
       "TensorShape([2, 3, 4, 10])"
      ]
     },
     "execution_count": 225,
     "metadata": {},
     "output_type": "execute_result"
    }
   ],
   "source": [
    "tf.concat([a,b], axis=-1).shape"
   ]
  },
  {
   "cell_type": "code",
   "execution_count": 226,
   "id": "6971eab3-d095-4796-816f-ae182200f91e",
   "metadata": {},
   "outputs": [
    {
     "data": {
      "text/plain": [
       "TensorShape([2, 3, 4, 10])"
      ]
     },
     "execution_count": 226,
     "metadata": {},
     "output_type": "execute_result"
    }
   ],
   "source": [
    "tf.concat([a,b], axis=3).shape"
   ]
  },
  {
   "cell_type": "markdown",
   "id": "62a3424a-bae4-4b7a-b2dd-205b4745da43",
   "metadata": {},
   "source": [
    "`-` 차원을 줄여보자!  \n",
    "`-` (4,) concat (4,) => (8,)\n",
    "- 첫번째 축이 변하는게 맞나?\n",
    "- `axis=0` 이 잘 실행됨. "
   ]
  },
  {
   "cell_type": "code",
   "execution_count": 236,
   "id": "65a5f9ab-6ec9-438c-9051-fc042c660370",
   "metadata": {},
   "outputs": [
    {
     "data": {
      "text/plain": [
       "(<tf.Tensor: shape=(4,), dtype=int32, numpy=array([1, 2, 3, 4], dtype=int32)>,\n",
       " <tf.Tensor: shape=(4,), dtype=int32, numpy=array([-1, -2, -3, -4], dtype=int32)>)"
      ]
     },
     "execution_count": 236,
     "metadata": {},
     "output_type": "execute_result"
    }
   ],
   "source": [
    "a=tf.constant([1,2,3,4])\n",
    "b=-a\n",
    "a,b"
   ]
  },
  {
   "cell_type": "code",
   "execution_count": 237,
   "id": "5e5e5522-ab2d-4849-bd64-3a025b772400",
   "metadata": {},
   "outputs": [
    {
     "data": {
      "text/plain": [
       "TensorShape([8])"
      ]
     },
     "execution_count": 237,
     "metadata": {},
     "output_type": "execute_result"
    }
   ],
   "source": [
    "tf.concat([a,b],axis=0).shape"
   ]
  },
  {
   "cell_type": "markdown",
   "id": "bac25faa-d4d2-4ddd-b002-19f604d43522",
   "metadata": {},
   "source": [
    "`-` 1이 생략된건가?  \n",
    "`-` (4,) concat (4,) => (4,2)\n",
    "- 두번째 축 => axis=2  ==> **안된다.** 왜냐하면 1이 생략된 것이 아니라 그냥 1차원이기 때문에"
   ]
  },
  {
   "cell_type": "code",
   "execution_count": 234,
   "id": "bba77517-7b29-40d1-8e94-84d5ce9b4c65",
   "metadata": {},
   "outputs": [
    {
     "data": {
      "text/plain": [
       "(<tf.Tensor: shape=(4,), dtype=int32, numpy=array([1, 2, 3, 4], dtype=int32)>,\n",
       " <tf.Tensor: shape=(4,), dtype=int32, numpy=array([-1, -2, -3, -4], dtype=int32)>)"
      ]
     },
     "execution_count": 234,
     "metadata": {},
     "output_type": "execute_result"
    }
   ],
   "source": [
    "a=tf.constant([1,2,3,4])\n",
    "b=-a\n",
    "a,b"
   ]
  },
  {
   "cell_type": "code",
   "execution_count": 239,
   "id": "3e88272f-68cc-4cfd-8175-7cce3bbdaf65",
   "metadata": {},
   "outputs": [
    {
     "ename": "InvalidArgumentError",
     "evalue": "ConcatOp : Expected concatenating dimensions in the range [-1, 1), but got 1 [Op:ConcatV2] name: concat",
     "output_type": "error",
     "traceback": [
      "\u001b[0;31m---------------------------------------------------------------------------\u001b[0m",
      "\u001b[0;31mInvalidArgumentError\u001b[0m                      Traceback (most recent call last)",
      "Input \u001b[0;32mIn [239]\u001b[0m, in \u001b[0;36m<cell line: 1>\u001b[0;34m()\u001b[0m\n\u001b[0;32m----> 1\u001b[0m \u001b[43mtf\u001b[49m\u001b[38;5;241;43m.\u001b[39;49m\u001b[43mconcat\u001b[49m\u001b[43m(\u001b[49m\u001b[43m[\u001b[49m\u001b[43ma\u001b[49m\u001b[43m,\u001b[49m\u001b[43mb\u001b[49m\u001b[43m]\u001b[49m\u001b[43m,\u001b[49m\u001b[43m \u001b[49m\u001b[43maxis\u001b[49m\u001b[38;5;241;43m=\u001b[39;49m\u001b[38;5;241;43m1\u001b[39;49m\u001b[43m)\u001b[49m\u001b[38;5;241m.\u001b[39mshape\n",
      "File \u001b[0;32m~/anaconda3/envs/py310/lib/python3.10/site-packages/tensorflow/python/util/traceback_utils.py:153\u001b[0m, in \u001b[0;36mfilter_traceback.<locals>.error_handler\u001b[0;34m(*args, **kwargs)\u001b[0m\n\u001b[1;32m    151\u001b[0m \u001b[38;5;28;01mexcept\u001b[39;00m \u001b[38;5;167;01mException\u001b[39;00m \u001b[38;5;28;01mas\u001b[39;00m e:\n\u001b[1;32m    152\u001b[0m   filtered_tb \u001b[38;5;241m=\u001b[39m _process_traceback_frames(e\u001b[38;5;241m.\u001b[39m__traceback__)\n\u001b[0;32m--> 153\u001b[0m   \u001b[38;5;28;01mraise\u001b[39;00m e\u001b[38;5;241m.\u001b[39mwith_traceback(filtered_tb) \u001b[38;5;28;01mfrom\u001b[39;00m \u001b[38;5;28mNone\u001b[39m\n\u001b[1;32m    154\u001b[0m \u001b[38;5;28;01mfinally\u001b[39;00m:\n\u001b[1;32m    155\u001b[0m   \u001b[38;5;28;01mdel\u001b[39;00m filtered_tb\n",
      "File \u001b[0;32m~/anaconda3/envs/py310/lib/python3.10/site-packages/tensorflow/python/framework/ops.py:7107\u001b[0m, in \u001b[0;36mraise_from_not_ok_status\u001b[0;34m(e, name)\u001b[0m\n\u001b[1;32m   7105\u001b[0m \u001b[38;5;28;01mdef\u001b[39;00m \u001b[38;5;21mraise_from_not_ok_status\u001b[39m(e, name):\n\u001b[1;32m   7106\u001b[0m   e\u001b[38;5;241m.\u001b[39mmessage \u001b[38;5;241m+\u001b[39m\u001b[38;5;241m=\u001b[39m (\u001b[38;5;124m\"\u001b[39m\u001b[38;5;124m name: \u001b[39m\u001b[38;5;124m\"\u001b[39m \u001b[38;5;241m+\u001b[39m name \u001b[38;5;28;01mif\u001b[39;00m name \u001b[38;5;129;01mis\u001b[39;00m \u001b[38;5;129;01mnot\u001b[39;00m \u001b[38;5;28;01mNone\u001b[39;00m \u001b[38;5;28;01melse\u001b[39;00m \u001b[38;5;124m\"\u001b[39m\u001b[38;5;124m\"\u001b[39m)\n\u001b[0;32m-> 7107\u001b[0m   \u001b[38;5;28;01mraise\u001b[39;00m core\u001b[38;5;241m.\u001b[39m_status_to_exception(e) \u001b[38;5;28;01mfrom\u001b[39;00m \u001b[38;5;28mNone\u001b[39m\n",
      "\u001b[0;31mInvalidArgumentError\u001b[0m: ConcatOp : Expected concatenating dimensions in the range [-1, 1), but got 1 [Op:ConcatV2] name: concat"
     ]
    }
   ],
   "source": [
    "tf.concat([a,b], axis=1).shape"
   ]
  },
  {
   "cell_type": "markdown",
   "id": "fd8402bf-ccef-414e-a574-22524b02b593",
   "metadata": {
    "id": "fd8402bf-ccef-414e-a574-22524b02b593"
   },
   "source": [
    "#### tf.stack "
   ]
  },
  {
   "cell_type": "markdown",
   "id": "cae2eaec-fc16-4a79-a9d6-9a3884b47533",
   "metadata": {},
   "source": [
    "`-` 위에서 못한 거 stack으로 가능!"
   ]
  },
  {
   "cell_type": "code",
   "execution_count": 234,
   "id": "b1714a12-3e92-439e-a1df-100f9be2fc6c",
   "metadata": {},
   "outputs": [
    {
     "data": {
      "text/plain": [
       "(<tf.Tensor: shape=(4,), dtype=int32, numpy=array([1, 2, 3, 4], dtype=int32)>,\n",
       " <tf.Tensor: shape=(4,), dtype=int32, numpy=array([-1, -2, -3, -4], dtype=int32)>)"
      ]
     },
     "execution_count": 234,
     "metadata": {},
     "output_type": "execute_result"
    }
   ],
   "source": [
    "a=tf.constant([1,2,3,4])\n",
    "b=-a\n",
    "a,b"
   ]
  },
  {
   "cell_type": "code",
   "execution_count": 243,
   "id": "4c5cbef7-2e1d-494e-886c-a9131ad8e77b",
   "metadata": {},
   "outputs": [
    {
     "data": {
      "text/plain": [
       "<tf.Tensor: shape=(2, 4), dtype=int32, numpy=\n",
       "array([[ 1,  2,  3,  4],\n",
       "       [-1, -2, -3, -4]], dtype=int32)>"
      ]
     },
     "execution_count": 243,
     "metadata": {},
     "output_type": "execute_result"
    }
   ],
   "source": [
    "tf.stack([a,b])  #근데 2X4 매트릭스다. 왜냐면 디폴트가 axis=0여서"
   ]
  },
  {
   "cell_type": "code",
   "execution_count": 244,
   "id": "628c2dfa-3682-42c9-8f91-ecc4a06170f3",
   "metadata": {},
   "outputs": [
    {
     "data": {
      "text/plain": [
       "<tf.Tensor: shape=(4, 2), dtype=int32, numpy=\n",
       "array([[ 1, -1],\n",
       "       [ 2, -2],\n",
       "       [ 3, -3],\n",
       "       [ 4, -4]], dtype=int32)>"
      ]
     },
     "execution_count": 244,
     "metadata": {},
     "output_type": "execute_result"
    }
   ],
   "source": [
    "tf.stack([a,b], axis=1) "
   ]
  },
  {
   "cell_type": "markdown",
   "id": "2851b20f-935b-492f-a222-090400359399",
   "metadata": {},
   "source": [
    "- concat은 매트릭스를 합치면 매트릭스가 나온다. 벡터를 합쳐서 매트릭스 안 됨.\n",
    "- 하지만 stack은 벡터 합쳐서 매트릭스가 가능함."
   ]
  },
  {
   "cell_type": "markdown",
   "id": "d314cfb7-f3f1-496d-b5cb-ac6f57eaa503",
   "metadata": {
    "id": "d314cfb7-f3f1-496d-b5cb-ac6f57eaa503"
   },
   "source": [
    "### tnp"
   ]
  },
  {
   "cell_type": "markdown",
   "id": "04e41c7b-117b-4fa5-8789-d4a0b65c8513",
   "metadata": {},
   "source": [
    "> tnp = tensorflow+numpy"
   ]
  },
  {
   "cell_type": "markdown",
   "id": "027c2505-0a1b-432a-8ca2-b20d44b79db6",
   "metadata": {},
   "source": [
    "`-` 텐서 만들기가 너무 힘듦."
   ]
  },
  {
   "cell_type": "code",
   "execution_count": 251,
   "id": "44fa39ab-7a10-46c1-98ae-041b60a4e1a6",
   "metadata": {},
   "outputs": [
    {
     "data": {
      "text/plain": [
       "array([1, 0, 0, 0, 2, 0, 0, 0, 3])"
      ]
     },
     "execution_count": 251,
     "metadata": {},
     "output_type": "execute_result"
    }
   ],
   "source": [
    "np.diag([1,2,3]).reshape(-1)"
   ]
  },
  {
   "cell_type": "markdown",
   "id": "de010dbc-4294-4a4f-a861-c13799fe1eb6",
   "metadata": {
    "id": "de010dbc-4294-4a4f-a861-c13799fe1eb6"
   },
   "source": [
    "#### tnp 사용방법 (불만해결방법)"
   ]
  },
  {
   "cell_type": "code",
   "execution_count": 245,
   "id": "f9f69527-b64f-42f5-94b5-893b69c79828",
   "metadata": {},
   "outputs": [],
   "source": [
    "import tensorflow.experimental.numpy as tnp"
   ]
  },
  {
   "cell_type": "code",
   "execution_count": 247,
   "id": "9a4f6087-5974-4ed7-bd48-b16f263cd3a0",
   "metadata": {},
   "outputs": [],
   "source": [
    "tnp.experimental_enable_numpy_behavior()  #동작을 위한 모드를 키는? "
   ]
  },
  {
   "cell_type": "code",
   "execution_count": 249,
   "id": "d2683df0-7c78-4e28-9ce8-49c5589753e7",
   "metadata": {},
   "outputs": [
    {
     "data": {
      "text/plain": [
       "tensorflow.python.framework.ops.EagerTensor"
      ]
     },
     "execution_count": 249,
     "metadata": {},
     "output_type": "execute_result"
    }
   ],
   "source": [
    "type(tnp.array([1,2,3]))"
   ]
  },
  {
   "cell_type": "markdown",
   "id": "d224ebc4-36d3-4142-93d7-e234e81636ea",
   "metadata": {},
   "source": [
    "`-` `int`와 `float`을 더할 수 있음."
   ]
  },
  {
   "cell_type": "code",
   "execution_count": 252,
   "id": "a86c3d6b-7eb2-42c9-be56-238e3a376a9d",
   "metadata": {},
   "outputs": [
    {
     "data": {
      "text/plain": [
       "<tf.Tensor: shape=(3,), dtype=float64, numpy=array([2., 4., 6.])>"
      ]
     },
     "execution_count": 252,
     "metadata": {},
     "output_type": "execute_result"
    }
   ],
   "source": [
    "tnp.array([1,2,3])+tnp.array([1.0,2.0,3.0])"
   ]
  },
  {
   "cell_type": "code",
   "execution_count": 255,
   "id": "13ed99b4-1274-40e4-b59d-536ec09343ca",
   "metadata": {},
   "outputs": [
    {
     "data": {
      "text/plain": [
       "<tf.Tensor: shape=(3,), dtype=float64, numpy=array([2., 3., 4.])>"
      ]
     },
     "execution_count": 255,
     "metadata": {},
     "output_type": "execute_result"
    }
   ],
   "source": [
    "tnp.array(1)+tnp.array([1.0,2.0,3.0])  #브로드캐스팅 다름(차원이 달라도 계산 가능)"
   ]
  },
  {
   "cell_type": "code",
   "execution_count": 257,
   "id": "b24c8413-50cc-4884-bcae-87ccba4ccc15",
   "metadata": {},
   "outputs": [
    {
     "data": {
      "text/plain": [
       "<tf.Tensor: shape=(3,), dtype=float64, numpy=array([2., 4., 6.])>"
      ]
     },
     "execution_count": 257,
     "metadata": {},
     "output_type": "execute_result"
    }
   ],
   "source": [
    "tf.constant([1,2,3])+tf.constant([1.0,2.0,3.0])  #원래 안되던 것도 모드를 키면 넘파이처럼 동작함"
   ]
  },
  {
   "cell_type": "code",
   "execution_count": 258,
   "id": "ae6a23c0-2bc2-42fc-982c-cde29be32d6f",
   "metadata": {},
   "outputs": [
    {
     "data": {
      "text/plain": [
       "<tf.Tensor: shape=(3, 3), dtype=int64, numpy=\n",
       "array([[1, 0, 0],\n",
       "       [0, 2, 0],\n",
       "       [0, 0, 3]])>"
      ]
     },
     "execution_count": 258,
     "metadata": {},
     "output_type": "execute_result"
    }
   ],
   "source": [
    "tnp.diag([1,2,3])"
   ]
  },
  {
   "cell_type": "code",
   "execution_count": 261,
   "id": "69ff812b-8761-4f95-9a63-546b7f40ae57",
   "metadata": {},
   "outputs": [
    {
     "data": {
      "text/plain": [
       "tensorflow.python.framework.ops.EagerTensor"
      ]
     },
     "execution_count": 261,
     "metadata": {},
     "output_type": "execute_result"
    }
   ],
   "source": [
    "a=tnp.diag([1,2,3])\n",
    "type(a)  #텐서 그대로 나옴"
   ]
  },
  {
   "cell_type": "code",
   "execution_count": 263,
   "id": "ec5fcb8f-9c66-4ab7-8d5a-21d89cf696bc",
   "metadata": {},
   "outputs": [
    {
     "data": {
      "text/plain": [
       "<tf.Tensor: shape=(), dtype=int64, numpy=0>"
      ]
     },
     "execution_count": 263,
     "metadata": {},
     "output_type": "execute_result"
    }
   ],
   "source": [
    "a.min()   #최소값 찾기"
   ]
  },
  {
   "cell_type": "code",
   "execution_count": 265,
   "id": "ee0a06ff-4c06-41e8-9da6-7541857c76ba",
   "metadata": {},
   "outputs": [
    {
     "data": {
      "text/plain": [
       "<tf.Tensor: shape=(9,), dtype=int64, numpy=array([1, 0, 0, 0, 2, 0, 0, 0, 3])>"
      ]
     },
     "execution_count": 265,
     "metadata": {},
     "output_type": "execute_result"
    }
   ],
   "source": [
    "a.reshape(-1)"
   ]
  },
  {
   "cell_type": "code",
   "execution_count": 266,
   "id": "37202fe4-1d30-4a54-bfe8-f9ea091facfb",
   "metadata": {},
   "outputs": [
    {
     "data": {
      "text/plain": [
       "<tf.Tensor: shape=(3, 1), dtype=int32, numpy=\n",
       "array([[1],\n",
       "       [2],\n",
       "       [3]], dtype=int32)>"
      ]
     },
     "execution_count": 266,
     "metadata": {},
     "output_type": "execute_result"
    }
   ],
   "source": [
    "a=tf.constant([1,2,3])\n",
    "a.reshape(3,1)"
   ]
  },
  {
   "cell_type": "markdown",
   "id": "a7e4538a-52ff-4f84-8ac9-5381e0970fef",
   "metadata": {
    "id": "a7e4538a-52ff-4f84-8ac9-5381e0970fef"
   },
   "source": [
    "#### **선언, 선언고급**"
   ]
  },
  {
   "cell_type": "code",
   "execution_count": 268,
   "id": "273f7316-7590-4010-9d1d-9105f2392e60",
   "metadata": {},
   "outputs": [
    {
     "data": {
      "text/plain": [
       "array([ 0.449788  ,  1.9891379 , -0.47806401,  1.23461833, -0.64734895])"
      ]
     },
     "execution_count": 268,
     "metadata": {},
     "output_type": "execute_result"
    }
   ],
   "source": [
    "np.random.randn(5)  #정규분포에서 뽑기"
   ]
  },
  {
   "cell_type": "code",
   "execution_count": 269,
   "id": "6926475b-a82a-4be2-9268-63436a720686",
   "metadata": {},
   "outputs": [
    {
     "data": {
      "text/plain": [
       "<tf.Tensor: shape=(5,), dtype=float64, numpy=array([-0.20001553,  0.93705984, -0.64863757,  1.26619036, -0.23964021])>"
      ]
     },
     "execution_count": 269,
     "metadata": {},
     "output_type": "execute_result"
    }
   ],
   "source": [
    "tnp.random.randn(5)"
   ]
  },
  {
   "cell_type": "markdown",
   "id": "c1a84f81-fff4-4a5a-b8b2-8045ba3943fe",
   "metadata": {
    "id": "c1a84f81-fff4-4a5a-b8b2-8045ba3943fe"
   },
   "source": [
    "#### 타입"
   ]
  },
  {
   "cell_type": "code",
   "execution_count": 270,
   "id": "6c50ee94-d3d6-4e41-95b2-600f42bcc04b",
   "metadata": {},
   "outputs": [
    {
     "data": {
      "text/plain": [
       "tensorflow.python.framework.ops.EagerTensor"
      ]
     },
     "execution_count": 270,
     "metadata": {},
     "output_type": "execute_result"
    }
   ],
   "source": [
    "type(tnp.random.randn(5))"
   ]
  },
  {
   "cell_type": "markdown",
   "id": "bb759864-ef75-4ba0-9a11-d10cca6669f3",
   "metadata": {
    "id": "bb759864-ef75-4ba0-9a11-d10cca6669f3"
   },
   "source": [
    "#### tf.contant로 만들어도 마치 넘파이인듯 쓰는 기능들"
   ]
  },
  {
   "cell_type": "markdown",
   "id": "0c7e2d5a-5200-4c4a-a5d0-79999e86d9bf",
   "metadata": {},
   "source": [
    "**[장점들]**\n",
    "\n",
    "`-` 묵시적 형변환이 가능 -> `int` + `float` 계산 가능!\n",
    "\n",
    "`-` `method`의 종류가 아주 많아졌다는 것! -> `.`을 찍어 실행하는 것들\n"
   ]
  },
  {
   "cell_type": "code",
   "execution_count": 273,
   "id": "57a653bb-f3d5-4915-bf86-46042fb600ed",
   "metadata": {},
   "outputs": [
    {
     "data": {
      "text/plain": [
       "<tf.Tensor: shape=(4, 1), dtype=int64, numpy=\n",
       "array([[1],\n",
       "       [2],\n",
       "       [3],\n",
       "       [4]])>"
      ]
     },
     "execution_count": 273,
     "metadata": {},
     "output_type": "execute_result"
    }
   ],
   "source": [
    "a=tnp.array([[1,2,3,4]])\n",
    "a.T"
   ]
  },
  {
   "cell_type": "markdown",
   "id": "8426767e-976c-4e35-a390-7f2943ec4e8d",
   "metadata": {
    "id": "8426767e-976c-4e35-a390-7f2943ec4e8d"
   },
   "source": [
    "#### 그렇지만 np.array는 아님 "
   ]
  },
  {
   "cell_type": "code",
   "execution_count": 274,
   "id": "4c2b08a3-407d-4ea9-805b-e8ad01d623f7",
   "metadata": {},
   "outputs": [],
   "source": [
    "a=tf.constant([1,2,3])"
   ]
  },
  {
   "cell_type": "code",
   "execution_count": 275,
   "id": "1cb70c81-df81-4bb3-942e-eb91c9bcb179",
   "metadata": {},
   "outputs": [
    {
     "data": {
      "text/plain": [
       "<tf.Tensor: shape=(3, 1), dtype=int32, numpy=\n",
       "array([[1],\n",
       "       [2],\n",
       "       [3]], dtype=int32)>"
      ]
     },
     "execution_count": 275,
     "metadata": {},
     "output_type": "execute_result"
    }
   ],
   "source": [
    "a.reshape(3,1)"
   ]
  },
  {
   "cell_type": "markdown",
   "id": "6b649a28-88b2-4fc3-89c2-b0cb0f22c3da",
   "metadata": {},
   "source": [
    "- 여기까지는 잘 실행된다.\n",
    "- 하지만"
   ]
  },
  {
   "cell_type": "code",
   "execution_count": 276,
   "id": "747c8a22-1bb6-4d5e-8fe7-cac6cb86d0d7",
   "metadata": {},
   "outputs": [
    {
     "ename": "TypeError",
     "evalue": "'tensorflow.python.framework.ops.EagerTensor' object does not support item assignment",
     "output_type": "error",
     "traceback": [
      "\u001b[0;31m---------------------------------------------------------------------------\u001b[0m",
      "\u001b[0;31mTypeError\u001b[0m                                 Traceback (most recent call last)",
      "Input \u001b[0;32mIn [276]\u001b[0m, in \u001b[0;36m<cell line: 1>\u001b[0;34m()\u001b[0m\n\u001b[0;32m----> 1\u001b[0m a[\u001b[38;5;241m0\u001b[39m]\u001b[38;5;241m=\u001b[39m\u001b[38;5;241m11\u001b[39m\n",
      "\u001b[0;31mTypeError\u001b[0m: 'tensorflow.python.framework.ops.EagerTensor' object does not support item assignment"
     ]
    }
   ],
   "source": [
    "a[0]=11"
   ]
  },
  {
   "cell_type": "markdown",
   "id": "fbfd14eb-bae2-4f62-9677-fa168e9e1ae6",
   "metadata": {},
   "source": [
    "- 값 바꾸기는 여전히 안 됨."
   ]
  }
 ],
 "metadata": {
  "colab": {
   "name": "2022-03-14-(2주차) 3월14일.ipynb",
   "provenance": []
  },
  "kernelspec": {
   "display_name": "Python 3 (ipykernel)",
   "language": "python",
   "name": "python3"
  },
  "language_info": {
   "codemirror_mode": {
    "name": "ipython",
    "version": 3
   },
   "file_extension": ".py",
   "mimetype": "text/x-python",
   "name": "python",
   "nbconvert_exporter": "python",
   "pygments_lexer": "ipython3",
   "version": "3.8.12"
  }
 },
 "nbformat": 4,
 "nbformat_minor": 5
}
