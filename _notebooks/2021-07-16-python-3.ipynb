{
 "cells": [
  {
   "cell_type": "markdown",
   "id": "8b872944-94d1-43ae-ad62-2c8743ed64e7",
   "metadata": {},
   "source": [
    "# (공부) 파이썬 객체 소개_numpy\n",
    "> 작성완료\n",
    "\n",
    "- toc:true\n",
    "- branch: master\n",
    "- badges: true\n",
    "- comments: true\n",
    "- author: kimha02\n",
    "- categories: [Python]"
   ]
  },
  {
   "cell_type": "markdown",
   "id": "c33c304c-42c9-414d-983e-f7902ba1a327",
   "metadata": {},
   "source": [
    "### `np.array` "
   ]
  },
  {
   "cell_type": "markdown",
   "id": "3eead922-73de-4f01-9359-1f2f307dbad2",
   "metadata": {},
   "source": [
    "`욕심`: `(1,2,3)+(2,3,4)=(3,5,7)`를 계산하고 싶다. "
   ]
  },
  {
   "cell_type": "markdown",
   "id": "663adcd1-c68e-403a-b794-7ae01c7d13cf",
   "metadata": {},
   "source": [
    "(실패)"
   ]
  },
  {
   "cell_type": "code",
   "execution_count": 3,
   "id": "ef75b1ff-2dd5-49f3-8290-cae90eda8070",
   "metadata": {},
   "outputs": [
    {
     "data": {
      "text/plain": [
       "[1, 2, 3, 2, 3, 4]"
      ]
     },
     "execution_count": 3,
     "metadata": {},
     "output_type": "execute_result"
    }
   ],
   "source": [
    "a=[1,2,3]\n",
    "b=[2,3,4]\n",
    "a+b"
   ]
  },
  {
   "cell_type": "markdown",
   "id": "783c737d-7e20-4b76-ab7a-bc53bb2cd066",
   "metadata": {},
   "source": [
    "(성공)"
   ]
  },
  {
   "cell_type": "code",
   "execution_count": 89,
   "id": "81ea54dd-596b-4df1-ac4d-588186c1bca3",
   "metadata": {},
   "outputs": [
    {
     "data": {
      "text/plain": [
       "[3, 5, 7]"
      ]
     },
     "execution_count": 89,
     "metadata": {},
     "output_type": "execute_result"
    }
   ],
   "source": [
    "[a[0]+b[0],a[1]+b[1],a[2]+b[2]]"
   ]
  },
  {
   "cell_type": "markdown",
   "id": "6a7c0f30-8006-41a6-8a43-c688a165e65d",
   "metadata": {},
   "source": [
    "(성공2)"
   ]
  },
  {
   "cell_type": "code",
   "execution_count": 91,
   "id": "f7c60200-4ac8-494a-a45c-0b65f6f361bb",
   "metadata": {},
   "outputs": [
    {
     "data": {
      "text/plain": [
       "(3, 5, 7)"
      ]
     },
     "execution_count": 91,
     "metadata": {},
     "output_type": "execute_result"
    }
   ],
   "source": [
    "a[0]+b[0],a[1]+b[1],a[2]+b[2]"
   ]
  },
  {
   "cell_type": "code",
   "execution_count": 92,
   "id": "c00f7d98-e412-4e2f-8a76-195a246efb5b",
   "metadata": {},
   "outputs": [],
   "source": [
    "temp_ = a[0]+b[0],a[1]+b[1],a[2]+b[2]"
   ]
  },
  {
   "cell_type": "code",
   "execution_count": 93,
   "id": "27c90d9b-adb5-4479-a803-37a913e5ac0c",
   "metadata": {},
   "outputs": [
    {
     "data": {
      "text/plain": [
       "(3, 5, 7)"
      ]
     },
     "execution_count": 93,
     "metadata": {},
     "output_type": "execute_result"
    }
   ],
   "source": [
    "temp_"
   ]
  },
  {
   "cell_type": "code",
   "execution_count": 94,
   "id": "46cc12a6-7fb5-43d4-970a-27fbe34576d6",
   "metadata": {},
   "outputs": [
    {
     "data": {
      "text/plain": [
       "[3, 5, 7]"
      ]
     },
     "execution_count": 94,
     "metadata": {},
     "output_type": "execute_result"
    }
   ],
   "source": [
    "list(temp_)"
   ]
  },
  {
   "cell_type": "markdown",
   "id": "0e5b244d-0d25-4fb5-ba28-35f8c01affe5",
   "metadata": {},
   "source": [
    "-------"
   ]
  },
  {
   "cell_type": "markdown",
   "id": "a94c2ec7-e93d-4c0a-99c3-f76173bd0858",
   "metadata": {},
   "source": [
    "- 원소가 많을 경우"
   ]
  },
  {
   "cell_type": "markdown",
   "id": "1682f082-a54b-484f-aa64-3e72d1f69ee3",
   "metadata": {},
   "source": [
    "(실패)"
   ]
  },
  {
   "cell_type": "code",
   "execution_count": 4,
   "id": "e386c32f-9f4a-4641-8394-2bb2f0ba5ad2",
   "metadata": {},
   "outputs": [
    {
     "ename": "IndexError",
     "evalue": "list assignment index out of range",
     "output_type": "error",
     "traceback": [
      "\u001b[0;31m---------------------------------------------------------------------------\u001b[0m",
      "\u001b[0;31mIndexError\u001b[0m                                Traceback (most recent call last)",
      "\u001b[0;32m<ipython-input-4-4af7fca0a837>\u001b[0m in \u001b[0;36m<module>\u001b[0;34m\u001b[0m\n\u001b[1;32m      1\u001b[0m \u001b[0mc\u001b[0m\u001b[0;34m=\u001b[0m\u001b[0;34m[\u001b[0m\u001b[0;34m]\u001b[0m\u001b[0;34m\u001b[0m\u001b[0;34m\u001b[0m\u001b[0m\n\u001b[1;32m      2\u001b[0m \u001b[0;32mfor\u001b[0m \u001b[0mi\u001b[0m \u001b[0;32min\u001b[0m \u001b[0;34m[\u001b[0m\u001b[0;36m0\u001b[0m\u001b[0;34m,\u001b[0m\u001b[0;36m1\u001b[0m\u001b[0;34m,\u001b[0m\u001b[0;36m2\u001b[0m\u001b[0;34m]\u001b[0m\u001b[0;34m:\u001b[0m\u001b[0;34m\u001b[0m\u001b[0;34m\u001b[0m\u001b[0m\n\u001b[0;32m----> 3\u001b[0;31m     \u001b[0mc\u001b[0m\u001b[0;34m[\u001b[0m\u001b[0mi\u001b[0m\u001b[0;34m]\u001b[0m\u001b[0;34m=\u001b[0m\u001b[0ma\u001b[0m\u001b[0;34m[\u001b[0m\u001b[0mi\u001b[0m\u001b[0;34m]\u001b[0m\u001b[0;34m+\u001b[0m\u001b[0mb\u001b[0m\u001b[0;34m[\u001b[0m\u001b[0mi\u001b[0m\u001b[0;34m]\u001b[0m\u001b[0;34m\u001b[0m\u001b[0;34m\u001b[0m\u001b[0m\n\u001b[0m",
      "\u001b[0;31mIndexError\u001b[0m: list assignment index out of range"
     ]
    }
   ],
   "source": [
    "c=[]\n",
    "for i in [0,1,2]:\n",
    "    c[i]=a[i]+b[i]"
   ]
  },
  {
   "cell_type": "code",
   "execution_count": 5,
   "id": "91beed5d-b0ab-4748-aecb-25ae8e64db4a",
   "metadata": {},
   "outputs": [
    {
     "ename": "IndexError",
     "evalue": "list assignment index out of range",
     "output_type": "error",
     "traceback": [
      "\u001b[0;31m---------------------------------------------------------------------------\u001b[0m",
      "\u001b[0;31mIndexError\u001b[0m                                Traceback (most recent call last)",
      "\u001b[0;32m<ipython-input-5-7a51dc8f9a26>\u001b[0m in \u001b[0;36m<module>\u001b[0;34m\u001b[0m\n\u001b[1;32m      1\u001b[0m \u001b[0mc\u001b[0m\u001b[0;34m=\u001b[0m\u001b[0;34m[\u001b[0m\u001b[0;34m]\u001b[0m\u001b[0;34m\u001b[0m\u001b[0;34m\u001b[0m\u001b[0m\n\u001b[0;32m----> 2\u001b[0;31m \u001b[0mc\u001b[0m\u001b[0;34m[\u001b[0m\u001b[0;36m0\u001b[0m\u001b[0;34m]\u001b[0m\u001b[0;34m=\u001b[0m\u001b[0;36m1\u001b[0m\u001b[0;34m\u001b[0m\u001b[0;34m\u001b[0m\u001b[0m\n\u001b[0m",
      "\u001b[0;31mIndexError\u001b[0m: list assignment index out of range"
     ]
    }
   ],
   "source": [
    "c=[]\n",
    "c[0]=1"
   ]
  },
  {
   "cell_type": "code",
   "execution_count": 6,
   "id": "a20cedc4-809b-4316-a682-9b397213054d",
   "metadata": {},
   "outputs": [],
   "source": [
    "c=[]\n",
    "c=c+[1]"
   ]
  },
  {
   "cell_type": "code",
   "execution_count": 104,
   "id": "e863ed8e-5e71-4ec8-9a3e-dd73f22ceaeb",
   "metadata": {},
   "outputs": [
    {
     "data": {
      "text/plain": [
       "[1]"
      ]
     },
     "execution_count": 104,
     "metadata": {},
     "output_type": "execute_result"
    }
   ],
   "source": [
    "c"
   ]
  },
  {
   "cell_type": "markdown",
   "id": "75ded0aa-2bcf-4592-b6fe-338980267ee5",
   "metadata": {},
   "source": [
    "(성공)"
   ]
  },
  {
   "cell_type": "code",
   "execution_count": 105,
   "id": "da85f7ae-b1e2-432e-bd93-91c08a94e8e8",
   "metadata": {},
   "outputs": [],
   "source": [
    "c=[]\n",
    "for i in [0,1,2]:\n",
    "    c=c+[a[i]+b[i]]"
   ]
  },
  {
   "cell_type": "code",
   "execution_count": 106,
   "id": "c42656d4-8655-4de9-b3e0-a42474253587",
   "metadata": {},
   "outputs": [
    {
     "data": {
      "text/plain": [
       "[3, 5, 7]"
      ]
     },
     "execution_count": 106,
     "metadata": {},
     "output_type": "execute_result"
    }
   ],
   "source": [
    "c"
   ]
  },
  {
   "cell_type": "markdown",
   "id": "8d1cdda9-06b7-427d-afcb-e6d7afd355a2",
   "metadata": {},
   "source": [
    "(성공)"
   ]
  },
  {
   "cell_type": "code",
   "execution_count": 108,
   "id": "e8c59e49-fc84-4351-b2e9-bc9f5b4a47d3",
   "metadata": {},
   "outputs": [],
   "source": [
    "a=[1,2,3]\n",
    "b=[2,3,4]\n",
    "c=[a[i]+b[i] for i in [0,1,2]]"
   ]
  },
  {
   "cell_type": "code",
   "execution_count": 109,
   "id": "56c8503a-990b-407a-8ad1-33c800ff36f5",
   "metadata": {},
   "outputs": [
    {
     "data": {
      "text/plain": [
       "[3, 5, 7]"
      ]
     },
     "execution_count": 109,
     "metadata": {},
     "output_type": "execute_result"
    }
   ],
   "source": [
    "c"
   ]
  },
  {
   "cell_type": "markdown",
   "id": "ca8c9c6f-b6bb-4a86-beff-7ec0c5246d89",
   "metadata": {},
   "source": [
    "--------"
   ]
  },
  {
   "cell_type": "markdown",
   "id": "c146d17e-52f4-4dce-9235-596d36ad9fdf",
   "metadata": {},
   "source": [
    "**- `np array` 사용**"
   ]
  },
  {
   "cell_type": "code",
   "execution_count": 88,
   "id": "239b644e-2913-4112-b9e6-2c7d574d9783",
   "metadata": {},
   "outputs": [],
   "source": [
    "import numpy as np # np는 별칭(맨날 치기 귀찮으니까)"
   ]
  },
  {
   "cell_type": "code",
   "execution_count": 80,
   "id": "63a19573-d88f-46f3-a2a7-b167e751ca74",
   "metadata": {},
   "outputs": [],
   "source": [
    "a=np.array((1,2,3))  #우리가 생각하는 벡터 형태, 리스트와 약간 다름!\n",
    "b=np.array([2,3,4])"
   ]
  },
  {
   "cell_type": "code",
   "execution_count": 81,
   "id": "9ac6e2e9-7c71-4e34-ad55-a5b11aa71dd0",
   "metadata": {},
   "outputs": [
    {
     "data": {
      "text/plain": [
       "array([3, 5, 7])"
      ]
     },
     "execution_count": 81,
     "metadata": {},
     "output_type": "execute_result"
    }
   ],
   "source": [
    "a+b"
   ]
  },
  {
   "cell_type": "markdown",
   "id": "5906261c-d0c7-4304-99ea-6ebfeb1a40ec",
   "metadata": {},
   "source": [
    "`list` - `tuple` - `np.array`사이에는 호환성이 좋음 "
   ]
  },
  {
   "cell_type": "code",
   "execution_count": 4,
   "id": "a9b4518a-270e-4f97-b429-69b59fbbd4f0",
   "metadata": {},
   "outputs": [],
   "source": [
    "a=[1,2,3]"
   ]
  },
  {
   "cell_type": "code",
   "execution_count": 5,
   "id": "be1e2e9f-88b1-4669-896e-a048bba4affd",
   "metadata": {},
   "outputs": [
    {
     "data": {
      "text/plain": [
       "[1, 2, 3]"
      ]
     },
     "execution_count": 5,
     "metadata": {},
     "output_type": "execute_result"
    }
   ],
   "source": [
    "list(np.array(tuple(a)))"
   ]
  },
  {
   "cell_type": "markdown",
   "id": "65efb43d-3e2e-4aa1-87d7-7a77105857b5",
   "metadata": {
    "id": "w0-tbxDXOq7h"
   },
   "source": [
    "\n",
    "---\n",
    "넘파이를 사용하면 벡터연산과 행렬연산을 쉽게 할 수 있다. "
   ]
  },
  {
   "cell_type": "markdown",
   "id": "127686d7-361e-4117-8284-8a37cf114cfe",
   "metadata": {
    "id": "zsjvKylnO3Pt"
   },
   "source": [
    "예를들어 아래와 같은 문제가 있다고 하자. \n",
    "\n",
    "$\\begin{cases}\n",
    "w+2x+3y+4z=1 \\\\\n",
    "2w+2x+y=9 \\\\\n",
    "x-y=4 \\\\\n",
    "3w+x-y+3y=7\n",
    "\\end{cases}$"
   ]
  },
  {
   "cell_type": "markdown",
   "id": "86be5929-e352-462f-b2b1-06673cefb452",
   "metadata": {
    "id": "E0hvkAFrPra9"
   },
   "source": [
    "매트릭스 형태로 위의 식을 표현하면 아래와 같다. \n",
    "\n",
    "$\\begin{bmatrix}\n",
    "1 & 2 & 3 & 4 \\\\ \n",
    "2 & 2 & 1 & 0 \\\\\n",
    "0 & 1 &-1 & 0 \\\\\n",
    "3 & 1 &-1 & 3 \n",
    "\\end{bmatrix}\n",
    "\\begin{bmatrix}\n",
    "w \\\\ x \\\\ y \\\\z \n",
    "\\end{bmatrix}=\\begin{bmatrix}\n",
    "1 \\\\ 9 \\\\ 4 \\\\7 \n",
    "\\end{bmatrix}$\n"
   ]
  },
  {
   "cell_type": "markdown",
   "id": "75b9b1e1-71c4-4bcb-8ebc-ecc593080ff7",
   "metadata": {
    "id": "WwCBH6eeQXfx"
   },
   "source": [
    "양변에 $\\begin{bmatrix}\n",
    "1 & 2 & 3 & 4 \\\\ \n",
    "2 & 2 & 1 & 0 \\\\\n",
    "0 & 1 &-1 & 0 \\\\\n",
    "3 & 1 &-1 & 3 \n",
    "\\end{bmatrix}$의 역행렬을 취하면 \n",
    "\n"
   ]
  },
  {
   "cell_type": "markdown",
   "id": "48423535-081e-452a-91bd-8a6ef6057134",
   "metadata": {
    "id": "jSrfqRQQQjpJ"
   },
   "source": [
    "$\\begin{bmatrix}\n",
    "w \\\\ x \\\\ y \\\\z \n",
    "\\end{bmatrix}=\\begin{bmatrix}\n",
    "1 & 2 & 3 & 4 \\\\ \n",
    "2 & 2 & 1 & 0 \\\\\n",
    "0 & 1 &-1 & 0 \\\\\n",
    "3 & 1 &-1 & 3 \n",
    "\\end{bmatrix}^{-1}\\begin{bmatrix}\n",
    "1 \\\\ 9 \\\\ 4 \\\\7 \n",
    "\\end{bmatrix}$"
   ]
  },
  {
   "cell_type": "code",
   "execution_count": 87,
   "id": "00e3b1b8-9e23-4c0a-86f4-54d3b4beeab8",
   "metadata": {
    "id": "ng-cA3dGQiUX"
   },
   "outputs": [],
   "source": [
    "A=[[1,2,3,4],[2,2,1,0],[0,1,-1,0],[3,1,-1,3]]"
   ]
  },
  {
   "cell_type": "code",
   "execution_count": 88,
   "id": "2191b60f-59fe-46ea-b449-942687531837",
   "metadata": {
    "colab": {
     "base_uri": "https://localhost:8080/"
    },
    "id": "EHI8gEwHRsdH",
    "outputId": "d90c5f71-b58c-4d47-a28b-51e87f396ae4"
   },
   "outputs": [
    {
     "data": {
      "text/plain": [
       "[[1, 2, 3, 4], [2, 2, 1, 0], [0, 1, -1, 0], [3, 1, -1, 3]]"
      ]
     },
     "execution_count": 88,
     "metadata": {},
     "output_type": "execute_result"
    }
   ],
   "source": [
    "A"
   ]
  },
  {
   "cell_type": "markdown",
   "id": "ceeca324-316f-473c-a96c-6b14c4643d47",
   "metadata": {
    "id": "Wrdg5lQwSG5i"
   },
   "source": [
    "list로 선언된 A를 np.matrix로 변환"
   ]
  },
  {
   "cell_type": "code",
   "execution_count": 89,
   "id": "bf92737b-ada1-45af-bd27-3ebb258aa935",
   "metadata": {
    "id": "3BAzDQ6bPVpe"
   },
   "outputs": [],
   "source": [
    "Amat=np.matrix(A)"
   ]
  },
  {
   "cell_type": "code",
   "execution_count": 90,
   "id": "e5cd38e0-28d6-42ed-9f2c-9d37e272335f",
   "metadata": {
    "colab": {
     "base_uri": "https://localhost:8080/"
    },
    "id": "fNd1VLJCQ7Ah",
    "outputId": "87483410-b8d3-414d-9231-8cad35cb2214"
   },
   "outputs": [
    {
     "data": {
      "text/plain": [
       "matrix([[ 1,  2,  3,  4],\n",
       "        [ 2,  2,  1,  0],\n",
       "        [ 0,  1, -1,  0],\n",
       "        [ 3,  1, -1,  3]])"
      ]
     },
     "execution_count": 90,
     "metadata": {},
     "output_type": "execute_result"
    }
   ],
   "source": [
    "Amat"
   ]
  },
  {
   "cell_type": "markdown",
   "id": "3e792bcd-23ca-4eb0-b033-15da31c3018e",
   "metadata": {
    "id": "l1Y0emcMSOFA"
   },
   "source": [
    "변환된 매트릭스의 역행렬을 구함."
   ]
  },
  {
   "cell_type": "code",
   "execution_count": 91,
   "id": "9aaded1b-8920-4589-8697-fd88ec69d00c",
   "metadata": {
    "colab": {
     "base_uri": "https://localhost:8080/"
    },
    "id": "N8MXLqZcR02p",
    "outputId": "baf08789-60aa-4caf-9ee6-c3c8eac1d865"
   },
   "outputs": [
    {
     "data": {
      "text/plain": [
       "matrix([[-0.15789474,  0.26315789, -0.42105263,  0.21052632],\n",
       "        [ 0.10526316,  0.15789474,  0.61403509, -0.14035088],\n",
       "        [ 0.10526316,  0.15789474, -0.38596491, -0.14035088],\n",
       "        [ 0.15789474, -0.26315789,  0.0877193 ,  0.12280702]])"
      ]
     },
     "execution_count": 91,
     "metadata": {},
     "output_type": "execute_result"
    }
   ],
   "source": [
    "Amat.I"
   ]
  },
  {
   "cell_type": "code",
   "execution_count": 91,
   "id": "54bc1f6d-73aa-47f8-a07a-615751c7d320",
   "metadata": {
    "id": "AwJt_DuYSASk"
   },
   "outputs": [],
   "source": [
    "b=[1,9,4,7]"
   ]
  },
  {
   "cell_type": "code",
   "execution_count": 92,
   "id": "2c967cc6-106c-4f98-9e92-2c57464cc545",
   "metadata": {
    "id": "mnH9yC8tSWbj"
   },
   "outputs": [],
   "source": [
    "bvec=np.matrix(b)"
   ]
  },
  {
   "cell_type": "code",
   "execution_count": 93,
   "id": "5d147363-6aaa-464e-9d48-2026d250daba",
   "metadata": {
    "colab": {
     "base_uri": "https://localhost:8080/"
    },
    "id": "umlFZJ-sSXDE",
    "outputId": "f59501e6-e59e-48ba-f2bd-45e8e3d7efed"
   },
   "outputs": [
    {
     "data": {
      "text/plain": [
       "matrix([[1, 9, 4, 7]])"
      ]
     },
     "execution_count": 93,
     "metadata": {
      "tags": []
     },
     "output_type": "execute_result"
    }
   ],
   "source": [
    "bvec"
   ]
  },
  {
   "cell_type": "markdown",
   "id": "513aae3d-0c30-4bcd-962f-d22d863817af",
   "metadata": {
    "id": "IOB4OFshSq0y"
   },
   "source": [
    "`bvec`은 $1\\times 4$ 매트릭스가 된 셈. \n",
    "\n",
    "그런데 우리가 원한것은 $4\\times 1$ 매트릭스였음. "
   ]
  },
  {
   "cell_type": "code",
   "execution_count": 94,
   "id": "2e4b24c0-d914-415d-a7a2-2147883229e4",
   "metadata": {
    "colab": {
     "base_uri": "https://localhost:8080/"
    },
    "id": "kIsckLfXScJy",
    "outputId": "df9a4433-3c93-4091-fda6-9b9e2b23cbbf"
   },
   "outputs": [
    {
     "data": {
      "text/plain": [
       "matrix([[1],\n",
       "        [9],\n",
       "        [4],\n",
       "        [7]])"
      ]
     },
     "execution_count": 94,
     "metadata": {
      "tags": []
     },
     "output_type": "execute_result"
    }
   ],
   "source": [
    "bvec=bvec.T\n",
    "bvec"
   ]
  },
  {
   "cell_type": "code",
   "execution_count": 89,
   "id": "f86f5d83-fbe6-4dc5-a1a4-ae7ba35385b2",
   "metadata": {
    "colab": {
     "base_uri": "https://localhost:8080/"
    },
    "id": "SJhgmWIDS3y6",
    "outputId": "4d084e9a-dedf-4a72-d132-0ad7ef9dd81a"
   },
   "outputs": [
    {
     "data": {
      "text/plain": [
       "matrix([[ 2.],\n",
       "        [ 3.],\n",
       "        [-1.],\n",
       "        [-1.]])"
      ]
     },
     "execution_count": 89,
     "metadata": {
      "tags": []
     },
     "output_type": "execute_result"
    }
   ],
   "source": [
    "Amat.I*bvec"
   ]
  },
  {
   "cell_type": "markdown",
   "id": "b7b7099a-c90c-4ae6-812f-3012f278ab20",
   "metadata": {
    "id": "9T1wQYUVUq3i"
   },
   "source": [
    "$\\begin{bmatrix}\n",
    "w \\\\ x \\\\ y \\\\z \n",
    "\\end{bmatrix}=\\begin{bmatrix}\n",
    "1 & 2 & 3 & 4 \\\\ \n",
    "2 & 2 & 1 & 0 \\\\\n",
    "0 & 1 &-1 & 0 \\\\\n",
    "3 & 1 &-1 & 3 \n",
    "\\end{bmatrix}^{-1}\\begin{bmatrix}\n",
    "1 \\\\ 9 \\\\ 4 \\\\7 \n",
    "\\end{bmatrix}=\\begin{bmatrix}\n",
    "2 \\\\ 3 \\\\ -1 \\\\-1 \n",
    "\\end{bmatrix}$"
   ]
  },
  {
   "cell_type": "markdown",
   "id": "ede2379e-3c35-4537-939e-a66c666fe8f0",
   "metadata": {
    "id": "6rsfiV2QT5Ac"
   },
   "source": [
    "따라서 $w=2, x=3, y=-1,z=-1$가 된다. "
   ]
  },
  {
   "cell_type": "markdown",
   "id": "8a80481c-d28f-4da0-9343-c1fe43d16c0e",
   "metadata": {},
   "source": [
    "--------"
   ]
  },
  {
   "cell_type": "markdown",
   "id": "c92ef037-9bf6-4e85-830b-e722e3c57aa3",
   "metadata": {},
   "source": [
    "#### [$\\ast$] 배열 vs 행렬 (`np.array` vs `np.matrix`)"
   ]
  },
  {
   "cell_type": "markdown",
   "id": "21714fc1-5154-4bd0-b03d-2712b68e7a66",
   "metadata": {},
   "source": [
    "아래의 문제를 다시 살펴보자. "
   ]
  },
  {
   "cell_type": "markdown",
   "id": "f73138f2-bbb7-415c-9549-3e9a80cbc13e",
   "metadata": {
    "id": "E0hvkAFrPra9"
   },
   "source": [
    "$\\begin{bmatrix}\n",
    "1 & 2 & 3 & 4 \\\\ \n",
    "2 & 2 & 1 & 0 \\\\\n",
    "0 & 1 &-1 & 0 \\\\\n",
    "3 & 1 &-1 & 3 \n",
    "\\end{bmatrix}\n",
    "\\begin{bmatrix}\n",
    "w \\\\ x \\\\ y \\\\z \n",
    "\\end{bmatrix}=\\begin{bmatrix}\n",
    "1 \\\\ 9 \\\\ 4 \\\\7 \n",
    "\\end{bmatrix}$\n"
   ]
  },
  {
   "cell_type": "markdown",
   "id": "f29ea6c5-3e52-4436-8305-699591edebcf",
   "metadata": {},
   "source": [
    "$(w,x,y,z)$를 풀기위해서는 "
   ]
  },
  {
   "cell_type": "code",
   "execution_count": 109,
   "id": "093a66fc-226a-4f87-9cc0-5f7940356cf6",
   "metadata": {},
   "outputs": [
    {
     "data": {
      "text/plain": [
       "matrix([[ 2.],\n",
       "        [ 3.],\n",
       "        [-1.],\n",
       "        [-1.]])"
      ]
     },
     "execution_count": 109,
     "metadata": {},
     "output_type": "execute_result"
    }
   ],
   "source": [
    "A=[[1,2,3,4],[2,2,1,0],[0,1,-1,0],[3,1,-1,3]]\n",
    "b=[1,9,4,7]\n",
    "Amat=np.matrix(A)\n",
    "bvec=np.matrix(b).T\n",
    "Amat.I * bvec"
   ]
  },
  {
   "cell_type": "markdown",
   "id": "0b2aa2d1-88d9-44d8-8bfa-118f01c6a6af",
   "metadata": {},
   "source": [
    "그런데 아래처럼 구해도 괜찮다. "
   ]
  },
  {
   "cell_type": "code",
   "execution_count": 95,
   "id": "05976456-1b53-4041-bbdd-6107bcba3375",
   "metadata": {},
   "outputs": [
    {
     "data": {
      "text/plain": [
       "array([ 2.,  3., -1., -1.])"
      ]
     },
     "execution_count": 95,
     "metadata": {},
     "output_type": "execute_result"
    }
   ],
   "source": [
    "A=[[1,2,3,4],[2,2,1,0],[0,1,-1,0],[3,1,-1,3]]\n",
    "b=[1,9,4,7]\n",
    "Aarr=np.array(A)\n",
    "barr=np.array(b)\n",
    "np.linalg.inv(Aarr) @barr  # @는 연산자"
   ]
  },
  {
   "cell_type": "markdown",
   "id": "0d279de0-536f-4ec6-824d-a14b2ec9fcbd",
   "metadata": {},
   "source": [
    "`np.linalg.inv()`가 통째로 역행렬을 구하는 함수다."
   ]
  },
  {
   "cell_type": "code",
   "execution_count": 97,
   "id": "5e8f7bd3-8900-428e-93b8-0af7a15ec225",
   "metadata": {},
   "outputs": [
    {
     "data": {
      "text/plain": [
       "array([ 2.,  3., -1., -1.])"
      ]
     },
     "execution_count": 97,
     "metadata": {},
     "output_type": "execute_result"
    }
   ],
   "source": [
    "from numpy.linalg import inv\n",
    "A=[[1,2,3,4],[2,2,1,0],[0,1,-1,0],[3,1,-1,3]]\n",
    "b=[1,9,4,7]\n",
    "Aarr=np.array(A)\n",
    "barr=np.array(b)\n",
    "inv(Aarr) @ barr  # 함수이름이 너무 길어서 줄여봤음"
   ]
  },
  {
   "cell_type": "markdown",
   "id": "a08014ab-fd59-4972-a807-c3bd7f62039f",
   "metadata": {},
   "source": [
    "왜 `np.matrix`를 썼는가? \n",
    "- 행렬곱 \n",
    "- 역행렬계산"
   ]
  },
  {
   "cell_type": "markdown",
   "id": "fcf193cf-fea6-4b56-ab31-2a74c54621b2",
   "metadata": {},
   "source": [
    "`np.matrix`가 진짜 편할까?"
   ]
  },
  {
   "cell_type": "markdown",
   "id": "6add1e32-6742-4f01-aa52-a577f015a99d",
   "metadata": {},
   "source": [
    "**[불만1]** 1차원자료형에 `np.matrix`를 쓰는게 이상하다. "
   ]
  },
  {
   "cell_type": "code",
   "execution_count": 101,
   "id": "da7f44a5-bce4-46fc-9793-ca206c83481e",
   "metadata": {},
   "outputs": [
    {
     "data": {
      "text/plain": [
       "(4,)"
      ]
     },
     "execution_count": 101,
     "metadata": {},
     "output_type": "execute_result"
    }
   ],
   "source": [
    "barr.shape"
   ]
  },
  {
   "cell_type": "code",
   "execution_count": 102,
   "id": "bc1cd04a-f526-4385-877d-6a7cf552c143",
   "metadata": {},
   "outputs": [
    {
     "data": {
      "text/plain": [
       "(4, 1)"
      ]
     },
     "execution_count": 102,
     "metadata": {},
     "output_type": "execute_result"
    }
   ],
   "source": [
    "bvec.shape"
   ]
  },
  {
   "cell_type": "markdown",
   "id": "dd574898-747f-485c-83b0-d2e1fba7f5f9",
   "metadata": {},
   "source": [
    "이럴꺼면 굳이 1차원 자료형인 `np.array`를 왜 만드는지? "
   ]
  },
  {
   "cell_type": "code",
   "execution_count": 103,
   "id": "90ea66f9-b73d-4974-8f0f-7fb2857320d9",
   "metadata": {},
   "outputs": [
    {
     "data": {
      "text/plain": [
       "matrix([[5, 7, 9]])"
      ]
     },
     "execution_count": 103,
     "metadata": {},
     "output_type": "execute_result"
    }
   ],
   "source": [
    "np.matrix([1,2,3])+np.matrix([4,5,6])"
   ]
  },
  {
   "cell_type": "markdown",
   "id": "3f6de87a-c665-4ffd-8292-bfa2485830b2",
   "metadata": {},
   "source": [
    "**[불만2]** 3차원 자료가 있다면 어떻게 표현할래? $\\to$ 확장성이 부족함"
   ]
  },
  {
   "cell_type": "code",
   "execution_count": 16,
   "id": "dd6a076c-3ad9-46c9-892d-400f02460d5c",
   "metadata": {},
   "outputs": [],
   "source": [
    "B=[[[1,2],[2,3],[3,4]],[[3,2],[2,2],[4,1]]]"
   ]
  },
  {
   "cell_type": "code",
   "execution_count": 17,
   "id": "2d0428cf-470f-487f-bb2a-f1b96ab6f14c",
   "metadata": {},
   "outputs": [
    {
     "data": {
      "text/plain": [
       "array([[[101, 102],\n",
       "        [102, 103],\n",
       "        [103, 104]],\n",
       "\n",
       "       [[103, 102],\n",
       "        [102, 102],\n",
       "        [104, 101]]])"
      ]
     },
     "execution_count": 17,
     "metadata": {},
     "output_type": "execute_result"
    }
   ],
   "source": [
    "np.array(B)+100"
   ]
  },
  {
   "cell_type": "code",
   "execution_count": 18,
   "id": "2df5fa8c-8e31-495c-bc3b-f64f254cfccf",
   "metadata": {},
   "outputs": [
    {
     "ename": "ValueError",
     "evalue": "matrix must be 2-dimensional",
     "output_type": "error",
     "traceback": [
      "\u001b[0;31m---------------------------------------------------------------------------\u001b[0m",
      "\u001b[0;31mValueError\u001b[0m                                Traceback (most recent call last)",
      "\u001b[0;32m<ipython-input-18-96c758f88605>\u001b[0m in \u001b[0;36m<module>\u001b[0;34m\u001b[0m\n\u001b[0;32m----> 1\u001b[0;31m \u001b[0mnp\u001b[0m\u001b[0;34m.\u001b[0m\u001b[0mmatrix\u001b[0m\u001b[0;34m(\u001b[0m\u001b[0mB\u001b[0m\u001b[0;34m)\u001b[0m\u001b[0;34m+\u001b[0m\u001b[0;36m100\u001b[0m\u001b[0;34m\u001b[0m\u001b[0;34m\u001b[0m\u001b[0m\n\u001b[0m",
      "\u001b[0;32m~/anaconda3/envs/py38r40/lib/python3.8/site-packages/numpy/matrixlib/defmatrix.py\u001b[0m in \u001b[0;36m__new__\u001b[0;34m(subtype, data, dtype, copy)\u001b[0m\n\u001b[1;32m    147\u001b[0m         \u001b[0mshape\u001b[0m \u001b[0;34m=\u001b[0m \u001b[0marr\u001b[0m\u001b[0;34m.\u001b[0m\u001b[0mshape\u001b[0m\u001b[0;34m\u001b[0m\u001b[0;34m\u001b[0m\u001b[0m\n\u001b[1;32m    148\u001b[0m         \u001b[0;32mif\u001b[0m \u001b[0;34m(\u001b[0m\u001b[0mndim\u001b[0m \u001b[0;34m>\u001b[0m \u001b[0;36m2\u001b[0m\u001b[0;34m)\u001b[0m\u001b[0;34m:\u001b[0m\u001b[0;34m\u001b[0m\u001b[0;34m\u001b[0m\u001b[0m\n\u001b[0;32m--> 149\u001b[0;31m             \u001b[0;32mraise\u001b[0m \u001b[0mValueError\u001b[0m\u001b[0;34m(\u001b[0m\u001b[0;34m\"matrix must be 2-dimensional\"\u001b[0m\u001b[0;34m)\u001b[0m\u001b[0;34m\u001b[0m\u001b[0;34m\u001b[0m\u001b[0m\n\u001b[0m\u001b[1;32m    150\u001b[0m         \u001b[0;32melif\u001b[0m \u001b[0mndim\u001b[0m \u001b[0;34m==\u001b[0m \u001b[0;36m0\u001b[0m\u001b[0;34m:\u001b[0m\u001b[0;34m\u001b[0m\u001b[0;34m\u001b[0m\u001b[0m\n\u001b[1;32m    151\u001b[0m             \u001b[0mshape\u001b[0m \u001b[0;34m=\u001b[0m \u001b[0;34m(\u001b[0m\u001b[0;36m1\u001b[0m\u001b[0;34m,\u001b[0m \u001b[0;36m1\u001b[0m\u001b[0;34m)\u001b[0m\u001b[0;34m\u001b[0m\u001b[0;34m\u001b[0m\u001b[0m\n",
      "\u001b[0;31mValueError\u001b[0m: matrix must be 2-dimensional"
     ]
    }
   ],
   "source": [
    "np.matrix(B)+100  "
   ]
  },
  {
   "cell_type": "markdown",
   "id": "93bfe4ea-48cb-4605-8cb2-77da641a7f0c",
   "metadata": {},
   "source": [
    "**[불만3]** `np.array`, `np.matrix`가 같이 있으면 혼란이 생긴다.  \n",
    "            col-vector, row-vector를 굳이 구분하고 싶지 않다.   "
   ]
  },
  {
   "cell_type": "markdown",
   "id": "2cb35aaa-138a-4eb7-86bc-6599721c3001",
   "metadata": {},
   "source": [
    "내적: $b=\\begin{bmatrix} 1 \\\\ 2 \\\\ 3 \\end{bmatrix}$라는 벡터가 있다고 하자."
   ]
  },
  {
   "cell_type": "markdown",
   "id": "2513dda7-c187-4237-83f5-f0b6d515ed09",
   "metadata": {},
   "source": [
    "벡터의 크기의 제곱: $1^2+2^2+3^2$"
   ]
  },
  {
   "cell_type": "markdown",
   "id": "f041a91c-9e71-47b8-b675-604cf2804f89",
   "metadata": {},
   "source": [
    "벡터의 크기: $\\sqrt{1^2+2^2+3^2}$"
   ]
  },
  {
   "cell_type": "code",
   "execution_count": 20,
   "id": "a81c5bf4-9963-46d5-967a-7bed0a1a37c6",
   "metadata": {},
   "outputs": [],
   "source": [
    "b=[1,2,3]"
   ]
  },
  {
   "cell_type": "code",
   "execution_count": 21,
   "id": "b40c4cd9-e482-4ea1-a955-d3dd14e01291",
   "metadata": {},
   "outputs": [
    {
     "data": {
      "text/plain": [
       "14"
      ]
     },
     "execution_count": 21,
     "metadata": {},
     "output_type": "execute_result"
    }
   ],
   "source": [
    "np.array(b)@np.array(b)"
   ]
  },
  {
   "cell_type": "markdown",
   "id": "03300374-3a54-4b5f-aad0-fea2a119ad91",
   "metadata": {},
   "source": [
    "$b=\\begin{bmatrix} 1 \\\\ 2 \\\\ 3 \\end{bmatrix}$, $b^T=[1,2,3]$"
   ]
  },
  {
   "cell_type": "markdown",
   "id": "c0adad2a-01bb-42ec-81a9-fe70c2905eca",
   "metadata": {},
   "source": [
    "$b^T b=[1,2,3]\\begin{bmatrix} 1 \\\\ 2 \\\\ 3 \\end{bmatrix}=1^2+2^2+3^2=14$\n",
    "\n",
    "$b b^T=\\begin{bmatrix} 1 \\\\ 2 \\\\ 3 \\end{bmatrix}[1,2,3]=\\begin{bmatrix}1 & 2 & 3 \\\\\n",
    "2 & 4 & 6 \\\\ \n",
    "3 & 6 & 9\n",
    "\\end{bmatrix}$"
   ]
  },
  {
   "cell_type": "code",
   "execution_count": 25,
   "id": "168599e1-9982-41ff-805a-d90ae7bb4bdb",
   "metadata": {},
   "outputs": [
    {
     "data": {
      "text/plain": [
       "array([1, 2, 3])"
      ]
     },
     "execution_count": 25,
     "metadata": {},
     "output_type": "execute_result"
    }
   ],
   "source": [
    "b1=np.array(b)\n",
    "b2=np.matrix(b).T\n",
    "b1"
   ]
  },
  {
   "cell_type": "code",
   "execution_count": 26,
   "id": "ebbbb9fc-e0c8-4d8e-9407-5600723ba740",
   "metadata": {},
   "outputs": [
    {
     "data": {
      "text/plain": [
       "matrix([[1],\n",
       "        [2],\n",
       "        [3]])"
      ]
     },
     "execution_count": 26,
     "metadata": {},
     "output_type": "execute_result"
    }
   ],
   "source": [
    "b2"
   ]
  },
  {
   "cell_type": "code",
   "execution_count": 27,
   "id": "fa798466-3e5c-4e3f-b126-48a48c976cce",
   "metadata": {},
   "outputs": [
    {
     "name": "stdout",
     "output_type": "stream",
     "text": [
      "[[14]]\n",
      "[[1 2 3]\n",
      " [2 4 6]\n",
      " [3 6 9]]\n"
     ]
    }
   ],
   "source": [
    "print(b2.T*b2) #... (1)\n",
    "print(b2*b2.T) #... (2)\n",
    "#print(b2*b2) ... (3)\n",
    "#print(b2.T*b2.T) ... (4)"
   ]
  },
  {
   "cell_type": "markdown",
   "id": "93411ed9-82c5-4258-b2f9-ebe01bbdde0a",
   "metadata": {},
   "source": [
    "(1)~(4) 중에 무엇이 맞는 수식인지 따지고 싶지 않다. "
   ]
  },
  {
   "cell_type": "code",
   "execution_count": 28,
   "id": "f8b0065d-f304-45bd-817e-2cc5683738ba",
   "metadata": {},
   "outputs": [
    {
     "data": {
      "text/plain": [
       "14"
      ]
     },
     "execution_count": 28,
     "metadata": {},
     "output_type": "execute_result"
    }
   ],
   "source": [
    "b1@b1 #...(1)\n",
    "b1@b1.T #...(2)\n",
    "b1.T@b1 #...(3)\n",
    "b1.T@b1.T #...(4)"
   ]
  },
  {
   "cell_type": "code",
   "execution_count": 30,
   "id": "ee94e63c-4695-4209-a1cc-0713769f4e10",
   "metadata": {},
   "outputs": [],
   "source": [
    "A=np.array([[1,0],[0,1]])"
   ]
  },
  {
   "cell_type": "code",
   "execution_count": 31,
   "id": "f3326ddb-bfb8-4b66-ad4d-8b735b8e5c1c",
   "metadata": {},
   "outputs": [
    {
     "data": {
      "text/plain": [
       "array([[1, 0],\n",
       "       [0, 1]])"
      ]
     },
     "execution_count": 31,
     "metadata": {},
     "output_type": "execute_result"
    }
   ],
   "source": [
    "A"
   ]
  },
  {
   "cell_type": "code",
   "execution_count": 32,
   "id": "d9fbcc04-4c5a-4e1c-9382-c2b2437f63f9",
   "metadata": {},
   "outputs": [],
   "source": [
    "b=np.matrix([200,300]).T"
   ]
  },
  {
   "cell_type": "code",
   "execution_count": 34,
   "id": "542830d7-6a25-4ddc-ae62-8d42ea0abb37",
   "metadata": {},
   "outputs": [
    {
     "data": {
      "text/plain": [
       "matrix([[200],\n",
       "        [300]])"
      ]
     },
     "execution_count": 34,
     "metadata": {},
     "output_type": "execute_result"
    }
   ],
   "source": [
    "A*b"
   ]
  },
  {
   "cell_type": "code",
   "execution_count": 36,
   "id": "0a44270f-7217-4450-a0ea-de339c962a1c",
   "metadata": {},
   "outputs": [
    {
     "ename": "ValueError",
     "evalue": "shapes (2,1) and (2,2) not aligned: 1 (dim 1) != 2 (dim 0)",
     "output_type": "error",
     "traceback": [
      "\u001b[0;31m---------------------------------------------------------------------------\u001b[0m",
      "\u001b[0;31mValueError\u001b[0m                                Traceback (most recent call last)",
      "\u001b[0;32m<ipython-input-36-865294475ca9>\u001b[0m in \u001b[0;36m<module>\u001b[0;34m\u001b[0m\n\u001b[0;32m----> 1\u001b[0;31m \u001b[0mb\u001b[0m\u001b[0;34m*\u001b[0m\u001b[0mA\u001b[0m   \u001b[0;31m# 위치를 바꿀 때 마다 형태를 변형해줘야 하는 불편함이 있음\u001b[0m\u001b[0;34m\u001b[0m\u001b[0;34m\u001b[0m\u001b[0m\n\u001b[0m",
      "\u001b[0;32m~/anaconda3/envs/py38r40/lib/python3.8/site-packages/numpy/matrixlib/defmatrix.py\u001b[0m in \u001b[0;36m__mul__\u001b[0;34m(self, other)\u001b[0m\n\u001b[1;32m    216\u001b[0m         \u001b[0;32mif\u001b[0m \u001b[0misinstance\u001b[0m\u001b[0;34m(\u001b[0m\u001b[0mother\u001b[0m\u001b[0;34m,\u001b[0m \u001b[0;34m(\u001b[0m\u001b[0mN\u001b[0m\u001b[0;34m.\u001b[0m\u001b[0mndarray\u001b[0m\u001b[0;34m,\u001b[0m \u001b[0mlist\u001b[0m\u001b[0;34m,\u001b[0m \u001b[0mtuple\u001b[0m\u001b[0;34m)\u001b[0m\u001b[0;34m)\u001b[0m \u001b[0;34m:\u001b[0m\u001b[0;34m\u001b[0m\u001b[0;34m\u001b[0m\u001b[0m\n\u001b[1;32m    217\u001b[0m             \u001b[0;31m# This promotes 1-D vectors to row vectors\u001b[0m\u001b[0;34m\u001b[0m\u001b[0;34m\u001b[0m\u001b[0;34m\u001b[0m\u001b[0m\n\u001b[0;32m--> 218\u001b[0;31m             \u001b[0;32mreturn\u001b[0m \u001b[0mN\u001b[0m\u001b[0;34m.\u001b[0m\u001b[0mdot\u001b[0m\u001b[0;34m(\u001b[0m\u001b[0mself\u001b[0m\u001b[0;34m,\u001b[0m \u001b[0masmatrix\u001b[0m\u001b[0;34m(\u001b[0m\u001b[0mother\u001b[0m\u001b[0;34m)\u001b[0m\u001b[0;34m)\u001b[0m\u001b[0;34m\u001b[0m\u001b[0;34m\u001b[0m\u001b[0m\n\u001b[0m\u001b[1;32m    219\u001b[0m         \u001b[0;32mif\u001b[0m \u001b[0misscalar\u001b[0m\u001b[0;34m(\u001b[0m\u001b[0mother\u001b[0m\u001b[0;34m)\u001b[0m \u001b[0;32mor\u001b[0m \u001b[0;32mnot\u001b[0m \u001b[0mhasattr\u001b[0m\u001b[0;34m(\u001b[0m\u001b[0mother\u001b[0m\u001b[0;34m,\u001b[0m \u001b[0;34m'__rmul__'\u001b[0m\u001b[0;34m)\u001b[0m \u001b[0;34m:\u001b[0m\u001b[0;34m\u001b[0m\u001b[0;34m\u001b[0m\u001b[0m\n\u001b[1;32m    220\u001b[0m             \u001b[0;32mreturn\u001b[0m \u001b[0mN\u001b[0m\u001b[0;34m.\u001b[0m\u001b[0mdot\u001b[0m\u001b[0;34m(\u001b[0m\u001b[0mself\u001b[0m\u001b[0;34m,\u001b[0m \u001b[0mother\u001b[0m\u001b[0;34m)\u001b[0m\u001b[0;34m\u001b[0m\u001b[0;34m\u001b[0m\u001b[0m\n",
      "\u001b[0;32m<__array_function__ internals>\u001b[0m in \u001b[0;36mdot\u001b[0;34m(*args, **kwargs)\u001b[0m\n",
      "\u001b[0;31mValueError\u001b[0m: shapes (2,1) and (2,2) not aligned: 1 (dim 1) != 2 (dim 0)"
     ]
    }
   ],
   "source": [
    "b*A   # 위치를 바꿀 때 마다 형태를 변형해줘야 하는 불편함이 있음"
   ]
  },
  {
   "cell_type": "markdown",
   "id": "3f714ac3-030f-4b2d-80b2-ea4ecdbbc871",
   "metadata": {},
   "source": [
    "### (3) 인덱싱 (슬라이싱 포함)"
   ]
  },
  {
   "cell_type": "code",
   "execution_count": 37,
   "id": "e88bfcae-02f4-4e76-8b53-ce4dbcf6eb74",
   "metadata": {},
   "outputs": [],
   "source": [
    "A=np.array([[11,12,13,14,15],[21,22,23,24,25],[31,32,33,34,35]])"
   ]
  },
  {
   "cell_type": "code",
   "execution_count": 38,
   "id": "569abe30-1582-438c-bfee-174e140b59c8",
   "metadata": {},
   "outputs": [
    {
     "data": {
      "text/plain": [
       "array([[11, 12, 13, 14, 15],\n",
       "       [21, 22, 23, 24, 25],\n",
       "       [31, 32, 33, 34, 35]])"
      ]
     },
     "execution_count": 38,
     "metadata": {},
     "output_type": "execute_result"
    }
   ],
   "source": [
    "A"
   ]
  },
  {
   "cell_type": "markdown",
   "id": "9ce5f84c-090d-47b2-83ad-1c877358ffa9",
   "metadata": {},
   "source": [
    "**[예제1]** (3,1)에 접근하여 보자!"
   ]
  },
  {
   "cell_type": "markdown",
   "id": "3d094cb9-de90-4c92-9519-506c5cfa94db",
   "metadata": {},
   "source": [
    "(방법1)"
   ]
  },
  {
   "cell_type": "code",
   "execution_count": 206,
   "id": "dc9e1651-04c7-4448-aa24-d366835b6afd",
   "metadata": {},
   "outputs": [
    {
     "data": {
      "text/plain": [
       "array([31, 32, 33, 34, 35])"
      ]
     },
     "execution_count": 206,
     "metadata": {},
     "output_type": "execute_result"
    }
   ],
   "source": [
    "A[2]"
   ]
  },
  {
   "cell_type": "code",
   "execution_count": 39,
   "id": "d8b380f7-9063-4a55-a55a-4c921cc0f48c",
   "metadata": {},
   "outputs": [
    {
     "data": {
      "text/plain": [
       "31"
      ]
     },
     "execution_count": 39,
     "metadata": {},
     "output_type": "execute_result"
    }
   ],
   "source": [
    "A[2][0]"
   ]
  },
  {
   "cell_type": "markdown",
   "id": "4258d5b5-f580-4648-9339-35969564fa4b",
   "metadata": {},
   "source": [
    "(방법2)"
   ]
  },
  {
   "cell_type": "code",
   "execution_count": 41,
   "id": "82bbd0a3-e84c-4080-80fe-e3d64a94c7c0",
   "metadata": {},
   "outputs": [
    {
     "data": {
      "text/plain": [
       "31"
      ]
     },
     "execution_count": 41,
     "metadata": {},
     "output_type": "execute_result"
    }
   ],
   "source": [
    "A[2,0] # list와의 차이점 : List에서는 불가능한 문법!"
   ]
  },
  {
   "cell_type": "markdown",
   "id": "21c3a1aa-9d37-4b8b-9916-c6be762f8bd9",
   "metadata": {},
   "source": [
    "**[예제2]** 3행에 접근해보자."
   ]
  },
  {
   "cell_type": "markdown",
   "id": "6be05598-ee81-4e83-a8c1-8917e2ee95d7",
   "metadata": {},
   "source": [
    "(방법1)"
   ]
  },
  {
   "cell_type": "code",
   "execution_count": 208,
   "id": "6a61c4a6-9275-4115-bb78-f68fcb6df6d9",
   "metadata": {},
   "outputs": [
    {
     "data": {
      "text/plain": [
       "array([31, 32, 33, 34, 35])"
      ]
     },
     "execution_count": 208,
     "metadata": {},
     "output_type": "execute_result"
    }
   ],
   "source": [
    "A[2]"
   ]
  },
  {
   "cell_type": "markdown",
   "id": "2b1a26d0-c1bd-4ba3-8299-dc3f43c8c596",
   "metadata": {},
   "source": [
    "(방법2)"
   ]
  },
  {
   "cell_type": "code",
   "execution_count": 225,
   "id": "86e8436b-ff76-4394-8678-5db6162c1adb",
   "metadata": {},
   "outputs": [
    {
     "data": {
      "text/plain": [
       "array([31, 32, 33, 34, 35])"
      ]
     },
     "execution_count": 225,
     "metadata": {},
     "output_type": "execute_result"
    }
   ],
   "source": [
    "A[2,0:5]"
   ]
  },
  {
   "cell_type": "markdown",
   "id": "5a68e3c5-a6a3-4a54-8d06-22e16bba7880",
   "metadata": {},
   "source": [
    "(방법3)"
   ]
  },
  {
   "cell_type": "code",
   "execution_count": 42,
   "id": "99f09bcd-a1e8-410a-ac9b-6567bf83b850",
   "metadata": {},
   "outputs": [
    {
     "data": {
      "text/plain": [
       "array([31, 32, 33, 34, 35])"
      ]
     },
     "execution_count": 42,
     "metadata": {},
     "output_type": "execute_result"
    }
   ],
   "source": [
    "A[2,:]  "
   ]
  },
  {
   "cell_type": "markdown",
   "id": "016f7106-58f7-4301-82f7-5b2badf1d7d1",
   "metadata": {},
   "source": [
    "**[예제3]** 2열에 접근하여 보자. "
   ]
  },
  {
   "cell_type": "markdown",
   "id": "23dca970-455d-43a5-8bb9-4857ee95f3ac",
   "metadata": {},
   "source": [
    "(방법1)"
   ]
  },
  {
   "cell_type": "code",
   "execution_count": 233,
   "id": "0a35e479-f4b9-49e6-b43a-3d50c3cdacd3",
   "metadata": {},
   "outputs": [
    {
     "data": {
      "text/plain": [
       "array([12, 22, 32])"
      ]
     },
     "execution_count": 233,
     "metadata": {},
     "output_type": "execute_result"
    }
   ],
   "source": [
    "A[:,1]"
   ]
  },
  {
   "cell_type": "markdown",
   "id": "e9875161-b47d-4d7b-a71e-dd74c260179c",
   "metadata": {},
   "source": [
    "**(?)** 아래가 더 읽기 편하지 않나? "
   ]
  },
  {
   "cell_type": "code",
   "execution_count": 43,
   "id": "39a65a08-23c5-4fd5-a8f6-db1b3988e729",
   "metadata": {},
   "outputs": [
    {
     "data": {
      "text/plain": [
       "matrix([[12],\n",
       "        [22],\n",
       "        [32]])"
      ]
     },
     "execution_count": 43,
     "metadata": {},
     "output_type": "execute_result"
    }
   ],
   "source": [
    "Amat=np.matrix(A)\n",
    "Amat[:,1]"
   ]
  },
  {
   "cell_type": "markdown",
   "id": "44f2b082-1742-4072-b181-8dc26bb12662",
   "metadata": {},
   "source": [
    "(방법2)"
   ]
  },
  {
   "cell_type": "code",
   "execution_count": 44,
   "id": "0a9bbfde-a112-4455-b941-fb2814c3d5d5",
   "metadata": {},
   "outputs": [
    {
     "data": {
      "text/plain": [
       "array([12, 22, 32])"
      ]
     },
     "execution_count": 44,
     "metadata": {},
     "output_type": "execute_result"
    }
   ],
   "source": [
    "A.T[1]"
   ]
  },
  {
   "cell_type": "markdown",
   "id": "42f168f3-8ce5-4f38-a7c8-6d39876599f5",
   "metadata": {},
   "source": [
    "**[예제4]** 1행중에서 1,3,5열에 접근해보자. "
   ]
  },
  {
   "cell_type": "markdown",
   "id": "26ee8813-aa18-409d-b41d-32322cc9e820",
   "metadata": {},
   "source": [
    "(방법1)"
   ]
  },
  {
   "cell_type": "code",
   "execution_count": 63,
   "id": "86475881-ed79-4f54-a513-b2ecec715f3a",
   "metadata": {},
   "outputs": [
    {
     "data": {
      "text/plain": [
       "array([11, 13, 15])"
      ]
     },
     "execution_count": 63,
     "metadata": {},
     "output_type": "execute_result"
    }
   ],
   "source": [
    "A[0,[0,2,4]]"
   ]
  },
  {
   "cell_type": "markdown",
   "id": "327da6c1-8237-4e0c-83bd-a2060eca3a42",
   "metadata": {},
   "source": [
    "(방법2)"
   ]
  },
  {
   "cell_type": "code",
   "execution_count": 47,
   "id": "18bd76dc-cdf2-4a81-a5a1-e16525008569",
   "metadata": {},
   "outputs": [
    {
     "data": {
      "text/plain": [
       "array([11, 13, 15])"
      ]
     },
     "execution_count": 47,
     "metadata": {},
     "output_type": "execute_result"
    }
   ],
   "source": [
    "A[0][[0,2,4]]  # 가로의 개수를 유지한다고 이해하자"
   ]
  },
  {
   "cell_type": "markdown",
   "id": "cc702740-6d06-43f3-911a-0707645c682a",
   "metadata": {},
   "source": [
    "(방법3)"
   ]
  },
  {
   "cell_type": "code",
   "execution_count": 60,
   "id": "93c55c3d-6b81-47b2-8c6f-80b56b22a328",
   "metadata": {},
   "outputs": [],
   "source": [
    "b=[0,2,4]"
   ]
  },
  {
   "cell_type": "code",
   "execution_count": 61,
   "id": "6aff4353-8692-421f-a24b-8e982fb78c31",
   "metadata": {},
   "outputs": [
    {
     "data": {
      "text/plain": [
       "array([11, 13, 15])"
      ]
     },
     "execution_count": 61,
     "metadata": {},
     "output_type": "execute_result"
    }
   ],
   "source": [
    "A[0][b]"
   ]
  },
  {
   "cell_type": "markdown",
   "id": "872152d4-9b47-4b62-b85b-86a4d0ec4867",
   "metadata": {},
   "source": [
    "(방법4)"
   ]
  },
  {
   "cell_type": "code",
   "execution_count": 62,
   "id": "0d920169-bf10-4bc7-a057-764e07b0d28d",
   "metadata": {},
   "outputs": [
    {
     "data": {
      "text/plain": [
       "array([11, 13, 15])"
      ]
     },
     "execution_count": 62,
     "metadata": {},
     "output_type": "execute_result"
    }
   ],
   "source": [
    "A[0,b]"
   ]
  },
  {
   "cell_type": "markdown",
   "id": "7afa7b0a-ff08-4d46-bbfb-7db15fa22a12",
   "metadata": {},
   "source": [
    "**[예제5]** (1,1),(1,2), (2,1),(2,2) 에 접근하자."
   ]
  },
  {
   "cell_type": "markdown",
   "id": "6594fb43-919b-4ee1-8251-ce08882f97e0",
   "metadata": {},
   "source": [
    "(방법1)"
   ]
  },
  {
   "cell_type": "code",
   "execution_count": 270,
   "id": "7707dce2-f008-4404-9b10-baf41f0e5bde",
   "metadata": {},
   "outputs": [
    {
     "data": {
      "text/plain": [
       "array([[11, 12, 13, 14, 15],\n",
       "       [21, 22, 23, 24, 25],\n",
       "       [31, 32, 33, 34, 35]])"
      ]
     },
     "execution_count": 270,
     "metadata": {},
     "output_type": "execute_result"
    }
   ],
   "source": [
    "A"
   ]
  },
  {
   "cell_type": "code",
   "execution_count": 278,
   "id": "857c05c5-946b-4f45-b308-d7220d8a6f72",
   "metadata": {},
   "outputs": [
    {
     "data": {
      "text/plain": [
       "array([[11, 12],\n",
       "       [21, 22]])"
      ]
     },
     "execution_count": 278,
     "metadata": {},
     "output_type": "execute_result"
    }
   ],
   "source": [
    "A[0:2,0:2]"
   ]
  },
  {
   "cell_type": "markdown",
   "id": "622661a2-ffe9-45dc-9246-c342f08f6e85",
   "metadata": {},
   "source": [
    "(방법2)"
   ]
  },
  {
   "cell_type": "code",
   "execution_count": 64,
   "id": "b62a7319-49c4-457f-90e0-0221fe208f32",
   "metadata": {},
   "outputs": [
    {
     "data": {
      "text/plain": [
       "array([11, 22])"
      ]
     },
     "execution_count": 64,
     "metadata": {},
     "output_type": "execute_result"
    }
   ],
   "source": [
    "a=[0,1]\n",
    "b=[0,1]\n",
    "A[a,b]  #(0,0), (1,1)이 뽑힌다"
   ]
  },
  {
   "cell_type": "markdown",
   "id": "15552ed4-22a1-421d-928c-6a778d1282d5",
   "metadata": {},
   "source": [
    "??? 우리가 원하는게 아니다."
   ]
  },
  {
   "cell_type": "markdown",
   "id": "6529b6bb-bda3-48d5-ae15-f01d4308e10b",
   "metadata": {},
   "source": [
    "깨달음! "
   ]
  },
  {
   "cell_type": "code",
   "execution_count": 65,
   "id": "a7a9733c-6d51-48c9-b817-8439b040b9e9",
   "metadata": {},
   "outputs": [
    {
     "data": {
      "text/plain": [
       "array([11, 12, 21, 22])"
      ]
     },
     "execution_count": 65,
     "metadata": {},
     "output_type": "execute_result"
    }
   ],
   "source": [
    "# A[0,0]\n",
    "# A[0,1]\n",
    "# A[1,0]\n",
    "# A[1,1] \n",
    "# * mac : cmd + / \n",
    "# * win : ctrl + / \n",
    "a=[0,0,1,1]\n",
    "b=[0,1,0,1]\n",
    "A[a,b]"
   ]
  },
  {
   "cell_type": "markdown",
   "id": "54c6fa84-94ae-424b-ae92-5f338921d706",
   "metadata": {},
   "source": [
    "(방법3)"
   ]
  },
  {
   "cell_type": "code",
   "execution_count": 66,
   "id": "15c5666d-7baa-4a8f-a6bd-62a871bf3be8",
   "metadata": {},
   "outputs": [
    {
     "data": {
      "text/plain": [
       "array([[11, 12],\n",
       "       [21, 22]])"
      ]
     },
     "execution_count": 66,
     "metadata": {},
     "output_type": "execute_result"
    }
   ],
   "source": [
    "a=[0,1]\n",
    "b=[0,1]\n",
    "A[np.ix_(a,b)]"
   ]
  },
  {
   "cell_type": "code",
   "execution_count": 67,
   "id": "1a1fec9e-6cb6-4ad5-b712-4849f4750e2f",
   "metadata": {},
   "outputs": [
    {
     "data": {
      "text/plain": [
       "(array([[0],\n",
       "        [1]]),\n",
       " array([[0, 1]]))"
      ]
     },
     "execution_count": 67,
     "metadata": {},
     "output_type": "execute_result"
    }
   ],
   "source": [
    "np.ix_(a,b)"
   ]
  },
  {
   "cell_type": "markdown",
   "id": "754be6ce-603b-40ca-97c7-46dc91cd10a3",
   "metadata": {},
   "source": [
    "**[예제6]**"
   ]
  },
  {
   "cell_type": "markdown",
   "id": "71e3d4cf-96bf-472c-8888-cd6548afa624",
   "metadata": {},
   "source": [
    "홀수행, 짝수열을 뽑아보자. "
   ]
  },
  {
   "cell_type": "markdown",
   "id": "19642cbd-5b87-48ec-9339-4d4b69f3edb8",
   "metadata": {},
   "source": [
    "즉 12,32 14,34 가 뽑혀야함"
   ]
  },
  {
   "cell_type": "markdown",
   "id": "c2123492-654e-49a2-998d-29105b30f41f",
   "metadata": {},
   "source": [
    "(방법1)"
   ]
  },
  {
   "cell_type": "code",
   "execution_count": 297,
   "id": "51efce9d-366f-4145-bb4b-7549618ae8d9",
   "metadata": {},
   "outputs": [],
   "source": [
    "# A[0,1]\n",
    "# A[2,1]\n",
    "# A[0,3]\n",
    "# A[2,3]"
   ]
  },
  {
   "cell_type": "code",
   "execution_count": 295,
   "id": "13cbf6c5-1ed7-4afa-b764-0ff33d10dadf",
   "metadata": {},
   "outputs": [
    {
     "data": {
      "text/plain": [
       "array([12, 32, 14, 34])"
      ]
     },
     "execution_count": 295,
     "metadata": {},
     "output_type": "execute_result"
    }
   ],
   "source": [
    "a=[0,2,0,2]\n",
    "b=[1,1,3,3]\n",
    "A[a,b]"
   ]
  },
  {
   "cell_type": "markdown",
   "id": "23df395e-4cf0-4aa9-85d9-877bfd1721a6",
   "metadata": {},
   "source": [
    "(방법2)"
   ]
  },
  {
   "cell_type": "code",
   "execution_count": 299,
   "id": "3138ca82-7d93-41d9-a50d-fdedef2c3699",
   "metadata": {},
   "outputs": [
    {
     "data": {
      "text/plain": [
       "array([[12, 14],\n",
       "       [32, 34]])"
      ]
     },
     "execution_count": 299,
     "metadata": {},
     "output_type": "execute_result"
    }
   ],
   "source": [
    "a=[0,2] # 1,3 행 ==> 홀수행\n",
    "b=[1,3] # 2,4 열 ==> 짝수열 \n",
    "A[np.ix_(a,b)]"
   ]
  },
  {
   "cell_type": "markdown",
   "id": "fbc7d5e4-c33d-495d-9143-df580854d6f1",
   "metadata": {},
   "source": [
    "**[예제7]**"
   ]
  },
  {
   "cell_type": "markdown",
   "id": "d5946783-8387-4a97-927a-7df17ae96064",
   "metadata": {},
   "source": [
    "2행의 원소중 23보다 작은 원소만? "
   ]
  },
  {
   "cell_type": "markdown",
   "id": "243521fd-1d93-4b60-a591-c64b527365dd",
   "metadata": {},
   "source": [
    "(방법1)"
   ]
  },
  {
   "cell_type": "code",
   "execution_count": 68,
   "id": "0fc0ecdd-4f66-49c3-88f2-9ecb187c668f",
   "metadata": {},
   "outputs": [
    {
     "data": {
      "text/plain": [
       "array([21, 22])"
      ]
     },
     "execution_count": 68,
     "metadata": {},
     "output_type": "execute_result"
    }
   ],
   "source": [
    "#A[1,0] A[1,1]를 뽑고 싶다.\n",
    "b=[0,1]\n",
    "A[1,b]"
   ]
  },
  {
   "cell_type": "markdown",
   "id": "fc9184bb-3637-413a-bdf1-6a37430d7ccf",
   "metadata": {},
   "source": [
    "하지만 변수가 너무 많을 때는 위와 같이 계산하기당연히 어려움!"
   ]
  },
  {
   "cell_type": "markdown",
   "id": "9a4099f6-b1a1-4364-a62c-bf4dbbb66f55",
   "metadata": {},
   "source": [
    "(방법2)"
   ]
  },
  {
   "cell_type": "markdown",
   "id": "990041ee-580c-4b87-8c52-81926226caea",
   "metadata": {},
   "source": [
    "아래를 관찰해보자."
   ]
  },
  {
   "cell_type": "code",
   "execution_count": 69,
   "id": "ebd27137-62fa-4f10-a939-59b831086c5f",
   "metadata": {},
   "outputs": [],
   "source": [
    "c=np.random.normal(size=100)\n",
    "# np.random.normal(size=100)는 표준정규분포에서 100개의 난수를 생성하는 함수"
   ]
  },
  {
   "cell_type": "code",
   "execution_count": 72,
   "id": "cf897877-a92e-48a2-8f47-5bebd0919b19",
   "metadata": {},
   "outputs": [
    {
     "data": {
      "text/plain": [
       "array([False,  True,  True, False, False,  True, False,  True,  True,\n",
       "       False,  True, False,  True, False,  True,  True, False,  True,\n",
       "        True, False,  True, False,  True,  True,  True,  True, False,\n",
       "        True,  True, False, False, False,  True, False,  True, False,\n",
       "       False, False, False, False, False, False,  True, False, False,\n",
       "        True,  True, False, False,  True, False, False, False,  True,\n",
       "        True,  True,  True,  True, False, False,  True, False,  True,\n",
       "        True, False,  True, False,  True, False,  True,  True,  True,\n",
       "       False,  True,  True,  True, False, False,  True, False, False,\n",
       "        True, False,  True,  True, False,  True, False,  True,  True,\n",
       "        True,  True, False, False,  True, False, False,  True,  True,\n",
       "        True])"
      ]
     },
     "execution_count": 72,
     "metadata": {},
     "output_type": "execute_result"
    }
   ],
   "source": [
    "c>0  #값이 아닌 T/F 결과를 보임"
   ]
  },
  {
   "cell_type": "code",
   "execution_count": 74,
   "id": "53887cb6-1245-4f75-9cb2-6f2402e1ee1f",
   "metadata": {},
   "outputs": [
    {
     "data": {
      "text/plain": [
       "array([0.18334984, 1.77051668, 2.01871979, 0.6618022 , 1.74088515,\n",
       "       0.67924512, 1.70566946, 0.92208578, 0.77595505, 0.30874189,\n",
       "       0.20613993, 0.0989423 , 0.89911795, 1.13985843, 1.21816941,\n",
       "       0.59673282, 0.13421594, 0.55343815, 1.55277558, 0.79995855,\n",
       "       1.43034953, 0.20047832, 1.4323895 , 0.78760893, 0.17690282,\n",
       "       0.75236525, 0.65544468, 1.28156261, 0.89955209, 0.87889443,\n",
       "       0.71509936, 0.12608794, 0.86428365, 0.45614107, 1.26244921,\n",
       "       0.14842187, 0.43357188, 1.03829107, 1.62379303, 0.91060634,\n",
       "       1.72900937, 0.52411524, 1.63818633, 0.34336474, 1.27008304,\n",
       "       0.32455862, 1.13402706, 1.43419411, 1.05120423, 0.02377782,\n",
       "       0.19521262, 1.73405291, 0.39269412])"
      ]
     },
     "execution_count": 74,
     "metadata": {},
     "output_type": "execute_result"
    }
   ],
   "source": [
    "c[c>0]   #boolIndexing->boolidx=c>0"
   ]
  },
  {
   "cell_type": "markdown",
   "id": "131c8936-6bad-47a4-ae4d-4237daa16e4f",
   "metadata": {},
   "source": [
    "이제 응용해보자. "
   ]
  },
  {
   "cell_type": "code",
   "execution_count": 75,
   "id": "c3fe57e8-e0bc-47ba-a91b-9e5512cb04ba",
   "metadata": {},
   "outputs": [
    {
     "data": {
      "text/plain": [
       "array([21, 22])"
      ]
     },
     "execution_count": 75,
     "metadata": {},
     "output_type": "execute_result"
    }
   ],
   "source": [
    "# c --> A[1]\n",
    "# c>0 --> A[1]<23 \n",
    "# c[c>0]는 그러면\n",
    "A[1][A[1]<23]"
   ]
  },
  {
   "cell_type": "markdown",
   "id": "66890e40-0c2c-41b8-a471-62fdc06d8907",
   "metadata": {},
   "source": [
    "(방법3)"
   ]
  },
  {
   "cell_type": "code",
   "execution_count": 323,
   "id": "0481761e-3cd9-45de-bfe9-d333f486efb6",
   "metadata": {},
   "outputs": [
    {
     "data": {
      "text/plain": [
       "array([21, 22])"
      ]
     },
     "execution_count": 323,
     "metadata": {},
     "output_type": "execute_result"
    }
   ],
   "source": [
    "A[1,:][A[1,:]<23]"
   ]
  },
  {
   "cell_type": "markdown",
   "id": "66e43256-3850-477f-b925-1f8802ba2640",
   "metadata": {},
   "source": [
    "#### [$\\ast$] 인덱싱의 종류 ($\\star\\star\\star$)"
   ]
  },
  {
   "cell_type": "markdown",
   "id": "76e3d276-75c1-4182-bf81-4676322c55bd",
   "metadata": {},
   "source": [
    "1. 기본인덱싱: 인덱스, 슬라이싱을 활용 \n",
    "   - 예1: `A[1,1]` \n",
    "   - 예2: `A[1,0:2]` \n",
    "2. 팬시인덱싱(응용인덱싱): 인덱스를 정수배열로 전달, `np.ix_`함수를 활용한 인덱싱, 부울값 인덱싱\n",
    "    - 예1: `A[0,[0,2,4]]` , 정수배열 인덱싱\n",
    "    - 예2: `A[np.ix_(a,b)]` , np.ix함수를 활용한 인덱싱\n",
    "    - 예3: `c[c>0]` , 부울값인덱싱"
   ]
  },
  {
   "cell_type": "markdown",
   "id": "0728a681-ce86-4e70-bc0d-defbb1dadcf7",
   "metadata": {},
   "source": [
    "### (4) `numpy`를 배우는 방법"
   ]
  },
  {
   "cell_type": "markdown",
   "id": "880ea4d4-819c-45f7-8bca-36d890ed9cef",
   "metadata": {},
   "source": [
    "인터넷+자동완성+contextual help  \n",
    "도움말을 보고 싶으면 ex)np.reshape **?** 를 해도 볼 수 있다"
   ]
  },
  {
   "cell_type": "markdown",
   "id": "6db8817b-8408-4ae4-babf-8434fbe64df2",
   "metadata": {},
   "source": [
    "[$\\ast$] 자동완성이 안되면 콘다환경에서 아래를 실행해볼것. \n",
    "```\n",
    "pip install \"jedi==0.17.2\"\n",
    "```"
   ]
  },
  {
   "cell_type": "code",
   "execution_count": 95,
   "id": "2d999905-8271-4617-bbf3-8ff8d8183455",
   "metadata": {},
   "outputs": [],
   "source": [
    "a=np.array([1,2,3,2])"
   ]
  },
  {
   "cell_type": "code",
   "execution_count": 96,
   "id": "fc855429-fece-4bbb-b9d2-eec0e4e337ed",
   "metadata": {},
   "outputs": [
    {
     "data": {
      "text/plain": [
       "3"
      ]
     },
     "execution_count": 96,
     "metadata": {},
     "output_type": "execute_result"
    }
   ],
   "source": [
    "np.amax(a)"
   ]
  },
  {
   "cell_type": "code",
   "execution_count": 100,
   "id": "cf7b0d2e-f305-46d1-b07b-4170f6cf63d6",
   "metadata": {},
   "outputs": [
    {
     "data": {
      "text/plain": [
       "array([[1, 2],\n",
       "       [3, 2]])"
      ]
     },
     "execution_count": 100,
     "metadata": {},
     "output_type": "execute_result"
    }
   ],
   "source": [
    "np.reshape(a, [2,2])  # 행렬형태로 변환 가능함"
   ]
  },
  {
   "cell_type": "code",
   "execution_count": 343,
   "id": "15799842-bfbf-48d2-a68c-311499141999",
   "metadata": {},
   "outputs": [
    {
     "data": {
      "text/plain": [
       "array([[1, 2, 3],\n",
       "       [4, 5, 6]])"
      ]
     },
     "execution_count": 343,
     "metadata": {},
     "output_type": "execute_result"
    }
   ],
   "source": [
    "a=np.array([[1,2,3], [4,5,6]])\n",
    "a"
   ]
  },
  {
   "cell_type": "code",
   "execution_count": 345,
   "id": "77fd332b-b803-4761-9b3e-ed47a8d90e0a",
   "metadata": {},
   "outputs": [
    {
     "data": {
      "text/plain": [
       "array([[1, 2],\n",
       "       [3, 4],\n",
       "       [5, 6]])"
      ]
     },
     "execution_count": 345,
     "metadata": {},
     "output_type": "execute_result"
    }
   ],
   "source": [
    "np.reshape(a, (3,2))"
   ]
  }
 ],
 "metadata": {
  "kernelspec": {
   "display_name": "Python 3 (ipykernel)",
   "language": "python",
   "name": "python3"
  },
  "language_info": {
   "codemirror_mode": {
    "name": "ipython",
    "version": 3
   },
   "file_extension": ".py",
   "mimetype": "text/x-python",
   "name": "python",
   "nbconvert_exporter": "python",
   "pygments_lexer": "ipython3",
   "version": "3.8.11"
  }
 },
 "nbformat": 4,
 "nbformat_minor": 5
}
