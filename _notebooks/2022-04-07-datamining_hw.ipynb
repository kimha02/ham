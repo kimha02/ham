{
 "cells": [
  {
   "cell_type": "markdown",
   "id": "8b2d6c69-63ab-4331-b798-24a988ce369b",
   "metadata": {
    "tags": []
   },
   "source": [
    "# (공부) Datamining HW\n",
    "> 첫번째 과제, Linear Regression, Logistic Regression\n",
    "- toc:true\n",
    "- branch: master\n",
    "- badges: true\n",
    "- comments: true\n",
    "- author: 김하영\n",
    "- categories: [Study]"
   ]
  },
  {
   "cell_type": "code",
   "execution_count": 4,
   "id": "cd7fa035-4875-459a-8a78-ef96b5eb08ba",
   "metadata": {},
   "outputs": [],
   "source": [
    "setwd(\"/home/khy/Desktop/2022STAT/datamining\")\n",
    "\n",
    "library(tidyverse)\n",
    "library(dplyr)\n",
    "library(gridExtra)\n",
    "library(ggplot2)\n",
    "library(tidyr)"
   ]
  },
  {
   "cell_type": "markdown",
   "id": "63170f37-04b8-41d2-ab46-6e870861c3f0",
   "metadata": {},
   "source": [
    "### Linear Regression"
   ]
  },
  {
   "cell_type": "markdown",
   "id": "e45b95ad-c33a-409f-8a26-6970e41456cc",
   "metadata": {
    "tags": []
   },
   "source": [
    "**1. 설명변수가 1개(X)인고, 반응변수가 1개(Y )인데이터를 가지고 있다고 하자. (n = 100) 그리고 다음의 두 모형(linear regression, cubic regression)을 적합시키려고 한다.**  \n",
    "\n",
    "$Y = \\beta_0 + \\beta_1X + \\epsilon$\n",
    "\n",
    "$Y = \\beta_0 + \\beta_1X + \\beta_2X^2 + \\beta_3X^3 + \\epsilon$  "
   ]
  },
  {
   "cell_type": "markdown",
   "id": "545bbc0a-f55b-42dd-8111-fc7b1a71f0bd",
   "metadata": {},
   "source": [
    "(a) 실제 X, Y 가 선형(linear)관계가 있다고 가정 하자. 모델 (1),(2)의 SSE(잔차제곱합)의 크기를 비교할 수 있는지 설명하여라"
   ]
  },
  {
   "cell_type": "markdown",
   "id": "a09f93f5-be1b-4349-a1a4-1c8bb33895a5",
   "metadata": {},
   "source": [
    "- 시뮬레이션을 해보기 위해 임의로 만든 모델"
   ]
  },
  {
   "cell_type": "code",
   "execution_count": 62,
   "id": "c4569b5d-d695-486d-986c-01289557d617",
   "metadata": {},
   "outputs": [],
   "source": [
    "set.seed(1)\n",
    "x1=runif(100)\n",
    "y1=3+3.5*x1+rnorm(100)\n",
    "y2=3+1.5*x1+3*x1^2+4*x1^3+rnorm(100)"
   ]
  },
  {
   "cell_type": "code",
   "execution_count": 13,
   "id": "a7fdf0ed-e6d4-4cbf-bef4-edca0ca4d055",
   "metadata": {},
   "outputs": [
    {
     "data": {
      "text/plain": [
       "\n",
       "Call:\n",
       "lm(formula = y1 ~ x1)\n",
       "\n",
       "Residuals:\n",
       "     Min       1Q   Median       3Q      Max \n",
       "-1.84978 -0.56222 -0.08707  0.52427  2.51661 \n",
       "\n",
       "Coefficients:\n",
       "            Estimate Std. Error t value Pr(>|t|)    \n",
       "(Intercept)   2.8207     0.2058   13.71   <2e-16 ***\n",
       "x1            3.8123     0.3535   10.79   <2e-16 ***\n",
       "---\n",
       "Signif. codes:  0 ‘***’ 0.001 ‘**’ 0.01 ‘*’ 0.05 ‘.’ 0.1 ‘ ’ 1\n",
       "\n",
       "Residual standard error: 0.9411 on 98 degrees of freedom\n",
       "Multiple R-squared:  0.5428,\tAdjusted R-squared:  0.5381 \n",
       "F-statistic: 116.3 on 1 and 98 DF,  p-value: < 2.2e-16\n"
      ]
     },
     "metadata": {},
     "output_type": "display_data"
    },
    {
     "data": {
      "text/html": [
       "<table class=\"dataframe\">\n",
       "<caption>A anova: 2 × 5</caption>\n",
       "<thead>\n",
       "\t<tr><th></th><th scope=col>Df</th><th scope=col>Sum Sq</th><th scope=col>Mean Sq</th><th scope=col>F value</th><th scope=col>Pr(&gt;F)</th></tr>\n",
       "\t<tr><th></th><th scope=col>&lt;int&gt;</th><th scope=col>&lt;dbl&gt;</th><th scope=col>&lt;dbl&gt;</th><th scope=col>&lt;dbl&gt;</th><th scope=col>&lt;dbl&gt;</th></tr>\n",
       "</thead>\n",
       "<tbody>\n",
       "\t<tr><th scope=row>x1</th><td> 1</td><td>103.02483</td><td>103.0248322</td><td>116.3342</td><td>2.403925e-18</td></tr>\n",
       "\t<tr><th scope=row>Residuals</th><td>98</td><td> 86.78818</td><td>  0.8855937</td><td>      NA</td><td>          NA</td></tr>\n",
       "</tbody>\n",
       "</table>\n"
      ],
      "text/latex": [
       "A anova: 2 × 5\n",
       "\\begin{tabular}{r|lllll}\n",
       "  & Df & Sum Sq & Mean Sq & F value & Pr(>F)\\\\\n",
       "  & <int> & <dbl> & <dbl> & <dbl> & <dbl>\\\\\n",
       "\\hline\n",
       "\tx1 &  1 & 103.02483 & 103.0248322 & 116.3342 & 2.403925e-18\\\\\n",
       "\tResiduals & 98 &  86.78818 &   0.8855937 &       NA &           NA\\\\\n",
       "\\end{tabular}\n"
      ],
      "text/markdown": [
       "\n",
       "A anova: 2 × 5\n",
       "\n",
       "| <!--/--> | Df &lt;int&gt; | Sum Sq &lt;dbl&gt; | Mean Sq &lt;dbl&gt; | F value &lt;dbl&gt; | Pr(&gt;F) &lt;dbl&gt; |\n",
       "|---|---|---|---|---|---|\n",
       "| x1 |  1 | 103.02483 | 103.0248322 | 116.3342 | 2.403925e-18 |\n",
       "| Residuals | 98 |  86.78818 |   0.8855937 |       NA |           NA |\n",
       "\n"
      ],
      "text/plain": [
       "          Df Sum Sq    Mean Sq     F value  Pr(>F)      \n",
       "x1         1 103.02483 103.0248322 116.3342 2.403925e-18\n",
       "Residuals 98  86.78818   0.8855937       NA           NA"
      ]
     },
     "metadata": {},
     "output_type": "display_data"
    }
   ],
   "source": [
    "#선형관계가 있다고 가정하기\n",
    "summary(lm(y1~x1))\n",
    "anova(lm(y1~x1))"
   ]
  },
  {
   "cell_type": "code",
   "execution_count": 17,
   "id": "6a796fa4-f15e-461d-8ce4-6fe0a8e7293c",
   "metadata": {},
   "outputs": [
    {
     "data": {
      "text/plain": [
       "\n",
       "Call:\n",
       "lm(formula = y1 ~ x1 + I(x1^2) + I(x1^3))\n",
       "\n",
       "Residuals:\n",
       "     Min       1Q   Median       3Q      Max \n",
       "-1.85466 -0.59246 -0.09722  0.54144  2.48360 \n",
       "\n",
       "Coefficients:\n",
       "            Estimate Std. Error t value Pr(>|t|)    \n",
       "(Intercept)   2.6348     0.4645   5.672 1.49e-07 ***\n",
       "x1            5.6195     3.7246   1.509    0.135    \n",
       "I(x1^2)      -4.1677     8.5256  -0.489    0.626    \n",
       "I(x1^3)       2.6800     5.6682   0.473    0.637    \n",
       "---\n",
       "Signif. codes:  0 ‘***’ 0.001 ‘**’ 0.01 ‘*’ 0.05 ‘.’ 0.1 ‘ ’ 1\n",
       "\n",
       "Residual standard error: 0.9496 on 96 degrees of freedom\n",
       "Multiple R-squared:  0.5439,\tAdjusted R-squared:  0.5297 \n",
       "F-statistic: 38.16 on 3 and 96 DF,  p-value: 2.523e-16\n"
      ]
     },
     "metadata": {},
     "output_type": "display_data"
    },
    {
     "data": {
      "text/html": [
       "<table class=\"dataframe\">\n",
       "<caption>A anova: 4 × 5</caption>\n",
       "<thead>\n",
       "\t<tr><th></th><th scope=col>Df</th><th scope=col>Sum Sq</th><th scope=col>Mean Sq</th><th scope=col>F value</th><th scope=col>Pr(&gt;F)</th></tr>\n",
       "\t<tr><th></th><th scope=col>&lt;int&gt;</th><th scope=col>&lt;dbl&gt;</th><th scope=col>&lt;dbl&gt;</th><th scope=col>&lt;dbl&gt;</th><th scope=col>&lt;dbl&gt;</th></tr>\n",
       "</thead>\n",
       "<tbody>\n",
       "\t<tr><th scope=row>x1</th><td> 1</td><td>103.02483221</td><td>103.02483221</td><td>114.24694192</td><td>4.971201e-18</td></tr>\n",
       "\t<tr><th scope=row>I(x1^2)</th><td> 1</td><td>  0.01635999</td><td>  0.01635999</td><td>  0.01814203</td><td>8.931371e-01</td></tr>\n",
       "\t<tr><th scope=row>I(x1^3)</th><td> 1</td><td>  0.20159472</td><td>  0.20159472</td><td>  0.22355368</td><td>6.374186e-01</td></tr>\n",
       "\t<tr><th scope=row>Residuals</th><td>96</td><td> 86.57022872</td><td>  0.90177322</td><td>          NA</td><td>          NA</td></tr>\n",
       "</tbody>\n",
       "</table>\n"
      ],
      "text/latex": [
       "A anova: 4 × 5\n",
       "\\begin{tabular}{r|lllll}\n",
       "  & Df & Sum Sq & Mean Sq & F value & Pr(>F)\\\\\n",
       "  & <int> & <dbl> & <dbl> & <dbl> & <dbl>\\\\\n",
       "\\hline\n",
       "\tx1 &  1 & 103.02483221 & 103.02483221 & 114.24694192 & 4.971201e-18\\\\\n",
       "\tI(x1\\textasciicircum{}2) &  1 &   0.01635999 &   0.01635999 &   0.01814203 & 8.931371e-01\\\\\n",
       "\tI(x1\\textasciicircum{}3) &  1 &   0.20159472 &   0.20159472 &   0.22355368 & 6.374186e-01\\\\\n",
       "\tResiduals & 96 &  86.57022872 &   0.90177322 &           NA &           NA\\\\\n",
       "\\end{tabular}\n"
      ],
      "text/markdown": [
       "\n",
       "A anova: 4 × 5\n",
       "\n",
       "| <!--/--> | Df &lt;int&gt; | Sum Sq &lt;dbl&gt; | Mean Sq &lt;dbl&gt; | F value &lt;dbl&gt; | Pr(&gt;F) &lt;dbl&gt; |\n",
       "|---|---|---|---|---|---|\n",
       "| x1 |  1 | 103.02483221 | 103.02483221 | 114.24694192 | 4.971201e-18 |\n",
       "| I(x1^2) |  1 |   0.01635999 |   0.01635999 |   0.01814203 | 8.931371e-01 |\n",
       "| I(x1^3) |  1 |   0.20159472 |   0.20159472 |   0.22355368 | 6.374186e-01 |\n",
       "| Residuals | 96 |  86.57022872 |   0.90177322 |           NA |           NA |\n",
       "\n"
      ],
      "text/plain": [
       "          Df Sum Sq       Mean Sq      F value      Pr(>F)      \n",
       "x1         1 103.02483221 103.02483221 114.24694192 4.971201e-18\n",
       "I(x1^2)    1   0.01635999   0.01635999   0.01814203 8.931371e-01\n",
       "I(x1^3)    1   0.20159472   0.20159472   0.22355368 6.374186e-01\n",
       "Residuals 96  86.57022872   0.90177322           NA           NA"
      ]
     },
     "metadata": {},
     "output_type": "display_data"
    }
   ],
   "source": [
    "#선형관계가 있다고 가정하기\n",
    "summary(lm(y1~x1+I(x1^2)+I(x1^3)))\n",
    "anova(lm(y1~x1+I(x1^2)+I(x1^3)))"
   ]
  },
  {
   "cell_type": "markdown",
   "id": "2954c3ac-f714-4a5f-b888-f59fdb0dfd27",
   "metadata": {},
   "source": [
    "(b) 실제 X, Y 가 비선형(non-linear)관계가 있다고 가정 하자. 대신 실제 모형에 대한 정보는 없다. 모델 (1),(2)의 SSE(잔차제곱합)의 크기를 비교할 수 있는지 설명하여라."
   ]
  },
  {
   "cell_type": "code",
   "execution_count": 18,
   "id": "8fa90c02-e9de-497f-8e73-87263aa0c004",
   "metadata": {},
   "outputs": [
    {
     "data": {
      "text/plain": [
       "\n",
       "Call:\n",
       "lm(formula = y2 ~ x1)\n",
       "\n",
       "Residuals:\n",
       "    Min      1Q  Median      3Q     Max \n",
       "-3.2064 -0.7806 -0.0233  0.5791  3.4723 \n",
       "\n",
       "Coefficients:\n",
       "            Estimate Std. Error t value Pr(>|t|)    \n",
       "(Intercept)   3.6833     0.2770   13.29   <2e-16 ***\n",
       "x1            7.9619     0.4758   16.73   <2e-16 ***\n",
       "---\n",
       "Signif. codes:  0 ‘***’ 0.001 ‘**’ 0.01 ‘*’ 0.05 ‘.’ 0.1 ‘ ’ 1\n",
       "\n",
       "Residual standard error: 1.267 on 98 degrees of freedom\n",
       "Multiple R-squared:  0.7408,\tAdjusted R-squared:  0.7381 \n",
       "F-statistic:   280 on 1 and 98 DF,  p-value: < 2.2e-16\n"
      ]
     },
     "metadata": {},
     "output_type": "display_data"
    },
    {
     "data": {
      "text/html": [
       "<table class=\"dataframe\">\n",
       "<caption>A anova: 2 × 5</caption>\n",
       "<thead>\n",
       "\t<tr><th></th><th scope=col>Df</th><th scope=col>Sum Sq</th><th scope=col>Mean Sq</th><th scope=col>F value</th><th scope=col>Pr(&gt;F)</th></tr>\n",
       "\t<tr><th></th><th scope=col>&lt;int&gt;</th><th scope=col>&lt;dbl&gt;</th><th scope=col>&lt;dbl&gt;</th><th scope=col>&lt;dbl&gt;</th><th scope=col>&lt;dbl&gt;</th></tr>\n",
       "</thead>\n",
       "<tbody>\n",
       "\t<tr><th scope=row>x1</th><td> 1</td><td>449.3549</td><td>449.354925</td><td>280.0482</td><td>1.734342e-30</td></tr>\n",
       "\t<tr><th scope=row>Residuals</th><td>98</td><td>157.2471</td><td>  1.604563</td><td>      NA</td><td>          NA</td></tr>\n",
       "</tbody>\n",
       "</table>\n"
      ],
      "text/latex": [
       "A anova: 2 × 5\n",
       "\\begin{tabular}{r|lllll}\n",
       "  & Df & Sum Sq & Mean Sq & F value & Pr(>F)\\\\\n",
       "  & <int> & <dbl> & <dbl> & <dbl> & <dbl>\\\\\n",
       "\\hline\n",
       "\tx1 &  1 & 449.3549 & 449.354925 & 280.0482 & 1.734342e-30\\\\\n",
       "\tResiduals & 98 & 157.2471 &   1.604563 &       NA &           NA\\\\\n",
       "\\end{tabular}\n"
      ],
      "text/markdown": [
       "\n",
       "A anova: 2 × 5\n",
       "\n",
       "| <!--/--> | Df &lt;int&gt; | Sum Sq &lt;dbl&gt; | Mean Sq &lt;dbl&gt; | F value &lt;dbl&gt; | Pr(&gt;F) &lt;dbl&gt; |\n",
       "|---|---|---|---|---|---|\n",
       "| x1 |  1 | 449.3549 | 449.354925 | 280.0482 | 1.734342e-30 |\n",
       "| Residuals | 98 | 157.2471 |   1.604563 |       NA |           NA |\n",
       "\n"
      ],
      "text/plain": [
       "          Df Sum Sq   Mean Sq    F value  Pr(>F)      \n",
       "x1         1 449.3549 449.354925 280.0482 1.734342e-30\n",
       "Residuals 98 157.2471   1.604563       NA           NA"
      ]
     },
     "metadata": {},
     "output_type": "display_data"
    }
   ],
   "source": [
    "#비선형관계가 있다고 가정하기\n",
    "summary(lm(y2~x1))\n",
    "anova(lm(y2~x1))"
   ]
  },
  {
   "cell_type": "code",
   "execution_count": 19,
   "id": "d5ca0408-98c3-4079-b590-b9ef56c45299",
   "metadata": {},
   "outputs": [
    {
     "data": {
      "text/plain": [
       "\n",
       "Call:\n",
       "lm(formula = y2 ~ x1 + I(x1^2) + I(x1^3))\n",
       "\n",
       "Residuals:\n",
       "     Min       1Q   Median       3Q      Max \n",
       "-2.88281 -0.60007 -0.06635  0.64335  2.31422 \n",
       "\n",
       "Coefficients:\n",
       "            Estimate Std. Error t value Pr(>|t|)    \n",
       "(Intercept)   5.6628     0.5158  10.979   <2e-16 ***\n",
       "x1           -2.6415     4.1356  -0.639    0.525    \n",
       "I(x1^2)       9.8637     9.4662   1.042    0.300    \n",
       "I(x1^3)       0.6755     6.2936   0.107    0.915    \n",
       "---\n",
       "Signif. codes:  0 ‘***’ 0.001 ‘**’ 0.01 ‘*’ 0.05 ‘.’ 0.1 ‘ ’ 1\n",
       "\n",
       "Residual standard error: 1.054 on 96 degrees of freedom\n",
       "Multiple R-squared:  0.8241,\tAdjusted R-squared:  0.8186 \n",
       "F-statistic: 149.9 on 3 and 96 DF,  p-value: < 2.2e-16\n"
      ]
     },
     "metadata": {},
     "output_type": "display_data"
    },
    {
     "data": {
      "text/html": [
       "<table class=\"dataframe\">\n",
       "<caption>A anova: 4 × 5</caption>\n",
       "<thead>\n",
       "\t<tr><th></th><th scope=col>Df</th><th scope=col>Sum Sq</th><th scope=col>Mean Sq</th><th scope=col>F value</th><th scope=col>Pr(&gt;F)</th></tr>\n",
       "\t<tr><th></th><th scope=col>&lt;int&gt;</th><th scope=col>&lt;dbl&gt;</th><th scope=col>&lt;dbl&gt;</th><th scope=col>&lt;dbl&gt;</th><th scope=col>&lt;dbl&gt;</th></tr>\n",
       "</thead>\n",
       "<tbody>\n",
       "\t<tr><th scope=row>x1</th><td> 1</td><td>449.35492460</td><td>449.35492460</td><td>404.18948899</td><td>3.511253e-36</td></tr>\n",
       "\t<tr><th scope=row>I(x1^2)</th><td> 1</td><td> 50.50699183</td><td> 50.50699183</td><td> 45.43044730</td><td>1.175750e-09</td></tr>\n",
       "\t<tr><th scope=row>I(x1^3)</th><td> 1</td><td>  0.01280619</td><td>  0.01280619</td><td>  0.01151902</td><td>9.147538e-01</td></tr>\n",
       "\t<tr><th scope=row>Residuals</th><td>96</td><td>106.72734927</td><td>  1.11174322</td><td>          NA</td><td>          NA</td></tr>\n",
       "</tbody>\n",
       "</table>\n"
      ],
      "text/latex": [
       "A anova: 4 × 5\n",
       "\\begin{tabular}{r|lllll}\n",
       "  & Df & Sum Sq & Mean Sq & F value & Pr(>F)\\\\\n",
       "  & <int> & <dbl> & <dbl> & <dbl> & <dbl>\\\\\n",
       "\\hline\n",
       "\tx1 &  1 & 449.35492460 & 449.35492460 & 404.18948899 & 3.511253e-36\\\\\n",
       "\tI(x1\\textasciicircum{}2) &  1 &  50.50699183 &  50.50699183 &  45.43044730 & 1.175750e-09\\\\\n",
       "\tI(x1\\textasciicircum{}3) &  1 &   0.01280619 &   0.01280619 &   0.01151902 & 9.147538e-01\\\\\n",
       "\tResiduals & 96 & 106.72734927 &   1.11174322 &           NA &           NA\\\\\n",
       "\\end{tabular}\n"
      ],
      "text/markdown": [
       "\n",
       "A anova: 4 × 5\n",
       "\n",
       "| <!--/--> | Df &lt;int&gt; | Sum Sq &lt;dbl&gt; | Mean Sq &lt;dbl&gt; | F value &lt;dbl&gt; | Pr(&gt;F) &lt;dbl&gt; |\n",
       "|---|---|---|---|---|---|\n",
       "| x1 |  1 | 449.35492460 | 449.35492460 | 404.18948899 | 3.511253e-36 |\n",
       "| I(x1^2) |  1 |  50.50699183 |  50.50699183 |  45.43044730 | 1.175750e-09 |\n",
       "| I(x1^3) |  1 |   0.01280619 |   0.01280619 |   0.01151902 | 9.147538e-01 |\n",
       "| Residuals | 96 | 106.72734927 |   1.11174322 |           NA |           NA |\n",
       "\n"
      ],
      "text/plain": [
       "          Df Sum Sq       Mean Sq      F value      Pr(>F)      \n",
       "x1         1 449.35492460 449.35492460 404.18948899 3.511253e-36\n",
       "I(x1^2)    1  50.50699183  50.50699183  45.43044730 1.175750e-09\n",
       "I(x1^3)    1   0.01280619   0.01280619   0.01151902 9.147538e-01\n",
       "Residuals 96 106.72734927   1.11174322           NA           NA"
      ]
     },
     "metadata": {},
     "output_type": "display_data"
    }
   ],
   "source": [
    "#비선형관계가 있다고 가정하기\n",
    "summary(lm(y2~x1+I(x1^2)+I(x1^3)))\n",
    "anova(lm(y2~x1+I(x1^2)+I(x1^3)))"
   ]
  },
  {
   "cell_type": "markdown",
   "id": "0ddcc60d-2045-41c7-8e95-52d024eee594",
   "metadata": {},
   "source": [
    "---"
   ]
  },
  {
   "cell_type": "markdown",
   "id": "f2a6801b-cb7a-4ae3-8d49-38241b67f942",
   "metadata": {},
   "source": [
    "**2. ’Auto.csv’ 데이터를 이용하여 단순선형 회귀 모형을 적합한다.**"
   ]
  },
  {
   "cell_type": "markdown",
   "id": "528738d1-3eab-4c8d-950a-4f8c3c062c74",
   "metadata": {},
   "source": [
    "(a) 반응변수 mpg, 설명변수는 horsepower로 하는 단순선형회귀모형을 적합 시킨 후 summary() 함수의 결과 확인하고 다음의 물음에 답하여라."
   ]
  },
  {
   "cell_type": "code",
   "execution_count": 66,
   "id": "8a056e5a-3ea6-451c-9703-95fbca52bd48",
   "metadata": {},
   "outputs": [
    {
     "data": {
      "text/html": [
       "<table class=\"dataframe\">\n",
       "<caption>A data.frame: 6 × 9</caption>\n",
       "<thead>\n",
       "\t<tr><th></th><th scope=col>mpg</th><th scope=col>cylinders</th><th scope=col>displacement</th><th scope=col>horsepower</th><th scope=col>weight</th><th scope=col>acceleration</th><th scope=col>year</th><th scope=col>origin</th><th scope=col>name</th></tr>\n",
       "\t<tr><th></th><th scope=col>&lt;dbl&gt;</th><th scope=col>&lt;int&gt;</th><th scope=col>&lt;dbl&gt;</th><th scope=col>&lt;chr&gt;</th><th scope=col>&lt;int&gt;</th><th scope=col>&lt;dbl&gt;</th><th scope=col>&lt;int&gt;</th><th scope=col>&lt;int&gt;</th><th scope=col>&lt;chr&gt;</th></tr>\n",
       "</thead>\n",
       "<tbody>\n",
       "\t<tr><th scope=row>1</th><td>18</td><td>8</td><td>307</td><td>130</td><td>3504</td><td>12.0</td><td>70</td><td>1</td><td>chevrolet chevelle malibu</td></tr>\n",
       "\t<tr><th scope=row>2</th><td>15</td><td>8</td><td>350</td><td>165</td><td>3693</td><td>11.5</td><td>70</td><td>1</td><td>buick skylark 320        </td></tr>\n",
       "\t<tr><th scope=row>3</th><td>18</td><td>8</td><td>318</td><td>150</td><td>3436</td><td>11.0</td><td>70</td><td>1</td><td>plymouth satellite       </td></tr>\n",
       "\t<tr><th scope=row>4</th><td>16</td><td>8</td><td>304</td><td>150</td><td>3433</td><td>12.0</td><td>70</td><td>1</td><td>amc rebel sst            </td></tr>\n",
       "\t<tr><th scope=row>5</th><td>17</td><td>8</td><td>302</td><td>140</td><td>3449</td><td>10.5</td><td>70</td><td>1</td><td>ford torino              </td></tr>\n",
       "\t<tr><th scope=row>6</th><td>15</td><td>8</td><td>429</td><td>198</td><td>4341</td><td>10.0</td><td>70</td><td>1</td><td>ford galaxie 500         </td></tr>\n",
       "</tbody>\n",
       "</table>\n"
      ],
      "text/latex": [
       "A data.frame: 6 × 9\n",
       "\\begin{tabular}{r|lllllllll}\n",
       "  & mpg & cylinders & displacement & horsepower & weight & acceleration & year & origin & name\\\\\n",
       "  & <dbl> & <int> & <dbl> & <chr> & <int> & <dbl> & <int> & <int> & <chr>\\\\\n",
       "\\hline\n",
       "\t1 & 18 & 8 & 307 & 130 & 3504 & 12.0 & 70 & 1 & chevrolet chevelle malibu\\\\\n",
       "\t2 & 15 & 8 & 350 & 165 & 3693 & 11.5 & 70 & 1 & buick skylark 320        \\\\\n",
       "\t3 & 18 & 8 & 318 & 150 & 3436 & 11.0 & 70 & 1 & plymouth satellite       \\\\\n",
       "\t4 & 16 & 8 & 304 & 150 & 3433 & 12.0 & 70 & 1 & amc rebel sst            \\\\\n",
       "\t5 & 17 & 8 & 302 & 140 & 3449 & 10.5 & 70 & 1 & ford torino              \\\\\n",
       "\t6 & 15 & 8 & 429 & 198 & 4341 & 10.0 & 70 & 1 & ford galaxie 500         \\\\\n",
       "\\end{tabular}\n"
      ],
      "text/markdown": [
       "\n",
       "A data.frame: 6 × 9\n",
       "\n",
       "| <!--/--> | mpg &lt;dbl&gt; | cylinders &lt;int&gt; | displacement &lt;dbl&gt; | horsepower &lt;chr&gt; | weight &lt;int&gt; | acceleration &lt;dbl&gt; | year &lt;int&gt; | origin &lt;int&gt; | name &lt;chr&gt; |\n",
       "|---|---|---|---|---|---|---|---|---|---|\n",
       "| 1 | 18 | 8 | 307 | 130 | 3504 | 12.0 | 70 | 1 | chevrolet chevelle malibu |\n",
       "| 2 | 15 | 8 | 350 | 165 | 3693 | 11.5 | 70 | 1 | buick skylark 320         |\n",
       "| 3 | 18 | 8 | 318 | 150 | 3436 | 11.0 | 70 | 1 | plymouth satellite        |\n",
       "| 4 | 16 | 8 | 304 | 150 | 3433 | 12.0 | 70 | 1 | amc rebel sst             |\n",
       "| 5 | 17 | 8 | 302 | 140 | 3449 | 10.5 | 70 | 1 | ford torino               |\n",
       "| 6 | 15 | 8 | 429 | 198 | 4341 | 10.0 | 70 | 1 | ford galaxie 500          |\n",
       "\n"
      ],
      "text/plain": [
       "  mpg cylinders displacement horsepower weight acceleration year origin\n",
       "1 18  8         307          130        3504   12.0         70   1     \n",
       "2 15  8         350          165        3693   11.5         70   1     \n",
       "3 18  8         318          150        3436   11.0         70   1     \n",
       "4 16  8         304          150        3433   12.0         70   1     \n",
       "5 17  8         302          140        3449   10.5         70   1     \n",
       "6 15  8         429          198        4341   10.0         70   1     \n",
       "  name                     \n",
       "1 chevrolet chevelle malibu\n",
       "2 buick skylark 320        \n",
       "3 plymouth satellite       \n",
       "4 amc rebel sst            \n",
       "5 ford torino              \n",
       "6 ford galaxie 500         "
      ]
     },
     "metadata": {},
     "output_type": "display_data"
    },
    {
     "name": "stdout",
     "output_type": "stream",
     "text": [
      " chr [1:397] \"130\" \"165\" \"150\" \"150\" \"140\" \"198\" \"220\" \"215\" \"225\" \"190\" ...\n",
      " num [1:397] 18 15 18 16 17 15 14 14 14 15 ...\n"
     ]
    },
    {
     "name": "stderr",
     "output_type": "stream",
     "text": [
      "Warning message in eval(expr, envir, enclos):\n",
      "“NAs introduced by coercion”\n"
     ]
    },
    {
     "name": "stdout",
     "output_type": "stream",
     "text": [
      "    n\n",
      "1 397\n",
      "    n\n",
      "1 392\n"
     ]
    }
   ],
   "source": [
    "auto <- read.csv('Auto(1).csv', stringsAsFactors = F)\n",
    "head(auto)\n",
    "### 데이터 타입 확인\n",
    "str(auto$horsepower)\n",
    "str(auto$mpg)\n",
    "### 데이터 타입 변경\n",
    "auto$horsepower=as.numeric(auto$horsepower)\n",
    "### 결측치 제거\n",
    "print(count(auto))\n",
    "print(count(auto %>% filter(horsepower!=\"NA\")))  #5개 제거\n",
    "auto = auto %>% filter(horsepower!=\"NA\")"
   ]
  },
  {
   "cell_type": "markdown",
   "id": "36e0a42d-f469-4c4d-9180-d0b0ac676b89",
   "metadata": {},
   "source": [
    "- 단순선형회귀분석 전 horsepower가 문자형으로 확인되어 숫자형으로 변경 후 결측값 제거를 진행함. 총 397개 데이터에서 결측치 5개를 제거하여 392개 데이터로 분석함. "
   ]
  },
  {
   "cell_type": "code",
   "execution_count": 68,
   "id": "d8d9853d-6475-4be7-9fc9-a6c865a79c06",
   "metadata": {},
   "outputs": [
    {
     "data": {
      "text/plain": [
       "\n",
       "Call:\n",
       "lm(formula = y ~ x)\n",
       "\n",
       "Residuals:\n",
       "     Min       1Q   Median       3Q      Max \n",
       "-13.5710  -3.2592  -0.3435   2.7630  16.9240 \n",
       "\n",
       "Coefficients:\n",
       "             Estimate Std. Error t value Pr(>|t|)    \n",
       "(Intercept) 39.935861   0.717499   55.66   <2e-16 ***\n",
       "x           -0.157845   0.006446  -24.49   <2e-16 ***\n",
       "---\n",
       "Signif. codes:  0 ‘***’ 0.001 ‘**’ 0.01 ‘*’ 0.05 ‘.’ 0.1 ‘ ’ 1\n",
       "\n",
       "Residual standard error: 4.906 on 390 degrees of freedom\n",
       "Multiple R-squared:  0.6059,\tAdjusted R-squared:  0.6049 \n",
       "F-statistic: 599.7 on 1 and 390 DF,  p-value: < 2.2e-16\n"
      ]
     },
     "metadata": {},
     "output_type": "display_data"
    }
   ],
   "source": [
    "a=lm(y~x)\n",
    "summary(a)"
   ]
  },
  {
   "cell_type": "markdown",
   "id": "824fb1eb-9439-4bf3-ae7c-0442949f5126",
   "metadata": {},
   "source": [
    "- x=horsepower, y=mpg 회귀분석 summary결과를 요약하면 아래와 같음. \n",
    "    - 회귀계수 유의성 검정 결과, 유의확률이 0에 가까워 horsepower는 유의하다고 할 수 있음.\n",
    "    - 회귀직선 유의성 검정 결과, 유의확률은 0에 가까워 이 모델은 통계적으로 유의하다고 할 수 있음.\n",
    "    - $R^2=0.6059$으로 비교적 설명력이 높게 나타남.  \n",
    "\n",
    "\n",
    "<표. 회귀계수 유의성 검정 결과>\n",
    "    \n",
    "||Estimate|Std.Error|t|p-value|\n",
    "|---|---|---|---|---|\n",
    "|(Intercept)|39.935861|0.717499|55.66|<2e-16|\n",
    "|x|-0.157845|0.006446|-24.49|<2e-16|\n",
    "\n",
    "\n",
    "<표. 회귀직선 유의성 검정 결과>\n",
    "\n",
    "||DF|Sum Sq|Mean Sq|F|p-value|\n",
    "|---|---|---|---|---|---|\n",
    "|x|1|14433.1|14433.1|599.72|<2.2e-16|\n",
    "|Residuals|390|9385.9|24.1|||\n",
    "\n",
    "Multiple $R^2 = 0.6059$, Adjusted $R^2 = 0.6049$"
   ]
  },
  {
   "cell_type": "markdown",
   "id": "9ed543bb-252b-42cd-96d9-7e79b36b9272",
   "metadata": {},
   "source": [
    "`Q.` 두 변수 사이에 관계\n",
    "\n",
    "- 두 변수 간 관계 여부를 확인하기 위해 산점도를 그려보면, **x가 증가함에 따라 y가 감소하는 경향**을 보임.\n",
    "- 상관계수는 $-0.7784268$으로 **음의 관계**를 가지고 있으며, 절대값이 $0.7$보다 크기 때문에 **매우 강한 관련성**을 가진다고 해석할 수 있음.\n",
    "- 상관분석 결과 또한 p-value$<2.2e-16 \\approx 0$으로 상관계수가 0이라는 귀무가설을 기각함."
   ]
  },
  {
   "cell_type": "code",
   "execution_count": 67,
   "id": "a22f818d-2001-468a-bb82-d7934437632d",
   "metadata": {},
   "outputs": [
    {
     "data": {
      "text/plain": [
       "\n",
       "\tPearson's product-moment correlation\n",
       "\n",
       "data:  x and y\n",
       "t = -24.489, df = 390, p-value < 2.2e-16\n",
       "alternative hypothesis: true correlation is not equal to 0\n",
       "95 percent confidence interval:\n",
       " -0.8146631 -0.7361359\n",
       "sample estimates:\n",
       "       cor \n",
       "-0.7784268 \n"
      ]
     },
     "metadata": {},
     "output_type": "display_data"
    }
   ],
   "source": [
    "cor.test(x,y,method = \"pearson\")"
   ]
  },
  {
   "cell_type": "code",
   "execution_count": 64,
   "id": "f2a473ac-0cf9-44dd-aede-b763422cc4c2",
   "metadata": {},
   "outputs": [
    {
     "data": {
      "image/png": "[encoded data removed]",
      "text/plain": [
       "plot without title"
      ]
     },
     "metadata": {
      "image/png": {
       "height": 420,
       "width": 420
      }
     },
     "output_type": "display_data"
    }
   ],
   "source": [
    "y=auto$mpg\n",
    "x=auto$horsepower\n",
    "par(mfrow=c(1,1))\n",
    "plot(x,y, pch=16, col='steelblue', \n",
    "     lwd=2, cex.lab=1.5)"
   ]
  },
  {
   "cell_type": "markdown",
   "id": "1e37acd3-df12-40e3-b09d-4f5127724423",
   "metadata": {},
   "source": [
    "`Q.`  horsepower의 값이 98일 때, mpg의 예측값과 95% 신뢰구간\n",
    "- 추정된 단순선형회귀모형은 $\\hat{y} = 39.935861 -0.157845x$\n",
    "- $x=98$일 때 예측값은 $24.46708$이며 95% 신뢰구간은 $(23.97308, 24.96108)$임."
   ]
  },
  {
   "cell_type": "code",
   "execution_count": 69,
   "id": "9552bdd0-68fd-407d-bf07-438b187fb7f3",
   "metadata": {},
   "outputs": [
    {
     "data": {
      "text/html": [
       "<table class=\"dataframe\">\n",
       "<caption>A matrix: 1 × 3 of type dbl</caption>\n",
       "<thead>\n",
       "\t<tr><th></th><th scope=col>fit</th><th scope=col>lwr</th><th scope=col>upr</th></tr>\n",
       "</thead>\n",
       "<tbody>\n",
       "\t<tr><th scope=row>1</th><td>24.46708</td><td>23.97308</td><td>24.96108</td></tr>\n",
       "</tbody>\n",
       "</table>\n"
      ],
      "text/latex": [
       "A matrix: 1 × 3 of type dbl\n",
       "\\begin{tabular}{r|lll}\n",
       "  & fit & lwr & upr\\\\\n",
       "\\hline\n",
       "\t1 & 24.46708 & 23.97308 & 24.96108\\\\\n",
       "\\end{tabular}\n"
      ],
      "text/markdown": [
       "\n",
       "A matrix: 1 × 3 of type dbl\n",
       "\n",
       "| <!--/--> | fit | lwr | upr |\n",
       "|---|---|---|---|\n",
       "| 1 | 24.46708 | 23.97308 | 24.96108 |\n",
       "\n"
      ],
      "text/plain": [
       "  fit      lwr      upr     \n",
       "1 24.46708 23.97308 24.96108"
      ]
     },
     "metadata": {},
     "output_type": "display_data"
    }
   ],
   "source": [
    "newob = data.frame(x=c(98))\n",
    "b=predict(a, newob, interval=\"confidence\")\n",
    "b"
   ]
  },
  {
   "cell_type": "code",
   "execution_count": 72,
   "id": "99b35ce4-da2c-40b2-9d02-eefdee6098a9",
   "metadata": {},
   "outputs": [
    {
     "data": {
      "text/html": [
       "<table class=\"dataframe\">\n",
       "<caption>A matrix: 1 × 3 of type dbl</caption>\n",
       "<thead>\n",
       "\t<tr><th></th><th scope=col>fit</th><th scope=col>lwr</th><th scope=col>upr</th></tr>\n",
       "</thead>\n",
       "<tbody>\n",
       "\t<tr><th scope=row>1</th><td>24.46708</td><td>23.97308</td><td>24.96108</td></tr>\n",
       "</tbody>\n",
       "</table>\n"
      ],
      "text/latex": [
       "A matrix: 1 × 3 of type dbl\n",
       "\\begin{tabular}{r|lll}\n",
       "  & fit & lwr & upr\\\\\n",
       "\\hline\n",
       "\t1 & 24.46708 & 23.97308 & 24.96108\\\\\n",
       "\\end{tabular}\n"
      ],
      "text/markdown": [
       "\n",
       "A matrix: 1 × 3 of type dbl\n",
       "\n",
       "| <!--/--> | fit | lwr | upr |\n",
       "|---|---|---|---|\n",
       "| 1 | 24.46708 | 23.97308 | 24.96108 |\n",
       "\n"
      ],
      "text/plain": [
       "  fit      lwr      upr     \n",
       "1 24.46708 23.97308 24.96108"
      ]
     },
     "metadata": {},
     "output_type": "display_data"
    }
   ],
   "source": [
    "predict(a, \n",
    "        newdata = data.frame(x = 98), \n",
    "        interval = \"confidence\", level = 0.95) #교수님 풀이"
   ]
  },
  {
   "cell_type": "code",
   "execution_count": null,
   "id": "0ff4ff4a-5a5e-479b-b0aa-ab74c9cc61ca",
   "metadata": {},
   "outputs": [],
   "source": [
    "predict.lm"
   ]
  },
  {
   "cell_type": "markdown",
   "id": "19c7e080-09b2-46e9-bc5e-c246f9d4f7f0",
   "metadata": {},
   "source": [
    "```python\n",
    "predict(object, newdata, se.fit = FALSE, scale = NULL, df = Inf,\n",
    "        interval = c(\"none\", \"confidence\", \"prediction\"),\n",
    "        level = 0.95, type = c(\"response\", \"terms\"),\n",
    "        terms = NULL, na.action = na.pass,\n",
    "        pred.var = res.var/weights, weights = 1, ...)\n",
    "```"
   ]
  },
  {
   "cell_type": "markdown",
   "id": "41fc90f2-d79b-49a7-8947-5c6b5c3c6f6b",
   "metadata": {},
   "source": [
    "`Q.`  회귀직선을 추가한 산점도\n",
    "- 위에서 확인한 바와 같이 회귀직선은 우하향하는 모습을 보임.\n",
    "> warning : x,y 순서를 항상 조심하자"
   ]
  },
  {
   "cell_type": "code",
   "execution_count": 74,
   "id": "8efe1229-3cd6-4770-9a25-e847f51122ba",
   "metadata": {},
   "outputs": [
    {
     "data": {
      "image/png": "[encoded data removed]",
      "text/plain": [
       "plot without title"
      ]
     },
     "metadata": {
      "image/png": {
       "height": 420,
       "width": 420
      }
     },
     "output_type": "display_data"
    }
   ],
   "source": [
    "par(mfrow=c(1,1))\n",
    "plot(x,y, pch=16, col='steelblue', \n",
    "     lwd=2, cex.lab=1.5,\n",
    "     xlab=\"horsepower\", ylab=\"mpg\")\n",
    "abline(a, col='red', lwd=2)"
   ]
  },
  {
   "cell_type": "markdown",
   "id": "b500d20b-f6c7-4409-adb5-62c9c2e73eeb",
   "metadata": {},
   "source": [
    "---"
   ]
  },
  {
   "cell_type": "markdown",
   "id": "945fa42a-16cf-4da5-bac4-206bafb0c59b",
   "metadata": {},
   "source": [
    "**3. 다중공선성(collinearity)**"
   ]
  },
  {
   "cell_type": "code",
   "execution_count": 75,
   "id": "b82281af-d9c2-4741-b9b0-59f58992041f",
   "metadata": {},
   "outputs": [],
   "source": [
    "set.seed(1)\n",
    "x1=runif(100)\n",
    "x2=0.5*x1+rnorm(100)/10\n",
    "y=2+2*x1+0.3*x2+rnorm(100)"
   ]
  },
  {
   "cell_type": "code",
   "execution_count": 76,
   "id": "12fdebee-cee2-4c10-98af-d5c6ceb48a2a",
   "metadata": {},
   "outputs": [],
   "source": [
    "dt=data.frame(x1,x2,y)"
   ]
  },
  {
   "cell_type": "markdown",
   "id": "114345e4-eb71-46f3-8a55-524ac6947f1b",
   "metadata": {},
   "source": [
    "(a) 회귀모형 : $y_i = 2 + 2*x_{i1} + 0.3*x_{i2} + \\epsilon_i$  $i=1,2,\\dots,100$\n",
    "- 회귀모수 $\\beta_0 = 2, \\beta_1 = 2, \\beta_2 = 0.3$"
   ]
  },
  {
   "cell_type": "markdown",
   "id": "68bdfcc9-2630-411a-b3e9-8942e659d71f",
   "metadata": {},
   "source": [
    "(b) 두 설명변수 x1과 x2 사이에 상관관계(correlation)이 있는가? 산점도를 그려서 확인하여라.\n",
    "- 설명변수 간 상관관계를 확인하기 위해 산점도를 그린 결과, x1이 증가함에 따라 x2도 증가하는 경향을 보여 양의 관계가 있을 것으로 해석됨.\n",
    "- 상관분석을 진행한 결과 상관계수는 $0.835121$로 매우 강한 양의 상관관계가 있는 것으로 확인되었으며, $p-value<2.2e-16 \\approx 0$으로 두 변수 간 상관관계가 없다는 귀무가설을 기각함."
   ]
  },
  {
   "cell_type": "code",
   "execution_count": 77,
   "id": "bd3a2974-43a9-4a97-a7ac-e62a51a1c6d1",
   "metadata": {},
   "outputs": [
    {
     "data": {
      "text/plain": [
       "\n",
       "\tPearson's product-moment correlation\n",
       "\n",
       "data:  dt$x1 and dt$x2\n",
       "t = 15.03, df = 98, p-value < 2.2e-16\n",
       "alternative hypothesis: true correlation is not equal to 0\n",
       "95 percent confidence interval:\n",
       " 0.7640291 0.8861771\n",
       "sample estimates:\n",
       "      cor \n",
       "0.8351212 \n"
      ]
     },
     "metadata": {},
     "output_type": "display_data"
    },
    {
     "data": {
      "image/png": "[encoded data removed]",
      "text/plain": [
       "plot without title"
      ]
     },
     "metadata": {
      "image/png": {
       "height": 420,
       "width": 420
      }
     },
     "output_type": "display_data"
    }
   ],
   "source": [
    "plot(dt$x1,dt$x2, pch=16, col='steelblue', \n",
    "     lwd=2, cex.lab=1.5, xlab=\"x1\", ylab=\"x2\")\n",
    "cor.test(dt$x1,dt$x2,method = \"pearson\")"
   ]
  },
  {
   "cell_type": "markdown",
   "id": "63261db5-d97c-4372-bdbf-bfc35316ac9f",
   "metadata": {},
   "source": [
    "(c) 생성된 데이터를 이용하여 (a) 모형의 회귀계수를 추정하여라. 실제 회귀계수와 추정된 회귀계수와\n",
    "비교하여라. H0 : β1 = 0을 기각할 수 있는가? H0 : β2 = 0을 기각할 수 있는가?"
   ]
  },
  {
   "cell_type": "code",
   "execution_count": 78,
   "id": "dd45a72d-bba0-43fd-b363-a92a0c996b91",
   "metadata": {},
   "outputs": [
    {
     "data": {
      "text/plain": [
       "\n",
       "Call:\n",
       "lm(formula = y ~ x1 + x2, data = dt)\n",
       "\n",
       "Residuals:\n",
       "    Min      1Q  Median      3Q     Max \n",
       "-2.8311 -0.7273 -0.0537  0.6338  2.3359 \n",
       "\n",
       "Coefficients:\n",
       "            Estimate Std. Error t value Pr(>|t|)    \n",
       "(Intercept)   2.1305     0.2319   9.188 7.61e-15 ***\n",
       "x1            1.4396     0.7212   1.996   0.0487 *  \n",
       "x2            1.0097     1.1337   0.891   0.3754    \n",
       "---\n",
       "Signif. codes:  0 ‘***’ 0.001 ‘**’ 0.01 ‘*’ 0.05 ‘.’ 0.1 ‘ ’ 1\n",
       "\n",
       "Residual standard error: 1.056 on 97 degrees of freedom\n",
       "Multiple R-squared:  0.2088,\tAdjusted R-squared:  0.1925 \n",
       "F-statistic:  12.8 on 2 and 97 DF,  p-value: 1.164e-05\n"
      ]
     },
     "metadata": {},
     "output_type": "display_data"
    }
   ],
   "source": [
    "multi=lm(y~x1+x2, data=dt)\n",
    "summary(multi)"
   ]
  },
  {
   "cell_type": "markdown",
   "id": "dd95ee00-7342-4eaf-84ec-67c2957d2dba",
   "metadata": {},
   "source": [
    "- 추정된 회귀식은 $\\hat{y} = 2.1305 + 1.4396*x_1 + 1.0097*x_2$임. Multiple R-squared$=0.2088$, Adjusted R-squared$=0.1925$로 설명력은 비교적 작게 나타났으나 p-value$=1.164e-05 \\approx 0.00001$로 유의한 모델로 확인됨.\n",
    "- $\\hat{\\beta}_0$과 $\\hat{\\beta}_1$은 실제 회귀계수인 $2$에 가까운 값을 보이나, $\\hat{\\beta}_2$는 실제 회귀계수인 $0.3$보다 비교적 작은 값을 보이며 다른 회귀계수 추정량 대비 실제 회귀계수와의 값 차이가 크게 나타남.\n",
    "- 회귀계수 유의성 검정 결과 $\\hat{\\beta}_1$의 p-value는 $0.0487$으로 유의수준 0.5에서 유의한 값을 보여 귀무가설을 기각할 수 없으나, $\\hat{\\beta}_2$의 p-value는 $0.3754$로 유의수준 0.5보다 크게 나타나 귀무가설을 기각할 수 없음.  \n",
    "- 그리고 x2의 s.e가 크게 나타나 데이터가 안정적이지 않다고 할 수 있음.\n",
    "\n",
    "<표. 회귀계수 유의성 검정 결과>\n",
    "    \n",
    "||Estimate|Std.Error|t|p-value|\n",
    "|---|---|---|---|---|\n",
    "|(Intercept)|2.1305|0.2319|9.188|7.61e-15$\\approx 0$|\n",
    "|x1|1.4396|0.7212|1.996|0.0487|\n",
    "|x2|1.0097|1.1337|0.891|0.3754|"
   ]
  },
  {
   "cell_type": "markdown",
   "id": "d6b14e3b-4799-4b71-adcb-4e95812c9d64",
   "metadata": {},
   "source": [
    "(d) 이번에는 x1만을 이용한 단순선형회귀 모형을 적합하여라. 결과를 분석하여라. H0 : β1 = 0을 기각할\n",
    "수 있는가?"
   ]
  },
  {
   "cell_type": "code",
   "execution_count": 79,
   "id": "7da41ab2-c707-46ec-8c89-a73379b862c0",
   "metadata": {},
   "outputs": [
    {
     "data": {
      "text/plain": [
       "\n",
       "Call:\n",
       "lm(formula = y ~ x1, data = dt)\n",
       "\n",
       "Residuals:\n",
       "     Min       1Q   Median       3Q      Max \n",
       "-2.89495 -0.66874 -0.07785  0.59221  2.45560 \n",
       "\n",
       "Coefficients:\n",
       "            Estimate Std. Error t value Pr(>|t|)    \n",
       "(Intercept)   2.1124     0.2307   9.155 8.27e-15 ***\n",
       "x1            1.9759     0.3963   4.986 2.66e-06 ***\n",
       "---\n",
       "Signif. codes:  0 ‘***’ 0.001 ‘**’ 0.01 ‘*’ 0.05 ‘.’ 0.1 ‘ ’ 1\n",
       "\n",
       "Residual standard error: 1.055 on 98 degrees of freedom\n",
       "Multiple R-squared:  0.2024,\tAdjusted R-squared:  0.1942 \n",
       "F-statistic: 24.86 on 1 and 98 DF,  p-value: 2.661e-06\n"
      ]
     },
     "metadata": {},
     "output_type": "display_data"
    }
   ],
   "source": [
    "m1=lm(y~x1, data=dt)\n",
    "summary(m1)"
   ]
  },
  {
   "cell_type": "markdown",
   "id": "168a9943-ef61-4e6f-aaa3-57090fcf5fce",
   "metadata": {},
   "source": [
    "- 단순선형회귀모형을 적합한 결과, 추정된 회귀식은 $\\hat{y} = 2.1124 + 1.9759*x_1$임. Multiple R-squared $=0.2024$, Adjusted R-squared$=0.1942$로 설명력은 비교적 작게 나타났으나 p-value$=2.66e-06 \\approx 0$로 유의한 모델로 확인됨.\n",
    "- 회귀계수 유의성 검정 결과, 이전 중회귀분석 결과와 유사하게 p-value가 0에 가깝게 나타나 $\\beta_1 = 0$이라는 귀무가설을 기각함.\n",
    "\n",
    " \n",
    "<표. 회귀계수 유의성 검정 결과>\n",
    "    \n",
    "||Estimate|Std.Error|t|p-value|\n",
    "|---|---|---|---|---|\n",
    "|(Intercept)|2.1124|0.2307|9.155|8.27e-15 $\\approx 0$|\n",
    "|x1|1.9759|0.3963|4.986|2.66e-06 $\\approx 0$|"
   ]
  },
  {
   "cell_type": "markdown",
   "id": "1073a7c3-d3d0-4da2-89d1-cf8cba7249a1",
   "metadata": {},
   "source": [
    "(e) 이번에는 x2만을 이용한 단순선형회귀 모형을 적합하여라. 결과를 분석하여라. H0 : β2 = 0을 기각할\n",
    "수 있는가?"
   ]
  },
  {
   "cell_type": "code",
   "execution_count": 80,
   "id": "a5248b33-1e44-4b0d-bf20-7c65fe5039b8",
   "metadata": {},
   "outputs": [
    {
     "data": {
      "text/plain": [
       "\n",
       "Call:\n",
       "lm(formula = y ~ x2, data = dt)\n",
       "\n",
       "Residuals:\n",
       "     Min       1Q   Median       3Q      Max \n",
       "-2.62687 -0.75156 -0.03598  0.72383  2.44890 \n",
       "\n",
       "Coefficients:\n",
       "            Estimate Std. Error t value Pr(>|t|)    \n",
       "(Intercept)   2.3899     0.1949   12.26  < 2e-16 ***\n",
       "x2            2.8996     0.6330    4.58 1.37e-05 ***\n",
       "---\n",
       "Signif. codes:  0 ‘***’ 0.001 ‘**’ 0.01 ‘*’ 0.05 ‘.’ 0.1 ‘ ’ 1\n",
       "\n",
       "Residual standard error: 1.072 on 98 degrees of freedom\n",
       "Multiple R-squared:  0.1763,\tAdjusted R-squared:  0.1679 \n",
       "F-statistic: 20.98 on 1 and 98 DF,  p-value: 1.366e-05\n"
      ]
     },
     "metadata": {},
     "output_type": "display_data"
    }
   ],
   "source": [
    "m2=lm(y~x2, data=dt)\n",
    "summary(m2)"
   ]
  },
  {
   "cell_type": "markdown",
   "id": "789434bd-a0a4-44cf-ad25-f5dd0ab5b5ea",
   "metadata": {},
   "source": [
    "- 단순선형회귀모형을 적합한 결과, 추정된 회귀식은 $\\hat{y} = 2.3899 + 2.8996*x_2$임. Multiple R-squared $=0.1763$, Adjusted R-squared$=0.1679$로 설명력은 비교적 작게 나타났으나 p-value$=1.366e-05 \\approx 0.00001$로 유의한 모델로 확인됨.\n",
    "- 회귀계수 유의성 검정 결과, 이전 중회귀분석 결과와 반대로 p-value가 0에 가깝게 나타나 $\\beta_2 = 0$이라는 귀무가설을 기각함.\n",
    "\n",
    "\n",
    "<표. 회귀계수 유의성 검정 결과>\n",
    "    \n",
    "||Estimate|Std.Error|t|p-value|\n",
    "|---|---|---|---|---|\n",
    "|(Intercept)|2.3899|0.1949|12.26|<2e-16 $\\approx 0$|\n",
    "|x2|2.8996|0.6330|4.58|1.37e-05 $\\approx 0$|"
   ]
  },
  {
   "cell_type": "markdown",
   "id": "8c559fb0-a8a7-4270-bf1a-2edf8902d4d4",
   "metadata": {},
   "source": [
    "(f) (c)-(e)의 결과가 서로 모순되는가? 설명하여라.\n",
    "- $x_1$에 대한 단순선형회귀분석 결과, $x_1, x_2$를 모두 사용한 중회귀분석 결과와 동일하게 $\\beta_1 = 0$이라는 귀무가설을 기각하여 유의한 계수임을 확인할 수 있었음.\n",
    "- 하지만 $x_2$에 대한 단순선형회귀분석 결과는 중회귀분석 결과와 반대로 $\\beta_2 = 0$이라는 귀무가설을 기각해 유의한 계수로 나타나는 모순된 결과를 확인할 수 있음.\n",
    "- 이는 $x_1$과 $x_2$가 독립적이지 않고 상관관계가 있기 때문에 발생한 다중공선성 문제로, 중회귀분석 시에는 $x_2$가 설명해야 할 부분을 $x_1$이 설명하기 때문에 $x_2$의 계수인 $\\beta_2=0$이라는 귀무가설을 기각할 수 없었던 것임."
   ]
  },
  {
   "cell_type": "markdown",
   "id": "1ecf2dd4-4392-47ad-83ed-24e3544ee5bd",
   "metadata": {},
   "source": [
    "(g) 새로운 데이터가 관측되었다고 하자. 추가된 데이터를 이용하여 (c)-(e)를 다시 적합하여라. 결과가 어떻게 달라졌는가?"
   ]
  },
  {
   "cell_type": "code",
   "execution_count": 81,
   "id": "752e0783-1b0e-4190-95f7-7a7ceb2039aa",
   "metadata": {},
   "outputs": [],
   "source": [
    "x1=c(x1, 0.1)\n",
    "x2=c(x2, 0.8)\n",
    "y=c(y, 6)\n",
    "dt2=data.frame(x1,x2,y)"
   ]
  },
  {
   "cell_type": "code",
   "execution_count": 87,
   "id": "a3db6df5-e443-4434-96c5-6553e57f6b4a",
   "metadata": {},
   "outputs": [
    {
     "data": {
      "image/png": "[encoded data removed]",
      "text/plain": [
       "plot without title"
      ]
     },
     "metadata": {
      "image/png": {
       "height": 420,
       "width": 420
      }
     },
     "output_type": "display_data"
    }
   ],
   "source": [
    "plot(x1,x2)  # 추가된 값이 이상하게 보인다"
   ]
  },
  {
   "cell_type": "code",
   "execution_count": 91,
   "id": "45a599fe-933e-4be1-b8a0-154d9cb68c86",
   "metadata": {},
   "outputs": [
    {
     "data": {
      "image/png": "[encoded data removed]",
      "text/plain": [
       "plot without title"
      ]
     },
     "metadata": {
      "image/png": {
       "height": 420,
       "width": 420
      }
     },
     "output_type": "display_data"
    }
   ],
   "source": [
    "plot(x1, x2, pch=16, col='darkorange', xlim=c(0,0.8))\n",
    "points(0.1,0.8, pch=17, cex=2, col='red')  #교수님 그림"
   ]
  },
  {
   "cell_type": "code",
   "execution_count": 82,
   "id": "74d858a3-5fa7-49ce-ae76-a32e72119da3",
   "metadata": {},
   "outputs": [
    {
     "data": {
      "text/plain": [
       "\n",
       "Call:\n",
       "lm(formula = y ~ x1 + x2, data = dt2)\n",
       "\n",
       "Residuals:\n",
       "     Min       1Q   Median       3Q      Max \n",
       "-2.73348 -0.69318 -0.05263  0.66385  2.30619 \n",
       "\n",
       "Coefficients:\n",
       "            Estimate Std. Error t value Pr(>|t|)    \n",
       "(Intercept)   2.2267     0.2314   9.624 7.91e-16 ***\n",
       "x1            0.5394     0.5922   0.911  0.36458    \n",
       "x2            2.5146     0.8977   2.801  0.00614 ** \n",
       "---\n",
       "Signif. codes:  0 ‘***’ 0.001 ‘**’ 0.01 ‘*’ 0.05 ‘.’ 0.1 ‘ ’ 1\n",
       "\n",
       "Residual standard error: 1.075 on 98 degrees of freedom\n",
       "Multiple R-squared:  0.2188,\tAdjusted R-squared:  0.2029 \n",
       "F-statistic: 13.72 on 2 and 98 DF,  p-value: 5.564e-06\n"
      ]
     },
     "metadata": {},
     "output_type": "display_data"
    }
   ],
   "source": [
    "multi2=lm(y~x1+x2, data=dt2)\n",
    "summary(multi2)"
   ]
  },
  {
   "cell_type": "code",
   "execution_count": 83,
   "id": "3a052bd2-8a6a-46b1-b728-2a9fe6b46e6f",
   "metadata": {},
   "outputs": [
    {
     "data": {
      "text/plain": [
       "\n",
       "Call:\n",
       "lm(formula = y ~ x1, data = dt2)\n",
       "\n",
       "Residuals:\n",
       "    Min      1Q  Median      3Q     Max \n",
       "-2.8897 -0.6556 -0.0909  0.5682  3.5665 \n",
       "\n",
       "Coefficients:\n",
       "            Estimate Std. Error t value Pr(>|t|)    \n",
       "(Intercept)   2.2569     0.2390   9.445 1.78e-15 ***\n",
       "x1            1.7657     0.4124   4.282 4.29e-05 ***\n",
       "---\n",
       "Signif. codes:  0 ‘***’ 0.001 ‘**’ 0.01 ‘*’ 0.05 ‘.’ 0.1 ‘ ’ 1\n",
       "\n",
       "Residual standard error: 1.111 on 99 degrees of freedom\n",
       "Multiple R-squared:  0.1562,\tAdjusted R-squared:  0.1477 \n",
       "F-statistic: 18.33 on 1 and 99 DF,  p-value: 4.295e-05\n"
      ]
     },
     "metadata": {},
     "output_type": "display_data"
    }
   ],
   "source": [
    "m1_2=lm(y~x1, data=dt2)\n",
    "summary(m1_2)"
   ]
  },
  {
   "cell_type": "code",
   "execution_count": 84,
   "id": "ec1d0eef-70da-4bae-897d-c0ef975c93c8",
   "metadata": {},
   "outputs": [
    {
     "data": {
      "text/plain": [
       "\n",
       "Call:\n",
       "lm(formula = y ~ x2, data = dt2)\n",
       "\n",
       "Residuals:\n",
       "     Min       1Q   Median       3Q      Max \n",
       "-2.64729 -0.71021 -0.06899  0.72699  2.38074 \n",
       "\n",
       "Coefficients:\n",
       "            Estimate Std. Error t value Pr(>|t|)    \n",
       "(Intercept)   2.3451     0.1912  12.264  < 2e-16 ***\n",
       "x2            3.1190     0.6040   5.164 1.25e-06 ***\n",
       "---\n",
       "Signif. codes:  0 ‘***’ 0.001 ‘**’ 0.01 ‘*’ 0.05 ‘.’ 0.1 ‘ ’ 1\n",
       "\n",
       "Residual standard error: 1.074 on 99 degrees of freedom\n",
       "Multiple R-squared:  0.2122,\tAdjusted R-squared:  0.2042 \n",
       "F-statistic: 26.66 on 1 and 99 DF,  p-value: 1.253e-06\n"
      ]
     },
     "metadata": {},
     "output_type": "display_data"
    }
   ],
   "source": [
    "m2_2=lm(y~x2, data=dt2)\n",
    "summary(m2_2)"
   ]
  },
  {
   "cell_type": "markdown",
   "id": "5cb30602-ccef-429b-bd14-d97d410d778a",
   "metadata": {},
   "source": [
    "- 새로운 데이터를 추가한 뒤 중회귀분석 결과 추정된 회귀식은 $\\hat{y} = 2.2267 + 0.5394*x_1 + 2.5146*x_2$임. Multiple R-squared$=0.2188$, Adjusted R-squared$=0.2029$로 설명력은 비교적 작게 나타났으나 p-value$=5.564e-06 \\approx 0.000006$으로 유의한 모델로 확인됨.\n",
    "- 회귀계수 유의성 검정 결과 $\\hat{\\beta}_1$의 p-value는 $0.36458$로 유의수준 0.5보다 크게 나타나 귀무가설을 기각할 수 없으며, $\\hat{\\beta}_2$의 p-value는 $0.00614$로 유의수준 0.5보다 작게 나타나 $\\beta_2 = 0$이라는 귀무가설을 기각함.\n",
    "- 이는 데이터 추가 전 결과와 상반되는 결과임.\n",
    "\n",
    "<표. 회귀계수 유의성 검정 결과>\n",
    "    \n",
    "||Estimate|Std.Error|t|p-value|\n",
    "|---|---|---|---|---|\n",
    "|(Intercept)|2.2267|0.2314|9.624|7.91e-16$\\approx 0$|\n",
    "|x1|0.5394|0.5922|0.911|0.36458|\n",
    "|x2|2.5146|0.8977|2.801|0.00614|"
   ]
  },
  {
   "cell_type": "markdown",
   "id": "6942dce4-8115-4817-8889-65ebea5386ae",
   "metadata": {},
   "source": [
    "- x1과 x2에 대해 단순회귀모형을 진행한 결과 데이터 추가 전과 동일하게 $\\beta_1=0$,$\\beta_2=0$이라는 귀무가설을 기각하여 유의미한 모델로 확인됨. \n",
    "- 변경된 추정식은 아래와 같음.\n",
    "\n",
    "$\\hat{y} = 2.2569 + 1.7657*x_1$  \n",
    "\n",
    "$\\hat{y} = 2.3451 + 3.1190*x_2$"
   ]
  },
  {
   "cell_type": "markdown",
   "id": "25c9316a-3075-4881-9fd3-4c246256b987",
   "metadata": {
    "tags": []
   },
   "source": [
    "`Q.` 추가된 데이터는 이상점/영향점인가?"
   ]
  },
  {
   "cell_type": "code",
   "execution_count": 85,
   "id": "08f5957d-09ca-4c3e-a239-d5142c5f3ea0",
   "metadata": {},
   "outputs": [
    {
     "data": {
      "text/html": [
       "<table class=\"dataframe\">\n",
       "<caption>A data.frame: 1 × 3</caption>\n",
       "<thead>\n",
       "\t<tr><th></th><th scope=col>x1</th><th scope=col>x2</th><th scope=col>y</th></tr>\n",
       "\t<tr><th></th><th scope=col>&lt;dbl&gt;</th><th scope=col>&lt;dbl&gt;</th><th scope=col>&lt;dbl&gt;</th></tr>\n",
       "</thead>\n",
       "<tbody>\n",
       "\t<tr><th scope=row>82</th><td>0.7125147</td><td>0.2973679</td><td>0.6253191</td></tr>\n",
       "</tbody>\n",
       "</table>\n"
      ],
      "text/latex": [
       "A data.frame: 1 × 3\n",
       "\\begin{tabular}{r|lll}\n",
       "  & x1 & x2 & y\\\\\n",
       "  & <dbl> & <dbl> & <dbl>\\\\\n",
       "\\hline\n",
       "\t82 & 0.7125147 & 0.2973679 & 0.6253191\\\\\n",
       "\\end{tabular}\n"
      ],
      "text/markdown": [
       "\n",
       "A data.frame: 1 × 3\n",
       "\n",
       "| <!--/--> | x1 &lt;dbl&gt; | x2 &lt;dbl&gt; | y &lt;dbl&gt; |\n",
       "|---|---|---|---|\n",
       "| 82 | 0.7125147 | 0.2973679 | 0.6253191 |\n",
       "\n"
      ],
      "text/plain": [
       "   x1        x2        y        \n",
       "82 0.7125147 0.2973679 0.6253191"
      ]
     },
     "metadata": {},
     "output_type": "display_data"
    },
    {
     "data": {
      "text/html": [
       "<table class=\"dataframe\">\n",
       "<caption>A data.frame: 1 × 3</caption>\n",
       "<thead>\n",
       "\t<tr><th></th><th scope=col>x1</th><th scope=col>x2</th><th scope=col>y</th></tr>\n",
       "\t<tr><th></th><th scope=col>&lt;dbl&gt;</th><th scope=col>&lt;dbl&gt;</th><th scope=col>&lt;dbl&gt;</th></tr>\n",
       "</thead>\n",
       "<tbody>\n",
       "\t<tr><th scope=row>101</th><td>0.1</td><td>0.8</td><td>6</td></tr>\n",
       "</tbody>\n",
       "</table>\n"
      ],
      "text/latex": [
       "A data.frame: 1 × 3\n",
       "\\begin{tabular}{r|lll}\n",
       "  & x1 & x2 & y\\\\\n",
       "  & <dbl> & <dbl> & <dbl>\\\\\n",
       "\\hline\n",
       "\t101 & 0.1 & 0.8 & 6\\\\\n",
       "\\end{tabular}\n"
      ],
      "text/markdown": [
       "\n",
       "A data.frame: 1 × 3\n",
       "\n",
       "| <!--/--> | x1 &lt;dbl&gt; | x2 &lt;dbl&gt; | y &lt;dbl&gt; |\n",
       "|---|---|---|---|\n",
       "| 101 | 0.1 | 0.8 | 6 |\n",
       "\n"
      ],
      "text/plain": [
       "    x1  x2  y\n",
       "101 0.1 0.8 6"
      ]
     },
     "metadata": {},
     "output_type": "display_data"
    },
    {
     "data": {
      "image/png": "[encoded data removed]",
      "text/plain": [
       "plot without title"
      ]
     },
     "metadata": {
      "image/png": {
       "height": 420,
       "width": 420
      }
     },
     "output_type": "display_data"
    }
   ],
   "source": [
    "residual <- resid(multi2)\n",
    "s_residual <- rstandard(multi2)\n",
    "y_hat <- fitted(multi2)\n",
    "par(mfrow=c(1,2))\n",
    "plot(y_hat, residual, pch=16, col='steelblue')\n",
    "abline(h=0, lty=2)\n",
    "plot(y_hat, s_residual, pch=16, col='steelblue')\n",
    "abline(h=0, lty=2)\n",
    "out <- which.max(abs(s_residual))\n",
    "text (y_hat[out], s_residual[out], out,adj = c(0,0))\n",
    "#82번째 데이터 확인\n",
    "dt2[82,]\n",
    "dt2[101,]#추가된 데이터"
   ]
  },
  {
   "cell_type": "markdown",
   "id": "1067a184-7880-4f7c-b408-1621f788e312",
   "metadata": {
    "tags": []
   },
   "source": [
    "- 중회귀분석 표준화잔차 산점도를 그린 후, 먼저 선형 회귀분석의 기본 가정을 만족하는지 확인함. \n",
    "- 잔차가 고르게 분포하고 있어 등분산성을 만족하고 있으며, Shapiro-Wilk Test 결과 정규성을 만족함.\n",
    "- 표준화잔차 중 절대값이 가장 큰 점을 찾아보니 이상치를 추정한 결과 82번째 데이터로 확인됨.\n",
    "- 추가된 데이터는 101번째 데이터이기 때문에, 해당 데이터는 **이상점이 아니라고 할 수 있음**.\n",
    "- 그러나 데이터를 추가한 후 중회귀분석 결과 계수값이 달라져 $\\hat{\\beta}_1$은 $\\beta_1$ 값과 멀어지고, $\\hat{\\beta}_2$는 $\\beta_2$ 값과 비교적 가까워지는 모습을 보였음. 또한 유의한 계수가 $\\beta_1$에서 $\\beta_2$로 전환되어 추가된 데이터는 **영향점이라고 할 수 있음**. "
   ]
  },
  {
   "cell_type": "markdown",
   "id": "3d1cb270-47da-48d5-b21c-627f46aa94dc",
   "metadata": {},
   "source": [
    "**🥸 교수님 풀이 추가**"
   ]
  },
  {
   "cell_type": "code",
   "execution_count": 93,
   "id": "6dcfab87-e307-4a13-87d8-3fcad7ff6a59",
   "metadata": {},
   "outputs": [
    {
     "data": {
      "image/png": "[encoded data removed]",
      "text/plain": [
       "plot without title"
      ]
     },
     "metadata": {
      "image/png": {
       "height": 420,
       "width": 420
      }
     },
     "output_type": "display_data"
    }
   ],
   "source": [
    "par(mfrow=c(1,2))\n",
    "\n",
    "plot(x1, y, pch=16, col='darkorange')\n",
    "points(0.1,6, pch=17, cex=2, col='red')\n",
    "abline(m1, lty=2, col='blue')\n",
    "abline(m1_2, lty=2, col='red')\n",
    "\n",
    "\n",
    "plot(x2, y, pch=16, col='darkorange', xlim=c(0,0.8))\n",
    "points(0.8,6, pch=17, cex=2, col='red')\n",
    "abline(m2, lty=2, col='blue')\n",
    "abline(m2_2, lty=2, col='red')"
   ]
  },
  {
   "cell_type": "markdown",
   "id": "f754a2e9-044c-4cdc-af0e-46b51ee54056",
   "metadata": {
    "tags": []
   },
   "source": [
    "[중회귀분석]\n",
    "- 데이터가 추가된 후 회귀계수가 바뀌게 되어서 추가된 데이터는 영향점임.  \n",
    "\n",
    "[단순회귀분석]\n",
    "- 파란색은 첫번째 회귀직선, 빨간색이 데이터가 추가된 회귀직선임.\n",
    "- 크게 변화가 없는 것을 볼 수 있음\n",
    "- 추가된 데이터를 보면 굉장히 회귀직선에서 멀어서 이상점이라고 봐도 될 것 같음."
   ]
  },
  {
   "cell_type": "code",
   "execution_count": 95,
   "id": "e20ef131-8c19-4bdc-b1cc-578846ea287e",
   "metadata": {},
   "outputs": [
    {
     "data": {
      "image/png": "[encoded data removed]",
      "text/plain": [
       "plot without title"
      ]
     },
     "metadata": {
      "image/png": {
       "height": 420,
       "width": 420
      }
     },
     "output_type": "display_data"
    }
   ],
   "source": [
    "par(mfrow=c(1,3))\n",
    "plot(m2_2$residuals)\n",
    "abline(h=0, lty=2)\n",
    "points(101, m2_2$residuals[101], pch=16, col='red')\n",
    "plot(m1_2$residuals)\n",
    "abline(h=0, lty=2)\n",
    "points(101, m1_2$residuals[101], pch=16, col='red')\n",
    "plot(m2_2$residuals)\n",
    "abline(h=0, lty=2)\n",
    "points(101, m2_2$residuals[101], pch=16, col='red')"
   ]
  },
  {
   "cell_type": "markdown",
   "id": "62e08ae7-c707-4193-98d1-80408392580b",
   "metadata": {},
   "source": [
    "- 잔차를 보면 첫번째 변수가 2개일 때와 x2만 사용했을 때는 이상점으로 안 보이고\n",
    "- x1만 사용했을 때는 이상점으로 보임."
   ]
  },
  {
   "cell_type": "code",
   "execution_count": 99,
   "id": "b884a079-f3ad-43e7-a034-73a931e73188",
   "metadata": {},
   "outputs": [
    {
     "data": {
      "text/plain": [
       "Influence measures of\n",
       "\t lm(formula = y ~ x1, data = dt2) :\n",
       "\n",
       "       dfb.1_    dfb.x1     dffit cov.r   cook.d     hat inf\n",
       "1    3.58e-02 -0.025822  0.038012 1.038 7.29e-04 0.01838    \n",
       "2   -1.27e-02  0.007188 -0.015393 1.033 1.20e-04 0.01266    \n",
       "3   -8.29e-03 -0.006846 -0.031785 1.029 5.10e-04 0.01038    \n",
       "4    6.76e-02 -0.118259 -0.142989 1.040 1.03e-02 0.03133    \n",
       "5   -2.24e-01  0.174309 -0.229826 0.999 2.61e-02 0.02331    \n",
       "6    6.92e-02 -0.122688 -0.149552 1.037 1.12e-02 0.03028    \n",
       "7   -9.78e-02  0.163415  0.192462 1.037 1.85e-02 0.03548    \n",
       "8    1.40e-03 -0.032515 -0.067605 1.026 2.30e-03 0.01288    \n",
       "9   -1.02e-02 -0.054069 -0.136768 1.000 9.30e-03 0.01174    \n",
       "10   2.99e-01 -0.257686  0.299628 1.013 4.43e-02 0.03803    \n",
       "11   4.31e-02 -0.033437  0.044349 1.043 9.93e-04 0.02294    \n",
       "12  -6.19e-02  0.049345 -0.063047 1.044 2.00e-03 0.02556    \n",
       "13  -1.09e-02  0.063756  0.117449 1.015 6.90e-03 0.01404    \n",
       "14   6.27e-02 -0.034000  0.078127 1.023 3.07e-03 0.01221    \n",
       "15   2.11e-02 -0.052353 -0.075793 1.034 2.89e-03 0.01894    \n",
       "16   1.02e-01 -0.011757  0.197249 0.954 1.89e-02 0.00994    \n",
       "17   5.56e-03 -0.019989 -0.033021 1.035 5.50e-04 0.01563    \n",
       "18   1.31e-01 -0.209637 -0.240343 1.036 2.88e-02 0.04139    \n",
       "19  -2.05e-02  0.011276 -0.025273 1.032 3.22e-04 0.01236    \n",
       "20  -1.17e-02  0.028124  0.040107 1.039 8.12e-04 0.01948    \n",
       "21  -2.13e-01  0.360276  0.427143 0.954 8.76e-02 0.03431   *\n",
       "22  -1.21e-02  0.009317 -0.012467 1.044 7.85e-05 0.02243    \n",
       "23   2.78e-04  0.021784  0.047612 1.030 1.14e-03 0.01252    \n",
       "24  -5.04e-02  0.041774 -0.050772 1.051 1.30e-03 0.03065    \n",
       "25  -6.10e-02  0.043918 -0.064893 1.035 2.12e-03 0.01827    \n",
       "26  -1.07e-02  0.005774 -0.013437 1.033 9.12e-05 0.01214    \n",
       "27   1.03e-01 -0.091008  0.103254 1.063 5.37e-03 0.04437   *\n",
       "28   1.62e-01 -0.088241  0.200618 0.968 1.97e-02 0.01228    \n",
       "29  -7.28e-02  0.135305  0.169394 1.028 1.43e-02 0.02735    \n",
       "30   1.00e-01 -0.062460  0.115038 1.016 6.62e-03 0.01404    \n",
       "31  -6.79e-02  0.014115 -0.120489 1.001 7.23e-03 0.01004    \n",
       "32   1.54e-02  0.027599  0.090505 1.016 4.11e-03 0.01092    \n",
       "33   8.96e-03 -0.001273  0.016969 1.030 1.45e-04 0.00996    \n",
       "34  -2.43e-01  0.191807 -0.247895 0.996 3.03e-02 0.02467    \n",
       "35  -3.15e-02  0.064116  0.084350 1.039 3.58e-03 0.02345    \n",
       "36   6.58e-04 -0.007754 -0.015512 1.034 1.22e-04 0.01320    \n",
       "37  -6.60e-02  0.148525  0.205457 1.001 2.09e-02 0.02074    \n",
       "38  -1.65e-01  0.138633 -0.166167 1.037 1.38e-02 0.03258    \n",
       "39   8.35e-03 -0.028234 -0.045790 1.034 1.06e-03 0.01597    \n",
       "40  -7.38e-02  0.035161 -0.098524 1.015 4.86e-03 0.01135    \n",
       "41   6.80e-03 -0.014086 -0.018696 1.044 1.77e-04 0.02290    \n",
       "42   8.47e-04  0.019304  0.043352 1.030 9.48e-04 0.01235    \n",
       "43   2.54e-02 -0.059701 -0.084260 1.034 3.57e-03 0.01988    \n",
       "44   2.42e-02  0.010681  0.073604 1.020 2.72e-03 0.01011    \n",
       "45  -4.50e-02 -0.006562 -0.110092 1.006 6.05e-03 0.00994    \n",
       "46   4.03e-02 -0.092444 -0.128967 1.025 8.33e-03 0.02036    \n",
       "47   2.25e-01 -0.197760  0.225393 1.042 2.54e-02 0.04302    \n",
       "48  -5.84e-02  0.013618 -0.101018 1.010 5.10e-03 0.01008    \n",
       "49  -9.42e-03  0.029541  0.046750 1.035 1.10e-03 0.01648    \n",
       "50   4.51e-03 -0.023307 -0.041974 1.033 8.89e-04 0.01431    \n",
       "51   1.66e-02 -0.003847  0.028836 1.029 4.20e-04 0.01008    \n",
       "52  -1.12e-01  0.212034  0.267817 0.994 3.53e-02 0.02653    \n",
       "53   9.52e-02 -0.037686  0.138852 0.995 9.56e-03 0.01069    \n",
       "54  -6.01e-02  0.044623 -0.063015 1.037 2.00e-03 0.01986    \n",
       "55  -4.65e-01  0.398433 -0.465723 0.947 1.04e-01 0.03693   *\n",
       "56   4.03e-01 -0.340019  0.405033 0.961 7.90e-02 0.03353    \n",
       "57   5.59e-02 -0.036899  0.062231 1.031 1.95e-03 0.01527    \n",
       "58   2.06e-02  0.000845  0.046039 1.026 1.07e-03 0.00990    \n",
       "59   1.09e-05 -0.000219 -0.000453 1.034 1.04e-07 0.01293    \n",
       "60   3.39e-02 -0.016539  0.044668 1.029 1.01e-03 0.01147    \n",
       "61   7.06e-03 -0.012268 -0.014779 1.054 1.10e-04 0.03184    \n",
       "62   2.83e-02 -0.019545  0.030804 1.037 4.79e-04 0.01657    \n",
       "63  -2.54e-02  0.008038 -0.040250 1.028 8.17e-04 0.01031    \n",
       "64  -1.47e-01  0.093747 -0.167356 0.996 1.39e-02 0.01443    \n",
       "65   8.15e-04  0.045166  0.099175 1.017 4.93e-03 0.01249    \n",
       "66   1.62e-01 -0.117817  0.170719 1.009 1.45e-02 0.01890    \n",
       "67  -2.04e-02  0.004622 -0.035545 1.028 6.37e-04 0.01007    \n",
       "68   4.17e-02 -0.105354 -0.153642 1.014 1.18e-02 0.01869    \n",
       "69   7.53e-02 -0.064026  0.075481 1.055 2.87e-03 0.03530    \n",
       "70  -1.98e-03  0.003638  0.004529 1.050 1.04e-05 0.02791    \n",
       "71  -1.79e-01  0.111999 -0.205218 0.976 2.07e-02 0.01410    \n",
       "72  -6.06e-03  0.011994  0.015534 1.046 1.22e-04 0.02451    \n",
       "73  -6.99e-02  0.042892 -0.081123 1.025 3.31e-03 0.01374    \n",
       "74  -4.55e-02  0.028839 -0.051755 1.032 1.35e-03 0.01436    \n",
       "75  -6.55e-02  0.015565 -0.112791 1.005 6.35e-03 0.01009    \n",
       "76  -1.41e-01  0.251489  0.308202 0.988 4.65e-02 0.02963    \n",
       "77   1.65e-02 -0.030906 -0.038907 1.047 7.64e-04 0.02683    \n",
       "78  -1.36e-01  0.072185 -0.172293 0.983 1.46e-02 0.01201    \n",
       "79  -8.12e-03  0.019526  0.027851 1.040 3.92e-04 0.01947    \n",
       "80  -3.44e-02  0.056443  0.065823 1.058 2.19e-03 0.03741    \n",
       "81  -7.04e-02  0.028650 -0.101315 1.012 5.14e-03 0.01076    \n",
       "82   5.27e-02 -0.200948 -0.337392 0.898 5.35e-02 0.01534   *\n",
       "83  -5.51e-02  0.027883 -0.071413 1.024 2.56e-03 0.01168    \n",
       "84   3.86e-02 -0.024985  0.043465 1.033 9.53e-04 0.01479    \n",
       "85   5.12e-04 -0.001359 -0.002022 1.039 2.07e-06 0.01806    \n",
       "86  -4.40e-02  0.034219 -0.045180 1.043 1.03e-03 0.02322    \n",
       "87  -9.78e-03  0.037895  0.063916 1.031 2.06e-03 0.01527    \n",
       "88  -2.30e-01  0.191494 -0.232003 1.018 2.67e-02 0.03106    \n",
       "89   1.13e-01 -0.083450  0.117997 1.027 6.98e-03 0.01981    \n",
       "90  -3.23e-02  0.026477 -0.032687 1.050 5.39e-04 0.02880    \n",
       "91   6.04e-02 -0.045128  0.063132 1.038 2.01e-03 0.02025    \n",
       "92   1.53e-01 -0.131619  0.152792 1.049 1.17e-02 0.03838    \n",
       "93   5.54e-04  0.007069  0.016349 1.033 1.35e-04 0.01218    \n",
       "94   5.50e-02 -0.101013 -0.125637 1.038 7.93e-03 0.02800    \n",
       "95  -4.44e-02  0.105936  0.150645 1.017 1.13e-02 0.01959    \n",
       "96   8.67e-02 -0.193083 -0.265719 0.976 3.45e-02 0.02098    \n",
       "97  -3.34e-02  0.011083 -0.052046 1.026 1.36e-03 0.01037    \n",
       "98  -2.57e-02  0.012352 -0.034264 1.030 5.92e-04 0.01138    \n",
       "99   7.10e-03 -0.015147 -0.020402 1.043 2.10e-04 0.02206    \n",
       "100  1.38e-02  0.029126  0.090429 1.017 4.10e-03 0.01105    \n",
       "101  6.37e-01 -0.536951  0.639864 0.841 1.85e-01 0.03347   *"
      ]
     },
     "metadata": {},
     "output_type": "display_data"
    }
   ],
   "source": [
    "#이상점을 확인하는 코드\n",
    "#dfb.1_, dfb.x1 값이 크면 이상점\n",
    "#dffit : 1번 값이 있을 때와 없을 때의 예측값의 차이\n",
    "#전체적으로 값이 크면 영향값이라고 할 수 있음\n",
    "influence.measures(m1_2)"
   ]
  },
  {
   "cell_type": "markdown",
   "id": "ee2a1068-be33-48cd-9b14-b864e05e8902",
   "metadata": {},
   "source": [
    "---"
   ]
  },
  {
   "cell_type": "markdown",
   "id": "cd778bd1-ce16-4992-8868-4f78a5b18b17",
   "metadata": {},
   "source": [
    "### Logistic Regression"
   ]
  },
  {
   "cell_type": "markdown",
   "id": "906ad111-28ed-4ed6-bdd1-0a01dc670ff7",
   "metadata": {},
   "source": [
    "**1. 두개의 설명변수 (X1 = 공부시간, X2 = 학부평점)를 이용하여 A학점을 받을 확률을 예측하기 위해 로지스틱 회귀모형을 적합하였다. 추정된 회귀계수는 $\\hat{\\beta}_0 = −6, \\hat{\\beta}_1 = 0.05, \\hat{\\beta}_2 = 1$이다.**"
   ]
  },
  {
   "cell_type": "markdown",
   "id": "6ce2099c-999c-4987-9bfb-9ea922c92274",
   "metadata": {},
   "source": [
    "(a) 40시간 공부하고, 평점이 3.5인 학생이 A를 받았을 확률을 예측하여라."
   ]
  },
  {
   "cell_type": "code",
   "execution_count": 26,
   "id": "e195a9f5-b3d1-4ecc-9e91-8b90c4e12a88",
   "metadata": {},
   "outputs": [
    {
     "data": {
      "text/html": [
       "0.377540668798145"
      ],
      "text/latex": [
       "0.377540668798145"
      ],
      "text/markdown": [
       "0.377540668798145"
      ],
      "text/plain": [
       "[1] 0.3775407"
      ]
     },
     "metadata": {},
     "output_type": "display_data"
    }
   ],
   "source": [
    "x1=40\n",
    "x2=3.5\n",
    "pr=exp(-6+0.05*x1+1*x2)/(1+exp(-6+0.05*x1+1*x2));pr"
   ]
  },
  {
   "cell_type": "markdown",
   "id": "9f41ad0d-78f3-4a58-938b-bea91a6b1350",
   "metadata": {},
   "source": [
    "(b) 평점이 3.5인 학생은 얼마나 공부를 해야 A를 받을 확률이 50%를 넘을 것인가?"
   ]
  },
  {
   "cell_type": "code",
   "execution_count": 40,
   "id": "6efad0fb-025d-452b-b52d-c9710a1ec71d",
   "metadata": {},
   "outputs": [
    {
     "data": {
      "text/html": [
       "1.05127109637602"
      ],
      "text/latex": [
       "1.05127109637602"
      ],
      "text/markdown": [
       "1.05127109637602"
      ],
      "text/plain": [
       "[1] 1.051271"
      ]
     },
     "metadata": {},
     "output_type": "display_data"
    }
   ],
   "source": [
    "odds_ratio=exp(0.05);odds_ratio "
   ]
  },
  {
   "cell_type": "markdown",
   "id": "dafdb202-aa7c-423b-835e-3f377c27238d",
   "metadata": {},
   "source": [
    "- 공부시간이 1 unit 증가할 때 A를 맞을 확률이 1.05배 정도 커진다."
   ]
  },
  {
   "cell_type": "code",
   "execution_count": 47,
   "id": "21a08a52-dbd6-454f-9029-e939e3307942",
   "metadata": {},
   "outputs": [
    {
     "data": {
      "text/html": [
       "1.32436063535008"
      ],
      "text/latex": [
       "1.32436063535008"
      ],
      "text/markdown": [
       "1.32436063535008"
      ],
      "text/plain": [
       "[1] 1.324361"
      ]
     },
     "metadata": {},
     "output_type": "display_data"
    }
   ],
   "source": [
    "0.5/0.37754066879814"
   ]
  },
  {
   "cell_type": "code",
   "execution_count": 49,
   "id": "91b24059-784b-4b30-ae87-50e3c2659716",
   "metadata": {},
   "outputs": [
    {
     "data": {
      "text/html": [
       "5.61859607240391"
      ],
      "text/latex": [
       "5.61859607240391"
      ],
      "text/markdown": [
       "5.61859607240391"
      ],
      "text/plain": [
       "[1] 5.618596"
      ]
     },
     "metadata": {},
     "output_type": "display_data"
    }
   ],
   "source": [
    "log(1.32436063535008)/log(1.05127109637602)"
   ]
  },
  {
   "cell_type": "code",
   "execution_count": 51,
   "id": "a007b288-d992-44e4-94bb-8d3ee2305f3e",
   "metadata": {},
   "outputs": [
    {
     "data": {
      "text/html": [
       "0.51249739648421"
      ],
      "text/latex": [
       "0.51249739648421"
      ],
      "text/markdown": [
       "0.51249739648421"
      ],
      "text/plain": [
       "[1] 0.5124974"
      ]
     },
     "metadata": {},
     "output_type": "display_data"
    }
   ],
   "source": [
    "new=x1+6\n",
    "pr=exp(-6+0.05*new+1*x2)/(1+exp(-6+0.05*new+1*x2));pr"
   ]
  },
  {
   "cell_type": "markdown",
   "id": "c3064013-80e4-4049-8695-a204fd395d1a",
   "metadata": {},
   "source": [
    "---"
   ]
  },
  {
   "cell_type": "markdown",
   "id": "d69007b9-5df4-459a-8c3f-cc1b97fa5104",
   "metadata": {},
   "source": [
    "**2. 다음은 odds에 관한 문제이다.**"
   ]
  },
  {
   "cell_type": "markdown",
   "id": "33c77e0a-34fa-4840-80aa-45c151dc3a52",
   "metadata": {},
   "source": [
    "(a) 신용카드결재 문제에서 결재를 하지 못하는 경우(default)에 대한 odds가 0.37인 사람들이 실제로 defalut할 확률은 평균적으로 얼마인가?"
   ]
  },
  {
   "cell_type": "markdown",
   "id": "7f66e9cf-71dc-4edd-a9fb-1a67e239e69d",
   "metadata": {},
   "source": [
    "- odds가 0.37이라는 의미는 결재 YES 확률이 결재 NO 확률보다 $\\frac{100}{37}$배 더 크다는 의미임."
   ]
  },
  {
   "cell_type": "code",
   "execution_count": 56,
   "id": "33ce173c-0f12-47aa-b896-cd442edcf01f",
   "metadata": {},
   "outputs": [
    {
     "data": {
      "text/html": [
       "2.7027027027027"
      ],
      "text/latex": [
       "2.7027027027027"
      ],
      "text/markdown": [
       "2.7027027027027"
      ],
      "text/plain": [
       "[1] 2.702703"
      ]
     },
     "metadata": {},
     "output_type": "display_data"
    }
   ],
   "source": [
    "100/37"
   ]
  },
  {
   "cell_type": "markdown",
   "id": "8a5e8e32-ada8-48e5-892a-8440d90a4907",
   "metadata": {},
   "source": [
    "- 사람들이 실제로 결재 NO할 확률은  \n",
    "$p+p*2.7027027027027 = 1$  \n",
    "$3.7027027027027*p=1$  \n",
    "$p=\\frac{1}{3.7027027027027}=0.27007299270073$  "
   ]
  },
  {
   "cell_type": "code",
   "execution_count": 57,
   "id": "25419d69-ce22-41b4-a7d9-679bffba7b20",
   "metadata": {},
   "outputs": [
    {
     "data": {
      "text/html": [
       "0.27007299270073"
      ],
      "text/latex": [
       "0.27007299270073"
      ],
      "text/markdown": [
       "0.27007299270073"
      ],
      "text/plain": [
       "[1] 0.270073"
      ]
     },
     "metadata": {},
     "output_type": "display_data"
    }
   ],
   "source": [
    "1/3.7027027027027"
   ]
  },
  {
   "cell_type": "code",
   "execution_count": 59,
   "id": "5cd244a6-3aa5-4584-abc4-341e9cb550f0",
   "metadata": {},
   "outputs": [
    {
     "data": {
      "text/html": [
       "0.27007299270073"
      ],
      "text/latex": [
       "0.27007299270073"
      ],
      "text/markdown": [
       "0.27007299270073"
      ],
      "text/plain": [
       "[1] 0.270073"
      ]
     },
     "metadata": {},
     "output_type": "display_data"
    }
   ],
   "source": [
    "0.37/1.37\n",
    "#오즈 정의로 바로 계산"
   ]
  },
  {
   "cell_type": "markdown",
   "id": "d7ecad5c-2c5a-4544-934f-75111483acae",
   "metadata": {},
   "source": [
    "(b) 어떤 개인이 default할 확률이 16% 라고 하자. 그 사람이 default할 odds는 얼마인가?"
   ]
  },
  {
   "cell_type": "code",
   "execution_count": 61,
   "id": "c61ca5e9-907f-4d7f-8449-1b0cc9890459",
   "metadata": {},
   "outputs": [
    {
     "data": {
      "text/html": [
       "0.19047619047619"
      ],
      "text/latex": [
       "0.19047619047619"
      ],
      "text/markdown": [
       "0.19047619047619"
      ],
      "text/plain": [
       "[1] 0.1904762"
      ]
     },
     "metadata": {},
     "output_type": "display_data"
    }
   ],
   "source": [
    "p=0.16\n",
    "odds=p/(1-p);odds"
   ]
  }
 ],
 "metadata": {
  "kernelspec": {
   "display_name": "R",
   "language": "R",
   "name": "ir"
  },
  "language_info": {
   "codemirror_mode": "r",
   "file_extension": ".r",
   "mimetype": "text/x-r-source",
   "name": "R",
   "pygments_lexer": "r",
   "version": "4.1.2"
  },
  "toc-autonumbering": false,
  "toc-showmarkdowntxt": false
 },
 "nbformat": 4,
 "nbformat_minor": 5
}
