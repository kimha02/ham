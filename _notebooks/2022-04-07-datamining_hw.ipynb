{
 "cells": [
  {
   "cell_type": "markdown",
   "id": "63170f37-04b8-41d2-ab46-6e870861c3f0",
   "metadata": {},
   "source": [
    "### Linear Regression"
   ]
  },
  {
   "cell_type": "markdown",
   "id": "e45b95ad-c33a-409f-8a26-6970e41456cc",
   "metadata": {
    "tags": []
   },
   "source": [
    "**1. 설명변수가 1개(X)인고, 반응변수가 1개(Y )인데이터를 가지고 있다고 하자. (n = 100) 그리고 다음의 두 모형(linear regression, cubic regression)을 적합시키려고 한다.**  \n",
    "<center>\n",
    "$Y = \\beta_0 + \\beta_1X + \\epsilon$\n",
    "<center>\n",
    "$Y = \\beta_0 + \\beta_1X + \\beta_2X^2 + \\beta_3X^3 + \\epsilon$  "
   ]
  },
  {
   "cell_type": "markdown",
   "id": "545bbc0a-f55b-42dd-8111-fc7b1a71f0bd",
   "metadata": {},
   "source": [
    "(a) 실제 X, Y 가 선형(linear)관계가 있다고 가정 하자. 모델 (1),(2)의 SSE(잔차제곱합)의 크기를 비교할 수 있는지 설명하여라"
   ]
  },
  {
   "cell_type": "markdown",
   "id": "8160e6f6-e59b-4b4a-8774-a7d9ff878806",
   "metadata": {},
   "source": [
    "- SSE"
   ]
  },
  {
   "cell_type": "markdown",
   "id": "2954c3ac-f714-4a5f-b888-f59fdb0dfd27",
   "metadata": {},
   "source": [
    "(b) 실제 X, Y 가 비선형(non-linear)관계가 있다고 가정 하자. 대신 실제 모형에 대한 정보는 없다. 모델 (1),(2)의 SSE(잔차제곱합)의 크기를 비교할 수 있는지 설명하여라."
   ]
  },
  {
   "cell_type": "markdown",
   "id": "f2a6801b-cb7a-4ae3-8d49-38241b67f942",
   "metadata": {},
   "source": [
    "**2. ’Auto.csv’ 데이터를 이용하여 단순선형 회귀 모형을 적합한다.**"
   ]
  },
  {
   "cell_type": "markdown",
   "id": "528738d1-3eab-4c8d-950a-4f8c3c062c74",
   "metadata": {},
   "source": [
    "(a) 반응변수 mpg, 설명변수는 horsepower로 하는 단순선형회귀모형을 적합 시킨 후 summary() 함수의 결과 확인하고 다음의 물음에 답하여라."
   ]
  },
  {
   "cell_type": "markdown",
   "id": "0449ed96-2906-42a4-89d5-06a05fd5ad22",
   "metadata": {},
   "source": [
    "- 단순선형회귀분석 전 horsepower가 문자형으로 확인되어 숫자형으로 변경 후 결측값 제거를 진행함. 총 397개 데이터에서 결측치 5개를 제거하여 392개 데이터로 분석함. \n",
    "\n",
    "- x=horsepower, y=mpg 회귀분석 summary결과를 요약하면 아래와 같음. \n",
    "    - 회귀계수 유의성 검정 결과, 유의확률이 0에 가까워 horsepower는 유의하다고 할 수 있음.\n",
    "    - 회귀직선 유의성 검정 결과, 유의확률은 0에 가까워 이 모델은 통계적으로 유의하다고 할 수 있음.\n",
    "    - $R^2=0.6059$으로 비교적 설명력이 높게 나타남.  \n",
    "\n",
    "**<center> \n",
    "<표. 회귀계수 유의성 검정 결과>**\n",
    "    \n",
    "||Estimate|Std.Error|t|p-value|\n",
    "|---|---|---|---|---|\n",
    "|(Intercept)|39.935861|0.717499|55.66|<2e-16|\n",
    "|x|-0.157845|0.006446|-24.49|<2e-16|\n",
    "\n",
    "**<center> \n",
    "<표. 회귀직선 유의성 검정 결과>**\n",
    "\n",
    "||DF|Sum Sq|Mean Sq|F|p-value|\n",
    "|---|---|---|---|---|---|\n",
    "|x|1|14433.1|14433.1|599.72|<2.2e-16|\n",
    "|Residuals|390|9385.9|24.1|||\n",
    "<center>\n",
    "Multiple $R^2 = 0.6059$, Adjusted $R^2 = 0.6049$"
   ]
  },
  {
   "cell_type": "markdown",
   "id": "91dd0178-7170-4593-b3e9-32c6d5aa0995",
   "metadata": {},
   "source": [
    "`Q.` 두 변수 사이에 관계\n",
    "\n",
    "- 두 변수 간 관계 여부를 확인하기 위해 산점도를 그려보면, **x가 증가함에 따라 y가 감소하는 경향**을 보임.\n",
    "- 상관계수는 $-0.7784268$으로 **음의 관계**를 가지고 있으며, 절대값이 $0.7$보다 크기 때문에 **매우 강한 관련성**을 가진다고 해석할 수 있음.\n",
    "- 상관분석 결과 또한 p-value$<2.2e-16 \\approx 0$으로 상관계수가 0이라는 귀무가설을 기각함.\n",
    "<p align=\"center\"><img src=\"http://210.117.173.183:8787/graphics/e5a8c8ab-9106-4443-a2a6-840c1f921153.png\" alt=\"scatter\"  width=\"350px\"></p>"
   ]
  },
  {
   "cell_type": "markdown",
   "id": "1e37acd3-df12-40e3-b09d-4f5127724423",
   "metadata": {},
   "source": [
    "`Q.`  horsepower의 값이 98일 때, mpg의 예측값과 95% 신뢰구간\n",
    "- 추정된 단순선형회귀모형은 $\\hat{y} = 39.935861 -0.157845x$\n",
    "- $x=98$일 때 예측값은 $24.46708$이며 95% 신뢰구간은 $(23.97308, 24.96108)$임."
   ]
  },
  {
   "cell_type": "markdown",
   "id": "41fc90f2-d79b-49a7-8947-5c6b5c3c6f6b",
   "metadata": {},
   "source": [
    "`Q.`  회귀직선을 추가한 산점도\n",
    "- 위에서 확인한 바와 같이 회귀직선은 우하향하는 모습을 보임.\n",
    "<p align=\"center\"><img src=\"http://210.117.173.183:8787/graphics/c4f6714e-5af4-413d-909b-79ff559ecad3.png\" alt=\"scatter\"  width=\"350px\"></p>"
   ]
  },
  {
   "cell_type": "markdown",
   "id": "945fa42a-16cf-4da5-bac4-206bafb0c59b",
   "metadata": {},
   "source": [
    "**3. 다중공선성(collinearity)**"
   ]
  },
  {
   "cell_type": "markdown",
   "id": "114345e4-eb71-46f3-8a55-524ac6947f1b",
   "metadata": {},
   "source": [
    "(a) 회귀모형 : $y_i = 2 + 2*x_{i1} + 0.3*x_{i2} + \\epsilon_i$  $i=1,2,\\dots,100$\n",
    "- 회귀모수 $\\beta_0 = 2, \\beta_1 = 2, \\beta_2 = 0.3$"
   ]
  },
  {
   "cell_type": "markdown",
   "id": "68bdfcc9-2630-411a-b3e9-8942e659d71f",
   "metadata": {},
   "source": [
    "(b) 두 설명변수 x1과 x2 사이에 상관관계(correlation)이 있는가? 산점도를 그려서 확인하여라.\n",
    "- 설명변수 간 상관관계를 확인하기 위해 산점도를 그린 결과, x1이 증가함에 따라 x2도 증가하는 경향을 보여 양의 관계가 있을 것으로 해석됨.\n",
    "- 상관분석을 진행한 결과 상관계수는 $0.835121$로 매우 강한 양의 상관관계가 있는 것으로 확인되었으며, $p-value<2.2e-16 \\approx 0$으로 두 변수 간 상관관계가 없다는 귀무가설을 기각함.\n",
    "<p align=\"center\"><img src=\"http://210.117.173.183:8787/graphics/7d04e8de-f29e-4fe7-b977-6adcf0ff38b3.png\" alt=\"scatter\"  width=\"350px\"></p>"
   ]
  },
  {
   "cell_type": "markdown",
   "id": "907242ee-5652-43c5-a410-f9bd94fc9d31",
   "metadata": {},
   "source": [
    "(c) 생성된 데이터를 이용하여 (a) 모형의 회귀계수를 추정하여라. 실제 회귀계수와 추정된 회귀계수와\n",
    "비교하여라. H0 : β1 = 0을 기각할 수 있는가? H0 : β2 = 0을 기각할 수 있는가?\n",
    "- 추정된 회귀식은 $\\hat{y} = 2.1305 + 1.4396*x_1 + 1.0097*x_2$임. Multiple R-squared$=0.2088$, Adjusted R-squared$=0.1925$로 설명력은 비교적 작게 나타났으나 p-value$=1.164e-05 \\approx 0.00001$로 유의한 모델로 확인됨.\n",
    "- $\\hat{\\beta}_0$과 $\\hat{\\beta}_1$은 실제 회귀계수인 $2$에 가까운 값을 보이나, $\\hat{\\beta}_2$는 실제 회귀계수인 $0.3$보다 비교적 작은 값을 보이며 다른 회귀계수 추정량 대비 실제 회귀계수와의 값 차이가 크게 나타남.\n",
    "- 회귀계수 유의성 검정 결과 $\\hat{\\beta}_1$의 p-value는 $0.0487$으로 유의수준 0.5에서 유의한 값을 보여 귀무가설을 기각할 수 없으나, $\\hat{\\beta}_2$의 p-value는 $0.3754$로 유의수준 0.5보다 크게 나타나 귀무가설을 기각할 수 없음.  \n",
    "$\\to$ 이미 유의한 모델이나, x2를 제거하는 것을 고려해볼 수 있음.\n",
    "**<center> \n",
    "<표. 회귀계수 유의성 검정 결과>**\n",
    "    \n",
    "||Estimate|Std.Error|t|p-value|\n",
    "|---|---|---|---|---|\n",
    "|(Intercept)|2.1305|0.2319|9.188|7.61e-15$\\approx 0$|\n",
    "|x1|1.4396|0.7212|1.996|0.0487|\n",
    "|x2|1.0097|1.1337|0.891|0.3754|\n"
   ]
  },
  {
   "cell_type": "markdown",
   "id": "f91cb51a-9aa5-499a-bd46-e2a15eadf10f",
   "metadata": {},
   "source": [
    "(d) 이번에는 x1만을 이용한 단순선형회귀 모형을 적합하여라. 결과를 분석하여라. H0 : β1 = 0을 기각할\n",
    "수 있는가?\n",
    "- 단순선형회귀모형을 적합한 결과, 추정된 회귀식은 $\\hat{y} = 2.1124 + 1.9759*x_1$임. Multiple R-squared $=0.2024$, Adjusted R-squared$=0.1942$로 설명력은 비교적 작게 나타났으나 p-value$=2.66e-06 \\approx 0$로 유의한 모델로 확인됨.\n",
    "- 회귀계수 유의성 검정 결과, 이전 중회귀분석 결과와 유사하게 p-value가 0에 가깝게 나타나 $\\beta_1 = 0$이라는 귀무가설을 기각함.\n",
    "\n",
    "**<center> \n",
    "<표. 회귀계수 유의성 검정 결과>**\n",
    "    \n",
    "||Estimate|Std.Error|t|p-value|\n",
    "|---|---|---|---|---|\n",
    "|(Intercept)|2.1124|0.2307|9.155|8.27e-15 $\\approx 0$|\n",
    "|x1|1.9759|0.3963|4.986|2.66e-06 $\\approx 0$|"
   ]
  },
  {
   "cell_type": "markdown",
   "id": "b016e248-3e7e-4eab-be88-8612cb1d50ce",
   "metadata": {},
   "source": [
    "(e) 이번에는 x2만을 이용한 단순선형회귀 모형을 적합하여라. 결과를 분석하여라. H0 : β2 = 0을 기각할\n",
    "수 있는가?\n",
    "- 단순선형회귀모형을 적합한 결과, 추정된 회귀식은 $\\hat{y} = 2.3899 + 2.8996*x_2$임. Multiple R-squared $=0.1763$, Adjusted R-squared$=0.1679$로 설명력은 비교적 작게 나타났으나 p-value$=1.366e-05 \\approx 0.00001$로 유의한 모델로 확인됨.\n",
    "- 회귀계수 유의성 검정 결과, 이전 중회귀분석 결과와 반대로 p-value가 0에 가깝게 나타나 $\\beta_2 = 0$이라는 귀무가설을 기각함.\n",
    "\n",
    "**<center> \n",
    "<표. 회귀계수 유의성 검정 결과>**\n",
    "    \n",
    "||Estimate|Std.Error|t|p-value|\n",
    "|---|---|---|---|---|\n",
    "|(Intercept)|2.3899|0.1949|12.26|<2e-16 $\\approx 0$|\n",
    "|x2|2.8996|0.6330|4.58|1.37e-05 $\\approx 0$|"
   ]
  },
  {
   "cell_type": "markdown",
   "id": "8c559fb0-a8a7-4270-bf1a-2edf8902d4d4",
   "metadata": {},
   "source": [
    "(f) (c)-(e)의 결과가 서로 모순되는가? 설명하여라.\n",
    "- $x_1$에 대한 단순선형회귀분석 결과, $x_1, x_2$를 모두 사용한 중회귀분석 결과와 동일하게 $\\beta_1 = 0$이라는 귀무가설을 기각하여 유의한 계수임을 확인할 수 있었음.\n",
    "- 하지만 $x_2$에 대한 단순선형회귀분석 결과는 중회귀분석 결과와 반대로 $\\beta_2 = 0$이라는 귀무가설을 기각해 유의한 계수로 나타나는 모순된 결과를 확인할 수 있음.\n",
    "- 이는 $x_1$과 $x_2$가 독립적이지 않고 상관관계가 있기 때문에 발생한 다중공선성 문제로, 중회귀분석 시에는 $x_2$가 설명해야 할 부분을 $x_1$이 설명하기 때문에 $x_2$의 계수인 $\\beta_2=0$이라는 귀무가설을 기각할 수 없었던 것임."
   ]
  },
  {
   "cell_type": "markdown",
   "id": "d65291a8-2d0b-4fab-8107-2d6ffccfe8ee",
   "metadata": {},
   "source": [
    "(g) 새로운 데이터가 관측되었다고 하자. 추가된 데이터를 이용하여 (c)-(e)를 다시 적합하여라. 결과가 어떻게 달라졌는가?"
   ]
  },
  {
   "cell_type": "markdown",
   "id": "ee2a1068-be33-48cd-9b14-b864e05e8902",
   "metadata": {},
   "source": [
    "---"
   ]
  },
  {
   "cell_type": "markdown",
   "id": "cd778bd1-ce16-4992-8868-4f78a5b18b17",
   "metadata": {},
   "source": [
    "### Logistic Regression"
   ]
  },
  {
   "cell_type": "markdown",
   "id": "906ad111-28ed-4ed6-bdd1-0a01dc670ff7",
   "metadata": {},
   "source": [
    "**1. 두개의 설명변수 (X1 = 공부시간, X2 = 학부평점)를 이용하여 A학점을 받을 확률을 예측하기 위해 로지스틱 회귀모형을 적합하였다. 추정된 회귀계수는 $\\hat{\\beta}_0 = −6, \\hat{\\beta}_1 = 0.05, \\hat{\\beta}_2 = 1$이다.**"
   ]
  },
  {
   "cell_type": "markdown",
   "id": "6ce2099c-999c-4987-9bfb-9ea922c92274",
   "metadata": {},
   "source": [
    "(a) 40시간 공부하고, 평점이 3.5인 학생이 A를 받았을 확률을 예측하여라."
   ]
  },
  {
   "cell_type": "markdown",
   "id": "9f41ad0d-78f3-4a58-938b-bea91a6b1350",
   "metadata": {},
   "source": [
    "(b) 평점이 3.5인 학생은 얼마나 공부를 해야 A를 받을 확률이 50%를 넘을 것인가?"
   ]
  },
  {
   "cell_type": "markdown",
   "id": "d69007b9-5df4-459a-8c3f-cc1b97fa5104",
   "metadata": {},
   "source": [
    "**2. 다음은 odds에 관한 문제이다.**"
   ]
  },
  {
   "cell_type": "markdown",
   "id": "33c77e0a-34fa-4840-80aa-45c151dc3a52",
   "metadata": {},
   "source": [
    "(a) 신용카드결재 문제에서 결재를 하지 못하는 경우(default)에 대한 odds가 0.37인 사람들이 실제로 defalut할 확률은 평균적으로 얼마인가?"
   ]
  },
  {
   "cell_type": "markdown",
   "id": "d7ecad5c-2c5a-4544-934f-75111483acae",
   "metadata": {},
   "source": [
    "(b) 어떤 개인이 default할 확률이 16% 라고 하자. 그 사람이 default할 odds는 얼마인가?"
   ]
  }
 ],
 "metadata": {
  "kernelspec": {
   "display_name": "R",
   "language": "R",
   "name": "ir"
  },
  "language_info": {
   "codemirror_mode": "r",
   "file_extension": ".r",
   "mimetype": "text/x-r-source",
   "name": "R",
   "pygments_lexer": "r",
   "version": "4.1.2"
  },
  "toc-autonumbering": false,
  "toc-showmarkdowntxt": false
 },
 "nbformat": 4,
 "nbformat_minor": 5
}
