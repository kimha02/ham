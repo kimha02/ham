{
 "cells": [
  {
   "cell_type": "markdown",
   "id": "c1e3139b-a096-439b-9762-0e91a91b0df8",
   "metadata": {
    "id": "67a097ac-8d49-4481-ac5a-62838b3b7249",
    "tags": []
   },
   "source": [
    "# (공부) 논문 작성\n",
    "> proposed method\n",
    "\n",
    "- toc:true\n",
    "- branch: master\n",
    "- badges: true\n",
    "- comments: true\n",
    "- author: 김하영\n",
    "- categories: [Study]"
   ]
  },
  {
   "cell_type": "markdown",
   "id": "bc7f5fef-6cab-41f7-a337-9ce595290310",
   "metadata": {},
   "source": [
    "---"
   ]
  },
  {
   "cell_type": "markdown",
   "id": "014d5f56-aad2-4fd2-a1db-6fe2941e1bfb",
   "metadata": {},
   "source": [
    "### Abstract"
   ]
  },
  {
   "cell_type": "markdown",
   "id": "7794d394-fc8b-47c8-b4c2-95e459fee6f0",
   "metadata": {},
   "source": [
    "우리는 실제 의료 데이터를 사용하여 "
   ]
  },
  {
   "cell_type": "markdown",
   "id": "15d2e465-e5e8-45ae-993c-05165bb30b29",
   "metadata": {},
   "source": [
    "### Method"
   ]
  },
  {
   "cell_type": "markdown",
   "id": "bab92d9a-d79d-45db-aa0b-029f52dfcb17",
   "metadata": {},
   "source": [
    "첫번째 CAM이 발견한 특징(현재 예제에서는 고양이로 판별되는데 가장 크게 기여한 부분)을 제거한 후 CAM을 재실행하여 첫번째 시도에서 놓친(비교적 약하다고 판별된) 특징을 확인하는 과정을 반복적으로 수행할 것이기 때문에 특징의 면적이 좁을수록 이후 판별되는 특징과 구별이 수월하다. 따라서 epoch 수를 25회로 일반적인 학습의 경우보다 많게 진행하여 과적합을 유도하였다."
   ]
  },
  {
   "cell_type": "markdown",
   "id": "955ad910-c648-49d0-b8ec-8b91f6685898",
   "metadata": {},
   "source": [
    "✏️  Toy example로 CAT/DOG을 선택하여 진행하였다. Resnet34로 epoch=1만큼 학습하였으며 이미지 사이즈는 $512*512$ 로 통일시켰다.   \n",
    "만약 sample image가 Dog이라면, \n",
    "\n",
    "한 개 이미지를 선택하여 텐서화를 진행한 결과, 이전 0-255 사이의 값을 가지던 픽셀들이 -3-3 사이의 값을 가지게 되었다. 이에 따라 이미지의 대비도가 높아져 향후 이미지 시각화 시 원본 이미지에 가까운 색을 띌 수 있게 선형변환을 진행할 예정이다.\n",
    "\n",
    "CNN 후 CAM을 진행할 수 있도록 network의 형태를 일부 수정했다. 수정한 net2와 net1을 통합해 net을 생성하였으며 해당 network로 학습을 진행하고자 한다.\n",
    "\n",
    "첫번째 CAM이 발견한 특징(현재 예제에서는 고양이로 판별되는데 가장 크게 기여한 부분)을 제거한 후 CAM을 재실행하여 첫번째 시도에서 놓친(비교적 약하다고 판별된) 특징을 확인하는 과정을 반복적으로 수행할 것이기 때문에 특징의 면적이 좁을수록 이후 판별되는 특징과 구별이 수월하다. 따라서 epoch 수를 25회로 일반적인 학습의 경우보다 많게 진행하여 과적합을 유도하였다.\n",
    "\n",
    "과적합을 위해 25회 학습을 진행하였으나, 고양이 이미지에서 처음에 얼굴을 판별해 낸 이후 얼굴을 제외한 모든 부분이 고양이로 판별된 이유로 (동일한 가중치를 가지고)확인되어서 epoch수를 늘려 보았다. (총 epoch=40) 40으로 늘렸더니 너무 이동이 느리다..\n",
    "\n",
    "원본 이미지 shape : $3X512X512$ $\\to$ CNN $\\to$ CAM 이미지 : $2X16X16$\n",
    "\n",
    "CAM img를 가중치로 보다 쉽게 사용할 수 있도록(?. 맞나?) 0~1 범위로 만들어주기 위해 각 픽셀 값에서 최소 픽셀값을 빼주었다.\n",
    "\n",
    "k=(이름 넣어주기)값은 여러 값을 대입해 본 결과 가장 결과가 보기 좋은 값으로 설정하였다. k가 커질수록 MODE1에서 삭제되는 값의 범위가 넓어져 CAM img 결과와 같은 범위가 나오도록 적당한 조절이 필요하다."
   ]
  }
 ],
 "metadata": {
  "kernelspec": {
   "display_name": "Python 3 (ipykernel)",
   "language": "python",
   "name": "python3"
  },
  "language_info": {
   "codemirror_mode": {
    "name": "ipython",
    "version": 3
   },
   "file_extension": ".py",
   "mimetype": "text/x-python",
   "name": "python",
   "nbconvert_exporter": "python",
   "pygments_lexer": "ipython3",
   "version": "3.8.12"
  }
 },
 "nbformat": 4,
 "nbformat_minor": 5
}
