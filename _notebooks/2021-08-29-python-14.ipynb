{
 "cells": [
  {
   "cell_type": "markdown",
   "id": "1234a994-7c0e-4e5e-a0b8-b2fcb887fccf",
   "metadata": {
    "tags": []
   },
   "source": [
    "# (공부) Higher-order function\n",
    "> 작성 완료\n",
    "\n",
    "- toc:true\n",
    "- branch: master\n",
    "- badges: true\n",
    "- comments: true\n",
    "- author: kimha02\n",
    "- categories: [Python]"
   ]
  },
  {
   "cell_type": "markdown",
   "id": "75e30434-02a3-451c-be5d-d553e86ec0b8",
   "metadata": {},
   "source": [
    "### Intro"
   ]
  },
  {
   "cell_type": "code",
   "execution_count": 1,
   "id": "dc1ecc8a-ba3c-4d5d-b93b-3c3e0ba39566",
   "metadata": {},
   "outputs": [],
   "source": [
    "def myadd(a,b):\n",
    "    return a+b "
   ]
  },
  {
   "cell_type": "code",
   "execution_count": 2,
   "id": "2ccf267e-c6d5-4521-b08d-b5538d598667",
   "metadata": {},
   "outputs": [
    {
     "data": {
      "text/plain": [
       "3"
      ]
     },
     "execution_count": 2,
     "metadata": {},
     "output_type": "execute_result"
    }
   ],
   "source": [
    "myadd(1,2)"
   ]
  },
  {
   "cell_type": "code",
   "execution_count": 3,
   "id": "8e618d20-8616-4623-8dcd-61acfe8f0c82",
   "metadata": {},
   "outputs": [
    {
     "data": {
      "text/plain": [
       "\u001b[0;31mSignature:\u001b[0m \u001b[0mmyadd\u001b[0m\u001b[0;34m(\u001b[0m\u001b[0ma\u001b[0m\u001b[0;34m,\u001b[0m \u001b[0mb\u001b[0m\u001b[0;34m)\u001b[0m\u001b[0;34m\u001b[0m\u001b[0;34m\u001b[0m\u001b[0m\n",
       "\u001b[0;31mDocstring:\u001b[0m <no docstring>\n",
       "\u001b[0;31mFile:\u001b[0m      /tmp/ipykernel_3127126/4154224718.py\n",
       "\u001b[0;31mType:\u001b[0m      function\n"
      ]
     },
     "metadata": {},
     "output_type": "display_data"
    }
   ],
   "source": [
    "?myadd"
   ]
  },
  {
   "cell_type": "markdown",
   "id": "cea6cc69-cbd4-4484-99b5-67069b64ef7f",
   "metadata": {},
   "source": [
    "- Type이 function이다? \n",
    "\n",
    "- `myadd` 는 function class의 instance이다. \n",
    "\n",
    "- 결국 `myadd` 역시 하나의 오브젝트에 불과하다. "
   ]
  },
  {
   "cell_type": "markdown",
   "id": "d27e6378-ca74-482d-b887-f99617065eb8",
   "metadata": {},
   "source": [
    "--------"
   ]
  },
  {
   "cell_type": "markdown",
   "id": "59730b53-22c1-4381-8d9a-dcf6be908c4a",
   "metadata": {},
   "source": [
    "### higher-order function "
   ]
  },
  {
   "cell_type": "code",
   "execution_count": 4,
   "id": "996c6191-a175-4106-9c81-916ef4235087",
   "metadata": {},
   "outputs": [
    {
     "data": {
      "text/plain": [
       "3"
      ]
     },
     "execution_count": 4,
     "metadata": {},
     "output_type": "execute_result"
    }
   ],
   "source": [
    "myadd(1,2)"
   ]
  },
  {
   "cell_type": "markdown",
   "id": "09410f3b-0e7f-49b7-b9ca-02a8867e4e00",
   "metadata": {},
   "source": [
    "- `myadd`의 입력 1,2는 int class의 인스턴스 오브젝트였음. \n",
    "\n",
    "- 즉 문법의 논리로 보면 함수의 입력에 들어갈 수 있는 것은 오브젝트면 된다. \n",
    "\n",
    " - 그런데 함수 자체도 오브젝트이다 $\\to$ 함수도 함수의 입력으로 쓸 수 있다? "
   ]
  },
  {
   "cell_type": "markdown",
   "id": "553832e7-c2be-4bb9-9bae-e476346bdb73",
   "metadata": {},
   "source": [
    "----"
   ]
  },
  {
   "cell_type": "markdown",
   "id": "68ea03c7-4e94-49fd-b9cc-ad0c7a7a7478",
   "metadata": {},
   "source": [
    "#### 예제1"
   ]
  },
  {
   "cell_type": "code",
   "execution_count": 7,
   "id": "4143949d-968b-43f7-b371-392adc028ad6",
   "metadata": {},
   "outputs": [],
   "source": [
    "def calc(fun,a,b):\n",
    "    return fun(a,b)"
   ]
  },
  {
   "cell_type": "code",
   "execution_count": 8,
   "id": "dec660a9-591c-4cbf-bd29-81390e71718a",
   "metadata": {},
   "outputs": [
    {
     "data": {
      "text/plain": [
       "0"
      ]
     },
     "execution_count": 8,
     "metadata": {},
     "output_type": "execute_result"
    }
   ],
   "source": [
    "calc(myadd,-3,3)"
   ]
  },
  {
   "cell_type": "markdown",
   "id": "5cdbd5c8-9305-40cc-958f-4c7c75a31315",
   "metadata": {},
   "source": [
    "- 이처럼 함수 자체를 입력으로 받거나 출력으로 보내는 함수를 **higher-order function**이라고 한다. "
   ]
  },
  {
   "cell_type": "markdown",
   "id": "03978f3b-e483-4c6e-beb9-daf4e85a2fb4",
   "metadata": {},
   "source": [
    "----"
   ]
  },
  {
   "cell_type": "markdown",
   "id": "afb6892b-dd53-4442-9612-46763db94484",
   "metadata": {},
   "source": [
    "#### 예제2"
   ]
  },
  {
   "cell_type": "markdown",
   "id": "e8b8aa20-d7b9-4e62-ab1e-204ddbe19ef6",
   "metadata": {},
   "source": [
    "- 미분: 아래의 함수 \n",
    "    \n",
    "$$f(x)=3x^2-2x+5$$ \n",
    "\n",
    "    에서 x=2에서의 접선의 기울기는 아래와 같이 대략적으로 구할 수 있다. \n",
    "\n",
    "$$\\frac{f(2+h)-f(2)}{h}, \\quad h=0.0000001$$"
   ]
  },
  {
   "cell_type": "markdown",
   "id": "33507aad-839e-46cb-8ae3-96679bbc3e04",
   "metadata": {},
   "source": [
    "- $h$의 값을 더 0에 가깝게 만든다면 접선의 기울기의 정확도는 올라간다. "
   ]
  },
  {
   "cell_type": "markdown",
   "id": "9e600b99-5b52-4a2b-8765-0d29fef8d37b",
   "metadata": {},
   "source": [
    "- 미분에 익숙하다면 이론적으로 아래와 같이 $x=2$일때 접선의 기울기를 구할 수 있다. \n",
    "    - $f'(x)=6x-2$\n",
    "    - $f'(2)=12-2=10$\n",
    "\n",
    "- 즉 $x=2$일때 이론적으로 구한 접선의 기울기값은 10이다. "
   ]
  },
  {
   "cell_type": "markdown",
   "id": "c051708e-2083-4670-9487-5feb198c4fce",
   "metadata": {},
   "source": [
    "- 미분을 계산해주는 코드를 구현하자. "
   ]
  },
  {
   "cell_type": "code",
   "execution_count": 9,
   "id": "8bd02a6d-384b-45a6-a7c4-3c90285dc140",
   "metadata": {},
   "outputs": [],
   "source": [
    "def f(x):\n",
    "    return 3*x**2-2*x+5"
   ]
  },
  {
   "cell_type": "code",
   "execution_count": 14,
   "id": "8c98bd59-127e-4e29-8880-5318712d3c6d",
   "metadata": {},
   "outputs": [],
   "source": [
    "def derivative(fun,x):    #fun은 함수\n",
    "    h=0.00000001\n",
    "    return (fun(x+h)-fun(x))/h"
   ]
  },
  {
   "cell_type": "code",
   "execution_count": 15,
   "id": "239a4824-f0cf-4d5f-9e74-f71df24f7bd5",
   "metadata": {},
   "outputs": [
    {
     "data": {
      "text/plain": [
       "9.99999993922529"
      ]
     },
     "execution_count": 15,
     "metadata": {},
     "output_type": "execute_result"
    }
   ],
   "source": [
    "derivative(f,2)"
   ]
  },
  {
   "cell_type": "markdown",
   "id": "bfacb490-a1fb-4074-9fb5-60c977e025d8",
   "metadata": {},
   "source": [
    "- $g(x)=x^2$와 같은 함수를 미분하고 싶다면? "
   ]
  },
  {
   "cell_type": "code",
   "execution_count": 12,
   "id": "38281cfe-9284-4c91-ba4e-2747a4ea6534",
   "metadata": {},
   "outputs": [],
   "source": [
    "def g(x):\n",
    "    return x**2"
   ]
  },
  {
   "cell_type": "code",
   "execution_count": 13,
   "id": "313244c9-bcd7-4989-aa36-2a670fc78879",
   "metadata": {},
   "outputs": [
    {
     "data": {
      "text/plain": [
       "1e-08"
      ]
     },
     "execution_count": 13,
     "metadata": {},
     "output_type": "execute_result"
    }
   ],
   "source": [
    "derivative(g,0)"
   ]
  }
 ],
 "metadata": {
  "kernelspec": {
   "display_name": "Python 3 (ipykernel)",
   "language": "python",
   "name": "python3"
  },
  "language_info": {
   "codemirror_mode": {
    "name": "ipython",
    "version": 3
   },
   "file_extension": ".py",
   "mimetype": "text/x-python",
   "name": "python",
   "nbconvert_exporter": "python",
   "pygments_lexer": "ipython3",
   "version": "3.8.11"
  }
 },
 "nbformat": 4,
 "nbformat_minor": 5
}
