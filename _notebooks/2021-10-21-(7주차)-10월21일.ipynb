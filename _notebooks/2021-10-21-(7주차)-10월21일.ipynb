{
 "cells": [
  {
   "cell_type": "markdown",
   "id": "b8b7d3a2-9f09-40b7-b3b5-03aaddd38d09",
   "metadata": {
    "id": "b8b7d3a2-9f09-40b7-b3b5-03aaddd38d09",
    "tags": []
   },
   "source": [
    "# (7주차) 10월21일\n",
    "> Pytorch CNN (MNIST 3,7)\n",
    "\n",
    "- toc:true\n",
    "- branch: master\n",
    "- badges: true\n",
    "- comments: true\n",
    "- author: 최규빈\n",
    "- categories: [Python]"
   ]
  },
  {
   "cell_type": "markdown",
   "id": "fd86f8c2-71e4-43a0-8538-67e82f649b1b",
   "metadata": {},
   "source": [
    "---"
   ]
  },
  {
   "cell_type": "markdown",
   "id": "706f42f5-6ab0-4733-bda6-cbde67e77093",
   "metadata": {
    "id": "706f42f5-6ab0-4733-bda6-cbde67e77093"
   },
   "source": [
    "### import "
   ]
  },
  {
   "cell_type": "code",
   "execution_count": 1,
   "id": "e8aeb3c7-f3dc-4c47-802b-0f7766cec272",
   "metadata": {
    "id": "e8aeb3c7-f3dc-4c47-802b-0f7766cec272"
   },
   "outputs": [],
   "source": [
    "import torch \n",
    "from fastai.vision.all import * "
   ]
  },
  {
   "cell_type": "code",
   "execution_count": 2,
   "id": "87abf984-23f9-49b4-8948-437c3fc0b2bf",
   "metadata": {
    "id": "87abf984-23f9-49b4-8948-437c3fc0b2bf"
   },
   "outputs": [],
   "source": [
    "import graphviz"
   ]
  },
  {
   "cell_type": "code",
   "execution_count": 3,
   "id": "9ff903db-93df-41ec-9c5d-e467d8c268a7",
   "metadata": {
    "id": "9ff903db-93df-41ec-9c5d-e467d8c268a7"
   },
   "outputs": [],
   "source": [
    "def gv(s): return graphviz.Source('digraph G{ rankdir=\"LR\"'+ s + ';}')"
   ]
  },
  {
   "cell_type": "markdown",
   "id": "344a6a05-28e5-421c-a835-5ea13745c7bd",
   "metadata": {
    "id": "344a6a05-28e5-421c-a835-5ea13745c7bd"
   },
   "source": [
    "### data "
   ]
  },
  {
   "cell_type": "markdown",
   "id": "78259eb5-80cd-43a0-b136-6c18985819d3",
   "metadata": {
    "id": "78259eb5-80cd-43a0-b136-6c18985819d3"
   },
   "source": [
    "`-` download data "
   ]
  },
  {
   "cell_type": "code",
   "execution_count": 4,
   "id": "39bffb35-6c53-4979-8ce3-ccb35122ccc8",
   "metadata": {
    "id": "39bffb35-6c53-4979-8ce3-ccb35122ccc8"
   },
   "outputs": [],
   "source": [
    "path = untar_data(URLs.MNIST_SAMPLE)"
   ]
  },
  {
   "cell_type": "code",
   "execution_count": 5,
   "id": "6489e671-2055-4c2b-80f7-b9724c3e26d1",
   "metadata": {
    "id": "6489e671-2055-4c2b-80f7-b9724c3e26d1",
    "outputId": "cdc3ac76-735b-4c48-c7a6-ff52d8861aad"
   },
   "outputs": [
    {
     "data": {
      "text/plain": [
       "(#3) [Path('/home/khy/.fastai/data/mnist_sample/train'),Path('/home/khy/.fastai/data/mnist_sample/valid'),Path('/home/khy/.fastai/data/mnist_sample/labels.csv')]"
      ]
     },
     "execution_count": 5,
     "metadata": {},
     "output_type": "execute_result"
    }
   ],
   "source": [
    "path.ls()"
   ]
  },
  {
   "cell_type": "markdown",
   "id": "159e50f9-f75b-4101-b4ff-27c101cf908f",
   "metadata": {
    "id": "159e50f9-f75b-4101-b4ff-27c101cf908f"
   },
   "source": [
    "`-` list "
   ]
  },
  {
   "cell_type": "code",
   "execution_count": 6,
   "id": "d35b8700-c942-48db-9f4a-0417890ded1f",
   "metadata": {
    "id": "d35b8700-c942-48db-9f4a-0417890ded1f"
   },
   "outputs": [],
   "source": [
    "threes=(path/'train'/'3').ls()\n",
    "sevens=(path/'train'/'7').ls()"
   ]
  },
  {
   "cell_type": "markdown",
   "id": "228e3342-8a9a-430e-b121-fc04f6ffed50",
   "metadata": {
    "id": "228e3342-8a9a-430e-b121-fc04f6ffed50"
   },
   "source": [
    "`-` list $\\to$ image "
   ]
  },
  {
   "cell_type": "code",
   "execution_count": 7,
   "id": "3529e679-a68a-4665-a3c6-e7cee5f0adf0",
   "metadata": {
    "id": "3529e679-a68a-4665-a3c6-e7cee5f0adf0",
    "outputId": "cb5f79f2-37d8-489f-d1a7-0f1141757b0c"
   },
   "outputs": [
    {
     "data": {
      "image/png": "[encoded data removed]",
      "text/plain": [
       "<PIL.PngImagePlugin.PngImageFile image mode=L size=28x28 at 0x7F4C2432D640>"
      ]
     },
     "execution_count": 7,
     "metadata": {},
     "output_type": "execute_result"
    }
   ],
   "source": [
    "Image.open(threes[4])"
   ]
  },
  {
   "cell_type": "markdown",
   "id": "8bcd003e-1b77-4f13-82d4-18b04e1d8f22",
   "metadata": {
    "id": "8bcd003e-1b77-4f13-82d4-18b04e1d8f22"
   },
   "source": [
    "`-` image $\\to$ tensor "
   ]
  },
  {
   "cell_type": "code",
   "execution_count": 8,
   "id": "bd87de72-2454-4c0c-b4b7-fab73c9a2764",
   "metadata": {
    "id": "bd87de72-2454-4c0c-b4b7-fab73c9a2764",
    "outputId": "aa2c9b52-2568-4e0c-a1a5-0a89504dc4dd"
   },
   "outputs": [
    {
     "data": {
      "text/plain": [
       "tensor([[  0,   0,   0,   0,   0,   0,   0,   0,   0,   0,   0,   0,   0,   0,\n",
       "           0,   0,   0,   0,   0,   0,   0,   0,   0,   0,   0,   0,   0,   0],\n",
       "        [  0,   0,   0,   0,   0,   0,   0,   0,   0,   0,   0,   0,   0,   0,\n",
       "           0,   0,   0,   0,   0,   0,   0,   0,   0,   0,   0,   0,   0,   0],\n",
       "        [  0,   0,   0,   0,   0,   0,   0,   0,   0,   0,   0,   0,   0,   0,\n",
       "           0,   0,   0,   0,   0,   0,   0,   0,   0,   0,   0,   0,   0,   0],\n",
       "        [  0,   0,   0,   0,   0,   0,   0,   0,   0,   0,   0,   0,   0,   0,\n",
       "           0,   0,   0,   0,   0,   0,   0,   0,   0,   0,   0,   0,   0,   0],\n",
       "        [  0,   0,   0,   0,   0,   0,   0,   0,   0,   0,   0,   0,   0,   0,\n",
       "           0,   0,   0,   0,   0,   0,   0,   0,   0,   0,   0,   0,   0,   0],\n",
       "        [  0,   0,   0,   0,   0,   0,   0,   0,   0,   0,  36, 211, 254, 254,\n",
       "         241, 144, 144,  35,   0,   0,   0,   0,   0,   0,   0,   0,   0,   0],\n",
       "        [  0,   0,   0,   0,   0,   0,   0,   0,   0,  62, 247, 253, 253, 253,\n",
       "         254, 253, 253, 247,  91,   0,   0,   0,   0,   0,   0,   0,   0,   0],\n",
       "        [  0,   0,   0,   0,   0,   0,   0,   0,   0,  89, 253, 236, 154, 154,\n",
       "         154, 223, 253, 253, 244, 171,  52,   0,   0,   0,   0,   0,   0,   0],\n",
       "        [  0,   0,   0,   0,   0,   0,   0,   0,   0,  81, 241,  95,   0,   0,\n",
       "           0,   7,  54, 229, 253, 253, 141,   0,   0,   0,   0,   0,   0,   0],\n",
       "        [  0,   0,   0,   0,   0,   0,   0,   0,   0,   0,  39,   0,   0,   0,\n",
       "           0,   0,   0,  23, 253, 253, 250,  65,   0,   0,   0,   0,   0,   0],\n",
       "        [  0,   0,   0,   0,   0,   0,   0,   0,   0,   0,   0,   0,   0,   0,\n",
       "           0,   0,  35, 199, 253, 253, 206,  22,   0,   0,   0,   0,   0,   0],\n",
       "        [  0,   0,   0,   0,   0,   0,   0,   0,   0,   0,   0,   0,   0,  10,\n",
       "          75, 199, 241, 253, 253, 245,  78,   0,   0,   0,   0,   0,   0,   0],\n",
       "        [  0,   0,   0,   0,   0,   0,   0,   0,   0,  16,  45, 113, 155, 241,\n",
       "         254, 253, 253, 250, 185,  22,   0,   0,   0,   0,   0,   0,   0,   0],\n",
       "        [  0,   0,   0,   0,   0,   0,   0,  51, 188, 211, 253, 253, 253, 253,\n",
       "         254, 253, 253, 238,  27,   0,   0,   0,   0,   0,   0,   0,   0,   0],\n",
       "        [  0,   0,   0,   0,   0,   0,   0, 133, 253, 253, 253, 253, 253, 253,\n",
       "         206, 253, 253, 253, 208,  24,   0,   0,   0,   0,   0,   0,   0,   0],\n",
       "        [  0,   0,   0,   0,   0,   0,   0,  10, 183, 183, 111, 111,  29,   0,\n",
       "           0,   0, 135, 253, 254,  70,   0,   0,   0,   0,   0,   0,   0,   0],\n",
       "        [  0,   0,   0,   0,   0,   0,   0,   0,   0,   0,   0,   0,   0,   0,\n",
       "           0,   0,   0, 214, 253, 227,  15,   0,   0,   0,   0,   0,   0,   0],\n",
       "        [  0,   0,   0,   0,   0,   0,   0,   0,   0,   0,   0,   0,   0,   0,\n",
       "           0,   0,   0, 133, 253, 253,  22,   0,   0,   0,   0,   0,   0,   0],\n",
       "        [  0,   0,   0,   0,   0,   0,   0,   0,   0,   0,   0,   0,   0,   0,\n",
       "           0,   0,   0, 142, 253, 253,  22,   0,   0,   0,   0,   0,   0,   0],\n",
       "        [  0,   0,   0,   0,   0,   0,   0,   0,   0,   0,   0,   0,   0,   0,\n",
       "           0,   0,  90, 250, 253, 234,  17,   0,   0,   0,   0,   0,   0,   0],\n",
       "        [  0,   0,   0,   0,   0,   0,   0,   0,   0,   0,   0,   0,   0,   0,\n",
       "          12, 166, 244, 253, 253,  79,   0,   0,   0,   0,   0,   0,   0,   0],\n",
       "        [  0,   0,   0,   0,   0,   0,   0,   0,   0,   0,   0,   7,  45, 122,\n",
       "         236, 253, 253, 238, 108,   5,   0,   0,   0,   0,   0,   0,   0,   0],\n",
       "        [  0,   0,   0,   0,   0,   0,  81, 145,  69, 155, 155, 215, 253, 253,\n",
       "         255, 253, 236,  52,   0,   0,   0,   0,   0,   0,   0,   0,   0,   0],\n",
       "        [  0,   0,   0,   0,   0,   0, 176, 253, 253, 253, 253, 253, 253, 253,\n",
       "         177,  99,  40,   0,   0,   0,   0,   0,   0,   0,   0,   0,   0,   0],\n",
       "        [  0,   0,   0,   0,   0,   0,  13,  42, 143, 230, 200, 143, 110,  33,\n",
       "           0,   0,   0,   0,   0,   0,   0,   0,   0,   0,   0,   0,   0,   0],\n",
       "        [  0,   0,   0,   0,   0,   0,   0,   0,   0,   0,   0,   0,   0,   0,\n",
       "           0,   0,   0,   0,   0,   0,   0,   0,   0,   0,   0,   0,   0,   0],\n",
       "        [  0,   0,   0,   0,   0,   0,   0,   0,   0,   0,   0,   0,   0,   0,\n",
       "           0,   0,   0,   0,   0,   0,   0,   0,   0,   0,   0,   0,   0,   0],\n",
       "        [  0,   0,   0,   0,   0,   0,   0,   0,   0,   0,   0,   0,   0,   0,\n",
       "           0,   0,   0,   0,   0,   0,   0,   0,   0,   0,   0,   0,   0,   0]],\n",
       "       dtype=torch.uint8)"
      ]
     },
     "execution_count": 8,
     "metadata": {},
     "output_type": "execute_result"
    }
   ],
   "source": [
    "tensor(Image.open(threes[4]))"
   ]
  },
  {
   "cell_type": "markdown",
   "id": "e292c66c-734f-40b3-889f-5e9a357bfa64",
   "metadata": {
    "id": "e292c66c-734f-40b3-889f-5e9a357bfa64"
   },
   "source": [
    "- 여기에서 tensor는 파이토치가 아니라 fastai에서 구현한 함수임 "
   ]
  },
  {
   "cell_type": "markdown",
   "id": "f92c7cd3-1257-4df3-b11f-c543c1e269b0",
   "metadata": {
    "id": "f92c7cd3-1257-4df3-b11f-c543c1e269b0"
   },
   "source": [
    "`-` 여러개의 리스트를 모두 텐서로 바꿔보자. "
   ]
  },
  {
   "cell_type": "code",
   "execution_count": 9,
   "id": "54741b7c-c7d1-4ce7-9440-d47d429664b7",
   "metadata": {
    "id": "54741b7c-c7d1-4ce7-9440-d47d429664b7"
   },
   "outputs": [],
   "source": [
    "seven_tensor = torch.stack([tensor(Image.open(i)) for i in sevens]).float()/255\n",
    "three_tensor = torch.stack([tensor(Image.open(i)) for i in threes]).float()/255"
   ]
  },
  {
   "cell_type": "markdown",
   "id": "dd07f2c7-5cd7-4949-83f3-3327967bf762",
   "metadata": {
    "id": "dd07f2c7-5cd7-4949-83f3-3327967bf762"
   },
   "source": [
    "`-` $X$와 $y$를 만들자. "
   ]
  },
  {
   "cell_type": "code",
   "execution_count": 10,
   "id": "a37f6846-23fd-491e-bf09-e00135a2ba8b",
   "metadata": {
    "id": "a37f6846-23fd-491e-bf09-e00135a2ba8b",
    "outputId": "33f9533c-a5e4-4aed-f14e-65ffcde14e93"
   },
   "outputs": [
    {
     "data": {
      "text/plain": [
       "(torch.Size([6265, 28, 28]), torch.Size([6131, 28, 28]))"
      ]
     },
     "execution_count": 10,
     "metadata": {},
     "output_type": "execute_result"
    }
   ],
   "source": [
    "seven_tensor.shape, three_tensor.shape"
   ]
  },
  {
   "cell_type": "code",
   "execution_count": 11,
   "id": "606d4f96-da56-4665-9f3f-4ace860933bd",
   "metadata": {
    "id": "606d4f96-da56-4665-9f3f-4ace860933bd"
   },
   "outputs": [],
   "source": [
    "y=torch.tensor([0.0]*6265+ [1.0]*6131).reshape(12396,1)"
   ]
  },
  {
   "cell_type": "code",
   "execution_count": 12,
   "id": "93bc8238-95ce-4988-9d62-d5e694bdc019",
   "metadata": {
    "id": "93bc8238-95ce-4988-9d62-d5e694bdc019"
   },
   "outputs": [],
   "source": [
    "X=torch.vstack([seven_tensor,three_tensor]).reshape(12396,-1)"
   ]
  },
  {
   "cell_type": "code",
   "execution_count": 13,
   "id": "d2fbf077-cf41-44ec-8b25-138d9d3d9dd3",
   "metadata": {
    "id": "d2fbf077-cf41-44ec-8b25-138d9d3d9dd3",
    "outputId": "1ea6d5dd-47c9-4001-e532-16502742087e"
   },
   "outputs": [
    {
     "data": {
      "text/plain": [
       "(torch.Size([12396, 784]), torch.Size([12396, 1]))"
      ]
     },
     "execution_count": 13,
     "metadata": {},
     "output_type": "execute_result"
    }
   ],
   "source": [
    "X.shape, y.shape"
   ]
  },
  {
   "cell_type": "markdown",
   "id": "dd6ea422-9069-4920-8292-3c6950c5084f",
   "metadata": {
    "id": "dd6ea422-9069-4920-8292-3c6950c5084f"
   },
   "source": [
    "### 기존의 MLP 모형 "
   ]
  },
  {
   "cell_type": "markdown",
   "id": "1e8eadf7-57b0-4bbc-8f7a-1fa40de37b82",
   "metadata": {
    "id": "1e8eadf7-57b0-4bbc-8f7a-1fa40de37b82"
   },
   "source": [
    "${\\bf X} \\to {\\bf WX+b} \\to f({\\bf WX+b}) \\to \\dots \\to {\\bf y}$\n",
    "- ${\\bf X}=12396 \\times 784$ matrix \n",
    "- ${\\bf y}=12396 \\times 1$ (col) vector"
   ]
  },
  {
   "cell_type": "markdown",
   "id": "173b7c9d-1785-4daa-b4e9-1605413e8c87",
   "metadata": {
    "id": "173b7c9d-1785-4daa-b4e9-1605413e8c87"
   },
   "source": [
    "`-` 교재의 모형 "
   ]
  },
  {
   "cell_type": "code",
   "execution_count": 14,
   "id": "5433e463-f622-4f92-92bf-9ccb76490080",
   "metadata": {
    "id": "5433e463-f622-4f92-92bf-9ccb76490080",
    "outputId": "322c556c-783d-4f0a-e9ee-9337e51af65e"
   },
   "outputs": [
    {
     "data": {
      "image/svg+xml": [
       "<?xml version=\"1.0\" encoding=\"UTF-8\" standalone=\"no\"?>\n",
       "<!DOCTYPE svg PUBLIC \"-//W3C//DTD SVG 1.1//EN\"\n",
       " \"http://www.w3.org/Graphics/SVG/1.1/DTD/svg11.dtd\">\n",
       "<!-- Generated by graphviz version 2.49.1 (20211004.0028)\n",
       " -->\n",
       "<!-- Title: G Pages: 1 -->\n",
       "<svg width=\"396pt\" height=\"261pt\"\n",
       " viewBox=\"0.00 0.00 396.29 261.00\" xmlns=\"http://www.w3.org/2000/svg\" xmlns:xlink=\"http://www.w3.org/1999/xlink\">\n",
       "<g id=\"graph0\" class=\"graph\" transform=\"scale(1 1) rotate(0) translate(4 257)\">\n",
       "<title>G</title>\n",
       "<polygon fill=\"white\" stroke=\"transparent\" points=\"-4,4 -4,-257 392.29,-257 392.29,4 -4,4\"/>\n",
       "<g id=\"clust1\" class=\"cluster\">\n",
       "<title>cluster_1</title>\n",
       "<polygon fill=\"lightgrey\" stroke=\"lightgrey\" points=\"8,-8 8,-245 91.59,-245 91.59,-8 8,-8\"/>\n",
       "<text text-anchor=\"middle\" x=\"49.8\" y=\"-229.8\" font-family=\"Times,serif\" font-size=\"14.00\">Layer 0</text>\n",
       "</g>\n",
       "<g id=\"clust2\" class=\"cluster\">\n",
       "<title>cluster_2</title>\n",
       "<polygon fill=\"lightgrey\" stroke=\"lightgrey\" points=\"111.59,-8 111.59,-245 230.29,-245 230.29,-8 111.59,-8\"/>\n",
       "<text text-anchor=\"middle\" x=\"170.94\" y=\"-229.8\" font-family=\"Times,serif\" font-size=\"14.00\">Layer 1: ReLU</text>\n",
       "</g>\n",
       "<g id=\"clust3\" class=\"cluster\">\n",
       "<title>cluster_3</title>\n",
       "<polygon fill=\"lightgrey\" stroke=\"lightgrey\" points=\"250.29,-89 250.29,-164 388.29,-164 388.29,-89 250.29,-89\"/>\n",
       "<text text-anchor=\"middle\" x=\"319.29\" y=\"-148.8\" font-family=\"Times,serif\" font-size=\"14.00\">Layer 2: Sigmoid</text>\n",
       "</g>\n",
       "<!-- x1 -->\n",
       "<g id=\"node1\" class=\"node\">\n",
       "<title>x1</title>\n",
       "<ellipse fill=\"none\" stroke=\"black\" cx=\"49.8\" cy=\"-196\" rx=\"27\" ry=\"18\"/>\n",
       "<text text-anchor=\"middle\" x=\"49.8\" y=\"-192.3\" font-family=\"Times,serif\" font-size=\"14.00\">x1</text>\n",
       "</g>\n",
       "<!-- node1 -->\n",
       "<g id=\"node5\" class=\"node\">\n",
       "<title>node1</title>\n",
       "<ellipse fill=\"none\" stroke=\"black\" cx=\"170.44\" cy=\"-196\" rx=\"38.99\" ry=\"18\"/>\n",
       "<text text-anchor=\"middle\" x=\"170.44\" y=\"-192.3\" font-family=\"Times,serif\" font-size=\"14.00\">node1</text>\n",
       "</g>\n",
       "<!-- x1&#45;&gt;node1 -->\n",
       "<g id=\"edge1\" class=\"edge\">\n",
       "<title>x1&#45;&gt;node1</title>\n",
       "<path fill=\"none\" stroke=\"black\" d=\"M76.83,-196C89.8,-196 105.91,-196 121.04,-196\"/>\n",
       "<polygon fill=\"black\" stroke=\"black\" points=\"121.3,-199.5 131.3,-196 121.3,-192.5 121.3,-199.5\"/>\n",
       "</g>\n",
       "<!-- node2 -->\n",
       "<g id=\"node6\" class=\"node\">\n",
       "<title>node2</title>\n",
       "<ellipse fill=\"none\" stroke=\"black\" cx=\"170.44\" cy=\"-142\" rx=\"38.99\" ry=\"18\"/>\n",
       "<text text-anchor=\"middle\" x=\"170.44\" y=\"-138.3\" font-family=\"Times,serif\" font-size=\"14.00\">node2</text>\n",
       "</g>\n",
       "<!-- x1&#45;&gt;node2 -->\n",
       "<g id=\"edge5\" class=\"edge\">\n",
       "<title>x1&#45;&gt;node2</title>\n",
       "<path fill=\"none\" stroke=\"black\" d=\"M72.56,-186.1C89.34,-178.46 112.95,-167.71 132.66,-158.74\"/>\n",
       "<polygon fill=\"black\" stroke=\"black\" points=\"134.32,-161.83 141.97,-154.5 131.42,-155.46 134.32,-161.83\"/>\n",
       "</g>\n",
       "<!-- ... -->\n",
       "<g id=\"node7\" class=\"node\">\n",
       "<title>...</title>\n",
       "<ellipse fill=\"none\" stroke=\"black\" cx=\"170.44\" cy=\"-88\" rx=\"27\" ry=\"18\"/>\n",
       "<text text-anchor=\"middle\" x=\"170.44\" y=\"-84.3\" font-family=\"Times,serif\" font-size=\"14.00\">...</text>\n",
       "</g>\n",
       "<!-- x1&#45;&gt;... -->\n",
       "<g id=\"edge9\" class=\"edge\">\n",
       "<title>x1&#45;&gt;...</title>\n",
       "<path fill=\"none\" stroke=\"black\" d=\"M66.8,-181.43C87.26,-162.81 122.83,-130.43 146.25,-109.11\"/>\n",
       "<polygon fill=\"black\" stroke=\"black\" points=\"148.65,-111.65 153.69,-102.33 143.94,-106.48 148.65,-111.65\"/>\n",
       "</g>\n",
       "<!-- node30 -->\n",
       "<g id=\"node8\" class=\"node\">\n",
       "<title>node30</title>\n",
       "<ellipse fill=\"none\" stroke=\"black\" cx=\"170.44\" cy=\"-34\" rx=\"44.69\" ry=\"18\"/>\n",
       "<text text-anchor=\"middle\" x=\"170.44\" y=\"-30.3\" font-family=\"Times,serif\" font-size=\"14.00\">node30</text>\n",
       "</g>\n",
       "<!-- x1&#45;&gt;node30 -->\n",
       "<g id=\"edge13\" class=\"edge\">\n",
       "<title>x1&#45;&gt;node30</title>\n",
       "<path fill=\"none\" stroke=\"black\" d=\"M62.61,-179.87C83.16,-151.81 125.67,-93.76 150.42,-59.97\"/>\n",
       "<polygon fill=\"black\" stroke=\"black\" points=\"153.52,-61.66 156.61,-51.52 147.87,-57.52 153.52,-61.66\"/>\n",
       "</g>\n",
       "<!-- x2 -->\n",
       "<g id=\"node2\" class=\"node\">\n",
       "<title>x2</title>\n",
       "<ellipse fill=\"none\" stroke=\"black\" cx=\"49.8\" cy=\"-142\" rx=\"27\" ry=\"18\"/>\n",
       "<text text-anchor=\"middle\" x=\"49.8\" y=\"-138.3\" font-family=\"Times,serif\" font-size=\"14.00\">x2</text>\n",
       "</g>\n",
       "<!-- x2&#45;&gt;node1 -->\n",
       "<g id=\"edge2\" class=\"edge\">\n",
       "<title>x2&#45;&gt;node1</title>\n",
       "<path fill=\"none\" stroke=\"black\" d=\"M72.56,-151.9C89.34,-159.54 112.95,-170.29 132.66,-179.26\"/>\n",
       "<polygon fill=\"black\" stroke=\"black\" points=\"131.42,-182.54 141.97,-183.5 134.32,-176.17 131.42,-182.54\"/>\n",
       "</g>\n",
       "<!-- x2&#45;&gt;node2 -->\n",
       "<g id=\"edge6\" class=\"edge\">\n",
       "<title>x2&#45;&gt;node2</title>\n",
       "<path fill=\"none\" stroke=\"black\" d=\"M76.83,-142C89.8,-142 105.91,-142 121.04,-142\"/>\n",
       "<polygon fill=\"black\" stroke=\"black\" points=\"121.3,-145.5 131.3,-142 121.3,-138.5 121.3,-145.5\"/>\n",
       "</g>\n",
       "<!-- x2&#45;&gt;... -->\n",
       "<g id=\"edge10\" class=\"edge\">\n",
       "<title>x2&#45;&gt;...</title>\n",
       "<path fill=\"none\" stroke=\"black\" d=\"M72.56,-132.1C91.04,-123.68 117.78,-111.51 138.49,-102.09\"/>\n",
       "<polygon fill=\"black\" stroke=\"black\" points=\"140.17,-105.17 147.82,-97.84 137.27,-98.8 140.17,-105.17\"/>\n",
       "</g>\n",
       "<!-- x2&#45;&gt;node30 -->\n",
       "<g id=\"edge14\" class=\"edge\">\n",
       "<title>x2&#45;&gt;node30</title>\n",
       "<path fill=\"none\" stroke=\"black\" d=\"M66.8,-127.43C86.57,-109.43 120.47,-78.57 143.87,-57.28\"/>\n",
       "<polygon fill=\"black\" stroke=\"black\" points=\"146.33,-59.77 151.37,-50.45 141.62,-54.59 146.33,-59.77\"/>\n",
       "</g>\n",
       "<!-- .. -->\n",
       "<g id=\"node3\" class=\"node\">\n",
       "<title>..</title>\n",
       "<ellipse fill=\"none\" stroke=\"black\" cx=\"49.8\" cy=\"-88\" rx=\"27\" ry=\"18\"/>\n",
       "<text text-anchor=\"middle\" x=\"49.8\" y=\"-84.3\" font-family=\"Times,serif\" font-size=\"14.00\">..</text>\n",
       "</g>\n",
       "<!-- ..&#45;&gt;node1 -->\n",
       "<g id=\"edge3\" class=\"edge\">\n",
       "<title>..&#45;&gt;node1</title>\n",
       "<path fill=\"none\" stroke=\"black\" d=\"M66.8,-102.57C86.69,-120.67 120.86,-151.78 144.27,-173.09\"/>\n",
       "<polygon fill=\"black\" stroke=\"black\" points=\"142.01,-175.77 151.76,-179.91 146.73,-170.59 142.01,-175.77\"/>\n",
       "</g>\n",
       "<!-- ..&#45;&gt;node2 -->\n",
       "<g id=\"edge7\" class=\"edge\">\n",
       "<title>..&#45;&gt;node2</title>\n",
       "<path fill=\"none\" stroke=\"black\" d=\"M72.56,-97.9C89.34,-105.54 112.95,-116.29 132.66,-125.26\"/>\n",
       "<polygon fill=\"black\" stroke=\"black\" points=\"131.42,-128.54 141.97,-129.5 134.32,-122.17 131.42,-128.54\"/>\n",
       "</g>\n",
       "<!-- ..&#45;&gt;... -->\n",
       "<g id=\"edge11\" class=\"edge\">\n",
       "<title>..&#45;&gt;...</title>\n",
       "<path fill=\"none\" stroke=\"black\" d=\"M76.83,-88C93.26,-88 114.71,-88 132.83,-88\"/>\n",
       "<polygon fill=\"black\" stroke=\"black\" points=\"133.05,-91.5 143.05,-88 133.05,-84.5 133.05,-91.5\"/>\n",
       "</g>\n",
       "<!-- ..&#45;&gt;node30 -->\n",
       "<g id=\"edge15\" class=\"edge\">\n",
       "<title>..&#45;&gt;node30</title>\n",
       "<path fill=\"none\" stroke=\"black\" d=\"M72.56,-78.1C88.88,-70.66 111.66,-60.3 131.03,-51.48\"/>\n",
       "<polygon fill=\"black\" stroke=\"black\" points=\"132.57,-54.63 140.22,-47.3 129.67,-48.26 132.57,-54.63\"/>\n",
       "</g>\n",
       "<!-- x784 -->\n",
       "<g id=\"node4\" class=\"node\">\n",
       "<title>x784</title>\n",
       "<ellipse fill=\"none\" stroke=\"black\" cx=\"49.8\" cy=\"-34\" rx=\"33.6\" ry=\"18\"/>\n",
       "<text text-anchor=\"middle\" x=\"49.8\" y=\"-30.3\" font-family=\"Times,serif\" font-size=\"14.00\">x784</text>\n",
       "</g>\n",
       "<!-- x784&#45;&gt;node1 -->\n",
       "<g id=\"edge4\" class=\"edge\">\n",
       "<title>x784&#45;&gt;node1</title>\n",
       "<path fill=\"none\" stroke=\"black\" d=\"M63.05,-50.73C83.81,-79.07 126.04,-136.74 150.59,-170.26\"/>\n",
       "<polygon fill=\"black\" stroke=\"black\" points=\"147.99,-172.63 156.72,-178.63 153.64,-168.5 147.99,-172.63\"/>\n",
       "</g>\n",
       "<!-- x784&#45;&gt;node2 -->\n",
       "<g id=\"edge8\" class=\"edge\">\n",
       "<title>x784&#45;&gt;node2</title>\n",
       "<path fill=\"none\" stroke=\"black\" d=\"M67.8,-49.47C87.74,-67.63 121.01,-97.91 144.02,-118.86\"/>\n",
       "<polygon fill=\"black\" stroke=\"black\" points=\"141.95,-121.71 151.7,-125.85 146.66,-116.53 141.95,-121.71\"/>\n",
       "</g>\n",
       "<!-- x784&#45;&gt;... -->\n",
       "<g id=\"edge12\" class=\"edge\">\n",
       "<title>x784&#45;&gt;...</title>\n",
       "<path fill=\"none\" stroke=\"black\" d=\"M75.96,-45.45C94.11,-53.72 118.74,-64.93 138.17,-73.77\"/>\n",
       "<polygon fill=\"black\" stroke=\"black\" points=\"136.95,-77.06 147.51,-78.02 139.85,-70.69 136.95,-77.06\"/>\n",
       "</g>\n",
       "<!-- x784&#45;&gt;node30 -->\n",
       "<g id=\"edge16\" class=\"edge\">\n",
       "<title>x784&#45;&gt;node30</title>\n",
       "<path fill=\"none\" stroke=\"black\" d=\"M83.85,-34C93.61,-34 104.57,-34 115.31,-34\"/>\n",
       "<polygon fill=\"black\" stroke=\"black\" points=\"115.48,-37.5 125.48,-34 115.48,-30.5 115.48,-37.5\"/>\n",
       "</g>\n",
       "<!-- y -->\n",
       "<g id=\"node9\" class=\"node\">\n",
       "<title>y</title>\n",
       "<ellipse fill=\"none\" stroke=\"black\" cx=\"319.29\" cy=\"-115\" rx=\"27\" ry=\"18\"/>\n",
       "<text text-anchor=\"middle\" x=\"319.29\" y=\"-111.3\" font-family=\"Times,serif\" font-size=\"14.00\">y</text>\n",
       "</g>\n",
       "<!-- node1&#45;&gt;y -->\n",
       "<g id=\"edge17\" class=\"edge\">\n",
       "<title>node1&#45;&gt;y</title>\n",
       "<path fill=\"none\" stroke=\"black\" d=\"M196.35,-182.26C221.97,-168.13 261.85,-146.13 288.97,-131.17\"/>\n",
       "<polygon fill=\"black\" stroke=\"black\" points=\"290.92,-134.09 297.99,-126.19 287.54,-127.96 290.92,-134.09\"/>\n",
       "</g>\n",
       "<!-- node2&#45;&gt;y -->\n",
       "<g id=\"edge18\" class=\"edge\">\n",
       "<title>node2&#45;&gt;y</title>\n",
       "<path fill=\"none\" stroke=\"black\" d=\"M206.99,-135.46C230.1,-131.21 260.11,-125.7 283.14,-121.46\"/>\n",
       "<polygon fill=\"black\" stroke=\"black\" points=\"283.98,-124.87 293.18,-119.62 282.72,-117.98 283.98,-124.87\"/>\n",
       "</g>\n",
       "<!-- ...&#45;&gt;y -->\n",
       "<g id=\"edge19\" class=\"edge\">\n",
       "<title>...&#45;&gt;y</title>\n",
       "<path fill=\"none\" stroke=\"black\" d=\"M196.68,-92.64C220.43,-97.01 256.21,-103.59 282.82,-108.48\"/>\n",
       "<polygon fill=\"black\" stroke=\"black\" points=\"282.41,-111.96 292.88,-110.33 283.68,-105.08 282.41,-111.96\"/>\n",
       "</g>\n",
       "<!-- node30&#45;&gt;y -->\n",
       "<g id=\"edge20\" class=\"edge\">\n",
       "<title>node30&#45;&gt;y</title>\n",
       "<path fill=\"none\" stroke=\"black\" d=\"M197.69,-48.48C223.37,-62.65 262.41,-84.18 289.06,-98.88\"/>\n",
       "<polygon fill=\"black\" stroke=\"black\" points=\"287.48,-102.01 297.93,-103.77 290.86,-95.88 287.48,-102.01\"/>\n",
       "</g>\n",
       "</g>\n",
       "</svg>\n"
      ],
      "text/plain": [
       "<graphviz.files.Source at 0x7f4a6d1306a0>"
      ]
     },
     "execution_count": 14,
     "metadata": {},
     "output_type": "execute_result"
    }
   ],
   "source": [
    "#collapse\n",
    "gv('''\n",
    "splines=line\n",
    "subgraph cluster_1{\n",
    "    style=filled;\n",
    "    color=lightgrey;\n",
    "    \"x1\"\n",
    "    \"x2\"\n",
    "    \"..\"\n",
    "    \"x784\"\n",
    "    label = \"Layer 0\"\n",
    "}\n",
    "subgraph cluster_2{\n",
    "    style=filled;\n",
    "    color=lightgrey;\n",
    "    \"x1\" -> \"node1\"\n",
    "    \"x2\" -> \"node1\"\n",
    "    \"..\" -> \"node1\"\n",
    "    \n",
    "    \"x784\" -> \"node1\"\n",
    "    \"x1\" -> \"node2\"\n",
    "    \"x2\" -> \"node2\"\n",
    "    \"..\" -> \"node2\"\n",
    "    \"x784\" -> \"node2\"\n",
    "    \n",
    "    \"x1\" -> \"...\"\n",
    "    \"x2\" -> \"...\"\n",
    "    \"..\" -> \"...\"\n",
    "    \"x784\" -> \"...\"\n",
    "\n",
    "    \"x1\" -> \"node30\"\n",
    "    \"x2\" -> \"node30\"\n",
    "    \"..\" -> \"node30\"\n",
    "    \"x784\" -> \"node30\"\n",
    "\n",
    "\n",
    "    label = \"Layer 1: ReLU\"\n",
    "}\n",
    "subgraph cluster_3{\n",
    "    style=filled;\n",
    "    color=lightgrey;\n",
    "    \"node1\" -> \"y\"\n",
    "    \"node2\" -> \"y\"\n",
    "    \"...\" -> \"y\"\n",
    "    \"node30\" -> \"y\"\n",
    "    label = \"Layer 2: Sigmoid\"\n",
    "}\n",
    "''')"
   ]
  },
  {
   "cell_type": "markdown",
   "id": "b5b504c5-09b0-4bcd-98df-39b2d1a78ce8",
   "metadata": {
    "id": "b5b504c5-09b0-4bcd-98df-39b2d1a78ce8"
   },
   "source": [
    "`-` 왜 28$\\times$28 이미지를 펼쳐서 784개의 벡터로 만든 다음에 모형을 돌려야 하는가? "
   ]
  },
  {
   "cell_type": "markdown",
   "id": "de96664d-4b2b-451b-a498-baa274b78cb3",
   "metadata": {
    "id": "de96664d-4b2b-451b-a498-baa274b78cb3"
   },
   "source": [
    "`-` 기존에 개발된 모형이 회귀분석 기반으로 되어있어서 결국 **회귀분석 틀에 짜 맞추어서 이미지자료를 분석하는 느낌** "
   ]
  },
  {
   "cell_type": "markdown",
   "id": "0ca81597-e11c-443b-b085-e889e22bd931",
   "metadata": {
    "id": "0ca81597-e11c-443b-b085-e889e22bd931"
   },
   "source": [
    "`-` observation의 차원은 $784$가 아니라 $1\\times (28\\times 28)$이 되어야 맞다. \n",
    "> 예제는 흑백이라서 $1\\times(28\\times28)$로 나타나고, 컬러인 경우에는 $3\\times(28\\times28)$"
   ]
  },
  {
   "cell_type": "code",
   "execution_count": 15,
   "id": "76cfc11f-7f0d-45cd-9366-f56df02ef344",
   "metadata": {
    "id": "76cfc11f-7f0d-45cd-9366-f56df02ef344",
    "outputId": "1f13eb3d-5d9c-4427-b0ed-63cb685344e9"
   },
   "outputs": [
    {
     "data": {
      "text/plain": [
       "torch.Size([12396, 784])"
      ]
     },
     "execution_count": 15,
     "metadata": {},
     "output_type": "execute_result"
    }
   ],
   "source": [
    "X.shape"
   ]
  },
  {
   "cell_type": "code",
   "execution_count": 18,
   "id": "6a6d8c94-b593-4aed-a09d-05329893066b",
   "metadata": {
    "id": "6a6d8c94-b593-4aed-a09d-05329893066b"
   },
   "outputs": [],
   "source": [
    "X=X.reshape(12396,1,28,28) "
   ]
  },
  {
   "cell_type": "code",
   "execution_count": 17,
   "id": "7d032317-7208-4f6f-be63-88feb59578d0",
   "metadata": {
    "id": "7d032317-7208-4f6f-be63-88feb59578d0",
    "outputId": "5bef1934-519f-406a-bf9a-ca38112cc99f"
   },
   "outputs": [
    {
     "data": {
      "text/plain": [
       "torch.Size([12396, 1, 28, 28])"
      ]
     },
     "execution_count": 17,
     "metadata": {},
     "output_type": "execute_result"
    }
   ],
   "source": [
    "X.shape"
   ]
  },
  {
   "cell_type": "code",
   "execution_count": 21,
   "id": "af064e8f-914b-49e3-8ef8-b128dc52fc08",
   "metadata": {
    "id": "af064e8f-914b-49e3-8ef8-b128dc52fc08",
    "outputId": "64a4f5ad-82a8-468f-f621-6102a83c2e89"
   },
   "outputs": [
    {
     "data": {
      "text/plain": [
       "<matplotlib.image.AxesImage at 0x7f4abcd0f3d0>"
      ]
     },
     "execution_count": 21,
     "metadata": {},
     "output_type": "execute_result"
    },
    {
     "data": {
      "image/png": "[encoded data removed]",
      "text/plain": [
       "<Figure size 432x288 with 1 Axes>"
      ]
     },
     "metadata": {
      "needs_background": "light"
     },
     "output_type": "display_data"
    }
   ],
   "source": [
    "plt.imshow(X[776][0])   #[0]꼭 넣어주기(흑백이미지여서?)"
   ]
  },
  {
   "cell_type": "markdown",
   "id": "5b558fdd-b2df-431a-9d40-ba991269e9e2",
   "metadata": {
    "id": "5b558fdd-b2df-431a-9d40-ba991269e9e2",
    "tags": []
   },
   "source": [
    "### 선형변환 대신에 2d convolution with windowsize=5"
   ]
  },
  {
   "cell_type": "markdown",
   "id": "7fe71245-5aed-4aee-9c90-e90417f6c2e3",
   "metadata": {},
   "source": [
    "* window size=5 이면 window는 5X5"
   ]
  },
  {
   "cell_type": "code",
   "execution_count": 1,
   "id": "99738499-0277-41ef-84b1-eb794536cd3d",
   "metadata": {
    "id": "2560d6c5-2edb-4ce0-aa1a-976620f1f16f"
   },
   "outputs": [
    {
     "ename": "NameError",
     "evalue": "name 'torch' is not defined",
     "output_type": "error",
     "traceback": [
      "\u001b[0;31m---------------------------------------------------------------------------\u001b[0m",
      "\u001b[0;31mNameError\u001b[0m                                 Traceback (most recent call last)",
      "\u001b[0;32m/tmp/ipykernel_1661330/3897445218.py\u001b[0m in \u001b[0;36m<module>\u001b[0;34m\u001b[0m\n\u001b[0;32m----> 1\u001b[0;31m \u001b[0mc1\u001b[0m\u001b[0;34m=\u001b[0m\u001b[0mtorch\u001b[0m\u001b[0;34m.\u001b[0m\u001b[0mnn\u001b[0m\u001b[0;34m.\u001b[0m\u001b[0mConv2d\u001b[0m\u001b[0;34m(\u001b[0m\u001b[0;36m1\u001b[0m\u001b[0;34m,\u001b[0m\u001b[0;36m16\u001b[0m\u001b[0;34m,\u001b[0m\u001b[0;36m5\u001b[0m\u001b[0;34m)\u001b[0m \u001b[0;31m# 입력채널=1 (흑백이므로), 출력채널=16, 윈도우크기5\u001b[0m\u001b[0;34m\u001b[0m\u001b[0;34m\u001b[0m\u001b[0m\n\u001b[0m",
      "\u001b[0;31mNameError\u001b[0m: name 'torch' is not defined"
     ]
    }
   ],
   "source": [
    "c1=torch.nn.Conv2d(1,16,5) # 입력채널=1 (흑백이므로), 출력채널=16, 윈도우크기5 "
   ]
  },
  {
   "cell_type": "code",
   "execution_count": 25,
   "id": "9e09c582-c405-4069-8bb9-2090df821af6",
   "metadata": {
    "id": "9e09c582-c405-4069-8bb9-2090df821af6",
    "outputId": "9e706b41-bd54-4cba-d782-6d139a28a685"
   },
   "outputs": [
    {
     "data": {
      "text/plain": [
       "(torch.Size([12396, 1, 28, 28]), torch.Size([12396, 16, 24, 24]))"
      ]
     },
     "execution_count": 25,
     "metadata": {},
     "output_type": "execute_result"
    }
   ],
   "source": [
    "X.shape, c1(X).shape"
   ]
  },
  {
   "cell_type": "markdown",
   "id": "4e2bc337-05c8-4c97-b3b1-de2e0cc29d68",
   "metadata": {},
   "source": [
    "> **X.shape는 28인데 왜 c1(X).shape는 24인가요?**  \n",
    "윈도우 사이즈가 5씩 움직이다 보면, 첫 시작 윈도우는 1-5, 마지막 윈도우는 24-28이 된다.  \n",
    "$\\to$ 약간 겹치는 부분이 생기다 보니 숫자가 달라진 것이다!  \n",
    "$\\to$ $28\\times 28$행렬에서 $24\\times 24$로 차원이 변함"
   ]
  },
  {
   "cell_type": "markdown",
   "id": "d8f21739-a73c-45e2-9b52-7f63673d978a",
   "metadata": {},
   "source": [
    "> **1에서 16으로 변한 것은 뭐지?**  \n",
    "  1개 이미지를 16개로 나눈 것 ! (뻥튀기 했다)"
   ]
  },
  {
   "cell_type": "code",
   "execution_count": 24,
   "id": "9c01b542-912c-4afc-a86e-0f88cdc442a8",
   "metadata": {
    "id": "9c01b542-912c-4afc-a86e-0f88cdc442a8",
    "outputId": "5f2aa036-6b8c-4a8d-b0ea-b1fe3eb1165f"
   },
   "outputs": [
    {
     "data": {
      "image/png": "[encoded data removed]",
      "text/plain": [
       "<Figure size 432x288 with 16 Axes>"
      ]
     },
     "metadata": {
      "needs_background": "light"
     },
     "output_type": "display_data"
    }
   ],
   "source": [
    "fig, axs = plt.subplots(4,4) \n",
    "k=0 \n",
    "for i in range(4):\n",
    "    for j in range(4):\n",
    "        axs[i,j].imshow(c1(X)[776][k].data) \n",
    "        k=k+1"
   ]
  },
  {
   "cell_type": "markdown",
   "id": "ef0073bb-40fc-4f27-b99d-1b0044c7587f",
   "metadata": {},
   "source": [
    "> 같은 777번째 이미지(0포함 776번째) 불러오고,  \n",
    "  1개였던 이미지가 16개가 되니까 k는 1에서 16까지 변함.  \n",
    "  .data는 선형 변환된 값이 출력되어 나오는데 미분되어 나오니까 붙여줘야 함."
   ]
  },
  {
   "cell_type": "code",
   "execution_count": 26,
   "id": "64c568bd-1715-445f-b22d-0e22b8c586ec",
   "metadata": {
    "id": "64c568bd-1715-445f-b22d-0e22b8c586ec",
    "outputId": "0eaa348f-bcf2-4f36-9ab5-bc8e04ff876a"
   },
   "outputs": [
    {
     "data": {
      "image/png": "[encoded data removed]",
      "text/plain": [
       "<Figure size 576x576 with 16 Axes>"
      ]
     },
     "execution_count": 26,
     "metadata": {},
     "output_type": "execute_result"
    }
   ],
   "source": [
    "#사이즈 키우기\n",
    "fig.set_figheight(8)\n",
    "fig.set_figwidth(8)\n",
    "fig.tight_layout()\n",
    "fig"
   ]
  },
  {
   "cell_type": "markdown",
   "id": "96053552-8ec5-4737-b5cf-73d5eb128ffd",
   "metadata": {
    "id": "96053552-8ec5-4737-b5cf-73d5eb128ffd"
   },
   "source": [
    "### ReLU() 대신 MaxPool2d + ReLU"
   ]
  },
  {
   "cell_type": "markdown",
   "id": "21333155-d258-421d-87b1-0108df7ca39b",
   "metadata": {
    "id": "21333155-d258-421d-87b1-0108df7ca39b"
   },
   "source": [
    "#### MaxPool2d"
   ]
  },
  {
   "cell_type": "code",
   "execution_count": 37,
   "id": "e33c41c3-6fd0-4b5b-9025-234ef4cf28e5",
   "metadata": {
    "id": "e33c41c3-6fd0-4b5b-9025-234ef4cf28e5"
   },
   "outputs": [],
   "source": [
    "m1=torch.nn.MaxPool2d(2)  #여기서 2를 넣어서 24->12로 바뀜"
   ]
  },
  {
   "cell_type": "code",
   "execution_count": 28,
   "id": "828ef6ce-a25c-4fe6-b3ed-d1a8d761abcb",
   "metadata": {
    "id": "828ef6ce-a25c-4fe6-b3ed-d1a8d761abcb",
    "outputId": "969898c2-e9b3-4763-cf9e-9455ba757a6b"
   },
   "outputs": [
    {
     "data": {
      "text/plain": [
       "(torch.Size([12396, 1, 28, 28]),\n",
       " torch.Size([12396, 16, 24, 24]),\n",
       " torch.Size([12396, 16, 12, 12]))"
      ]
     },
     "execution_count": 28,
     "metadata": {},
     "output_type": "execute_result"
    }
   ],
   "source": [
    "X.shape,c1(X).shape,m1(c1(X)).shape"
   ]
  },
  {
   "cell_type": "markdown",
   "id": "d376179d-67ce-4407-bcfd-f5cdb787eb6d",
   "metadata": {},
   "source": [
    "> 12,12는 왜 등장했는지 확인해보자."
   ]
  },
  {
   "cell_type": "code",
   "execution_count": 29,
   "id": "682f7d14-cd91-4f81-88d9-c8e7cf615f2d",
   "metadata": {
    "id": "682f7d14-cd91-4f81-88d9-c8e7cf615f2d",
    "outputId": "9aa45625-9f5b-47f0-a6b2-2820bdf30893"
   },
   "outputs": [
    {
     "data": {
      "image/png": "[encoded data removed]",
      "text/plain": [
       "<Figure size 576x576 with 16 Axes>"
      ]
     },
     "metadata": {
      "needs_background": "light"
     },
     "output_type": "display_data"
    }
   ],
   "source": [
    "fig, axs = plt.subplots(4,4) \n",
    "k=0 \n",
    "for i in range(4):\n",
    "    for j in range(4):\n",
    "        axs[i,j].imshow(m1(c1(X))[776][k].data) \n",
    "        k=k+1\n",
    "fig.set_figheight(8)\n",
    "fig.set_figwidth(8)\n",
    "fig.tight_layout()    "
   ]
  },
  {
   "cell_type": "markdown",
   "id": "d325f18e-1f7c-4c5c-af3b-181119e3864c",
   "metadata": {},
   "source": [
    "> **비교**  \n",
    "  화질이 좀 안 좋아진 것 같다  \n",
    "  MaxPooling의 역할은 데이터의 단순화$\\to$저화질로 변함  \n",
    "  다른 역할은 다음에 설명 추가!"
   ]
  },
  {
   "cell_type": "markdown",
   "id": "696ff68e-c4ee-47c7-a0fb-3526c4715c4f",
   "metadata": {
    "id": "696ff68e-c4ee-47c7-a0fb-3526c4715c4f"
   },
   "source": [
    "#### ReLU "
   ]
  },
  {
   "cell_type": "code",
   "execution_count": 30,
   "id": "a5074ae1-2840-445e-ac39-39bb45e87c93",
   "metadata": {
    "id": "a5074ae1-2840-445e-ac39-39bb45e87c93"
   },
   "outputs": [],
   "source": [
    "a1=torch.nn.ReLU()"
   ]
  },
  {
   "cell_type": "code",
   "execution_count": 31,
   "id": "a308618f-d119-4f46-b963-fb849f777940",
   "metadata": {
    "id": "a308618f-d119-4f46-b963-fb849f777940",
    "outputId": "72347e0b-dd69-4381-f368-10b95a508760"
   },
   "outputs": [
    {
     "data": {
      "text/plain": [
       "(torch.Size([12396, 1, 28, 28]),\n",
       " torch.Size([12396, 16, 24, 24]),\n",
       " torch.Size([12396, 16, 12, 12]),\n",
       " torch.Size([12396, 16, 12, 12]))"
      ]
     },
     "execution_count": 31,
     "metadata": {},
     "output_type": "execute_result"
    }
   ],
   "source": [
    "X.shape,c1(X).shape, m1(c1(X)).shape, a1(m1(c1(X))).shape"
   ]
  },
  {
   "cell_type": "markdown",
   "id": "78b5859e-3bb1-4c1e-a61f-fe3fe17db6da",
   "metadata": {},
   "source": [
    "> ReLU를 거쳐도 숫자에서 바뀌는 것은 없음  \n",
    "  하지만 비선형 과정을 거치기 때문에 약간 달리지는 것이 있음!"
   ]
  },
  {
   "cell_type": "code",
   "execution_count": 32,
   "id": "8876ba1d-d448-47d1-8cf2-89514d6caba9",
   "metadata": {
    "id": "8876ba1d-d448-47d1-8cf2-89514d6caba9",
    "outputId": "69c3b2f8-83b3-484d-cbcf-7ab685573884"
   },
   "outputs": [
    {
     "data": {
      "image/png": "[encoded data removed]",
      "text/plain": [
       "<Figure size 576x576 with 16 Axes>"
      ]
     },
     "metadata": {
      "needs_background": "light"
     },
     "output_type": "display_data"
    }
   ],
   "source": [
    "fig, axs = plt.subplots(4,4) \n",
    "k=0 \n",
    "for i in range(4):\n",
    "    for j in range(4):\n",
    "        axs[i,j].imshow(a1(m1(c1(X)))[776][k].data) \n",
    "        k=k+1\n",
    "fig.set_figheight(8)\n",
    "fig.set_figwidth(8)\n",
    "fig.tight_layout()    "
   ]
  },
  {
   "cell_type": "markdown",
   "id": "bc822ddb-870b-46ba-83bf-1b3218bf6150",
   "metadata": {},
   "source": [
    "> 몇 개의 이미지가 잘린 모습, 배경 색이 변함(초록에서 남색으로)  "
   ]
  },
  {
   "cell_type": "markdown",
   "id": "9eac451e-d48c-42d5-98e6-6caeb1f78f48",
   "metadata": {},
   "source": [
    "-   ReLU는 0보다 크면 살리고, 0보다 작으면 날리는 방식으로 작동함"
   ]
  },
  {
   "cell_type": "markdown",
   "id": "c746efde-007a-4a64-a144-2d9c13cceb38",
   "metadata": {},
   "source": [
    "확인해보기!"
   ]
  },
  {
   "cell_type": "code",
   "execution_count": 33,
   "id": "55292df0-72ed-474d-9c1f-9364c4ae7e8b",
   "metadata": {
    "id": "55292df0-72ed-474d-9c1f-9364c4ae7e8b",
    "outputId": "e78c69a0-1756-41ab-807b-675dec34cf36"
   },
   "outputs": [
    {
     "data": {
      "text/plain": [
       "tensor([[ 0.6614,  0.2669,  0.0617],\n",
       "        [ 0.6213, -0.4519, -0.1661],\n",
       "        [-1.5228,  0.3817, -1.0276]])"
      ]
     },
     "execution_count": 33,
     "metadata": {},
     "output_type": "execute_result"
    }
   ],
   "source": [
    "torch.manual_seed(1)\n",
    "_A= torch.randn((3,3))\n",
    "_A"
   ]
  },
  {
   "cell_type": "code",
   "execution_count": 34,
   "id": "fc6d8c76-44f7-4623-8021-e81de4ff4905",
   "metadata": {
    "id": "fc6d8c76-44f7-4623-8021-e81de4ff4905",
    "outputId": "7b222df3-f2ac-4ebf-8cb2-995e10192460"
   },
   "outputs": [
    {
     "data": {
      "text/plain": [
       "tensor([[0.6614, 0.2669, 0.0617],\n",
       "        [0.6213, 0.0000, 0.0000],\n",
       "        [0.0000, 0.3817, 0.0000]])"
      ]
     },
     "execution_count": 34,
     "metadata": {},
     "output_type": "execute_result"
    }
   ],
   "source": [
    "a1(_A)"
   ]
  },
  {
   "cell_type": "markdown",
   "id": "699bd232-6c8b-4c10-8a86-da7ba497208d",
   "metadata": {
    "id": "699bd232-6c8b-4c10-8a86-da7ba497208d"
   },
   "source": [
    "### 여기에서 그냥 시그모이드에 태우자. "
   ]
  },
  {
   "cell_type": "markdown",
   "id": "b7728b2b-1a79-4cec-bff1-3dddc3b10868",
   "metadata": {
    "id": "b7728b2b-1a79-4cec-bff1-3dddc3b10868"
   },
   "source": [
    "`-` 현재상황 "
   ]
  },
  {
   "cell_type": "code",
   "execution_count": 35,
   "id": "2146f6b4-69af-4e93-9d2f-75c55db86199",
   "metadata": {
    "id": "2146f6b4-69af-4e93-9d2f-75c55db86199",
    "outputId": "eb8158f1-b9a0-44a4-a13f-18992ae034cf"
   },
   "outputs": [
    {
     "data": {
      "text/plain": [
       "torch.Size([12396, 16, 12, 12])"
      ]
     },
     "execution_count": 35,
     "metadata": {},
     "output_type": "execute_result"
    }
   ],
   "source": [
    "a1(m1(c1(X))).shape"
   ]
  },
  {
   "cell_type": "markdown",
   "id": "ffb57abc-767e-4e69-b2c2-8323b45b87a5",
   "metadata": {
    "id": "ffb57abc-767e-4e69-b2c2-8323b45b87a5"
   },
   "source": [
    "`-` 펼치자\n",
    "> 결국 y는 0,1의 값을 가지기 때문에 우리는 기존 신경망과 비슷하게 만들어야(펼쳐야) 함"
   ]
  },
  {
   "cell_type": "code",
   "execution_count": 36,
   "id": "fba906ac-3f04-4853-9731-8532cc3f8b6f",
   "metadata": {
    "id": "fba906ac-3f04-4853-9731-8532cc3f8b6f",
    "outputId": "b47c09a4-3681-4e00-dfc9-3a758fba1bec"
   },
   "outputs": [
    {
     "data": {
      "text/plain": [
       "torch.Size([12396, 2304])"
      ]
     },
     "execution_count": 36,
     "metadata": {},
     "output_type": "execute_result"
    }
   ],
   "source": [
    "a1(m1(c1(X))).reshape(12396,-1).shape"
   ]
  },
  {
   "cell_type": "code",
   "execution_count": 38,
   "id": "d07e1606-6ba1-4bd5-afa0-f16073a846fc",
   "metadata": {},
   "outputs": [
    {
     "data": {
      "text/plain": [
       "2304"
      ]
     },
     "execution_count": 38,
     "metadata": {},
     "output_type": "execute_result"
    }
   ],
   "source": [
    "16*12*12"
   ]
  },
  {
   "cell_type": "markdown",
   "id": "f1f6851c-60f9-4283-8379-3bc6a5d9fa07",
   "metadata": {
    "id": "f1f6851c-60f9-4283-8379-3bc6a5d9fa07"
   },
   "source": [
    "`-` 2304의 디멘젼을 1로 만들자. \n",
    "> 숨겨진 layer 없이 바로! 선형변환을 통해 2304의 디멘젼을 1로!"
   ]
  },
  {
   "cell_type": "code",
   "execution_count": 39,
   "id": "d1c09cc3-9fb9-4c10-9d48-51dadf3bb6f6",
   "metadata": {
    "id": "d1c09cc3-9fb9-4c10-9d48-51dadf3bb6f6"
   },
   "outputs": [],
   "source": [
    "l1=torch.nn.Linear(in_features=2304,out_features=1) "
   ]
  },
  {
   "cell_type": "code",
   "execution_count": 40,
   "id": "0f594851-6ae1-46d6-96c8-c8b4e9e7d70b",
   "metadata": {
    "id": "0f594851-6ae1-46d6-96c8-c8b4e9e7d70b",
    "outputId": "4611bf4a-2ddc-478a-dac2-7cd913a5b2bd"
   },
   "outputs": [
    {
     "data": {
      "text/plain": [
       "tensor([[-0.0645],\n",
       "        [-0.0081],\n",
       "        [-0.0085],\n",
       "        ...,\n",
       "        [-0.0154],\n",
       "        [-0.0199],\n",
       "        [-0.1047]], grad_fn=<AddmmBackward>)"
      ]
     },
     "execution_count": 40,
     "metadata": {},
     "output_type": "execute_result"
    }
   ],
   "source": [
    "l1(a1(m1(c1(X))).reshape(12396,-1))"
   ]
  },
  {
   "cell_type": "markdown",
   "id": "582e3445-5c64-4e4b-8365-62265c8cf4ee",
   "metadata": {
    "id": "582e3445-5c64-4e4b-8365-62265c8cf4ee"
   },
   "source": [
    "`-` 시그모이드를 걸자. "
   ]
  },
  {
   "cell_type": "code",
   "execution_count": 41,
   "id": "777ae674-cf5e-4302-9343-6c471873efcc",
   "metadata": {
    "id": "777ae674-cf5e-4302-9343-6c471873efcc",
    "outputId": "19acc33c-edbd-4089-cb97-d9cd825f0742"
   },
   "outputs": [
    {
     "data": {
      "text/plain": [
       "tensor([[0.4839],\n",
       "        [0.4980],\n",
       "        [0.4979],\n",
       "        ...,\n",
       "        [0.4961],\n",
       "        [0.4950],\n",
       "        [0.4738]], grad_fn=<SigmoidBackward>)"
      ]
     },
     "execution_count": 41,
     "metadata": {},
     "output_type": "execute_result"
    }
   ],
   "source": [
    "a2=torch.nn.Sigmoid() \n",
    "a2(l1(a1(m1(c1(X))).reshape(12396,-1)))"
   ]
  },
  {
   "cell_type": "markdown",
   "id": "fb07c831-42a7-4138-830f-5c156926f018",
   "metadata": {
    "id": "fb07c831-42a7-4138-830f-5c156926f018"
   },
   "source": [
    "### networks 설계 "
   ]
  },
  {
   "cell_type": "code",
   "execution_count": 42,
   "id": "53ca598a-cca0-4b09-bb67-10d8b6bb7513",
   "metadata": {
    "id": "53ca598a-cca0-4b09-bb67-10d8b6bb7513",
    "outputId": "fd3f6422-41c1-4d34-beca-a7b4d9532c2f"
   },
   "outputs": [
    {
     "ename": "TypeError",
     "evalue": "torch.FloatTensor is not a Module subclass",
     "output_type": "error",
     "traceback": [
      "\u001b[0;31m---------------------------------------------------------------------------\u001b[0m",
      "\u001b[0;31mTypeError\u001b[0m                                 Traceback (most recent call last)",
      "\u001b[0;32m/tmp/ipykernel_552020/380748644.py\u001b[0m in \u001b[0;36m<module>\u001b[0;34m\u001b[0m\n\u001b[0;32m----> 1\u001b[0;31m net = nn.Sequential(\n\u001b[0m\u001b[1;32m      2\u001b[0m     \u001b[0mc1\u001b[0m\u001b[0;34m,\u001b[0m \u001b[0;31m# 컨볼루션(선형)\u001b[0m\u001b[0;34m\u001b[0m\u001b[0;34m\u001b[0m\u001b[0m\n\u001b[1;32m      3\u001b[0m     \u001b[0mm1\u001b[0m\u001b[0;34m,\u001b[0m \u001b[0;31m# 맥스풀링(비선형) -- 효과? 이미지를 계층적으로 파악할 수 있게함\u001b[0m\u001b[0;34m\u001b[0m\u001b[0;34m\u001b[0m\u001b[0m\n\u001b[1;32m      4\u001b[0m     \u001b[0ma1\u001b[0m\u001b[0;34m,\u001b[0m \u001b[0;31m# 렐루(비선형)\u001b[0m\u001b[0;34m\u001b[0m\u001b[0;34m\u001b[0m\u001b[0m\n\u001b[1;32m      5\u001b[0m \u001b[0;34m\u001b[0m\u001b[0m\n",
      "\u001b[0;32m~/anaconda3/envs/bda2021/lib/python3.8/site-packages/torch/nn/modules/container.py\u001b[0m in \u001b[0;36m__init__\u001b[0;34m(self, *args)\u001b[0m\n\u001b[1;32m     87\u001b[0m         \u001b[0;32melse\u001b[0m\u001b[0;34m:\u001b[0m\u001b[0;34m\u001b[0m\u001b[0;34m\u001b[0m\u001b[0m\n\u001b[1;32m     88\u001b[0m             \u001b[0;32mfor\u001b[0m \u001b[0midx\u001b[0m\u001b[0;34m,\u001b[0m \u001b[0mmodule\u001b[0m \u001b[0;32min\u001b[0m \u001b[0menumerate\u001b[0m\u001b[0;34m(\u001b[0m\u001b[0margs\u001b[0m\u001b[0;34m)\u001b[0m\u001b[0;34m:\u001b[0m\u001b[0;34m\u001b[0m\u001b[0;34m\u001b[0m\u001b[0m\n\u001b[0;32m---> 89\u001b[0;31m                 \u001b[0mself\u001b[0m\u001b[0;34m.\u001b[0m\u001b[0madd_module\u001b[0m\u001b[0;34m(\u001b[0m\u001b[0mstr\u001b[0m\u001b[0;34m(\u001b[0m\u001b[0midx\u001b[0m\u001b[0;34m)\u001b[0m\u001b[0;34m,\u001b[0m \u001b[0mmodule\u001b[0m\u001b[0;34m)\u001b[0m\u001b[0;34m\u001b[0m\u001b[0;34m\u001b[0m\u001b[0m\n\u001b[0m\u001b[1;32m     90\u001b[0m \u001b[0;34m\u001b[0m\u001b[0m\n\u001b[1;32m     91\u001b[0m     \u001b[0;32mdef\u001b[0m \u001b[0m_get_item_by_idx\u001b[0m\u001b[0;34m(\u001b[0m\u001b[0mself\u001b[0m\u001b[0;34m,\u001b[0m \u001b[0miterator\u001b[0m\u001b[0;34m,\u001b[0m \u001b[0midx\u001b[0m\u001b[0;34m)\u001b[0m \u001b[0;34m->\u001b[0m \u001b[0mT\u001b[0m\u001b[0;34m:\u001b[0m\u001b[0;34m\u001b[0m\u001b[0;34m\u001b[0m\u001b[0m\n",
      "\u001b[0;32m~/anaconda3/envs/bda2021/lib/python3.8/site-packages/torch/nn/modules/module.py\u001b[0m in \u001b[0;36madd_module\u001b[0;34m(self, name, module)\u001b[0m\n\u001b[1;32m    370\u001b[0m         \"\"\"\n\u001b[1;32m    371\u001b[0m         \u001b[0;32mif\u001b[0m \u001b[0;32mnot\u001b[0m \u001b[0misinstance\u001b[0m\u001b[0;34m(\u001b[0m\u001b[0mmodule\u001b[0m\u001b[0;34m,\u001b[0m \u001b[0mModule\u001b[0m\u001b[0;34m)\u001b[0m \u001b[0;32mand\u001b[0m \u001b[0mmodule\u001b[0m \u001b[0;32mis\u001b[0m \u001b[0;32mnot\u001b[0m \u001b[0;32mNone\u001b[0m\u001b[0;34m:\u001b[0m\u001b[0;34m\u001b[0m\u001b[0;34m\u001b[0m\u001b[0m\n\u001b[0;32m--> 372\u001b[0;31m             raise TypeError(\"{} is not a Module subclass\".format(\n\u001b[0m\u001b[1;32m    373\u001b[0m                 torch.typename(module)))\n\u001b[1;32m    374\u001b[0m         \u001b[0;32melif\u001b[0m \u001b[0;32mnot\u001b[0m \u001b[0misinstance\u001b[0m\u001b[0;34m(\u001b[0m\u001b[0mname\u001b[0m\u001b[0;34m,\u001b[0m \u001b[0mtorch\u001b[0m\u001b[0;34m.\u001b[0m\u001b[0m_six\u001b[0m\u001b[0;34m.\u001b[0m\u001b[0mstring_classes\u001b[0m\u001b[0;34m)\u001b[0m\u001b[0;34m:\u001b[0m\u001b[0;34m\u001b[0m\u001b[0;34m\u001b[0m\u001b[0m\n",
      "\u001b[0;31mTypeError\u001b[0m: torch.FloatTensor is not a Module subclass"
     ]
    }
   ],
   "source": [
    "net = nn.Sequential(\n",
    "    c1, # 컨볼루션(선형)\n",
    "    m1, # 맥스풀링(비선형) -- 효과? 이미지를 계층적으로 파악할 수 있게함 \n",
    "    a1, # 렐루(비선형) \n",
    "    \n",
    "    a1(m1(c1(X))).reshape(12396,-1), ## 이걸 구현해야하는데?? \n",
    "    \n",
    "    l1) \n",
    "## 마지막의 a2(sigmoid)는 생략한다. torch.nn..BCEWithLogitsLoss()에 내장되어 있을것이므로 "
   ]
  },
  {
   "cell_type": "code",
   "execution_count": 43,
   "id": "d34be40e-2191-4f3c-84a3-e02301e1e417",
   "metadata": {
    "id": "d34be40e-2191-4f3c-84a3-e02301e1e417"
   },
   "outputs": [],
   "source": [
    "net = nn.Sequential(\n",
    "    c1, # 컨볼루션(선형)\n",
    "    m1, # 맥스풀링(비선형) -- 효과? 이미지를 계층적으로 파악할 수 있게함 \n",
    "    a1, # 렐루(비선형) \n",
    "    \n",
    "#    a1(m1(c1(X))).reshape(12396,-1), ## 이걸 구현해야하는데?? \n",
    "    \n",
    "    l1) \n",
    "## 마지막의 a2는 생략한다. torch.nn..BCEWithLogitsLoss()에 내장되어 있을것이므로 \n"
   ]
  },
  {
   "cell_type": "markdown",
   "id": "8b3c6e16-84cd-403f-aa34-fa036aa22536",
   "metadata": {
    "id": "8b3c6e16-84cd-403f-aa34-fa036aa22536"
   },
   "source": [
    "`-` 결국 주석처리한 부분을 구현해야함. "
   ]
  },
  {
   "cell_type": "markdown",
   "id": "2ce0c4f4-b1cb-4075-9911-7da4cf0267e5",
   "metadata": {
    "id": "2ce0c4f4-b1cb-4075-9911-7da4cf0267e5"
   },
   "source": [
    "`-` `c1`,`m1`,`a1`,`l1`의 공통점 \n",
    "\n",
    "- 무언가를 상속받는 클래스에서 생성된 인스턴스이다. \n",
    "- forward메소드가 있다. "
   ]
  },
  {
   "cell_type": "markdown",
   "id": "5144e0c8-4c5a-4461-a21a-a00760e63260",
   "metadata": {
    "id": "5144e0c8-4c5a-4461-a21a-a00760e63260"
   },
   "source": [
    "`-` custom layer를 만드는 방법 \n",
    "- torch.nn.Module(=슈퍼클래스)을 상속받아서 클래스를 하나 만든다. \n",
    "- forward 메소드를 정의한다. (다음레이어로 리턴할 값)"
   ]
  },
  {
   "cell_type": "code",
   "execution_count": 44,
   "id": "bcf93e56-d273-408d-8f81-e4387b97db8e",
   "metadata": {
    "id": "bcf93e56-d273-408d-8f81-e4387b97db8e"
   },
   "outputs": [],
   "source": [
    "class Flatten(torch.nn.Module):\n",
    "    def forward(self,x): \n",
    "        return x.reshape(12396,-1)"
   ]
  },
  {
   "cell_type": "code",
   "execution_count": 45,
   "id": "34a8bac1-66c8-4318-8ec1-84aad43c942a",
   "metadata": {
    "id": "34a8bac1-66c8-4318-8ec1-84aad43c942a"
   },
   "outputs": [],
   "source": [
    "flatten=Flatten()"
   ]
  },
  {
   "cell_type": "code",
   "execution_count": 46,
   "id": "ceacd2f0-0575-4b4a-bc6a-5a503d68b649",
   "metadata": {
    "id": "ceacd2f0-0575-4b4a-bc6a-5a503d68b649",
    "outputId": "67a63303-315f-401b-83c8-52ce584c37a6"
   },
   "outputs": [
    {
     "data": {
      "text/plain": [
       "torch.Size([12396, 2304])"
      ]
     },
     "execution_count": 46,
     "metadata": {},
     "output_type": "execute_result"
    }
   ],
   "source": [
    "flatten(a1(m1(c1(X)))).shape"
   ]
  },
  {
   "cell_type": "markdown",
   "id": "18259565-934d-4593-96da-45f5eedb9c1c",
   "metadata": {
    "id": "18259565-934d-4593-96da-45f5eedb9c1c"
   },
   "source": [
    "`-` 잘 구현이 된 것 같다. 네트워크 설정 완료! "
   ]
  },
  {
   "cell_type": "code",
   "execution_count": 47,
   "id": "35fc393e-e6fd-4ee7-96ca-ff01b46609b6",
   "metadata": {
    "id": "35fc393e-e6fd-4ee7-96ca-ff01b46609b6"
   },
   "outputs": [],
   "source": [
    "net = nn.Sequential(\n",
    "    c1, # 컨볼루션(선형)\n",
    "    m1, # 맥스풀링(비선형) -- 효과? 이미지를 계층적으로 파악할 수 있게함 \n",
    "    a1, # 렐루(비선형) \n",
    "    flatten,#    a1(m1(c1(X))).reshape(12396,-1), ## 이걸 구현해야하는데?? \n",
    "    l1) \n",
    "## 마지막의 a2는 생략한다. torch.nn..BCEWithLogitsLoss()에 내장되어 있을것이므로 "
   ]
  },
  {
   "cell_type": "markdown",
   "id": "a3ce32a6-7160-42a6-8e60-8d3e28ab9234",
   "metadata": {
    "id": "a3ce32a6-7160-42a6-8e60-8d3e28ab9234"
   },
   "source": [
    "`-` 손실함수와 옵티마이저 정의 "
   ]
  },
  {
   "cell_type": "code",
   "execution_count": 48,
   "id": "4f46ca98-1a7d-4215-85ac-da3b2894ea34",
   "metadata": {
    "id": "4f46ca98-1a7d-4215-85ac-da3b2894ea34"
   },
   "outputs": [],
   "source": [
    "loss_fn=torch.nn.BCEWithLogitsLoss()\n",
    "optimizer= torch.optim.Adam(net.parameters())"
   ]
  },
  {
   "cell_type": "markdown",
   "id": "dcc089cc-e686-4bdd-824d-c9b7806452c1",
   "metadata": {
    "id": "dcc089cc-e686-4bdd-824d-c9b7806452c1"
   },
   "source": [
    "`-` step1~4"
   ]
  },
  {
   "cell_type": "code",
   "execution_count": 49,
   "id": "4ec2b195-0699-4603-bd59-6ced8751daff",
   "metadata": {
    "id": "4ec2b195-0699-4603-bd59-6ced8751daff"
   },
   "outputs": [],
   "source": [
    "for epoc in range(200): \n",
    "    ## 1 \n",
    "    yhat=net(X)\n",
    "    ## 2 \n",
    "    loss=loss_fn(yhat,y) \n",
    "    ## 3 \n",
    "    loss.backward()\n",
    "    ## 4 \n",
    "    optimizer.step()\n",
    "    net.zero_grad()"
   ]
  },
  {
   "cell_type": "code",
   "execution_count": 51,
   "id": "bf52695c-2bf4-40c6-a4be-6eabf2a7614b",
   "metadata": {
    "id": "bf52695c-2bf4-40c6-a4be-6eabf2a7614b",
    "outputId": "841d11e3-e877-4f90-d69d-ebb244a50e7c"
   },
   "outputs": [
    {
     "data": {
      "text/plain": [
       "[<matplotlib.lines.Line2D at 0x7f4c24334340>]"
      ]
     },
     "execution_count": 51,
     "metadata": {},
     "output_type": "execute_result"
    },
    {
     "data": {
      "image/png": "[encoded data removed]",
      "text/plain": [
       "<Figure size 432x288 with 1 Axes>"
      ]
     },
     "metadata": {
      "needs_background": "light"
     },
     "output_type": "display_data"
    }
   ],
   "source": [
    "plt.plot(y)\n",
    "plt.plot(a2(yhat.data),'.')  #마지막 시그모이드 취해준다"
   ]
  },
  {
   "cell_type": "code",
   "execution_count": 52,
   "id": "66162109-07ff-4d13-9725-857c4d2d68ef",
   "metadata": {
    "id": "66162109-07ff-4d13-9725-857c4d2d68ef"
   },
   "outputs": [],
   "source": [
    "ypred=a2(yhat.data)>0.5 "
   ]
  },
  {
   "cell_type": "code",
   "execution_count": 53,
   "id": "c6b6732d-92e1-4249-b2f4-0198a5a0757f",
   "metadata": {
    "id": "c6b6732d-92e1-4249-b2f4-0198a5a0757f",
    "outputId": "8cd37f17-133c-41fe-91be-cf12b2f4cbf8"
   },
   "outputs": [
    {
     "data": {
      "text/plain": [
       "tensor([0.9927])"
      ]
     },
     "execution_count": 53,
     "metadata": {},
     "output_type": "execute_result"
    }
   ],
   "source": [
    "sum(ypred==y)/12396"
   ]
  },
  {
   "cell_type": "markdown",
   "id": "78145471-f51c-490d-ad31-478053de7de9",
   "metadata": {
    "id": "78145471-f51c-490d-ad31-478053de7de9"
   },
   "source": [
    "`-` 좀 더 성능이 좋아졌다. (이미 좋았는데 약간 더 좋아짐) "
   ]
  },
  {
   "cell_type": "markdown",
   "id": "aa9bac74-cfe7-47d5-ab85-b35202d69cfc",
   "metadata": {
    "id": "aa9bac74-cfe7-47d5-ab85-b35202d69cfc"
   },
   "source": [
    "### 숙제 "
   ]
  },
  {
   "cell_type": "markdown",
   "id": "c8de1c77-d64a-4236-a592-db2e004f4592",
   "metadata": {
    "id": "c8de1c77-d64a-4236-a592-db2e004f4592"
   },
   "source": [
    "`-` torch.nn.MaxPool2d(2) 대신 torch.nn.MaxPool2d(3) 을 사용하여 모형을 학습해보고 결과비교"
   ]
  },
  {
   "cell_type": "code",
   "execution_count": 62,
   "id": "899b4d51-835c-4cd9-b2a0-52cf755fcd50",
   "metadata": {
    "id": "e33c41c3-6fd0-4b5b-9025-234ef4cf28e5"
   },
   "outputs": [],
   "source": [
    "m2=torch.nn.MaxPool2d(3)  #3를 넣어서 24->8로 바뀜"
   ]
  },
  {
   "cell_type": "code",
   "execution_count": 63,
   "id": "cae47d3d-931b-4564-aa9a-5651672f08bd",
   "metadata": {},
   "outputs": [
    {
     "data": {
      "text/plain": [
       "(torch.Size([12396, 1, 28, 28]),\n",
       " torch.Size([12396, 16, 24, 24]),\n",
       " torch.Size([12396, 16, 8, 8]),\n",
       " torch.Size([12396, 16, 8, 8]))"
      ]
     },
     "execution_count": 63,
     "metadata": {},
     "output_type": "execute_result"
    }
   ],
   "source": [
    "X.shape,c1(X).shape, m2(c1(X)).shape, a1(m2(c1(X))).shape"
   ]
  },
  {
   "cell_type": "code",
   "execution_count": 64,
   "id": "9278e536-56ed-4d2d-aca5-91d86542c6b6",
   "metadata": {
    "id": "ceacd2f0-0575-4b4a-bc6a-5a503d68b649",
    "outputId": "67a63303-315f-401b-83c8-52ce584c37a6"
   },
   "outputs": [
    {
     "data": {
      "text/plain": [
       "torch.Size([12396, 1024])"
      ]
     },
     "execution_count": 64,
     "metadata": {},
     "output_type": "execute_result"
    }
   ],
   "source": [
    "flatten(a1(m2(c1(X)))).shape"
   ]
  },
  {
   "cell_type": "code",
   "execution_count": 65,
   "id": "f4fe6796-034c-45a4-bf15-a22317813b92",
   "metadata": {
    "id": "ceacd2f0-0575-4b4a-bc6a-5a503d68b649",
    "outputId": "67a63303-315f-401b-83c8-52ce584c37a6"
   },
   "outputs": [
    {
     "data": {
      "text/plain": [
       "1024"
      ]
     },
     "execution_count": 65,
     "metadata": {},
     "output_type": "execute_result"
    }
   ],
   "source": [
    "16*8*8"
   ]
  },
  {
   "cell_type": "code",
   "execution_count": 74,
   "id": "db60e50f-22d1-4e75-9707-4667a7004764",
   "metadata": {
    "id": "d1c09cc3-9fb9-4c10-9d48-51dadf3bb6f6"
   },
   "outputs": [],
   "source": [
    "l2=torch.nn.Linear(in_features=1024,out_features=1) "
   ]
  },
  {
   "cell_type": "code",
   "execution_count": 75,
   "id": "23b95e7a-3066-4996-a307-2e79aa7c6dc0",
   "metadata": {
    "id": "35fc393e-e6fd-4ee7-96ca-ff01b46609b6"
   },
   "outputs": [],
   "source": [
    "net = nn.Sequential(\n",
    "    c1, # 컨볼루션(선형)\n",
    "    m2, # 맥스풀링(비선형) -- 효과? 이미지를 계층적으로 파악할 수 있게함 \n",
    "    a1, # 렐루(비선형) \n",
    "    flatten, \n",
    "    l2) \n",
    "## 마지막의 a2는 생략한다. torch.nn..BCEWithLogitsLoss()에 내장되어 있을것이므로 "
   ]
  },
  {
   "cell_type": "code",
   "execution_count": 76,
   "id": "21b380e6-54ad-48fc-a319-d5221050b38b",
   "metadata": {
    "id": "4f46ca98-1a7d-4215-85ac-da3b2894ea34"
   },
   "outputs": [],
   "source": [
    "loss_fn=torch.nn.BCEWithLogitsLoss()\n",
    "optimizer= torch.optim.Adam(net.parameters())"
   ]
  },
  {
   "cell_type": "code",
   "execution_count": 77,
   "id": "bc9462e4-d6f4-471b-98db-bf88c8f298da",
   "metadata": {
    "id": "4ec2b195-0699-4603-bd59-6ced8751daff"
   },
   "outputs": [],
   "source": [
    "for epoc in range(200): \n",
    "    ## 1 \n",
    "    yhat=net(X)\n",
    "    ## 2 \n",
    "    loss=loss_fn(yhat,y) \n",
    "    ## 3 \n",
    "    loss.backward()\n",
    "    ## 4 \n",
    "    optimizer.step()\n",
    "    net.zero_grad()"
   ]
  },
  {
   "cell_type": "code",
   "execution_count": 78,
   "id": "cd79b86b-2956-4a2b-b1c7-b98479c5f251",
   "metadata": {
    "id": "bf52695c-2bf4-40c6-a4be-6eabf2a7614b",
    "outputId": "841d11e3-e877-4f90-d69d-ebb244a50e7c"
   },
   "outputs": [
    {
     "data": {
      "text/plain": [
       "[<matplotlib.lines.Line2D at 0x7f4abc667f70>]"
      ]
     },
     "execution_count": 78,
     "metadata": {},
     "output_type": "execute_result"
    },
    {
     "data": {
      "image/png": "[encoded data removed]",
      "text/plain": [
       "<Figure size 432x288 with 1 Axes>"
      ]
     },
     "metadata": {
      "needs_background": "light"
     },
     "output_type": "display_data"
    }
   ],
   "source": [
    "plt.plot(y)\n",
    "plt.plot(a2(yhat.data),'.')  #마지막 시그모이드 취해준다"
   ]
  },
  {
   "cell_type": "code",
   "execution_count": 79,
   "id": "d807b393-ac8d-424e-a537-9b6fd4d2d0cc",
   "metadata": {
    "id": "66162109-07ff-4d13-9725-857c4d2d68ef"
   },
   "outputs": [],
   "source": [
    "ypred=a2(yhat.data)>0.5 "
   ]
  },
  {
   "cell_type": "code",
   "execution_count": 80,
   "id": "4bd0abe2-5e92-44f7-aee9-0fe7d0082c48",
   "metadata": {
    "id": "c6b6732d-92e1-4249-b2f4-0198a5a0757f",
    "outputId": "8cd37f17-133c-41fe-91be-cf12b2f4cbf8"
   },
   "outputs": [
    {
     "data": {
      "text/plain": [
       "tensor([0.9894])"
      ]
     },
     "execution_count": 80,
     "metadata": {},
     "output_type": "execute_result"
    }
   ],
   "source": [
    "sum(ypred==y)/12396"
   ]
  },
  {
   "cell_type": "markdown",
   "id": "1a8f77b1-5ade-4bc4-8057-e91534df2c6b",
   "metadata": {},
   "source": [
    "- 2로 했을 때 보다 성능이 약간 안 좋아졌다. 그림으로는 큰 차이 없어보임.."
   ]
  }
 ],
 "metadata": {
  "colab": {
   "name": "2021-10-21-(7주차) 10월21일.ipynb",
   "provenance": []
  },
  "kernelspec": {
   "display_name": "Python 3 (ipykernel)",
   "language": "python",
   "name": "python3"
  },
  "language_info": {
   "codemirror_mode": {
    "name": "ipython",
    "version": 3
   },
   "file_extension": ".py",
   "mimetype": "text/x-python",
   "name": "python",
   "nbconvert_exporter": "python",
   "pygments_lexer": "ipython3",
   "version": "3.8.11"
  }
 },
 "nbformat": 4,
 "nbformat_minor": 5
}
