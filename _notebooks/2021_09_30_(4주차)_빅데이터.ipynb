{
 "cells": [
  {
   "cell_type": "markdown",
   "id": "b1b269e3-e5ad-4209-a61f-e0090c5d6bf0",
   "metadata": {
    "id": "b1b269e3-e5ad-4209-a61f-e0090c5d6bf0",
    "tags": []
   },
   "source": [
    "# (4주차) 9월30일\n",
    "> 파이토치를 이용하여 회귀모형 학습하기 (2) \n",
    "\n",
    "- toc:true\n",
    "- branch: master\n",
    "- badges: true\n",
    "- comments: true\n",
    "- author: 최규빈"
   ]
  },
  {
   "cell_type": "markdown",
   "id": "40a1d8b5-b64c-4e9b-a212-6adceee8f99e",
   "metadata": {},
   "source": [
    "---"
   ]
  },
  {
   "cell_type": "code",
   "execution_count": 1,
   "id": "c7ff944b-a883-40d5-b2b3-7008872e1de8",
   "metadata": {
    "id": "c7ff944b-a883-40d5-b2b3-7008872e1de8"
   },
   "outputs": [],
   "source": [
    "import torch \n",
    "import numpy as np "
   ]
  },
  {
   "cell_type": "markdown",
   "id": "b5ef1300-22ce-425f-96bd-e030e5cc6619",
   "metadata": {
    "id": "b5ef1300-22ce-425f-96bd-e030e5cc6619"
   },
   "source": [
    "### Data"
   ]
  },
  {
   "cell_type": "markdown",
   "id": "28b2b7fd-485c-4a70-a25e-f6a11472e267",
   "metadata": {
    "id": "28b2b7fd-485c-4a70-a25e-f6a11472e267"
   },
   "source": [
    "`-` model: $y_i= w_0+w_1 x_i +\\epsilon_i = 2.5 + 4x_i +\\epsilon_i, \\quad i=1,2,\\dots,n$ "
   ]
  },
  {
   "cell_type": "markdown",
   "id": "1f2e03fe-47e7-4457-9851-e05825f6608b",
   "metadata": {
    "id": "1f2e03fe-47e7-4457-9851-e05825f6608b"
   },
   "source": [
    "`-` model: ${\\bf y}={\\bf X}{\\bf W} +\\boldsymbol{\\epsilon}$"
   ]
  },
  {
   "cell_type": "markdown",
   "id": "3cd6dd85-0a38-4ebf-a12d-a143becd33f1",
   "metadata": {
    "id": "3cd6dd85-0a38-4ebf-a12d-a143becd33f1"
   },
   "source": [
    "- ${\\bf y}=\\begin{bmatrix} y_1 \\\\ y_2 \\\\ \\dots \\\\ y_n\\end{bmatrix}, \\quad {\\bf X}=\\begin{bmatrix} 1 & x_1 \\\\ 1 & x_2 \\\\ \\dots \\\\ 1 & x_n\\end{bmatrix}, \\quad {\\bf W}=\\begin{bmatrix} 2.5 \\\\ 4 \\end{bmatrix}, \\quad \\boldsymbol{\\epsilon}= \\begin{bmatrix} \\epsilon_1 \\\\ \\dots \\\\ \\epsilon_n\\end{bmatrix}$"
   ]
  },
  {
   "cell_type": "code",
   "execution_count": 2,
   "id": "135fc368-bbb6-4f2a-92da-51a180aa5ad5",
   "metadata": {
    "id": "135fc368-bbb6-4f2a-92da-51a180aa5ad5"
   },
   "outputs": [],
   "source": [
    "torch.manual_seed(43052)\n",
    "n=100\n",
    "ones= torch.ones(n)\n",
    "x,_ = torch.randn(n).sort()\n",
    "X = torch.vstack([ones,x]).T\n",
    "W = torch.tensor([2.5,4])\n",
    "ϵ = torch.randn(n)*0.5\n",
    "y = X@W + ϵ\n",
    "ytrue = X@W"
   ]
  },
  {
   "cell_type": "markdown",
   "id": "e138f427-fefd-4c4f-acb0-dd6bf2aee980",
   "metadata": {
    "id": "e138f427-fefd-4c4f-acb0-dd6bf2aee980"
   },
   "source": [
    "### step1~2 요약 "
   ]
  },
  {
   "cell_type": "markdown",
   "id": "13eaeff9-6bf0-46e1-b24d-a0d53692d086",
   "metadata": {
    "id": "13eaeff9-6bf0-46e1-b24d-a0d53692d086"
   },
   "source": [
    "#### 방법1: 모델을 직접선언 + loss함수도 직접선언 "
   ]
  },
  {
   "cell_type": "code",
   "execution_count": 3,
   "id": "b6b736e9-d473-4df9-bb82-c4398191542e",
   "metadata": {
    "id": "b6b736e9-d473-4df9-bb82-c4398191542e",
    "outputId": "f528e724-78ba-4d2a-b9fc-59c6b5c255f3"
   },
   "outputs": [
    {
     "data": {
      "text/plain": [
       "tensor(85.8769, grad_fn=<MeanBackward0>)"
      ]
     },
     "execution_count": 3,
     "metadata": {},
     "output_type": "execute_result"
    }
   ],
   "source": [
    "What1=torch.tensor([-5.0,10.0],requires_grad=True) \n",
    "yhat1=X@What1\n",
    "loss1=torch.mean((y-yhat1)**2) \n",
    "loss1"
   ]
  },
  {
   "cell_type": "markdown",
   "id": "b8b2b0cc-c482-47df-b87e-1f8c5a94dad3",
   "metadata": {
    "id": "b8b2b0cc-c482-47df-b87e-1f8c5a94dad3"
   },
   "source": [
    "#### 방법2: 모델식을 torch.nn으로 선언 (bias=False) + loss 직접선언 "
   ]
  },
  {
   "cell_type": "code",
   "execution_count": 4,
   "id": "ab517881-a65f-469f-951d-a0d3eacd66fa",
   "metadata": {
    "id": "ab517881-a65f-469f-951d-a0d3eacd66fa",
    "outputId": "3f499d51-d845-46fa-d2d3-f6f066e0a4f1"
   },
   "outputs": [
    {
     "data": {
      "text/plain": [
       "tensor(85.8769, grad_fn=<MeanBackward0>)"
      ]
     },
     "execution_count": 4,
     "metadata": {},
     "output_type": "execute_result"
    }
   ],
   "source": [
    "net2=torch.nn.Linear(in_features=2,out_features=1,bias=False) \n",
    "net2.weight.data= torch.tensor([[-5.0,10.0]]) \n",
    "yhat2=net2(X) \n",
    "loss2=torch.mean((y.reshape(100,1)-yhat2)**2) \n",
    "loss2"
   ]
  },
  {
   "cell_type": "markdown",
   "id": "4d58344c-b87c-4cef-a957-7b3ebd7b1580",
   "metadata": {
    "id": "4d58344c-b87c-4cef-a957-7b3ebd7b1580"
   },
   "source": [
    "#### 방법3: 모델식을 torch.nn으로 선언 (bias=True) + loss 직접선언"
   ]
  },
  {
   "cell_type": "code",
   "execution_count": 5,
   "id": "34967540-3a16-4409-acaa-13bbb70556a0",
   "metadata": {
    "id": "34967540-3a16-4409-acaa-13bbb70556a0",
    "outputId": "e7fb4809-4d79-46ca-ed13-f4a66580fe6b"
   },
   "outputs": [
    {
     "data": {
      "text/plain": [
       "tensor(85.8769, grad_fn=<MeanBackward0>)"
      ]
     },
     "execution_count": 5,
     "metadata": {},
     "output_type": "execute_result"
    }
   ],
   "source": [
    "net3=torch.nn.Linear(in_features=1,out_features=1,bias=True) \n",
    "net3.weight.data= torch.tensor([[10.0]])\n",
    "net3.bias.data= torch.tensor([[-5.0]]) \n",
    "yhat3=net3(x.reshape(100,1)) \n",
    "loss3=torch.mean((y.reshape(100,1)-yhat3)**2) \n",
    "loss3"
   ]
  },
  {
   "cell_type": "markdown",
   "id": "7d044eb6-545d-48ac-b152-00cab99b0c27",
   "metadata": {
    "id": "7d044eb6-545d-48ac-b152-00cab99b0c27"
   },
   "source": [
    "#### 방법4: 모델식을 직접선언 + loss함수는 torch.nn.MSELoss() "
   ]
  },
  {
   "cell_type": "code",
   "execution_count": 6,
   "id": "25eca344-f0b7-47af-aac5-45884061ab45",
   "metadata": {
    "id": "25eca344-f0b7-47af-aac5-45884061ab45",
    "outputId": "50716e31-224c-41f6-a5c6-8c772fc579c9"
   },
   "outputs": [
    {
     "data": {
      "text/plain": [
       "tensor(85.8769, grad_fn=<MseLossBackward>)"
      ]
     },
     "execution_count": 6,
     "metadata": {},
     "output_type": "execute_result"
    }
   ],
   "source": [
    "What4=torch.tensor([-5.0,10.0],requires_grad=True) \n",
    "yhat4=X@What4 \n",
    "lossfn=torch.nn.MSELoss() \n",
    "loss4=lossfn(y,yhat4) \n",
    "loss4"
   ]
  },
  {
   "cell_type": "markdown",
   "id": "0909dbc8-630e-49ef-949b-7893c6e11644",
   "metadata": {
    "id": "0909dbc8-630e-49ef-949b-7893c6e11644"
   },
   "source": [
    "#### 방법5: 모델식을 torch.nn으로 선언 (bias=False) + loss함수는 torch.nn.MSELoss()"
   ]
  },
  {
   "cell_type": "code",
   "execution_count": 7,
   "id": "61c9fe69-ef0f-4526-ad48-43b153fceb1b",
   "metadata": {
    "id": "61c9fe69-ef0f-4526-ad48-43b153fceb1b",
    "outputId": "a2610a80-04bc-454b-cc44-6fe5d6404cff"
   },
   "outputs": [
    {
     "data": {
      "text/plain": [
       "tensor(85.8769, grad_fn=<MseLossBackward>)"
      ]
     },
     "execution_count": 7,
     "metadata": {},
     "output_type": "execute_result"
    }
   ],
   "source": [
    "net5=torch.nn.Linear(in_features=2,out_features=1,bias=False) \n",
    "net5.weight.data= torch.tensor([[-5.0,10.0]]) \n",
    "yhat5=net5(X) \n",
    "#lossfn=torch.nn.MSELoss() \n",
    "loss5=lossfn(y.reshape(100,1),yhat5) \n",
    "loss5 "
   ]
  },
  {
   "cell_type": "markdown",
   "id": "bb407b67-6363-49d0-9a1f-3a8a86845bd8",
   "metadata": {
    "id": "bb407b67-6363-49d0-9a1f-3a8a86845bd8"
   },
   "source": [
    "#### 방법6: 모델식을 torch.nn으로 선언 (bias=True) + loss함수는 torch.nn.MSELoss()"
   ]
  },
  {
   "cell_type": "code",
   "execution_count": 12,
   "id": "c4cd1901-fb20-4c01-9207-851eca09d4a4",
   "metadata": {
    "id": "c4cd1901-fb20-4c01-9207-851eca09d4a4",
    "outputId": "028fd0cf-7c37-44aa-804b-63bbbd6b513c"
   },
   "outputs": [
    {
     "data": {
      "text/plain": [
       "tensor(85.8769, grad_fn=<MseLossBackward>)"
      ]
     },
     "execution_count": 12,
     "metadata": {},
     "output_type": "execute_result"
    }
   ],
   "source": [
    "net6=torch.nn.Linear(in_features=1,out_features=1,bias=True) \n",
    "net6.weight.data= torch.tensor([[10.0]])\n",
    "net6.bias.data= torch.tensor([[-5.0]]) \n",
    "yhat6=net6(x.reshape(100,1)) \n",
    "loss6=lossfn(y.reshape(100,1),yhat6) \n",
    "loss6"
   ]
  },
  {
   "cell_type": "markdown",
   "id": "5d03b433-da08-462c-89d1-93ffdccc5779",
   "metadata": {
    "id": "5d03b433-da08-462c-89d1-93ffdccc5779"
   },
   "source": [
    "### step3: derivation  "
   ]
  },
  {
   "cell_type": "markdown",
   "id": "24b7cbfc-6961-4c7a-ac57-86bf37c029aa",
   "metadata": {
    "id": "24b7cbfc-6961-4c7a-ac57-86bf37c029aa"
   },
   "source": [
    "#### loss1 "
   ]
  },
  {
   "cell_type": "code",
   "execution_count": 13,
   "id": "782ef437-2cf7-45d6-9df1-100af42bff6b",
   "metadata": {
    "id": "782ef437-2cf7-45d6-9df1-100af42bff6b"
   },
   "outputs": [
    {
     "ename": "RuntimeError",
     "evalue": "Trying to backward through the graph a second time (or directly access saved variables after they have already been freed). Saved intermediate values of the graph are freed when you call .backward() or autograd.grad(). Specify retain_graph=True if you need to backward through the graph a second time or if you need to access saved variables after calling backward.",
     "output_type": "error",
     "traceback": [
      "\u001b[0;31m---------------------------------------------------------------------------\u001b[0m",
      "\u001b[0;31mRuntimeError\u001b[0m                              Traceback (most recent call last)",
      "\u001b[0;32m/tmp/ipykernel_53586/3131771210.py\u001b[0m in \u001b[0;36m<module>\u001b[0;34m\u001b[0m\n\u001b[0;32m----> 1\u001b[0;31m \u001b[0mloss1\u001b[0m\u001b[0;34m.\u001b[0m\u001b[0mbackward\u001b[0m\u001b[0;34m(\u001b[0m\u001b[0;34m)\u001b[0m\u001b[0;34m\u001b[0m\u001b[0;34m\u001b[0m\u001b[0m\n\u001b[0m",
      "\u001b[0;32m~/anaconda3/envs/bda2021/lib/python3.8/site-packages/torch/_tensor.py\u001b[0m in \u001b[0;36mbackward\u001b[0;34m(self, gradient, retain_graph, create_graph, inputs)\u001b[0m\n\u001b[1;32m    253\u001b[0m                 \u001b[0mcreate_graph\u001b[0m\u001b[0;34m=\u001b[0m\u001b[0mcreate_graph\u001b[0m\u001b[0;34m,\u001b[0m\u001b[0;34m\u001b[0m\u001b[0;34m\u001b[0m\u001b[0m\n\u001b[1;32m    254\u001b[0m                 inputs=inputs)\n\u001b[0;32m--> 255\u001b[0;31m         \u001b[0mtorch\u001b[0m\u001b[0;34m.\u001b[0m\u001b[0mautograd\u001b[0m\u001b[0;34m.\u001b[0m\u001b[0mbackward\u001b[0m\u001b[0;34m(\u001b[0m\u001b[0mself\u001b[0m\u001b[0;34m,\u001b[0m \u001b[0mgradient\u001b[0m\u001b[0;34m,\u001b[0m \u001b[0mretain_graph\u001b[0m\u001b[0;34m,\u001b[0m \u001b[0mcreate_graph\u001b[0m\u001b[0;34m,\u001b[0m \u001b[0minputs\u001b[0m\u001b[0;34m=\u001b[0m\u001b[0minputs\u001b[0m\u001b[0;34m)\u001b[0m\u001b[0;34m\u001b[0m\u001b[0;34m\u001b[0m\u001b[0m\n\u001b[0m\u001b[1;32m    256\u001b[0m \u001b[0;34m\u001b[0m\u001b[0m\n\u001b[1;32m    257\u001b[0m     \u001b[0;32mdef\u001b[0m \u001b[0mregister_hook\u001b[0m\u001b[0;34m(\u001b[0m\u001b[0mself\u001b[0m\u001b[0;34m,\u001b[0m \u001b[0mhook\u001b[0m\u001b[0;34m)\u001b[0m\u001b[0;34m:\u001b[0m\u001b[0;34m\u001b[0m\u001b[0;34m\u001b[0m\u001b[0m\n",
      "\u001b[0;32m~/anaconda3/envs/bda2021/lib/python3.8/site-packages/torch/autograd/__init__.py\u001b[0m in \u001b[0;36mbackward\u001b[0;34m(tensors, grad_tensors, retain_graph, create_graph, grad_variables, inputs)\u001b[0m\n\u001b[1;32m    145\u001b[0m         \u001b[0mretain_graph\u001b[0m \u001b[0;34m=\u001b[0m \u001b[0mcreate_graph\u001b[0m\u001b[0;34m\u001b[0m\u001b[0;34m\u001b[0m\u001b[0m\n\u001b[1;32m    146\u001b[0m \u001b[0;34m\u001b[0m\u001b[0m\n\u001b[0;32m--> 147\u001b[0;31m     Variable._execution_engine.run_backward(\n\u001b[0m\u001b[1;32m    148\u001b[0m         \u001b[0mtensors\u001b[0m\u001b[0;34m,\u001b[0m \u001b[0mgrad_tensors_\u001b[0m\u001b[0;34m,\u001b[0m \u001b[0mretain_graph\u001b[0m\u001b[0;34m,\u001b[0m \u001b[0mcreate_graph\u001b[0m\u001b[0;34m,\u001b[0m \u001b[0minputs\u001b[0m\u001b[0;34m,\u001b[0m\u001b[0;34m\u001b[0m\u001b[0;34m\u001b[0m\u001b[0m\n\u001b[1;32m    149\u001b[0m         allow_unreachable=True, accumulate_grad=True)  # allow_unreachable flag\n",
      "\u001b[0;31mRuntimeError\u001b[0m: Trying to backward through the graph a second time (or directly access saved variables after they have already been freed). Saved intermediate values of the graph are freed when you call .backward() or autograd.grad(). Specify retain_graph=True if you need to backward through the graph a second time or if you need to access saved variables after calling backward."
     ]
    }
   ],
   "source": [
    "loss1.backward()"
   ]
  },
  {
   "cell_type": "code",
   "execution_count": 14,
   "id": "c763832e-dccb-49c0-801c-30fcacac00d4",
   "metadata": {
    "id": "c763832e-dccb-49c0-801c-30fcacac00d4",
    "outputId": "f5696a08-660b-423d-877d-aa1cbee63e0c"
   },
   "outputs": [
    {
     "data": {
      "text/plain": [
       "tensor([-13.4225,  11.8893])"
      ]
     },
     "execution_count": 14,
     "metadata": {},
     "output_type": "execute_result"
    }
   ],
   "source": [
    "What1.grad.data"
   ]
  },
  {
   "cell_type": "markdown",
   "id": "29790723-190f-4d7c-85a2-727c89b0dad1",
   "metadata": {
    "id": "29790723-190f-4d7c-85a2-727c89b0dad1"
   },
   "source": [
    "- 이것이 손계산을 통한 이론적인 미분값과 일치함은 이전시간에 확인하였음. "
   ]
  },
  {
   "cell_type": "markdown",
   "id": "87450b2e-5d8d-44d4-b042-46433352c354",
   "metadata": {
    "id": "87450b2e-5d8d-44d4-b042-46433352c354",
    "tags": []
   },
   "source": [
    "#### loss2"
   ]
  },
  {
   "cell_type": "code",
   "execution_count": 15,
   "id": "55419cad-927e-4d31-bf33-db12447945fe",
   "metadata": {
    "id": "55419cad-927e-4d31-bf33-db12447945fe"
   },
   "outputs": [],
   "source": [
    "loss2.backward()"
   ]
  },
  {
   "cell_type": "code",
   "execution_count": 16,
   "id": "2ad544bd-bee0-4926-bb38-a6a457e5b8b0",
   "metadata": {
    "id": "2ad544bd-bee0-4926-bb38-a6a457e5b8b0",
    "outputId": "b44cdaa2-767e-4a7f-b2fd-37a4e5cc5d1a"
   },
   "outputs": [
    {
     "data": {
      "text/plain": [
       "tensor([[-13.4225,  11.8893]])"
      ]
     },
     "execution_count": 16,
     "metadata": {},
     "output_type": "execute_result"
    }
   ],
   "source": [
    "net2.weight.grad"
   ]
  },
  {
   "cell_type": "markdown",
   "id": "7c15da89-e4c3-45dd-bca3-66855374b31b",
   "metadata": {
    "id": "7c15da89-e4c3-45dd-bca3-66855374b31b"
   },
   "source": [
    "#### loss3 "
   ]
  },
  {
   "cell_type": "code",
   "execution_count": 17,
   "id": "48584dae-ba66-47ed-a542-73472f73c6a2",
   "metadata": {
    "id": "48584dae-ba66-47ed-a542-73472f73c6a2"
   },
   "outputs": [],
   "source": [
    "loss3.backward()"
   ]
  },
  {
   "cell_type": "code",
   "execution_count": 18,
   "id": "c66357b5-1c4a-4125-80c3-a45ed2ef3c25",
   "metadata": {
    "id": "c66357b5-1c4a-4125-80c3-a45ed2ef3c25",
    "outputId": "1e84c82f-f3a0-4820-9b74-f346631ee8c3"
   },
   "outputs": [
    {
     "data": {
      "text/plain": [
       "(tensor([[-13.4225]]), tensor([[11.8893]]))"
      ]
     },
     "execution_count": 18,
     "metadata": {},
     "output_type": "execute_result"
    }
   ],
   "source": [
    "net3.bias.grad,net3.weight.grad"
   ]
  },
  {
   "cell_type": "markdown",
   "id": "58a81ca7-6327-4592-969f-d1d182a5f10c",
   "metadata": {
    "id": "58a81ca7-6327-4592-969f-d1d182a5f10c"
   },
   "source": [
    "#### loss4"
   ]
  },
  {
   "cell_type": "code",
   "execution_count": 19,
   "id": "c86d31b7-6eb0-4411-80a1-4da48a5d2955",
   "metadata": {
    "id": "c86d31b7-6eb0-4411-80a1-4da48a5d2955"
   },
   "outputs": [],
   "source": [
    "loss4.backward()"
   ]
  },
  {
   "cell_type": "code",
   "execution_count": 20,
   "id": "c85a2e8a-69ad-44bc-a65f-ab8c44653dc7",
   "metadata": {
    "id": "c85a2e8a-69ad-44bc-a65f-ab8c44653dc7",
    "outputId": "6be2b40a-a583-422f-e67c-d461050e3574"
   },
   "outputs": [
    {
     "data": {
      "text/plain": [
       "tensor([-13.4225,  11.8893])"
      ]
     },
     "execution_count": 20,
     "metadata": {},
     "output_type": "execute_result"
    }
   ],
   "source": [
    "What4.grad.data"
   ]
  },
  {
   "cell_type": "markdown",
   "id": "8dc756ee-0509-4c04-9e2c-b60c415cffee",
   "metadata": {
    "id": "8dc756ee-0509-4c04-9e2c-b60c415cffee",
    "tags": []
   },
   "source": [
    "#### loss5 "
   ]
  },
  {
   "cell_type": "code",
   "execution_count": 21,
   "id": "a42cfe77-5eae-40c1-83a4-723680641f4f",
   "metadata": {
    "id": "a42cfe77-5eae-40c1-83a4-723680641f4f"
   },
   "outputs": [],
   "source": [
    "loss5.backward()"
   ]
  },
  {
   "cell_type": "code",
   "execution_count": 22,
   "id": "6f7428e8-3893-4b16-94a3-f4754f48a5db",
   "metadata": {
    "id": "6f7428e8-3893-4b16-94a3-f4754f48a5db",
    "outputId": "ceed52bf-db8e-46e4-975f-d03dab7dca50"
   },
   "outputs": [
    {
     "data": {
      "text/plain": [
       "tensor([[-13.4225,  11.8893]])"
      ]
     },
     "execution_count": 22,
     "metadata": {},
     "output_type": "execute_result"
    }
   ],
   "source": [
    "net5.weight.grad"
   ]
  },
  {
   "cell_type": "markdown",
   "id": "417e40ba-ec01-4292-943f-445b81fa9790",
   "metadata": {
    "id": "417e40ba-ec01-4292-943f-445b81fa9790"
   },
   "source": [
    "#### loss6"
   ]
  },
  {
   "cell_type": "code",
   "execution_count": 23,
   "id": "e08a657a-a9b9-4c71-82ae-0417550af741",
   "metadata": {
    "id": "e08a657a-a9b9-4c71-82ae-0417550af741"
   },
   "outputs": [],
   "source": [
    "loss6.backward()"
   ]
  },
  {
   "cell_type": "code",
   "execution_count": 24,
   "id": "4d9d25be-5d6d-4caa-b874-03f44697f4c8",
   "metadata": {
    "id": "4d9d25be-5d6d-4caa-b874-03f44697f4c8",
    "outputId": "80b2f9b7-858f-4366-9fbd-942719a04ffd"
   },
   "outputs": [
    {
     "data": {
      "text/plain": [
       "(tensor([[-13.4225]]), tensor([[11.8893]]))"
      ]
     },
     "execution_count": 24,
     "metadata": {},
     "output_type": "execute_result"
    }
   ],
   "source": [
    "net6.bias.grad,net6.weight.grad"
   ]
  },
  {
   "cell_type": "markdown",
   "id": "e23c413d-7b31-464b-b233-59c2c9490a73",
   "metadata": {
    "id": "e23c413d-7b31-464b-b233-59c2c9490a73"
   },
   "source": [
    "### step4: update "
   ]
  },
  {
   "cell_type": "markdown",
   "id": "12ff6b16-ac5b-4e5a-80a2-2f07461028e7",
   "metadata": {
    "id": "12ff6b16-ac5b-4e5a-80a2-2f07461028e7"
   },
   "source": [
    "#### loss1 "
   ]
  },
  {
   "cell_type": "code",
   "execution_count": 25,
   "id": "9b2552e2-c01a-4711-a9d0-32e2e6b52289",
   "metadata": {
    "id": "9b2552e2-c01a-4711-a9d0-32e2e6b52289",
    "outputId": "52cab41c-d0a5-4710-f26f-8b1598d0df22",
    "tags": []
   },
   "outputs": [
    {
     "data": {
      "text/plain": [
       "tensor([-5., 10.])"
      ]
     },
     "execution_count": 25,
     "metadata": {},
     "output_type": "execute_result"
    }
   ],
   "source": [
    "What1.data ## update 전 "
   ]
  },
  {
   "cell_type": "code",
   "execution_count": 26,
   "id": "9ad7583e-6e7c-42e7-88e1-1014482f4fd2",
   "metadata": {
    "id": "9ad7583e-6e7c-42e7-88e1-1014482f4fd2",
    "outputId": "51b9ba47-0f9e-4b11-b50b-68f703637e17"
   },
   "outputs": [
    {
     "data": {
      "text/plain": [
       "tensor([-3.6577,  8.8111], requires_grad=True)"
      ]
     },
     "execution_count": 26,
     "metadata": {},
     "output_type": "execute_result"
    }
   ],
   "source": [
    "lr=0.1 \n",
    "What1.data = What1.data - lr*What1.grad.data ## update 후 \n",
    "What1"
   ]
  },
  {
   "cell_type": "markdown",
   "id": "f33fcb8e-6d4f-4721-a50d-dd95a7fc4fb7",
   "metadata": {
    "id": "f33fcb8e-6d4f-4721-a50d-dd95a7fc4fb7"
   },
   "source": [
    "#### loss2 "
   ]
  },
  {
   "cell_type": "code",
   "execution_count": 27,
   "id": "ee1d00b6-01d1-4958-b89a-277547a2dc8a",
   "metadata": {
    "id": "ee1d00b6-01d1-4958-b89a-277547a2dc8a",
    "outputId": "5aa8fc06-2dd2-4524-bec6-f15fd79b89aa"
   },
   "outputs": [
    {
     "data": {
      "text/plain": [
       "tensor([[-5., 10.]])"
      ]
     },
     "execution_count": 27,
     "metadata": {},
     "output_type": "execute_result"
    }
   ],
   "source": [
    "net2.weight.data "
   ]
  },
  {
   "cell_type": "code",
   "execution_count": 35,
   "id": "a53ecae2-cd43-4248-9a72-858b4b0c836e",
   "metadata": {
    "id": "a53ecae2-cd43-4248-9a72-858b4b0c836e"
   },
   "outputs": [],
   "source": [
    "optmz2 = torch.optim.SGD(net2.parameters(),lr=0.1) "
   ]
  },
  {
   "cell_type": "code",
   "execution_count": 36,
   "id": "3ec28731-e96e-4f9f-a9e2-7e3c4381fa32",
   "metadata": {
    "id": "3ec28731-e96e-4f9f-a9e2-7e3c4381fa32"
   },
   "outputs": [],
   "source": [
    "optmz2.step() ## update "
   ]
  },
  {
   "cell_type": "code",
   "execution_count": 37,
   "id": "17e34442-c568-45c9-8f40-ee7038137382",
   "metadata": {
    "id": "17e34442-c568-45c9-8f40-ee7038137382",
    "outputId": "d8455389-2606-4be0-8f53-e66abda70dfb",
    "tags": []
   },
   "outputs": [
    {
     "data": {
      "text/plain": [
       "tensor([[-2.3155,  7.6221]])"
      ]
     },
     "execution_count": 37,
     "metadata": {},
     "output_type": "execute_result"
    }
   ],
   "source": [
    "net2.weight.data ## update 후"
   ]
  },
  {
   "cell_type": "markdown",
   "id": "b29df101-e8bc-4397-ac9c-294a0e259d2f",
   "metadata": {
    "id": "b29df101-e8bc-4397-ac9c-294a0e259d2f",
    "tags": []
   },
   "source": [
    "#### loss3"
   ]
  },
  {
   "cell_type": "code",
   "execution_count": 31,
   "id": "9c1208e5-2c5e-45ea-b793-03fde82fab0b",
   "metadata": {
    "id": "9c1208e5-2c5e-45ea-b793-03fde82fab0b",
    "outputId": "a859996d-1291-4c10-a5be-16b9827c4618"
   },
   "outputs": [
    {
     "data": {
      "text/plain": [
       "(tensor([[-5.]]), tensor([[10.]]))"
      ]
     },
     "execution_count": 31,
     "metadata": {},
     "output_type": "execute_result"
    }
   ],
   "source": [
    "net3.bias.data,net3.weight.data"
   ]
  },
  {
   "cell_type": "code",
   "execution_count": 32,
   "id": "7eb60919-6d2c-4c7f-a67b-6177d156e840",
   "metadata": {
    "id": "7eb60919-6d2c-4c7f-a67b-6177d156e840"
   },
   "outputs": [],
   "source": [
    "optmz3 = torch.optim.SGD(net3.parameters(),lr=0.1) "
   ]
  },
  {
   "cell_type": "code",
   "execution_count": 33,
   "id": "9db9795c-e3cf-4431-8cc8-d4cce49a80d8",
   "metadata": {
    "id": "9db9795c-e3cf-4431-8cc8-d4cce49a80d8"
   },
   "outputs": [],
   "source": [
    "optmz3.step()"
   ]
  },
  {
   "cell_type": "code",
   "execution_count": 34,
   "id": "684e258b-25ea-4733-aeae-1c7835815234",
   "metadata": {
    "id": "684e258b-25ea-4733-aeae-1c7835815234",
    "outputId": "6054ef5c-08bf-4bd5-98c2-4415b00473fb"
   },
   "outputs": [
    {
     "data": {
      "text/plain": [
       "(tensor([[-3.6577]]), tensor([[8.8111]]))"
      ]
     },
     "execution_count": 34,
     "metadata": {},
     "output_type": "execute_result"
    }
   ],
   "source": [
    "net3.bias.data,net3.weight.data"
   ]
  },
  {
   "cell_type": "code",
   "execution_count": 38,
   "id": "5758cb69-0068-4d6d-9a86-0e80f478be1c",
   "metadata": {
    "id": "5758cb69-0068-4d6d-9a86-0e80f478be1c",
    "outputId": "ec273c8f-fa0e-432f-bff0-ff9ea93a25cf"
   },
   "outputs": [
    {
     "data": {
      "text/plain": [
       "[Parameter containing:\n",
       " tensor([[8.8111]], requires_grad=True),\n",
       " Parameter containing:\n",
       " tensor([[-3.6577]], requires_grad=True)]"
      ]
     },
     "execution_count": 38,
     "metadata": {},
     "output_type": "execute_result"
    }
   ],
   "source": [
    "list(net3.parameters())"
   ]
  },
  {
   "cell_type": "markdown",
   "id": "a3c19550-66f0-425b-8acc-08b273956999",
   "metadata": {
    "id": "a3c19550-66f0-425b-8acc-08b273956999",
    "tags": []
   },
   "source": [
    "#### loss4"
   ]
  },
  {
   "cell_type": "code",
   "execution_count": 39,
   "id": "71c9965d-c4a7-42b6-a008-c0b8dac2d4d2",
   "metadata": {
    "id": "71c9965d-c4a7-42b6-a008-c0b8dac2d4d2",
    "outputId": "06d23c9b-e4a0-45b8-b5d4-3423f08030ea",
    "tags": []
   },
   "outputs": [
    {
     "data": {
      "text/plain": [
       "tensor([-5., 10.])"
      ]
     },
     "execution_count": 39,
     "metadata": {},
     "output_type": "execute_result"
    }
   ],
   "source": [
    "What4.data ## update 전 "
   ]
  },
  {
   "cell_type": "code",
   "execution_count": 40,
   "id": "ca71c72f-62b8-442f-a8c2-0e6e82177646",
   "metadata": {
    "id": "ca71c72f-62b8-442f-a8c2-0e6e82177646",
    "outputId": "3bf1bb9b-0e35-4530-9e0e-09f6fc7a163e"
   },
   "outputs": [
    {
     "data": {
      "text/plain": [
       "tensor([-3.6577,  8.8111], requires_grad=True)"
      ]
     },
     "execution_count": 40,
     "metadata": {},
     "output_type": "execute_result"
    }
   ],
   "source": [
    "lr=0.1 \n",
    "What4.data = What4.data - lr*What4.grad.data ## update 후 \n",
    "What4"
   ]
  },
  {
   "cell_type": "markdown",
   "id": "60703314-7f3b-437e-a337-5d0ba17d5078",
   "metadata": {
    "id": "60703314-7f3b-437e-a337-5d0ba17d5078"
   },
   "source": [
    "#### loss5"
   ]
  },
  {
   "cell_type": "code",
   "execution_count": 41,
   "id": "e573f847-7ee5-431b-b2be-10f1e2bd4676",
   "metadata": {
    "id": "e573f847-7ee5-431b-b2be-10f1e2bd4676",
    "outputId": "26009f4e-8b79-485a-d319-f3bbcffb5133"
   },
   "outputs": [
    {
     "data": {
      "text/plain": [
       "tensor([[-5., 10.]])"
      ]
     },
     "execution_count": 41,
     "metadata": {},
     "output_type": "execute_result"
    }
   ],
   "source": [
    "net5.weight.data "
   ]
  },
  {
   "cell_type": "code",
   "execution_count": 42,
   "id": "c8fefd87-3ba4-46b9-8a6c-241ffaddd67b",
   "metadata": {
    "id": "c8fefd87-3ba4-46b9-8a6c-241ffaddd67b"
   },
   "outputs": [],
   "source": [
    "optmz5 = torch.optim.SGD(net5.parameters(),lr=0.1) "
   ]
  },
  {
   "cell_type": "code",
   "execution_count": 43,
   "id": "b62c8c0b-dbc4-4ee2-af58-31494919218b",
   "metadata": {
    "id": "b62c8c0b-dbc4-4ee2-af58-31494919218b"
   },
   "outputs": [],
   "source": [
    "optmz5.step() ## update "
   ]
  },
  {
   "cell_type": "code",
   "execution_count": 44,
   "id": "78fa2e05-784c-42a1-8fa3-21a6628abfa1",
   "metadata": {
    "id": "78fa2e05-784c-42a1-8fa3-21a6628abfa1",
    "outputId": "c3a23427-52cd-4ce6-d119-13af87eb4a52",
    "tags": []
   },
   "outputs": [
    {
     "data": {
      "text/plain": [
       "tensor([[-3.6577,  8.8111]])"
      ]
     },
     "execution_count": 44,
     "metadata": {},
     "output_type": "execute_result"
    }
   ],
   "source": [
    "net5.weight.data ## update 후"
   ]
  },
  {
   "cell_type": "markdown",
   "id": "24b74f1b-9fb3-4c3f-b38a-4b76b0050901",
   "metadata": {
    "id": "24b74f1b-9fb3-4c3f-b38a-4b76b0050901",
    "tags": []
   },
   "source": [
    "#### loss6"
   ]
  },
  {
   "cell_type": "code",
   "execution_count": 45,
   "id": "fd6b3a9c-88a7-4a48-8ad1-f7d79aa74c60",
   "metadata": {
    "id": "fd6b3a9c-88a7-4a48-8ad1-f7d79aa74c60",
    "outputId": "7074d360-f3a3-46c0-b8e2-432aa925c498"
   },
   "outputs": [
    {
     "data": {
      "text/plain": [
       "(tensor([[-5.]]), tensor([[10.]]))"
      ]
     },
     "execution_count": 45,
     "metadata": {},
     "output_type": "execute_result"
    }
   ],
   "source": [
    "net6.bias.data,net6.weight.data"
   ]
  },
  {
   "cell_type": "code",
   "execution_count": 46,
   "id": "232fdb3d-742e-444e-affd-a8b321e6f43f",
   "metadata": {
    "id": "232fdb3d-742e-444e-affd-a8b321e6f43f"
   },
   "outputs": [],
   "source": [
    "optmz6 = torch.optim.SGD(net6.parameters(),lr=0.1) "
   ]
  },
  {
   "cell_type": "code",
   "execution_count": 47,
   "id": "c21d1113-3958-4317-a6c2-876f863595d3",
   "metadata": {
    "id": "c21d1113-3958-4317-a6c2-876f863595d3"
   },
   "outputs": [],
   "source": [
    "optmz6.step()"
   ]
  },
  {
   "cell_type": "code",
   "execution_count": 48,
   "id": "58c29861-6cf3-4ae1-b6ab-859a7fff0efc",
   "metadata": {
    "id": "58c29861-6cf3-4ae1-b6ab-859a7fff0efc",
    "outputId": "6d8b15d5-9bcc-4439-de1c-9315972285a6"
   },
   "outputs": [
    {
     "data": {
      "text/plain": [
       "(tensor([[-3.6577]]), tensor([[8.8111]]))"
      ]
     },
     "execution_count": 48,
     "metadata": {},
     "output_type": "execute_result"
    }
   ],
   "source": [
    "net6.bias.data,net6.weight.data"
   ]
  },
  {
   "cell_type": "markdown",
   "id": "af2393cd-b578-4903-b02f-56f32d2a43d8",
   "metadata": {
    "id": "af2393cd-b578-4903-b02f-56f32d2a43d8"
   },
   "source": [
    "### step1~4를 반복하면된다. "
   ]
  },
  {
   "cell_type": "markdown",
   "id": "972251b9-d016-441d-9232-8f91471bc287",
   "metadata": {},
   "source": [
    "- loss5를 보면"
   ]
  },
  {
   "cell_type": "code",
   "execution_count": 60,
   "id": "cbb85ca8-2bfc-4082-94ac-f663e0b51f8e",
   "metadata": {
    "id": "cbb85ca8-2bfc-4082-94ac-f663e0b51f8e"
   },
   "outputs": [],
   "source": [
    "net=torch.nn.Linear(in_features=2,out_features=1,bias=False) ## 모형정의 \n",
    "optmz=torch.optim.SGD(net.parameters(),lr=0.1)\n",
    "mseloss=torch.nn.MSELoss() \n",
    "for epoc in range(100): \n",
    "    # step1: yhat \n",
    "    yhat=net(X) ## yhat 계산 \n",
    "    # step2: loss\n",
    "    loss=mseloss(y.reshape(100,1),yhat) \n",
    "    # step3: derivation \n",
    "    loss.backward() \n",
    "    # step4: update\n",
    "    optmz.step()\n",
    "    optmz.zero_grad() ## 외우세요.. #기울기를 초기화해준다"
   ]
  },
  {
   "cell_type": "code",
   "execution_count": 61,
   "id": "f9248ef0-23f0-40ef-87c3-735c17cf6d53",
   "metadata": {
    "id": "f9248ef0-23f0-40ef-87c3-735c17cf6d53",
    "outputId": "5f58cbfd-d205-414f-8538-9c5e8d1704a1"
   },
   "outputs": [
    {
     "data": {
      "text/plain": [
       "[Parameter containing:\n",
       " tensor([[2.4459, 4.0043]], requires_grad=True)]"
      ]
     },
     "execution_count": 61,
     "metadata": {},
     "output_type": "execute_result"
    }
   ],
   "source": [
    "list(net.parameters())"
   ]
  },
  {
   "cell_type": "markdown",
   "id": "0b85b12f-9e48-4b4f-8ef4-63f9f881535c",
   "metadata": {
    "id": "0b85b12f-9e48-4b4f-8ef4-63f9f881535c"
   },
   "source": [
    "### 숙제 "
   ]
  },
  {
   "cell_type": "markdown",
   "id": "d3e11b9e-8201-442e-afb0-caab1fbad5cb",
   "metadata": {
    "id": "d3e11b9e-8201-442e-afb0-caab1fbad5cb"
   },
   "source": [
    "아래를 실행해보고 결과를 관찰하라. \n",
    "```python\n",
    "net=torch.nn.Linear(in_features=2,out_features=1,bias=False) ## 모형정의 \n",
    "optmz=torch.optim.SGD(net.parameters(),lr=0.1)\n",
    "mseloss=torch.nn.MSELoss() \n",
    "for epoc in range(100): \n",
    "    # step1: yhat \n",
    "    yhat=net(X) ## yhat 계산 \n",
    "    # step2: loss\n",
    "    loss=mseloss(y.reshape(100,1),yhat) \n",
    "    # step3: derivation \n",
    "    loss.backward() \n",
    "    # step4: update\n",
    "    optmz.step()\n",
    "```"
   ]
  },
  {
   "cell_type": "code",
   "execution_count": 70,
   "id": "1b3389fb-bdeb-470f-9d0f-0edded23ec6d",
   "metadata": {},
   "outputs": [],
   "source": [
    "net=torch.nn.Linear(in_features=2,out_features=1,bias=False) ## 모형정의 \n",
    "optmz=torch.optim.SGD(net.parameters(),lr=0.1)\n",
    "mseloss=torch.nn.MSELoss() \n",
    "for epoc in range(100): \n",
    "    # step1: yhat \n",
    "    yhat=net(X) ## yhat 계산 \n",
    "    # step2: loss\n",
    "    loss=mseloss(y.reshape(100,1),yhat) \n",
    "    # step3: derivation \n",
    "    loss.backward() \n",
    "    # step4: update\n",
    "    optmz.step()"
   ]
  },
  {
   "cell_type": "code",
   "execution_count": 71,
   "id": "b1805cd7-4f85-401f-8ccf-8638ada948a6",
   "metadata": {},
   "outputs": [
    {
     "data": {
      "text/plain": [
       "[Parameter containing:\n",
       " tensor([[ 0.4027, -0.7099]], requires_grad=True)]"
      ]
     },
     "execution_count": 71,
     "metadata": {},
     "output_type": "execute_result"
    }
   ],
   "source": [
    "list(net.parameters())"
   ]
  }
 ],
 "metadata": {
  "colab": {
   "name": "2021-09-30-(4주차) 9월30일.ipynb",
   "provenance": []
  },
  "kernelspec": {
   "display_name": "Python 3 (ipykernel)",
   "language": "python",
   "name": "python3"
  },
  "language_info": {
   "codemirror_mode": {
    "name": "ipython",
    "version": 3
   },
   "file_extension": ".py",
   "mimetype": "text/x-python",
   "name": "python",
   "nbconvert_exporter": "python",
   "pygments_lexer": "ipython3",
   "version": "3.8.12"
  }
 },
 "nbformat": 4,
 "nbformat_minor": 5
}
