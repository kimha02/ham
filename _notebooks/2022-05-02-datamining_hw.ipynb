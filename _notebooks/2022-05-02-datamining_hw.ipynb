{
 "cells": [
  {
   "cell_type": "markdown",
   "id": "7ec70228-2e9b-453a-96c5-7a857f921afe",
   "metadata": {
    "tags": []
   },
   "source": [
    "# (공부) Datamining HW\n",
    "> 두번째 과제, Classification\n",
    "- toc:true\n",
    "- branch: master\n",
    "- badges: true\n",
    "- comments: true\n",
    "- author: 김하영\n",
    "- categories: [Study]"
   ]
  },
  {
   "cell_type": "code",
   "execution_count": 1,
   "id": "2adcdef9-a553-4d0b-9d9d-6547579479e3",
   "metadata": {},
   "outputs": [
    {
     "name": "stderr",
     "output_type": "stream",
     "text": [
      "── \u001b[1mAttaching packages\u001b[22m ───────────────────────────────────────────────────────────────────────────────────────────────────────────────────────────────────────────────────────────────────────────────────────────────────────────────── tidyverse 1.3.1 ──\n",
      "\n",
      "\u001b[32m✔\u001b[39m \u001b[34mggplot2\u001b[39m 3.3.5     \u001b[32m✔\u001b[39m \u001b[34mpurrr  \u001b[39m 0.3.4\n",
      "\u001b[32m✔\u001b[39m \u001b[34mtibble \u001b[39m 3.1.6     \u001b[32m✔\u001b[39m \u001b[34mdplyr  \u001b[39m 1.0.7\n",
      "\u001b[32m✔\u001b[39m \u001b[34mtidyr  \u001b[39m 1.1.4     \u001b[32m✔\u001b[39m \u001b[34mstringr\u001b[39m 1.4.0\n",
      "\u001b[32m✔\u001b[39m \u001b[34mreadr  \u001b[39m 2.1.1     \u001b[32m✔\u001b[39m \u001b[34mforcats\u001b[39m 0.5.1\n",
      "\n",
      "── \u001b[1mConflicts\u001b[22m ──────────────────────────────────────────────────────────────────────────────────────────────────────────────────────────────────────────────────────────────────────────────────────────────────────────────────── tidyverse_conflicts() ──\n",
      "\u001b[31m✖\u001b[39m \u001b[34mdplyr\u001b[39m::\u001b[32mfilter()\u001b[39m masks \u001b[34mstats\u001b[39m::filter()\n",
      "\u001b[31m✖\u001b[39m \u001b[34mdplyr\u001b[39m::\u001b[32mlag()\u001b[39m    masks \u001b[34mstats\u001b[39m::lag()\n",
      "\n",
      "\n",
      "Attaching package: ‘gridExtra’\n",
      "\n",
      "\n",
      "The following object is masked from ‘package:dplyr’:\n",
      "\n",
      "    combine\n",
      "\n",
      "\n"
     ]
    }
   ],
   "source": [
    "setwd(\"/home/khy/Desktop/2022STAT/datamining\")\n",
    "\n",
    "library(tidyverse)\n",
    "library(dplyr)\n",
    "library(gridExtra)\n",
    "library(ggplot2)\n",
    "library(tidyr)"
   ]
  },
  {
   "cell_type": "markdown",
   "id": "bf0e81ce-c01d-4052-919e-34afbf6849d1",
   "metadata": {},
   "source": [
    "**1. 주식에 대한 배당금을 지급할지 여부(’Yes’, ’No’)를 예측하기 위해, 작년 한 해 동안의 수익률을 설명변수 X로 사용하고자 한다. 많은 수의 회사를 조사해보니 배당금을 지급한 회사의 주식 수익률의 평균 X¯=10 이고, 지급하지 않은 회사의 주식 수익률의 평균 X¯=0이다. 두 그룹에서\n",
    "수익률의 분산은 두 그룹 모두 σˆ2=36이다. X가 정규분포를 따른다고 가정하자. 어떤 회사의 작년 수익률 X = 4였다면, 이 회사가 배당금을 지급할 확률은 얼마인가?**"
   ]
  },
  {
   "cell_type": "markdown",
   "id": "ba622ee6-ecc7-4721-8b6d-7275964dafd5",
   "metadata": {},
   "source": [
    "**2. ‘Auto.csv’ 데이터를 이용하여 자동차의 연비가 높을지 낮을지에 대해 예측을 하고자 한다. 다음 물음에 답하여라. (NA 처리 후 분석)**"
   ]
  },
  {
   "cell_type": "markdown",
   "id": "b439d36e-90ac-4db6-afcd-89ba3a5d96d8",
   "metadata": {},
   "source": [
    "(a) mpg01 변수를 생성하여라. 이 변수는 mpg가 mpg의 중앙값보다 크면 1의 값을 갖고 아니면 0의 값을 갖는 변수이다. (중앙값 : median())"
   ]
  },
  {
   "cell_type": "markdown",
   "id": "b688ec0f-ce39-45c6-a1f9-05a7a82389aa",
   "metadata": {},
   "source": [
    "(b) 시각화를 통하여 mpg01과 다른 변수들 사이의 관계를 확인하고 설명하여라. 어떤 변수가 mp01을 예측하는 데 가장 유용할 것으로 생각되는가?"
   ]
  },
  {
   "cell_type": "markdown",
   "id": "c03a6fb4-e66e-40b7-a457-1da928d828b7",
   "metadata": {},
   "source": [
    "(c) 데이터를 training data (60%)와 testing data(40%)로 나누어라."
   ]
  },
  {
   "cell_type": "markdown",
   "id": "29ef6394-10cf-447b-975a-94667c353ab9",
   "metadata": {},
   "source": [
    "(d) (b)에서 연관이 있다고 생각되는 변수들을 이용하여, mpg01을 예측하기 위한 LDA를 수행하여라. test 오분류율은 얼마인가?"
   ]
  },
  {
   "cell_type": "markdown",
   "id": "6318c7aa-4f3e-415d-8ff6-6b200a9ecdf7",
   "metadata": {},
   "source": [
    "(e) (b)에서 연관이 있다고 생각되는 변수들을 이용하여, mpg01을 예측하기 위한 QDA를 수행하여라. test 오분류율은 얼마인가?"
   ]
  },
  {
   "cell_type": "markdown",
   "id": "f71ad0a2-eeb5-42c4-a29f-b32230ffd080",
   "metadata": {},
   "source": [
    "(f) (b)에서 연관이 있다고 생각되는 변수들을 이용하여, mpg01을 예측하기 위한 logistic re\u0002gressiond을 수행하여라. test 오분류율은 얼마인가?"
   ]
  },
  {
   "cell_type": "markdown",
   "id": "484a1016-becd-48f7-8a6a-3a40d840ba9b",
   "metadata": {},
   "source": [
    "(g) (b)에서 연관이 있다고 생각되는 변수들을 이용하여, mpg01을 예측하기 위한 KNN을 수행\n",
    "하여라. KNN을 수행할 때 몇개의 k 값을 선택하여 분석하여라. test 오분류율은 얼마인가?\n",
    "어떤 k를 선택했을 때 결과가 가장 좋았는가?"
   ]
  },
  {
   "cell_type": "markdown",
   "id": "e95f9d2e-90e2-4aa5-a0e4-a0861a04d130",
   "metadata": {},
   "source": [
    "**3. ‘Boston.csv’ 데이터를 이용하여, 어떤 지역의 범죄율이 중앙값 이상인지 아닌지를 예측하기 위한\n",
    "분류 모형(logistic regression, LDA, KNN)을 적합하여라.**"
   ]
  }
 ],
 "metadata": {
  "kernelspec": {
   "display_name": "R",
   "language": "R",
   "name": "ir"
  },
  "language_info": {
   "codemirror_mode": "r",
   "file_extension": ".r",
   "mimetype": "text/x-r-source",
   "name": "R",
   "pygments_lexer": "r",
   "version": "4.1.2"
  }
 },
 "nbformat": 4,
 "nbformat_minor": 5
}
