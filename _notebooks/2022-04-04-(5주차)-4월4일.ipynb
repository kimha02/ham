{
 "cells": [
  {
   "cell_type": "markdown",
   "id": "e8809dfd-9f28-4be3-ba52-822d297d777a",
   "metadata": {
    "id": "e8809dfd-9f28-4be3-ba52-822d297d777a"
   },
   "source": [
    "# (5주차) 4월4일\n",
    "\n",
    "- toc:true\n",
    "- branch: master\n",
    "- badges: true\n",
    "- comments: true\n",
    "- author: 최규빈\n",
    "- categories: [Bigdata]"
   ]
  },
  {
   "cell_type": "markdown",
   "id": "f49e48e4-e895-4ab6-8d7c-bf19d5d5d323",
   "metadata": {},
   "source": [
    "---"
   ]
  },
  {
   "cell_type": "markdown",
   "id": "ea093d98-e476-4de2-9ff5-7b98f7d621e2",
   "metadata": {
    "id": "ea093d98-e476-4de2-9ff5-7b98f7d621e2"
   },
   "source": [
    "### imports "
   ]
  },
  {
   "cell_type": "code",
   "execution_count": 1,
   "id": "5ae54fd7-4dfb-4879-b711-70ef051721e3",
   "metadata": {
    "id": "5ae54fd7-4dfb-4879-b711-70ef051721e3"
   },
   "outputs": [],
   "source": [
    "#!conda install -c conda-forge python-graphviz -y"
   ]
  },
  {
   "cell_type": "code",
   "execution_count": 4,
   "id": "4ec7ad60-84d4-4b61-88d0-5f83872be0be",
   "metadata": {
    "id": "4ec7ad60-84d4-4b61-88d0-5f83872be0be"
   },
   "outputs": [],
   "source": [
    "import tensorflow as tf \n",
    "import numpy as np\n",
    "import matplotlib.pyplot as plt "
   ]
  },
  {
   "cell_type": "code",
   "execution_count": 3,
   "id": "9691fb34-384f-4317-9437-998e8219cf8a",
   "metadata": {
    "id": "9691fb34-384f-4317-9437-998e8219cf8a"
   },
   "outputs": [],
   "source": [
    "import tensorflow.experimental.numpy as tnp "
   ]
  },
  {
   "cell_type": "code",
   "execution_count": 5,
   "id": "2b368af7-2aac-4028-97e2-a83e7196c7dd",
   "metadata": {
    "id": "2b368af7-2aac-4028-97e2-a83e7196c7dd"
   },
   "outputs": [],
   "source": [
    "tnp.experimental_enable_numpy_behavior() "
   ]
  },
  {
   "cell_type": "markdown",
   "id": "ff012638-beac-4115-8180-839ff75ff644",
   "metadata": {},
   "source": [
    "---"
   ]
  },
  {
   "cell_type": "markdown",
   "id": "3f4677a4-dba0-4274-96b5-a51a892026c9",
   "metadata": {
    "id": "3f4677a4-dba0-4274-96b5-a51a892026c9",
    "tags": []
   },
   "source": [
    "### 최적화의 문제 "
   ]
  },
  {
   "cell_type": "markdown",
   "id": "bc860b47-d266-4cbc-b7da-8a00d565f1d9",
   "metadata": {
    "id": "bc860b47-d266-4cbc-b7da-8a00d565f1d9"
   },
   "source": [
    "`-` $loss=(\\frac{1}{2}\\beta-1)^2$ "
   ]
  },
  {
   "cell_type": "markdown",
   "id": "320ac0cd-9a4d-4e31-a206-2d93581cacbb",
   "metadata": {
    "id": "320ac0cd-9a4d-4e31-a206-2d93581cacbb"
   },
   "source": [
    "`-` 기존에 했던 방법은 수식을 알고 있어야 한다는 단점이 있음 "
   ]
  },
  {
   "cell_type": "markdown",
   "id": "110686bc-185c-4013-ae78-985b5b0e721f",
   "metadata": {
    "id": "320ac0cd-9a4d-4e31-a206-2d93581cacbb"
   },
   "source": [
    "`-` optimizer를 만들어 최적값을 찾아주는 방법을 생각하게 됨! $\\to$ 수식을 몰라도 된다~!"
   ]
  },
  {
   "cell_type": "markdown",
   "id": "ab21d77e-e768-4eb4-90c9-ca778014bfa1",
   "metadata": {},
   "source": [
    "---"
   ]
  },
  {
   "cell_type": "markdown",
   "id": "0acf255d-c030-4c91-b9e1-1cf62a09fb65",
   "metadata": {
    "id": "0acf255d-c030-4c91-b9e1-1cf62a09fb65"
   },
   "source": [
    "### tf.keras.optimizers를 이용한 최적화방법 "
   ]
  },
  {
   "cell_type": "markdown",
   "id": "1434f90f-3e99-4a2c-b526-768543c0348d",
   "metadata": {
    "id": "1434f90f-3e99-4a2c-b526-768543c0348d"
   },
   "source": [
    "#### 방법1: opt.apply_gradients()를 이용 "
   ]
  },
  {
   "cell_type": "markdown",
   "id": "ae412f2e-2c2a-4a6e-a4df-22fbc9c17d68",
   "metadata": {},
   "source": [
    "`-` 저번 주 복습"
   ]
  },
  {
   "cell_type": "code",
   "execution_count": 9,
   "id": "2987177e-9282-4faf-a00c-070752e0c063",
   "metadata": {},
   "outputs": [],
   "source": [
    "beta = np.linspace(-10,10,100)\n",
    "loss = (beta/2-1)**2"
   ]
  },
  {
   "cell_type": "code",
   "execution_count": 10,
   "id": "94bc4a7f-503a-4460-86e9-4337ca0f4a42",
   "metadata": {},
   "outputs": [
    {
     "data": {
      "text/plain": [
       "[<matplotlib.lines.Line2D at 0x7fdbac06e7a0>]"
      ]
     },
     "execution_count": 10,
     "metadata": {},
     "output_type": "execute_result"
    },
    {
     "data": {
      "image/png": "[encoded data removed]",
      "text/plain": [
       "<Figure size 432x288 with 1 Axes>"
      ]
     },
     "metadata": {
      "needs_background": "light"
     },
     "output_type": "display_data"
    }
   ],
   "source": [
    "plt.plot(beta,loss)"
   ]
  },
  {
   "cell_type": "code",
   "execution_count": 12,
   "id": "775cd774-e3ed-4cdb-a26d-87a8bcc28938",
   "metadata": {},
   "outputs": [],
   "source": [
    "alpha = 0.01/6"
   ]
  },
  {
   "cell_type": "code",
   "execution_count": 13,
   "id": "3da9bcc9-3f32-4b52-94f5-471fa3372527",
   "metadata": {},
   "outputs": [],
   "source": [
    "beta=tf.Variable(-10.0)"
   ]
  },
  {
   "cell_type": "code",
   "execution_count": 17,
   "id": "e9e87012-7c95-42c6-bb5e-d4365bc68241",
   "metadata": {},
   "outputs": [],
   "source": [
    "opt = tf.keras.optimizers.SGD(alpha)"
   ]
  },
  {
   "cell_type": "code",
   "execution_count": 15,
   "id": "ccf4c05d-fa08-4154-9fac-9d2bc1726662",
   "metadata": {},
   "outputs": [],
   "source": [
    "with tf.GradientTape() as tape : \n",
    "    tape.watch(beta)\n",
    "    loss=(beta/2-1)**2\n",
    "slope = tape.gradient(loss,beta) #6이라는 값을 slope로 지정"
   ]
  },
  {
   "cell_type": "markdown",
   "id": "c4988b91-395e-4033-8fc2-50626f75d068",
   "metadata": {},
   "source": [
    "`-` for문으로 정리"
   ]
  },
  {
   "cell_type": "code",
   "execution_count": 37,
   "id": "7c80a447-ad3e-4fe1-97f9-5ead6727a5bb",
   "metadata": {},
   "outputs": [],
   "source": [
    "alpha = 0.01/6\n",
    "beta=tf.Variable(-10.0)\n",
    "opt = tf.keras.optimizers.SGD(alpha)"
   ]
  },
  {
   "cell_type": "code",
   "execution_count": 29,
   "id": "ff172cc9-2e74-4abc-a6b7-d4881805b478",
   "metadata": {},
   "outputs": [],
   "source": [
    "for epoc in range(10000) : \n",
    "    with tf.GradientTape() as tape : \n",
    "        tape.watch(beta)\n",
    "        loss=(beta/2-1)**2\n",
    "    slope = tape.gradient(loss,beta) #6이라는 값을 slope로 지정\n",
    "    opt.apply_gradients([(slope,beta)])\n",
    "    beta                        "
   ]
  },
  {
   "cell_type": "code",
   "execution_count": 30,
   "id": "daa580a2-6ab3-4c3d-98f0-3a39df612543",
   "metadata": {},
   "outputs": [
    {
     "data": {
      "text/plain": [
       "<tf.Variable 'Variable:0' shape=() dtype=float32, numpy=1.9987504>"
      ]
     },
     "execution_count": 30,
     "metadata": {},
     "output_type": "execute_result"
    }
   ],
   "source": [
    "beta"
   ]
  },
  {
   "cell_type": "markdown",
   "id": "1cefc77d-40de-4b78-b259-24e97495541d",
   "metadata": {},
   "source": [
    "`-` iter1"
   ]
  },
  {
   "cell_type": "code",
   "execution_count": 16,
   "id": "7b7f6833-30e4-4ef9-8c95-1ff1618ea9cd",
   "metadata": {},
   "outputs": [
    {
     "data": {
      "text/plain": [
       "<tf.Variable 'Variable:0' shape=() dtype=float32, numpy=-9.99>"
      ]
     },
     "execution_count": 16,
     "metadata": {},
     "output_type": "execute_result"
    }
   ],
   "source": [
    "beta.assign_sub(slope*alpha)\n",
    "beta"
   ]
  },
  {
   "cell_type": "markdown",
   "id": "bd603833-d365-4e37-9abe-6c1bd4355f4b",
   "metadata": {},
   "source": [
    "`-` iter2"
   ]
  },
  {
   "cell_type": "markdown",
   "id": "9ad72b16-3d5c-43fc-81c8-288db6c5e03a",
   "metadata": {},
   "source": [
    "- iter1은 수식 필요, iter2에서는 옵티마이저 사용\n",
    "- 🥸**opt.apply_gradients()의 입력은 pair의 list**🥸"
   ]
  },
  {
   "cell_type": "code",
   "execution_count": 23,
   "id": "e29d73cf-a983-4272-a943-21d15667d6de",
   "metadata": {},
   "outputs": [],
   "source": [
    "with tf.GradientTape() as tape : \n",
    "    tape.watch(beta)\n",
    "    loss=(beta/2-1)**2\n",
    "slope = tape.gradient(loss,beta) #6이라는 값을 slope로 지정"
   ]
  },
  {
   "cell_type": "code",
   "execution_count": 25,
   "id": "55f67747-4b1e-48ba-9ee7-6471688de6a5",
   "metadata": {},
   "outputs": [
    {
     "data": {
      "text/plain": [
       "<tf.Variable 'Variable:0' shape=() dtype=float32, numpy=-9.950048>"
      ]
     },
     "execution_count": 25,
     "metadata": {},
     "output_type": "execute_result"
    }
   ],
   "source": [
    "opt.apply_gradients([(slope,beta)])  #beta.assign_sub(slope*alpha)와 같은 역할을 해준다.\n",
    "beta"
   ]
  },
  {
   "cell_type": "code",
   "execution_count": 19,
   "id": "18ad5c98-9396-4a76-9d89-b45f8135daba",
   "metadata": {},
   "outputs": [],
   "source": [
    "#opt.apply_gradients?\n",
    "#변수에 gradient를 적용해서 더 좋은 값을 찾아주는..."
   ]
  },
  {
   "cell_type": "markdown",
   "id": "55abd601-2abf-4fc2-8831-a3d9b14154ce",
   "metadata": {},
   "source": [
    "`-` tip"
   ]
  },
  {
   "cell_type": "code",
   "execution_count": 32,
   "id": "9eaf9496-a02e-4124-b2ed-09b866290878",
   "metadata": {},
   "outputs": [
    {
     "data": {
      "text/plain": [
       "<tf.Variable 'SGD/learning_rate:0' shape=() dtype=float32, numpy=0.0016666667>"
      ]
     },
     "execution_count": 32,
     "metadata": {},
     "output_type": "execute_result"
    }
   ],
   "source": [
    "opt.learning_rate  #alpha 값임"
   ]
  },
  {
   "cell_type": "code",
   "execution_count": 34,
   "id": "f6d17052-623e-4b6a-868f-f4d64c51d979",
   "metadata": {},
   "outputs": [
    {
     "data": {
      "text/plain": [
       "<tf.Variable 'SGD/learning_rate:0' shape=() dtype=float32, numpy=0.0016666667>"
      ]
     },
     "execution_count": 34,
     "metadata": {},
     "output_type": "execute_result"
    }
   ],
   "source": [
    "opt.lr  #alpha값임"
   ]
  },
  {
   "cell_type": "markdown",
   "id": "74ceeba0-34b8-426b-a329-5eda9307b3e0",
   "metadata": {},
   "source": [
    "- 둘의 차이를 보기 위해 주소를 찍어보자.  $\\to$  주소가 같으니 똑같은 애들임"
   ]
  },
  {
   "cell_type": "code",
   "execution_count": 35,
   "id": "79f9836e-9d27-479e-8d0d-5ee14e16fe38",
   "metadata": {},
   "outputs": [
    {
     "data": {
      "text/plain": [
       "140580737133312"
      ]
     },
     "execution_count": 35,
     "metadata": {},
     "output_type": "execute_result"
    }
   ],
   "source": [
    "id(opt.learning_rate)"
   ]
  },
  {
   "cell_type": "code",
   "execution_count": 36,
   "id": "7bd90ed7-37ed-4f37-9841-b2c0b7588d31",
   "metadata": {},
   "outputs": [
    {
     "data": {
      "text/plain": [
       "140580737133312"
      ]
     },
     "execution_count": 36,
     "metadata": {},
     "output_type": "execute_result"
    }
   ],
   "source": [
    "id(opt.lr)"
   ]
  },
  {
   "cell_type": "markdown",
   "id": "4ecb31ee-a128-4c2a-b1ce-dd05e840e85a",
   "metadata": {},
   "source": [
    "---"
   ]
  },
  {
   "cell_type": "markdown",
   "id": "779dcb12-af26-47b3-a168-e3c87714106b",
   "metadata": {
    "id": "779dcb12-af26-47b3-a168-e3c87714106b"
   },
   "source": [
    "#### 방법2: opt.minimize()"
   ]
  },
  {
   "cell_type": "markdown",
   "id": "de747011-7a88-49b4-a02a-68d64307a6a5",
   "metadata": {},
   "source": [
    "> 왜 이용해야 하는가? gradient.tape를 안 써도 된다!"
   ]
  },
  {
   "cell_type": "code",
   "execution_count": 38,
   "id": "f768a5d7-1afe-4964-982c-df812e9924ff",
   "metadata": {},
   "outputs": [],
   "source": [
    "alpha = 0.01/6\n",
    "beta=tf.Variable(-10.0)\n",
    "opt = tf.keras.optimizers.SGD(alpha)"
   ]
  },
  {
   "cell_type": "code",
   "execution_count": 38,
   "id": "8e00c91d-db37-4d62-8d2f-a51b64693089",
   "metadata": {},
   "outputs": [],
   "source": [
    "alpha = 0.01/6\n",
    "beta=tf.Variable(-10.0)\n",
    "opt = tf.keras.optimizers.SGD(alpha)"
   ]
  },
  {
   "cell_type": "code",
   "execution_count": 42,
   "id": "4ca22363-114a-478e-bcad-21d1b1ebfd5a",
   "metadata": {},
   "outputs": [],
   "source": [
    "#쓰기 위해서는 loss function 정의가 필요함\n",
    "loss_fn = lambda: (beta/2-1)**2"
   ]
  },
  {
   "cell_type": "markdown",
   "id": "55e39e7c-ce6f-4f42-89ae-e7c1daa37c16",
   "metadata": {},
   "source": [
    "- `lambda x: x**2` <=> `lambda(x)=x^2`\n",
    "- `lambda x,y: x+y` <=> `lambda(x,y)=x+y`\n",
    "- `lambda: y` <=> `lambda()=y`, 입력이 없으면 출력은 항상 y인 함수 "
   ]
  },
  {
   "cell_type": "code",
   "execution_count": 46,
   "id": "b20081e8-9c23-498c-b496-2298bbd524a0",
   "metadata": {},
   "outputs": [
    {
     "data": {
      "text/plain": [
       "<tf.Tensor: shape=(), dtype=float32, numpy=36.0>"
      ]
     },
     "execution_count": 46,
     "metadata": {},
     "output_type": "execute_result"
    }
   ],
   "source": [
    "loss_fn()  #입력은 없고 출력은 뭔가 계산되는 함수"
   ]
  },
  {
   "cell_type": "markdown",
   "id": "6662b4c1-622c-4971-b612-662e796efa4f",
   "metadata": {},
   "source": [
    "`-` iter1"
   ]
  },
  {
   "cell_type": "code",
   "execution_count": 47,
   "id": "e885f664-413c-43f3-81e2-adcade61dcd7",
   "metadata": {},
   "outputs": [
    {
     "data": {
      "text/plain": [
       "<tf.Variable 'UnreadVariable' shape=() dtype=int64, numpy=1>"
      ]
     },
     "execution_count": 47,
     "metadata": {},
     "output_type": "execute_result"
    }
   ],
   "source": [
    "opt.minimize(loss_fn, beta)"
   ]
  },
  {
   "cell_type": "code",
   "execution_count": 48,
   "id": "b83ba8e6-3486-400f-8fa0-df8f1df984df",
   "metadata": {},
   "outputs": [
    {
     "data": {
      "text/plain": [
       "<tf.Variable 'Variable:0' shape=() dtype=float32, numpy=-9.99>"
      ]
     },
     "execution_count": 48,
     "metadata": {},
     "output_type": "execute_result"
    }
   ],
   "source": [
    "beta"
   ]
  },
  {
   "cell_type": "markdown",
   "id": "d26e7970-5d6a-4820-9eb3-88fc861fbb9c",
   "metadata": {},
   "source": [
    "`-` iter2"
   ]
  },
  {
   "cell_type": "code",
   "execution_count": 49,
   "id": "236b411b-1ab0-4f38-8114-1fdabf5159a3",
   "metadata": {},
   "outputs": [
    {
     "data": {
      "text/plain": [
       "<tf.Variable 'UnreadVariable' shape=() dtype=int64, numpy=2>"
      ]
     },
     "execution_count": 49,
     "metadata": {},
     "output_type": "execute_result"
    }
   ],
   "source": [
    "opt.minimize(loss_fn, beta)"
   ]
  },
  {
   "cell_type": "code",
   "execution_count": 50,
   "id": "afaa6b52-5d7c-47ce-b7fd-cb48a02095e4",
   "metadata": {},
   "outputs": [
    {
     "data": {
      "text/plain": [
       "<tf.Variable 'Variable:0' shape=() dtype=float32, numpy=-9.980008>"
      ]
     },
     "execution_count": 50,
     "metadata": {},
     "output_type": "execute_result"
    }
   ],
   "source": [
    "beta"
   ]
  },
  {
   "cell_type": "markdown",
   "id": "cef06f37-26ed-4391-8ba4-8b4bf38706c8",
   "metadata": {},
   "source": [
    "`-` for문으로 정리하면"
   ]
  },
  {
   "cell_type": "code",
   "execution_count": 51,
   "id": "59e6a068-e0c5-43d8-8adb-6daa6d568870",
   "metadata": {},
   "outputs": [
    {
     "data": {
      "text/plain": [
       "<tf.Variable 'Variable:0' shape=() dtype=float32, numpy=1.9971251>"
      ]
     },
     "execution_count": 51,
     "metadata": {},
     "output_type": "execute_result"
    }
   ],
   "source": [
    "alpha = 0.01/6\n",
    "beta=tf.Variable(-10.0)\n",
    "opt = tf.keras.optimizers.SGD(alpha)\n",
    "loss_fn = lambda: (beta/2-1)**2\n",
    "for epoc in range(10000) :\n",
    "    opt.minimize(loss_fn, beta)\n",
    "beta"
   ]
  },
  {
   "cell_type": "markdown",
   "id": "87ab1a6a-6ed8-468a-be79-b67b1923fcef",
   "metadata": {},
   "source": [
    "---"
   ]
  },
  {
   "cell_type": "markdown",
   "id": "c72c9a7d-e1d7-472b-84c4-e2135b74e7e9",
   "metadata": {
    "id": "c72c9a7d-e1d7-472b-84c4-e2135b74e7e9",
    "tags": []
   },
   "source": [
    "### 회귀분석 문제"
   ]
  },
  {
   "cell_type": "markdown",
   "id": "ae1a0284-1b8f-43a2-9064-4a4d78d9b026",
   "metadata": {},
   "source": [
    "> 결국 이걸 풀기 위한 것임!"
   ]
  },
  {
   "cell_type": "markdown",
   "id": "c4bd3fe9-092a-4c8a-a4d0-b9abcfb4de6d",
   "metadata": {
    "id": "c4bd3fe9-092a-4c8a-a4d0-b9abcfb4de6d"
   },
   "source": [
    "`-` ${\\bf y} \\approx 2.5 + 4 {\\bf x}$"
   ]
  },
  {
   "cell_type": "code",
   "execution_count": 52,
   "id": "2c80d44c-7e99-4bb4-92ff-382b29999470",
   "metadata": {
    "id": "2c80d44c-7e99-4bb4-92ff-382b29999470"
   },
   "outputs": [],
   "source": [
    "tnp.random.seed(43052)\n",
    "N = 200\n",
    "x = tnp.linspace(0,1,N) \n",
    "epsilon = tnp.random.randn(N)*0.5\n",
    "y = 2.5+4*x + epsilon\n",
    "y_true = 2.5+4*x"
   ]
  },
  {
   "cell_type": "code",
   "execution_count": 53,
   "id": "af3a1e90-9370-4705-9be7-f321f7c2f856",
   "metadata": {
    "id": "af3a1e90-9370-4705-9be7-f321f7c2f856",
    "outputId": "8fa70cf1-56d8-4f1f-909b-bb54a7c9e0c6"
   },
   "outputs": [
    {
     "data": {
      "text/plain": [
       "[<matplotlib.lines.Line2D at 0x7fdb80dec280>]"
      ]
     },
     "execution_count": 53,
     "metadata": {},
     "output_type": "execute_result"
    },
    {
     "data": {
      "image/png": "[encoded data removed]",
      "text/plain": [
       "<Figure size 432x288 with 1 Axes>"
      ]
     },
     "metadata": {
      "needs_background": "light"
     },
     "output_type": "display_data"
    }
   ],
   "source": [
    "plt.plot(x,y,'.')\n",
    "plt.plot(x,y_true,'r--')"
   ]
  },
  {
   "cell_type": "markdown",
   "id": "8031b7f3-8460-4804-8806-3615e0ce7ce4",
   "metadata": {
    "id": "8031b7f3-8460-4804-8806-3615e0ce7ce4"
   },
   "source": [
    "### 이론적 풀이"
   ]
  },
  {
   "cell_type": "markdown",
   "id": "726a27e8-8ccb-4432-a826-6848a682e4d6",
   "metadata": {
    "id": "726a27e8-8ccb-4432-a826-6848a682e4d6"
   },
   "source": [
    "#### 풀이1: 스칼라버전"
   ]
  },
  {
   "cell_type": "markdown",
   "id": "b5886ec9-ce8e-41b7-a6d2-7a4a1d4ddd96",
   "metadata": {
    "id": "b5886ec9-ce8e-41b7-a6d2-7a4a1d4ddd96"
   },
   "source": [
    "`-` 포인트(알아둬야 할 공식🥸)  \n",
    "- $S_{xx}=$, $S_{xy}=$\n",
    "- $\\hat{\\beta}_0=$, $\\hat{\\beta}_1=$"
   ]
  },
  {
   "cell_type": "code",
   "execution_count": 55,
   "id": "fc89f1e4-5e7b-481b-be5e-c53384c6dbb0",
   "metadata": {},
   "outputs": [],
   "source": [
    "Sxx=sum((x-x.mean())**2)\n",
    "Sxy=sum((x-x.mean())*(y-y.mean()))"
   ]
  },
  {
   "cell_type": "code",
   "execution_count": 59,
   "id": "56845ff6-9b1b-4e43-8ab7-278841ed31d6",
   "metadata": {},
   "outputs": [
    {
     "data": {
      "text/plain": [
       "<tf.Tensor: shape=(), dtype=float64, numpy=3.933034516733168>"
      ]
     },
     "execution_count": 59,
     "metadata": {},
     "output_type": "execute_result"
    }
   ],
   "source": [
    "beta1_hat = Sxy/Sxx\n",
    "beta1_hat"
   ]
  },
  {
   "cell_type": "code",
   "execution_count": 60,
   "id": "93667fd0-0a3f-4f02-8176-67c92d92eaec",
   "metadata": {},
   "outputs": [
    {
     "data": {
      "text/plain": [
       "<tf.Tensor: shape=(), dtype=float64, numpy=2.583667211565867>"
      ]
     },
     "execution_count": 60,
     "metadata": {},
     "output_type": "execute_result"
    }
   ],
   "source": [
    "beta0_hat = y.mean() - beta1_hat *x.mean()\n",
    "beta0_hat"
   ]
  },
  {
   "cell_type": "markdown",
   "id": "15c2e0df-79cf-47bc-88fc-01511aede78f",
   "metadata": {
    "id": "15c2e0df-79cf-47bc-88fc-01511aede78f"
   },
   "source": [
    "#### 풀이2: 벡터버전"
   ]
  },
  {
   "cell_type": "markdown",
   "id": "304d3975-a8d7-4dc2-85e3-bdd79bf644b2",
   "metadata": {
    "id": "304d3975-a8d7-4dc2-85e3-bdd79bf644b2"
   },
   "source": [
    "`-` 포인트\n",
    "- $\\hat{\\beta}=(X'X)^{-1}X'y$"
   ]
  },
  {
   "cell_type": "code",
   "execution_count": 63,
   "id": "aa0e46b4-6c0e-4d31-a2b1-bf1a559a8ecb",
   "metadata": {},
   "outputs": [],
   "source": [
    "y = y.reshape(N,1)\n",
    "X = tf.stack([tf.ones(N,dtype='float64'),x],axis=1)"
   ]
  },
  {
   "cell_type": "code",
   "execution_count": 64,
   "id": "73020416-a2c7-4f3b-ae4f-3004b4be4909",
   "metadata": {},
   "outputs": [
    {
     "data": {
      "text/plain": [
       "(TensorShape([200, 1]), TensorShape([200, 2]))"
      ]
     },
     "execution_count": 64,
     "metadata": {},
     "output_type": "execute_result"
    }
   ],
   "source": [
    "y.shape, X.shape"
   ]
  },
  {
   "cell_type": "code",
   "execution_count": 73,
   "id": "59a094c0-3ae2-4671-8c4e-821615837d61",
   "metadata": {},
   "outputs": [
    {
     "data": {
      "text/plain": [
       "<tf.Tensor: shape=(2, 1), dtype=float64, numpy=\n",
       "array([[2.58366721],\n",
       "       [3.93303452]])>"
      ]
     },
     "execution_count": 73,
     "metadata": {},
     "output_type": "execute_result"
    }
   ],
   "source": [
    "tf.linalg.inv(X.T @ X) @ X.T @ y"
   ]
  },
  {
   "cell_type": "markdown",
   "id": "0e3bc322-477e-4b86-b8f4-57c5b522f3ab",
   "metadata": {
    "id": "0e3bc322-477e-4b86-b8f4-57c5b522f3ab"
   },
   "source": [
    "#### 풀이3: 벡터버전, 손실함수의 도함수이용 "
   ]
  },
  {
   "cell_type": "markdown",
   "id": "c1755913-52f4-472d-bacf-bd282759e69e",
   "metadata": {
    "id": "c1755913-52f4-472d-bacf-bd282759e69e"
   },
   "source": [
    "`-` 포인트\n",
    "- $loss'(\\beta)=-2X'y +2X'X\\beta$\n",
    "- $\\beta_{new} = \\beta_{old} - \\alpha \\times loss'(\\beta_{old})$"
   ]
  },
  {
   "cell_type": "code",
   "execution_count": 75,
   "id": "45122254-f05b-4f1d-ae82-4ef2006c9cc9",
   "metadata": {},
   "outputs": [
    {
     "data": {
      "text/plain": [
       "(TensorShape([200, 1]), TensorShape([200, 2]))"
      ]
     },
     "execution_count": 75,
     "metadata": {},
     "output_type": "execute_result"
    }
   ],
   "source": [
    "y = y.reshape(N,1)\n",
    "y.shape,X.shape"
   ]
  },
  {
   "cell_type": "code",
   "execution_count": 76,
   "id": "26243632-2af6-4bdb-a2bb-d438bf2288c1",
   "metadata": {},
   "outputs": [
    {
     "data": {
      "text/plain": [
       "<tf.Tensor: shape=(2, 1), dtype=int64, numpy=\n",
       "array([[-5],\n",
       "       [10]])>"
      ]
     },
     "execution_count": 76,
     "metadata": {},
     "output_type": "execute_result"
    }
   ],
   "source": [
    "beta_hat = tnp.array([-5,10]).reshape(2,1)\n",
    "beta_hat"
   ]
  },
  {
   "cell_type": "code",
   "execution_count": 77,
   "id": "5adfdc1f-8957-4458-935b-592bb44c3f54",
   "metadata": {},
   "outputs": [
    {
     "data": {
      "text/plain": [
       "<tf.Tensor: shape=(2, 1), dtype=float64, numpy=\n",
       "array([[-1820.07378797],\n",
       "       [ -705.77222696]])>"
      ]
     },
     "execution_count": 77,
     "metadata": {},
     "output_type": "execute_result"
    }
   ],
   "source": [
    "slope = -2*X.T @ y + 2*X.T@ X @ beta_hat \n",
    "slope"
   ]
  },
  {
   "cell_type": "code",
   "execution_count": 83,
   "id": "822799e9-b15e-4392-bbd3-b9c47f7da8e4",
   "metadata": {},
   "outputs": [
    {
     "data": {
      "text/plain": [
       "<tf.Tensor: shape=(2, 1), dtype=float64, numpy=\n",
       "array([[-1.14482646e-12],\n",
       "       [ 2.13617568e-12]])>"
      ]
     },
     "execution_count": 83,
     "metadata": {},
     "output_type": "execute_result"
    }
   ],
   "source": [
    "#loss를 다르게\n",
    "slope = (-2*X.T @ y + 2*X.T@ X @ beta_hat)/N #MSE\n",
    "slope"
   ]
  },
  {
   "cell_type": "code",
   "execution_count": 84,
   "id": "563fb9bf-562b-45ac-a508-8a8d1591c711",
   "metadata": {},
   "outputs": [],
   "source": [
    "alpha = 0.001"
   ]
  },
  {
   "cell_type": "code",
   "execution_count": 85,
   "id": "9844a031-72c5-48c8-b96e-59b64b4e39d6",
   "metadata": {},
   "outputs": [
    {
     "data": {
      "text/plain": [
       "<tf.Tensor: shape=(2, 1), dtype=float64, numpy=\n",
       "array([[-1.14482646e-15],\n",
       "       [ 2.13617568e-15]])>"
      ]
     },
     "execution_count": 85,
     "metadata": {},
     "output_type": "execute_result"
    }
   ],
   "source": [
    "step = slope*alpha\n",
    "step"
   ]
  },
  {
   "cell_type": "code",
   "execution_count": 87,
   "id": "7b0c84d0-1c8b-4d7b-951a-61cfbf54545a",
   "metadata": {},
   "outputs": [],
   "source": [
    "for epoc in range(1000):\n",
    "    slope = (-2*X.T @ y + 2*X.T@ X @ beta_hat)/N\n",
    "    beta_hat = beta_hat - alpha * slope"
   ]
  },
  {
   "cell_type": "code",
   "execution_count": 88,
   "id": "c228e7ff-24a4-4873-ac48-40f840321637",
   "metadata": {},
   "outputs": [
    {
     "data": {
      "text/plain": [
       "<tf.Tensor: shape=(2, 1), dtype=float64, numpy=\n",
       "array([[2.58366721],\n",
       "       [3.93303452]])>"
      ]
     },
     "execution_count": 88,
     "metadata": {},
     "output_type": "execute_result"
    }
   ],
   "source": [
    "beta_hat"
   ]
  },
  {
   "cell_type": "markdown",
   "id": "aa8d58b3-a193-418f-ab8d-20ad3add3b43",
   "metadata": {},
   "source": [
    "- MSE의 장점 : 평균을 내면 sample size가 커져도 alpha값을 일정 범위 내에서 조정할 수 있어서 편하다"
   ]
  },
  {
   "cell_type": "markdown",
   "id": "8f5231a2-1872-497e-baf4-f463f0574757",
   "metadata": {
    "id": "8f5231a2-1872-497e-baf4-f463f0574757"
   },
   "source": [
    "### GradientTape를 이용 "
   ]
  },
  {
   "cell_type": "markdown",
   "id": "6a6f1c18-aff6-41fc-b346-aa184f5cddb4",
   "metadata": {
    "id": "6a6f1c18-aff6-41fc-b346-aa184f5cddb4"
   },
   "source": [
    "#### 풀이1: 벡터버전"
   ]
  },
  {
   "cell_type": "markdown",
   "id": "55ba7a20-43ec-40b3-90f6-5df6036bda89",
   "metadata": {
    "id": "55ba7a20-43ec-40b3-90f6-5df6036bda89"
   },
   "source": [
    "`-` 포인트\n",
    "```python\n",
    "## 포인트코드1: 그레디언트 테입  \n",
    "with tf.GradientTape() as tape: \n",
    "    loss = \n",
    "## 포인트코드2: 미분 \n",
    "slope = tape.gradient(loss,beta_hat) \n",
    "## 포인트코드3: update \n",
    "beta_hat.assign_sub(slope*alph) \n",
    "```"
   ]
  },
  {
   "cell_type": "code",
   "execution_count": 125,
   "id": "7dc6808a-080d-45c4-b61a-263ac3acec34",
   "metadata": {},
   "outputs": [],
   "source": [
    "y=y.reshape(N,1)"
   ]
  },
  {
   "cell_type": "code",
   "execution_count": 126,
   "id": "987ef2ce-bb56-404f-a0ec-b9f8664c6de2",
   "metadata": {},
   "outputs": [
    {
     "data": {
      "text/plain": [
       "<tf.Variable 'Variable:0' shape=(2, 1) dtype=float64, numpy=\n",
       "array([[-5.],\n",
       "       [10.]])>"
      ]
     },
     "execution_count": 126,
     "metadata": {},
     "output_type": "execute_result"
    }
   ],
   "source": [
    "beta_hat = tf.Variable(tnp.array([-5.0,10.0]).reshape(2,1))\n",
    "beta_hat"
   ]
  },
  {
   "cell_type": "code",
   "execution_count": 127,
   "id": "23cc3628-0f04-46b6-8aea-fbf49bf27801",
   "metadata": {},
   "outputs": [],
   "source": [
    "for epoc in range(1000) : \n",
    "    with tf.GradientTape() as tape: \n",
    "        yhat = X@beta_hat\n",
    "        loss = (y-yhat).T @ (y-yhat) / N \n",
    "    slope = tape.gradient(loss,beta_hat) \n",
    "    beta_hat.assign_sub(slope * alpha) "
   ]
  },
  {
   "cell_type": "code",
   "execution_count": 128,
   "id": "947c25a8-e6b9-4d63-baf2-465ec507a1c1",
   "metadata": {},
   "outputs": [
    {
     "data": {
      "text/plain": [
       "<tf.Variable 'Variable:0' shape=(2, 1) dtype=float64, numpy=\n",
       "array([[2.58366061],\n",
       "       [3.93304684]])>"
      ]
     },
     "execution_count": 128,
     "metadata": {},
     "output_type": "execute_result"
    }
   ],
   "source": [
    "beta_hat  "
   ]
  },
  {
   "cell_type": "markdown",
   "id": "45b5df07-64fd-4257-a8e5-1c55ffdc2172",
   "metadata": {
    "id": "45b5df07-64fd-4257-a8e5-1c55ffdc2172"
   },
   "source": [
    "#### 풀이2: 스칼라버전"
   ]
  },
  {
   "cell_type": "markdown",
   "id": "121291bf-c8b8-4a77-9c72-3b0f5540ef17",
   "metadata": {
    "id": "121291bf-c8b8-4a77-9c72-3b0f5540ef17"
   },
   "source": [
    "`-` 포인트\n",
    "```python\n",
    "## 포인트코드: 미분\n",
    "slope0,slope1 = tape.gradient(loss,[beta0_hat,beta1_hat])\n",
    "```"
   ]
  },
  {
   "cell_type": "code",
   "execution_count": 120,
   "id": "fdb4d0c8-864d-4157-876a-790a62241b9c",
   "metadata": {},
   "outputs": [
    {
     "data": {
      "text/plain": [
       "(TensorShape([200]), TensorShape([200]))"
      ]
     },
     "execution_count": 120,
     "metadata": {},
     "output_type": "execute_result"
    }
   ],
   "source": [
    "y = y.reshape(-1)\n",
    "x.shape, y.shape"
   ]
  },
  {
   "cell_type": "code",
   "execution_count": 121,
   "id": "c63c8391-ff3e-466b-a4e8-88c1c96023de",
   "metadata": {},
   "outputs": [],
   "source": [
    "beta0_hat = tf.Variable(-5.0)\n",
    "beta1_hat = tf.Variable(10.0)"
   ]
  },
  {
   "cell_type": "code",
   "execution_count": 122,
   "id": "3db31a5c-fda4-4aab-bbd1-380dc563a781",
   "metadata": {},
   "outputs": [],
   "source": [
    "alpha=0.1"
   ]
  },
  {
   "cell_type": "code",
   "execution_count": 123,
   "id": "134bdb2c-1326-4007-ad1d-5c6bc5c8307a",
   "metadata": {},
   "outputs": [],
   "source": [
    "for epoc in range(1000):   \n",
    "    with tf.GradientTape() as tape: \n",
    "        yhat = beta0_hat + beta1_hat*x \n",
    "        loss = tf.reduce_sum((y-yhat)**2)/N #sum((y-yhat)**2) / N \n",
    "    slope0,slope1 = tape.gradient(loss,[beta0_hat,beta1_hat]) \n",
    "    beta0_hat.assign_sub(slope0 * alpha) \n",
    "    beta1_hat.assign_sub(slope1 * alpha) "
   ]
  },
  {
   "cell_type": "code",
   "execution_count": 124,
   "id": "3a2172ce-e7d0-4a82-b110-781e6607b165",
   "metadata": {},
   "outputs": [
    {
     "data": {
      "text/plain": [
       "(<tf.Variable 'Variable:0' shape=() dtype=float32, numpy=2.58366>,\n",
       " <tf.Variable 'Variable:0' shape=() dtype=float32, numpy=3.933048>)"
      ]
     },
     "execution_count": 124,
     "metadata": {},
     "output_type": "execute_result"
    }
   ],
   "source": [
    "beta0_hat, beta1_hat"
   ]
  },
  {
   "cell_type": "markdown",
   "id": "0495f04f-65c4-4675-865f-44d16d941353",
   "metadata": {},
   "source": [
    "- 시간이 너무 오래 걸림 -> tf.reduce_sum 을 하면 더 빠르다\n",
    "- 벡터 버젼으로 하는게 더 빠르게 !"
   ]
  },
  {
   "cell_type": "markdown",
   "id": "febc6310-7669-4cfe-ba5f-70ae1853f605",
   "metadata": {
    "id": "febc6310-7669-4cfe-ba5f-70ae1853f605"
   },
   "source": [
    "### GradientTape + opt.apply_gradients"
   ]
  },
  {
   "cell_type": "markdown",
   "id": "5089a331-82aa-48cc-9f6f-5ea1a93bbd2f",
   "metadata": {
    "id": "5089a331-82aa-48cc-9f6f-5ea1a93bbd2f",
    "tags": []
   },
   "source": [
    "#### 풀이1: 벡터버전 "
   ]
  },
  {
   "cell_type": "markdown",
   "id": "ad963999-5fe2-429f-914a-b70bd3ad9235",
   "metadata": {
    "id": "ad963999-5fe2-429f-914a-b70bd3ad9235"
   },
   "source": [
    "`-` 포인트 \n",
    "```python\n",
    "## 포인트코드: 업데이트\n",
    "opt.apply_gradients([(slope,beta_hat)])  ## pair의 list가 입력 \n",
    "```"
   ]
  },
  {
   "cell_type": "code",
   "execution_count": 129,
   "id": "0385c0c7-662b-4e2a-ada7-4d6dff4ed0f2",
   "metadata": {},
   "outputs": [
    {
     "data": {
      "text/plain": [
       "(TensorShape([200, 2]), TensorShape([200, 1]))"
      ]
     },
     "execution_count": 129,
     "metadata": {},
     "output_type": "execute_result"
    }
   ],
   "source": [
    "y=y.reshape(N,1)\n",
    "X.shape,y.shape"
   ]
  },
  {
   "cell_type": "code",
   "execution_count": 130,
   "id": "b7ac65f8-7dec-4348-81c5-7893c036b914",
   "metadata": {},
   "outputs": [
    {
     "data": {
      "text/plain": [
       "<tf.Variable 'Variable:0' shape=(2, 1) dtype=float64, numpy=\n",
       "array([[-5.],\n",
       "       [10.]])>"
      ]
     },
     "execution_count": 130,
     "metadata": {},
     "output_type": "execute_result"
    }
   ],
   "source": [
    "beta_hat = tf.Variable(tnp.array([-5.0,10.0]).reshape(2,1))\n",
    "beta_hat"
   ]
  },
  {
   "cell_type": "code",
   "execution_count": 131,
   "id": "93d529bf-17a4-40df-a7a1-3490ccf46c44",
   "metadata": {},
   "outputs": [],
   "source": [
    "alpha=0.1"
   ]
  },
  {
   "cell_type": "markdown",
   "id": "21348389-91dd-4179-b4af-e2280f595f81",
   "metadata": {},
   "source": [
    "`-` 사전학습"
   ]
  },
  {
   "cell_type": "code",
   "execution_count": 132,
   "id": "8d52e32f-2723-4bbe-bfba-bed47efb83fd",
   "metadata": {},
   "outputs": [
    {
     "data": {
      "text/plain": [
       "<module 'keras.api._v2.keras.optimizers' from '/home/khy/anaconda3/envs/py310/lib/python3.10/site-packages/keras/api/_v2/keras/optimizers/__init__.py'>"
      ]
     },
     "execution_count": 132,
     "metadata": {},
     "output_type": "execute_result"
    }
   ],
   "source": [
    "tf.optimizers"
   ]
  },
  {
   "cell_type": "code",
   "execution_count": 133,
   "id": "7cfa1f34-ae6a-4bc2-ad73-81e9811cc0ec",
   "metadata": {},
   "outputs": [
    {
     "data": {
      "text/plain": [
       "<module 'keras.api._v2.keras.optimizers' from '/home/khy/anaconda3/envs/py310/lib/python3.10/site-packages/keras/api/_v2/keras/optimizers/__init__.py'>"
      ]
     },
     "execution_count": 133,
     "metadata": {},
     "output_type": "execute_result"
    }
   ],
   "source": [
    "tf.keras.optimizers"
   ]
  },
  {
   "cell_type": "markdown",
   "id": "b93fb2ed-8bef-47fd-bbd1-872ba742679c",
   "metadata": {},
   "source": [
    "- 저장공간이 같음 $\\to$ 똑같은 함수~"
   ]
  },
  {
   "cell_type": "code",
   "execution_count": 134,
   "id": "9d713229-07f1-4fe5-9366-7d7ca314dfb6",
   "metadata": {},
   "outputs": [],
   "source": [
    "opt = tf.optimizers.SGD(alpha)"
   ]
  },
  {
   "cell_type": "code",
   "execution_count": 135,
   "id": "91609263-1db0-4093-a34d-af9b2159d596",
   "metadata": {},
   "outputs": [],
   "source": [
    "for epoc in range(1000): \n",
    "    with tf.GradientTape() as tape: \n",
    "        yhat = X@beta_hat\n",
    "        loss = (y-yhat).T @ (y-yhat) / N \n",
    "    slope = tape.gradient(loss,beta_hat)  \n",
    "    opt.apply_gradients( [(slope,beta_hat)] )"
   ]
  },
  {
   "cell_type": "code",
   "execution_count": 136,
   "id": "54b70c65-f461-484c-9482-de558581e492",
   "metadata": {},
   "outputs": [
    {
     "data": {
      "text/plain": [
       "<tf.Variable 'Variable:0' shape=(2, 1) dtype=float64, numpy=\n",
       "array([[2.58366061],\n",
       "       [3.93304684]])>"
      ]
     },
     "execution_count": 136,
     "metadata": {},
     "output_type": "execute_result"
    }
   ],
   "source": [
    "beta_hat"
   ]
  },
  {
   "cell_type": "markdown",
   "id": "544bb15a-9809-4bfb-abda-c7e84e20f8e4",
   "metadata": {
    "id": "544bb15a-9809-4bfb-abda-c7e84e20f8e4",
    "tags": []
   },
   "source": [
    "#### 풀이2: 스칼라버전 "
   ]
  },
  {
   "cell_type": "markdown",
   "id": "9e93cdf6-3ba5-4102-b325-33c98fa8010c",
   "metadata": {
    "id": "9e93cdf6-3ba5-4102-b325-33c98fa8010c"
   },
   "source": [
    "`-` 포인트\n",
    "```python\n",
    "## 포인트코드: 업데이트 \n",
    "opt.apply_gradients([(slope0,beta0_hat),(slope1,beta1_hat)]) ## pair의 list가 입력 \n",
    "```"
   ]
  },
  {
   "cell_type": "code",
   "execution_count": 137,
   "id": "c6768063-1f58-4179-9071-77bdb6ff9158",
   "metadata": {},
   "outputs": [],
   "source": [
    "y=y.reshape(-1)"
   ]
  },
  {
   "cell_type": "code",
   "execution_count": 138,
   "id": "aad2b399-e68a-420e-a167-e1c6e1510105",
   "metadata": {},
   "outputs": [],
   "source": [
    "beta0_hat = tf.Variable(-5.0)\n",
    "beta1_hat = tf.Variable(10.0)"
   ]
  },
  {
   "cell_type": "code",
   "execution_count": 139,
   "id": "0e3e90e0-62fd-4bb0-8298-81b6d73ba397",
   "metadata": {},
   "outputs": [],
   "source": [
    "alpha=0.1\n",
    "opt=tf.optimizers.SGD(alpha)"
   ]
  },
  {
   "cell_type": "code",
   "execution_count": 140,
   "id": "593cdc8e-336a-483c-b27f-335a4fb4191d",
   "metadata": {},
   "outputs": [],
   "source": [
    "for epoc in range(1000): \n",
    "    with tf.GradientTape() as tape: \n",
    "        yhat = beta0_hat + beta1_hat*x\n",
    "        loss = tf.reduce_sum((y-yhat)**2) / N \n",
    "    slope0,slope1 = tape.gradient(loss,[beta0_hat,beta1_hat])  \n",
    "    opt.apply_gradients( [(slope0,beta0_hat),(slope1,beta1_hat)] )"
   ]
  },
  {
   "cell_type": "code",
   "execution_count": 141,
   "id": "b50d68e0-cb84-456a-907c-09d9ad56c5df",
   "metadata": {},
   "outputs": [
    {
     "data": {
      "text/plain": [
       "(<tf.Variable 'Variable:0' shape=() dtype=float32, numpy=2.58366>,\n",
       " <tf.Variable 'Variable:0' shape=() dtype=float32, numpy=3.933048>)"
      ]
     },
     "execution_count": 141,
     "metadata": {},
     "output_type": "execute_result"
    }
   ],
   "source": [
    "beta0_hat,beta1_hat"
   ]
  },
  {
   "cell_type": "markdown",
   "id": "08c010ea-0672-47da-a2ce-e731ccf6d6e0",
   "metadata": {
    "id": "08c010ea-0672-47da-a2ce-e731ccf6d6e0"
   },
   "source": [
    "### opt.minimize"
   ]
  },
  {
   "cell_type": "markdown",
   "id": "2d0207e6-a475-42bc-a1cc-36c7dd86e66d",
   "metadata": {
    "id": "2d0207e6-a475-42bc-a1cc-36c7dd86e66d",
    "tags": []
   },
   "source": [
    "#### 풀이1: 벡터버전, 사용자정의 손실함수 with lambda"
   ]
  },
  {
   "cell_type": "code",
   "execution_count": 142,
   "id": "2a6723da-72a2-403b-9ad0-517c0f7840c6",
   "metadata": {},
   "outputs": [
    {
     "data": {
      "text/plain": [
       "(TensorShape([200, 2]), TensorShape([200, 1]))"
      ]
     },
     "execution_count": 142,
     "metadata": {},
     "output_type": "execute_result"
    }
   ],
   "source": [
    "y=y.reshape(N,1)\n",
    "X.shape,y.shape"
   ]
  },
  {
   "cell_type": "code",
   "execution_count": 143,
   "id": "99f835a0-9f93-4982-8c0b-4dee841b8b50",
   "metadata": {},
   "outputs": [
    {
     "data": {
      "text/plain": [
       "<tf.Variable 'Variable:0' shape=(2, 1) dtype=float64, numpy=\n",
       "array([[-5.],\n",
       "       [10.]])>"
      ]
     },
     "execution_count": 143,
     "metadata": {},
     "output_type": "execute_result"
    }
   ],
   "source": [
    "beta_hat = tf.Variable(tnp.array([-5.0,10.0]).reshape(2,1))\n",
    "beta_hat"
   ]
  },
  {
   "cell_type": "code",
   "execution_count": 144,
   "id": "14d894ef-b1ce-497a-a92e-05687d0f5f3b",
   "metadata": {},
   "outputs": [],
   "source": [
    "loss_fn = lambda: (y-X@beta_hat).T @ (y-X@beta_hat)/N"
   ]
  },
  {
   "cell_type": "code",
   "execution_count": 145,
   "id": "bc95c1d3-bf9b-4467-85c3-71bd839ad8ee",
   "metadata": {},
   "outputs": [],
   "source": [
    "alpha=0.1"
   ]
  },
  {
   "cell_type": "code",
   "execution_count": 146,
   "id": "7f0591e9-7962-411b-acfd-40f51a3c3619",
   "metadata": {},
   "outputs": [],
   "source": [
    "opt = tf.optimizers.SGD(alpha) "
   ]
  },
  {
   "cell_type": "code",
   "execution_count": 147,
   "id": "30f888e7-c4de-44bf-beb5-5e3b969a70a1",
   "metadata": {},
   "outputs": [],
   "source": [
    "for epoc in range(1000):\n",
    "    opt.minimize(loss_fn,beta_hat) # 미분 + update "
   ]
  },
  {
   "cell_type": "code",
   "execution_count": 148,
   "id": "5a922ea4-ae33-42af-8833-00a8b0ae2b5d",
   "metadata": {},
   "outputs": [
    {
     "data": {
      "text/plain": [
       "<tf.Variable 'Variable:0' shape=(2, 1) dtype=float64, numpy=\n",
       "array([[2.58366061],\n",
       "       [3.93304684]])>"
      ]
     },
     "execution_count": 148,
     "metadata": {},
     "output_type": "execute_result"
    }
   ],
   "source": [
    "beta_hat"
   ]
  },
  {
   "cell_type": "markdown",
   "id": "f9f7739e-27b2-40e6-a60f-de806e7216f4",
   "metadata": {
    "id": "f9f7739e-27b2-40e6-a60f-de806e7216f4"
   },
   "source": [
    "#### 풀이2: 스칼라버전, 사용자정의 손실함수 with lambda"
   ]
  },
  {
   "cell_type": "markdown",
   "id": "cbd0e298-b04a-47dc-974c-4b72cebdfe55",
   "metadata": {
    "id": "cbd0e298-b04a-47dc-974c-4b72cebdfe55"
   },
   "source": [
    "`-` 포인트\n",
    "```python\n",
    "## 포인트코드: 미분 & 업데이트 = minimize \n",
    "opt.minimize(loss_fn,[beta0_hat,beta1_hat])\n",
    "```"
   ]
  },
  {
   "cell_type": "code",
   "execution_count": 149,
   "id": "adffc6c0-0955-4352-a2ee-dfbc43857d78",
   "metadata": {},
   "outputs": [
    {
     "data": {
      "text/plain": [
       "(TensorShape([200]), TensorShape([200]))"
      ]
     },
     "execution_count": 149,
     "metadata": {},
     "output_type": "execute_result"
    }
   ],
   "source": [
    "y=y.reshape(-1)\n",
    "x.shape,y.shape"
   ]
  },
  {
   "cell_type": "code",
   "execution_count": 150,
   "id": "7395dbf4-9599-43d2-8436-54687073a1b4",
   "metadata": {},
   "outputs": [],
   "source": [
    "beta0_hat = tf.Variable(-5.0)\n",
    "beta1_hat = tf.Variable(10.0) "
   ]
  },
  {
   "cell_type": "code",
   "execution_count": 151,
   "id": "d7c7e153-39c5-4df9-8947-672fac7c028d",
   "metadata": {},
   "outputs": [],
   "source": [
    "alpha=0.1"
   ]
  },
  {
   "cell_type": "code",
   "execution_count": 153,
   "id": "ee58800a-7991-4298-8133-2cba40d22360",
   "metadata": {},
   "outputs": [],
   "source": [
    "opt = tf.optimizers.SGD(alpha) "
   ]
  },
  {
   "cell_type": "code",
   "execution_count": 152,
   "id": "587ab1a8-0f8a-4a25-8076-e81d3284d14e",
   "metadata": {},
   "outputs": [],
   "source": [
    "loss_fn = lambda: tf.reduce_sum((y-beta0_hat - beta1_hat*x)**2)/N"
   ]
  },
  {
   "cell_type": "code",
   "execution_count": 154,
   "id": "af7cde88-8e32-45b8-9a32-67e3d7108f32",
   "metadata": {},
   "outputs": [],
   "source": [
    "for epoc in range(1000):\n",
    "    opt.minimize(loss_fn,[beta0_hat,beta1_hat]) # 미분 + update "
   ]
  },
  {
   "cell_type": "code",
   "execution_count": 155,
   "id": "0d753d49-b78f-43bc-a474-2224a8bf7b39",
   "metadata": {},
   "outputs": [
    {
     "data": {
      "text/plain": [
       "(<tf.Variable 'Variable:0' shape=() dtype=float32, numpy=2.58366>,\n",
       " <tf.Variable 'Variable:0' shape=() dtype=float32, numpy=3.933048>)"
      ]
     },
     "execution_count": 155,
     "metadata": {},
     "output_type": "execute_result"
    }
   ],
   "source": [
    "beta0_hat, beta1_hat"
   ]
  },
  {
   "cell_type": "markdown",
   "id": "a1f09a4f-bdb9-440b-9d9e-623cd220baff",
   "metadata": {
    "id": "a1f09a4f-bdb9-440b-9d9e-623cd220baff"
   },
   "source": [
    "#### 풀이3: 벡터버전, 사용자정의 (짧은) 손실함수 "
   ]
  },
  {
   "cell_type": "markdown",
   "id": "f5031126-91a9-4d1f-a932-e0b67559776a",
   "metadata": {
    "id": "f5031126-91a9-4d1f-a932-e0b67559776a"
   },
   "source": [
    "`-` 포인트\n",
    "```python\n",
    "## 포인트코드: 손실함수정의 \n",
    "def loss_fn():\n",
    "    return ??\n",
    "```"
   ]
  },
  {
   "cell_type": "code",
   "execution_count": 156,
   "id": "564923df-5916-4c13-93d8-6a598eb389fd",
   "metadata": {},
   "outputs": [
    {
     "data": {
      "text/plain": [
       "(TensorShape([200, 2]), TensorShape([200, 1]))"
      ]
     },
     "execution_count": 156,
     "metadata": {},
     "output_type": "execute_result"
    }
   ],
   "source": [
    "y=y.reshape(N,1)\n",
    "X.shape,y.shape"
   ]
  },
  {
   "cell_type": "code",
   "execution_count": 157,
   "id": "b211d302-cbd4-4cd6-bb20-2300d6fcffd4",
   "metadata": {},
   "outputs": [
    {
     "data": {
      "text/plain": [
       "<tf.Variable 'Variable:0' shape=(2, 1) dtype=float64, numpy=\n",
       "array([[-5.],\n",
       "       [10.]])>"
      ]
     },
     "execution_count": 157,
     "metadata": {},
     "output_type": "execute_result"
    }
   ],
   "source": [
    "beta_hat = tf.Variable(tnp.array([-5.0,10.0]).reshape(2,1))\n",
    "beta_hat"
   ]
  },
  {
   "cell_type": "code",
   "execution_count": 158,
   "id": "e4eb15cb-8ad1-4751-8745-0e6efce81d4a",
   "metadata": {},
   "outputs": [],
   "source": [
    "alpha=0.1\n",
    "opt = tf.optimizers.SGD(alpha) "
   ]
  },
  {
   "cell_type": "code",
   "execution_count": 159,
   "id": "0ef346e0-04e6-426f-bfb1-5ed00b9d8626",
   "metadata": {},
   "outputs": [],
   "source": [
    "def loss_fn():\n",
    "     return (y-X@beta_hat).T @ (y-X@beta_hat)/N"
   ]
  },
  {
   "cell_type": "code",
   "execution_count": 161,
   "id": "bffee47e-67d9-4ffc-a91e-b9e294918957",
   "metadata": {},
   "outputs": [],
   "source": [
    "for epoc in range(1000):\n",
    "    opt.minimize(loss_fn,beta_hat) # 미분 + update "
   ]
  },
  {
   "cell_type": "code",
   "execution_count": 162,
   "id": "4b024305-79c2-422e-b018-00eaeab1c4c6",
   "metadata": {},
   "outputs": [
    {
     "data": {
      "text/plain": [
       "<tf.Variable 'Variable:0' shape=(2, 1) dtype=float64, numpy=\n",
       "array([[2.58366721],\n",
       "       [3.93303452]])>"
      ]
     },
     "execution_count": 162,
     "metadata": {},
     "output_type": "execute_result"
    }
   ],
   "source": [
    "beta_hat"
   ]
  },
  {
   "cell_type": "markdown",
   "id": "28e46453-92c4-4858-8feb-19597cf34e73",
   "metadata": {
    "id": "28e46453-92c4-4858-8feb-19597cf34e73"
   },
   "source": [
    "#### 풀이4: 벡터버전, 사용자정의 (긴) 손실함수 "
   ]
  },
  {
   "cell_type": "markdown",
   "id": "74a717fc-0e55-416c-aaa0-3d6dc5a60371",
   "metadata": {
    "id": "74a717fc-0e55-416c-aaa0-3d6dc5a60371"
   },
   "source": [
    "`-` 포인트\n",
    "```python\n",
    "## 포인트코드: 손실함수정의 \n",
    "def loss_fn():\n",
    "    ??\n",
    "    ??\n",
    "    return ??\n",
    "```"
   ]
  },
  {
   "cell_type": "code",
   "execution_count": 163,
   "id": "325bc9c3-6a6f-4275-a261-c4e6f8169ef0",
   "metadata": {},
   "outputs": [
    {
     "data": {
      "text/plain": [
       "(TensorShape([200, 2]), TensorShape([200, 1]))"
      ]
     },
     "execution_count": 163,
     "metadata": {},
     "output_type": "execute_result"
    }
   ],
   "source": [
    "y=y.reshape(N,1)\n",
    "X.shape,y.shape"
   ]
  },
  {
   "cell_type": "code",
   "execution_count": 164,
   "id": "a7098d65-0072-4590-82fa-ab3d6dcb56fc",
   "metadata": {},
   "outputs": [
    {
     "data": {
      "text/plain": [
       "<tf.Variable 'Variable:0' shape=(2, 1) dtype=float64, numpy=\n",
       "array([[-5.],\n",
       "       [10.]])>"
      ]
     },
     "execution_count": 164,
     "metadata": {},
     "output_type": "execute_result"
    }
   ],
   "source": [
    "beta_hat = tf.Variable(tnp.array([-5.0,10.0]).reshape(2,1))\n",
    "beta_hat"
   ]
  },
  {
   "cell_type": "code",
   "execution_count": 165,
   "id": "230927ba-03b7-4883-bf50-9bc2e758a148",
   "metadata": {},
   "outputs": [],
   "source": [
    "alpha=0.1\n",
    "opt = tf.optimizers.SGD(alpha) "
   ]
  },
  {
   "cell_type": "code",
   "execution_count": 168,
   "id": "aebcf37f-66c3-4e67-a9a4-4dd109e933c5",
   "metadata": {},
   "outputs": [],
   "source": [
    "def loss_fn():\n",
    "    yhat = X@beta_hat #컴퓨터한테 전달한 수식1\n",
    "    loss = (y-yhat).T @ (y-yhat) / N  #컴퓨터한테 전달한 수식2\n",
    "    return loss  #tape.gradient(loss,beta_hat)에서의 미분당하는 애"
   ]
  },
  {
   "cell_type": "code",
   "execution_count": 169,
   "id": "f3bab564-781a-4095-b596-f202ecb21232",
   "metadata": {},
   "outputs": [],
   "source": [
    "for epoc in range(1000):\n",
    "    opt.minimize(loss_fn,beta_hat) # 미분 + update "
   ]
  },
  {
   "cell_type": "code",
   "execution_count": 170,
   "id": "84b2c618-5726-4388-8f06-733553c84e19",
   "metadata": {},
   "outputs": [
    {
     "data": {
      "text/plain": [
       "<tf.Variable 'Variable:0' shape=(2, 1) dtype=float64, numpy=\n",
       "array([[2.58366061],\n",
       "       [3.93304684]])>"
      ]
     },
     "execution_count": 170,
     "metadata": {},
     "output_type": "execute_result"
    }
   ],
   "source": [
    "beta_hat"
   ]
  },
  {
   "cell_type": "markdown",
   "id": "07f15e8b-d947-4341-ad00-d2994d462eef",
   "metadata": {
    "id": "07f15e8b-d947-4341-ad00-d2994d462eef"
   },
   "source": [
    "#### 풀이5: 벡터버전, 사용자정의 손실함수 <- tf.losses.MSE "
   ]
  },
  {
   "cell_type": "markdown",
   "id": "016c6e35-1822-4973-a654-9ff28ac7be66",
   "metadata": {
    "id": "016c6e35-1822-4973-a654-9ff28ac7be66"
   },
   "source": [
    "`-` 포인트\n",
    "```python\n",
    "## 포인트코드: 미리구현되어있는 손실함수 이용 \n",
    "tf.losses.MSE(y,yhat)\n",
    "```"
   ]
  },
  {
   "cell_type": "code",
   "execution_count": 171,
   "id": "6de3bf33-d223-4713-ade4-b0b07898c5dd",
   "metadata": {},
   "outputs": [
    {
     "data": {
      "text/plain": [
       "(TensorShape([200, 2]), TensorShape([200, 1]))"
      ]
     },
     "execution_count": 171,
     "metadata": {},
     "output_type": "execute_result"
    }
   ],
   "source": [
    "y=y.reshape(N,1)\n",
    "X.shape,y.shape"
   ]
  },
  {
   "cell_type": "code",
   "execution_count": 172,
   "id": "8c3fdb5a-a375-496b-af39-72283d103cff",
   "metadata": {},
   "outputs": [
    {
     "data": {
      "text/plain": [
       "<tf.Variable 'Variable:0' shape=(2, 1) dtype=float64, numpy=\n",
       "array([[-5.],\n",
       "       [10.]])>"
      ]
     },
     "execution_count": 172,
     "metadata": {},
     "output_type": "execute_result"
    }
   ],
   "source": [
    "beta_hat = tf.Variable(tnp.array([-5.0,10.0]).reshape(2,1))\n",
    "beta_hat"
   ]
  },
  {
   "cell_type": "code",
   "execution_count": 173,
   "id": "785ffd95-ee1a-42db-95e4-bb2bafe69635",
   "metadata": {},
   "outputs": [],
   "source": [
    "alpha=0.1\n",
    "opt = tf.optimizers.SGD(alpha) "
   ]
  },
  {
   "cell_type": "code",
   "execution_count": 174,
   "id": "c4e966eb-fd08-4660-845c-126667747490",
   "metadata": {},
   "outputs": [],
   "source": [
    "def loss_fn():\n",
    "    yhat= X@beta_hat\n",
    "    loss = tf.losses.MSE(y.reshape(-1),yhat.reshape(-1))\n",
    "    return loss"
   ]
  },
  {
   "cell_type": "markdown",
   "id": "80188578-97db-456e-a107-ae1af4c7fc3b",
   "metadata": {},
   "source": [
    "> tf.losses.MSE 는 벡터도 받을 수 있는데, 우리가 생각하는 loss가 나올려면 길이가 n인 벡터를 넣어줘야 한다. 그래서 위에서 reshape을 해주는 것임. 그리고 N으로 나눠주지 않게 조심하기!"
   ]
  },
  {
   "cell_type": "code",
   "execution_count": 175,
   "id": "d321bd8f-59fa-4922-a33b-2a57dc79d220",
   "metadata": {},
   "outputs": [],
   "source": [
    "for epoc in range(1000):\n",
    "    opt.minimize(loss_fn,beta_hat) # 미분 + update "
   ]
  },
  {
   "cell_type": "code",
   "execution_count": 176,
   "id": "2830873d-0304-4e98-99ac-4fce36de89a7",
   "metadata": {},
   "outputs": [
    {
     "data": {
      "text/plain": [
       "<tf.Variable 'Variable:0' shape=(2, 1) dtype=float64, numpy=\n",
       "array([[2.58366061],\n",
       "       [3.93304684]])>"
      ]
     },
     "execution_count": 176,
     "metadata": {},
     "output_type": "execute_result"
    }
   ],
   "source": [
    "beta_hat"
   ]
  },
  {
   "cell_type": "markdown",
   "id": "1c725521-bfe4-431e-bf45-9eed25d2d83d",
   "metadata": {
    "id": "1c725521-bfe4-431e-bf45-9eed25d2d83d"
   },
   "source": [
    "#### 풀이6: 벡터버전, 사용자정의 손실함수 <- tf.losses.MeaSquaredError"
   ]
  },
  {
   "cell_type": "markdown",
   "id": "a16611c1-31ef-4ea4-acc5-5d259273b545",
   "metadata": {
    "id": "a16611c1-31ef-4ea4-acc5-5d259273b545"
   },
   "source": [
    "`-` 포인트\n",
    "```python\n",
    "## 포인트코드: 클래스로부터 손실함수 오브젝트 생성 (함수를 찍어내는 클래스) \n",
    "mse_fn = tf.losses.MeanSquaredError()\n",
    "mse_fn(y,yhat)\n",
    "```"
   ]
  },
  {
   "cell_type": "code",
   "execution_count": 186,
   "id": "ee5f58f7-9673-43c6-9773-1c88516ff16b",
   "metadata": {},
   "outputs": [
    {
     "data": {
      "text/plain": [
       "(TensorShape([200, 2]), TensorShape([200, 1]))"
      ]
     },
     "execution_count": 186,
     "metadata": {},
     "output_type": "execute_result"
    }
   ],
   "source": [
    "y=y.reshape(N,1)\n",
    "X.shape,y.shape"
   ]
  },
  {
   "cell_type": "code",
   "execution_count": 187,
   "id": "8c239906-a972-448e-8cf2-5bddc1293715",
   "metadata": {},
   "outputs": [
    {
     "data": {
      "text/plain": [
       "<tf.Variable 'Variable:0' shape=(2, 1) dtype=float64, numpy=\n",
       "array([[-5.],\n",
       "       [10.]])>"
      ]
     },
     "execution_count": 187,
     "metadata": {},
     "output_type": "execute_result"
    }
   ],
   "source": [
    "beta_hat = tf.Variable(tnp.array([-5.0,10.0]).reshape(2,1))\n",
    "beta_hat"
   ]
  },
  {
   "cell_type": "code",
   "execution_count": 188,
   "id": "4baec01b-4f58-4996-a7ce-55aaa9e75887",
   "metadata": {},
   "outputs": [],
   "source": [
    "alpha=0.1\n",
    "opt = tf.optimizers.SGD(alpha) "
   ]
  },
  {
   "cell_type": "code",
   "execution_count": 189,
   "id": "c160be6a-bf31-4b9e-b596-b0d26ff63481",
   "metadata": {},
   "outputs": [],
   "source": [
    "mseloss_fn=tf.losses.MeanSquaredError()"
   ]
  },
  {
   "cell_type": "code",
   "execution_count": 190,
   "id": "5e9edf56-6e38-49c6-8384-81c78492b208",
   "metadata": {},
   "outputs": [],
   "source": [
    "#dir(mseloss_fn)해서 call이 있으면 함수처럼 쓸 수 있다는 것을 알아두자~"
   ]
  },
  {
   "cell_type": "markdown",
   "id": "4f81fd6e-42ab-4071-b7a9-3bd608b6acb4",
   "metadata": {},
   "source": [
    "- mseloss_fn = tf.keras.losses.MSE 라고 보면 된다"
   ]
  },
  {
   "cell_type": "code",
   "execution_count": 191,
   "id": "86685f6a-67f3-41bf-9998-99487f2a9856",
   "metadata": {},
   "outputs": [
    {
     "data": {
      "text/plain": [
       "<tf.Tensor: shape=(), dtype=float64, numpy=0.25493940711021423>"
      ]
     },
     "execution_count": 191,
     "metadata": {},
     "output_type": "execute_result"
    }
   ],
   "source": [
    "mseloss_fn(y.reshape(-1),yhat.reshape(-1))"
   ]
  },
  {
   "cell_type": "code",
   "execution_count": 192,
   "id": "bef45bbc-6ea5-4687-ab18-18d65d4cc4cc",
   "metadata": {},
   "outputs": [],
   "source": [
    "def loss_fn():\n",
    "    yhat= X@beta_hat\n",
    "    loss = mseloss_fn(y.reshape(-1),yhat.reshape(-1))\n",
    "    return loss"
   ]
  },
  {
   "cell_type": "code",
   "execution_count": 193,
   "id": "374f3b9b-320e-4e7a-a2e7-f94bc216ebed",
   "metadata": {},
   "outputs": [],
   "source": [
    "for epoc in range(1000):\n",
    "    opt.minimize(loss_fn,beta_hat) # 미분 + update "
   ]
  },
  {
   "cell_type": "code",
   "execution_count": 194,
   "id": "ae576dde-fc42-4656-8e46-d7bf776e47df",
   "metadata": {},
   "outputs": [
    {
     "data": {
      "text/plain": [
       "<tf.Variable 'Variable:0' shape=(2, 1) dtype=float64, numpy=\n",
       "array([[2.58366061],\n",
       "       [3.93304684]])>"
      ]
     },
     "execution_count": 194,
     "metadata": {},
     "output_type": "execute_result"
    }
   ],
   "source": [
    "beta_hat"
   ]
  },
  {
   "cell_type": "markdown",
   "id": "5c9ae11b-1473-4a75-83b1-4216d514fba9",
   "metadata": {},
   "source": [
    "---"
   ]
  },
  {
   "cell_type": "markdown",
   "id": "c341de3b-a479-41ff-9091-ee1f50f6ce3c",
   "metadata": {},
   "source": [
    "**🥸케라스로 회귀분석 풀기🥸**"
   ]
  },
  {
   "cell_type": "markdown",
   "id": "bc382f53-9b01-44f7-b62c-08dd158132bb",
   "metadata": {
    "id": "bc382f53-9b01-44f7-b62c-08dd158132bb"
   },
   "source": [
    "### tf.keras.Sequential"
   ]
  },
  {
   "cell_type": "markdown",
   "id": "898fb22e-89bf-4e73-94d9-4370898e9592",
   "metadata": {
    "id": "898fb22e-89bf-4e73-94d9-4370898e9592"
   },
   "source": [
    "`-` $\\hat{y}_i=\\hat{\\beta}_0+\\hat{\\beta}_1x_i$ 의 서로다른 표현 "
   ]
  },
  {
   "cell_type": "code",
   "execution_count": 195,
   "id": "d6645006-7871-4cec-959f-4f77cbc7df06",
   "metadata": {
    "id": "d6645006-7871-4cec-959f-4f77cbc7df06"
   },
   "outputs": [],
   "source": [
    "import graphviz\n",
    "def gv(s): return graphviz.Source('digraph G{ rankdir=\"LR\"'+s + '; }')"
   ]
  },
  {
   "cell_type": "code",
   "execution_count": 200,
   "id": "912037ce-376d-4eac-9c01-7dfd2b681549",
   "metadata": {
    "id": "912037ce-376d-4eac-9c01-7dfd2b681549",
    "outputId": "85f05557-5646-42be-9a9d-372f870f5f09"
   },
   "outputs": [
    {
     "data": {
      "image/svg+xml": [
       "<?xml version=\"1.0\" encoding=\"UTF-8\" standalone=\"no\"?>\n",
       "<!DOCTYPE svg PUBLIC \"-//W3C//DTD SVG 1.1//EN\"\n",
       " \"http://www.w3.org/Graphics/SVG/1.1/DTD/svg11.dtd\">\n",
       "<!-- Generated by graphviz version 3.0.0 (20220315.2325)\n",
       " -->\n",
       "<!-- Title: G Pages: 1 -->\n",
       "<svg width=\"727pt\" height=\"98pt\"\n",
       " viewBox=\"0.00 0.00 726.86 98.00\" xmlns=\"http://www.w3.org/2000/svg\" xmlns:xlink=\"http://www.w3.org/1999/xlink\">\n",
       "<g id=\"graph0\" class=\"graph\" transform=\"scale(1 1) rotate(0) translate(4 94)\">\n",
       "<title>G</title>\n",
       "<polygon fill=\"white\" stroke=\"transparent\" points=\"-4,4 -4,-94 722.86,-94 722.86,4 -4,4\"/>\n",
       "<!-- 1 -->\n",
       "<g id=\"node1\" class=\"node\">\n",
       "<title>1</title>\n",
       "<ellipse fill=\"none\" stroke=\"black\" cx=\"27\" cy=\"-72\" rx=\"27\" ry=\"18\"/>\n",
       "<text text-anchor=\"middle\" x=\"27\" y=\"-68.3\" font-family=\"Times,serif\" font-size=\"14.00\">1</text>\n",
       "</g>\n",
       "<!-- beta0_hat + x*beta1_hat, &#160;&#160;&#160;bias=False -->\n",
       "<g id=\"node2\" class=\"node\">\n",
       "<title>beta0_hat + x*beta1_hat, &#160;&#160;&#160;bias=False</title>\n",
       "<ellipse fill=\"none\" stroke=\"black\" cx=\"363.73\" cy=\"-45\" rx=\"191.97\" ry=\"18\"/>\n",
       "<text text-anchor=\"middle\" x=\"363.73\" y=\"-41.3\" font-family=\"Times,serif\" font-size=\"14.00\">beta0_hat + x*beta1_hat, &#160;&#160;&#160;bias=False</text>\n",
       "</g>\n",
       "<!-- 1&#45;&gt;beta0_hat + x*beta1_hat, &#160;&#160;&#160;bias=False -->\n",
       "<g id=\"edge1\" class=\"edge\">\n",
       "<title>1&#45;&gt;beta0_hat + x*beta1_hat, &#160;&#160;&#160;bias=False</title>\n",
       "<path fill=\"none\" stroke=\"black\" d=\"M53.99,-69.9C87.46,-67.2 148.36,-62.29 207.28,-57.54\"/>\n",
       "<polygon fill=\"black\" stroke=\"black\" points=\"207.79,-61.01 217.48,-56.72 207.23,-54.03 207.79,-61.01\"/>\n",
       "<text text-anchor=\"middle\" x=\"113\" y=\"-71.8\" font-family=\"Times,serif\" font-size=\"14.00\">* beta0_hat</text>\n",
       "</g>\n",
       "<!-- yhat -->\n",
       "<g id=\"node4\" class=\"node\">\n",
       "<title>yhat</title>\n",
       "<ellipse fill=\"none\" stroke=\"black\" cx=\"687.66\" cy=\"-45\" rx=\"31.4\" ry=\"18\"/>\n",
       "<text text-anchor=\"middle\" x=\"687.66\" y=\"-41.3\" font-family=\"Times,serif\" font-size=\"14.00\">yhat</text>\n",
       "</g>\n",
       "<!-- beta0_hat + x*beta1_hat, &#160;&#160;&#160;bias=False&#45;&gt;yhat -->\n",
       "<g id=\"edge3\" class=\"edge\">\n",
       "<title>beta0_hat + x*beta1_hat, &#160;&#160;&#160;bias=False&#45;&gt;yhat</title>\n",
       "<path fill=\"none\" stroke=\"black\" d=\"M555.72,-45C589.92,-45 622.25,-45 646.23,-45\"/>\n",
       "<polygon fill=\"black\" stroke=\"black\" points=\"646.3,-48.5 656.3,-45 646.3,-41.5 646.3,-48.5\"/>\n",
       "<text text-anchor=\"middle\" x=\"605.97\" y=\"-48.8\" font-family=\"Times,serif\" font-size=\"14.00\">indentity</text>\n",
       "</g>\n",
       "<!-- x -->\n",
       "<g id=\"node3\" class=\"node\">\n",
       "<title>x</title>\n",
       "<ellipse fill=\"none\" stroke=\"black\" cx=\"27\" cy=\"-18\" rx=\"27\" ry=\"18\"/>\n",
       "<text text-anchor=\"middle\" x=\"27\" y=\"-14.3\" font-family=\"Times,serif\" font-size=\"14.00\">x</text>\n",
       "</g>\n",
       "<!-- x&#45;&gt;beta0_hat + x*beta1_hat, &#160;&#160;&#160;bias=False -->\n",
       "<g id=\"edge2\" class=\"edge\">\n",
       "<title>x&#45;&gt;beta0_hat + x*beta1_hat, &#160;&#160;&#160;bias=False</title>\n",
       "<path fill=\"none\" stroke=\"black\" d=\"M53.99,-20.1C87.46,-22.8 148.36,-27.71 207.28,-32.46\"/>\n",
       "<polygon fill=\"black\" stroke=\"black\" points=\"207.23,-35.97 217.48,-33.28 207.79,-28.99 207.23,-35.97\"/>\n",
       "<text text-anchor=\"middle\" x=\"113\" y=\"-30.8\" font-family=\"Times,serif\" font-size=\"14.00\">* beta1_hat</text>\n",
       "</g>\n",
       "</g>\n",
       "</svg>\n"
      ],
      "text/plain": [
       "<graphviz.sources.Source at 0x7fdb302e34c0>"
      ]
     },
     "execution_count": 200,
     "metadata": {},
     "output_type": "execute_result"
    }
   ],
   "source": [
    "gv(''' \n",
    "    \"1\" -> \"beta0_hat + x*beta1_hat,    bias=False\"[label=\"* beta0_hat\"]\n",
    "    \"x\" -> \"beta0_hat + x*beta1_hat,    bias=False\"[label=\"* beta1_hat\"]\n",
    "    \"beta0_hat + x*beta1_hat,    bias=False\" -> \"yhat\"[label=\"indentity\"]\n",
    "    ''')"
   ]
  },
  {
   "cell_type": "markdown",
   "id": "61a5656a-2f3c-477d-a306-d5dc0965be3b",
   "metadata": {},
   "source": [
    "> indentity : 항등식  \n",
    "> 입력 -> layer -> 출력 구조"
   ]
  },
  {
   "cell_type": "code",
   "execution_count": 197,
   "id": "a57cf1ac-1e13-488b-9d5e-dc9323b8864f",
   "metadata": {
    "id": "a57cf1ac-1e13-488b-9d5e-dc9323b8864f",
    "outputId": "2bc86cfc-aa30-4717-e129-eb403811ac6a"
   },
   "outputs": [
    {
     "data": {
      "image/svg+xml": [
       "<?xml version=\"1.0\" encoding=\"UTF-8\" standalone=\"no\"?>\n",
       "<!DOCTYPE svg PUBLIC \"-//W3C//DTD SVG 1.1//EN\"\n",
       " \"http://www.w3.org/Graphics/SVG/1.1/DTD/svg11.dtd\">\n",
       "<!-- Generated by graphviz version 3.0.0 (20220315.2325)\n",
       " -->\n",
       "<!-- Title: G Pages: 1 -->\n",
       "<svg width=\"598pt\" height=\"44pt\"\n",
       " viewBox=\"0.00 0.00 598.07 44.00\" xmlns=\"http://www.w3.org/2000/svg\" xmlns:xlink=\"http://www.w3.org/1999/xlink\">\n",
       "<g id=\"graph0\" class=\"graph\" transform=\"scale(1 1) rotate(0) translate(4 40)\">\n",
       "<title>G</title>\n",
       "<polygon fill=\"white\" stroke=\"transparent\" points=\"-4,4 -4,-40 594.07,-40 594.07,4 -4,4\"/>\n",
       "<!-- x -->\n",
       "<g id=\"node1\" class=\"node\">\n",
       "<title>x</title>\n",
       "<ellipse fill=\"none\" stroke=\"black\" cx=\"27\" cy=\"-18\" rx=\"27\" ry=\"18\"/>\n",
       "<text text-anchor=\"middle\" x=\"27\" y=\"-14.3\" font-family=\"Times,serif\" font-size=\"14.00\">x</text>\n",
       "</g>\n",
       "<!-- x*beta1_hat, &#160;&#160;&#160;bias=True -->\n",
       "<g id=\"node2\" class=\"node\">\n",
       "<title>x*beta1_hat, &#160;&#160;&#160;bias=True</title>\n",
       "<ellipse fill=\"none\" stroke=\"black\" cx=\"297.34\" cy=\"-18\" rx=\"129.18\" ry=\"18\"/>\n",
       "<text text-anchor=\"middle\" x=\"297.34\" y=\"-14.3\" font-family=\"Times,serif\" font-size=\"14.00\">x*beta1_hat, &#160;&#160;&#160;bias=True</text>\n",
       "</g>\n",
       "<!-- x&#45;&gt;x*beta1_hat, &#160;&#160;&#160;bias=True -->\n",
       "<g id=\"edge1\" class=\"edge\">\n",
       "<title>x&#45;&gt;x*beta1_hat, &#160;&#160;&#160;bias=True</title>\n",
       "<path fill=\"none\" stroke=\"black\" d=\"M54.22,-18C78.96,-18 118.07,-18 157.71,-18\"/>\n",
       "<polygon fill=\"black\" stroke=\"black\" points=\"157.79,-21.5 167.79,-18 157.79,-14.5 157.79,-21.5\"/>\n",
       "<text text-anchor=\"middle\" x=\"111\" y=\"-21.8\" font-family=\"Times,serif\" font-size=\"14.00\">*beta1_hat</text>\n",
       "</g>\n",
       "<!-- yhat -->\n",
       "<g id=\"node3\" class=\"node\">\n",
       "<title>yhat</title>\n",
       "<ellipse fill=\"none\" stroke=\"black\" cx=\"558.87\" cy=\"-18\" rx=\"31.4\" ry=\"18\"/>\n",
       "<text text-anchor=\"middle\" x=\"558.87\" y=\"-14.3\" font-family=\"Times,serif\" font-size=\"14.00\">yhat</text>\n",
       "</g>\n",
       "<!-- x*beta1_hat, &#160;&#160;&#160;bias=True&#45;&gt;yhat -->\n",
       "<g id=\"edge2\" class=\"edge\">\n",
       "<title>x*beta1_hat, &#160;&#160;&#160;bias=True&#45;&gt;yhat</title>\n",
       "<path fill=\"none\" stroke=\"black\" d=\"M426.97,-18C459.87,-18 492.87,-18 517.5,-18\"/>\n",
       "<polygon fill=\"black\" stroke=\"black\" points=\"517.53,-21.5 527.53,-18 517.53,-14.5 517.53,-21.5\"/>\n",
       "<text text-anchor=\"middle\" x=\"477.18\" y=\"-21.8\" font-family=\"Times,serif\" font-size=\"14.00\">indentity</text>\n",
       "</g>\n",
       "</g>\n",
       "</svg>\n"
      ],
      "text/plain": [
       "<graphviz.sources.Source at 0x7fdb481a69b0>"
      ]
     },
     "execution_count": 197,
     "metadata": {},
     "output_type": "execute_result"
    }
   ],
   "source": [
    "gv('''\n",
    "\"x\" -> \"x*beta1_hat,    bias=True\"[label=\"*beta1_hat\"] ;\n",
    "\"x*beta1_hat,    bias=True\" -> \"yhat\"[label=\"indentity\"] ''')\n"
   ]
  },
  {
   "cell_type": "markdown",
   "id": "4d450219-713a-4f1a-8659-17ad79c607a1",
   "metadata": {},
   "source": [
    "> bias=True는 +beta0_hat과 같은 상수term을 생략했다는 의미"
   ]
  },
  {
   "cell_type": "code",
   "execution_count": 198,
   "id": "6b6cacce-e9e7-40cc-8481-0eaabbedb4dc",
   "metadata": {
    "id": "6b6cacce-e9e7-40cc-8481-0eaabbedb4dc",
    "outputId": "d172d0e9-843c-4a47-a3fc-c67a167876ed"
   },
   "outputs": [
    {
     "data": {
      "image/svg+xml": [
       "<?xml version=\"1.0\" encoding=\"UTF-8\" standalone=\"no\"?>\n",
       "<!DOCTYPE svg PUBLIC \"-//W3C//DTD SVG 1.1//EN\"\n",
       " \"http://www.w3.org/Graphics/SVG/1.1/DTD/svg11.dtd\">\n",
       "<!-- Generated by graphviz version 3.0.0 (20220315.2325)\n",
       " -->\n",
       "<!-- Title: G Pages: 1 -->\n",
       "<svg width=\"640pt\" height=\"44pt\"\n",
       " viewBox=\"0.00 0.00 639.56 44.00\" xmlns=\"http://www.w3.org/2000/svg\" xmlns:xlink=\"http://www.w3.org/1999/xlink\">\n",
       "<g id=\"graph0\" class=\"graph\" transform=\"scale(1 1) rotate(0) translate(4 40)\">\n",
       "<title>G</title>\n",
       "<polygon fill=\"white\" stroke=\"transparent\" points=\"-4,4 -4,-40 635.56,-40 635.56,4 -4,4\"/>\n",
       "<!-- X=[1 x] -->\n",
       "<g id=\"node1\" class=\"node\">\n",
       "<title>X=[1 x]</title>\n",
       "<ellipse fill=\"none\" stroke=\"black\" cx=\"46.15\" cy=\"-18\" rx=\"46.29\" ry=\"18\"/>\n",
       "<text text-anchor=\"middle\" x=\"46.15\" y=\"-14.3\" font-family=\"Times,serif\" font-size=\"14.00\">X=[1 x]</text>\n",
       "</g>\n",
       "<!-- X@beta_hat, &#160;&#160;&#160;bias=False -->\n",
       "<g id=\"node2\" class=\"node\">\n",
       "<title>X@beta_hat, &#160;&#160;&#160;bias=False</title>\n",
       "<ellipse fill=\"none\" stroke=\"black\" cx=\"336.23\" cy=\"-18\" rx=\"131.88\" ry=\"18\"/>\n",
       "<text text-anchor=\"middle\" x=\"336.23\" y=\"-14.3\" font-family=\"Times,serif\" font-size=\"14.00\">X@beta_hat, &#160;&#160;&#160;bias=False</text>\n",
       "</g>\n",
       "<!-- X=[1 x]&#45;&gt;X@beta_hat, &#160;&#160;&#160;bias=False -->\n",
       "<g id=\"edge1\" class=\"edge\">\n",
       "<title>X=[1 x]&#45;&gt;X@beta_hat, &#160;&#160;&#160;bias=False</title>\n",
       "<path fill=\"none\" stroke=\"black\" d=\"M92.48,-18C120.07,-18 156.97,-18 193.66,-18\"/>\n",
       "<polygon fill=\"black\" stroke=\"black\" points=\"193.99,-21.5 203.99,-18 193.99,-14.5 193.99,-21.5\"/>\n",
       "<text text-anchor=\"middle\" x=\"148.29\" y=\"-21.8\" font-family=\"Times,serif\" font-size=\"14.00\">@beta_hat</text>\n",
       "</g>\n",
       "<!-- yhat -->\n",
       "<g id=\"node3\" class=\"node\">\n",
       "<title>yhat</title>\n",
       "<ellipse fill=\"none\" stroke=\"black\" cx=\"600.37\" cy=\"-18\" rx=\"31.4\" ry=\"18\"/>\n",
       "<text text-anchor=\"middle\" x=\"600.37\" y=\"-14.3\" font-family=\"Times,serif\" font-size=\"14.00\">yhat</text>\n",
       "</g>\n",
       "<!-- X@beta_hat, &#160;&#160;&#160;bias=False&#45;&gt;yhat -->\n",
       "<g id=\"edge2\" class=\"edge\">\n",
       "<title>X@beta_hat, &#160;&#160;&#160;bias=False&#45;&gt;yhat</title>\n",
       "<path fill=\"none\" stroke=\"black\" d=\"M468.3,-18C501.34,-18 534.38,-18 559.02,-18\"/>\n",
       "<polygon fill=\"black\" stroke=\"black\" points=\"559.04,-21.5 569.04,-18 559.04,-14.5 559.04,-21.5\"/>\n",
       "<text text-anchor=\"middle\" x=\"518.67\" y=\"-21.8\" font-family=\"Times,serif\" font-size=\"14.00\">indentity</text>\n",
       "</g>\n",
       "</g>\n",
       "</svg>\n"
      ],
      "text/plain": [
       "<graphviz.sources.Source at 0x7fdb481ae560>"
      ]
     },
     "execution_count": 198,
     "metadata": {},
     "output_type": "execute_result"
    }
   ],
   "source": [
    "gv('''\n",
    "\"X=[1 x]\" -> \"X@beta_hat,    bias=False\"[label=\"@beta_hat\"] ;\n",
    "\"X@beta_hat,    bias=False\" -> \"yhat\"[label=\"indentity\"] ''')\n"
   ]
  },
  {
   "cell_type": "markdown",
   "id": "006b4d86-bebc-4a20-9497-911b2fbd8463",
   "metadata": {},
   "source": [
    "> 벡터 버전으로 하면 위와 같다"
   ]
  },
  {
   "cell_type": "markdown",
   "id": "755caa9d-a9d5-40b0-9006-bbc9bbb64800",
   "metadata": {
    "id": "755caa9d-a9d5-40b0-9006-bbc9bbb64800"
   },
   "source": [
    "#### 풀이1: 벡터버전, 사용자정의 손실함수 "
   ]
  },
  {
   "cell_type": "markdown",
   "id": "15875d56-087b-4ea5-abd7-1e7ce4225aad",
   "metadata": {
    "id": "15875d56-087b-4ea5-abd7-1e7ce4225aad"
   },
   "source": [
    "`-` 포인트\n",
    "```python\n",
    "## 포인트코드1: 네트워크 생성 \n",
    "net = tf.keras.Sequential()\n",
    "\n",
    "## 포인트코드2: 네트워크의 아키텍처 설계 \n",
    "net.add(tf.keras.layers.Dense(1,input_shape=(2,),use_bias=False)) \n",
    "\n",
    "## 포인트코드3: 네트워크 컴파일 = 아키텍처 + 손실함수 + 옵티마이저\n",
    "net.compile(opt,loss=loss_fn2)\n",
    "\n",
    "## 포인트코드4: 미분 & update \n",
    "net.fit(X,y,epochs=1000,verbose=0,batch_size=N) \n",
    "```"
   ]
  },
  {
   "cell_type": "markdown",
   "id": "e041955b-ec65-40d5-91c6-1aa9ab3ebd4d",
   "metadata": {},
   "source": [
    "`-` 레이어 : 입력 -> 레이어 -> 출력 / 입력 -> 레이어1 -> 출력/입력 -> 레이어2 -> 출력 : 입력이 들어가는 어떠한 층\n",
    "\n",
    "`-` 네트워크 : 레이어들의 집합"
   ]
  },
  {
   "cell_type": "code",
   "execution_count": 229,
   "id": "71268a67-c58a-44a0-9582-ae8e1c649856",
   "metadata": {},
   "outputs": [],
   "source": [
    "net = tf.keras.Sequential()"
   ]
  },
  {
   "cell_type": "code",
   "execution_count": 230,
   "id": "fd0ebd65-fa97-4cc1-b900-a13ab67ed046",
   "metadata": {},
   "outputs": [],
   "source": [
    "net.add(tf.keras.layers.Dense(units=1, input_shape=(2,), use_bias=False))  #네트워크에 레이어 추가, yhat을 구하는 방법 정의 = 아키텍쳐가 설계"
   ]
  },
  {
   "cell_type": "markdown",
   "id": "7936f41c-94fe-4b7b-9f23-857e4dea4c62",
   "metadata": {},
   "source": [
    "- units는 layer의 출력의 차원, 이 경우는 yhat의 차원, yhat은 (200,1)이므로 1임.\n",
    "- input_shape는 layer의 입력 차원, 이 경우는 X, X는 (200,2)이므로 2임.\n",
    "- observation 수는 무시!!"
   ]
  },
  {
   "cell_type": "code",
   "execution_count": 231,
   "id": "a1919de1-953e-4990-9e10-eab348677d69",
   "metadata": {},
   "outputs": [
    {
     "name": "stdout",
     "output_type": "stream",
     "text": [
      "Model: \"sequential_2\"\n",
      "_________________________________________________________________\n",
      " Layer (type)                Output Shape              Param #   \n",
      "=================================================================\n",
      " dense_6 (Dense)             (None, 1)                 2         \n",
      "                                                                 \n",
      "=================================================================\n",
      "Total params: 2\n",
      "Trainable params: 2\n",
      "Non-trainable params: 0\n",
      "_________________________________________________________________\n"
     ]
    }
   ],
   "source": [
    "net.summary()  #뭔가 만들어졌다!"
   ]
  },
  {
   "cell_type": "code",
   "execution_count": 249,
   "id": "d95dee7e-762a-4efb-a2bc-fe2c0477123f",
   "metadata": {},
   "outputs": [],
   "source": [
    "def loss_fn2(y,yhat):\n",
    "    return (y-yhat).T @ (y-yhat) / N"
   ]
  },
  {
   "cell_type": "code",
   "execution_count": 250,
   "id": "94d070bf-f010-4d20-b2ae-ef293e761a4c",
   "metadata": {},
   "outputs": [],
   "source": [
    "alpha = 0.1\n",
    "opt = tf.optimizers.SGD(alpha)"
   ]
  },
  {
   "cell_type": "code",
   "execution_count": 251,
   "id": "738c60bb-a271-4161-8da8-a137cec28143",
   "metadata": {},
   "outputs": [],
   "source": [
    "#초기값 설정하기\n",
    "_w = net.get_weights()"
   ]
  },
  {
   "cell_type": "code",
   "execution_count": 252,
   "id": "171b9a86-e53f-4671-98c3-00cc455dc74b",
   "metadata": {},
   "outputs": [
    {
     "data": {
      "text/plain": [
       "list"
      ]
     },
     "execution_count": 252,
     "metadata": {},
     "output_type": "execute_result"
    }
   ],
   "source": [
    "type(_w)  #array가 들어가 있는 리스트"
   ]
  },
  {
   "cell_type": "code",
   "execution_count": 253,
   "id": "be887403-896d-423e-8324-b35d7d69e64b",
   "metadata": {},
   "outputs": [
    {
     "data": {
      "text/plain": [
       "numpy.ndarray"
      ]
     },
     "execution_count": 253,
     "metadata": {},
     "output_type": "execute_result"
    }
   ],
   "source": [
    "type(_w[0])"
   ]
  },
  {
   "cell_type": "code",
   "execution_count": 254,
   "id": "b081e98d-89d7-484c-8389-dcb5ebb96131",
   "metadata": {},
   "outputs": [
    {
     "data": {
      "text/plain": [
       "[array([[2.58366 ],\n",
       "        [3.933048]], dtype=float32)]"
      ]
     },
     "execution_count": 254,
     "metadata": {},
     "output_type": "execute_result"
    }
   ],
   "source": [
    "_w"
   ]
  },
  {
   "cell_type": "code",
   "execution_count": 255,
   "id": "c69a2ff8-99e1-4922-b4c1-838434989a17",
   "metadata": {},
   "outputs": [
    {
     "data": {
      "text/plain": [
       "[array([[-5.],\n",
       "        [10.]], dtype=float32)]"
      ]
     },
     "execution_count": 255,
     "metadata": {},
     "output_type": "execute_result"
    }
   ],
   "source": [
    "[np.array([[-5.0],[10.0]],dtype=np.float32)]"
   ]
  },
  {
   "cell_type": "code",
   "execution_count": 256,
   "id": "6c134c75-f380-4fd6-9312-bfa2c418d291",
   "metadata": {},
   "outputs": [],
   "source": [
    "net.set_weights([np.array([[-5.0],[10.0]],dtype=np.float32)])"
   ]
  },
  {
   "cell_type": "code",
   "execution_count": 245,
   "id": "3ba948d6-202f-403f-b681-15aaa3550715",
   "metadata": {},
   "outputs": [],
   "source": [
    "# 아키텍처 + 손실함수 + 옵티마이저 => 네트워크에 다 합치자 => 네트워크를 컴파일한다.\n",
    "net.compile(opt,loss_fn2)"
   ]
  },
  {
   "cell_type": "code",
   "execution_count": 260,
   "id": "6253aeaf-4d02-40ab-8e0e-033f39a23ea3",
   "metadata": {},
   "outputs": [],
   "source": [
    "# 아키텍처 + 손실함수 + 옵티마이저 => 네트워크에 다 합치자 => 네트워크를 컴파일한다.\n",
    "net.compile(opt,loss=tf.losses.MSE)  #loss도 그냥 있는 거 쓰자"
   ]
  },
  {
   "cell_type": "code",
   "execution_count": 258,
   "id": "61ee37ce-1ee2-4395-86d3-a2034d3215a6",
   "metadata": {},
   "outputs": [
    {
     "data": {
      "text/plain": [
       "<keras.callbacks.History at 0x7fdaf32a5ae0>"
      ]
     },
     "execution_count": 258,
     "metadata": {},
     "output_type": "execute_result"
    }
   ],
   "source": [
    "# 미분 + 파라미터 업데이트 = net.fit\n",
    "net.fit(X, y, epochs=1000, batch_size=N,verbose=0)"
   ]
  },
  {
   "cell_type": "code",
   "execution_count": 259,
   "id": "3d1b012c-3e7b-4f66-b2d7-bf01e38bf219",
   "metadata": {},
   "outputs": [
    {
     "data": {
      "text/plain": [
       "[<tf.Variable 'dense_6/kernel:0' shape=(2, 1) dtype=float32, numpy=\n",
       " array([[2.58366 ],\n",
       "        [3.933048]], dtype=float32)>]"
      ]
     },
     "execution_count": 259,
     "metadata": {},
     "output_type": "execute_result"
    }
   ],
   "source": [
    "net.weights"
   ]
  }
 ],
 "metadata": {
  "colab": {
   "name": "2022-03-30-(5주차) 4월4일.ipynb",
   "provenance": []
  },
  "kernelspec": {
   "display_name": "Python 3 (ipykernel)",
   "language": "python",
   "name": "python3"
  },
  "language_info": {
   "codemirror_mode": {
    "name": "ipython",
    "version": 3
   },
   "file_extension": ".py",
   "mimetype": "text/x-python",
   "name": "python",
   "nbconvert_exporter": "python",
   "pygments_lexer": "ipython3",
   "version": "3.10.4"
  }
 },
 "nbformat": 4,
 "nbformat_minor": 5
}
