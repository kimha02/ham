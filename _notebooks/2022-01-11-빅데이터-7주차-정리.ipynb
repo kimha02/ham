{
 "cells": [
  {
   "cell_type": "markdown",
   "id": "def6fcea-6a70-4c65-9730-c866b6d00ed1",
   "metadata": {
    "id": "67a097ac-8d49-4481-ac5a-62838b3b7249",
    "tags": []
   },
   "source": [
    "# (공부) 빅데이터 수업 정리\n",
    "> 7주차(21/10/21~21/10/28)\n",
    "\n",
    "- toc:true\n",
    "- branch: master\n",
    "- badges: true\n",
    "- comments: true\n",
    "- author: 김하영"
   ]
  },
  {
   "cell_type": "markdown",
   "id": "4312927f-f5ba-4ad6-bdd7-259afe9e35c0",
   "metadata": {},
   "source": [
    "---"
   ]
  },
  {
   "cell_type": "markdown",
   "id": "60d18466-3535-48dc-961e-3919d5362fc8",
   "metadata": {
    "id": "84609931-b98d-40d2-9ca9-912e3f98f3ca"
   },
   "source": [
    "### import "
   ]
  },
  {
   "cell_type": "code",
   "execution_count": 1,
   "id": "85a09678-85a0-46a3-a03d-a244b4a49d8c",
   "metadata": {
    "id": "94447313-55da-4ba4-ae45-96e96a7e8da1"
   },
   "outputs": [],
   "source": [
    "import torch \n",
    "from fastai.vision.all import * "
   ]
  },
  {
   "cell_type": "code",
   "execution_count": 2,
   "id": "a1770f90-bf50-4daf-9ddf-9c83dd5456d1",
   "metadata": {
    "id": "0bedb3e2-9017-4089-83b3-9af34bba047a"
   },
   "outputs": [],
   "source": [
    "import graphviz"
   ]
  },
  {
   "cell_type": "code",
   "execution_count": 3,
   "id": "c3dac1ea-b06b-4c4b-82cf-177d31ffe1f8",
   "metadata": {
    "id": "7b2e79da-4995-4036-b098-57da5da84da1"
   },
   "outputs": [],
   "source": [
    "def gv(s): return graphviz.Source('digraph G{ rankdir=\"LR\"'+ s + ';}')"
   ]
  },
  {
   "cell_type": "markdown",
   "id": "ed2e287b-c717-4da7-9089-2383a71573e7",
   "metadata": {
    "id": "a259f5e0-92b3-4afc-a15d-55128ddf019f"
   },
   "source": [
    "### data "
   ]
  },
  {
   "cell_type": "code",
   "execution_count": 4,
   "id": "235b04cb-1ef5-4101-af1a-bf8cbcc49e31",
   "metadata": {
    "id": "eefa10af-44a1-4dc1-b8e7-99782aa35838"
   },
   "outputs": [],
   "source": [
    "path = untar_data(URLs.MNIST_SAMPLE)"
   ]
  },
  {
   "cell_type": "code",
   "execution_count": 5,
   "id": "5e13e6a2-887e-4e23-85ca-c4b7771bd771",
   "metadata": {
    "id": "a3c3efc0-189f-4643-8ec7-e22bb07c5ed7",
    "outputId": "c8d8bbcc-ee8c-481b-aae5-7f927480adad"
   },
   "outputs": [
    {
     "data": {
      "text/plain": [
       "(#3) [Path('/home/khy/.fastai/data/mnist_sample/train'),Path('/home/khy/.fastai/data/mnist_sample/valid'),Path('/home/khy/.fastai/data/mnist_sample/labels.csv')]"
      ]
     },
     "execution_count": 5,
     "metadata": {},
     "output_type": "execute_result"
    }
   ],
   "source": [
    "path.ls()"
   ]
  },
  {
   "cell_type": "markdown",
   "id": "57864871-9fa5-4c06-bb3d-d331270e2369",
   "metadata": {
    "id": "bc644873-334d-436b-9e1f-88a239b37836"
   },
   "source": [
    "`-` list "
   ]
  },
  {
   "cell_type": "code",
   "execution_count": 6,
   "id": "f0f5cad2-76b1-4f44-bdc6-b66c6d5eb280",
   "metadata": {
    "id": "585a1726-58e6-41b4-8909-e823aa6cd06c"
   },
   "outputs": [],
   "source": [
    "threes=(path/'train'/'3').ls()\n",
    "sevens=(path/'train'/'7').ls()"
   ]
  },
  {
   "cell_type": "markdown",
   "id": "ee90b377-9005-4746-8750-8664636cbc4b",
   "metadata": {
    "id": "8d531782-2666-499c-9131-de641f256275"
   },
   "source": [
    "`-` list $\\to$ image "
   ]
  },
  {
   "cell_type": "code",
   "execution_count": 7,
   "id": "b209e433-4f10-4d77-b15a-4b47983e5f00",
   "metadata": {
    "id": "ef6bdd32-14ac-4024-a0e3-3347813bd0c6",
    "outputId": "290376eb-9b53-4531-ce92-8909b312c0dd"
   },
   "outputs": [
    {
     "data": {
      "image/png": "[encoded data removed]",
      "text/plain": [
       "<PIL.PngImagePlugin.PngImageFile image mode=L size=28x28 at 0x7F39B83A68B0>"
      ]
     },
     "execution_count": 7,
     "metadata": {},
     "output_type": "execute_result"
    }
   ],
   "source": [
    "Image.open(threes[4])"
   ]
  },
  {
   "cell_type": "markdown",
   "id": "19e5436a-dd32-4629-aea8-90e30d8104ec",
   "metadata": {
    "id": "390c7430-3e09-4749-80e5-da59fbbe274c"
   },
   "source": [
    "`-` image $\\to$ tensor "
   ]
  },
  {
   "cell_type": "code",
   "execution_count": 8,
   "id": "1643b218-ea56-43f5-85fb-39da67fdd3be",
   "metadata": {
    "id": "57e47fe6-7218-43fb-9559-74e6245945f0",
    "outputId": "d04d9b2a-68be-4a07-a8ca-f90d33e7ccc9"
   },
   "outputs": [
    {
     "data": {
      "text/plain": [
       "tensor([[  0,   0,   0,   0,   0,   0,   0,   0,   0,   0,   0,   0,   0,   0,\n",
       "           0,   0,   0,   0,   0,   0,   0,   0,   0,   0,   0,   0,   0,   0],\n",
       "        [  0,   0,   0,   0,   0,   0,   0,   0,   0,   0,   0,   0,   0,   0,\n",
       "           0,   0,   0,   0,   0,   0,   0,   0,   0,   0,   0,   0,   0,   0],\n",
       "        [  0,   0,   0,   0,   0,   0,   0,   0,   0,   0,   0,   0,   0,   0,\n",
       "           0,   0,   0,   0,   0,   0,   0,   0,   0,   0,   0,   0,   0,   0],\n",
       "        [  0,   0,   0,   0,   0,   0,   0,   0,   0,   0,   0,   0,   0,   0,\n",
       "           0,   0,   0,   0,   0,   0,   0,   0,   0,   0,   0,   0,   0,   0],\n",
       "        [  0,   0,   0,   0,   0,   0,   0,   0,   0,   0,   0,   0,   0,   0,\n",
       "           0,   0,   0,   0,   0,   0,   0,   0,   0,   0,   0,   0,   0,   0],\n",
       "        [  0,   0,   0,   0,   0,   0,   0,   0,   0,   0,  36, 211, 254, 254,\n",
       "         241, 144, 144,  35,   0,   0,   0,   0,   0,   0,   0,   0,   0,   0],\n",
       "        [  0,   0,   0,   0,   0,   0,   0,   0,   0,  62, 247, 253, 253, 253,\n",
       "         254, 253, 253, 247,  91,   0,   0,   0,   0,   0,   0,   0,   0,   0],\n",
       "        [  0,   0,   0,   0,   0,   0,   0,   0,   0,  89, 253, 236, 154, 154,\n",
       "         154, 223, 253, 253, 244, 171,  52,   0,   0,   0,   0,   0,   0,   0],\n",
       "        [  0,   0,   0,   0,   0,   0,   0,   0,   0,  81, 241,  95,   0,   0,\n",
       "           0,   7,  54, 229, 253, 253, 141,   0,   0,   0,   0,   0,   0,   0],\n",
       "        [  0,   0,   0,   0,   0,   0,   0,   0,   0,   0,  39,   0,   0,   0,\n",
       "           0,   0,   0,  23, 253, 253, 250,  65,   0,   0,   0,   0,   0,   0],\n",
       "        [  0,   0,   0,   0,   0,   0,   0,   0,   0,   0,   0,   0,   0,   0,\n",
       "           0,   0,  35, 199, 253, 253, 206,  22,   0,   0,   0,   0,   0,   0],\n",
       "        [  0,   0,   0,   0,   0,   0,   0,   0,   0,   0,   0,   0,   0,  10,\n",
       "          75, 199, 241, 253, 253, 245,  78,   0,   0,   0,   0,   0,   0,   0],\n",
       "        [  0,   0,   0,   0,   0,   0,   0,   0,   0,  16,  45, 113, 155, 241,\n",
       "         254, 253, 253, 250, 185,  22,   0,   0,   0,   0,   0,   0,   0,   0],\n",
       "        [  0,   0,   0,   0,   0,   0,   0,  51, 188, 211, 253, 253, 253, 253,\n",
       "         254, 253, 253, 238,  27,   0,   0,   0,   0,   0,   0,   0,   0,   0],\n",
       "        [  0,   0,   0,   0,   0,   0,   0, 133, 253, 253, 253, 253, 253, 253,\n",
       "         206, 253, 253, 253, 208,  24,   0,   0,   0,   0,   0,   0,   0,   0],\n",
       "        [  0,   0,   0,   0,   0,   0,   0,  10, 183, 183, 111, 111,  29,   0,\n",
       "           0,   0, 135, 253, 254,  70,   0,   0,   0,   0,   0,   0,   0,   0],\n",
       "        [  0,   0,   0,   0,   0,   0,   0,   0,   0,   0,   0,   0,   0,   0,\n",
       "           0,   0,   0, 214, 253, 227,  15,   0,   0,   0,   0,   0,   0,   0],\n",
       "        [  0,   0,   0,   0,   0,   0,   0,   0,   0,   0,   0,   0,   0,   0,\n",
       "           0,   0,   0, 133, 253, 253,  22,   0,   0,   0,   0,   0,   0,   0],\n",
       "        [  0,   0,   0,   0,   0,   0,   0,   0,   0,   0,   0,   0,   0,   0,\n",
       "           0,   0,   0, 142, 253, 253,  22,   0,   0,   0,   0,   0,   0,   0],\n",
       "        [  0,   0,   0,   0,   0,   0,   0,   0,   0,   0,   0,   0,   0,   0,\n",
       "           0,   0,  90, 250, 253, 234,  17,   0,   0,   0,   0,   0,   0,   0],\n",
       "        [  0,   0,   0,   0,   0,   0,   0,   0,   0,   0,   0,   0,   0,   0,\n",
       "          12, 166, 244, 253, 253,  79,   0,   0,   0,   0,   0,   0,   0,   0],\n",
       "        [  0,   0,   0,   0,   0,   0,   0,   0,   0,   0,   0,   7,  45, 122,\n",
       "         236, 253, 253, 238, 108,   5,   0,   0,   0,   0,   0,   0,   0,   0],\n",
       "        [  0,   0,   0,   0,   0,   0,  81, 145,  69, 155, 155, 215, 253, 253,\n",
       "         255, 253, 236,  52,   0,   0,   0,   0,   0,   0,   0,   0,   0,   0],\n",
       "        [  0,   0,   0,   0,   0,   0, 176, 253, 253, 253, 253, 253, 253, 253,\n",
       "         177,  99,  40,   0,   0,   0,   0,   0,   0,   0,   0,   0,   0,   0],\n",
       "        [  0,   0,   0,   0,   0,   0,  13,  42, 143, 230, 200, 143, 110,  33,\n",
       "           0,   0,   0,   0,   0,   0,   0,   0,   0,   0,   0,   0,   0,   0],\n",
       "        [  0,   0,   0,   0,   0,   0,   0,   0,   0,   0,   0,   0,   0,   0,\n",
       "           0,   0,   0,   0,   0,   0,   0,   0,   0,   0,   0,   0,   0,   0],\n",
       "        [  0,   0,   0,   0,   0,   0,   0,   0,   0,   0,   0,   0,   0,   0,\n",
       "           0,   0,   0,   0,   0,   0,   0,   0,   0,   0,   0,   0,   0,   0],\n",
       "        [  0,   0,   0,   0,   0,   0,   0,   0,   0,   0,   0,   0,   0,   0,\n",
       "           0,   0,   0,   0,   0,   0,   0,   0,   0,   0,   0,   0,   0,   0]],\n",
       "       dtype=torch.uint8)"
      ]
     },
     "execution_count": 8,
     "metadata": {},
     "output_type": "execute_result"
    }
   ],
   "source": [
    "tensor(Image.open(threes[4]))"
   ]
  },
  {
   "cell_type": "code",
   "execution_count": 9,
   "id": "ce0c8e84-682f-4142-8b71-b53563fb934f",
   "metadata": {
    "id": "c021d0cb-caf2-46a4-b101-e9a4581dfbb9"
   },
   "outputs": [],
   "source": [
    "seven_tensor = torch.stack([tensor(Image.open(i)) for i in sevens]).float()/255\n",
    "three_tensor = torch.stack([tensor(Image.open(i)) for i in threes]).float()/255"
   ]
  },
  {
   "cell_type": "markdown",
   "id": "1c90a560-782c-4ebe-8e25-0fed0f68f65c",
   "metadata": {
    "id": "52adf4f6-1538-429c-9e97-ade1629ed98c"
   },
   "source": [
    "`-` $X$와 $y$를 만들자. "
   ]
  },
  {
   "cell_type": "code",
   "execution_count": 10,
   "id": "4a388dfb-1bce-4669-9d4e-d36fdba94852",
   "metadata": {
    "id": "8530952e-db11-4258-a61f-82484da3d01f",
    "outputId": "799ad2ac-f96c-4945-a982-5207327df449"
   },
   "outputs": [
    {
     "data": {
      "text/plain": [
       "(torch.Size([6265, 28, 28]), torch.Size([6131, 28, 28]))"
      ]
     },
     "execution_count": 10,
     "metadata": {},
     "output_type": "execute_result"
    }
   ],
   "source": [
    "seven_tensor.shape, three_tensor.shape"
   ]
  },
  {
   "cell_type": "code",
   "execution_count": 11,
   "id": "8cdf1c93-99f7-40af-be3b-3b4f4d9100e2",
   "metadata": {
    "id": "b1c18dea-07df-4d1a-af03-52320a039375"
   },
   "outputs": [],
   "source": [
    "y=torch.tensor([0.0]*6265+ [1.0]*6131).reshape(12396,1)"
   ]
  },
  {
   "cell_type": "code",
   "execution_count": 12,
   "id": "fb633b8d-9117-4a62-af36-f636953888d3",
   "metadata": {
    "id": "f6f19f64-4527-4f54-b7f1-3bfada66138c"
   },
   "outputs": [],
   "source": [
    "X=torch.vstack([seven_tensor,three_tensor]).reshape(12396,-1)"
   ]
  },
  {
   "cell_type": "code",
   "execution_count": 13,
   "id": "abbd3d05-f35f-4825-bc91-68365659dd0a",
   "metadata": {
    "id": "525188e3-e476-4a67-aeaa-b72f21f81d7b",
    "outputId": "e298e411-1792-40c7-b16f-70d6a3c5a9cc"
   },
   "outputs": [
    {
     "data": {
      "text/plain": [
       "(torch.Size([12396, 784]), torch.Size([12396, 1]))"
      ]
     },
     "execution_count": 13,
     "metadata": {},
     "output_type": "execute_result"
    }
   ],
   "source": [
    "X.shape, y.shape"
   ]
  },
  {
   "cell_type": "code",
   "execution_count": 16,
   "id": "04d3fc7e-0788-48ed-9f4d-dad7c2bb7266",
   "metadata": {},
   "outputs": [
    {
     "data": {
      "text/plain": [
       "784"
      ]
     },
     "execution_count": 16,
     "metadata": {},
     "output_type": "execute_result"
    }
   ],
   "source": [
    "28*28"
   ]
  },
  {
   "cell_type": "code",
   "execution_count": 14,
   "id": "a3bd6288-59a8-4fd1-b18d-02810f3f502f",
   "metadata": {
    "id": "eed2e9c8-0968-411b-b001-a1f0f57e437f"
   },
   "outputs": [],
   "source": [
    "X=X.reshape(12396,1,28,28)"
   ]
  },
  {
   "cell_type": "code",
   "execution_count": 15,
   "id": "1c6d01e0-13f9-4d56-a05e-0ce422ad4384",
   "metadata": {
    "id": "4e4aad3d-d379-426b-8b23-3738ab7ab002",
    "outputId": "1fffd448-3e83-4f4e-a037-568c48b6eb16"
   },
   "outputs": [
    {
     "data": {
      "text/plain": [
       "torch.Size([12396, 1, 28, 28])"
      ]
     },
     "execution_count": 15,
     "metadata": {},
     "output_type": "execute_result"
    }
   ],
   "source": [
    "X.shape"
   ]
  },
  {
   "cell_type": "markdown",
   "id": "01f63a67-fb35-4ec4-bc16-64329c69426d",
   "metadata": {},
   "source": [
    "---"
   ]
  },
  {
   "cell_type": "markdown",
   "id": "9c60c6ef-dc57-4b19-bf99-c8bc0f566d11",
   "metadata": {
    "id": "dd6ea422-9069-4920-8292-3c6950c5084f"
   },
   "source": [
    "### 6주차 MNIST 예제) MLP 모형 "
   ]
  },
  {
   "cell_type": "markdown",
   "id": "43342051-03e7-4970-8fec-72dfa9f71059",
   "metadata": {
    "id": "1e8eadf7-57b0-4bbc-8f7a-1fa40de37b82"
   },
   "source": [
    "${\\bf X} \\to {\\bf WX+b} \\to f({\\bf WX+b}) \\to \\dots \\to {\\bf y}$\n",
    "- ${\\bf X}=12396 \\times 784$ matrix \n",
    "- ${\\bf y}=12396 \\times 1$ (col) vector"
   ]
  },
  {
   "cell_type": "code",
   "execution_count": 17,
   "id": "343debcb-3fe5-4d50-a1ef-b83ce839ba06",
   "metadata": {
    "id": "5433e463-f622-4f92-92bf-9ccb76490080",
    "outputId": "322c556c-783d-4f0a-e9ee-9337e51af65e"
   },
   "outputs": [
    {
     "data": {
      "image/svg+xml": [
       "<?xml version=\"1.0\" encoding=\"UTF-8\" standalone=\"no\"?>\n",
       "<!DOCTYPE svg PUBLIC \"-//W3C//DTD SVG 1.1//EN\"\n",
       " \"http://www.w3.org/Graphics/SVG/1.1/DTD/svg11.dtd\">\n",
       "<!-- Generated by graphviz version 2.49.1 (20211004.0028)\n",
       " -->\n",
       "<!-- Title: G Pages: 1 -->\n",
       "<svg width=\"396pt\" height=\"261pt\"\n",
       " viewBox=\"0.00 0.00 396.29 261.00\" xmlns=\"http://www.w3.org/2000/svg\" xmlns:xlink=\"http://www.w3.org/1999/xlink\">\n",
       "<g id=\"graph0\" class=\"graph\" transform=\"scale(1 1) rotate(0) translate(4 257)\">\n",
       "<title>G</title>\n",
       "<polygon fill=\"white\" stroke=\"transparent\" points=\"-4,4 -4,-257 392.29,-257 392.29,4 -4,4\"/>\n",
       "<g id=\"clust1\" class=\"cluster\">\n",
       "<title>cluster_1</title>\n",
       "<polygon fill=\"lightgrey\" stroke=\"lightgrey\" points=\"8,-8 8,-245 91.59,-245 91.59,-8 8,-8\"/>\n",
       "<text text-anchor=\"middle\" x=\"49.8\" y=\"-229.8\" font-family=\"Times,serif\" font-size=\"14.00\">Layer 0</text>\n",
       "</g>\n",
       "<g id=\"clust2\" class=\"cluster\">\n",
       "<title>cluster_2</title>\n",
       "<polygon fill=\"lightgrey\" stroke=\"lightgrey\" points=\"111.59,-8 111.59,-245 230.29,-245 230.29,-8 111.59,-8\"/>\n",
       "<text text-anchor=\"middle\" x=\"170.94\" y=\"-229.8\" font-family=\"Times,serif\" font-size=\"14.00\">Layer 1: ReLU</text>\n",
       "</g>\n",
       "<g id=\"clust3\" class=\"cluster\">\n",
       "<title>cluster_3</title>\n",
       "<polygon fill=\"lightgrey\" stroke=\"lightgrey\" points=\"250.29,-89 250.29,-164 388.29,-164 388.29,-89 250.29,-89\"/>\n",
       "<text text-anchor=\"middle\" x=\"319.29\" y=\"-148.8\" font-family=\"Times,serif\" font-size=\"14.00\">Layer 2: Sigmoid</text>\n",
       "</g>\n",
       "<!-- x1 -->\n",
       "<g id=\"node1\" class=\"node\">\n",
       "<title>x1</title>\n",
       "<ellipse fill=\"none\" stroke=\"black\" cx=\"49.8\" cy=\"-196\" rx=\"27\" ry=\"18\"/>\n",
       "<text text-anchor=\"middle\" x=\"49.8\" y=\"-192.3\" font-family=\"Times,serif\" font-size=\"14.00\">x1</text>\n",
       "</g>\n",
       "<!-- node1 -->\n",
       "<g id=\"node5\" class=\"node\">\n",
       "<title>node1</title>\n",
       "<ellipse fill=\"none\" stroke=\"black\" cx=\"170.44\" cy=\"-196\" rx=\"38.99\" ry=\"18\"/>\n",
       "<text text-anchor=\"middle\" x=\"170.44\" y=\"-192.3\" font-family=\"Times,serif\" font-size=\"14.00\">node1</text>\n",
       "</g>\n",
       "<!-- x1&#45;&gt;node1 -->\n",
       "<g id=\"edge1\" class=\"edge\">\n",
       "<title>x1&#45;&gt;node1</title>\n",
       "<path fill=\"none\" stroke=\"black\" d=\"M76.83,-196C89.8,-196 105.91,-196 121.04,-196\"/>\n",
       "<polygon fill=\"black\" stroke=\"black\" points=\"121.3,-199.5 131.3,-196 121.3,-192.5 121.3,-199.5\"/>\n",
       "</g>\n",
       "<!-- node2 -->\n",
       "<g id=\"node6\" class=\"node\">\n",
       "<title>node2</title>\n",
       "<ellipse fill=\"none\" stroke=\"black\" cx=\"170.44\" cy=\"-142\" rx=\"38.99\" ry=\"18\"/>\n",
       "<text text-anchor=\"middle\" x=\"170.44\" y=\"-138.3\" font-family=\"Times,serif\" font-size=\"14.00\">node2</text>\n",
       "</g>\n",
       "<!-- x1&#45;&gt;node2 -->\n",
       "<g id=\"edge5\" class=\"edge\">\n",
       "<title>x1&#45;&gt;node2</title>\n",
       "<path fill=\"none\" stroke=\"black\" d=\"M72.56,-186.1C89.34,-178.46 112.95,-167.71 132.66,-158.74\"/>\n",
       "<polygon fill=\"black\" stroke=\"black\" points=\"134.32,-161.83 141.97,-154.5 131.42,-155.46 134.32,-161.83\"/>\n",
       "</g>\n",
       "<!-- ... -->\n",
       "<g id=\"node7\" class=\"node\">\n",
       "<title>...</title>\n",
       "<ellipse fill=\"none\" stroke=\"black\" cx=\"170.44\" cy=\"-88\" rx=\"27\" ry=\"18\"/>\n",
       "<text text-anchor=\"middle\" x=\"170.44\" y=\"-84.3\" font-family=\"Times,serif\" font-size=\"14.00\">...</text>\n",
       "</g>\n",
       "<!-- x1&#45;&gt;... -->\n",
       "<g id=\"edge9\" class=\"edge\">\n",
       "<title>x1&#45;&gt;...</title>\n",
       "<path fill=\"none\" stroke=\"black\" d=\"M66.8,-181.43C87.26,-162.81 122.83,-130.43 146.25,-109.11\"/>\n",
       "<polygon fill=\"black\" stroke=\"black\" points=\"148.65,-111.65 153.69,-102.33 143.94,-106.48 148.65,-111.65\"/>\n",
       "</g>\n",
       "<!-- node30 -->\n",
       "<g id=\"node8\" class=\"node\">\n",
       "<title>node30</title>\n",
       "<ellipse fill=\"none\" stroke=\"black\" cx=\"170.44\" cy=\"-34\" rx=\"44.69\" ry=\"18\"/>\n",
       "<text text-anchor=\"middle\" x=\"170.44\" y=\"-30.3\" font-family=\"Times,serif\" font-size=\"14.00\">node30</text>\n",
       "</g>\n",
       "<!-- x1&#45;&gt;node30 -->\n",
       "<g id=\"edge13\" class=\"edge\">\n",
       "<title>x1&#45;&gt;node30</title>\n",
       "<path fill=\"none\" stroke=\"black\" d=\"M62.61,-179.87C83.16,-151.81 125.67,-93.76 150.42,-59.97\"/>\n",
       "<polygon fill=\"black\" stroke=\"black\" points=\"153.52,-61.66 156.61,-51.52 147.87,-57.52 153.52,-61.66\"/>\n",
       "</g>\n",
       "<!-- x2 -->\n",
       "<g id=\"node2\" class=\"node\">\n",
       "<title>x2</title>\n",
       "<ellipse fill=\"none\" stroke=\"black\" cx=\"49.8\" cy=\"-142\" rx=\"27\" ry=\"18\"/>\n",
       "<text text-anchor=\"middle\" x=\"49.8\" y=\"-138.3\" font-family=\"Times,serif\" font-size=\"14.00\">x2</text>\n",
       "</g>\n",
       "<!-- x2&#45;&gt;node1 -->\n",
       "<g id=\"edge2\" class=\"edge\">\n",
       "<title>x2&#45;&gt;node1</title>\n",
       "<path fill=\"none\" stroke=\"black\" d=\"M72.56,-151.9C89.34,-159.54 112.95,-170.29 132.66,-179.26\"/>\n",
       "<polygon fill=\"black\" stroke=\"black\" points=\"131.42,-182.54 141.97,-183.5 134.32,-176.17 131.42,-182.54\"/>\n",
       "</g>\n",
       "<!-- x2&#45;&gt;node2 -->\n",
       "<g id=\"edge6\" class=\"edge\">\n",
       "<title>x2&#45;&gt;node2</title>\n",
       "<path fill=\"none\" stroke=\"black\" d=\"M76.83,-142C89.8,-142 105.91,-142 121.04,-142\"/>\n",
       "<polygon fill=\"black\" stroke=\"black\" points=\"121.3,-145.5 131.3,-142 121.3,-138.5 121.3,-145.5\"/>\n",
       "</g>\n",
       "<!-- x2&#45;&gt;... -->\n",
       "<g id=\"edge10\" class=\"edge\">\n",
       "<title>x2&#45;&gt;...</title>\n",
       "<path fill=\"none\" stroke=\"black\" d=\"M72.56,-132.1C91.04,-123.68 117.78,-111.51 138.49,-102.09\"/>\n",
       "<polygon fill=\"black\" stroke=\"black\" points=\"140.17,-105.17 147.82,-97.84 137.27,-98.8 140.17,-105.17\"/>\n",
       "</g>\n",
       "<!-- x2&#45;&gt;node30 -->\n",
       "<g id=\"edge14\" class=\"edge\">\n",
       "<title>x2&#45;&gt;node30</title>\n",
       "<path fill=\"none\" stroke=\"black\" d=\"M66.8,-127.43C86.57,-109.43 120.47,-78.57 143.87,-57.28\"/>\n",
       "<polygon fill=\"black\" stroke=\"black\" points=\"146.33,-59.77 151.37,-50.45 141.62,-54.59 146.33,-59.77\"/>\n",
       "</g>\n",
       "<!-- .. -->\n",
       "<g id=\"node3\" class=\"node\">\n",
       "<title>..</title>\n",
       "<ellipse fill=\"none\" stroke=\"black\" cx=\"49.8\" cy=\"-88\" rx=\"27\" ry=\"18\"/>\n",
       "<text text-anchor=\"middle\" x=\"49.8\" y=\"-84.3\" font-family=\"Times,serif\" font-size=\"14.00\">..</text>\n",
       "</g>\n",
       "<!-- ..&#45;&gt;node1 -->\n",
       "<g id=\"edge3\" class=\"edge\">\n",
       "<title>..&#45;&gt;node1</title>\n",
       "<path fill=\"none\" stroke=\"black\" d=\"M66.8,-102.57C86.69,-120.67 120.86,-151.78 144.27,-173.09\"/>\n",
       "<polygon fill=\"black\" stroke=\"black\" points=\"142.01,-175.77 151.76,-179.91 146.73,-170.59 142.01,-175.77\"/>\n",
       "</g>\n",
       "<!-- ..&#45;&gt;node2 -->\n",
       "<g id=\"edge7\" class=\"edge\">\n",
       "<title>..&#45;&gt;node2</title>\n",
       "<path fill=\"none\" stroke=\"black\" d=\"M72.56,-97.9C89.34,-105.54 112.95,-116.29 132.66,-125.26\"/>\n",
       "<polygon fill=\"black\" stroke=\"black\" points=\"131.42,-128.54 141.97,-129.5 134.32,-122.17 131.42,-128.54\"/>\n",
       "</g>\n",
       "<!-- ..&#45;&gt;... -->\n",
       "<g id=\"edge11\" class=\"edge\">\n",
       "<title>..&#45;&gt;...</title>\n",
       "<path fill=\"none\" stroke=\"black\" d=\"M76.83,-88C93.26,-88 114.71,-88 132.83,-88\"/>\n",
       "<polygon fill=\"black\" stroke=\"black\" points=\"133.05,-91.5 143.05,-88 133.05,-84.5 133.05,-91.5\"/>\n",
       "</g>\n",
       "<!-- ..&#45;&gt;node30 -->\n",
       "<g id=\"edge15\" class=\"edge\">\n",
       "<title>..&#45;&gt;node30</title>\n",
       "<path fill=\"none\" stroke=\"black\" d=\"M72.56,-78.1C88.88,-70.66 111.66,-60.3 131.03,-51.48\"/>\n",
       "<polygon fill=\"black\" stroke=\"black\" points=\"132.57,-54.63 140.22,-47.3 129.67,-48.26 132.57,-54.63\"/>\n",
       "</g>\n",
       "<!-- x784 -->\n",
       "<g id=\"node4\" class=\"node\">\n",
       "<title>x784</title>\n",
       "<ellipse fill=\"none\" stroke=\"black\" cx=\"49.8\" cy=\"-34\" rx=\"33.6\" ry=\"18\"/>\n",
       "<text text-anchor=\"middle\" x=\"49.8\" y=\"-30.3\" font-family=\"Times,serif\" font-size=\"14.00\">x784</text>\n",
       "</g>\n",
       "<!-- x784&#45;&gt;node1 -->\n",
       "<g id=\"edge4\" class=\"edge\">\n",
       "<title>x784&#45;&gt;node1</title>\n",
       "<path fill=\"none\" stroke=\"black\" d=\"M63.05,-50.73C83.81,-79.07 126.04,-136.74 150.59,-170.26\"/>\n",
       "<polygon fill=\"black\" stroke=\"black\" points=\"147.99,-172.63 156.72,-178.63 153.64,-168.5 147.99,-172.63\"/>\n",
       "</g>\n",
       "<!-- x784&#45;&gt;node2 -->\n",
       "<g id=\"edge8\" class=\"edge\">\n",
       "<title>x784&#45;&gt;node2</title>\n",
       "<path fill=\"none\" stroke=\"black\" d=\"M67.8,-49.47C87.74,-67.63 121.01,-97.91 144.02,-118.86\"/>\n",
       "<polygon fill=\"black\" stroke=\"black\" points=\"141.95,-121.71 151.7,-125.85 146.66,-116.53 141.95,-121.71\"/>\n",
       "</g>\n",
       "<!-- x784&#45;&gt;... -->\n",
       "<g id=\"edge12\" class=\"edge\">\n",
       "<title>x784&#45;&gt;...</title>\n",
       "<path fill=\"none\" stroke=\"black\" d=\"M75.96,-45.45C94.11,-53.72 118.74,-64.93 138.17,-73.77\"/>\n",
       "<polygon fill=\"black\" stroke=\"black\" points=\"136.95,-77.06 147.51,-78.02 139.85,-70.69 136.95,-77.06\"/>\n",
       "</g>\n",
       "<!-- x784&#45;&gt;node30 -->\n",
       "<g id=\"edge16\" class=\"edge\">\n",
       "<title>x784&#45;&gt;node30</title>\n",
       "<path fill=\"none\" stroke=\"black\" d=\"M83.85,-34C93.61,-34 104.57,-34 115.31,-34\"/>\n",
       "<polygon fill=\"black\" stroke=\"black\" points=\"115.48,-37.5 125.48,-34 115.48,-30.5 115.48,-37.5\"/>\n",
       "</g>\n",
       "<!-- y -->\n",
       "<g id=\"node9\" class=\"node\">\n",
       "<title>y</title>\n",
       "<ellipse fill=\"none\" stroke=\"black\" cx=\"319.29\" cy=\"-115\" rx=\"27\" ry=\"18\"/>\n",
       "<text text-anchor=\"middle\" x=\"319.29\" y=\"-111.3\" font-family=\"Times,serif\" font-size=\"14.00\">y</text>\n",
       "</g>\n",
       "<!-- node1&#45;&gt;y -->\n",
       "<g id=\"edge17\" class=\"edge\">\n",
       "<title>node1&#45;&gt;y</title>\n",
       "<path fill=\"none\" stroke=\"black\" d=\"M196.35,-182.26C221.97,-168.13 261.85,-146.13 288.97,-131.17\"/>\n",
       "<polygon fill=\"black\" stroke=\"black\" points=\"290.92,-134.09 297.99,-126.19 287.54,-127.96 290.92,-134.09\"/>\n",
       "</g>\n",
       "<!-- node2&#45;&gt;y -->\n",
       "<g id=\"edge18\" class=\"edge\">\n",
       "<title>node2&#45;&gt;y</title>\n",
       "<path fill=\"none\" stroke=\"black\" d=\"M206.99,-135.46C230.1,-131.21 260.11,-125.7 283.14,-121.46\"/>\n",
       "<polygon fill=\"black\" stroke=\"black\" points=\"283.98,-124.87 293.18,-119.62 282.72,-117.98 283.98,-124.87\"/>\n",
       "</g>\n",
       "<!-- ...&#45;&gt;y -->\n",
       "<g id=\"edge19\" class=\"edge\">\n",
       "<title>...&#45;&gt;y</title>\n",
       "<path fill=\"none\" stroke=\"black\" d=\"M196.68,-92.64C220.43,-97.01 256.21,-103.59 282.82,-108.48\"/>\n",
       "<polygon fill=\"black\" stroke=\"black\" points=\"282.41,-111.96 292.88,-110.33 283.68,-105.08 282.41,-111.96\"/>\n",
       "</g>\n",
       "<!-- node30&#45;&gt;y -->\n",
       "<g id=\"edge20\" class=\"edge\">\n",
       "<title>node30&#45;&gt;y</title>\n",
       "<path fill=\"none\" stroke=\"black\" d=\"M197.69,-48.48C223.37,-62.65 262.41,-84.18 289.06,-98.88\"/>\n",
       "<polygon fill=\"black\" stroke=\"black\" points=\"287.48,-102.01 297.93,-103.77 290.86,-95.88 287.48,-102.01\"/>\n",
       "</g>\n",
       "</g>\n",
       "</svg>\n"
      ],
      "text/plain": [
       "<graphviz.files.Source at 0x7f38029a4b50>"
      ]
     },
     "execution_count": 17,
     "metadata": {},
     "output_type": "execute_result"
    }
   ],
   "source": [
    "#collapse\n",
    "gv('''\n",
    "splines=line\n",
    "subgraph cluster_1{\n",
    "    style=filled;\n",
    "    color=lightgrey;\n",
    "    \"x1\"\n",
    "    \"x2\"\n",
    "    \"..\"\n",
    "    \"x784\"\n",
    "    label = \"Layer 0\"\n",
    "}\n",
    "subgraph cluster_2{\n",
    "    style=filled;\n",
    "    color=lightgrey;\n",
    "    \"x1\" -> \"node1\"\n",
    "    \"x2\" -> \"node1\"\n",
    "    \"..\" -> \"node1\"\n",
    "    \n",
    "    \"x784\" -> \"node1\"\n",
    "    \"x1\" -> \"node2\"\n",
    "    \"x2\" -> \"node2\"\n",
    "    \"..\" -> \"node2\"\n",
    "    \"x784\" -> \"node2\"\n",
    "    \n",
    "    \"x1\" -> \"...\"\n",
    "    \"x2\" -> \"...\"\n",
    "    \"..\" -> \"...\"\n",
    "    \"x784\" -> \"...\"\n",
    "\n",
    "    \"x1\" -> \"node30\"\n",
    "    \"x2\" -> \"node30\"\n",
    "    \"..\" -> \"node30\"\n",
    "    \"x784\" -> \"node30\"\n",
    "\n",
    "\n",
    "    label = \"Layer 1: ReLU\"\n",
    "}\n",
    "subgraph cluster_3{\n",
    "    style=filled;\n",
    "    color=lightgrey;\n",
    "    \"node1\" -> \"y\"\n",
    "    \"node2\" -> \"y\"\n",
    "    \"...\" -> \"y\"\n",
    "    \"node30\" -> \"y\"\n",
    "    label = \"Layer 2: Sigmoid\"\n",
    "}\n",
    "''')"
   ]
  },
  {
   "cell_type": "markdown",
   "id": "e677435d-46d5-4486-8633-a9d86a1eccdf",
   "metadata": {
    "id": "b5b504c5-09b0-4bcd-98df-39b2d1a78ce8"
   },
   "source": [
    "`-` 왜 28$\\times$28 이미지를 펼쳐서 784개의 벡터로 만든 다음에 모형을 돌려야 하는가? "
   ]
  },
  {
   "cell_type": "markdown",
   "id": "ef157c53-89fa-4c9d-8098-8a60ddee70da",
   "metadata": {
    "id": "de96664d-4b2b-451b-a498-baa274b78cb3"
   },
   "source": [
    "`-` 기존에 개발된 모형이 회귀분석 기반으로 되어있어서 결국 **회귀분석 틀에 짜 맞추어서 이미지자료를 분석하는 느낌** "
   ]
  },
  {
   "cell_type": "markdown",
   "id": "be6b8715-ae97-4445-9407-5ca714149b25",
   "metadata": {
    "id": "0ca81597-e11c-443b-b085-e889e22bd931"
   },
   "source": [
    "`-` observation의 차원은 $784$가 아니라 $1\\times (28\\times 28)$이 되어야 맞다. \n",
    "> 예제는 흑백이라서 $1\\times(28\\times28)$로 나타나고, 컬러인 경우에는 $3\\times(28\\times28)$"
   ]
  },
  {
   "cell_type": "markdown",
   "id": "8cb07acb-191f-404a-9f47-bb1b4b523138",
   "metadata": {},
   "source": [
    "---"
   ]
  },
  {
   "cell_type": "markdown",
   "id": "022f65ec-d9a5-4281-bb2a-b773f0e8acb0",
   "metadata": {
    "id": "737bdbcc-6477-4d73-9caf-a5c592026ceb",
    "tags": []
   },
   "source": [
    "### 예제 1) 직접네트워크설계, pytorch"
   ]
  },
  {
   "cell_type": "markdown",
   "id": "c57393ca-ff9c-4f56-91b0-c4e0111ca1a3",
   "metadata": {
    "id": "4aa846b1-7d79-400f-986d-573e5285740d",
    "tags": []
   },
   "source": [
    "#### 2d convolution with windowsize=5"
   ]
  },
  {
   "cell_type": "code",
   "execution_count": 18,
   "id": "a055e0db-548e-4ca0-8af4-ca0e40b28a4a",
   "metadata": {
    "id": "250227c1-3fba-4648-b569-1fd32e21aa41"
   },
   "outputs": [],
   "source": [
    "c1=torch.nn.Conv2d(1,16,5) # 입력채널=1 (흑백이므로), 출력채널=16, 윈도우크기5 "
   ]
  },
  {
   "cell_type": "code",
   "execution_count": 19,
   "id": "ac9c04bf-0804-4386-a5f3-92bb283b88da",
   "metadata": {
    "id": "fb240922-7c77-438c-b341-d301ec8e62c6",
    "outputId": "7cb42c47-b349-4bc5-b03b-9d4b21f7c80f"
   },
   "outputs": [
    {
     "data": {
      "text/plain": [
       "(torch.Size([12396, 1, 28, 28]), torch.Size([12396, 16, 24, 24]))"
      ]
     },
     "execution_count": 19,
     "metadata": {},
     "output_type": "execute_result"
    }
   ],
   "source": [
    "X.shape, c1(X).shape"
   ]
  },
  {
   "cell_type": "markdown",
   "id": "65bc795e-f596-4605-b696-d5bf4d32f9ff",
   "metadata": {},
   "source": [
    "> **X.shape는 28인데 왜 c1(X).shape는 24인가요?**  \n",
    "윈도우 사이즈가 5씩 움직이다 보면, 첫 시작 윈도우는 1-5, 마지막 윈도우는 24-28이 된다.  \n",
    "$\\to$ 약간 겹치는 부분이 생기다 보니 $28\\times 28$행렬에서 $24\\times 24$로 차원이 변함\n",
    "\n",
    "> **1에서 16으로 변한 것은 뭐지?**  \n",
    "  1개 이미지를 16개로 나눈 것 ! (뻥튀기 했다)"
   ]
  },
  {
   "cell_type": "markdown",
   "id": "80101be0-bec4-4708-b625-9e18a32b133e",
   "metadata": {
    "id": "adf353ab-ee1d-4612-8b19-fc954669fe0a"
   },
   "source": [
    "#### MaxPool2d"
   ]
  },
  {
   "cell_type": "markdown",
   "id": "f4f216cb-9eb7-4d14-bb40-f6b8bf0d60b9",
   "metadata": {},
   "source": [
    "> MaxPooling의 역할은 데이터의 단순화$\\to$저화질로 변함  "
   ]
  },
  {
   "cell_type": "code",
   "execution_count": 22,
   "id": "a4cbde37-f7fb-4d51-a981-9f48b212884a",
   "metadata": {
    "id": "f59c84b5-bf3c-49f0-9515-b2f623afef7c"
   },
   "outputs": [],
   "source": [
    "m1=torch.nn.MaxPool2d(2)"
   ]
  },
  {
   "cell_type": "code",
   "execution_count": 23,
   "id": "3764f7d5-10da-441d-9020-4804bbaa7dce",
   "metadata": {
    "id": "f39a6b91-8a83-45d7-9a2b-ad7eb462a125",
    "outputId": "f9c07cf8-7abb-4588-9935-d29370438b94"
   },
   "outputs": [
    {
     "data": {
      "text/plain": [
       "(torch.Size([12396, 1, 28, 28]),\n",
       " torch.Size([12396, 16, 24, 24]),\n",
       " torch.Size([12396, 16, 12, 12]))"
      ]
     },
     "execution_count": 23,
     "metadata": {},
     "output_type": "execute_result"
    }
   ],
   "source": [
    "X.shape,c1(X).shape,m1(c1(X)).shape"
   ]
  },
  {
   "cell_type": "markdown",
   "id": "caea0877-05a8-44dd-a917-b7157c4dd366",
   "metadata": {
    "id": "67cb3097-0de6-4215-b1e2-98510a3cfb56"
   },
   "source": [
    "#### ReLU "
   ]
  },
  {
   "cell_type": "markdown",
   "id": "50e22338-b8cd-4964-a10b-77bb78b3776b",
   "metadata": {},
   "source": [
    "> 비선형 과정 추가, ReLU는 0보다 크면 살리고, 0보다 작으면 날리는 방식으로 작동함 "
   ]
  },
  {
   "cell_type": "code",
   "execution_count": 24,
   "id": "ed52666e-0631-4f54-bd6e-7479848f7575",
   "metadata": {
    "id": "2b3d0b4b-9f78-4559-8833-a31025e67e48"
   },
   "outputs": [],
   "source": [
    "a1=torch.nn.ReLU()"
   ]
  },
  {
   "cell_type": "code",
   "execution_count": 25,
   "id": "a230062c-a40c-46eb-bf9d-21e427cb6792",
   "metadata": {
    "id": "f8ed9b29-9a9c-4f33-8fc2-aaf812fe29ba",
    "outputId": "39690572-8a59-47cc-b4d6-d6dda1c66f6d"
   },
   "outputs": [
    {
     "data": {
      "text/plain": [
       "(torch.Size([12396, 1, 28, 28]),\n",
       " torch.Size([12396, 16, 24, 24]),\n",
       " torch.Size([12396, 16, 12, 12]),\n",
       " torch.Size([12396, 16, 12, 12]))"
      ]
     },
     "execution_count": 25,
     "metadata": {},
     "output_type": "execute_result"
    }
   ],
   "source": [
    "X.shape,c1(X).shape, m1(c1(X)).shape, a1(m1(c1(X))).shape"
   ]
  },
  {
   "cell_type": "markdown",
   "id": "cb02728f-4173-4f0b-948d-7202b091d60e",
   "metadata": {
    "id": "9d7bb0d2-7a61-4ac1-919d-271fe931633c"
   },
   "source": [
    "#### flatten "
   ]
  },
  {
   "cell_type": "code",
   "execution_count": 26,
   "id": "95e5f13a-7290-4181-adbf-c1587d623523",
   "metadata": {
    "id": "02600bb9-6868-4825-a827-e57a3a6880ef"
   },
   "outputs": [],
   "source": [
    "class Flatten(torch.nn.Module):\n",
    "    def forward(self,x): \n",
    "        return x.reshape(12396,-1)"
   ]
  },
  {
   "cell_type": "code",
   "execution_count": 28,
   "id": "89d1301e-eea7-4966-86a3-172a9157cc50",
   "metadata": {
    "id": "66b7fde4-ab89-43d4-9144-19ced26b97a4"
   },
   "outputs": [],
   "source": [
    "flatten=Flatten()"
   ]
  },
  {
   "cell_type": "code",
   "execution_count": 29,
   "id": "6e604607-36ae-4840-88bf-e570499abf74",
   "metadata": {
    "id": "d5f4a324-7d81-4a0a-97d2-487cb7d379d9",
    "outputId": "fe7d0517-9686-4476-f2ff-8e1297e9c60c"
   },
   "outputs": [
    {
     "data": {
      "text/plain": [
       "(torch.Size([12396, 1, 28, 28]),\n",
       " torch.Size([12396, 16, 24, 24]),\n",
       " torch.Size([12396, 16, 12, 12]),\n",
       " torch.Size([12396, 16, 12, 12]),\n",
       " torch.Size([12396, 2304]))"
      ]
     },
     "execution_count": 29,
     "metadata": {},
     "output_type": "execute_result"
    }
   ],
   "source": [
    "X.shape,c1(X).shape, m1(c1(X)).shape, a1(m1(c1(X))).shape, flatten(a1(m1(c1(X)))).shape"
   ]
  },
  {
   "cell_type": "code",
   "execution_count": 30,
   "id": "c501ec81-7beb-463d-824b-7929290b7d7c",
   "metadata": {},
   "outputs": [
    {
     "data": {
      "text/plain": [
       "2304"
      ]
     },
     "execution_count": 30,
     "metadata": {},
     "output_type": "execute_result"
    }
   ],
   "source": [
    "16*12*12"
   ]
  },
  {
   "cell_type": "markdown",
   "id": "3d591182-ac3c-4da9-aa89-92a5adcbd463",
   "metadata": {
    "id": "f1f6851c-60f9-4283-8379-3bc6a5d9fa07"
   },
   "source": [
    "> 결국 y는 0,1의 값을 가지기 때문에 우리는 기존 신경망과 비슷하게 만들어야(펼쳐야) 함"
   ]
  },
  {
   "cell_type": "markdown",
   "id": "b6f10922-b6ea-4f51-845a-964567a20573",
   "metadata": {
    "id": "c5177d85-1ead-43bf-a7c3-16d8bb63f7e0"
   },
   "source": [
    "#### linear "
   ]
  },
  {
   "cell_type": "code",
   "execution_count": 31,
   "id": "be8e6a9a-122c-4979-8f16-e312723c0ca8",
   "metadata": {
    "id": "4fb124b8-c5f0-48f4-b305-7c57ae58787d"
   },
   "outputs": [],
   "source": [
    "l1=torch.nn.Linear(in_features=2304,out_features=1) "
   ]
  },
  {
   "cell_type": "markdown",
   "id": "4f0b41e1-3491-4155-aafd-8944ecad9f5f",
   "metadata": {
    "id": "f1f6851c-60f9-4283-8379-3bc6a5d9fa07"
   },
   "source": [
    "> 2304의 디멘젼을 1로 만들자.  \n",
    "  숨겨진 layer 없이 바로! 선형변환을 통해 2304의 디멘젼을 1로!"
   ]
  },
  {
   "cell_type": "code",
   "execution_count": 32,
   "id": "8bbbbe7d-ff40-4bca-8f7c-5032e0442556",
   "metadata": {
    "id": "ed0b5d54-2e02-4cd0-afbd-ee450088e08e",
    "outputId": "3238f34e-a9d3-4ef7-cc7b-67a5762ad855"
   },
   "outputs": [
    {
     "data": {
      "text/plain": [
       "(torch.Size([12396, 1, 28, 28]),\n",
       " torch.Size([12396, 16, 24, 24]),\n",
       " torch.Size([12396, 16, 12, 12]),\n",
       " torch.Size([12396, 16, 12, 12]),\n",
       " torch.Size([12396, 2304]),\n",
       " torch.Size([12396, 1]))"
      ]
     },
     "execution_count": 32,
     "metadata": {},
     "output_type": "execute_result"
    }
   ],
   "source": [
    "X.shape,\\\n",
    "c1(X).shape, \\\n",
    "m1(c1(X)).shape, \\\n",
    "a1(m1(c1(X))).shape, \\\n",
    "flatten(a1(m1(c1(X)))).shape, \\\n",
    "l1(flatten(a1(m1(c1(X))))).shape"
   ]
  },
  {
   "cell_type": "code",
   "execution_count": 30,
   "id": "15ec94ec-7578-43df-a041-df9c89e2b488",
   "metadata": {
    "id": "998c90bb-d3a6-4ae4-b626-06a0a716fae2",
    "outputId": "89c8bd98-6665-49c6-b32c-9cdf4b4e7b73"
   },
   "outputs": [
    {
     "data": {
      "text/plain": [
       "[<matplotlib.lines.Line2D at 0x7eff0893ff10>]"
      ]
     },
     "execution_count": 30,
     "metadata": {},
     "output_type": "execute_result"
    },
    {
     "data": {
      "image/png": "[encoded data removed]",
      "text/plain": [
       "<Figure size 432x288 with 1 Axes>"
      ]
     },
     "metadata": {
      "needs_background": "light"
     },
     "output_type": "display_data"
    }
   ],
   "source": [
    "plt.plot(l1(flatten(a1(m1(c1(X))))).data)"
   ]
  },
  {
   "cell_type": "markdown",
   "id": "83ffc98f-4d5b-41c6-a151-462758069fd6",
   "metadata": {},
   "source": [
    "- 학습이 되지 않아서 분리되지 않은 모습이다."
   ]
  },
  {
   "cell_type": "markdown",
   "id": "898a8076-16ed-4e12-8db1-91b6b33a5f48",
   "metadata": {
    "id": "f3bcef3d-31d0-43b6-be21-f8e630307aa8"
   },
   "source": [
    "#### networks 설계 "
   ]
  },
  {
   "cell_type": "code",
   "execution_count": 33,
   "id": "1c76879f-7f38-46c0-aa19-7625fb058752",
   "metadata": {
    "id": "d0ff02c4-9be8-4514-8b15-104383952a56"
   },
   "outputs": [],
   "source": [
    "net = nn.Sequential(c1,m1,a1,flatten,l1)\n",
    "## 마지막의 sigmoid는 생략한다. torch.nn..BCEWithLogitsLoss()에 내장되어 있을것이므로 "
   ]
  },
  {
   "cell_type": "markdown",
   "id": "1481c245-54fe-4f2c-9c78-0fb76a53b873",
   "metadata": {
    "id": "589470aa-77f1-4b07-ae3c-862a9e6ef217"
   },
   "source": [
    "`-` 손실함수와 옵티마이저 정의 "
   ]
  },
  {
   "cell_type": "code",
   "execution_count": 34,
   "id": "9c1594c0-049c-488b-a2a8-3bdf263fe702",
   "metadata": {
    "id": "5557f21d-e49f-4c59-82df-5a3def4c7373"
   },
   "outputs": [],
   "source": [
    "loss_fn=torch.nn.BCEWithLogitsLoss()\n",
    "optimizer= torch.optim.Adam(net.parameters())"
   ]
  },
  {
   "cell_type": "markdown",
   "id": "aaba2e6e-f098-4895-8c18-e40826c7ac1b",
   "metadata": {
    "id": "ad4acb60-c25e-4456-bef9-02494f690251"
   },
   "source": [
    "`-` step1~4"
   ]
  },
  {
   "cell_type": "code",
   "execution_count": 35,
   "id": "80287bcf-4736-46c3-bec6-98c9c444d665",
   "metadata": {
    "id": "428e4b35-c9b0-40e9-b437-e02382626977"
   },
   "outputs": [],
   "source": [
    "for epoc in range(200): \n",
    "    ## 1 \n",
    "    yhat=net(X)\n",
    "    ## 2 \n",
    "    loss=loss_fn(yhat,y) \n",
    "    ## 3 \n",
    "    loss.backward()\n",
    "    ## 4 \n",
    "    optimizer.step()\n",
    "    net.zero_grad()"
   ]
  },
  {
   "cell_type": "markdown",
   "id": "7afc59aa-cdfc-4e75-8775-97f0d7113ce9",
   "metadata": {},
   "source": [
    "> zero_grad()는 gradients 초기화 역할    \n",
    "net.zero_grad() sets the gradients of all its parameters (including parameters of submodules) to zero. "
   ]
  },
  {
   "cell_type": "code",
   "execution_count": 40,
   "id": "6f62d28b-1f4f-41fd-9a27-8a8cef11600f",
   "metadata": {
    "id": "eb62dcb0-e013-4cf7-88cd-c8c21dbd472c"
   },
   "outputs": [],
   "source": [
    "a2= torch.nn.Sigmoid()"
   ]
  },
  {
   "cell_type": "code",
   "execution_count": 41,
   "id": "f0c3de57-36cd-4ae3-8f2b-d8466589f066",
   "metadata": {
    "id": "c02ffd43-ab88-423f-9970-5b211bbba28e",
    "outputId": "612194cc-9004-4654-d164-85dc2fc9b3db"
   },
   "outputs": [
    {
     "data": {
      "text/plain": [
       "[<matplotlib.lines.Line2D at 0x7f380272ff40>]"
      ]
     },
     "execution_count": 41,
     "metadata": {},
     "output_type": "execute_result"
    },
    {
     "data": {
      "image/png": "[encoded data removed]",
      "text/plain": [
       "<Figure size 432x288 with 1 Axes>"
      ]
     },
     "metadata": {
      "needs_background": "light"
     },
     "output_type": "display_data"
    }
   ],
   "source": [
    "plt.plot(y)\n",
    "plt.plot(a2(yhat.data),'.')"
   ]
  },
  {
   "cell_type": "code",
   "execution_count": 38,
   "id": "cfe2b6f4-f961-4745-981a-c9cdeeafcde5",
   "metadata": {
    "id": "c18f3ae9-5a83-4443-bfa3-e632636d62d5"
   },
   "outputs": [],
   "source": [
    "ypred=a2(yhat.data)>0.5 "
   ]
  },
  {
   "cell_type": "code",
   "execution_count": 39,
   "id": "a5c3a8bd-77c5-4798-b126-8a0db081972b",
   "metadata": {
    "id": "702b1e57-0fa9-434d-a0c6-e368faefdf5f",
    "outputId": "f6774785-0a66-47c1-fd44-4867dadbcc26"
   },
   "outputs": [
    {
     "data": {
      "text/plain": [
       "tensor([0.9916])"
      ]
     },
     "execution_count": 39,
     "metadata": {},
     "output_type": "execute_result"
    }
   ],
   "source": [
    "sum(ypred==y)/12396"
   ]
  },
  {
   "cell_type": "markdown",
   "id": "c2f54c7d-12a0-4488-9993-d0da74ad1e16",
   "metadata": {
    "id": "a7488c30-2e54-4dc5-b42c-b1190dc4054b"
   },
   "source": [
    "### 예제 2) 드랍아웃, 배치추가 (직접네트워크설계, pytorch+fastai) "
   ]
  },
  {
   "cell_type": "markdown",
   "id": "dc88db81-6fcf-4af4-b707-deab0f534ba8",
   "metadata": {
    "id": "84b80298-3c82-4205-9fc9-e98e7b38e3df"
   },
   "source": [
    "#### step1: dls를 만들자. "
   ]
  },
  {
   "cell_type": "code",
   "execution_count": 42,
   "id": "193f2e8e-8d9b-4811-a216-ba39bcdcd61d",
   "metadata": {
    "id": "0a7f283e-ec07-42e7-92bb-f0e04a6ab986"
   },
   "outputs": [],
   "source": [
    "ds=torch.utils.data.TensorDataset(X,y)"
   ]
  },
  {
   "cell_type": "code",
   "execution_count": 43,
   "id": "dd0970c0-29e8-441b-9ecc-079c8f27ce0e",
   "metadata": {
    "id": "148eac13-3bf0-407b-bac6-37926cecc9ba",
    "outputId": "fbfe3959-cea5-42de-e768-6148f633fea6"
   },
   "outputs": [
    {
     "data": {
      "text/plain": [
       "torch.Size([12396, 1, 28, 28])"
      ]
     },
     "execution_count": 43,
     "metadata": {},
     "output_type": "execute_result"
    }
   ],
   "source": [
    "ds.tensors[0].shape  #이미지 자체가 들어간 모습"
   ]
  },
  {
   "cell_type": "markdown",
   "id": "648841c6-e15c-4fd2-9b75-0901f6bfe2b4",
   "metadata": {},
   "source": [
    "- training/validation으로 나누자\n",
    "- 10000개는 training, 2396개는 validation"
   ]
  },
  {
   "cell_type": "code",
   "execution_count": 44,
   "id": "b8b4a13c-ff3c-429a-aab5-b1c36a991160",
   "metadata": {
    "id": "0f96d874-1f22-4b9e-8963-acf72bdb2b87"
   },
   "outputs": [],
   "source": [
    "ds1,ds2 = torch.utils.data.random_split(ds,[10000,2396]) "
   ]
  },
  {
   "cell_type": "code",
   "execution_count": 45,
   "id": "05cf03e3-8b91-450b-9452-23f25bfc9440",
   "metadata": {
    "id": "2d9c79bd-314f-47f3-b6ba-d1c1db60ba49"
   },
   "outputs": [],
   "source": [
    "dl1 = torch.utils.data.DataLoader(ds1,batch_size=500) \n",
    "dl2 = torch.utils.data.DataLoader(ds2,batch_size=2396) "
   ]
  },
  {
   "cell_type": "markdown",
   "id": "7dea134b-1322-47ce-9446-3fb057e882c2",
   "metadata": {},
   "source": [
    "- 트레이닝 데이터는 배치사이즈 500으로 나눠줬다"
   ]
  },
  {
   "cell_type": "code",
   "execution_count": 46,
   "id": "586e11ee-d77b-489c-a23e-43f4cd9b845e",
   "metadata": {
    "id": "4dc92741-6de2-457b-ac60-cdc2d0582c0a"
   },
   "outputs": [],
   "source": [
    "dls=DataLoaders(dl1,dl2) #여기부터 fastai"
   ]
  },
  {
   "cell_type": "markdown",
   "id": "5c131518-2901-4b00-b097-46d9c36c8cad",
   "metadata": {
    "id": "4a1bd941-8a57-4dfa-acca-577690e69b93",
    "tags": []
   },
   "source": [
    "#### step2: 아키텍처, 손실함수, 옵티마이저 "
   ]
  },
  {
   "cell_type": "code",
   "execution_count": 47,
   "id": "269b9024-4167-42aa-a742-9849b3b11f63",
   "metadata": {},
   "outputs": [
    {
     "data": {
      "text/plain": [
       "torch.Size([12396, 1, 28, 28])"
      ]
     },
     "execution_count": 47,
     "metadata": {},
     "output_type": "execute_result"
    }
   ],
   "source": [
    "X.shape"
   ]
  },
  {
   "cell_type": "code",
   "execution_count": 48,
   "id": "cfe33f3d-5ff9-44da-840b-8f2ddd60f592",
   "metadata": {
    "id": "92942806-88bb-4cf6-932c-51a35a4ea07e"
   },
   "outputs": [],
   "source": [
    "class Flatten(torch.nn.Module):\n",
    "    def forward(self,x): \n",
    "        return x.reshape(x.shape[0],-1)"
   ]
  },
  {
   "cell_type": "markdown",
   "id": "3a7dbf14-3d21-4db7-b06a-cddcdf25030c",
   "metadata": {},
   "source": [
    "- 이전 예제에서는 직접 값을 넣어줬는데 이번에는 열로 지정"
   ]
  },
  {
   "cell_type": "code",
   "execution_count": 49,
   "id": "e5ae2dfc-7cee-4299-ae0c-c738671d7308",
   "metadata": {
    "id": "3d96af86-5962-4e43-9545-e8ac179843e0"
   },
   "outputs": [],
   "source": [
    "net=torch.nn.Sequential(\n",
    "    torch.nn.Conv2d(1,16,5), \n",
    "    torch.nn.MaxPool2d(2), \n",
    "    torch.nn.ReLU(),\n",
    "    torch.nn.Dropout2d(), #dropout에도 2D!\n",
    "    Flatten(),\n",
    "    torch.nn.Linear(2304,1))"
   ]
  },
  {
   "cell_type": "code",
   "execution_count": 50,
   "id": "8c945076-f6df-453d-9a1c-524c08394fbc",
   "metadata": {
    "id": "0da0d260-bc5c-4130-89fb-2928cf72adac"
   },
   "outputs": [],
   "source": [
    "loss_fn=torch.nn.BCEWithLogitsLoss()\n",
    "#optimizer= torch.optim.Adam(net.parameters()) : 러너에서 옵션으로 들어가기 때문에 주석 처리"
   ]
  },
  {
   "cell_type": "markdown",
   "id": "d9cbf77b-85df-472b-8dcb-7fbba88edeea",
   "metadata": {
    "id": "3c8c6d20-d294-49cd-89cc-3c9407435237"
   },
   "source": [
    "#### step3: lrnr 생성 후 적합"
   ]
  },
  {
   "cell_type": "code",
   "execution_count": 51,
   "id": "bd6d3bc7-3513-439a-8231-fa5960712737",
   "metadata": {
    "id": "c95b38c7-7a09-4c30-b90a-439709109a2f"
   },
   "outputs": [],
   "source": [
    "lrnr1 = Learner(dls,net,opt_func=Adam,loss_func=loss_fn) "
   ]
  },
  {
   "cell_type": "code",
   "execution_count": 52,
   "id": "24380a70-0965-4a8a-ab27-0c394afb9d58",
   "metadata": {
    "id": "29acdef5-1b67-4628-b4b4-607bbc2ab616",
    "outputId": "842abff6-a8de-4886-deb1-c45e235035b9"
   },
   "outputs": [
    {
     "data": {
      "text/html": [
       "<table border=\"1\" class=\"dataframe\">\n",
       "  <thead>\n",
       "    <tr style=\"text-align: left;\">\n",
       "      <th>epoch</th>\n",
       "      <th>train_loss</th>\n",
       "      <th>valid_loss</th>\n",
       "      <th>time</th>\n",
       "    </tr>\n",
       "  </thead>\n",
       "  <tbody>\n",
       "    <tr>\n",
       "      <td>0</td>\n",
       "      <td>0.397018</td>\n",
       "      <td>0.187171</td>\n",
       "      <td>00:00</td>\n",
       "    </tr>\n",
       "    <tr>\n",
       "      <td>1</td>\n",
       "      <td>0.235679</td>\n",
       "      <td>0.080995</td>\n",
       "      <td>00:00</td>\n",
       "    </tr>\n",
       "    <tr>\n",
       "      <td>2</td>\n",
       "      <td>0.161680</td>\n",
       "      <td>0.061480</td>\n",
       "      <td>00:00</td>\n",
       "    </tr>\n",
       "    <tr>\n",
       "      <td>3</td>\n",
       "      <td>0.121357</td>\n",
       "      <td>0.052621</td>\n",
       "      <td>00:00</td>\n",
       "    </tr>\n",
       "    <tr>\n",
       "      <td>4</td>\n",
       "      <td>0.097048</td>\n",
       "      <td>0.047289</td>\n",
       "      <td>00:00</td>\n",
       "    </tr>\n",
       "    <tr>\n",
       "      <td>5</td>\n",
       "      <td>0.079746</td>\n",
       "      <td>0.043438</td>\n",
       "      <td>00:00</td>\n",
       "    </tr>\n",
       "    <tr>\n",
       "      <td>6</td>\n",
       "      <td>0.068439</td>\n",
       "      <td>0.041558</td>\n",
       "      <td>00:00</td>\n",
       "    </tr>\n",
       "    <tr>\n",
       "      <td>7</td>\n",
       "      <td>0.060553</td>\n",
       "      <td>0.040087</td>\n",
       "      <td>00:00</td>\n",
       "    </tr>\n",
       "    <tr>\n",
       "      <td>8</td>\n",
       "      <td>0.053907</td>\n",
       "      <td>0.038222</td>\n",
       "      <td>00:00</td>\n",
       "    </tr>\n",
       "    <tr>\n",
       "      <td>9</td>\n",
       "      <td>0.049199</td>\n",
       "      <td>0.036300</td>\n",
       "      <td>00:00</td>\n",
       "    </tr>\n",
       "  </tbody>\n",
       "</table>"
      ],
      "text/plain": [
       "<IPython.core.display.HTML object>"
      ]
     },
     "metadata": {},
     "output_type": "display_data"
    }
   ],
   "source": [
    "lrnr1.fit(10)"
   ]
  },
  {
   "cell_type": "markdown",
   "id": "c3bb5a26-d9c3-4086-8351-b04886ea3310",
   "metadata": {},
   "source": [
    "> **왜 10번만 돌렸을까?**  \n",
    "  우리가 넣은 데이터는 총 10,000개, 배치 사이즈는 500  $\\to$ 20번이 1 epoc  \n",
    "  이전 예제에서 총 200번 학습하였기 때문에 10*20=200이므로 10번만 학습하면 된다."
   ]
  },
  {
   "cell_type": "markdown",
   "id": "2f24c5ad-e415-4f9e-84e4-1fb73c782ecc",
   "metadata": {
    "id": "15f944de-b4f2-4818-adbb-8543ec39382f"
   },
   "source": [
    "`-` 결과를 시각화하면 아래와 같다. "
   ]
  },
  {
   "cell_type": "code",
   "execution_count": 53,
   "id": "7d4e4dd0-3dba-4b3d-8468-4ad0781402ad",
   "metadata": {
    "id": "ba08639f-8784-4586-b81d-c724d2e187db",
    "outputId": "6ebe4bd4-d779-44c5-a094-b73ad71467d5"
   },
   "outputs": [
    {
     "data": {
      "text/plain": [
       "[<matplotlib.lines.Line2D at 0x7f38524a53d0>]"
      ]
     },
     "execution_count": 53,
     "metadata": {},
     "output_type": "execute_result"
    },
    {
     "data": {
      "image/png": "[encoded data removed]",
      "text/plain": [
       "<Figure size 432x288 with 1 Axes>"
      ]
     },
     "metadata": {
      "needs_background": "light"
     },
     "output_type": "display_data"
    }
   ],
   "source": [
    "plt.plot(a2(net(X.to(\"cuda:0\")).to(\"cpu\").data),'.')"
   ]
  },
  {
   "cell_type": "markdown",
   "id": "93741014-e1cb-40c3-a5fd-eab134a2d232",
   "metadata": {},
   "source": [
    "* lrnr1 분해하기!"
   ]
  },
  {
   "cell_type": "code",
   "execution_count": 60,
   "id": "e41de856-7575-4b6e-ad99-26a5d2f37264",
   "metadata": {
    "id": "6801578d-905c-4ece-8e7a-471cd5f7bdc4",
    "outputId": "9d6f4905-a74c-4400-bb84-d6dad7ec46a3"
   },
   "outputs": [
    {
     "name": "stdout",
     "output_type": "stream",
     "text": [
      "torch.Size([12396, 1, 28, 28]) --> input image\n",
      "torch.Size([12396, 16, 24, 24]) --> 2dConv\n",
      "torch.Size([12396, 16, 12, 12]) --> MaxPool2d\n",
      "torch.Size([12396, 16, 12, 12]) --> ReLU\n",
      "torch.Size([12396, 16, 12, 12]) --> Dropout2d\n",
      "torch.Size([12396, 2304]) --> Flatten\n",
      "torch.Size([12396, 1]) --> Linear\n"
     ]
    }
   ],
   "source": [
    "print(X.shape, '--> input image')\n",
    "print(lrnr1.model[0](X.to(\"cuda:0\")).shape, '--> 2dConv')\n",
    "print(lrnr1.model[1](lrnr1.model[0](X.to(\"cuda:0\"))).shape, '--> MaxPool2d')\n",
    "print(lrnr1.model[2](lrnr1.model[1](lrnr1.model[0](X.to(\"cuda:0\")))).shape, '--> ReLU')\n",
    "print(lrnr1.model[3](lrnr1.model[2](lrnr1.model[1](lrnr1.model[0](X.to(\"cuda:0\"))))).shape, '--> Dropout2d')\n",
    "print(lrnr1.model[4](lrnr1.model[3](lrnr1.model[2](lrnr1.model[1](lrnr1.model[0](X.to(\"cuda:0\")))))).shape, '--> Flatten')\n",
    "print(lrnr1.model[5](lrnr1.model[4](lrnr1.model[3](lrnr1.model[2](lrnr1.model[1](lrnr1.model[0](X.to(\"cuda:0\"))))))).shape, '--> Linear')"
   ]
  },
  {
   "cell_type": "markdown",
   "id": "2cfff10c-bbd1-4ae9-9e60-e6fc05e1272f",
   "metadata": {
    "id": "cca012f1-8930-4867-a2f9-cd1ef822efeb"
   },
   "source": [
    "`-` 정리: 모형은 항상 아래와 같이 2d-part 와 1d-part로 나누어진다. \n",
    "```\n",
    "torch.Size([12396, 1, 28, 28]) --> input image\n",
    "torch.Size([12396, 16, 24, 24]) --> 2dConv\n",
    "torch.Size([12396, 16, 12, 12]) --> MaxPool2d\n",
    "torch.Size([12396, 16, 12, 12]) --> ReLU\n",
    "torch.Size([12396, 16, 12, 12]) --> Dropout2d\n",
    "===============================================================\n",
    "torch.Size([12396, 2304]) --> Flatten\n",
    "torch.Size([12396, 1]) --> Linear\n",
    "```"
   ]
  },
  {
   "cell_type": "markdown",
   "id": "6febcbdd-5fbb-458c-9f7c-8b321e14b661",
   "metadata": {
    "id": "c477a40c-064b-4575-8cc4-6286aff09bcd"
   },
   "source": [
    "`-` 2d-part: \n",
    "- 2d선형변환: nn.torch.nn.Conv2d()\n",
    "- 2d비선형변환: torch.nn.MaxPool2d(), torch.nn.ReLU()"
   ]
  },
  {
   "cell_type": "markdown",
   "id": "9bcf1846-9a62-4427-967c-696e9ac459aa",
   "metadata": {},
   "source": [
    "> 선형-비선형 변환을 반복하면 특별한 특징들을 추출할 수 있음"
   ]
  },
  {
   "cell_type": "markdown",
   "id": "af24aa79-3fdb-4f3c-ae3b-9cdf829c1427",
   "metadata": {
    "id": "93b456c5-7fa3-4aae-8d65-4d196ec9aec7"
   },
   "source": [
    "`-` 1d-part:\n",
    "- 1d선형변환: torch.nn.Linear() \n",
    "- 1d비선형변환: torch.nn.ReLU()"
   ]
  },
  {
   "cell_type": "markdown",
   "id": "91fa72c5-1cdf-47f0-9980-a9d00d0d834f",
   "metadata": {},
   "source": [
    "> **1d part에도 ReLU, Dropout을 넣기도 한다?**  \n",
    " 2d part에서 그냥 우리 옛날 예제처럼 1d로 바꿔주고 1d part에서 dropout, ReLU 등을 하는 것임! "
   ]
  },
  {
   "cell_type": "markdown",
   "id": "e08d4391-c928-477e-ae38-2a069d4c4d09",
   "metadata": {
    "id": "9143603a-3460-4ed9-ab59-e4162d172809",
    "tags": []
   },
   "source": [
    "### 예제 3) resnet34 (기존의 네트워크 사용, 순수 fastai)"
   ]
  },
  {
   "cell_type": "markdown",
   "id": "f2d1c15f-e7bf-44c6-bc92-c40dcde0e04c",
   "metadata": {
    "id": "a84b63cb-349a-404d-ab96-8e375b4dbefc"
   },
   "source": [
    "`-` 데이터로부터 새로운 데이터로더스를 만들고 이를 dls2라고 하자.\n",
    "* resnet34는 $3 \\times 28 \\times 28$ 이 기본이기 때문에 이전이 데이터로더스를 쓸 수 없음"
   ]
  },
  {
   "cell_type": "code",
   "execution_count": 54,
   "id": "f574f66d-39ce-4f49-b7d4-7055ec443486",
   "metadata": {
    "id": "370e4e59-b3ac-4ef2-badc-2a60a5c00a8d",
    "outputId": "82074220-ebc7-479d-940b-6b167c2df87e"
   },
   "outputs": [
    {
     "data": {
      "text/plain": [
       "Path('/home/khy/.fastai/data/mnist_sample')"
      ]
     },
     "execution_count": 54,
     "metadata": {},
     "output_type": "execute_result"
    }
   ],
   "source": [
    "path=untar_data(URLs.MNIST_SAMPLE) \n",
    "path"
   ]
  },
  {
   "cell_type": "code",
   "execution_count": 55,
   "id": "6b63bf9c-e558-44f9-a431-38784fb72a40",
   "metadata": {
    "id": "8c4cb9ed-d17b-476d-a1cd-d587fcb116cd"
   },
   "outputs": [],
   "source": [
    "dls2=ImageDataLoaders.from_folder(\n",
    "    path,\n",
    "    train='train',\n",
    "    valid_pct=0.2)     "
   ]
  },
  {
   "cell_type": "markdown",
   "id": "f9f48650-3d70-443f-b7f6-e10f831f1cad",
   "metadata": {
    "id": "7c6b7f57-06ab-419b-9309-a8e2084b3784"
   },
   "source": [
    "`-` 러너오브젝트를 생성하고 학습하자. "
   ]
  },
  {
   "cell_type": "code",
   "execution_count": 56,
   "id": "a94f0b35-e060-4604-ae81-f5fe32031339",
   "metadata": {
    "id": "88239f97-ea8a-45ea-a811-16ac9befb566",
    "outputId": "8fe5896f-521a-4736-ff80-0e9402309816"
   },
   "outputs": [
    {
     "data": {
      "text/html": [
       "<table border=\"1\" class=\"dataframe\">\n",
       "  <thead>\n",
       "    <tr style=\"text-align: left;\">\n",
       "      <th>epoch</th>\n",
       "      <th>train_loss</th>\n",
       "      <th>valid_loss</th>\n",
       "      <th>error_rate</th>\n",
       "      <th>time</th>\n",
       "    </tr>\n",
       "  </thead>\n",
       "  <tbody>\n",
       "    <tr>\n",
       "      <td>0</td>\n",
       "      <td>0.295091</td>\n",
       "      <td>0.136804</td>\n",
       "      <td>0.047124</td>\n",
       "      <td>00:04</td>\n",
       "    </tr>\n",
       "  </tbody>\n",
       "</table>"
      ],
      "text/plain": [
       "<IPython.core.display.HTML object>"
      ]
     },
     "metadata": {},
     "output_type": "display_data"
    },
    {
     "data": {
      "text/html": [
       "<table border=\"1\" class=\"dataframe\">\n",
       "  <thead>\n",
       "    <tr style=\"text-align: left;\">\n",
       "      <th>epoch</th>\n",
       "      <th>train_loss</th>\n",
       "      <th>valid_loss</th>\n",
       "      <th>error_rate</th>\n",
       "      <th>time</th>\n",
       "    </tr>\n",
       "  </thead>\n",
       "  <tbody>\n",
       "    <tr>\n",
       "      <td>0</td>\n",
       "      <td>0.046565</td>\n",
       "      <td>0.033614</td>\n",
       "      <td>0.013167</td>\n",
       "      <td>00:05</td>\n",
       "    </tr>\n",
       "  </tbody>\n",
       "</table>"
      ],
      "text/plain": [
       "<IPython.core.display.HTML object>"
      ]
     },
     "metadata": {},
     "output_type": "display_data"
    }
   ],
   "source": [
    "lrnr2=cnn_learner(dls2,resnet34,metrics=error_rate)\n",
    "lrnr2.fine_tune(1)"
   ]
  },
  {
   "cell_type": "markdown",
   "id": "451a9cbb-d9dd-42de-a0be-8c695dc9d719",
   "metadata": {
    "id": "05806159-6d88-4b56-9704-781114c7a98e"
   },
   "source": [
    "`-` 결과관찰"
   ]
  },
  {
   "cell_type": "code",
   "execution_count": 57,
   "id": "c9b7324c-4c6f-4afc-8115-f8618eed9f89",
   "metadata": {
    "id": "1e095c86-7c2a-4e0a-b1a4-63f7f529f91e",
    "outputId": "30d1027e-33d2-49d3-d71f-fa1d42eb9e10"
   },
   "outputs": [
    {
     "data": {
      "text/html": [],
      "text/plain": [
       "<IPython.core.display.HTML object>"
      ]
     },
     "metadata": {},
     "output_type": "display_data"
    },
    {
     "data": {
      "image/png": "[encoded data removed]",
      "text/plain": [
       "<Figure size 648x648 with 9 Axes>"
      ]
     },
     "metadata": {
      "needs_background": "light"
     },
     "output_type": "display_data"
    }
   ],
   "source": [
    "lrnr2.show_results()"
   ]
  },
  {
   "cell_type": "markdown",
   "id": "3f11cce7-36f6-499b-bf78-3fae156824d5",
   "metadata": {
    "id": "d6a39953-d313-4c9c-a6ef-7ed29d2963fd"
   },
   "source": [
    "`-` resnet은 현재 가장 성능이 좋은 모형(state of the art)중 하나이다. "
   ]
  },
  {
   "cell_type": "code",
   "execution_count": 58,
   "id": "322311e3-f6f9-4aa0-80fd-de1421853f85",
   "metadata": {
    "id": "d4ab1e42-93ac-43e1-838b-2b908e52195c",
    "outputId": "3a0b3ead-76e0-4e51-f7a3-ae042e8ca284"
   },
   "outputs": [
    {
     "data": {
      "text/plain": [
       "Sequential(\n",
       "  (0): AdaptiveConcatPool2d(\n",
       "    (ap): AdaptiveAvgPool2d(output_size=1)\n",
       "    (mp): AdaptiveMaxPool2d(output_size=1)\n",
       "  )\n",
       "  (1): Flatten(full=False)\n",
       "  (2): BatchNorm1d(1024, eps=1e-05, momentum=0.1, affine=True, track_running_stats=True)\n",
       "  (3): Dropout(p=0.25, inplace=False)\n",
       "  (4): Linear(in_features=1024, out_features=512, bias=False)\n",
       "  (5): ReLU(inplace=True)\n",
       "  (6): BatchNorm1d(512, eps=1e-05, momentum=0.1, affine=True, track_running_stats=True)\n",
       "  (7): Dropout(p=0.5, inplace=False)\n",
       "  (8): Linear(in_features=512, out_features=2, bias=False)\n",
       ")"
      ]
     },
     "execution_count": 58,
     "metadata": {},
     "output_type": "execute_result"
    }
   ],
   "source": [
    "lrnr2.model[1] #2d part\n",
    "#lrnr2.model[0] #1d part"
   ]
  },
  {
   "cell_type": "markdown",
   "id": "9cf09ef9-8fc0-495c-b0ba-79662f91c017",
   "metadata": {
    "id": "90f29638-5204-43c0-8e97-13cddcf1c2cd"
   },
   "source": [
    "`-` 특징 \n",
    "- 2d-part: 입력채널이3이다, Conv2d에 padding/stride의 옵션이 있다, 드랍아웃이 없다, 배치정규화(BatchNorm1d)가 있다.\n",
    "> 흑백이미지라 입력채널 1개로 충분하지만, 일반화를 위해 입력채널 3개임. 그래서 우리가 이전에 만든 dls를 쓸 수 없는 것\n",
    "- 1d-part: 배치정규화가 있다, 출력의 차원이 2이다."
   ]
  },
  {
   "cell_type": "markdown",
   "id": "206defea-5dc7-42e7-8d33-1a0d39699dc8",
   "metadata": {
    "id": "1e76fbf6-c7aa-4f17-a3c3-f50f43681b5a"
   },
   "source": [
    "***DLS, Networks***\n",
    "- 네트워크의 형태에 따라서 dls의 형태도 다르게 만들어야 한다. \n",
    "- MLP모형: 입력이 $784$, 첫 네트워크의 형태가 $784 \\to 30$ 인 torch.nn.Linear()\n",
    "- CNN모형: 입력이 $1\\times 28 \\times 28$, 첫 네트워크의 형태가 $1\\times 28 \\times 28 \\to 16 \\times 24 \\times 24$ 인 torch.nn.Conv2d()\n",
    "- Resnet34: 입력이 $3\\times 28 \\times 28$, 첫 네트워크의 형태가 $3\\times 28 \\times 28 \\to 3\\times 28 \\times 28$ 유지"
   ]
  },
  {
   "cell_type": "markdown",
   "id": "dd1baa14-323f-4860-9fd1-2a7b8f86c43b",
   "metadata": {
    "id": "c2eec0e6-bc56-49ba-8d40-4ba1fb4cc815"
   },
   "source": [
    "***참고***\n",
    "\n",
    "|$y$|분포가정|마지막층의 활성화함수|손실함수(파이토치)|\n",
    "|:--:|:--:|:--:|:--:|\n",
    "|3.45, 4.43, ... (연속형) |정규분포|Linear|MSEloss|\n",
    "|0 or 1|이항분포(베르누이)|Sigmoid| BCEloss|\n",
    "|[0,0,1], [0,1,0], [1,0,0]| 다항분포|Softmax| CrossEntropyLoss|"
   ]
  },
  {
   "cell_type": "markdown",
   "id": "9a44fde0-5d8f-4f32-890f-68f419518387",
   "metadata": {},
   "source": [
    "---"
   ]
  },
  {
   "cell_type": "markdown",
   "id": "85aaff8d-c879-4e3a-8771-091f9d17458f",
   "metadata": {
    "id": "f66d6519-601b-4c76-a417-182d10752086"
   },
   "source": [
    "### 설명가능한 CNN모형"
   ]
  },
  {
   "cell_type": "markdown",
   "id": "6045975f-718a-4f5d-bc5e-4aa0fb296a50",
   "metadata": {
    "id": "06e595b7-0505-4cc7-90a8-cd563656a155"
   },
   "source": [
    "`-` 현재까지의 모형 \n",
    "- 1단계: 2d선형변환 $\\to$ 2d비선형변환 \n",
    "- 2단계: Flatten $\\to$ MLP"
   ]
  },
  {
   "cell_type": "markdown",
   "id": "d40acfe9-b495-4527-9d43-0a46c2509bf4",
   "metadata": {
    "id": "ffe049dc-4e2b-4045-b316-e9b32742f228"
   },
   "source": [
    "`-` lrnr1모형을 다시 복습"
   ]
  },
  {
   "cell_type": "code",
   "execution_count": 59,
   "id": "e3a9bdfe-aa4c-408f-ad7f-e1d5c5673926",
   "metadata": {
    "id": "0793ecf2-1d18-4998-9b0b-d13c848876a9",
    "outputId": "5a04217e-1c3e-40cf-f66e-897c2c4f3654"
   },
   "outputs": [
    {
     "data": {
      "text/plain": [
       "Sequential(\n",
       "  (0): Conv2d(1, 16, kernel_size=(5, 5), stride=(1, 1))\n",
       "  (1): MaxPool2d(kernel_size=2, stride=2, padding=0, dilation=1, ceil_mode=False)\n",
       "  (2): ReLU()\n",
       "  (3): Dropout2d(p=0.5, inplace=False)\n",
       "  (4): Flatten()\n",
       "  (5): Linear(in_features=2304, out_features=1, bias=True)\n",
       ")"
      ]
     },
     "execution_count": 59,
     "metadata": {},
     "output_type": "execute_result"
    }
   ],
   "source": [
    "lrnr1.model"
   ]
  },
  {
   "cell_type": "code",
   "execution_count": 60,
   "id": "e7f20015-5472-42e7-a0a0-ee09a898bcd5",
   "metadata": {
    "id": "3401eb78-0d8e-4b84-85d1-40ff76532bff"
   },
   "outputs": [],
   "source": [
    "net1=torch.nn.Sequential(\n",
    "    lrnr1.model[0],\n",
    "    lrnr1.model[1],\n",
    "    lrnr1.model[2],\n",
    "    lrnr1.model[3])"
   ]
  },
  {
   "cell_type": "code",
   "execution_count": 61,
   "id": "ced6c276-c79f-476e-a4e9-f4a01f3510a9",
   "metadata": {
    "id": "7729864c-1a98-4203-a6dd-f17d4709b2fe",
    "outputId": "ded4cfef-3348-4804-92c3-6ba862566614"
   },
   "outputs": [
    {
     "data": {
      "text/plain": [
       "torch.Size([12396, 16, 12, 12])"
      ]
     },
     "execution_count": 61,
     "metadata": {},
     "output_type": "execute_result"
    }
   ],
   "source": [
    "net1(X.to('cuda:0')).shape"
   ]
  },
  {
   "cell_type": "markdown",
   "id": "f20d8214-aa7a-47f7-86d9-5410b7928f7b",
   "metadata": {
    "id": "1bf2d516-f98e-4ca2-b230-ab586ce5b1eb"
   },
   "source": [
    "`-` 1단계까지의 출력결과를 시각화 "
   ]
  },
  {
   "cell_type": "code",
   "execution_count": 62,
   "id": "512e81d5-74a4-4b23-9d54-9c05e4da2410",
   "metadata": {
    "id": "1616a037-429f-47ca-a4b3-082b880ef534",
    "outputId": "faf8e948-f041-4fe1-97ab-1164971ba860"
   },
   "outputs": [
    {
     "data": {
      "image/png": "[encoded data removed]",
      "text/plain": [
       "<Figure size 576x576 with 16 Axes>"
      ]
     },
     "metadata": {
      "needs_background": "light"
     },
     "output_type": "display_data"
    }
   ],
   "source": [
    "fig, axs = plt.subplots(4,4) \n",
    "k=0\n",
    "for i in range(4):\n",
    "    for j in range(4):\n",
    "        axs[i,j].imshow(net1(X.to(\"cuda:0\"))[0][k].to(\"cpu\").data)\n",
    "        k=k+1\n",
    "fig.set_figheight(8)\n",
    "fig.set_figwidth(8)\n",
    "fig.tight_layout()"
   ]
  },
  {
   "cell_type": "markdown",
   "id": "f77f00be-5060-42b4-b6a1-32de13b04784",
   "metadata": {
    "id": "d187b0b5-4a2d-485b-8812-7177823baec4"
   },
   "source": [
    "#### net1은 유지+ net2의 구조를 변경!!"
   ]
  },
  {
   "cell_type": "code",
   "execution_count": 63,
   "id": "8b1ba9dd-2e89-41fe-96af-cff3c2f83c06",
   "metadata": {
    "id": "93e54e8f-92ac-4ac8-8e5a-0a4d5c7067b7",
    "outputId": "405b530c-ec2a-420d-9705-ca4cda9dfebd"
   },
   "outputs": [
    {
     "data": {
      "text/plain": [
       "Sequential(\n",
       "  (0): Conv2d(1, 16, kernel_size=(5, 5), stride=(1, 1))\n",
       "  (1): MaxPool2d(kernel_size=2, stride=2, padding=0, dilation=1, ceil_mode=False)\n",
       "  (2): ReLU()\n",
       "  (3): Dropout2d(p=0.5, inplace=False)\n",
       "  (4): Flatten()\n",
       "  (5): Linear(in_features=2304, out_features=1, bias=True)\n",
       ")"
      ]
     },
     "execution_count": 63,
     "metadata": {},
     "output_type": "execute_result"
    }
   ],
   "source": [
    "lrnr1.model"
   ]
  },
  {
   "cell_type": "markdown",
   "id": "3b3ad660-5277-4ccf-bd46-909b1ebf04e7",
   "metadata": {
    "id": "3c6225fd-75b9-4653-8fe8-14263ba28d5b"
   },
   "source": [
    "`-` 계획 \n",
    "- 변경전net2: $(n,16,12,12) \\overset{flatten}{\\Longrightarrow} (n,?) \\overset{Linear(?,1)}{\\Longrightarrow} (n,1)$\n",
    "- 변경후net2: $(n,16,12,12) \\overset{gap+flatten}{\\Longrightarrow} (n,16) \\overset{Linear(16,1)}{\\Longrightarrow} (n,1)$"
   ]
  },
  {
   "cell_type": "markdown",
   "id": "c1f6482c-e6f2-4bbb-83d9-494c5df197a9",
   "metadata": {
    "id": "bf0cc3c5-c945-4027-bfd7-f47d8bfb0c84"
   },
   "source": [
    "`-` gap: 12$\\times$12 픽셀을 평균내서 하나의 값으로 대표하자.\n",
    "> ap(average pooling)는 그냥 평균"
   ]
  },
  {
   "cell_type": "code",
   "execution_count": 64,
   "id": "4809c9e1-271c-41a1-9efe-73439ac3231c",
   "metadata": {
    "id": "116e4114-bd1f-4add-bf65-a09111244878"
   },
   "outputs": [],
   "source": [
    "ap=torch.nn.AdaptiveAvgPool2d(output_size=1)"
   ]
  },
  {
   "cell_type": "code",
   "execution_count": 65,
   "id": "bb4811db-df65-4931-ab03-44ca8fd91f6f",
   "metadata": {
    "id": "913d191a-3af7-4f75-a9bc-abb494311d5e",
    "outputId": "db58872d-34d8-47b7-c2e0-815ed5be635b"
   },
   "outputs": [
    {
     "data": {
      "text/plain": [
       "torch.Size([12396, 16, 1, 1])"
      ]
     },
     "execution_count": 65,
     "metadata": {},
     "output_type": "execute_result"
    }
   ],
   "source": [
    "ap(net1(X.to(\"cuda:0\"))).shape"
   ]
  },
  {
   "cell_type": "markdown",
   "id": "f481de1b-095b-46c9-8af7-3546707919ce",
   "metadata": {
    "id": "cf1ec3f5-b130-4832-b6bd-79aef6cf3ca1"
   },
   "source": [
    "`-` flatten "
   ]
  },
  {
   "cell_type": "code",
   "execution_count": 66,
   "id": "a8e48a88-65e0-49fd-ac05-c6d6ef2b4578",
   "metadata": {
    "id": "0da2d12d-9d94-4378-8c10-52d96bfc32ba",
    "outputId": "48caa96d-ea7f-4771-faec-61216753112b"
   },
   "outputs": [
    {
     "data": {
      "text/plain": [
       "torch.Size([12396, 16])"
      ]
     },
     "execution_count": 66,
     "metadata": {},
     "output_type": "execute_result"
    }
   ],
   "source": [
    "flatten(ap(net1(X.to(\"cuda:0\")))).shape"
   ]
  },
  {
   "cell_type": "markdown",
   "id": "357e69de-353f-4d51-b128-c750abd766f1",
   "metadata": {
    "id": "1a4daac2-3f81-4427-b99a-66035ef20f49"
   },
   "source": [
    "`-` linear "
   ]
  },
  {
   "cell_type": "code",
   "execution_count": 67,
   "id": "377cb8e0-0583-48de-92d6-ff0ffd495d03",
   "metadata": {
    "id": "5c642ee5-3516-4182-be84-9c34e52ea59c"
   },
   "outputs": [],
   "source": [
    "_l1=torch.nn.Linear(16,1,bias=False) "
   ]
  },
  {
   "cell_type": "code",
   "execution_count": 68,
   "id": "17dcf6c0-ae52-4ea6-ba62-c9e007da24a1",
   "metadata": {
    "id": "229e9bda-2b0c-41e5-b877-5c3fdc801ff8",
    "outputId": "1841387e-ad7e-4def-f505-097c5e49ab36"
   },
   "outputs": [
    {
     "data": {
      "text/plain": [
       "Linear(in_features=16, out_features=1, bias=False)"
      ]
     },
     "execution_count": 68,
     "metadata": {},
     "output_type": "execute_result"
    }
   ],
   "source": [
    "_l1.to(\"cuda:0\")"
   ]
  },
  {
   "cell_type": "code",
   "execution_count": 69,
   "id": "18f875e5-e189-4d8a-968e-0e4ecf4fb712",
   "metadata": {
    "id": "827f7202-5864-48be-94e1-74bad9e49d3c",
    "outputId": "19b456c8-1b36-47fd-bbbd-e12e528dd4ce"
   },
   "outputs": [
    {
     "data": {
      "text/plain": [
       "torch.Size([12396, 1])"
      ]
     },
     "execution_count": 69,
     "metadata": {},
     "output_type": "execute_result"
    }
   ],
   "source": [
    "_l1(flatten(ap(net1(X.to(\"cuda:0\"))))).shape"
   ]
  },
  {
   "cell_type": "markdown",
   "id": "476e0d49-4f14-4422-a8d0-09975295dbc0",
   "metadata": {
    "id": "68ef83c9-75d7-4f70-ba72-042f1ae5f40e"
   },
   "source": [
    "`-` 이걸 net2로 구성하자. $\\to$ (net1,net2)를 묶어서 하나의 새로운 네트워크를 만들자. "
   ]
  },
  {
   "cell_type": "code",
   "execution_count": 70,
   "id": "ccae75f2-5264-4748-9f92-5874d349faa1",
   "metadata": {
    "id": "1791de93-f3f0-4593-a029-1f7a8f3c0180"
   },
   "outputs": [],
   "source": [
    "net2=torch.nn.Sequential(\n",
    "    torch.nn.AdaptiveAvgPool2d(1),\n",
    "    Flatten(),\n",
    "    torch.nn.Linear(16,1,bias=False))"
   ]
  },
  {
   "cell_type": "code",
   "execution_count": 71,
   "id": "8a730633-e938-490e-8234-8853d2f6ed1d",
   "metadata": {
    "id": "3eb3c2a1-ac1a-4a40-bad2-b6dac917359f",
    "outputId": "25f656b6-36ec-46ca-db21-b2ee4fd7a011"
   },
   "outputs": [
    {
     "data": {
      "text/plain": [
       "Sequential(\n",
       "  (0): Sequential(\n",
       "    (0): Conv2d(1, 16, kernel_size=(5, 5), stride=(1, 1))\n",
       "    (1): MaxPool2d(kernel_size=2, stride=2, padding=0, dilation=1, ceil_mode=False)\n",
       "    (2): ReLU()\n",
       "    (3): Dropout2d(p=0.5, inplace=False)\n",
       "  )\n",
       "  (1): Sequential(\n",
       "    (0): AdaptiveAvgPool2d(output_size=1)\n",
       "    (1): Flatten()\n",
       "    (2): Linear(in_features=16, out_features=1, bias=False)\n",
       "  )\n",
       ")"
      ]
     },
     "execution_count": 71,
     "metadata": {},
     "output_type": "execute_result"
    }
   ],
   "source": [
    "net=torch.nn.Sequential(net1,net2) \n",
    "net"
   ]
  },
  {
   "cell_type": "markdown",
   "id": "89f7cf42-931f-4690-ab3a-6820e7b6f5ca",
   "metadata": {
    "id": "f1403378-cf2a-4932-bd9a-d38f9fae713a"
   },
   "source": [
    "`-` 수정된 네트워크로 lrnr3을 만들고 재학습"
   ]
  },
  {
   "cell_type": "code",
   "execution_count": 72,
   "id": "b3d1a7b9-9e1f-4105-8013-f65914fa2537",
   "metadata": {
    "id": "68ed2a98-0e98-4cd2-bc03-99264693454b"
   },
   "outputs": [],
   "source": [
    "ds=torch.utils.data.TensorDataset(X,y)\n",
    "ds1,ds2=torch.utils.data.random_split(ds,[10000,2396])\n",
    "dl1=torch.utils.data.DataLoader(ds1,batch_size=1000)\n",
    "dl2=torch.utils.data.DataLoader(ds2,batch_size=2396)\n",
    "dls=DataLoaders(dl1,dl2)"
   ]
  },
  {
   "cell_type": "code",
   "execution_count": 73,
   "id": "1fcd0b5e-0033-4e45-bb50-842b40823a33",
   "metadata": {
    "id": "3b54604b-04de-49c0-a373-5679a8f75733"
   },
   "outputs": [],
   "source": [
    "lrnr3=Learner(dls,net,opt_func=Adam,loss_func=loss_fn,lr=0.1)"
   ]
  },
  {
   "cell_type": "code",
   "execution_count": 74,
   "id": "45428214-e006-4b22-90e1-05855b6120da",
   "metadata": {
    "id": "f24cd122-4484-4a4d-99ce-a4fdf267b9e0",
    "outputId": "f06039f5-a357-4d58-8140-a2364b0621c7"
   },
   "outputs": [
    {
     "data": {
      "text/html": [
       "<table border=\"1\" class=\"dataframe\">\n",
       "  <thead>\n",
       "    <tr style=\"text-align: left;\">\n",
       "      <th>epoch</th>\n",
       "      <th>train_loss</th>\n",
       "      <th>valid_loss</th>\n",
       "      <th>time</th>\n",
       "    </tr>\n",
       "  </thead>\n",
       "  <tbody>\n",
       "    <tr>\n",
       "      <td>0</td>\n",
       "      <td>0.716487</td>\n",
       "      <td>0.689939</td>\n",
       "      <td>00:00</td>\n",
       "    </tr>\n",
       "    <tr>\n",
       "      <td>1</td>\n",
       "      <td>0.702248</td>\n",
       "      <td>0.688443</td>\n",
       "      <td>00:00</td>\n",
       "    </tr>\n",
       "    <tr>\n",
       "      <td>2</td>\n",
       "      <td>0.696845</td>\n",
       "      <td>0.686715</td>\n",
       "      <td>00:00</td>\n",
       "    </tr>\n",
       "    <tr>\n",
       "      <td>3</td>\n",
       "      <td>0.693859</td>\n",
       "      <td>0.685074</td>\n",
       "      <td>00:00</td>\n",
       "    </tr>\n",
       "    <tr>\n",
       "      <td>4</td>\n",
       "      <td>0.691124</td>\n",
       "      <td>0.677512</td>\n",
       "      <td>00:00</td>\n",
       "    </tr>\n",
       "    <tr>\n",
       "      <td>5</td>\n",
       "      <td>0.688363</td>\n",
       "      <td>0.672192</td>\n",
       "      <td>00:00</td>\n",
       "    </tr>\n",
       "    <tr>\n",
       "      <td>6</td>\n",
       "      <td>0.685221</td>\n",
       "      <td>0.665444</td>\n",
       "      <td>00:00</td>\n",
       "    </tr>\n",
       "    <tr>\n",
       "      <td>7</td>\n",
       "      <td>0.681945</td>\n",
       "      <td>0.658962</td>\n",
       "      <td>00:00</td>\n",
       "    </tr>\n",
       "    <tr>\n",
       "      <td>8</td>\n",
       "      <td>0.677788</td>\n",
       "      <td>0.650641</td>\n",
       "      <td>00:00</td>\n",
       "    </tr>\n",
       "    <tr>\n",
       "      <td>9</td>\n",
       "      <td>0.673035</td>\n",
       "      <td>0.639372</td>\n",
       "      <td>00:00</td>\n",
       "    </tr>\n",
       "  </tbody>\n",
       "</table>"
      ],
      "text/plain": [
       "<IPython.core.display.HTML object>"
      ]
     },
     "metadata": {},
     "output_type": "display_data"
    }
   ],
   "source": [
    "lrnr3.fit(10)"
   ]
  },
  {
   "cell_type": "markdown",
   "id": "4c888c66-1db6-4d5e-89bb-70ac69e5bd92",
   "metadata": {
    "id": "da7176cb-f98b-4485-9cd0-9646ddf86ba6"
   },
   "source": [
    "### CAM: observation을 1개로 고정하고 net2에서 layer의 순서를 바꿔서 시각화"
   ]
  },
  {
   "cell_type": "markdown",
   "id": "a21cd1c5-201e-4120-9057-e0de96ff3925",
   "metadata": {
    "id": "76a745be-1e17-4397-acb2-bf3165b849fd"
   },
   "source": [
    "`-` 계획 \n",
    "- 변경전net2: $(n,16,12,12) \\overset{flatten}{\\Longrightarrow} (n,?) \\overset{Linear(?,1)}{\\Longrightarrow} (n,1)$\n",
    "- 변경후net2: $(n,16,12,12) \\overset{gap+flatten}{\\Longrightarrow} (n,16) \\overset{Linear(16,1)}{\\Longrightarrow} (n,1)$\n",
    "- CAM: $(1,16,12,12) \\overset{Linear(16,1)+flatten}{\\Longrightarrow} (12,12) \\overset{gap}{\\Longrightarrow} 1$"
   ]
  },
  {
   "cell_type": "markdown",
   "id": "af59a64e-5231-4829-82d8-4ca95bed2b5b",
   "metadata": {
    "id": "a8606fc0-b9c5-45a7-8d46-7b476909ac89"
   },
   "source": [
    "`-` 준비과정1: 시각화할 샘플을 하나 준비하자. "
   ]
  },
  {
   "cell_type": "code",
   "execution_count": 75,
   "id": "168e4bca-b604-49ca-af31-b621dcae3224",
   "metadata": {
    "id": "73bf7a76-0d90-40e9-a003-fc39b30acf37",
    "outputId": "5358703f-9a5f-45de-a101-f70670eea38b"
   },
   "outputs": [
    {
     "data": {
      "text/plain": [
       "(torch.Size([12396, 1, 28, 28]), torch.Size([1, 28, 28]))"
      ]
     },
     "execution_count": 75,
     "metadata": {},
     "output_type": "execute_result"
    }
   ],
   "source": [
    "x=X[100]\n",
    "X.shape,x.shape"
   ]
  },
  {
   "cell_type": "markdown",
   "id": "7ab97c31-1409-4e72-aa9c-f8b4a31fe9cb",
   "metadata": {
    "id": "80931103-b5ce-4518-b0b5-a2bff8c1dd02"
   },
   "source": [
    "- 차원이 다르므로 나중에 네트워크에 넣을때 문제가 생길 수 있음 $\\to$ 차원을 맞춰주자"
   ]
  },
  {
   "cell_type": "code",
   "execution_count": 76,
   "id": "3bbc389b-4bc6-49a0-acf4-02ee73b3ced9",
   "metadata": {
    "id": "ee314a9e-c73c-433c-9f66-09c992452950"
   },
   "outputs": [],
   "source": [
    "x=x.reshape(1,1,28,28) "
   ]
  },
  {
   "cell_type": "code",
   "execution_count": 77,
   "id": "2f7ea017-2d5a-4744-8f02-d97f94e1ff0b",
   "metadata": {
    "id": "b0cddb1b-a505-4056-9546-7c47439a97b8",
    "outputId": "4fb56856-5162-456a-a3ed-f60b29f8bc1b"
   },
   "outputs": [
    {
     "data": {
      "text/plain": [
       "<matplotlib.image.AxesImage at 0x7f38519e34f0>"
      ]
     },
     "execution_count": 77,
     "metadata": {},
     "output_type": "execute_result"
    },
    {
     "data": {
      "image/png": "[encoded data removed]",
      "text/plain": [
       "<Figure size 432x288 with 1 Axes>"
      ]
     },
     "metadata": {
      "needs_background": "light"
     },
     "output_type": "display_data"
    }
   ],
   "source": [
    "plt.imshow(x.squeeze())"
   ]
  },
  {
   "cell_type": "markdown",
   "id": "9f21f20f-60d9-4b52-b1f4-a043846968bf",
   "metadata": {
    "id": "0f3ce075-b6cb-4425-8e5a-769d0c7c69af"
   },
   "source": [
    "`-` 준비과정2: 계산과 시각화를 위해서 각 네트워크를 cpu로 옮기자. (fastai로 학습한 직후라 GPU에 있음)"
   ]
  },
  {
   "cell_type": "code",
   "execution_count": 78,
   "id": "c12d7eaf-17d1-407e-ab5c-719b6056974f",
   "metadata": {
    "id": "e7ba362c-dc89-4314-ac63-c2fb1225613d",
    "outputId": "7ecb67f3-227f-4862-c10e-efdb6209a0c6"
   },
   "outputs": [
    {
     "data": {
      "text/plain": [
       "Sequential(\n",
       "  (0): AdaptiveAvgPool2d(output_size=1)\n",
       "  (1): Flatten()\n",
       "  (2): Linear(in_features=16, out_features=1, bias=False)\n",
       ")"
      ]
     },
     "execution_count": 78,
     "metadata": {},
     "output_type": "execute_result"
    }
   ],
   "source": [
    "net1.to('cpu')\n",
    "net2.to('cpu')"
   ]
  },
  {
   "cell_type": "markdown",
   "id": "1ed14961-57d3-4a04-b171-86feb8996dbf",
   "metadata": {
    "id": "9bef02c7-d5b1-41b5-865b-ecfc9fbb5174"
   },
   "source": [
    "`-` forward확인: 이 값을 기억하자. "
   ]
  },
  {
   "cell_type": "code",
   "execution_count": 79,
   "id": "42dba458-a3a0-4cb0-8393-a774b2e6455e",
   "metadata": {
    "id": "177bcf0c-391d-4508-978f-a19ff2fcce1b",
    "outputId": "e57aaa31-5592-4f63-e3ee-548c5d48e4a3"
   },
   "outputs": [
    {
     "data": {
      "text/plain": [
       "tensor([[-0.5238]], grad_fn=<MmBackward>)"
      ]
     },
     "execution_count": 79,
     "metadata": {},
     "output_type": "execute_result"
    }
   ],
   "source": [
    "net2(net1(x)) ## 음수이므로 class=7 이라고 CNN이 판단 "
   ]
  },
  {
   "cell_type": "markdown",
   "id": "7d9fe0e7-b097-4d38-a62b-6d0590fc9c0f",
   "metadata": {
    "id": "fb354c7a-488a-405b-94c4-32dabd56a0c4"
   },
   "source": [
    "`-` net2를 수정하고 forward값 확인 "
   ]
  },
  {
   "cell_type": "code",
   "execution_count": 80,
   "id": "a8b23072-5586-4f84-be3b-e09db5db8260",
   "metadata": {
    "id": "20a6fe38-e4da-46e4-9647-9360c13d9e65",
    "outputId": "eb0169cf-e5e0-4938-cd41-48dc96873466"
   },
   "outputs": [
    {
     "data": {
      "text/plain": [
       "Sequential(\n",
       "  (0): AdaptiveAvgPool2d(output_size=1)\n",
       "  (1): Flatten()\n",
       "  (2): Linear(in_features=16, out_features=1, bias=False)\n",
       ")"
      ]
     },
     "execution_count": 80,
     "metadata": {},
     "output_type": "execute_result"
    }
   ],
   "source": [
    "net2"
   ]
  },
  {
   "cell_type": "markdown",
   "id": "9aa69f0b-f366-4b77-866c-16bd26bf1267",
   "metadata": {
    "id": "a4283fc1-40d5-45b2-a281-ed49af3129b8"
   },
   "source": [
    "`-` 차원확인"
   ]
  },
  {
   "cell_type": "code",
   "execution_count": 81,
   "id": "99fb0ce2-51c9-4524-80e0-d425ee5d3de6",
   "metadata": {
    "id": "e587552f-5c9a-44b3-9c25-a9144f990d6e",
    "outputId": "3730564f-bb65-4b9d-8c65-16911ee1c37b"
   },
   "outputs": [
    {
     "data": {
      "text/plain": [
       "torch.Size([16, 12, 12])"
      ]
     },
     "execution_count": 81,
     "metadata": {},
     "output_type": "execute_result"
    }
   ],
   "source": [
    "net1(x).squeeze().shape"
   ]
  },
  {
   "cell_type": "code",
   "execution_count": 86,
   "id": "39491915-f0c9-4fdd-9f4a-d10598318fa2",
   "metadata": {
    "id": "e587552f-5c9a-44b3-9c25-a9144f990d6e",
    "outputId": "3730564f-bb65-4b9d-8c65-16911ee1c37b"
   },
   "outputs": [
    {
     "data": {
      "text/plain": [
       "torch.Size([1, 16, 12, 12])"
      ]
     },
     "execution_count": 86,
     "metadata": {},
     "output_type": "execute_result"
    }
   ],
   "source": [
    "net1(x).shape"
   ]
  },
  {
   "cell_type": "code",
   "execution_count": 82,
   "id": "ead4d93d-5cc1-4b4d-93bc-6f305363238e",
   "metadata": {
    "id": "a9a3001b-28c3-4692-95e4-7ffbfb45bd91",
    "outputId": "6ddccd99-b958-4f19-ab43-d58d97f01319"
   },
   "outputs": [
    {
     "data": {
      "text/plain": [
       "torch.Size([16])"
      ]
     },
     "execution_count": 82,
     "metadata": {},
     "output_type": "execute_result"
    }
   ],
   "source": [
    "net2[2].weight.squeeze().shape"
   ]
  },
  {
   "cell_type": "markdown",
   "id": "8a4208c2-9f8d-4809-9e7c-9941972cc3ff",
   "metadata": {
    "id": "21400cdd-8eb4-4a9a-9665-f8aa5077c5c4"
   },
   "source": [
    "**Linear(in_features=16, out_features=1, bias=False)** 를 적용: 16 $\\times$ (16,12,12) $\\to$ (12,12) "
   ]
  },
  {
   "cell_type": "code",
   "execution_count": 83,
   "id": "588acfda-7ca5-4ff0-a938-4d159d2061ba",
   "metadata": {
    "id": "b835533f-425c-4a4c-bed8-7029edaf9e0d",
    "outputId": "d0d4b088-abb5-4959-bc00-47df1f8cee33"
   },
   "outputs": [
    {
     "data": {
      "text/plain": [
       "torch.Size([12, 12])"
      ]
     },
     "execution_count": 83,
     "metadata": {},
     "output_type": "execute_result"
    }
   ],
   "source": [
    "camimg=torch.einsum('i,ijk -> jk',net2[2].weight.squeeze(), net1(x).squeeze()) #어떻게 변해야 하는지를 알려줘야 함\n",
    "camimg.shape"
   ]
  },
  {
   "cell_type": "markdown",
   "id": "42d93932-e046-4fc1-b161-46b39409f9a6",
   "metadata": {
    "id": "ddc493a6-9551-48b9-b627-d0bddae3ac5b"
   },
   "source": [
    "**AdaptiveAvgPool2d(output_size=1)** 를 적용"
   ]
  },
  {
   "cell_type": "code",
   "execution_count": 84,
   "id": "1eabef3f-f2d4-47a0-92c0-3c715d952d48",
   "metadata": {
    "id": "50572a4b-ef74-4529-a769-b54e556f9c50",
    "outputId": "231832c2-ba89-4a07-e0dc-00af7048a911"
   },
   "outputs": [
    {
     "data": {
      "text/plain": [
       "tensor([[-0.5238]], grad_fn=<MeanBackward1>)"
      ]
     },
     "execution_count": 84,
     "metadata": {},
     "output_type": "execute_result"
    }
   ],
   "source": [
    "ap(camimg)"
   ]
  },
  {
   "cell_type": "markdown",
   "id": "502df282-0f18-4e31-b52b-dfebb2e5693d",
   "metadata": {
    "id": "8b7ff87f-9eb1-4dc9-a2c0-a7fcbd3a5c45"
   },
   "source": [
    "★`-` 아래의 값이 같다. "
   ]
  },
  {
   "cell_type": "code",
   "execution_count": 85,
   "id": "4cd10c68-eb12-43cc-a5b5-21b2e5bfafd4",
   "metadata": {
    "id": "ed0b7d24-7ee6-4f12-b0db-74147c0d3f4f",
    "outputId": "be8b3b79-b88d-47c9-a8a2-707e7bea4816"
   },
   "outputs": [
    {
     "data": {
      "text/plain": [
       "(tensor([[-0.5238]], grad_fn=<MmBackward>),\n",
       " tensor([[-0.5238]], grad_fn=<MeanBackward1>))"
      ]
     },
     "execution_count": 85,
     "metadata": {},
     "output_type": "execute_result"
    }
   ],
   "source": [
    "net2(net1(x)),ap(camimg)"
   ]
  },
  {
   "cell_type": "markdown",
   "id": "92f0728e-93f9-4c29-a129-9fb99594f439",
   "metadata": {
    "id": "ef04f3ba-3573-4d9b-a116-9390daa81efa"
   },
   "source": [
    "`-` 왜냐하면 ap와 선형변환 모두 linear이므로 순서를 바꿔도 상관없음 "
   ]
  },
  {
   "cell_type": "markdown",
   "id": "01ffb457-71db-438e-8798-5a7e30ff2ee8",
   "metadata": {
    "id": "6bc3069f-6a56-469c-bace-a3cab83fa976"
   },
   "source": [
    "`-` 이제 camimg 에 관심을 가져보자. "
   ]
  },
  {
   "cell_type": "code",
   "execution_count": 101,
   "id": "6b5e1b77-6157-4516-87ec-b13b53e51cf9",
   "metadata": {
    "id": "1d93e7fb-d599-4361-b48f-154a6364e16f",
    "outputId": "b2fe1bfb-3241-4fd2-8561-7b6ea01a2e8a"
   },
   "outputs": [
    {
     "data": {
      "text/plain": [
       "tensor([[-0.8703, -0.8703, -0.8703, -0.8703, -0.8703, -0.8703, -0.8703, -0.8703,\n",
       "         -0.8703, -0.8703, -0.8703, -0.8703],\n",
       "        [-0.8703, -0.8703, -0.8703, -0.8703, -0.8703, -0.0642, -0.0699,  0.0000,\n",
       "          0.0000,  4.7832,  6.2696, -0.8703],\n",
       "        [-0.8703, -0.8703, -0.8703, -0.8703,  0.0000,  0.0000,  0.0000,  0.0000,\n",
       "          0.0000,  2.2098,  8.6752, -0.8703],\n",
       "        [-0.8703, -0.8703, -0.8703,  0.0000,  0.0000,  0.0000,  0.0000,  0.0000,\n",
       "          0.0000,  0.0000,  0.0000, -0.8703],\n",
       "        [-0.8703, -0.4438,  0.0000,  0.0000,  0.0000,  0.0000,  0.0000,  0.0000,\n",
       "          0.0000,  0.0000,  0.0000, -0.8703],\n",
       "        [-0.4438,  0.0000,  0.0000,  0.0000,  0.0000,  0.0000,  0.0000,  0.0000,\n",
       "          0.0000,  0.0000, -0.4498, -0.8703],\n",
       "        [ 0.0000,  0.0000,  0.0000,  0.0000,  0.0000,  0.0000,  0.0000,  0.0000,\n",
       "          0.0000,  0.0000, -0.8808, -0.8703],\n",
       "        [ 6.4213,  7.9686,  0.0000,  0.0000, -0.1827, -0.8703,  0.0000,  0.0000,\n",
       "          0.0000, -0.3028, -0.8703, -0.8703],\n",
       "        [ 0.1681,  3.7961, -0.0220, -0.8703, -0.8703, -0.0173,  0.0000,  0.0000,\n",
       "          0.0000, -0.8703, -0.8703, -0.8703],\n",
       "        [-0.8703, -0.8703, -0.8703, -0.8703, -0.8703,  0.0000,  0.0000,  0.0000,\n",
       "          0.0000, -0.8738, -0.8703, -0.8703],\n",
       "        [-0.8703, -0.8703, -0.8703, -0.8703, -0.4438,  0.0000,  0.0000,  0.0000,\n",
       "         -0.3890, -0.8703, -0.8703, -0.8703],\n",
       "        [-0.8703, -0.8703, -0.8703, -0.8703,  5.5741,  6.3670,  0.0000,  0.0000,\n",
       "         -0.8703, -0.8703, -0.8703, -0.8703]], grad_fn=<ViewBackward>)"
      ]
     },
     "execution_count": 101,
     "metadata": {},
     "output_type": "execute_result"
    }
   ],
   "source": [
    "camimg"
   ]
  },
  {
   "cell_type": "code",
   "execution_count": 102,
   "id": "586af3f1-1cba-4d95-a0ed-42e91a9d3cf7",
   "metadata": {
    "id": "c50990f3-79be-4bd1-9210-7c0f21f3c422",
    "outputId": "52deac04-22dd-493d-840c-377d2d006c0c"
   },
   "outputs": [
    {
     "data": {
      "text/plain": [
       "(tensor([[-0.0378]], grad_fn=<MeanBackward1>),\n",
       " tensor(-0.0378, grad_fn=<MeanBackward0>))"
      ]
     },
     "execution_count": 102,
     "metadata": {},
     "output_type": "execute_result"
    }
   ],
   "source": [
    "ap(camimg), torch.mean(camimg)"
   ]
  },
  {
   "cell_type": "markdown",
   "id": "fa1e3a31-ae60-45c5-b494-07ec74f74c1f",
   "metadata": {
    "id": "efa8ce40-062d-402a-8995-30bac98ecc7a"
   },
   "source": [
    "`-` 결국 특정픽셀에서 큰 음의 값이 나오기 떄문에 궁극적으로는 평균이 음수가 된다. \n",
    "- 평균이 음수이다. $\\leftrightarrow$ 이미지가 의미하는것이 7이다. \n",
    "- 특정픽셀이 큰 음수값을 가진다. $\\leftrightarrow$ 그 픽셀에서 이미지가 7임을 뚜렷하게 알 수 있다. "
   ]
  },
  {
   "cell_type": "markdown",
   "id": "20c5022c-f45a-4714-a8f4-839251553eda",
   "metadata": {
    "id": "50f4b731-ae58-41f2-b85b-480dbe745564"
   },
   "source": [
    "`-` 그 특정픽셀이 어딘가? "
   ]
  },
  {
   "cell_type": "code",
   "execution_count": 87,
   "id": "89f890c3-a783-482b-9e33-affbc061e269",
   "metadata": {
    "id": "2c017a3f-ff74-48c4-8f9e-6cecc67afd2d",
    "outputId": "c5607cdb-576c-4538-b5ba-80fc7e1834aa"
   },
   "outputs": [
    {
     "data": {
      "text/plain": [
       "<matplotlib.image.AxesImage at 0x7f3851960940>"
      ]
     },
     "execution_count": 87,
     "metadata": {},
     "output_type": "execute_result"
    },
    {
     "data": {
      "image/png": "[encoded data removed]",
      "text/plain": [
       "<Figure size 432x288 with 1 Axes>"
      ]
     },
     "metadata": {
      "needs_background": "light"
     },
     "output_type": "display_data"
    }
   ],
   "source": [
    "plt.imshow(camimg.data)"
   ]
  },
  {
   "cell_type": "markdown",
   "id": "eb9a3d05-0a5d-47a2-89f0-13089fcddf8f",
   "metadata": {
    "id": "74adf005-1ee3-46b9-b6bc-31b24592becf"
   },
   "source": [
    "- 초록색으로 표현된 부분은 CNN모형이 이 숫자를 7이라고 생각한 근거가 된다. "
   ]
  },
  {
   "cell_type": "markdown",
   "id": "bbd38c3f-2095-4123-aa1d-87ba8ad30ad3",
   "metadata": {
    "id": "2cf70bae-80c4-4fb3-8aef-6cb7942c8641"
   },
   "source": [
    "`-` 원래의 이미지와 비교"
   ]
  },
  {
   "cell_type": "code",
   "execution_count": 88,
   "id": "5ba4bd1c-627b-4479-be88-8887c5fac408",
   "metadata": {
    "id": "de0795eb-d1e4-4782-b34c-a8b841efd874",
    "outputId": "45eb5018-1460-4f85-b5a6-f736ea41dc24"
   },
   "outputs": [
    {
     "data": {
      "text/plain": [
       "<matplotlib.image.AxesImage at 0x7f38519aab50>"
      ]
     },
     "execution_count": 88,
     "metadata": {},
     "output_type": "execute_result"
    },
    {
     "data": {
      "image/png": "[encoded data removed]",
      "text/plain": [
       "<Figure size 432x288 with 1 Axes>"
      ]
     },
     "metadata": {
      "needs_background": "light"
     },
     "output_type": "display_data"
    }
   ],
   "source": [
    "plt.imshow(x.squeeze()) "
   ]
  },
  {
   "cell_type": "markdown",
   "id": "9d386cf3-4481-427a-b904-df22276845ed",
   "metadata": {
    "id": "4941c8e8-bd7b-427d-bf08-12450d2fd89a"
   },
   "source": [
    "`-` 두 이미지를 겹쳐보자"
   ]
  },
  {
   "cell_type": "markdown",
   "id": "306a4eec-6f4e-4fca-932d-1d48c9fba9a2",
   "metadata": {
    "id": "0050cd9c-a9b4-4751-84a3-e30d11cfad9a"
   },
   "source": [
    "step1: 원래이미지를 흑백으로 그리자. "
   ]
  },
  {
   "cell_type": "code",
   "execution_count": 89,
   "id": "4c0a5215-b7b6-4f40-9657-45f9be24d9d6",
   "metadata": {
    "id": "e70dba4c-0674-4821-84d7-a6de19b89475",
    "outputId": "124fefd5-a9ce-4c68-c957-29ee46418c3e"
   },
   "outputs": [
    {
     "data": {
      "text/plain": [
       "<matplotlib.image.AxesImage at 0x7f385136ef70>"
      ]
     },
     "execution_count": 89,
     "metadata": {},
     "output_type": "execute_result"
    },
    {
     "data": {
      "image/png": "[encoded data removed]",
      "text/plain": [
       "<Figure size 432x288 with 1 Axes>"
      ]
     },
     "metadata": {
      "needs_background": "light"
     },
     "output_type": "display_data"
    }
   ],
   "source": [
    "plt.imshow(x.squeeze(),cmap='gray',alpha=0.5)"
   ]
  },
  {
   "cell_type": "markdown",
   "id": "a0e43578-94ea-49d8-9000-53a8772e0590",
   "metadata": {
    "id": "b93bd1a7-3cac-454f-8f02-80b8abe44916"
   },
   "source": [
    "`-` step2: 원래이미지는 (28,28)인데 camimg는 (12,12)픽셀 $\\to$ camimg의 픽셀을 늘리자. "
   ]
  },
  {
   "cell_type": "code",
   "execution_count": 90,
   "id": "3065eb0d-f3a5-4a3a-b581-2ae0aeb4389f",
   "metadata": {
    "id": "074f628b-3295-4019-b354-2b1dad400f2d",
    "outputId": "5a96de33-38b4-49e8-abaf-ea2582bb665e"
   },
   "outputs": [
    {
     "data": {
      "text/plain": [
       "<matplotlib.image.AxesImage at 0x7f38512d7460>"
      ]
     },
     "execution_count": 90,
     "metadata": {},
     "output_type": "execute_result"
    },
    {
     "data": {
      "image/png": "[encoded data removed]",
      "text/plain": [
       "<Figure size 432x288 with 1 Axes>"
      ]
     },
     "metadata": {
      "needs_background": "light"
     },
     "output_type": "display_data"
    }
   ],
   "source": [
    "plt.imshow(camimg.data,alpha=0.5, extent=(0,27,27,0),interpolation='bilinear',cmap='magma')"
   ]
  },
  {
   "cell_type": "markdown",
   "id": "ecf52e09-adaf-4f04-a8b4-d24d5eaf9c75",
   "metadata": {
    "id": "6b919ea3-815b-45dd-862d-da3e505cea4e"
   },
   "source": [
    "`-` step3: 합치자."
   ]
  },
  {
   "cell_type": "code",
   "execution_count": 91,
   "id": "2335c1ab-66c3-4622-8391-221876bf7282",
   "metadata": {
    "id": "28d06ea9-0b32-4f5c-8693-b729871185d9",
    "outputId": "75f88cf2-4179-47ae-f7e8-56f4b62e5d27"
   },
   "outputs": [
    {
     "data": {
      "text/plain": [
       "<matplotlib.image.AxesImage at 0x7f38512eafa0>"
      ]
     },
     "execution_count": 91,
     "metadata": {},
     "output_type": "execute_result"
    },
    {
     "data": {
      "image/png": "[encoded data removed]",
      "text/plain": [
       "<Figure size 432x288 with 1 Axes>"
      ]
     },
     "metadata": {
      "needs_background": "light"
     },
     "output_type": "display_data"
    }
   ],
   "source": [
    "plt.imshow(x.squeeze(),cmap='gray',alpha=0.5)\n",
    "plt.imshow(camimg.data,alpha=0.5, extent=(0,27,27,0),interpolation='bilinear',cmap='magma')"
   ]
  },
  {
   "cell_type": "code",
   "execution_count": null,
   "id": "3e43d67d-f3f8-4077-a328-5036bcbd8170",
   "metadata": {},
   "outputs": [],
   "source": []
  }
 ],
 "metadata": {
  "kernelspec": {
   "display_name": "Python 3 (ipykernel)",
   "language": "python",
   "name": "python3"
  },
  "language_info": {
   "codemirror_mode": {
    "name": "ipython",
    "version": 3
   },
   "file_extension": ".py",
   "mimetype": "text/x-python",
   "name": "python",
   "nbconvert_exporter": "python",
   "pygments_lexer": "ipython3",
   "version": "3.8.12"
  }
 },
 "nbformat": 4,
 "nbformat_minor": 5
}
