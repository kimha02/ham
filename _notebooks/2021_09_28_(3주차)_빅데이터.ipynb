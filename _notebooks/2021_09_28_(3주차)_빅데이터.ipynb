{
 "cells": [
  {
   "cell_type": "markdown",
   "id": "66ee77d6-6f48-417f-8641-13520160784b",
   "metadata": {
    "id": "66ee77d6-6f48-417f-8641-13520160784b",
    "tags": []
   },
   "source": [
    "# (3주차) 9월28일\n",
    "> 파이토치를 이용하여 회귀모형 학습하기 (2) \n",
    "\n",
    "- toc:true\n",
    "- branch: master\n",
    "- badges: true\n",
    "- comments: true\n",
    "- author: 최규빈"
   ]
  },
  {
   "cell_type": "markdown",
   "id": "cb5dda82-f970-4c5b-b754-bcc4ba277532",
   "metadata": {},
   "source": [
    "---"
   ]
  },
  {
   "cell_type": "markdown",
   "id": "a3bd8dca-3b17-47d1-9d34-40d3ca89c17b",
   "metadata": {
    "id": "a3bd8dca-3b17-47d1-9d34-40d3ca89c17b"
   },
   "source": [
    "### Import "
   ]
  },
  {
   "cell_type": "code",
   "execution_count": 1,
   "id": "b5da4a0c-93b7-41c8-aa36-49f8e62df9ea",
   "metadata": {
    "id": "b5da4a0c-93b7-41c8-aa36-49f8e62df9ea"
   },
   "outputs": [],
   "source": [
    "import torch \n",
    "import numpy as np "
   ]
  },
  {
   "cell_type": "markdown",
   "id": "840ba289-b5b4-414c-9faa-dc845b317f96",
   "metadata": {
    "id": "840ba289-b5b4-414c-9faa-dc845b317f96"
   },
   "source": [
    "### Data"
   ]
  },
  {
   "cell_type": "markdown",
   "id": "15f0909c-4dde-43b5-9a5c-d86d45398612",
   "metadata": {
    "id": "15f0909c-4dde-43b5-9a5c-d86d45398612"
   },
   "source": [
    "`-` model: $y_i= w_0+w_1 x_i +\\epsilon_i = 2.5 + 4x_i +\\epsilon_i, \\quad i=1,2,\\dots,n$ "
   ]
  },
  {
   "cell_type": "markdown",
   "id": "45944f02-ac5e-4d5c-bfae-9e4a9533d54b",
   "metadata": {
    "id": "45944f02-ac5e-4d5c-bfae-9e4a9533d54b"
   },
   "source": [
    "`-` model: ${\\bf y}={\\bf X}{\\bf W} +\\boldsymbol{\\epsilon}$"
   ]
  },
  {
   "cell_type": "markdown",
   "id": "fde38ecb-fd61-4cf2-9fd5-25f57b79342c",
   "metadata": {
    "id": "fde38ecb-fd61-4cf2-9fd5-25f57b79342c"
   },
   "source": [
    "- ${\\bf y}=\\begin{bmatrix} y_1 \\\\ y_2 \\\\ \\dots \\\\ y_n\\end{bmatrix}, \\quad {\\bf X}=\\begin{bmatrix} 1 & x_1 \\\\ 1 & x_2 \\\\ \\dots \\\\ 1 & x_n\\end{bmatrix}, \\quad {\\bf W}=\\begin{bmatrix} 2.5 \\\\ 4 \\end{bmatrix}, \\quad \\boldsymbol{\\epsilon}= \\begin{bmatrix} \\epsilon_1 \\\\ \\dots \\\\ \\epsilon_n\\end{bmatrix}$"
   ]
  },
  {
   "cell_type": "code",
   "execution_count": 2,
   "id": "9db61add-ae45-45a3-b191-b0d08d90144d",
   "metadata": {
    "id": "9db61add-ae45-45a3-b191-b0d08d90144d"
   },
   "outputs": [],
   "source": [
    "torch.manual_seed(43052)\n",
    "n=100\n",
    "ones= torch.ones(n)\n",
    "x,_ = torch.randn(n).sort()\n",
    "X = torch.vstack([ones,x]).T\n",
    "W = torch.tensor([2.5,4])\n",
    "ϵ = torch.randn(n)*0.5\n",
    "y = X@W + ϵ\n",
    "ytrue = X@W"
   ]
  },
  {
   "cell_type": "markdown",
   "id": "5407e158-506b-4f25-aefd-983bbd7e923f",
   "metadata": {
    "id": "5407e158-506b-4f25-aefd-983bbd7e923f"
   },
   "source": [
    "### 이전방법요약 "
   ]
  },
  {
   "cell_type": "markdown",
   "id": "6019294b-3565-4405-9d99-4745b7f9ac66",
   "metadata": {
    "id": "6019294b-3565-4405-9d99-4745b7f9ac66"
   },
   "source": [
    "`-` step1: yhat \n",
    "\n",
    "`-` step2: loss \n",
    "\n",
    "`-` step3: derivation \n",
    "\n",
    "`-` step4: update "
   ]
  },
  {
   "cell_type": "markdown",
   "id": "3018f2de-9618-438c-b66e-5f88852e9795",
   "metadata": {},
   "source": [
    "---"
   ]
  },
  {
   "cell_type": "markdown",
   "id": "9f61f9bf-e6fd-478a-9bbb-cfae4f24a6ac",
   "metadata": {
    "id": "9f61f9bf-e6fd-478a-9bbb-cfae4f24a6ac"
   },
   "source": [
    "### step1: yhat"
   ]
  },
  {
   "cell_type": "markdown",
   "id": "0d04d243-7ed2-41bc-86ae-80c75c2055d5",
   "metadata": {
    "id": "0d04d243-7ed2-41bc-86ae-80c75c2055d5"
   },
   "source": [
    "`-` feedforward 신경망을 설계하는 과정\n",
    "\n",
    "`-` 이 단계가 잘 완료되었다면, 임의의 ${\\bf\\hat{W}}$을 넣었을 때 $\\bf\\hat{y}$를 계산할 수 있어야 함 "
   ]
  },
  {
   "cell_type": "markdown",
   "id": "17f9f2d2-7e8b-4553-87ab-334130712f4a",
   "metadata": {
    "id": "17f9f2d2-7e8b-4553-87ab-334130712f4a"
   },
   "source": [
    "#### 방법1: 직접선언 (내가 공식을 알고 있어야 한다)"
   ]
  },
  {
   "cell_type": "code",
   "execution_count": 6,
   "id": "41fcb16b-527b-4def-863e-cec8be01c822",
   "metadata": {
    "id": "41fcb16b-527b-4def-863e-cec8be01c822"
   },
   "outputs": [],
   "source": [
    "What=torch.tensor([-5.0,10.0],requires_grad=True)  #미분 꼬리표=requires_grad=True 기억하기!"
   ]
  },
  {
   "cell_type": "code",
   "execution_count": 7,
   "id": "5f65c81a-71f5-4c97-8171-7d8bb71f87cc",
   "metadata": {
    "id": "5f65c81a-71f5-4c97-8171-7d8bb71f87cc"
   },
   "outputs": [],
   "source": [
    "yhat1=X@What"
   ]
  },
  {
   "cell_type": "code",
   "execution_count": 8,
   "id": "216cd4b8-c78b-4ee1-8ed5-6e50301c3c12",
   "metadata": {
    "id": "216cd4b8-c78b-4ee1-8ed5-6e50301c3c12",
    "outputId": "2d2dd1c5-c97d-4ea4-a2ec-570a9f79fa7d"
   },
   "outputs": [
    {
     "data": {
      "text/plain": [
       "tensor([-29.8211, -28.6215, -24.9730, -21.2394, -19.7919, -19.6354, -19.5093,\n",
       "        -19.4352, -18.7223, -18.0793, -16.9040, -16.0918, -16.0536, -15.8746,\n",
       "        -14.4690, -14.3193, -13.6426, -12.8578, -12.5486, -12.4213, -11.9484,\n",
       "        -11.1034, -10.8296, -10.6210, -10.5064, -10.0578,  -9.8063,  -9.7380,\n",
       "         -9.7097,  -9.6756,  -8.8736,  -8.7195,  -8.6880,  -8.1592,  -7.7752,\n",
       "         -7.7716,  -7.7339,  -7.7208,  -7.6677,  -7.1551,  -7.0004,  -6.8163,\n",
       "         -6.7081,  -6.5655,  -6.4480,  -6.3612,  -6.0566,  -5.6031,  -5.5589,\n",
       "         -5.2137,  -4.3446,  -4.3165,  -3.8047,  -3.5801,  -3.4793,  -3.4325,\n",
       "         -2.3545,  -2.3440,  -1.8434,  -1.7799,  -1.5386,  -1.0161,  -0.8103,\n",
       "          0.4426,   0.5794,   0.9125,   1.1483,   1.4687,   1.4690,   1.5234,\n",
       "          1.6738,   2.0592,   2.1414,   2.8221,   3.1536,   3.6682,   4.2907,\n",
       "          4.8037,   4.8531,   4.9414,   5.3757,   5.3926,   5.6973,   6.0239,\n",
       "          6.1261,   6.5317,   7.2891,   8.4032,   8.4936,   9.2794,   9.9943,\n",
       "         10.0310,  10.4369,  11.7886,  15.8323,  17.4440,  18.9350,  21.0560,\n",
       "         21.0566,  21.6324], grad_fn=<MvBackward>)"
      ]
     },
     "execution_count": 8,
     "metadata": {},
     "output_type": "execute_result"
    }
   ],
   "source": [
    "yhat1"
   ]
  },
  {
   "cell_type": "markdown",
   "id": "533b9265-f530-4e00-bb0e-2be6ee209681",
   "metadata": {
    "id": "533b9265-f530-4e00-bb0e-2be6ee209681"
   },
   "source": [
    "#### (★) 방법2: torch.nn.Linear() 사용\n",
    "    - nn안에 linear라는 클래스가 있음"
   ]
  },
  {
   "cell_type": "code",
   "execution_count": 9,
   "id": "cf9d8c37-d670-4006-923d-f8246e754dd8",
   "metadata": {
    "id": "cf9d8c37-d670-4006-923d-f8246e754dd8"
   },
   "outputs": [],
   "source": [
    "net = torch.nn.Linear(in_features=2 ,out_features=1, bias=False) "
   ]
  },
  {
   "cell_type": "code",
   "execution_count": 10,
   "id": "4d9fa627-e6ff-46a2-b02e-23e962eca9df",
   "metadata": {
    "id": "4d9fa627-e6ff-46a2-b02e-23e962eca9df",
    "outputId": "8c6615f7-60a7-4ac4-c825-b5929cd16529"
   },
   "outputs": [
    {
     "data": {
      "text/plain": [
       "tensor([[0.3320, 0.1982]])"
      ]
     },
     "execution_count": 10,
     "metadata": {},
     "output_type": "execute_result"
    }
   ],
   "source": [
    "net.weight.data"
   ]
  },
  {
   "cell_type": "code",
   "execution_count": 11,
   "id": "e7fff015-5fbd-419c-a96f-1433b12ec86c",
   "metadata": {
    "id": "e7fff015-5fbd-419c-a96f-1433b12ec86c"
   },
   "outputs": [],
   "source": [
    "net.weight.data=torch.tensor([[-5.0,10.0]])"
   ]
  },
  {
   "cell_type": "code",
   "execution_count": 12,
   "id": "586e540b-0f86-4d52-a7a9-debb86ff5bd1",
   "metadata": {
    "id": "586e540b-0f86-4d52-a7a9-debb86ff5bd1",
    "outputId": "8fd8ab43-0573-4b82-ed20-250fd1220447"
   },
   "outputs": [
    {
     "data": {
      "text/plain": [
       "tensor([[-5., 10.]])"
      ]
     },
     "execution_count": 12,
     "metadata": {},
     "output_type": "execute_result"
    }
   ],
   "source": [
    "net.weight.data"
   ]
  },
  {
   "cell_type": "code",
   "execution_count": 13,
   "id": "e98c0035-39f7-40d3-ac37-0f74d546a632",
   "metadata": {
    "id": "e98c0035-39f7-40d3-ac37-0f74d546a632",
    "outputId": "6f39b369-a119-4b7c-9172-d7c6d633c841"
   },
   "outputs": [
    {
     "data": {
      "text/plain": [
       "tensor([[-29.8211],\n",
       "        [-28.6215],\n",
       "        [-24.9730],\n",
       "        [-21.2394],\n",
       "        [-19.7919],\n",
       "        [-19.6354],\n",
       "        [-19.5093],\n",
       "        [-19.4352],\n",
       "        [-18.7223],\n",
       "        [-18.0793],\n",
       "        [-16.9040],\n",
       "        [-16.0918],\n",
       "        [-16.0536],\n",
       "        [-15.8746],\n",
       "        [-14.4690],\n",
       "        [-14.3193],\n",
       "        [-13.6426],\n",
       "        [-12.8578],\n",
       "        [-12.5486],\n",
       "        [-12.4213],\n",
       "        [-11.9484],\n",
       "        [-11.1034],\n",
       "        [-10.8296],\n",
       "        [-10.6210],\n",
       "        [-10.5064],\n",
       "        [-10.0578],\n",
       "        [ -9.8063],\n",
       "        [ -9.7380],\n",
       "        [ -9.7097],\n",
       "        [ -9.6756],\n",
       "        [ -8.8736],\n",
       "        [ -8.7195],\n",
       "        [ -8.6880],\n",
       "        [ -8.1592],\n",
       "        [ -7.7752],\n",
       "        [ -7.7716],\n",
       "        [ -7.7339],\n",
       "        [ -7.7208],\n",
       "        [ -7.6677],\n",
       "        [ -7.1551],\n",
       "        [ -7.0004],\n",
       "        [ -6.8163],\n",
       "        [ -6.7081],\n",
       "        [ -6.5655],\n",
       "        [ -6.4480],\n",
       "        [ -6.3612],\n",
       "        [ -6.0566],\n",
       "        [ -5.6031],\n",
       "        [ -5.5589],\n",
       "        [ -5.2137],\n",
       "        [ -4.3446],\n",
       "        [ -4.3165],\n",
       "        [ -3.8047],\n",
       "        [ -3.5801],\n",
       "        [ -3.4793],\n",
       "        [ -3.4325],\n",
       "        [ -2.3545],\n",
       "        [ -2.3440],\n",
       "        [ -1.8434],\n",
       "        [ -1.7799],\n",
       "        [ -1.5386],\n",
       "        [ -1.0161],\n",
       "        [ -0.8103],\n",
       "        [  0.4426],\n",
       "        [  0.5794],\n",
       "        [  0.9125],\n",
       "        [  1.1483],\n",
       "        [  1.4687],\n",
       "        [  1.4690],\n",
       "        [  1.5234],\n",
       "        [  1.6738],\n",
       "        [  2.0592],\n",
       "        [  2.1414],\n",
       "        [  2.8221],\n",
       "        [  3.1536],\n",
       "        [  3.6682],\n",
       "        [  4.2907],\n",
       "        [  4.8037],\n",
       "        [  4.8531],\n",
       "        [  4.9414],\n",
       "        [  5.3757],\n",
       "        [  5.3926],\n",
       "        [  5.6973],\n",
       "        [  6.0239],\n",
       "        [  6.1261],\n",
       "        [  6.5317],\n",
       "        [  7.2891],\n",
       "        [  8.4032],\n",
       "        [  8.4936],\n",
       "        [  9.2794],\n",
       "        [  9.9943],\n",
       "        [ 10.0310],\n",
       "        [ 10.4369],\n",
       "        [ 11.7886],\n",
       "        [ 15.8323],\n",
       "        [ 17.4440],\n",
       "        [ 18.9350],\n",
       "        [ 21.0560],\n",
       "        [ 21.0566],\n",
       "        [ 21.6324]], grad_fn=<MmBackward>)"
      ]
     },
     "execution_count": 13,
     "metadata": {},
     "output_type": "execute_result"
    }
   ],
   "source": [
    "net(X)"
   ]
  },
  {
   "cell_type": "code",
   "execution_count": 14,
   "id": "98acc9c9-02ff-4d1e-bdbd-b3c5f78a723f",
   "metadata": {
    "id": "98acc9c9-02ff-4d1e-bdbd-b3c5f78a723f"
   },
   "outputs": [],
   "source": [
    "yhat2=net(X)"
   ]
  },
  {
   "cell_type": "markdown",
   "id": "ff787f14-7337-4d8e-8441-bb98c5219336",
   "metadata": {
    "id": "ff787f14-7337-4d8e-8441-bb98c5219336"
   },
   "source": [
    "#### 방법3: torch.nn.Linear()사용, bias=True"
   ]
  },
  {
   "cell_type": "code",
   "execution_count": 15,
   "id": "958bb2bf-0046-4650-9b39-1152cb492ef3",
   "metadata": {
    "id": "958bb2bf-0046-4650-9b39-1152cb492ef3"
   },
   "outputs": [],
   "source": [
    "net = torch.nn.Linear(in_features=1 ,out_features=1, bias=True) "
   ]
  },
  {
   "cell_type": "markdown",
   "id": "069eed27-76bb-47b1-bdad-8653b8bd0035",
   "metadata": {},
   "source": [
    "`-` 입력차원을 1로 했기 때문에 net.weight.data 값이 1개만 나온다  \n",
    "`-` 또 bias를 전과 다르게 True로 줘서 아래 bias.data도 가능하다"
   ]
  },
  {
   "cell_type": "code",
   "execution_count": 16,
   "id": "e9db58cc-66ab-4536-ba36-5d0e76ef300c",
   "metadata": {
    "id": "e9db58cc-66ab-4536-ba36-5d0e76ef300c",
    "outputId": "f1dc3d02-d557-48cc-aa1b-809770c4de0f"
   },
   "outputs": [
    {
     "data": {
      "text/plain": [
       "tensor([[0.3480]])"
      ]
     },
     "execution_count": 16,
     "metadata": {},
     "output_type": "execute_result"
    }
   ],
   "source": [
    "net.weight.data"
   ]
  },
  {
   "cell_type": "code",
   "execution_count": 18,
   "id": "b66db432-befc-4cbf-aad8-01ab13c24429",
   "metadata": {
    "id": "b66db432-befc-4cbf-aad8-01ab13c24429"
   },
   "outputs": [],
   "source": [
    "net.weight.data=torch.tensor([[10.0]])"
   ]
  },
  {
   "cell_type": "code",
   "execution_count": 19,
   "id": "862fa992-71a2-4426-a70e-7d2b22ff1a4f",
   "metadata": {
    "id": "862fa992-71a2-4426-a70e-7d2b22ff1a4f"
   },
   "outputs": [],
   "source": [
    "net.bias.data=torch.tensor([-5.0])"
   ]
  },
  {
   "cell_type": "code",
   "execution_count": 20,
   "id": "d6e176d4-6348-4b7b-be39-d469e6b60889",
   "metadata": {
    "id": "d6e176d4-6348-4b7b-be39-d469e6b60889",
    "outputId": "def75a3b-b074-4ac6-8262-c6f41616924e"
   },
   "outputs": [
    {
     "data": {
      "text/plain": [
       "(Parameter containing:\n",
       " tensor([[10.]], requires_grad=True),\n",
       " Parameter containing:\n",
       " tensor([-5.], requires_grad=True))"
      ]
     },
     "execution_count": 20,
     "metadata": {},
     "output_type": "execute_result"
    }
   ],
   "source": [
    "net.weight,net.bias"
   ]
  },
  {
   "cell_type": "code",
   "execution_count": 23,
   "id": "8b7b78af-c177-48ce-a73f-f0322252716c",
   "metadata": {},
   "outputs": [
    {
     "ename": "RuntimeError",
     "evalue": "mat1 and mat2 shapes cannot be multiplied (1x100 and 1x1)",
     "output_type": "error",
     "traceback": [
      "\u001b[0;31m---------------------------------------------------------------------------\u001b[0m",
      "\u001b[0;31mRuntimeError\u001b[0m                              Traceback (most recent call last)",
      "\u001b[0;32m/tmp/ipykernel_43749/925514741.py\u001b[0m in \u001b[0;36m<module>\u001b[0;34m\u001b[0m\n\u001b[0;32m----> 1\u001b[0;31m \u001b[0mnet\u001b[0m\u001b[0;34m(\u001b[0m\u001b[0mx\u001b[0m\u001b[0;34m)\u001b[0m   \u001b[0;31m#차원오류\u001b[0m\u001b[0;34m\u001b[0m\u001b[0;34m\u001b[0m\u001b[0m\n\u001b[0m",
      "\u001b[0;32m~/anaconda3/envs/bda2021/lib/python3.8/site-packages/torch/nn/modules/module.py\u001b[0m in \u001b[0;36m_call_impl\u001b[0;34m(self, *input, **kwargs)\u001b[0m\n\u001b[1;32m   1049\u001b[0m         if not (self._backward_hooks or self._forward_hooks or self._forward_pre_hooks or _global_backward_hooks\n\u001b[1;32m   1050\u001b[0m                 or _global_forward_hooks or _global_forward_pre_hooks):\n\u001b[0;32m-> 1051\u001b[0;31m             \u001b[0;32mreturn\u001b[0m \u001b[0mforward_call\u001b[0m\u001b[0;34m(\u001b[0m\u001b[0;34m*\u001b[0m\u001b[0minput\u001b[0m\u001b[0;34m,\u001b[0m \u001b[0;34m**\u001b[0m\u001b[0mkwargs\u001b[0m\u001b[0;34m)\u001b[0m\u001b[0;34m\u001b[0m\u001b[0;34m\u001b[0m\u001b[0m\n\u001b[0m\u001b[1;32m   1052\u001b[0m         \u001b[0;31m# Do not call functions when jit is used\u001b[0m\u001b[0;34m\u001b[0m\u001b[0;34m\u001b[0m\u001b[0;34m\u001b[0m\u001b[0m\n\u001b[1;32m   1053\u001b[0m         \u001b[0mfull_backward_hooks\u001b[0m\u001b[0;34m,\u001b[0m \u001b[0mnon_full_backward_hooks\u001b[0m \u001b[0;34m=\u001b[0m \u001b[0;34m[\u001b[0m\u001b[0;34m]\u001b[0m\u001b[0;34m,\u001b[0m \u001b[0;34m[\u001b[0m\u001b[0;34m]\u001b[0m\u001b[0;34m\u001b[0m\u001b[0;34m\u001b[0m\u001b[0m\n",
      "\u001b[0;32m~/anaconda3/envs/bda2021/lib/python3.8/site-packages/torch/nn/modules/linear.py\u001b[0m in \u001b[0;36mforward\u001b[0;34m(self, input)\u001b[0m\n\u001b[1;32m     94\u001b[0m \u001b[0;34m\u001b[0m\u001b[0m\n\u001b[1;32m     95\u001b[0m     \u001b[0;32mdef\u001b[0m \u001b[0mforward\u001b[0m\u001b[0;34m(\u001b[0m\u001b[0mself\u001b[0m\u001b[0;34m,\u001b[0m \u001b[0minput\u001b[0m\u001b[0;34m:\u001b[0m \u001b[0mTensor\u001b[0m\u001b[0;34m)\u001b[0m \u001b[0;34m->\u001b[0m \u001b[0mTensor\u001b[0m\u001b[0;34m:\u001b[0m\u001b[0;34m\u001b[0m\u001b[0;34m\u001b[0m\u001b[0m\n\u001b[0;32m---> 96\u001b[0;31m         \u001b[0;32mreturn\u001b[0m \u001b[0mF\u001b[0m\u001b[0;34m.\u001b[0m\u001b[0mlinear\u001b[0m\u001b[0;34m(\u001b[0m\u001b[0minput\u001b[0m\u001b[0;34m,\u001b[0m \u001b[0mself\u001b[0m\u001b[0;34m.\u001b[0m\u001b[0mweight\u001b[0m\u001b[0;34m,\u001b[0m \u001b[0mself\u001b[0m\u001b[0;34m.\u001b[0m\u001b[0mbias\u001b[0m\u001b[0;34m)\u001b[0m\u001b[0;34m\u001b[0m\u001b[0;34m\u001b[0m\u001b[0m\n\u001b[0m\u001b[1;32m     97\u001b[0m \u001b[0;34m\u001b[0m\u001b[0m\n\u001b[1;32m     98\u001b[0m     \u001b[0;32mdef\u001b[0m \u001b[0mextra_repr\u001b[0m\u001b[0;34m(\u001b[0m\u001b[0mself\u001b[0m\u001b[0;34m)\u001b[0m \u001b[0;34m->\u001b[0m \u001b[0mstr\u001b[0m\u001b[0;34m:\u001b[0m\u001b[0;34m\u001b[0m\u001b[0;34m\u001b[0m\u001b[0m\n",
      "\u001b[0;32m~/anaconda3/envs/bda2021/lib/python3.8/site-packages/torch/nn/functional.py\u001b[0m in \u001b[0;36mlinear\u001b[0;34m(input, weight, bias)\u001b[0m\n\u001b[1;32m   1845\u001b[0m     \u001b[0;32mif\u001b[0m \u001b[0mhas_torch_function_variadic\u001b[0m\u001b[0;34m(\u001b[0m\u001b[0minput\u001b[0m\u001b[0;34m,\u001b[0m \u001b[0mweight\u001b[0m\u001b[0;34m)\u001b[0m\u001b[0;34m:\u001b[0m\u001b[0;34m\u001b[0m\u001b[0;34m\u001b[0m\u001b[0m\n\u001b[1;32m   1846\u001b[0m         \u001b[0;32mreturn\u001b[0m \u001b[0mhandle_torch_function\u001b[0m\u001b[0;34m(\u001b[0m\u001b[0mlinear\u001b[0m\u001b[0;34m,\u001b[0m \u001b[0;34m(\u001b[0m\u001b[0minput\u001b[0m\u001b[0;34m,\u001b[0m \u001b[0mweight\u001b[0m\u001b[0;34m)\u001b[0m\u001b[0;34m,\u001b[0m \u001b[0minput\u001b[0m\u001b[0;34m,\u001b[0m \u001b[0mweight\u001b[0m\u001b[0;34m,\u001b[0m \u001b[0mbias\u001b[0m\u001b[0;34m=\u001b[0m\u001b[0mbias\u001b[0m\u001b[0;34m)\u001b[0m\u001b[0;34m\u001b[0m\u001b[0;34m\u001b[0m\u001b[0m\n\u001b[0;32m-> 1847\u001b[0;31m     \u001b[0;32mreturn\u001b[0m \u001b[0mtorch\u001b[0m\u001b[0;34m.\u001b[0m\u001b[0m_C\u001b[0m\u001b[0;34m.\u001b[0m\u001b[0m_nn\u001b[0m\u001b[0;34m.\u001b[0m\u001b[0mlinear\u001b[0m\u001b[0;34m(\u001b[0m\u001b[0minput\u001b[0m\u001b[0;34m,\u001b[0m \u001b[0mweight\u001b[0m\u001b[0;34m,\u001b[0m \u001b[0mbias\u001b[0m\u001b[0;34m)\u001b[0m\u001b[0;34m\u001b[0m\u001b[0;34m\u001b[0m\u001b[0m\n\u001b[0m\u001b[1;32m   1848\u001b[0m \u001b[0;34m\u001b[0m\u001b[0m\n\u001b[1;32m   1849\u001b[0m \u001b[0;34m\u001b[0m\u001b[0m\n",
      "\u001b[0;31mRuntimeError\u001b[0m: mat1 and mat2 shapes cannot be multiplied (1x100 and 1x1)"
     ]
    }
   ],
   "source": [
    "net(x)   #차원오류"
   ]
  },
  {
   "cell_type": "code",
   "execution_count": 24,
   "id": "4c9a501d-74a5-47a6-a619-8fb5a773ea8c",
   "metadata": {
    "id": "4c9a501d-74a5-47a6-a619-8fb5a773ea8c",
    "outputId": "0c9b6ef3-2e9e-4463-8801-a3ee9c10c5ed"
   },
   "outputs": [
    {
     "data": {
      "text/plain": [
       "tensor([[-29.8211],\n",
       "        [-28.6215],\n",
       "        [-24.9730],\n",
       "        [-21.2394],\n",
       "        [-19.7919],\n",
       "        [-19.6354],\n",
       "        [-19.5093],\n",
       "        [-19.4352],\n",
       "        [-18.7223],\n",
       "        [-18.0793],\n",
       "        [-16.9040],\n",
       "        [-16.0918],\n",
       "        [-16.0536],\n",
       "        [-15.8746],\n",
       "        [-14.4690],\n",
       "        [-14.3193],\n",
       "        [-13.6426],\n",
       "        [-12.8578],\n",
       "        [-12.5486],\n",
       "        [-12.4213],\n",
       "        [-11.9484],\n",
       "        [-11.1034],\n",
       "        [-10.8296],\n",
       "        [-10.6210],\n",
       "        [-10.5064],\n",
       "        [-10.0578],\n",
       "        [ -9.8063],\n",
       "        [ -9.7380],\n",
       "        [ -9.7097],\n",
       "        [ -9.6756],\n",
       "        [ -8.8736],\n",
       "        [ -8.7195],\n",
       "        [ -8.6880],\n",
       "        [ -8.1592],\n",
       "        [ -7.7752],\n",
       "        [ -7.7716],\n",
       "        [ -7.7339],\n",
       "        [ -7.7208],\n",
       "        [ -7.6677],\n",
       "        [ -7.1551],\n",
       "        [ -7.0004],\n",
       "        [ -6.8163],\n",
       "        [ -6.7081],\n",
       "        [ -6.5655],\n",
       "        [ -6.4480],\n",
       "        [ -6.3612],\n",
       "        [ -6.0566],\n",
       "        [ -5.6031],\n",
       "        [ -5.5589],\n",
       "        [ -5.2137],\n",
       "        [ -4.3446],\n",
       "        [ -4.3165],\n",
       "        [ -3.8047],\n",
       "        [ -3.5801],\n",
       "        [ -3.4793],\n",
       "        [ -3.4325],\n",
       "        [ -2.3545],\n",
       "        [ -2.3440],\n",
       "        [ -1.8434],\n",
       "        [ -1.7799],\n",
       "        [ -1.5386],\n",
       "        [ -1.0161],\n",
       "        [ -0.8103],\n",
       "        [  0.4426],\n",
       "        [  0.5794],\n",
       "        [  0.9125],\n",
       "        [  1.1483],\n",
       "        [  1.4687],\n",
       "        [  1.4690],\n",
       "        [  1.5234],\n",
       "        [  1.6738],\n",
       "        [  2.0592],\n",
       "        [  2.1414],\n",
       "        [  2.8221],\n",
       "        [  3.1536],\n",
       "        [  3.6682],\n",
       "        [  4.2907],\n",
       "        [  4.8037],\n",
       "        [  4.8531],\n",
       "        [  4.9414],\n",
       "        [  5.3757],\n",
       "        [  5.3926],\n",
       "        [  5.6973],\n",
       "        [  6.0239],\n",
       "        [  6.1261],\n",
       "        [  6.5317],\n",
       "        [  7.2891],\n",
       "        [  8.4032],\n",
       "        [  8.4936],\n",
       "        [  9.2794],\n",
       "        [  9.9943],\n",
       "        [ 10.0310],\n",
       "        [ 10.4369],\n",
       "        [ 11.7886],\n",
       "        [ 15.8323],\n",
       "        [ 17.4440],\n",
       "        [ 18.9350],\n",
       "        [ 21.0560],\n",
       "        [ 21.0566],\n",
       "        [ 21.6324]], grad_fn=<AddmmBackward>)"
      ]
     },
     "execution_count": 24,
     "metadata": {},
     "output_type": "execute_result"
    }
   ],
   "source": [
    "net(x.reshape(100,1))   #shape을 바꿔준다"
   ]
  },
  {
   "cell_type": "markdown",
   "id": "6201514f-ca60-4727-bd60-879a5ae1a0d1",
   "metadata": {
    "id": "6201514f-ca60-4727-bd60-879a5ae1a0d1"
   },
   "source": [
    "#### "
   ]
  },
  {
   "cell_type": "markdown",
   "id": "076a430b-167e-4e13-8ff0-d61d435832a1",
   "metadata": {
    "id": "076a430b-167e-4e13-8ff0-d61d435832a1"
   },
   "source": [
    "### step2: loss"
   ]
  },
  {
   "cell_type": "markdown",
   "id": "c4f7a66c-f798-411c-aa66-2f859e83fd6c",
   "metadata": {
    "id": "c4f7a66c-f798-411c-aa66-2f859e83fd6c"
   },
   "source": [
    "#### 방법1: 손실함수를 직접정의하는 방법"
   ]
  },
  {
   "cell_type": "code",
   "execution_count": 28,
   "id": "f5e34f5e-563f-4057-8501-2d3d2b528771",
   "metadata": {
    "id": "f5e34f5e-563f-4057-8501-2d3d2b528771",
    "outputId": "5c3b615b-acb3-4112-f3f2-36e62612da70"
   },
   "outputs": [
    {
     "data": {
      "text/plain": [
       "tensor(85.8769, grad_fn=<MeanBackward0>)"
      ]
     },
     "execution_count": 28,
     "metadata": {},
     "output_type": "execute_result"
    }
   ],
   "source": [
    "loss=torch.mean((y-yhat1)**2)\n",
    "loss"
   ]
  },
  {
   "cell_type": "code",
   "execution_count": 26,
   "id": "667cd251-9d17-44c5-89ad-19c0fcb3388b",
   "metadata": {
    "id": "667cd251-9d17-44c5-89ad-19c0fcb3388b",
    "outputId": "2d65d999-14a4-4e91-e815-6a92957cf930"
   },
   "outputs": [
    {
     "data": {
      "text/plain": [
       "tensor(176.2661, grad_fn=<MeanBackward0>)"
      ]
     },
     "execution_count": 26,
     "metadata": {},
     "output_type": "execute_result"
    }
   ],
   "source": [
    "loss=torch.mean((y-yhat2)**2)\n",
    "loss"
   ]
  },
  {
   "cell_type": "markdown",
   "id": "c8466848-b5fa-4456-a43c-2561432c3871",
   "metadata": {},
   "source": [
    "- 왜 다르지?"
   ]
  },
  {
   "cell_type": "code",
   "execution_count": 30,
   "id": "152c1e0e-9720-421d-b8da-93a1f0dca798",
   "metadata": {},
   "outputs": [
    {
     "data": {
      "text/plain": [
       "tensor([[ 21.2791,  23.2444,  23.8716,  ...,  42.9194,  42.3679,  43.6551],\n",
       "        [ 20.0794,  22.0448,  22.6719,  ...,  41.7197,  41.1683,  42.4555],\n",
       "        [ 16.4309,  18.3962,  19.0234,  ...,  38.0712,  37.5197,  38.8070],\n",
       "        ...,\n",
       "        [-29.5981, -27.6328, -27.0056,  ...,  -7.9578,  -8.5093,  -7.2220],\n",
       "        [-29.5986, -27.6333, -27.0062,  ...,  -7.9583,  -8.5098,  -7.2226],\n",
       "        [-30.1744, -28.2091, -27.5820,  ...,  -8.5341,  -9.0856,  -7.7984]],\n",
       "       grad_fn=<SubBackward0>)"
      ]
     },
     "execution_count": 30,
     "metadata": {},
     "output_type": "execute_result"
    }
   ],
   "source": [
    "y-yhat2"
   ]
  },
  {
   "cell_type": "code",
   "execution_count": 31,
   "id": "8e8363c8-99ad-4ce5-a0ed-c5dac73f83f0",
   "metadata": {},
   "outputs": [
    {
     "data": {
      "text/plain": [
       "torch.Size([100, 100])"
      ]
     },
     "execution_count": 31,
     "metadata": {},
     "output_type": "execute_result"
    }
   ],
   "source": [
    "(y-yhat2).shape"
   ]
  },
  {
   "cell_type": "markdown",
   "id": "a85021b1-7143-49af-9257-2cc996a8c256",
   "metadata": {},
   "source": [
    "- `y`는 길이가 100인 벡터, `yhat2`는 100X1 matrix임\n",
    "- 2개가 계산되면서 생긴 오류임\n",
    "- 176.2661? 이건 잘못된 결과임"
   ]
  },
  {
   "cell_type": "code",
   "execution_count": 34,
   "id": "a13a412f-eaad-4adc-8c66-8ce583fbb951",
   "metadata": {},
   "outputs": [
    {
     "data": {
      "text/plain": [
       "tensor(85.8769, grad_fn=<MeanBackward0>)"
      ]
     },
     "execution_count": 34,
     "metadata": {},
     "output_type": "execute_result"
    }
   ],
   "source": [
    "#해결방법 : flatten으로 벡터화하기\n",
    "torch.mean((y-yhat2.flatten())**2)"
   ]
  },
  {
   "cell_type": "code",
   "execution_count": 35,
   "id": "1aac19d9-72b7-42f3-97fa-4b07d673c8ec",
   "metadata": {
    "id": "1aac19d9-72b7-42f3-97fa-4b07d673c8ec",
    "outputId": "51ca654c-2479-49ae-b28e-947a2199e5b5"
   },
   "outputs": [
    {
     "data": {
      "text/plain": [
       "tensor(85.8769, grad_fn=<MeanBackward0>)"
      ]
     },
     "execution_count": 35,
     "metadata": {},
     "output_type": "execute_result"
    }
   ],
   "source": [
    "#해결방법 : y를 reshpae 해주기\n",
    "loss=torch.mean((y.reshape(100,1)-yhat2)**2)\n",
    "loss"
   ]
  },
  {
   "cell_type": "markdown",
   "id": "44a14ef3-9a40-4367-88af-b7bf8b7af3fd",
   "metadata": {
    "id": "44a14ef3-9a40-4367-88af-b7bf8b7af3fd"
   },
   "source": [
    "#### 방법2: torch.nn.MSELoss()를 사용하여 손실함수를 정의하는 방법 "
   ]
  },
  {
   "cell_type": "code",
   "execution_count": 36,
   "id": "86d1a425-0259-4c7a-b689-14a7d643ac5c",
   "metadata": {
    "id": "86d1a425-0259-4c7a-b689-14a7d643ac5c"
   },
   "outputs": [],
   "source": [
    "lossfn=torch.nn.MSELoss()"
   ]
  },
  {
   "cell_type": "code",
   "execution_count": 37,
   "id": "14bb79e8-befc-4d24-8a50-bc01bf9a5286",
   "metadata": {
    "id": "14bb79e8-befc-4d24-8a50-bc01bf9a5286",
    "outputId": "f1b4bf1e-d664-43a0-c289-8eb01c0639da"
   },
   "outputs": [
    {
     "data": {
      "text/plain": [
       "tensor(85.8769, grad_fn=<MseLossBackward>)"
      ]
     },
     "execution_count": 37,
     "metadata": {},
     "output_type": "execute_result"
    }
   ],
   "source": [
    "loss=lossfn(y,yhat1)\n",
    "loss"
   ]
  },
  {
   "cell_type": "code",
   "execution_count": 38,
   "id": "6483b676-fa3b-44d9-86d7-fa5067ea38f2",
   "metadata": {
    "id": "6483b676-fa3b-44d9-86d7-fa5067ea38f2",
    "outputId": "bfeb485d-a73a-4fd1-a415-109d960f5655"
   },
   "outputs": [
    {
     "data": {
      "text/plain": [
       "tensor(85.8769, grad_fn=<MseLossBackward>)"
      ]
     },
     "execution_count": 38,
     "metadata": {},
     "output_type": "execute_result"
    }
   ],
   "source": [
    "loss=lossfn(y.reshape(100,1),yhat2)\n",
    "loss"
   ]
  },
  {
   "cell_type": "markdown",
   "id": "e737f7c5-f6b2-4a2d-922b-38a9452b298a",
   "metadata": {
    "id": "e737f7c5-f6b2-4a2d-922b-38a9452b298a",
    "tags": []
   },
   "source": [
    "### [숙제](https://ieilms.jbnu.ac.kr/)"
   ]
  },
  {
   "cell_type": "markdown",
   "id": "8e1b9bd4-ffd6-495c-9fd6-1815db02158d",
   "metadata": {
    "id": "8e1b9bd4-ffd6-495c-9fd6-1815db02158d"
   },
   "source": [
    "`-` model: $y_i= w_0+w_1 x_{i1}+w_2 x_{i2} +\\epsilon_i = 2.5 + 4x_{1i} + -2x_{2i}+\\epsilon_i, \\quad i=1,2,\\dots,n$ "
   ]
  },
  {
   "cell_type": "code",
   "execution_count": 40,
   "id": "9dcf8020-b0f2-48c9-98b6-c04aecdaf9a4",
   "metadata": {
    "id": "9dcf8020-b0f2-48c9-98b6-c04aecdaf9a4"
   },
   "outputs": [],
   "source": [
    "torch.manual_seed(43052)\n",
    "n=100\n",
    "ones= torch.ones(n)\n",
    "x1,_ = torch.randn(n).sort()\n",
    "x2,_ = torch.randn(n).sort()\n",
    "X = torch.vstack([ones,x1,x2]).T\n",
    "W = torch.tensor([2.5,4,-2])\n",
    "ϵ = torch.randn(n)*0.5\n",
    "y = X@W + ϵ\n",
    "ytrue = X@W"
   ]
  },
  {
   "cell_type": "code",
   "execution_count": 41,
   "id": "bd5d8a41-aeee-46d8-b216-f3bd346fd27a",
   "metadata": {
    "id": "bd5d8a41-aeee-46d8-b216-f3bd346fd27a",
    "outputId": "4c19ed9c-ccb4-4dd7-e294-47a8e07f1942"
   },
   "outputs": [
    {
     "data": {
      "text/plain": [
       "tensor([[ 1.0000, -2.4821, -2.3721],\n",
       "        [ 1.0000, -2.3621, -2.3032],\n",
       "        [ 1.0000, -1.9973, -2.2271],\n",
       "        [ 1.0000, -1.6239, -2.0301],\n",
       "        [ 1.0000, -1.4792, -1.9157],\n",
       "        [ 1.0000, -1.4635, -1.8241],\n",
       "        [ 1.0000, -1.4509, -1.6696],\n",
       "        [ 1.0000, -1.4435, -1.6675],\n",
       "        [ 1.0000, -1.3722, -1.4723],\n",
       "        [ 1.0000, -1.3079, -1.4405],\n",
       "        [ 1.0000, -1.1904, -1.4111],\n",
       "        [ 1.0000, -1.1092, -1.3820],\n",
       "        [ 1.0000, -1.1054, -1.3803],\n",
       "        [ 1.0000, -1.0875, -1.3456],\n",
       "        [ 1.0000, -0.9469, -1.3255],\n",
       "        [ 1.0000, -0.9319, -1.2860],\n",
       "        [ 1.0000, -0.8643, -1.2504],\n",
       "        [ 1.0000, -0.7858, -1.2095],\n",
       "        [ 1.0000, -0.7549, -1.1498],\n",
       "        [ 1.0000, -0.7421, -1.1151],\n",
       "        [ 1.0000, -0.6948, -1.0980],\n",
       "        [ 1.0000, -0.6103, -1.0609],\n",
       "        [ 1.0000, -0.5830, -0.9825],\n",
       "        [ 1.0000, -0.5621, -0.9672],\n",
       "        [ 1.0000, -0.5506, -0.9396],\n",
       "        [ 1.0000, -0.5058, -0.9208],\n",
       "        [ 1.0000, -0.4806, -0.8768],\n",
       "        [ 1.0000, -0.4738, -0.7517],\n",
       "        [ 1.0000, -0.4710, -0.7091],\n",
       "        [ 1.0000, -0.4676, -0.7027],\n",
       "        [ 1.0000, -0.3874, -0.6918],\n",
       "        [ 1.0000, -0.3719, -0.6561],\n",
       "        [ 1.0000, -0.3688, -0.6153],\n",
       "        [ 1.0000, -0.3159, -0.5360],\n",
       "        [ 1.0000, -0.2775, -0.4784],\n",
       "        [ 1.0000, -0.2772, -0.3936],\n",
       "        [ 1.0000, -0.2734, -0.3763],\n",
       "        [ 1.0000, -0.2721, -0.3283],\n",
       "        [ 1.0000, -0.2668, -0.3227],\n",
       "        [ 1.0000, -0.2155, -0.2860],\n",
       "        [ 1.0000, -0.2000, -0.2842],\n",
       "        [ 1.0000, -0.1816, -0.2790],\n",
       "        [ 1.0000, -0.1708, -0.2472],\n",
       "        [ 1.0000, -0.1565, -0.2199],\n",
       "        [ 1.0000, -0.1448, -0.2170],\n",
       "        [ 1.0000, -0.1361, -0.1952],\n",
       "        [ 1.0000, -0.1057, -0.1886],\n",
       "        [ 1.0000, -0.0603, -0.1829],\n",
       "        [ 1.0000, -0.0559, -0.1447],\n",
       "        [ 1.0000, -0.0214, -0.0723],\n",
       "        [ 1.0000,  0.0655, -0.0667],\n",
       "        [ 1.0000,  0.0684, -0.0625],\n",
       "        [ 1.0000,  0.1195, -0.0539],\n",
       "        [ 1.0000,  0.1420, -0.0356],\n",
       "        [ 1.0000,  0.1521,  0.0306],\n",
       "        [ 1.0000,  0.1568,  0.0783],\n",
       "        [ 1.0000,  0.2646,  0.1328],\n",
       "        [ 1.0000,  0.2656,  0.1925],\n",
       "        [ 1.0000,  0.3157,  0.2454],\n",
       "        [ 1.0000,  0.3220,  0.2519],\n",
       "        [ 1.0000,  0.3461,  0.3517],\n",
       "        [ 1.0000,  0.3984,  0.3816],\n",
       "        [ 1.0000,  0.4190,  0.3831],\n",
       "        [ 1.0000,  0.5443,  0.3850],\n",
       "        [ 1.0000,  0.5579,  0.4247],\n",
       "        [ 1.0000,  0.5913,  0.4431],\n",
       "        [ 1.0000,  0.6148,  0.4589],\n",
       "        [ 1.0000,  0.6469,  0.4709],\n",
       "        [ 1.0000,  0.6469,  0.4711],\n",
       "        [ 1.0000,  0.6523,  0.4944],\n",
       "        [ 1.0000,  0.6674,  0.4969],\n",
       "        [ 1.0000,  0.7059,  0.5234],\n",
       "        [ 1.0000,  0.7141,  0.5614],\n",
       "        [ 1.0000,  0.7822,  0.5874],\n",
       "        [ 1.0000,  0.8154,  0.5899],\n",
       "        [ 1.0000,  0.8668,  0.6259],\n",
       "        [ 1.0000,  0.9291,  0.6296],\n",
       "        [ 1.0000,  0.9804,  0.7098],\n",
       "        [ 1.0000,  0.9853,  0.7154],\n",
       "        [ 1.0000,  0.9941,  0.7437],\n",
       "        [ 1.0000,  1.0376,  0.7786],\n",
       "        [ 1.0000,  1.0393,  0.8346],\n",
       "        [ 1.0000,  1.0697,  0.8432],\n",
       "        [ 1.0000,  1.1024,  0.8558],\n",
       "        [ 1.0000,  1.1126,  0.8803],\n",
       "        [ 1.0000,  1.1532,  0.9951],\n",
       "        [ 1.0000,  1.2289,  1.0430],\n",
       "        [ 1.0000,  1.3403,  1.0580],\n",
       "        [ 1.0000,  1.3494,  1.0685],\n",
       "        [ 1.0000,  1.4279,  1.1723],\n",
       "        [ 1.0000,  1.4994,  1.2669],\n",
       "        [ 1.0000,  1.5031,  1.3621],\n",
       "        [ 1.0000,  1.5437,  1.3738],\n",
       "        [ 1.0000,  1.6789,  1.4183],\n",
       "        [ 1.0000,  2.0832,  1.4193],\n",
       "        [ 1.0000,  2.2444,  1.5095],\n",
       "        [ 1.0000,  2.3935,  1.6424],\n",
       "        [ 1.0000,  2.6056,  1.8131],\n",
       "        [ 1.0000,  2.6057,  2.0058],\n",
       "        [ 1.0000,  2.6632,  2.2810]])"
      ]
     },
     "execution_count": 41,
     "metadata": {},
     "output_type": "execute_result"
    }
   ],
   "source": [
    "X"
   ]
  },
  {
   "cell_type": "markdown",
   "id": "062999c6-1ab2-4690-89fb-fb580548e5e4",
   "metadata": {
    "id": "062999c6-1ab2-4690-89fb-fb580548e5e4"
   },
   "source": [
    "`-` torch.nn.Linear() 를 이용하여 $\\bf{\\hat{W}}=\\begin{bmatrix}1 \\\\ 1 \\\\ 1 \\end{bmatrix}$ 에 대한 $\\hat{y}$를 구하라. "
   ]
  },
  {
   "cell_type": "code",
   "execution_count": 49,
   "id": "c7791499-8211-4eb9-a10c-2b93ae222d81",
   "metadata": {},
   "outputs": [],
   "source": [
    "net = torch.nn.Linear(in_features=3,out_features=1, bias=False) "
   ]
  },
  {
   "cell_type": "code",
   "execution_count": 50,
   "id": "5302df47-ec60-4466-af66-ed906f3f555b",
   "metadata": {
    "id": "4d9fa627-e6ff-46a2-b02e-23e962eca9df",
    "outputId": "8c6615f7-60a7-4ac4-c825-b5929cd16529"
   },
   "outputs": [
    {
     "data": {
      "text/plain": [
       "tensor([[ 0.0411,  0.3420, -0.5768]])"
      ]
     },
     "execution_count": 50,
     "metadata": {},
     "output_type": "execute_result"
    }
   ],
   "source": [
    "net.weight.data"
   ]
  },
  {
   "cell_type": "code",
   "execution_count": 51,
   "id": "d026944e-3daf-482c-8e5f-a29afa1a2e00",
   "metadata": {
    "id": "e7fff015-5fbd-419c-a96f-1433b12ec86c"
   },
   "outputs": [],
   "source": [
    "net.weight.data=torch.tensor([[1.0,1.0,1.0]])"
   ]
  },
  {
   "cell_type": "code",
   "execution_count": 52,
   "id": "90695352-4cf7-4d9b-a155-9a3c4968d177",
   "metadata": {
    "id": "586e540b-0f86-4d52-a7a9-debb86ff5bd1",
    "outputId": "8fd8ab43-0573-4b82-ed20-250fd1220447"
   },
   "outputs": [
    {
     "data": {
      "text/plain": [
       "tensor([[1., 1., 1.]])"
      ]
     },
     "execution_count": 52,
     "metadata": {},
     "output_type": "execute_result"
    }
   ],
   "source": [
    "net.weight.data"
   ]
  },
  {
   "cell_type": "code",
   "execution_count": 63,
   "id": "896a57f2-5dd7-4409-b57b-ee7ae51f6c79",
   "metadata": {
    "id": "e98c0035-39f7-40d3-ac37-0f74d546a632",
    "outputId": "6f39b369-a119-4b7c-9172-d7c6d633c841"
   },
   "outputs": [
    {
     "data": {
      "text/plain": [
       "tensor([[-3.8542],\n",
       "        [-3.6654],\n",
       "        [-3.2244],\n",
       "        [-2.6540],\n",
       "        [-2.3949],\n",
       "        [-2.2877],\n",
       "        [-2.1205],\n",
       "        [-2.1110],\n",
       "        [-1.8446],\n",
       "        [-1.7484],\n",
       "        [-1.6015],\n",
       "        [-1.4912],\n",
       "        [-1.4857],\n",
       "        [-1.4330],\n",
       "        [-1.2724],\n",
       "        [-1.2179],\n",
       "        [-1.1147],\n",
       "        [-0.9953],\n",
       "        [-0.9047],\n",
       "        [-0.8572],\n",
       "        [-0.7928],\n",
       "        [-0.6712],\n",
       "        [-0.5655],\n",
       "        [-0.5293],\n",
       "        [-0.4903],\n",
       "        [-0.4266],\n",
       "        [-0.3574],\n",
       "        [-0.2255],\n",
       "        [-0.1800],\n",
       "        [-0.1702],\n",
       "        [-0.0791],\n",
       "        [-0.0280],\n",
       "        [ 0.0160],\n",
       "        [ 0.1480],\n",
       "        [ 0.2441],\n",
       "        [ 0.3293],\n",
       "        [ 0.3503],\n",
       "        [ 0.3997],\n",
       "        [ 0.4105],\n",
       "        [ 0.4984],\n",
       "        [ 0.5157],\n",
       "        [ 0.5393],\n",
       "        [ 0.5820],\n",
       "        [ 0.6235],\n",
       "        [ 0.6382],\n",
       "        [ 0.6687],\n",
       "        [ 0.7057],\n",
       "        [ 0.7568],\n",
       "        [ 0.7995],\n",
       "        [ 0.9063],\n",
       "        [ 0.9989],\n",
       "        [ 1.0058],\n",
       "        [ 1.0656],\n",
       "        [ 1.1064],\n",
       "        [ 1.1827],\n",
       "        [ 1.2350],\n",
       "        [ 1.3973],\n",
       "        [ 1.4581],\n",
       "        [ 1.5611],\n",
       "        [ 1.5739],\n",
       "        [ 1.6979],\n",
       "        [ 1.7800],\n",
       "        [ 1.8021],\n",
       "        [ 1.9292],\n",
       "        [ 1.9827],\n",
       "        [ 2.0343],\n",
       "        [ 2.0737],\n",
       "        [ 2.1177],\n",
       "        [ 2.1180],\n",
       "        [ 2.1468],\n",
       "        [ 2.1643],\n",
       "        [ 2.2293],\n",
       "        [ 2.2755],\n",
       "        [ 2.3696],\n",
       "        [ 2.4052],\n",
       "        [ 2.4927],\n",
       "        [ 2.5587],\n",
       "        [ 2.6901],\n",
       "        [ 2.7007],\n",
       "        [ 2.7379],\n",
       "        [ 2.8162],\n",
       "        [ 2.8738],\n",
       "        [ 2.9129],\n",
       "        [ 2.9582],\n",
       "        [ 2.9929],\n",
       "        [ 3.1483],\n",
       "        [ 3.2719],\n",
       "        [ 3.3983],\n",
       "        [ 3.4179],\n",
       "        [ 3.6003],\n",
       "        [ 3.7663],\n",
       "        [ 3.8652],\n",
       "        [ 3.9175],\n",
       "        [ 4.0971],\n",
       "        [ 4.5026],\n",
       "        [ 4.7539],\n",
       "        [ 5.0359],\n",
       "        [ 5.4187],\n",
       "        [ 5.6114],\n",
       "        [ 5.9442]], grad_fn=<MmBackward>)"
      ]
     },
     "execution_count": 63,
     "metadata": {},
     "output_type": "execute_result"
    }
   ],
   "source": [
    "net(X)"
   ]
  }
 ],
 "metadata": {
  "colab": {
   "name": "2021-09-28-(3주차) 9월28일.ipynb",
   "provenance": []
  },
  "kernelspec": {
   "display_name": "Python 3 (ipykernel)",
   "language": "python",
   "name": "python3"
  },
  "language_info": {
   "codemirror_mode": {
    "name": "ipython",
    "version": 3
   },
   "file_extension": ".py",
   "mimetype": "text/x-python",
   "name": "python",
   "nbconvert_exporter": "python",
   "pygments_lexer": "ipython3",
   "version": "3.8.12"
  }
 },
 "nbformat": 4,
 "nbformat_minor": 5
}
