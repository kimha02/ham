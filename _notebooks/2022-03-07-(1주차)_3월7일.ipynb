{
 "cells": [
  {
   "cell_type": "markdown",
   "id": "5fa6d496-7324-4086-94bc-242b2c6cbefd",
   "metadata": {},
   "source": [
    "# (1주차) 3월7일 \n",
    "\n",
    "- toc:true\n",
    "- branch: master\n",
    "- badges: true\n",
    "- comments: true\n",
    "- author: 최규빈\n",
    "- categories: [Bigdata]"
   ]
  },
  {
   "cell_type": "markdown",
   "id": "34c967bd-cce8-4164-8908-5c4b6c23b60e",
   "metadata": {},
   "source": [
    "### 로드맵 "
   ]
  },
  {
   "cell_type": "markdown",
   "id": "7137a3a0-a17a-49b0-bea8-618d6d4e732a",
   "metadata": {},
   "source": [
    "`-` 오늘수업할내용: 단순선형회귀 "
   ]
  },
  {
   "cell_type": "markdown",
   "id": "ff90e133-c4d3-412d-8eb5-fa4171803798",
   "metadata": {},
   "source": [
    "`-` 단순선형회귀를 배우는 이유? \n",
    "\n",
    "- 우리가 배우고싶은것: 심층신경망(DNN) $\\to$ 합성곱신경망(CNN) $\\to$ 적대적생성신경망(GAN) \n",
    "- 심층신경망을 바로 이해하기 어려움 \n",
    "- 다음의 과정으로 이해해야함: (선형대수학 $\\to$) 회귀분석 $\\to$ 로지스틱회귀분석 $\\to$ 심층신경망 "
   ]
  },
  {
   "cell_type": "markdown",
   "id": "64e251b7-6161-4860-81c4-468603f22408",
   "metadata": {},
   "source": [
    "### 선형회귀 "
   ]
  },
  {
   "cell_type": "markdown",
   "id": "94bb713c-8578-4a7e-870d-5768a0676705",
   "metadata": {},
   "source": [
    "`-` 상황극\n",
    "- 나는 동네에 커피점을 하나 차렸음. \n",
    "- 장사를 하다보니까 날이 더울수록 아이스아메리카노의 판매량이 증가한다는 사실을 깨달았다. \n",
    "- 일기예보는 미리 나와있으니까 그 정보를 잘 이용하면 '온도 -> 아이스아메리카노 판매량 예측' 이 가능할것 같다. (내가 앞으로 얼마나 벌지 예측가능) "
   ]
  },
  {
   "cell_type": "markdown",
   "id": "67e85f59-bc4c-49cc-80e7-6d10d92fd485",
   "metadata": {},
   "source": [
    "`-` 가짜자료 생성 "
   ]
  },
  {
   "cell_type": "code",
   "execution_count": 3,
   "id": "087dd8d6-2cf2-4a50-a10d-8e69e011d578",
   "metadata": {},
   "outputs": [],
   "source": [
    "#!pip install tensorflow"
   ]
  },
  {
   "cell_type": "code",
   "execution_count": 4,
   "id": "66332db5-055d-4128-ae80-c5dc41a25461",
   "metadata": {},
   "outputs": [
    {
     "name": "stdout",
     "output_type": "stream",
     "text": [
      "Collecting matplotlib\n",
      "  Downloading matplotlib-3.5.1-cp310-cp310-manylinux_2_17_x86_64.manylinux2014_x86_64.whl (11.9 MB)\n",
      "\u001b[K     |████████████████████████████████| 11.9 MB 10.3 MB/s eta 0:00:01\n",
      "\u001b[?25hRequirement already satisfied: packaging>=20.0 in /home/khy/anaconda3/envs/py310/lib/python3.10/site-packages (from matplotlib) (21.3)\n",
      "Requirement already satisfied: pyparsing>=2.2.1 in /home/khy/anaconda3/envs/py310/lib/python3.10/site-packages (from matplotlib) (3.0.7)\n",
      "Collecting cycler>=0.10\n",
      "  Downloading cycler-0.11.0-py3-none-any.whl (6.4 kB)\n",
      "Collecting pillow>=6.2.0\n",
      "  Downloading Pillow-9.0.1-cp310-cp310-manylinux_2_17_x86_64.manylinux2014_x86_64.whl (4.3 MB)\n",
      "\u001b[K     |████████████████████████████████| 4.3 MB 48.3 MB/s eta 0:00:01\n",
      "\u001b[?25hRequirement already satisfied: numpy>=1.17 in /home/khy/anaconda3/envs/py310/lib/python3.10/site-packages (from matplotlib) (1.22.3)\n",
      "Collecting kiwisolver>=1.0.1\n",
      "  Downloading kiwisolver-1.3.2-cp310-cp310-manylinux_2_12_x86_64.manylinux2010_x86_64.whl (1.6 MB)\n",
      "\u001b[K     |████████████████████████████████| 1.6 MB 140.8 MB/s eta 0:00:01\n",
      "\u001b[?25hRequirement already satisfied: python-dateutil>=2.7 in /home/khy/anaconda3/envs/py310/lib/python3.10/site-packages (from matplotlib) (2.8.2)\n",
      "Collecting fonttools>=4.22.0\n",
      "  Downloading fonttools-4.30.0-py3-none-any.whl (898 kB)\n",
      "\u001b[K     |████████████████████████████████| 898 kB 136.9 MB/s eta 0:00:01\n",
      "\u001b[?25hRequirement already satisfied: six>=1.5 in /home/khy/anaconda3/envs/py310/lib/python3.10/site-packages (from python-dateutil>=2.7->matplotlib) (1.16.0)\n",
      "Installing collected packages: pillow, kiwisolver, fonttools, cycler, matplotlib\n",
      "Successfully installed cycler-0.11.0 fonttools-4.30.0 kiwisolver-1.3.2 matplotlib-3.5.1 pillow-9.0.1\n"
     ]
    }
   ],
   "source": [
    "!pip install matplotlib"
   ]
  },
  {
   "cell_type": "code",
   "execution_count": 5,
   "id": "2a1f6fff-f26b-4dbc-9dae-599c0640058c",
   "metadata": {},
   "outputs": [],
   "source": [
    "import matplotlib.pyplot as plt \n",
    "import tensorflow as tf "
   ]
  },
  {
   "cell_type": "code",
   "execution_count": 45,
   "id": "0e805fc0-2c26-4c07-b68f-e886249a65b0",
   "metadata": {},
   "outputs": [
    {
     "data": {
      "text/plain": [
       "'2.8.0'"
      ]
     },
     "execution_count": 45,
     "metadata": {},
     "output_type": "execute_result"
    }
   ],
   "source": [
    "tf.__version__"
   ]
  },
  {
   "cell_type": "code",
   "execution_count": 7,
   "id": "0e628e23-6692-48cb-b9ce-2e78666a02ac",
   "metadata": {},
   "outputs": [
    {
     "name": "stdout",
     "output_type": "stream",
     "text": [
      "WARNING:tensorflow:From /tmp/ipykernel_4092859/337460670.py:1: is_gpu_available (from tensorflow.python.framework.test_util) is deprecated and will be removed in a future version.\n",
      "Instructions for updating:\n",
      "Use `tf.config.list_physical_devices('GPU')` instead.\n"
     ]
    },
    {
     "name": "stderr",
     "output_type": "stream",
     "text": [
      "2022-03-14 19:07:04.285513: I tensorflow/core/platform/cpu_feature_guard.cc:151] This TensorFlow binary is optimized with oneAPI Deep Neural Network Library (oneDNN) to use the following CPU instructions in performance-critical operations:  SSE4.1 SSE4.2 AVX AVX2 FMA\n",
      "To enable them in other operations, rebuild TensorFlow with the appropriate compiler flags.\n"
     ]
    },
    {
     "data": {
      "text/plain": [
       "True"
      ]
     },
     "execution_count": 7,
     "metadata": {},
     "output_type": "execute_result"
    },
    {
     "name": "stderr",
     "output_type": "stream",
     "text": [
      "2022-03-14 19:07:04.286377: I tensorflow/stream_executor/cuda/cuda_gpu_executor.cc:939] successful NUMA node read from SysFS had negative value (-1), but there must be at least one NUMA node, so returning NUMA node zero\n",
      "2022-03-14 19:07:04.287264: I tensorflow/stream_executor/cuda/cuda_gpu_executor.cc:939] successful NUMA node read from SysFS had negative value (-1), but there must be at least one NUMA node, so returning NUMA node zero\n",
      "2022-03-14 19:07:04.288045: I tensorflow/stream_executor/cuda/cuda_gpu_executor.cc:939] successful NUMA node read from SysFS had negative value (-1), but there must be at least one NUMA node, so returning NUMA node zero\n",
      "2022-03-14 19:07:05.247104: I tensorflow/stream_executor/cuda/cuda_gpu_executor.cc:939] successful NUMA node read from SysFS had negative value (-1), but there must be at least one NUMA node, so returning NUMA node zero\n",
      "2022-03-14 19:07:05.247526: I tensorflow/stream_executor/cuda/cuda_gpu_executor.cc:939] successful NUMA node read from SysFS had negative value (-1), but there must be at least one NUMA node, so returning NUMA node zero\n",
      "2022-03-14 19:07:05.247913: I tensorflow/stream_executor/cuda/cuda_gpu_executor.cc:939] successful NUMA node read from SysFS had negative value (-1), but there must be at least one NUMA node, so returning NUMA node zero\n",
      "2022-03-14 19:07:05.248292: I tensorflow/core/common_runtime/gpu/gpu_device.cc:1525] Created device /device:GPU:0 with 15225 MB memory:  -> device: 0, name: NVIDIA GeForce RTX 3090, pci bus id: 0000:09:00.0, compute capability: 8.6\n"
     ]
    }
   ],
   "source": [
    "tf.test.is_gpu_available()"
   ]
  },
  {
   "cell_type": "code",
   "execution_count": 6,
   "id": "4d6d0e8f-460b-41d1-a6f7-5dccef3f8356",
   "metadata": {},
   "outputs": [
    {
     "name": "stderr",
     "output_type": "stream",
     "text": [
      "2022-03-14 19:06:47.307952: I tensorflow/stream_executor/cuda/cuda_gpu_executor.cc:939] successful NUMA node read from SysFS had negative value (-1), but there must be at least one NUMA node, so returning NUMA node zero\n",
      "2022-03-14 19:06:47.328154: I tensorflow/stream_executor/cuda/cuda_gpu_executor.cc:939] successful NUMA node read from SysFS had negative value (-1), but there must be at least one NUMA node, so returning NUMA node zero\n",
      "2022-03-14 19:06:47.328566: I tensorflow/stream_executor/cuda/cuda_gpu_executor.cc:939] successful NUMA node read from SysFS had negative value (-1), but there must be at least one NUMA node, so returning NUMA node zero\n"
     ]
    },
    {
     "data": {
      "text/plain": [
       "[PhysicalDevice(name='/physical_device:GPU:0', device_type='GPU')]"
      ]
     },
     "execution_count": 6,
     "metadata": {},
     "output_type": "execute_result"
    }
   ],
   "source": [
    "tf.config.list_physical_devices('GPU')"
   ]
  },
  {
   "cell_type": "markdown",
   "id": "c647b602-ff89-4f2e-8a1e-18b110de0eab",
   "metadata": {},
   "source": [
    "온도 ${\\bf x}$가 아래와 같다고 하자. "
   ]
  },
  {
   "cell_type": "code",
   "execution_count": 5,
   "id": "e6a92bfe-5c6d-4ced-b742-ecd5fe175504",
   "metadata": {},
   "outputs": [
    {
     "data": {
      "text/plain": [
       "<tf.Tensor: shape=(10,), dtype=float32, numpy=\n",
       "array([20.1, 22.2, 22.7, 23.3, 24.4, 25.1, 26.2, 27.3, 28.4, 30.4],\n",
       "      dtype=float32)>"
      ]
     },
     "execution_count": 5,
     "metadata": {},
     "output_type": "execute_result"
    }
   ],
   "source": [
    "x=tf.constant([20.1, 22.2, 22.7, 23.3, 24.4, 25.1, 26.2, 27.3, 28.4, 30.4]) # 기온 \n",
    "x"
   ]
  },
  {
   "cell_type": "markdown",
   "id": "68eca258-2b8b-41d7-b728-eae1f2335cc1",
   "metadata": {},
   "source": [
    "> `constant` : 상수 값을 생성"
   ]
  },
  {
   "cell_type": "markdown",
   "id": "0bd40a8c-825e-4505-90d5-cd4e86cbc96d",
   "metadata": {},
   "source": [
    "아이스아메리카노의 판매량 ${\\bf y}$이 아래와 같다고 하자. (판매량은 정수로 나오겠지만 편의상 소수점도 가능하다고 생각하자) "
   ]
  },
  {
   "cell_type": "markdown",
   "id": "3604e4d7-d44a-440d-9d92-6a74a393a278",
   "metadata": {},
   "source": [
    "$${\\bf y} \\approx 10.2 +2.2 {\\bf x}$$ "
   ]
  },
  {
   "cell_type": "markdown",
   "id": "2c428e6b-12a5-4623-8a6f-1f06cd10a19b",
   "metadata": {},
   "source": [
    "- 여기에서 10.2, 2.2 의 숫자는 제가 임의로 정한것임 \n",
    "- 식의의미: 온도가 0일때 10.2잔정도 팔림 + 온도가 1도 증가하면 2.2잔정도 더 팔림 \n",
    "- 물결의의미: 현실반영. 세상은 꼭 수식대로 정확하게 이루어지지 않음. "
   ]
  },
  {
   "cell_type": "code",
   "execution_count": 7,
   "id": "f8481aed-e5a1-48b7-8145-1b8569b27bf6",
   "metadata": {},
   "outputs": [
    {
     "data": {
      "text/plain": [
       "<tf.Tensor: shape=(10,), dtype=float32, numpy=\n",
       "array([55.418365, 58.194283, 61.230827, 62.312557, 63.107002, 63.69569 ,\n",
       "       67.247055, 71.4365  , 73.1013  , 77.84988 ], dtype=float32)>"
      ]
     },
     "execution_count": 7,
     "metadata": {},
     "output_type": "execute_result"
    }
   ],
   "source": [
    "tf.random.set_seed(43052)\n",
    "epsilon=tf.random.normal([10])  #오차 : 정규분포에서 랜덤하게 샘플 10개를 뽑음\n",
    "y=10.2 + 2.2*x + epsilon\n",
    "y"
   ]
  },
  {
   "cell_type": "markdown",
   "id": "e5661d66-ba58-4492-babe-36be6e7cba88",
   "metadata": {},
   "source": [
    "`-` 우리는 아래와 같은 자료를 모았다고 생각하자.  "
   ]
  },
  {
   "cell_type": "code",
   "execution_count": 9,
   "id": "2f9d8728-6eaf-4ddc-a4e6-2136b1d2ba6a",
   "metadata": {},
   "outputs": [
    {
     "data": {
      "text/plain": [
       "<tf.Tensor: shape=(10, 2), dtype=float32, numpy=\n",
       "array([[20.1     , 55.418365],\n",
       "       [22.2     , 58.194283],\n",
       "       [22.7     , 61.230827],\n",
       "       [23.3     , 62.312557],\n",
       "       [24.4     , 63.107002],\n",
       "       [25.1     , 63.69569 ],\n",
       "       [26.2     , 67.247055],\n",
       "       [27.3     , 71.4365  ],\n",
       "       [28.4     , 73.1013  ],\n",
       "       [30.4     , 77.84988 ]], dtype=float32)>"
      ]
     },
     "execution_count": 9,
     "metadata": {},
     "output_type": "execute_result"
    }
   ],
   "source": [
    "tf.transpose(tf.concat([[x],[y]],0))  #concat : 데이터 합치기!"
   ]
  },
  {
   "cell_type": "code",
   "execution_count": 11,
   "id": "2e407dc5-a658-45be-8db0-49c0a47ce531",
   "metadata": {},
   "outputs": [
    {
     "data": {
      "text/plain": [
       "<tf.Tensor: shape=(20, 1), dtype=float32, numpy=\n",
       "array([[20.1     ],\n",
       "       [22.2     ],\n",
       "       [22.7     ],\n",
       "       [23.3     ],\n",
       "       [24.4     ],\n",
       "       [25.1     ],\n",
       "       [26.2     ],\n",
       "       [27.3     ],\n",
       "       [28.4     ],\n",
       "       [30.4     ],\n",
       "       [55.418365],\n",
       "       [58.194283],\n",
       "       [61.230827],\n",
       "       [62.312557],\n",
       "       [63.107002],\n",
       "       [63.69569 ],\n",
       "       [67.247055],\n",
       "       [71.4365  ],\n",
       "       [73.1013  ],\n",
       "       [77.84988 ]], dtype=float32)>"
      ]
     },
     "execution_count": 11,
     "metadata": {},
     "output_type": "execute_result"
    }
   ],
   "source": [
    "tf.transpose(tf.concat([[x],[y]],1))  #concat : 데이터 합치기!"
   ]
  },
  {
   "cell_type": "markdown",
   "id": "2cdee8d5-92a1-4f54-befc-d35c1b1ca582",
   "metadata": {},
   "source": [
    "> [x],[y]로 열을 구분해주지 않으면 한 개의 데이터처럼 합쳐진다. `0`은 행, 열 구분이다."
   ]
  },
  {
   "cell_type": "markdown",
   "id": "638934ab-ab99-49b2-88f4-d08e6b56fc27",
   "metadata": {},
   "source": [
    "`-` 그려보자. "
   ]
  },
  {
   "cell_type": "code",
   "execution_count": 12,
   "id": "6999c6d1-89a7-4fa8-ab46-c4bfcbc6f26b",
   "metadata": {},
   "outputs": [
    {
     "data": {
      "text/plain": [
       "[<matplotlib.lines.Line2D at 0x7f98d00a90d0>]"
      ]
     },
     "execution_count": 12,
     "metadata": {},
     "output_type": "execute_result"
    },
    {
     "data": {
      "image/png": "[encoded data removed]",
      "text/plain": [
       "<Figure size 432x288 with 1 Axes>"
      ]
     },
     "metadata": {
      "needs_background": "light"
     },
     "output_type": "display_data"
    }
   ],
   "source": [
    "plt.plot(x,y,'.') # 파란점, 관측한 데이터 \n",
    "plt.plot(x,10.2 + 2.2*x, '--')  # 주황색점선, 세상의 법칙 "
   ]
  },
  {
   "cell_type": "markdown",
   "id": "1a5e0647-d73b-4fda-a0fd-0ff2f88358d7",
   "metadata": {},
   "source": [
    "`-` 우리의 목표: 파란색점 $\\to$ 주황색점선을 추론 // 데이터를 바탕으로 세상의 법칙을 추론 "
   ]
  },
  {
   "cell_type": "markdown",
   "id": "118e9b86-86fc-4f42-8c4f-525b6922062d",
   "metadata": {},
   "source": [
    "`-` 아이디어: 데이터를 보니까 $x$와 $y$가 선형의 관계에 있는듯 보인다. 즉 모든 $i=1,2,\\dots, 10$에 대하여 아래를 만족하는 적당한 a,b (혹은 $\\beta_0,\\beta_1$) 가 존재할것 같다. \n",
    "- $y_{i} \\approx ax_{i}+b$\n",
    "- $y_{i} \\approx \\beta_1 x_{i}+\\beta_0$"
   ]
  },
  {
   "cell_type": "markdown",
   "id": "d32d075d-90ab-4e47-9c72-606ff7e49920",
   "metadata": {},
   "source": [
    "`-` 어림짐작으로 $a,b$를 알아내보자. "
   ]
  },
  {
   "cell_type": "markdown",
   "id": "b3805e1a-444a-4532-b7c9-820738625345",
   "metadata": {},
   "source": [
    "데이터를 살펴보자. "
   ]
  },
  {
   "cell_type": "code",
   "execution_count": 13,
   "id": "19f40b1e-ee50-4403-8f17-0c70e2ac0dc6",
   "metadata": {},
   "outputs": [
    {
     "data": {
      "text/plain": [
       "<tf.Tensor: shape=(10, 2), dtype=float32, numpy=\n",
       "array([[20.1     , 55.418365],\n",
       "       [22.2     , 58.194283],\n",
       "       [22.7     , 61.230827],\n",
       "       [23.3     , 62.312557],\n",
       "       [24.4     , 63.107002],\n",
       "       [25.1     , 63.69569 ],\n",
       "       [26.2     , 67.247055],\n",
       "       [27.3     , 71.4365  ],\n",
       "       [28.4     , 73.1013  ],\n",
       "       [30.4     , 77.84988 ]], dtype=float32)>"
      ]
     },
     "execution_count": 13,
     "metadata": {},
     "output_type": "execute_result"
    }
   ],
   "source": [
    "tf.transpose(tf.concat([[x],[y]],0))"
   ]
  },
  {
   "cell_type": "markdown",
   "id": "fa725559-3d2a-4d7a-a5f8-e64e8ede476f",
   "metadata": {},
   "source": [
    "적당히 `왼쪽*2+15 = 오른쪽`의 관계가 성립하는것 같다. "
   ]
  },
  {
   "cell_type": "markdown",
   "id": "b2fc9a0f-d604-4953-9440-6dc6c030e8ff",
   "metadata": {},
   "source": [
    "따라서 $a=2, b=15$ 혹은 $\\beta_0=15, \\beta_1=2$ 로 추론할 수 있겠다. "
   ]
  },
  {
   "cell_type": "markdown",
   "id": "6ede2903-5039-4180-912e-122612e63902",
   "metadata": {},
   "source": [
    "`-` 누군가가 $(\\beta_0,\\beta_1)=(14,2)$ 이라고 주장할 수 있다. (어차피 지금은 감각으로 추론하는 과정이니까) "
   ]
  },
  {
   "cell_type": "markdown",
   "id": "b69d510f-cb7b-40d3-b654-3545dd88707c",
   "metadata": {},
   "source": [
    "`-` 새로운 주장으로 인해서 $(\\beta_0,\\beta_1)=(15,2)$ 로 볼 수도 있고 $(\\beta_0,\\beta_1)=(14,2)$ 로 볼 수도 있다. 이중에서 어떠한 추정치가 좋은지 판단할 수 있을까? \n",
    "- 후보1: $(\\beta_0,\\beta_1)=(15,2)$ \n",
    "- 후보2: $(\\beta_0,\\beta_1)=(14,2)$"
   ]
  },
  {
   "cell_type": "markdown",
   "id": "4a86c0ed-fa00-4630-91fd-459157ffae08",
   "metadata": {},
   "source": [
    "`-` 가능한 $y_i \\approx \\beta_0 + \\beta_1 x_i$ 이 되도록 만드는 $(\\beta_0,\\beta_1)$ 이 좋을 것이다. $\\to$ 후보 1,2를 비교해보자. "
   ]
  },
  {
   "cell_type": "markdown",
   "id": "136c394d-1de5-4a25-a6cd-fa2d0a0ad668",
   "metadata": {},
   "source": [
    "(관찰에 의한 비교) "
   ]
  },
  {
   "cell_type": "markdown",
   "id": "450f3e4a-4276-4baa-b436-630368844d22",
   "metadata": {},
   "source": [
    "후보1에 대해서 $i=1,2$를 넣고 관찰하여 보자. "
   ]
  },
  {
   "cell_type": "code",
   "execution_count": 14,
   "id": "5028b9ad-2214-4712-bbca-e81d26ea5412",
   "metadata": {},
   "outputs": [
    {
     "data": {
      "text/plain": [
       "(55.2, 55.418365)"
      ]
     },
     "execution_count": 14,
     "metadata": {},
     "output_type": "execute_result"
    }
   ],
   "source": [
    "20.1 * 2 + 15 , 55.418365 # i=1 "
   ]
  },
  {
   "cell_type": "code",
   "execution_count": 15,
   "id": "b161d672-21f4-4848-a8f6-0b99c8417c90",
   "metadata": {},
   "outputs": [
    {
     "data": {
      "text/plain": [
       "(59.4, 58.194283)"
      ]
     },
     "execution_count": 15,
     "metadata": {},
     "output_type": "execute_result"
    }
   ],
   "source": [
    "22.2 * 2 + 15 , 58.194283 # i=2"
   ]
  },
  {
   "cell_type": "markdown",
   "id": "8cca1d42-61fa-4549-9fcd-8f94306e9930",
   "metadata": {},
   "source": [
    "후보2에 대하여 $i=1,2$를 넣고 관찰하여 보자. "
   ]
  },
  {
   "cell_type": "code",
   "execution_count": 16,
   "id": "a4431ef5-2a1f-4417-878e-e671a64e6c05",
   "metadata": {},
   "outputs": [
    {
     "data": {
      "text/plain": [
       "(54.2, 55.418365)"
      ]
     },
     "execution_count": 16,
     "metadata": {},
     "output_type": "execute_result"
    }
   ],
   "source": [
    "20.1 * 2 + 14 , 55.418365 # i=1 "
   ]
  },
  {
   "cell_type": "code",
   "execution_count": 17,
   "id": "4e76bdba-b655-452c-b621-777960b53105",
   "metadata": {},
   "outputs": [
    {
     "data": {
      "text/plain": [
       "(58.4, 58.194283)"
      ]
     },
     "execution_count": 17,
     "metadata": {},
     "output_type": "execute_result"
    }
   ],
   "source": [
    "22.2 * 2 + 14 , 58.194283 # i=2"
   ]
  },
  {
   "cell_type": "markdown",
   "id": "611c288e-6e10-4a28-a5e6-dfa405fdac9e",
   "metadata": {},
   "source": [
    "$i=1$인 경우에는 후보1이 더 잘맞는것 같은데 $i=2$인 경우는 후보2가 더 잘맞는것 같다. "
   ]
  },
  {
   "cell_type": "markdown",
   "id": "065b80af-8ec4-491a-82a7-c091bd213505",
   "metadata": {},
   "source": [
    "(좀 더 체계적인 비교) "
   ]
  },
  {
   "cell_type": "markdown",
   "id": "2d6d1f7f-fe72-4c29-af3b-3d4e4b4dfe1f",
   "metadata": {},
   "source": [
    "$i=1,2,3, \\dots, 10$ 에서 후보1과 후보2중 어떤것이 더 좋은지 비교하는 체계적인 방법을 생각해보자. "
   ]
  },
  {
   "cell_type": "markdown",
   "id": "b46dca3e-0b51-416e-85f8-11019ec489bf",
   "metadata": {},
   "source": [
    "후보 1,2에 대하여 $\\sum_{i=1}^{10} (y_i -\\beta_0 -\\beta_1 x_i)^2$를 계산하여 비교해보자. "
   ]
  },
  {
   "cell_type": "code",
   "execution_count": 18,
   "id": "9d7be911-4599-40d6-b518-3895d5370f47",
   "metadata": {},
   "outputs": [],
   "source": [
    "sum1=0 \n",
    "for i in range(10):\n",
    "    sum1=sum1+(y[i]-15-2*x[i])**2 "
   ]
  },
  {
   "cell_type": "code",
   "execution_count": 19,
   "id": "b5d8c721-f3ea-425d-aef8-770dd4db6ac6",
   "metadata": {},
   "outputs": [],
   "source": [
    "sum2=0 \n",
    "for i in range(10):\n",
    "    sum2=sum2+(y[i]-14-2*x[i])**2 "
   ]
  },
  {
   "cell_type": "code",
   "execution_count": 20,
   "id": "bd2a614d-e23d-465b-af35-fee107471703",
   "metadata": {},
   "outputs": [
    {
     "data": {
      "text/plain": [
       "(<tf.Tensor: shape=(), dtype=float32, numpy=14.734169>,\n",
       " <tf.Tensor: shape=(), dtype=float32, numpy=31.521088>)"
      ]
     },
     "execution_count": 20,
     "metadata": {},
     "output_type": "execute_result"
    }
   ],
   "source": [
    "sum1,sum2"
   ]
  },
  {
   "cell_type": "markdown",
   "id": "32c0cd5e-b128-4c3e-9864-8a275bea8cf5",
   "metadata": {},
   "source": [
    "후보1이 더 $\\sum_{i=1}^{10} (y_i -\\beta_0 -\\beta_1 x_i)^2$의 값이 작다. "
   ]
  },
  {
   "cell_type": "markdown",
   "id": "69660276-d37e-4f90-b431-37dc48fa8650",
   "metadata": {},
   "source": [
    "후보1이 종합적으로 후보2에 비하여 좋다. 이 과정을 무한번 반복하면 최적의 추정치를 찾을 수 있다. "
   ]
  },
  {
   "cell_type": "markdown",
   "id": "78f34ba6-0ddc-4b66-bf42-77dfe6b6d113",
   "metadata": {},
   "source": [
    "`-` 그런데 이 알고리즘은 현실적으로 구현이 불가능하다. (무한번 계산하기도 힘들고, 언제 멈출지도 애매함) "
   ]
  },
  {
   "cell_type": "markdown",
   "id": "56d1f77c-40e1-461c-b44b-a5e4e331b866",
   "metadata": {},
   "source": [
    "`-` 수학을 이용해서 좀 더 체계적으로 찾아보자. 결국 아래식을 가장 작게 만드는 $\\beta_0,\\beta_1$을 찾으면 된다. "
   ]
  },
  {
   "cell_type": "markdown",
   "id": "d494db54-a612-4904-8e95-55e8bd0944ae",
   "metadata": {},
   "source": [
    "$\\sum_{i=1}^{10} (y_i -\\beta_0 -\\beta_1 x_i)^2$"
   ]
  },
  {
   "cell_type": "markdown",
   "id": "3a8d4569-1940-4aea-befe-08e82a03a5ce",
   "metadata": {},
   "source": [
    "그런데 결국 $\\beta_0, \\beta_1$에 대한 이차식인데 이 식을 최소화하는 $\\beta_0,\\beta_1$을 구하기 위해서는 아래를 연립하여 풀면된다. "
   ]
  },
  {
   "cell_type": "markdown",
   "id": "35220b63-8ccf-48cc-be0d-0281e289cdfa",
   "metadata": {},
   "source": [
    "$\\begin{cases}\n",
    "\\frac{\\partial}{\\partial \\beta_0}\\sum_{i=1}^{10} (y_i -\\beta_0 -\\beta_1 x_i)^2=0 \\\\ \n",
    "\\frac{\\partial}{\\partial \\beta_1}\\sum_{i=1}^{10} (y_i -\\beta_0 -\\beta_1 x_i)^2=0\n",
    "\\end{cases}$"
   ]
  },
  {
   "cell_type": "markdown",
   "id": "7daca72d-76b5-48b9-a95e-7bca9274bc6f",
   "metadata": {},
   "source": [
    "`-` 풀어보자. "
   ]
  },
  {
   "cell_type": "markdown",
   "id": "c9538349-5bf0-4c1b-8640-040178b66555",
   "metadata": {},
   "source": [
    "$\\begin{cases}\n",
    "\\sum_{i=1}^{10} -2(y_i -\\beta_0 -\\beta_1 x_i)=0 \\\\ \n",
    "\\sum_{i=1}^{10} -2x_i(y_i -\\beta_0 -\\beta_1 x_i)=0\n",
    "\\end{cases}$"
   ]
  },
  {
   "cell_type": "markdown",
   "id": "1e200f08-6ebb-46c7-aced-7834a8e9034d",
   "metadata": {},
   "source": [
    "정리하면 \n",
    "\n",
    "$$\\hat{\\beta}_0= \\bar{y}-\\hat{\\beta}_1 \\bar{x}$$\n",
    "\n",
    "$$\\hat{\\beta}_1= \\frac{S_{xy}}{S_{xx}}=\\frac{\\sum_{i=1}^{n}(x_i-\\bar{x})(y_i-\\bar{y})}{\\sum_{i=1}^{n}(x_i-\\bar{x})^2}$$"
   ]
  },
  {
   "cell_type": "markdown",
   "id": "9d90d514-4244-4197-bf49-b64f8363bf92",
   "metadata": {},
   "source": [
    "`-` 따라서 최적의 추정치 $(\\hat{\\beta}_0,\\hat{\\beta}_1)$를 이용한 추세선을 아래와 같이 계산할 수 있음."
   ]
  },
  {
   "cell_type": "code",
   "execution_count": 21,
   "id": "ad02f2d4-b81b-4e4d-99c1-5e002516e5bf",
   "metadata": {},
   "outputs": [
    {
     "data": {
      "text/plain": [
       "<tf.Tensor: shape=(), dtype=float32, numpy=87.848976>"
      ]
     },
     "execution_count": 21,
     "metadata": {},
     "output_type": "execute_result"
    }
   ],
   "source": [
    "Sxx= sum((x-sum(x)/10)**2)\n",
    "Sxx"
   ]
  },
  {
   "cell_type": "code",
   "execution_count": 22,
   "id": "8d714df9-a3a5-4c9f-9527-a17fc7b82c94",
   "metadata": {},
   "outputs": [
    {
     "data": {
      "text/plain": [
       "<tf.Tensor: shape=(), dtype=float32, numpy=194.64737>"
      ]
     },
     "execution_count": 22,
     "metadata": {},
     "output_type": "execute_result"
    }
   ],
   "source": [
    "Sxy=  sum((x-sum(x)/10)*(y-sum(y)/10))\n",
    "Sxy"
   ]
  },
  {
   "cell_type": "code",
   "execution_count": 23,
   "id": "4ffc9b70-4175-4792-a141-f34db319181a",
   "metadata": {},
   "outputs": [
    {
     "data": {
      "text/plain": [
       "<tf.Tensor: shape=(), dtype=float32, numpy=2.2157044>"
      ]
     },
     "execution_count": 23,
     "metadata": {},
     "output_type": "execute_result"
    }
   ],
   "source": [
    "beta1_estimated = Sxy/Sxx \n",
    "beta1_estimated "
   ]
  },
  {
   "cell_type": "code",
   "execution_count": 24,
   "id": "28c82e11-2264-4764-8bdb-83f0ff79d699",
   "metadata": {},
   "outputs": [
    {
     "data": {
      "text/plain": [
       "<tf.Tensor: shape=(), dtype=float32, numpy=9.944572>"
      ]
     },
     "execution_count": 24,
     "metadata": {},
     "output_type": "execute_result"
    }
   ],
   "source": [
    "beta0_estimated = sum(y)/10 - beta1_estimated * sum(x)/10 \n",
    "beta0_estimated"
   ]
  },
  {
   "cell_type": "code",
   "execution_count": 25,
   "id": "a614304a-4cce-4b21-89a7-266faadd925a",
   "metadata": {},
   "outputs": [
    {
     "data": {
      "text/plain": [
       "[<matplotlib.lines.Line2D at 0x7f98a4483550>]"
      ]
     },
     "execution_count": 25,
     "metadata": {},
     "output_type": "execute_result"
    },
    {
     "data": {
      "image/png": "[encoded data removed]",
      "text/plain": [
       "<Figure size 432x288 with 1 Axes>"
      ]
     },
     "metadata": {
      "needs_background": "light"
     },
     "output_type": "display_data"
    }
   ],
   "source": [
    "plt.plot(x,y,'.')\n",
    "plt.plot(x,beta0_estimated + beta1_estimated * x, '--') # 주황색선: 세상의 법칙을 추정한선 \n",
    "plt.plot(x,10.2 + 2.2* x, '--') # 초록색선: ture, 세상의법칙 "
   ]
  },
  {
   "cell_type": "markdown",
   "id": "6d943dfb-d2c1-4984-9949-3fc971fa688e",
   "metadata": {},
   "source": [
    "> Note: 샘플수가 커질수록 주황색선은 점점 초록색선으로 가까워진다. "
   ]
  },
  {
   "cell_type": "markdown",
   "id": "b0ba8a6f-df0f-4337-a079-6d3ffbd28971",
   "metadata": {},
   "source": [
    "`-` 꽤 훌륭한 도구임. 그런데 약간의 단점이 존재한다. \n",
    "\n",
    "(1) 공식이 좀 복잡함.. \n",
    "\n",
    "(2) $x$가 여러개일 경우 확장이 어려움 "
   ]
  },
  {
   "cell_type": "markdown",
   "id": "e8846673-3c63-436e-b2f5-1d768f90e1c0",
   "metadata": {},
   "source": [
    "`-` 단점을 극복하기 위해서 우리가 지금까지 했던논의를 매트릭스로 바꾸어서 다시 써보자. "
   ]
  },
  {
   "cell_type": "markdown",
   "id": "b4f01160-2e39-4c3f-abe4-cdf29b51a8ed",
   "metadata": {},
   "source": [
    "`-` 모형의 매트릭스화 "
   ]
  },
  {
   "cell_type": "markdown",
   "id": "8ec80174-d583-4822-83cc-57dead194fe4",
   "metadata": {},
   "source": [
    "우리의 모형은 아래와 같다. "
   ]
  },
  {
   "cell_type": "markdown",
   "id": "42450c1f-d0b9-4e75-be0a-85b715b9191d",
   "metadata": {},
   "source": [
    "$y_i = \\beta_0 + \\beta_1 x_i + \\epsilon_i, \\quad i=1,2,\\dots,10$ "
   ]
  },
  {
   "cell_type": "markdown",
   "id": "180519a4-f863-437e-9984-ca86e0115039",
   "metadata": {},
   "source": [
    "풀어서 쓰면 "
   ]
  },
  {
   "cell_type": "markdown",
   "id": "2f7270f7-2c22-4ac6-a7fc-2add2d098af2",
   "metadata": {},
   "source": [
    "$\\begin{cases}\n",
    "y_1 = \\beta_0 +\\beta_1 x_1 + \\epsilon_1 \\\\ \n",
    "y_2 = \\beta_0 +\\beta_1 x_2 + \\epsilon_2 \\\\ \n",
    "\\dots \\\\ \n",
    "y_{10} = \\beta_0 +\\beta_1 x_{10} + \\epsilon_{10} \n",
    "\\end{cases}$"
   ]
  },
  {
   "cell_type": "markdown",
   "id": "f6a4416c-f242-4d34-a448-39c7c80fae96",
   "metadata": {},
   "source": [
    "아래와 같이 쓸 수 있다."
   ]
  },
  {
   "cell_type": "markdown",
   "id": "6c7c8137-afdb-47c0-ba00-5c97e6eb7b02",
   "metadata": {},
   "source": [
    "$\\begin{bmatrix} \n",
    "y_1 \\\\ \n",
    "y_2 \\\\ \n",
    "\\dots \\\\\n",
    "y_{10} \n",
    "\\end{bmatrix} \n",
    "= \\begin{bmatrix} \n",
    "1 & x_1 \\\\ \n",
    "1 & x_2 \\\\ \n",
    "\\dots & \\dots \\\\\n",
    "1 & x_{10} \n",
    "\\end{bmatrix}\\begin{bmatrix}\\beta_0 \\\\ \\beta_1 \\end{bmatrix} + \\begin{bmatrix} \n",
    "\\epsilon_1 \\\\ \n",
    "\\epsilon_2 \\\\ \n",
    "\\dots \\\\\n",
    "\\epsilon_{10} \n",
    "\\end{bmatrix} $"
   ]
  },
  {
   "cell_type": "markdown",
   "id": "f0ba4283-7679-4348-9d37-199b46153712",
   "metadata": {},
   "source": [
    "벡터와 매트릭스 형태로 정리하면 "
   ]
  },
  {
   "cell_type": "markdown",
   "id": "1a8636e8-e887-4104-8218-4f1d292e7ea1",
   "metadata": {},
   "source": [
    "${\\bf y} = {\\bf X} {\\boldsymbol \\beta} + \\boldsymbol{\\epsilon}$ "
   ]
  },
  {
   "cell_type": "markdown",
   "id": "d6f8e912-8a0b-43bf-8747-5c2d68cc43a0",
   "metadata": {},
   "source": [
    "`-` 손실함수의 매트릭스화: 우리가 최소화 하려던 손실함수는 아래와 같다. "
   ]
  },
  {
   "cell_type": "markdown",
   "id": "0e97e64d-3736-4b74-94e6-86c65643473b",
   "metadata": {},
   "source": [
    "$loss=\\sum_{i=1}^{n}(y_i-\\beta_0-\\beta_1x_i)^2$"
   ]
  },
  {
   "cell_type": "markdown",
   "id": "75019659-f5ba-485e-a420-7d91ed800740",
   "metadata": {},
   "source": [
    "이것을 벡터표현으로 하면 아래와 같다. "
   ]
  },
  {
   "cell_type": "markdown",
   "id": "6a8c3aa2-2bd6-48d9-b98c-90d76919b540",
   "metadata": {},
   "source": [
    "$loss=\\sum_{i=1}^{n}(y_i-\\beta_0-\\beta_1x_i)^2=({\\bf y}-{\\bf X}{\\boldsymbol \\beta})^\\top({\\bf y}-{\\bf X}{\\boldsymbol \\beta})$"
   ]
  },
  {
   "cell_type": "markdown",
   "id": "633e6b5a-a1d5-4337-9ddd-fdac451c1314",
   "metadata": {},
   "source": [
    "풀어보면 "
   ]
  },
  {
   "cell_type": "markdown",
   "id": "6b6d9860-2c2a-4a58-b89d-cf4cd95a86bc",
   "metadata": {},
   "source": [
    "$loss=({\\bf y}-{\\bf X}{\\boldsymbol \\beta})^\\top({\\bf y}-{\\bf X}{\\boldsymbol \\beta})={\\bf y}^\\top {\\bf y} - {\\bf y}^\\top {\\bf X}{\\boldsymbol\\beta} - {\\boldsymbol\\beta}^\\top {\\bf X}^\\top {\\bf y} + {\\boldsymbol\\beta}^\\top {\\bf X}^\\top {\\bf X} {\\boldsymbol\\beta}$"
   ]
  },
  {
   "cell_type": "markdown",
   "id": "5692b61e-1e08-474e-b1f0-883d456ec07d",
   "metadata": {},
   "source": [
    "`-` 미분하는 과정의 매트릭스화 "
   ]
  },
  {
   "cell_type": "markdown",
   "id": "2d91527a-e2d8-4c75-8a08-72033b8b1cee",
   "metadata": {},
   "source": [
    "loss를 최소화하는 ${\\boldsymbol \\beta}$를 구해야하므로 loss를 ${\\boldsymbol \\beta}$로 미분한식을 0이라고 놓고 풀면 된다. "
   ]
  },
  {
   "cell_type": "markdown",
   "id": "379b569e-4e6c-4ec8-af5e-6e04a431e265",
   "metadata": {},
   "source": [
    "$\\frac{\\partial}{\\partial \\boldsymbol{\\beta}} loss = \\frac{\\partial}{\\partial \\boldsymbol{\\beta}} {\\bf y}^\\top {\\bf y} - \\frac{\\partial}{\\partial \\boldsymbol{\\beta}} {\\bf y}^\\top {\\bf X}{\\boldsymbol\\beta} - \\frac{\\partial}{\\partial \\boldsymbol{\\beta}} {\\boldsymbol\\beta}^\\top {\\bf X}^\\top {\\bf y} + \\frac{\\partial}{\\partial \\boldsymbol{\\beta}} {\\boldsymbol\\beta}^\\top {\\bf X}^\\top {\\bf X} {\\boldsymbol\\beta}$ "
   ]
  },
  {
   "cell_type": "markdown",
   "id": "a47bbf51-275a-40ce-8dfc-28ffffd25e75",
   "metadata": {},
   "source": [
    "$= 0 - {\\bf X}^\\top {\\bf y}- {\\bf X}^\\top {\\bf y} + 2{\\bf X}^\\top {\\bf X}{\\boldsymbol\\beta} $"
   ]
  },
  {
   "cell_type": "markdown",
   "id": "d6bbeb8b-a497-41b4-94df-4cef64612274",
   "metadata": {},
   "source": [
    "따라서 $\\frac{\\partial}{\\partial \\boldsymbol{\\beta}}loss=0$을 풀면 아래와 같다. "
   ]
  },
  {
   "cell_type": "markdown",
   "id": "e64bafaa-a532-49b6-8612-711670e9f3ec",
   "metadata": {},
   "source": [
    "$\\boldsymbol{\\hat\\beta}= ({\\bf X}^\\top {\\bf X})^{-1}{\\bf X}^\\top {\\bf y} $"
   ]
  },
  {
   "cell_type": "markdown",
   "id": "c6b432bc-3f49-4fb3-a558-7a6fa3d5c8da",
   "metadata": {},
   "source": [
    "`-` 공식도 매트릭스로 표현하면: $\\boldsymbol{\\hat\\beta}= ({\\bf X}^\\top {\\bf X})^{-1}{\\bf X}^\\top {\\bf y} $ <-- 외우세요 "
   ]
  },
  {
   "cell_type": "markdown",
   "id": "b07c2e24-3460-4cc1-8039-11f4a7242e2c",
   "metadata": {},
   "source": [
    "`-` 적용을 해보자. "
   ]
  },
  {
   "cell_type": "markdown",
   "id": "5c7fd74b-51fd-4bd3-9016-0f487957f836",
   "metadata": {},
   "source": [
    "(X를 만드는 방법1) "
   ]
  },
  {
   "cell_type": "code",
   "execution_count": 26,
   "id": "cedbac4c-3664-4518-b809-49cfb21894b7",
   "metadata": {},
   "outputs": [
    {
     "data": {
      "text/plain": [
       "<tf.Tensor: shape=(10, 2), dtype=float32, numpy=\n",
       "array([[ 1. , 20.1],\n",
       "       [ 1. , 22.2],\n",
       "       [ 1. , 22.7],\n",
       "       [ 1. , 23.3],\n",
       "       [ 1. , 24.4],\n",
       "       [ 1. , 25.1],\n",
       "       [ 1. , 26.2],\n",
       "       [ 1. , 27.3],\n",
       "       [ 1. , 28.4],\n",
       "       [ 1. , 30.4]], dtype=float32)>"
      ]
     },
     "execution_count": 26,
     "metadata": {},
     "output_type": "execute_result"
    }
   ],
   "source": [
    "X=tf.transpose(tf.concat([[[1.0]*10],[x]],0)) # \n",
    "X "
   ]
  },
  {
   "cell_type": "markdown",
   "id": "8ce1c489-5492-4ad3-8346-9cbb72119c28",
   "metadata": {},
   "source": [
    "(X를 만드는 방법2)"
   ]
  },
  {
   "cell_type": "code",
   "execution_count": 27,
   "id": "83d3f30e-3b3e-45fd-86c6-794d798c6758",
   "metadata": {},
   "outputs": [],
   "source": [
    "from tensorflow.python.ops.numpy_ops import np_config\n",
    "np_config.enable_numpy_behavior()"
   ]
  },
  {
   "cell_type": "code",
   "execution_count": 36,
   "id": "2ec7310e-1d4d-47b5-bd0e-0691ac870ad4",
   "metadata": {},
   "outputs": [
    {
     "data": {
      "text/plain": [
       "<tf.Tensor: shape=(2, 10), dtype=float32, numpy=\n",
       "array([[ 1. ,  1. ,  1. ,  1. ,  1. ,  1. ,  1. ,  1. ,  1. ,  1. ],\n",
       "       [20.1, 22.2, 22.7, 23.3, 24.4, 25.1, 26.2, 27.3, 28.4, 30.4]],\n",
       "      dtype=float32)>"
      ]
     },
     "execution_count": 36,
     "metadata": {},
     "output_type": "execute_result"
    }
   ],
   "source": [
    "tf.concat([[[1.0]*10],[x]],0)"
   ]
  },
  {
   "cell_type": "code",
   "execution_count": 37,
   "id": "ed797600-c6dc-421d-97a4-55a4a9d6cb3c",
   "metadata": {},
   "outputs": [
    {
     "data": {
      "text/plain": [
       "<tf.Tensor: shape=(1, 20), dtype=float32, numpy=\n",
       "array([[ 1. ,  1. ,  1. ,  1. ,  1. ,  1. ,  1. ,  1. ,  1. ,  1. , 20.1,\n",
       "        22.2, 22.7, 23.3, 24.4, 25.1, 26.2, 27.3, 28.4, 30.4]],\n",
       "      dtype=float32)>"
      ]
     },
     "execution_count": 37,
     "metadata": {},
     "output_type": "execute_result"
    }
   ],
   "source": [
    "tf.concat([[[1.0]*10],[x]],1)"
   ]
  },
  {
   "cell_type": "code",
   "execution_count": 38,
   "id": "52b79c1f-5076-4e18-a0da-2e7a7dd21a47",
   "metadata": {},
   "outputs": [
    {
     "data": {
      "text/plain": [
       "<tf.Tensor: shape=(10, 2), dtype=float32, numpy=\n",
       "array([[ 1. , 20.1],\n",
       "       [ 1. , 22.2],\n",
       "       [ 1. , 22.7],\n",
       "       [ 1. , 23.3],\n",
       "       [ 1. , 24.4],\n",
       "       [ 1. , 25.1],\n",
       "       [ 1. , 26.2],\n",
       "       [ 1. , 27.3],\n",
       "       [ 1. , 28.4],\n",
       "       [ 1. , 30.4]], dtype=float32)>"
      ]
     },
     "execution_count": 38,
     "metadata": {},
     "output_type": "execute_result"
    }
   ],
   "source": [
    "X=tf.concat([[[1.0]*10],[x]],0).T\n",
    "X"
   ]
  },
  {
   "cell_type": "code",
   "execution_count": 29,
   "id": "a94a8b9b-3978-4da3-94f3-2d7f0944cf8a",
   "metadata": {},
   "outputs": [
    {
     "data": {
      "text/plain": [
       "<tf.Tensor: shape=(2,), dtype=float32, numpy=array([9.944702, 2.215706], dtype=float32)>"
      ]
     },
     "execution_count": 29,
     "metadata": {},
     "output_type": "execute_result"
    }
   ],
   "source": [
    "tf.linalg.inv(X.T @ X) @ X.T @ y"
   ]
  },
  {
   "cell_type": "markdown",
   "id": "5ce4a015-73d4-4b2e-ba85-4f7771dd3b8c",
   "metadata": {},
   "source": [
    "> @는 매트릭스 곱하기!  \n",
    "9.944702, 2.215706 이 결과가 $\\hat{\\beta}_0, \\hat{\\beta}_1$"
   ]
  },
  {
   "cell_type": "markdown",
   "id": "d1e2d8c4-d7b4-4c17-b4c9-fb3f9ee17a67",
   "metadata": {},
   "source": [
    "`-` 잘 구해진다. "
   ]
  },
  {
   "cell_type": "markdown",
   "id": "4244c0fc-fe69-477d-9b80-ee36610b242b",
   "metadata": {},
   "source": [
    "`-` 그런데.. "
   ]
  },
  {
   "cell_type": "code",
   "execution_count": 74,
   "id": "4ad0739b-6de4-429a-b023-9426c2005cef",
   "metadata": {},
   "outputs": [
    {
     "data": {
      "text/plain": [
       "(<tf.Tensor: shape=(), dtype=float32, numpy=9.94458>,\n",
       " <tf.Tensor: shape=(), dtype=float32, numpy=2.2157042>)"
      ]
     },
     "execution_count": 74,
     "metadata": {},
     "output_type": "execute_result"
    }
   ],
   "source": [
    "beta0_estimated,beta1_estimated"
   ]
  },
  {
   "cell_type": "markdown",
   "id": "1e38e888-35f0-40d1-99be-b57a1c4ebf38",
   "metadata": {},
   "source": [
    "값이 좀 다르다..?"
   ]
  },
  {
   "cell_type": "markdown",
   "id": "d051ecbe-6ab4-439b-bc58-af48b172fda6",
   "metadata": {},
   "source": [
    "`-` 같은 값입니다! 신경쓰지 마세요! 텐서플로우가 좀 대충계산합니다. "
   ]
  },
  {
   "cell_type": "markdown",
   "id": "ee0f2259-5172-41dc-895a-ed28a248f6f9",
   "metadata": {},
   "source": [
    "`-` 좀 더 정확하게 계산하려면... tensorflow 안에 있는 numpy를 사용하면 된다."
   ]
  },
  {
   "cell_type": "code",
   "execution_count": 39,
   "id": "00a97646-b2ae-4e38-bd07-125c32744fb5",
   "metadata": {},
   "outputs": [],
   "source": [
    "import tensorflow.experimental.numpy as tnp "
   ]
  },
  {
   "cell_type": "code",
   "execution_count": 41,
   "id": "28315bc4-4934-4998-b34e-3efcf7cd98b6",
   "metadata": {},
   "outputs": [
    {
     "data": {
      "text/plain": [
       "<tf.Tensor: shape=(10,), dtype=float64, numpy=array([20.1, 22.2, 22.7, 23.3, 24.4, 25.1, 26.2, 27.3, 28.4, 30.4])>"
      ]
     },
     "execution_count": 41,
     "metadata": {},
     "output_type": "execute_result"
    }
   ],
   "source": [
    "tnp.array([20.1, 22.2, 22.7, 23.3, 24.4, 25.1, 26.2, 27.3, 28.4, 30.4]) "
   ]
  },
  {
   "cell_type": "markdown",
   "id": "0fdc2384-c792-4207-8e96-2b88de2ffb11",
   "metadata": {},
   "source": [
    "> 아까와 다르게 float64 타입인 것을 확인할 수 있다. 이 형태는 좀 더 정확한 계산이 가능하다."
   ]
  },
  {
   "cell_type": "code",
   "execution_count": 40,
   "id": "40762229-2c5f-4769-9716-c3322e4b3144",
   "metadata": {},
   "outputs": [],
   "source": [
    "x=tnp.array([20.1, 22.2, 22.7, 23.3, 24.4, 25.1, 26.2, 27.3, 28.4, 30.4]) \n",
    "y=10.2 + 2.2*x + epsilon "
   ]
  },
  {
   "cell_type": "code",
   "execution_count": 42,
   "id": "ab7d73d0-18bb-4319-9864-fa10ee8b9724",
   "metadata": {},
   "outputs": [],
   "source": [
    "beta1_estimated = sum((x-sum(x)/10)*(y-sum(y)/10)) / sum((x-sum(x)/10)**2)\n",
    "beta0_estimated = sum(y)/10 - beta1_estimated * sum(x)/10 "
   ]
  },
  {
   "cell_type": "code",
   "execution_count": 43,
   "id": "382dc0b5-0c02-4334-9e2e-bf669fd4a7eb",
   "metadata": {},
   "outputs": [
    {
     "data": {
      "text/plain": [
       "(<tf.Tensor: shape=(), dtype=float64, numpy=9.944573294798559>,\n",
       " <tf.Tensor: shape=(), dtype=float64, numpy=2.2157046054834106>)"
      ]
     },
     "execution_count": 43,
     "metadata": {},
     "output_type": "execute_result"
    }
   ],
   "source": [
    "beta0_estimated, beta1_estimated"
   ]
  },
  {
   "cell_type": "code",
   "execution_count": 44,
   "id": "ead3a278-c9f8-4c57-b5a3-9d3ef6697619",
   "metadata": {},
   "outputs": [
    {
     "data": {
      "text/plain": [
       "<tf.Tensor: shape=(2,), dtype=float64, numpy=array([9.94457329, 2.21570461])>"
      ]
     },
     "execution_count": 44,
     "metadata": {},
     "output_type": "execute_result"
    }
   ],
   "source": [
    "X=tnp.concatenate([[tnp.array([1.0]*10)],[x]],0).T\n",
    "tf.linalg.inv(X.T @ X) @ X.T @ y"
   ]
  },
  {
   "cell_type": "markdown",
   "id": "1b081179-8c73-4cf5-9d4b-a3f089626654",
   "metadata": {},
   "source": [
    "### 앞으로 할것 "
   ]
  },
  {
   "cell_type": "markdown",
   "id": "5c4e377b-5882-446f-93e0-ecb032709165",
   "metadata": {},
   "source": [
    "`-` 선형대수학의 미분이론.. \n",
    "\n",
    "`-` 실습 (tensorflow에서 매트릭스를 자유롭게 다루비) "
   ]
  }
 ],
 "metadata": {
  "kernelspec": {
   "display_name": "Python 3 (ipykernel)",
   "language": "python",
   "name": "python3"
  },
  "language_info": {
   "codemirror_mode": {
    "name": "ipython",
    "version": 3
   },
   "file_extension": ".py",
   "mimetype": "text/x-python",
   "name": "python",
   "nbconvert_exporter": "python",
   "pygments_lexer": "ipython3",
   "version": "3.10.0"
  }
 },
 "nbformat": 4,
 "nbformat_minor": 5
}
