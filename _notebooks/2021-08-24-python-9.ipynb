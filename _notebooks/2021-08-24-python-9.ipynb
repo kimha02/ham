{
 "cells": [
  {
   "cell_type": "markdown",
   "id": "edf798a2-9bf8-48aa-b0dd-3992cb81e3fa",
   "metadata": {},
   "source": [
    "# (공부) 문자열\n",
    "> 작성완료\n",
    "\n",
    "- toc:true\n",
    "- branch: master\n",
    "- badges: true\n",
    "- comments: true\n",
    "- author: kimha02\n",
    "- categories: [Python]"
   ]
  },
  {
   "cell_type": "markdown",
   "id": "9553b506-82bc-4c40-81cf-c9c8dd6f952d",
   "metadata": {},
   "source": [
    "--------------"
   ]
  },
  {
   "cell_type": "markdown",
   "id": "dbd0f8dc-2915-4607-9304-2682e07a4356",
   "metadata": {
    "tags": []
   },
   "source": [
    "## 문자열 `\\`옵션 "
   ]
  },
  {
   "cell_type": "markdown",
   "id": "470ac35c-d57c-42da-8f58-8f1d69a029b7",
   "metadata": {
    "tags": []
   },
   "source": [
    "`-` 예제1: 한줄 띄우기 (**\\n)**"
   ]
  },
  {
   "cell_type": "code",
   "execution_count": 2,
   "id": "aa9b438b-2b2b-4ec4-8868-5ffcdb65345e",
   "metadata": {},
   "outputs": [
    {
     "data": {
      "text/plain": [
       "'오늘의점심\\n카레라이스'"
      ]
     },
     "execution_count": 2,
     "metadata": {},
     "output_type": "execute_result"
    }
   ],
   "source": [
    "'오늘의점심\\n카레라이스'   #\\n을 그냥 넣으면 안된다."
   ]
  },
  {
   "cell_type": "code",
   "execution_count": 3,
   "id": "a9c40ed1-f317-4e6d-9d69-024c790bf3aa",
   "metadata": {},
   "outputs": [
    {
     "name": "stdout",
     "output_type": "stream",
     "text": [
      "오늘의점심\n",
      "카레라이스\n"
     ]
    }
   ],
   "source": [
    "print('오늘의점심\\n카레라이스')  #print에 넣어주면 한 줄 넘어간다."
   ]
  },
  {
   "cell_type": "markdown",
   "id": "8d627501-9f79-457b-afb6-9395aafabc1b",
   "metadata": {},
   "source": [
    "`–` 예제2: 탭 **(\\t)**"
   ]
  },
  {
   "cell_type": "code",
   "execution_count": 5,
   "id": "2885f104-cee9-4387-9e6a-fb1c68b49dec",
   "metadata": {},
   "outputs": [
    {
     "name": "stdout",
     "output_type": "stream",
     "text": [
      "오늘의점심\t카레라이스\n"
     ]
    }
   ],
   "source": [
    "print('오늘의점심\\t카레라이스')"
   ]
  },
  {
   "cell_type": "markdown",
   "id": "26842f51-2024-494f-96ee-00047f21a663",
   "metadata": {},
   "source": [
    "`-` 예제3: 이스케이프(\\옵션을 나타내주고 싶을 때)"
   ]
  },
  {
   "cell_type": "code",
   "execution_count": 11,
   "id": "f0bdc966-3726-47f0-85c1-4a3237c33f47",
   "metadata": {},
   "outputs": [
    {
     "name": "stdout",
     "output_type": "stream",
     "text": [
      "오늘의점심\\n카레라이스\n"
     ]
    }
   ],
   "source": [
    "print('오늘의점심\\\\n카레라이스')  #역슬래쉬가 2개인데 출력은 한 개만 된다->역슬래쉬를 하나 더 넣어주면 옵션 확인 가능하다!"
   ]
  },
  {
   "cell_type": "code",
   "execution_count": 8,
   "id": "71a93b7d-6f1b-4bee-bf53-7c2ae9d2ccee",
   "metadata": {},
   "outputs": [
    {
     "name": "stdout",
     "output_type": "stream",
     "text": [
      "\\\n"
     ]
    }
   ],
   "source": [
    "print('\\\\')"
   ]
  },
  {
   "cell_type": "code",
   "execution_count": 14,
   "id": "b837e5c3-3890-4aa9-869c-814446fe0796",
   "metadata": {
    "tags": []
   },
   "outputs": [
    {
     "ename": "SyntaxError",
     "evalue": "invalid syntax (33763534.py, line 1)",
     "output_type": "error",
     "traceback": [
      "\u001b[0;36m  File \u001b[0;32m\"/tmp/ipykernel_662842/33763534.py\"\u001b[0;36m, line \u001b[0;32m1\u001b[0m\n\u001b[0;31m    print('오늘의점심'카레라이스'')  #따옴표 안에 있는 내용을 출력하고 싶은데 오류가 난다,\u001b[0m\n\u001b[0m                 ^\u001b[0m\n\u001b[0;31mSyntaxError\u001b[0m\u001b[0;31m:\u001b[0m invalid syntax\n"
     ]
    }
   ],
   "source": [
    "print('오늘의점심'카레라이스'')  #따옴표 안에 있는 내용을 출력하고 싶은데 오류가 난다,"
   ]
  },
  {
   "cell_type": "code",
   "execution_count": 18,
   "id": "3fb7c35b-7992-4859-9b6f-fd634f5a43c8",
   "metadata": {
    "tags": []
   },
   "outputs": [
    {
     "name": "stdout",
     "output_type": "stream",
     "text": [
      "오늘의점심'카레라이스'\n"
     ]
    }
   ],
   "source": [
    "print('오늘의점심\\'카레라이스\\'')  #해결1) 이스케이프 활용"
   ]
  },
  {
   "cell_type": "code",
   "execution_count": 19,
   "id": "78debf50-1cfa-4fa7-b59e-27c14de6656f",
   "metadata": {},
   "outputs": [
    {
     "name": "stdout",
     "output_type": "stream",
     "text": [
      "오늘의점심'카레라이스'\n"
     ]
    }
   ],
   "source": [
    "print(\"오늘의점심'카레라이스'\")  #해결2) 큰 따옴표 안에 작은 따옴표"
   ]
  },
  {
   "cell_type": "markdown",
   "id": "115ba1f4-93aa-4fd7-837b-5d62db21307f",
   "metadata": {},
   "source": [
    "-----------------"
   ]
  },
  {
   "cell_type": "markdown",
   "id": "24cb615d-e99c-4f31-84e5-4cccfc6f4619",
   "metadata": {
    "tags": []
   },
   "source": [
    "## 문자열 메소드 "
   ]
  },
  {
   "cell_type": "markdown",
   "id": "76e0ee15-b770-4db2-8b00-071ca3dbaf9b",
   "metadata": {},
   "source": [
    "### **1) .replace()**  \n",
    "    - 특정 문자열 대체"
   ]
  },
  {
   "cell_type": "markdown",
   "id": "cb66e3ca-e646-4949-98b0-817b1f1127f4",
   "metadata": {},
   "source": [
    "`-` 예제1"
   ]
  },
  {
   "cell_type": "code",
   "execution_count": 21,
   "id": "d5dfa40e-85fa-42c9-9a58-71fce1cbe4c0",
   "metadata": {},
   "outputs": [
    {
     "data": {
      "text/plain": [
       "'spaxxy'"
      ]
     },
     "execution_count": 21,
     "metadata": {},
     "output_type": "execute_result"
    }
   ],
   "source": [
    "S = 'spammy'\n",
    "S.replace('mm','xx') "
   ]
  },
  {
   "cell_type": "markdown",
   "id": "abcbe233-7567-45dc-984c-d72777709c83",
   "metadata": {},
   "source": [
    "`–` 예제2"
   ]
  },
  {
   "cell_type": "code",
   "execution_count": 26,
   "id": "ae326823-0803-48ff-8957-8cea6b2923c8",
   "metadata": {},
   "outputs": [],
   "source": [
    "S = 'xxxxSPAMxxxxSPAMxxxx'"
   ]
  },
  {
   "cell_type": "code",
   "execution_count": 27,
   "id": "e6927874-ce37-40ba-87d2-96717508917c",
   "metadata": {},
   "outputs": [
    {
     "data": {
      "text/plain": [
       "'xxxxEGGSxxxxEGGSxxxx'"
      ]
     },
     "execution_count": 27,
     "metadata": {},
     "output_type": "execute_result"
    }
   ],
   "source": [
    "S.replace('SPAM','EGGS')"
   ]
  },
  {
   "cell_type": "code",
   "execution_count": 28,
   "id": "fd948c9d-d9fc-4a53-a1cc-1ea0eef67c0d",
   "metadata": {},
   "outputs": [
    {
     "data": {
      "text/plain": [
       "'xxxxEGGSxxxxSPAMxxxx'"
      ]
     },
     "execution_count": 28,
     "metadata": {},
     "output_type": "execute_result"
    }
   ],
   "source": [
    "S.replace('SPAM','EGGS',1)  #1개만 바꾼다."
   ]
  },
  {
   "cell_type": "code",
   "execution_count": 24,
   "id": "acf1fcfe-11d6-4389-a8b3-33d90bdc47bc",
   "metadata": {},
   "outputs": [
    {
     "data": {
      "text/plain": [
       "\u001b[0;31mSignature:\u001b[0m \u001b[0mS\u001b[0m\u001b[0;34m.\u001b[0m\u001b[0mreplace\u001b[0m\u001b[0;34m(\u001b[0m\u001b[0mold\u001b[0m\u001b[0;34m,\u001b[0m \u001b[0mnew\u001b[0m\u001b[0;34m,\u001b[0m \u001b[0mcount\u001b[0m\u001b[0;34m=\u001b[0m\u001b[0;34m-\u001b[0m\u001b[0;36m1\u001b[0m\u001b[0;34m,\u001b[0m \u001b[0;34m/\u001b[0m\u001b[0;34m)\u001b[0m\u001b[0;34m\u001b[0m\u001b[0;34m\u001b[0m\u001b[0m\n",
       "\u001b[0;31mDocstring:\u001b[0m\n",
       "Return a copy with all occurrences of substring old replaced by new.\n",
       "\n",
       "  count\n",
       "    Maximum number of occurrences to replace.\n",
       "    -1 (the default value) means replace all occurrences.\n",
       "\n",
       "If the optional argument count is given, only the first count occurrences are\n",
       "replaced.\n",
       "\u001b[0;31mType:\u001b[0m      builtin_function_or_method\n"
      ]
     },
     "metadata": {},
     "output_type": "display_data"
    }
   ],
   "source": [
    "?S.replace"
   ]
  },
  {
   "cell_type": "markdown",
   "id": "54f4cf97-b51e-45f1-8802-1d6b8472a189",
   "metadata": {},
   "source": [
    "### **2) .find()**"
   ]
  },
  {
   "cell_type": "markdown",
   "id": "0b0431b1-04bf-482d-9563-01b9e372df7d",
   "metadata": {},
   "source": [
    "`–` 예제1"
   ]
  },
  {
   "cell_type": "code",
   "execution_count": 29,
   "id": "43344339-d173-4bf2-af35-b93f5fd9314a",
   "metadata": {},
   "outputs": [],
   "source": [
    "S = 'xxxxSPAMxxxxSPAMxxxx'"
   ]
  },
  {
   "cell_type": "code",
   "execution_count": 31,
   "id": "ed3ad438-5564-4b0e-8831-aad4ffd55909",
   "metadata": {},
   "outputs": [],
   "source": [
    "where=S.find('SPAM')  #SPAM이 어디있는지 찾아줘! -> 결과 : 4번째부터 시작되네 -> 4를 where에저장"
   ]
  },
  {
   "cell_type": "code",
   "execution_count": 33,
   "id": "a82dc45c-39b2-430d-a09d-4aa86a9a00e6",
   "metadata": {},
   "outputs": [
    {
     "data": {
      "text/plain": [
       "'S'"
      ]
     },
     "execution_count": 33,
     "metadata": {},
     "output_type": "execute_result"
    }
   ],
   "source": [
    "S[where]  #input : 4 ->  output : S(S의 4번째 문자가 'S'라서)"
   ]
  },
  {
   "cell_type": "code",
   "execution_count": 35,
   "id": "a5d883e0-10e6-4186-8c4e-216c06588982",
   "metadata": {},
   "outputs": [
    {
     "data": {
      "text/plain": [
       "'xxxxEGGSxxxxSPAMxxxx'"
      ]
     },
     "execution_count": 35,
     "metadata": {},
     "output_type": "execute_result"
    }
   ],
   "source": [
    "S[:where]+'EGGS'+S[(where+4):]  #0~4까지 문자 출력 + EGGS 삽입 + 4+4번 문자부터 마지막까지 출력 "
   ]
  },
  {
   "cell_type": "markdown",
   "id": "7174f968-c936-4e6d-8d0a-cf794792e605",
   "metadata": {},
   "source": [
    "### **3) .join()**"
   ]
  },
  {
   "cell_type": "markdown",
   "id": "0661d73d-12e3-4837-9cae-1f5a15fa0601",
   "metadata": {},
   "source": [
    "`–` 예제1"
   ]
  },
  {
   "cell_type": "code",
   "execution_count": 36,
   "id": "f8abecae-9ff8-49d2-a4d2-84b122de729a",
   "metadata": {},
   "outputs": [
    {
     "data": {
      "text/plain": [
       "'a-b-c'"
      ]
     },
     "execution_count": 36,
     "metadata": {},
     "output_type": "execute_result"
    }
   ],
   "source": [
    "'-'.join(['a','b','c'])  # - 로 언급한 문자들을 결합시킨다"
   ]
  },
  {
   "cell_type": "code",
   "execution_count": 37,
   "id": "7f8a6845-1aed-48d6-90a3-e9c8969f704d",
   "metadata": {},
   "outputs": [
    {
     "data": {
      "text/plain": [
       "'a-b-c'"
      ]
     },
     "execution_count": 37,
     "metadata": {},
     "output_type": "execute_result"
    }
   ],
   "source": [
    "s='-'\n",
    "s.join(['a','b','c'])"
   ]
  },
  {
   "cell_type": "markdown",
   "id": "a725f708-076d-47d8-81fc-bbf639103e50",
   "metadata": {},
   "source": [
    "`–` 예제2"
   ]
  },
  {
   "cell_type": "code",
   "execution_count": 31,
   "id": "81af337d-5ca7-4307-bd9c-82904dc50747",
   "metadata": {},
   "outputs": [],
   "source": [
    "S='spammy'"
   ]
  },
  {
   "cell_type": "code",
   "execution_count": 32,
   "id": "e8c195a3-876a-49ab-bd1a-2e7847c4257b",
   "metadata": {},
   "outputs": [
    {
     "data": {
      "text/plain": [
       "'spammy'"
      ]
     },
     "execution_count": 32,
     "metadata": {},
     "output_type": "execute_result"
    }
   ],
   "source": [
    "S"
   ]
  },
  {
   "cell_type": "code",
   "execution_count": 33,
   "id": "4742069e-7287-4be7-90ed-41821967d8b3",
   "metadata": {},
   "outputs": [
    {
     "data": {
      "text/plain": [
       "'mm'"
      ]
     },
     "execution_count": 33,
     "metadata": {},
     "output_type": "execute_result"
    }
   ],
   "source": [
    "S[3:5]"
   ]
  },
  {
   "cell_type": "code",
   "execution_count": 34,
   "id": "01d9f2e3-2ec9-4a22-a548-fef9289c4414",
   "metadata": {},
   "outputs": [
    {
     "ename": "TypeError",
     "evalue": "'str' object does not support item assignment",
     "output_type": "error",
     "traceback": [
      "\u001b[0;31m---------------------------------------------------------------------------\u001b[0m",
      "\u001b[0;31mTypeError\u001b[0m                                 Traceback (most recent call last)",
      "\u001b[0;32m<ipython-input-34-84bfa6854842>\u001b[0m in \u001b[0;36m<module>\u001b[0;34m\u001b[0m\n\u001b[0;32m----> 1\u001b[0;31m \u001b[0mS\u001b[0m\u001b[0;34m[\u001b[0m\u001b[0;36m3\u001b[0m\u001b[0;34m:\u001b[0m\u001b[0;36m5\u001b[0m\u001b[0;34m]\u001b[0m\u001b[0;34m=\u001b[0m\u001b[0;34m'xx'\u001b[0m\u001b[0;34m\u001b[0m\u001b[0;34m\u001b[0m\u001b[0m\n\u001b[0m",
      "\u001b[0;31mTypeError\u001b[0m: 'str' object does not support item assignment"
     ]
    }
   ],
   "source": [
    "S[3:5]='xx'"
   ]
  },
  {
   "cell_type": "markdown",
   "id": "32ab7cff-2c26-49e0-9ad4-719eaeb6a50c",
   "metadata": {},
   "source": [
    "- mm을 xx로 바꾸고 싶은데 문자열은 불변리스트라서 바꿀 수 없다. "
   ]
  },
  {
   "cell_type": "markdown",
   "id": "fc393f3c-fd21-402c-829b-80d77ec6940f",
   "metadata": {},
   "source": [
    "- ★ 전략: 문자열을 잠시 가변객체인 리스트로 바꾼 뒤 리스트에서 자유롭게 편집하고 그 다음에 다시 문자열로 만들자. "
   ]
  },
  {
   "cell_type": "code",
   "execution_count": 35,
   "id": "fd093e96-7d6f-445e-86cb-e1c4c6c08057",
   "metadata": {},
   "outputs": [],
   "source": [
    "L=list(S)"
   ]
  },
  {
   "cell_type": "code",
   "execution_count": 36,
   "id": "d34bf1bb-7995-4e7a-93f8-30f9d2216c5d",
   "metadata": {},
   "outputs": [
    {
     "data": {
      "text/plain": [
       "['s', 'p', 'a', 'm', 'm', 'y']"
      ]
     },
     "execution_count": 36,
     "metadata": {},
     "output_type": "execute_result"
    }
   ],
   "source": [
    "L"
   ]
  },
  {
   "cell_type": "code",
   "execution_count": 37,
   "id": "817502f1-ee5f-49f3-8526-d41639a45405",
   "metadata": {},
   "outputs": [
    {
     "data": {
      "text/plain": [
       "['m', 'm']"
      ]
     },
     "execution_count": 37,
     "metadata": {},
     "output_type": "execute_result"
    }
   ],
   "source": [
    "L[3:5]"
   ]
  },
  {
   "cell_type": "code",
   "execution_count": 38,
   "id": "c86bc2bf-f20f-494b-aa14-3f8a152d3291",
   "metadata": {},
   "outputs": [],
   "source": [
    "L[3:5]=['x','x']"
   ]
  },
  {
   "cell_type": "code",
   "execution_count": 39,
   "id": "c79b886d-6654-4e6d-9ce1-cb6a72518a8c",
   "metadata": {},
   "outputs": [
    {
     "data": {
      "text/plain": [
       "['s', 'p', 'a', 'x', 'x', 'y']"
      ]
     },
     "execution_count": 39,
     "metadata": {},
     "output_type": "execute_result"
    }
   ],
   "source": [
    "L"
   ]
  },
  {
   "cell_type": "code",
   "execution_count": 40,
   "id": "af1658d0-2057-469e-9fb5-481e1479f23e",
   "metadata": {},
   "outputs": [],
   "source": [
    "S=''.join(L)"
   ]
  },
  {
   "cell_type": "code",
   "execution_count": 41,
   "id": "66de97c1-d41f-46ef-89f8-70ea1b1c0dac",
   "metadata": {},
   "outputs": [
    {
     "data": {
      "text/plain": [
       "'spaxxy'"
      ]
     },
     "execution_count": 41,
     "metadata": {},
     "output_type": "execute_result"
    }
   ],
   "source": [
    "S"
   ]
  },
  {
   "cell_type": "markdown",
   "id": "41fcfc12-8772-452f-b275-5a46374d63de",
   "metadata": {},
   "source": [
    "### **4) .split(',')**"
   ]
  },
  {
   "cell_type": "markdown",
   "id": "d0b3503e-f349-45ad-ac5a-e2ed8630700c",
   "metadata": {},
   "source": [
    "`–` 예제1"
   ]
  },
  {
   "cell_type": "code",
   "execution_count": 39,
   "id": "c3df290e-6d37-4682-8be6-bdefc591fc14",
   "metadata": {},
   "outputs": [],
   "source": [
    "s='bob,hacker,40'"
   ]
  },
  {
   "cell_type": "code",
   "execution_count": 40,
   "id": "14e50313-662c-44d4-833b-9544a7ed86bd",
   "metadata": {},
   "outputs": [
    {
     "data": {
      "text/plain": [
       "['bob', 'hacker', '40']"
      ]
     },
     "execution_count": 40,
     "metadata": {},
     "output_type": "execute_result"
    }
   ],
   "source": [
    "s.split(',')  # , 로 분리된 s 텍스트 나누기"
   ]
  },
  {
   "cell_type": "markdown",
   "id": "cd314a1f-7769-42b0-8724-8a2260b1d731",
   "metadata": {},
   "source": [
    "`–` 예제2"
   ]
  },
  {
   "cell_type": "code",
   "execution_count": 41,
   "id": "40d05cc9-cc6e-42a6-8bf9-f0b1a4d666c3",
   "metadata": {},
   "outputs": [],
   "source": [
    "s= 'aaa bbb ccc'"
   ]
  },
  {
   "cell_type": "code",
   "execution_count": 43,
   "id": "cfef6d59-5aaa-46ba-9647-c8756dff1d89",
   "metadata": {},
   "outputs": [
    {
     "data": {
      "text/plain": [
       "['aaa', 'bbb', 'ccc']"
      ]
     },
     "execution_count": 43,
     "metadata": {},
     "output_type": "execute_result"
    }
   ],
   "source": [
    "s.split(' ')  # '공백' 으로 분리된 s 텍스트 나누기 "
   ]
  },
  {
   "cell_type": "code",
   "execution_count": 46,
   "id": "e509e843-45eb-4316-a4cb-765169d2c57f",
   "metadata": {},
   "outputs": [
    {
     "data": {
      "text/plain": [
       "['aaa', 'bbb', 'ccc']"
      ]
     },
     "execution_count": 46,
     "metadata": {},
     "output_type": "execute_result"
    }
   ],
   "source": [
    "s.split()  # '공백' 으로 분리된 s 텍스트 나누기 "
   ]
  },
  {
   "cell_type": "code",
   "execution_count": 45,
   "id": "909eb1a0-9614-4a92-96bf-b4f36efc5c63",
   "metadata": {},
   "outputs": [
    {
     "data": {
      "text/plain": [
       "\u001b[0;31mSignature:\u001b[0m \u001b[0ms\u001b[0m\u001b[0;34m.\u001b[0m\u001b[0msplit\u001b[0m\u001b[0;34m(\u001b[0m\u001b[0msep\u001b[0m\u001b[0;34m=\u001b[0m\u001b[0;32mNone\u001b[0m\u001b[0;34m,\u001b[0m \u001b[0mmaxsplit\u001b[0m\u001b[0;34m=\u001b[0m\u001b[0;34m-\u001b[0m\u001b[0;36m1\u001b[0m\u001b[0;34m)\u001b[0m\u001b[0;34m\u001b[0m\u001b[0;34m\u001b[0m\u001b[0m\n",
       "\u001b[0;31mDocstring:\u001b[0m\n",
       "Return a list of the words in the string, using sep as the delimiter string.\n",
       "\n",
       "sep\n",
       "  The delimiter according which to split the string.\n",
       "  None (the default value) means split according to any whitespace,\n",
       "  and discard empty strings from the result.\n",
       "maxsplit\n",
       "  Maximum number of splits to do.\n",
       "  -1 (the default value) means no limit.\n",
       "\u001b[0;31mType:\u001b[0m      builtin_function_or_method\n"
      ]
     },
     "metadata": {},
     "output_type": "display_data"
    }
   ],
   "source": [
    "s.split?"
   ]
  },
  {
   "cell_type": "markdown",
   "id": "e2908216-b259-4ad6-bcb3-dfee2894d1bd",
   "metadata": {},
   "source": [
    "-------------------------"
   ]
  },
  {
   "cell_type": "markdown",
   "id": "0d64adfd-40bc-4cf1-acfb-1a2d3d649da3",
   "metadata": {},
   "source": [
    "## 문자열 포매팅"
   ]
  },
  {
   "cell_type": "markdown",
   "id": "baee8142-2fe2-4f4c-84ba-f1ce8a341cce",
   "metadata": {},
   "source": [
    "### 1) 표현식 (문자열에서 `%`연산자 사용)"
   ]
  },
  {
   "cell_type": "markdown",
   "id": "f1673320-6927-4b16-a8e8-da6bfc316429",
   "metadata": {},
   "source": [
    "`-` 예제1"
   ]
  },
  {
   "cell_type": "code",
   "execution_count": 58,
   "id": "5fd2216f-8a7a-4f89-b70b-be63f0b59aa3",
   "metadata": {},
   "outputs": [
    {
     "data": {
      "text/plain": [
       "'age: 39'"
      ]
     },
     "execution_count": 58,
     "metadata": {},
     "output_type": "execute_result"
    }
   ],
   "source": [
    "'age: %s' % 39  # s : string의 약자로 문자열도 가능함, (굉장히 특별한 경우가 아니면) 얘만 알아도 된다!"
   ]
  },
  {
   "cell_type": "code",
   "execution_count": 55,
   "id": "70a5b322-8485-4670-b9a2-9c8ea82977bf",
   "metadata": {},
   "outputs": [
    {
     "data": {
      "text/plain": [
       "'age: 39'"
      ]
     },
     "execution_count": 55,
     "metadata": {},
     "output_type": "execute_result"
    }
   ],
   "source": [
    "'age: %d' % 39.1359  #정수형"
   ]
  },
  {
   "cell_type": "code",
   "execution_count": 56,
   "id": "67b934e2-61df-4023-8a41-c535cc9b02a4",
   "metadata": {},
   "outputs": [
    {
     "data": {
      "text/plain": [
       "'age: 39.135900'"
      ]
     },
     "execution_count": 56,
     "metadata": {},
     "output_type": "execute_result"
    }
   ],
   "source": [
    "'age: %f' % 39.1359  #float형"
   ]
  },
  {
   "cell_type": "markdown",
   "id": "4e3f0fce-13ed-44a6-83a2-3628134a5ef1",
   "metadata": {},
   "source": [
    "`-` 예제2"
   ]
  },
  {
   "cell_type": "code",
   "execution_count": 60,
   "id": "43823a41-e994-4c72-83ea-3f5996d76072",
   "metadata": {},
   "outputs": [
    {
     "data": {
      "text/plain": [
       "'addr: seoul to jeonju'"
      ]
     },
     "execution_count": 60,
     "metadata": {},
     "output_type": "execute_result"
    }
   ],
   "source": [
    "'addr: %s to %s' % ('seoul','jeonju')"
   ]
  },
  {
   "cell_type": "markdown",
   "id": "c37dde4b-c092-43bc-a50a-854b60c7b95c",
   "metadata": {},
   "source": [
    "<u>잘못된 사용예시1</u>"
   ]
  },
  {
   "cell_type": "code",
   "execution_count": 61,
   "id": "6f2dbe5a-d280-41a8-943f-221df116505b",
   "metadata": {},
   "outputs": [
    {
     "ename": "TypeError",
     "evalue": "not enough arguments for format string",
     "output_type": "error",
     "traceback": [
      "\u001b[0;31m---------------------------------------------------------------------------\u001b[0m",
      "\u001b[0;31mTypeError\u001b[0m                                 Traceback (most recent call last)",
      "\u001b[0;32m/tmp/ipykernel_662842/655998447.py\u001b[0m in \u001b[0;36m<module>\u001b[0;34m\u001b[0m\n\u001b[0;32m----> 1\u001b[0;31m \u001b[0;34m'addr: %s to %s'\u001b[0m \u001b[0;34m%\u001b[0m \u001b[0;34m[\u001b[0m\u001b[0;34m'seoul'\u001b[0m\u001b[0;34m,\u001b[0m\u001b[0;34m'jeonju'\u001b[0m\u001b[0;34m]\u001b[0m\u001b[0;34m\u001b[0m\u001b[0;34m\u001b[0m\u001b[0m\n\u001b[0m",
      "\u001b[0;31mTypeError\u001b[0m: not enough arguments for format string"
     ]
    }
   ],
   "source": [
    "'addr: %s to %s' % ['seoul','jeonju'] "
   ]
  },
  {
   "cell_type": "markdown",
   "id": "bc5d1ac8-94cd-4d8f-a9cb-6d6121717dce",
   "metadata": {},
   "source": [
    "<u>잘못된 사용예시2</u>"
   ]
  },
  {
   "cell_type": "code",
   "execution_count": 60,
   "id": "b8f27f40-8317-41d7-aaaf-c6deb5d6787d",
   "metadata": {},
   "outputs": [
    {
     "ename": "TypeError",
     "evalue": "not enough arguments for format string",
     "output_type": "error",
     "traceback": [
      "\u001b[0;31m---------------------------------------------------------------------------\u001b[0m",
      "\u001b[0;31mTypeError\u001b[0m                                 Traceback (most recent call last)",
      "\u001b[0;32m<ipython-input-60-0c8ecede52e2>\u001b[0m in \u001b[0;36m<module>\u001b[0;34m\u001b[0m\n\u001b[0;32m----> 1\u001b[0;31m \u001b[0;34m'addr: %s to %s'\u001b[0m \u001b[0;34m%\u001b[0m \u001b[0;34m'seoul'\u001b[0m\u001b[0;34m,\u001b[0m\u001b[0;34m'jeonju'\u001b[0m\u001b[0;34m\u001b[0m\u001b[0;34m\u001b[0m\u001b[0m\n\u001b[0m",
      "\u001b[0;31mTypeError\u001b[0m: not enough arguments for format string"
     ]
    }
   ],
   "source": [
    "'addr: %s to %s' % 'seoul','jeonju'"
   ]
  },
  {
   "cell_type": "code",
   "execution_count": 63,
   "id": "d0c94ade-5ea0-4abf-a8db-fa4988362c85",
   "metadata": {},
   "outputs": [
    {
     "data": {
      "text/plain": [
       "str"
      ]
     },
     "execution_count": 63,
     "metadata": {},
     "output_type": "execute_result"
    }
   ],
   "source": [
    "'addr: %s to %s'"
   ]
  },
  {
   "cell_type": "markdown",
   "id": "0a55ede0-3774-48ab-9db2-9d5747c7b326",
   "metadata": {},
   "source": [
    "- % `연산자`는 왼쪽에 문자열 오브젝트, 그리고 오른쪽에는 명시적인 튜플이 있어야 연산이 진행된다. "
   ]
  },
  {
   "cell_type": "markdown",
   "id": "64318430-1219-4750-b10b-4132e8cf0344",
   "metadata": {},
   "source": [
    " - 연산자라는 포인트를 이해하면 아래와 같은 문법도 가능함을 알 수 있다. "
   ]
  },
  {
   "cell_type": "code",
   "execution_count": 64,
   "id": "a632689b-cac6-4673-9d40-3d045232df0c",
   "metadata": {},
   "outputs": [
    {
     "data": {
      "text/plain": [
       "'addr: seoul to jeonju'"
      ]
     },
     "execution_count": 64,
     "metadata": {},
     "output_type": "execute_result"
    }
   ],
   "source": [
    "s = 'addr: %s to %s' \n",
    "s % ('seoul','jeonju')"
   ]
  },
  {
   "cell_type": "markdown",
   "id": "4284e2f0-37ea-4ed7-865c-89a15ee97773",
   "metadata": {},
   "source": [
    "### 2) 딕셔너리 기반 포매팅 \n",
    "    - 사실 명시적인 튜플이 오른쪽에 오지 않아도 연산이 가능하다..!  \n",
    "    - 반복작업에 적합"
   ]
  },
  {
   "cell_type": "markdown",
   "id": "ceb082d4-269c-4ab3-8cc6-e94ae8e85daf",
   "metadata": {},
   "source": [
    "`-` 예제1 "
   ]
  },
  {
   "cell_type": "code",
   "execution_count": 66,
   "id": "d2b49bb2-82d0-43a4-af48-065553d4aa61",
   "metadata": {},
   "outputs": [
    {
     "data": {
      "text/plain": [
       "'여기 짜장면 1개, 짬뽕 1개 주문이요'"
      ]
     },
     "execution_count": 66,
     "metadata": {},
     "output_type": "execute_result"
    }
   ],
   "source": [
    "'여기 %(food1)s 1개, %(food2)s 1개 주문이요' % {'food1':'짜장면','food2':'짬뽕'}"
   ]
  },
  {
   "cell_type": "code",
   "execution_count": 70,
   "id": "616779f8-c5bc-499b-99a2-8e527a81325e",
   "metadata": {},
   "outputs": [
    {
     "data": {
      "text/plain": [
       "'여기 짜장면 1개, 짬뽕 1개 주문이요, 아.. 아니다. 짜장면은 취소하고 그냥 짬뽕 두개 주세요'"
      ]
     },
     "execution_count": 70,
     "metadata": {},
     "output_type": "execute_result"
    }
   ],
   "source": [
    "'여기 %(food1)s 1개, %(food2)s 1개 주문이요, 아.. 아니다. %(food1)s은 취소하고 그냥 %(food2)s 두개 주세요' % {'food1':'짜장면','food2':'짬뽕'}"
   ]
  },
  {
   "cell_type": "markdown",
   "id": "dd273bb2-7968-4ce8-89ef-50d9c94cc2a9",
   "metadata": {},
   "source": [
    "`-` 예제2"
   ]
  },
  {
   "cell_type": "code",
   "execution_count": 83,
   "id": "f3e53a0f-34fd-4776-a750-00f55559fb5e",
   "metadata": {},
   "outputs": [],
   "source": [
    "mail='%(studentname)s 학생 안녕하세요\\n저는 통계학과 최규빈 교수 입니다.\\n전공설계과목 지침에 따라 %(studentname)s학생과 2회 상담을 실시해야 합니다.\\n저는 %(day)s에 시간이 괜찮은데 %(studentname)s 학생도 그날 시간이 괜찮을까요?\\n' "
   ]
  },
  {
   "cell_type": "code",
   "execution_count": 84,
   "id": "b00e9d45-1f0e-427b-bb30-06b197f61969",
   "metadata": {},
   "outputs": [
    {
     "name": "stdout",
     "output_type": "stream",
     "text": [
      "박혜원 학생 안녕하세요\n",
      "저는 통계학과 최규빈 교수 입니다.\n",
      "전공설계과목 지침에 따라 박혜원학생과 2회 상담을 실시해야 합니다.\n",
      "저는 5월31일에 시간이 괜찮은데 박혜원 학생도 그날 시간이 괜찮을까요?\n",
      "\n"
     ]
    }
   ],
   "source": [
    "print(mail % {'studentname':'박혜원', 'day':'5월31일'})"
   ]
  },
  {
   "cell_type": "code",
   "execution_count": 85,
   "id": "3ed7ebdd-46c7-41c4-b51f-26c540835b28",
   "metadata": {},
   "outputs": [
    {
     "name": "stdout",
     "output_type": "stream",
     "text": [
      "강호동 학생 안녕하세요\n",
      "저는 통계학과 최규빈 교수 입니다.\n",
      "전공설계과목 지침에 따라 강호동학생과 2회 상담을 실시해야 합니다.\n",
      "저는 6월3일에 시간이 괜찮은데 강호동 학생도 그날 시간이 괜찮을까요?\n",
      "\n"
     ]
    }
   ],
   "source": [
    "print(mail % {'studentname':'강호동', 'day':'6월3일'})"
   ]
  },
  {
   "cell_type": "markdown",
   "id": "12ef79bd-0e99-4aa2-a694-9470f7ec059b",
   "metadata": {},
   "source": [
    "`-` 예제3"
   ]
  },
  {
   "cell_type": "code",
   "execution_count": 86,
   "id": "7f700802-ac19-4cb0-9be2-8a31d957b46f",
   "metadata": {},
   "outputs": [
    {
     "data": {
      "text/html": [
       "<div>\n",
       "<style scoped>\n",
       "    .dataframe tbody tr th:only-of-type {\n",
       "        vertical-align: middle;\n",
       "    }\n",
       "\n",
       "    .dataframe tbody tr th {\n",
       "        vertical-align: top;\n",
       "    }\n",
       "\n",
       "    .dataframe thead th {\n",
       "        text-align: right;\n",
       "    }\n",
       "</style>\n",
       "<table border=\"1\" class=\"dataframe\">\n",
       "  <thead>\n",
       "    <tr style=\"text-align: right;\">\n",
       "      <th></th>\n",
       "      <th>studentname</th>\n",
       "      <th>day</th>\n",
       "    </tr>\n",
       "  </thead>\n",
       "  <tbody>\n",
       "    <tr>\n",
       "      <th>0</th>\n",
       "      <td>박혜원</td>\n",
       "      <td>5월31일</td>\n",
       "    </tr>\n",
       "    <tr>\n",
       "      <th>1</th>\n",
       "      <td>강호동</td>\n",
       "      <td>6월3일</td>\n",
       "    </tr>\n",
       "  </tbody>\n",
       "</table>\n",
       "</div>"
      ],
      "text/plain": [
       "  studentname    day\n",
       "0         박혜원  5월31일\n",
       "1         강호동   6월3일"
      ]
     },
     "execution_count": 86,
     "metadata": {},
     "output_type": "execute_result"
    }
   ],
   "source": [
    "import pandas as pd\n",
    "df=pd.DataFrame({'studentname':['박혜원','강호동'],'day':['5월31일','6월3일']})\n",
    "df"
   ]
  },
  {
   "cell_type": "code",
   "execution_count": 87,
   "id": "af2a41be-472f-4dec-b908-4ace85e1391c",
   "metadata": {},
   "outputs": [
    {
     "name": "stdout",
     "output_type": "stream",
     "text": [
      "박혜원 학생 안녕하세요\n",
      "저는 통계학과 최규빈 교수 입니다.\n",
      "전공설계과목 지침에 따라 박혜원학생과 2회 상담을 실시해야 합니다.\n",
      "저는 5월31일에 시간이 괜찮은데 박혜원 학생도 그날 시간이 괜찮을까요?\n",
      "\n",
      "강호동 학생 안녕하세요\n",
      "저는 통계학과 최규빈 교수 입니다.\n",
      "전공설계과목 지침에 따라 강호동학생과 2회 상담을 실시해야 합니다.\n",
      "저는 6월3일에 시간이 괜찮은데 강호동 학생도 그날 시간이 괜찮을까요?\n",
      "\n"
     ]
    }
   ],
   "source": [
    "for i in [0,1]:\n",
    "    print(mail % dict(df.iloc[i]))"
   ]
  },
  {
   "cell_type": "markdown",
   "id": "414330f8-9bfc-4540-9b2a-d699f1ce8e8a",
   "metadata": {},
   "source": [
    "### 3) 메서드"
   ]
  },
  {
   "cell_type": "markdown",
   "id": "76d83e7b-85fa-4042-9df7-249918d9c904",
   "metadata": {},
   "source": [
    "`-` 예제1"
   ]
  },
  {
   "cell_type": "code",
   "execution_count": 64,
   "id": "6d24d8b9-1d38-4d06-9548-1e0f04b48ccc",
   "metadata": {},
   "outputs": [],
   "source": [
    "mail='{studentname} 학생 안녕하세요\\n저는 통계학과 최규빈 교수 입니다.\\n전공설계과목 지침에 따라 {studentname}학생과 2회 상담을 실시해야 합니다.\\n저는 {day}에 시간이 괜찮은데 {studentname} 학생도 그날 시간이 괜찮을까요?\\n'"
   ]
  },
  {
   "cell_type": "code",
   "execution_count": 68,
   "id": "7c1d33eb-26d7-4fe3-99ab-55cd7f3c8f9e",
   "metadata": {},
   "outputs": [
    {
     "data": {
      "text/plain": [
       "'박혜원 학생 안녕하세요\\n저는 통계학과 최규빈 교수 입니다.\\n전공설계과목 지침에 따라 박혜원학생과 2회 상담을 실시해야 합니다.\\n저는 6월2일에 시간이 괜찮은데 박혜원 학생도 그날 시간이 괜찮을까요?\\n'"
      ]
     },
     "execution_count": 68,
     "metadata": {},
     "output_type": "execute_result"
    }
   ],
   "source": [
    "mail.format(studentname='박혜원',day='6월2일')  #.format으로 정의 (% 연산자 사용안함)"
   ]
  },
  {
   "cell_type": "code",
   "execution_count": 72,
   "id": "255886dd-edc0-4283-ac18-a72e14fc3f34",
   "metadata": {},
   "outputs": [],
   "source": [
    "mm=mail.format(studentname='박혜원',day='6월2일')  "
   ]
  },
  {
   "cell_type": "code",
   "execution_count": 70,
   "id": "91ac4e0d-8931-42e5-8a4c-c779b266fe94",
   "metadata": {},
   "outputs": [
    {
     "name": "stdout",
     "output_type": "stream",
     "text": [
      "박혜원 학생 안녕하세요\n",
      "저는 통계학과 최규빈 교수 입니다.\n",
      "전공설계과목 지침에 따라 박혜원학생과 2회 상담을 실시해야 합니다.\n",
      "저는 6월2일에 시간이 괜찮은데 박혜원 학생도 그날 시간이 괜찮을까요?\n",
      "\n"
     ]
    }
   ],
   "source": [
    "print(mm)"
   ]
  },
  {
   "cell_type": "markdown",
   "id": "384b8a25-d446-4893-8339-2f56aae77860",
   "metadata": {},
   "source": [
    "`–` 예제2"
   ]
  },
  {
   "cell_type": "code",
   "execution_count": 1,
   "id": "7bceba54-ed6d-46fd-897e-a87167f49357",
   "metadata": {},
   "outputs": [
    {
     "data": {
      "text/plain": [
       "'name:Sponge bob,age:2,city:male'"
      ]
     },
     "execution_count": 1,
     "metadata": {},
     "output_type": "execute_result"
    }
   ],
   "source": [
    "'name:{},age:{},city:{}'.format('Sponge bob','2','male')"
   ]
  }
 ],
 "metadata": {
  "kernelspec": {
   "display_name": "Python 3 (ipykernel)",
   "language": "python",
   "name": "python3"
  },
  "language_info": {
   "codemirror_mode": {
    "name": "ipython",
    "version": 3
   },
   "file_extension": ".py",
   "mimetype": "text/x-python",
   "name": "python",
   "nbconvert_exporter": "python",
   "pygments_lexer": "ipython3",
   "version": "3.8.11"
  }
 },
 "nbformat": 4,
 "nbformat_minor": 5
}
