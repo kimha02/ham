{
 "cells": [
  {
   "cell_type": "markdown",
   "id": "d79edc9d-6680-415d-a6bd-6fdb6e9fd74f",
   "metadata": {
    "tags": []
   },
   "source": [
    "# (공부) Datamining HW\n",
    "> 세번째 과제, Tree\n",
    "- toc:true\n",
    "- branch: master\n",
    "- badges: true\n",
    "- comments: true\n",
    "- author: 김하영\n",
    "- categories: [Study]"
   ]
  },
  {
   "cell_type": "code",
   "execution_count": 69,
   "id": "3f8629b8-3bc1-41cd-89f1-bfa211490d5d",
   "metadata": {},
   "outputs": [],
   "source": [
    "setwd(\"/home/khy/Desktop/2022STAT/datamining\")\n",
    "\n",
    "library(randomForest) ##random Forest\n",
    "library(ipred) ##bagging\n",
    "library(gbm) ## Boosting\n",
    "library(xgboost)  ## xgboost  \n",
    "library(adabag)  ##Adaboosting : boosting\n",
    "library(rpart)\n",
    "library(rpart.plot)\n",
    "library(ggplot2)\n",
    "library(data.table)\n",
    "library(rpart)  ##Recursive Partitioning and Regression Trees\n",
    "library(rpart.plot)\n",
    "library(tree)\n",
    "library(ISLR2)"
   ]
  },
  {
   "cell_type": "code",
   "execution_count": 301,
   "id": "2f560fa5-2634-4a3f-9109-a99d52af2a6f",
   "metadata": {},
   "outputs": [],
   "source": [
    "library(tidyverse)"
   ]
  },
  {
   "cell_type": "markdown",
   "id": "1f56ca3b-4904-45da-bec7-6f38277c3011",
   "metadata": {
    "tags": []
   },
   "source": [
    "#### 1. \n",
    "**다이어그램은 트리로, 트리는 다이어그램으로 그리기**"
   ]
  },
  {
   "cell_type": "markdown",
   "id": "45d28e5e-998d-4a6a-9058-62de2f56a271",
   "metadata": {},
   "source": [
    "##### (a) "
   ]
  },
  {
   "cell_type": "code",
   "execution_count": 690,
   "id": "f2f393da-9218-4339-8c93-6f3522ac4e7c",
   "metadata": {},
   "outputs": [],
   "source": [
    "X1<-c(1.5,1.5,1.5,1.5,1.5,1.5,1.5,1.5,1.5,1.5,1.5,0.5,0.5,0.5,-0.5,-0.5,-0.5,0.5,0.5)\n",
    "X2<-c(2,2,2,2,2,2,2,2,2,2,2,1.5,1.5,1.5,0.5,0.5,0.5,-0.5,0.5)\n",
    "Y<-c(5,5,5,5,5,5,5,5,5,5,5,15,15,15,3,3,3,10,0)"
   ]
  },
  {
   "cell_type": "code",
   "execution_count": 691,
   "id": "58f59304-4a02-4870-9d8c-75f599c8dda9",
   "metadata": {},
   "outputs": [],
   "source": [
    "a<-cbind(X1,X2,Y)\n",
    "a<-rbind(a,a,a,a,a)\n",
    "a<-as.data.frame(a)"
   ]
  },
  {
   "cell_type": "code",
   "execution_count": 692,
   "id": "724deeac-c695-463d-a082-a3a770401602",
   "metadata": {},
   "outputs": [
    {
     "data": {
      "text/plain": [
       "node), split, n, deviance, yval\n",
       "      * denotes terminal node\n",
       "\n",
       " 1) root 95 1658.00  6.263  \n",
       "   2) X1 < 1 40 1450.00  8.000  \n",
       "     4) X2 < 1 25  274.00  3.800  \n",
       "       8) X2 < 0 5    0.00 10.000 *\n",
       "       9) X2 > 0 20   33.75  2.250  \n",
       "        18) X1 < 0 15    0.00  3.000 *\n",
       "        19) X1 > 0 5    0.00  0.000 *\n",
       "     5) X2 > 1 15    0.00 15.000 *\n",
       "   3) X1 > 1 55    0.00  5.000 *"
      ]
     },
     "metadata": {},
     "output_type": "display_data"
    }
   ],
   "source": [
    "tree_a<- tree(Y ~ ., data=a);tree_a"
   ]
  },
  {
   "cell_type": "code",
   "execution_count": 693,
   "id": "61c1c5e5-f913-45d7-bf3d-6e3e532d5c11",
   "metadata": {},
   "outputs": [
    {
     "data": {
      "text/plain": [
       "\n",
       "Regression tree:\n",
       "tree(formula = Y ~ ., data = a)\n",
       "Number of terminal nodes:  5 \n",
       "Residual mean deviance:  0 = 0 / 90 \n",
       "Distribution of residuals:\n",
       "   Min. 1st Qu.  Median    Mean 3rd Qu.    Max. \n",
       "      0       0       0       0       0       0 "
      ]
     },
     "metadata": {},
     "output_type": "display_data"
    }
   ],
   "source": [
    "summary(tree_a)"
   ]
  },
  {
   "cell_type": "code",
   "execution_count": 694,
   "id": "fe98d90f-b97f-449c-ac07-3317200fcf19",
   "metadata": {},
   "outputs": [
    {
     "data": {
      "image/png": "[encoded data removed]",
      "text/plain": [
       "plot without title"
      ]
     },
     "metadata": {
      "image/png": {
       "height": 420,
       "width": 420
      }
     },
     "output_type": "display_data"
    }
   ],
   "source": [
    "plot(tree_a)\n",
    "text(tree_a)"
   ]
  },
  {
   "cell_type": "markdown",
   "id": "cd1fba99-9077-40cb-9da2-7f7f4f0f7248",
   "metadata": {},
   "source": [
    "##### (b) "
   ]
  },
  {
   "cell_type": "code",
   "execution_count": null,
   "id": "a94f86c6-a40a-4438-8d23-661518373cfe",
   "metadata": {},
   "outputs": [],
   "source": []
  },
  {
   "cell_type": "markdown",
   "id": "3fe6f5da-daf1-4457-b1d4-724cf6a6c1a6",
   "metadata": {
    "tags": []
   },
   "source": [
    "#### 2. \n",
    "**불순도 측도로 Gini 지수를 사용했을 때, 첫번째 분리규칙을 찾아라**"
   ]
  },
  {
   "cell_type": "markdown",
   "id": "67f0ae77-89ec-4a85-b1a4-fd9b5a768687",
   "metadata": {},
   "source": [
    "- 데이터는 Tree 강의노트 22페이지"
   ]
  },
  {
   "cell_type": "code",
   "execution_count": 295,
   "id": "4cac48e4-f828-4706-87fe-79bd635e6cc7",
   "metadata": {},
   "outputs": [],
   "source": [
    "dt2<-read.csv('p22.csv')"
   ]
  },
  {
   "cell_type": "code",
   "execution_count": 308,
   "id": "68c50b81-94a1-456d-aacb-a62b5f1cb8bc",
   "metadata": {
    "tags": []
   },
   "outputs": [
    {
     "data": {
      "text/html": [
       "<table class=\"dataframe\">\n",
       "<caption>A data.frame: 14 × 5</caption>\n",
       "<thead>\n",
       "\t<tr><th scope=col>age</th><th scope=col>income</th><th scope=col>student</th><th scope=col>credit_rating</th><th scope=col>buys_computer</th></tr>\n",
       "\t<tr><th scope=col>&lt;chr&gt;</th><th scope=col>&lt;chr&gt;</th><th scope=col>&lt;chr&gt;</th><th scope=col>&lt;chr&gt;</th><th scope=col>&lt;chr&gt;</th></tr>\n",
       "</thead>\n",
       "<tbody>\n",
       "\t<tr><td>&lt;=30 </td><td><span style=white-space:pre-wrap>high  </span></td><td>no </td><td><span style=white-space:pre-wrap>fair    </span></td><td>no </td></tr>\n",
       "\t<tr><td>&lt;=30 </td><td><span style=white-space:pre-wrap>high  </span></td><td>no </td><td>exellent</td><td>no </td></tr>\n",
       "\t<tr><td>31…40</td><td>high  </td><td>no </td><td>fair    </td><td>yes</td></tr>\n",
       "\t<tr><td><span style=white-space:pre-wrap>&gt;40  </span></td><td>medium</td><td>no </td><td><span style=white-space:pre-wrap>fair    </span></td><td>yes</td></tr>\n",
       "\t<tr><td><span style=white-space:pre-wrap>&gt;40  </span></td><td><span style=white-space:pre-wrap>low   </span></td><td>yes</td><td><span style=white-space:pre-wrap>fair    </span></td><td>yes</td></tr>\n",
       "\t<tr><td><span style=white-space:pre-wrap>&gt;40  </span></td><td><span style=white-space:pre-wrap>low   </span></td><td>yes</td><td>exellent</td><td>no </td></tr>\n",
       "\t<tr><td>31…40</td><td>low   </td><td>yes</td><td>exellent</td><td>yes</td></tr>\n",
       "\t<tr><td>&lt;=30 </td><td>medium</td><td>no </td><td><span style=white-space:pre-wrap>fair    </span></td><td>no </td></tr>\n",
       "\t<tr><td>&lt;=30 </td><td><span style=white-space:pre-wrap>low   </span></td><td>yes</td><td><span style=white-space:pre-wrap>fair    </span></td><td>yes</td></tr>\n",
       "\t<tr><td><span style=white-space:pre-wrap>&gt;40  </span></td><td>medium</td><td>yes</td><td><span style=white-space:pre-wrap>fair    </span></td><td>yes</td></tr>\n",
       "\t<tr><td>&lt;=30 </td><td>medium</td><td>yes</td><td>exellent</td><td>yes</td></tr>\n",
       "\t<tr><td>31…40</td><td>medium</td><td>no </td><td>exellent</td><td>yes</td></tr>\n",
       "\t<tr><td>31…40</td><td>high  </td><td>yes</td><td>fair    </td><td>yes</td></tr>\n",
       "\t<tr><td><span style=white-space:pre-wrap>&gt;40  </span></td><td>medium</td><td>no </td><td>exellent</td><td>no </td></tr>\n",
       "</tbody>\n",
       "</table>\n"
      ],
      "text/latex": [
       "A data.frame: 14 × 5\n",
       "\\begin{tabular}{lllll}\n",
       " age & income & student & credit\\_rating & buys\\_computer\\\\\n",
       " <chr> & <chr> & <chr> & <chr> & <chr>\\\\\n",
       "\\hline\n",
       "\t <=30  & high   & no  & fair     & no \\\\\n",
       "\t <=30  & high   & no  & exellent & no \\\\\n",
       "\t 31…40 & high   & no  & fair     & yes\\\\\n",
       "\t >40   & medium & no  & fair     & yes\\\\\n",
       "\t >40   & low    & yes & fair     & yes\\\\\n",
       "\t >40   & low    & yes & exellent & no \\\\\n",
       "\t 31…40 & low    & yes & exellent & yes\\\\\n",
       "\t <=30  & medium & no  & fair     & no \\\\\n",
       "\t <=30  & low    & yes & fair     & yes\\\\\n",
       "\t >40   & medium & yes & fair     & yes\\\\\n",
       "\t <=30  & medium & yes & exellent & yes\\\\\n",
       "\t 31…40 & medium & no  & exellent & yes\\\\\n",
       "\t 31…40 & high   & yes & fair     & yes\\\\\n",
       "\t >40   & medium & no  & exellent & no \\\\\n",
       "\\end{tabular}\n"
      ],
      "text/markdown": [
       "\n",
       "A data.frame: 14 × 5\n",
       "\n",
       "| age &lt;chr&gt; | income &lt;chr&gt; | student &lt;chr&gt; | credit_rating &lt;chr&gt; | buys_computer &lt;chr&gt; |\n",
       "|---|---|---|---|---|\n",
       "| &lt;=30  | high   | no  | fair     | no  |\n",
       "| &lt;=30  | high   | no  | exellent | no  |\n",
       "| 31…40 | high   | no  | fair     | yes |\n",
       "| &gt;40   | medium | no  | fair     | yes |\n",
       "| &gt;40   | low    | yes | fair     | yes |\n",
       "| &gt;40   | low    | yes | exellent | no  |\n",
       "| 31…40 | low    | yes | exellent | yes |\n",
       "| &lt;=30  | medium | no  | fair     | no  |\n",
       "| &lt;=30  | low    | yes | fair     | yes |\n",
       "| &gt;40   | medium | yes | fair     | yes |\n",
       "| &lt;=30  | medium | yes | exellent | yes |\n",
       "| 31…40 | medium | no  | exellent | yes |\n",
       "| 31…40 | high   | yes | fair     | yes |\n",
       "| &gt;40   | medium | no  | exellent | no  |\n",
       "\n"
      ],
      "text/plain": [
       "   age   income student credit_rating buys_computer\n",
       "1  <=30  high   no      fair          no           \n",
       "2  <=30  high   no      exellent      no           \n",
       "3  31…40 high   no      fair          yes          \n",
       "4  >40   medium no      fair          yes          \n",
       "5  >40   low    yes     fair          yes          \n",
       "6  >40   low    yes     exellent      no           \n",
       "7  31…40 low    yes     exellent      yes          \n",
       "8  <=30  medium no      fair          no           \n",
       "9  <=30  low    yes     fair          yes          \n",
       "10 >40   medium yes     fair          yes          \n",
       "11 <=30  medium yes     exellent      yes          \n",
       "12 31…40 medium no      exellent      yes          \n",
       "13 31…40 high   yes     fair          yes          \n",
       "14 >40   medium no      exellent      no           "
      ]
     },
     "metadata": {},
     "output_type": "display_data"
    }
   ],
   "source": [
    "dt2"
   ]
  },
  {
   "cell_type": "code",
   "execution_count": 348,
   "id": "3f9c4111-38be-41c9-a355-1768f6b11750",
   "metadata": {},
   "outputs": [
    {
     "name": "stderr",
     "output_type": "stream",
     "text": [
      "\u001b[1m\u001b[22m`summarise()` has grouped output by 'credit_rating'. You can override using the `.groups` argument.\n"
     ]
    },
    {
     "data": {
      "text/html": [
       "<table class=\"dataframe\">\n",
       "<caption>A grouped_df: 4 × 3</caption>\n",
       "<thead>\n",
       "\t<tr><th scope=col>credit_rating</th><th scope=col>buys_computer</th><th scope=col>n()</th></tr>\n",
       "\t<tr><th scope=col>&lt;chr&gt;</th><th scope=col>&lt;chr&gt;</th><th scope=col>&lt;int&gt;</th></tr>\n",
       "</thead>\n",
       "<tbody>\n",
       "\t<tr><td>exellent</td><td>no </td><td>3</td></tr>\n",
       "\t<tr><td>exellent</td><td>yes</td><td>3</td></tr>\n",
       "\t<tr><td>fair    </td><td>no </td><td>2</td></tr>\n",
       "\t<tr><td>fair    </td><td>yes</td><td>6</td></tr>\n",
       "</tbody>\n",
       "</table>\n"
      ],
      "text/latex": [
       "A grouped\\_df: 4 × 3\n",
       "\\begin{tabular}{lll}\n",
       " credit\\_rating & buys\\_computer & n()\\\\\n",
       " <chr> & <chr> & <int>\\\\\n",
       "\\hline\n",
       "\t exellent & no  & 3\\\\\n",
       "\t exellent & yes & 3\\\\\n",
       "\t fair     & no  & 2\\\\\n",
       "\t fair     & yes & 6\\\\\n",
       "\\end{tabular}\n"
      ],
      "text/markdown": [
       "\n",
       "A grouped_df: 4 × 3\n",
       "\n",
       "| credit_rating &lt;chr&gt; | buys_computer &lt;chr&gt; | n() &lt;int&gt; |\n",
       "|---|---|---|\n",
       "| exellent | no  | 3 |\n",
       "| exellent | yes | 3 |\n",
       "| fair     | no  | 2 |\n",
       "| fair     | yes | 6 |\n",
       "\n"
      ],
      "text/plain": [
       "  credit_rating buys_computer n()\n",
       "1 exellent      no            3  \n",
       "2 exellent      yes           3  \n",
       "3 fair          no            2  \n",
       "4 fair          yes           6  "
      ]
     },
     "metadata": {},
     "output_type": "display_data"
    }
   ],
   "source": [
    "dt2 %>% group_by(credit_rating,buys_computer) %>% summarize(n())"
   ]
  },
  {
   "cell_type": "markdown",
   "id": "d1161759-2c47-4b48-abfa-b859f4db30cc",
   "metadata": {},
   "source": [
    "- Y는 컴퓨터 구매 여부"
   ]
  },
  {
   "cell_type": "code",
   "execution_count": 335,
   "id": "2762242c-f82e-4c05-9c12-b3271050d23d",
   "metadata": {},
   "outputs": [],
   "source": [
    "#Gini 지수 구하는 함수 만들기\n",
    "gini<-function(n1,n2,n3,n4){\n",
    "  d1<-1-(n1/(n1+n2))^2-(n2/(n1+n2))^2\n",
    "  d2<-1-(n3/(n3+n4))^2-(n4/(n3+n4))^2\n",
    "  gi<-(n1+n2)/(n1+n2+n3+n4)*d1 +(n3+n4)/(n1+n2+n3+n4)*d2\n",
    "    \n",
    "  print(round(d1,2))\n",
    "  print(round(d2,2))\n",
    "  print(round(gi,2))\n",
    "}"
   ]
  },
  {
   "cell_type": "code",
   "execution_count": 349,
   "id": "b3532ad1-2d8f-48d9-ade9-32d6c5a4223b",
   "metadata": {},
   "outputs": [
    {
     "name": "stdout",
     "output_type": "stream",
     "text": [
      "[1] 0.5\n",
      "[1] 0.38\n",
      "[1] 0.43\n"
     ]
    }
   ],
   "source": [
    "gini(3,3,6,2)"
   ]
  },
  {
   "cell_type": "markdown",
   "id": "8138f806-24d3-43db-a790-68503aa48230",
   "metadata": {
    "tags": []
   },
   "source": [
    "##### (a) age "
   ]
  },
  {
   "cell_type": "markdown",
   "id": "ce26244d-c104-4a48-a45e-73e0429fbb95",
   "metadata": {},
   "source": [
    "age={1=30이하, 2=31~40, 3=40초과}"
   ]
  },
  {
   "cell_type": "markdown",
   "id": "806145b6-d3d5-421a-b9b9-c76cf4d0b0cb",
   "metadata": {},
   "source": [
    "##### (b) income"
   ]
  },
  {
   "cell_type": "markdown",
   "id": "caff3d31-7adf-4d5b-91a4-ebe17df66719",
   "metadata": {},
   "source": [
    "##### (c) student"
   ]
  },
  {
   "cell_type": "markdown",
   "id": "4680556b-4a81-4ac7-abe6-f20c54862e05",
   "metadata": {},
   "source": [
    "##### (d) credit rating"
   ]
  },
  {
   "cell_type": "markdown",
   "id": "26d02bef-12bd-489e-8f72-7b3e74d40e1f",
   "metadata": {
    "tags": []
   },
   "source": [
    "#### 3. \n",
    "**‘Carseats.csv’ 데이터를 이용하여 Sales(매출액)을 예측**"
   ]
  },
  {
   "cell_type": "code",
   "execution_count": 76,
   "id": "25aa3d5f-fdcc-41ca-b137-916c3cb2d981",
   "metadata": {},
   "outputs": [],
   "source": [
    "dt3<-Carseats"
   ]
  },
  {
   "cell_type": "markdown",
   "id": "2fec20de-e5a0-4393-bd86-4af06cab95aa",
   "metadata": {},
   "source": [
    "##### (a)\n",
    "데이터를 training data (60%)와 testing data(40%)로 나누어라."
   ]
  },
  {
   "cell_type": "code",
   "execution_count": 291,
   "id": "76eb4916-afa8-47a1-b0d6-64411d7242d7",
   "metadata": {},
   "outputs": [],
   "source": [
    "set.seed(1234)"
   ]
  },
  {
   "cell_type": "code",
   "execution_count": 86,
   "id": "4feaa695-1bf3-4e87-acf5-89b6e178a774",
   "metadata": {},
   "outputs": [],
   "source": [
    "train_id <- sample(1:nrow(dt3), nrow(dt3)*0.6)\n",
    "train_dt3 <- dt3[train_id,]\n",
    "test_dt3 <- dt3[-train_id,]"
   ]
  },
  {
   "cell_type": "code",
   "execution_count": 87,
   "id": "52166685-1c16-4952-9168-a9eb86454861",
   "metadata": {},
   "outputs": [
    {
     "data": {
      "text/html": [
       "400"
      ],
      "text/latex": [
       "400"
      ],
      "text/markdown": [
       "400"
      ],
      "text/plain": [
       "[1] 400"
      ]
     },
     "metadata": {},
     "output_type": "display_data"
    },
    {
     "data": {
      "text/html": [
       "240"
      ],
      "text/latex": [
       "240"
      ],
      "text/markdown": [
       "240"
      ],
      "text/plain": [
       "[1] 240"
      ]
     },
     "metadata": {},
     "output_type": "display_data"
    },
    {
     "data": {
      "text/html": [
       "160"
      ],
      "text/latex": [
       "160"
      ],
      "text/markdown": [
       "160"
      ],
      "text/plain": [
       "[1] 160"
      ]
     },
     "metadata": {},
     "output_type": "display_data"
    }
   ],
   "source": [
    "nrow(dt3)\n",
    "nrow(train_dt3)\n",
    "nrow(test_dt3)"
   ]
  },
  {
   "cell_type": "code",
   "execution_count": 138,
   "id": "b523d174-d5df-4f0d-897a-1f59e80d788e",
   "metadata": {},
   "outputs": [
    {
     "data": {
      "text/html": [
       "<table class=\"dataframe\">\n",
       "<caption>A data.frame: 6 × 11</caption>\n",
       "<thead>\n",
       "\t<tr><th></th><th scope=col>Sales</th><th scope=col>CompPrice</th><th scope=col>Income</th><th scope=col>Advertising</th><th scope=col>Population</th><th scope=col>Price</th><th scope=col>ShelveLoc</th><th scope=col>Age</th><th scope=col>Education</th><th scope=col>Urban</th><th scope=col>US</th></tr>\n",
       "\t<tr><th></th><th scope=col>&lt;dbl&gt;</th><th scope=col>&lt;dbl&gt;</th><th scope=col>&lt;dbl&gt;</th><th scope=col>&lt;dbl&gt;</th><th scope=col>&lt;dbl&gt;</th><th scope=col>&lt;dbl&gt;</th><th scope=col>&lt;fct&gt;</th><th scope=col>&lt;dbl&gt;</th><th scope=col>&lt;dbl&gt;</th><th scope=col>&lt;fct&gt;</th><th scope=col>&lt;fct&gt;</th></tr>\n",
       "</thead>\n",
       "<tbody>\n",
       "\t<tr><th scope=row>1</th><td> 9.50</td><td>138</td><td> 73</td><td>11</td><td>276</td><td>120</td><td>Bad   </td><td>42</td><td>17</td><td>Yes</td><td>Yes</td></tr>\n",
       "\t<tr><th scope=row>2</th><td>11.22</td><td>111</td><td> 48</td><td>16</td><td>260</td><td> 83</td><td>Good  </td><td>65</td><td>10</td><td>Yes</td><td>Yes</td></tr>\n",
       "\t<tr><th scope=row>3</th><td>10.06</td><td>113</td><td> 35</td><td>10</td><td>269</td><td> 80</td><td>Medium</td><td>59</td><td>12</td><td>Yes</td><td>Yes</td></tr>\n",
       "\t<tr><th scope=row>4</th><td> 7.40</td><td>117</td><td>100</td><td> 4</td><td>466</td><td> 97</td><td>Medium</td><td>55</td><td>14</td><td>Yes</td><td>Yes</td></tr>\n",
       "\t<tr><th scope=row>5</th><td> 4.15</td><td>141</td><td> 64</td><td> 3</td><td>340</td><td>128</td><td>Bad   </td><td>38</td><td>13</td><td>Yes</td><td>No </td></tr>\n",
       "\t<tr><th scope=row>6</th><td>10.81</td><td>124</td><td>113</td><td>13</td><td>501</td><td> 72</td><td>Bad   </td><td>78</td><td>16</td><td>No </td><td>Yes</td></tr>\n",
       "</tbody>\n",
       "</table>\n"
      ],
      "text/latex": [
       "A data.frame: 6 × 11\n",
       "\\begin{tabular}{r|lllllllllll}\n",
       "  & Sales & CompPrice & Income & Advertising & Population & Price & ShelveLoc & Age & Education & Urban & US\\\\\n",
       "  & <dbl> & <dbl> & <dbl> & <dbl> & <dbl> & <dbl> & <fct> & <dbl> & <dbl> & <fct> & <fct>\\\\\n",
       "\\hline\n",
       "\t1 &  9.50 & 138 &  73 & 11 & 276 & 120 & Bad    & 42 & 17 & Yes & Yes\\\\\n",
       "\t2 & 11.22 & 111 &  48 & 16 & 260 &  83 & Good   & 65 & 10 & Yes & Yes\\\\\n",
       "\t3 & 10.06 & 113 &  35 & 10 & 269 &  80 & Medium & 59 & 12 & Yes & Yes\\\\\n",
       "\t4 &  7.40 & 117 & 100 &  4 & 466 &  97 & Medium & 55 & 14 & Yes & Yes\\\\\n",
       "\t5 &  4.15 & 141 &  64 &  3 & 340 & 128 & Bad    & 38 & 13 & Yes & No \\\\\n",
       "\t6 & 10.81 & 124 & 113 & 13 & 501 &  72 & Bad    & 78 & 16 & No  & Yes\\\\\n",
       "\\end{tabular}\n"
      ],
      "text/markdown": [
       "\n",
       "A data.frame: 6 × 11\n",
       "\n",
       "| <!--/--> | Sales &lt;dbl&gt; | CompPrice &lt;dbl&gt; | Income &lt;dbl&gt; | Advertising &lt;dbl&gt; | Population &lt;dbl&gt; | Price &lt;dbl&gt; | ShelveLoc &lt;fct&gt; | Age &lt;dbl&gt; | Education &lt;dbl&gt; | Urban &lt;fct&gt; | US &lt;fct&gt; |\n",
       "|---|---|---|---|---|---|---|---|---|---|---|---|\n",
       "| 1 |  9.50 | 138 |  73 | 11 | 276 | 120 | Bad    | 42 | 17 | Yes | Yes |\n",
       "| 2 | 11.22 | 111 |  48 | 16 | 260 |  83 | Good   | 65 | 10 | Yes | Yes |\n",
       "| 3 | 10.06 | 113 |  35 | 10 | 269 |  80 | Medium | 59 | 12 | Yes | Yes |\n",
       "| 4 |  7.40 | 117 | 100 |  4 | 466 |  97 | Medium | 55 | 14 | Yes | Yes |\n",
       "| 5 |  4.15 | 141 |  64 |  3 | 340 | 128 | Bad    | 38 | 13 | Yes | No  |\n",
       "| 6 | 10.81 | 124 | 113 | 13 | 501 |  72 | Bad    | 78 | 16 | No  | Yes |\n",
       "\n"
      ],
      "text/plain": [
       "  Sales CompPrice Income Advertising Population Price ShelveLoc Age Education\n",
       "1  9.50 138        73    11          276        120   Bad       42  17       \n",
       "2 11.22 111        48    16          260         83   Good      65  10       \n",
       "3 10.06 113        35    10          269         80   Medium    59  12       \n",
       "4  7.40 117       100     4          466         97   Medium    55  14       \n",
       "5  4.15 141        64     3          340        128   Bad       38  13       \n",
       "6 10.81 124       113    13          501         72   Bad       78  16       \n",
       "  Urban US \n",
       "1 Yes   Yes\n",
       "2 Yes   Yes\n",
       "3 Yes   Yes\n",
       "4 Yes   Yes\n",
       "5 Yes   No \n",
       "6 No    Yes"
      ]
     },
     "metadata": {},
     "output_type": "display_data"
    }
   ],
   "source": [
    "head(dt3)"
   ]
  },
  {
   "cell_type": "markdown",
   "id": "1b77aa2a-d426-4246-b6e8-72506186be7c",
   "metadata": {},
   "source": [
    "##### (b)\n",
    "training data를 이용하여 회귀트리를 적합하여라. 그림을 그리고, 결과를 설명하여라. tets MSE는 얼마인가?"
   ]
  },
  {
   "cell_type": "markdown",
   "id": "1e5e43c5-d4fd-4800-95d2-bb63b1fda8e4",
   "metadata": {},
   "source": [
    "###### tree함수로 한거"
   ]
  },
  {
   "cell_type": "code",
   "execution_count": 111,
   "id": "eb491744-9764-4cf1-a0e0-d6501d525acd",
   "metadata": {},
   "outputs": [
    {
     "data": {
      "text/plain": [
       "node), split, n, deviance, yval\n",
       "      * denotes terminal node\n",
       "\n",
       " 1) root 240 1992.00  7.426  \n",
       "   2) ShelveLoc: Bad,Medium 190 1076.00  6.634  \n",
       "     4) Price < 124.5 126  656.80  7.329  \n",
       "       8) Age < 50.5 50  259.80  8.527  \n",
       "        16) Income < 51.5 12   39.79  6.238 *\n",
       "        17) Income > 51.5 38  137.40  9.249  \n",
       "          34) Price < 109.5 17   65.40 10.330  \n",
       "            68) ShelveLoc: Bad 5   15.21  8.524 *\n",
       "            69) ShelveLoc: Medium 12   27.05 11.080 *\n",
       "          35) Price > 109.5 21   35.97  8.373 *\n",
       "       9) Age > 50.5 76  278.10  6.541  \n",
       "        18) Price < 80.5 6   13.98  9.938 *\n",
       "        19) Price > 80.5 70  188.90  6.250  \n",
       "          38) CompPrice < 127 54  124.20  5.884  \n",
       "            76) Price < 106.5 29   75.75  6.466 *\n",
       "            77) Price > 106.5 25   27.27  5.210 *\n",
       "          39) CompPrice > 127 16   33.19  7.483 *\n",
       "     5) Price > 124.5 64  238.50  5.265  \n",
       "      10) CompPrice < 147.5 54  181.80  4.945  \n",
       "        20) Age < 66.5 42  112.20  5.386 *\n",
       "        21) Age > 66.5 12   32.91  3.402 *\n",
       "      11) CompPrice > 147.5 10   21.33  6.992 *\n",
       "   3) ShelveLoc: Good 50  343.50 10.440  \n",
       "     6) Price < 109.5 16   39.48 13.100 *\n",
       "     7) Price > 109.5 34  137.20  9.182  \n",
       "      14) Income < 43 11   10.87  7.436 *\n",
       "      15) Income > 43 23   76.80 10.020  \n",
       "        30) CompPrice < 132.5 15   38.60  9.316 *\n",
       "        31) CompPrice > 132.5 8   17.02 11.330 *"
      ]
     },
     "metadata": {},
     "output_type": "display_data"
    }
   ],
   "source": [
    "tree_dt3 <- tree(Sales ~ ., data=train_dt3)\n",
    "tree_dt3"
   ]
  },
  {
   "cell_type": "code",
   "execution_count": 126,
   "id": "42485a9e-eeff-4ef2-896a-98c18ab457bd",
   "metadata": {},
   "outputs": [
    {
     "data": {
      "text/plain": [
       "\n",
       "Regression tree:\n",
       "tree(formula = Sales ~ ., data = train_dt3)\n",
       "Variables actually used in tree construction:\n",
       "[1] \"ShelveLoc\" \"Price\"     \"Age\"       \"Income\"    \"CompPrice\"\n",
       "Number of terminal nodes:  15 \n",
       "Residual mean deviance:  2.403 = 540.6 / 225 \n",
       "Distribution of residuals:\n",
       "    Min.  1st Qu.   Median     Mean  3rd Qu.     Max. \n",
       "-5.01600 -0.96420  0.04807  0.00000  1.02800  4.71400 "
      ]
     },
     "metadata": {},
     "output_type": "display_data"
    }
   ],
   "source": [
    "summary(tree_dt3)"
   ]
  },
  {
   "cell_type": "code",
   "execution_count": 110,
   "id": "8ec8b4e6-c153-4e10-a6c2-b7f727c8d817",
   "metadata": {},
   "outputs": [
    {
     "data": {
      "image/png": "[encoded data removed]",
      "text/plain": [
       "plot without title"
      ]
     },
     "metadata": {
      "image/png": {
       "height": 420,
       "width": 420
      }
     },
     "output_type": "display_data"
    }
   ],
   "source": [
    "plot(tree_dt3)\n",
    "text(tree_dt3)\n",
    "text(tree_dt3, all=T)"
   ]
  },
  {
   "cell_type": "code",
   "execution_count": 118,
   "id": "dc435e66-6d4a-494b-be4a-b9e2b4d37747",
   "metadata": {},
   "outputs": [],
   "source": [
    "yhat <- predict(tree_dt3 , newdata = test_dt3)"
   ]
  },
  {
   "cell_type": "code",
   "execution_count": 119,
   "id": "45e631f9-bfdd-4684-bacd-7697f0ae0f29",
   "metadata": {},
   "outputs": [
    {
     "data": {
      "text/html": [
       "4.82598992269241"
      ],
      "text/latex": [
       "4.82598992269241"
      ],
      "text/markdown": [
       "4.82598992269241"
      ],
      "text/plain": [
       "[1] 4.82599"
      ]
     },
     "metadata": {},
     "output_type": "display_data"
    }
   ],
   "source": [
    "mean((yhat-test_dt3$Sales)^2)"
   ]
  },
  {
   "cell_type": "markdown",
   "id": "15fb4a03-9cea-415b-a5bb-671b65f533f0",
   "metadata": {},
   "source": [
    "###### rpart함수로 한거"
   ]
  },
  {
   "cell_type": "code",
   "execution_count": 155,
   "id": "ed3993d6-fd88-4bd1-98b1-c197a552de83",
   "metadata": {},
   "outputs": [],
   "source": [
    "cart_dt3 <- rpart(Sales ~., data=train_dt3)"
   ]
  },
  {
   "cell_type": "code",
   "execution_count": 156,
   "id": "d26a2b0a-e888-410e-8fe2-a9a297047acc",
   "metadata": {},
   "outputs": [
    {
     "name": "stdout",
     "output_type": "stream",
     "text": [
      "Call:\n",
      "rpart(formula = Sales ~ ., data = train_dt3)\n",
      "  n= 240 \n",
      "\n",
      "           CP nsplit rel error    xerror       xstd\n",
      "1  0.28718446      0 1.0000000 1.0049634 0.09317580\n",
      "2  0.09079237      1 0.7128155 0.7237491 0.06357243\n",
      "3  0.08374733      2 0.6220232 0.7395989 0.06172782\n",
      "4  0.05969724      3 0.5382758 0.6067556 0.05264454\n",
      "5  0.04151085      4 0.4785786 0.6278392 0.05774770\n",
      "6  0.02667906      5 0.4370677 0.6064115 0.05758255\n",
      "7  0.02488062      6 0.4103887 0.6312337 0.05682588\n",
      "8  0.01809132      7 0.3855081 0.6386965 0.05893900\n",
      "9  0.01808094      9 0.3493254 0.6256794 0.05913031\n",
      "10 0.01762513     10 0.3312445 0.6256794 0.05913031\n",
      "11 0.01121466     11 0.3136194 0.6216039 0.06065912\n",
      "12 0.01063878     12 0.3024047 0.6198450 0.05971397\n",
      "13 0.01000000     13 0.2917659 0.6190801 0.05972973\n",
      "\n",
      "Variable importance\n",
      "  ShelveLoc       Price   CompPrice         Age      Income Advertising \n",
      "         34          29          11           9           9           3 \n",
      " Population   Education          US       Urban \n",
      "          2           2           1           1 \n",
      "\n",
      "Node number 1: 240 observations,    complexity param=0.2871845\n",
      "  mean=7.425625, MSE=8.298662 \n",
      "  left son=2 (190 obs) right son=3 (50 obs)\n",
      "  Primary splits:\n",
      "      ShelveLoc   splits as  LRL,       improve=0.28718450, (0 missing)\n",
      "      Price       < 92.5  to the right, improve=0.16046160, (0 missing)\n",
      "      Age         < 63.5  to the right, improve=0.07760293, (0 missing)\n",
      "      Advertising < 7.5   to the left,  improve=0.05630075, (0 missing)\n",
      "      Income      < 59    to the left,  improve=0.03634169, (0 missing)\n",
      "  Surrogate splits:\n",
      "      Advertising < 22    to the left,  agree=0.796, adj=0.02, (0 split)\n",
      "      Price       < 65.5  to the right, agree=0.796, adj=0.02, (0 split)\n",
      "\n",
      "Node number 2: 190 observations,    complexity param=0.09079237\n",
      "  mean=6.633684, MSE=5.664222 \n",
      "  left son=4 (64 obs) right son=5 (126 obs)\n",
      "  Primary splits:\n",
      "      Price       < 124.5 to the right, improve=0.16802540, (0 missing)\n",
      "      Advertising < 7.5   to the left,  improve=0.11330570, (0 missing)\n",
      "      ShelveLoc   splits as  L-R,       improve=0.11024640, (0 missing)\n",
      "      Age         < 50.5  to the right, improve=0.08354861, (0 missing)\n",
      "      Income      < 60.5  to the left,  improve=0.06429099, (0 missing)\n",
      "  Surrogate splits:\n",
      "      CompPrice   < 133.5 to the right, agree=0.747, adj=0.250, (0 split)\n",
      "      Income      < 35.5  to the left,  agree=0.674, adj=0.031, (0 split)\n",
      "      Advertising < 20.5  to the right, agree=0.674, adj=0.031, (0 split)\n",
      "\n",
      "Node number 3: 50 observations,    complexity param=0.08374733\n",
      "  mean=10.435, MSE=6.869949 \n",
      "  left son=6 (34 obs) right son=7 (16 obs)\n",
      "  Primary splits:\n",
      "      Price       < 109.5 to the right, improve=0.48558670, (0 missing)\n",
      "      Education   < 12.5  to the right, improve=0.10838870, (0 missing)\n",
      "      CompPrice   < 132.5 to the left,  improve=0.09871327, (0 missing)\n",
      "      Age         < 61.5  to the right, improve=0.09735568, (0 missing)\n",
      "      Advertising < 13.5  to the left,  improve=0.08908519, (0 missing)\n",
      "  Surrogate splits:\n",
      "      Population  < 25.5  to the right, agree=0.72, adj=0.125, (0 split)\n",
      "      Education   < 12.5  to the right, agree=0.72, adj=0.125, (0 split)\n",
      "      CompPrice   < 105.5 to the right, agree=0.70, adj=0.062, (0 split)\n",
      "      Advertising < 14.5  to the left,  agree=0.70, adj=0.062, (0 split)\n",
      "\n",
      "Node number 4: 64 observations,    complexity param=0.01809132\n",
      "  mean=5.264844, MSE=3.726947 \n",
      "  left son=8 (54 obs) right son=9 (10 obs)\n",
      "  Primary splits:\n",
      "      CompPrice   < 147.5 to the left,  improve=0.14822320, (0 missing)\n",
      "      Age         < 66.5  to the right, improve=0.14127080, (0 missing)\n",
      "      ShelveLoc   splits as  L-R,       improve=0.13180950, (0 missing)\n",
      "      Advertising < 0.5   to the left,  improve=0.09941849, (0 missing)\n",
      "      Price       < 136.5 to the right, improve=0.05174225, (0 missing)\n",
      "  Surrogate splits:\n",
      "      Price < 159   to the left,  agree=0.859, adj=0.1, (0 split)\n",
      "\n",
      "Node number 5: 126 observations,    complexity param=0.05969724\n",
      "  mean=7.328968, MSE=5.213082 \n",
      "  left son=10 (76 obs) right son=11 (50 obs)\n",
      "  Primary splits:\n",
      "      Age         < 50.5  to the right, improve=0.1810124, (0 missing)\n",
      "      Advertising < 6.5   to the left,  improve=0.1487898, (0 missing)\n",
      "      Price       < 80.5  to the right, improve=0.1459306, (0 missing)\n",
      "      CompPrice   < 126.5 to the left,  improve=0.1445870, (0 missing)\n",
      "      ShelveLoc   splits as  L-R,       improve=0.1254177, (0 missing)\n",
      "  Surrogate splits:\n",
      "      Price       < 118.5 to the left,  agree=0.698, adj=0.24, (0 split)\n",
      "      CompPrice   < 124.5 to the left,  agree=0.659, adj=0.14, (0 split)\n",
      "      Advertising < 13.5  to the left,  agree=0.635, adj=0.08, (0 split)\n",
      "      Population  < 468.5 to the left,  agree=0.635, adj=0.08, (0 split)\n",
      "      Urban       splits as  RL,        agree=0.635, adj=0.08, (0 split)\n",
      "\n",
      "Node number 6: 34 observations,    complexity param=0.02488062\n",
      "  mean=9.182059, MSE=4.035981 \n",
      "  left son=12 (11 obs) right son=13 (23 obs)\n",
      "  Primary splits:\n",
      "      Income    < 43    to the left,  improve=0.36112080, (0 missing)\n",
      "      Price     < 136.5 to the right, improve=0.25470810, (0 missing)\n",
      "      CompPrice < 132.5 to the left,  improve=0.17894260, (0 missing)\n",
      "      Education < 15.5  to the left,  improve=0.11664280, (0 missing)\n",
      "      Age       < 61.5  to the right, improve=0.09694824, (0 missing)\n",
      "  Surrogate splits:\n",
      "      Price       < 156.5 to the right, agree=0.794, adj=0.364, (0 split)\n",
      "      Advertising < 0.5   to the left,  agree=0.706, adj=0.091, (0 split)\n",
      "      Age         < 32    to the left,  agree=0.706, adj=0.091, (0 split)\n",
      "      US          splits as  LR,        agree=0.706, adj=0.091, (0 split)\n",
      "\n",
      "Node number 7: 16 observations\n",
      "  mean=13.0975, MSE=2.467269 \n",
      "\n",
      "Node number 8: 54 observations,    complexity param=0.01809132\n",
      "  mean=4.945, MSE=3.36744 \n",
      "  left son=16 (12 obs) right son=17 (42 obs)\n",
      "  Primary splits:\n",
      "      Age         < 66.5  to the right, improve=0.2018750, (0 missing)\n",
      "      ShelveLoc   splits as  L-R,       improve=0.1308535, (0 missing)\n",
      "      Price       < 136   to the right, improve=0.1119360, (0 missing)\n",
      "      Advertising < 0.5   to the left,  improve=0.1104273, (0 missing)\n",
      "      Income      < 59    to the left,  improve=0.0852288, (0 missing)\n",
      "  Surrogate splits:\n",
      "      Population < 498.5 to the right, agree=0.815, adj=0.167, (0 split)\n",
      "      CompPrice  < 112.5 to the left,  agree=0.796, adj=0.083, (0 split)\n",
      "\n",
      "Node number 9: 10 observations\n",
      "  mean=6.992, MSE=2.132796 \n",
      "\n",
      "Node number 10: 76 observations,    complexity param=0.02667906\n",
      "  mean=6.541053, MSE=3.659294 \n",
      "  left son=20 (65 obs) right son=21 (11 obs)\n",
      "  Primary splits:\n",
      "      Price       < 89.5  to the right, improve=0.19106400, (0 missing)\n",
      "      CompPrice   < 127   to the left,  improve=0.11888090, (0 missing)\n",
      "      Advertising < 6.5   to the left,  improve=0.10926760, (0 missing)\n",
      "      ShelveLoc   splits as  L-R,       improve=0.10689210, (0 missing)\n",
      "      Income      < 98.5  to the left,  improve=0.05707716, (0 missing)\n",
      "  Surrogate splits:\n",
      "      CompPrice < 95.5  to the right, agree=0.882, adj=0.182, (0 split)\n",
      "\n",
      "Node number 11: 50 observations,    complexity param=0.04151085\n",
      "  mean=8.5266, MSE=5.196886 \n",
      "  left son=22 (12 obs) right son=23 (38 obs)\n",
      "  Primary splits:\n",
      "      Income      < 51.5  to the left,  improve=0.3181762, (0 missing)\n",
      "      Price       < 106   to the right, improve=0.2267382, (0 missing)\n",
      "      Advertising < 2.5   to the left,  improve=0.1974395, (0 missing)\n",
      "      CompPrice   < 117.5 to the left,  improve=0.1540149, (0 missing)\n",
      "      US          splits as  LR,        improve=0.1531154, (0 missing)\n",
      "  Surrogate splits:\n",
      "      CompPrice < 116.5 to the left,  agree=0.78, adj=0.083, (0 split)\n",
      "\n",
      "Node number 12: 11 observations\n",
      "  mean=7.436364, MSE=0.9878595 \n",
      "\n",
      "Node number 13: 23 observations,    complexity param=0.01063878\n",
      "  mean=10.01696, MSE=3.339247 \n",
      "  left son=26 (15 obs) right son=27 (8 obs)\n",
      "  Primary splits:\n",
      "      CompPrice   < 132.5 to the left,  improve=0.27588930, (0 missing)\n",
      "      Advertising < 10.5  to the left,  improve=0.14785900, (0 missing)\n",
      "      Education   < 15.5  to the left,  improve=0.10819960, (0 missing)\n",
      "      Age         < 39.5  to the right, improve=0.10482460, (0 missing)\n",
      "      Population  < 288.5 to the right, improve=0.07413806, (0 missing)\n",
      "  Surrogate splits:\n",
      "      Income < 56    to the right, agree=0.739, adj=0.250, (0 split)\n",
      "      Age    < 58    to the left,  agree=0.696, adj=0.125, (0 split)\n",
      "      Urban  splits as  LR,        agree=0.696, adj=0.125, (0 split)\n",
      "\n",
      "Node number 16: 12 observations\n",
      "  mean=3.4025, MSE=2.742335 \n",
      "\n",
      "Node number 17: 42 observations\n",
      "  mean=5.385714, MSE=2.67201 \n",
      "\n",
      "Node number 20: 65 observations,    complexity param=0.01762513\n",
      "  mean=6.197077, MSE=2.628744 \n",
      "  left son=40 (49 obs) right son=41 (16 obs)\n",
      "  Primary splits:\n",
      "      CompPrice   < 127   to the left,  improve=0.20544240, (0 missing)\n",
      "      ShelveLoc   splits as  L-R,       improve=0.18356700, (0 missing)\n",
      "      Age         < 56.5  to the left,  improve=0.08842439, (0 missing)\n",
      "      Advertising < 6.5   to the left,  improve=0.05539316, (0 missing)\n",
      "      Education   < 10.5  to the right, improve=0.05195064, (0 missing)\n",
      "  Surrogate splits:\n",
      "      Price < 114.5 to the left,  agree=0.831, adj=0.313, (0 split)\n",
      "\n",
      "Node number 21: 11 observations\n",
      "  mean=8.573636, MSE=4.91835 \n",
      "\n",
      "Node number 22: 12 observations\n",
      "  mean=6.238333, MSE=3.315914 \n",
      "\n",
      "Node number 23: 38 observations,    complexity param=0.01808094\n",
      "  mean=9.249211, MSE=3.615186 \n",
      "  left son=46 (21 obs) right son=47 (17 obs)\n",
      "  Primary splits:\n",
      "      Price       < 109.5 to the right, improve=0.2621357, (0 missing)\n",
      "      Education   < 15.5  to the right, improve=0.1504582, (0 missing)\n",
      "      US          splits as  LR,        improve=0.1466332, (0 missing)\n",
      "      Advertising < 1.5   to the left,  improve=0.1244880, (0 missing)\n",
      "      ShelveLoc   splits as  L-R,       improve=0.0810080, (0 missing)\n",
      "  Surrogate splits:\n",
      "      CompPrice   < 121.5 to the right, agree=0.684, adj=0.294, (0 split)\n",
      "      Education   < 11.5  to the right, agree=0.684, adj=0.294, (0 split)\n",
      "      Advertising < 7.5   to the left,  agree=0.658, adj=0.235, (0 split)\n",
      "      US          splits as  LR,        agree=0.658, adj=0.235, (0 split)\n",
      "      Income      < 102.5 to the left,  agree=0.605, adj=0.118, (0 split)\n",
      "\n",
      "Node number 26: 15 observations\n",
      "  mean=9.316, MSE=2.573064 \n",
      "\n",
      "Node number 27: 8 observations\n",
      "  mean=11.33125, MSE=2.127211 \n",
      "\n",
      "Node number 40: 49 observations,    complexity param=0.01121466\n",
      "  mean=5.777143, MSE=2.093261 \n",
      "  left son=80 (18 obs) right son=81 (31 obs)\n",
      "  Primary splits:\n",
      "      ShelveLoc   splits as  L-R,       improve=0.21776390, (0 missing)\n",
      "      Price       < 106.5 to the right, improve=0.16006270, (0 missing)\n",
      "      Education   < 12.5  to the left,  improve=0.08380688, (0 missing)\n",
      "      Age         < 56.5  to the left,  improve=0.07904982, (0 missing)\n",
      "      Advertising < 8.5   to the left,  improve=0.04723938, (0 missing)\n",
      "  Surrogate splits:\n",
      "      CompPrice < 122.5 to the right, agree=0.694, adj=0.167, (0 split)\n",
      "      Income    < 88.5  to the right, agree=0.673, adj=0.111, (0 split)\n",
      "      Age       < 56.5  to the left,  agree=0.673, adj=0.111, (0 split)\n",
      "      Price     < 91.5  to the left,  agree=0.653, adj=0.056, (0 split)\n",
      "\n",
      "Node number 41: 16 observations\n",
      "  mean=7.483125, MSE=2.074684 \n",
      "\n",
      "Node number 46: 21 observations\n",
      "  mean=8.373333, MSE=1.712794 \n",
      "\n",
      "Node number 47: 17 observations\n",
      "  mean=10.33118, MSE=3.846881 \n",
      "\n",
      "Node number 80: 18 observations\n",
      "  mean=4.891111, MSE=1.751577 \n",
      "\n",
      "Node number 81: 31 observations\n",
      "  mean=6.291613, MSE=1.571143 \n",
      "\n"
     ]
    }
   ],
   "source": [
    "summary(cart_dt3)"
   ]
  },
  {
   "cell_type": "code",
   "execution_count": 158,
   "id": "5770176d-e493-49e6-9135-b478849daec2",
   "metadata": {},
   "outputs": [
    {
     "data": {
      "text/html": [
       "<style>\n",
       ".dl-inline {width: auto; margin:0; padding: 0}\n",
       ".dl-inline>dt, .dl-inline>dd {float: none; width: auto; display: inline-block}\n",
       ".dl-inline>dt::after {content: \":\\0020\"; padding-right: .5ex}\n",
       ".dl-inline>dt:not(:first-of-type) {padding-left: .5ex}\n",
       "</style><dl class=dl-inline><dt>ShelveLoc</dt><dd>594.315238064755</dd><dt>Price</dt><dd>510.51560759344</dd><dt>CompPrice</dt><dd>197.849562215376</dd><dt>Age</dt><dd>165.24236112059</dd><dt>Income</dt><dd>149.897084829093</dd><dt>Advertising</dt><dd>50.0053863311585</dd><dt>Population</dt><dd>36.4797585828178</dd><dt>Education</dt><dd>31.4413222583925</dd><dt>US</dt><dd>12.9782069749836</dd><dt>Urban</dt><dd>12.1604481787486</dd></dl>\n"
      ],
      "text/latex": [
       "\\begin{description*}\n",
       "\\item[ShelveLoc] 594.315238064755\n",
       "\\item[Price] 510.51560759344\n",
       "\\item[CompPrice] 197.849562215376\n",
       "\\item[Age] 165.24236112059\n",
       "\\item[Income] 149.897084829093\n",
       "\\item[Advertising] 50.0053863311585\n",
       "\\item[Population] 36.4797585828178\n",
       "\\item[Education] 31.4413222583925\n",
       "\\item[US] 12.9782069749836\n",
       "\\item[Urban] 12.1604481787486\n",
       "\\end{description*}\n"
      ],
      "text/markdown": [
       "ShelveLoc\n",
       ":   594.315238064755Price\n",
       ":   510.51560759344CompPrice\n",
       ":   197.849562215376Age\n",
       ":   165.24236112059Income\n",
       ":   149.897084829093Advertising\n",
       ":   50.0053863311585Population\n",
       ":   36.4797585828178Education\n",
       ":   31.4413222583925US\n",
       ":   12.9782069749836Urban\n",
       ":   12.1604481787486\n",
       "\n"
      ],
      "text/plain": [
       "  ShelveLoc       Price   CompPrice         Age      Income Advertising \n",
       "  594.31524   510.51561   197.84956   165.24236   149.89708    50.00539 \n",
       " Population   Education          US       Urban \n",
       "   36.47976    31.44132    12.97821    12.16045 "
      ]
     },
     "metadata": {},
     "output_type": "display_data"
    }
   ],
   "source": [
    "cart_dt3$variable.importance"
   ]
  },
  {
   "cell_type": "code",
   "execution_count": 159,
   "id": "0ae9605a-fcf0-4d71-9119-850edb333515",
   "metadata": {},
   "outputs": [
    {
     "data": {
      "text/html": [
       "<table class=\"dataframe\">\n",
       "<caption>A matrix: 13 × 5 of type dbl</caption>\n",
       "<thead>\n",
       "\t<tr><th></th><th scope=col>CP</th><th scope=col>nsplit</th><th scope=col>rel error</th><th scope=col>xerror</th><th scope=col>xstd</th></tr>\n",
       "</thead>\n",
       "<tbody>\n",
       "\t<tr><th scope=row>1</th><td>0.28718446</td><td> 0</td><td>1.0000000</td><td>1.0049634</td><td>0.09317580</td></tr>\n",
       "\t<tr><th scope=row>2</th><td>0.09079237</td><td> 1</td><td>0.7128155</td><td>0.7237491</td><td>0.06357243</td></tr>\n",
       "\t<tr><th scope=row>3</th><td>0.08374733</td><td> 2</td><td>0.6220232</td><td>0.7395989</td><td>0.06172782</td></tr>\n",
       "\t<tr><th scope=row>4</th><td>0.05969724</td><td> 3</td><td>0.5382758</td><td>0.6067556</td><td>0.05264454</td></tr>\n",
       "\t<tr><th scope=row>5</th><td>0.04151085</td><td> 4</td><td>0.4785786</td><td>0.6278392</td><td>0.05774770</td></tr>\n",
       "\t<tr><th scope=row>6</th><td>0.02667906</td><td> 5</td><td>0.4370677</td><td>0.6064115</td><td>0.05758255</td></tr>\n",
       "\t<tr><th scope=row>7</th><td>0.02488062</td><td> 6</td><td>0.4103887</td><td>0.6312337</td><td>0.05682588</td></tr>\n",
       "\t<tr><th scope=row>8</th><td>0.01809132</td><td> 7</td><td>0.3855081</td><td>0.6386965</td><td>0.05893900</td></tr>\n",
       "\t<tr><th scope=row>9</th><td>0.01808094</td><td> 9</td><td>0.3493254</td><td>0.6256794</td><td>0.05913031</td></tr>\n",
       "\t<tr><th scope=row>10</th><td>0.01762513</td><td>10</td><td>0.3312445</td><td>0.6256794</td><td>0.05913031</td></tr>\n",
       "\t<tr><th scope=row>11</th><td>0.01121466</td><td>11</td><td>0.3136194</td><td>0.6216039</td><td>0.06065912</td></tr>\n",
       "\t<tr><th scope=row>12</th><td>0.01063878</td><td>12</td><td>0.3024047</td><td>0.6198450</td><td>0.05971397</td></tr>\n",
       "\t<tr><th scope=row>13</th><td>0.01000000</td><td>13</td><td>0.2917659</td><td>0.6190801</td><td>0.05972973</td></tr>\n",
       "</tbody>\n",
       "</table>\n"
      ],
      "text/latex": [
       "A matrix: 13 × 5 of type dbl\n",
       "\\begin{tabular}{r|lllll}\n",
       "  & CP & nsplit & rel error & xerror & xstd\\\\\n",
       "\\hline\n",
       "\t1 & 0.28718446 &  0 & 1.0000000 & 1.0049634 & 0.09317580\\\\\n",
       "\t2 & 0.09079237 &  1 & 0.7128155 & 0.7237491 & 0.06357243\\\\\n",
       "\t3 & 0.08374733 &  2 & 0.6220232 & 0.7395989 & 0.06172782\\\\\n",
       "\t4 & 0.05969724 &  3 & 0.5382758 & 0.6067556 & 0.05264454\\\\\n",
       "\t5 & 0.04151085 &  4 & 0.4785786 & 0.6278392 & 0.05774770\\\\\n",
       "\t6 & 0.02667906 &  5 & 0.4370677 & 0.6064115 & 0.05758255\\\\\n",
       "\t7 & 0.02488062 &  6 & 0.4103887 & 0.6312337 & 0.05682588\\\\\n",
       "\t8 & 0.01809132 &  7 & 0.3855081 & 0.6386965 & 0.05893900\\\\\n",
       "\t9 & 0.01808094 &  9 & 0.3493254 & 0.6256794 & 0.05913031\\\\\n",
       "\t10 & 0.01762513 & 10 & 0.3312445 & 0.6256794 & 0.05913031\\\\\n",
       "\t11 & 0.01121466 & 11 & 0.3136194 & 0.6216039 & 0.06065912\\\\\n",
       "\t12 & 0.01063878 & 12 & 0.3024047 & 0.6198450 & 0.05971397\\\\\n",
       "\t13 & 0.01000000 & 13 & 0.2917659 & 0.6190801 & 0.05972973\\\\\n",
       "\\end{tabular}\n"
      ],
      "text/markdown": [
       "\n",
       "A matrix: 13 × 5 of type dbl\n",
       "\n",
       "| <!--/--> | CP | nsplit | rel error | xerror | xstd |\n",
       "|---|---|---|---|---|---|\n",
       "| 1 | 0.28718446 |  0 | 1.0000000 | 1.0049634 | 0.09317580 |\n",
       "| 2 | 0.09079237 |  1 | 0.7128155 | 0.7237491 | 0.06357243 |\n",
       "| 3 | 0.08374733 |  2 | 0.6220232 | 0.7395989 | 0.06172782 |\n",
       "| 4 | 0.05969724 |  3 | 0.5382758 | 0.6067556 | 0.05264454 |\n",
       "| 5 | 0.04151085 |  4 | 0.4785786 | 0.6278392 | 0.05774770 |\n",
       "| 6 | 0.02667906 |  5 | 0.4370677 | 0.6064115 | 0.05758255 |\n",
       "| 7 | 0.02488062 |  6 | 0.4103887 | 0.6312337 | 0.05682588 |\n",
       "| 8 | 0.01809132 |  7 | 0.3855081 | 0.6386965 | 0.05893900 |\n",
       "| 9 | 0.01808094 |  9 | 0.3493254 | 0.6256794 | 0.05913031 |\n",
       "| 10 | 0.01762513 | 10 | 0.3312445 | 0.6256794 | 0.05913031 |\n",
       "| 11 | 0.01121466 | 11 | 0.3136194 | 0.6216039 | 0.06065912 |\n",
       "| 12 | 0.01063878 | 12 | 0.3024047 | 0.6198450 | 0.05971397 |\n",
       "| 13 | 0.01000000 | 13 | 0.2917659 | 0.6190801 | 0.05972973 |\n",
       "\n"
      ],
      "text/plain": [
       "   CP         nsplit rel error xerror    xstd      \n",
       "1  0.28718446  0     1.0000000 1.0049634 0.09317580\n",
       "2  0.09079237  1     0.7128155 0.7237491 0.06357243\n",
       "3  0.08374733  2     0.6220232 0.7395989 0.06172782\n",
       "4  0.05969724  3     0.5382758 0.6067556 0.05264454\n",
       "5  0.04151085  4     0.4785786 0.6278392 0.05774770\n",
       "6  0.02667906  5     0.4370677 0.6064115 0.05758255\n",
       "7  0.02488062  6     0.4103887 0.6312337 0.05682588\n",
       "8  0.01809132  7     0.3855081 0.6386965 0.05893900\n",
       "9  0.01808094  9     0.3493254 0.6256794 0.05913031\n",
       "10 0.01762513 10     0.3312445 0.6256794 0.05913031\n",
       "11 0.01121466 11     0.3136194 0.6216039 0.06065912\n",
       "12 0.01063878 12     0.3024047 0.6198450 0.05971397\n",
       "13 0.01000000 13     0.2917659 0.6190801 0.05972973"
      ]
     },
     "metadata": {},
     "output_type": "display_data"
    },
    {
     "name": "stdout",
     "output_type": "stream",
     "text": [
      "\n",
      "Regression tree:\n",
      "rpart(formula = Sales ~ ., data = train_dt3)\n",
      "\n",
      "Variables actually used in tree construction:\n",
      "[1] Age       CompPrice Income    Price     ShelveLoc\n",
      "\n",
      "Root node error: 1991.7/240 = 8.2987\n",
      "\n",
      "n= 240 \n",
      "\n",
      "         CP nsplit rel error  xerror     xstd\n",
      "1  0.287184      0   1.00000 1.00496 0.093176\n",
      "2  0.090792      1   0.71282 0.72375 0.063572\n",
      "3  0.083747      2   0.62202 0.73960 0.061728\n",
      "4  0.059697      3   0.53828 0.60676 0.052645\n",
      "5  0.041511      4   0.47858 0.62784 0.057748\n",
      "6  0.026679      5   0.43707 0.60641 0.057583\n",
      "7  0.024881      6   0.41039 0.63123 0.056826\n",
      "8  0.018091      7   0.38551 0.63870 0.058939\n",
      "9  0.018081      9   0.34933 0.62568 0.059130\n",
      "10 0.017625     10   0.33124 0.62568 0.059130\n",
      "11 0.011215     11   0.31362 0.62160 0.060659\n",
      "12 0.010639     12   0.30240 0.61984 0.059714\n",
      "13 0.010000     13   0.29177 0.61908 0.059730\n"
     ]
    },
    {
     "data": {
      "image/png": "[encoded data removed]",
      "text/plain": [
       "plot without title"
      ]
     },
     "metadata": {
      "image/png": {
       "height": 420,
       "width": 420
      }
     },
     "output_type": "display_data"
    }
   ],
   "source": [
    "cart_dt3$cptable  ##complexity parameter \n",
    "printcp(cart_dt3)\n",
    "plotcp(cart_dt3)"
   ]
  },
  {
   "cell_type": "markdown",
   "id": "dbff4332-ea94-472f-b8ca-9735d933d169",
   "metadata": {},
   "source": [
    "- cp=0.065 채택"
   ]
  },
  {
   "cell_type": "code",
   "execution_count": 160,
   "id": "8fbae5f2-ec93-43ca-abf7-f87ef1de29ee",
   "metadata": {},
   "outputs": [],
   "source": [
    "cart_yhat <- predict(cart_dt3, newdata = test_dt3)"
   ]
  },
  {
   "cell_type": "code",
   "execution_count": 161,
   "id": "06266e9f-d637-47e0-a83f-fb4b5be5d6b1",
   "metadata": {},
   "outputs": [
    {
     "data": {
      "text/html": [
       "4.58114109335836"
      ],
      "text/latex": [
       "4.58114109335836"
      ],
      "text/markdown": [
       "4.58114109335836"
      ],
      "text/plain": [
       "[1] 4.581141"
      ]
     },
     "metadata": {},
     "output_type": "display_data"
    }
   ],
   "source": [
    "mean((cart_yhat-test_dt3$Sales)^2)"
   ]
  },
  {
   "cell_type": "markdown",
   "id": "a836a1b3-02cb-4529-867e-8ea7c9fae2ed",
   "metadata": {},
   "source": [
    "##### (c)\n",
    "tree의 complexity를 고려하여 가지치기를 시행하여라. 가지치기 시행으로 test MSE는 향상되었는가?"
   ]
  },
  {
   "cell_type": "markdown",
   "id": "11802d6b-75d7-44f4-86d5-fde2f69dc1a2",
   "metadata": {},
   "source": [
    "###### tree함수로 한거"
   ]
  },
  {
   "cell_type": "code",
   "execution_count": 122,
   "id": "1175b1fa-7439-405a-b06b-c7949b7297bc",
   "metadata": {},
   "outputs": [
    {
     "data": {
      "text/plain": [
       "$size\n",
       " [1] 15 14 13 12 11 10  8  7  6  5  4  3  2  1\n",
       "\n",
       "$dev\n",
       " [1] 1192.136 1191.730 1191.730 1208.592 1144.229 1175.174 1175.174 1160.314\n",
       " [9] 1222.385 1236.727 1381.659 1461.555 1481.733 2050.289\n",
       "\n",
       "$k\n",
       " [1]      -Inf  21.17523  21.18904  23.13336  31.54562  36.01143  36.03209\n",
       " [8]  49.55421  75.18473  82.67628 118.89773 166.79779 180.82926 571.97924\n",
       "\n",
       "$method\n",
       "[1] \"deviance\"\n",
       "\n",
       "attr(,\"class\")\n",
       "[1] \"prune\"         \"tree.sequence\""
      ]
     },
     "metadata": {},
     "output_type": "display_data"
    }
   ],
   "source": [
    "cv_dt3 <- cv.tree(tree_dt3,FUN = prune.tree, K=10)\n",
    "cv_dt3"
   ]
  },
  {
   "cell_type": "code",
   "execution_count": 125,
   "id": "1ee997cc-77e0-4c7e-bdae-067462c9ff3b",
   "metadata": {},
   "outputs": [
    {
     "data": {
      "image/png": "[encoded data removed]",
      "text/plain": [
       "plot without title"
      ]
     },
     "metadata": {
      "image/png": {
       "height": 420,
       "width": 420
      }
     },
     "output_type": "display_data"
    }
   ],
   "source": [
    "plot(cv_dt3)"
   ]
  },
  {
   "cell_type": "code",
   "execution_count": 124,
   "id": "a7f2510b-8833-44fa-9ebb-4894b666b349",
   "metadata": {},
   "outputs": [
    {
     "data": {
      "image/png": "[encoded data removed]",
      "text/plain": [
       "plot without title"
      ]
     },
     "metadata": {
      "image/png": {
       "height": 420,
       "width": 420
      }
     },
     "output_type": "display_data"
    }
   ],
   "source": [
    "par(mfrow = c(2,1))\n",
    "plot(cv_dt3$size, cv_dt3$dev, type = \"b\")\n",
    "plot(cv_dt3$k, cv_dt3$dev, type = \"b\")"
   ]
  },
  {
   "cell_type": "markdown",
   "id": "e0ec284b-83b2-4826-9281-78f24817bd31",
   "metadata": {},
   "source": [
    "- 터미널 노드=7로 결정"
   ]
  },
  {
   "cell_type": "code",
   "execution_count": 133,
   "id": "8b4804b3-f59b-4554-ae46-f39b220eb106",
   "metadata": {},
   "outputs": [
    {
     "data": {
      "image/png": "[encoded data removed]",
      "text/plain": [
       "plot without title"
      ]
     },
     "metadata": {
      "image/png": {
       "height": 420,
       "width": 420
      }
     },
     "output_type": "display_data"
    }
   ],
   "source": [
    "fin.tree_dt3 <- prune.tree(tree_dt3, best=7)\n",
    "plot(fin.tree_dt3)\n",
    "text(fin.tree_dt3)"
   ]
  },
  {
   "cell_type": "code",
   "execution_count": 164,
   "id": "04ae9bd1-f5b3-426e-9954-d41517b80bf6",
   "metadata": {},
   "outputs": [],
   "source": [
    "fin.tree_yhat <- predict(fin.tree_dt3 , newdata = test_dt3)"
   ]
  },
  {
   "cell_type": "code",
   "execution_count": 165,
   "id": "66a556e0-0035-4d96-b6b6-7fc16095af88",
   "metadata": {},
   "outputs": [
    {
     "data": {
      "text/html": [
       "5.34749674040901"
      ],
      "text/latex": [
       "5.34749674040901"
      ],
      "text/markdown": [
       "5.34749674040901"
      ],
      "text/plain": [
       "[1] 5.347497"
      ]
     },
     "metadata": {},
     "output_type": "display_data"
    }
   ],
   "source": [
    "mean((fin.tree_yhat-test_dt3$Sales)^2)"
   ]
  },
  {
   "cell_type": "markdown",
   "id": "7d250ddb-44d0-4750-b324-eaf06b6b7300",
   "metadata": {},
   "source": [
    "###### rpart함수로 한거"
   ]
  },
  {
   "cell_type": "code",
   "execution_count": 163,
   "id": "bebd04b1-b66d-4faf-a01d-899c72c5b1a2",
   "metadata": {},
   "outputs": [
    {
     "data": {
      "image/png": "[encoded data removed]",
      "text/plain": [
       "Plot with title “Classification using CART”"
      ]
     },
     "metadata": {
      "image/png": {
       "height": 420,
       "width": 420
      }
     },
     "output_type": "display_data"
    }
   ],
   "source": [
    "prune_cart_dt3 <- rpart(Sales ~ ., data=train_dt3,\n",
    "                  control = rpart.control(cp = 0.065))\n",
    "             \n",
    "\n",
    "rpart.plot(prune_cart_dt3, main = \"Classification using CART\")"
   ]
  },
  {
   "cell_type": "code",
   "execution_count": 168,
   "id": "accfdbad-7c63-4e33-bb56-6f76c4dec41d",
   "metadata": {},
   "outputs": [
    {
     "data": {
      "text/html": [
       "5.57866516478996"
      ],
      "text/latex": [
       "5.57866516478996"
      ],
      "text/markdown": [
       "5.57866516478996"
      ],
      "text/plain": [
       "[1] 5.578665"
      ]
     },
     "metadata": {},
     "output_type": "display_data"
    }
   ],
   "source": [
    "cart_yhat <- predict(prune_cart_dt3, newdata = test_dt3)\n",
    "mean((cart_yhat-test_dt3$Sales)^2)"
   ]
  },
  {
   "cell_type": "markdown",
   "id": "d3f136a9-4ae3-4204-b357-83997af481d0",
   "metadata": {},
   "source": [
    "- 오히려 MSE가 증가함..."
   ]
  },
  {
   "cell_type": "markdown",
   "id": "2a2426c2-f4c2-4de1-9cf2-a8f1f4b2f556",
   "metadata": {},
   "source": [
    "##### (d)\n",
    "Bagging을 시행하여라. tets MSE는 얼마인가?"
   ]
  },
  {
   "cell_type": "code",
   "execution_count": 174,
   "id": "8367758a-c20f-4145-a69c-a9c222805518",
   "metadata": {},
   "outputs": [],
   "source": [
    "bagg_dt3<- ipredbagg(train_dt3$Sales, \n",
    "                     train_dt3[,-1],\n",
    "                     nbagg=1000, \n",
    "                     coob=T)  "
   ]
  },
  {
   "cell_type": "code",
   "execution_count": 175,
   "id": "c3f813ee-0908-4e5c-9d7e-b7b96cb82b5a",
   "metadata": {},
   "outputs": [
    {
     "data": {
      "text/plain": [
       "\n",
       "Bagging regression trees with 1000 bootstrap replications \n",
       "Out-of-bag estimate of root mean squared error:  1.7935 \n"
      ]
     },
     "metadata": {},
     "output_type": "display_data"
    },
    {
     "data": {
      "text/html": [
       "1.79351713227674"
      ],
      "text/latex": [
       "1.79351713227674"
      ],
      "text/markdown": [
       "1.79351713227674"
      ],
      "text/plain": [
       "[1] 1.793517"
      ]
     },
     "metadata": {},
     "output_type": "display_data"
    }
   ],
   "source": [
    "bagg_dt3\n",
    "bagg_dt3$err"
   ]
  },
  {
   "cell_type": "code",
   "execution_count": 176,
   "id": "557389eb-12da-42d7-ad6a-999dd3c1c2f4",
   "metadata": {},
   "outputs": [
    {
     "data": {
      "text/html": [
       "3.02285692923486"
      ],
      "text/latex": [
       "3.02285692923486"
      ],
      "text/markdown": [
       "3.02285692923486"
      ],
      "text/plain": [
       "[1] 3.022857"
      ]
     },
     "metadata": {},
     "output_type": "display_data"
    }
   ],
   "source": [
    "bagg_yhat<-predict(bagg_dt3, \n",
    "              newdata = test_dt3)\n",
    "mean((bagg_yhat-test_dt3$Sales)^2)"
   ]
  },
  {
   "cell_type": "markdown",
   "id": "85b50fd9-39a3-443b-a625-7aee427bd300",
   "metadata": {
    "toc-hr-collapsed": true
   },
   "source": [
    "##### (e)\n",
    "Random Forest를 시행하여라. tets MSE는 얼마인가? 변수중요도를 수하여라. m = 1, 10을 포함하여 m값을 변화시키면서 tets MSE를 비교하고, 이 때 m의 효과를 설명하여라."
   ]
  },
  {
   "cell_type": "code",
   "execution_count": 177,
   "id": "b4f6f606-ffbc-4244-87b9-d3b4643dd02f",
   "metadata": {},
   "outputs": [
    {
     "data": {
      "text/html": [
       "<style>\n",
       ".list-inline {list-style: none; margin:0; padding: 0}\n",
       ".list-inline>li {display: inline-block}\n",
       ".list-inline>li:not(:last-child)::after {content: \"\\00b7\"; padding: 0 .5ex}\n",
       "</style>\n",
       "<ol class=list-inline><li>'Advertising'</li><li>'Age'</li><li>'CompPrice'</li><li>'Education'</li><li>'Income'</li><li>'Population'</li><li>'Price'</li><li>'Sales'</li><li>'ShelveLoc'</li><li>'Urban'</li><li>'US'</li></ol>\n"
      ],
      "text/latex": [
       "\\begin{enumerate*}\n",
       "\\item 'Advertising'\n",
       "\\item 'Age'\n",
       "\\item 'CompPrice'\n",
       "\\item 'Education'\n",
       "\\item 'Income'\n",
       "\\item 'Population'\n",
       "\\item 'Price'\n",
       "\\item 'Sales'\n",
       "\\item 'ShelveLoc'\n",
       "\\item 'Urban'\n",
       "\\item 'US'\n",
       "\\end{enumerate*}\n"
      ],
      "text/markdown": [
       "1. 'Advertising'\n",
       "2. 'Age'\n",
       "3. 'CompPrice'\n",
       "4. 'Education'\n",
       "5. 'Income'\n",
       "6. 'Population'\n",
       "7. 'Price'\n",
       "8. 'Sales'\n",
       "9. 'ShelveLoc'\n",
       "10. 'Urban'\n",
       "11. 'US'\n",
       "\n",
       "\n"
      ],
      "text/plain": [
       " [1] \"Advertising\" \"Age\"         \"CompPrice\"   \"Education\"   \"Income\"     \n",
       " [6] \"Population\"  \"Price\"       \"Sales\"       \"ShelveLoc\"   \"Urban\"      \n",
       "[11] \"US\"         "
      ]
     },
     "metadata": {},
     "output_type": "display_data"
    }
   ],
   "source": [
    "ls(dt3)"
   ]
  },
  {
   "cell_type": "code",
   "execution_count": 272,
   "id": "7eac60ee-c6f3-4e38-bf2c-220b8fff3790",
   "metadata": {},
   "outputs": [],
   "source": [
    "rf_dt3 <- randomForest(Sales ~ ., \n",
    "                          data = train_dt3,\n",
    "                          ntree=500,\n",
    "                          mtry = 3, \n",
    "                          importance = TRUE,\n",
    "                          xtest=test_dt3[,-1], \n",
    "                          ytest=test_dt3$Sales\n",
    "                        )\n",
    "#tree는 default값, mtry=10/3=3"
   ]
  },
  {
   "cell_type": "code",
   "execution_count": 285,
   "id": "34d15fd6-6618-4dc4-aae0-8bdb772deb66",
   "metadata": {},
   "outputs": [
    {
     "data": {
      "text/html": [
       "160"
      ],
      "text/latex": [
       "160"
      ],
      "text/markdown": [
       "160"
      ],
      "text/plain": [
       "[1] 160"
      ]
     },
     "metadata": {},
     "output_type": "display_data"
    }
   ],
   "source": [
    "nrow(test_dt3[,-grep('Sales', names(train_dt3))])"
   ]
  },
  {
   "cell_type": "code",
   "execution_count": 286,
   "id": "36f32a87-e6b6-4e89-adee-b66026c3efce",
   "metadata": {},
   "outputs": [
    {
     "data": {
      "text/html": [
       "160"
      ],
      "text/latex": [
       "160"
      ],
      "text/markdown": [
       "160"
      ],
      "text/plain": [
       "[1] 160"
      ]
     },
     "metadata": {},
     "output_type": "display_data"
    }
   ],
   "source": [
    "nrow(test_dt3[,-1])"
   ]
  },
  {
   "cell_type": "code",
   "execution_count": 288,
   "id": "202ce7e8-737f-48cc-86b8-1964ae4354a3",
   "metadata": {},
   "outputs": [
    {
     "data": {
      "text/html": [
       "160"
      ],
      "text/latex": [
       "160"
      ],
      "text/markdown": [
       "160"
      ],
      "text/plain": [
       "[1] 160"
      ]
     },
     "metadata": {},
     "output_type": "display_data"
    }
   ],
   "source": [
    "nrow(subset(test_dt3, select=-Sales))"
   ]
  },
  {
   "cell_type": "code",
   "execution_count": 273,
   "id": "5ddc7c46-0fd7-430a-83b3-1269493f0fa9",
   "metadata": {},
   "outputs": [
    {
     "data": {
      "text/plain": [
       "\n",
       "Call:\n",
       " randomForest(formula = Sales ~ ., data = train_dt3, ntree = 500,      mtry = 3, importance = TRUE, xtest = test_dt3[, -1], ytest = test_dt3$Sales) \n",
       "               Type of random forest: regression\n",
       "                     Number of trees: 500\n",
       "No. of variables tried at each split: 3\n",
       "\n",
       "          Mean of squared residuals: 3.17909\n",
       "                    % Var explained: 61.69\n",
       "                       Test set MSE: 2.52\n",
       "                    % Var explained: 66.18"
      ]
     },
     "metadata": {},
     "output_type": "display_data"
    }
   ],
   "source": [
    "rf_dt3"
   ]
  },
  {
   "cell_type": "code",
   "execution_count": 274,
   "id": "bebc9b01-20b5-4bcd-876e-d42881fc5608",
   "metadata": {},
   "outputs": [
    {
     "data": {
      "text/html": [
       "2.51569933361617"
      ],
      "text/latex": [
       "2.51569933361617"
      ],
      "text/markdown": [
       "2.51569933361617"
      ],
      "text/plain": [
       "[1] 2.515699"
      ]
     },
     "metadata": {},
     "output_type": "display_data"
    }
   ],
   "source": [
    "rf_yhat <- rf_dt3$test$predicted \n",
    "mean((rf_yhat-test_dt3$Sales)^2)"
   ]
  },
  {
   "cell_type": "markdown",
   "id": "cab5bf5d-842c-4f45-9d4c-0bed8624dcd4",
   "metadata": {},
   "source": [
    "`-` 지금까지 test mse중 가장 작다."
   ]
  },
  {
   "cell_type": "markdown",
   "id": "782f0dd7-9d6b-4e1d-82ec-c180745e23fd",
   "metadata": {},
   "source": [
    "- 변수중요도"
   ]
  },
  {
   "cell_type": "code",
   "execution_count": 275,
   "id": "5818a583-6b71-4a5d-b959-37ffcc226806",
   "metadata": {},
   "outputs": [
    {
     "data": {
      "text/html": [
       "<table class=\"dataframe\">\n",
       "<caption>A matrix: 10 × 2 of type dbl</caption>\n",
       "<thead>\n",
       "\t<tr><th></th><th scope=col>%IncMSE</th><th scope=col>IncNodePurity</th></tr>\n",
       "</thead>\n",
       "<tbody>\n",
       "\t<tr><th scope=row>CompPrice</th><td> 0.642369935</td><td>183.94439</td></tr>\n",
       "\t<tr><th scope=row>Income</th><td> 0.093683813</td><td>143.18937</td></tr>\n",
       "\t<tr><th scope=row>Advertising</th><td> 0.552449296</td><td>147.32821</td></tr>\n",
       "\t<tr><th scope=row>Population</th><td>-0.032227587</td><td>122.09938</td></tr>\n",
       "\t<tr><th scope=row>Price</th><td> 3.078087541</td><td>468.95189</td></tr>\n",
       "\t<tr><th scope=row>ShelveLoc</th><td> 3.973171994</td><td>489.74896</td></tr>\n",
       "\t<tr><th scope=row>Age</th><td> 0.596036294</td><td>195.40565</td></tr>\n",
       "\t<tr><th scope=row>Education</th><td> 0.170629328</td><td> 98.54860</td></tr>\n",
       "\t<tr><th scope=row>Urban</th><td>-0.004312315</td><td> 18.66009</td></tr>\n",
       "\t<tr><th scope=row>US</th><td> 0.028852212</td><td> 19.28311</td></tr>\n",
       "</tbody>\n",
       "</table>\n"
      ],
      "text/latex": [
       "A matrix: 10 × 2 of type dbl\n",
       "\\begin{tabular}{r|ll}\n",
       "  & \\%IncMSE & IncNodePurity\\\\\n",
       "\\hline\n",
       "\tCompPrice &  0.642369935 & 183.94439\\\\\n",
       "\tIncome &  0.093683813 & 143.18937\\\\\n",
       "\tAdvertising &  0.552449296 & 147.32821\\\\\n",
       "\tPopulation & -0.032227587 & 122.09938\\\\\n",
       "\tPrice &  3.078087541 & 468.95189\\\\\n",
       "\tShelveLoc &  3.973171994 & 489.74896\\\\\n",
       "\tAge &  0.596036294 & 195.40565\\\\\n",
       "\tEducation &  0.170629328 &  98.54860\\\\\n",
       "\tUrban & -0.004312315 &  18.66009\\\\\n",
       "\tUS &  0.028852212 &  19.28311\\\\\n",
       "\\end{tabular}\n"
      ],
      "text/markdown": [
       "\n",
       "A matrix: 10 × 2 of type dbl\n",
       "\n",
       "| <!--/--> | %IncMSE | IncNodePurity |\n",
       "|---|---|---|\n",
       "| CompPrice |  0.642369935 | 183.94439 |\n",
       "| Income |  0.093683813 | 143.18937 |\n",
       "| Advertising |  0.552449296 | 147.32821 |\n",
       "| Population | -0.032227587 | 122.09938 |\n",
       "| Price |  3.078087541 | 468.95189 |\n",
       "| ShelveLoc |  3.973171994 | 489.74896 |\n",
       "| Age |  0.596036294 | 195.40565 |\n",
       "| Education |  0.170629328 |  98.54860 |\n",
       "| Urban | -0.004312315 |  18.66009 |\n",
       "| US |  0.028852212 |  19.28311 |\n",
       "\n"
      ],
      "text/plain": [
       "            %IncMSE      IncNodePurity\n",
       "CompPrice    0.642369935 183.94439    \n",
       "Income       0.093683813 143.18937    \n",
       "Advertising  0.552449296 147.32821    \n",
       "Population  -0.032227587 122.09938    \n",
       "Price        3.078087541 468.95189    \n",
       "ShelveLoc    3.973171994 489.74896    \n",
       "Age          0.596036294 195.40565    \n",
       "Education    0.170629328  98.54860    \n",
       "Urban       -0.004312315  18.66009    \n",
       "US           0.028852212  19.28311    "
      ]
     },
     "metadata": {},
     "output_type": "display_data"
    },
    {
     "data": {
      "text/html": [
       "<style>\n",
       ".dl-inline {width: auto; margin:0; padding: 0}\n",
       ".dl-inline>dt, .dl-inline>dd {float: none; width: auto; display: inline-block}\n",
       ".dl-inline>dt::after {content: \":\\0020\"; padding-right: .5ex}\n",
       ".dl-inline>dt:not(:first-of-type) {padding-left: .5ex}\n",
       "</style><dl class=dl-inline><dt>CompPrice</dt><dd>0.0489033812826878</dd><dt>Income</dt><dd>0.0379255817868071</dd><dt>Advertising</dt><dd>0.0446739735282792</dd><dt>Population</dt><dd>0.0312856445360422</dd><dt>Price</dt><dd>0.0795209445932215</dd><dt>ShelveLoc</dt><dd>0.0902353881924754</dd><dt>Age</dt><dd>0.046066640605116</dd><dt>Education</dt><dd>0.0327401996374652</dd><dt>Urban</dt><dd>0.0141184374577231</dd><dt>US</dt><dd>0.0184376949672347</dd></dl>\n"
      ],
      "text/latex": [
       "\\begin{description*}\n",
       "\\item[CompPrice] 0.0489033812826878\n",
       "\\item[Income] 0.0379255817868071\n",
       "\\item[Advertising] 0.0446739735282792\n",
       "\\item[Population] 0.0312856445360422\n",
       "\\item[Price] 0.0795209445932215\n",
       "\\item[ShelveLoc] 0.0902353881924754\n",
       "\\item[Age] 0.046066640605116\n",
       "\\item[Education] 0.0327401996374652\n",
       "\\item[Urban] 0.0141184374577231\n",
       "\\item[US] 0.0184376949672347\n",
       "\\end{description*}\n"
      ],
      "text/markdown": [
       "CompPrice\n",
       ":   0.0489033812826878Income\n",
       ":   0.0379255817868071Advertising\n",
       ":   0.0446739735282792Population\n",
       ":   0.0312856445360422Price\n",
       ":   0.0795209445932215ShelveLoc\n",
       ":   0.0902353881924754Age\n",
       ":   0.046066640605116Education\n",
       ":   0.0327401996374652Urban\n",
       ":   0.0141184374577231US\n",
       ":   0.0184376949672347\n",
       "\n"
      ],
      "text/plain": [
       "  CompPrice      Income Advertising  Population       Price   ShelveLoc \n",
       " 0.04890338  0.03792558  0.04467397  0.03128564  0.07952094  0.09023539 \n",
       "        Age   Education       Urban          US \n",
       " 0.04606664  0.03274020  0.01411844  0.01843769 "
      ]
     },
     "metadata": {},
     "output_type": "display_data"
    }
   ],
   "source": [
    "rf_dt3$importance\n",
    "rf_dt3$importanceSD"
   ]
  },
  {
   "cell_type": "code",
   "execution_count": 276,
   "id": "e382b5bc-1145-4210-a40b-5d22622c5819",
   "metadata": {},
   "outputs": [
    {
     "data": {
      "image/png": "[encoded data removed]",
      "text/plain": [
       "plot without title"
      ]
     },
     "metadata": {
      "image/png": {
       "height": 420,
       "width": 420
      }
     },
     "output_type": "display_data"
    }
   ],
   "source": [
    "par(mar = c(5.1, 6, 4.1, 2.1))\n",
    "#c(5.1, 4.1, 4.1, 2.1)## default\n",
    "par(mfrow=c(1,2))\n",
    "barplot(sort(importance(rf_dt3)[,\"%IncMSE\"], decreasing = T), \n",
    "        horiz = T,las=1,\n",
    "        col='skyblue',\n",
    "        xlab = \"MeanDecreaseAccuracy\")\n",
    "\n",
    "barplot(sort(importance(rf_dt3)[,\"IncNodePurity\"], decreasing = T), \n",
    "        horiz = T,las=1,\n",
    "        col='skyblue',\n",
    "        xlab = \"MeanDecreaseGini\")"
   ]
  },
  {
   "cell_type": "markdown",
   "id": "3e0d546a-4fcc-49ad-9b91-3ff3e633d05a",
   "metadata": {},
   "source": [
    "- m의 효과"
   ]
  },
  {
   "cell_type": "code",
   "execution_count": 277,
   "id": "a0cf7420-560b-4b7a-a869-b1ede85a6ec1",
   "metadata": {},
   "outputs": [],
   "source": [
    "mtry_rf_dt3 <- function(m){\n",
    "  return(randomForest(Sales ~ ., \n",
    "                      data = train_dt3,\n",
    "                      mtry = m)$mse)\n",
    "}"
   ]
  },
  {
   "cell_type": "code",
   "execution_count": 278,
   "id": "4e31187a-98fc-4c45-b616-4331e4edc1b4",
   "metadata": {},
   "outputs": [],
   "source": [
    "tmp_dt <- data.table( num_tree = 1:500,\n",
    "                      rf_1 = mtry_rf_dt3(1),\n",
    "                      rf_3 = rf_dt3$mse,\n",
    "                      rf_5 = mtry_rf_dt3(5),\n",
    "                      rf_7 = mtry_rf_dt3(7),\n",
    "                      rf_10 = mtry_rf_dt3(10),\n",
    "                      rf_test = rf_dt3$test$mse)"
   ]
  },
  {
   "cell_type": "code",
   "execution_count": 279,
   "id": "85d85db4-5654-4ddc-86aa-d2fafc43571f",
   "metadata": {},
   "outputs": [],
   "source": [
    "melt.tmp <- melt(tmp_dt, id=1)"
   ]
  },
  {
   "cell_type": "code",
   "execution_count": 280,
   "id": "207b0e0b-c0b8-4489-bcc8-de36e7144e83",
   "metadata": {},
   "outputs": [
    {
     "data": {
      "image/png": "[encoded data removed]",
      "text/plain": [
       "plot without title"
      ]
     },
     "metadata": {
      "image/png": {
       "height": 420,
       "width": 420
      }
     },
     "output_type": "display_data"
    }
   ],
   "source": [
    "ggplot(melt.tmp, aes(num_tree, value, col=variable)) + geom_line(lwd=1) +\n",
    "  labs(y='mse', col=\"\") + theme_bw()"
   ]
  },
  {
   "cell_type": "markdown",
   "id": "65f3e22b-9cb2-408d-91d3-0690bc2a2b62",
   "metadata": {},
   "source": [
    "`-` 설명변수를 1개만 썼을 때 성능이 너무 안좋고, 7개를 사용했을 때가 가장 낮음. test가 엄청 낮게 나왔다.. de-correlation효과보다는 개별 트리의 적합도가 감소하는 효과가 컸던 모양이다."
   ]
  },
  {
   "cell_type": "markdown",
   "id": "7d973f90-aef4-4839-af68-ee9ff8c91e07",
   "metadata": {
    "tags": []
   },
   "source": [
    "#### 4. \n",
    "**‘OJ.csv’ 데이터를 이용**"
   ]
  },
  {
   "cell_type": "code",
   "execution_count": 292,
   "id": "57dce1b2-cae8-4572-bea7-bfc8f11aaffa",
   "metadata": {},
   "outputs": [],
   "source": [
    "dt4<-OJ"
   ]
  },
  {
   "cell_type": "markdown",
   "id": "8e2095cb-c950-4904-9dbc-49895aebdc1d",
   "metadata": {
    "jp-MarkdownHeadingCollapsed": true,
    "tags": []
   },
   "source": [
    "##### (a)\n",
    "800개의 관측값으로 구성된 training data를 만들고, 나머지를 포함하는 testing data를 구성하여라."
   ]
  },
  {
   "cell_type": "markdown",
   "id": "0f2365fb-ca36-4262-9354-dcc5295cceff",
   "metadata": {},
   "source": [
    "##### (b) \n",
    "training data를 이용하여 반응변수를 Purchase로 하는 tree를 적합하여라. 결과를 설명하여라. training error는 얼마인가? terminal node의 갯수는 몇개인가?"
   ]
  },
  {
   "cell_type": "markdown",
   "id": "77b82c00-ffe9-4b91-b995-cc0c09b1123e",
   "metadata": {},
   "source": [
    "##### (c) \n",
    "tree의 그림을 그리고 결과를 설명하여라."
   ]
  },
  {
   "cell_type": "markdown",
   "id": "4505bf0b-f883-42b5-b6fb-d26b454f6c26",
   "metadata": {},
   "source": [
    "##### (d) \n",
    "testing data를 이용하여 예측을 하고, confusion matrix를 생성하여라. test error은 얼마인가?"
   ]
  },
  {
   "cell_type": "markdown",
   "id": "73a3bdb6-bf18-41a6-98e0-9a980e74eb48",
   "metadata": {},
   "source": [
    "##### (e) \n",
    "cptable 및 그림을 이용하여 최적의 tree를 구하여라."
   ]
  },
  {
   "cell_type": "markdown",
   "id": "80e2bbae-02cb-442c-87db-ce3a1ab83ddf",
   "metadata": {},
   "source": [
    "##### (f)\n",
    "가지치기 전/후 tree의 training error를 비교하여라."
   ]
  },
  {
   "cell_type": "markdown",
   "id": "51fd6b1e-8a8e-4641-afba-467631195f26",
   "metadata": {},
   "source": [
    "##### (g)\n",
    "가지치기 전/후 tree의 test error를 비교하여라"
   ]
  }
 ],
 "metadata": {
  "kernelspec": {
   "display_name": "R",
   "language": "R",
   "name": "ir"
  },
  "language_info": {
   "codemirror_mode": "r",
   "file_extension": ".r",
   "mimetype": "text/x-r-source",
   "name": "R",
   "pygments_lexer": "r",
   "version": "4.1.2"
  }
 },
 "nbformat": 4,
 "nbformat_minor": 5
}
