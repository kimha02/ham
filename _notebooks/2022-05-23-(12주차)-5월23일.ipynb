{
 "cells": [
  {
   "cell_type": "markdown",
   "id": "ab68b31f-9790-4b22-a34a-aaab2bda66aa",
   "metadata": {
    "id": "ab68b31f-9790-4b22-a34a-aaab2bda66aa",
    "tags": []
   },
   "source": [
    "# (12주차) 5월23일\n",
    "> CNN : MAXPOOL, dropout\n",
    "- toc:true\n",
    "- branch: master\n",
    "- badges: true\n",
    "- comments: true\n",
    "- author: 최규빈\n",
    "- categories : [Bigdata]"
   ]
  },
  {
   "cell_type": "markdown",
   "id": "01c91214-7727-4442-8c08-87f1c0f2f93f",
   "metadata": {
    "id": "01c91214-7727-4442-8c08-87f1c0f2f93f",
    "tags": []
   },
   "source": [
    "### imports"
   ]
  },
  {
   "cell_type": "code",
   "execution_count": 1,
   "id": "d4454a23-3b9d-4483-8450-cc3275c5182f",
   "metadata": {
    "id": "d4454a23-3b9d-4483-8450-cc3275c5182f"
   },
   "outputs": [],
   "source": [
    "import tensorflow as tf\n",
    "import tensorflow.experimental.numpy as tnp"
   ]
  },
  {
   "cell_type": "code",
   "execution_count": 2,
   "id": "abbc26d9-195d-4792-b0a8-f702baca62ae",
   "metadata": {
    "id": "abbc26d9-195d-4792-b0a8-f702baca62ae"
   },
   "outputs": [],
   "source": [
    "tnp.experimental_enable_numpy_behavior()"
   ]
  },
  {
   "cell_type": "code",
   "execution_count": 3,
   "id": "b5a5824a-a616-42c2-b451-d9c73642cf1f",
   "metadata": {
    "id": "b5a5824a-a616-42c2-b451-d9c73642cf1f"
   },
   "outputs": [],
   "source": [
    "import matplotlib.pyplot as plt\n",
    "import numpy as np"
   ]
  },
  {
   "cell_type": "markdown",
   "id": "03ee0f3c-2093-41d2-b888-e5d925e6f7d8",
   "metadata": {
    "id": "03ee0f3c-2093-41d2-b888-e5d925e6f7d8"
   },
   "source": [
    "### CNN"
   ]
  },
  {
   "cell_type": "markdown",
   "id": "6133c4a9-1f32-41e9-b464-1a7457c47004",
   "metadata": {
    "id": "6133c4a9-1f32-41e9-b464-1a7457c47004"
   },
   "source": [
    "#### CONV의 역할"
   ]
  },
  {
   "cell_type": "markdown",
   "id": "05fb71a9-8f1d-4fee-97c7-c61e1ce2b386",
   "metadata": {
    "id": "05fb71a9-8f1d-4fee-97c7-c61e1ce2b386"
   },
   "source": [
    "`-` 데이터생성 (그냥 흑백대비 데이터)"
   ]
  },
  {
   "cell_type": "code",
   "execution_count": 6,
   "id": "993b4d50-05f8-4c18-8da5-58d2c45e3de7",
   "metadata": {
    "id": "993b4d50-05f8-4c18-8da5-58d2c45e3de7",
    "outputId": "1028bf97-b501-48fd-8670-86ef3051f553"
   },
   "outputs": [
    {
     "data": {
      "text/plain": [
       "<tf.Tensor: shape=(50, 25), dtype=float64, numpy=\n",
       "array([[10., 10., 10., ..., 10., 10., 10.],\n",
       "       [10., 10., 10., ..., 10., 10., 10.],\n",
       "       [10., 10., 10., ..., 10., 10., 10.],\n",
       "       ...,\n",
       "       [10., 10., 10., ..., 10., 10., 10.],\n",
       "       [10., 10., 10., ..., 10., 10., 10.],\n",
       "       [10., 10., 10., ..., 10., 10., 10.]])>"
      ]
     },
     "execution_count": 6,
     "metadata": {},
     "output_type": "execute_result"
    }
   ],
   "source": [
    "_X1 = tnp.ones([50,25])*10 \n",
    "_X1"
   ]
  },
  {
   "cell_type": "code",
   "execution_count": 7,
   "id": "399e901f-2871-47b6-b5ca-7d038a32af5e",
   "metadata": {
    "id": "399e901f-2871-47b6-b5ca-7d038a32af5e",
    "outputId": "2b7ec567-e087-40e6-8601-a15373709a5c"
   },
   "outputs": [
    {
     "data": {
      "text/plain": [
       "<tf.Tensor: shape=(50, 25), dtype=float64, numpy=\n",
       "array([[0., 0., 0., ..., 0., 0., 0.],\n",
       "       [0., 0., 0., ..., 0., 0., 0.],\n",
       "       [0., 0., 0., ..., 0., 0., 0.],\n",
       "       ...,\n",
       "       [0., 0., 0., ..., 0., 0., 0.],\n",
       "       [0., 0., 0., ..., 0., 0., 0.],\n",
       "       [0., 0., 0., ..., 0., 0., 0.]])>"
      ]
     },
     "execution_count": 7,
     "metadata": {},
     "output_type": "execute_result"
    }
   ],
   "source": [
    "_X2 = tnp.zeros([50,25])*10 \n",
    "_X2"
   ]
  },
  {
   "cell_type": "code",
   "execution_count": 10,
   "id": "31c8005a-dd9e-40d2-a601-226328a641bd",
   "metadata": {
    "id": "31c8005a-dd9e-40d2-a601-226328a641bd",
    "outputId": "636bf310-e148-42d9-d783-f151b7d8d1c0"
   },
   "outputs": [
    {
     "data": {
      "text/plain": [
       "<tf.Tensor: shape=(50, 50), dtype=float64, numpy=\n",
       "array([[10., 10., 10., ...,  0.,  0.,  0.],\n",
       "       [10., 10., 10., ...,  0.,  0.,  0.],\n",
       "       [10., 10., 10., ...,  0.,  0.,  0.],\n",
       "       ...,\n",
       "       [10., 10., 10., ...,  0.,  0.,  0.],\n",
       "       [10., 10., 10., ...,  0.,  0.,  0.],\n",
       "       [10., 10., 10., ...,  0.,  0.,  0.]])>"
      ]
     },
     "execution_count": 10,
     "metadata": {},
     "output_type": "execute_result"
    }
   ],
   "source": [
    "tf.concat([_X1,_X2],axis=1)  #양옆으로 붙여버리기"
   ]
  },
  {
   "cell_type": "code",
   "execution_count": 12,
   "id": "a9820519-107a-4fb3-8c9c-96231d3d5da0",
   "metadata": {},
   "outputs": [
    {
     "data": {
      "text/plain": [
       "<matplotlib.image.AxesImage at 0x7fdc603b5bd0>"
      ]
     },
     "execution_count": 12,
     "metadata": {},
     "output_type": "execute_result"
    },
    {
     "data": {
      "image/png": "[encoded data removed]",
      "text/plain": [
       "<Figure size 432x288 with 1 Axes>"
      ]
     },
     "metadata": {
      "needs_background": "light"
     },
     "output_type": "display_data"
    }
   ],
   "source": [
    "plt.imshow(tf.concat([_X1,_X2],axis=1), cmap='gray')"
   ]
  },
  {
   "cell_type": "code",
   "execution_count": 11,
   "id": "74fe449c-3d77-4003-8bfd-96fa4c7539b3",
   "metadata": {
    "id": "74fe449c-3d77-4003-8bfd-96fa4c7539b3",
    "outputId": "1c61d537-1e62-4706-d2b5-bfb0d1841120"
   },
   "outputs": [
    {
     "data": {
      "text/plain": [
       "<tf.Tensor: shape=(50, 50), dtype=float64, numpy=\n",
       "array([[-1.39261397, -0.61550327, -0.03807141, ..., -1.2353598 ,\n",
       "        -1.80157413,  1.26801148],\n",
       "       [-0.19926514, -0.01798353, -0.50202815, ..., -0.11134127,\n",
       "        -0.31782947, -0.57193491],\n",
       "       [-0.42226429, -0.33912298, -0.94210058, ..., -1.44348351,\n",
       "        -0.62386881,  1.56118329],\n",
       "       ...,\n",
       "       [-2.05475157, -0.24956358, -0.87315304, ..., -1.11330934,\n",
       "         1.1127214 ,  1.14313231],\n",
       "       [-1.4098582 , -0.80717615,  0.25900587, ...,  0.58659931,\n",
       "        -0.81962126,  2.04397655],\n",
       "       [ 1.67483107,  0.66802963,  0.59213442, ...,  0.07221849,\n",
       "         1.32290832, -0.68520795]])>"
      ]
     },
     "execution_count": 11,
     "metadata": {},
     "output_type": "execute_result"
    }
   ],
   "source": [
    "_noise = tnp.random.randn(50*50).reshape(50,50)\n",
    "_noise"
   ]
  },
  {
   "cell_type": "code",
   "execution_count": 13,
   "id": "2f660a0e-aebe-446b-b791-31de84c7f299",
   "metadata": {
    "id": "2f660a0e-aebe-446b-b791-31de84c7f299"
   },
   "outputs": [],
   "source": [
    "XXX = tf.concat([_X1,_X2],axis=1) + _noise"
   ]
  },
  {
   "cell_type": "code",
   "execution_count": 14,
   "id": "2478e82a-2f71-4770-a9cf-bc0d009723e4",
   "metadata": {
    "id": "2478e82a-2f71-4770-a9cf-bc0d009723e4"
   },
   "outputs": [],
   "source": [
    "XXX=XXX.reshape(1,50,50,1)"
   ]
  },
  {
   "cell_type": "code",
   "execution_count": 15,
   "id": "cd1ea97b-9eae-414a-b9d2-5848f0dbf376",
   "metadata": {
    "id": "cd1ea97b-9eae-414a-b9d2-5848f0dbf376",
    "outputId": "4328d534-6492-4837-eb2e-8ef6897f140b"
   },
   "outputs": [
    {
     "data": {
      "text/plain": [
       "<matplotlib.image.AxesImage at 0x7fdc602b8d60>"
      ]
     },
     "execution_count": 15,
     "metadata": {},
     "output_type": "execute_result"
    },
    {
     "data": {
      "image/png": "[encoded data removed]",
      "text/plain": [
       "<Figure size 432x288 with 1 Axes>"
      ]
     },
     "metadata": {
      "needs_background": "light"
     },
     "output_type": "display_data"
    }
   ],
   "source": [
    "plt.imshow(XXX.reshape(50,50),cmap='gray')"
   ]
  },
  {
   "cell_type": "markdown",
   "id": "5e21163e-fbe4-46af-9127-ae3497c4481e",
   "metadata": {
    "id": "5e21163e-fbe4-46af-9127-ae3497c4481e"
   },
   "source": [
    "`-` conv layer 생성 "
   ]
  },
  {
   "cell_type": "code",
   "execution_count": 16,
   "id": "6c9f8d24-baf1-4453-89ab-c4adbc248a1a",
   "metadata": {
    "id": "6c9f8d24-baf1-4453-89ab-c4adbc248a1a"
   },
   "outputs": [],
   "source": [
    "conv = tf.keras.layers.Conv2D(2,(2,2)) "
   ]
  },
  {
   "cell_type": "code",
   "execution_count": 17,
   "id": "f990dcef-883f-49d4-a1ab-25f183799c10",
   "metadata": {
    "id": "f990dcef-883f-49d4-a1ab-25f183799c10",
    "outputId": "b700d99a-feea-4469-f4a4-41e5edc3cb7e"
   },
   "outputs": [
    {
     "data": {
      "text/plain": [
       "[]"
      ]
     },
     "execution_count": 17,
     "metadata": {},
     "output_type": "execute_result"
    }
   ],
   "source": [
    "conv.weights # 처음에는 가중치가 없음 "
   ]
  },
  {
   "cell_type": "code",
   "execution_count": 19,
   "id": "fb322af5-92b5-4d26-969b-ed570ecdfb0e",
   "metadata": {
    "id": "fb322af5-92b5-4d26-969b-ed570ecdfb0e",
    "outputId": "8c1032f0-0f7a-42d0-c410-4dc9bd972400"
   },
   "outputs": [
    {
     "data": {
      "text/plain": [
       "[<tf.Variable 'conv2d/kernel:0' shape=(2, 2, 1, 2) dtype=float32, numpy=\n",
       " array([[[[ 0.6525293 , -0.36430722]],\n",
       " \n",
       "         [[ 0.17942572, -0.51647913]]],\n",
       " \n",
       " \n",
       "        [[[ 0.3353576 , -0.4306784 ]],\n",
       " \n",
       "         [[ 0.00917774,  0.23992366]]]], dtype=float32)>,\n",
       " <tf.Variable 'conv2d/bias:0' shape=(2,) dtype=float32, numpy=array([0., 0.], dtype=float32)>]"
      ]
     },
     "execution_count": 19,
     "metadata": {},
     "output_type": "execute_result"
    }
   ],
   "source": [
    "conv(XXX) # 가중치를 만들기 위해서 XXX를 conv에 한번 통과시킴\n",
    "conv.weights # 이제 가중치가 생김"
   ]
  },
  {
   "cell_type": "markdown",
   "id": "779c9db6-442d-4d58-9453-a358952d30fb",
   "metadata": {
    "id": "779c9db6-442d-4d58-9453-a358952d30fb"
   },
   "source": [
    "`-` 가중치의 값을 확인해보자. "
   ]
  },
  {
   "cell_type": "code",
   "execution_count": 20,
   "id": "2dfeaf70-6df9-4f70-b1be-491b1877605a",
   "metadata": {
    "id": "2dfeaf70-6df9-4f70-b1be-491b1877605a",
    "outputId": "983ead9f-694a-47b2-ecf8-0c35b7ed0c6e"
   },
   "outputs": [
    {
     "data": {
      "text/plain": [
       "<tf.Variable 'conv2d/kernel:0' shape=(2, 2, 1, 2) dtype=float32, numpy=\n",
       "array([[[[ 0.6525293 , -0.36430722]],\n",
       "\n",
       "        [[ 0.17942572, -0.51647913]]],\n",
       "\n",
       "\n",
       "       [[[ 0.3353576 , -0.4306784 ]],\n",
       "\n",
       "        [[ 0.00917774,  0.23992366]]]], dtype=float32)>"
      ]
     },
     "execution_count": 20,
     "metadata": {},
     "output_type": "execute_result"
    }
   ],
   "source": [
    "conv.weights[0] # kernel에 해당하는것 "
   ]
  },
  {
   "cell_type": "code",
   "execution_count": 21,
   "id": "2b4667f0-bc0a-4bcf-8027-7c73beb80dd3",
   "metadata": {
    "id": "2b4667f0-bc0a-4bcf-8027-7c73beb80dd3",
    "outputId": "c111e33b-444b-4a0c-e173-5a2102b93d7f"
   },
   "outputs": [
    {
     "data": {
      "text/plain": [
       "<tf.Variable 'conv2d/bias:0' shape=(2,) dtype=float32, numpy=array([0., 0.], dtype=float32)>"
      ]
     },
     "execution_count": 21,
     "metadata": {},
     "output_type": "execute_result"
    }
   ],
   "source": [
    "conv.weights[1] # bias에 해당하는것 "
   ]
  },
  {
   "cell_type": "markdown",
   "id": "8607b3db-5f60-428c-a604-fda7ed5e51eb",
   "metadata": {
    "id": "8607b3db-5f60-428c-a604-fda7ed5e51eb"
   },
   "source": [
    "`-` 필터값을 원하는 것으로 변경해보자. "
   ]
  },
  {
   "cell_type": "code",
   "execution_count": 24,
   "id": "08ee8240-b49c-46db-8beb-dfc5411f78ba",
   "metadata": {
    "id": "08ee8240-b49c-46db-8beb-dfc5411f78ba"
   },
   "outputs": [],
   "source": [
    "w0 = [[0.25,0.25],[0.25,0.25]] # 잡티를 제거하는 효과를 준다. 평균필터라고 생각하면됨(1/4->4개의 평균)\n",
    "w1 = [[-1.0,1.0],[-1.0,1.0]] # 경계를 찾기 좋아보이는 필터이다. (엣지검출)"
   ]
  },
  {
   "cell_type": "code",
   "execution_count": 23,
   "id": "c7e8586b-e922-45ab-8c0e-f6618c106625",
   "metadata": {
    "id": "c7e8586b-e922-45ab-8c0e-f6618c106625",
    "outputId": "27dc9de4-cc13-4fec-90c7-aaa820a62873"
   },
   "outputs": [
    {
     "data": {
      "text/plain": [
       "array([[[[ 0.25, -1.  ]],\n",
       "\n",
       "        [[ 0.25,  1.  ]]],\n",
       "\n",
       "\n",
       "       [[[ 0.25, -1.  ]],\n",
       "\n",
       "        [[ 0.25,  1.  ]]]])"
      ]
     },
     "execution_count": 23,
     "metadata": {},
     "output_type": "execute_result"
    }
   ],
   "source": [
    "w=np.concatenate([np.array(w0).reshape(2,2,1,1),np.array(w1).reshape(2,2,1,1)],axis=-1)\n",
    "w"
   ]
  },
  {
   "cell_type": "code",
   "execution_count": 25,
   "id": "56124e71-a752-4a3e-9281-3ebfc8be94e8",
   "metadata": {
    "id": "56124e71-a752-4a3e-9281-3ebfc8be94e8",
    "outputId": "a92ecf2f-3bb3-41f8-d6a6-746e89d89324"
   },
   "outputs": [
    {
     "data": {
      "text/plain": [
       "array([0., 0.])"
      ]
     },
     "execution_count": 25,
     "metadata": {},
     "output_type": "execute_result"
    }
   ],
   "source": [
    "b= np.array([0.0,0.0])\n",
    "b"
   ]
  },
  {
   "cell_type": "code",
   "execution_count": 26,
   "id": "4ef8a1f3-2fea-4b79-9513-f4d733f67eef",
   "metadata": {},
   "outputs": [
    {
     "data": {
      "text/plain": [
       "[array([[[[ 0.6525293 , -0.36430722]],\n",
       " \n",
       "         [[ 0.17942572, -0.51647913]]],\n",
       " \n",
       " \n",
       "        [[[ 0.3353576 , -0.4306784 ]],\n",
       " \n",
       "         [[ 0.00917774,  0.23992366]]]], dtype=float32),\n",
       " array([0., 0.], dtype=float32)]"
      ]
     },
     "execution_count": 26,
     "metadata": {},
     "output_type": "execute_result"
    }
   ],
   "source": [
    "conv.get_weights()"
   ]
  },
  {
   "cell_type": "code",
   "execution_count": 27,
   "id": "7facc917-3ffb-4a36-a87f-cd62ed23aa6d",
   "metadata": {
    "id": "7facc917-3ffb-4a36-a87f-cd62ed23aa6d",
    "outputId": "76050c21-9abd-4a1c-991b-89fa97aac917"
   },
   "outputs": [
    {
     "data": {
      "text/plain": [
       "[array([[[[ 0.25, -1.  ]],\n",
       " \n",
       "         [[ 0.25,  1.  ]]],\n",
       " \n",
       " \n",
       "        [[[ 0.25, -1.  ]],\n",
       " \n",
       "         [[ 0.25,  1.  ]]]], dtype=float32),\n",
       " array([0., 0.], dtype=float32)]"
      ]
     },
     "execution_count": 27,
     "metadata": {},
     "output_type": "execute_result"
    }
   ],
   "source": [
    "conv.set_weights([w,b])\n",
    "conv.get_weights()"
   ]
  },
  {
   "cell_type": "markdown",
   "id": "e58ece36-91db-4967-8865-ce19b416cc28",
   "metadata": {
    "id": "e58ece36-91db-4967-8865-ce19b416cc28"
   },
   "source": [
    "- 첫번째는 평균을 구하는 필터, \n",
    "- 두번째는 엣지를 검출하는 필터 "
   ]
  },
  {
   "cell_type": "markdown",
   "id": "64a61c29-96b0-4b07-a54b-1221ddd9f28b",
   "metadata": {
    "id": "64a61c29-96b0-4b07-a54b-1221ddd9f28b"
   },
   "source": [
    "`-` 필터를 넣은 결과를 확인 "
   ]
  },
  {
   "cell_type": "code",
   "execution_count": 28,
   "id": "c6b1b6d7-c6a8-4b4b-9462-e4c1db692349",
   "metadata": {
    "id": "c6b1b6d7-c6a8-4b4b-9462-e4c1db692349",
    "outputId": "0feaf8eb-5000-4adc-a14a-5ad5be72e3d6"
   },
   "outputs": [
    {
     "data": {
      "text/plain": [
       "<tf.Tensor: shape=(1, 49, 49), dtype=float32, numpy=\n",
       "array([[[ 9.443659  ,  9.706603  , 10.03257   , ..., -0.3570103 ,\n",
       "         -0.8665261 , -0.35583177],\n",
       "        [ 9.755341  ,  9.549691  ,  9.404379  , ...,  0.23387393,\n",
       "         -0.6241307 ,  0.01188752],\n",
       "        [10.116772  , 10.1854    ,  9.519519  , ..., -0.20161265,\n",
       "         -0.65056103,  0.42640302],\n",
       "        ...,\n",
       "        [ 9.739891  ,  9.684404  ,  9.642869  , ..., -0.3375936 ,\n",
       "         -0.09106365,  0.58392596],\n",
       "        [ 8.869663  ,  9.582278  ,  9.758518  , ..., -0.15575574,\n",
       "         -0.05840248,  0.8700522 ],\n",
       "        [10.031457  , 10.177998  , 10.171027  , ...,  0.26840547,\n",
       "          0.2905262 ,  0.4655139 ]]], dtype=float32)>"
      ]
     },
     "execution_count": 28,
     "metadata": {},
     "output_type": "execute_result"
    }
   ],
   "source": [
    "XXX0=conv(XXX)[...,0] # 채널0\n",
    "XXX0"
   ]
  },
  {
   "cell_type": "code",
   "execution_count": 29,
   "id": "aff8cb87-6c85-4c62-b295-77e6d4dc9476",
   "metadata": {
    "id": "aff8cb87-6c85-4c62-b295-77e6d4dc9476",
    "outputId": "2d633467-ccbb-43a7-a724-ee58ee139c4c"
   },
   "outputs": [
    {
     "data": {
      "text/plain": [
       "<tf.Tensor: shape=(1, 49, 49), dtype=float32, numpy=\n",
       "array([[[ 0.9583931 ,  0.09338665,  1.2104778 , ..., -1.2653608 ,\n",
       "         -0.7727025 ,  2.81548   ],\n",
       "        [ 0.26442337, -1.0870228 ,  0.50577354, ..., -4.045145  ,\n",
       "          0.6131264 ,  1.9309467 ],\n",
       "        [ 0.62882423, -0.35431194, -2.3092155 , ..., -3.5449495 ,\n",
       "          1.7491561 ,  2.5587    ],\n",
       "        ...,\n",
       "        [ 1.1243334 , -1.346283  ,  1.1801414 , ..., -3.2511878 ,\n",
       "          4.2373075 , -1.5373491 ],\n",
       "        [ 2.4078693 ,  0.44259262,  0.2623663 , ..., -0.4303972 ,\n",
       "          0.8198102 ,  2.8940086 ],\n",
       "        [-0.40412045,  0.9902868 , -1.0181713 , ...,  0.24401379,\n",
       "         -0.15553081,  0.8554816 ]]], dtype=float32)>"
      ]
     },
     "execution_count": 29,
     "metadata": {},
     "output_type": "execute_result"
    }
   ],
   "source": [
    "XXX1=conv(XXX)[...,1] # 채널1\n",
    "XXX1"
   ]
  },
  {
   "cell_type": "markdown",
   "id": "e9819779-4375-41d4-b581-222d9a048921",
   "metadata": {
    "id": "e9819779-4375-41d4-b581-222d9a048921"
   },
   "source": [
    "`-` 각 채널을 시각화 "
   ]
  },
  {
   "cell_type": "code",
   "execution_count": 30,
   "id": "5449fb3b-d8ef-4ac0-affe-d8aa9f91d1b7",
   "metadata": {
    "id": "5449fb3b-d8ef-4ac0-affe-d8aa9f91d1b7",
    "outputId": "eb9ed7fa-4c37-46d9-80dc-babdb5e8b5a4"
   },
   "outputs": [
    {
     "data": {
      "image/png": "[encoded data removed]",
      "text/plain": [
       "<Figure size 432x288 with 4 Axes>"
      ]
     },
     "metadata": {
      "needs_background": "light"
     },
     "output_type": "display_data"
    }
   ],
   "source": [
    "fig, ((ax1,ax2),(ax3,ax4)) = plt.subplots(2,2)"
   ]
  },
  {
   "cell_type": "code",
   "execution_count": 31,
   "id": "5c758ed5-8d64-4644-8ce6-894b6a20608f",
   "metadata": {
    "id": "5c758ed5-8d64-4644-8ce6-894b6a20608f",
    "outputId": "e2caaee3-b591-46f2-d6f4-871ec52dcb9b"
   },
   "outputs": [
    {
     "data": {
      "text/plain": [
       "<matplotlib.image.AxesImage at 0x7fdc602bbbb0>"
      ]
     },
     "execution_count": 31,
     "metadata": {},
     "output_type": "execute_result"
    }
   ],
   "source": [
    "ax1.imshow(XXX.reshape(50,50),cmap='gray')"
   ]
  },
  {
   "cell_type": "code",
   "execution_count": 32,
   "id": "655b30d8-54f2-423f-b4e9-b6a2852ff43c",
   "metadata": {
    "id": "655b30d8-54f2-423f-b4e9-b6a2852ff43c",
    "outputId": "b4d2353d-2458-455f-c71c-f374d7f5d083"
   },
   "outputs": [
    {
     "data": {
      "text/plain": [
       "<matplotlib.image.AxesImage at 0x7fdc600f6f20>"
      ]
     },
     "execution_count": 32,
     "metadata": {},
     "output_type": "execute_result"
    }
   ],
   "source": [
    "ax3.imshow(XXX0.reshape(49,49),cmap='gray')"
   ]
  },
  {
   "cell_type": "code",
   "execution_count": 33,
   "id": "f535fec2-a6a4-4de5-b0e0-1640f519de07",
   "metadata": {
    "id": "f535fec2-a6a4-4de5-b0e0-1640f519de07",
    "outputId": "25eefb06-3bd9-4699-9ceb-54339e7ce742"
   },
   "outputs": [
    {
     "data": {
      "text/plain": [
       "<matplotlib.image.AxesImage at 0x7fdc600f7880>"
      ]
     },
     "execution_count": 33,
     "metadata": {},
     "output_type": "execute_result"
    }
   ],
   "source": [
    "ax4.imshow(XXX1.reshape(49,49),cmap='gray')"
   ]
  },
  {
   "cell_type": "code",
   "execution_count": 34,
   "id": "5570686d-0b12-4c08-b2d9-59d961b82b1d",
   "metadata": {
    "id": "5570686d-0b12-4c08-b2d9-59d961b82b1d",
    "outputId": "41bedf9d-d282-46af-f203-3b831bd7d54d"
   },
   "outputs": [
    {
     "data": {
      "image/png": "[encoded data removed]",
      "text/plain": [
       "<Figure size 432x288 with 4 Axes>"
      ]
     },
     "execution_count": 34,
     "metadata": {},
     "output_type": "execute_result"
    }
   ],
   "source": [
    "fig"
   ]
  },
  {
   "cell_type": "markdown",
   "id": "fa27ea5d-167d-446b-91ed-2b6eb65f5d5b",
   "metadata": {
    "id": "fa27ea5d-167d-446b-91ed-2b6eb65f5d5b"
   },
   "source": [
    "- 2사분면: 원래이미지 \n",
    "- 3사분면: 원래이미지 -> 평균을 의미하는 conv적용 \n",
    "- 4사분면: 원래이미지 -> 엣지를 검출하는 conv적용"
   ]
  },
  {
   "cell_type": "markdown",
   "id": "d2e1b572-db56-4c3f-9d27-7e16a6afdeed",
   "metadata": {
    "id": "d2e1b572-db56-4c3f-9d27-7e16a6afdeed"
   },
   "source": [
    "`-` conv(XXX)의 각 채널에 한번더 conv를 통과시켜보자"
   ]
  },
  {
   "cell_type": "code",
   "execution_count": 35,
   "id": "d3b5a539-e7f5-4547-a0ac-41e2dd6d1930",
   "metadata": {
    "id": "d3b5a539-e7f5-4547-a0ac-41e2dd6d1930",
    "outputId": "27518270-2dd2-468e-bc84-75a9a6137633"
   },
   "outputs": [
    {
     "data": {
      "text/plain": [
       "<tf.Tensor: shape=(1, 48, 48), dtype=float32, numpy=\n",
       "array([[[ -2.2164526 ,   2.7098875 ,  -1.6868973 , ..., -10.938325  ,\n",
       "           5.1509295 ,   4.906003  ],\n",
       "        [ -2.3345823 ,  -0.36210728,   3.8153753 , ..., -14.866258  ,\n",
       "           9.952376  ,   2.1273642 ],\n",
       "        [ -5.876539  ,  -4.0767393 ,   4.9097147 , ...,  -4.760305  ,\n",
       "           5.8326125 ,  -0.16564083],\n",
       "        ...,\n",
       "        [ -3.192193  ,   2.8786907 ,   1.0536604 , ...,  -4.122571  ,\n",
       "          13.84195   ,  -9.657482  ],\n",
       "        [ -4.435893  ,   2.346198  ,  -3.6642714 , ...,  -1.5445809 ,\n",
       "           8.738703  ,  -3.7004585 ],\n",
       "        [ -0.57086945,  -2.1886845 ,   0.7428093 , ...,   3.08785   ,\n",
       "           0.8506628 ,   3.0852108 ]]], dtype=float32)>"
      ]
     },
     "execution_count": 35,
     "metadata": {},
     "output_type": "execute_result"
    }
   ],
   "source": [
    "conv(XXX0.reshape(1,49,49,1))[...,0] ### XXX0 -> 평균필터 <=> XXX -> 평균필터 -> 평균필터 \n",
    "conv(XXX0.reshape(1,49,49,1))[...,1] ### XXX0 -> 엣지필터 <=> XXX -> 평균필터 -> 엣지필터 \n",
    "conv(XXX1.reshape(1,49,49,1))[...,0] ### XXX1 -> 평균필터 <=> XXX -> 엣지필터 -> 평균필터 \n",
    "conv(XXX1.reshape(1,49,49,1))[...,1] ### XXX1 -> 엣지필터 <=> XXX -> 엣지필터 -> 엣지필터 "
   ]
  },
  {
   "cell_type": "code",
   "execution_count": 36,
   "id": "3df76478-b8f3-48dd-8d6a-d0dc832686b0",
   "metadata": {
    "id": "3df76478-b8f3-48dd-8d6a-d0dc832686b0",
    "outputId": "0a7e0fad-1398-41ba-e9a5-cb77c1e1e7c0"
   },
   "outputs": [
    {
     "data": {
      "image/png": "[encoded data removed]",
      "text/plain": [
       "<Figure size 432x288 with 12 Axes>"
      ]
     },
     "metadata": {
      "needs_background": "light"
     },
     "output_type": "display_data"
    }
   ],
   "source": [
    "fig,ax =plt.subplots(3,4)"
   ]
  },
  {
   "cell_type": "code",
   "execution_count": 37,
   "id": "6b603ddc-e5b9-4187-be41-baa66c7dab9a",
   "metadata": {
    "id": "6b603ddc-e5b9-4187-be41-baa66c7dab9a",
    "outputId": "6d0997b7-975f-42fe-96dc-a1cd131cdc41"
   },
   "outputs": [
    {
     "data": {
      "text/plain": [
       "<matplotlib.image.AxesImage at 0x7fdc0007a770>"
      ]
     },
     "execution_count": 37,
     "metadata": {},
     "output_type": "execute_result"
    }
   ],
   "source": [
    "ax[0][0].imshow(XXX.reshape(50,50),cmap='gray') # 원래이미지"
   ]
  },
  {
   "cell_type": "code",
   "execution_count": 38,
   "id": "33bf9ee8-72d4-4ddf-8edd-7a6650fc49a3",
   "metadata": {
    "id": "33bf9ee8-72d4-4ddf-8edd-7a6650fc49a3",
    "outputId": "f9e9a582-e0bb-4395-f60a-277b9d41b16a"
   },
   "outputs": [
    {
     "data": {
      "text/plain": [
       "<matplotlib.image.AxesImage at 0x7fdc0004b730>"
      ]
     },
     "execution_count": 38,
     "metadata": {},
     "output_type": "execute_result"
    }
   ],
   "source": [
    "ax[1][0].imshow(XXX0.reshape(49,49),cmap='gray') # 원래이미지 -> 평균필터 \n",
    "ax[1][2].imshow(XXX1.reshape(49,49),cmap='gray') # 원래이미지 -> 엣지필터"
   ]
  },
  {
   "cell_type": "code",
   "execution_count": 39,
   "id": "f1cea099-ec15-4ee8-8904-8106e3aa635c",
   "metadata": {
    "id": "f1cea099-ec15-4ee8-8904-8106e3aa635c",
    "outputId": "4d139c53-1f05-470d-939d-147bf341efe9"
   },
   "outputs": [
    {
     "data": {
      "text/plain": [
       "<matplotlib.image.AxesImage at 0x7fdc000e9c90>"
      ]
     },
     "execution_count": 39,
     "metadata": {},
     "output_type": "execute_result"
    }
   ],
   "source": [
    "ax[2][0].imshow(conv(XXX0.reshape(1,49,49,1))[...,0].reshape(48,48),cmap='gray') # 원래이미지 -> 평균필터 \n",
    "ax[2][1].imshow(conv(XXX0.reshape(1,49,49,1))[...,1].reshape(48,48),cmap='gray') # 원래이미지 -> 엣지필터\n",
    "ax[2][2].imshow(conv(XXX1.reshape(1,49,49,1))[...,0].reshape(48,48),cmap='gray') # 원래이미지 -> 평균필터 \n",
    "ax[2][3].imshow(conv(XXX1.reshape(1,49,49,1))[...,1].reshape(48,48),cmap='gray') # 원래이미지 -> 엣지필터"
   ]
  },
  {
   "cell_type": "code",
   "execution_count": 40,
   "id": "e83b8c8f-27d0-437f-bb51-806d68d6923e",
   "metadata": {
    "id": "e83b8c8f-27d0-437f-bb51-806d68d6923e",
    "outputId": "c3d4ec6f-5a3e-422f-db5c-94f00c443fca"
   },
   "outputs": [
    {
     "data": {
      "image/png": "[encoded data removed]",
      "text/plain": [
       "<Figure size 1152x576 with 12 Axes>"
      ]
     },
     "execution_count": 40,
     "metadata": {},
     "output_type": "execute_result"
    }
   ],
   "source": [
    "fig.set_figheight(8)\n",
    "fig.set_figwidth(16)\n",
    "fig.tight_layout()\n",
    "fig"
   ]
  },
  {
   "cell_type": "markdown",
   "id": "f981cbca-b7e9-457b-bc2c-21e2c0068288",
   "metadata": {
    "id": "f981cbca-b7e9-457b-bc2c-21e2c0068288"
   },
   "source": [
    "`-` 요약 \n",
    "- conv의 weight에 따라서 엣지를 검출하는 필터가 만들어지기도 하고 스무딩의 역할을 하는 필터가 만들어지기도 한다. 그리고 우리는 의미를 알 수 없지만 어떠한 역할을 하는 필터가 만들어질 것이다. \n",
    "- 이것들을 조합하다보면 우연히 이미지를 분류하기에 유리한 특징을 뽑아내는 weight가 맞춰질 수도 있겠다. \n",
    "- 채널수를 많이 만들고 다양한 웨이트조합을 실험하다보면 보다 복잡한 이미지의 특징을 추출할 수도 있을 것이다? \n",
    "- 컨볼루션 레이어의 역할 = 이미지의 특징을 추출하는 역할 "
   ]
  },
  {
   "cell_type": "markdown",
   "id": "afd9f35d-5a96-4c89-8aa5-f02b403bfff8",
   "metadata": {
    "id": "afd9f35d-5a96-4c89-8aa5-f02b403bfff8"
   },
   "source": [
    "`-` 참고: 스트라이드, 패딩\n",
    "- 스트라이드: 윈도우가 1칸씩 이동하는 것이 아니라 2~3칸씩 이동함 \n",
    "- 패딩: 이미지의 가장자리에 정당한 값을 넣어서 (예를들어 0) 컨볼루션을 수행. 따라서 컨볼루션 연산 이후에도 이미지의 크기가 줄어들지 않도록 방지한다. "
   ]
  },
  {
   "cell_type": "markdown",
   "id": "e6e05b29-a69d-44fc-a7db-00bf2205c186",
   "metadata": {
    "id": "e6e05b29-a69d-44fc-a7db-00bf2205c186"
   },
   "source": [
    "#### MAXPOOL"
   ]
  },
  {
   "cell_type": "markdown",
   "id": "fe3fec66-2e0b-4c3b-a76f-87e1142a7071",
   "metadata": {
    "id": "fe3fec66-2e0b-4c3b-a76f-87e1142a7071"
   },
   "source": [
    "`-` 기본적역할: 이미지의 크기를 줄이는 것 \n",
    "- 이미지의의 크기를 줄여야하는 이유? 어차피 최종적으로 10차원으로 줄어야하므로 \n",
    "- 이미지의 크기를 줄이면서도 동시에 아주 크리티컬한 특징은 손실없이 유지하고 싶다~"
   ]
  },
  {
   "cell_type": "markdown",
   "id": "3a85f72b-e94e-4052-87ad-3bd7e6e91001",
   "metadata": {
    "id": "3a85f72b-e94e-4052-87ad-3bd7e6e91001"
   },
   "source": [
    "`-` 점점 작은 이미지가 되면서 중요한 특징들은 살아남지만 그렇지 않으면 죽는다. (캐리커쳐 느낌)"
   ]
  },
  {
   "cell_type": "markdown",
   "id": "0d9da22f-b315-4ada-8fb2-231fc580d459",
   "metadata": {
    "id": "0d9da22f-b315-4ada-8fb2-231fc580d459"
   },
   "source": [
    "`-` 평균이 아니라 max를 쓴 이유는? 그냥 평균보다 나을것이라고 생각했음.. \n",
    "- 그런데 사실은 꼭 그렇지만은 않아서 최근에는 꼭 맥스풀링을 고집하진 않는 추세 (평균풀링도 많이씀) "
   ]
  },
  {
   "cell_type": "markdown",
   "id": "5a008e45-d696-4cce-b7b4-12b1eec333ca",
   "metadata": {
    "id": "5a008e45-d696-4cce-b7b4-12b1eec333ca"
   },
   "source": [
    "#### CNN 아키텍처의 표현방법"
   ]
  },
  {
   "cell_type": "markdown",
   "id": "98fc8c3f-6c05-4528-9ac3-31620598491d",
   "metadata": {
    "id": "98fc8c3f-6c05-4528-9ac3-31620598491d"
   },
   "source": [
    "`-` 아래와 같이 아키텍처의 다이어그램형태로 표현하고 굳이 노드별로 이미지를 그리진 않음"
   ]
  },
  {
   "cell_type": "raw",
   "id": "c27ef4c1-a0f4-41bb-a9d0-7afcfb3d51e1",
   "metadata": {
    "id": "44f67916-2529-4522-bdcb-c9c881016a49"
   },
   "source": [
    "![](https://upload.wikimedia.org/wikipedia/commons/thumb/c/cc/Comparison_image_neural_networks.svg/2560px-Comparison_image_neural_networks.svg.png)"
   ]
  },
  {
   "cell_type": "markdown",
   "id": "4ba5be91-17ed-4491-9783-95c70a245ded",
   "metadata": {
    "id": "4ba5be91-17ed-4491-9783-95c70a245ded"
   },
   "source": [
    "`-` 물론 아래와 같이 그리는 경우도 있음"
   ]
  },
  {
   "cell_type": "raw",
   "id": "f8782646-f843-455c-ac04-8bc588086886",
   "metadata": {
    "id": "ccddca57-68d6-4748-b0f6-dedd296aeefa"
   },
   "source": [
    "![](https://editor.analyticsvidhya.com/uploads/90650dnn2.jpeg)"
   ]
  },
  {
   "cell_type": "markdown",
   "id": "ea43974c-bd23-4fee-82db-3124e428fd8c",
   "metadata": {
    "id": "ea43974c-bd23-4fee-82db-3124e428fd8c"
   },
   "source": [
    "#### Discusstion about CNN "
   ]
  },
  {
   "cell_type": "markdown",
   "id": "aeab83b2-5173-4508-b099-e8a22f01e912",
   "metadata": {
    "id": "aeab83b2-5173-4508-b099-e8a22f01e912"
   },
   "source": [
    "`-` 격자형태로 배열된 자료를 처리하는데 특화된 신경망이다. \n",
    "- 시계열 (1차원격자), 이미지 (2차원격자)"
   ]
  },
  {
   "cell_type": "markdown",
   "id": "623c9d2f-5cc4-4771-8b6e-bdd743bf9867",
   "metadata": {
    "id": "623c9d2f-5cc4-4771-8b6e-bdd743bf9867"
   },
   "source": [
    "`-` 실제응용에서 엄청난 성공을 거두었다. "
   ]
  },
  {
   "cell_type": "markdown",
   "id": "15be8ed7-6df0-4097-a602-56e1c9c323dd",
   "metadata": {
    "id": "15be8ed7-6df0-4097-a602-56e1c9c323dd"
   },
   "source": [
    "`-` 이름의 유래는 컨볼루션이라는 수학적 연산을 사용했기 때문 \n",
    "- 컨볼루션은 조금 특별한 선형변환이다. "
   ]
  },
  {
   "cell_type": "markdown",
   "id": "3ad57856-2954-4bfb-9f5a-4c491b7244f0",
   "metadata": {
    "id": "3ad57856-2954-4bfb-9f5a-4c491b7244f0"
   },
   "source": [
    "`-` 신경과학의 원리가 심층학습에 영향을 미친 사례이다. "
   ]
  },
  {
   "cell_type": "markdown",
   "id": "989e025a-a12c-4cd9-9ed9-48f7b869c1c5",
   "metadata": {
    "id": "989e025a-a12c-4cd9-9ed9-48f7b869c1c5"
   },
   "source": [
    "#### CNN의 모티브"
   ]
  },
  {
   "cell_type": "markdown",
   "id": "ac44b61f-7d8a-4429-9636-c5fa79404adc",
   "metadata": {
    "id": "ac44b61f-7d8a-4429-9636-c5fa79404adc"
   },
   "source": [
    "`-` 희소성 + 매개변수의 공유\n",
    "- 다소 철학적인 모티브임 \n",
    "- 희소성: 이미지를 분석하여 특징을 뽑아낼때 부분부분의 특징만 뽑으면 된다는 의미 \n",
    "- 매개변수의 공유: 한 채널에는 하나의 역할을 하는 커널을 설계하면 된다는 의미 (스무딩이든 엣징이든). 즉 어떤지역은 스무딩, 어떤지역은 엣징을 할 필요가 없이 한채널에서는 엣징만, 다른채널에서는 스무딩만 수행한뒤 여러채널을 조합해서 이해하면 된다. "
   ]
  },
  {
   "cell_type": "markdown",
   "id": "725d766b-bbd8-4f19-9649-621d3addcacf",
   "metadata": {
    "id": "725d766b-bbd8-4f19-9649-621d3addcacf"
   },
   "source": [
    "`-` 매개변수 공유효과로 인해서 파라메터가 확 줄어든다. "
   ]
  },
  {
   "cell_type": "markdown",
   "id": "f2db8e5a-7da7-4266-8e09-3a947894da30",
   "metadata": {
    "id": "f2db8e5a-7da7-4266-8e09-3a947894da30"
   },
   "source": [
    "(예시) (1,6,6,1) -> (1,5,5,2) \n",
    "- MLP방식이면 (36,50) 의 차원을 가진 매트릭스가 필요함 => 1800개의 매개변수 필요\n",
    "- CNN은 8개의 매개변수 필요  \n",
    "$\\to$ 매개변수가 적어지면 GPU에 올릴 것이 적어지니 좋다!"
   ]
  },
  {
   "cell_type": "markdown",
   "id": "2ccb7248-21d1-40f3-8d4b-af5f2de5ac15",
   "metadata": {
    "id": "2ccb7248-21d1-40f3-8d4b-af5f2de5ac15"
   },
   "source": [
    "#### CNN 신경망의 기본구조 🥸"
   ]
  },
  {
   "cell_type": "markdown",
   "id": "75710961-c900-4e87-970f-506d822fe9c7",
   "metadata": {
    "id": "75710961-c900-4e87-970f-506d822fe9c7"
   },
   "source": [
    "`-` 기본유닛 \n",
    "- conv - activation - pooling\n",
    "- conv - conv - activation - pooling"
   ]
  },
  {
   "cell_type": "markdown",
   "id": "66d3fc11-3adf-4656-bd9b-dfe10e7660d9",
   "metadata": {
    "id": "66d3fc11-3adf-4656-bd9b-dfe10e7660d9"
   },
   "source": [
    "### 모형의 성능을 올리기 위한 노력들 "
   ]
  },
  {
   "cell_type": "markdown",
   "id": "8cb9cb78-0704-46e5-b30e-879962d42fc7",
   "metadata": {
    "id": "8cb9cb78-0704-46e5-b30e-879962d42fc7"
   },
   "source": [
    "#### dropout "
   ]
  },
  {
   "cell_type": "markdown",
   "id": "517f0bb9-641d-4fda-82b0-1be442dd0f33",
   "metadata": {
    "id": "517f0bb9-641d-4fda-82b0-1be442dd0f33"
   },
   "source": [
    "`-` 아래의 예제를 복습하자. "
   ]
  },
  {
   "cell_type": "code",
   "execution_count": 41,
   "id": "96f57243-d853-42d5-8d3f-9e5e32848819",
   "metadata": {
    "id": "96f57243-d853-42d5-8d3f-9e5e32848819",
    "outputId": "718be805-7950-48dc-f018-c2910471355e"
   },
   "outputs": [
    {
     "data": {
      "text/plain": [
       "[<matplotlib.lines.Line2D at 0x7fdbf87d2ad0>]"
      ]
     },
     "execution_count": 41,
     "metadata": {},
     "output_type": "execute_result"
    },
    {
     "data": {
      "image/png": "[encoded data removed]",
      "text/plain": [
       "<Figure size 432x288 with 1 Axes>"
      ]
     },
     "metadata": {
      "needs_background": "light"
     },
     "output_type": "display_data"
    }
   ],
   "source": [
    "np.random.seed(43052)\n",
    "x = np.linspace(0,1,100).reshape(100,1)\n",
    "y = np.random.normal(loc=0,scale=0.01,size=(100,1))\n",
    "plt.plot(x,y)"
   ]
  },
  {
   "cell_type": "code",
   "execution_count": 42,
   "id": "5cb694ab-eedf-4783-911c-3acb8ec88ceb",
   "metadata": {
    "id": "5cb694ab-eedf-4783-911c-3acb8ec88ceb",
    "outputId": "81441f3e-76fa-4d2c-f2a4-3c5807d7dd10"
   },
   "outputs": [
    {
     "name": "stderr",
     "output_type": "stream",
     "text": [
      "2022-05-30 16:41:06.959327: I tensorflow/stream_executor/cuda/cuda_blas.cc:1774] TensorFloat-32 will be used for the matrix multiplication. This will only be logged once.\n"
     ]
    },
    {
     "data": {
      "text/plain": [
       "<keras.callbacks.History at 0x7fdbf864b400>"
      ]
     },
     "execution_count": 42,
     "metadata": {},
     "output_type": "execute_result"
    }
   ],
   "source": [
    "tf.random.set_seed(43052)\n",
    "net = tf.keras.Sequential()\n",
    "net.add(tf.keras.layers.Dense(2048,activation='relu'))\n",
    "net.add(tf.keras.layers.Dense(1))\n",
    "net.compile(loss='mse',optimizer='adam')\n",
    "net.fit(x,y,epochs=5000,verbose=0,batch_size=100)"
   ]
  },
  {
   "cell_type": "code",
   "execution_count": 43,
   "id": "68f7b197-9436-406c-91d5-9e78f800bd42",
   "metadata": {
    "id": "68f7b197-9436-406c-91d5-9e78f800bd42",
    "outputId": "3a15df90-7a06-4256-e14d-6d643c092b94"
   },
   "outputs": [
    {
     "data": {
      "text/plain": [
       "[<matplotlib.lines.Line2D at 0x7fdbf8302c80>]"
      ]
     },
     "execution_count": 43,
     "metadata": {},
     "output_type": "execute_result"
    },
    {
     "data": {
      "image/png": "[encoded data removed]",
      "text/plain": [
       "<Figure size 432x288 with 1 Axes>"
      ]
     },
     "metadata": {
      "needs_background": "light"
     },
     "output_type": "display_data"
    }
   ],
   "source": [
    "plt.plot(x,y)\n",
    "plt.plot(x,net(x),'--')"
   ]
  },
  {
   "cell_type": "markdown",
   "id": "b909d6cc-bd6b-45c1-b89c-29944f35e829",
   "metadata": {
    "id": "b909d6cc-bd6b-45c1-b89c-29944f35e829"
   },
   "source": [
    "`-` train/test로 나누어서 생각해보자."
   ]
  },
  {
   "cell_type": "code",
   "execution_count": 44,
   "id": "dd22f960-72b9-4b05-ad5b-94216e386cb4",
   "metadata": {
    "id": "dd22f960-72b9-4b05-ad5b-94216e386cb4",
    "outputId": "261a1211-4081-45d3-8766-eaddba960fd4"
   },
   "outputs": [
    {
     "data": {
      "text/plain": [
       "<keras.callbacks.History at 0x7fdbf835b220>"
      ]
     },
     "execution_count": 44,
     "metadata": {},
     "output_type": "execute_result"
    }
   ],
   "source": [
    "tf.random.set_seed(43052)\n",
    "net = tf.keras.Sequential()\n",
    "net.add(tf.keras.layers.Dense(2048,activation='relu'))\n",
    "net.add(tf.keras.layers.Dense(1))\n",
    "net.compile(loss='mse',optimizer='adam')\n",
    "net.fit(x[:80],y[:80],epochs=5000,verbose=0,batch_size=80)"
   ]
  },
  {
   "cell_type": "code",
   "execution_count": 45,
   "id": "a0eae141-9479-4a37-aa53-4b447e291c4f",
   "metadata": {
    "id": "a0eae141-9479-4a37-aa53-4b447e291c4f",
    "outputId": "9782803e-e211-42bf-e806-bf388ae1664e"
   },
   "outputs": [
    {
     "data": {
      "text/plain": [
       "[<matplotlib.lines.Line2D at 0x7fdbf825fca0>]"
      ]
     },
     "execution_count": 45,
     "metadata": {},
     "output_type": "execute_result"
    },
    {
     "data": {
      "image/png": "[encoded data removed]",
      "text/plain": [
       "<Figure size 432x288 with 1 Axes>"
      ]
     },
     "metadata": {
      "needs_background": "light"
     },
     "output_type": "display_data"
    }
   ],
   "source": [
    "plt.plot(x,y)\n",
    "plt.plot(x[:80],net(x[:80]),'--')"
   ]
  },
  {
   "cell_type": "code",
   "execution_count": 46,
   "id": "9a3cf108-77fe-4de2-a546-cd10af72c026",
   "metadata": {
    "id": "9a3cf108-77fe-4de2-a546-cd10af72c026",
    "outputId": "a4d913e3-4c65-4a4d-de9c-29c5b8e08372"
   },
   "outputs": [
    {
     "data": {
      "text/plain": [
       "[<matplotlib.lines.Line2D at 0x7fdbf82ba200>]"
      ]
     },
     "execution_count": 46,
     "metadata": {},
     "output_type": "execute_result"
    },
    {
     "data": {
      "image/png": "[encoded data removed]",
      "text/plain": [
       "<Figure size 432x288 with 1 Axes>"
      ]
     },
     "metadata": {
      "needs_background": "light"
     },
     "output_type": "display_data"
    }
   ],
   "source": [
    "plt.plot(x,y)\n",
    "plt.plot(x[:80],net(x[:80]),'--')\n",
    "plt.plot(x[80:],net(x[80:]),'--')"
   ]
  },
  {
   "cell_type": "markdown",
   "id": "0cb1bf97-0176-439c-80aa-1d524848435f",
   "metadata": {
    "id": "0cb1bf97-0176-439c-80aa-1d524848435f"
   },
   "source": [
    "- train에서 추세를 따라가는게 좋은게 아니다 $\\to$ 그냥 직선으로 핏하는거 이외에는 다 오버핏이다. "
   ]
  },
  {
   "cell_type": "markdown",
   "id": "bd6e25e1-1e54-4086-b618-fe7465c0cd12",
   "metadata": {
    "id": "bd6e25e1-1e54-4086-b618-fe7465c0cd12"
   },
   "source": [
    "`-` 매 에폭마다 적당히 80%의 노드들을 빼고 학습하자 $\\to$ 너무 잘 학습되는 문제는 생기지 않을 것이다 (과적합이 방지될것이다?)"
   ]
  },
  {
   "cell_type": "code",
   "execution_count": 47,
   "id": "a41f9a62-8b22-44d1-bff0-be04dfc5f0c3",
   "metadata": {
    "id": "a41f9a62-8b22-44d1-bff0-be04dfc5f0c3",
    "outputId": "901c7a2c-c608-4d74-f586-8524fd61b9a4"
   },
   "outputs": [
    {
     "data": {
      "text/plain": [
       "<keras.callbacks.History at 0x7fdbf8123220>"
      ]
     },
     "execution_count": 47,
     "metadata": {},
     "output_type": "execute_result"
    }
   ],
   "source": [
    "tf.random.set_seed(43052)\n",
    "net = tf.keras.Sequential()\n",
    "net.add(tf.keras.layers.Dense(2048,activation='relu'))\n",
    "net.add(tf.keras.layers.Dropout(0.8))\n",
    "net.add(tf.keras.layers.Dense(1))\n",
    "net.compile(loss='mse',optimizer='adam')\n",
    "net.fit(x[:80],y[:80],epochs=5000,verbose=0,batch_size=80)"
   ]
  },
  {
   "cell_type": "code",
   "execution_count": 48,
   "id": "029c0c55-ce78-4c78-a9ba-8070b2f5815b",
   "metadata": {
    "id": "029c0c55-ce78-4c78-a9ba-8070b2f5815b",
    "outputId": "a0a20489-02dc-4e93-f4a3-d02f85ea17e9"
   },
   "outputs": [
    {
     "data": {
      "text/plain": [
       "[<matplotlib.lines.Line2D at 0x7fdbf8137be0>]"
      ]
     },
     "execution_count": 48,
     "metadata": {},
     "output_type": "execute_result"
    },
    {
     "data": {
      "image/png": "[encoded data removed]",
      "text/plain": [
       "<Figure size 432x288 with 1 Axes>"
      ]
     },
     "metadata": {
      "needs_background": "light"
     },
     "output_type": "display_data"
    }
   ],
   "source": [
    "plt.plot(x,y)\n",
    "plt.plot(x[:80],net(x[:80]),'--')\n",
    "plt.plot(x[80:],net(x[80:]),'--')"
   ]
  },
  {
   "cell_type": "markdown",
   "id": "d53bfa89-8b05-49c6-97e5-d4049ba905cc",
   "metadata": {
    "id": "d53bfa89-8b05-49c6-97e5-d4049ba905cc"
   },
   "source": [
    "`-` 드랍아웃에 대한 summary\n",
    "- 직관: 특정노드를 랜덤으로 off시키면 학습이 방해되어 오히려 과적합이 방지되는 효과가 있다 (그렇지만 진짜 중요한 특징이라면 랜덤으로 off 되더라도 어느정도는 학습될 듯)\n",
    "- note: 드랍아웃을 쓰면 오버핏이 줄어드는건 맞지만 완전히 없어지는건 아니다. \n",
    "- note: 오버핏을 줄이는 유일한 방법이 드랍아웃만 있는것도 아니며, 드랍아웃이 오버핏을 줄이는 가장 효과적인 방법도 아니다 (최근에는 dropout보다 batch nomalization을 사용하는 추세임)"
   ]
  },
  {
   "cell_type": "markdown",
   "id": "9de29c6b-ad9d-427a-8ed3-c81d5e9dda98",
   "metadata": {
    "id": "9de29c6b-ad9d-427a-8ed3-c81d5e9dda98"
   },
   "source": [
    "#### train / val / test "
   ]
  },
  {
   "cell_type": "markdown",
   "id": "774e8f74-0a2a-4fa1-839a-78e23c1e41f0",
   "metadata": {
    "id": "774e8f74-0a2a-4fa1-839a-78e23c1e41f0"
   },
   "source": [
    "`-` data"
   ]
  },
  {
   "cell_type": "code",
   "execution_count": 49,
   "id": "4ce7121f-6bb7-4b1d-bb39-f6249ba3cca2",
   "metadata": {
    "id": "4ce7121f-6bb7-4b1d-bb39-f6249ba3cca2"
   },
   "outputs": [],
   "source": [
    "(x_train, y_train), (x_test, y_test) = tf.keras.datasets.fashion_mnist.load_data()"
   ]
  },
  {
   "cell_type": "code",
   "execution_count": 50,
   "id": "8b5bf325-8eb1-4e9a-8da7-0d0d40ff439d",
   "metadata": {
    "id": "8b5bf325-8eb1-4e9a-8da7-0d0d40ff439d"
   },
   "outputs": [],
   "source": [
    "X= x_train.reshape(-1,28,28,1)/255 ## 입력이 0~255 -> 0~1로 표준화 시키는 효과 + float으로 자료형이 바뀜 \n",
    "y = tf.keras.utils.to_categorical(y_train)\n",
    "XX = x_test.reshape(-1,28,28,1)/255\n",
    "yy = tf.keras.utils.to_categorical(y_test)"
   ]
  },
  {
   "cell_type": "code",
   "execution_count": 51,
   "id": "c84c1fc4-1570-4ca8-b655-eb48c14bf50c",
   "metadata": {
    "id": "c84c1fc4-1570-4ca8-b655-eb48c14bf50c"
   },
   "outputs": [],
   "source": [
    "net = tf.keras.Sequential()\n",
    "net.add(tf.keras.layers.Flatten())\n",
    "net.add(tf.keras.layers.Dense(50,activation='relu'))\n",
    "net.add(tf.keras.layers.Dense(10,activation='softmax'))\n",
    "net.compile(optimizer='adam',loss=tf.losses.categorical_crossentropy,metrics='accuracy')"
   ]
  },
  {
   "cell_type": "code",
   "execution_count": 52,
   "id": "92ef5c24-396c-4617-b055-03f78f0d88e6",
   "metadata": {
    "id": "92ef5c24-396c-4617-b055-03f78f0d88e6",
    "outputId": "a043f89d-74b3-4cfc-ae19-2bcaa9415a84",
    "scrolled": true,
    "tags": []
   },
   "outputs": [
    {
     "name": "stdout",
     "output_type": "stream",
     "text": [
      "Epoch 1/200\n",
      "240/240 [==============================] - 3s 13ms/step - loss: 0.7013 - accuracy: 0.7666 - val_loss: 0.4976 - val_accuracy: 0.8320\n",
      "Epoch 2/200\n",
      "240/240 [==============================] - 3s 13ms/step - loss: 0.4703 - accuracy: 0.8400 - val_loss: 0.4822 - val_accuracy: 0.8320\n",
      "Epoch 3/200\n",
      "240/240 [==============================] - 3s 12ms/step - loss: 0.4287 - accuracy: 0.8518 - val_loss: 0.4339 - val_accuracy: 0.8535\n",
      "Epoch 4/200\n",
      "240/240 [==============================] - 3s 13ms/step - loss: 0.4061 - accuracy: 0.8592 - val_loss: 0.4077 - val_accuracy: 0.8568\n",
      "Epoch 5/200\n",
      "240/240 [==============================] - 3s 13ms/step - loss: 0.3851 - accuracy: 0.8661 - val_loss: 0.3948 - val_accuracy: 0.8619\n",
      "Epoch 6/200\n",
      "240/240 [==============================] - 3s 13ms/step - loss: 0.3703 - accuracy: 0.8699 - val_loss: 0.3900 - val_accuracy: 0.8617\n",
      "Epoch 7/200\n",
      "240/240 [==============================] - 3s 13ms/step - loss: 0.3587 - accuracy: 0.8746 - val_loss: 0.3846 - val_accuracy: 0.8678\n",
      "Epoch 8/200\n",
      "240/240 [==============================] - 3s 12ms/step - loss: 0.3468 - accuracy: 0.8768 - val_loss: 0.3684 - val_accuracy: 0.8716\n",
      "Epoch 9/200\n",
      "240/240 [==============================] - 3s 13ms/step - loss: 0.3399 - accuracy: 0.8787 - val_loss: 0.3685 - val_accuracy: 0.8702\n",
      "Epoch 10/200\n",
      "240/240 [==============================] - 3s 12ms/step - loss: 0.3308 - accuracy: 0.8810 - val_loss: 0.3623 - val_accuracy: 0.8718\n",
      "Epoch 11/200\n",
      "240/240 [==============================] - 3s 12ms/step - loss: 0.3209 - accuracy: 0.8848 - val_loss: 0.3618 - val_accuracy: 0.8709\n",
      "Epoch 12/200\n",
      "240/240 [==============================] - 3s 12ms/step - loss: 0.3163 - accuracy: 0.8859 - val_loss: 0.3578 - val_accuracy: 0.8733\n",
      "Epoch 13/200\n",
      "240/240 [==============================] - 3s 13ms/step - loss: 0.3103 - accuracy: 0.8884 - val_loss: 0.3576 - val_accuracy: 0.8722\n",
      "Epoch 14/200\n",
      "240/240 [==============================] - 3s 12ms/step - loss: 0.3022 - accuracy: 0.8914 - val_loss: 0.3557 - val_accuracy: 0.8737\n",
      "Epoch 15/200\n",
      "240/240 [==============================] - 3s 13ms/step - loss: 0.2985 - accuracy: 0.8939 - val_loss: 0.3508 - val_accuracy: 0.8758\n",
      "Epoch 16/200\n",
      "240/240 [==============================] - 3s 13ms/step - loss: 0.2950 - accuracy: 0.8945 - val_loss: 0.3745 - val_accuracy: 0.8657\n",
      "Epoch 17/200\n",
      "240/240 [==============================] - 3s 13ms/step - loss: 0.2903 - accuracy: 0.8954 - val_loss: 0.3423 - val_accuracy: 0.8783\n",
      "Epoch 18/200\n",
      "240/240 [==============================] - 3s 13ms/step - loss: 0.2837 - accuracy: 0.8967 - val_loss: 0.3487 - val_accuracy: 0.8764\n",
      "Epoch 19/200\n",
      "240/240 [==============================] - 3s 12ms/step - loss: 0.2794 - accuracy: 0.8988 - val_loss: 0.3512 - val_accuracy: 0.8766\n",
      "Epoch 20/200\n",
      "240/240 [==============================] - 3s 13ms/step - loss: 0.2742 - accuracy: 0.9007 - val_loss: 0.3394 - val_accuracy: 0.8817\n",
      "Epoch 21/200\n",
      "240/240 [==============================] - 3s 13ms/step - loss: 0.2707 - accuracy: 0.9021 - val_loss: 0.3355 - val_accuracy: 0.8829\n",
      "Epoch 22/200\n",
      "240/240 [==============================] - 3s 12ms/step - loss: 0.2643 - accuracy: 0.9035 - val_loss: 0.3331 - val_accuracy: 0.8823\n",
      "Epoch 23/200\n",
      "240/240 [==============================] - 3s 13ms/step - loss: 0.2612 - accuracy: 0.9061 - val_loss: 0.3380 - val_accuracy: 0.8773\n",
      "Epoch 24/200\n",
      "240/240 [==============================] - 3s 12ms/step - loss: 0.2576 - accuracy: 0.9072 - val_loss: 0.3437 - val_accuracy: 0.8790\n",
      "Epoch 25/200\n",
      "240/240 [==============================] - 3s 13ms/step - loss: 0.2532 - accuracy: 0.9084 - val_loss: 0.3332 - val_accuracy: 0.8817\n",
      "Epoch 26/200\n",
      "240/240 [==============================] - 3s 13ms/step - loss: 0.2511 - accuracy: 0.9093 - val_loss: 0.3369 - val_accuracy: 0.8833\n",
      "Epoch 27/200\n",
      "240/240 [==============================] - 3s 13ms/step - loss: 0.2488 - accuracy: 0.9112 - val_loss: 0.3366 - val_accuracy: 0.8828\n",
      "Epoch 28/200\n",
      "240/240 [==============================] - 3s 12ms/step - loss: 0.2447 - accuracy: 0.9128 - val_loss: 0.3388 - val_accuracy: 0.8810\n",
      "Epoch 29/200\n",
      "240/240 [==============================] - 3s 12ms/step - loss: 0.2425 - accuracy: 0.9128 - val_loss: 0.3346 - val_accuracy: 0.8815\n",
      "Epoch 30/200\n",
      "240/240 [==============================] - 3s 12ms/step - loss: 0.2407 - accuracy: 0.9131 - val_loss: 0.3353 - val_accuracy: 0.8814\n",
      "Epoch 31/200\n",
      "240/240 [==============================] - 3s 13ms/step - loss: 0.2374 - accuracy: 0.9149 - val_loss: 0.3406 - val_accuracy: 0.8809\n",
      "Epoch 32/200\n",
      "240/240 [==============================] - 3s 13ms/step - loss: 0.2350 - accuracy: 0.9157 - val_loss: 0.3380 - val_accuracy: 0.8841\n",
      "Epoch 33/200\n",
      "240/240 [==============================] - 3s 13ms/step - loss: 0.2316 - accuracy: 0.9168 - val_loss: 0.3363 - val_accuracy: 0.8838\n",
      "Epoch 34/200\n",
      "240/240 [==============================] - 3s 13ms/step - loss: 0.2288 - accuracy: 0.9174 - val_loss: 0.3458 - val_accuracy: 0.8812\n",
      "Epoch 35/200\n",
      "240/240 [==============================] - 3s 12ms/step - loss: 0.2265 - accuracy: 0.9192 - val_loss: 0.3359 - val_accuracy: 0.8827\n",
      "Epoch 36/200\n",
      "240/240 [==============================] - 3s 13ms/step - loss: 0.2246 - accuracy: 0.9199 - val_loss: 0.3388 - val_accuracy: 0.8852\n",
      "Epoch 37/200\n",
      "240/240 [==============================] - 3s 13ms/step - loss: 0.2262 - accuracy: 0.9181 - val_loss: 0.3442 - val_accuracy: 0.8813\n",
      "Epoch 38/200\n",
      "240/240 [==============================] - 3s 12ms/step - loss: 0.2245 - accuracy: 0.9194 - val_loss: 0.3397 - val_accuracy: 0.8815\n",
      "Epoch 39/200\n",
      "240/240 [==============================] - 3s 12ms/step - loss: 0.2184 - accuracy: 0.9218 - val_loss: 0.3312 - val_accuracy: 0.8861\n",
      "Epoch 40/200\n",
      "240/240 [==============================] - 3s 13ms/step - loss: 0.2143 - accuracy: 0.9235 - val_loss: 0.3351 - val_accuracy: 0.8855\n",
      "Epoch 41/200\n",
      "240/240 [==============================] - 3s 13ms/step - loss: 0.2120 - accuracy: 0.9242 - val_loss: 0.3396 - val_accuracy: 0.8834\n",
      "Epoch 42/200\n",
      "240/240 [==============================] - 3s 12ms/step - loss: 0.2139 - accuracy: 0.9239 - val_loss: 0.3340 - val_accuracy: 0.8864\n",
      "Epoch 43/200\n",
      "240/240 [==============================] - 3s 12ms/step - loss: 0.2108 - accuracy: 0.9242 - val_loss: 0.3366 - val_accuracy: 0.8843\n",
      "Epoch 44/200\n",
      "240/240 [==============================] - 3s 13ms/step - loss: 0.2065 - accuracy: 0.9261 - val_loss: 0.3395 - val_accuracy: 0.8851\n",
      "Epoch 45/200\n",
      "240/240 [==============================] - 3s 13ms/step - loss: 0.2043 - accuracy: 0.9268 - val_loss: 0.3358 - val_accuracy: 0.8841\n",
      "Epoch 46/200\n",
      "240/240 [==============================] - 3s 13ms/step - loss: 0.2029 - accuracy: 0.9275 - val_loss: 0.3540 - val_accuracy: 0.8805\n",
      "Epoch 47/200\n",
      "240/240 [==============================] - 3s 12ms/step - loss: 0.2047 - accuracy: 0.9258 - val_loss: 0.3489 - val_accuracy: 0.8832\n",
      "Epoch 48/200\n",
      "240/240 [==============================] - 3s 12ms/step - loss: 0.1980 - accuracy: 0.9293 - val_loss: 0.3427 - val_accuracy: 0.8867\n",
      "Epoch 49/200\n",
      "240/240 [==============================] - 3s 12ms/step - loss: 0.1978 - accuracy: 0.9284 - val_loss: 0.3565 - val_accuracy: 0.8815\n",
      "Epoch 50/200\n",
      "240/240 [==============================] - 3s 13ms/step - loss: 0.1965 - accuracy: 0.9299 - val_loss: 0.3461 - val_accuracy: 0.8832\n",
      "Epoch 51/200\n",
      "240/240 [==============================] - 3s 12ms/step - loss: 0.1972 - accuracy: 0.9288 - val_loss: 0.3541 - val_accuracy: 0.8837\n",
      "Epoch 52/200\n",
      "240/240 [==============================] - 3s 13ms/step - loss: 0.1918 - accuracy: 0.9313 - val_loss: 0.3631 - val_accuracy: 0.8807\n",
      "Epoch 53/200\n",
      "240/240 [==============================] - 3s 12ms/step - loss: 0.1933 - accuracy: 0.9311 - val_loss: 0.3581 - val_accuracy: 0.8832\n",
      "Epoch 54/200\n",
      "240/240 [==============================] - 3s 12ms/step - loss: 0.1919 - accuracy: 0.9303 - val_loss: 0.3574 - val_accuracy: 0.8836\n",
      "Epoch 55/200\n",
      "240/240 [==============================] - 3s 13ms/step - loss: 0.1923 - accuracy: 0.9304 - val_loss: 0.3649 - val_accuracy: 0.8831\n",
      "Epoch 56/200\n",
      "240/240 [==============================] - 3s 12ms/step - loss: 0.1866 - accuracy: 0.9337 - val_loss: 0.3659 - val_accuracy: 0.8810\n",
      "Epoch 57/200\n",
      "240/240 [==============================] - 3s 12ms/step - loss: 0.1854 - accuracy: 0.9332 - val_loss: 0.3540 - val_accuracy: 0.8848\n",
      "Epoch 58/200\n",
      "240/240 [==============================] - 3s 13ms/step - loss: 0.1812 - accuracy: 0.9350 - val_loss: 0.3589 - val_accuracy: 0.8843\n",
      "Epoch 59/200\n",
      "240/240 [==============================] - 3s 13ms/step - loss: 0.1828 - accuracy: 0.9337 - val_loss: 0.3605 - val_accuracy: 0.8839\n",
      "Epoch 60/200\n",
      "240/240 [==============================] - 3s 13ms/step - loss: 0.1809 - accuracy: 0.9357 - val_loss: 0.3730 - val_accuracy: 0.8808\n",
      "Epoch 61/200\n",
      "240/240 [==============================] - 3s 12ms/step - loss: 0.1775 - accuracy: 0.9369 - val_loss: 0.3620 - val_accuracy: 0.8827\n",
      "Epoch 62/200\n",
      "240/240 [==============================] - 3s 12ms/step - loss: 0.1756 - accuracy: 0.9366 - val_loss: 0.3639 - val_accuracy: 0.8842\n",
      "Epoch 63/200\n",
      "240/240 [==============================] - 3s 12ms/step - loss: 0.1764 - accuracy: 0.9365 - val_loss: 0.3656 - val_accuracy: 0.8823\n",
      "Epoch 64/200\n",
      "240/240 [==============================] - 3s 12ms/step - loss: 0.1766 - accuracy: 0.9365 - val_loss: 0.3681 - val_accuracy: 0.8826\n",
      "Epoch 65/200\n",
      "240/240 [==============================] - 3s 12ms/step - loss: 0.1726 - accuracy: 0.9378 - val_loss: 0.3765 - val_accuracy: 0.8842\n",
      "Epoch 66/200\n",
      "240/240 [==============================] - 3s 12ms/step - loss: 0.1742 - accuracy: 0.9365 - val_loss: 0.3732 - val_accuracy: 0.8833\n",
      "Epoch 67/200\n",
      "240/240 [==============================] - 3s 13ms/step - loss: 0.1697 - accuracy: 0.9391 - val_loss: 0.3703 - val_accuracy: 0.8835\n",
      "Epoch 68/200\n",
      "240/240 [==============================] - 3s 13ms/step - loss: 0.1681 - accuracy: 0.9396 - val_loss: 0.3812 - val_accuracy: 0.8830\n",
      "Epoch 69/200\n",
      "240/240 [==============================] - 3s 13ms/step - loss: 0.1679 - accuracy: 0.9407 - val_loss: 0.3725 - val_accuracy: 0.8858\n",
      "Epoch 70/200\n",
      "240/240 [==============================] - 3s 13ms/step - loss: 0.1664 - accuracy: 0.9400 - val_loss: 0.3756 - val_accuracy: 0.8847\n",
      "Epoch 71/200\n",
      "240/240 [==============================] - 3s 13ms/step - loss: 0.1665 - accuracy: 0.9405 - val_loss: 0.3882 - val_accuracy: 0.8802\n",
      "Epoch 72/200\n",
      "240/240 [==============================] - 3s 13ms/step - loss: 0.1660 - accuracy: 0.9392 - val_loss: 0.3838 - val_accuracy: 0.8811\n",
      "Epoch 73/200\n",
      "240/240 [==============================] - 3s 12ms/step - loss: 0.1603 - accuracy: 0.9434 - val_loss: 0.3883 - val_accuracy: 0.8824\n",
      "Epoch 74/200\n",
      "240/240 [==============================] - 3s 12ms/step - loss: 0.1622 - accuracy: 0.9418 - val_loss: 0.3859 - val_accuracy: 0.8816\n",
      "Epoch 75/200\n",
      "240/240 [==============================] - 3s 13ms/step - loss: 0.1575 - accuracy: 0.9441 - val_loss: 0.3816 - val_accuracy: 0.8835\n",
      "Epoch 76/200\n",
      "240/240 [==============================] - 3s 13ms/step - loss: 0.1578 - accuracy: 0.9429 - val_loss: 0.4196 - val_accuracy: 0.8754\n",
      "Epoch 77/200\n",
      "240/240 [==============================] - 3s 13ms/step - loss: 0.1595 - accuracy: 0.9429 - val_loss: 0.3927 - val_accuracy: 0.8824\n",
      "Epoch 78/200\n",
      "240/240 [==============================] - 3s 13ms/step - loss: 0.1582 - accuracy: 0.9424 - val_loss: 0.4093 - val_accuracy: 0.8775\n",
      "Epoch 79/200\n",
      "240/240 [==============================] - 3s 13ms/step - loss: 0.1575 - accuracy: 0.9439 - val_loss: 0.3871 - val_accuracy: 0.8832\n",
      "Epoch 80/200\n",
      "240/240 [==============================] - 3s 12ms/step - loss: 0.1558 - accuracy: 0.9450 - val_loss: 0.4035 - val_accuracy: 0.8792\n",
      "Epoch 81/200\n",
      "240/240 [==============================] - 3s 13ms/step - loss: 0.1521 - accuracy: 0.9461 - val_loss: 0.3936 - val_accuracy: 0.8823\n",
      "Epoch 82/200\n",
      "240/240 [==============================] - 3s 12ms/step - loss: 0.1509 - accuracy: 0.9463 - val_loss: 0.4021 - val_accuracy: 0.8801\n",
      "Epoch 83/200\n",
      "240/240 [==============================] - 3s 13ms/step - loss: 0.1499 - accuracy: 0.9461 - val_loss: 0.4177 - val_accuracy: 0.8803\n",
      "Epoch 84/200\n",
      "240/240 [==============================] - 3s 13ms/step - loss: 0.1494 - accuracy: 0.9475 - val_loss: 0.3926 - val_accuracy: 0.8828\n",
      "Epoch 85/200\n",
      "240/240 [==============================] - 3s 13ms/step - loss: 0.1475 - accuracy: 0.9476 - val_loss: 0.4081 - val_accuracy: 0.8827\n",
      "Epoch 86/200\n",
      "240/240 [==============================] - 3s 13ms/step - loss: 0.1491 - accuracy: 0.9456 - val_loss: 0.4065 - val_accuracy: 0.8793\n",
      "Epoch 87/200\n",
      "240/240 [==============================] - 3s 13ms/step - loss: 0.1439 - accuracy: 0.9494 - val_loss: 0.4235 - val_accuracy: 0.8788\n",
      "Epoch 88/200\n",
      "240/240 [==============================] - 3s 13ms/step - loss: 0.1454 - accuracy: 0.9487 - val_loss: 0.4188 - val_accuracy: 0.8806\n",
      "Epoch 89/200\n",
      "240/240 [==============================] - 3s 13ms/step - loss: 0.1449 - accuracy: 0.9485 - val_loss: 0.4089 - val_accuracy: 0.8813\n",
      "Epoch 90/200\n",
      "240/240 [==============================] - 3s 13ms/step - loss: 0.1455 - accuracy: 0.9488 - val_loss: 0.4099 - val_accuracy: 0.8828\n",
      "Epoch 91/200\n",
      "240/240 [==============================] - 3s 13ms/step - loss: 0.1423 - accuracy: 0.9488 - val_loss: 0.4107 - val_accuracy: 0.8824\n",
      "Epoch 92/200\n",
      "240/240 [==============================] - 3s 13ms/step - loss: 0.1454 - accuracy: 0.9481 - val_loss: 0.4166 - val_accuracy: 0.8819\n",
      "Epoch 93/200\n",
      "240/240 [==============================] - 3s 12ms/step - loss: 0.1403 - accuracy: 0.9496 - val_loss: 0.4194 - val_accuracy: 0.8799\n",
      "Epoch 94/200\n",
      "240/240 [==============================] - 3s 13ms/step - loss: 0.1381 - accuracy: 0.9501 - val_loss: 0.4161 - val_accuracy: 0.8827\n",
      "Epoch 95/200\n",
      "240/240 [==============================] - 3s 12ms/step - loss: 0.1404 - accuracy: 0.9505 - val_loss: 0.4257 - val_accuracy: 0.8803\n",
      "Epoch 96/200\n",
      "240/240 [==============================] - 3s 13ms/step - loss: 0.1379 - accuracy: 0.9501 - val_loss: 0.4241 - val_accuracy: 0.8827\n",
      "Epoch 97/200\n",
      "240/240 [==============================] - 3s 12ms/step - loss: 0.1356 - accuracy: 0.9529 - val_loss: 0.4238 - val_accuracy: 0.8815\n",
      "Epoch 98/200\n",
      "240/240 [==============================] - 3s 12ms/step - loss: 0.1340 - accuracy: 0.9517 - val_loss: 0.4243 - val_accuracy: 0.8801\n",
      "Epoch 99/200\n",
      "240/240 [==============================] - 3s 12ms/step - loss: 0.1331 - accuracy: 0.9523 - val_loss: 0.4347 - val_accuracy: 0.8788\n",
      "Epoch 100/200\n",
      "240/240 [==============================] - 3s 13ms/step - loss: 0.1365 - accuracy: 0.9518 - val_loss: 0.4322 - val_accuracy: 0.8815\n",
      "Epoch 101/200\n",
      "240/240 [==============================] - 3s 12ms/step - loss: 0.1310 - accuracy: 0.9536 - val_loss: 0.4340 - val_accuracy: 0.8823\n",
      "Epoch 102/200\n",
      "240/240 [==============================] - 3s 13ms/step - loss: 0.1319 - accuracy: 0.9532 - val_loss: 0.4455 - val_accuracy: 0.8786\n",
      "Epoch 103/200\n",
      "240/240 [==============================] - 3s 12ms/step - loss: 0.1305 - accuracy: 0.9544 - val_loss: 0.4449 - val_accuracy: 0.8783\n",
      "Epoch 104/200\n",
      "240/240 [==============================] - 3s 13ms/step - loss: 0.1322 - accuracy: 0.9530 - val_loss: 0.4388 - val_accuracy: 0.8802\n",
      "Epoch 105/200\n",
      "240/240 [==============================] - 3s 13ms/step - loss: 0.1309 - accuracy: 0.9530 - val_loss: 0.4666 - val_accuracy: 0.8755\n",
      "Epoch 106/200\n",
      "240/240 [==============================] - 3s 12ms/step - loss: 0.1288 - accuracy: 0.9549 - val_loss: 0.4498 - val_accuracy: 0.8801\n",
      "Epoch 107/200\n",
      "240/240 [==============================] - 3s 12ms/step - loss: 0.1277 - accuracy: 0.9545 - val_loss: 0.4405 - val_accuracy: 0.8814\n",
      "Epoch 108/200\n",
      "240/240 [==============================] - 3s 13ms/step - loss: 0.1265 - accuracy: 0.9548 - val_loss: 0.4554 - val_accuracy: 0.8791\n",
      "Epoch 109/200\n",
      "240/240 [==============================] - 3s 13ms/step - loss: 0.1251 - accuracy: 0.9552 - val_loss: 0.4463 - val_accuracy: 0.8792\n",
      "Epoch 110/200\n",
      "240/240 [==============================] - 3s 13ms/step - loss: 0.1252 - accuracy: 0.9557 - val_loss: 0.4526 - val_accuracy: 0.8797\n",
      "Epoch 111/200\n",
      "240/240 [==============================] - 3s 13ms/step - loss: 0.1271 - accuracy: 0.9549 - val_loss: 0.4551 - val_accuracy: 0.8790\n",
      "Epoch 112/200\n",
      "240/240 [==============================] - 3s 12ms/step - loss: 0.1223 - accuracy: 0.9571 - val_loss: 0.4511 - val_accuracy: 0.8801\n",
      "Epoch 113/200\n",
      "240/240 [==============================] - 3s 13ms/step - loss: 0.1242 - accuracy: 0.9556 - val_loss: 0.4624 - val_accuracy: 0.8788\n",
      "Epoch 114/200\n",
      "240/240 [==============================] - 3s 13ms/step - loss: 0.1206 - accuracy: 0.9583 - val_loss: 0.4662 - val_accuracy: 0.8777\n",
      "Epoch 115/200\n",
      "240/240 [==============================] - 3s 12ms/step - loss: 0.1239 - accuracy: 0.9552 - val_loss: 0.4602 - val_accuracy: 0.8801\n",
      "Epoch 116/200\n",
      "240/240 [==============================] - 3s 12ms/step - loss: 0.1222 - accuracy: 0.9566 - val_loss: 0.4753 - val_accuracy: 0.8790\n",
      "Epoch 117/200\n",
      "240/240 [==============================] - 3s 12ms/step - loss: 0.1164 - accuracy: 0.9597 - val_loss: 0.4563 - val_accuracy: 0.8813\n",
      "Epoch 118/200\n",
      "240/240 [==============================] - 3s 13ms/step - loss: 0.1218 - accuracy: 0.9560 - val_loss: 0.4786 - val_accuracy: 0.8771\n",
      "Epoch 119/200\n",
      "240/240 [==============================] - 3s 12ms/step - loss: 0.1194 - accuracy: 0.9576 - val_loss: 0.4774 - val_accuracy: 0.8787\n",
      "Epoch 120/200\n",
      "240/240 [==============================] - 3s 12ms/step - loss: 0.1182 - accuracy: 0.9581 - val_loss: 0.4638 - val_accuracy: 0.8803\n",
      "Epoch 121/200\n",
      "240/240 [==============================] - 3s 12ms/step - loss: 0.1138 - accuracy: 0.9599 - val_loss: 0.4749 - val_accuracy: 0.8771\n",
      "Epoch 122/200\n",
      "240/240 [==============================] - 3s 13ms/step - loss: 0.1142 - accuracy: 0.9599 - val_loss: 0.4820 - val_accuracy: 0.8752\n",
      "Epoch 123/200\n",
      "240/240 [==============================] - 3s 13ms/step - loss: 0.1177 - accuracy: 0.9584 - val_loss: 0.4809 - val_accuracy: 0.8795\n",
      "Epoch 124/200\n",
      "240/240 [==============================] - 3s 12ms/step - loss: 0.1173 - accuracy: 0.9589 - val_loss: 0.4864 - val_accuracy: 0.8782\n",
      "Epoch 125/200\n",
      "240/240 [==============================] - 3s 12ms/step - loss: 0.1160 - accuracy: 0.9589 - val_loss: 0.4848 - val_accuracy: 0.8767\n",
      "Epoch 126/200\n",
      "240/240 [==============================] - 3s 13ms/step - loss: 0.1144 - accuracy: 0.9585 - val_loss: 0.5061 - val_accuracy: 0.8768\n",
      "Epoch 127/200\n",
      "240/240 [==============================] - 3s 13ms/step - loss: 0.1151 - accuracy: 0.9591 - val_loss: 0.4946 - val_accuracy: 0.8774\n",
      "Epoch 128/200\n",
      "240/240 [==============================] - 3s 13ms/step - loss: 0.1094 - accuracy: 0.9615 - val_loss: 0.4832 - val_accuracy: 0.8786\n",
      "Epoch 129/200\n",
      "240/240 [==============================] - 3s 12ms/step - loss: 0.1112 - accuracy: 0.9608 - val_loss: 0.5013 - val_accuracy: 0.8734\n",
      "Epoch 130/200\n",
      "240/240 [==============================] - 3s 13ms/step - loss: 0.1099 - accuracy: 0.9615 - val_loss: 0.4953 - val_accuracy: 0.8781\n",
      "Epoch 131/200\n",
      "240/240 [==============================] - 3s 12ms/step - loss: 0.1061 - accuracy: 0.9628 - val_loss: 0.4844 - val_accuracy: 0.8778\n",
      "Epoch 132/200\n",
      "240/240 [==============================] - 3s 13ms/step - loss: 0.1107 - accuracy: 0.9605 - val_loss: 0.4955 - val_accuracy: 0.8786\n",
      "Epoch 133/200\n",
      "240/240 [==============================] - 3s 12ms/step - loss: 0.1093 - accuracy: 0.9619 - val_loss: 0.5109 - val_accuracy: 0.8754\n",
      "Epoch 134/200\n",
      "240/240 [==============================] - 3s 12ms/step - loss: 0.1048 - accuracy: 0.9639 - val_loss: 0.5170 - val_accuracy: 0.8747\n",
      "Epoch 135/200\n",
      "240/240 [==============================] - 3s 12ms/step - loss: 0.1080 - accuracy: 0.9619 - val_loss: 0.5194 - val_accuracy: 0.8727\n",
      "Epoch 136/200\n",
      "240/240 [==============================] - 3s 12ms/step - loss: 0.1048 - accuracy: 0.9639 - val_loss: 0.5030 - val_accuracy: 0.8784\n",
      "Epoch 137/200\n",
      "240/240 [==============================] - 3s 12ms/step - loss: 0.1049 - accuracy: 0.9632 - val_loss: 0.5106 - val_accuracy: 0.8792\n",
      "Epoch 138/200\n",
      "240/240 [==============================] - 3s 12ms/step - loss: 0.1074 - accuracy: 0.9619 - val_loss: 0.5161 - val_accuracy: 0.8762\n",
      "Epoch 139/200\n",
      "240/240 [==============================] - 3s 13ms/step - loss: 0.1051 - accuracy: 0.9622 - val_loss: 0.5267 - val_accuracy: 0.8741\n",
      "Epoch 140/200\n",
      "240/240 [==============================] - 3s 13ms/step - loss: 0.1017 - accuracy: 0.9652 - val_loss: 0.5157 - val_accuracy: 0.8781\n",
      "Epoch 141/200\n",
      "240/240 [==============================] - 3s 13ms/step - loss: 0.1061 - accuracy: 0.9621 - val_loss: 0.5218 - val_accuracy: 0.8746\n",
      "Epoch 142/200\n",
      "240/240 [==============================] - 3s 12ms/step - loss: 0.1045 - accuracy: 0.9631 - val_loss: 0.5257 - val_accuracy: 0.8757\n",
      "Epoch 143/200\n",
      "240/240 [==============================] - 3s 13ms/step - loss: 0.1036 - accuracy: 0.9632 - val_loss: 0.5316 - val_accuracy: 0.8773\n",
      "Epoch 144/200\n",
      "240/240 [==============================] - 3s 12ms/step - loss: 0.1031 - accuracy: 0.9640 - val_loss: 0.5406 - val_accuracy: 0.8743\n",
      "Epoch 145/200\n",
      "240/240 [==============================] - 3s 13ms/step - loss: 0.1012 - accuracy: 0.9649 - val_loss: 0.5335 - val_accuracy: 0.8763\n",
      "Epoch 146/200\n",
      "240/240 [==============================] - 3s 12ms/step - loss: 0.1031 - accuracy: 0.9639 - val_loss: 0.5342 - val_accuracy: 0.8784\n",
      "Epoch 147/200\n",
      "240/240 [==============================] - 3s 13ms/step - loss: 0.0998 - accuracy: 0.9655 - val_loss: 0.5305 - val_accuracy: 0.8769\n",
      "Epoch 148/200\n",
      "240/240 [==============================] - 3s 13ms/step - loss: 0.1012 - accuracy: 0.9635 - val_loss: 0.5376 - val_accuracy: 0.8765\n",
      "Epoch 149/200\n",
      "240/240 [==============================] - 3s 13ms/step - loss: 0.0991 - accuracy: 0.9655 - val_loss: 0.5326 - val_accuracy: 0.8782\n",
      "Epoch 150/200\n",
      "240/240 [==============================] - 3s 13ms/step - loss: 0.0993 - accuracy: 0.9654 - val_loss: 0.5310 - val_accuracy: 0.8770\n",
      "Epoch 151/200\n",
      "240/240 [==============================] - 3s 12ms/step - loss: 0.0962 - accuracy: 0.9660 - val_loss: 0.5389 - val_accuracy: 0.8760\n",
      "Epoch 152/200\n",
      "240/240 [==============================] - 3s 12ms/step - loss: 0.0945 - accuracy: 0.9676 - val_loss: 0.5371 - val_accuracy: 0.8781\n",
      "Epoch 153/200\n",
      "240/240 [==============================] - 3s 12ms/step - loss: 0.0966 - accuracy: 0.9660 - val_loss: 0.5795 - val_accuracy: 0.8727\n",
      "Epoch 154/200\n",
      "240/240 [==============================] - 3s 13ms/step - loss: 0.0975 - accuracy: 0.9654 - val_loss: 0.5388 - val_accuracy: 0.8771\n",
      "Epoch 155/200\n",
      "240/240 [==============================] - 3s 12ms/step - loss: 0.0968 - accuracy: 0.9659 - val_loss: 0.5433 - val_accuracy: 0.8752\n",
      "Epoch 156/200\n",
      "240/240 [==============================] - 3s 12ms/step - loss: 0.0971 - accuracy: 0.9659 - val_loss: 0.5513 - val_accuracy: 0.8775\n",
      "Epoch 157/200\n",
      "240/240 [==============================] - 3s 13ms/step - loss: 0.0981 - accuracy: 0.9647 - val_loss: 0.5507 - val_accuracy: 0.8783\n",
      "Epoch 158/200\n",
      "240/240 [==============================] - 3s 12ms/step - loss: 0.0909 - accuracy: 0.9680 - val_loss: 0.5558 - val_accuracy: 0.8782\n",
      "Epoch 159/200\n",
      "240/240 [==============================] - 3s 12ms/step - loss: 0.0943 - accuracy: 0.9666 - val_loss: 0.5780 - val_accuracy: 0.8707\n",
      "Epoch 160/200\n",
      "240/240 [==============================] - 3s 12ms/step - loss: 0.0909 - accuracy: 0.9686 - val_loss: 0.5677 - val_accuracy: 0.8742\n",
      "Epoch 161/200\n",
      "240/240 [==============================] - 3s 12ms/step - loss: 0.0928 - accuracy: 0.9674 - val_loss: 0.5707 - val_accuracy: 0.8727\n",
      "Epoch 162/200\n",
      "240/240 [==============================] - 3s 13ms/step - loss: 0.0890 - accuracy: 0.9696 - val_loss: 0.5667 - val_accuracy: 0.8788\n",
      "Epoch 163/200\n",
      "240/240 [==============================] - 3s 13ms/step - loss: 0.0914 - accuracy: 0.9676 - val_loss: 0.5850 - val_accuracy: 0.8736\n",
      "Epoch 164/200\n",
      "240/240 [==============================] - 3s 13ms/step - loss: 0.0927 - accuracy: 0.9674 - val_loss: 0.5607 - val_accuracy: 0.8760\n",
      "Epoch 165/200\n",
      "240/240 [==============================] - 3s 13ms/step - loss: 0.0873 - accuracy: 0.9705 - val_loss: 0.5807 - val_accuracy: 0.8746\n",
      "Epoch 166/200\n",
      "240/240 [==============================] - 3s 13ms/step - loss: 0.0944 - accuracy: 0.9662 - val_loss: 0.5939 - val_accuracy: 0.8736\n",
      "Epoch 167/200\n",
      "240/240 [==============================] - 3s 13ms/step - loss: 0.0888 - accuracy: 0.9685 - val_loss: 0.5900 - val_accuracy: 0.8728\n",
      "Epoch 168/200\n",
      "240/240 [==============================] - 3s 12ms/step - loss: 0.0921 - accuracy: 0.9674 - val_loss: 0.5893 - val_accuracy: 0.8757\n",
      "Epoch 169/200\n",
      "240/240 [==============================] - 3s 12ms/step - loss: 0.0862 - accuracy: 0.9704 - val_loss: 0.5769 - val_accuracy: 0.8760\n",
      "Epoch 170/200\n",
      "240/240 [==============================] - 3s 12ms/step - loss: 0.0866 - accuracy: 0.9701 - val_loss: 0.5756 - val_accuracy: 0.8763\n",
      "Epoch 171/200\n",
      "240/240 [==============================] - 3s 13ms/step - loss: 0.0881 - accuracy: 0.9691 - val_loss: 0.6023 - val_accuracy: 0.8740\n",
      "Epoch 172/200\n",
      "240/240 [==============================] - 3s 13ms/step - loss: 0.0876 - accuracy: 0.9695 - val_loss: 0.5897 - val_accuracy: 0.8756\n",
      "Epoch 173/200\n",
      "240/240 [==============================] - 3s 12ms/step - loss: 0.0854 - accuracy: 0.9704 - val_loss: 0.6120 - val_accuracy: 0.8699\n",
      "Epoch 174/200\n",
      "240/240 [==============================] - 3s 12ms/step - loss: 0.0836 - accuracy: 0.9715 - val_loss: 0.5854 - val_accuracy: 0.8772\n",
      "Epoch 175/200\n",
      "240/240 [==============================] - 3s 13ms/step - loss: 0.0856 - accuracy: 0.9704 - val_loss: 0.5803 - val_accuracy: 0.8761\n",
      "Epoch 176/200\n",
      "240/240 [==============================] - 3s 13ms/step - loss: 0.0834 - accuracy: 0.9708 - val_loss: 0.5966 - val_accuracy: 0.8763\n",
      "Epoch 177/200\n",
      "240/240 [==============================] - 3s 13ms/step - loss: 0.0891 - accuracy: 0.9678 - val_loss: 0.5958 - val_accuracy: 0.8780\n",
      "Epoch 178/200\n",
      "240/240 [==============================] - 3s 12ms/step - loss: 0.0829 - accuracy: 0.9711 - val_loss: 0.6196 - val_accuracy: 0.8734\n",
      "Epoch 179/200\n",
      "240/240 [==============================] - 3s 13ms/step - loss: 0.0841 - accuracy: 0.9698 - val_loss: 0.6176 - val_accuracy: 0.8712\n",
      "Epoch 180/200\n",
      "240/240 [==============================] - 3s 13ms/step - loss: 0.0857 - accuracy: 0.9694 - val_loss: 0.5990 - val_accuracy: 0.8756\n",
      "Epoch 181/200\n",
      "240/240 [==============================] - 3s 12ms/step - loss: 0.0816 - accuracy: 0.9719 - val_loss: 0.6171 - val_accuracy: 0.8742\n",
      "Epoch 182/200\n",
      "240/240 [==============================] - 3s 12ms/step - loss: 0.0849 - accuracy: 0.9698 - val_loss: 0.6156 - val_accuracy: 0.8713\n",
      "Epoch 183/200\n",
      "240/240 [==============================] - 3s 12ms/step - loss: 0.0817 - accuracy: 0.9712 - val_loss: 0.6175 - val_accuracy: 0.8739\n",
      "Epoch 184/200\n",
      "240/240 [==============================] - 3s 13ms/step - loss: 0.0787 - accuracy: 0.9729 - val_loss: 0.6246 - val_accuracy: 0.8748\n",
      "Epoch 185/200\n",
      "240/240 [==============================] - 3s 12ms/step - loss: 0.0811 - accuracy: 0.9719 - val_loss: 0.6159 - val_accuracy: 0.8745\n",
      "Epoch 186/200\n",
      "240/240 [==============================] - 3s 12ms/step - loss: 0.0832 - accuracy: 0.9717 - val_loss: 0.6205 - val_accuracy: 0.8741\n",
      "Epoch 187/200\n",
      "240/240 [==============================] - 3s 12ms/step - loss: 0.0881 - accuracy: 0.9699 - val_loss: 0.6161 - val_accuracy: 0.8746\n",
      "Epoch 188/200\n",
      "240/240 [==============================] - 3s 13ms/step - loss: 0.0823 - accuracy: 0.9709 - val_loss: 0.6146 - val_accuracy: 0.8778\n",
      "Epoch 189/200\n",
      "240/240 [==============================] - 3s 13ms/step - loss: 0.0822 - accuracy: 0.9718 - val_loss: 0.6278 - val_accuracy: 0.8743\n",
      "Epoch 190/200\n",
      "240/240 [==============================] - 3s 12ms/step - loss: 0.0747 - accuracy: 0.9744 - val_loss: 0.6265 - val_accuracy: 0.8777\n",
      "Epoch 191/200\n",
      "240/240 [==============================] - 3s 13ms/step - loss: 0.0759 - accuracy: 0.9744 - val_loss: 0.6438 - val_accuracy: 0.8728\n",
      "Epoch 192/200\n",
      "240/240 [==============================] - 3s 12ms/step - loss: 0.0798 - accuracy: 0.9722 - val_loss: 0.6350 - val_accuracy: 0.8751\n",
      "Epoch 193/200\n",
      "240/240 [==============================] - 3s 13ms/step - loss: 0.0774 - accuracy: 0.9730 - val_loss: 0.6347 - val_accuracy: 0.8781\n",
      "Epoch 194/200\n",
      "240/240 [==============================] - 3s 13ms/step - loss: 0.0806 - accuracy: 0.9717 - val_loss: 0.6315 - val_accuracy: 0.8736\n",
      "Epoch 195/200\n",
      "240/240 [==============================] - 3s 13ms/step - loss: 0.0776 - accuracy: 0.9735 - val_loss: 0.6388 - val_accuracy: 0.8764\n",
      "Epoch 196/200\n",
      "240/240 [==============================] - 3s 13ms/step - loss: 0.0756 - accuracy: 0.9745 - val_loss: 0.6270 - val_accuracy: 0.8763\n",
      "Epoch 197/200\n",
      "240/240 [==============================] - 3s 13ms/step - loss: 0.0798 - accuracy: 0.9724 - val_loss: 0.6564 - val_accuracy: 0.8700\n",
      "Epoch 198/200\n",
      "240/240 [==============================] - 3s 13ms/step - loss: 0.0800 - accuracy: 0.9713 - val_loss: 0.6432 - val_accuracy: 0.8745\n",
      "Epoch 199/200\n",
      "240/240 [==============================] - 3s 12ms/step - loss: 0.0717 - accuracy: 0.9759 - val_loss: 0.6545 - val_accuracy: 0.8722\n",
      "Epoch 200/200\n",
      "240/240 [==============================] - 3s 12ms/step - loss: 0.0733 - accuracy: 0.9745 - val_loss: 0.6493 - val_accuracy: 0.8746\n"
     ]
    },
    {
     "data": {
      "text/plain": [
       "<keras.callbacks.History at 0x7fdbec76cdc0>"
      ]
     },
     "execution_count": 52,
     "metadata": {},
     "output_type": "execute_result"
    }
   ],
   "source": [
    "#collapse_output\n",
    "cb1 = tf.keras.callbacks.TensorBoard()\n",
    "net.fit(X,y,epochs=200,batch_size=200,validation_split=0.2,callbacks=cb1,verbose=1) "
   ]
  },
  {
   "cell_type": "markdown",
   "id": "1e6fa070-74cd-478a-abaa-651baf1772d5",
   "metadata": {},
   "source": [
    "- cb1을 만들어줘서 callback을 저장해줬다?"
   ]
  },
  {
   "cell_type": "markdown",
   "id": "7b94e107-391d-41a1-9823-3cbd3f4a9748",
   "metadata": {
    "id": "7b94e107-391d-41a1-9823-3cbd3f4a9748"
   },
   "source": [
    "`-` 텐서보드 여는 방법1 🥸"
   ]
  },
  {
   "cell_type": "code",
   "execution_count": 58,
   "id": "244ffe75-75f9-40c1-8e91-0eb0160de4a1",
   "metadata": {
    "id": "244ffe75-75f9-40c1-8e91-0eb0160de4a1"
   },
   "outputs": [
    {
     "name": "stdout",
     "output_type": "stream",
     "text": [
      "The tensorboard extension is already loaded. To reload it, use:\n",
      "  %reload_ext tensorboard\n"
     ]
    }
   ],
   "source": [
    "%load_ext tensorboard\n",
    "# 주피터노트북 (혹은 주피터랩)에서 텐서보드를 임베딩하여 넣을 수 있도록 도와주는 매직펑션"
   ]
  },
  {
   "cell_type": "markdown",
   "id": "1e930616-bb23-42df-bf9d-3772369c8a3c",
   "metadata": {},
   "source": [
    "- `logs`라는 폴더가 생김!"
   ]
  },
  {
   "cell_type": "code",
   "execution_count": 81,
   "id": "bf69dd1f-3319-422b-b21c-321785d1c5e5",
   "metadata": {},
   "outputs": [],
   "source": [
    "#%tensorboard --logdir logs --host 0.0.0.0"
   ]
  },
  {
   "cell_type": "code",
   "execution_count": 67,
   "id": "0caf4156-9c41-4ead-b35e-e9b5525167aa",
   "metadata": {
    "id": "0caf4156-9c41-4ead-b35e-e9b5525167aa"
   },
   "outputs": [],
   "source": [
    "#텐서보드 죽이는 방법\n",
    "#!rm -rf logs  #폴더 지우기\n",
    "#!kill 2000620"
   ]
  },
  {
   "cell_type": "code",
   "execution_count": 60,
   "id": "5d4a3fdc-68af-4578-ab46-ad1223858395",
   "metadata": {
    "id": "5d4a3fdc-68af-4578-ab46-ad1223858395"
   },
   "outputs": [],
   "source": [
    "#\n",
    "# %tensorboard --logdir logs --host 0.0.0.0\n",
    "# %tensorboard --logdir logs # <-- 실습에서는 이렇게 하면됩니다. "
   ]
  },
  {
   "cell_type": "markdown",
   "id": "813f099d-850f-4a88-b40b-46907e27c426",
   "metadata": {
    "id": "813f099d-850f-4a88-b40b-46907e27c426"
   },
   "source": [
    "(참고사항) 파이썬 3.10의 경우 아래의 수정이 필요\n",
    "\n",
    "`?/python3.10/site-packages/tensorboard/_vendor/html5lib/_trie/_base.py` 을 열고\n",
    "```python\n",
    "from collections import Mapping ### 수정전\n",
    "from collections.abc import Mapping ### 수정후 \n",
    "```\n",
    "와 같이 수정한다. "
   ]
  },
  {
   "cell_type": "markdown",
   "id": "a08cf376-2130-401a-a517-8a1ecef165b6",
   "metadata": {
    "id": "a08cf376-2130-401a-a517-8a1ecef165b6"
   },
   "source": [
    "- 왜냐하면 파이썬 3.10부터 `from collections import Mapping` 가 동작하지 않고 `from collections.abc import Mapping` 가 동작하도록 문법이 바뀜"
   ]
  },
  {
   "cell_type": "markdown",
   "id": "3fc22264-c3f3-4123-ab63-aa0670fff692",
   "metadata": {
    "id": "3fc22264-c3f3-4123-ab63-aa0670fff692"
   },
   "source": [
    "`-` 텐서보드를 실행하는 방법2"
   ]
  },
  {
   "cell_type": "code",
   "execution_count": 61,
   "id": "59326423-ffe7-493b-a235-3e8ea16867ba",
   "metadata": {
    "id": "59326423-ffe7-493b-a235-3e8ea16867ba"
   },
   "outputs": [],
   "source": [
    "#\n",
    "# !tensorboard --logdir logs --host 0.0.0.0\n",
    "# !tensorboard --logdir logs # <-- 실습에서는 이렇게 하면됩니다. "
   ]
  },
  {
   "cell_type": "markdown",
   "id": "1cf3208f-2be7-458f-96f0-c059269a331e",
   "metadata": {
    "id": "1cf3208f-2be7-458f-96f0-c059269a331e"
   },
   "source": [
    "#### 조기종료 "
   ]
  },
  {
   "cell_type": "markdown",
   "id": "9dbaad6d-da11-4b47-8651-ecee93293dbb",
   "metadata": {
    "id": "9dbaad6d-da11-4b47-8651-ecee93293dbb"
   },
   "source": [
    "`-` 텐서보드를 살펴보니 특정에폭 이후에는 오히려 과적합이 진행되는 듯 하다 (학습할수록 손해인듯 하다) $\\to$ 그 특정에폭까지만 학습해보자"
   ]
  },
  {
   "cell_type": "code",
   "execution_count": 62,
   "id": "1797f22c-116e-48c3-a0ce-f42286656998",
   "metadata": {
    "id": "1797f22c-116e-48c3-a0ce-f42286656998"
   },
   "outputs": [],
   "source": [
    "tf.random.set_seed(43052)\n",
    "net = tf.keras.Sequential()\n",
    "net.add(tf.keras.layers.Flatten())\n",
    "net.add(tf.keras.layers.Dense(5000,activation='relu')) ## 과적합좀 시키려고 \n",
    "net.add(tf.keras.layers.Dense(5000,activation='relu')) ## 레이어를 2장만듬 + 레이어하나당 노드수도 증가 \n",
    "net.add(tf.keras.layers.Dense(10,activation='softmax'))\n",
    "net.compile(optimizer='adam',loss=tf.losses.categorical_crossentropy,metrics='accuracy')"
   ]
  },
  {
   "cell_type": "markdown",
   "id": "86b537ca-864a-437f-a55c-17fbaac8008a",
   "metadata": {
    "id": "9dbaad6d-da11-4b47-8651-ecee93293dbb"
   },
   "source": [
    "`-` 🥸 cb2를 만들어서 val-loss가 1회 증가하면 멈추도록 함"
   ]
  },
  {
   "cell_type": "code",
   "execution_count": 63,
   "id": "66f8f26d-5e3b-49ca-8e11-2ccfe3f3150e",
   "metadata": {
    "id": "66f8f26d-5e3b-49ca-8e11-2ccfe3f3150e",
    "outputId": "725370c1-c260-43da-c38d-6548f61d2bc5"
   },
   "outputs": [
    {
     "name": "stdout",
     "output_type": "stream",
     "text": [
      "Epoch 1/200\n",
      "240/240 [==============================] - 4s 14ms/step - loss: 0.5489 - accuracy: 0.8137 - val_loss: 0.4163 - val_accuracy: 0.8469\n",
      "Epoch 2/200\n",
      "240/240 [==============================] - 3s 14ms/step - loss: 0.3564 - accuracy: 0.8675 - val_loss: 0.3638 - val_accuracy: 0.8701\n",
      "Epoch 3/200\n",
      "240/240 [==============================] - 3s 14ms/step - loss: 0.3240 - accuracy: 0.8787 - val_loss: 0.3598 - val_accuracy: 0.8706\n",
      "Epoch 4/200\n",
      "240/240 [==============================] - 3s 14ms/step - loss: 0.2982 - accuracy: 0.8874 - val_loss: 0.3469 - val_accuracy: 0.8779\n",
      "Epoch 5/200\n",
      "240/240 [==============================] - 3s 14ms/step - loss: 0.2786 - accuracy: 0.8955 - val_loss: 0.3324 - val_accuracy: 0.8791\n",
      "Epoch 6/200\n",
      "240/240 [==============================] - 3s 14ms/step - loss: 0.2643 - accuracy: 0.9000 - val_loss: 0.3243 - val_accuracy: 0.8821\n",
      "Epoch 7/200\n",
      "240/240 [==============================] - 3s 14ms/step - loss: 0.2486 - accuracy: 0.9067 - val_loss: 0.3187 - val_accuracy: 0.8903\n",
      "Epoch 8/200\n",
      "240/240 [==============================] - 3s 14ms/step - loss: 0.2357 - accuracy: 0.9100 - val_loss: 0.3193 - val_accuracy: 0.8875\n"
     ]
    },
    {
     "data": {
      "text/plain": [
       "<keras.callbacks.History at 0x7fdbec505cf0>"
      ]
     },
     "execution_count": 63,
     "metadata": {},
     "output_type": "execute_result"
    }
   ],
   "source": [
    "#\n",
    "#cb1 = tf.keras.callbacks.TensorBoard()\n",
    "cb2 = tf.keras.callbacks.EarlyStopping(patience=1) # val-loss가 1회증가하면 멈추어라 \n",
    "net.fit(X,y,epochs=200,batch_size=200,validation_split=0.2,callbacks=cb2,verbose=1) "
   ]
  },
  {
   "cell_type": "code",
   "execution_count": 68,
   "id": "14125cdd-2818-4086-85c0-e60e9bb1ae80",
   "metadata": {
    "id": "14125cdd-2818-4086-85c0-e60e9bb1ae80",
    "outputId": "407c1439-a147-4f9f-c836-e7421fda76ce"
   },
   "outputs": [
    {
     "name": "stdout",
     "output_type": "stream",
     "text": [
      "Epoch 1/200\n",
      "240/240 [==============================] - 4s 15ms/step - loss: 0.2290 - accuracy: 0.9126 - val_loss: 0.3217 - val_accuracy: 0.8848\n",
      "Epoch 2/200\n",
      "240/240 [==============================] - 3s 14ms/step - loss: 0.2154 - accuracy: 0.9181 - val_loss: 0.3374 - val_accuracy: 0.8833\n"
     ]
    },
    {
     "data": {
      "text/plain": [
       "<keras.callbacks.History at 0x7fdbec5cd9c0>"
      ]
     },
     "execution_count": 68,
     "metadata": {},
     "output_type": "execute_result"
    }
   ],
   "source": [
    "#\n",
    "#cb1 = tf.keras.callbacks.TensorBoard()\n",
    "cb2 = tf.keras.callbacks.EarlyStopping(patience=1) # val-loss가 1회증가하면 멈추어라 \n",
    "net.fit(X,y,epochs=200,batch_size=200,validation_split=0.2,callbacks=cb2,verbose=1) "
   ]
  },
  {
   "cell_type": "code",
   "execution_count": 69,
   "id": "e77493a9-01ec-446f-ae11-c0eab3496aa9",
   "metadata": {
    "id": "e77493a9-01ec-446f-ae11-c0eab3496aa9",
    "outputId": "70dcf337-58e8-4844-dccf-edddab8ff6d3"
   },
   "outputs": [
    {
     "name": "stdout",
     "output_type": "stream",
     "text": [
      "Epoch 1/200\n",
      "240/240 [==============================] - 3s 14ms/step - loss: 0.2071 - accuracy: 0.9198 - val_loss: 0.3339 - val_accuracy: 0.8879\n",
      "Epoch 2/200\n",
      "240/240 [==============================] - 3s 14ms/step - loss: 0.1919 - accuracy: 0.9265 - val_loss: 0.3282 - val_accuracy: 0.8877\n",
      "Epoch 3/200\n",
      "240/240 [==============================] - 3s 14ms/step - loss: 0.1914 - accuracy: 0.9253 - val_loss: 0.3396 - val_accuracy: 0.8915\n"
     ]
    },
    {
     "data": {
      "text/plain": [
       "<keras.callbacks.History at 0x7fdbec653790>"
      ]
     },
     "execution_count": 69,
     "metadata": {},
     "output_type": "execute_result"
    }
   ],
   "source": [
    "#\n",
    "#cb1 = tf.keras.callbacks.TensorBoard()\n",
    "cb2 = tf.keras.callbacks.EarlyStopping(patience=1) # val-loss가 1회증가하면 멈추어라 \n",
    "net.fit(X,y,epochs=200,batch_size=200,validation_split=0.2,callbacks=cb2,verbose=1) "
   ]
  },
  {
   "cell_type": "code",
   "execution_count": 70,
   "id": "bd282760-81a7-4cba-a241-7bd8c709763f",
   "metadata": {
    "id": "bd282760-81a7-4cba-a241-7bd8c709763f",
    "outputId": "3f9536ad-4057-441e-94f8-370dcdc0a484"
   },
   "outputs": [
    {
     "name": "stdout",
     "output_type": "stream",
     "text": [
      "Epoch 1/200\n",
      "240/240 [==============================] - 3s 14ms/step - loss: 0.1772 - accuracy: 0.9303 - val_loss: 0.3618 - val_accuracy: 0.8833\n",
      "Epoch 2/200\n",
      "240/240 [==============================] - 3s 14ms/step - loss: 0.1708 - accuracy: 0.9339 - val_loss: 0.3524 - val_accuracy: 0.8879\n",
      "Epoch 3/200\n",
      "240/240 [==============================] - 3s 14ms/step - loss: 0.1685 - accuracy: 0.9350 - val_loss: 0.3503 - val_accuracy: 0.8935\n",
      "Epoch 4/200\n",
      "240/240 [==============================] - 3s 14ms/step - loss: 0.1568 - accuracy: 0.9391 - val_loss: 0.3506 - val_accuracy: 0.8973\n"
     ]
    },
    {
     "data": {
      "text/plain": [
       "<keras.callbacks.History at 0x7fdbec751390>"
      ]
     },
     "execution_count": 70,
     "metadata": {},
     "output_type": "execute_result"
    }
   ],
   "source": [
    "#\n",
    "#cb1 = tf.keras.callbacks.TensorBoard()\n",
    "cb2 = tf.keras.callbacks.EarlyStopping(patience=1) # val-loss가 1회증가하면 멈추어라 \n",
    "net.fit(X,y,epochs=200,batch_size=200,validation_split=0.2,callbacks=cb2,verbose=1) "
   ]
  },
  {
   "cell_type": "code",
   "execution_count": 71,
   "id": "bf9455d7-c1b5-4022-a74b-97031b8b0401",
   "metadata": {
    "id": "bf9455d7-c1b5-4022-a74b-97031b8b0401",
    "outputId": "f59002a3-ad33-4ef6-bcd0-743420d387fb"
   },
   "outputs": [
    {
     "name": "stdout",
     "output_type": "stream",
     "text": [
      "Epoch 1/200\n",
      "240/240 [==============================] - 3s 14ms/step - loss: 0.1478 - accuracy: 0.9419 - val_loss: 0.3848 - val_accuracy: 0.8879\n",
      "Epoch 2/200\n",
      "240/240 [==============================] - 3s 14ms/step - loss: 0.1430 - accuracy: 0.9440 - val_loss: 0.3706 - val_accuracy: 0.8929\n",
      "Epoch 3/200\n",
      "240/240 [==============================] - 3s 14ms/step - loss: 0.1368 - accuracy: 0.9463 - val_loss: 0.3852 - val_accuracy: 0.8916\n"
     ]
    },
    {
     "data": {
      "text/plain": [
       "<keras.callbacks.History at 0x7fdbec505db0>"
      ]
     },
     "execution_count": 71,
     "metadata": {},
     "output_type": "execute_result"
    }
   ],
   "source": [
    "#\n",
    "#cb1 = tf.keras.callbacks.TensorBoard()\n",
    "cb2 = tf.keras.callbacks.EarlyStopping(patience=1) # val-loss가 1회증가하면 멈추어라 \n",
    "net.fit(X,y,epochs=200,batch_size=200,validation_split=0.2,callbacks=cb2,verbose=1) "
   ]
  },
  {
   "cell_type": "markdown",
   "id": "777ce4cd-27f3-4aec-8795-6a161f6a6c29",
   "metadata": {
    "id": "777ce4cd-27f3-4aec-8795-6a161f6a6c29"
   },
   "source": [
    "`-` 몇 번 좀 참았다가 멈추면 좋겠다. "
   ]
  },
  {
   "cell_type": "code",
   "execution_count": 72,
   "id": "e1e29cab-1a0a-4cdc-b9d2-595dbc50c2e0",
   "metadata": {
    "id": "e1e29cab-1a0a-4cdc-b9d2-595dbc50c2e0"
   },
   "outputs": [],
   "source": [
    "tf.random.set_seed(43052)\n",
    "net = tf.keras.Sequential()\n",
    "net.add(tf.keras.layers.Flatten())\n",
    "net.add(tf.keras.layers.Dense(5000,activation='relu')) ## 과적합좀 시키려고 \n",
    "net.add(tf.keras.layers.Dense(5000,activation='relu')) ## 레이어를 2장만듬 + 레이어하나당 노드수도 증가 \n",
    "net.add(tf.keras.layers.Dense(10,activation='softmax'))\n",
    "net.compile(optimizer='adam',loss=tf.losses.categorical_crossentropy,metrics='accuracy')"
   ]
  },
  {
   "cell_type": "code",
   "execution_count": 73,
   "id": "14c8be6e-7a43-4eae-8a46-eed8cef26495",
   "metadata": {
    "id": "14c8be6e-7a43-4eae-8a46-eed8cef26495",
    "outputId": "7c8b8be1-acea-493a-b4e2-9af936487b5b"
   },
   "outputs": [
    {
     "name": "stdout",
     "output_type": "stream",
     "text": [
      "Epoch 1/200\n",
      "240/240 [==============================] - 3s 13ms/step - loss: 0.5488 - accuracy: 0.8127 - val_loss: 0.4007 - val_accuracy: 0.8533\n",
      "Epoch 2/200\n",
      "240/240 [==============================] - 3s 12ms/step - loss: 0.3587 - accuracy: 0.8666 - val_loss: 0.3648 - val_accuracy: 0.8708\n",
      "Epoch 3/200\n",
      "240/240 [==============================] - 3s 12ms/step - loss: 0.3235 - accuracy: 0.8790 - val_loss: 0.3477 - val_accuracy: 0.8737\n",
      "Epoch 4/200\n",
      "240/240 [==============================] - 3s 12ms/step - loss: 0.2946 - accuracy: 0.8892 - val_loss: 0.3448 - val_accuracy: 0.8788\n",
      "Epoch 5/200\n",
      "240/240 [==============================] - 3s 14ms/step - loss: 0.2808 - accuracy: 0.8958 - val_loss: 0.3273 - val_accuracy: 0.8827\n",
      "Epoch 6/200\n",
      "240/240 [==============================] - 3s 13ms/step - loss: 0.2622 - accuracy: 0.9001 - val_loss: 0.3078 - val_accuracy: 0.8890\n",
      "Epoch 7/200\n",
      "240/240 [==============================] - 3s 13ms/step - loss: 0.2473 - accuracy: 0.9070 - val_loss: 0.3146 - val_accuracy: 0.8877\n",
      "Epoch 8/200\n",
      "240/240 [==============================] - 3s 13ms/step - loss: 0.2360 - accuracy: 0.9102 - val_loss: 0.3174 - val_accuracy: 0.8909\n",
      "Epoch 9/200\n",
      "240/240 [==============================] - 3s 13ms/step - loss: 0.2277 - accuracy: 0.9128 - val_loss: 0.3141 - val_accuracy: 0.8928\n",
      "Epoch 10/200\n",
      "240/240 [==============================] - 3s 13ms/step - loss: 0.2132 - accuracy: 0.9189 - val_loss: 0.3175 - val_accuracy: 0.8907\n",
      "Epoch 11/200\n",
      "240/240 [==============================] - 3s 13ms/step - loss: 0.2065 - accuracy: 0.9200 - val_loss: 0.3279 - val_accuracy: 0.8881\n"
     ]
    },
    {
     "data": {
      "text/plain": [
       "<keras.callbacks.History at 0x7fdbf848b010>"
      ]
     },
     "execution_count": 73,
     "metadata": {},
     "output_type": "execute_result"
    }
   ],
   "source": [
    "#\n",
    "#cb1 = tf.keras.callbacks.TensorBoard()\n",
    "cb2 = tf.keras.callbacks.EarlyStopping(patience=5) # 좀더 참다가 멈추어라 \n",
    "net.fit(X,y,epochs=200,batch_size=200,validation_split=0.2,callbacks=cb2,verbose=1) "
   ]
  },
  {
   "cell_type": "markdown",
   "id": "d4891c40-60c7-4200-ba4e-1136d5886f90",
   "metadata": {
    "id": "d4891c40-60c7-4200-ba4e-1136d5886f90"
   },
   "source": [
    "`-` 텐서보드로 그려보자?"
   ]
  },
  {
   "cell_type": "code",
   "execution_count": 75,
   "id": "f963092d-4779-46e0-9fb3-ad1110b84261",
   "metadata": {
    "id": "f963092d-4779-46e0-9fb3-ad1110b84261"
   },
   "outputs": [],
   "source": [
    "#\n",
    "#%tensorboard --logdir logs --host 0.0.0.0 \n",
    "# 아무것도 안나온다 -> 왜? cb1을 써야 텐서보드가 나옴"
   ]
  },
  {
   "cell_type": "markdown",
   "id": "c85b8520-fb7e-489d-ac01-530a52cb9423",
   "metadata": {
    "id": "c85b8520-fb7e-489d-ac01-530a52cb9423"
   },
   "source": [
    "`-` 조기종료와 텐서보드를 같이 쓰려면?"
   ]
  },
  {
   "cell_type": "code",
   "execution_count": 76,
   "id": "5a8e7583-c664-468b-ab67-6f8b54df485b",
   "metadata": {
    "id": "5a8e7583-c664-468b-ab67-6f8b54df485b"
   },
   "outputs": [],
   "source": [
    "tf.random.set_seed(43052)\n",
    "net = tf.keras.Sequential()\n",
    "net.add(tf.keras.layers.Flatten())\n",
    "net.add(tf.keras.layers.Dense(50,activation='relu')) \n",
    "net.add(tf.keras.layers.Dense(10,activation='softmax'))\n",
    "net.compile(optimizer='adam',loss=tf.losses.categorical_crossentropy,metrics='accuracy')"
   ]
  },
  {
   "cell_type": "code",
   "execution_count": 77,
   "id": "85fbb75d-7c66-486d-8fd2-e37d8db0cbae",
   "metadata": {
    "id": "85fbb75d-7c66-486d-8fd2-e37d8db0cbae",
    "outputId": "3d483206-c20d-482c-f932-459f50d85406"
   },
   "outputs": [
    {
     "name": "stdout",
     "output_type": "stream",
     "text": [
      "Epoch 1/200\n",
      "240/240 [==============================] - 3s 13ms/step - loss: 0.7184 - accuracy: 0.7581 - val_loss: 0.5077 - val_accuracy: 0.8276\n",
      "Epoch 2/200\n",
      "240/240 [==============================] - 3s 12ms/step - loss: 0.4752 - accuracy: 0.8386 - val_loss: 0.4793 - val_accuracy: 0.8342\n",
      "Epoch 3/200\n",
      "240/240 [==============================] - 3s 12ms/step - loss: 0.4304 - accuracy: 0.8517 - val_loss: 0.4386 - val_accuracy: 0.8497\n",
      "Epoch 4/200\n",
      "240/240 [==============================] - 3s 12ms/step - loss: 0.4048 - accuracy: 0.8582 - val_loss: 0.4029 - val_accuracy: 0.8603\n",
      "Epoch 5/200\n",
      "240/240 [==============================] - 3s 12ms/step - loss: 0.3832 - accuracy: 0.8669 - val_loss: 0.3932 - val_accuracy: 0.8619\n",
      "Epoch 6/200\n",
      "240/240 [==============================] - 3s 13ms/step - loss: 0.3697 - accuracy: 0.8705 - val_loss: 0.3842 - val_accuracy: 0.8657\n",
      "Epoch 7/200\n",
      "240/240 [==============================] - 3s 13ms/step - loss: 0.3569 - accuracy: 0.8759 - val_loss: 0.3844 - val_accuracy: 0.8668\n",
      "Epoch 8/200\n",
      "240/240 [==============================] - 3s 13ms/step - loss: 0.3482 - accuracy: 0.8774 - val_loss: 0.3679 - val_accuracy: 0.8708\n",
      "Epoch 9/200\n",
      "240/240 [==============================] - 3s 13ms/step - loss: 0.3387 - accuracy: 0.8799 - val_loss: 0.3602 - val_accuracy: 0.8719\n",
      "Epoch 10/200\n",
      "240/240 [==============================] - 3s 13ms/step - loss: 0.3299 - accuracy: 0.8820 - val_loss: 0.3610 - val_accuracy: 0.8748\n",
      "Epoch 11/200\n",
      "240/240 [==============================] - 3s 13ms/step - loss: 0.3229 - accuracy: 0.8858 - val_loss: 0.3574 - val_accuracy: 0.8717\n",
      "Epoch 12/200\n",
      "240/240 [==============================] - 3s 13ms/step - loss: 0.3157 - accuracy: 0.8873 - val_loss: 0.3572 - val_accuracy: 0.8743\n",
      "Epoch 13/200\n",
      "240/240 [==============================] - 3s 13ms/step - loss: 0.3106 - accuracy: 0.8899 - val_loss: 0.3545 - val_accuracy: 0.8761\n",
      "Epoch 14/200\n",
      "240/240 [==============================] - 3s 13ms/step - loss: 0.3046 - accuracy: 0.8914 - val_loss: 0.3493 - val_accuracy: 0.8759\n",
      "Epoch 15/200\n",
      "240/240 [==============================] - 3s 12ms/step - loss: 0.3011 - accuracy: 0.8928 - val_loss: 0.3483 - val_accuracy: 0.8776\n",
      "Epoch 16/200\n",
      "240/240 [==============================] - 3s 12ms/step - loss: 0.2988 - accuracy: 0.8935 - val_loss: 0.3733 - val_accuracy: 0.8716\n",
      "Epoch 17/200\n",
      "240/240 [==============================] - 3s 12ms/step - loss: 0.2925 - accuracy: 0.8947 - val_loss: 0.3481 - val_accuracy: 0.8768\n",
      "Epoch 18/200\n",
      "240/240 [==============================] - 3s 13ms/step - loss: 0.2880 - accuracy: 0.8951 - val_loss: 0.3396 - val_accuracy: 0.8801\n",
      "Epoch 19/200\n",
      "240/240 [==============================] - 3s 12ms/step - loss: 0.2827 - accuracy: 0.8983 - val_loss: 0.3438 - val_accuracy: 0.8800\n",
      "Epoch 20/200\n",
      "240/240 [==============================] - 3s 13ms/step - loss: 0.2791 - accuracy: 0.8985 - val_loss: 0.3486 - val_accuracy: 0.8773\n",
      "Epoch 21/200\n",
      "240/240 [==============================] - 3s 12ms/step - loss: 0.2765 - accuracy: 0.9009 - val_loss: 0.3350 - val_accuracy: 0.8815\n",
      "Epoch 22/200\n",
      "240/240 [==============================] - 3s 13ms/step - loss: 0.2708 - accuracy: 0.9015 - val_loss: 0.3349 - val_accuracy: 0.8806\n",
      "Epoch 23/200\n",
      "240/240 [==============================] - 3s 12ms/step - loss: 0.2688 - accuracy: 0.9030 - val_loss: 0.3370 - val_accuracy: 0.8823\n",
      "Epoch 24/200\n",
      "240/240 [==============================] - 3s 13ms/step - loss: 0.2659 - accuracy: 0.9044 - val_loss: 0.3424 - val_accuracy: 0.8814\n",
      "Epoch 25/200\n",
      "240/240 [==============================] - 3s 13ms/step - loss: 0.2608 - accuracy: 0.9060 - val_loss: 0.3386 - val_accuracy: 0.8821\n",
      "Epoch 26/200\n",
      "240/240 [==============================] - 3s 13ms/step - loss: 0.2606 - accuracy: 0.9054 - val_loss: 0.3411 - val_accuracy: 0.8809\n",
      "Epoch 27/200\n",
      "240/240 [==============================] - 3s 13ms/step - loss: 0.2575 - accuracy: 0.9073 - val_loss: 0.3383 - val_accuracy: 0.8828\n",
      "Epoch 28/200\n",
      "240/240 [==============================] - 3s 12ms/step - loss: 0.2523 - accuracy: 0.9096 - val_loss: 0.3481 - val_accuracy: 0.8802\n",
      "Epoch 29/200\n",
      "240/240 [==============================] - 3s 12ms/step - loss: 0.2530 - accuracy: 0.9087 - val_loss: 0.3404 - val_accuracy: 0.8810\n"
     ]
    },
    {
     "data": {
      "text/plain": [
       "<keras.callbacks.History at 0x7fdbec35e170>"
      ]
     },
     "execution_count": 77,
     "metadata": {},
     "output_type": "execute_result"
    }
   ],
   "source": [
    "cb1 = tf.keras.callbacks.TensorBoard()\n",
    "cb2 = tf.keras.callbacks.EarlyStopping(patience=7) # 좀더 참다가 멈추어라 \n",
    "net.fit(X,y,epochs=200,batch_size=200,validation_split=0.2,callbacks=[cb1,cb2]) "
   ]
  },
  {
   "cell_type": "code",
   "execution_count": 78,
   "id": "bc54043d-0df0-4e78-b1b0-1fa2c1c6940a",
   "metadata": {
    "id": "bc54043d-0df0-4e78-b1b0-1fa2c1c6940a"
   },
   "outputs": [
    {
     "data": {
      "text/plain": [
       "Reusing TensorBoard on port 6006 (pid 2001406), started 0:01:49 ago. (Use '!kill 2001406' to kill it.)"
      ]
     },
     "metadata": {},
     "output_type": "display_data"
    },
    {
     "data": {
      "text/html": [
       "\n",
       "      <iframe id=\"tensorboard-frame-b1b469c03aec8413\" width=\"100%\" height=\"800\" frameborder=\"0\">\n",
       "      </iframe>\n",
       "      <script>\n",
       "        (function() {\n",
       "          const frame = document.getElementById(\"tensorboard-frame-b1b469c03aec8413\");\n",
       "          const url = new URL(\"/\", window.location);\n",
       "          const port = 6006;\n",
       "          if (port) {\n",
       "            url.port = port;\n",
       "          }\n",
       "          frame.src = url;\n",
       "        })();\n",
       "      </script>\n",
       "    "
      ],
      "text/plain": [
       "<IPython.core.display.HTML object>"
      ]
     },
     "metadata": {},
     "output_type": "display_data"
    }
   ],
   "source": [
    "# callbacks=[cb1,cb2]로 묶어줬다\n",
    "# 조기종료가 구현된 그림이 출력\n",
    "#%tensorboard --logdir logs --host 0.0.0.0 "
   ]
  },
  {
   "cell_type": "code",
   "execution_count": 82,
   "id": "e5ea211d-b97d-4054-aeae-7e4b62420c10",
   "metadata": {},
   "outputs": [],
   "source": [
    "#텐서보드 죽이는 방법\n",
    "#!rm -rf logs  #폴더 지우기\n",
    "#!kill 2001406"
   ]
  },
  {
   "cell_type": "markdown",
   "id": "fa983e19-e107-4522-a0fb-798e61519d22",
   "metadata": {
    "id": "fa983e19-e107-4522-a0fb-798e61519d22"
   },
   "source": [
    "#### 하이퍼파라메터 선택"
   ]
  },
  {
   "cell_type": "markdown",
   "id": "84afda09-5de1-41f2-aee2-252cbd93c355",
   "metadata": {
    "id": "84afda09-5de1-41f2-aee2-252cbd93c355"
   },
   "source": [
    "`-` 하이퍼파라메터 설정"
   ]
  },
  {
   "cell_type": "code",
   "execution_count": 79,
   "id": "e00a6c2b-6a25-4f0c-9a16-f23a9b364448",
   "metadata": {
    "id": "e00a6c2b-6a25-4f0c-9a16-f23a9b364448"
   },
   "outputs": [],
   "source": [
    "from tensorboard.plugins.hparams import api as hp"
   ]
  },
  {
   "cell_type": "code",
   "execution_count": 80,
   "id": "9e1e22b7-6859-4ab6-9626-eebb2f793740",
   "metadata": {
    "id": "9e1e22b7-6859-4ab6-9626-eebb2f793740",
    "outputId": "7e01fa80-c74a-46f5-a18f-3545fcc4dd08"
   },
   "outputs": [
    {
     "name": "stdout",
     "output_type": "stream",
     "text": [
      "313/313 [==============================] - 4s 12ms/step - loss: 0.3695 - accuracy: 0.8715\n"
     ]
    }
   ],
   "source": [
    "a=net.evaluate(XX,yy)"
   ]
  },
  {
   "cell_type": "code",
   "execution_count": 83,
   "id": "ff328d81-caac-46a1-af77-4d7ea5325815",
   "metadata": {
    "id": "ff328d81-caac-46a1-af77-4d7ea5325815",
    "outputId": "a21c9e7a-caf4-4bfd-ff51-97073e044bf7"
   },
   "outputs": [
    {
     "name": "stdout",
     "output_type": "stream",
     "text": [
      "Epoch 1/3\n",
      "1875/1875 [==============================] - 19s 10ms/step - loss: 0.5255 - accuracy: 0.8180 - recall: 0.7546\n",
      "Epoch 2/3\n",
      "1875/1875 [==============================] - 18s 10ms/step - loss: 0.3993 - accuracy: 0.8588 - recall: 0.8294\n",
      "Epoch 3/3\n",
      "1875/1875 [==============================] - 18s 10ms/step - loss: 0.3648 - accuracy: 0.8698 - recall: 0.8443\n",
      "313/313 [==============================] - 4s 12ms/step - loss: 0.4063 - accuracy: 0.8545 - recall: 0.8286\n",
      "Epoch 1/3\n",
      "1875/1875 [==============================] - 18s 10ms/step - loss: 0.7744 - accuracy: 0.7503 - recall: 0.5797\n",
      "Epoch 2/3\n",
      "1875/1875 [==============================] - 18s 10ms/step - loss: 0.5204 - accuracy: 0.8223 - recall: 0.7565\n",
      "Epoch 3/3\n",
      "1875/1875 [==============================] - 18s 10ms/step - loss: 0.4742 - accuracy: 0.8369 - recall: 0.7859\n",
      "313/313 [==============================] - 4s 12ms/step - loss: 0.4899 - accuracy: 0.8304 - recall: 0.7831\n",
      "Epoch 1/3\n",
      "1875/1875 [==============================] - 18s 10ms/step - loss: 0.7502 - accuracy: 0.7356 - recall: 0.6115\n",
      "Epoch 2/3\n",
      "1875/1875 [==============================] - 18s 10ms/step - loss: 0.5738 - accuracy: 0.7923 - recall: 0.7133\n",
      "Epoch 3/3\n",
      "1875/1875 [==============================] - 18s 10ms/step - loss: 0.5473 - accuracy: 0.8037 - recall: 0.7321\n",
      "313/313 [==============================] - 4s 13ms/step - loss: 0.4319 - accuracy: 0.8448 - recall: 0.7919\n",
      "Epoch 1/3\n",
      "1875/1875 [==============================] - 18s 10ms/step - loss: 1.0932 - accuracy: 0.6228 - recall: 0.3971\n",
      "Epoch 2/3\n",
      "1875/1875 [==============================] - 18s 10ms/step - loss: 0.7616 - accuracy: 0.7388 - recall: 0.5956\n",
      "Epoch 3/3\n",
      "1875/1875 [==============================] - 18s 10ms/step - loss: 0.6828 - accuracy: 0.7684 - recall: 0.6478\n",
      "313/313 [==============================] - 4s 13ms/step - loss: 0.5265 - accuracy: 0.8180 - recall: 0.7353\n",
      "Epoch 1/3\n",
      "1875/1875 [==============================] - 19s 10ms/step - loss: 0.4782 - accuracy: 0.8292 - recall: 0.7884\n",
      "Epoch 2/3\n",
      "1875/1875 [==============================] - 19s 10ms/step - loss: 0.3608 - accuracy: 0.8679 - recall: 0.8422\n",
      "Epoch 3/3\n",
      "1875/1875 [==============================] - 18s 10ms/step - loss: 0.3180 - accuracy: 0.8822 - recall: 0.8611\n",
      "313/313 [==============================] - 4s 14ms/step - loss: 0.3730 - accuracy: 0.8635 - recall: 0.8440\n",
      "Epoch 1/3\n",
      "1875/1875 [==============================] - 19s 10ms/step - loss: 0.6685 - accuracy: 0.7883 - recall: 0.6444\n",
      "Epoch 2/3\n",
      "1875/1875 [==============================] - 18s 10ms/step - loss: 0.4815 - accuracy: 0.8372 - recall: 0.7781\n",
      "Epoch 3/3\n",
      "1875/1875 [==============================] - 18s 10ms/step - loss: 0.4408 - accuracy: 0.8499 - recall: 0.8020\n",
      "313/313 [==============================] - 5s 14ms/step - loss: 0.4634 - accuracy: 0.8392 - recall: 0.7961\n",
      "Epoch 1/3\n",
      "1875/1875 [==============================] - 18s 10ms/step - loss: 0.5703 - accuracy: 0.7997 - recall: 0.7559\n",
      "Epoch 2/3\n",
      "1875/1875 [==============================] - 18s 10ms/step - loss: 0.4450 - accuracy: 0.8370 - recall: 0.8051\n",
      "Epoch 3/3\n",
      "1875/1875 [==============================] - 18s 10ms/step - loss: 0.4067 - accuracy: 0.8517 - recall: 0.8216\n",
      "313/313 [==============================] - 4s 12ms/step - loss: 0.3763 - accuracy: 0.8614 - recall: 0.8329\n",
      "Epoch 1/3\n",
      "1875/1875 [==============================] - 19s 10ms/step - loss: 0.6930 - accuracy: 0.7753 - recall: 0.6338\n",
      "Epoch 2/3\n",
      "1875/1875 [==============================] - 19s 10ms/step - loss: 0.5048 - accuracy: 0.8275 - recall: 0.7653\n",
      "Epoch 3/3\n",
      "1875/1875 [==============================] - 19s 10ms/step - loss: 0.4608 - accuracy: 0.8416 - recall: 0.7911\n",
      "313/313 [==============================] - 4s 12ms/step - loss: 0.4624 - accuracy: 0.8394 - recall: 0.7952\n"
     ]
    }
   ],
   "source": [
    "!rm -rf logs\n",
    "for u in [50,5000]: \n",
    "    for d in [0.0,0.5]: \n",
    "        for o in ['adam','sgd']:\n",
    "            logdir = 'logs/hpguebin_{}_{}_{}'.format(u,d,o)\n",
    "            with tf.summary.create_file_writer(logdir).as_default():\n",
    "                net = tf.keras.Sequential()\n",
    "                net.add(tf.keras.layers.Flatten())\n",
    "                net.add(tf.keras.layers.Dense(u,activation='relu'))\n",
    "                net.add(tf.keras.layers.Dropout(d))\n",
    "                net.add(tf.keras.layers.Dense(10,activation='softmax'))\n",
    "                net.compile(optimizer=o,loss=tf.losses.categorical_crossentropy,metrics=['accuracy','Recall'])\n",
    "                cb3 = hp.KerasCallback(logdir, {'유닛수':u, '드랍아웃비율':d, '옵티마이저':o})\n",
    "                net.fit(X,y,epochs=3,callbacks=cb3)\n",
    "                _rslt=net.evaluate(XX,yy)\n",
    "                _mymetric=_rslt[1]*0.8 + _rslt[2]*0.2  \n",
    "                tf.summary.scalar('애큐러시와리컬의가중평균(테스트셋)', _mymetric, step=1) "
   ]
  },
  {
   "cell_type": "code",
   "execution_count": 88,
   "id": "43419b69-c0a2-4968-9978-bd51c3028965",
   "metadata": {
    "id": "43419b69-c0a2-4968-9978-bd51c3028965"
   },
   "outputs": [],
   "source": [
    "#\n",
    "#%tensorboard --logdir logs --host 0.0.0.0"
   ]
  },
  {
   "cell_type": "code",
   "execution_count": 87,
   "id": "11e3513d-1a29-4d86-bde7-460e9e7e6d88",
   "metadata": {},
   "outputs": [],
   "source": [
    "#!kill 2001406"
   ]
  },
  {
   "cell_type": "markdown",
   "id": "32f8e532-65f9-49bf-bb16-d332bdd8b8d2",
   "metadata": {
    "id": "32f8e532-65f9-49bf-bb16-d332bdd8b8d2"
   },
   "source": [
    "#### hw"
   ]
  },
  {
   "cell_type": "markdown",
   "id": "038d1f13-e0be-4c80-a532-c167c3e76528",
   "metadata": {
    "id": "038d1f13-e0be-4c80-a532-c167c3e76528"
   },
   "source": [
    "`-` 아래의 네트워크에서 옵티마이저를 adam, sgd를 선택하여 각각 적합시켜보고 testset의 loss를 성능비교를 하라. epoch은 5정도로 설정하라. \n",
    "```\n",
    "net = tf.keras.Sequential()\n",
    "net.add(tf.keras.layers.Flatten())\n",
    "net.add(tf.keras.layers.Dense(50,activation='relu'))\n",
    "net.add(tf.keras.layers.Dense(50,activation='relu'))\n",
    "net.add(tf.keras.layers.Dense(10,activation='softmax'))\n",
    "net.compile(optimizer=???,loss=tf.losses.categorical_crossentropy,metrics=['accuracy','Recall'])\n",
    "```"
   ]
  },
  {
   "cell_type": "code",
   "execution_count": 108,
   "id": "35e7b459-c22d-430c-a34f-450cee5a74b8",
   "metadata": {},
   "outputs": [
    {
     "name": "stdout",
     "output_type": "stream",
     "text": [
      "Epoch 1/5\n",
      "1875/1875 [==============================] - 18s 10ms/step - loss: 0.5175 - accuracy: 0.8163 - recall: 0.7546\n",
      "Epoch 2/5\n",
      "1875/1875 [==============================] - 18s 10ms/step - loss: 0.3822 - accuracy: 0.8618 - recall: 0.8333\n",
      "Epoch 3/5\n",
      "1875/1875 [==============================] - 18s 10ms/step - loss: 0.3456 - accuracy: 0.8733 - recall: 0.8493\n",
      "Epoch 4/5\n",
      "1875/1875 [==============================] - 18s 10ms/step - loss: 0.3237 - accuracy: 0.8797 - recall: 0.8583\n",
      "Epoch 5/5\n",
      "1875/1875 [==============================] - 18s 10ms/step - loss: 0.3085 - accuracy: 0.8844 - recall: 0.8651\n",
      "313/313 [==============================] - 4s 12ms/step - loss: 0.3588 - accuracy: 0.8711 - recall: 0.8495\n",
      "Epoch 1/5\n",
      "1875/1875 [==============================] - 18s 10ms/step - loss: 0.7827 - accuracy: 0.7326 - recall: 0.5763\n",
      "Epoch 2/5\n",
      "1875/1875 [==============================] - 18s 10ms/step - loss: 0.5069 - accuracy: 0.8240 - recall: 0.7689\n",
      "Epoch 3/5\n",
      "1875/1875 [==============================] - 18s 10ms/step - loss: 0.4577 - accuracy: 0.8397 - recall: 0.7958\n",
      "Epoch 4/5\n",
      "1875/1875 [==============================] - 18s 10ms/step - loss: 0.4315 - accuracy: 0.8490 - recall: 0.8112\n",
      "Epoch 5/5\n",
      "1875/1875 [==============================] - 18s 10ms/step - loss: 0.4123 - accuracy: 0.8553 - recall: 0.8215\n",
      "313/313 [==============================] - 4s 12ms/step - loss: 0.4298 - accuracy: 0.8488 - recall: 0.8160\n"
     ]
    }
   ],
   "source": [
    "!rm -rf logs\n",
    "for o in ['adam','sgd']:\n",
    "    logdir = 'logs/hpguebin_{}'.format(o)\n",
    "    with tf.summary.create_file_writer(logdir).as_default():\n",
    "        net = tf.keras.Sequential()\n",
    "        net.add(tf.keras.layers.Flatten())\n",
    "        net.add(tf.keras.layers.Dense(50,activation='relu'))\n",
    "        net.add(tf.keras.layers.Dense(50,activation='relu'))\n",
    "        net.add(tf.keras.layers.Dense(10,activation='softmax'))\n",
    "        net.compile(optimizer=o,loss=tf.losses.categorical_crossentropy,metrics=['accuracy','Recall'])\n",
    "        cb4 = hp.KerasCallback(logdir, {'옵티마이저':o})\n",
    "        net.fit(X,y,epochs=5,callbacks=cb4)\n",
    "        _rslt=net.evaluate(XX,yy)\n",
    "        tf.summary.scalar('test set loss', _rslt[0], step=1) "
   ]
  },
  {
   "cell_type": "code",
   "execution_count": 109,
   "id": "9d098a5c-3962-4554-bc62-ca7492f21eb1",
   "metadata": {},
   "outputs": [
    {
     "data": {
      "text/html": [
       "\n",
       "      <iframe id=\"tensorboard-frame-136daf3dcac5f8e7\" width=\"100%\" height=\"800\" frameborder=\"0\">\n",
       "      </iframe>\n",
       "      <script>\n",
       "        (function() {\n",
       "          const frame = document.getElementById(\"tensorboard-frame-136daf3dcac5f8e7\");\n",
       "          const url = new URL(\"/\", window.location);\n",
       "          const port = 6006;\n",
       "          if (port) {\n",
       "            url.port = port;\n",
       "          }\n",
       "          frame.src = url;\n",
       "        })();\n",
       "      </script>\n",
       "    "
      ],
      "text/plain": [
       "<IPython.core.display.HTML object>"
      ]
     },
     "metadata": {},
     "output_type": "display_data"
    }
   ],
   "source": [
    "%tensorboard --logdir logs --host 0.0.0.0"
   ]
  },
  {
   "cell_type": "code",
   "execution_count": 107,
   "id": "f7f5e95e-cddf-4134-bab3-ab4d2ccab340",
   "metadata": {},
   "outputs": [],
   "source": [
    "!kill 2002801"
   ]
  }
 ],
 "metadata": {
  "colab": {
   "name": "2022-05-23-(12주차) 5월23일.ipynb",
   "provenance": []
  },
  "kernelspec": {
   "display_name": "Python 3 (ipykernel)",
   "language": "python",
   "name": "python3"
  },
  "language_info": {
   "codemirror_mode": {
    "name": "ipython",
    "version": 3
   },
   "file_extension": ".py",
   "mimetype": "text/x-python",
   "name": "python",
   "nbconvert_exporter": "python",
   "pygments_lexer": "ipython3",
   "version": "3.10.4"
  }
 },
 "nbformat": 4,
 "nbformat_minor": 5
}
