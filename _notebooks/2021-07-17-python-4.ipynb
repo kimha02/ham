{
 "cells": [
  {
   "cell_type": "markdown",
   "id": "334be9f0-4d39-4b15-a910-1e35bac9b0e8",
   "metadata": {},
   "source": [
    "# (공부) 파이썬 객체 소개_pandas\n",
    "> 작성완료\n",
    "\n",
    "- toc:true\n",
    "- branch: master\n",
    "- badges: true\n",
    "- comments: true\n",
    "- author: kimha02\n",
    "- categories: [Python]"
   ]
  },
  {
   "cell_type": "markdown",
   "id": "58543231-54c4-4504-889e-f868c3096b70",
   "metadata": {},
   "source": [
    "### (1) `dict`의 복습"
   ]
  },
  {
   "cell_type": "markdown",
   "id": "72ed9fab-3b90-4622-a157-e9d625e331bd",
   "metadata": {},
   "source": [
    "`dict`를 선언하는 방법: "
   ]
  },
  {
   "cell_type": "code",
   "execution_count": 12,
   "id": "110176a5-ac53-4744-a461-6acaeb92babe",
   "metadata": {},
   "outputs": [
    {
     "data": {
      "text/plain": [
       "{'a': [1, 2, 3], 'b': [2, 3, 4], 'c': [3, 4, 5]}"
      ]
     },
     "execution_count": 12,
     "metadata": {},
     "output_type": "execute_result"
    }
   ],
   "source": [
    "dict({'a':[1,2,3],\n",
    "      'b':[2,3,4],\n",
    "      'c':[3,4,5]})"
   ]
  },
  {
   "cell_type": "markdown",
   "id": "b6b961b2-2285-4436-8090-14a183355ad4",
   "metadata": {},
   "source": [
    "Q : `dict`는 왜 `key:value`의 집합으로 선언해야 하는가? "
   ]
  },
  {
   "cell_type": "markdown",
   "id": "1cd14968-2c58-43c2-951b-90d28e721afd",
   "metadata": {},
   "source": [
    "A : `dict`는 검색에 최적화되어있다. `key`로 접근하면 일일이 위치를 기억하지 않아도 원하는 정보를 얻을 수 있다. "
   ]
  },
  {
   "cell_type": "markdown",
   "id": "72e8fa65-b38e-4a23-ae92-7ad73b239191",
   "metadata": {},
   "source": [
    "(예제)"
   ]
  },
  {
   "cell_type": "code",
   "execution_count": 1,
   "id": "e774665a-a81e-4ba2-95e3-31f3b713ec71",
   "metadata": {},
   "outputs": [],
   "source": [
    "d={'새로이':[30,600,4.0],\n",
    "   \"이서\":[20,950,4.2],\n",
    "   \"일권\":[28,950,2.3],\n",
    "   \"현이\":[28,650,3.8]}"
   ]
  },
  {
   "cell_type": "code",
   "execution_count": 15,
   "id": "7ff2e019-f21e-487d-a647-6a951b3fe377",
   "metadata": {},
   "outputs": [
    {
     "data": {
      "text/plain": [
       "[20, 950, 4.2]"
      ]
     },
     "execution_count": 15,
     "metadata": {},
     "output_type": "execute_result"
    }
   ],
   "source": [
    "d['이서']"
   ]
  },
  {
   "cell_type": "markdown",
   "id": "4d52cf2e-bf26-4886-a1a9-84ea3b0a7946",
   "metadata": {},
   "source": [
    "\"이서\"로 검색을 하면 나이, 토익, 학점이 나온다. "
   ]
  },
  {
   "cell_type": "markdown",
   "id": "6c60d0d0-7f86-426f-b921-695dbc9df1a5",
   "metadata": {},
   "source": [
    "편하다."
   ]
  },
  {
   "cell_type": "markdown",
   "id": "c897cbff-9348-49f1-9f1c-ba7749ed3a78",
   "metadata": {},
   "source": [
    "### (2) 논쟁1"
   ]
  },
  {
   "cell_type": "markdown",
   "id": "efe0c864-f3f4-416a-bbbc-86767c04b020",
   "metadata": {},
   "source": [
    "`까칠이`: list로 해도 충분히 가능하지 않나? "
   ]
  },
  {
   "cell_type": "code",
   "execution_count": 17,
   "id": "35b5e85e-120a-4c90-b370-4d3dd969a1ad",
   "metadata": {},
   "outputs": [],
   "source": [
    "l=[['새로이',30,600,4.0],\n",
    "   [\"이서\",20,950,4.2],\n",
    "   [\"일권\",28,950,2.3],\n",
    "   [\"현이\",28,650,3.8]]"
   ]
  },
  {
   "cell_type": "code",
   "execution_count": 19,
   "id": "80f7497f-1e8d-4ee0-8e8e-c69118e2323b",
   "metadata": {},
   "outputs": [
    {
     "data": {
      "text/plain": [
       "['이서', 20, 950, 4.2]"
      ]
     },
     "execution_count": 19,
     "metadata": {},
     "output_type": "execute_result"
    }
   ],
   "source": [
    "l[1]"
   ]
  },
  {
   "cell_type": "markdown",
   "id": "01c74e9b-c47e-4009-a988-4d4ba9ee54ff",
   "metadata": {},
   "source": [
    "`교과서`: `list`는 \"이서\"의 위치를 알고 있어야 한다. `dict`는 \"이서\"의 위치를 몰라도, \"이서\"라는 키워드만 알면 정보를 얻을 수 있다. "
   ]
  },
  {
   "cell_type": "markdown",
   "id": "bf5a7cef-a4e8-4459-bb6a-1b9d11589b94",
   "metadata": {},
   "source": [
    "`까칠이(넘파이,불인덱싱마스터)`: 아래처럼 하면 되는것 아닌가? "
   ]
  },
  {
   "cell_type": "code",
   "execution_count": 20,
   "id": "d070ed5f-3cb4-48d1-bef9-00e10d8c0d3a",
   "metadata": {},
   "outputs": [],
   "source": [
    "import numpy as np"
   ]
  },
  {
   "cell_type": "code",
   "execution_count": 22,
   "id": "caca9c5c-09da-4a49-9144-a63659e103a6",
   "metadata": {},
   "outputs": [],
   "source": [
    "l1=np.array(l)"
   ]
  },
  {
   "cell_type": "code",
   "execution_count": 26,
   "id": "b53da9e3-1930-4d0c-a932-48db2d78d7c9",
   "metadata": {},
   "outputs": [
    {
     "data": {
      "text/plain": [
       "array([['새로이', '30', '600', '4.0'],\n",
       "       ['이서', '20', '950', '4.2'],\n",
       "       ['일권', '28', '950', '2.3'],\n",
       "       ['현이', '28', '650', '3.8']], dtype='<U3')"
      ]
     },
     "execution_count": 26,
     "metadata": {},
     "output_type": "execute_result"
    }
   ],
   "source": [
    "l1"
   ]
  },
  {
   "cell_type": "code",
   "execution_count": 25,
   "id": "43c67acc-2eac-48f6-b5c4-412fa33ffce2",
   "metadata": {},
   "outputs": [
    {
     "data": {
      "text/plain": [
       "array([['새로이', '이서', '일권', '현이'],\n",
       "       ['30', '20', '28', '28'],\n",
       "       ['600', '950', '950', '650'],\n",
       "       ['4.0', '4.2', '2.3', '3.8']], dtype='<U3')"
      ]
     },
     "execution_count": 25,
     "metadata": {},
     "output_type": "execute_result"
    }
   ],
   "source": [
    "l1.T"
   ]
  },
  {
   "cell_type": "code",
   "execution_count": 29,
   "id": "5329fd85-04cf-41a8-b2af-6cf1359220f0",
   "metadata": {},
   "outputs": [
    {
     "data": {
      "text/plain": [
       "array(['새로이', '이서', '일권', '현이'], dtype='<U3')"
      ]
     },
     "execution_count": 29,
     "metadata": {},
     "output_type": "execute_result"
    }
   ],
   "source": [
    "l1.T[0]"
   ]
  },
  {
   "cell_type": "code",
   "execution_count": 30,
   "id": "56d7cd56-69dd-45e4-acc9-2faa9edaa5bb",
   "metadata": {},
   "outputs": [
    {
     "data": {
      "text/plain": [
       "array([False,  True, False, False])"
      ]
     },
     "execution_count": 30,
     "metadata": {},
     "output_type": "execute_result"
    }
   ],
   "source": [
    "l1.T[0]=='이서'"
   ]
  },
  {
   "cell_type": "code",
   "execution_count": 31,
   "id": "63ff887b-e6c2-4461-b7c5-5b342e86065a",
   "metadata": {},
   "outputs": [
    {
     "data": {
      "text/plain": [
       "array([['이서', '20', '950', '4.2']], dtype='<U3')"
      ]
     },
     "execution_count": 31,
     "metadata": {},
     "output_type": "execute_result"
    }
   ],
   "source": [
    "l1[l1.T[0]=='이서']"
   ]
  },
  {
   "cell_type": "markdown",
   "id": "d55a0170-38f8-42c9-b4e7-bfde94d28b85",
   "metadata": {},
   "source": [
    "`교과서`: 복잡하다.. `dict`는 이름만 알면 쉽게 정보검색 가능."
   ]
  },
  {
   "cell_type": "markdown",
   "id": "d61a03ab-ff83-4d73-a107-1d3f33b85350",
   "metadata": {},
   "source": [
    "`까칠이`: 나이가 28인 사람이 누군지 모두 알고 싶을 경우는? `dict`로 어떻게 하는지?"
   ]
  },
  {
   "cell_type": "markdown",
   "id": "58200aa0-07b9-470e-9fde-48fff94eabe7",
   "metadata": {},
   "source": [
    "`교과서`: ... "
   ]
  },
  {
   "cell_type": "markdown",
   "id": "8149298f-f51f-466d-bf82-8037d0e0b92c",
   "metadata": {},
   "source": [
    "`까칠이(넘파이,불인덱싱마스터)`: 나는 할수 있다. "
   ]
  },
  {
   "cell_type": "code",
   "execution_count": 33,
   "id": "ab1838c6-1fe7-4bb5-8a10-8772c235528b",
   "metadata": {},
   "outputs": [
    {
     "data": {
      "text/plain": [
       "array([['새로이', '이서', '일권', '현이'],\n",
       "       ['30', '20', '28', '28'],\n",
       "       ['600', '950', '950', '650'],\n",
       "       ['4.0', '4.2', '2.3', '3.8']], dtype='<U3')"
      ]
     },
     "execution_count": 33,
     "metadata": {},
     "output_type": "execute_result"
    }
   ],
   "source": [
    "l1.T"
   ]
  },
  {
   "cell_type": "code",
   "execution_count": 34,
   "id": "6ed33268-2852-4f46-b47e-d76584228e66",
   "metadata": {},
   "outputs": [
    {
     "data": {
      "text/plain": [
       "array(['30', '20', '28', '28'], dtype='<U3')"
      ]
     },
     "execution_count": 34,
     "metadata": {},
     "output_type": "execute_result"
    }
   ],
   "source": [
    "l1.T[1]"
   ]
  },
  {
   "cell_type": "code",
   "execution_count": 35,
   "id": "922a240c-6f00-4e25-9e38-d126a60cdfd2",
   "metadata": {},
   "outputs": [
    {
     "data": {
      "text/plain": [
       "array([False, False,  True,  True])"
      ]
     },
     "execution_count": 35,
     "metadata": {},
     "output_type": "execute_result"
    }
   ],
   "source": [
    "l1.T[1]=='28'"
   ]
  },
  {
   "cell_type": "code",
   "execution_count": 37,
   "id": "3216336a-fb7e-4100-ba5b-7aec610f1810",
   "metadata": {},
   "outputs": [
    {
     "data": {
      "text/plain": [
       "array([['일권', '28', '950', '2.3'],\n",
       "       ['현이', '28', '650', '3.8']], dtype='<U3')"
      ]
     },
     "execution_count": 37,
     "metadata": {},
     "output_type": "execute_result"
    }
   ],
   "source": [
    "l1[l1.T[1]=='28']"
   ]
  },
  {
   "cell_type": "markdown",
   "id": "ce68d23e-4109-421a-9321-03a70e6342e1",
   "metadata": {},
   "source": [
    "`교과서`: ... "
   ]
  },
  {
   "cell_type": "markdown",
   "id": "b0e60a92-9535-4c35-aca3-8a3cc72d7047",
   "metadata": {},
   "source": [
    "`까칠이`: key를 사용하는 것이 왜 정보검색에 유리한것인지? "
   ]
  },
  {
   "cell_type": "markdown",
   "id": "899c3bd9-f856-4d6b-a401-9ded1e61ca38",
   "metadata": {},
   "source": [
    "### (3) 논쟁2"
   ]
  },
  {
   "cell_type": "markdown",
   "id": "f9c9c11b-2efe-40d6-bd69-94fbf7a944ad",
   "metadata": {},
   "source": [
    "사실 논쟁1에서 까칠이가 언급한 내용은 `list`의 장점이라기 보다 `list`와 호환성이 좋은 `numpy`의 장점이다. "
   ]
  },
  {
   "cell_type": "markdown",
   "id": "cf42640a-9c71-40ee-b92b-ee03c27f43fb",
   "metadata": {},
   "source": [
    "`dict`도 `dict`와 호환성이 좋은 새로운 자료형이 있는데, 그것이 바로 `pandas`이다. "
   ]
  },
  {
   "cell_type": "markdown",
   "id": "f3d41a41-a8eb-430e-88f1-d43d880b059b",
   "metadata": {},
   "source": [
    "근본적인 차이: `list`는 번호로, `dict`는 keyword로 접근한다. "
   ]
  },
  {
   "cell_type": "markdown",
   "id": "750ba594-3c0f-4b98-bc45-466aabcfca53",
   "metadata": {},
   "source": [
    "- 인덱싱, 슬라이싱  vs 맵핑 "
   ]
  },
  {
   "cell_type": "markdown",
   "id": "6aeccb14-cc77-41b7-a900-30c46f4e7d8b",
   "metadata": {},
   "source": [
    "***note:*** 리스트는 키워드로 정보검색이 불가능하다."
   ]
  },
  {
   "cell_type": "markdown",
   "id": "98732e25-3c09-4202-a882-dd4704b9ed91",
   "metadata": {},
   "source": [
    "***note:*** 딕셔너리는 인덱스로 정보검색이 불가능하다."
   ]
  },
  {
   "cell_type": "markdown",
   "id": "5832baa1-d522-4a0c-9df2-441c91793db3",
   "metadata": {},
   "source": [
    "### (4) `pandas`"
   ]
  },
  {
   "cell_type": "code",
   "execution_count": 19,
   "id": "1b806c7a-2cd7-4972-a92d-96b3a791d4e2",
   "metadata": {},
   "outputs": [],
   "source": [
    "import pandas as pd"
   ]
  },
  {
   "cell_type": "code",
   "execution_count": 20,
   "id": "3c6fd957-59a9-481a-85e4-e0178677b4e8",
   "metadata": {},
   "outputs": [
    {
     "data": {
      "text/plain": [
       "{'새로이': [30, 600, 4.0],\n",
       " '이서': [20, 950, 4.2],\n",
       " '일권': [28, 950, 2.3],\n",
       " '현이': [28, 650, 3.8]}"
      ]
     },
     "execution_count": 20,
     "metadata": {},
     "output_type": "execute_result"
    }
   ],
   "source": [
    "d"
   ]
  },
  {
   "cell_type": "code",
   "execution_count": 21,
   "id": "277989ef-b8d8-4f03-b1df-1d2d20bc7460",
   "metadata": {},
   "outputs": [
    {
     "data": {
      "text/html": [
       "<div>\n",
       "<style scoped>\n",
       "    .dataframe tbody tr th:only-of-type {\n",
       "        vertical-align: middle;\n",
       "    }\n",
       "\n",
       "    .dataframe tbody tr th {\n",
       "        vertical-align: top;\n",
       "    }\n",
       "\n",
       "    .dataframe thead th {\n",
       "        text-align: right;\n",
       "    }\n",
       "</style>\n",
       "<table border=\"1\" class=\"dataframe\">\n",
       "  <thead>\n",
       "    <tr style=\"text-align: right;\">\n",
       "      <th></th>\n",
       "      <th>새로이</th>\n",
       "      <th>이서</th>\n",
       "      <th>일권</th>\n",
       "      <th>현이</th>\n",
       "    </tr>\n",
       "  </thead>\n",
       "  <tbody>\n",
       "    <tr>\n",
       "      <th>0</th>\n",
       "      <td>30.0</td>\n",
       "      <td>20.0</td>\n",
       "      <td>28.0</td>\n",
       "      <td>28.0</td>\n",
       "    </tr>\n",
       "    <tr>\n",
       "      <th>1</th>\n",
       "      <td>600.0</td>\n",
       "      <td>950.0</td>\n",
       "      <td>950.0</td>\n",
       "      <td>650.0</td>\n",
       "    </tr>\n",
       "    <tr>\n",
       "      <th>2</th>\n",
       "      <td>4.0</td>\n",
       "      <td>4.2</td>\n",
       "      <td>2.3</td>\n",
       "      <td>3.8</td>\n",
       "    </tr>\n",
       "  </tbody>\n",
       "</table>\n",
       "</div>"
      ],
      "text/plain": [
       "     새로이     이서     일권     현이\n",
       "0   30.0   20.0   28.0   28.0\n",
       "1  600.0  950.0  950.0  650.0\n",
       "2    4.0    4.2    2.3    3.8"
      ]
     },
     "execution_count": 21,
     "metadata": {},
     "output_type": "execute_result"
    }
   ],
   "source": [
    "pd.DataFrame(d) ## 판다스자료형 = 데이터프레임을 선언하는 방법"
   ]
  },
  {
   "cell_type": "code",
   "execution_count": 22,
   "id": "4f3424b3-ab88-4110-bce1-f65b2efa85f4",
   "metadata": {},
   "outputs": [],
   "source": [
    "df=pd.DataFrame(d).T"
   ]
  },
  {
   "cell_type": "code",
   "execution_count": 45,
   "id": "4c495bb2-87cc-4e98-8e63-40406c2b2ba0",
   "metadata": {},
   "outputs": [
    {
     "data": {
      "text/html": [
       "<div>\n",
       "<style scoped>\n",
       "    .dataframe tbody tr th:only-of-type {\n",
       "        vertical-align: middle;\n",
       "    }\n",
       "\n",
       "    .dataframe tbody tr th {\n",
       "        vertical-align: top;\n",
       "    }\n",
       "\n",
       "    .dataframe thead th {\n",
       "        text-align: right;\n",
       "    }\n",
       "</style>\n",
       "<table border=\"1\" class=\"dataframe\">\n",
       "  <thead>\n",
       "    <tr style=\"text-align: right;\">\n",
       "      <th></th>\n",
       "      <th>0</th>\n",
       "      <th>1</th>\n",
       "      <th>2</th>\n",
       "    </tr>\n",
       "  </thead>\n",
       "  <tbody>\n",
       "    <tr>\n",
       "      <th>새로이</th>\n",
       "      <td>30.0</td>\n",
       "      <td>600.0</td>\n",
       "      <td>4.0</td>\n",
       "    </tr>\n",
       "    <tr>\n",
       "      <th>이서</th>\n",
       "      <td>20.0</td>\n",
       "      <td>950.0</td>\n",
       "      <td>4.2</td>\n",
       "    </tr>\n",
       "    <tr>\n",
       "      <th>일권</th>\n",
       "      <td>28.0</td>\n",
       "      <td>950.0</td>\n",
       "      <td>2.3</td>\n",
       "    </tr>\n",
       "    <tr>\n",
       "      <th>현이</th>\n",
       "      <td>28.0</td>\n",
       "      <td>650.0</td>\n",
       "      <td>3.8</td>\n",
       "    </tr>\n",
       "  </tbody>\n",
       "</table>\n",
       "</div>"
      ],
      "text/plain": [
       "        0      1    2\n",
       "새로이  30.0  600.0  4.0\n",
       "이서   20.0  950.0  4.2\n",
       "일권   28.0  950.0  2.3\n",
       "현이   28.0  650.0  3.8"
      ]
     },
     "execution_count": 45,
     "metadata": {},
     "output_type": "execute_result"
    }
   ],
   "source": [
    "df"
   ]
  },
  {
   "cell_type": "markdown",
   "id": "c12cac04-476c-461a-acbf-a9a1207f491e",
   "metadata": {},
   "source": [
    "***note:*** 이서의 정보를 알고 싶다면? (딕셔너리 느낌)"
   ]
  },
  {
   "cell_type": "code",
   "execution_count": 23,
   "id": "f07e892d-eeba-4ec4-a37e-39934087430e",
   "metadata": {},
   "outputs": [
    {
     "data": {
      "text/plain": [
       "0     20.0\n",
       "1    950.0\n",
       "2      4.2\n",
       "Name: 이서, dtype: float64"
      ]
     },
     "execution_count": 23,
     "metadata": {},
     "output_type": "execute_result"
    }
   ],
   "source": [
    "df.loc['이서']"
   ]
  },
  {
   "cell_type": "markdown",
   "id": "b6ae268f-a4e6-4c95-8318-6e01f2ec05c8",
   "metadata": {},
   "source": [
    "***note:*** 칼럼이름을 정하고 싶다면? "
   ]
  },
  {
   "cell_type": "code",
   "execution_count": 24,
   "id": "345b980a-74a7-4fb3-b852-4e6519e087e3",
   "metadata": {},
   "outputs": [],
   "source": [
    "df.columns=['age','toeic','gpa']"
   ]
  },
  {
   "cell_type": "code",
   "execution_count": 25,
   "id": "4630565f-5bdc-434f-8b33-a567d6d262cf",
   "metadata": {},
   "outputs": [
    {
     "data": {
      "text/html": [
       "<div>\n",
       "<style scoped>\n",
       "    .dataframe tbody tr th:only-of-type {\n",
       "        vertical-align: middle;\n",
       "    }\n",
       "\n",
       "    .dataframe tbody tr th {\n",
       "        vertical-align: top;\n",
       "    }\n",
       "\n",
       "    .dataframe thead th {\n",
       "        text-align: right;\n",
       "    }\n",
       "</style>\n",
       "<table border=\"1\" class=\"dataframe\">\n",
       "  <thead>\n",
       "    <tr style=\"text-align: right;\">\n",
       "      <th></th>\n",
       "      <th>age</th>\n",
       "      <th>toeic</th>\n",
       "      <th>gpa</th>\n",
       "    </tr>\n",
       "  </thead>\n",
       "  <tbody>\n",
       "    <tr>\n",
       "      <th>새로이</th>\n",
       "      <td>30.0</td>\n",
       "      <td>600.0</td>\n",
       "      <td>4.0</td>\n",
       "    </tr>\n",
       "    <tr>\n",
       "      <th>이서</th>\n",
       "      <td>20.0</td>\n",
       "      <td>950.0</td>\n",
       "      <td>4.2</td>\n",
       "    </tr>\n",
       "    <tr>\n",
       "      <th>일권</th>\n",
       "      <td>28.0</td>\n",
       "      <td>950.0</td>\n",
       "      <td>2.3</td>\n",
       "    </tr>\n",
       "    <tr>\n",
       "      <th>현이</th>\n",
       "      <td>28.0</td>\n",
       "      <td>650.0</td>\n",
       "      <td>3.8</td>\n",
       "    </tr>\n",
       "  </tbody>\n",
       "</table>\n",
       "</div>"
      ],
      "text/plain": [
       "      age  toeic  gpa\n",
       "새로이  30.0  600.0  4.0\n",
       "이서   20.0  950.0  4.2\n",
       "일권   28.0  950.0  2.3\n",
       "현이   28.0  650.0  3.8"
      ]
     },
     "execution_count": 25,
     "metadata": {},
     "output_type": "execute_result"
    }
   ],
   "source": [
    "df"
   ]
  },
  {
   "cell_type": "markdown",
   "id": "cc99307c-9b80-4b3e-9889-7f1b76cc4e06",
   "metadata": {},
   "source": [
    "***note:*** 2번째 칼럼을 불러오자! (넘파이느낌)"
   ]
  },
  {
   "cell_type": "code",
   "execution_count": 57,
   "id": "85fd1c7b-e961-4247-9565-fa87fa6d548d",
   "metadata": {},
   "outputs": [
    {
     "data": {
      "text/plain": [
       "새로이    600.0\n",
       "이서     950.0\n",
       "일권     950.0\n",
       "현이     650.0\n",
       "Name: toeic, dtype: float64"
      ]
     },
     "execution_count": 57,
     "metadata": {},
     "output_type": "execute_result"
    }
   ],
   "source": [
    "df.iloc[:,1]"
   ]
  },
  {
   "cell_type": "markdown",
   "id": "9d2c2136-681c-4a7c-817a-b057b3d565e9",
   "metadata": {},
   "source": [
    "***note:*** 2-3번째 칼럼을 불러오자! (넘파이느낌)"
   ]
  },
  {
   "cell_type": "code",
   "execution_count": 58,
   "id": "db801b73-2f23-4738-a3ab-8144e8a31ed1",
   "metadata": {},
   "outputs": [
    {
     "data": {
      "text/html": [
       "<div>\n",
       "<style scoped>\n",
       "    .dataframe tbody tr th:only-of-type {\n",
       "        vertical-align: middle;\n",
       "    }\n",
       "\n",
       "    .dataframe tbody tr th {\n",
       "        vertical-align: top;\n",
       "    }\n",
       "\n",
       "    .dataframe thead th {\n",
       "        text-align: right;\n",
       "    }\n",
       "</style>\n",
       "<table border=\"1\" class=\"dataframe\">\n",
       "  <thead>\n",
       "    <tr style=\"text-align: right;\">\n",
       "      <th></th>\n",
       "      <th>toeic</th>\n",
       "      <th>gpa</th>\n",
       "    </tr>\n",
       "  </thead>\n",
       "  <tbody>\n",
       "    <tr>\n",
       "      <th>새로이</th>\n",
       "      <td>600.0</td>\n",
       "      <td>4.0</td>\n",
       "    </tr>\n",
       "    <tr>\n",
       "      <th>이서</th>\n",
       "      <td>950.0</td>\n",
       "      <td>4.2</td>\n",
       "    </tr>\n",
       "    <tr>\n",
       "      <th>일권</th>\n",
       "      <td>950.0</td>\n",
       "      <td>2.3</td>\n",
       "    </tr>\n",
       "    <tr>\n",
       "      <th>현이</th>\n",
       "      <td>650.0</td>\n",
       "      <td>3.8</td>\n",
       "    </tr>\n",
       "  </tbody>\n",
       "</table>\n",
       "</div>"
      ],
      "text/plain": [
       "     toeic  gpa\n",
       "새로이  600.0  4.0\n",
       "이서   950.0  4.2\n",
       "일권   950.0  2.3\n",
       "현이   650.0  3.8"
      ]
     },
     "execution_count": 58,
     "metadata": {},
     "output_type": "execute_result"
    }
   ],
   "source": [
    "df.iloc[:,1:3]"
   ]
  },
  {
   "cell_type": "markdown",
   "id": "3c596039-c686-446e-83f1-1354b36c6e30",
   "metadata": {},
   "source": [
    "***note:*** 토익점수를 불러오고 싶다면? "
   ]
  },
  {
   "cell_type": "code",
   "execution_count": 59,
   "id": "63670f15-e2f0-4c33-9118-53ee978b374b",
   "metadata": {},
   "outputs": [
    {
     "data": {
      "text/plain": [
       "새로이    600.0\n",
       "이서     950.0\n",
       "일권     950.0\n",
       "현이     650.0\n",
       "Name: toeic, dtype: float64"
      ]
     },
     "execution_count": 59,
     "metadata": {},
     "output_type": "execute_result"
    }
   ],
   "source": [
    "df.loc[:,'toeic']"
   ]
  },
  {
   "cell_type": "markdown",
   "id": "474efb3c-8885-4064-9376-cbf214967a38",
   "metadata": {},
   "source": [
    "***note:*** age~toeic까지의 정보를 얻고 싶다면? "
   ]
  },
  {
   "cell_type": "code",
   "execution_count": 64,
   "id": "632ce9be-bcf7-42fb-bc4f-78529dd8733c",
   "metadata": {},
   "outputs": [
    {
     "data": {
      "text/html": [
       "<div>\n",
       "<style scoped>\n",
       "    .dataframe tbody tr th:only-of-type {\n",
       "        vertical-align: middle;\n",
       "    }\n",
       "\n",
       "    .dataframe tbody tr th {\n",
       "        vertical-align: top;\n",
       "    }\n",
       "\n",
       "    .dataframe thead th {\n",
       "        text-align: right;\n",
       "    }\n",
       "</style>\n",
       "<table border=\"1\" class=\"dataframe\">\n",
       "  <thead>\n",
       "    <tr style=\"text-align: right;\">\n",
       "      <th></th>\n",
       "      <th>age</th>\n",
       "      <th>toeic</th>\n",
       "    </tr>\n",
       "  </thead>\n",
       "  <tbody>\n",
       "    <tr>\n",
       "      <th>새로이</th>\n",
       "      <td>30.0</td>\n",
       "      <td>600.0</td>\n",
       "    </tr>\n",
       "    <tr>\n",
       "      <th>이서</th>\n",
       "      <td>20.0</td>\n",
       "      <td>950.0</td>\n",
       "    </tr>\n",
       "    <tr>\n",
       "      <th>일권</th>\n",
       "      <td>28.0</td>\n",
       "      <td>950.0</td>\n",
       "    </tr>\n",
       "    <tr>\n",
       "      <th>현이</th>\n",
       "      <td>28.0</td>\n",
       "      <td>650.0</td>\n",
       "    </tr>\n",
       "  </tbody>\n",
       "</table>\n",
       "</div>"
      ],
      "text/plain": [
       "      age  toeic\n",
       "새로이  30.0  600.0\n",
       "이서   20.0  950.0\n",
       "일권   28.0  950.0\n",
       "현이   28.0  650.0"
      ]
     },
     "execution_count": 64,
     "metadata": {},
     "output_type": "execute_result"
    }
   ],
   "source": [
    "df.loc[:,'age':'toeic']"
   ]
  },
  {
   "cell_type": "markdown",
   "id": "a4b2caa0-fc43-413f-a5f5-9680fb7db864",
   "metadata": {},
   "source": [
    "***note:*** 새로이~일권까지의 정보를 얻고 싶다면? "
   ]
  },
  {
   "cell_type": "code",
   "execution_count": 65,
   "id": "57de8281-0b2b-4fd7-b206-542b8932ce4b",
   "metadata": {},
   "outputs": [
    {
     "data": {
      "text/html": [
       "<div>\n",
       "<style scoped>\n",
       "    .dataframe tbody tr th:only-of-type {\n",
       "        vertical-align: middle;\n",
       "    }\n",
       "\n",
       "    .dataframe tbody tr th {\n",
       "        vertical-align: top;\n",
       "    }\n",
       "\n",
       "    .dataframe thead th {\n",
       "        text-align: right;\n",
       "    }\n",
       "</style>\n",
       "<table border=\"1\" class=\"dataframe\">\n",
       "  <thead>\n",
       "    <tr style=\"text-align: right;\">\n",
       "      <th></th>\n",
       "      <th>age</th>\n",
       "      <th>toeic</th>\n",
       "      <th>gpa</th>\n",
       "    </tr>\n",
       "  </thead>\n",
       "  <tbody>\n",
       "    <tr>\n",
       "      <th>새로이</th>\n",
       "      <td>30.0</td>\n",
       "      <td>600.0</td>\n",
       "      <td>4.0</td>\n",
       "    </tr>\n",
       "    <tr>\n",
       "      <th>이서</th>\n",
       "      <td>20.0</td>\n",
       "      <td>950.0</td>\n",
       "      <td>4.2</td>\n",
       "    </tr>\n",
       "    <tr>\n",
       "      <th>일권</th>\n",
       "      <td>28.0</td>\n",
       "      <td>950.0</td>\n",
       "      <td>2.3</td>\n",
       "    </tr>\n",
       "  </tbody>\n",
       "</table>\n",
       "</div>"
      ],
      "text/plain": [
       "      age  toeic  gpa\n",
       "새로이  30.0  600.0  4.0\n",
       "이서   20.0  950.0  4.2\n",
       "일권   28.0  950.0  2.3"
      ]
     },
     "execution_count": 65,
     "metadata": {},
     "output_type": "execute_result"
    }
   ],
   "source": [
    "df.loc['새로이':'일권',:]"
   ]
  },
  {
   "cell_type": "markdown",
   "id": "8b94f9aa-0452-4d9a-a6bc-643ca92a91c6",
   "metadata": {},
   "source": [
    "***note:*** 토익점수가 800보다 높은사람을 부르고 싶다면? "
   ]
  },
  {
   "cell_type": "code",
   "execution_count": 68,
   "id": "672009b7-909d-4501-9755-201f2a7bbd1d",
   "metadata": {},
   "outputs": [
    {
     "data": {
      "text/html": [
       "<div>\n",
       "<style scoped>\n",
       "    .dataframe tbody tr th:only-of-type {\n",
       "        vertical-align: middle;\n",
       "    }\n",
       "\n",
       "    .dataframe tbody tr th {\n",
       "        vertical-align: top;\n",
       "    }\n",
       "\n",
       "    .dataframe thead th {\n",
       "        text-align: right;\n",
       "    }\n",
       "</style>\n",
       "<table border=\"1\" class=\"dataframe\">\n",
       "  <thead>\n",
       "    <tr style=\"text-align: right;\">\n",
       "      <th></th>\n",
       "      <th>age</th>\n",
       "      <th>toeic</th>\n",
       "      <th>gpa</th>\n",
       "    </tr>\n",
       "  </thead>\n",
       "  <tbody>\n",
       "    <tr>\n",
       "      <th>새로이</th>\n",
       "      <td>30.0</td>\n",
       "      <td>600.0</td>\n",
       "      <td>4.0</td>\n",
       "    </tr>\n",
       "    <tr>\n",
       "      <th>이서</th>\n",
       "      <td>20.0</td>\n",
       "      <td>950.0</td>\n",
       "      <td>4.2</td>\n",
       "    </tr>\n",
       "    <tr>\n",
       "      <th>일권</th>\n",
       "      <td>28.0</td>\n",
       "      <td>950.0</td>\n",
       "      <td>2.3</td>\n",
       "    </tr>\n",
       "    <tr>\n",
       "      <th>현이</th>\n",
       "      <td>28.0</td>\n",
       "      <td>650.0</td>\n",
       "      <td>3.8</td>\n",
       "    </tr>\n",
       "  </tbody>\n",
       "</table>\n",
       "</div>"
      ],
      "text/plain": [
       "      age  toeic  gpa\n",
       "새로이  30.0  600.0  4.0\n",
       "이서   20.0  950.0  4.2\n",
       "일권   28.0  950.0  2.3\n",
       "현이   28.0  650.0  3.8"
      ]
     },
     "execution_count": 68,
     "metadata": {},
     "output_type": "execute_result"
    }
   ],
   "source": [
    "df"
   ]
  },
  {
   "cell_type": "code",
   "execution_count": 26,
   "id": "eae7deca-a90c-4c80-b335-684fc40dc0d4",
   "metadata": {},
   "outputs": [
    {
     "data": {
      "text/html": [
       "<div>\n",
       "<style scoped>\n",
       "    .dataframe tbody tr th:only-of-type {\n",
       "        vertical-align: middle;\n",
       "    }\n",
       "\n",
       "    .dataframe tbody tr th {\n",
       "        vertical-align: top;\n",
       "    }\n",
       "\n",
       "    .dataframe thead th {\n",
       "        text-align: right;\n",
       "    }\n",
       "</style>\n",
       "<table border=\"1\" class=\"dataframe\">\n",
       "  <thead>\n",
       "    <tr style=\"text-align: right;\">\n",
       "      <th></th>\n",
       "      <th>age</th>\n",
       "      <th>toeic</th>\n",
       "      <th>gpa</th>\n",
       "    </tr>\n",
       "  </thead>\n",
       "  <tbody>\n",
       "    <tr>\n",
       "      <th>이서</th>\n",
       "      <td>20.0</td>\n",
       "      <td>950.0</td>\n",
       "      <td>4.2</td>\n",
       "    </tr>\n",
       "    <tr>\n",
       "      <th>일권</th>\n",
       "      <td>28.0</td>\n",
       "      <td>950.0</td>\n",
       "      <td>2.3</td>\n",
       "    </tr>\n",
       "  </tbody>\n",
       "</table>\n",
       "</div>"
      ],
      "text/plain": [
       "     age  toeic  gpa\n",
       "이서  20.0  950.0  4.2\n",
       "일권  28.0  950.0  2.3"
      ]
     },
     "execution_count": 26,
     "metadata": {},
     "output_type": "execute_result"
    }
   ],
   "source": [
    "df.query('toeic>800')"
   ]
  },
  {
   "cell_type": "markdown",
   "id": "438f014f-01ab-4c1d-b764-a81289f121a5",
   "metadata": {},
   "source": [
    "***note:*** 나이가 23보다 큰 사람을 부르고 싶다면? "
   ]
  },
  {
   "cell_type": "code",
   "execution_count": 70,
   "id": "f48d3e9b-fa51-4769-ba49-a847783262c7",
   "metadata": {},
   "outputs": [
    {
     "data": {
      "text/html": [
       "<div>\n",
       "<style scoped>\n",
       "    .dataframe tbody tr th:only-of-type {\n",
       "        vertical-align: middle;\n",
       "    }\n",
       "\n",
       "    .dataframe tbody tr th {\n",
       "        vertical-align: top;\n",
       "    }\n",
       "\n",
       "    .dataframe thead th {\n",
       "        text-align: right;\n",
       "    }\n",
       "</style>\n",
       "<table border=\"1\" class=\"dataframe\">\n",
       "  <thead>\n",
       "    <tr style=\"text-align: right;\">\n",
       "      <th></th>\n",
       "      <th>age</th>\n",
       "      <th>toeic</th>\n",
       "      <th>gpa</th>\n",
       "    </tr>\n",
       "  </thead>\n",
       "  <tbody>\n",
       "    <tr>\n",
       "      <th>새로이</th>\n",
       "      <td>30.0</td>\n",
       "      <td>600.0</td>\n",
       "      <td>4.0</td>\n",
       "    </tr>\n",
       "    <tr>\n",
       "      <th>일권</th>\n",
       "      <td>28.0</td>\n",
       "      <td>950.0</td>\n",
       "      <td>2.3</td>\n",
       "    </tr>\n",
       "    <tr>\n",
       "      <th>현이</th>\n",
       "      <td>28.0</td>\n",
       "      <td>650.0</td>\n",
       "      <td>3.8</td>\n",
       "    </tr>\n",
       "  </tbody>\n",
       "</table>\n",
       "</div>"
      ],
      "text/plain": [
       "      age  toeic  gpa\n",
       "새로이  30.0  600.0  4.0\n",
       "일권   28.0  950.0  2.3\n",
       "현이   28.0  650.0  3.8"
      ]
     },
     "execution_count": 70,
     "metadata": {},
     "output_type": "execute_result"
    }
   ],
   "source": [
    "df.query('age>23')"
   ]
  },
  {
   "cell_type": "markdown",
   "id": "6ead46d2-83ea-42f2-adac-80d943fbbecf",
   "metadata": {},
   "source": [
    "***note:*** 나이가 23보다 많고 토익점수가 800보다 높은 사람을 부르고 싶다면? "
   ]
  },
  {
   "cell_type": "code",
   "execution_count": 71,
   "id": "6a84d733-76c0-49fc-a064-a4cbeb411e59",
   "metadata": {},
   "outputs": [
    {
     "data": {
      "text/html": [
       "<div>\n",
       "<style scoped>\n",
       "    .dataframe tbody tr th:only-of-type {\n",
       "        vertical-align: middle;\n",
       "    }\n",
       "\n",
       "    .dataframe tbody tr th {\n",
       "        vertical-align: top;\n",
       "    }\n",
       "\n",
       "    .dataframe thead th {\n",
       "        text-align: right;\n",
       "    }\n",
       "</style>\n",
       "<table border=\"1\" class=\"dataframe\">\n",
       "  <thead>\n",
       "    <tr style=\"text-align: right;\">\n",
       "      <th></th>\n",
       "      <th>age</th>\n",
       "      <th>toeic</th>\n",
       "      <th>gpa</th>\n",
       "    </tr>\n",
       "  </thead>\n",
       "  <tbody>\n",
       "    <tr>\n",
       "      <th>일권</th>\n",
       "      <td>28.0</td>\n",
       "      <td>950.0</td>\n",
       "      <td>2.3</td>\n",
       "    </tr>\n",
       "  </tbody>\n",
       "</table>\n",
       "</div>"
      ],
      "text/plain": [
       "     age  toeic  gpa\n",
       "일권  28.0  950.0  2.3"
      ]
     },
     "execution_count": 71,
     "metadata": {},
     "output_type": "execute_result"
    }
   ],
   "source": [
    "df.query('age>23 & toeic>800')"
   ]
  }
 ],
 "metadata": {
  "kernelspec": {
   "display_name": "Python 3 (ipykernel)",
   "language": "python",
   "name": "python3"
  },
  "language_info": {
   "codemirror_mode": {
    "name": "ipython",
    "version": 3
   },
   "file_extension": ".py",
   "mimetype": "text/x-python",
   "name": "python",
   "nbconvert_exporter": "python",
   "pygments_lexer": "ipython3",
   "version": "3.8.11"
  }
 },
 "nbformat": 4,
 "nbformat_minor": 5
}
