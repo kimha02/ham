{
 "cells": [
  {
   "cell_type": "markdown",
   "id": "87df4718-ffac-4abd-aa8c-8ed62a97f75a",
   "metadata": {},
   "source": [
    "# (공부) Class(클래스)_예제\n",
    "> 작성 완료\n",
    "\n",
    "- toc:true\n",
    "- branch: master\n",
    "- badges: true\n",
    "- comments: true\n",
    "- author: kimha02\n",
    "- categories: [Python]"
   ]
  },
  {
   "cell_type": "markdown",
   "id": "4fa074af-e2c5-4c5c-8c0f-87f1ed169c00",
   "metadata": {},
   "source": [
    "### [예제4] 인사관리 예제\n",
    "\n",
    "- 원시적인 형태의 클래스 $\\to$ 복잡하고 다양한 속성과 기능을 가지는 클래스로 발전 \n",
    "- 클래스는 무에서 점차 발전해나가는 프로토타입과 같이 코드를 설계할 때 유리 "
   ]
  },
  {
   "cell_type": "markdown",
   "id": "9fc7b38b-db0e-4a77-85a9-9a56e54de724",
   "metadata": {},
   "source": [
    "#### Step1: 인적사항 입력 "
   ]
  },
  {
   "cell_type": "code",
   "execution_count": 1,
   "id": "1e2b776f-128b-4c4b-a51a-703853fbf09b",
   "metadata": {},
   "outputs": [],
   "source": [
    "class Person:\n",
    "    def __init__(self,name,job=None,pay=0):\n",
    "        self.name=name\n",
    "        self.job=job\n",
    "        self.pay=pay"
   ]
  },
  {
   "cell_type": "code",
   "execution_count": 2,
   "id": "c82d4302-4cb8-4ea1-9f37-7f46cf46fe5a",
   "metadata": {},
   "outputs": [],
   "source": [
    "hd=Person('Hodong Kang')\n",
    "iu=Person('Jieun Lee',job='dev',pay=5000)\n",
    "hynn=Person('Hyewon Park',pay=3000)"
   ]
  },
  {
   "cell_type": "code",
   "execution_count": 3,
   "id": "da0615cb-cd7c-4420-bb26-2561aca5940f",
   "metadata": {},
   "outputs": [
    {
     "name": "stdout",
     "output_type": "stream",
     "text": [
      "Hodong Kang None 0\n",
      "Jieun Lee dev 5000\n",
      "Hyewon Park None 3000\n"
     ]
    }
   ],
   "source": [
    "print(hd.name,hd.job,hd.pay)\n",
    "print(iu.name,iu.job,iu.pay)\n",
    "print(hynn.name,hynn.job,hynn.pay)"
   ]
  },
  {
   "cell_type": "markdown",
   "id": "66ae5c16-d875-4d06-a5f5-ea8cbfe0c717",
   "metadata": {},
   "source": [
    "#### Step2: 메소드 추가 "
   ]
  },
  {
   "cell_type": "markdown",
   "id": "16e8aa6f-38bf-47d8-8ac8-7aab77a77887",
   "metadata": {},
   "source": [
    "아이유의 연봉을 10퍼센트 올리고 싶다면? "
   ]
  },
  {
   "cell_type": "code",
   "execution_count": 68,
   "id": "87fa2dc9-b1f9-46a5-814a-95fe6a51312d",
   "metadata": {},
   "outputs": [],
   "source": [
    "iu.pay *= 1.1 "
   ]
  },
  {
   "cell_type": "code",
   "execution_count": 69,
   "id": "97ac6ba2-4e33-4f9c-abf7-ef11115ada30",
   "metadata": {},
   "outputs": [
    {
     "data": {
      "text/plain": [
       "5500.0"
      ]
     },
     "execution_count": 69,
     "metadata": {},
     "output_type": "execute_result"
    }
   ],
   "source": [
    "iu.pay"
   ]
  },
  {
   "cell_type": "markdown",
   "id": "51df64f7-b888-47bd-ae91-380d53588e7c",
   "metadata": {},
   "source": [
    "--> 클래스의 외부에서 클래스의 속성 (`iu.pay`)을 바꾸는 동작(=함수)을 하드코딩하는 것은 좋은 방법이 아니다. "
   ]
  },
  {
   "cell_type": "markdown",
   "id": "282b750f-e20d-405a-a2f3-aca1cb19b023",
   "metadata": {},
   "source": [
    "좀 더 좋은 방법은 클래스 내부에 함수를 선언하는 방법이다. "
   ]
  },
  {
   "cell_type": "code",
   "execution_count": 4,
   "id": "d18ad57b-e188-40b5-ade7-3bd4e510cf9d",
   "metadata": {},
   "outputs": [],
   "source": [
    "class Person:\n",
    "    def __init__(self,name,job=None,pay=0):\n",
    "        self.name=name\n",
    "        self.job=job\n",
    "        self.pay=pay\n",
    "    def giveRaise(self,percent): \n",
    "        self.pay *= (1+percent)"
   ]
  },
  {
   "cell_type": "code",
   "execution_count": 5,
   "id": "86c7533c-78ed-4c36-8259-a82a831d0c2e",
   "metadata": {},
   "outputs": [],
   "source": [
    "hd=Person('Hodong Kang')\n",
    "iu=Person('Jieun Lee',job='dev',pay=5000)\n",
    "hynn=Person('Hyewon Park',pay=3000)"
   ]
  },
  {
   "cell_type": "code",
   "execution_count": 6,
   "id": "74bd5a44-70f7-4b53-a9f3-0b75dc7b578a",
   "metadata": {},
   "outputs": [
    {
     "name": "stdout",
     "output_type": "stream",
     "text": [
      "Hodong Kang None 0\n",
      "Jieun Lee dev 5000\n",
      "Hyewon Park None 3000\n"
     ]
    }
   ],
   "source": [
    "print(hd.name,hd.job,hd.pay)\n",
    "print(iu.name,iu.job,iu.pay)\n",
    "print(hynn.name,hynn.job,hynn.pay)"
   ]
  },
  {
   "cell_type": "code",
   "execution_count": 7,
   "id": "f105fd7b-27ef-4fc7-abc3-a48b7598c247",
   "metadata": {},
   "outputs": [],
   "source": [
    "iu.giveRaise(0.1)"
   ]
  },
  {
   "cell_type": "code",
   "execution_count": 8,
   "id": "0f60ff65-da01-4c56-a9af-82f295e0afa8",
   "metadata": {},
   "outputs": [
    {
     "name": "stdout",
     "output_type": "stream",
     "text": [
      "Jieun Lee dev 5500.0\n"
     ]
    }
   ],
   "source": [
    "print(iu.name,iu.job,iu.pay)"
   ]
  },
  {
   "cell_type": "code",
   "execution_count": 9,
   "id": "e616f24b-ea39-4698-a28c-357773bcc697",
   "metadata": {},
   "outputs": [
    {
     "name": "stdout",
     "output_type": "stream",
     "text": [
      "Hyewon Park None 3600.0\n"
     ]
    }
   ],
   "source": [
    "hynn.giveRaise(0.2)\n",
    "print(hynn.name,hynn.job,hynn.pay)"
   ]
  },
  {
   "cell_type": "markdown",
   "id": "210038ba-9e66-467e-af53-5ec0ccea5073",
   "metadata": {},
   "source": [
    "**giveRaise라는 함수를 클래스 내부에 정의하면** \n",
    "\n",
    "(1) 자명한 입력은 넣지 않아도 된다. (self)\n",
    "\n",
    "(2) 원래 아이유의 연봉을 올리기 위해 작성한 코드였는데, Hynn의 연봉도 올릴 수 있게 되었다. "
   ]
  },
  {
   "cell_type": "markdown",
   "id": "f056dc8a-f6b1-4170-a32d-4797d672d3b3",
   "metadata": {},
   "source": [
    "**`note`: 만약에 하드코딩을 했다면?** \n",
    "```python\n",
    "class Person:\n",
    "    def __init__(self,name,job=None,pay=0):\n",
    "        self.name=name\n",
    "        self.job=job\n",
    "        self.pay=pay\n",
    "iu=Person('Jieun Lee',job='dev',pay=5000)\n",
    "hynn=Person('Hyewon Park',pay=3000)\n",
    "iu.pay *= 1.1 \n",
    "hynn.pay *= 1.2 \n",
    "```"
   ]
  },
  {
   "cell_type": "markdown",
   "id": "c9af7126-f4a1-4c5c-b66a-635454c20849",
   "metadata": {},
   "source": [
    "**`note2`: 함수를 클래스 외부에 선언했다면? (암묵적 전달대상 / 암묵적 업데이트 대상을 매순간 명시해야함)** \n",
    "```python\n",
    "class Person:\n",
    "    def __init__(self,name,job=None,pay=0):\n",
    "        self.name=name\n",
    "        self.job=job\n",
    "        self.pay=pay\n",
    "        \n",
    "def giveRaise(pay,percent) \n",
    "    pay *= (1+percent) \n",
    "    return pay \n",
    "iu=Person('Jieun Lee',job='dev',pay=5000)\n",
    "hynn=Person('Hyewon Park',pay=3000)\n",
    "iu.pay *= giveRaise(iu.pay,0.1) \n",
    "hynn.pay *= giveRaise(hynn.pay,0.2)\n",
    "```"
   ]
  },
  {
   "cell_type": "markdown",
   "id": "5b8060d4-1aa6-4983-b6e8-6b8395e453c9",
   "metadata": {},
   "source": [
    "#### Step3: 연산자 오버로딩 "
   ]
  },
  {
   "cell_type": "markdown",
   "id": "40619c51-ab7f-4edc-b94b-92663d6e20df",
   "metadata": {},
   "source": [
    "클래스의 정보를 확인하기 위해서는? \n",
    "```python\n",
    "print(hd.name,hd.job,hd.pay)\n",
    "print(iu.name,iu.job,iu.pay)\n",
    "print(hynn.name,hynn.job,hynn.pay)\n",
    "```"
   ]
  },
  {
   "cell_type": "markdown",
   "id": "64ccad1c-6f6c-46fe-9630-e7f668a0a7f9",
   "metadata": {},
   "source": [
    "이것도 어떻게 보면 코드의 낭비 아닌가? 어차피 Person에서 보고 싶은 정보란 뻔하다. "
   ]
  },
  {
   "cell_type": "markdown",
   "id": "e0d381a3-1286-4a9d-bc49-11b02dc029e3",
   "metadata": {},
   "source": [
    "소망: 만약에 아래와 같이 타이핑만 하면 원하는 정보가 알아서 출력되면 좋겠다. \n",
    "```python\n",
    "print(hd)\n",
    "print(iu)\n",
    "print(hynn)\n",
    "```"
   ]
  },
  {
   "cell_type": "markdown",
   "id": "f841d340-c91c-4291-8a8f-2e900a5d32af",
   "metadata": {},
   "source": [
    "우리의 소망은 불가능해 보인다. `print` 함수이고 함수의 기능을 바꾸려면 함수를 다시 정의해야한다. "
   ]
  },
  {
   "cell_type": "markdown",
   "id": "67b07c52-a99b-45a4-9571-7bd7d6949060",
   "metadata": {},
   "source": [
    "그런데 `print`는 결국 내장함수이므로, 우리의 소망을 실현하기 위해서는 파이썬에 내장된 함수를 바꿔야한다. "
   ]
  },
  {
   "cell_type": "markdown",
   "id": "3b5e5789-ee1a-4ea8-b4dc-400c96845ec4",
   "metadata": {},
   "source": [
    "가능하다고 하더라도 문제이다. 그전까지 작성한 코드는 모두 어떻게 되는지? "
   ]
  },
  {
   "cell_type": "code",
   "execution_count": 77,
   "id": "f2a37da5-c0d9-428f-b653-a887ad7a67a5",
   "metadata": {},
   "outputs": [
    {
     "data": {
      "text/plain": [
       "\u001b[0;31mType:\u001b[0m        Person\n",
       "\u001b[0;31mString form:\u001b[0m <__main__.Person object at 0x7fbf621bb100>\n",
       "\u001b[0;31mDocstring:\u001b[0m   <no docstring>\n"
      ]
     },
     "metadata": {},
     "output_type": "display_data"
    }
   ],
   "source": [
    "?hd"
   ]
  },
  {
   "cell_type": "markdown",
   "id": "ed8732a6-ff15-4746-86ef-1dda1a1d6a29",
   "metadata": {},
   "source": [
    "***Type이 `Person`인 경우에 한정하여 print의 기능을 바꾼다면?***"
   ]
  },
  {
   "cell_type": "markdown",
   "id": "515d1eef-8138-4727-912a-392034677fa0",
   "metadata": {},
   "source": [
    "`print` 내장함수는 Person타입(=내가 만든 클래스의 이름)에서만 바뀐 기능을 수행하고, 그외에서는 일반적으로 동작"
   ]
  },
  {
   "cell_type": "markdown",
   "id": "ddff084e-832c-4762-8c45-0e4cf2391b4a",
   "metadata": {},
   "source": [
    "조금 특별한 함수 `__str__` 개발!"
   ]
  },
  {
   "cell_type": "code",
   "execution_count": 79,
   "id": "1a322a79-86cd-482e-a004-eea1eb064299",
   "metadata": {},
   "outputs": [],
   "source": [
    "class Person:\n",
    "    def __init__(self,name,job=None,pay=0):\n",
    "        self.name=name\n",
    "        self.job=job\n",
    "        self.pay=pay\n",
    "    def giveRaise(self,percent): \n",
    "        self.pay *= (1+percent)\n",
    "    def __str__(self): \n",
    "        return str(self.name)+str(self.job)+str(self.pay)"
   ]
  },
  {
   "cell_type": "markdown",
   "id": "f6b4602c-73df-463f-831f-c58fefcdce05",
   "metadata": {},
   "source": [
    "```__str__```의 특징 \n",
    "- self를 입력으로 받는다. \n",
    "- 출력의 형태가 항상 문자열이어야 한다. "
   ]
  },
  {
   "cell_type": "code",
   "execution_count": 80,
   "id": "9d66a7f3-adf1-482a-88f0-52a13261d82f",
   "metadata": {},
   "outputs": [],
   "source": [
    "hd=Person('Hodong Kang')\n",
    "iu=Person('Jieun Lee',job='dev',pay=5000)\n",
    "hynn=Person('Hyewon Park',pay=3000)"
   ]
  },
  {
   "cell_type": "code",
   "execution_count": 83,
   "id": "0f8baa51-dbf6-4ed0-b5f5-2d8d607fa055",
   "metadata": {},
   "outputs": [
    {
     "name": "stdout",
     "output_type": "stream",
     "text": [
      "Hyewon ParkNone3000\n"
     ]
    }
   ],
   "source": [
    "print(hynn)"
   ]
  },
  {
   "cell_type": "markdown",
   "id": "cf17349d-b3db-4117-ab35-2ce303f1fb48",
   "metadata": {},
   "source": [
    "욕심: 보통 주피터 노트북과 같은 대화형 프롬프트에서는 print를 굳이 사용하지 않아도 원하는 출력결과를 쉽게 얻는다. "
   ]
  },
  {
   "cell_type": "markdown",
   "id": "20ef103d-b1ee-4083-ba69-37651693df69",
   "metadata": {},
   "source": [
    "우리가 만든 클래스는? "
   ]
  },
  {
   "cell_type": "code",
   "execution_count": 94,
   "id": "3988f6fd-9da9-4091-b2b6-450a8c1e1882",
   "metadata": {},
   "outputs": [
    {
     "name": "stdout",
     "output_type": "stream",
     "text": [
      "Hodong KangNone0\n"
     ]
    }
   ],
   "source": [
    "print(hd)"
   ]
  },
  {
   "cell_type": "code",
   "execution_count": 95,
   "id": "67fb7643-36a4-4432-bf9d-6786c774367d",
   "metadata": {},
   "outputs": [
    {
     "data": {
      "text/plain": [
       "<__main__.Person at 0x7fbf621bbd00>"
      ]
     },
     "execution_count": 95,
     "metadata": {},
     "output_type": "execute_result"
    }
   ],
   "source": [
    "hd"
   ]
  },
  {
   "cell_type": "markdown",
   "id": "95d15669-8107-46bf-ba99-ff7edc1895bc",
   "metadata": {},
   "source": [
    "아쉬운데?.. $\\to$ `__repr__` 함수 개발"
   ]
  },
  {
   "cell_type": "code",
   "execution_count": 3,
   "id": "cda471e5-284a-40e1-b415-8805aa857c35",
   "metadata": {},
   "outputs": [],
   "source": [
    "class Person:\n",
    "    def __init__(self,name,job=None,pay=0):\n",
    "        self.name=name\n",
    "        self.job=job\n",
    "        self.pay=pay\n",
    "    def giveRaise(self,percent): \n",
    "        self.pay *= (1+percent)\n",
    "    def __repr__(self): \n",
    "        return str(self.name)+str(self.job)+str(self.pay)"
   ]
  },
  {
   "cell_type": "code",
   "execution_count": 97,
   "id": "bb42f072-e070-4242-b40b-9966a68c5f08",
   "metadata": {},
   "outputs": [],
   "source": [
    "hd=Person('Hodong Kang')\n",
    "iu=Person('Jieun Lee',job='dev',pay=5000)\n",
    "hynn=Person('Hyewon Park',pay=3000)"
   ]
  },
  {
   "cell_type": "code",
   "execution_count": 98,
   "id": "86fef4f4-8b80-4c46-b30b-b1ebff6f7fab",
   "metadata": {},
   "outputs": [
    {
     "data": {
      "text/plain": [
       "Hodong KangNone0"
      ]
     },
     "execution_count": 98,
     "metadata": {},
     "output_type": "execute_result"
    }
   ],
   "source": [
    "hd"
   ]
  },
  {
   "cell_type": "code",
   "execution_count": 99,
   "id": "196049db-6664-40d6-8a66-f7dea02f8df0",
   "metadata": {},
   "outputs": [
    {
     "name": "stdout",
     "output_type": "stream",
     "text": [
      "Hodong KangNone0\n"
     ]
    }
   ],
   "source": [
    "print(hd)"
   ]
  },
  {
   "cell_type": "markdown",
   "id": "61cdf04f-a3b4-4950-b5a7-205c6186f908",
   "metadata": {},
   "source": [
    "보통은 `__repr__`을 더 선호한다. \n",
    "- `__repr__`이 더 많은 디스플레이 케이스에서 적용\n",
    "- 두 가지 서로 다른 형태로 디스플레이하는데 관심이 없음. "
   ]
  },
  {
   "cell_type": "markdown",
   "id": "dca05075-9259-4fef-85f1-5dce7b25a08f",
   "metadata": {},
   "source": [
    "#### Step 4: 상속  "
   ]
  },
  {
   "cell_type": "markdown",
   "id": "0e83b617-166d-4d00-afec-fe698f325779",
   "metadata": {},
   "source": [
    "print(hd)의 디스플레이 형태가 예쁘지 않음 --> 수정해보자. "
   ]
  },
  {
   "cell_type": "markdown",
   "id": "45453844-2122-456a-a18a-ec669c27d93c",
   "metadata": {},
   "source": [
    "`잔기술1`"
   ]
  },
  {
   "cell_type": "code",
   "execution_count": 100,
   "id": "4e049c30-7bac-4945-b5d6-773eaf09eec7",
   "metadata": {},
   "outputs": [
    {
     "data": {
      "text/plain": [
       "'파이는 3.14'"
      ]
     },
     "execution_count": 100,
     "metadata": {},
     "output_type": "execute_result"
    }
   ],
   "source": [
    "'파이는 %s' % 3.14"
   ]
  },
  {
   "cell_type": "markdown",
   "id": "a0e5b9b1-9f54-48f0-8f9e-f472619e4141",
   "metadata": {},
   "source": [
    "`잔기술2`"
   ]
  },
  {
   "cell_type": "code",
   "execution_count": 73,
   "id": "c3948e3b-2bb5-41f8-926b-e82536856b2f",
   "metadata": {},
   "outputs": [
    {
     "name": "stdout",
     "output_type": "stream",
     "text": [
      "나는\n",
      "최고다\n"
     ]
    }
   ],
   "source": [
    "print('나는\\n최고다')"
   ]
  },
  {
   "cell_type": "code",
   "execution_count": 5,
   "id": "3be429f1-1aa6-4b1b-bf7c-34faa1f16c9b",
   "metadata": {},
   "outputs": [],
   "source": [
    "class Person2(Person):\n",
    "    def __repr__(self):\n",
    "        return '이름: %s \\n직업: %s \\n연봉: %s' % (self.name,self.job,self.pay)"
   ]
  },
  {
   "cell_type": "code",
   "execution_count": 108,
   "id": "b7e42ce4-e683-4155-a44a-16ba90742234",
   "metadata": {},
   "outputs": [],
   "source": [
    "hd=Person2('Hodong Kang')\n",
    "iu=Person2('Jieun Lee',job='dev',pay=5000)\n",
    "hynn=Person2('Hyewon Park',pay=3000)"
   ]
  },
  {
   "cell_type": "code",
   "execution_count": 109,
   "id": "99e9702d-7c3c-490d-9ed9-cbc270ade48a",
   "metadata": {},
   "outputs": [
    {
     "data": {
      "text/plain": [
       "이름: Hodong Kang \n",
       "직업: None \n",
       "연봉: 0"
      ]
     },
     "execution_count": 109,
     "metadata": {},
     "output_type": "execute_result"
    }
   ],
   "source": [
    "hd"
   ]
  },
  {
   "cell_type": "code",
   "execution_count": 110,
   "id": "7d13fec5-eba0-48e9-859f-77efeb2e505c",
   "metadata": {},
   "outputs": [
    {
     "data": {
      "text/plain": [
       "이름: Jieun Lee \n",
       "직업: dev \n",
       "연봉: 5000"
      ]
     },
     "execution_count": 110,
     "metadata": {},
     "output_type": "execute_result"
    }
   ],
   "source": [
    "iu"
   ]
  },
  {
   "cell_type": "code",
   "execution_count": 111,
   "id": "11d4bd37-b480-41bc-bd4c-460a2e805f8f",
   "metadata": {},
   "outputs": [
    {
     "data": {
      "text/plain": [
       "이름: Hyewon Park \n",
       "직업: None \n",
       "연봉: 3000"
      ]
     },
     "execution_count": 111,
     "metadata": {},
     "output_type": "execute_result"
    }
   ],
   "source": [
    "hynn"
   ]
  },
  {
   "cell_type": "code",
   "execution_count": 115,
   "id": "4d5f8b4e-d5be-4f08-a233-eba6cf114c3b",
   "metadata": {},
   "outputs": [
    {
     "data": {
      "text/plain": [
       "(이름: Hodong Kang \n",
       " 직업: None \n",
       " 연봉: 0,\n",
       " 이름: Jieun Lee \n",
       " 직업: dev \n",
       " 연봉: 5000,\n",
       " 이름: Hyewon Park \n",
       " 직업: None \n",
       " 연봉: 3000)"
      ]
     },
     "execution_count": 115,
     "metadata": {},
     "output_type": "execute_result"
    }
   ],
   "source": [
    "hd,iu,hynn"
   ]
  },
  {
   "cell_type": "markdown",
   "id": "9018c87f-a443-412c-9008-257fe27e54b7",
   "metadata": {},
   "source": [
    "**Manager라는 클래스를 새로 만들자.** "
   ]
  },
  {
   "cell_type": "markdown",
   "id": "5f73ef4f-d9a2-45c6-9362-1b427d4b684f",
   "metadata": {},
   "source": [
    "Person2와 동일한데, 연봉상승방법이 약간 다르다고 하자. "
   ]
  },
  {
   "cell_type": "markdown",
   "id": "559dfad7-c2af-4ae8-9d9c-189db6382830",
   "metadata": {},
   "source": [
    "***나쁜코드***"
   ]
  },
  {
   "cell_type": "code",
   "execution_count": 116,
   "id": "ba3c0243-8b3b-4c57-a4e3-17c3b30dd0d7",
   "metadata": {},
   "outputs": [],
   "source": [
    "class Manager(Person2):\n",
    "    def giveRaise(self,percent,bonus=0.1): \n",
    "        self.pay *= (1+percent+bonus)"
   ]
  },
  {
   "cell_type": "code",
   "execution_count": 117,
   "id": "392c208a-199c-45ee-aad7-0da34b6346fd",
   "metadata": {},
   "outputs": [],
   "source": [
    "hd=Manager('Hodong Kang', job='mgr', pay=8000)"
   ]
  },
  {
   "cell_type": "code",
   "execution_count": 118,
   "id": "af4f56e9-40d5-405b-af3a-2226d2f19108",
   "metadata": {},
   "outputs": [
    {
     "data": {
      "text/plain": [
       "이름: Hodong Kang \n",
       "직업: mgr \n",
       "연봉: 8000"
      ]
     },
     "execution_count": 118,
     "metadata": {},
     "output_type": "execute_result"
    }
   ],
   "source": [
    "hd"
   ]
  },
  {
   "cell_type": "code",
   "execution_count": 119,
   "id": "871285d3-9b3a-477a-8df4-0ab2d3770c98",
   "metadata": {},
   "outputs": [],
   "source": [
    "hd.giveRaise(0.1)"
   ]
  },
  {
   "cell_type": "code",
   "execution_count": 120,
   "id": "a21a6f4c-3323-4465-9a8a-3d3e9c7bcfbd",
   "metadata": {},
   "outputs": [
    {
     "data": {
      "text/plain": [
       "이름: Hodong Kang \n",
       "직업: mgr \n",
       "연봉: 9600.000000000002"
      ]
     },
     "execution_count": 120,
     "metadata": {},
     "output_type": "execute_result"
    }
   ],
   "source": [
    "hd"
   ]
  },
  {
   "cell_type": "markdown",
   "id": "c873e930-74da-436e-a0d6-166b1e7c0d34",
   "metadata": {},
   "source": [
    "연봉상승은 10%상승이지만 매니저는 기본적으로 10% 상승시키므로 총 상승분은 20%"
   ]
  },
  {
   "cell_type": "markdown",
   "id": "7e71721a-0e6d-4b5d-8e24-0a8896f9de45",
   "metadata": {},
   "source": [
    "***좀 더 좋은 코드***  \n",
    "기존에 만들어놓은 함수를 이용하자!"
   ]
  },
  {
   "cell_type": "code",
   "execution_count": 80,
   "id": "7b9494c2-4b62-4a29-b772-0f4f4ef36b79",
   "metadata": {},
   "outputs": [],
   "source": [
    "class Manager(Person2):\n",
    "    def giveRaise(self,percent,bonus=0.1): \n",
    "        Person2.giveRaise(self,percent+bonus)"
   ]
  },
  {
   "cell_type": "code",
   "execution_count": 81,
   "id": "7d60d8ff-ca8d-4723-a563-15ad5cf31062",
   "metadata": {},
   "outputs": [],
   "source": [
    "hd=Manager('Hodong Kang', job='mgr', pay=8000)"
   ]
  },
  {
   "cell_type": "code",
   "execution_count": 82,
   "id": "7fe733b7-39ff-46c7-b455-096771976e27",
   "metadata": {},
   "outputs": [
    {
     "data": {
      "text/plain": [
       "이름: Hodong Kang \n",
       "직업: mgr \n",
       "연봉: 8000"
      ]
     },
     "execution_count": 82,
     "metadata": {},
     "output_type": "execute_result"
    }
   ],
   "source": [
    "hd"
   ]
  },
  {
   "cell_type": "code",
   "execution_count": 83,
   "id": "ec604559-d103-42eb-aefa-5599392f3e60",
   "metadata": {},
   "outputs": [],
   "source": [
    "hd.giveRaise(0.1)"
   ]
  },
  {
   "cell_type": "code",
   "execution_count": 84,
   "id": "b9e076ba-dd57-45c3-b744-bbe27b1c4dcd",
   "metadata": {},
   "outputs": [
    {
     "data": {
      "text/plain": [
       "이름: Hodong Kang \n",
       "직업: mgr \n",
       "연봉: 9600.0"
      ]
     },
     "execution_count": 84,
     "metadata": {},
     "output_type": "execute_result"
    }
   ],
   "source": [
    "hd"
   ]
  },
  {
   "cell_type": "markdown",
   "id": "2f740b80-066f-4624-be3b-6e18c9732ab4",
   "metadata": {},
   "source": [
    "만약에 우리회사의 모든 직원들의 연봉을 20%올리고 싶다면? "
   ]
  },
  {
   "cell_type": "code",
   "execution_count": 85,
   "id": "37cedb39-f4a1-4cf7-a0ef-b790448df14e",
   "metadata": {},
   "outputs": [],
   "source": [
    "hd=Manager('Hodong Kang', job='mgr', pay=8000)\n",
    "iu=Person2('Jieun Lee',job='dev',pay=5000)\n",
    "hynn=Person2('Hyewon Park',pay=3000)"
   ]
  },
  {
   "cell_type": "code",
   "execution_count": 86,
   "id": "334eec7d-06e3-4d11-a794-bc73cecaa7c4",
   "metadata": {},
   "outputs": [
    {
     "data": {
      "text/plain": [
       "(이름: Hodong Kang \n",
       " 직업: mgr \n",
       " 연봉: 8000,\n",
       " 이름: Jieun Lee \n",
       " 직업: dev \n",
       " 연봉: 5000,\n",
       " 이름: Hyewon Park \n",
       " 직업: None \n",
       " 연봉: 3000)"
      ]
     },
     "execution_count": 86,
     "metadata": {},
     "output_type": "execute_result"
    }
   ],
   "source": [
    "hd,iu,hynn"
   ]
  },
  {
   "cell_type": "code",
   "execution_count": 87,
   "id": "209954a6-bb0c-4a3b-9e6e-ef1633177fa5",
   "metadata": {},
   "outputs": [],
   "source": [
    "for ins in [hd,iu,hynn]:\n",
    "    ins.giveRaise(0.2)"
   ]
  },
  {
   "cell_type": "code",
   "execution_count": 88,
   "id": "896ee658-bebd-43aa-82bd-abfa380b22d4",
   "metadata": {},
   "outputs": [
    {
     "data": {
      "text/plain": [
       "(이름: Hodong Kang \n",
       " 직업: mgr \n",
       " 연봉: 10400.0,\n",
       " 이름: Jieun Lee \n",
       " 직업: dev \n",
       " 연봉: 6000.0,\n",
       " 이름: Hyewon Park \n",
       " 직업: None \n",
       " 연봉: 3600.0)"
      ]
     },
     "execution_count": 88,
     "metadata": {},
     "output_type": "execute_result"
    }
   ],
   "source": [
    "hd,iu,hynn"
   ]
  },
  {
   "cell_type": "markdown",
   "id": "cb8e64a2-74a4-4e92-ba50-af04d1a80fea",
   "metadata": {},
   "source": [
    "***코드분석***"
   ]
  },
  {
   "cell_type": "markdown",
   "id": "bf6d76d0-3768-4717-8cc4-c87b434d9bf3",
   "metadata": {},
   "source": [
    "(1) ins는 `Person2`클래스의 인스턴스 혹은 `Manager`클래스의 인스턴스"
   ]
  },
  {
   "cell_type": "markdown",
   "id": "ff9e7b63-cdf1-464a-be6e-06a8182ca7cd",
   "metadata": {},
   "source": [
    "(2) 각 인스턴스는 각 클래스에 정의된 적당한 버전의 'giveRaise'를 활용하여 연봉이 인상된다. 즉 iu, hynn은 Person2버전의 giveRasie를 실행하고, hd는 Manager버전의 'giveRaise'를 실행"
   ]
  },
  {
   "cell_type": "markdown",
   "id": "b19a25c6-db8a-447a-bb23-68770191cd6c",
   "metadata": {},
   "source": [
    "(3) 출력은 모두 동일한 `__repr__`을 실행 "
   ]
  },
  {
   "cell_type": "markdown",
   "id": "0de360ee-2a1f-4eea-a2ce-f063b765f11a",
   "metadata": {},
   "source": [
    "***클래스가 없다면?***"
   ]
  },
  {
   "cell_type": "markdown",
   "id": "3e752b69-ce64-4c51-ae59-d454aaac5505",
   "metadata": {},
   "source": [
    "(1) 함수의 암묵적인자를 전달하지 못하므로 코드가 길어진다. (self 인자)"
   ]
  },
  {
   "cell_type": "markdown",
   "id": "b3e8e01e-e7b6-4756-b0af-41201b41b36d",
   "metadata": {},
   "source": [
    "(2) (hd, iu, hynn) 와 같이 같이 깔끔한 코드로 출력결과를 바로바로 확인하기가 불가능할 것이다. (연산자 오버로딩)"
   ]
  },
  {
   "cell_type": "markdown",
   "id": "d83a42cc-5c13-41c2-891b-74044a256c2d",
   "metadata": {},
   "source": [
    "(3) 그 사람이 매니저인지 아닌지에 따라 연봉상승하는 방법이 다르므로, 어딘가에 if문을 넣어야 할 것이다. "
   ]
  },
  {
   "cell_type": "markdown",
   "id": "d7304dd7-bbc5-4dce-be81-6fceab936d51",
   "metadata": {},
   "source": [
    "(4) 코드의 재사용이 어렵다.. 디버깅이 어렵다.. 등등.. "
   ]
  },
  {
   "cell_type": "markdown",
   "id": "7cca2b5a-aa3b-40d6-a31b-013ad4e61efb",
   "metadata": {},
   "source": [
    "-----------"
   ]
  },
  {
   "cell_type": "markdown",
   "id": "278667b0-d478-4d5c-b46f-c22a695a181a",
   "metadata": {},
   "source": [
    "[$\\ast$] `__init__`함수 재정의"
   ]
  },
  {
   "cell_type": "markdown",
   "id": "29c14744-d358-48d5-be9e-ff6fc82c5348",
   "metadata": {},
   "source": [
    "***생각해보니까 아래의 코드에서 호동의 직업을 매니저로 입력하는 것이 낭비같다.***"
   ]
  },
  {
   "cell_type": "code",
   "execution_count": 48,
   "id": "3b0ea0ec-3c92-4518-8244-0d67185926d8",
   "metadata": {},
   "outputs": [],
   "source": [
    "hd=Manager('Hodong Kang', job='mgr', pay=8000)\n",
    "iu=Person2('Jieun Lee',job='dev',pay=5000)\n",
    "hynn=Person2('Hyewon Park',pay=3000)"
   ]
  },
  {
   "cell_type": "markdown",
   "id": "e5903c54-2a10-4059-a61e-aaa2223fee4e",
   "metadata": {},
   "source": [
    "호동은 매니저클래스의 인스턴스이므로 직업은 당연히 매니저일것. "
   ]
  },
  {
   "cell_type": "markdown",
   "id": "291e98bc-d193-496c-bf92-75008c0165b1",
   "metadata": {},
   "source": [
    "굳이 `job='mgr'`와 같은 방식으로 입력하지 않아도 될것 같다. "
   ]
  },
  {
   "cell_type": "markdown",
   "id": "30fb0768-4e61-4562-8d1e-67813b32154c",
   "metadata": {},
   "source": [
    "어떻게 하면 될까? "
   ]
  },
  {
   "cell_type": "code",
   "execution_count": 49,
   "id": "46e4ae0d-1b46-4b22-8425-c0b6ab2283f0",
   "metadata": {},
   "outputs": [],
   "source": [
    "class Manager(Person2):\n",
    "    def __init__(self,name,pay=0):\n",
    "        self.name=name\n",
    "        self.job='mgr'\n",
    "        self.pay=pay\n",
    "    def giveRaise(self,percent,bonus=0.1): \n",
    "        Person2.giveRaise(self,percent+bonus)"
   ]
  },
  {
   "cell_type": "code",
   "execution_count": 50,
   "id": "4f9738da-1a27-41f4-a4e5-eb62c63b38e3",
   "metadata": {},
   "outputs": [],
   "source": [
    "hd=Manager('Hodong Kang', pay=8000)\n",
    "iu=Person2('Jieun Lee',job='dev',pay=5000)\n",
    "hynn=Person2('Hyewon Park',pay=3000)"
   ]
  },
  {
   "cell_type": "code",
   "execution_count": 51,
   "id": "c84094b9-cbe5-4f09-9e72-b95017357364",
   "metadata": {},
   "outputs": [
    {
     "data": {
      "text/plain": [
       "이름: Hodong Kang \n",
       "직업: mgr \n",
       "연봉: 8000"
      ]
     },
     "execution_count": 51,
     "metadata": {},
     "output_type": "execute_result"
    }
   ],
   "source": [
    "hd"
   ]
  },
  {
   "cell_type": "code",
   "execution_count": 52,
   "id": "a562bd15-afd0-41d0-8214-a25a7f69e421",
   "metadata": {},
   "outputs": [
    {
     "data": {
      "text/plain": [
       "(이름: Hodong Kang \n",
       " 직업: mgr \n",
       " 연봉: 8000,\n",
       " 이름: Jieun Lee \n",
       " 직업: dev \n",
       " 연봉: 5000,\n",
       " 이름: Hyewon Park \n",
       " 직업: None \n",
       " 연봉: 3000)"
      ]
     },
     "execution_count": 52,
     "metadata": {},
     "output_type": "execute_result"
    }
   ],
   "source": [
    "hd,iu,hynn"
   ]
  },
  {
   "cell_type": "markdown",
   "id": "ad481d62-f598-430c-9dd2-a4275c576aac",
   "metadata": {},
   "source": [
    "`관찰:` 아까 매니저 클래스에서 함수를 정의하는 과정을 잘 관찰하면 \n",
    "```python\n",
    "class Manager(Person2):\n",
    "    def giveRaise(self,percent,bonus=0.1): \n",
    "        Person2.giveRaise(self,percent+bonus)\n",
    "```\n",
    "상속받은 클래스(서브클래스)에서 `슈퍼클래스이름.함수이름`으로 슈퍼클래스의 함수를 호출함. "
   ]
  },
  {
   "cell_type": "markdown",
   "id": "6ffe253a-db8b-4f16-8e71-d5b8fc0956b1",
   "metadata": {},
   "source": [
    "`-` `__init__`도 함수이므로 위와 같은 방식을 사용할 수 있겠다. "
   ]
  },
  {
   "cell_type": "code",
   "execution_count": 57,
   "id": "2159de1b-cd81-4300-a8d5-5bf9220bacf2",
   "metadata": {},
   "outputs": [],
   "source": [
    "class Manager(Person2):\n",
    "    def __init__(self,name,pay=0):\n",
    "        Person2.__init__(self,name,'mgr',pay)\n",
    "    def giveRaise(self,percent,bonus=0.1): \n",
    "        Person2.giveRaise(self,percent+bonus)"
   ]
  },
  {
   "cell_type": "code",
   "execution_count": 58,
   "id": "f9950f4e-f55d-4940-b886-3da502ad49e8",
   "metadata": {},
   "outputs": [],
   "source": [
    "hd=Manager('Hodong Kang', pay=8000)\n",
    "iu=Person2('Jieun Lee',job='dev',pay=5000)\n",
    "hynn=Person2('Hyewon Park',pay=3000)"
   ]
  },
  {
   "cell_type": "code",
   "execution_count": 60,
   "id": "d0d816d8-43e6-454f-b724-69452103cc2e",
   "metadata": {},
   "outputs": [
    {
     "data": {
      "text/plain": [
       "(이름: Hodong Kang \n",
       " 직업: mgr \n",
       " 연봉: 8000,\n",
       " 이름: Jieun Lee \n",
       " 직업: dev \n",
       " 연봉: 5000,\n",
       " 이름: Hyewon Park \n",
       " 직업: None \n",
       " 연봉: 3000)"
      ]
     },
     "execution_count": 60,
     "metadata": {},
     "output_type": "execute_result"
    }
   ],
   "source": [
    "hd,iu,hynn"
   ]
  },
  {
   "cell_type": "markdown",
   "id": "63c60b86-e54c-4efa-a7df-53d466f5594d",
   "metadata": {},
   "source": [
    "`-` `giveRiase`를 수정한 기법과 `__init__`을 수정한 기법은 동일함. "
   ]
  },
  {
   "cell_type": "markdown",
   "id": "7cf71166-14bc-4a63-b745-4dfa06b29daf",
   "metadata": {},
   "source": [
    "----"
   ]
  },
  {
   "cell_type": "markdown",
   "id": "c0cc052a-fa55-42d3-b39e-1c76dcc758c8",
   "metadata": {},
   "source": [
    "[$\\ast$] 객체임베딩(객체내장)"
   ]
  },
  {
   "cell_type": "markdown",
   "id": "282e9ac3-1cb0-4f5a-a0f8-de1a574743a7",
   "metadata": {},
   "source": [
    "`-` 클래스 Person2를 상속받지 않고 사용할 수는 없을까? "
   ]
  },
  {
   "cell_type": "markdown",
   "id": "faf2db20-9cbe-4893-a889-6b67627fa92b",
   "metadata": {},
   "source": [
    "`-` Person2를 인스턴스화 하고 그 인스턴스를 입력으로 받아 기능을 사용하는 방식을 취한다면? $\\to$ 구현해보자. "
   ]
  },
  {
   "cell_type": "markdown",
   "id": "a852bc35-8b39-4021-ad6f-2f28417fbdeb",
   "metadata": {},
   "source": [
    "`-` 원래코드\n",
    "```python\n",
    "class Manager(Person2):\n",
    "    def __init__(self,name,pay=0):\n",
    "        Person2.__init__(self,name,'mgr',pay)\n",
    "    def giveRaise(self,percent,bonus=0.1): \n",
    "        Person2.giveRaise(self,percent+bonus)\n",
    "```"
   ]
  },
  {
   "cell_type": "markdown",
   "id": "a7268d37-82a3-44f2-b21f-fd86969c8588",
   "metadata": {},
   "source": [
    "`-` 아래와 같이 수정"
   ]
  },
  {
   "cell_type": "code",
   "execution_count": 103,
   "id": "e4398584-b977-4de4-8f7e-7fd1c1e931f4",
   "metadata": {},
   "outputs": [],
   "source": [
    "class Manager():\n",
    "    def __init__(self,name,pay=0):\n",
    "        self.person2=Person2(name,'mgr',pay)\n",
    "    def giveRaise(self,percent,bonus=0.1): \n",
    "        self.person2.giveRaise(self,percent+bonus)"
   ]
  },
  {
   "cell_type": "code",
   "execution_count": 104,
   "id": "7e3f9fe4-c743-49f2-899e-2e0757100567",
   "metadata": {},
   "outputs": [],
   "source": [
    "hd=Manager('Hodong Kang', pay=8000)\n",
    "iu=Person2('Jieun Lee',job='dev',pay=5000)\n",
    "hynn=Person2('Hyewon Park',pay=3000)"
   ]
  },
  {
   "cell_type": "code",
   "execution_count": 105,
   "id": "ccb1934f-9456-4a19-80bd-0b5ab8f25aac",
   "metadata": {},
   "outputs": [
    {
     "data": {
      "text/plain": [
       "(<__main__.Manager at 0x7fdea54ddbe0>,\n",
       " 이름: Jieun Lee \n",
       " 직업: dev \n",
       " 연봉: 5000,\n",
       " 이름: Hyewon Park \n",
       " 직업: None \n",
       " 연봉: 3000)"
      ]
     },
     "execution_count": 105,
     "metadata": {},
     "output_type": "execute_result"
    }
   ],
   "source": [
    "hd,iu,hynn"
   ]
  },
  {
   "cell_type": "code",
   "execution_count": 109,
   "id": "17f9c8cd-6527-4894-9e61-f2580400ce73",
   "metadata": {},
   "outputs": [
    {
     "data": {
      "text/plain": [
       "['__class__',\n",
       " '__delattr__',\n",
       " '__dict__',\n",
       " '__dir__',\n",
       " '__doc__',\n",
       " '__eq__',\n",
       " '__format__',\n",
       " '__ge__',\n",
       " '__getattribute__',\n",
       " '__gt__',\n",
       " '__hash__',\n",
       " '__init__',\n",
       " '__init_subclass__',\n",
       " '__le__',\n",
       " '__lt__',\n",
       " '__module__',\n",
       " '__ne__',\n",
       " '__new__',\n",
       " '__reduce__',\n",
       " '__reduce_ex__',\n",
       " '__repr__',\n",
       " '__setattr__',\n",
       " '__sizeof__',\n",
       " '__str__',\n",
       " '__subclasshook__',\n",
       " '__weakref__',\n",
       " 'giveRaise',\n",
       " 'job',\n",
       " 'name',\n",
       " 'pay']"
      ]
     },
     "execution_count": 109,
     "metadata": {},
     "output_type": "execute_result"
    }
   ],
   "source": [
    "hd.__repr__"
   ]
  },
  {
   "cell_type": "code",
   "execution_count": 124,
   "id": "cd84f638-8ee3-482f-8c0a-c2dac47c8a1f",
   "metadata": {},
   "outputs": [],
   "source": [
    "class Manager():\n",
    "    def __init__(self,name,pay=0):\n",
    "        self.person2=Person2(name,'mgr',pay)\n",
    "    def giveRaise(self,percent,bonus=0.1): \n",
    "        self.person2.giveRaise(self,percent+bonus)\n",
    "    def __repr__(self):\n",
    "        return str(self.person2)"
   ]
  },
  {
   "cell_type": "code",
   "execution_count": 125,
   "id": "a23c1686-14af-48c3-815c-9652a59576e0",
   "metadata": {},
   "outputs": [],
   "source": [
    "hd=Manager('Hodong Kang', pay=8000)\n",
    "iu=Person2('Jieun Lee',job='dev',pay=5000)\n",
    "hynn=Person2('Hyewon Park',pay=3000)"
   ]
  },
  {
   "cell_type": "code",
   "execution_count": 126,
   "id": "3f1108be-99b8-412f-9038-b641760d8b0b",
   "metadata": {},
   "outputs": [
    {
     "data": {
      "text/plain": [
       "(이름: Hodong Kang \n",
       " 직업: mgr \n",
       " 연봉: 8000,\n",
       " 이름: Jieun Lee \n",
       " 직업: dev \n",
       " 연봉: 5000,\n",
       " 이름: Hyewon Park \n",
       " 직업: None \n",
       " 연봉: 3000)"
      ]
     },
     "execution_count": 126,
     "metadata": {},
     "output_type": "execute_result"
    }
   ],
   "source": [
    "hd,iu,hynn"
   ]
  },
  {
   "cell_type": "code",
   "execution_count": 121,
   "id": "5ec20f4b-351e-4f3a-8a29-a3268720baa0",
   "metadata": {},
   "outputs": [
    {
     "data": {
      "text/plain": [
       "<__main__.Manager at 0x7fdea54a1940>"
      ]
     },
     "execution_count": 121,
     "metadata": {},
     "output_type": "execute_result"
    }
   ],
   "source": [
    "hd.person2.__repr__"
   ]
  },
  {
   "cell_type": "code",
   "execution_count": 122,
   "id": "e3315f46-90f2-4345-b95f-5390e48893b4",
   "metadata": {},
   "outputs": [
    {
     "data": {
      "text/plain": [
       "<__main__.Manager at 0x7fdea54a1940>"
      ]
     },
     "execution_count": 122,
     "metadata": {},
     "output_type": "execute_result"
    }
   ],
   "source": [
    "hd.__repr__"
   ]
  },
  {
   "cell_type": "markdown",
   "id": "5ccca4c2-25c4-4384-82e1-4959272eec04",
   "metadata": {},
   "source": [
    "`-` 이 예제에서는 임베딩기법이 그다지 유용하지 않다. \n",
    "\n",
    "`-` 코드에 따라서 유용할수도있다. "
   ]
  }
 ],
 "metadata": {
  "kernelspec": {
   "display_name": "Python 3 (ipykernel)",
   "language": "python",
   "name": "python3"
  },
  "language_info": {
   "codemirror_mode": {
    "name": "ipython",
    "version": 3
   },
   "file_extension": ".py",
   "mimetype": "text/x-python",
   "name": "python",
   "nbconvert_exporter": "python",
   "pygments_lexer": "ipython3",
   "version": "3.8.11"
  }
 },
 "nbformat": 4,
 "nbformat_minor": 5
}
