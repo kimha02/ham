{
 "cells": [
  {
   "cell_type": "markdown",
   "id": "c09e83e8-614b-45fb-b42b-30cebc8c9d88",
   "metadata": {},
   "source": [
    "# (공부) 네임스페이스 & 연산자오버로딩 & 도움말 추가하기\n",
    "> 작성완료\n",
    "\n",
    "- toc:true\n",
    "- branch: master\n",
    "- badges: true\n",
    "- comments: true\n",
    "- author: kimha02\n",
    "- categories: [Python]"
   ]
  },
  {
   "cell_type": "markdown",
   "id": "47e19ab6-0099-44ee-a55b-60b56bcb2f2d",
   "metadata": {},
   "source": [
    "----"
   ]
  },
  {
   "cell_type": "markdown",
   "id": "b36de781-4e33-4f8c-95ac-c859c7bf3dbe",
   "metadata": {},
   "source": [
    "### 예제1"
   ]
  },
  {
   "cell_type": "code",
   "execution_count": 1,
   "id": "895e136b-82fc-4955-9492-81c01420d5b1",
   "metadata": {},
   "outputs": [],
   "source": [
    "class Testclass1: \n",
    "    x=0"
   ]
  },
  {
   "cell_type": "code",
   "execution_count": 2,
   "id": "30e3b6b5-5beb-4bdf-b881-d0cc79fe61c9",
   "metadata": {},
   "outputs": [
    {
     "data": {
      "text/plain": [
       "0"
      ]
     },
     "execution_count": 2,
     "metadata": {},
     "output_type": "execute_result"
    }
   ],
   "source": [
    "Testclass1.x"
   ]
  },
  {
   "cell_type": "code",
   "execution_count": 3,
   "id": "fad6c00c-8985-4b63-98f6-e3fa105af92e",
   "metadata": {},
   "outputs": [],
   "source": [
    "a=Testclass1()"
   ]
  },
  {
   "cell_type": "code",
   "execution_count": 4,
   "id": "305ff313-9e04-4ee5-8efc-f1480642839f",
   "metadata": {},
   "outputs": [
    {
     "data": {
      "text/plain": [
       "0"
      ]
     },
     "execution_count": 4,
     "metadata": {},
     "output_type": "execute_result"
    }
   ],
   "source": [
    "a.x"
   ]
  },
  {
   "cell_type": "markdown",
   "id": "223a7961-5c53-4b79-a694-a40f3a892f78",
   "metadata": {},
   "source": [
    "`–` Testclass1.x를 수정하면 a.x가 강제로 수정된다. "
   ]
  },
  {
   "cell_type": "code",
   "execution_count": 5,
   "id": "e8b966cb-e18b-4ff6-957e-53512166dcdd",
   "metadata": {},
   "outputs": [],
   "source": [
    "Testclass1.x=100"
   ]
  },
  {
   "cell_type": "code",
   "execution_count": 6,
   "id": "1621cffc-5bcc-4022-9640-1fe7207a3228",
   "metadata": {},
   "outputs": [
    {
     "data": {
      "text/plain": [
       "100"
      ]
     },
     "execution_count": 6,
     "metadata": {},
     "output_type": "execute_result"
    }
   ],
   "source": [
    "a.x"
   ]
  },
  {
   "cell_type": "markdown",
   "id": "86143925-0b33-4e7a-bc1e-ab447263148e",
   "metadata": {},
   "source": [
    "`-` a.x를 수정한다고 하여 Testclass1.x가 강제로 수정되는 것은 아님"
   ]
  },
  {
   "cell_type": "code",
   "execution_count": 7,
   "id": "a0c8ed90-e9e3-43c1-80a8-6868cd77e49e",
   "metadata": {},
   "outputs": [],
   "source": [
    "a.x=200"
   ]
  },
  {
   "cell_type": "code",
   "execution_count": 8,
   "id": "266ad4cd-f8f3-42b2-9ec9-f4e167c5bbc8",
   "metadata": {},
   "outputs": [
    {
     "data": {
      "text/plain": [
       "100"
      ]
     },
     "execution_count": 8,
     "metadata": {},
     "output_type": "execute_result"
    }
   ],
   "source": [
    "Testclass1.x"
   ]
  },
  {
   "cell_type": "code",
   "execution_count": 9,
   "id": "561efc09-def7-4a8d-a757-14d138fc1c3b",
   "metadata": {},
   "outputs": [
    {
     "data": {
      "text/plain": [
       "200"
      ]
     },
     "execution_count": 9,
     "metadata": {},
     "output_type": "execute_result"
    }
   ],
   "source": [
    "a.x"
   ]
  },
  {
   "cell_type": "markdown",
   "id": "6beb27c9-5bb0-42bc-b832-38dc5ea4e5fe",
   "metadata": {},
   "source": [
    "`-` 이건 왜이러지?"
   ]
  },
  {
   "cell_type": "code",
   "execution_count": 10,
   "id": "31966d43-eb8c-4f5f-a614-4d73050032e6",
   "metadata": {},
   "outputs": [],
   "source": [
    "Testclass1.x=300"
   ]
  },
  {
   "cell_type": "code",
   "execution_count": 11,
   "id": "48200b21-2ce1-457a-ac71-f4e498a01397",
   "metadata": {
    "tags": []
   },
   "outputs": [
    {
     "data": {
      "text/plain": [
       "200"
      ]
     },
     "execution_count": 11,
     "metadata": {},
     "output_type": "execute_result"
    }
   ],
   "source": [
    "a.x"
   ]
  },
  {
   "cell_type": "markdown",
   "id": "2ddd621e-3d5c-441c-bb43-000f861e0d57",
   "metadata": {},
   "source": [
    "`-` 아래의 상황과 비슷하다. "
   ]
  },
  {
   "cell_type": "code",
   "execution_count": 12,
   "id": "3977ac34-2fb3-4a1a-8ace-c89bba9ab07d",
   "metadata": {},
   "outputs": [
    {
     "name": "stdout",
     "output_type": "stream",
     "text": [
      "39 40\n"
     ]
    }
   ],
   "source": [
    "## [code1]\n",
    "x=39\n",
    "def nextyear():\n",
    "    y=x+1\n",
    "    print(x,y)\n",
    "nextyear()"
   ]
  },
  {
   "cell_type": "code",
   "execution_count": 13,
   "id": "12cba013-18fb-44ae-a280-a2f18ed402c3",
   "metadata": {},
   "outputs": [
    {
     "ename": "UnboundLocalError",
     "evalue": "local variable 'x' referenced before assignment",
     "output_type": "error",
     "traceback": [
      "\u001b[0;31m---------------------------------------------------------------------------\u001b[0m",
      "\u001b[0;31mUnboundLocalError\u001b[0m                         Traceback (most recent call last)",
      "\u001b[0;32m<ipython-input-13-9c5d2bc270db>\u001b[0m in \u001b[0;36m<module>\u001b[0;34m\u001b[0m\n\u001b[1;32m      5\u001b[0m     \u001b[0mprint\u001b[0m\u001b[0;34m(\u001b[0m\u001b[0mx\u001b[0m\u001b[0;34m,\u001b[0m\u001b[0my\u001b[0m\u001b[0;34m)\u001b[0m\u001b[0;34m\u001b[0m\u001b[0;34m\u001b[0m\u001b[0m\n\u001b[1;32m      6\u001b[0m     \u001b[0mx\u001b[0m\u001b[0;34m=\u001b[0m\u001b[0;36m0\u001b[0m\u001b[0;34m\u001b[0m\u001b[0;34m\u001b[0m\u001b[0m\n\u001b[0;32m----> 7\u001b[0;31m \u001b[0mnextyear\u001b[0m\u001b[0;34m(\u001b[0m\u001b[0;34m)\u001b[0m\u001b[0;34m\u001b[0m\u001b[0;34m\u001b[0m\u001b[0m\n\u001b[0m",
      "\u001b[0;32m<ipython-input-13-9c5d2bc270db>\u001b[0m in \u001b[0;36mnextyear\u001b[0;34m()\u001b[0m\n\u001b[1;32m      2\u001b[0m \u001b[0mx\u001b[0m\u001b[0;34m=\u001b[0m\u001b[0;36m39\u001b[0m\u001b[0;34m\u001b[0m\u001b[0;34m\u001b[0m\u001b[0m\n\u001b[1;32m      3\u001b[0m \u001b[0;32mdef\u001b[0m \u001b[0mnextyear\u001b[0m\u001b[0;34m(\u001b[0m\u001b[0;34m)\u001b[0m\u001b[0;34m:\u001b[0m\u001b[0;34m\u001b[0m\u001b[0;34m\u001b[0m\u001b[0m\n\u001b[0;32m----> 4\u001b[0;31m     \u001b[0my\u001b[0m\u001b[0;34m=\u001b[0m\u001b[0mx\u001b[0m\u001b[0;34m+\u001b[0m\u001b[0;36m1\u001b[0m\u001b[0;34m\u001b[0m\u001b[0;34m\u001b[0m\u001b[0m\n\u001b[0m\u001b[1;32m      5\u001b[0m     \u001b[0mprint\u001b[0m\u001b[0;34m(\u001b[0m\u001b[0mx\u001b[0m\u001b[0;34m,\u001b[0m\u001b[0my\u001b[0m\u001b[0;34m)\u001b[0m\u001b[0;34m\u001b[0m\u001b[0;34m\u001b[0m\u001b[0m\n\u001b[1;32m      6\u001b[0m     \u001b[0mx\u001b[0m\u001b[0;34m=\u001b[0m\u001b[0;36m0\u001b[0m\u001b[0;34m\u001b[0m\u001b[0;34m\u001b[0m\u001b[0m\n",
      "\u001b[0;31mUnboundLocalError\u001b[0m: local variable 'x' referenced before assignment"
     ]
    }
   ],
   "source": [
    "## [code2]\n",
    "x=39\n",
    "def nextyear():\n",
    "    y=x+1\n",
    "    print(x,y)\n",
    "    x=0\n",
    "nextyear()"
   ]
  },
  {
   "cell_type": "markdown",
   "id": "346b02ec-ea93-41a8-a479-e20a6cba3fd6",
   "metadata": {},
   "source": [
    "`–` [code1]은 잘 실행되는 코드다."
   ]
  },
  {
   "cell_type": "markdown",
   "id": "e96b7b85-8b57-4151-b377-cc61fb0aabc0",
   "metadata": {},
   "source": [
    "`-` [code2]는 실행되지 않는 코드다."
   ]
  },
  {
   "cell_type": "markdown",
   "id": "b70994f5-1db7-4e50-8e2e-f9dd2a6db737",
   "metadata": {},
   "source": [
    "`-` [code2]와 [code1]의 차이점은 x=0이라는 코드가 추가로 포함되었는지 유무다. "
   ]
  },
  {
   "cell_type": "markdown",
   "id": "2b51806e-1dcd-489f-8758-e3a200d9263e",
   "metadata": {},
   "source": [
    "`–` (헛소리) x=0 이 잘못된 코드다!! 이걸 실행하는 과정에서 문제가 생겼다!! "
   ]
  },
  {
   "cell_type": "markdown",
   "id": "a6661ec2-0f46-434c-a447-652649f10cad",
   "metadata": {},
   "source": [
    "`-` (올바른소리) code1에서는 x는 global variable, code2에서는 x가 local variable 이라서 생기는 문제점이다. "
   ]
  },
  {
   "cell_type": "code",
   "execution_count": 14,
   "id": "5f23cab2-9d5f-427a-a467-fc072c01102e",
   "metadata": {},
   "outputs": [
    {
     "name": "stdout",
     "output_type": "stream",
     "text": [
      "0 1\n"
     ]
    }
   ],
   "source": [
    "## [code2]\n",
    "x=39\n",
    "def nextyear():\n",
    "    x=0\n",
    "    y=x+1\n",
    "    print(x,y)\n",
    "nextyear()"
   ]
  },
  {
   "cell_type": "code",
   "execution_count": 15,
   "id": "21eb71e6-cb14-4309-b495-848d1835a6ae",
   "metadata": {},
   "outputs": [
    {
     "data": {
      "text/plain": [
       "39"
      ]
     },
     "execution_count": 15,
     "metadata": {},
     "output_type": "execute_result"
    }
   ],
   "source": [
    "x"
   ]
  },
  {
   "cell_type": "markdown",
   "id": "1e5b0530-41c0-43e1-836c-83e352f77d83",
   "metadata": {},
   "source": [
    "`–` 다시 우리의 예제로 돌아오자.\n",
    "```python\n",
    "### 시점1\n",
    "class Testclass1: \n",
    "    x=0\n",
    "### 시점2\n",
    "a=Testclass1()\n",
    "### 시점3\n",
    "Testclass1.x=100\n",
    "### 시점4\n",
    "a.x=200\n",
    "### 시점5\n",
    "Testclass1.x=300\n",
    "```"
   ]
  },
  {
   "cell_type": "markdown",
   "id": "bd0bf29a-ef87-49bf-8727-bafa7ccb15cf",
   "metadata": {},
   "source": [
    "| |시점1 |시점2 |시점3 | 시점4 | 시점5|\n",
    "|:-:|:-:|:-:|:-:|:-:|:-:|\n",
    "|Testclass1.x|0| 0| 100| 100| 300|\n",
    "|a.x| 값없음     | 0| 100| 200| 200|\n",
    "|a.x의 속성| -     | class| class| instance | instance|"
   ]
  },
  {
   "cell_type": "markdown",
   "id": "80c3d7b9-d386-4740-95f6-b2bb7d7992dc",
   "metadata": {},
   "source": [
    "`–` a.x가 클래스로부터 물려받은 속성인지 (그래서 클래스와 연결되어있는지) 아니면 instance가 독자적으로 가지고 있는 속성인지 어떻게 알 수 있을까? "
   ]
  },
  {
   "cell_type": "code",
   "execution_count": 16,
   "id": "0ee5b8f5-3a6a-4533-83ea-09978c5c49e9",
   "metadata": {},
   "outputs": [
    {
     "name": "stdout",
     "output_type": "stream",
     "text": [
      "시점1 0\n",
      "시점2 0 0 {}\n",
      "시점3 100 100 {}\n",
      "시점4 100 200 {'x': 200}\n",
      "시점5 300 200 {'x': 200}\n"
     ]
    }
   ],
   "source": [
    "### 시점1\n",
    "class Testclass1: \n",
    "    x=0\n",
    "print('시점1',Testclass1.x)\n",
    "### 시점2\n",
    "a=Testclass1()\n",
    "print('시점2',Testclass1.x,a.x,a.__dict__)\n",
    "### 시점3\n",
    "Testclass1.x=100\n",
    "print('시점3',Testclass1.x,a.x,a.__dict__)\n",
    "### 시점4\n",
    "a.x=200\n",
    "print('시점4',Testclass1.x,a.x,a.__dict__)\n",
    "### 시점5\n",
    "Testclass1.x=300\n",
    "print('시점5',Testclass1.x,a.x,a.__dict__)"
   ]
  },
  {
   "cell_type": "markdown",
   "id": "1e762f9a-793d-440b-985f-791c468d3be5",
   "metadata": {},
   "source": [
    "------"
   ]
  },
  {
   "cell_type": "markdown",
   "id": "f7f4375e-3ffb-4f8b-96ed-f8c3137f0f5f",
   "metadata": {},
   "source": [
    "### 예제2"
   ]
  },
  {
   "cell_type": "code",
   "execution_count": 18,
   "id": "55c1e34b-18be-4f9e-80c3-4aec55e1566a",
   "metadata": {},
   "outputs": [],
   "source": [
    "x=11 ## 전역변수 ... A\n",
    "\n",
    "def f():\n",
    "    x=22 ## 함수 f안에 설정된 지역변수 \n",
    "    print(x) ## 전역에 x=11 있지만 함수안에 x=22가 있으므로 x=22를 사용. --> 22출력됨 \n",
    "\n",
    "def g():\n",
    "    print(x) ## 함수 g안에 x를 찾아봤는데 없음 --> 전역에서 x를 찾음 --> x=11 --> 11출력함. \n",
    "\n",
    "class Testclass2: \n",
    "    x=33 ## 클래스 변수 ... B\n",
    "    def m1(self):\n",
    "        x=44 ## 메소드 변수 ... C\n",
    "    def m2(self):\n",
    "        self.x=44 ## 인스턴스 변수 ... D "
   ]
  },
  {
   "cell_type": "markdown",
   "id": "d5ec4331-b1c1-4e38-b14a-11232c3f9dfa",
   "metadata": {},
   "source": [
    "`-` 결과를 관찰하고 해석해보자. "
   ]
  },
  {
   "cell_type": "code",
   "execution_count": 19,
   "id": "5f4ce370-1aa6-4545-ad33-b0921afa4a60",
   "metadata": {},
   "outputs": [
    {
     "name": "stdout",
     "output_type": "stream",
     "text": [
      "11\n"
     ]
    }
   ],
   "source": [
    "print(x)"
   ]
  },
  {
   "cell_type": "markdown",
   "id": "3aa19efc-5dd4-4d0f-8c04-76c7a5ec183e",
   "metadata": {},
   "source": [
    "> Note: 전역변수 출력"
   ]
  },
  {
   "cell_type": "code",
   "execution_count": 20,
   "id": "7d5ed9ca-9741-4442-909c-51eded414767",
   "metadata": {},
   "outputs": [
    {
     "name": "stdout",
     "output_type": "stream",
     "text": [
      "22\n"
     ]
    }
   ],
   "source": [
    "f()"
   ]
  },
  {
   "cell_type": "markdown",
   "id": "ba770338-1f09-4bac-8113-1321e6c7bd45",
   "metadata": {},
   "source": [
    "> Note: f에서 설정된 지역변수 22가 출력됨"
   ]
  },
  {
   "cell_type": "code",
   "execution_count": 22,
   "id": "9d7c77ec-e853-46ca-bc1d-c18fc1b4d717",
   "metadata": {},
   "outputs": [
    {
     "data": {
      "text/plain": [
       "11"
      ]
     },
     "execution_count": 22,
     "metadata": {},
     "output_type": "execute_result"
    }
   ],
   "source": [
    "x"
   ]
  },
  {
   "cell_type": "markdown",
   "id": "d09a957a-942c-468a-967d-697597643964",
   "metadata": {},
   "source": [
    "> Note: f내의 지역변수를 사용하여도 전역변수는 변하지 않음. (함수내부에서 선언된 x=22는 함수외부에 영향을 주지못함)"
   ]
  },
  {
   "cell_type": "code",
   "execution_count": 23,
   "id": "1f15d865-143b-482e-a505-2e8cbf439d69",
   "metadata": {},
   "outputs": [
    {
     "name": "stdout",
     "output_type": "stream",
     "text": [
      "11\n"
     ]
    }
   ],
   "source": [
    "g()"
   ]
  },
  {
   "cell_type": "markdown",
   "id": "0fbf26a5-06ce-4691-8bfb-75e929ef4fa9",
   "metadata": {},
   "source": [
    "> Note: g에서 설정된 지역변수가 따로 없으므로 전역변수 출력"
   ]
  },
  {
   "cell_type": "code",
   "execution_count": 24,
   "id": "f8913a57-00c7-46be-bcad-c20238eba3bd",
   "metadata": {},
   "outputs": [
    {
     "data": {
      "text/plain": [
       "(11, 33)"
      ]
     },
     "execution_count": 24,
     "metadata": {},
     "output_type": "execute_result"
    }
   ],
   "source": [
    "x,Testclass2.x"
   ]
  },
  {
   "cell_type": "markdown",
   "id": "afb14822-1205-4f4d-97b7-326ad0d75bd8",
   "metadata": {},
   "source": [
    "> Note: 전역변수 x와 클래스오브젝트에 설정된 변수 x "
   ]
  },
  {
   "cell_type": "code",
   "execution_count": 25,
   "id": "ec5ada63-832b-4ae2-92d4-770365fd2c5b",
   "metadata": {},
   "outputs": [
    {
     "data": {
      "text/plain": [
       "((11, 33, 33), {})"
      ]
     },
     "execution_count": 25,
     "metadata": {},
     "output_type": "execute_result"
    }
   ],
   "source": [
    "a=Testclass2()\n",
    "(x,Testclass2.x,a.x),a.__dict__"
   ]
  },
  {
   "cell_type": "markdown",
   "id": "5d532c11-ef86-439e-a193-cf7d7726ca81",
   "metadata": {},
   "source": [
    "> Note: 전역변수, 클래스 오브젝트내의 변수, 인스턴스내의 변수. `a.__dict__`의 결과로 보아 인스턴스내의 변수는 클래스 오브젝트내의 변수를 빌려쓰고 있다. "
   ]
  },
  {
   "cell_type": "code",
   "execution_count": 26,
   "id": "5cd4272d-0777-4497-a85f-501afa6eca1d",
   "metadata": {},
   "outputs": [
    {
     "data": {
      "text/plain": [
       "((11, 200, 200), {})"
      ]
     },
     "execution_count": 26,
     "metadata": {},
     "output_type": "execute_result"
    }
   ],
   "source": [
    "Testclass2.x=200\n",
    "(x,Testclass2.x,a.x),a.__dict__"
   ]
  },
  {
   "cell_type": "markdown",
   "id": "d1c0a4d7-7cf5-4417-a396-8a2612b90a39",
   "metadata": {},
   "source": [
    "> Note: 클래스오브젝트에서 변수를 고치면 인스턴스에 영향을 미침"
   ]
  },
  {
   "cell_type": "code",
   "execution_count": 27,
   "id": "6998c0ff-8701-4b39-811e-2027a65a34bc",
   "metadata": {},
   "outputs": [
    {
     "data": {
      "text/plain": [
       "((11, 200, 200), {})"
      ]
     },
     "execution_count": 27,
     "metadata": {},
     "output_type": "execute_result"
    }
   ],
   "source": [
    "a.m1()\n",
    "(x,Testclass2.x,a.x),a.__dict__"
   ]
  },
  {
   "cell_type": "markdown",
   "id": "cdff1303-24b1-4891-a263-ec8888417db4",
   "metadata": {},
   "source": [
    "> Note: 메소드 `m1`내에서 선언된 x=44라는 선언은 아무것도 변화시킬수 없음. "
   ]
  },
  {
   "cell_type": "code",
   "execution_count": 28,
   "id": "bce7256b-5310-41ba-bf36-f16c4cf57d5b",
   "metadata": {},
   "outputs": [
    {
     "data": {
      "text/plain": [
       "((11, 200, 44), {'x': 44})"
      ]
     },
     "execution_count": 28,
     "metadata": {},
     "output_type": "execute_result"
    }
   ],
   "source": [
    "a.m2()\n",
    "(x,Testclass2.x,a.x),a.__dict__"
   ]
  },
  {
   "cell_type": "markdown",
   "id": "722fb306-3a2a-4ad9-8f1a-127a7c4e4de1",
   "metadata": {},
   "source": [
    "> Note: 메소드 `m2`에 있는 self.x는 결국 a.x라는 의미이고, 이 선언은 클래스오브젝트 내의 변수와 독립적으로 인스턴스오브젝트 내에서 통용되는 변수를 선언하는 것임. 이 선언의 결과는 `a.__dict__`의 출력결과에서도 확인가능."
   ]
  },
  {
   "cell_type": "code",
   "execution_count": 29,
   "id": "60716db8-74ab-4df6-9693-2664c68c0b96",
   "metadata": {},
   "outputs": [
    {
     "data": {
      "text/plain": [
       "((11, 300, 44), {'x': 44})"
      ]
     },
     "execution_count": 29,
     "metadata": {},
     "output_type": "execute_result"
    }
   ],
   "source": [
    "Testclass2.x=300\n",
    "(x,Testclass2.x,a.x),a.__dict__"
   ]
  },
  {
   "cell_type": "markdown",
   "id": "50106d5b-19b3-462f-9727-e7269678057d",
   "metadata": {},
   "source": [
    "> Note: 이제는 a.x와 Testclass2.x 는 분리된 상태이므로, Testclass2.x의 값을 바꾸어도 a.x에는 값의 변화가 없음. "
   ]
  },
  {
   "cell_type": "markdown",
   "id": "25e47ca9-a3ea-405c-97ff-916118e39e9a",
   "metadata": {},
   "source": [
    "`-` 전역변수 > 클래스변수 > 인스턴스변수 > 메소드변수  \n",
    "내용을 모르고 사용한다면 예상하지 못한 오류가 발생할 수 있으므로 조심해서 사용하자. "
   ]
  },
  {
   "cell_type": "markdown",
   "id": "b65ed300-96ed-4622-a5ae-c3a030e44f52",
   "metadata": {},
   "source": [
    "----"
   ]
  },
  {
   "cell_type": "markdown",
   "id": "7e6c51aa-561b-4ba5-91f4-aeb65e6b13f8",
   "metadata": {},
   "source": [
    "## 연산자 오버로딩 "
   ]
  },
  {
   "cell_type": "markdown",
   "id": "ad378fd9-7cf2-4edf-970e-30f1c7106d16",
   "metadata": {},
   "source": [
    "`-` 아래의 코드를 관찰하자. "
   ]
  },
  {
   "cell_type": "code",
   "execution_count": 30,
   "id": "3ab6ea27-9bbb-4a9e-86b9-4b14c5b857c7",
   "metadata": {},
   "outputs": [
    {
     "data": {
      "text/plain": [
       "2"
      ]
     },
     "execution_count": 30,
     "metadata": {},
     "output_type": "execute_result"
    }
   ],
   "source": [
    "1+1"
   ]
  },
  {
   "cell_type": "markdown",
   "id": "bb969315-2670-486b-86f4-cb71a79bde76",
   "metadata": {},
   "source": [
    "`-` 생각해보니까 `1`은 int class 에서 생성된 인스턴스이다. \n",
    "\n",
    "`-` 코드를 관찰하니 instance와 instance를 `+`라는 연산이 연결하는 형태임. "
   ]
  },
  {
   "cell_type": "code",
   "execution_count": 34,
   "id": "a87bc4f5-fcd5-40cb-85da-3d85eb554c7b",
   "metadata": {},
   "outputs": [],
   "source": [
    "class Student: \n",
    "    def __init__(self,age=20.0,semester=1):\n",
    "        self.age=age\n",
    "        self.semester=semester\n",
    "    def __add__(self,val):\n",
    "        # val==0: 휴학 \n",
    "        # val==1: 등록\n",
    "        if val==0: \n",
    "            self.age=self.age +0.5 \n",
    "        elif val==1: \n",
    "            self.age=self.age+0.5\n",
    "            self.semester=self.semester+1\n",
    "        return self   ### return을 통해 guebin+1도 Student Type이 된다\n",
    "    def __repr__(self):\n",
    "        return '나이: %s \\n학기: %s' % (self.age,self.semester)"
   ]
  },
  {
   "cell_type": "code",
   "execution_count": 35,
   "id": "d2d43b7e-350c-43a1-92f9-0cdf372e4eb7",
   "metadata": {},
   "outputs": [],
   "source": [
    "guebin=Student()"
   ]
  },
  {
   "cell_type": "code",
   "execution_count": 36,
   "id": "ab4d87f1-5bda-4092-bd84-a185d17a7608",
   "metadata": {},
   "outputs": [
    {
     "data": {
      "text/plain": [
       "20.0"
      ]
     },
     "execution_count": 36,
     "metadata": {},
     "output_type": "execute_result"
    }
   ],
   "source": [
    "guebin.age"
   ]
  },
  {
   "cell_type": "code",
   "execution_count": 37,
   "id": "f520f632-555e-427d-ac26-9de374305ed8",
   "metadata": {},
   "outputs": [
    {
     "data": {
      "text/plain": [
       "1"
      ]
     },
     "execution_count": 37,
     "metadata": {},
     "output_type": "execute_result"
    }
   ],
   "source": [
    "guebin.semester"
   ]
  },
  {
   "cell_type": "code",
   "execution_count": 38,
   "id": "2435c471-1630-480c-a975-05cbccd3b7af",
   "metadata": {},
   "outputs": [
    {
     "data": {
      "text/plain": [
       "나이: 20.0 \n",
       "학기: 1"
      ]
     },
     "execution_count": 38,
     "metadata": {},
     "output_type": "execute_result"
    }
   ],
   "source": [
    "guebin"
   ]
  },
  {
   "cell_type": "code",
   "execution_count": 39,
   "id": "a4295f86-d50e-48c9-adfc-df5035f0d175",
   "metadata": {},
   "outputs": [
    {
     "data": {
      "text/plain": [
       "__main__.Student"
      ]
     },
     "execution_count": 39,
     "metadata": {},
     "output_type": "execute_result"
    }
   ],
   "source": [
    "type(guebin)"
   ]
  },
  {
   "cell_type": "code",
   "execution_count": 40,
   "id": "aaa3884b-0c9b-4178-a31f-6012114b0718",
   "metadata": {},
   "outputs": [
    {
     "data": {
      "text/plain": [
       "나이: 20.5 \n",
       "학기: 2"
      ]
     },
     "execution_count": 40,
     "metadata": {},
     "output_type": "execute_result"
    }
   ],
   "source": [
    "guebin+1"
   ]
  },
  {
   "cell_type": "code",
   "execution_count": 41,
   "id": "1848cb38-347c-48e0-b437-d67451d5cd2e",
   "metadata": {},
   "outputs": [
    {
     "data": {
      "text/plain": [
       "__main__.Student"
      ]
     },
     "execution_count": 41,
     "metadata": {},
     "output_type": "execute_result"
    }
   ],
   "source": [
    "type(guebin+1)"
   ]
  },
  {
   "cell_type": "code",
   "execution_count": 42,
   "id": "ebac1ae0-e6a4-4370-9f73-ecabca0ccc8f",
   "metadata": {},
   "outputs": [
    {
     "data": {
      "text/plain": [
       "나이: 21.5 \n",
       "학기: 3"
      ]
     },
     "execution_count": 42,
     "metadata": {},
     "output_type": "execute_result"
    }
   ],
   "source": [
    "guebin+0"
   ]
  },
  {
   "cell_type": "code",
   "execution_count": 43,
   "id": "6e656d91-9d68-445d-9451-38e41dbf9ba7",
   "metadata": {},
   "outputs": [
    {
     "data": {
      "text/plain": [
       "나이: 25.0 \n",
       "학기: 5"
      ]
     },
     "execution_count": 43,
     "metadata": {},
     "output_type": "execute_result"
    }
   ],
   "source": [
    "guebin+0+0+0+0+1+0+1"
   ]
  },
  {
   "cell_type": "markdown",
   "id": "7ba65fb0-8993-4a7a-bdee-06052feeb8aa",
   "metadata": {},
   "source": [
    "`-` 연산자 오버로드 핵심아이디어 \n",
    "- 클래스가 일반 파이썬 연산을 재정의하는 것  \n",
    "- 여기에서 연산은 단순히 더하기 빼기를 의미하는게 아니라, `print()`, `+`, `[0]` 와 같은 파이썬 내장문법을 모두 포괄하는 개념이라 이해하는 것이 옳다. "
   ]
  },
  {
   "cell_type": "code",
   "execution_count": 44,
   "id": "58ab290c-412c-4335-9fba-2dcc3ca65030",
   "metadata": {},
   "outputs": [
    {
     "ename": "TypeError",
     "evalue": "'Student' object is not subscriptable",
     "output_type": "error",
     "traceback": [
      "\u001b[0;31m---------------------------------------------------------------------------\u001b[0m",
      "\u001b[0;31mTypeError\u001b[0m                                 Traceback (most recent call last)",
      "\u001b[0;32m<ipython-input-44-961de20e3474>\u001b[0m in \u001b[0;36m<module>\u001b[0;34m\u001b[0m\n\u001b[0;32m----> 1\u001b[0;31m \u001b[0mguebin\u001b[0m\u001b[0;34m[\u001b[0m\u001b[0;36m0\u001b[0m\u001b[0;34m]\u001b[0m\u001b[0;34m\u001b[0m\u001b[0;34m\u001b[0m\u001b[0m\n\u001b[0m",
      "\u001b[0;31mTypeError\u001b[0m: 'Student' object is not subscriptable"
     ]
    }
   ],
   "source": [
    "guebin[0]"
   ]
  },
  {
   "cell_type": "code",
   "execution_count": 45,
   "id": "9522d4bc-6300-4318-9b73-bc1b9b893c0e",
   "metadata": {},
   "outputs": [],
   "source": [
    "class Student2(Student):\n",
    "    def __getitem__(self,index):\n",
    "        return [self.age,self.semester][index]"
   ]
  },
  {
   "cell_type": "code",
   "execution_count": 46,
   "id": "8b957b31-5e26-4575-911b-26567efff5b0",
   "metadata": {},
   "outputs": [],
   "source": [
    "hynn=Student2()"
   ]
  },
  {
   "cell_type": "code",
   "execution_count": 47,
   "id": "5ebadc1b-7949-4782-9b35-1ab9dabecefe",
   "metadata": {},
   "outputs": [
    {
     "data": {
      "text/plain": [
       "나이: 22.0 \n",
       "학기: 3"
      ]
     },
     "execution_count": 47,
     "metadata": {},
     "output_type": "execute_result"
    }
   ],
   "source": [
    "hynn+1+1+0+0"
   ]
  },
  {
   "cell_type": "code",
   "execution_count": 48,
   "id": "a0c660f7-80b7-480b-a3d7-93f1197d555e",
   "metadata": {},
   "outputs": [
    {
     "data": {
      "text/plain": [
       "22.0"
      ]
     },
     "execution_count": 48,
     "metadata": {},
     "output_type": "execute_result"
    }
   ],
   "source": [
    "hynn[0]"
   ]
  },
  {
   "cell_type": "code",
   "execution_count": 49,
   "id": "f78bdc7b-e407-43be-aef6-a7652a8daae1",
   "metadata": {},
   "outputs": [
    {
     "data": {
      "text/plain": [
       "3"
      ]
     },
     "execution_count": 49,
     "metadata": {},
     "output_type": "execute_result"
    }
   ],
   "source": [
    "hynn[1]"
   ]
  },
  {
   "cell_type": "code",
   "execution_count": 50,
   "id": "26adc94e-4726-40ac-b370-89f8903a9d46",
   "metadata": {},
   "outputs": [
    {
     "data": {
      "text/plain": [
       "[22.0, 3]"
      ]
     },
     "execution_count": 50,
     "metadata": {},
     "output_type": "execute_result"
    }
   ],
   "source": [
    "hynn[:]"
   ]
  },
  {
   "cell_type": "markdown",
   "id": "55e66621-b0b0-477f-8715-9e811ac46c21",
   "metadata": {},
   "source": [
    "`-` 연산자 오버로딩을 이해하면 파이썬 전반에 대한 이해폭이 넓어진다. "
   ]
  },
  {
   "cell_type": "code",
   "execution_count": 51,
   "id": "398af6d3-d6be-4607-b2fe-7b73f865e158",
   "metadata": {},
   "outputs": [],
   "source": [
    "import pandas as pd "
   ]
  },
  {
   "cell_type": "code",
   "execution_count": 52,
   "id": "ef70a253-b165-4809-9a1d-812871320a82",
   "metadata": {},
   "outputs": [],
   "source": [
    "df=pd.DataFrame({'age':[20,21.5],'semester':[1,2]})"
   ]
  },
  {
   "cell_type": "code",
   "execution_count": 53,
   "id": "2575848c-f0f2-4cf3-aaed-f4d57756e89c",
   "metadata": {},
   "outputs": [
    {
     "data": {
      "text/plain": [
       "0    20.0\n",
       "1    21.5\n",
       "Name: age, dtype: float64"
      ]
     },
     "execution_count": 53,
     "metadata": {},
     "output_type": "execute_result"
    }
   ],
   "source": [
    "df.iloc[:,0]"
   ]
  },
  {
   "cell_type": "markdown",
   "id": "b2743814-bba2-4d85-acca-3c3ecc6fb6ca",
   "metadata": {},
   "source": [
    "-------"
   ]
  },
  {
   "cell_type": "markdown",
   "id": "74691799-cae6-4d72-81b1-7d80af0abeea",
   "metadata": {},
   "source": [
    "## 도움말 작성방법 "
   ]
  },
  {
   "cell_type": "markdown",
   "id": "46c71f0d-c82f-42d5-994d-037cb3129af5",
   "metadata": {},
   "source": [
    "`-` 넘파이의 경우 아래와 같이 도움말이 잘 작성되어 있다. "
   ]
  },
  {
   "cell_type": "code",
   "execution_count": 55,
   "id": "696fb112-4c0e-4d47-9717-04581f995c6f",
   "metadata": {},
   "outputs": [
    {
     "data": {
      "text/plain": [
       "\u001b[0;31mType:\u001b[0m            ndarray\n",
       "\u001b[0;31mString form:\u001b[0m     [1 2 3]\n",
       "\u001b[0;31mLength:\u001b[0m          3\n",
       "\u001b[0;31mFile:\u001b[0m            ~/anaconda3/envs/py38r40/lib/python3.8/site-packages/numpy/__init__.py\n",
       "\u001b[0;31mDocstring:\u001b[0m       <no docstring>\n",
       "\u001b[0;31mClass docstring:\u001b[0m\n",
       "ndarray(shape, dtype=float, buffer=None, offset=0,\n",
       "        strides=None, order=None)\n",
       "\n",
       "An array object represents a multidimensional, homogeneous array\n",
       "of fixed-size items.  An associated data-type object describes the\n",
       "format of each element in the array (its byte-order, how many bytes it\n",
       "occupies in memory, whether it is an integer, a floating point number,\n",
       "or something else, etc.)\n",
       "\n",
       "Arrays should be constructed using `array`, `zeros` or `empty` (refer\n",
       "to the See Also section below).  The parameters given here refer to\n",
       "a low-level method (`ndarray(...)`) for instantiating an array.\n",
       "\n",
       "For more information, refer to the `numpy` module and examine the\n",
       "methods and attributes of an array.\n",
       "\n",
       "Parameters\n",
       "----------\n",
       "(for the __new__ method; see Notes below)\n",
       "\n",
       "shape : tuple of ints\n",
       "    Shape of created array.\n",
       "dtype : data-type, optional\n",
       "    Any object that can be interpreted as a numpy data type.\n",
       "buffer : object exposing buffer interface, optional\n",
       "    Used to fill the array with data.\n",
       "offset : int, optional\n",
       "    Offset of array data in buffer.\n",
       "strides : tuple of ints, optional\n",
       "    Strides of data in memory.\n",
       "order : {'C', 'F'}, optional\n",
       "    Row-major (C-style) or column-major (Fortran-style) order.\n",
       "\n",
       "Attributes\n",
       "----------\n",
       "T : ndarray\n",
       "    Transpose of the array.\n",
       "data : buffer\n",
       "    The array's elements, in memory.\n",
       "dtype : dtype object\n",
       "    Describes the format of the elements in the array.\n",
       "flags : dict\n",
       "    Dictionary containing information related to memory use, e.g.,\n",
       "    'C_CONTIGUOUS', 'OWNDATA', 'WRITEABLE', etc.\n",
       "flat : numpy.flatiter object\n",
       "    Flattened version of the array as an iterator.  The iterator\n",
       "    allows assignments, e.g., ``x.flat = 3`` (See `ndarray.flat` for\n",
       "    assignment examples; TODO).\n",
       "imag : ndarray\n",
       "    Imaginary part of the array.\n",
       "real : ndarray\n",
       "    Real part of the array.\n",
       "size : int\n",
       "    Number of elements in the array.\n",
       "itemsize : int\n",
       "    The memory use of each array element in bytes.\n",
       "nbytes : int\n",
       "    The total number of bytes required to store the array data,\n",
       "    i.e., ``itemsize * size``.\n",
       "ndim : int\n",
       "    The array's number of dimensions.\n",
       "shape : tuple of ints\n",
       "    Shape of the array.\n",
       "strides : tuple of ints\n",
       "    The step-size required to move from one element to the next in\n",
       "    memory. For example, a contiguous ``(3, 4)`` array of type\n",
       "    ``int16`` in C-order has strides ``(8, 2)``.  This implies that\n",
       "    to move from element to element in memory requires jumps of 2 bytes.\n",
       "    To move from row-to-row, one needs to jump 8 bytes at a time\n",
       "    (``2 * 4``).\n",
       "ctypes : ctypes object\n",
       "    Class containing properties of the array needed for interaction\n",
       "    with ctypes.\n",
       "base : ndarray\n",
       "    If the array is a view into another array, that array is its `base`\n",
       "    (unless that array is also a view).  The `base` array is where the\n",
       "    array data is actually stored.\n",
       "\n",
       "See Also\n",
       "--------\n",
       "array : Construct an array.\n",
       "zeros : Create an array, each element of which is zero.\n",
       "empty : Create an array, but leave its allocated memory unchanged (i.e.,\n",
       "        it contains \"garbage\").\n",
       "dtype : Create a data-type.\n",
       "\n",
       "Notes\n",
       "-----\n",
       "There are two modes of creating an array using ``__new__``:\n",
       "\n",
       "1. If `buffer` is None, then only `shape`, `dtype`, and `order`\n",
       "   are used.\n",
       "2. If `buffer` is an object exposing the buffer interface, then\n",
       "   all keywords are interpreted.\n",
       "\n",
       "No ``__init__`` method is needed because the array is fully initialized\n",
       "after the ``__new__`` method.\n",
       "\n",
       "Examples\n",
       "--------\n",
       "These examples illustrate the low-level `ndarray` constructor.  Refer\n",
       "to the `See Also` section above for easier ways of constructing an\n",
       "ndarray.\n",
       "\n",
       "First mode, `buffer` is None:\n",
       "\n",
       ">>> np.ndarray(shape=(2,2), dtype=float, order='F')\n",
       "array([[0.0e+000, 0.0e+000], # random\n",
       "       [     nan, 2.5e-323]])\n",
       "\n",
       "Second mode:\n",
       "\n",
       ">>> np.ndarray((2,), buffer=np.array([1,2,3]),\n",
       "...            offset=np.int_().itemsize,\n",
       "...            dtype=int) # offset = 1*itemsize, i.e. skip first element\n",
       "array([2, 3])\n"
      ]
     },
     "metadata": {},
     "output_type": "display_data"
    }
   ],
   "source": [
    "import numpy as np\n",
    "a=np.array([1,2,3])\n",
    "a?"
   ]
  },
  {
   "cell_type": "markdown",
   "id": "4b249540-be62-4a1a-9acc-fc04ebdbcb0a",
   "metadata": {},
   "source": [
    "`-` 하지만 우리는? "
   ]
  },
  {
   "cell_type": "code",
   "execution_count": 56,
   "id": "c22dbf78-1794-41db-aa1a-208c0598ecab",
   "metadata": {},
   "outputs": [
    {
     "data": {
      "text/plain": [
       "\u001b[0;31mType:\u001b[0m        Student2\n",
       "\u001b[0;31mString form:\u001b[0m\n",
       "나이: 22.0 \n",
       "학기: 3\n",
       "\u001b[0;31mDocstring:\u001b[0m   <no docstring>\n"
      ]
     },
     "metadata": {},
     "output_type": "display_data"
    }
   ],
   "source": [
    "hynn?"
   ]
  },
  {
   "cell_type": "markdown",
   "id": "eb86f37b-5066-415f-ab5a-84b6289c72a8",
   "metadata": {},
   "source": [
    "`-` 우리도 도움말을 작성하고 싶다. "
   ]
  },
  {
   "cell_type": "code",
   "execution_count": 57,
   "id": "e6cd5512-624e-4bd8-bee5-6010dbff35a4",
   "metadata": {},
   "outputs": [],
   "source": [
    "class Student2(Student):\n",
    "    '''\n",
    "    Student2는 Student의 개선 \n",
    "    \n",
    "    # Student 클래스의 기능 \n",
    "    1. 출력기능 (__repr__)\n",
    "    2. 연산기능 (__add__): 학기와 나이를 카운트 \n",
    "    Examples\n",
    "    --------\n",
    "    >>> hynn=Student2()\n",
    "    >>> hynn+1\n",
    "    나이: 20.5 \n",
    "    학기: 2\n",
    "    \n",
    "    # Student2에서 추가된 기능 \n",
    "    1. 인덱싱\n",
    "    '''\n",
    "    def __getitem__(self,index):\n",
    "        return [self.age,self.semester][index]"
   ]
  },
  {
   "cell_type": "code",
   "execution_count": 58,
   "id": "f4bdc899-ec90-48f7-9325-e8623173a25e",
   "metadata": {},
   "outputs": [],
   "source": [
    "hynn=Student2()"
   ]
  },
  {
   "cell_type": "code",
   "execution_count": 59,
   "id": "848badcd-dd63-4c7d-80e8-05b57ae4831e",
   "metadata": {},
   "outputs": [
    {
     "data": {
      "text/plain": [
       "\u001b[0;31mType:\u001b[0m        Student2\n",
       "\u001b[0;31mString form:\u001b[0m\n",
       "나이: 20.0 \n",
       "학기: 1\n",
       "\u001b[0;31mDocstring:\u001b[0m  \n",
       "Student2는 Student의 개선 \n",
       "\n",
       "# Student 클래스의 기능 \n",
       "1. 출력기능 (__repr__)\n",
       "2. 연산기능 (__add__): 학기와 나이를 카운트 \n",
       "Examples\n",
       "--------\n",
       ">>> hynn=Student2()\n",
       ">>> hynn+1\n",
       "나이: 20.5 \n",
       "학기: 2\n",
       "\n",
       "# Student2에서 추가된 기능 \n",
       "1. 인덱싱\n"
      ]
     },
     "metadata": {},
     "output_type": "display_data"
    }
   ],
   "source": [
    "hynn?"
   ]
  },
  {
   "cell_type": "code",
   "execution_count": 60,
   "id": "11e8c505-4385-4043-ae9d-fd094730ec4d",
   "metadata": {},
   "outputs": [],
   "source": [
    "hynn=Student2(21,1)"
   ]
  },
  {
   "cell_type": "code",
   "execution_count": 61,
   "id": "a74e1021-6b6c-41e0-a70d-2d45b8d58729",
   "metadata": {},
   "outputs": [
    {
     "data": {
      "text/plain": [
       "나이: 21 \n",
       "학기: 1"
      ]
     },
     "execution_count": 61,
     "metadata": {},
     "output_type": "execute_result"
    }
   ],
   "source": [
    "hynn"
   ]
  },
  {
   "cell_type": "code",
   "execution_count": 62,
   "id": "11a8de6a-1a54-4265-b45b-525afe4fe832",
   "metadata": {},
   "outputs": [
    {
     "data": {
      "text/plain": [
       "\u001b[0;31mType:\u001b[0m        Student2\n",
       "\u001b[0;31mString form:\u001b[0m\n",
       "나이: 21 \n",
       "학기: 1\n",
       "\u001b[0;31mDocstring:\u001b[0m  \n",
       "Student2는 Student의 개선 \n",
       "\n",
       "# Student 클래스의 기능 \n",
       "1. 출력기능 (__repr__)\n",
       "2. 연산기능 (__add__): 학기와 나이를 카운트 \n",
       "Examples\n",
       "--------\n",
       ">>> hynn=Student2()\n",
       ">>> hynn+1\n",
       "나이: 20.5 \n",
       "학기: 2\n",
       "\n",
       "# Student2에서 추가된 기능 \n",
       "1. 인덱싱\n"
      ]
     },
     "metadata": {},
     "output_type": "display_data"
    }
   ],
   "source": [
    "hynn?"
   ]
  },
  {
   "cell_type": "markdown",
   "id": "6e625e6f-ccb6-463e-9927-5d199f1bc486",
   "metadata": {},
   "source": [
    "---------"
   ]
  },
  {
   "cell_type": "markdown",
   "id": "f7f02392-6716-4af2-bd81-0a82d600374a",
   "metadata": {},
   "source": [
    "## self에 대한 진실"
   ]
  },
  {
   "cell_type": "markdown",
   "id": "a94ec521-fef4-43c0-8ae7-150245eaf7a9",
   "metadata": {},
   "source": [
    "`–` 사실 이름이 self가 아니어도 된다. "
   ]
  },
  {
   "cell_type": "code",
   "execution_count": null,
   "id": "6258f1c5-ba68-4076-97ad-d71023c56805",
   "metadata": {},
   "outputs": [],
   "source": [
    "class MooYaHo: \n",
    "    def __init__(a):\n",
    "        a.text='mooyaho'"
   ]
  },
  {
   "cell_type": "code",
   "execution_count": null,
   "id": "de86dcba-7102-4965-9e78-1066beb53643",
   "metadata": {},
   "outputs": [],
   "source": [
    "moo1=MooYaHo()"
   ]
  },
  {
   "cell_type": "code",
   "execution_count": null,
   "id": "25191094-cb80-4b29-a041-f76a5f348d2f",
   "metadata": {},
   "outputs": [],
   "source": [
    "moo1.text"
   ]
  },
  {
   "cell_type": "markdown",
   "id": "f986e69f-0ac1-41d6-9d65-11e0171e5fd1",
   "metadata": {},
   "source": [
    "`–` 일반적으로 사람들이 self를 많이 쓴다.  \n",
    "a는 간단하게 정의할 때 많이 쓰이기 때문에 향후에 헛갈릴 수도 있다. "
   ]
  }
 ],
 "metadata": {
  "kernelspec": {
   "display_name": "Python 3 (ipykernel)",
   "language": "python",
   "name": "python3"
  },
  "language_info": {
   "codemirror_mode": {
    "name": "ipython",
    "version": 3
   },
   "file_extension": ".py",
   "mimetype": "text/x-python",
   "name": "python",
   "nbconvert_exporter": "python",
   "pygments_lexer": "ipython3",
   "version": "3.8.11"
  }
 },
 "nbformat": 4,
 "nbformat_minor": 5
}
