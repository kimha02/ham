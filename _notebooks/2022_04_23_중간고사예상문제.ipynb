{
 "cells": [
  {
   "cell_type": "markdown",
   "id": "de95d384-976e-48f3-8c2e-9d9d2fb777cc",
   "metadata": {
    "id": "de95d384-976e-48f3-8c2e-9d9d2fb777cc",
    "tags": []
   },
   "source": [
    "# 중간고사 예상문제 "
   ]
  },
  {
   "cell_type": "code",
   "execution_count": 1,
   "id": "5969fb87-91ed-4581-bc76-8bcff884177e",
   "metadata": {
    "id": "5969fb87-91ed-4581-bc76-8bcff884177e"
   },
   "outputs": [],
   "source": [
    "import numpy as np\n",
    "import tensorflow as tf \n",
    "import tensorflow.experimental.numpy as tnp "
   ]
  },
  {
   "cell_type": "code",
   "execution_count": 2,
   "id": "e4b30081-296e-4a62-8944-09b93dc4f7c3",
   "metadata": {},
   "outputs": [],
   "source": [
    "import math"
   ]
  },
  {
   "cell_type": "code",
   "execution_count": 3,
   "id": "42b1dfe1-30a6-40a1-9ecb-bb448c529b0c",
   "metadata": {
    "id": "42b1dfe1-30a6-40a1-9ecb-bb448c529b0c"
   },
   "outputs": [],
   "source": [
    "import matplotlib.pyplot as plt "
   ]
  },
  {
   "cell_type": "code",
   "execution_count": 4,
   "id": "47c05025-e6b9-4925-bd40-a89cf5eab53e",
   "metadata": {
    "id": "2b368af7-2aac-4028-97e2-a83e7196c7dd"
   },
   "outputs": [],
   "source": [
    "tnp.experimental_enable_numpy_behavior() "
   ]
  },
  {
   "cell_type": "markdown",
   "id": "9ec7a960-880b-4e27-8527-3c55b899141d",
   "metadata": {
    "id": "9ec7a960-880b-4e27-8527-3c55b899141d"
   },
   "source": [
    "## `1`. 경사하강법과 tf.GradientTape()의 사용방법 (30점)"
   ]
  },
  {
   "cell_type": "markdown",
   "id": "ba1efbdf-a7a7-4fe9-bde5-1e3926c02e52",
   "metadata": {
    "id": "ba1efbdf-a7a7-4fe9-bde5-1e3926c02e52"
   },
   "source": [
    "`(1)` 아래는 $X_i \\overset{iid}{\\sim} N(3,2^2)$ 를 생성하는 코드이다. (10점)"
   ]
  },
  {
   "cell_type": "code",
   "execution_count": 55,
   "id": "9cf5a708-4524-44b8-8fc1-0ce5449ad0a4",
   "metadata": {
    "id": "9cf5a708-4524-44b8-8fc1-0ce5449ad0a4",
    "outputId": "a3d4d4b0-30a1-4495-e65e-b2fb03c548d2"
   },
   "outputs": [
    {
     "data": {
      "text/plain": [
       "<tf.Tensor: shape=(10000,), dtype=float64, numpy=\n",
       "array([ 4.12539849,  5.46696729,  5.27243374, ...,  2.89712332,\n",
       "        5.01072291, -1.13050477])>"
      ]
     },
     "execution_count": 55,
     "metadata": {},
     "output_type": "execute_result"
    }
   ],
   "source": [
    "tf.random.set_seed(43052)\n",
    "x= tnp.random.randn(10000)*2+3\n",
    "x"
   ]
  },
  {
   "cell_type": "markdown",
   "id": "76605c29-cfd0-41f5-9ae1-7888c72c3196",
   "metadata": {
    "id": "76605c29-cfd0-41f5-9ae1-7888c72c3196"
   },
   "source": [
    "함수 $L(\\mu,\\sigma)$을 최대화하는 $(\\mu,\\sigma)$를 `tf.GradeintTape()`를 활용하여 추정하라. (경사하강법 혹은 경사상승법을 사용하고 $\\mu$의 초기값은 2로 $\\sigma$의 초기값은 3으로 설정할 것) \n",
    "\n",
    "$$L(\\mu,\\sigma)=\\prod_{i=1}^{n}f(x_i), \\quad f(x_i)=\\frac{1}{\\sqrt{2\\pi}\\sigma}e^{-\\frac{1}{2}(\\frac{x_i-\\mu}{\\sigma})^2}$$\n",
    "\n",
    "**hint**: $L(\\mu,\\sigma)$를 최대화하는 $(\\mu,\\sigma)$는 $\\log L(\\mu,\\sigma)$를 역시 최대화한다는 사실을 이용할 것. "
   ]
  },
  {
   "cell_type": "markdown",
   "id": "306b4d87-6e43-4c42-a64e-7b09c8ba4eda",
   "metadata": {
    "id": "306b4d87-6e43-4c42-a64e-7b09c8ba4eda"
   },
   "source": [
    "**hint:** $\\mu$의 참값은 3, $\\sigma$의 참값은 2이다. (따라서 $\\mu$와 $\\sigma$는 각각 2와 3근처로 추정되어야 한다.) "
   ]
  },
  {
   "cell_type": "markdown",
   "id": "a5a10cc9-f113-46fc-84b7-37c263843000",
   "metadata": {
    "id": "812c984e-92c1-4a7a-86b1-6b8f850699d6"
   },
   "source": [
    "#### 1.풀이"
   ]
  },
  {
   "cell_type": "code",
   "execution_count": 56,
   "id": "52ae491b-33a3-4750-ade7-fa200b5f514a",
   "metadata": {},
   "outputs": [],
   "source": [
    "N=10000"
   ]
  },
  {
   "cell_type": "markdown",
   "id": "967e5566-ae9b-425a-b5df-5643eab319cf",
   "metadata": {},
   "source": [
    "$\\log L = \\log \\prod_{i=1}^{n}f(x_i) $\n",
    "\n",
    "$= \\sum^{10000}_{i=1} \\big \\{ -\\frac{1}{2} \\log(2\\pi \\sigma^2) - \\frac{(x_i - \\mu)^2}{2\\sigma^2} \\big \\}$\n",
    "\n",
    "$= \\frac{10000}{2}\\log (2\\pi \\sigma^2) - \\frac{1}{2\\sigma^2} \\sum^{10000}_{i=1} (x_i - \\mu)^2$"
   ]
  },
  {
   "cell_type": "code",
   "execution_count": 57,
   "id": "5cd01a99-7417-40c6-afa3-9dce9a4b6b41",
   "metadata": {},
   "outputs": [],
   "source": [
    "y_true=(x-3)**2/2**2"
   ]
  },
  {
   "cell_type": "code",
   "execution_count": 58,
   "id": "0cfa0995-bc69-4805-84bd-18d1257226f7",
   "metadata": {},
   "outputs": [],
   "source": [
    "epsilon = tnp.random.randn(N)*0.5\n",
    "y=(x-3)**2/2**2+epsilon"
   ]
  },
  {
   "cell_type": "code",
   "execution_count": 59,
   "id": "07fd5ebd-72d5-4c21-b026-082afc3bf0d4",
   "metadata": {},
   "outputs": [
    {
     "data": {
      "text/plain": [
       "(TensorShape([10000]), TensorShape([10000]))"
      ]
     },
     "execution_count": 59,
     "metadata": {},
     "output_type": "execute_result"
    }
   ],
   "source": [
    "x.shape, y.shape"
   ]
  },
  {
   "cell_type": "code",
   "execution_count": 60,
   "id": "68645e0b-5afd-4dcb-934c-84084d5ab7e9",
   "metadata": {},
   "outputs": [],
   "source": [
    "mu_hat = tf.Variable(2.0)\n",
    "sigma_hat = tf.Variable(3.0)"
   ]
  },
  {
   "cell_type": "code",
   "execution_count": 61,
   "id": "8b7cae01-5ccf-46b0-a81b-2681097dbfb6",
   "metadata": {},
   "outputs": [],
   "source": [
    "alpha=0.1"
   ]
  },
  {
   "cell_type": "code",
   "execution_count": 62,
   "id": "f7d9653c-4563-49b0-be00-fb77f78c4fd3",
   "metadata": {},
   "outputs": [],
   "source": [
    "for epoc in range(1000):   \n",
    "    with tf.GradientTape() as tape: \n",
    "        yhat = (x-mu_hat)**2/(sigma_hat**2)\n",
    "        loss = tf.reduce_sum((y-yhat)**2)/N \n",
    "    slope0,slope1 = tape.gradient(loss,[mu_hat,sigma_hat]) \n",
    "    mu_hat.assign_sub(slope0 * alpha) \n",
    "    sigma_hat.assign_sub(slope1 * alpha) "
   ]
  },
  {
   "cell_type": "code",
   "execution_count": 63,
   "id": "7e1d3f3d-fadf-4f02-9fc8-ed7dd4242ac3",
   "metadata": {},
   "outputs": [
    {
     "data": {
      "text/plain": [
       "(<tf.Variable 'Variable:0' shape=() dtype=float32, numpy=3.004977>,\n",
       " <tf.Variable 'Variable:0' shape=() dtype=float32, numpy=2.0002522>)"
      ]
     },
     "execution_count": 63,
     "metadata": {},
     "output_type": "execute_result"
    }
   ],
   "source": [
    "mu_hat, sigma_hat"
   ]
  },
  {
   "cell_type": "code",
   "execution_count": 64,
   "id": "d921fa33-7685-40a9-bc19-932383f5657d",
   "metadata": {},
   "outputs": [],
   "source": [
    "yhat=(x-mu_hat)**2/(sigma_hat**2)"
   ]
  },
  {
   "cell_type": "code",
   "execution_count": 65,
   "id": "de05f3ec-e50c-4aac-b4b9-8a8c36fdc082",
   "metadata": {
    "id": "af3a1e90-9370-4705-9be7-f321f7c2f856",
    "outputId": "8fa70cf1-56d8-4f1f-909b-bb54a7c9e0c6"
   },
   "outputs": [
    {
     "data": {
      "text/plain": [
       "[<matplotlib.lines.Line2D at 0x7f1744fe72b0>]"
      ]
     },
     "execution_count": 65,
     "metadata": {},
     "output_type": "execute_result"
    },
    {
     "data": {
      "image/png": "[encoded data removed]",
      "text/plain": [
       "<Figure size 432x288 with 1 Axes>"
      ]
     },
     "metadata": {
      "needs_background": "light"
     },
     "output_type": "display_data"
    }
   ],
   "source": [
    "plt.plot(x,y,'.')\n",
    "plt.plot(x,yhat,'r.')"
   ]
  },
  {
   "cell_type": "markdown",
   "id": "a442ee36-3e02-4894-8205-b06dbec79d81",
   "metadata": {
    "id": "a442ee36-3e02-4894-8205-b06dbec79d81"
   },
   "source": [
    "## `2`. 회귀분석의 이론적해와 tf.keras.optimizer 이용방법 (20점)"
   ]
  },
  {
   "cell_type": "markdown",
   "id": "bf3556b3-4e5e-4351-9ebe-b61a565e8998",
   "metadata": {
    "id": "bf3556b3-4e5e-4351-9ebe-b61a565e8998"
   },
   "source": [
    "아래와 같은 선형모형을 고려하자. \n",
    "\n",
    "$$y_i = \\beta_0 + \\beta_1 x_i +\\epsilon_i.$$\n",
    "\n",
    "이때 오차항은 정규분포로 가정한다. 즉 $\\epsilon_i \\overset{iid}{\\sim} N(0,\\sigma^2)$라고 가정한다. \n",
    "\n",
    "관측데이터가 아래와 같을때 아래의 물음에 답하라. "
   ]
  },
  {
   "cell_type": "code",
   "execution_count": 28,
   "id": "45cf9cd7-5fb4-46df-97a2-8f897e0274c4",
   "metadata": {
    "id": "45cf9cd7-5fb4-46df-97a2-8f897e0274c4"
   },
   "outputs": [],
   "source": [
    "x= tnp.array([20.1, 22.2, 22.7, 23.3, 24.4, 25.1, 26.2, 27.3, 28.4, 30.4])\n",
    "y= tnp.array([55.4183651 , 58.19427589, 61.23082496, 62.31255873, 63.1070028 , \n",
    "              63.69569103, 67.24704918, 71.43650092, 73.10130336, 77.84988286])\n",
    "# X= tnp.array([[1.0, 20.1], [1.0, 22.2], [1.0, 22.7], [1.0, 23.3], [1.0, 24.4],\n",
    "#               [1.0, 25.1], [1.0, 26.2], [1.0, 27.3], [1.0, 28.4], [1.0, 30.4]])"
   ]
  },
  {
   "cell_type": "markdown",
   "id": "4b577089-ed00-4e28-bf8f-524161c7e164",
   "metadata": {
    "id": "4b577089-ed00-4e28-bf8f-524161c7e164"
   },
   "source": [
    "`(1)` MSE loss를 최소화 하는 $\\beta_0,\\beta_1$의 해석해를 구하라. "
   ]
  },
  {
   "cell_type": "markdown",
   "id": "bbfda061-d98c-466f-93b4-1394434d7f6e",
   "metadata": {
    "id": "0e3bc322-477e-4b86-b8f4-57c5b522f3ab",
    "tags": []
   },
   "source": [
    "#### 2.1 풀이 (ref.)"
   ]
  },
  {
   "cell_type": "code",
   "execution_count": 29,
   "id": "5def1d13-7e79-4c18-8e16-bbf9f679cea9",
   "metadata": {},
   "outputs": [],
   "source": [
    "y = y.reshape(N,1)\n",
    "X = tf.stack([tf.ones(N,dtype='float64'),x],axis=1)"
   ]
  },
  {
   "cell_type": "code",
   "execution_count": 30,
   "id": "61daba70-006c-4327-a01d-2cdf3d292646",
   "metadata": {},
   "outputs": [
    {
     "data": {
      "text/plain": [
       "(TensorShape([10, 1]), TensorShape([10, 2]))"
      ]
     },
     "execution_count": 30,
     "metadata": {},
     "output_type": "execute_result"
    }
   ],
   "source": [
    "y.shape, X.shape"
   ]
  },
  {
   "cell_type": "code",
   "execution_count": 31,
   "id": "b4c0b61a-17ca-4eb8-9b08-8cffb7c66ea6",
   "metadata": {},
   "outputs": [
    {
     "data": {
      "text/plain": [
       "<tf.Tensor: shape=(2, 1), dtype=float64, numpy=\n",
       "array([[9.94457323],\n",
       "       [2.21570461]])>"
      ]
     },
     "execution_count": 31,
     "metadata": {},
     "output_type": "execute_result"
    }
   ],
   "source": [
    "tf.linalg.inv(X.T @ X) @ X.T @ y"
   ]
  },
  {
   "cell_type": "code",
   "execution_count": 32,
   "id": "3ddd8841-36f7-46a1-9505-47342ee36530",
   "metadata": {},
   "outputs": [],
   "source": [
    "y_hat=9.94457323+2.21570461*x"
   ]
  },
  {
   "cell_type": "code",
   "execution_count": 33,
   "id": "ef304f57-4861-4a34-aff3-7be8aaafdb37",
   "metadata": {
    "id": "af3a1e90-9370-4705-9be7-f321f7c2f856",
    "outputId": "8fa70cf1-56d8-4f1f-909b-bb54a7c9e0c6"
   },
   "outputs": [
    {
     "data": {
      "text/plain": [
       "[<matplotlib.lines.Line2D at 0x7fdfac15eb00>]"
      ]
     },
     "execution_count": 33,
     "metadata": {},
     "output_type": "execute_result"
    },
    {
     "data": {
      "image/png": "[encoded data removed]",
      "text/plain": [
       "<Figure size 432x288 with 1 Axes>"
      ]
     },
     "metadata": {
      "needs_background": "light"
     },
     "output_type": "display_data"
    }
   ],
   "source": [
    "plt.plot(x,y,'.')\n",
    "plt.plot(x,y_hat,'r--')"
   ]
  },
  {
   "cell_type": "markdown",
   "id": "33474142-8d95-4544-8d31-7817a4d531fc",
   "metadata": {
    "id": "33474142-8d95-4544-8d31-7817a4d531fc"
   },
   "source": [
    "`(2)` 경사하강법과 MSE loss의 도함수를 이용하여 $\\beta_0,\\beta_1$을 추정하라. \n",
    "\n",
    "**주의** tf.GradeintTape()를 이용하지 말고 MSE loss의 해석적 도함수를 사용할 것."
   ]
  },
  {
   "cell_type": "markdown",
   "id": "37b44f1c-4124-47a1-96b5-d7df9c263b16",
   "metadata": {
    "id": "0e3bc322-477e-4b86-b8f4-57c5b522f3ab",
    "tags": []
   },
   "source": [
    "#### 2.2 풀이 (ref.5주차 풀이3: 벡터버전, 손실함수의 도함수이용)"
   ]
  },
  {
   "cell_type": "markdown",
   "id": "ca62b1fb-f0c8-4c85-9efe-36014220b9b1",
   "metadata": {
    "id": "c1755913-52f4-472d-bacf-bd282759e69e"
   },
   "source": [
    "`-` 포인트\n",
    "- $loss'(\\beta)=-2X'y +2X'X\\beta$\n",
    "- $\\beta_{new} = \\beta_{old} - \\alpha \\times loss'(\\beta_{old})$"
   ]
  },
  {
   "cell_type": "code",
   "execution_count": 155,
   "id": "5e985429-166a-4cb4-9dd8-5d082286cf29",
   "metadata": {},
   "outputs": [],
   "source": [
    "N=10"
   ]
  },
  {
   "cell_type": "code",
   "execution_count": 156,
   "id": "d5a66eea-e4cc-4d40-9713-d677fddadceb",
   "metadata": {},
   "outputs": [],
   "source": [
    "X = tf.stack([tf.ones(N,dtype='float64'),x],axis=1)"
   ]
  },
  {
   "cell_type": "code",
   "execution_count": 157,
   "id": "f8663e48-6f0c-41fd-b5cc-150dd67671b7",
   "metadata": {},
   "outputs": [],
   "source": [
    "y=y.reshape(N,1)"
   ]
  },
  {
   "cell_type": "code",
   "execution_count": 158,
   "id": "36d78d43-032d-49d6-9242-9a65ce10eda1",
   "metadata": {},
   "outputs": [
    {
     "data": {
      "text/plain": [
       "(TensorShape([10, 2]), TensorShape([10, 1]))"
      ]
     },
     "execution_count": 158,
     "metadata": {},
     "output_type": "execute_result"
    }
   ],
   "source": [
    "X.shape, y.shape"
   ]
  },
  {
   "cell_type": "code",
   "execution_count": 159,
   "id": "8ec0fc1c-d689-4161-b7a2-cdb57728f1fc",
   "metadata": {},
   "outputs": [
    {
     "data": {
      "text/plain": [
       "<tf.Tensor: shape=(2, 1), dtype=int64, numpy=\n",
       "array([[9],\n",
       "       [2]])>"
      ]
     },
     "execution_count": 159,
     "metadata": {},
     "output_type": "execute_result"
    }
   ],
   "source": [
    "beta_hat = tnp.array([9,2]).reshape(2,1)  #b0,b1순\n",
    "beta_hat"
   ]
  },
  {
   "cell_type": "code",
   "execution_count": 160,
   "id": "ab1c4b2e-77b6-404d-bfd1-62892238b12b",
   "metadata": {},
   "outputs": [],
   "source": [
    "alpha = 0.001"
   ]
  },
  {
   "cell_type": "code",
   "execution_count": 161,
   "id": "5a055af0-c9e1-4267-9315-b00de74a1eb2",
   "metadata": {},
   "outputs": [
    {
     "data": {
      "text/plain": [
       "<tf.Tensor: shape=(2, 1), dtype=float64, numpy=\n",
       "array([[-5.20060649e-05],\n",
       "       [ 2.05065553e-06]])>"
      ]
     },
     "execution_count": 161,
     "metadata": {},
     "output_type": "execute_result"
    }
   ],
   "source": [
    "step = slope*alpha\n",
    "step"
   ]
  },
  {
   "cell_type": "code",
   "execution_count": 162,
   "id": "1c6abb39-9d4e-432f-801d-eb87f4358da6",
   "metadata": {},
   "outputs": [],
   "source": [
    "for epoc in range(1000):\n",
    "    slope = (-2*X.T @ y + 2*X.T@ X @ beta_hat)/N\n",
    "    beta_hat = beta_hat - alpha * slope"
   ]
  },
  {
   "cell_type": "code",
   "execution_count": 163,
   "id": "cca0ed3b-3a14-48c2-87ad-b2afc1f6ce71",
   "metadata": {},
   "outputs": [
    {
     "data": {
      "text/plain": [
       "<tf.Tensor: shape=(2, 1), dtype=float64, numpy=\n",
       "array([[9.03545357],\n",
       "       [2.25155218]])>"
      ]
     },
     "execution_count": 163,
     "metadata": {},
     "output_type": "execute_result"
    }
   ],
   "source": [
    "beta_hat"
   ]
  },
  {
   "cell_type": "code",
   "execution_count": 166,
   "id": "6e10510b-547a-4371-8833-0f293f6b8bb6",
   "metadata": {},
   "outputs": [],
   "source": [
    "y_hat=9.03545357+2.25155218*x"
   ]
  },
  {
   "cell_type": "code",
   "execution_count": 167,
   "id": "0d88e63c-5b61-4b6e-903d-06efa94752a6",
   "metadata": {
    "id": "af3a1e90-9370-4705-9be7-f321f7c2f856",
    "outputId": "8fa70cf1-56d8-4f1f-909b-bb54a7c9e0c6"
   },
   "outputs": [
    {
     "data": {
      "text/plain": [
       "[<matplotlib.lines.Line2D at 0x7fdf4a38fcd0>]"
      ]
     },
     "execution_count": 167,
     "metadata": {},
     "output_type": "execute_result"
    },
    {
     "data": {
      "image/png": "[encoded data removed]",
      "text/plain": [
       "<Figure size 432x288 with 1 Axes>"
      ]
     },
     "metadata": {
      "needs_background": "light"
     },
     "output_type": "display_data"
    }
   ],
   "source": [
    "plt.plot(x,y,'.')\n",
    "plt.plot(x,y_hat,'r--')"
   ]
  },
  {
   "cell_type": "markdown",
   "id": "ba0c4ce3-f3bd-4087-b6c4-45f71aa01c6a",
   "metadata": {
    "id": "ba0c4ce3-f3bd-4087-b6c4-45f71aa01c6a"
   },
   "source": [
    "`(3)` `tf.keras.optimizers`의 `apply_gradients()`를 이용하여 $\\beta_0,\\beta_1$을 추정하라. "
   ]
  },
  {
   "cell_type": "markdown",
   "id": "deb7f4a5-f49a-489b-a866-41a11caa90f0",
   "metadata": {
    "id": "0e3bc322-477e-4b86-b8f4-57c5b522f3ab",
    "tags": []
   },
   "source": [
    "#### 2.3 풀이 (ref.5주차 풀이 GradientTape + opt.apply_gradients)"
   ]
  },
  {
   "cell_type": "markdown",
   "id": "99825ad0-a61c-4b78-8525-ff942e51b77d",
   "metadata": {
    "id": "ad963999-5fe2-429f-914a-b70bd3ad9235"
   },
   "source": [
    "`-` 포인트 \n",
    "```python\n",
    "## 포인트코드: 업데이트\n",
    "opt.apply_gradients([(slope,beta_hat)])  ## pair의 list가 입력 \n",
    "```"
   ]
  },
  {
   "cell_type": "code",
   "execution_count": 190,
   "id": "16737ebe-867e-4a53-86f0-5d9cce56d58e",
   "metadata": {},
   "outputs": [
    {
     "data": {
      "text/plain": [
       "(TensorShape([10, 2]), TensorShape([10, 1]))"
      ]
     },
     "execution_count": 190,
     "metadata": {},
     "output_type": "execute_result"
    }
   ],
   "source": [
    "X.shape,y.shape"
   ]
  },
  {
   "cell_type": "code",
   "execution_count": 191,
   "id": "d9ba3c8e-e5f9-4368-a9c6-c724ecc8ce91",
   "metadata": {},
   "outputs": [
    {
     "data": {
      "text/plain": [
       "<tf.Variable 'Variable:0' shape=(2, 1) dtype=float64, numpy=\n",
       "array([[9.],\n",
       "       [2.]])>"
      ]
     },
     "execution_count": 191,
     "metadata": {},
     "output_type": "execute_result"
    }
   ],
   "source": [
    "beta_hat = tf.Variable(tnp.array([9,2],dtype='float64').reshape(2,1))\n",
    "beta_hat"
   ]
  },
  {
   "cell_type": "code",
   "execution_count": 192,
   "id": "9a34d24c-c764-466e-9d35-46d4208e3ba5",
   "metadata": {},
   "outputs": [],
   "source": [
    "alpha=0.001"
   ]
  },
  {
   "cell_type": "code",
   "execution_count": 193,
   "id": "b6b04cb2-8211-4f91-bbdb-d4eca4d12a40",
   "metadata": {},
   "outputs": [],
   "source": [
    "opt = tf.keras.optimizers.SGD(alpha)"
   ]
  },
  {
   "cell_type": "code",
   "execution_count": 194,
   "id": "a91272c2-560f-406a-a637-56cd12f73f8c",
   "metadata": {},
   "outputs": [],
   "source": [
    "for epoc in range(1000): \n",
    "    with tf.GradientTape() as tape: \n",
    "        yhat = X@beta_hat\n",
    "        loss = (y-yhat).T @ (y-yhat) / N \n",
    "    slope = tape.gradient(loss,beta_hat)  \n",
    "    opt.apply_gradients( [(slope,beta_hat)] )"
   ]
  },
  {
   "cell_type": "code",
   "execution_count": 195,
   "id": "f284095d-5346-421d-af3b-47b32ae1771d",
   "metadata": {},
   "outputs": [
    {
     "data": {
      "text/plain": [
       "<tf.Variable 'Variable:0' shape=(2, 1) dtype=float64, numpy=\n",
       "array([[9.03545358],\n",
       "       [2.25155218]])>"
      ]
     },
     "execution_count": 195,
     "metadata": {},
     "output_type": "execute_result"
    }
   ],
   "source": [
    "beta_hat"
   ]
  },
  {
   "cell_type": "code",
   "execution_count": 196,
   "id": "9fe3e44c-ee88-4744-9e7b-1c29d50d7c5b",
   "metadata": {},
   "outputs": [],
   "source": [
    "y_hat=9.03545358+2.25155218*x"
   ]
  },
  {
   "cell_type": "code",
   "execution_count": 197,
   "id": "977966f4-06de-42b0-8351-95d006b8f33c",
   "metadata": {
    "id": "af3a1e90-9370-4705-9be7-f321f7c2f856",
    "outputId": "8fa70cf1-56d8-4f1f-909b-bb54a7c9e0c6"
   },
   "outputs": [
    {
     "data": {
      "text/plain": [
       "[<matplotlib.lines.Line2D at 0x7fdf05f00400>]"
      ]
     },
     "execution_count": 197,
     "metadata": {},
     "output_type": "execute_result"
    },
    {
     "data": {
      "image/png": "[encoded data removed]",
      "text/plain": [
       "<Figure size 432x288 with 1 Axes>"
      ]
     },
     "metadata": {
      "needs_background": "light"
     },
     "output_type": "display_data"
    }
   ],
   "source": [
    "plt.plot(x,y,'.')\n",
    "plt.plot(x,y_hat,'r--')"
   ]
  },
  {
   "cell_type": "markdown",
   "id": "2001be03-0c7f-4ef3-b537-147cf4563d86",
   "metadata": {
    "id": "2001be03-0c7f-4ef3-b537-147cf4563d86"
   },
   "source": [
    "`(4)` `tf.keras.optimizers`의 `minimize()`를 이용하여 $\\beta_0,\\beta_1$을 추정하라. "
   ]
  },
  {
   "cell_type": "markdown",
   "id": "413155ba-b3d4-4b30-82e5-39ab5c5c7374",
   "metadata": {
    "id": "0e3bc322-477e-4b86-b8f4-57c5b522f3ab",
    "tags": []
   },
   "source": [
    "#### 2.4 풀이 (ref. 5주차 풀이6: 벡터버전, 사용자정의 손실함수 <- tf.losses.MeaSquaredError)"
   ]
  },
  {
   "cell_type": "markdown",
   "id": "16e5f78b-5d74-4b5d-b84a-bdd938c946e1",
   "metadata": {
    "id": "a16611c1-31ef-4ea4-acc5-5d259273b545"
   },
   "source": [
    "`-` 포인트\n",
    "```python\n",
    "## 포인트코드: 클래스로부터 손실함수 오브젝트 생성 (함수를 찍어내는 클래스) \n",
    "mse_fn = tf.losses.MeanSquaredError()\n",
    "mse_fn(y,yhat)\n",
    "```"
   ]
  },
  {
   "cell_type": "code",
   "execution_count": 198,
   "id": "7d865aaa-afc0-40d1-9ceb-2a984341251d",
   "metadata": {},
   "outputs": [
    {
     "data": {
      "text/plain": [
       "(TensorShape([10, 2]), TensorShape([10, 1]))"
      ]
     },
     "execution_count": 198,
     "metadata": {},
     "output_type": "execute_result"
    }
   ],
   "source": [
    "y=y.reshape(N,1)\n",
    "X.shape,y.shape"
   ]
  },
  {
   "cell_type": "code",
   "execution_count": 205,
   "id": "3ea420b3-f506-4d4b-bf26-bdfe561da9f4",
   "metadata": {},
   "outputs": [
    {
     "data": {
      "text/plain": [
       "<tf.Variable 'Variable:0' shape=(2, 1) dtype=float64, numpy=\n",
       "array([[9.],\n",
       "       [2.]])>"
      ]
     },
     "execution_count": 205,
     "metadata": {},
     "output_type": "execute_result"
    }
   ],
   "source": [
    "beta_hat = tf.Variable(tnp.array([9,2],dtype='float64').reshape(2,1))\n",
    "beta_hat"
   ]
  },
  {
   "cell_type": "code",
   "execution_count": 206,
   "id": "edeb1cd2-f606-4ce0-8571-9f0ceac20790",
   "metadata": {},
   "outputs": [],
   "source": [
    "alpha=0.001\n",
    "opt = tf.keras.optimizers.SGD(alpha) "
   ]
  },
  {
   "cell_type": "code",
   "execution_count": 207,
   "id": "22deeb2b-3e6c-4933-8757-805e80720c88",
   "metadata": {},
   "outputs": [],
   "source": [
    "mseloss_fn=tf.losses.MeanSquaredError()"
   ]
  },
  {
   "cell_type": "code",
   "execution_count": 208,
   "id": "afb33418-9a05-4a0c-8aa4-47ebf7054b07",
   "metadata": {},
   "outputs": [
    {
     "data": {
      "text/plain": [
       "<tf.Tensor: shape=(), dtype=float64, numpy=0.960963785648346>"
      ]
     },
     "execution_count": 208,
     "metadata": {},
     "output_type": "execute_result"
    }
   ],
   "source": [
    "mseloss_fn(y.reshape(-1),yhat.reshape(-1))"
   ]
  },
  {
   "cell_type": "code",
   "execution_count": 209,
   "id": "bb5bf692-2301-4551-92cc-48895d2d4bc4",
   "metadata": {},
   "outputs": [],
   "source": [
    "def loss_fn():\n",
    "    yhat= X@beta_hat\n",
    "    loss = mseloss_fn(y.reshape(-1),yhat.reshape(-1))\n",
    "    return loss"
   ]
  },
  {
   "cell_type": "code",
   "execution_count": 210,
   "id": "f569b400-c1f9-4d1c-9967-4b01bd7862cb",
   "metadata": {},
   "outputs": [],
   "source": [
    "for epoc in range(1000):\n",
    "    opt.minimize(loss_fn,beta_hat) # 미분 + update "
   ]
  },
  {
   "cell_type": "code",
   "execution_count": 211,
   "id": "b0409547-c1f7-42f7-b8a9-bde6f83f7eb7",
   "metadata": {},
   "outputs": [
    {
     "data": {
      "text/plain": [
       "<tf.Variable 'Variable:0' shape=(2, 1) dtype=float64, numpy=\n",
       "array([[9.03545358],\n",
       "       [2.25155218]])>"
      ]
     },
     "execution_count": 211,
     "metadata": {},
     "output_type": "execute_result"
    }
   ],
   "source": [
    "beta_hat"
   ]
  },
  {
   "cell_type": "code",
   "execution_count": 196,
   "id": "470640ef-df2d-4762-8cc6-320175396127",
   "metadata": {},
   "outputs": [],
   "source": [
    "y_hat=9.03545358+2.25155218*x"
   ]
  },
  {
   "cell_type": "code",
   "execution_count": 197,
   "id": "93bbae61-5c8b-4c29-bd91-6d03c801eb33",
   "metadata": {
    "id": "af3a1e90-9370-4705-9be7-f321f7c2f856",
    "outputId": "8fa70cf1-56d8-4f1f-909b-bb54a7c9e0c6"
   },
   "outputs": [
    {
     "data": {
      "text/plain": [
       "[<matplotlib.lines.Line2D at 0x7fdf05f00400>]"
      ]
     },
     "execution_count": 197,
     "metadata": {},
     "output_type": "execute_result"
    },
    {
     "data": {
      "image/png": "[encoded data removed]",
      "text/plain": [
       "<Figure size 432x288 with 1 Axes>"
      ]
     },
     "metadata": {
      "needs_background": "light"
     },
     "output_type": "display_data"
    }
   ],
   "source": [
    "plt.plot(x,y,'.')\n",
    "plt.plot(x,y_hat,'r--')"
   ]
  },
  {
   "cell_type": "markdown",
   "id": "7326952d-fce0-4b89-9de2-a66bf05c3960",
   "metadata": {
    "id": "7326952d-fce0-4b89-9de2-a66bf05c3960"
   },
   "source": [
    "## `3`. keras를 이용한 풀이 (30점)"
   ]
  },
  {
   "cell_type": "markdown",
   "id": "0e8a3f28-199e-4ba4-b30e-64f3adff17c9",
   "metadata": {
    "id": "0e8a3f28-199e-4ba4-b30e-64f3adff17c9"
   },
   "source": [
    "`(1)` 아래와 같은 모형을 고려하자. \n",
    "\n",
    "$$y_i= \\beta_0 + \\sum_{k=1}^{5} \\beta_k \\cos(k t_i)+\\epsilon_i, \\quad i=0,1,\\dots, 999$$\n",
    "\n",
    "여기에서 $t_i=\\frac{2\\pi i}{1000}$ 이다. 그리고 $\\epsilon_i \\sim i.i.d~ N(0,\\sigma^2)$, 즉 서로 독립인 표준정규분포에서 추출된 샘플이다. 위의 모형에서 아래와 같은 데이터를 관측했다고 가정하자. "
   ]
  },
  {
   "cell_type": "code",
   "execution_count": 90,
   "id": "bc94cb8e-2348-4779-a254-a322c47c40f5",
   "metadata": {
    "id": "bc94cb8e-2348-4779-a254-a322c47c40f5",
    "outputId": "f9daba75-2c99-41ba-a3fa-a288daccd31b"
   },
   "outputs": [
    {
     "data": {
      "text/plain": [
       "[<matplotlib.lines.Line2D at 0x7f17441df760>]"
      ]
     },
     "execution_count": 90,
     "metadata": {},
     "output_type": "execute_result"
    },
    {
     "data": {
      "image/png": "[encoded data removed]",
      "text/plain": [
       "<Figure size 432x288 with 1 Axes>"
      ]
     },
     "metadata": {
      "needs_background": "light"
     },
     "output_type": "display_data"
    }
   ],
   "source": [
    "np.random.seed(43052)\n",
    "t= np.array(range(1000))* np.pi/1000\n",
    "y = -2+ 3*np.cos(t) + 1*np.cos(2*t) + 0.5*np.cos(5*t) + np.random.randn(1000)*0.2\n",
    "plt.plot(t,y,'.',alpha=0.2)"
   ]
  },
  {
   "cell_type": "markdown",
   "id": "6b27ae75-90e2-405f-a325-baaf8edb5cd4",
   "metadata": {
    "id": "6b27ae75-90e2-405f-a325-baaf8edb5cd4"
   },
   "source": [
    "tf.keras를 이용하여 $\\beta_0,\\dots,\\beta_5$를 추정하라. ($\\beta_0,\\dots,\\beta_5$의 참값은 각각 -2,3,1,0,0,0.5 이다) "
   ]
  },
  {
   "cell_type": "code",
   "execution_count": 96,
   "id": "e8963a6e-28d9-4beb-90a6-8b9cf2af3db6",
   "metadata": {},
   "outputs": [],
   "source": [
    "X = np.stack([np.ones(1000),np.cos(1*t),np.cos(2*t),np.cos(3*t),np.cos(4*t),np.cos(5*t)],axis=1)\n",
    "y = y.reshape(1000,1)"
   ]
  },
  {
   "cell_type": "code",
   "execution_count": 97,
   "id": "c84219fd-74ef-4c80-9306-2770501762e6",
   "metadata": {},
   "outputs": [
    {
     "name": "stdout",
     "output_type": "stream",
     "text": [
      "Epoch 1/30\n",
      "1/1 [==============================] - 0s 92ms/step - loss: 11.7722\n",
      "Epoch 2/30\n",
      "1/1 [==============================] - 0s 10ms/step - loss: 8.5134\n",
      "Epoch 3/30\n",
      "1/1 [==============================] - 0s 10ms/step - loss: 6.2442\n",
      "Epoch 4/30\n",
      "1/1 [==============================] - 0s 10ms/step - loss: 4.6432\n",
      "Epoch 5/30\n",
      "1/1 [==============================] - 0s 10ms/step - loss: 3.4981\n",
      "Epoch 6/30\n",
      "1/1 [==============================] - 0s 12ms/step - loss: 2.6676\n",
      "Epoch 7/30\n",
      "1/1 [==============================] - 0s 12ms/step - loss: 2.0571\n",
      "Epoch 8/30\n",
      "1/1 [==============================] - 0s 10ms/step - loss: 1.6024\n",
      "Epoch 9/30\n",
      "1/1 [==============================] - 0s 12ms/step - loss: 1.2595\n",
      "Epoch 10/30\n",
      "1/1 [==============================] - 0s 10ms/step - loss: 0.9981\n",
      "Epoch 11/30\n",
      "1/1 [==============================] - 0s 10ms/step - loss: 0.7968\n",
      "Epoch 12/30\n",
      "1/1 [==============================] - 0s 12ms/step - loss: 0.6404\n",
      "Epoch 13/30\n",
      "1/1 [==============================] - 0s 12ms/step - loss: 0.5179\n",
      "Epoch 14/30\n",
      "1/1 [==============================] - 0s 10ms/step - loss: 0.4215\n",
      "Epoch 15/30\n",
      "1/1 [==============================] - 0s 10ms/step - loss: 0.3451\n",
      "Epoch 16/30\n",
      "1/1 [==============================] - 0s 10ms/step - loss: 0.2844\n",
      "Epoch 17/30\n",
      "1/1 [==============================] - 0s 10ms/step - loss: 0.2359\n",
      "Epoch 18/30\n",
      "1/1 [==============================] - 0s 10ms/step - loss: 0.1971\n",
      "Epoch 19/30\n",
      "1/1 [==============================] - 0s 12ms/step - loss: 0.1660\n",
      "Epoch 20/30\n",
      "1/1 [==============================] - 0s 10ms/step - loss: 0.1410\n",
      "Epoch 21/30\n",
      "1/1 [==============================] - 0s 10ms/step - loss: 0.1208\n",
      "Epoch 22/30\n",
      "1/1 [==============================] - 0s 10ms/step - loss: 0.1046\n",
      "Epoch 23/30\n",
      "1/1 [==============================] - 0s 10ms/step - loss: 0.0914\n",
      "Epoch 24/30\n",
      "1/1 [==============================] - 0s 10ms/step - loss: 0.0808\n",
      "Epoch 25/30\n",
      "1/1 [==============================] - 0s 12ms/step - loss: 0.0723\n",
      "Epoch 26/30\n",
      "1/1 [==============================] - 0s 12ms/step - loss: 0.0654\n",
      "Epoch 27/30\n",
      "1/1 [==============================] - 0s 10ms/step - loss: 0.0598\n",
      "Epoch 28/30\n",
      "1/1 [==============================] - 0s 13ms/step - loss: 0.0552\n",
      "Epoch 29/30\n",
      "1/1 [==============================] - 0s 10ms/step - loss: 0.0516\n",
      "Epoch 30/30\n",
      "1/1 [==============================] - 0s 12ms/step - loss: 0.0486\n"
     ]
    },
    {
     "data": {
      "text/plain": [
       "<keras.callbacks.History at 0x7f172fe018d0>"
      ]
     },
     "execution_count": 97,
     "metadata": {},
     "output_type": "execute_result"
    }
   ],
   "source": [
    "net = tf.keras.Sequential() # 1: 네트워크 생성\n",
    "net.add(tf.keras.layers.Dense(1,use_bias=False)) # 2: add layer \n",
    "net.compile(tf.optimizers.SGD(0.1), loss='mse') # 3: compile\n",
    "net.fit(X,y,epochs=30, batch_size=N) # 4: fit "
   ]
  },
  {
   "cell_type": "code",
   "execution_count": 98,
   "id": "35ec4a08-22ab-4c3e-be86-f1ffbbee5f98",
   "metadata": {},
   "outputs": [
    {
     "data": {
      "text/plain": [
       "[<tf.Variable 'dense_2/kernel:0' shape=(6, 1) dtype=float32, numpy=\n",
       " array([[-2.0089886 ],\n",
       "        [ 2.8645215 ],\n",
       "        [ 0.9796344 ],\n",
       "        [ 0.0177131 ],\n",
       "        [ 0.02426586],\n",
       "        [ 0.50201845]], dtype=float32)>]"
      ]
     },
     "execution_count": 98,
     "metadata": {},
     "output_type": "execute_result"
    }
   ],
   "source": [
    "net.weights"
   ]
  },
  {
   "cell_type": "markdown",
   "id": "36332c6f-4e55-4d4b-8a3a-e3c4aff35298",
   "metadata": {
    "id": "36332c6f-4e55-4d4b-8a3a-e3c4aff35298"
   },
   "source": [
    "`(2)` 아래와 같은 모형을 고려하자. \n",
    "\n",
    "$$y_i \\sim Ber(\\pi_i), ~ \\text{where} ~ \\pi_i=\\frac{\\exp(w_0+w_1x_i)}{1+\\exp(w_0+w_1x_i)}$$\n"
   ]
  },
  {
   "cell_type": "markdown",
   "id": "eac5206a-027a-4526-81c7-c98674808e24",
   "metadata": {
    "id": "eac5206a-027a-4526-81c7-c98674808e24"
   },
   "source": [
    "위의 모형에서 관측한 데이터는 아래와 같다. "
   ]
  },
  {
   "cell_type": "code",
   "execution_count": 138,
   "id": "fcc33c1b-4873-44da-859a-7db528ca6e10",
   "metadata": {
    "id": "fcc33c1b-4873-44da-859a-7db528ca6e10",
    "outputId": "4039ceda-3f7d-4469-c042-5b815c16e434"
   },
   "outputs": [
    {
     "data": {
      "text/plain": [
       "[<matplotlib.lines.Line2D at 0x7f15f06c2470>]"
      ]
     },
     "execution_count": 138,
     "metadata": {},
     "output_type": "execute_result"
    },
    {
     "data": {
      "image/png": "[encoded data removed]",
      "text/plain": [
       "<Figure size 432x288 with 1 Axes>"
      ]
     },
     "metadata": {
      "needs_background": "light"
     },
     "output_type": "display_data"
    }
   ],
   "source": [
    "tf.random.set_seed(43052)\n",
    "x = tnp.linspace(-1,1,2000) \n",
    "y = tf.constant(np.random.binomial(1, tf.nn.sigmoid(-1+5*x)),dtype=tf.float64) \n",
    "plt.plot(x,y,'.',alpha=0.05)"
   ]
  },
  {
   "cell_type": "markdown",
   "id": "66309733-c374-4b15-aebe-e7b651f94080",
   "metadata": {
    "id": "66309733-c374-4b15-aebe-e7b651f94080"
   },
   "source": [
    "tf.keras를 이용하여 $w_0,w_1$을 추정하라. (참고: $w_0, w_1$에 대한 참값은 -1과 5이다.) "
   ]
  },
  {
   "cell_type": "code",
   "execution_count": 139,
   "id": "8c6c4ded-3d1b-4527-8a99-71f3815ad14c",
   "metadata": {},
   "outputs": [
    {
     "data": {
      "text/plain": [
       "(TensorShape([2000]), TensorShape([2000]))"
      ]
     },
     "execution_count": 139,
     "metadata": {},
     "output_type": "execute_result"
    }
   ],
   "source": [
    "x.shape, y.shape"
   ]
  },
  {
   "cell_type": "code",
   "execution_count": 140,
   "id": "f8d681c8-e64f-4397-85b2-94ac7a770183",
   "metadata": {},
   "outputs": [
    {
     "data": {
      "text/plain": [
       "(TensorShape([2000, 1]), TensorShape([2000]))"
      ]
     },
     "execution_count": 140,
     "metadata": {},
     "output_type": "execute_result"
    }
   ],
   "source": [
    "x=x.reshape(2000,1)\n",
    "x.shape, y.shape"
   ]
  },
  {
   "cell_type": "code",
   "execution_count": 141,
   "id": "f3943997-30b2-48cd-91a0-8c1ea2ee38b9",
   "metadata": {
    "id": "b9d05ed4-15d2-4e7a-a684-3998c957d1c3",
    "outputId": "912db689-ef30-49cf-d924-d19aa0499e72"
   },
   "outputs": [
    {
     "data": {
      "text/plain": [
       "<keras.callbacks.History at 0x7f15f051b790>"
      ]
     },
     "execution_count": 141,
     "metadata": {},
     "output_type": "execute_result"
    }
   ],
   "source": [
    "net = tf.keras.Sequential() \n",
    "net.add(tf.keras.layers.Dense(1,activation='sigmoid'))\n",
    "bceloss_fn = lambda y,yhat: -tf.reduce_mean(y*tnp.log(yhat) + (1-y)*tnp.log(1-yhat))\n",
    "net.compile(loss=bceloss_fn, optimizer=tf.optimizers.SGD(0.1))\n",
    "net.fit(x,y,epochs=10000,verbose=0,batch_size=2000) "
   ]
  },
  {
   "cell_type": "code",
   "execution_count": 142,
   "id": "0b86881b-42df-42c1-ace0-9998e7bed9d8",
   "metadata": {
    "id": "d7c497b1-b5a4-4ca0-80da-77d35154be27",
    "outputId": "f02f60ba-fc18-41d3-d349-fc9ef7b93732"
   },
   "outputs": [
    {
     "data": {
      "text/plain": [
       "[<tf.Variable 'dense_13/kernel:0' shape=(1, 1) dtype=float32, numpy=array([[4.9088597]], dtype=float32)>,\n",
       " <tf.Variable 'dense_13/bias:0' shape=(1,) dtype=float32, numpy=array([-0.8237801], dtype=float32)>]"
      ]
     },
     "execution_count": 142,
     "metadata": {},
     "output_type": "execute_result"
    }
   ],
   "source": [
    "net.weights"
   ]
  },
  {
   "cell_type": "code",
   "execution_count": 143,
   "id": "5fba2c71-e8eb-4b95-a163-a07bc4557c30",
   "metadata": {
    "id": "9b334dbb-8736-4301-a6e6-c7983ef6826c",
    "outputId": "93f51fd9-62b1-4719-e90c-336ead8b5fdd"
   },
   "outputs": [
    {
     "data": {
      "text/plain": [
       "[<matplotlib.lines.Line2D at 0x7f15f0479780>]"
      ]
     },
     "execution_count": 143,
     "metadata": {},
     "output_type": "execute_result"
    },
    {
     "data": {
      "image/png": "[encoded data removed]",
      "text/plain": [
       "<Figure size 432x288 with 1 Axes>"
      ]
     },
     "metadata": {
      "needs_background": "light"
     },
     "output_type": "display_data"
    }
   ],
   "source": [
    "plt.plot(x,y,'.',alpha=0.05)\n",
    "plt.plot(x,net(x),'--b')"
   ]
  },
  {
   "cell_type": "markdown",
   "id": "75e6e697-04cf-4022-8ca4-b7d94875f1e4",
   "metadata": {
    "id": "75e6e697-04cf-4022-8ca4-b7d94875f1e4"
   },
   "source": [
    "## `4`. Piecewise-linear regression (15점) "
   ]
  },
  {
   "cell_type": "markdown",
   "id": "e80e5f88-bcec-477f-98a3-3c616cb35046",
   "metadata": {
    "id": "e80e5f88-bcec-477f-98a3-3c616cb35046"
   },
   "source": [
    "## `5`. 다음을 잘 읽고 참과 거짓을 판단하라. (5점)"
   ]
  },
  {
   "cell_type": "markdown",
   "id": "93e43a1a-fcfa-4a7e-a87a-0464434a6c01",
   "metadata": {
    "id": "93e43a1a-fcfa-4a7e-a87a-0464434a6c01"
   },
   "source": [
    "`(1)` 적절한 학습률이 선택된다면, 경사하강법은 손실함수가 convex일때 언제 전역최소해를 찾을 수 있다."
   ]
  },
  {
   "cell_type": "markdown",
   "id": "9d360389-0708-4a69-9965-7d27bd287596",
   "metadata": {
    "id": "9d360389-0708-4a69-9965-7d27bd287596"
   },
   "source": [
    "`(2)`"
   ]
  },
  {
   "cell_type": "markdown",
   "id": "b3feb8fc-5e08-48ff-a7fb-f54060f980bb",
   "metadata": {
    "id": "b3feb8fc-5e08-48ff-a7fb-f54060f980bb"
   },
   "source": [
    "`(3)`"
   ]
  },
  {
   "cell_type": "markdown",
   "id": "4433ca8f-50af-4ca5-a9bd-60386c5c89f9",
   "metadata": {
    "id": "4433ca8f-50af-4ca5-a9bd-60386c5c89f9"
   },
   "source": [
    "`(4)`"
   ]
  },
  {
   "cell_type": "markdown",
   "id": "985252b2-9148-455f-b2fb-6c03fd0124f6",
   "metadata": {
    "id": "985252b2-9148-455f-b2fb-6c03fd0124f6"
   },
   "source": [
    "`(5)`"
   ]
  }
 ],
 "metadata": {
  "colab": {
   "name": "2022-04-23-중간고사예상문제.ipynb",
   "provenance": []
  },
  "kernelspec": {
   "display_name": "Python 3 (ipykernel)",
   "language": "python",
   "name": "python3"
  },
  "language_info": {
   "codemirror_mode": {
    "name": "ipython",
    "version": 3
   },
   "file_extension": ".py",
   "mimetype": "text/x-python",
   "name": "python",
   "nbconvert_exporter": "python",
   "pygments_lexer": "ipython3",
   "version": "3.10.4"
  }
 },
 "nbformat": 4,
 "nbformat_minor": 5
}
