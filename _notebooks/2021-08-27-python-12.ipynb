{
 "cells": [
  {
   "cell_type": "markdown",
   "id": "f4337e19-734f-483c-be47-1c135403f4bd",
   "metadata": {},
   "source": [
    "# (공부) WITH문\n",
    "> 작성 완료\n",
    "\n",
    "- toc:true\n",
    "- branch: master\n",
    "- badges: true\n",
    "- comments: true\n",
    "- author: kimha02\n",
    "- categories: [Python]"
   ]
  },
  {
   "cell_type": "markdown",
   "id": "7f864a01-3078-4c3c-9992-31d8ee3c83f5",
   "metadata": {},
   "source": [
    "## 파일읽기 "
   ]
  },
  {
   "cell_type": "markdown",
   "id": "2b9bc94a-d32b-413c-b794-8a227c976ff0",
   "metadata": {},
   "source": [
    "### 예제1"
   ]
  },
  {
   "cell_type": "code",
   "execution_count": 4,
   "id": "6a8dc110-c5ff-482d-aed4-bfdda931bcef",
   "metadata": {},
   "outputs": [],
   "source": [
    "f=open('test[1].txt')"
   ]
  },
  {
   "cell_type": "code",
   "execution_count": 2,
   "id": "476dd48f-e7b7-4eaf-a91a-3bce025c19ed",
   "metadata": {},
   "outputs": [],
   "source": [
    "a=f.read()"
   ]
  },
  {
   "cell_type": "code",
   "execution_count": 9,
   "id": "f178d4ac-cac0-4c1f-8656-0ab5f5a98a6c",
   "metadata": {},
   "outputs": [
    {
     "data": {
      "text/plain": [
       "'hello\\nhello2\\nhello3'"
      ]
     },
     "execution_count": 9,
     "metadata": {},
     "output_type": "execute_result"
    }
   ],
   "source": [
    "a"
   ]
  },
  {
   "cell_type": "code",
   "execution_count": 10,
   "id": "d0b12f41-a124-4c99-a475-8f68431c3c74",
   "metadata": {},
   "outputs": [
    {
     "name": "stdout",
     "output_type": "stream",
     "text": [
      "hello\n",
      "hello2\n",
      "hello3\n"
     ]
    }
   ],
   "source": [
    "print(a)   #\\n은 enter"
   ]
  },
  {
   "cell_type": "code",
   "execution_count": 11,
   "id": "af7b8008-ed21-46ea-a103-b443120f3899",
   "metadata": {},
   "outputs": [
    {
     "data": {
      "text/plain": [
       "False"
      ]
     },
     "execution_count": 11,
     "metadata": {},
     "output_type": "execute_result"
    }
   ],
   "source": [
    "f.closed   #닫혀있는 상태인지 확인"
   ]
  },
  {
   "cell_type": "markdown",
   "id": "e2ba699a-3c9c-4f28-9e3d-5b27a446780b",
   "metadata": {},
   "source": [
    "`-` 현재 f가 열려있는 상태이다. 따라서 닫아줘야 한다. "
   ]
  },
  {
   "cell_type": "code",
   "execution_count": 12,
   "id": "894e3dae-15f5-4351-bed9-2f126b578322",
   "metadata": {},
   "outputs": [],
   "source": [
    "f.close()   #닫아주는 명령어"
   ]
  },
  {
   "cell_type": "code",
   "execution_count": 13,
   "id": "f7cca259-ad93-48b1-9ddc-73a9f7375c7f",
   "metadata": {},
   "outputs": [
    {
     "data": {
      "text/plain": [
       "True"
      ]
     },
     "execution_count": 13,
     "metadata": {},
     "output_type": "execute_result"
    }
   ],
   "source": [
    "f.closed"
   ]
  },
  {
   "cell_type": "markdown",
   "id": "ba69cdd6-83e3-418f-9d64-383d777ba4d2",
   "metadata": {},
   "source": [
    "**(?) 왜 닫아야 할까**\n",
    "> 열려있으면 원하지 않는 수정 등이 일어날 수 있고, 메모리를 차지할 수도 있기 때문임 -> 그냥 인터넷 창 닫는 느낌?  \n",
    "  파일을 닫지 않는다고 해서 큰 문제는 없어보이지만 그냥 닫는것이 좋다.  \n",
    "  f가 닫힌 상태에서는 더 이상 읽을 수가 없다. "
   ]
  },
  {
   "cell_type": "code",
   "execution_count": 14,
   "id": "2a9b6e60-70b8-4e14-9094-7dfd6aae4c3f",
   "metadata": {},
   "outputs": [
    {
     "ename": "ValueError",
     "evalue": "I/O operation on closed file.",
     "output_type": "error",
     "traceback": [
      "\u001b[0;31m---------------------------------------------------------------------------\u001b[0m",
      "\u001b[0;31mValueError\u001b[0m                                Traceback (most recent call last)",
      "\u001b[0;32m/tmp/ipykernel_661245/672958580.py\u001b[0m in \u001b[0;36m<module>\u001b[0;34m\u001b[0m\n\u001b[0;32m----> 1\u001b[0;31m \u001b[0mb\u001b[0m\u001b[0;34m=\u001b[0m\u001b[0mf\u001b[0m\u001b[0;34m.\u001b[0m\u001b[0mread\u001b[0m\u001b[0;34m(\u001b[0m\u001b[0;34m)\u001b[0m\u001b[0;34m\u001b[0m\u001b[0;34m\u001b[0m\u001b[0m\n\u001b[0m",
      "\u001b[0;31mValueError\u001b[0m: I/O operation on closed file."
     ]
    }
   ],
   "source": [
    "b=f.read()"
   ]
  },
  {
   "cell_type": "markdown",
   "id": "1f04703b-8192-4caf-a063-f666aa381571",
   "metadata": {},
   "source": [
    "### ★ motivation "
   ]
  },
  {
   "cell_type": "markdown",
   "id": "f3f4071a-b5a9-4793-8ab4-3ad54c638801",
   "metadata": {},
   "source": [
    "생각해 보니까 파일을 열면 항상 닫아야 한다.   \n",
    "이처럼 쌍(시작-끝)으로 수행되는 처리가 반복적으로 발생하는 경우가 있는데 그때마다 `.close()` 메소드 따위를 쓰는 것이 번거롭게 느껴진다.   \n",
    "예를 들면 파일을 열었으면 적당한 동작 뒤에 알아서 닫아졌으면 좋겠다는 것이다. "
   ]
  },
  {
   "cell_type": "markdown",
   "id": "33b9a731-ebc5-4b6f-9fc3-dd980958fcb1",
   "metadata": {},
   "source": [
    "**이러한 모티브에서 구현된 것이 `with문` 이다.**"
   ]
  },
  {
   "cell_type": "code",
   "execution_count": 18,
   "id": "7622e06e-3fb4-4f43-9171-98af688f0a19",
   "metadata": {},
   "outputs": [
    {
     "name": "stdout",
     "output_type": "stream",
     "text": [
      "hello\n",
      "hello2\n",
      "hello3\n"
     ]
    }
   ],
   "source": [
    "with open('test[1].txt') as g: \n",
    "    print(g.read())"
   ]
  },
  {
   "cell_type": "markdown",
   "id": "ecfdd8ae-ac9c-48dc-9cad-b6d521f6dfd1",
   "metadata": {},
   "source": [
    "`-` 파일이 닫아졌는지 확인해보자. "
   ]
  },
  {
   "cell_type": "code",
   "execution_count": 19,
   "id": "3348d78e-8e84-42cf-90c6-bfce261e845e",
   "metadata": {},
   "outputs": [
    {
     "data": {
      "text/plain": [
       "True"
      ]
     },
     "execution_count": 19,
     "metadata": {},
     "output_type": "execute_result"
    }
   ],
   "source": [
    "g.closed"
   ]
  },
  {
   "cell_type": "markdown",
   "id": "bf159b9c-0563-486e-93ce-b29a94b89e3b",
   "metadata": {},
   "source": [
    "--------"
   ]
  },
  {
   "cell_type": "markdown",
   "id": "92326545-ec5b-49bb-811c-0e7e931d73db",
   "metadata": {},
   "source": [
    "### 기본사용법"
   ]
  },
  {
   "cell_type": "markdown",
   "id": "9e878cdb-90f2-403c-ade8-18972ad06c8b",
   "metadata": {},
   "source": [
    "with의 사용법은 직관적으로 이해가 가능하지만 그래도 다시 한 번 살펴보자. \n",
    "\n",
    "```python\n",
    "with blabla as variable: \n",
    "    yadiyadi\n",
    "    yadiyadi2\n",
    "```"
   ]
  },
  {
   "cell_type": "markdown",
   "id": "67e8ef1d-81d7-4b96-84df-2563723d9b64",
   "metadata": {},
   "source": [
    "(1) `with blabla as variable`에서 blabla가 실행된다. "
   ]
  },
  {
   "cell_type": "markdown",
   "id": "09b15572-9035-4c8a-905d-39ac1bd4a018",
   "metadata": {},
   "source": [
    "(2) blabla의 실행결과로 어떠한 `특별한` 오브젝트가 만들어지는데 그 오브젝트를 우리가 variable로 부르기로 한다. "
   ]
  },
  {
   "cell_type": "markdown",
   "id": "6cf9261d-9ca1-4048-a3c3-7b7eea9fbde8",
   "metadata": {},
   "source": [
    "(3) 탭으로 들여쓰기된 부분, 즉 yadiyadi, yadiyadi2 가 순서대로 실행된다. "
   ]
  },
  {
   "cell_type": "markdown",
   "id": "f045776c-414c-4bf2-be90-4ca79438f0cf",
   "metadata": {},
   "source": [
    "(4) 탭으로 들여쓰기된 부분이 실행되고 난 뒤에 `g.closed()` 따위의 미리 약속된 어떠한 코드가 실행되는 것 같다. "
   ]
  },
  {
   "cell_type": "markdown",
   "id": "434b956c-33fe-4039-992c-fb725c9da2a4",
   "metadata": {},
   "source": [
    "---------------------"
   ]
  },
  {
   "cell_type": "markdown",
   "id": "bf276ed9-7cb7-4f72-b386-85f48b8d2b1a",
   "metadata": {},
   "source": [
    "### 동작원리 "
   ]
  },
  {
   "cell_type": "markdown",
   "id": "2bd09c31-afbf-47d5-b1eb-79031399be27",
   "metadata": {},
   "source": [
    "`-` g 라는 오브젝트를 `특별한` 오브젝트라고 했는데, 무엇이 특별한지 알아보자. "
   ]
  },
  {
   "cell_type": "code",
   "execution_count": 21,
   "id": "6deab723-9abb-4463-8d95-8d957e5bd6ee",
   "metadata": {},
   "outputs": [
    {
     "data": {
      "text/plain": [
       "['_CHUNK_SIZE',\n",
       " '__class__',\n",
       " '__del__',\n",
       " '__delattr__',\n",
       " '__dict__',\n",
       " '__dir__',\n",
       " '__doc__',\n",
       " '__enter__',\n",
       " '__eq__',\n",
       " '__exit__',\n",
       " '__format__',\n",
       " '__ge__',\n",
       " '__getattribute__',\n",
       " '__gt__',\n",
       " '__hash__',\n",
       " '__init__',\n",
       " '__init_subclass__',\n",
       " '__iter__',\n",
       " '__le__',\n",
       " '__lt__',\n",
       " '__ne__',\n",
       " '__new__',\n",
       " '__next__',\n",
       " '__reduce__',\n",
       " '__reduce_ex__',\n",
       " '__repr__',\n",
       " '__setattr__',\n",
       " '__sizeof__',\n",
       " '__str__',\n",
       " '__subclasshook__',\n",
       " '_checkClosed',\n",
       " '_checkReadable',\n",
       " '_checkSeekable',\n",
       " '_checkWritable',\n",
       " '_finalizing',\n",
       " 'buffer',\n",
       " 'close',\n",
       " 'closed',\n",
       " 'detach',\n",
       " 'encoding',\n",
       " 'errors',\n",
       " 'fileno',\n",
       " 'flush',\n",
       " 'isatty',\n",
       " 'line_buffering',\n",
       " 'mode',\n",
       " 'name',\n",
       " 'newlines',\n",
       " 'read',\n",
       " 'readable',\n",
       " 'readline',\n",
       " 'readlines',\n",
       " 'reconfigure',\n",
       " 'seek',\n",
       " 'seekable',\n",
       " 'tell',\n",
       " 'truncate',\n",
       " 'writable',\n",
       " 'write',\n",
       " 'write_through',\n",
       " 'writelines']"
      ]
     },
     "execution_count": 21,
     "metadata": {},
     "output_type": "execute_result"
    }
   ],
   "source": [
    "dir(g)"
   ]
  },
  {
   "cell_type": "markdown",
   "id": "325b9817-3bd4-4a52-8dba-e602f8c2e99e",
   "metadata": {},
   "source": [
    "★ 비밀은 `__enter__` 와 `__exit__` 메소드에 있다. "
   ]
  },
  {
   "cell_type": "markdown",
   "id": "91143fc5-22ce-4327-b6b0-21fc64a0f3a4",
   "metadata": {},
   "source": [
    "`__enter__` 와 `__exit__` 의 역할을 알아보기 위해서 아래의 코드를 다시 관찰하자. "
   ]
  },
  {
   "cell_type": "markdown",
   "id": "07a3a0cf-da16-4353-96ce-f03a81cf7925",
   "metadata": {},
   "source": [
    "```python\n",
    "with open('test.txt') as g: \n",
    "    print(g.read())\n",
    "```"
   ]
  },
  {
   "cell_type": "markdown",
   "id": "1fdfbd4a-ee85-4da4-aa76-ae7cce073dfb",
   "metadata": {},
   "source": [
    "**(for문 복습)** `for i in ...:` 에서 `...`에 올 수 있는 오브젝트는 `__iter__` 메소드가 정의되어 있어야 한다. 이러한 오브젝트를 iterable한 오브젝트라고 한다. \n",
    "\n",
    "**(with문)** `with ... as variable:` 에서 `...`의 실행결과로 생성되는 오브젝트는 `__enter__` 와 `__exit__` 메소드가 정의되어 있어야 한다. \n",
    " - 이 중 `__enter__`는 with문이 시작되면 자동으로 실행된다. \n",
    " - 이 중 `__exit__`는 with문이 끝나면 자동으로 실행된다. "
   ]
  },
  {
   "cell_type": "markdown",
   "id": "b786a280-f2b3-4799-83e5-a9a37a49bff6",
   "metadata": {},
   "source": [
    "--------------"
   ]
  },
  {
   "cell_type": "markdown",
   "id": "0de5fd5c-5947-40b9-9d28-31c3fed839b8",
   "metadata": {},
   "source": [
    "### 예제2"
   ]
  },
  {
   "cell_type": "code",
   "execution_count": 29,
   "id": "9edc0382-d71d-4102-9808-1bc161599b01",
   "metadata": {},
   "outputs": [],
   "source": [
    "class MooYaHo:\n",
    "    def __init__(self):   #enter와 init 중 뭐가 먼저 실행될까? mooyaho가 실행되면서 init 실행 -> with 실행되면서 enter 실행\n",
    "        print('init')\n",
    "    def __enter__(self):\n",
    "        print('무야호')\n",
    "    def __exit__(self,exc_type,exc_value,traceback): # self 이외의 3가지 변수는 예외처리에 관련된 변수인데 여기서는 다루지 않음. \n",
    "        print('그만큼 신나시는거지')"
   ]
  },
  {
   "cell_type": "code",
   "execution_count": 28,
   "id": "160748b0-b9c3-42b2-972d-e268e5772c1e",
   "metadata": {},
   "outputs": [
    {
     "name": "stdout",
     "output_type": "stream",
     "text": [
      "init\n",
      "무야호\n",
      ".\n",
      "그만큼 신나시는거지\n"
     ]
    }
   ],
   "source": [
    "with MooYaHo() as a: \n",
    "    print('.')                "
   ]
  },
  {
   "cell_type": "markdown",
   "id": "1d2e7123-8721-4792-8dc6-0752ca47d8d9",
   "metadata": {},
   "source": [
    "`-` 경우에 따라서 as 이하를 생략할 수 있다. "
   ]
  },
  {
   "cell_type": "code",
   "execution_count": 25,
   "id": "a4817885-058a-4326-81dc-8851eb311bc0",
   "metadata": {},
   "outputs": [
    {
     "name": "stdout",
     "output_type": "stream",
     "text": [
      "init\n",
      "무야호\n",
      "xx\n",
      "그만큼 신나시는거지\n"
     ]
    }
   ],
   "source": [
    "with MooYaHo():\n",
    "    print('xx')"
   ]
  }
 ],
 "metadata": {
  "kernelspec": {
   "display_name": "Python 3 (ipykernel)",
   "language": "python",
   "name": "python3"
  },
  "language_info": {
   "codemirror_mode": {
    "name": "ipython",
    "version": 3
   },
   "file_extension": ".py",
   "mimetype": "text/x-python",
   "name": "python",
   "nbconvert_exporter": "python",
   "pygments_lexer": "ipython3",
   "version": "3.8.11"
  }
 },
 "nbformat": 4,
 "nbformat_minor": 5
}
