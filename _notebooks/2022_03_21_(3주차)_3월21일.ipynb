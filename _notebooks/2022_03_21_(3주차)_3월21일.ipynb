{
 "cells": [
  {
   "cell_type": "markdown",
   "id": "d05e006f-32fc-400c-b614-109185d0efff",
   "metadata": {
    "id": "d05e006f-32fc-400c-b614-109185d0efff"
   },
   "source": [
    "# (3주차) 3월21일 \n",
    "- toc:true\n",
    "- branch: master\n",
    "- badges: true\n",
    "- comments: true\n",
    "- author: 최규빈"
   ]
  },
  {
   "cell_type": "markdown",
   "id": "e1bc3060-3939-4ee7-bf02-acf96b7187a6",
   "metadata": {},
   "source": [
    "---"
   ]
  },
  {
   "cell_type": "markdown",
   "id": "0e40bace-c142-4155-83dc-cc562e5eb639",
   "metadata": {
    "id": "0e40bace-c142-4155-83dc-cc562e5eb639"
   },
   "source": [
    "### imports "
   ]
  },
  {
   "cell_type": "code",
   "execution_count": 1,
   "id": "5e2d101b-f78f-43d8-9800-ca00451bc541",
   "metadata": {
    "id": "5e2d101b-f78f-43d8-9800-ca00451bc541"
   },
   "outputs": [],
   "source": [
    "import tensorflow as tf\n",
    "import numpy as np"
   ]
  },
  {
   "cell_type": "code",
   "execution_count": 2,
   "id": "080223e7-0bcf-4f4f-b01a-8f8b4419f5ba",
   "metadata": {
    "id": "080223e7-0bcf-4f4f-b01a-8f8b4419f5ba",
    "outputId": "12b5c70e-b16f-4c79-85b4-7addfb5c40d2"
   },
   "outputs": [
    {
     "name": "stderr",
     "output_type": "stream",
     "text": [
      "2022-03-21 18:55:30.391830: I tensorflow/stream_executor/cuda/cuda_gpu_executor.cc:939] successful NUMA node read from SysFS had negative value (-1), but there must be at least one NUMA node, so returning NUMA node zero\n",
      "2022-03-21 18:55:30.412866: I tensorflow/stream_executor/cuda/cuda_gpu_executor.cc:939] successful NUMA node read from SysFS had negative value (-1), but there must be at least one NUMA node, so returning NUMA node zero\n",
      "2022-03-21 18:55:30.413250: I tensorflow/stream_executor/cuda/cuda_gpu_executor.cc:939] successful NUMA node read from SysFS had negative value (-1), but there must be at least one NUMA node, so returning NUMA node zero\n"
     ]
    },
    {
     "data": {
      "text/plain": [
       "[PhysicalDevice(name='/physical_device:GPU:0', device_type='GPU')]"
      ]
     },
     "execution_count": 2,
     "metadata": {},
     "output_type": "execute_result"
    }
   ],
   "source": [
    "tf.config.experimental.list_physical_devices('GPU')"
   ]
  },
  {
   "cell_type": "markdown",
   "id": "3ca40eee-76e1-4f74-a8dc-8da076cbb903",
   "metadata": {},
   "source": [
    "- 데이터과학 수업 참고하기"
   ]
  },
  {
   "cell_type": "markdown",
   "id": "93a30f67-d977-4c71-a51f-ccd25801e08a",
   "metadata": {},
   "source": [
    "---"
   ]
  },
  {
   "cell_type": "markdown",
   "id": "3ec05ea5-1f4b-4f87-b607-5a2875a9c098",
   "metadata": {
    "id": "3ec05ea5-1f4b-4f87-b607-5a2875a9c098"
   },
   "source": [
    "### 지난강의 보충 "
   ]
  },
  {
   "cell_type": "markdown",
   "id": "6bbceca4-6409-4b7c-8806-a81f7734d0ef",
   "metadata": {
    "id": "6bbceca4-6409-4b7c-8806-a81f7734d0ef"
   },
   "source": [
    "`-` max, min, sum, mean "
   ]
  },
  {
   "cell_type": "code",
   "execution_count": 5,
   "id": "c223abd4-f1a2-4959-8f7b-2b5a4f977fd5",
   "metadata": {},
   "outputs": [
    {
     "data": {
      "text/plain": [
       "<tf.Tensor: shape=(4,), dtype=int32, numpy=array([1, 2, 3, 4], dtype=int32)>"
      ]
     },
     "execution_count": 5,
     "metadata": {},
     "output_type": "execute_result"
    }
   ],
   "source": [
    "a=tf.constant([1,2,3,4])\n",
    "a"
   ]
  },
  {
   "cell_type": "code",
   "execution_count": 7,
   "id": "31bd129b-31d1-44ea-9b18-02292dbac9df",
   "metadata": {},
   "outputs": [
    {
     "data": {
      "text/plain": [
       "<tf.Tensor: shape=(), dtype=int32, numpy=4>"
      ]
     },
     "execution_count": 7,
     "metadata": {},
     "output_type": "execute_result"
    }
   ],
   "source": [
    "#max\n",
    "max(a)"
   ]
  },
  {
   "cell_type": "code",
   "execution_count": 9,
   "id": "00edaecb-ff99-42e5-94d3-b1fb9f3fb3f9",
   "metadata": {},
   "outputs": [
    {
     "ename": "NameError",
     "evalue": "name 'mean' is not defined",
     "output_type": "error",
     "traceback": [
      "\u001b[0;31m---------------------------------------------------------------------------\u001b[0m",
      "\u001b[0;31mNameError\u001b[0m                                 Traceback (most recent call last)",
      "Input \u001b[0;32mIn [9]\u001b[0m, in \u001b[0;36m<cell line: 2>\u001b[0;34m()\u001b[0m\n\u001b[1;32m      1\u001b[0m \u001b[38;5;66;03m#mean은 안 된다.\u001b[39;00m\n\u001b[0;32m----> 2\u001b[0m \u001b[43mmean\u001b[49m(a)\n",
      "\u001b[0;31mNameError\u001b[0m: name 'mean' is not defined"
     ]
    }
   ],
   "source": [
    "#mean은 안 된다.\n",
    "mean(a)"
   ]
  },
  {
   "cell_type": "code",
   "execution_count": 11,
   "id": "54ca325e-2731-4bff-b05f-58215611f546",
   "metadata": {},
   "outputs": [
    {
     "data": {
      "text/plain": [
       "<tf.Tensor: shape=(), dtype=int32, numpy=2>"
      ]
     },
     "execution_count": 11,
     "metadata": {},
     "output_type": "execute_result"
    }
   ],
   "source": [
    "tf.reduce_mean(a)\n",
    "#잘못구해졌다."
   ]
  },
  {
   "cell_type": "code",
   "execution_count": 12,
   "id": "b2ec9147-f6bc-4c37-a308-428d9cf52e16",
   "metadata": {},
   "outputs": [
    {
     "data": {
      "text/plain": [
       "<tf.Tensor: shape=(4,), dtype=float32, numpy=array([1., 2., 3., 4.], dtype=float32)>"
      ]
     },
     "execution_count": 12,
     "metadata": {},
     "output_type": "execute_result"
    }
   ],
   "source": [
    "a=tf.constant([1.0,2.0,3.0,4.0])\n",
    "a"
   ]
  },
  {
   "cell_type": "code",
   "execution_count": 15,
   "id": "e476931f-ad9a-4776-ba15-980b56981a7b",
   "metadata": {},
   "outputs": [
    {
     "data": {
      "text/plain": [
       "<tf.Tensor: shape=(), dtype=float32, numpy=2.5>"
      ]
     },
     "execution_count": 15,
     "metadata": {},
     "output_type": "execute_result"
    }
   ],
   "source": [
    "tf.reduce_mean(a)\n",
    "#잘 구해진 모습, 하지만 그렇게 잘 쓰진 않음. tnp가 있으니까"
   ]
  },
  {
   "cell_type": "markdown",
   "id": "a8060a6b-3370-4557-af0a-2775351f3921",
   "metadata": {
    "id": "510e813f-c3de-44e1-967a-317a0e03ce9d"
   },
   "source": [
    "#### concat, stack "
   ]
  },
  {
   "cell_type": "markdown",
   "id": "a42c32bb-b009-46a9-bd67-752585b4c518",
   "metadata": {
    "id": "3c4ad96d-4709-44cd-aa7f-de7d1dc14c5d"
   },
   "source": [
    "`-` 예제: (2,3,4,5) stack (2,3,4,5) -> (?,?,?,?,?)"
   ]
  },
  {
   "cell_type": "code",
   "execution_count": 18,
   "id": "bc0af5c4-151f-4f2d-b527-9b51cbc8db20",
   "metadata": {},
   "outputs": [],
   "source": [
    "a=tf.reshape(tf.constant(range(2*3*4*5)),(2,3,4,5))\n",
    "b=-a"
   ]
  },
  {
   "cell_type": "markdown",
   "id": "5b6120e3-8bbd-4994-8573-5ebb42e1081c",
   "metadata": {
    "id": "510e813f-c3de-44e1-967a-317a0e03ce9d",
    "jp-MarkdownHeadingCollapsed": true,
    "tags": []
   },
   "source": [
    "**case 1**  \n",
    "(1,2,3,4,5) stack (1,2,3,4,5) = (2,2,3,4,5) #axis=0"
   ]
  },
  {
   "cell_type": "code",
   "execution_count": 21,
   "id": "5307c3fa-5d68-4bc7-afc2-24346ecdfec5",
   "metadata": {},
   "outputs": [
    {
     "data": {
      "text/plain": [
       "TensorShape([2, 2, 3, 4, 5])"
      ]
     },
     "execution_count": 21,
     "metadata": {},
     "output_type": "execute_result"
    }
   ],
   "source": [
    "tf.stack([a,b],axis=0).shape"
   ]
  },
  {
   "cell_type": "markdown",
   "id": "1429c5b7-a3ec-40e4-aa96-28868496343f",
   "metadata": {
    "id": "510e813f-c3de-44e1-967a-317a0e03ce9d"
   },
   "source": [
    "**case 2**  \n",
    "(2,1,3,4,5) stack (2,1,3,4,5) = (2,2,3,4,5)  #axis=1"
   ]
  },
  {
   "cell_type": "code",
   "execution_count": 22,
   "id": "884c855d-967e-45df-8cd9-3520b50b97e3",
   "metadata": {},
   "outputs": [
    {
     "data": {
      "text/plain": [
       "TensorShape([2, 2, 3, 4, 5])"
      ]
     },
     "execution_count": 22,
     "metadata": {},
     "output_type": "execute_result"
    }
   ],
   "source": [
    "tf.stack([a,b],axis=1).shape"
   ]
  },
  {
   "cell_type": "markdown",
   "id": "31f4e781-1622-4d5e-9084-3fe0cdc995ba",
   "metadata": {
    "id": "510e813f-c3de-44e1-967a-317a0e03ce9d"
   },
   "source": [
    "**case 3**  \n",
    "(2,3,1,4,5) stack (2,3,1,4,5) = (2,3,2,4,5)  #axis=2"
   ]
  },
  {
   "cell_type": "code",
   "execution_count": 23,
   "id": "dee26db3-b841-4d6e-9644-eb3dd6d7c4a1",
   "metadata": {},
   "outputs": [
    {
     "data": {
      "text/plain": [
       "TensorShape([2, 3, 2, 4, 5])"
      ]
     },
     "execution_count": 23,
     "metadata": {},
     "output_type": "execute_result"
    }
   ],
   "source": [
    "tf.stack([a,b],axis=2).shape"
   ]
  },
  {
   "cell_type": "markdown",
   "id": "106c1416-4814-4f6d-a3c5-619ed61745c3",
   "metadata": {
    "id": "510e813f-c3de-44e1-967a-317a0e03ce9d"
   },
   "source": [
    "**case 4**  \n",
    "(2,3,4,1,5) stack (2,3,4,1,5) = (2,2,4,2,5)  #axis=3"
   ]
  },
  {
   "cell_type": "code",
   "execution_count": 24,
   "id": "832d62b5-ed27-4863-a8a4-1abdc8340892",
   "metadata": {},
   "outputs": [
    {
     "data": {
      "text/plain": [
       "TensorShape([2, 3, 4, 2, 5])"
      ]
     },
     "execution_count": 24,
     "metadata": {},
     "output_type": "execute_result"
    }
   ],
   "source": [
    "tf.stack([a,b],axis=3).shape"
   ]
  },
  {
   "cell_type": "code",
   "execution_count": 27,
   "id": "987be604-dbe0-451c-b7f3-4b24ed52fa47",
   "metadata": {},
   "outputs": [
    {
     "data": {
      "text/plain": [
       "TensorShape([2, 3, 4, 2, 5])"
      ]
     },
     "execution_count": 27,
     "metadata": {},
     "output_type": "execute_result"
    }
   ],
   "source": [
    "tf.stack([a,b],axis=-2).shape"
   ]
  },
  {
   "cell_type": "markdown",
   "id": "fe101f09-1676-42f3-b5d4-dba97298ac49",
   "metadata": {
    "id": "510e813f-c3de-44e1-967a-317a0e03ce9d"
   },
   "source": [
    "**case 5**  \n",
    "(2,3,4,5,1) stack (2,3,4,5,1) = (2,3,4,5,2)  #axis=4"
   ]
  },
  {
   "cell_type": "code",
   "execution_count": 25,
   "id": "94843f2f-7ec4-4b35-8251-c8e97171e7ce",
   "metadata": {},
   "outputs": [
    {
     "data": {
      "text/plain": [
       "TensorShape([2, 3, 4, 5, 2])"
      ]
     },
     "execution_count": 25,
     "metadata": {},
     "output_type": "execute_result"
    }
   ],
   "source": [
    "tf.stack([a,b],axis=4).shape"
   ]
  },
  {
   "cell_type": "code",
   "execution_count": 26,
   "id": "51f3e1c6-a4b2-4f01-aaed-05ccb93bb854",
   "metadata": {},
   "outputs": [
    {
     "data": {
      "text/plain": [
       "TensorShape([2, 3, 4, 5, 2])"
      ]
     },
     "execution_count": 26,
     "metadata": {},
     "output_type": "execute_result"
    }
   ],
   "source": [
    "tf.stack([a,b],axis=-1).shape"
   ]
  },
  {
   "cell_type": "markdown",
   "id": "f8142523-afc0-464d-9152-bc309cab3049",
   "metadata": {
    "id": "3c4ad96d-4709-44cd-aa7f-de7d1dc14c5d"
   },
   "source": [
    "`-` 예제: (2,3,4), (2,3,4), (2,3,4)"
   ]
  },
  {
   "cell_type": "code",
   "execution_count": 28,
   "id": "eeb45db6-630a-4950-8284-2867389768a7",
   "metadata": {},
   "outputs": [],
   "source": [
    "a=tf.reshape(tf.constant(range(2*3*4)),(2,3,4))\n",
    "b=-a\n",
    "c=2*a"
   ]
  },
  {
   "cell_type": "markdown",
   "id": "263897e2-be5f-4eab-8852-d1fc1e136608",
   "metadata": {
    "id": "263897e2-be5f-4eab-8852-d1fc1e136608"
   },
   "source": [
    "(예시1) (2,3,4), (2,3,4), (2,3,4) $\\to$ (6,3,4)"
   ]
  },
  {
   "cell_type": "code",
   "execution_count": 30,
   "id": "39c0777e-e7b6-4d46-abec-f1b9e047397a",
   "metadata": {},
   "outputs": [
    {
     "data": {
      "text/plain": [
       "TensorShape([6, 3, 4])"
      ]
     },
     "execution_count": 30,
     "metadata": {},
     "output_type": "execute_result"
    }
   ],
   "source": [
    "tf.concat([a,b,c], axis=0).shape"
   ]
  },
  {
   "cell_type": "markdown",
   "id": "95f5ecd1-2f6a-4c15-ad44-4d5e8f8019eb",
   "metadata": {
    "id": "95f5ecd1-2f6a-4c15-ad44-4d5e8f8019eb"
   },
   "source": [
    "(예시2) (2,3,4), (2,3,4), (2,3,4) $\\to$ (2,9,4)"
   ]
  },
  {
   "cell_type": "code",
   "execution_count": 31,
   "id": "b60ddb49-c0ee-4542-9a12-653f7c520b95",
   "metadata": {},
   "outputs": [
    {
     "data": {
      "text/plain": [
       "TensorShape([2, 9, 4])"
      ]
     },
     "execution_count": 31,
     "metadata": {},
     "output_type": "execute_result"
    }
   ],
   "source": [
    "tf.concat([a,b,c], axis=1).shape"
   ]
  },
  {
   "cell_type": "markdown",
   "id": "a766b651-d3bd-41e7-af2f-0032b09e111b",
   "metadata": {
    "id": "a766b651-d3bd-41e7-af2f-0032b09e111b"
   },
   "source": [
    "(예시3) (2,3,4), (2,3,4), (2,3,4) $\\to$ (2,3,12)"
   ]
  },
  {
   "cell_type": "code",
   "execution_count": 32,
   "id": "fe82bb54-8c76-444f-a7aa-f37697e67bd3",
   "metadata": {},
   "outputs": [
    {
     "data": {
      "text/plain": [
       "TensorShape([2, 3, 12])"
      ]
     },
     "execution_count": 32,
     "metadata": {},
     "output_type": "execute_result"
    }
   ],
   "source": [
    "tf.concat([a,b,c], axis=2).shape"
   ]
  },
  {
   "cell_type": "markdown",
   "id": "1e5cd1cf-3218-4ea3-b301-9a343bdf4c18",
   "metadata": {
    "id": "1e5cd1cf-3218-4ea3-b301-9a343bdf4c18"
   },
   "source": [
    "(예시4) (2,3,4), (2,3,4), (2,3,4) $\\to$ (3,2,3,4)\n"
   ]
  },
  {
   "cell_type": "code",
   "execution_count": 33,
   "id": "682a376b-c9d0-4c73-a1d0-b3bd30133aa9",
   "metadata": {},
   "outputs": [
    {
     "data": {
      "text/plain": [
       "TensorShape([3, 2, 3, 4])"
      ]
     },
     "execution_count": 33,
     "metadata": {},
     "output_type": "execute_result"
    }
   ],
   "source": [
    "tf.stack([a,b,c], axis=0).shape"
   ]
  },
  {
   "cell_type": "markdown",
   "id": "a0a57709-7730-4719-8f60-6bc1f4d75e9c",
   "metadata": {
    "id": "a0a57709-7730-4719-8f60-6bc1f4d75e9c"
   },
   "source": [
    "(예시5) (2,3,4), (2,3,4), (2,3,4) $\\to$ (2,3,3,4)"
   ]
  },
  {
   "cell_type": "code",
   "execution_count": 34,
   "id": "4522d4a6-041d-4fe4-8aff-8d21e5fd2dc8",
   "metadata": {},
   "outputs": [
    {
     "data": {
      "text/plain": [
       "TensorShape([2, 3, 3, 4])"
      ]
     },
     "execution_count": 34,
     "metadata": {},
     "output_type": "execute_result"
    }
   ],
   "source": [
    "tf.stack([a,b,c], axis=1).shape"
   ]
  },
  {
   "cell_type": "markdown",
   "id": "dacbc0ed-c2c5-4d75-a14d-4605c72ca672",
   "metadata": {
    "id": "dacbc0ed-c2c5-4d75-a14d-4605c72ca672"
   },
   "source": [
    "(예시6) (2,3,4), (2,3,4), (2,3,4) $\\to$ (2,3,3,4) "
   ]
  },
  {
   "cell_type": "code",
   "execution_count": 35,
   "id": "5dcdca35-e579-402e-8604-487402871dab",
   "metadata": {},
   "outputs": [
    {
     "data": {
      "text/plain": [
       "TensorShape([2, 3, 3, 4])"
      ]
     },
     "execution_count": 35,
     "metadata": {},
     "output_type": "execute_result"
    }
   ],
   "source": [
    "tf.stack([a,b,c], axis=2).shape"
   ]
  },
  {
   "cell_type": "code",
   "execution_count": 36,
   "id": "f46a88bf-b3be-43d2-8fdc-1999bd4a4b0d",
   "metadata": {},
   "outputs": [
    {
     "data": {
      "text/plain": [
       "TensorShape([2, 3, 3, 4])"
      ]
     },
     "execution_count": 36,
     "metadata": {},
     "output_type": "execute_result"
    }
   ],
   "source": [
    "tf.stack([a,b,c], axis=-2).shape"
   ]
  },
  {
   "cell_type": "markdown",
   "id": "62e59896-b9b9-45d6-8c37-2a26d43ae6dd",
   "metadata": {
    "id": "62e59896-b9b9-45d6-8c37-2a26d43ae6dd"
   },
   "source": [
    "(예시7) (2,3,4), (2,3,4), (2,3,4) $\\to$ (2,3,4,3) "
   ]
  },
  {
   "cell_type": "code",
   "execution_count": 37,
   "id": "ecffaa89-9fd5-4c38-9889-9f5ead127c4d",
   "metadata": {},
   "outputs": [
    {
     "data": {
      "text/plain": [
       "TensorShape([2, 3, 4, 3])"
      ]
     },
     "execution_count": 37,
     "metadata": {},
     "output_type": "execute_result"
    }
   ],
   "source": [
    "tf.stack([a,b,c], axis=3).shape"
   ]
  },
  {
   "cell_type": "code",
   "execution_count": 38,
   "id": "68663a73-f626-4cf9-b9f6-2558c453d72f",
   "metadata": {},
   "outputs": [
    {
     "data": {
      "text/plain": [
       "TensorShape([2, 3, 4, 3])"
      ]
     },
     "execution_count": 38,
     "metadata": {},
     "output_type": "execute_result"
    }
   ],
   "source": [
    "tf.stack([a,b,c], axis=-1).shape"
   ]
  },
  {
   "cell_type": "markdown",
   "id": "46587709-fedb-49fa-9e28-2786cd0564ff",
   "metadata": {},
   "source": [
    "- concat과 stack의 차이점을 잘 알고 잇짜!"
   ]
  },
  {
   "cell_type": "markdown",
   "id": "3f6939a1-c76b-4c03-b11e-7f76281a168a",
   "metadata": {
    "id": "3f6939a1-c76b-4c03-b11e-7f76281a168a"
   },
   "source": [
    "`-` 예제: (2,3,4) (4,3,4) $\\to$ (6,3,4) "
   ]
  },
  {
   "cell_type": "code",
   "execution_count": 44,
   "id": "773f51c0-19e6-4f2a-9317-dcf23e2d89bb",
   "metadata": {},
   "outputs": [],
   "source": [
    "a=tf.reshape(tf.constant(range(2*3*4)),(2,3,4))\n",
    "b=tf.reshape(-tf.constant(range(4*3*4)),(4,3,4))"
   ]
  },
  {
   "cell_type": "code",
   "execution_count": 48,
   "id": "8a15c95c-a287-4c82-93d3-432ecb4b488f",
   "metadata": {},
   "outputs": [
    {
     "data": {
      "text/plain": [
       "TensorShape([6, 3, 4])"
      ]
     },
     "execution_count": 48,
     "metadata": {},
     "output_type": "execute_result"
    }
   ],
   "source": [
    "tf.concat([a,b],axis=0).shape"
   ]
  },
  {
   "cell_type": "code",
   "execution_count": 50,
   "id": "55ff14e5-05b6-4129-a7ef-8a627b9daaf5",
   "metadata": {},
   "outputs": [
    {
     "ename": "InvalidArgumentError",
     "evalue": "ConcatOp : Dimensions of inputs should match: shape[0] = [2,3,4] vs. shape[1] = [4,3,4] [Op:ConcatV2] name: concat",
     "output_type": "error",
     "traceback": [
      "\u001b[0;31m---------------------------------------------------------------------------\u001b[0m",
      "\u001b[0;31mInvalidArgumentError\u001b[0m                      Traceback (most recent call last)",
      "Input \u001b[0;32mIn [50]\u001b[0m, in \u001b[0;36m<cell line: 1>\u001b[0;34m()\u001b[0m\n\u001b[0;32m----> 1\u001b[0m \u001b[43mtf\u001b[49m\u001b[38;5;241;43m.\u001b[39;49m\u001b[43mconcat\u001b[49m\u001b[43m(\u001b[49m\u001b[43m[\u001b[49m\u001b[43ma\u001b[49m\u001b[43m,\u001b[49m\u001b[43mb\u001b[49m\u001b[43m]\u001b[49m\u001b[43m,\u001b[49m\u001b[43maxis\u001b[49m\u001b[38;5;241;43m=\u001b[39;49m\u001b[38;5;241;43m1\u001b[39;49m\u001b[43m)\u001b[49m\u001b[38;5;241m.\u001b[39mshape\n",
      "File \u001b[0;32m~/anaconda3/envs/py310/lib/python3.10/site-packages/tensorflow/python/util/traceback_utils.py:153\u001b[0m, in \u001b[0;36mfilter_traceback.<locals>.error_handler\u001b[0;34m(*args, **kwargs)\u001b[0m\n\u001b[1;32m    151\u001b[0m \u001b[38;5;28;01mexcept\u001b[39;00m \u001b[38;5;167;01mException\u001b[39;00m \u001b[38;5;28;01mas\u001b[39;00m e:\n\u001b[1;32m    152\u001b[0m   filtered_tb \u001b[38;5;241m=\u001b[39m _process_traceback_frames(e\u001b[38;5;241m.\u001b[39m__traceback__)\n\u001b[0;32m--> 153\u001b[0m   \u001b[38;5;28;01mraise\u001b[39;00m e\u001b[38;5;241m.\u001b[39mwith_traceback(filtered_tb) \u001b[38;5;28;01mfrom\u001b[39;00m \u001b[38;5;28mNone\u001b[39m\n\u001b[1;32m    154\u001b[0m \u001b[38;5;28;01mfinally\u001b[39;00m:\n\u001b[1;32m    155\u001b[0m   \u001b[38;5;28;01mdel\u001b[39;00m filtered_tb\n",
      "File \u001b[0;32m~/anaconda3/envs/py310/lib/python3.10/site-packages/tensorflow/python/framework/ops.py:7107\u001b[0m, in \u001b[0;36mraise_from_not_ok_status\u001b[0;34m(e, name)\u001b[0m\n\u001b[1;32m   7105\u001b[0m \u001b[38;5;28;01mdef\u001b[39;00m \u001b[38;5;21mraise_from_not_ok_status\u001b[39m(e, name):\n\u001b[1;32m   7106\u001b[0m   e\u001b[38;5;241m.\u001b[39mmessage \u001b[38;5;241m+\u001b[39m\u001b[38;5;241m=\u001b[39m (\u001b[38;5;124m\"\u001b[39m\u001b[38;5;124m name: \u001b[39m\u001b[38;5;124m\"\u001b[39m \u001b[38;5;241m+\u001b[39m name \u001b[38;5;28;01mif\u001b[39;00m name \u001b[38;5;129;01mis\u001b[39;00m \u001b[38;5;129;01mnot\u001b[39;00m \u001b[38;5;28;01mNone\u001b[39;00m \u001b[38;5;28;01melse\u001b[39;00m \u001b[38;5;124m\"\u001b[39m\u001b[38;5;124m\"\u001b[39m)\n\u001b[0;32m-> 7107\u001b[0m   \u001b[38;5;28;01mraise\u001b[39;00m core\u001b[38;5;241m.\u001b[39m_status_to_exception(e) \u001b[38;5;28;01mfrom\u001b[39;00m \u001b[38;5;28mNone\u001b[39m\n",
      "\u001b[0;31mInvalidArgumentError\u001b[0m: ConcatOp : Dimensions of inputs should match: shape[0] = [2,3,4] vs. shape[1] = [4,3,4] [Op:ConcatV2] name: concat"
     ]
    }
   ],
   "source": [
    "tf.concat([a,b],axis=1).shape\n",
    "#dimension이 달라서 안된다."
   ]
  },
  {
   "cell_type": "code",
   "execution_count": 51,
   "id": "046c7736-d093-405d-840b-c4a4a0f4b755",
   "metadata": {},
   "outputs": [
    {
     "ename": "InvalidArgumentError",
     "evalue": "ConcatOp : Dimensions of inputs should match: shape[0] = [2,3,4] vs. shape[1] = [4,3,4] [Op:ConcatV2] name: concat",
     "output_type": "error",
     "traceback": [
      "\u001b[0;31m---------------------------------------------------------------------------\u001b[0m",
      "\u001b[0;31mInvalidArgumentError\u001b[0m                      Traceback (most recent call last)",
      "Input \u001b[0;32mIn [51]\u001b[0m, in \u001b[0;36m<cell line: 1>\u001b[0;34m()\u001b[0m\n\u001b[0;32m----> 1\u001b[0m \u001b[43mtf\u001b[49m\u001b[38;5;241;43m.\u001b[39;49m\u001b[43mconcat\u001b[49m\u001b[43m(\u001b[49m\u001b[43m[\u001b[49m\u001b[43ma\u001b[49m\u001b[43m,\u001b[49m\u001b[43mb\u001b[49m\u001b[43m]\u001b[49m\u001b[43m,\u001b[49m\u001b[43maxis\u001b[49m\u001b[38;5;241;43m=\u001b[39;49m\u001b[38;5;241;43m-\u001b[39;49m\u001b[38;5;241;43m1\u001b[39;49m\u001b[43m)\u001b[49m\u001b[38;5;241m.\u001b[39mshape\n",
      "File \u001b[0;32m~/anaconda3/envs/py310/lib/python3.10/site-packages/tensorflow/python/util/traceback_utils.py:153\u001b[0m, in \u001b[0;36mfilter_traceback.<locals>.error_handler\u001b[0;34m(*args, **kwargs)\u001b[0m\n\u001b[1;32m    151\u001b[0m \u001b[38;5;28;01mexcept\u001b[39;00m \u001b[38;5;167;01mException\u001b[39;00m \u001b[38;5;28;01mas\u001b[39;00m e:\n\u001b[1;32m    152\u001b[0m   filtered_tb \u001b[38;5;241m=\u001b[39m _process_traceback_frames(e\u001b[38;5;241m.\u001b[39m__traceback__)\n\u001b[0;32m--> 153\u001b[0m   \u001b[38;5;28;01mraise\u001b[39;00m e\u001b[38;5;241m.\u001b[39mwith_traceback(filtered_tb) \u001b[38;5;28;01mfrom\u001b[39;00m \u001b[38;5;28mNone\u001b[39m\n\u001b[1;32m    154\u001b[0m \u001b[38;5;28;01mfinally\u001b[39;00m:\n\u001b[1;32m    155\u001b[0m   \u001b[38;5;28;01mdel\u001b[39;00m filtered_tb\n",
      "File \u001b[0;32m~/anaconda3/envs/py310/lib/python3.10/site-packages/tensorflow/python/framework/ops.py:7107\u001b[0m, in \u001b[0;36mraise_from_not_ok_status\u001b[0;34m(e, name)\u001b[0m\n\u001b[1;32m   7105\u001b[0m \u001b[38;5;28;01mdef\u001b[39;00m \u001b[38;5;21mraise_from_not_ok_status\u001b[39m(e, name):\n\u001b[1;32m   7106\u001b[0m   e\u001b[38;5;241m.\u001b[39mmessage \u001b[38;5;241m+\u001b[39m\u001b[38;5;241m=\u001b[39m (\u001b[38;5;124m\"\u001b[39m\u001b[38;5;124m name: \u001b[39m\u001b[38;5;124m\"\u001b[39m \u001b[38;5;241m+\u001b[39m name \u001b[38;5;28;01mif\u001b[39;00m name \u001b[38;5;129;01mis\u001b[39;00m \u001b[38;5;129;01mnot\u001b[39;00m \u001b[38;5;28;01mNone\u001b[39;00m \u001b[38;5;28;01melse\u001b[39;00m \u001b[38;5;124m\"\u001b[39m\u001b[38;5;124m\"\u001b[39m)\n\u001b[0;32m-> 7107\u001b[0m   \u001b[38;5;28;01mraise\u001b[39;00m core\u001b[38;5;241m.\u001b[39m_status_to_exception(e) \u001b[38;5;28;01mfrom\u001b[39;00m \u001b[38;5;28mNone\u001b[39m\n",
      "\u001b[0;31mInvalidArgumentError\u001b[0m: ConcatOp : Dimensions of inputs should match: shape[0] = [2,3,4] vs. shape[1] = [4,3,4] [Op:ConcatV2] name: concat"
     ]
    }
   ],
   "source": [
    "tf.concat([a,b],axis=-1).shape\n",
    "#dimension이 달라서 안된다."
   ]
  },
  {
   "cell_type": "markdown",
   "id": "1b5c6f53-0c20-4891-b4aa-f4f4ab5a28e5",
   "metadata": {
    "id": "1b5c6f53-0c20-4891-b4aa-f4f4ab5a28e5"
   },
   "source": [
    "`-` (2,2) @ (2,) 의 연산? "
   ]
  },
  {
   "cell_type": "markdown",
   "id": "96eb8f64-2f36-49fc-ba70-ae9a6677a6e2",
   "metadata": {},
   "source": [
    "**numpy**"
   ]
  },
  {
   "cell_type": "code",
   "execution_count": 54,
   "id": "35337414-b0b6-4e37-b24c-a3899e3eb9ca",
   "metadata": {},
   "outputs": [
    {
     "data": {
      "text/plain": [
       "array([ 77, -88])"
      ]
     },
     "execution_count": 54,
     "metadata": {},
     "output_type": "execute_result"
    }
   ],
   "source": [
    "#numpy\n",
    "np.array([[1,0],[0,1]])@ np.array([77,-88])"
   ]
  },
  {
   "cell_type": "code",
   "execution_count": 55,
   "id": "0623cb53-9a95-4c3b-bb61-e0c802acf33f",
   "metadata": {},
   "outputs": [
    {
     "data": {
      "text/plain": [
       "array([ 77, -88])"
      ]
     },
     "execution_count": 55,
     "metadata": {},
     "output_type": "execute_result"
    }
   ],
   "source": [
    "#numpy\n",
    "np.array([77,-88]) @ np.array([[1,0],[0,1]])"
   ]
  },
  {
   "cell_type": "markdown",
   "id": "85d0245b-6e99-4470-9171-2f4ce4deb12b",
   "metadata": {},
   "source": [
    "- 알아서 열/행벡터인지 인식하여 해준다?"
   ]
  },
  {
   "cell_type": "code",
   "execution_count": 56,
   "id": "3ae5cf1b-2dfd-40ee-8449-88ab8d917258",
   "metadata": {},
   "outputs": [
    {
     "data": {
      "text/plain": [
       "array([[ 77],\n",
       "       [-88]])"
      ]
     },
     "execution_count": 56,
     "metadata": {},
     "output_type": "execute_result"
    }
   ],
   "source": [
    "#열벡터로 지정해서 한다면?\n",
    "np.array([[1,0],[0,1]])@ np.array([77,-88]).reshape(2,1)"
   ]
  },
  {
   "cell_type": "code",
   "execution_count": 58,
   "id": "33a2ffbd-6fdd-4b81-a9b5-7fe459fcaf2e",
   "metadata": {},
   "outputs": [
    {
     "ename": "ValueError",
     "evalue": "matmul: Input operand 1 has a mismatch in its core dimension 0, with gufunc signature (n?,k),(k,m?)->(n?,m?) (size 2 is different from 1)",
     "output_type": "error",
     "traceback": [
      "\u001b[0;31m---------------------------------------------------------------------------\u001b[0m",
      "\u001b[0;31mValueError\u001b[0m                                Traceback (most recent call last)",
      "Input \u001b[0;32mIn [58]\u001b[0m, in \u001b[0;36m<cell line: 2>\u001b[0;34m()\u001b[0m\n\u001b[1;32m      1\u001b[0m \u001b[38;5;66;03m#열벡터로 지정해서 한다면?_이 때는 사이즈를 명시해주니까 계산 에러남.\u001b[39;00m\n\u001b[0;32m----> 2\u001b[0m \u001b[43mnp\u001b[49m\u001b[38;5;241;43m.\u001b[39;49m\u001b[43marray\u001b[49m\u001b[43m(\u001b[49m\u001b[43m[\u001b[49m\u001b[38;5;241;43m77\u001b[39;49m\u001b[43m,\u001b[49m\u001b[38;5;241;43m-\u001b[39;49m\u001b[38;5;241;43m88\u001b[39;49m\u001b[43m]\u001b[49m\u001b[43m)\u001b[49m\u001b[38;5;241;43m.\u001b[39;49m\u001b[43mreshape\u001b[49m\u001b[43m(\u001b[49m\u001b[38;5;241;43m2\u001b[39;49m\u001b[43m,\u001b[49m\u001b[38;5;241;43m1\u001b[39;49m\u001b[43m)\u001b[49m\u001b[43m \u001b[49m\u001b[38;5;241;43m@\u001b[39;49m\u001b[43m \u001b[49m\u001b[43mnp\u001b[49m\u001b[38;5;241;43m.\u001b[39;49m\u001b[43marray\u001b[49m\u001b[43m(\u001b[49m\u001b[43m[\u001b[49m\u001b[43m[\u001b[49m\u001b[38;5;241;43m1\u001b[39;49m\u001b[43m,\u001b[49m\u001b[38;5;241;43m0\u001b[39;49m\u001b[43m]\u001b[49m\u001b[43m,\u001b[49m\u001b[43m[\u001b[49m\u001b[38;5;241;43m0\u001b[39;49m\u001b[43m,\u001b[49m\u001b[38;5;241;43m1\u001b[39;49m\u001b[43m]\u001b[49m\u001b[43m]\u001b[49m\u001b[43m)\u001b[49m\n",
      "\u001b[0;31mValueError\u001b[0m: matmul: Input operand 1 has a mismatch in its core dimension 0, with gufunc signature (n?,k),(k,m?)->(n?,m?) (size 2 is different from 1)"
     ]
    }
   ],
   "source": [
    "#열벡터로 지정해서 한다면?_이 때는 사이즈를 명시해주니까 계산 에러남.\n",
    "np.array([77,-88]).reshape(2,1) @ np.array([[1,0],[0,1]])"
   ]
  },
  {
   "cell_type": "code",
   "execution_count": 59,
   "id": "79579156-a657-404f-99e7-b5fb8dd27248",
   "metadata": {},
   "outputs": [
    {
     "data": {
      "text/plain": [
       "array([[ 77, -88]])"
      ]
     },
     "execution_count": 59,
     "metadata": {},
     "output_type": "execute_result"
    }
   ],
   "source": [
    "#행벡터로 지정해서 한다면?\n",
    "np.array([77,-88]).reshape(1,2) @ np.array([[1,0],[0,1]])"
   ]
  },
  {
   "cell_type": "markdown",
   "id": "adf6e1ea-41a4-46c8-971a-2f5f1dafaa80",
   "metadata": {},
   "source": [
    "- 넘파이에서 길이가 2인 벡터는 매트릭스 앞뒤로 곱해주면 알아서 해석이 되어 결과가 나옴. 하지만 결과는 1차원 유지.\n",
    "- 명시적으로 shape을 바꿔주면 결과도 shape에 맞춰서 나옴. 에러메세지도 나온다."
   ]
  },
  {
   "cell_type": "markdown",
   "id": "c3c2616e-f1aa-4760-aa13-ade42b3d30aa",
   "metadata": {},
   "source": [
    "**tensorflow**\n",
    "\n",
    "- 하지만 tf.constant는 알아서 계산은 안됨."
   ]
  },
  {
   "cell_type": "code",
   "execution_count": 68,
   "id": "d1e5863e-814e-416e-88bf-92f862fcc21f",
   "metadata": {},
   "outputs": [],
   "source": [
    "I=tf.constant([[1.0,0.0],[0.0,1.0]])\n",
    "x=tf.constant([77.0,-88.0])"
   ]
  },
  {
   "cell_type": "code",
   "execution_count": 69,
   "id": "57c35d62-40a5-4f22-abf6-bcd89403a190",
   "metadata": {},
   "outputs": [
    {
     "ename": "InvalidArgumentError",
     "evalue": "In[0] and In[1] has different ndims: [2,2] vs. [2] [Op:MatMul]",
     "output_type": "error",
     "traceback": [
      "\u001b[0;31m---------------------------------------------------------------------------\u001b[0m",
      "\u001b[0;31mInvalidArgumentError\u001b[0m                      Traceback (most recent call last)",
      "Input \u001b[0;32mIn [69]\u001b[0m, in \u001b[0;36m<cell line: 1>\u001b[0;34m()\u001b[0m\n\u001b[0;32m----> 1\u001b[0m \u001b[43mI\u001b[49m\u001b[38;5;129;43m@x\u001b[39;49m\n",
      "File \u001b[0;32m~/anaconda3/envs/py310/lib/python3.10/site-packages/tensorflow/python/util/traceback_utils.py:153\u001b[0m, in \u001b[0;36mfilter_traceback.<locals>.error_handler\u001b[0;34m(*args, **kwargs)\u001b[0m\n\u001b[1;32m    151\u001b[0m \u001b[38;5;28;01mexcept\u001b[39;00m \u001b[38;5;167;01mException\u001b[39;00m \u001b[38;5;28;01mas\u001b[39;00m e:\n\u001b[1;32m    152\u001b[0m   filtered_tb \u001b[38;5;241m=\u001b[39m _process_traceback_frames(e\u001b[38;5;241m.\u001b[39m__traceback__)\n\u001b[0;32m--> 153\u001b[0m   \u001b[38;5;28;01mraise\u001b[39;00m e\u001b[38;5;241m.\u001b[39mwith_traceback(filtered_tb) \u001b[38;5;28;01mfrom\u001b[39;00m \u001b[38;5;28mNone\u001b[39m\n\u001b[1;32m    154\u001b[0m \u001b[38;5;28;01mfinally\u001b[39;00m:\n\u001b[1;32m    155\u001b[0m   \u001b[38;5;28;01mdel\u001b[39;00m filtered_tb\n",
      "File \u001b[0;32m~/anaconda3/envs/py310/lib/python3.10/site-packages/tensorflow/python/framework/ops.py:7107\u001b[0m, in \u001b[0;36mraise_from_not_ok_status\u001b[0;34m(e, name)\u001b[0m\n\u001b[1;32m   7105\u001b[0m \u001b[38;5;28;01mdef\u001b[39;00m \u001b[38;5;21mraise_from_not_ok_status\u001b[39m(e, name):\n\u001b[1;32m   7106\u001b[0m   e\u001b[38;5;241m.\u001b[39mmessage \u001b[38;5;241m+\u001b[39m\u001b[38;5;241m=\u001b[39m (\u001b[38;5;124m\"\u001b[39m\u001b[38;5;124m name: \u001b[39m\u001b[38;5;124m\"\u001b[39m \u001b[38;5;241m+\u001b[39m name \u001b[38;5;28;01mif\u001b[39;00m name \u001b[38;5;129;01mis\u001b[39;00m \u001b[38;5;129;01mnot\u001b[39;00m \u001b[38;5;28;01mNone\u001b[39;00m \u001b[38;5;28;01melse\u001b[39;00m \u001b[38;5;124m\"\u001b[39m\u001b[38;5;124m\"\u001b[39m)\n\u001b[0;32m-> 7107\u001b[0m   \u001b[38;5;28;01mraise\u001b[39;00m core\u001b[38;5;241m.\u001b[39m_status_to_exception(e) \u001b[38;5;28;01mfrom\u001b[39;00m \u001b[38;5;28mNone\u001b[39m\n",
      "\u001b[0;31mInvalidArgumentError\u001b[0m: In[0] and In[1] has different ndims: [2,2] vs. [2] [Op:MatMul]"
     ]
    }
   ],
   "source": [
    "I@x"
   ]
  },
  {
   "cell_type": "code",
   "execution_count": 70,
   "id": "a7cfc53a-d1ed-4b6e-97c6-b54fa6836759",
   "metadata": {},
   "outputs": [
    {
     "ename": "InvalidArgumentError",
     "evalue": "In[0] and In[1] has different ndims: [2] vs. [2,2] [Op:MatMul]",
     "output_type": "error",
     "traceback": [
      "\u001b[0;31m---------------------------------------------------------------------------\u001b[0m",
      "\u001b[0;31mInvalidArgumentError\u001b[0m                      Traceback (most recent call last)",
      "Input \u001b[0;32mIn [70]\u001b[0m, in \u001b[0;36m<cell line: 1>\u001b[0;34m()\u001b[0m\n\u001b[0;32m----> 1\u001b[0m \u001b[43mx\u001b[49m\u001b[38;5;129;43m@I\u001b[39;49m\n",
      "File \u001b[0;32m~/anaconda3/envs/py310/lib/python3.10/site-packages/tensorflow/python/util/traceback_utils.py:153\u001b[0m, in \u001b[0;36mfilter_traceback.<locals>.error_handler\u001b[0;34m(*args, **kwargs)\u001b[0m\n\u001b[1;32m    151\u001b[0m \u001b[38;5;28;01mexcept\u001b[39;00m \u001b[38;5;167;01mException\u001b[39;00m \u001b[38;5;28;01mas\u001b[39;00m e:\n\u001b[1;32m    152\u001b[0m   filtered_tb \u001b[38;5;241m=\u001b[39m _process_traceback_frames(e\u001b[38;5;241m.\u001b[39m__traceback__)\n\u001b[0;32m--> 153\u001b[0m   \u001b[38;5;28;01mraise\u001b[39;00m e\u001b[38;5;241m.\u001b[39mwith_traceback(filtered_tb) \u001b[38;5;28;01mfrom\u001b[39;00m \u001b[38;5;28mNone\u001b[39m\n\u001b[1;32m    154\u001b[0m \u001b[38;5;28;01mfinally\u001b[39;00m:\n\u001b[1;32m    155\u001b[0m   \u001b[38;5;28;01mdel\u001b[39;00m filtered_tb\n",
      "File \u001b[0;32m~/anaconda3/envs/py310/lib/python3.10/site-packages/tensorflow/python/framework/ops.py:7107\u001b[0m, in \u001b[0;36mraise_from_not_ok_status\u001b[0;34m(e, name)\u001b[0m\n\u001b[1;32m   7105\u001b[0m \u001b[38;5;28;01mdef\u001b[39;00m \u001b[38;5;21mraise_from_not_ok_status\u001b[39m(e, name):\n\u001b[1;32m   7106\u001b[0m   e\u001b[38;5;241m.\u001b[39mmessage \u001b[38;5;241m+\u001b[39m\u001b[38;5;241m=\u001b[39m (\u001b[38;5;124m\"\u001b[39m\u001b[38;5;124m name: \u001b[39m\u001b[38;5;124m\"\u001b[39m \u001b[38;5;241m+\u001b[39m name \u001b[38;5;28;01mif\u001b[39;00m name \u001b[38;5;129;01mis\u001b[39;00m \u001b[38;5;129;01mnot\u001b[39;00m \u001b[38;5;28;01mNone\u001b[39;00m \u001b[38;5;28;01melse\u001b[39;00m \u001b[38;5;124m\"\u001b[39m\u001b[38;5;124m\"\u001b[39m)\n\u001b[0;32m-> 7107\u001b[0m   \u001b[38;5;28;01mraise\u001b[39;00m core\u001b[38;5;241m.\u001b[39m_status_to_exception(e) \u001b[38;5;28;01mfrom\u001b[39;00m \u001b[38;5;28mNone\u001b[39m\n",
      "\u001b[0;31mInvalidArgumentError\u001b[0m: In[0] and In[1] has different ndims: [2] vs. [2,2] [Op:MatMul]"
     ]
    }
   ],
   "source": [
    "x@I"
   ]
  },
  {
   "cell_type": "code",
   "execution_count": 71,
   "id": "70aaf112-ea29-4688-8d4d-9e262f04e5c2",
   "metadata": {},
   "outputs": [
    {
     "data": {
      "text/plain": [
       "<tf.Tensor: shape=(2, 1), dtype=float32, numpy=\n",
       "array([[ 77.],\n",
       "       [-88.]], dtype=float32)>"
      ]
     },
     "execution_count": 71,
     "metadata": {},
     "output_type": "execute_result"
    }
   ],
   "source": [
    "I @ tf.reshape(x,(2,1))"
   ]
  },
  {
   "cell_type": "code",
   "execution_count": 74,
   "id": "34deb5dc-e3c1-4ac7-b1e3-98a5bf73e65a",
   "metadata": {
    "tags": []
   },
   "outputs": [
    {
     "data": {
      "text/plain": [
       "<tf.Tensor: shape=(1, 2), dtype=float32, numpy=array([[ 77., -88.]], dtype=float32)>"
      ]
     },
     "execution_count": 74,
     "metadata": {},
     "output_type": "execute_result"
    }
   ],
   "source": [
    "tf.reshape(x,(1,2)) @ I "
   ]
  },
  {
   "cell_type": "code",
   "execution_count": 79,
   "id": "8f2d5fe2-ca54-4777-b7e8-562961eae79b",
   "metadata": {
    "tags": []
   },
   "outputs": [
    {
     "data": {
      "text/plain": [
       "<tf.Tensor: shape=(1, 2), dtype=float32, numpy=array([[ 77., -88.]], dtype=float32)>"
      ]
     },
     "execution_count": 79,
     "metadata": {},
     "output_type": "execute_result"
    }
   ],
   "source": [
    "tf.reshape(x,[1,2]) @ I "
   ]
  },
  {
   "cell_type": "code",
   "execution_count": 76,
   "id": "0e8c00ff-e122-4efe-9160-9edfd775f80b",
   "metadata": {},
   "outputs": [
    {
     "data": {
      "text/plain": [
       "<tf.Tensor: shape=(2, 1), dtype=float32, numpy=\n",
       "array([[ 77.],\n",
       "       [-88.]], dtype=float32)>"
      ]
     },
     "execution_count": 76,
     "metadata": {},
     "output_type": "execute_result"
    }
   ],
   "source": [
    "tf.reshape(x,(2,1))"
   ]
  },
  {
   "cell_type": "markdown",
   "id": "7156cf5b-1691-4065-9eea-4330d59d415f",
   "metadata": {
    "id": "7156cf5b-1691-4065-9eea-4330d59d415f"
   },
   "source": [
    "---"
   ]
  },
  {
   "cell_type": "markdown",
   "id": "b31b964e-b494-40bf-b801-7b8b4000c60c",
   "metadata": {
    "id": "b31b964e-b494-40bf-b801-7b8b4000c60c"
   },
   "source": [
    "### tf.Variable"
   ]
  },
  {
   "cell_type": "markdown",
   "id": "7a6cf761-8eeb-49ea-b7c0-4371f868ce2a",
   "metadata": {
    "id": "7a6cf761-8eeb-49ea-b7c0-4371f868ce2a"
   },
   "source": [
    "#### 선언 "
   ]
  },
  {
   "cell_type": "markdown",
   "id": "e6f92c5c-3f74-4e5b-98b2-8c7f915bc056",
   "metadata": {
    "id": "e6f92c5c-3f74-4e5b-98b2-8c7f915bc056"
   },
   "source": [
    "`-` tf.Variable()로 선언"
   ]
  },
  {
   "cell_type": "code",
   "execution_count": 80,
   "id": "c93a4061-dda3-4ac1-860d-539a623e4c17",
   "metadata": {},
   "outputs": [
    {
     "data": {
      "text/plain": [
       "<tf.Variable 'Variable:0' shape=(4,) dtype=int32, numpy=array([1, 2, 3, 4], dtype=int32)>"
      ]
     },
     "execution_count": 80,
     "metadata": {},
     "output_type": "execute_result"
    }
   ],
   "source": [
    "tf.Variable([1,2,3,4])"
   ]
  },
  {
   "cell_type": "code",
   "execution_count": 81,
   "id": "e2895751-abd3-4677-a23a-5ba85d4646f1",
   "metadata": {},
   "outputs": [
    {
     "data": {
      "text/plain": [
       "<tf.Variable 'Variable:0' shape=(4,) dtype=float32, numpy=array([1., 2., 3., 4.], dtype=float32)>"
      ]
     },
     "execution_count": 81,
     "metadata": {},
     "output_type": "execute_result"
    }
   ],
   "source": [
    "tf.Variable([1.0,2.0,3.0,4.0])"
   ]
  },
  {
   "cell_type": "markdown",
   "id": "8aa59928-ab87-44af-820f-712aa05989a7",
   "metadata": {
    "id": "8aa59928-ab87-44af-820f-712aa05989a7"
   },
   "source": [
    "`-` tf.constant() 선언후 변환"
   ]
  },
  {
   "cell_type": "code",
   "execution_count": 85,
   "id": "80c8ef38-66e1-4b21-a3e6-1217faf57446",
   "metadata": {},
   "outputs": [
    {
     "data": {
      "text/plain": [
       "tensorflow.python.ops.resource_variable_ops.ResourceVariable"
      ]
     },
     "execution_count": 85,
     "metadata": {},
     "output_type": "execute_result"
    }
   ],
   "source": [
    "_a=tf.Variable([1,2,3,4])\n",
    "type(_a)   #약간 우리가 이전에 쓰던 모양과 다르다."
   ]
  },
  {
   "cell_type": "code",
   "execution_count": 87,
   "id": "4760b155-a5fa-4bf4-8d78-044b39a838bc",
   "metadata": {},
   "outputs": [
    {
     "data": {
      "text/plain": [
       "<tf.Variable 'Variable:0' shape=(4,) dtype=int32, numpy=array([1, 2, 3, 4], dtype=int32)>"
      ]
     },
     "execution_count": 87,
     "metadata": {},
     "output_type": "execute_result"
    }
   ],
   "source": [
    "tf.Variable(tf.constant([1,2,3,4]))"
   ]
  },
  {
   "cell_type": "markdown",
   "id": "37274037-f857-4c9f-9c00-0805a1be7952",
   "metadata": {
    "id": "37274037-f857-4c9f-9c00-0805a1be7952"
   },
   "source": [
    "`-` np 등으로 선언후 변환 "
   ]
  },
  {
   "cell_type": "code",
   "execution_count": 89,
   "id": "9c360006-755d-425b-8f2c-e9a07b1688e6",
   "metadata": {},
   "outputs": [
    {
     "data": {
      "text/plain": [
       "<tf.Variable 'Variable:0' shape=(4,) dtype=int64, numpy=array([1, 2, 3, 4])>"
      ]
     },
     "execution_count": 89,
     "metadata": {},
     "output_type": "execute_result"
    }
   ],
   "source": [
    "tf.Variable(np.array([1,2,3,4]))"
   ]
  },
  {
   "cell_type": "markdown",
   "id": "0b4e1a3c-34a3-425c-ad2d-729563429cb4",
   "metadata": {},
   "source": [
    "❓ : `tf.Variable` 이 가진 장점"
   ]
  },
  {
   "cell_type": "markdown",
   "id": "4fb4ad1b-af3f-4d1b-8482-e0cb3635a97f",
   "metadata": {
    "id": "4fb4ad1b-af3f-4d1b-8482-e0cb3635a97f"
   },
   "source": [
    "#### 타입"
   ]
  },
  {
   "cell_type": "code",
   "execution_count": 90,
   "id": "4dde45d4-d796-4ddd-aaf5-82de5762e84e",
   "metadata": {},
   "outputs": [
    {
     "data": {
      "text/plain": [
       "tensorflow.python.ops.resource_variable_ops.ResourceVariable"
      ]
     },
     "execution_count": 90,
     "metadata": {},
     "output_type": "execute_result"
    }
   ],
   "source": [
    "type(tf.Variable([1,2,3,4]))"
   ]
  },
  {
   "cell_type": "markdown",
   "id": "df878b16-0e9a-41e7-b2c0-5a23045958dd",
   "metadata": {
    "id": "df878b16-0e9a-41e7-b2c0-5a23045958dd"
   },
   "source": [
    "#### 인덱싱 "
   ]
  },
  {
   "cell_type": "code",
   "execution_count": 91,
   "id": "94fdb97f-b002-4bcf-8fa7-26fe43db0035",
   "metadata": {},
   "outputs": [
    {
     "data": {
      "text/plain": [
       "<tf.Variable 'Variable:0' shape=(4,) dtype=int32, numpy=array([1, 2, 3, 4], dtype=int32)>"
      ]
     },
     "execution_count": 91,
     "metadata": {},
     "output_type": "execute_result"
    }
   ],
   "source": [
    "a=tf.Variable([1,2,3,4])\n",
    "a"
   ]
  },
  {
   "cell_type": "code",
   "execution_count": 92,
   "id": "26198a74-b070-4425-b67f-754bb0450e7b",
   "metadata": {},
   "outputs": [
    {
     "data": {
      "text/plain": [
       "<tf.Tensor: shape=(2,), dtype=int32, numpy=array([1, 2], dtype=int32)>"
      ]
     },
     "execution_count": 92,
     "metadata": {},
     "output_type": "execute_result"
    }
   ],
   "source": [
    "a[:2]"
   ]
  },
  {
   "cell_type": "code",
   "execution_count": 97,
   "id": "dedfab4a-ad4b-482c-b7fd-ec11d94e9bb4",
   "metadata": {},
   "outputs": [
    {
     "data": {
      "text/plain": [
       "tensorflow.python.framework.ops.EagerTensor"
      ]
     },
     "execution_count": 97,
     "metadata": {},
     "output_type": "execute_result"
    }
   ],
   "source": [
    "type(a[:2]) #tf.constant와 같아졌다!"
   ]
  },
  {
   "cell_type": "markdown",
   "id": "42dac5a0-e799-4edb-b620-646413aaaa0b",
   "metadata": {
    "id": "42dac5a0-e799-4edb-b620-646413aaaa0b"
   },
   "source": [
    "#### 연산가능 "
   ]
  },
  {
   "cell_type": "code",
   "execution_count": 94,
   "id": "c1abe8dc-4132-422e-bcc4-e1a5b0a64a9a",
   "metadata": {},
   "outputs": [],
   "source": [
    "a=tf.Variable([1,2,3,4])\n",
    "b=tf.Variable([-1,-2,-3,-4])"
   ]
  },
  {
   "cell_type": "code",
   "execution_count": 95,
   "id": "e3a59234-2c97-4e9d-8b89-92052e9ed6b7",
   "metadata": {},
   "outputs": [
    {
     "data": {
      "text/plain": [
       "<tf.Tensor: shape=(4,), dtype=int32, numpy=array([0, 0, 0, 0], dtype=int32)>"
      ]
     },
     "execution_count": 95,
     "metadata": {},
     "output_type": "execute_result"
    }
   ],
   "source": [
    "a+b"
   ]
  },
  {
   "cell_type": "code",
   "execution_count": 98,
   "id": "9c3dd2b2-5b6a-4e45-a5cd-033004ad7808",
   "metadata": {},
   "outputs": [
    {
     "data": {
      "text/plain": [
       "tensorflow.python.framework.ops.EagerTensor"
      ]
     },
     "execution_count": 98,
     "metadata": {},
     "output_type": "execute_result"
    }
   ],
   "source": [
    "type(a+b)"
   ]
  },
  {
   "cell_type": "markdown",
   "id": "cbeea993-2d78-44f1-9cef-dba9de3f83fc",
   "metadata": {},
   "source": [
    "**- 연산하는 순간 `type`이 바뀐다!**"
   ]
  },
  {
   "cell_type": "markdown",
   "id": "48cfd854-3043-4cad-b6c2-7f65f057e6ed",
   "metadata": {
    "id": "48cfd854-3043-4cad-b6c2-7f65f057e6ed"
   },
   "source": [
    "#### $\\to$ tf.Variable도 쓰기 불편함 "
   ]
  },
  {
   "cell_type": "code",
   "execution_count": 99,
   "id": "52acf5d8-75d2-47d2-8470-a2072375b354",
   "metadata": {},
   "outputs": [
    {
     "ename": "InvalidArgumentError",
     "evalue": "cannot compute AddV2 as input #1(zero-based) was expected to be a int32 tensor but is a float tensor [Op:AddV2]",
     "output_type": "error",
     "traceback": [
      "\u001b[0;31m---------------------------------------------------------------------------\u001b[0m",
      "\u001b[0;31mInvalidArgumentError\u001b[0m                      Traceback (most recent call last)",
      "Input \u001b[0;32mIn [99]\u001b[0m, in \u001b[0;36m<cell line: 2>\u001b[0;34m()\u001b[0m\n\u001b[1;32m      1\u001b[0m \u001b[38;5;66;03m#다른 불편한 예제\u001b[39;00m\n\u001b[0;32m----> 2\u001b[0m \u001b[43mtf\u001b[49m\u001b[38;5;241;43m.\u001b[39;49m\u001b[43mVariable\u001b[49m\u001b[43m(\u001b[49m\u001b[43m[\u001b[49m\u001b[38;5;241;43m1\u001b[39;49m\u001b[43m,\u001b[49m\u001b[38;5;241;43m2\u001b[39;49m\u001b[43m]\u001b[49m\u001b[43m)\u001b[49m\u001b[38;5;241;43m+\u001b[39;49m\u001b[43mtf\u001b[49m\u001b[38;5;241;43m.\u001b[39;49m\u001b[43mVariable\u001b[49m\u001b[43m(\u001b[49m\u001b[43m[\u001b[49m\u001b[38;5;241;43m3.14\u001b[39;49m\u001b[43m,\u001b[49m\u001b[38;5;241;43m3.14\u001b[39;49m\u001b[43m]\u001b[49m\u001b[43m)\u001b[49m\n",
      "File \u001b[0;32m~/anaconda3/envs/py310/lib/python3.10/site-packages/tensorflow/python/ops/variables.py:1078\u001b[0m, in \u001b[0;36mVariable._OverloadOperator.<locals>._run_op\u001b[0;34m(a, *args, **kwargs)\u001b[0m\n\u001b[1;32m   1076\u001b[0m \u001b[38;5;28;01mdef\u001b[39;00m \u001b[38;5;21m_run_op\u001b[39m(a, \u001b[38;5;241m*\u001b[39margs, \u001b[38;5;241m*\u001b[39m\u001b[38;5;241m*\u001b[39mkwargs):\n\u001b[1;32m   1077\u001b[0m   \u001b[38;5;66;03m# pylint: disable=protected-access\u001b[39;00m\n\u001b[0;32m-> 1078\u001b[0m   \u001b[38;5;28;01mreturn\u001b[39;00m \u001b[43mtensor_oper\u001b[49m\u001b[43m(\u001b[49m\u001b[43ma\u001b[49m\u001b[38;5;241;43m.\u001b[39;49m\u001b[43mvalue\u001b[49m\u001b[43m(\u001b[49m\u001b[43m)\u001b[49m\u001b[43m,\u001b[49m\u001b[43m \u001b[49m\u001b[38;5;241;43m*\u001b[39;49m\u001b[43margs\u001b[49m\u001b[43m,\u001b[49m\u001b[43m \u001b[49m\u001b[38;5;241;43m*\u001b[39;49m\u001b[38;5;241;43m*\u001b[39;49m\u001b[43mkwargs\u001b[49m\u001b[43m)\u001b[49m\n",
      "File \u001b[0;32m~/anaconda3/envs/py310/lib/python3.10/site-packages/tensorflow/python/util/traceback_utils.py:153\u001b[0m, in \u001b[0;36mfilter_traceback.<locals>.error_handler\u001b[0;34m(*args, **kwargs)\u001b[0m\n\u001b[1;32m    151\u001b[0m \u001b[38;5;28;01mexcept\u001b[39;00m \u001b[38;5;167;01mException\u001b[39;00m \u001b[38;5;28;01mas\u001b[39;00m e:\n\u001b[1;32m    152\u001b[0m   filtered_tb \u001b[38;5;241m=\u001b[39m _process_traceback_frames(e\u001b[38;5;241m.\u001b[39m__traceback__)\n\u001b[0;32m--> 153\u001b[0m   \u001b[38;5;28;01mraise\u001b[39;00m e\u001b[38;5;241m.\u001b[39mwith_traceback(filtered_tb) \u001b[38;5;28;01mfrom\u001b[39;00m \u001b[38;5;28mNone\u001b[39m\n\u001b[1;32m    154\u001b[0m \u001b[38;5;28;01mfinally\u001b[39;00m:\n\u001b[1;32m    155\u001b[0m   \u001b[38;5;28;01mdel\u001b[39;00m filtered_tb\n",
      "File \u001b[0;32m~/anaconda3/envs/py310/lib/python3.10/site-packages/tensorflow/python/framework/ops.py:7107\u001b[0m, in \u001b[0;36mraise_from_not_ok_status\u001b[0;34m(e, name)\u001b[0m\n\u001b[1;32m   7105\u001b[0m \u001b[38;5;28;01mdef\u001b[39;00m \u001b[38;5;21mraise_from_not_ok_status\u001b[39m(e, name):\n\u001b[1;32m   7106\u001b[0m   e\u001b[38;5;241m.\u001b[39mmessage \u001b[38;5;241m+\u001b[39m\u001b[38;5;241m=\u001b[39m (\u001b[38;5;124m\"\u001b[39m\u001b[38;5;124m name: \u001b[39m\u001b[38;5;124m\"\u001b[39m \u001b[38;5;241m+\u001b[39m name \u001b[38;5;28;01mif\u001b[39;00m name \u001b[38;5;129;01mis\u001b[39;00m \u001b[38;5;129;01mnot\u001b[39;00m \u001b[38;5;28;01mNone\u001b[39;00m \u001b[38;5;28;01melse\u001b[39;00m \u001b[38;5;124m\"\u001b[39m\u001b[38;5;124m\"\u001b[39m)\n\u001b[0;32m-> 7107\u001b[0m   \u001b[38;5;28;01mraise\u001b[39;00m core\u001b[38;5;241m.\u001b[39m_status_to_exception(e) \u001b[38;5;28;01mfrom\u001b[39;00m \u001b[38;5;28mNone\u001b[39m\n",
      "\u001b[0;31mInvalidArgumentError\u001b[0m: cannot compute AddV2 as input #1(zero-based) was expected to be a int32 tensor but is a float tensor [Op:AddV2]"
     ]
    }
   ],
   "source": [
    "#다른 불편한 예제\n",
    "tf.Variable([1,2])+tf.Variable([3.14,3.14])"
   ]
  },
  {
   "cell_type": "markdown",
   "id": "046387c9-51af-4ed1-9a2e-46f46d2f422e",
   "metadata": {
    "id": "046387c9-51af-4ed1-9a2e-46f46d2f422e"
   },
   "source": [
    "#### tnp의 은총도 일부만 가능 "
   ]
  },
  {
   "cell_type": "code",
   "execution_count": 100,
   "id": "fdeb31e0-74fa-4a81-80fd-3b4ae22c035d",
   "metadata": {},
   "outputs": [],
   "source": [
    "import tensorflow.experimental.numpy as tnp\n",
    "tnp.experimental_enable_numpy_behavior()"
   ]
  },
  {
   "cell_type": "markdown",
   "id": "ad3ab170-eac6-4af4-aee3-4a555ed52748",
   "metadata": {
    "id": "ad3ab170-eac6-4af4-aee3-4a555ed52748"
   },
   "source": [
    "`-` 알아서 형 변환 "
   ]
  },
  {
   "cell_type": "code",
   "execution_count": 101,
   "id": "43ed079a-8ace-485a-b102-d0fb8e7b7832",
   "metadata": {},
   "outputs": [
    {
     "data": {
      "text/plain": [
       "<tf.Tensor: shape=(2,), dtype=float64, numpy=array([4.1400001, 5.1400001])>"
      ]
     },
     "execution_count": 101,
     "metadata": {},
     "output_type": "execute_result"
    }
   ],
   "source": [
    "tf.Variable([1,2])+tf.Variable([3.14,3.14])"
   ]
  },
  {
   "cell_type": "markdown",
   "id": "67944a57-c721-4f84-8ad7-6719c4e86c05",
   "metadata": {
    "id": "f693036e-611f-439c-9338-4d24c8359854"
   },
   "source": [
    "`-` .reshape 메소드 "
   ]
  },
  {
   "cell_type": "code",
   "execution_count": 105,
   "id": "77555fdf-fc10-4d60-aeba-ac70b1abb667",
   "metadata": {},
   "outputs": [
    {
     "data": {
      "text/plain": [
       "<tf.Tensor: shape=(2, 2), dtype=int32, numpy=\n",
       "array([[1, 2],\n",
       "       [3, 4]], dtype=int32)>"
      ]
     },
     "execution_count": 105,
     "metadata": {},
     "output_type": "execute_result"
    }
   ],
   "source": [
    "tf.constant([1,2,3,4]).reshape(2,2)  #constant는 tnp를 키면 이렇게 된다"
   ]
  },
  {
   "cell_type": "code",
   "execution_count": 104,
   "id": "4ed6b475-a95c-49ad-af51-96d12d75fdfd",
   "metadata": {},
   "outputs": [
    {
     "ename": "AttributeError",
     "evalue": "'ResourceVariable' object has no attribute 'reshape'",
     "output_type": "error",
     "traceback": [
      "\u001b[0;31m---------------------------------------------------------------------------\u001b[0m",
      "\u001b[0;31mAttributeError\u001b[0m                            Traceback (most recent call last)",
      "Input \u001b[0;32mIn [104]\u001b[0m, in \u001b[0;36m<cell line: 1>\u001b[0;34m()\u001b[0m\n\u001b[0;32m----> 1\u001b[0m \u001b[43mtf\u001b[49m\u001b[38;5;241;43m.\u001b[39;49m\u001b[43mVariable\u001b[49m\u001b[43m(\u001b[49m\u001b[43m[\u001b[49m\u001b[38;5;241;43m1\u001b[39;49m\u001b[43m,\u001b[49m\u001b[38;5;241;43m2\u001b[39;49m\u001b[43m,\u001b[49m\u001b[38;5;241;43m3\u001b[39;49m\u001b[43m,\u001b[49m\u001b[38;5;241;43m4\u001b[39;49m\u001b[43m]\u001b[49m\u001b[43m)\u001b[49m\u001b[38;5;241;43m.\u001b[39;49m\u001b[43mreshape\u001b[49m(\u001b[38;5;241m2\u001b[39m,\u001b[38;5;241m2\u001b[39m)\n",
      "\u001b[0;31mAttributeError\u001b[0m: 'ResourceVariable' object has no attribute 'reshape'"
     ]
    }
   ],
   "source": [
    "tf.Variable([1,2,3,4]).reshape(2,2) #이건 또 안 된다"
   ]
  },
  {
   "cell_type": "markdown",
   "id": "35d26c06-f0d7-4fb8-a2c7-2157f93320fd",
   "metadata": {
    "id": "35d26c06-f0d7-4fb8-a2c7-2157f93320fd"
   },
   "source": [
    "#### 대부분의 동작은 tf.constant랑 큰 차이를 모르겠음 "
   ]
  },
  {
   "cell_type": "markdown",
   "id": "1e7a0d88-1530-4265-bf1b-9ed4649f8154",
   "metadata": {
    "id": "1e7a0d88-1530-4265-bf1b-9ed4649f8154"
   },
   "source": [
    "`-` tf.concat "
   ]
  },
  {
   "cell_type": "code",
   "execution_count": 107,
   "id": "fb56dcbc-28bc-4adc-82da-854f7563316f",
   "metadata": {},
   "outputs": [
    {
     "data": {
      "text/plain": [
       "<tf.Tensor: shape=(4, 2), dtype=int32, numpy=\n",
       "array([[ 1,  2],\n",
       "       [ 3,  4],\n",
       "       [-1, -2],\n",
       "       [-3, -4]], dtype=int32)>"
      ]
     },
     "execution_count": 107,
     "metadata": {},
     "output_type": "execute_result"
    }
   ],
   "source": [
    "a=tf.Variable([[1,2],[3,4]])\n",
    "#b=-a를 하면 Variable이 깨진다\n",
    "b=tf.Variable([[-1,-2],[-3,-4]])\n",
    "tf.concat([a,b],axis=0)"
   ]
  },
  {
   "cell_type": "markdown",
   "id": "1e88e171-d011-4a6b-8df1-82b271e7c3e3",
   "metadata": {
    "id": "1e88e171-d011-4a6b-8df1-82b271e7c3e3"
   },
   "source": [
    "`-` tf.stack"
   ]
  },
  {
   "cell_type": "code",
   "execution_count": 108,
   "id": "38aa35db-10f0-4ffb-9e30-ad543b911efa",
   "metadata": {},
   "outputs": [
    {
     "data": {
      "text/plain": [
       "<tf.Tensor: shape=(2, 2, 2), dtype=int32, numpy=\n",
       "array([[[ 1,  2],\n",
       "        [ 3,  4]],\n",
       "\n",
       "       [[-1, -2],\n",
       "        [-3, -4]]], dtype=int32)>"
      ]
     },
     "execution_count": 108,
     "metadata": {},
     "output_type": "execute_result"
    }
   ],
   "source": [
    "a=tf.Variable([[1,2],[3,4]])\n",
    "b=tf.Variable([[-1,-2],[-3,-4]])\n",
    "tf.stack([a,b],axis=0)"
   ]
  },
  {
   "cell_type": "markdown",
   "id": "50daf8d4-791c-47f4-b230-b3212363fa96",
   "metadata": {},
   "source": [
    "- tnp의 장점이 Variable에서 100% 적용이 안되고,\n",
    "- 연산만 하면 자료형이 바뀐다...  \n",
    "$\\to$ Variable 단점"
   ]
  },
  {
   "cell_type": "markdown",
   "id": "606c7880-74df-45b6-88ae-ca27e2f04058",
   "metadata": {
    "id": "606c7880-74df-45b6-88ae-ca27e2f04058",
    "tags": []
   },
   "source": [
    "#### 변수값변경가능(?) $\\to$  장점?"
   ]
  },
  {
   "cell_type": "markdown",
   "id": "e0c065c5-4bef-4b5b-ae5d-b519e0f7af37",
   "metadata": {},
   "source": [
    "- 재할당 이해하기 : 1에 a라는 이름을 붙엿던 것을 456에 a라는 이름을 붙이는 것. 따라서 주소가 다름.  \n",
    "- $\\to$ 이런 것을 `불변형`이라고 함. 불변형을 쓰면 메모리 소모가 많음. 자원이 풍부해야 한다... (Ex.R)\n",
    "- 만약 주소가 같다면 `편집`이라고 함. `편집`은 a를 1에서 456으로 바꾸는 것\n",
    "- $\\to$ 이런 것을 `가변형`이라고 함. "
   ]
  },
  {
   "cell_type": "markdown",
   "id": "b40538e1-b644-4ebf-8e63-7a7e301eb3b2",
   "metadata": {},
   "source": [
    "- parameter는 GPU, x는 CPU에 올려야 계산이 된다. 메모리를 아끼기 위함임(?)"
   ]
  },
  {
   "cell_type": "code",
   "execution_count": 111,
   "id": "4092744b-6bcd-4cef-8b7a-d76df0e87844",
   "metadata": {},
   "outputs": [
    {
     "data": {
      "text/plain": [
       "139639058841840"
      ]
     },
     "execution_count": 111,
     "metadata": {},
     "output_type": "execute_result"
    }
   ],
   "source": [
    "a=1\n",
    "id(a)"
   ]
  },
  {
   "cell_type": "code",
   "execution_count": null,
   "id": "c7bb9e03-48de-4f48-899a-c5fdeb4fec49",
   "metadata": {},
   "outputs": [],
   "source": [
    "a=456\n",
    "id(a)"
   ]
  },
  {
   "cell_type": "markdown",
   "id": "6e3d82b2-c9d6-49ec-a38c-2b1d9da3474e",
   "metadata": {},
   "source": [
    "- Variable을 보면.."
   ]
  },
  {
   "cell_type": "code",
   "execution_count": 115,
   "id": "8acf9f8a-30d3-438d-86e9-7c78789d5da3",
   "metadata": {},
   "outputs": [
    {
     "data": {
      "text/plain": [
       "139630864641872"
      ]
     },
     "execution_count": 115,
     "metadata": {},
     "output_type": "execute_result"
    }
   ],
   "source": [
    "a=tf.Variable([1,2,3,4])\n",
    "id(a)"
   ]
  },
  {
   "cell_type": "code",
   "execution_count": 116,
   "id": "43d0668e-79a8-4881-a9c1-398920cc0cab",
   "metadata": {},
   "outputs": [
    {
     "data": {
      "text/plain": [
       "139630864641872"
      ]
     },
     "execution_count": 116,
     "metadata": {},
     "output_type": "execute_result"
    }
   ],
   "source": [
    "a.assign_add([-1,-2,-3,-4])\n",
    "id(a)"
   ]
  },
  {
   "cell_type": "markdown",
   "id": "425708ca-33df-4fa9-9408-24554ffeb664",
   "metadata": {},
   "source": [
    "- 주소 값이 같다"
   ]
  },
  {
   "cell_type": "markdown",
   "id": "45d532a1-9228-4d9f-b105-f8c2087392f5",
   "metadata": {},
   "source": [
    "---"
   ]
  },
  {
   "cell_type": "markdown",
   "id": "264f0720-86d9-4adb-8b5c-c874c39f9070",
   "metadata": {
    "id": "264f0720-86d9-4adb-8b5c-c874c39f9070"
   },
   "source": [
    "#### 요약 "
   ]
  },
  {
   "cell_type": "markdown",
   "id": "0ca9f2f8-675d-487f-9dec-841526089ab8",
   "metadata": {
    "id": "0ca9f2f8-675d-487f-9dec-841526089ab8"
   },
   "source": [
    "`-` tf.Variable()로 만들어야 하는 뚜렷한 차이는 모르겠음. "
   ]
  },
  {
   "cell_type": "markdown",
   "id": "aa82b8fe-ad0c-4df7-b822-11c4377d404c",
   "metadata": {
    "id": "aa82b8fe-ad0c-4df7-b822-11c4377d404c"
   },
   "source": [
    "`-` 애써 tf.Variable()로 만들어도 간단한 연산을 하면 그 결과는 tf.constant()로 만든 오브젝트와 동일해짐. (결국 GPU 메모리를 아끼기 위함이다..., `to.(cpu)`개념인가?)"
   ]
  },
  {
   "cell_type": "markdown",
   "id": "ed05a225-cd62-407c-87ac-029c7584913b",
   "metadata": {},
   "source": [
    "---"
   ]
  },
  {
   "cell_type": "markdown",
   "id": "1d4a3d56-1b55-48ee-8095-e33dc5911683",
   "metadata": {
    "id": "1d4a3d56-1b55-48ee-8095-e33dc5911683",
    "tags": []
   },
   "source": [
    "### 미분 "
   ]
  },
  {
   "cell_type": "markdown",
   "id": "0096a046-988f-475f-b08e-146cbf97ef9c",
   "metadata": {},
   "source": [
    "- 선형계산이기 때문에 GPU로 계산하면 정말 빠르다! 😊"
   ]
  },
  {
   "cell_type": "markdown",
   "id": "a0371156-ef78-4779-b141-3aaae848c1b1",
   "metadata": {
    "id": "a0371156-ef78-4779-b141-3aaae848c1b1"
   },
   "source": [
    "#### 모티브"
   ]
  },
  {
   "cell_type": "markdown",
   "id": "1bae6965-67e9-4dba-9816-c73e5d3016fb",
   "metadata": {
    "id": "1bae6965-67e9-4dba-9816-c73e5d3016fb"
   },
   "source": [
    "`-` 예제: 컴퓨터를 이용하여 $x=2$에서 $y=3x^2$의 접선의 기울기를 구해보자. "
   ]
  },
  {
   "cell_type": "markdown",
   "id": "72a3ccf9-00c7-46c2-9ffb-48aad99e5dd5",
   "metadata": {},
   "source": [
    "(손풀이)\n",
    "> $\\frac{dy}{dx}$=6x\n",
    "이므로 $x=2$를 대입하면 $12$가 정답!"
   ]
  },
  {
   "cell_type": "markdown",
   "id": "39a51e6f-e246-45d9-8164-ab4fcad8bc3b",
   "metadata": {},
   "source": [
    "(컴퓨터를 이용한 풀이)\n",
    "\n",
    "**단계 1**"
   ]
  },
  {
   "cell_type": "code",
   "execution_count": 118,
   "id": "606fea79-99c1-4710-aebe-92e6a3f1ebc5",
   "metadata": {},
   "outputs": [],
   "source": [
    "x1=2\n",
    "y1=3*x1**2"
   ]
  },
  {
   "cell_type": "code",
   "execution_count": 119,
   "id": "18749bf1-8e4b-4963-ada8-c8a8b18ea376",
   "metadata": {},
   "outputs": [],
   "source": [
    "x2=2+0.000000001\n",
    "y2=3*x2**2"
   ]
  },
  {
   "cell_type": "code",
   "execution_count": 120,
   "id": "2e28fbeb-31d2-4e30-b705-e8ccd789e195",
   "metadata": {},
   "outputs": [
    {
     "data": {
      "text/plain": [
       "12.0"
      ]
     },
     "execution_count": 120,
     "metadata": {},
     "output_type": "execute_result"
    }
   ],
   "source": [
    "(y2-y1)/(x2-x1)"
   ]
  },
  {
   "cell_type": "markdown",
   "id": "527fec2c-27de-4cda-87f2-d87de8be9d69",
   "metadata": {},
   "source": [
    "**단계 2** : 함수로 만들자."
   ]
  },
  {
   "cell_type": "code",
   "execution_count": 121,
   "id": "8bd245b2-53ff-4874-b736-ad5b97619caf",
   "metadata": {},
   "outputs": [],
   "source": [
    "def f(x) : \n",
    "    return 3*x**2"
   ]
  },
  {
   "cell_type": "code",
   "execution_count": 124,
   "id": "9fe397df-4530-46c1-bf36-74a7a46e326f",
   "metadata": {},
   "outputs": [
    {
     "data": {
      "text/plain": [
       "27"
      ]
     },
     "execution_count": 124,
     "metadata": {},
     "output_type": "execute_result"
    }
   ],
   "source": [
    "f(3)"
   ]
  },
  {
   "cell_type": "code",
   "execution_count": 125,
   "id": "3f7a1160-3cf7-45a1-af09-226a55b772cb",
   "metadata": {},
   "outputs": [],
   "source": [
    "def d(f,x) :\n",
    "    return (f(x+0.000000001)-f(x))/0.000000001"
   ]
  },
  {
   "cell_type": "code",
   "execution_count": 126,
   "id": "cb89070c-eb6d-451b-848f-be9f0af210ac",
   "metadata": {},
   "outputs": [
    {
     "data": {
      "text/plain": [
       "12.000000992884452"
      ]
     },
     "execution_count": 126,
     "metadata": {},
     "output_type": "execute_result"
    }
   ],
   "source": [
    "d(f,2)"
   ]
  },
  {
   "cell_type": "markdown",
   "id": "f85ace39-2be2-4838-8c2b-d9d82d8e1da0",
   "metadata": {},
   "source": [
    "**단계 3** : 항상 선언하기는 좀 이상하다."
   ]
  },
  {
   "cell_type": "code",
   "execution_count": 127,
   "id": "0e69a810-9974-4e02-aafb-6cff8bdfd7a4",
   "metadata": {},
   "outputs": [
    {
     "data": {
      "text/plain": [
       "12.000000992884452"
      ]
     },
     "execution_count": 127,
     "metadata": {},
     "output_type": "execute_result"
    }
   ],
   "source": [
    "d(lambda x: 3*x**2, 2)"
   ]
  },
  {
   "cell_type": "code",
   "execution_count": 128,
   "id": "6c682481-75b5-4a2a-8dc4-4e212f4a7390",
   "metadata": {},
   "outputs": [
    {
     "data": {
      "text/plain": [
       "1e-09"
      ]
     },
     "execution_count": 128,
     "metadata": {},
     "output_type": "execute_result"
    }
   ],
   "source": [
    "d(lambda x: x**2, 0)"
   ]
  },
  {
   "cell_type": "markdown",
   "id": "afec08ba-aeca-445a-803a-7988b20e67af",
   "metadata": {},
   "source": [
    "**단계 4** : 더 확장성 있게..."
   ]
  },
  {
   "cell_type": "markdown",
   "id": "df82e9cc-5cbd-4f43-8660-23aa324d58a3",
   "metadata": {},
   "source": [
    "$$f(x,y)=x^2+3y$$  \n",
    "를 x로만 편미분하고 싶을 때,"
   ]
  },
  {
   "cell_type": "code",
   "execution_count": 132,
   "id": "e1d76d9e-fa16-44f6-a1ec-a8f95994f8b7",
   "metadata": {},
   "outputs": [],
   "source": [
    "def f(x,y) :\n",
    "    return (x**2 +3*y)"
   ]
  },
  {
   "cell_type": "code",
   "execution_count": 133,
   "id": "72430603-0b39-4457-962c-2e77a036a75f",
   "metadata": {},
   "outputs": [
    {
     "ename": "TypeError",
     "evalue": "can only concatenate tuple (not \"float\") to tuple",
     "output_type": "error",
     "traceback": [
      "\u001b[0;31m---------------------------------------------------------------------------\u001b[0m",
      "\u001b[0;31mTypeError\u001b[0m                                 Traceback (most recent call last)",
      "Input \u001b[0;32mIn [133]\u001b[0m, in \u001b[0;36m<cell line: 1>\u001b[0;34m()\u001b[0m\n\u001b[0;32m----> 1\u001b[0m \u001b[43md\u001b[49m\u001b[43m(\u001b[49m\u001b[43mf\u001b[49m\u001b[43m,\u001b[49m\u001b[43m(\u001b[49m\u001b[38;5;241;43m2\u001b[39;49m\u001b[43m,\u001b[49m\u001b[38;5;241;43m3\u001b[39;49m\u001b[43m)\u001b[49m\u001b[43m)\u001b[49m\n",
      "Input \u001b[0;32mIn [125]\u001b[0m, in \u001b[0;36md\u001b[0;34m(f, x)\u001b[0m\n\u001b[1;32m      1\u001b[0m \u001b[38;5;28;01mdef\u001b[39;00m \u001b[38;5;21md\u001b[39m(f,x) :\n\u001b[0;32m----> 2\u001b[0m     \u001b[38;5;28;01mreturn\u001b[39;00m (f(\u001b[43mx\u001b[49m\u001b[38;5;241;43m+\u001b[39;49m\u001b[38;5;241;43m0.000000001\u001b[39;49m)\u001b[38;5;241m-\u001b[39mf(x))\u001b[38;5;241m/\u001b[39m\u001b[38;5;241m0.000000001\u001b[39m\n",
      "\u001b[0;31mTypeError\u001b[0m: can only concatenate tuple (not \"float\") to tuple"
     ]
    }
   ],
   "source": [
    "d(f,(2,3))"
   ]
  },
  {
   "cell_type": "markdown",
   "id": "375de602-d71a-43f7-abd0-97a03c17e329",
   "metadata": {
    "id": "375de602-d71a-43f7-abd0-97a03c17e329"
   },
   "source": [
    "#### tf.GradientTape() 사용방법 "
   ]
  },
  {
   "cell_type": "markdown",
   "id": "9e09137f-970b-4f0f-a706-7586cf507d4c",
   "metadata": {
    "id": "9e09137f-970b-4f0f-a706-7586cf507d4c"
   },
   "source": [
    "`-` 예제1: $x=2$에서 $y=3x^2$의 도함수값을 구하라. "
   ]
  },
  {
   "cell_type": "code",
   "execution_count": 154,
   "id": "f0a77ed7-343a-4b20-915b-9de07336fef5",
   "metadata": {},
   "outputs": [
    {
     "data": {
      "text/plain": [
       "<tensorflow.python.eager.backprop.GradientTape at 0x7efad2b45150>"
      ]
     },
     "execution_count": 154,
     "metadata": {},
     "output_type": "execute_result"
    }
   ],
   "source": [
    "tf.GradientTape()\n",
    "#Gradient=기울기, Tape=기록할 수 있는 공간"
   ]
  },
  {
   "cell_type": "markdown",
   "id": "aeb6013e-e205-4f0f-a67a-2aa7943de92b",
   "metadata": {},
   "source": [
    "`0x7efe58153ac0` 이거를 잘 기억하기! 정보가 여기에 위치하고 있다."
   ]
  },
  {
   "cell_type": "code",
   "execution_count": 162,
   "id": "29e30190-1fa3-405e-89ad-528c635e940b",
   "metadata": {},
   "outputs": [],
   "source": [
    "#dir(mytape)  #숨겨진 목록도 함께 확인하자, enter, exit 주목하기"
   ]
  },
  {
   "cell_type": "code",
   "execution_count": 167,
   "id": "51870a8d-4866-4674-b6aa-af4f1f4db20d",
   "metadata": {},
   "outputs": [
    {
     "data": {
      "text/plain": [
       "<tf.Tensor: shape=(), dtype=float32, numpy=12.0>"
      ]
     },
     "execution_count": 167,
     "metadata": {},
     "output_type": "execute_result"
    }
   ],
   "source": [
    "x=tf.Variable(2.0)  #미분하고 싶은 애를 Variable로 잡고, 기울기를 구하고 싶은 지점을 숫자로 써라->외우기\n",
    "a=tf.constant(3.0)  #계수인 3도 저장해놓자\n",
    "\n",
    "mytape=tf.GradientTape()\n",
    "mytape.__enter__()  #기록 시작\n",
    "y=a*x**2 \n",
    "mytape.__exit__(None,None,None)  #기록 끝\n",
    "\n",
    "mytape.gradient(y,x)  #y를 x로 미분하라."
   ]
  },
  {
   "cell_type": "markdown",
   "id": "51a61b06-cf87-4943-903f-ba221d7f73d9",
   "metadata": {
    "id": "51a61b06-cf87-4943-903f-ba221d7f73d9"
   },
   "source": [
    "`-` 예제2: 조금 다른예제 "
   ]
  },
  {
   "cell_type": "code",
   "execution_count": 168,
   "id": "14a8adc6-298a-4634-9f7a-1f76f1265885",
   "metadata": {},
   "outputs": [
    {
     "data": {
      "text/plain": [
       "<tf.Tensor: shape=(), dtype=float32, numpy=18.0>"
      ]
     },
     "execution_count": 168,
     "metadata": {},
     "output_type": "execute_result"
    }
   ],
   "source": [
    "x=tf.Variable(2.0)  #미분하고 싶은 애를 Variable로 잡고, 기울기를 구하고 싶은 지점을 숫자로 써라->외우기\n",
    "#a=tf.constant(3.0)  #계수인 3도 저장해놓자\n",
    "\n",
    "mytape=tf.GradientTape()\n",
    "mytape.__enter__()  #기록 시작\n",
    "a=x/2*3  ##a=(3/2)x\n",
    "y=a*x**2  ## y=ax^2=(3/2)x^3\n",
    "mytape.__exit__(None,None,None)  #기록 끝\n",
    "\n",
    "mytape.gradient(y,x)  #y를 x로 미분하라."
   ]
  },
  {
   "cell_type": "markdown",
   "id": "f30bac7b-9931-44d4-b4a0-1af998fb31cd",
   "metadata": {},
   "source": [
    "$$a=\\frac{3}{2}x$$\n",
    "$$y=ax^2=\\frac{3}{2}x^3$$\n",
    "$$\\frac{dy}{dx} = \\frac{3}{2} 3x^2$$"
   ]
  },
  {
   "cell_type": "code",
   "execution_count": 169,
   "id": "97022766-ead9-48b0-a839-e2c1e067b31b",
   "metadata": {},
   "outputs": [
    {
     "data": {
      "text/plain": [
       "18.0"
      ]
     },
     "execution_count": 169,
     "metadata": {},
     "output_type": "execute_result"
    }
   ],
   "source": [
    "3/2*3*4"
   ]
  },
  {
   "cell_type": "markdown",
   "id": "cd618c28-6df3-42dd-84d2-2260a8338293",
   "metadata": {
    "id": "cd618c28-6df3-42dd-84d2-2260a8338293"
   },
   "source": [
    "`-` 테이프의 개념 ($\\star$)"
   ]
  },
  {
   "cell_type": "markdown",
   "id": "1a3b10c6-2ce1-4161-ae1a-661d3da4b209",
   "metadata": {
    "id": "1a3b10c6-2ce1-4161-ae1a-661d3da4b209"
   },
   "source": [
    "(상황) \n",
    "\n",
    "우리가 어려운 미분계산을 컴퓨터에게 부탁하는 상황임. (예를들면 $y=3x^2$) 컴퓨터에게 부탁을 하기 위해서는 연습장(=테이프)에 $y=3x^2$이라는 수식을 써서 보여줘야하는데 이때 컴퓨터에게 target이 무엇인지 그리고 무엇으로 미분하고 싶은 것인지를 명시해야함. \n",
    "\n",
    "✏️  \n",
    "(1) `mytape = tf.GradientTape()`: tf.GradientTape()는 컴퓨터에게 보여줄 연습장 만드는 명령어, 만들어진 연습장에 mytape라고 이름을 붙인다.\n",
    "\n",
    "(2) `mytape.__enter__()`: 만들어진 공책을 연다.(= 기록할 수 있는 상태로 만든다)\n",
    "\n",
    "(3) `a=x/2*3; y=a*x**2`: 컴퓨터에게 전달한 수식을 쓴다.\n",
    "\n",
    "(4) `mytape.__exit__(None,None,None)`: 공책을 닫는다.\n",
    "\n",
    "(5) `mytape.gradient(y,x)`: $y$를 $x$로 미분하라는 메모를 남기고 컴퓨터에게 전달한다."
   ]
  },
  {
   "cell_type": "markdown",
   "id": "e1f2ac28-a707-4128-90a8-d4b01019e86f",
   "metadata": {
    "id": "e1f2ac28-a707-4128-90a8-d4b01019e86f"
   },
   "source": [
    "`-` 예제3: 연습장을 언제 열고 닫을지 결정하는건 중요하다. "
   ]
  },
  {
   "cell_type": "code",
   "execution_count": 171,
   "id": "278684c4-1aef-4852-ac4f-aca492c3ba3a",
   "metadata": {},
   "outputs": [
    {
     "data": {
      "text/plain": [
       "<tf.Tensor: shape=(), dtype=float32, numpy=12.0>"
      ]
     },
     "execution_count": 171,
     "metadata": {},
     "output_type": "execute_result"
    }
   ],
   "source": [
    "x=tf.Variable(2.0)  #미분하고 싶은 애를 Variable로 잡고, 기울기를 구하고 싶은 지점을 숫자로 써라->외우기\n",
    "a=x/2*3  ##a=(3/2)x, 계산결과만 보게 됨\n",
    "\n",
    "mytape=tf.GradientTape()\n",
    "mytape.__enter__()  #기록 시작\n",
    "y=a*x**2  ## y=ax^2\n",
    "mytape.__exit__(None,None,None)  #기록 끝\n",
    "\n",
    "mytape.gradient(y,x)  #y를 x로 미분하라."
   ]
  },
  {
   "cell_type": "markdown",
   "id": "cb9efd6b-b591-44f2-b424-1689e2014181",
   "metadata": {
    "id": "cb9efd6b-b591-44f2-b424-1689e2014181"
   },
   "source": [
    "`-` 예제4: with문과 함께 쓰는 tf.GradientTape()_간략한 구문으로 매크로화"
   ]
  },
  {
   "cell_type": "code",
   "execution_count": 172,
   "id": "2c1a6c65-3749-4fe8-8911-56bb52db455f",
   "metadata": {},
   "outputs": [],
   "source": [
    "x=tf.Variable(2.0)  #미분하고 싶은 애를 Variable로 잡고, 기울기를 구하고 싶은 지점을 숫자로 써라->외우기\n",
    "a=x/2*3"
   ]
  },
  {
   "cell_type": "code",
   "execution_count": 173,
   "id": "6c7fb0bc-525b-4bda-8796-5a6033b2ac87",
   "metadata": {},
   "outputs": [],
   "source": [
    "with tf.GradientTape() as mytape :\n",
    "    ## with문 시작\n",
    "    y=a*x**2  # 생략할 수 없는 부분만\n",
    "    ## with문 끝"
   ]
  },
  {
   "cell_type": "code",
   "execution_count": 174,
   "id": "37b957dd-6811-4c34-a87d-e790f2de85fa",
   "metadata": {},
   "outputs": [
    {
     "data": {
      "text/plain": [
       "<tf.Tensor: shape=(), dtype=float32, numpy=12.0>"
      ]
     },
     "execution_count": 174,
     "metadata": {},
     "output_type": "execute_result"
    }
   ],
   "source": [
    "mytape.gradient(y,x)  #y를 x로 미분하라."
   ]
  },
  {
   "cell_type": "markdown",
   "id": "902403d1-9110-467a-9079-3638cda40b01",
   "metadata": {},
   "source": [
    "✏️ **(문법 해설)**    \n",
    "\n",
    "아래와 같이 쓴다.\n",
    "```python\n",
    "with expression(표현식) as myname(이름표를 달아줌) :\n",
    "    ## with문 시작 : myname.__enter__()\n",
    "    내가 실행하고 싶은 것을 작성해준다\n",
    "    ## with문 끝 : myname.__exit__()\n",
    "```"
   ]
  },
  {
   "cell_type": "markdown",
   "id": "d211170f-7e93-4b2c-a910-356f066730b6",
   "metadata": {},
   "source": [
    "(1) expression 이 가장 먼저 실행된다. 이 결과로 오브젝트가 생성됨. 생성된 오브젝트는 myname이라고 이름 붙인다. 이 오브젝트는 `.__enter__()`와 `.__exit__()`를 숨겨진 기능으로 포함해야 한다."
   ]
  },
  {
   "cell_type": "markdown",
   "id": "72eb335f-b563-42d2-bd2c-db8da2958060",
   "metadata": {},
   "source": [
    "(2) with문에 시작되면서 동시에 `myname.__enter__()`이 실행된다."
   ]
  },
  {
   "cell_type": "markdown",
   "id": "e768ca28-1e02-42d9-b556-b03df401642c",
   "metadata": {},
   "source": [
    "(3) 내가 실행하고 싶은 것들이 실행된다."
   ]
  },
  {
   "cell_type": "markdown",
   "id": "381f69b0-6cac-4935-ae75-a1d8007c7ca8",
   "metadata": {},
   "source": [
    "(4) with문에 종료되면서,`myname.__exit__()`이 실행된다."
   ]
  },
  {
   "cell_type": "markdown",
   "id": "102bdfc3-3585-405d-bbd3-e46c15ed506e",
   "metadata": {
    "id": "102bdfc3-3585-405d-bbd3-e46c15ed506e"
   },
   "source": [
    "`-` 예제5: 예제2를 with문과 함께 구현 "
   ]
  },
  {
   "cell_type": "code",
   "execution_count": 180,
   "id": "78796523-eae9-4140-9a30-bb8b86c821cf",
   "metadata": {},
   "outputs": [
    {
     "data": {
      "text/plain": [
       "<tf.Tensor: shape=(), dtype=float32, numpy=18.0>"
      ]
     },
     "execution_count": 180,
     "metadata": {},
     "output_type": "execute_result"
    }
   ],
   "source": [
    "x=tf.Variable(2.0)\n",
    "\n",
    "with tf.GradientTape() as mytape :\n",
    "    a=x/2*3\n",
    "    y=a*x**2\n",
    "\n",
    "mytape.gradient(y,x)  #y를 x로 미분하라."
   ]
  },
  {
   "cell_type": "markdown",
   "id": "5bbb104c-3369-486c-93a3-42972f942632",
   "metadata": {
    "id": "5bbb104c-3369-486c-93a3-42972f942632"
   },
   "source": [
    "`-` 예제6: persistent = True"
   ]
  },
  {
   "cell_type": "markdown",
   "id": "fda1d763-b4be-4dee-b9a3-a4b0d90a03a6",
   "metadata": {},
   "source": [
    "**관찰 1**"
   ]
  },
  {
   "cell_type": "code",
   "execution_count": 182,
   "id": "6bebafec-24d6-4685-ac78-6e6e0cb6da97",
   "metadata": {},
   "outputs": [],
   "source": [
    "# tf.GradientTape? 의 첫줄에 있다."
   ]
  },
  {
   "cell_type": "code",
   "execution_count": 184,
   "id": "d91a374c-c5fc-4b26-a7a8-f847a24b13bc",
   "metadata": {},
   "outputs": [],
   "source": [
    "x=tf.Variable(2.0)\n",
    "\n",
    "with tf.GradientTape() as mytape :\n",
    "    a=x/2*3\n",
    "    y=a*x**2"
   ]
  },
  {
   "cell_type": "code",
   "execution_count": 187,
   "id": "e4fcc280-a1ef-4906-a1aa-631a67203175",
   "metadata": {},
   "outputs": [
    {
     "ename": "RuntimeError",
     "evalue": "A non-persistent GradientTape can only be used to compute one set of gradients (or jacobians)",
     "output_type": "error",
     "traceback": [
      "\u001b[0;31m---------------------------------------------------------------------------\u001b[0m",
      "\u001b[0;31mRuntimeError\u001b[0m                              Traceback (most recent call last)",
      "Input \u001b[0;32mIn [187]\u001b[0m, in \u001b[0;36m<cell line: 1>\u001b[0;34m()\u001b[0m\n\u001b[0;32m----> 1\u001b[0m \u001b[43mmytape\u001b[49m\u001b[38;5;241;43m.\u001b[39;49m\u001b[43mgradient\u001b[49m\u001b[43m(\u001b[49m\u001b[43my\u001b[49m\u001b[43m,\u001b[49m\u001b[43mx\u001b[49m\u001b[43m)\u001b[49m\n",
      "File \u001b[0;32m~/anaconda3/envs/py310/lib/python3.10/site-packages/tensorflow/python/eager/backprop.py:1032\u001b[0m, in \u001b[0;36mGradientTape.gradient\u001b[0;34m(self, target, sources, output_gradients, unconnected_gradients)\u001b[0m\n\u001b[1;32m   1002\u001b[0m \u001b[38;5;124;03m\"\"\"Computes the gradient using operations recorded in context of this tape.\u001b[39;00m\n\u001b[1;32m   1003\u001b[0m \n\u001b[1;32m   1004\u001b[0m \u001b[38;5;124;03mNote: Unless you set `persistent=True` a GradientTape can only be used to\u001b[39;00m\n\u001b[0;32m   (...)\u001b[0m\n\u001b[1;32m   1029\u001b[0m \u001b[38;5;124;03m   called with an unknown value.\u001b[39;00m\n\u001b[1;32m   1030\u001b[0m \u001b[38;5;124;03m\"\"\"\u001b[39;00m\n\u001b[1;32m   1031\u001b[0m \u001b[38;5;28;01mif\u001b[39;00m \u001b[38;5;28mself\u001b[39m\u001b[38;5;241m.\u001b[39m_tape \u001b[38;5;129;01mis\u001b[39;00m \u001b[38;5;28;01mNone\u001b[39;00m:\n\u001b[0;32m-> 1032\u001b[0m   \u001b[38;5;28;01mraise\u001b[39;00m \u001b[38;5;167;01mRuntimeError\u001b[39;00m(\u001b[38;5;124m\"\u001b[39m\u001b[38;5;124mA non-persistent GradientTape can only be used to \u001b[39m\u001b[38;5;124m\"\u001b[39m\n\u001b[1;32m   1033\u001b[0m                      \u001b[38;5;124m\"\u001b[39m\u001b[38;5;124mcompute one set of gradients (or jacobians)\u001b[39m\u001b[38;5;124m\"\u001b[39m)\n\u001b[1;32m   1034\u001b[0m \u001b[38;5;28;01mif\u001b[39;00m \u001b[38;5;28mself\u001b[39m\u001b[38;5;241m.\u001b[39m_recording:\n\u001b[1;32m   1035\u001b[0m   \u001b[38;5;28;01mif\u001b[39;00m \u001b[38;5;129;01mnot\u001b[39;00m \u001b[38;5;28mself\u001b[39m\u001b[38;5;241m.\u001b[39m_persistent:\n",
      "\u001b[0;31mRuntimeError\u001b[0m: A non-persistent GradientTape can only be used to compute one set of gradients (or jacobians)"
     ]
    }
   ],
   "source": [
    "mytape.gradient(y,x)  #2번째 실행하면 안된다."
   ]
  },
  {
   "cell_type": "markdown",
   "id": "911cfff3-9676-49f2-94b5-f189bb2691c2",
   "metadata": {},
   "source": [
    "- 컴퓨터는 한 번 쓴 연습장을 버림... 그래서 2번째는 실행이 안된다. 일단 버리지 말라고 하는 게 `persistent=True`"
   ]
  },
  {
   "cell_type": "markdown",
   "id": "744e325e-1312-4e96-aefa-e59406d99632",
   "metadata": {},
   "source": [
    "**관찰 2**"
   ]
  },
  {
   "cell_type": "code",
   "execution_count": 188,
   "id": "719b3502-c9f7-44fc-ae00-7982f6b0ea6c",
   "metadata": {},
   "outputs": [],
   "source": [
    "x=tf.Variable(2.0)\n",
    "\n",
    "with tf.GradientTape(persistent=True) as mytape :\n",
    "    a=x/2*3\n",
    "    y=a*x**2"
   ]
  },
  {
   "cell_type": "code",
   "execution_count": 192,
   "id": "c511b444-0fe8-410c-89e1-cca35af6ea26",
   "metadata": {},
   "outputs": [
    {
     "data": {
      "text/plain": [
       "<tf.Tensor: shape=(), dtype=float32, numpy=18.0>"
      ]
     },
     "execution_count": 192,
     "metadata": {},
     "output_type": "execute_result"
    }
   ],
   "source": [
    "mytape.gradient(y,x)  # 몇 번 실행해도 오류 없이 잘 된다~!"
   ]
  },
  {
   "cell_type": "markdown",
   "id": "2260fd24-e15c-4ebc-a69d-3d3b5aa4eb9e",
   "metadata": {
    "id": "2260fd24-e15c-4ebc-a69d-3d3b5aa4eb9e"
   },
   "source": [
    "`-` 예제7: watch"
   ]
  },
  {
   "cell_type": "markdown",
   "id": "51c088bf-1603-4bbd-a4f6-0b2b1c2e3512",
   "metadata": {},
   "source": [
    "**관찰 1**"
   ]
  },
  {
   "cell_type": "code",
   "execution_count": 194,
   "id": "458e14bd-7221-41d6-99b5-3255e1a3cdbf",
   "metadata": {},
   "outputs": [
    {
     "data": {
      "text/plain": [
       "<tf.Tensor: shape=(), dtype=float32, numpy=18.0>"
      ]
     },
     "execution_count": 194,
     "metadata": {},
     "output_type": "execute_result"
    }
   ],
   "source": [
    "x=tf.Variable(2.0)\n",
    "\n",
    "with tf.GradientTape(persistent=True) as mytape :\n",
    "    a=x/2*3\n",
    "    y=a*x**2\n",
    "\n",
    "mytape.gradient(y,x)"
   ]
  },
  {
   "cell_type": "markdown",
   "id": "24631a76-0359-4475-9eb4-75221d6eeaee",
   "metadata": {},
   "source": [
    "- Variable을 constant로 바꿔보자"
   ]
  },
  {
   "cell_type": "code",
   "execution_count": 195,
   "id": "ce22fc82-3d67-4f50-a0bc-e5c1fb93e5e9",
   "metadata": {},
   "outputs": [],
   "source": [
    "x=tf.constant(2.0)\n",
    "\n",
    "with tf.GradientTape(persistent=True) as mytape :\n",
    "    a=x/2*3\n",
    "    y=a*x**2"
   ]
  },
  {
   "cell_type": "code",
   "execution_count": 198,
   "id": "88e5bbae-4902-4396-adee-4c63179a577f",
   "metadata": {},
   "outputs": [
    {
     "name": "stdout",
     "output_type": "stream",
     "text": [
      "None\n"
     ]
    }
   ],
   "source": [
    "print(mytape.gradient(y,x))  #결과가 안 나온다."
   ]
  },
  {
   "cell_type": "markdown",
   "id": "b23c0a77-be92-4651-a702-c184d2502fd6",
   "metadata": {},
   "source": [
    "**관찰 2**"
   ]
  },
  {
   "cell_type": "code",
   "execution_count": 199,
   "id": "c8e9d139-bdad-4e3e-b2f1-5075cfeba842",
   "metadata": {},
   "outputs": [],
   "source": [
    "x=tf.constant(2.0)\n",
    "\n",
    "with tf.GradientTape(persistent=True) as mytape :\n",
    "    mytape.watch(x)\n",
    "    a=x/2*3\n",
    "    y=a*x**2"
   ]
  },
  {
   "cell_type": "code",
   "execution_count": 200,
   "id": "257eb6f9-97a7-48c1-9b84-790990152e01",
   "metadata": {},
   "outputs": [
    {
     "data": {
      "text/plain": [
       "<tf.Tensor: shape=(), dtype=float32, numpy=18.0>"
      ]
     },
     "execution_count": 200,
     "metadata": {},
     "output_type": "execute_result"
    }
   ],
   "source": [
    "mytape.gradient(y,x)"
   ]
  },
  {
   "cell_type": "markdown",
   "id": "139f2791-d40c-4f8a-9a7f-e8087e30b2ee",
   "metadata": {},
   "source": [
    "- `constant`하고 `watch`를 해주면 `Variable`과 같은 결과가 나온다.\n",
    "- `Variable`로 표현된 오브젝트는 자동 감시(자동으로 watch 메소드 실행)한다.\n",
    "- `constant`는 수동 감시 한다."
   ]
  },
  {
   "cell_type": "markdown",
   "id": "22e9de3f-00eb-4528-9fa4-aac858141021",
   "metadata": {},
   "source": [
    "- 어떤 연습장에서는 변수로, 어떤 연습장에서는 상수로 보고 싶을 때가 있다.\n",
    "- 이게 수동 감시가 필요한 이유!"
   ]
  },
  {
   "cell_type": "markdown",
   "id": "3f40d620-ed67-490d-b095-60cb478c2d80",
   "metadata": {},
   "source": [
    "**관찰 3**\n",
    "- ??? 자동 감시 모드를 꺼도 되지 않나?"
   ]
  },
  {
   "cell_type": "code",
   "execution_count": 205,
   "id": "6a263b82-66bb-4963-8667-b462edc3192e",
   "metadata": {},
   "outputs": [],
   "source": [
    "x=tf.Variable(2.0)\n",
    "\n",
    "with tf.GradientTape(persistent=True, watch_accessed_variables=False) as mytape :\n",
    "    a=x/2*3\n",
    "    y=a*x**2"
   ]
  },
  {
   "cell_type": "code",
   "execution_count": 206,
   "id": "0e801207-9db5-4ef0-a3a1-ab37fb0b3b81",
   "metadata": {},
   "outputs": [],
   "source": [
    "mytape.gradient(y,x)"
   ]
  },
  {
   "cell_type": "markdown",
   "id": "d4db9436-87b0-427d-a234-91ab8f534914",
   "metadata": {},
   "source": [
    "**관찰 4**\n",
    "- 관찰해 -> 관찰하지마 -> 관찰해"
   ]
  },
  {
   "cell_type": "code",
   "execution_count": 207,
   "id": "f3f686b4-e652-4aec-a328-a1b0df3f0073",
   "metadata": {},
   "outputs": [],
   "source": [
    "x=tf.Variable(2.0)\n",
    "\n",
    "with tf.GradientTape(persistent=True, watch_accessed_variables=False) as mytape :\n",
    "    mytape.watch(x)\n",
    "    a=x/2*3\n",
    "    y=a*x**2"
   ]
  },
  {
   "cell_type": "code",
   "execution_count": 208,
   "id": "0c5efd00-22bf-4870-a57c-203ddc4bb893",
   "metadata": {},
   "outputs": [
    {
     "data": {
      "text/plain": [
       "<tf.Tensor: shape=(), dtype=float32, numpy=18.0>"
      ]
     },
     "execution_count": 208,
     "metadata": {},
     "output_type": "execute_result"
    }
   ],
   "source": [
    "mytape.gradient(y,x)"
   ]
  },
  {
   "cell_type": "markdown",
   "id": "30ff1c9a-d90e-4da0-97dd-c774758821bb",
   "metadata": {},
   "source": [
    "**관찰 5**\n",
    "- 관찰해 -> 관찰해 -> 관찰해"
   ]
  },
  {
   "cell_type": "code",
   "execution_count": 209,
   "id": "907739aa-abc5-4117-b9e8-071d9963e409",
   "metadata": {},
   "outputs": [],
   "source": [
    "x=tf.Variable(2.0)\n",
    "\n",
    "with tf.GradientTape(persistent=True) as mytape :\n",
    "    mytape.watch(x)\n",
    "    a=x/2*3\n",
    "    y=a*x**2"
   ]
  },
  {
   "cell_type": "code",
   "execution_count": 210,
   "id": "6f3ec467-c950-461b-b628-7eec7471f5d0",
   "metadata": {},
   "outputs": [
    {
     "data": {
      "text/plain": [
       "<tf.Tensor: shape=(), dtype=float32, numpy=18.0>"
      ]
     },
     "execution_count": 210,
     "metadata": {},
     "output_type": "execute_result"
    }
   ],
   "source": [
    "mytape.gradient(y,x)"
   ]
  }
 ],
 "metadata": {
  "colab": {
   "name": "2022-03-21-(3주차) 3월21일.ipynb",
   "provenance": []
  },
  "kernelspec": {
   "display_name": "Python 3 (ipykernel)",
   "language": "python",
   "name": "python3"
  },
  "language_info": {
   "codemirror_mode": {
    "name": "ipython",
    "version": 3
   },
   "file_extension": ".py",
   "mimetype": "text/x-python",
   "name": "python",
   "nbconvert_exporter": "python",
   "pygments_lexer": "ipython3",
   "version": "3.8.12"
  }
 },
 "nbformat": 4,
 "nbformat_minor": 5
}
