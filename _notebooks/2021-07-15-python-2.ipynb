{
 "cells": [
  {
   "cell_type": "markdown",
   "id": "1230ec33-f4e9-4a1d-bc07-5c74e136acc4",
   "metadata": {},
   "source": [
    "# (공부) 파이썬 객체 소개_1차원 자료형\n",
    "> 작성완료\n",
    "\n",
    "- toc:true\n",
    "- branch: master\n",
    "- badges: true\n",
    "- comments: true\n",
    "- author: kimha02\n",
    "- categories: [Python]"
   ]
  },
  {
   "cell_type": "markdown",
   "id": "5f1fb3f9-6356-4bb2-b465-cb8b74b9b9e0",
   "metadata": {},
   "source": [
    "# `1차원`자료형 "
   ]
  },
  {
   "cell_type": "markdown",
   "id": "eb09e40e-65f1-4b6e-9392-8cc5b73f2c42",
   "metadata": {},
   "source": [
    "### (1) `str`"
   ]
  },
  {
   "cell_type": "code",
   "execution_count": 70,
   "id": "dfdca0ea-e861-49d0-9b97-642381b9a65e",
   "metadata": {},
   "outputs": [],
   "source": [
    "a='hayoung'"
   ]
  },
  {
   "cell_type": "code",
   "execution_count": 71,
   "id": "e46bdc84-9649-4b2d-9dc8-86ab3a3d4982",
   "metadata": {},
   "outputs": [
    {
     "data": {
      "text/plain": [
       "'hayoung'"
      ]
     },
     "execution_count": 71,
     "metadata": {},
     "output_type": "execute_result"
    }
   ],
   "source": [
    "a"
   ]
  },
  {
   "cell_type": "code",
   "execution_count": 72,
   "id": "695f7a53-9d87-4a9f-82fe-842ceb00630f",
   "metadata": {},
   "outputs": [],
   "source": [
    "a='X'\n",
    "b='2'    #2라는 문자 자체"
   ]
  },
  {
   "cell_type": "code",
   "execution_count": 74,
   "id": "a50bebd8-02f8-4a9f-b701-0d9a43f2d9ee",
   "metadata": {},
   "outputs": [
    {
     "data": {
      "text/plain": [
       "'X2'"
      ]
     },
     "execution_count": 74,
     "metadata": {},
     "output_type": "execute_result"
    }
   ],
   "source": [
    "a+b   #2문자가 합쳐진 모습으로 결과 도출"
   ]
  },
  {
   "cell_type": "code",
   "execution_count": 75,
   "id": "26a7e54a-3033-4017-a466-ea14a168ac81",
   "metadata": {},
   "outputs": [
    {
     "ename": "TypeError",
     "evalue": "unsupported operand type(s) for -: 'str' and 'str'",
     "output_type": "error",
     "traceback": [
      "\u001b[0;31m---------------------------------------------------------------------------\u001b[0m",
      "\u001b[0;31mTypeError\u001b[0m                                 Traceback (most recent call last)",
      "\u001b[0;32m<ipython-input-75-a5eca377074f>\u001b[0m in \u001b[0;36m<module>\u001b[0;34m\u001b[0m\n\u001b[0;32m----> 1\u001b[0;31m \u001b[0ma\u001b[0m\u001b[0;34m-\u001b[0m\u001b[0mb\u001b[0m  \u001b[0;31m#str에는 - 타입의 연산이 없음\u001b[0m\u001b[0;34m\u001b[0m\u001b[0;34m\u001b[0m\u001b[0m\n\u001b[0m",
      "\u001b[0;31mTypeError\u001b[0m: unsupported operand type(s) for -: 'str' and 'str'"
     ]
    }
   ],
   "source": [
    "a-b  #str에는 - 타입의 연산이 없음"
   ]
  },
  {
   "cell_type": "code",
   "execution_count": 76,
   "id": "a7b6e94a-eb6b-410e-87fe-15a231eaa170",
   "metadata": {},
   "outputs": [
    {
     "ename": "TypeError",
     "evalue": "can't multiply sequence by non-int of type 'str'",
     "output_type": "error",
     "traceback": [
      "\u001b[0;31m---------------------------------------------------------------------------\u001b[0m",
      "\u001b[0;31mTypeError\u001b[0m                                 Traceback (most recent call last)",
      "\u001b[0;32m<ipython-input-76-231357718326>\u001b[0m in \u001b[0;36m<module>\u001b[0;34m\u001b[0m\n\u001b[0;32m----> 1\u001b[0;31m \u001b[0ma\u001b[0m\u001b[0;34m*\u001b[0m\u001b[0mb\u001b[0m \u001b[0;31m# a랑 b랑 곱해볼까? 곱도 안 된다!\u001b[0m\u001b[0;34m\u001b[0m\u001b[0;34m\u001b[0m\u001b[0m\n\u001b[0m",
      "\u001b[0;31mTypeError\u001b[0m: can't multiply sequence by non-int of type 'str'"
     ]
    }
   ],
   "source": [
    "a*b # a랑 b랑 곱해볼까? 곱도 안 된다!"
   ]
  },
  {
   "cell_type": "code",
   "execution_count": 77,
   "id": "4ff1dab9-de3a-4c5b-ba82-931c8e21987a",
   "metadata": {},
   "outputs": [
    {
     "data": {
      "text/plain": [
       "'XXX'"
      ]
     },
     "execution_count": 77,
     "metadata": {},
     "output_type": "execute_result"
    }
   ],
   "source": [
    "a*3 # a*3=a+a+a 이니까? "
   ]
  },
  {
   "cell_type": "code",
   "execution_count": 78,
   "id": "cad01f04-1570-4e09-8532-4b3571ed5877",
   "metadata": {},
   "outputs": [],
   "source": [
    "a='hayoung'"
   ]
  },
  {
   "cell_type": "code",
   "execution_count": 79,
   "id": "85efefe3-2a5d-43b2-8509-5db42322dd3f",
   "metadata": {},
   "outputs": [
    {
     "data": {
      "text/plain": [
       "'hayoung'"
      ]
     },
     "execution_count": 79,
     "metadata": {},
     "output_type": "execute_result"
    }
   ],
   "source": [
    "a"
   ]
  },
  {
   "cell_type": "markdown",
   "id": "e67996e7-4e97-467d-bde9-3fb0f7f832bc",
   "metadata": {},
   "source": [
    "|h|a|y|o|u|n|g|\n",
    "|-|-|-|-|-|-|-|\n",
    "|0|1|2|3|4|5|6|\n",
    "|0|-6|-5|-4|-3|-2|-1|"
   ]
  },
  {
   "cell_type": "markdown",
   "id": "77292391-6c7e-4227-963a-8bca96d4b07a",
   "metadata": {},
   "source": [
    "`-` 위 표를 통해 순서를 확인할 수 있다"
   ]
  },
  {
   "cell_type": "code",
   "execution_count": 80,
   "id": "efbcc037-b444-4460-87a5-f6706b6f13ea",
   "metadata": {},
   "outputs": [
    {
     "data": {
      "text/plain": [
       "'h'"
      ]
     },
     "execution_count": 80,
     "metadata": {},
     "output_type": "execute_result"
    }
   ],
   "source": [
    "a[0]"
   ]
  },
  {
   "cell_type": "code",
   "execution_count": 84,
   "id": "0d8551ad-2d0b-4f4f-b803-724863ae42aa",
   "metadata": {},
   "outputs": [
    {
     "data": {
      "text/plain": [
       "'hay'"
      ]
     },
     "execution_count": 84,
     "metadata": {},
     "output_type": "execute_result"
    }
   ],
   "source": [
    "a[0:3] # 0,1,2,3 의 인덱스가 아니라 0,1,2 "
   ]
  },
  {
   "cell_type": "code",
   "execution_count": 85,
   "id": "5665f484-433b-4820-859c-1552eb8b9ef1",
   "metadata": {},
   "outputs": [
    {
     "data": {
      "text/plain": [
       "'ay'"
      ]
     },
     "execution_count": 85,
     "metadata": {},
     "output_type": "execute_result"
    }
   ],
   "source": [
    "a[1:3] # index 1부터시작해서 (3-1)개만큼 반환 "
   ]
  },
  {
   "cell_type": "code",
   "execution_count": 90,
   "id": "bcbd2903-8c3b-4e66-94bd-18ce09b0dfae",
   "metadata": {},
   "outputs": [
    {
     "data": {
      "text/plain": [
       "'hay'"
      ]
     },
     "execution_count": 90,
     "metadata": {},
     "output_type": "execute_result"
    }
   ],
   "source": [
    "a[:3] # =a[0:3]"
   ]
  },
  {
   "cell_type": "code",
   "execution_count": 89,
   "id": "15758d19-8731-46bd-9036-ca02815bb058",
   "metadata": {},
   "outputs": [
    {
     "data": {
      "text/plain": [
       "'oung'"
      ]
     },
     "execution_count": 89,
     "metadata": {},
     "output_type": "execute_result"
    }
   ],
   "source": [
    "a[3:7] # =a[3:]"
   ]
  },
  {
   "cell_type": "code",
   "execution_count": 91,
   "id": "ab7ead4e-470d-4048-9edb-e26798219377",
   "metadata": {},
   "outputs": [
    {
     "data": {
      "text/plain": [
       "'ay'"
      ]
     },
     "execution_count": 91,
     "metadata": {},
     "output_type": "execute_result"
    }
   ],
   "source": [
    "a[1:-4] "
   ]
  },
  {
   "cell_type": "code",
   "execution_count": 94,
   "id": "5b43ac9d-d9f0-440f-81d9-3980db3cfe83",
   "metadata": {},
   "outputs": [
    {
     "data": {
      "text/plain": [
       "'h'"
      ]
     },
     "execution_count": 94,
     "metadata": {},
     "output_type": "execute_result"
    }
   ],
   "source": [
    "a[0:-6]"
   ]
  },
  {
   "cell_type": "markdown",
   "id": "da01769f-870b-4b86-a2e0-309d31518e94",
   "metadata": {},
   "source": [
    "#### [$\\ast$] `0차원` vs `1차원`"
   ]
  },
  {
   "cell_type": "code",
   "execution_count": 15,
   "id": "7e5f3431-3b82-4807-948e-389620281bf6",
   "metadata": {},
   "outputs": [],
   "source": [
    "a=3.144"
   ]
  },
  {
   "cell_type": "code",
   "execution_count": 16,
   "id": "9ce1de32-78e3-44ce-923b-f313aea71e6a",
   "metadata": {},
   "outputs": [
    {
     "ename": "TypeError",
     "evalue": "object of type 'float' has no len()",
     "output_type": "error",
     "traceback": [
      "\u001b[0;31m---------------------------------------------------------------------------\u001b[0m",
      "\u001b[0;31mTypeError\u001b[0m                                 Traceback (most recent call last)",
      "\u001b[0;32m<ipython-input-16-d3d2954597f2>\u001b[0m in \u001b[0;36m<module>\u001b[0;34m\u001b[0m\n\u001b[0;32m----> 1\u001b[0;31m \u001b[0mlen\u001b[0m\u001b[0;34m(\u001b[0m\u001b[0ma\u001b[0m\u001b[0;34m)\u001b[0m \u001b[0;31m#Int는 길이가 없음\u001b[0m\u001b[0;34m\u001b[0m\u001b[0;34m\u001b[0m\u001b[0m\n\u001b[0m",
      "\u001b[0;31mTypeError\u001b[0m: object of type 'float' has no len()"
     ]
    }
   ],
   "source": [
    "len(a) #Int는 길이가 없음"
   ]
  },
  {
   "cell_type": "code",
   "execution_count": 116,
   "id": "4688675d-f161-4850-9ca2-d0c35b9dce5a",
   "metadata": {},
   "outputs": [],
   "source": [
    "a='3.144'"
   ]
  },
  {
   "cell_type": "code",
   "execution_count": 117,
   "id": "0086b73d-68dc-42db-abd6-e9402c30b57b",
   "metadata": {},
   "outputs": [
    {
     "data": {
      "text/plain": [
       "5"
      ]
     },
     "execution_count": 117,
     "metadata": {},
     "output_type": "execute_result"
    }
   ],
   "source": [
    "len(a)  #.도 포함되네!"
   ]
  },
  {
   "cell_type": "code",
   "execution_count": 118,
   "id": "36aa35c3-4ca7-4a00-b496-85d20f988143",
   "metadata": {},
   "outputs": [],
   "source": [
    "a='1'"
   ]
  },
  {
   "cell_type": "code",
   "execution_count": 119,
   "id": "82b55210-6f9a-4aba-b61e-496f292ba612",
   "metadata": {},
   "outputs": [
    {
     "data": {
      "text/plain": [
       "1"
      ]
     },
     "execution_count": 119,
     "metadata": {},
     "output_type": "execute_result"
    }
   ],
   "source": [
    "len(a)"
   ]
  },
  {
   "cell_type": "code",
   "execution_count": 120,
   "id": "d8250788-cc5d-4fb7-a2f8-d86b36497235",
   "metadata": {},
   "outputs": [],
   "source": [
    "a=1"
   ]
  },
  {
   "cell_type": "code",
   "execution_count": 121,
   "id": "d0a99f8e-e26d-4182-b833-a4579db20087",
   "metadata": {},
   "outputs": [
    {
     "ename": "TypeError",
     "evalue": "object of type 'int' has no len()",
     "output_type": "error",
     "traceback": [
      "\u001b[0;31m---------------------------------------------------------------------------\u001b[0m",
      "\u001b[0;31mTypeError\u001b[0m                                 Traceback (most recent call last)",
      "\u001b[0;32m<ipython-input-121-1a2e6ec5f1e3>\u001b[0m in \u001b[0;36m<module>\u001b[0;34m\u001b[0m\n\u001b[0;32m----> 1\u001b[0;31m \u001b[0mlen\u001b[0m\u001b[0;34m(\u001b[0m\u001b[0ma\u001b[0m\u001b[0;34m)\u001b[0m\u001b[0;34m\u001b[0m\u001b[0;34m\u001b[0m\u001b[0m\n\u001b[0m",
      "\u001b[0;31mTypeError\u001b[0m: object of type 'int' has no len()"
     ]
    }
   ],
   "source": [
    "len(a)"
   ]
  },
  {
   "cell_type": "code",
   "execution_count": 96,
   "id": "637b6fbc-733b-44b4-a572-40019ddcfa4f",
   "metadata": {},
   "outputs": [],
   "source": [
    "a='hayoung'"
   ]
  },
  {
   "cell_type": "code",
   "execution_count": 97,
   "id": "4913e58e-20c6-4a74-a04c-28c12cd1c78c",
   "metadata": {},
   "outputs": [
    {
     "data": {
      "text/plain": [
       "7"
      ]
     },
     "execution_count": 97,
     "metadata": {},
     "output_type": "execute_result"
    }
   ],
   "source": [
    "len(a)"
   ]
  },
  {
   "cell_type": "markdown",
   "id": "0e253a3c-fa3a-44d5-8460-8c0d1e373c99",
   "metadata": {},
   "source": [
    "----------"
   ]
  },
  {
   "cell_type": "markdown",
   "id": "cff84b80-9c33-405b-94e1-d23d1b80d375",
   "metadata": {},
   "source": [
    "### (2) `list`  "
   ]
  },
  {
   "cell_type": "markdown",
   "id": "348a7cdc-be61-48f1-80b8-f5c874a5d904",
   "metadata": {},
   "source": [
    "`-` 자료를 추가 및 삭제할 때 편리함"
   ]
  },
  {
   "cell_type": "code",
   "execution_count": 124,
   "id": "d1573e16-f9cb-481c-9baf-6eafb382ae15",
   "metadata": {},
   "outputs": [],
   "source": [
    "a=[11,22]"
   ]
  },
  {
   "cell_type": "code",
   "execution_count": 125,
   "id": "d9199892-87e6-4424-bf71-4fd31f172b34",
   "metadata": {},
   "outputs": [
    {
     "data": {
      "text/plain": [
       "[11, 22]"
      ]
     },
     "execution_count": 125,
     "metadata": {},
     "output_type": "execute_result"
    }
   ],
   "source": [
    "a"
   ]
  },
  {
   "cell_type": "code",
   "execution_count": 126,
   "id": "d648cf07-21ec-4d60-823b-9a1987e133e1",
   "metadata": {},
   "outputs": [],
   "source": [
    "b=[12,13]"
   ]
  },
  {
   "cell_type": "markdown",
   "id": "3ad74f12-655b-4344-bb58-4c751ab0df71",
   "metadata": {},
   "source": [
    "$a=(11,12)$\n",
    "\n",
    "$b=(12,13)$\n",
    "\n",
    "$a+b=(23,25)$"
   ]
  },
  {
   "cell_type": "code",
   "execution_count": 128,
   "id": "9df2e937-39a3-4b60-9be8-c60b2aa07b9a",
   "metadata": {},
   "outputs": [
    {
     "data": {
      "text/plain": [
       "[11, 22, 12, 13]"
      ]
     },
     "execution_count": 128,
     "metadata": {},
     "output_type": "execute_result"
    }
   ],
   "source": [
    "a+b"
   ]
  },
  {
   "cell_type": "code",
   "execution_count": 129,
   "id": "e02d5038-d0ca-46f7-ad0b-44642789c0e8",
   "metadata": {},
   "outputs": [
    {
     "ename": "TypeError",
     "evalue": "unsupported operand type(s) for -: 'list' and 'list'",
     "output_type": "error",
     "traceback": [
      "\u001b[0;31m---------------------------------------------------------------------------\u001b[0m",
      "\u001b[0;31mTypeError\u001b[0m                                 Traceback (most recent call last)",
      "\u001b[0;32m<ipython-input-129-5ae0619f8fe1>\u001b[0m in \u001b[0;36m<module>\u001b[0;34m\u001b[0m\n\u001b[0;32m----> 1\u001b[0;31m \u001b[0ma\u001b[0m\u001b[0;34m-\u001b[0m\u001b[0mb\u001b[0m\u001b[0;34m\u001b[0m\u001b[0;34m\u001b[0m\u001b[0m\n\u001b[0m",
      "\u001b[0;31mTypeError\u001b[0m: unsupported operand type(s) for -: 'list' and 'list'"
     ]
    }
   ],
   "source": [
    "a-b  #연산 불가"
   ]
  },
  {
   "cell_type": "code",
   "execution_count": 130,
   "id": "10c1dbf0-70fe-4589-a965-e61a307a860f",
   "metadata": {},
   "outputs": [
    {
     "data": {
      "text/plain": [
       "[11, 22, 11, 22]"
      ]
     },
     "execution_count": 130,
     "metadata": {},
     "output_type": "execute_result"
    }
   ],
   "source": [
    "2*a # a+a "
   ]
  },
  {
   "cell_type": "code",
   "execution_count": 135,
   "id": "e5708db6-da0f-4ec7-a7cc-9caee30d2fdc",
   "metadata": {},
   "outputs": [
    {
     "data": {
      "text/plain": [
       "[11, 22, 33, 345]"
      ]
     },
     "execution_count": 135,
     "metadata": {},
     "output_type": "execute_result"
    }
   ],
   "source": [
    "a+[33]+[345]  #추가"
   ]
  },
  {
   "cell_type": "code",
   "execution_count": 136,
   "id": "1bef0c4a-546c-47ef-bca3-681f632e4411",
   "metadata": {},
   "outputs": [],
   "source": [
    "c=[11,222,333]"
   ]
  },
  {
   "cell_type": "code",
   "execution_count": 98,
   "id": "609c2504-23d1-42df-bd9e-e124d40ae5e7",
   "metadata": {},
   "outputs": [
    {
     "data": {
      "text/plain": [
       "233"
      ]
     },
     "execution_count": 98,
     "metadata": {},
     "output_type": "execute_result"
    }
   ],
   "source": [
    "c[0]+c[1]  #c에서 0(1번째), 1(2번째)를 합하라"
   ]
  },
  {
   "cell_type": "markdown",
   "id": "f29f75f1-5bf1-46ef-8b64-b0233ad783e3",
   "metadata": {},
   "source": [
    "`list`끼리는 수치적연산이 되지 않지만 `list의 원소끼리는` 수치연산이 가능할 수도 있음. "
   ]
  },
  {
   "cell_type": "code",
   "execution_count": 19,
   "id": "cadf2462-7014-45c6-a276-fb1597c7dbf6",
   "metadata": {},
   "outputs": [],
   "source": [
    "c1=11\n",
    "c2=222\n",
    "c3=333"
   ]
  },
  {
   "cell_type": "code",
   "execution_count": 20,
   "id": "aa5b1f6e-4514-4346-a67a-65d15fca21ee",
   "metadata": {},
   "outputs": [],
   "source": [
    "c=[c1,c2,c3]"
   ]
  },
  {
   "cell_type": "code",
   "execution_count": 21,
   "id": "d7aa1d0c-3102-4f77-a1ef-1583013394fb",
   "metadata": {},
   "outputs": [
    {
     "data": {
      "text/plain": [
       "233"
      ]
     },
     "execution_count": 21,
     "metadata": {},
     "output_type": "execute_result"
    }
   ],
   "source": [
    "c1+c2 # c[0]+c[1]"
   ]
  },
  {
   "cell_type": "markdown",
   "id": "47d8a117-2edb-4122-a4fc-65d4c7d23e2f",
   "metadata": {},
   "source": [
    "#### [$\\ast$] `list`의 원소는 꼭 숫자형만 가능한 것이 아니다. "
   ]
  },
  {
   "cell_type": "code",
   "execution_count": 21,
   "id": "73d21309-b07f-4824-a205-6e182442521a",
   "metadata": {},
   "outputs": [],
   "source": [
    "list1=[1,3.14,True,'a',[1,2],(1,2),\n",
    "      {'name':'guebin','age':38},{1,2,3}]"
   ]
  },
  {
   "cell_type": "code",
   "execution_count": 22,
   "id": "d8cfb036-f1a5-4ba9-a4f2-86078310648a",
   "metadata": {},
   "outputs": [],
   "source": [
    "l0=list1[0]\n",
    "l1=list1[1]\n",
    "l2=list1[2]\n",
    "l3=list1[3]\n",
    "l4=list1[4]\n",
    "l5=list1[5]\n",
    "l6=list1[6]\n",
    "l7=list1[7]"
   ]
  },
  {
   "cell_type": "code",
   "execution_count": 17,
   "id": "26f8a210-0f5b-48d2-98c2-368bede332cc",
   "metadata": {},
   "outputs": [],
   "source": [
    "list2=[list1,3.14]"
   ]
  },
  {
   "cell_type": "code",
   "execution_count": 19,
   "id": "db9d54f7-ba6c-474d-ae0d-37ed39800696",
   "metadata": {},
   "outputs": [
    {
     "data": {
      "text/plain": [
       "[[1,\n",
       "  3.14,\n",
       "  True,\n",
       "  'a',\n",
       "  [1, 2],\n",
       "  (1, 2),\n",
       "  {'name': 'guebin', 'age': 38},\n",
       "  {1, 2, 3}],\n",
       " 3.14]"
      ]
     },
     "execution_count": 19,
     "metadata": {},
     "output_type": "execute_result"
    }
   ],
   "source": [
    "list2"
   ]
  },
  {
   "cell_type": "code",
   "execution_count": 18,
   "id": "3c29cbbb-997a-4304-bb0e-d5e15a698eef",
   "metadata": {},
   "outputs": [
    {
     "data": {
      "text/plain": [
       "3.14"
      ]
     },
     "execution_count": 18,
     "metadata": {},
     "output_type": "execute_result"
    }
   ],
   "source": [
    "list2[1]"
   ]
  },
  {
   "cell_type": "markdown",
   "id": "cf741b82-3ffe-4eb8-a048-74f66c6bd5eb",
   "metadata": {
    "id": "wYbFthLFGySb"
   },
   "source": [
    "#### [$\\ast$] 리스트 원소 수정"
   ]
  },
  {
   "cell_type": "markdown",
   "id": "bf97b579-5e8b-4804-a351-3030901c540a",
   "metadata": {
    "id": "gSAJf-3VHCeQ"
   },
   "source": [
    "`-` 스트링(str)에서는 원소 수정이 잘 되지 않음. "
   ]
  },
  {
   "cell_type": "code",
   "execution_count": 1,
   "id": "c10ea81e-347a-4cb2-9d01-ad836814b08d",
   "metadata": {
    "id": "2LPzjPI6G2O4"
   },
   "outputs": [],
   "source": [
    "a='hayoung'"
   ]
  },
  {
   "cell_type": "code",
   "execution_count": 2,
   "id": "f6f9b336-5208-479a-b11a-0016ef10ebe6",
   "metadata": {
    "colab": {
     "base_uri": "https://localhost:8080/",
     "height": 164
    },
    "id": "EO1SEQqyHHH6",
    "outputId": "279babff-f5d0-4bae-ee25-58193d239bd5"
   },
   "outputs": [
    {
     "ename": "TypeError",
     "evalue": "'str' object does not support item assignment",
     "output_type": "error",
     "traceback": [
      "\u001b[0;31m---------------------------------------------------------------------------\u001b[0m",
      "\u001b[0;31mTypeError\u001b[0m                                 Traceback (most recent call last)",
      "\u001b[0;32m<ipython-input-2-5690b0c929d5>\u001b[0m in \u001b[0;36m<module>\u001b[0;34m\u001b[0m\n\u001b[0;32m----> 1\u001b[0;31m \u001b[0ma\u001b[0m\u001b[0;34m[\u001b[0m\u001b[0;36m0\u001b[0m\u001b[0;34m]\u001b[0m\u001b[0;34m=\u001b[0m\u001b[0;34m''\u001b[0m\u001b[0;34m\u001b[0m\u001b[0;34m\u001b[0m\u001b[0m\n\u001b[0m",
      "\u001b[0;31mTypeError\u001b[0m: 'str' object does not support item assignment"
     ]
    }
   ],
   "source": [
    "a[0]=''"
   ]
  },
  {
   "cell_type": "markdown",
   "id": "a5859fd6-bf8e-4678-883a-551c0a70ab98",
   "metadata": {
    "id": "R_4pKEDXHhGd"
   },
   "source": [
    "`-` 리스트형은 바꿀 수 있다. "
   ]
  },
  {
   "cell_type": "code",
   "execution_count": 3,
   "id": "ef5bd9a9-1778-4ad5-af37-39b94a8ce45d",
   "metadata": {
    "id": "pEZelwoiHHuA"
   },
   "outputs": [],
   "source": [
    "alist=list(a)  #각 글자를 원소화"
   ]
  },
  {
   "cell_type": "code",
   "execution_count": 4,
   "id": "cefdb2f8-0b7e-41a2-8dba-28f520bd7c2c",
   "metadata": {
    "colab": {
     "base_uri": "https://localhost:8080/"
    },
    "id": "g8mU5IQBHO9l",
    "outputId": "9739a345-7ec2-4fdd-8003-d5775559fe01"
   },
   "outputs": [
    {
     "data": {
      "text/plain": [
       "['h', 'a', 'y', 'o', 'u', 'n', 'g']"
      ]
     },
     "execution_count": 4,
     "metadata": {},
     "output_type": "execute_result"
    }
   ],
   "source": [
    "alist"
   ]
  },
  {
   "cell_type": "code",
   "execution_count": 5,
   "id": "67d6b008-5f12-4b74-9d60-cd54f9d43041",
   "metadata": {
    "colab": {
     "base_uri": "https://localhost:8080/",
     "height": 35
    },
    "id": "bk55he4xHURk",
    "outputId": "c70ca9ca-1e16-4894-9adc-dea8ccd38a94"
   },
   "outputs": [
    {
     "data": {
      "text/plain": [
       "'h'"
      ]
     },
     "execution_count": 5,
     "metadata": {},
     "output_type": "execute_result"
    }
   ],
   "source": [
    "alist[0]"
   ]
  },
  {
   "cell_type": "code",
   "execution_count": 7,
   "id": "4fbc8dc5-f692-4857-9ea1-6629dc463447",
   "metadata": {
    "id": "1jE-be0CHVgN"
   },
   "outputs": [],
   "source": [
    "alist[0]='H'"
   ]
  },
  {
   "cell_type": "code",
   "execution_count": 8,
   "id": "a528a74c-23b7-4109-bbbd-7dc40ebf3302",
   "metadata": {
    "colab": {
     "base_uri": "https://localhost:8080/"
    },
    "id": "FKXq1D9PHYRz",
    "outputId": "f0cca2ec-c371-443c-e8db-9bd1963213aa"
   },
   "outputs": [
    {
     "data": {
      "text/plain": [
       "['H', 'a', 'y', 'o', 'u', 'n', 'g']"
      ]
     },
     "execution_count": 8,
     "metadata": {},
     "output_type": "execute_result"
    }
   ],
   "source": [
    "alist"
   ]
  },
  {
   "cell_type": "markdown",
   "id": "69e0539b-075e-4a0b-a48e-1eb68a9a0b86",
   "metadata": {
    "id": "N3FdCWnsHraw"
   },
   "source": [
    "#### [$\\ast$] 리스트 원소 삭제"
   ]
  },
  {
   "cell_type": "code",
   "execution_count": 9,
   "id": "e63d29bb-996b-4cdb-b327-771cd37b1a67",
   "metadata": {
    "colab": {
     "base_uri": "https://localhost:8080/"
    },
    "id": "1R1VJ1N9HwKE",
    "outputId": "3b14401f-7133-4158-b038-034d64ecba71"
   },
   "outputs": [
    {
     "data": {
      "text/plain": [
       "['H', 'a', 'y', 'o', 'u', 'n', 'g']"
      ]
     },
     "execution_count": 9,
     "metadata": {},
     "output_type": "execute_result"
    }
   ],
   "source": [
    "alist"
   ]
  },
  {
   "cell_type": "code",
   "execution_count": 10,
   "id": "7d5f6148-0313-49cb-90a3-e6adb0dd84b8",
   "metadata": {
    "id": "EPLZ82oEHyuX"
   },
   "outputs": [],
   "source": [
    "del alist[0]"
   ]
  },
  {
   "cell_type": "code",
   "execution_count": 11,
   "id": "8d051219-ae4a-4890-8a1c-8b405d6aa3f3",
   "metadata": {
    "colab": {
     "base_uri": "https://localhost:8080/"
    },
    "id": "NSEXd4MNH3G4",
    "outputId": "c215dbd5-9890-43f2-f97f-38f830f2dcad"
   },
   "outputs": [
    {
     "data": {
      "text/plain": [
       "['a', 'y', 'o', 'u', 'n', 'g']"
      ]
     },
     "execution_count": 11,
     "metadata": {},
     "output_type": "execute_result"
    }
   ],
   "source": [
    "alist"
   ]
  },
  {
   "cell_type": "code",
   "execution_count": 30,
   "id": "2f92e593-d987-40e7-99e6-715ed22a794d",
   "metadata": {
    "id": "bZdN90-SIEIT"
   },
   "outputs": [],
   "source": [
    "alist2=list(a)"
   ]
  },
  {
   "cell_type": "code",
   "execution_count": 31,
   "id": "c3f7c20c-a6ae-4b8d-897a-6842b0f6fbad",
   "metadata": {
    "colab": {
     "base_uri": "https://localhost:8080/"
    },
    "id": "kF9uK-l6IKw_",
    "outputId": "77f7d715-7f0d-47bc-cd1f-2370a0b44323"
   },
   "outputs": [
    {
     "data": {
      "text/plain": [
       "['h', 'a', 'y', 'o', 'u', 'n', 'g']"
      ]
     },
     "execution_count": 31,
     "metadata": {},
     "output_type": "execute_result"
    }
   ],
   "source": [
    "alist2"
   ]
  },
  {
   "cell_type": "code",
   "execution_count": 32,
   "id": "3ebc04d4-0dde-4aab-998b-8121d0ec80ca",
   "metadata": {
    "id": "zD1zgdKeIWpR"
   },
   "outputs": [],
   "source": [
    "alist2=alist2[1:7]"
   ]
  },
  {
   "cell_type": "code",
   "execution_count": 33,
   "id": "9dbd4f96-e05e-4b7f-bfbc-fd221ebc05cc",
   "metadata": {
    "colab": {
     "base_uri": "https://localhost:8080/"
    },
    "id": "ALdgEy1nIbiw",
    "outputId": "69d8252c-5a56-4a5f-c61a-5a22b3a2c7a5"
   },
   "outputs": [
    {
     "data": {
      "text/plain": [
       "['a', 'y', 'o', 'u', 'n', 'g']"
      ]
     },
     "execution_count": 33,
     "metadata": {},
     "output_type": "execute_result"
    }
   ],
   "source": [
    "alist2"
   ]
  },
  {
   "cell_type": "markdown",
   "id": "77f07423-64ad-49c1-a5f9-db25993cd239",
   "metadata": {
    "id": "NXu01yk3H8uX"
   },
   "source": [
    "#### [$\\ast$] 리스트 원소 추가"
   ]
  },
  {
   "cell_type": "code",
   "execution_count": 34,
   "id": "bfdb209b-ac84-4466-b4bb-43c9fa0cc682",
   "metadata": {
    "id": "Tt8o9PZlIBGu"
   },
   "outputs": [],
   "source": [
    "a=[1,2,3]"
   ]
  },
  {
   "cell_type": "code",
   "execution_count": 35,
   "id": "9a41cb3b-9888-4d64-825e-e198d4c7e915",
   "metadata": {
    "id": "0A68ac8qIfXs"
   },
   "outputs": [],
   "source": [
    "a.append(4)"
   ]
  },
  {
   "cell_type": "code",
   "execution_count": 36,
   "id": "56246e52-0936-4fd1-8be9-7840e75c3447",
   "metadata": {
    "colab": {
     "base_uri": "https://localhost:8080/"
    },
    "id": "-9PXUKuGIh6h",
    "outputId": "6af32b88-cb2f-44c2-8ccd-c4347f0b82c7"
   },
   "outputs": [
    {
     "data": {
      "text/plain": [
       "[1, 2, 3, 4]"
      ]
     },
     "execution_count": 36,
     "metadata": {},
     "output_type": "execute_result"
    }
   ],
   "source": [
    "a"
   ]
  },
  {
   "cell_type": "code",
   "execution_count": 37,
   "id": "ae2a2d71-ad4a-4d35-9515-858f2c074b0e",
   "metadata": {
    "id": "CN6L9_r7Iifp"
   },
   "outputs": [],
   "source": [
    "a.append([4,5])"
   ]
  },
  {
   "cell_type": "code",
   "execution_count": 38,
   "id": "8992ee89-b533-429b-9619-98db58a4d699",
   "metadata": {
    "colab": {
     "base_uri": "https://localhost:8080/"
    },
    "id": "K8snggEfImmg",
    "outputId": "a9f2397b-263d-4a3f-fdfd-40e69d3203d4"
   },
   "outputs": [
    {
     "data": {
      "text/plain": [
       "[1, 2, 3, 4, [4, 5]]"
      ]
     },
     "execution_count": 38,
     "metadata": {},
     "output_type": "execute_result"
    }
   ],
   "source": [
    "a"
   ]
  },
  {
   "cell_type": "code",
   "execution_count": 39,
   "id": "5510d147-0051-4829-acfd-7dc9d6c565ef",
   "metadata": {
    "colab": {
     "base_uri": "https://localhost:8080/"
    },
    "id": "7BQCabHdIm8r",
    "outputId": "d7753aea-81a0-4aa2-a8f6-4edc35bf06ee"
   },
   "outputs": [
    {
     "data": {
      "text/plain": [
       "[1, 2, 3, 4, [4, 5], 4, 5]"
      ]
     },
     "execution_count": 39,
     "metadata": {},
     "output_type": "execute_result"
    }
   ],
   "source": [
    "a+[4,5]"
   ]
  },
  {
   "cell_type": "markdown",
   "id": "27c89d7d-43a8-43fd-92f8-675071ae0a4f",
   "metadata": {
    "id": "7IqB3lR4IvlU"
   },
   "source": [
    "`+`연산자로 추가하는것과 `.append` 메소드로 추가하는 것의 차이점"
   ]
  },
  {
   "cell_type": "code",
   "execution_count": 3,
   "id": "942a04a8-9c55-4ae5-92e8-178a43dc57fb",
   "metadata": {
    "id": "Q_XO_PAmI27y"
   },
   "outputs": [],
   "source": [
    "a=[1,2,3]"
   ]
  },
  {
   "cell_type": "code",
   "execution_count": 4,
   "id": "f1c461cb-773c-4b7a-9274-c54ab95037fc",
   "metadata": {
    "id": "GsbZ9Y3RI78w"
   },
   "outputs": [],
   "source": [
    "a.append(4)"
   ]
  },
  {
   "cell_type": "code",
   "execution_count": 5,
   "id": "4ea588b2-acef-471a-9f93-0ae99ebe2cf5",
   "metadata": {
    "colab": {
     "base_uri": "https://localhost:8080/"
    },
    "id": "kJ-0g8KgI9nV",
    "outputId": "bc102f02-2eec-4a81-ee37-c78f6cb23c42"
   },
   "outputs": [
    {
     "data": {
      "text/plain": [
       "[1, 2, 3, 4]"
      ]
     },
     "execution_count": 5,
     "metadata": {},
     "output_type": "execute_result"
    }
   ],
   "source": [
    "a"
   ]
  },
  {
   "cell_type": "code",
   "execution_count": 6,
   "id": "de781761-1a0e-4831-b275-de0d26932f54",
   "metadata": {
    "id": "7cl_ZKLJI-Lo"
   },
   "outputs": [],
   "source": [
    "a1=[1,2,3]"
   ]
  },
  {
   "cell_type": "code",
   "execution_count": 7,
   "id": "cc7db2c1-4307-4d28-a920-4fd09e668f75",
   "metadata": {
    "colab": {
     "base_uri": "https://localhost:8080/"
    },
    "id": "xGBXyBpsJAlS",
    "outputId": "0518a34a-08e7-4ea8-b103-6d9c3a8ace49"
   },
   "outputs": [
    {
     "data": {
      "text/plain": [
       "[1, 2, 3, 4]"
      ]
     },
     "execution_count": 7,
     "metadata": {},
     "output_type": "execute_result"
    }
   ],
   "source": [
    "a1+[4]"
   ]
  },
  {
   "cell_type": "code",
   "execution_count": 8,
   "id": "630a4bc7-e5bf-4b0f-b110-9dc732ceccc0",
   "metadata": {
    "colab": {
     "base_uri": "https://localhost:8080/"
    },
    "id": "s3PKG5VvJBW3",
    "outputId": "2a4d4a4b-be2f-4592-ac48-cb030e20236d"
   },
   "outputs": [
    {
     "data": {
      "text/plain": [
       "[1, 2, 3]"
      ]
     },
     "execution_count": 8,
     "metadata": {},
     "output_type": "execute_result"
    }
   ],
   "source": [
    "a1"
   ]
  },
  {
   "cell_type": "markdown",
   "id": "c0244ccd-b081-4f64-a940-d218465c0b51",
   "metadata": {
    "id": "3wLUvMkoJJOh"
   },
   "source": [
    "`a.append(4)`: `a`를 append하라. $\\rightarrow$ `a`가 변함. \n",
    "\n",
    "`a+[4]`: `a`와 `[4]`를 add하라. 기존 `a`는 변화 없음 "
   ]
  },
  {
   "cell_type": "markdown",
   "id": "e2d53b30-beee-4e89-9f7e-e904f2c937fc",
   "metadata": {
    "id": "he_XenZgKhg5"
   },
   "source": [
    "#### [$\\ast$] 리스트컴프리헨션 ($\\star\\star\\star$)"
   ]
  },
  {
   "cell_type": "markdown",
   "id": "cf8cb7da-b4f3-421f-a19c-11ff87373757",
   "metadata": {
    "id": "szSEaqNNLEJQ"
   },
   "source": [
    "***[예비학습]`for`문 벼락치기***"
   ]
  },
  {
   "cell_type": "markdown",
   "id": "d426439d-c6c4-4c5d-9d62-902ca07deb53",
   "metadata": {
    "id": "isvtLWvtLvMK"
   },
   "source": [
    "프로그램 안에서 반복해서 무엇인가를 하고싶다? $\\rightarrow$ `for`"
   ]
  },
  {
   "cell_type": "code",
   "execution_count": null,
   "id": "034c710f-7ebd-45dd-ac08-91d850ed41be",
   "metadata": {
    "colab": {
     "base_uri": "https://localhost:8080/"
    },
    "id": "RQm9DZd-KLnz",
    "outputId": "142db4ed-097b-4988-9de4-39b26b381865"
   },
   "outputs": [
    {
     "name": "stdout",
     "output_type": "stream",
     "text": [
      "0\n",
      "1\n",
      "2\n",
      "3\n"
     ]
    }
   ],
   "source": [
    "for i in [0,1,2,3]: ## 반복실행계획\n",
    "  print(i) ## 반복실행내용"
   ]
  },
  {
   "cell_type": "code",
   "execution_count": 27,
   "id": "c9dbfed7-1890-4e94-bc04-40ad11a4ae04",
   "metadata": {
    "colab": {
     "base_uri": "https://localhost:8080/"
    },
    "id": "1AIa4tleNSvW",
    "outputId": "9f2e125f-2f49-4462-c63c-0c52b879b934"
   },
   "outputs": [
    {
     "name": "stdout",
     "output_type": "stream",
     "text": [
      "0\n",
      "1\n",
      "2\n",
      "3\n"
     ]
    }
   ],
   "source": [
    "i=0\n",
    "print(i)\n",
    "i=1\n",
    "print(i)\n",
    "i=2\n",
    "print(i)\n",
    "i=3\n",
    "print(i)"
   ]
  },
  {
   "cell_type": "code",
   "execution_count": 8,
   "id": "3acfac75-9c18-4642-919c-d85fec4af620",
   "metadata": {
    "id": "TBHPg18AMh1b"
   },
   "outputs": [],
   "source": [
    "sumi=0\n",
    "for i in [0,1,2,4]: ## 반복실행계획\n",
    "  sumi=sumi+i "
   ]
  },
  {
   "cell_type": "code",
   "execution_count": 9,
   "id": "01c687a1-a419-4da7-8292-06871923a8fe",
   "metadata": {
    "colab": {
     "base_uri": "https://localhost:8080/"
    },
    "id": "rQIzlgByMmzP",
    "outputId": "3886b481-b09a-4d7c-8d29-f1fbc681a299"
   },
   "outputs": [
    {
     "data": {
      "text/plain": [
       "7"
      ]
     },
     "execution_count": 9,
     "metadata": {},
     "output_type": "execute_result"
    }
   ],
   "source": [
    "sumi"
   ]
  },
  {
   "cell_type": "code",
   "execution_count": 10,
   "id": "e9b640f2-1323-4556-aeeb-48825ce78a90",
   "metadata": {
    "id": "iE2MndGPMviz"
   },
   "outputs": [],
   "source": [
    "sumi=0\n",
    "i=0\n",
    "sumi=sumi+i  # 0+0\n",
    "i=1\n",
    "sumi=sumi+i  # 0+1\n",
    "i=2\n",
    "sumi=sumi+i  # 1+2\n",
    "i=4\n",
    "sumi=sumi+i  # 3+4"
   ]
  },
  {
   "cell_type": "code",
   "execution_count": 11,
   "id": "699abf9a-ab22-4268-83ce-5b2fb8a6bda1",
   "metadata": {
    "colab": {
     "base_uri": "https://localhost:8080/"
    },
    "id": "GtGiTuXLNNZx",
    "outputId": "b7014c7a-db74-4849-beeb-45cbd7d70da3"
   },
   "outputs": [
    {
     "data": {
      "text/plain": [
       "7"
      ]
     },
     "execution_count": 11,
     "metadata": {},
     "output_type": "execute_result"
    }
   ],
   "source": [
    "sumi"
   ]
  },
  {
   "cell_type": "markdown",
   "id": "9167208f-1770-4e08-a826-b28d74ddd7b0",
   "metadata": {
    "id": "hmXQY9gzNe6C"
   },
   "source": [
    "예비학습 끝! "
   ]
  },
  {
   "cell_type": "markdown",
   "id": "7069046a-e5d2-48a6-ab33-0fa1013d5b24",
   "metadata": {},
   "source": [
    "----------------------------------"
   ]
  },
  {
   "cell_type": "markdown",
   "id": "424ffd37-5509-4dc5-96eb-506ac449466b",
   "metadata": {
    "id": "5NppP1KGNmR9"
   },
   "source": [
    "[예제] $2^0,2^1,2^2,2^3,2^4,2^5$를 계산해보자. "
   ]
  },
  {
   "cell_type": "markdown",
   "id": "d986ed66-74c6-4ce9-9762-27ade6daad30",
   "metadata": {
    "id": "Wm32TdGVNzGp"
   },
   "source": [
    "(풀이1) - 진짜 나쁜코드 : 확장성이 부족함"
   ]
  },
  {
   "cell_type": "code",
   "execution_count": 28,
   "id": "76d45cde-a8d9-477d-b617-be4204c5cfa2",
   "metadata": {
    "id": "txZSN9aiNk48"
   },
   "outputs": [],
   "source": [
    "x=[2**0,2**1,2**2,2**3,2**4,2**5]"
   ]
  },
  {
   "cell_type": "code",
   "execution_count": 29,
   "id": "23d5c08d-829a-416c-80cf-061cd6cde4e8",
   "metadata": {
    "colab": {
     "base_uri": "https://localhost:8080/"
    },
    "id": "8Xkrnt0UNOqn",
    "outputId": "a63ae0f7-5268-460e-a725-a91226040dfa"
   },
   "outputs": [
    {
     "data": {
      "text/plain": [
       "[1, 2, 4, 8, 16, 32]"
      ]
     },
     "execution_count": 29,
     "metadata": {},
     "output_type": "execute_result"
    }
   ],
   "source": [
    "x"
   ]
  },
  {
   "cell_type": "markdown",
   "id": "77bdec62-cc67-4a1b-be6e-6d3476492864",
   "metadata": {
    "id": "sM1ZG4seORQW"
   },
   "source": [
    "(풀이2) - 그럭저럭 괜찮은 코드; `for`문을 이용했음. (버전1)"
   ]
  },
  {
   "cell_type": "code",
   "execution_count": null,
   "id": "383baaae-12f5-44ed-9db7-dd8257efabc6",
   "metadata": {
    "id": "wZCq32q_N7C2"
   },
   "outputs": [],
   "source": [
    "x=[]\n",
    "for i in [0,1,2,3,4,5]:\n",
    "  x.append(2**i)"
   ]
  },
  {
   "cell_type": "code",
   "execution_count": null,
   "id": "150836f9-ad97-475e-ad52-848cc935e3ab",
   "metadata": {
    "colab": {
     "base_uri": "https://localhost:8080/"
    },
    "id": "D21IFE6-PU5A",
    "outputId": "77794d26-45d6-4f6e-82fb-5d04a5f89c32"
   },
   "outputs": [
    {
     "data": {
      "text/plain": [
       "[1, 2, 4, 8, 16, 32]"
      ]
     },
     "execution_count": 96,
     "metadata": {
      "tags": []
     },
     "output_type": "execute_result"
    }
   ],
   "source": [
    "x"
   ]
  },
  {
   "cell_type": "markdown",
   "id": "861502bf-d972-4964-bf94-8114895d3378",
   "metadata": {
    "id": "wqjKs09lPM_H"
   },
   "source": [
    "(풀이2) - 그럭저럭 괜찮은 코드; `for`문을 이용했음. (버전2) "
   ]
  },
  {
   "cell_type": "code",
   "execution_count": null,
   "id": "250d9fe1-1b40-437b-b06f-6444f150fc3b",
   "metadata": {
    "id": "kJP4r0L3OVIl"
   },
   "outputs": [],
   "source": [
    "x=[]\n",
    "for i in [0,1,2,3,4,5]:\n",
    "  x=x+[2**i]"
   ]
  },
  {
   "cell_type": "code",
   "execution_count": null,
   "id": "9e1d85aa-be20-4e8a-aa73-a3d078800128",
   "metadata": {
    "colab": {
     "base_uri": "https://localhost:8080/"
    },
    "id": "KjyNQ04fPZNL",
    "outputId": "b7513073-4bc4-4f67-e489-cd7449f1f197"
   },
   "outputs": [
    {
     "data": {
      "text/plain": [
       "[1, 2, 4, 8, 16, 32]"
      ]
     },
     "execution_count": 100,
     "metadata": {
      "tags": []
     },
     "output_type": "execute_result"
    }
   ],
   "source": [
    "x"
   ]
  },
  {
   "cell_type": "markdown",
   "id": "32b3fd44-d859-4851-b208-ddba03917986",
   "metadata": {
    "id": "mOPizLQpP2uH"
   },
   "source": [
    "(풀이2) - 그럭저럭 괜찮은 코드; `for`문을 이용했음. (버전3) "
   ]
  },
  {
   "cell_type": "code",
   "execution_count": null,
   "id": "a076d789-4591-4a9c-a0fa-f0ee5bc6ad21",
   "metadata": {
    "id": "F-SFeHHaP40x"
   },
   "outputs": [],
   "source": [
    "x=[]\n",
    "for i in [0,1,2,3,4,5]:\n",
    "  x+=[2**i] ### 암기법: x=x+[2**i] 에서 중복되는것을 제거하고 순서를 바꾼다... "
   ]
  },
  {
   "cell_type": "code",
   "execution_count": null,
   "id": "bf5811f0-a766-4f94-9330-0c15dae2c159",
   "metadata": {
    "colab": {
     "base_uri": "https://localhost:8080/"
    },
    "id": "EJhSVDRTQZqp",
    "outputId": "98aada1a-6c23-4bea-9d7e-a3ae14d70da5"
   },
   "outputs": [
    {
     "data": {
      "text/plain": [
       "[1, 2, 4, 8, 16, 32]"
      ]
     },
     "execution_count": 103,
     "metadata": {
      "tags": []
     },
     "output_type": "execute_result"
    }
   ],
   "source": [
    "x"
   ]
  },
  {
   "cell_type": "markdown",
   "id": "7578ec33-4a22-40ab-b701-30c48b25da28",
   "metadata": {
    "id": "IFD-c9TAQ3xS"
   },
   "source": [
    "(풀이3) - 좋은 풀이; `리스트컴프리헨션`을 이용"
   ]
  },
  {
   "cell_type": "code",
   "execution_count": null,
   "id": "2cf57729-cf84-496b-a781-ad625d7282b7",
   "metadata": {
    "id": "TpX9kkOnQb3w"
   },
   "outputs": [],
   "source": [
    "x=[2**i for i in [0,1,2,3,4,5]]"
   ]
  },
  {
   "cell_type": "code",
   "execution_count": null,
   "id": "34500f31-d5ba-401b-9d1c-6740a136df13",
   "metadata": {
    "colab": {
     "base_uri": "https://localhost:8080/"
    },
    "id": "SJVQHnk_RB-M",
    "outputId": "19eda3b0-47ba-43d2-e9a7-aeb844c3481e"
   },
   "outputs": [
    {
     "data": {
      "text/plain": [
       "[1, 2, 4, 8, 16, 32]"
      ]
     },
     "execution_count": 107,
     "metadata": {
      "tags": []
     },
     "output_type": "execute_result"
    }
   ],
   "source": [
    "x"
   ]
  },
  {
   "cell_type": "markdown",
   "id": "49658870-6cc0-49ca-b411-22b1954b14a5",
   "metadata": {
    "id": "1Sb10gMtaOBD"
   },
   "source": [
    "문법을 암기하는 방법 \n",
    "- 조건제시법을 연상하라. \n",
    "- $\\big\\{2^0,2^1,2^2,2^3,2^4,2^5\\big\\}=\\big\\{2^i: i=0,1,\\dots, 5 \\big\\}$"
   ]
  },
  {
   "cell_type": "markdown",
   "id": "96e09868-505c-4625-b47f-27cc02c1fcee",
   "metadata": {
    "id": "EjbyIvnebBS3"
   },
   "source": [
    "리스트 컴프리헨션\n",
    "- 리스트를 매우 효율적으로 만드는 테크닉 \n",
    "- `for`문에 비하여 가지고 있는 장점: (1) 코드가 간단하다. (2) 빠르다. "
   ]
  },
  {
   "cell_type": "markdown",
   "id": "0db9f4e1-f42f-4480-96d9-8ca5f7356683",
   "metadata": {
    "id": "AoE1D9O-b-dM"
   },
   "source": [
    "[예제] 리스트 컴프리핸션을 이용하여 아래와 같은 리스트를 만들어라. "
   ]
  },
  {
   "cell_type": "code",
   "execution_count": null,
   "id": "1fbc95dc-8883-45d3-8aa2-a650b1c23485",
   "metadata": {
    "colab": {
     "base_uri": "https://localhost:8080/"
    },
    "id": "MP5OjFNjcCmf",
    "outputId": "694588f4-c602-4885-a503-1209feb0c389"
   },
   "outputs": [
    {
     "data": {
      "text/plain": [
       "['SSSS', 'PPPP', 'AAAA', 'MMMM']"
      ]
     },
     "execution_count": 109,
     "metadata": {
      "tags": []
     },
     "output_type": "execute_result"
    }
   ],
   "source": [
    "['SSSS','PPPP','AAAA','MMMM']"
   ]
  },
  {
   "cell_type": "markdown",
   "id": "9396d027-11e3-4d89-beb5-cf6e8dd06b01",
   "metadata": {
    "id": "3KBEzh8zcKEb"
   },
   "source": [
    "(풀이)"
   ]
  },
  {
   "cell_type": "code",
   "execution_count": null,
   "id": "0652e20c-2d86-4079-b22a-f0002bd9e631",
   "metadata": {
    "colab": {
     "base_uri": "https://localhost:8080/"
    },
    "id": "vTDahXLvcGB0",
    "outputId": "1aff718e-e25a-4350-adbd-9546c1753f40"
   },
   "outputs": [
    {
     "data": {
      "text/plain": [
       "['SSSS', 'PPPP', 'AAAA', 'MMMM']"
      ]
     },
     "execution_count": 111,
     "metadata": {
      "tags": []
     },
     "output_type": "execute_result"
    }
   ],
   "source": [
    "[i*4 for i in 'SPAM']"
   ]
  },
  {
   "cell_type": "markdown",
   "id": "d551149e-41ef-4a58-95bf-ef9c83838718",
   "metadata": {
    "id": "LS9LUC1gc5Q1"
   },
   "source": [
    "[예제] 리스트 컴프리헨션을 이용하여 아래와 같은 리스트를 만들어라. "
   ]
  },
  {
   "cell_type": "code",
   "execution_count": null,
   "id": "18494c90-d1c5-499d-8036-51a7a1249a2b",
   "metadata": {
    "colab": {
     "base_uri": "https://localhost:8080/"
    },
    "id": "mg84RqYscgCT",
    "outputId": "711384a8-6a86-44f2-d393-bb1cff8e3e40"
   },
   "outputs": [
    {
     "data": {
      "text/plain": [
       "['X1', 'X2', 'X3', 'Y1', 'Y2', 'Y3']"
      ]
     },
     "execution_count": 116,
     "metadata": {
      "tags": []
     },
     "output_type": "execute_result"
    }
   ],
   "source": [
    "['X1','X2','X3','Y1','Y2','Y3']"
   ]
  },
  {
   "cell_type": "markdown",
   "id": "39f873a1-a699-4e46-ba0b-7c81df0e74cc",
   "metadata": {
    "id": "9PLOPRMcdG4A"
   },
   "source": [
    "(풀이)"
   ]
  },
  {
   "cell_type": "code",
   "execution_count": 33,
   "id": "a16ed1cf-78d5-4ffe-9c2b-ff23b2757f5d",
   "metadata": {
    "colab": {
     "base_uri": "https://localhost:8080/"
    },
    "id": "ziDfm6rMdFFR",
    "outputId": "bdc1beab-d256-4d5f-8e24-95f055309153"
   },
   "outputs": [
    {
     "data": {
      "text/plain": [
       "['X1', 'X2', 'X3', 'Y1', 'Y2', 'Y3']"
      ]
     },
     "execution_count": 33,
     "metadata": {},
     "output_type": "execute_result"
    }
   ],
   "source": [
    "[i+j for i in 'XY' for j in '123']"
   ]
  },
  {
   "cell_type": "code",
   "execution_count": 37,
   "id": "96087e9f-9e0b-4990-bc85-09cf6321cb36",
   "metadata": {
    "colab": {
     "base_uri": "https://localhost:8080/"
    },
    "id": "FihLtPz0de2r",
    "outputId": "5bb9be9d-3c82-45b7-a2a1-090c365602f9"
   },
   "outputs": [
    {
     "name": "stdout",
     "output_type": "stream",
     "text": [
      "X1\n",
      "X2\n",
      "X3\n",
      "Y1\n",
      "Y2\n",
      "Y3\n"
     ]
    }
   ],
   "source": [
    "for i in ['X','Y']:\n",
    "  for j in '123':\n",
    "    print(i+j)"
   ]
  },
  {
   "cell_type": "markdown",
   "id": "322e4579-75d5-41c6-850d-5f1d1235869b",
   "metadata": {
    "id": "0X_CPu_4f8_N"
   },
   "source": [
    "#### [$\\ast$] 리스트의 중첩 ($\\star\\star\\star$)"
   ]
  },
  {
   "cell_type": "code",
   "execution_count": 12,
   "id": "c9c6e962-cc44-4c40-a7d3-1e6c019e830c",
   "metadata": {
    "id": "nU1dFURGd48-"
   },
   "outputs": [],
   "source": [
    "a=[[11,12,13], \n",
    "   [21,22,23], \n",
    "   [31,32,33]]"
   ]
  },
  {
   "cell_type": "markdown",
   "id": "5236a08b-1d56-40a0-af19-f4d1e48eabad",
   "metadata": {},
   "source": [
    "| |0|1|2|\n",
    "|-|-|-|-|\n",
    "|0|11|12|13|\n",
    "|1|21|22|23|\n",
    "|2|31|32|33|"
   ]
  },
  {
   "cell_type": "code",
   "execution_count": 14,
   "id": "986e6f31-6567-47bf-aed3-4fa23c69f712",
   "metadata": {
    "colab": {
     "base_uri": "https://localhost:8080/"
    },
    "id": "cExbz8idgPPj",
    "outputId": "8c39e6e8-b4b5-49d1-c926-a6ce26c981c6"
   },
   "outputs": [
    {
     "data": {
      "text/plain": [
       "11"
      ]
     },
     "execution_count": 14,
     "metadata": {},
     "output_type": "execute_result"
    }
   ],
   "source": [
    "a[0][0]"
   ]
  },
  {
   "cell_type": "code",
   "execution_count": 15,
   "id": "f6b981ed-077e-4c92-9286-9ea35ccee02b",
   "metadata": {
    "colab": {
     "base_uri": "https://localhost:8080/"
    },
    "id": "7q9KCtyWgSyO",
    "outputId": "a33421c9-dd9d-40f0-a5a6-6df130e72f2a"
   },
   "outputs": [
    {
     "data": {
      "text/plain": [
       "12"
      ]
     },
     "execution_count": 15,
     "metadata": {},
     "output_type": "execute_result"
    }
   ],
   "source": [
    "a[0][1]   #0번열1번행"
   ]
  },
  {
   "cell_type": "markdown",
   "id": "9afd6ed0-6933-4bd7-9d83-0d83fbe94990",
   "metadata": {},
   "source": [
    "-------------"
   ]
  },
  {
   "cell_type": "markdown",
   "id": "51002f7a-ad58-4d86-87df-24357632948a",
   "metadata": {
    "id": "fLKo7O-lhWgQ"
   },
   "source": [
    "### (3) `tuple`"
   ]
  },
  {
   "cell_type": "markdown",
   "id": "16c58d2c-d0e4-48d3-94a6-42bd58514c71",
   "metadata": {},
   "source": [
    "`-` 리스트와 비슷하다."
   ]
  },
  {
   "cell_type": "markdown",
   "id": "56656d8d-f84f-4a50-b54f-ff484df7c926",
   "metadata": {},
   "source": [
    "`차이점1` : [ ] 대신에 ( )를 사용한다. "
   ]
  },
  {
   "cell_type": "markdown",
   "id": "ab0a861b-daa4-44a6-8705-d8402738a8c1",
   "metadata": {},
   "source": [
    "`차이점2` : 불변형이다. (값을 바꿀 수 없음)"
   ]
  },
  {
   "cell_type": "code",
   "execution_count": 9,
   "id": "feed3aa6-9629-4efe-8180-b40f2014e498",
   "metadata": {},
   "outputs": [],
   "source": [
    "a=(4,6,\"pencil\",3.2+4.6j,[3,4])"
   ]
  },
  {
   "cell_type": "code",
   "execution_count": 10,
   "id": "1987fec6-76e9-4770-b5c7-63a1a18a5036",
   "metadata": {},
   "outputs": [
    {
     "data": {
      "text/plain": [
       "'pencil'"
      ]
     },
     "execution_count": 10,
     "metadata": {},
     "output_type": "execute_result"
    }
   ],
   "source": [
    "a[2]"
   ]
  },
  {
   "cell_type": "code",
   "execution_count": 11,
   "id": "14b0af43-4643-49ee-b7e2-e708e5416150",
   "metadata": {},
   "outputs": [
    {
     "data": {
      "text/plain": [
       "(4, 6, 'pencil')"
      ]
     },
     "execution_count": 11,
     "metadata": {},
     "output_type": "execute_result"
    }
   ],
   "source": [
    "a[0:3]"
   ]
  },
  {
   "cell_type": "code",
   "execution_count": 12,
   "id": "326e4f4a-2096-48e1-b695-00626894801c",
   "metadata": {},
   "outputs": [
    {
     "ename": "TypeError",
     "evalue": "'tuple' object does not support item assignment",
     "output_type": "error",
     "traceback": [
      "\u001b[0;31m---------------------------------------------------------------------------\u001b[0m",
      "\u001b[0;31mTypeError\u001b[0m                                 Traceback (most recent call last)",
      "\u001b[0;32m<ipython-input-12-5ea264dc9819>\u001b[0m in \u001b[0;36m<module>\u001b[0;34m\u001b[0m\n\u001b[0;32m----> 1\u001b[0;31m \u001b[0ma\u001b[0m\u001b[0;34m[\u001b[0m\u001b[0;36m2\u001b[0m\u001b[0;34m]\u001b[0m\u001b[0;34m=\u001b[0m\u001b[0;34m\"Pencil\"\u001b[0m\u001b[0;34m\u001b[0m\u001b[0;34m\u001b[0m\u001b[0m\n\u001b[0m",
      "\u001b[0;31mTypeError\u001b[0m: 'tuple' object does not support item assignment"
     ]
    }
   ],
   "source": [
    "a[2]=\"Pencil\""
   ]
  },
  {
   "cell_type": "markdown",
   "id": "411dfe04-4e56-4f86-8a1d-56f2a3c3bbd6",
   "metadata": {},
   "source": [
    "참고로 리스트는 값이 잘 바뀜"
   ]
  },
  {
   "cell_type": "code",
   "execution_count": 17,
   "id": "54f4c601-e598-41f7-89e9-4db239011c11",
   "metadata": {},
   "outputs": [],
   "source": [
    "a=[4,6,\"pencil\",3.2+4.6j,[3,4]]  #리스트형"
   ]
  },
  {
   "cell_type": "code",
   "execution_count": 14,
   "id": "810c1788-d172-44ac-b0ee-bf5a022efb8b",
   "metadata": {},
   "outputs": [
    {
     "data": {
      "text/plain": [
       "[4, 6, 'pencil', (3.2+4.6j), [3, 4]]"
      ]
     },
     "execution_count": 14,
     "metadata": {},
     "output_type": "execute_result"
    }
   ],
   "source": [
    "a"
   ]
  },
  {
   "cell_type": "code",
   "execution_count": 15,
   "id": "4dfe1eed-fd18-4a1f-ade1-8404465d9e14",
   "metadata": {},
   "outputs": [],
   "source": [
    "a[2]=\"PENCIL\""
   ]
  },
  {
   "cell_type": "code",
   "execution_count": 16,
   "id": "11d74578-e8cf-4285-9382-23057efc3b4a",
   "metadata": {},
   "outputs": [
    {
     "data": {
      "text/plain": [
       "[4, 6, 'PENCIL', (3.2+4.6j), [3, 4]]"
      ]
     },
     "execution_count": 16,
     "metadata": {},
     "output_type": "execute_result"
    }
   ],
   "source": [
    "a"
   ]
  },
  {
   "cell_type": "markdown",
   "id": "95244fee-c141-4f5f-8098-e387aadb9a48",
   "metadata": {},
   "source": [
    "`차이점3` : 하나의 원소로 이루어진 튜플을 만들때는 `쉼표`를 붙여야 함.  \n",
    "쉼표를 넣지 않으면 `int`형으로 인식되어 +(더한) 값이 나온다."
   ]
  },
  {
   "cell_type": "code",
   "execution_count": 18,
   "id": "73e62aa4-5b77-48a1-b080-9ba9763001e0",
   "metadata": {},
   "outputs": [],
   "source": [
    "a=[1]"
   ]
  },
  {
   "cell_type": "code",
   "execution_count": 19,
   "id": "fc84c53e-0725-44e9-b827-d5616f34d5ce",
   "metadata": {},
   "outputs": [
    {
     "data": {
      "text/plain": [
       "[1, 2]"
      ]
     },
     "execution_count": 19,
     "metadata": {},
     "output_type": "execute_result"
    }
   ],
   "source": [
    "a+[2]"
   ]
  },
  {
   "cell_type": "code",
   "execution_count": 20,
   "id": "53ec0047-205e-4b68-84bd-e335c9bb22a2",
   "metadata": {},
   "outputs": [],
   "source": [
    "a=(1,)"
   ]
  },
  {
   "cell_type": "code",
   "execution_count": 21,
   "id": "985b5469-c867-479e-a017-700f8010a1e3",
   "metadata": {},
   "outputs": [
    {
     "data": {
      "text/plain": [
       "(1, 2)"
      ]
     },
     "execution_count": 21,
     "metadata": {},
     "output_type": "execute_result"
    }
   ],
   "source": [
    "a+(2,)"
   ]
  },
  {
   "cell_type": "markdown",
   "id": "60be0935-3e59-4ea8-bc92-4ec6532c7f5e",
   "metadata": {},
   "source": [
    "`차이점4` : (의미가 명확할때) 튜플의 괄호는 생략가능하다. 의미가 명확할때 생략해야 한다!"
   ]
  },
  {
   "cell_type": "code",
   "execution_count": 184,
   "id": "836b47ce-4e91-48e0-87c6-e84fbcbeab98",
   "metadata": {},
   "outputs": [],
   "source": [
    "a=1,2"
   ]
  },
  {
   "cell_type": "code",
   "execution_count": 185,
   "id": "14fcf2c1-6e70-41e8-9780-eaf7951c33b9",
   "metadata": {},
   "outputs": [
    {
     "data": {
      "text/plain": [
       "(1, 2)"
      ]
     },
     "execution_count": 185,
     "metadata": {},
     "output_type": "execute_result"
    }
   ],
   "source": [
    "a"
   ]
  },
  {
   "cell_type": "code",
   "execution_count": 22,
   "id": "530107cc-5ec0-43c6-a01d-cbca41335ee3",
   "metadata": {},
   "outputs": [
    {
     "data": {
      "text/plain": [
       "(1, 5, 4, 5)"
      ]
     },
     "execution_count": 22,
     "metadata": {},
     "output_type": "execute_result"
    }
   ],
   "source": [
    "1,2 + 3,4,5     #2+3=5로 생각"
   ]
  },
  {
   "cell_type": "code",
   "execution_count": 187,
   "id": "08fa0c49-098f-47c9-93ef-028876d7150d",
   "metadata": {},
   "outputs": [
    {
     "data": {
      "text/plain": [
       "(1, 2, 3, 4, 5)"
      ]
     },
     "execution_count": 187,
     "metadata": {},
     "output_type": "execute_result"
    }
   ],
   "source": [
    "(1,2) + (3,4,5)"
   ]
  },
  {
   "cell_type": "markdown",
   "id": "e269b4c4-f69a-49b9-8d76-51d6bbe84f2d",
   "metadata": {},
   "source": [
    "`의문` 튜플은 왜 쓰는가? "
   ]
  },
  {
   "cell_type": "markdown",
   "id": "6d804e2e-a554-4fe7-a860-0f209e6f69e3",
   "metadata": {},
   "source": [
    "튜플의 특징: 불변성$\\rightarrow$ 실수로 값을 변경하지 않도록 방지할 수 있다?"
   ]
  },
  {
   "cell_type": "markdown",
   "id": "0edd9df4-b609-4454-be0f-1d8ab5884fcc",
   "metadata": {},
   "source": [
    "#### [$\\ast$] 튜플은 단순히 불변리스트가 아니다. ($\\star\\star\\star$)"
   ]
  },
  {
   "cell_type": "markdown",
   "id": "9549b2d1-1a17-446b-892e-8b27ea639943",
   "metadata": {},
   "source": [
    "**[예제1]**: 튜플언패킹"
   ]
  },
  {
   "cell_type": "code",
   "execution_count": 188,
   "id": "860aaa5a-c21d-4b92-81f6-eafa24ca2ca3",
   "metadata": {},
   "outputs": [],
   "source": [
    "name,age,sex,height,weight = 'Tom',20,'M',180,70"
   ]
  },
  {
   "cell_type": "code",
   "execution_count": 189,
   "id": "4d1c5ccc-5aa7-426f-91a1-cce91ff6cf6f",
   "metadata": {},
   "outputs": [
    {
     "data": {
      "text/plain": [
       "'Tom'"
      ]
     },
     "execution_count": 189,
     "metadata": {},
     "output_type": "execute_result"
    }
   ],
   "source": [
    "name"
   ]
  },
  {
   "cell_type": "code",
   "execution_count": 190,
   "id": "7cd90cf6-bc46-4a8c-a194-e67200174958",
   "metadata": {},
   "outputs": [
    {
     "data": {
      "text/plain": [
       "70"
      ]
     },
     "execution_count": 190,
     "metadata": {},
     "output_type": "execute_result"
    }
   ],
   "source": [
    "weight"
   ]
  },
  {
   "cell_type": "markdown",
   "id": "26c8f71d-b9e7-40c9-88fa-eb0516725069",
   "metadata": {},
   "source": [
    "**[예제2]** "
   ]
  },
  {
   "cell_type": "code",
   "execution_count": 191,
   "id": "b092cdb8-1a9e-41fb-a3a6-06eca3530fa6",
   "metadata": {},
   "outputs": [],
   "source": [
    "coor=(33.9425,-118.408056)"
   ]
  },
  {
   "cell_type": "code",
   "execution_count": 192,
   "id": "c08a0344-77ed-4e5e-8fa7-984a071be7b5",
   "metadata": {},
   "outputs": [
    {
     "data": {
      "text/plain": [
       "(33.9425, -118.408056)"
      ]
     },
     "execution_count": 192,
     "metadata": {},
     "output_type": "execute_result"
    }
   ],
   "source": [
    "coor"
   ]
  },
  {
   "cell_type": "code",
   "execution_count": 193,
   "id": "ea237222-62ac-463f-abee-72a87533c25d",
   "metadata": {},
   "outputs": [],
   "source": [
    "lat, long = coor"
   ]
  },
  {
   "cell_type": "code",
   "execution_count": 194,
   "id": "39aafd62-1559-41ee-9429-94ddf143749c",
   "metadata": {},
   "outputs": [
    {
     "data": {
      "text/plain": [
       "33.9425"
      ]
     },
     "execution_count": 194,
     "metadata": {},
     "output_type": "execute_result"
    }
   ],
   "source": [
    "lat"
   ]
  },
  {
   "cell_type": "code",
   "execution_count": 195,
   "id": "29f107e8-3d2d-4027-8ba4-a32a77793fbf",
   "metadata": {},
   "outputs": [
    {
     "data": {
      "text/plain": [
       "-118.408056"
      ]
     },
     "execution_count": 195,
     "metadata": {},
     "output_type": "execute_result"
    }
   ],
   "source": [
    "long"
   ]
  },
  {
   "cell_type": "markdown",
   "id": "ceeece26-f0c3-4f26-9ad9-31cbd570257d",
   "metadata": {},
   "source": [
    "**[예제3]**: 임시변수 사용없이 두 변수의 값을 교환 "
   ]
  },
  {
   "cell_type": "code",
   "execution_count": 24,
   "id": "f2f5365e-6397-4d2a-b030-0102fd6d35a7",
   "metadata": {},
   "outputs": [],
   "source": [
    "a=10\n",
    "b=20"
   ]
  },
  {
   "cell_type": "code",
   "execution_count": 25,
   "id": "cc53753a-53dc-42d0-abc4-a21966177a5f",
   "metadata": {},
   "outputs": [],
   "source": [
    "a,b=b,a  #실행순서가 오른쪽 임시 생성->왼쪽 적용"
   ]
  },
  {
   "cell_type": "code",
   "execution_count": 198,
   "id": "93bd7f31-8750-41fb-a4e9-16715ebe5bd9",
   "metadata": {},
   "outputs": [
    {
     "data": {
      "text/plain": [
       "20"
      ]
     },
     "execution_count": 198,
     "metadata": {},
     "output_type": "execute_result"
    }
   ],
   "source": [
    "a"
   ]
  },
  {
   "cell_type": "code",
   "execution_count": 199,
   "id": "58fab469-e374-4aa3-b54d-ef1e1eac23fc",
   "metadata": {},
   "outputs": [
    {
     "data": {
      "text/plain": [
       "10"
      ]
     },
     "execution_count": 199,
     "metadata": {},
     "output_type": "execute_result"
    }
   ],
   "source": [
    "b"
   ]
  },
  {
   "cell_type": "markdown",
   "id": "a2ba22c7-fbab-4c6f-b9d3-4b7b9d0b94cd",
   "metadata": {},
   "source": [
    "**[예제4]**: 함수의 입력으로 튜플을 넣을때 "
   ]
  },
  {
   "cell_type": "markdown",
   "id": "f8ce7f04-39cb-49b9-ac32-3fe5d64ab5bd",
   "metadata": {},
   "source": [
    "*[예제4의 예비학습]* 함수 벼락치기 "
   ]
  },
  {
   "cell_type": "code",
   "execution_count": 29,
   "id": "044e5487-76a5-4420-b184-bd7b07eecee6",
   "metadata": {},
   "outputs": [],
   "source": [
    "def cal(a,b):  # def=함수선언, cal=함수이름\n",
    "    print(str(a) + '+' + str(b) + '=' + str(a+b))\n",
    "    print(str(a) + '-' + str(b) + '=' + str(a-b))\n",
    "    print(str(a) + '*' + str(b) + '=' + str(a*b))\n",
    "    print(str(a) + '/' + str(b) + '=' + str(a/b))"
   ]
  },
  {
   "cell_type": "code",
   "execution_count": 27,
   "id": "6739670c-85bc-4983-961a-cc47e01389d7",
   "metadata": {},
   "outputs": [
    {
     "name": "stdout",
     "output_type": "stream",
     "text": [
      "2+33=35\n",
      "2-33=-31\n",
      "2*33=66\n",
      "2/33=0.06060606060606061\n"
     ]
    }
   ],
   "source": [
    "cal(2,33)"
   ]
  },
  {
   "cell_type": "code",
   "execution_count": 38,
   "id": "36110481-cbf8-401e-aa90-86e8c4ba9ef2",
   "metadata": {},
   "outputs": [
    {
     "ename": "TypeError",
     "evalue": "cal() missing 1 required positional argument: 'b'",
     "output_type": "error",
     "traceback": [
      "\u001b[0;31m---------------------------------------------------------------------------\u001b[0m",
      "\u001b[0;31mTypeError\u001b[0m                                 Traceback (most recent call last)",
      "\u001b[0;32m<ipython-input-38-da3b95adc570>\u001b[0m in \u001b[0;36m<module>\u001b[0;34m\u001b[0m\n\u001b[1;32m      1\u001b[0m \u001b[0;31m### 우리가 원하는 형태 : 알아서 인수를 분해해 계산해줬으면 좋겠지만...\u001b[0m\u001b[0;34m\u001b[0m\u001b[0;34m\u001b[0m\u001b[0;34m\u001b[0m\u001b[0m\n\u001b[1;32m      2\u001b[0m \u001b[0minput\u001b[0m\u001b[0;34m=\u001b[0m\u001b[0;34m[\u001b[0m\u001b[0;36m3\u001b[0m\u001b[0;34m,\u001b[0m\u001b[0;36m4\u001b[0m\u001b[0;34m]\u001b[0m\u001b[0;34m\u001b[0m\u001b[0;34m\u001b[0m\u001b[0m\n\u001b[0;32m----> 3\u001b[0;31m \u001b[0mcal\u001b[0m\u001b[0;34m(\u001b[0m\u001b[0minput\u001b[0m\u001b[0;34m)\u001b[0m\u001b[0;34m\u001b[0m\u001b[0;34m\u001b[0m\u001b[0m\n\u001b[0m",
      "\u001b[0;31mTypeError\u001b[0m: cal() missing 1 required positional argument: 'b'"
     ]
    }
   ],
   "source": [
    "### 우리가 원하는 형태 : 알아서 인수를 분해해 계산해줬으면 좋겠지만...\n",
    "input=[3,4]\n",
    "cal(input)"
   ]
  },
  {
   "cell_type": "code",
   "execution_count": 31,
   "id": "b56cd20f-c34a-41b2-8479-9f6618a74e8c",
   "metadata": {},
   "outputs": [
    {
     "name": "stdout",
     "output_type": "stream",
     "text": [
      "3+4=7\n",
      "3-4=-1\n",
      "3*4=12\n",
      "3/4=0.75\n"
     ]
    }
   ],
   "source": [
    "### 실제 \n",
    "cal(input[0],input[1])"
   ]
  },
  {
   "cell_type": "code",
   "execution_count": 35,
   "id": "f3e0fbf0-d5e7-466c-accb-f4a18c35ad45",
   "metadata": {},
   "outputs": [],
   "source": [
    "input=(3,4)"
   ]
  },
  {
   "cell_type": "code",
   "execution_count": 37,
   "id": "5966af41-97ba-4b2d-a30a-d81bf4fc019d",
   "metadata": {},
   "outputs": [
    {
     "name": "stdout",
     "output_type": "stream",
     "text": [
      "3+4=7\n",
      "3-4=-1\n",
      "3*4=12\n",
      "3/4=0.75\n"
     ]
    }
   ],
   "source": [
    "cal(*input) # *를 추가하면 튜플 언패킹 가능!"
   ]
  },
  {
   "cell_type": "markdown",
   "id": "4f21b208-f0f3-4605-89f1-80e8a5c7109d",
   "metadata": {},
   "source": [
    "**[예제5]** 함수의 입력을 튜플로 넣을때 (2) "
   ]
  },
  {
   "cell_type": "markdown",
   "id": "dd3395d8-ac1a-4fce-9387-c6d75c38e38d",
   "metadata": {},
   "source": [
    "두점 사이의 거리를 구하는 함수를 만들어 보자. \n",
    "\n",
    "$x=(x_1,x_2,x_3)$\n",
    "\n",
    "$y=(y_1,y_2,y_3)$\n",
    "\n",
    "의 거리를 구하려면 \n",
    "\n",
    "$\\sqrt{(x_1-y_1)^2+(x_2-y_2)^2+(x_3-y_3)^2}$"
   ]
  },
  {
   "cell_type": "code",
   "execution_count": 42,
   "id": "53166ac8-befc-4ebe-a995-adae55dbec84",
   "metadata": {},
   "outputs": [],
   "source": [
    "#예시1\n",
    "def distance(x1,x2,x3,y1,y2,y3):\n",
    "    import math #라이브러리 부르고\n",
    "    d=(x1-y1)**2+(x2-y2)**2+(x3-y3)**2  #루트 아레 식\n",
    "    print(math.sqrt(d))  #math로 루트 계산"
   ]
  },
  {
   "cell_type": "code",
   "execution_count": 41,
   "id": "cb27a175-006e-4d25-9ef0-e4806c257c7e",
   "metadata": {},
   "outputs": [
    {
     "name": "stdout",
     "output_type": "stream",
     "text": [
      "1.4142135623730951\n"
     ]
    }
   ],
   "source": [
    "x=(0,0,0)\n",
    "y=(0,1,1)\n",
    "distance(*x,*y)"
   ]
  },
  {
   "cell_type": "code",
   "execution_count": 43,
   "id": "b3c240d9-1eff-4e70-9dc4-477756137b1a",
   "metadata": {},
   "outputs": [],
   "source": [
    "#예시2\n",
    "def distance(x,y):\n",
    "    import math \n",
    "    x1,x2,x3=x \n",
    "    y1,y2,y3=y\n",
    "    d=(x1-y1)**2+(x2-y2)**2+(x3-y3)**2\n",
    "    print(math.sqrt(d))"
   ]
  },
  {
   "cell_type": "code",
   "execution_count": 42,
   "id": "248ec393-f9c7-4603-80cc-85ccd7be8ad9",
   "metadata": {},
   "outputs": [
    {
     "name": "stdout",
     "output_type": "stream",
     "text": [
      "1.4142135623730951\n"
     ]
    }
   ],
   "source": [
    "distance(x,y)"
   ]
  },
  {
   "cell_type": "markdown",
   "id": "156742ea-b830-4ba9-97e4-aa8f8db68302",
   "metadata": {},
   "source": [
    "### !!! 함수를 호출할때 인수앞에 *를 붙여 튜플을 언패킹할 수 있다. "
   ]
  },
  {
   "cell_type": "markdown",
   "id": "95b537c8-a0f1-4e4a-9a00-f09ef84e8891",
   "metadata": {},
   "source": [
    "**[예제6]**: 플레이스홀더 "
   ]
  },
  {
   "cell_type": "markdown",
   "id": "bbcc6397-8951-4c3b-b9f1-81c00a1254f3",
   "metadata": {},
   "source": [
    "(예비학습) `for`문 "
   ]
  },
  {
   "cell_type": "code",
   "execution_count": 43,
   "id": "3c0f9d99-2a4f-4715-8865-d1b97d153d39",
   "metadata": {},
   "outputs": [
    {
     "name": "stdout",
     "output_type": "stream",
     "text": [
      "1\n",
      "2\n",
      "3\n",
      "4\n"
     ]
    }
   ],
   "source": [
    "for i in [1,2,3,4]:\n",
    "    print(i)"
   ]
  },
  {
   "cell_type": "code",
   "execution_count": 45,
   "id": "591b78c2-409f-4e47-b8d0-560baf485d86",
   "metadata": {},
   "outputs": [
    {
     "name": "stdout",
     "output_type": "stream",
     "text": [
      "1\n",
      "2\n",
      "3\n",
      "4\n"
     ]
    }
   ],
   "source": [
    "i=[1,2,3,4][0]\n",
    "print(i)\n",
    "i=[1,2,3,4][1]\n",
    "print(i)\n",
    "i=[1,2,3,4][2]\n",
    "print(i)\n",
    "i=[1,2,3,4][3]\n",
    "print(i)"
   ]
  },
  {
   "cell_type": "code",
   "execution_count": 47,
   "id": "0cacd679-0d92-4312-89b9-55b9e3d4aa1f",
   "metadata": {},
   "outputs": [
    {
     "name": "stdout",
     "output_type": "stream",
     "text": [
      "1\n",
      "2\n",
      "3\n",
      "[1, 2, 3]\n"
     ]
    }
   ],
   "source": [
    "for i in [1,2,3,[1,2,3]]:\n",
    "    print(i)"
   ]
  },
  {
   "cell_type": "code",
   "execution_count": 46,
   "id": "546a9c1f-7cd6-4a82-9230-d6381bebfc22",
   "metadata": {},
   "outputs": [
    {
     "name": "stdout",
     "output_type": "stream",
     "text": [
      "1\n",
      "2\n",
      "3\n",
      "[1, 2, 3]\n"
     ]
    }
   ],
   "source": [
    "i=[1,2,3,[1,2,3]][0]\n",
    "print(i)\n",
    "i=[1,2,3,[1,2,3]][1]\n",
    "print(i)\n",
    "i=[1,2,3,[1,2,3]][2]\n",
    "print(i)\n",
    "i=[1,2,3,[1,2,3]][3]\n",
    "print(i)"
   ]
  },
  {
   "cell_type": "code",
   "execution_count": 48,
   "id": "fa3f863b-d18c-4a2e-83c9-51882d0f7f2a",
   "metadata": {},
   "outputs": [
    {
     "name": "stdout",
     "output_type": "stream",
     "text": [
      "[1, 22]\n",
      "[1, 3]\n",
      "[2, 14]\n",
      "[7, 23]\n"
     ]
    }
   ],
   "source": [
    "for i in [[1,22],[1,3],[2,14],[7,23]]:\n",
    "    print(i)"
   ]
  },
  {
   "cell_type": "code",
   "execution_count": 49,
   "id": "f960faa3-5633-48ac-8e41-168bac02404d",
   "metadata": {},
   "outputs": [
    {
     "name": "stdout",
     "output_type": "stream",
     "text": [
      "1\n",
      "1\n",
      "2\n",
      "7\n"
     ]
    }
   ],
   "source": [
    "for i,j in [[1,22],[1,3],[2,14],[7,23]]:\n",
    "    print(i)"
   ]
  },
  {
   "cell_type": "code",
   "execution_count": 53,
   "id": "d486fd01-23d0-4722-8842-92126f906126",
   "metadata": {},
   "outputs": [
    {
     "name": "stdout",
     "output_type": "stream",
     "text": [
      "1\n",
      "1\n",
      "2\n",
      "7\n"
     ]
    }
   ],
   "source": [
    "i,j=[[1,22],[1,3],[2,14],[7,23]][0]\n",
    "print(i)\n",
    "i,j=[[1,22],[1,3],[2,14],[7,23]][1]\n",
    "print(i)\n",
    "i,j=[[1,22],[1,3],[2,14],[7,23]][2]\n",
    "print(i)\n",
    "i,j=[[1,22],[1,3],[2,14],[7,23]][3]\n",
    "print(i)"
   ]
  },
  {
   "cell_type": "markdown",
   "id": "ecb378d5-8a39-4659-a67e-1e89a9b4cc8c",
   "metadata": {},
   "source": [
    "예제시작 "
   ]
  },
  {
   "cell_type": "code",
   "execution_count": 45,
   "id": "9beb284d-47ab-4c2d-bcc1-2df6de3cab1c",
   "metadata": {},
   "outputs": [],
   "source": [
    "idlist=[('guebin', '202112345','M','Korea'), \n",
    "        ('iu', '202154321','F','Korea'), \n",
    "        ('hodong', '201812321','M','Korea')]"
   ]
  },
  {
   "cell_type": "code",
   "execution_count": 46,
   "id": "6b714565-5964-4a2d-8e27-373ddd31afb8",
   "metadata": {},
   "outputs": [
    {
     "name": "stdout",
     "output_type": "stream",
     "text": [
      "('guebin', '202112345', 'M', 'Korea')\n",
      "('iu', '202154321', 'F', 'Korea')\n",
      "('hodong', '201812321', 'M', 'Korea')\n"
     ]
    }
   ],
   "source": [
    "for i in idlist: \n",
    "    print(i)"
   ]
  },
  {
   "cell_type": "code",
   "execution_count": 47,
   "id": "1aab317c-0b92-4d6b-8a5b-ae568c58d90e",
   "metadata": {},
   "outputs": [
    {
     "name": "stdout",
     "output_type": "stream",
     "text": [
      "guebin\n",
      "iu\n",
      "hodong\n"
     ]
    }
   ],
   "source": [
    "for name,studentid,sex,nat in idlist: \n",
    "    print(name)"
   ]
  },
  {
   "cell_type": "code",
   "execution_count": 49,
   "id": "cd31fb02-868b-4c20-adeb-2425e7b67e99",
   "metadata": {},
   "outputs": [
    {
     "name": "stdout",
     "output_type": "stream",
     "text": [
      "guebin\n",
      "iu\n",
      "hodong\n"
     ]
    }
   ],
   "source": [
    "for name, _, _, _ in idlist: # 관심있는 것만 이름을 지정해주고 싶을 때 언더바 처리\n",
    "    print(name)"
   ]
  },
  {
   "cell_type": "markdown",
   "id": "92b938c0-eeaa-4635-9614-eb83ff82f2c9",
   "metadata": {},
   "source": [
    "### 요약 "
   ]
  },
  {
   "cell_type": "markdown",
   "id": "5443d91d-7ab6-485b-93a8-94d222e93e30",
   "metadata": {},
   "source": [
    "(1) 스트링, 튜플, 리스트는 모두 시퀀스형이라고 부른다. \n",
    "\n",
    "(2) 시컨스형의 카테고리 \n",
    "- 컨테이너 시퀀스: list, tuple. \n",
    "- 균일(flat) 시퀀스: str \n",
    "- 가변 시퀀스: list \n",
    "- 불면 시퀀스: tuple, str"
   ]
  },
  {
   "cell_type": "markdown",
   "id": "0ecaed59-4cbb-42bd-81cb-8877cb911763",
   "metadata": {},
   "source": [
    "| | 컨테이너 시퀀스 | flat 시퀀스|\n",
    "|:-:|:-:|:-:|\n",
    "|가변 시퀀스|list|-|\n",
    "|불변 시퀀스|tuple|str|"
   ]
  },
  {
   "cell_type": "markdown",
   "id": "b4686286-ce66-45d2-bbcd-6d3a85bcd949",
   "metadata": {},
   "source": [
    "(3) 시퀀스형은 모두 인덱싱과 슬라이싱이 가능함. "
   ]
  },
  {
   "cell_type": "code",
   "execution_count": 50,
   "id": "37bc4c1d-76c8-48c4-a73f-0f4364474700",
   "metadata": {},
   "outputs": [],
   "source": [
    "#인덱싱\n",
    "a=1,2,3,4"
   ]
  },
  {
   "cell_type": "code",
   "execution_count": 51,
   "id": "c11bb622-f5ef-4397-9d76-f91aeeb83191",
   "metadata": {},
   "outputs": [
    {
     "data": {
      "text/plain": [
       "(1, 2, 3, 4)"
      ]
     },
     "execution_count": 51,
     "metadata": {},
     "output_type": "execute_result"
    }
   ],
   "source": [
    "a"
   ]
  },
  {
   "cell_type": "code",
   "execution_count": 52,
   "id": "1afcd5b0-15a8-47ea-b412-e410e423dbf6",
   "metadata": {},
   "outputs": [
    {
     "data": {
      "text/plain": [
       "(1, 2, 3)"
      ]
     },
     "execution_count": 52,
     "metadata": {},
     "output_type": "execute_result"
    }
   ],
   "source": [
    "#슬라이싱\n",
    "a[0:3]"
   ]
  },
  {
   "cell_type": "markdown",
   "id": "47fe00ff-8d51-4b7e-a16a-40c558bbda4e",
   "metadata": {},
   "source": [
    "-----------"
   ]
  },
  {
   "cell_type": "markdown",
   "id": "fb6c7dd6-6ab1-4fa3-8c91-f437be0a3c64",
   "metadata": {},
   "source": [
    "### (4) `set`"
   ]
  },
  {
   "cell_type": "code",
   "execution_count": 66,
   "id": "8ac01219-14e5-4eec-abef-db1d1175d314",
   "metadata": {},
   "outputs": [],
   "source": [
    "A={'a','b','c','d'}  #집합"
   ]
  },
  {
   "cell_type": "code",
   "execution_count": 55,
   "id": "c7af813d-0f16-4a9b-bb74-524875c8c133",
   "metadata": {},
   "outputs": [
    {
     "data": {
      "text/plain": [
       "{'a', 'b', 'c', 'd'}"
      ]
     },
     "execution_count": 55,
     "metadata": {},
     "output_type": "execute_result"
    }
   ],
   "source": [
    "A"
   ]
  },
  {
   "cell_type": "code",
   "execution_count": 56,
   "id": "ab63638f-be97-411f-8002-f1225cff5c25",
   "metadata": {},
   "outputs": [],
   "source": [
    "B={'c','d','e','f'}"
   ]
  },
  {
   "cell_type": "code",
   "execution_count": 57,
   "id": "d39ce5bc-ea18-4a40-96eb-c69846b8e2fb",
   "metadata": {},
   "outputs": [
    {
     "data": {
      "text/plain": [
       "{'a', 'b', 'c', 'd', 'e', 'f'}"
      ]
     },
     "execution_count": 57,
     "metadata": {},
     "output_type": "execute_result"
    }
   ],
   "source": [
    "A.union(B) # union : 합집합, 중복원소는 제거"
   ]
  },
  {
   "cell_type": "code",
   "execution_count": 60,
   "id": "c4101ed3-7fc8-4021-92bf-c9f7c85adf4f",
   "metadata": {},
   "outputs": [
    {
     "data": {
      "text/plain": [
       "{'a', 'b', 'c', 'd', 'e', 'f'}"
      ]
     },
     "execution_count": 60,
     "metadata": {},
     "output_type": "execute_result"
    }
   ],
   "source": [
    "A|B   # 요것도 합집합"
   ]
  },
  {
   "cell_type": "code",
   "execution_count": 62,
   "id": "fa59168b-e53c-4a51-ada4-26eac8310778",
   "metadata": {},
   "outputs": [
    {
     "ename": "TypeError",
     "evalue": "unsupported operand type(s) for +: 'set' and 'set'",
     "output_type": "error",
     "traceback": [
      "\u001b[0;31m---------------------------------------------------------------------------\u001b[0m",
      "\u001b[0;31mTypeError\u001b[0m                                 Traceback (most recent call last)",
      "\u001b[0;32m<ipython-input-62-f9b5070b2bad>\u001b[0m in \u001b[0;36m<module>\u001b[0;34m\u001b[0m\n\u001b[0;32m----> 1\u001b[0;31m \u001b[0mA\u001b[0m\u001b[0;34m+\u001b[0m\u001b[0mB\u001b[0m  \u001b[0;31m# +로 합집합이 되지 않음\u001b[0m\u001b[0;34m\u001b[0m\u001b[0;34m\u001b[0m\u001b[0m\n\u001b[0m",
      "\u001b[0;31mTypeError\u001b[0m: unsupported operand type(s) for +: 'set' and 'set'"
     ]
    }
   ],
   "source": [
    "A+B  # 리스트처럼 +로 합집합이 되지 않음"
   ]
  },
  {
   "cell_type": "code",
   "execution_count": 7,
   "id": "517e8eca-c025-4825-b234-0d06e13ca4c8",
   "metadata": {},
   "outputs": [
    {
     "data": {
      "text/plain": [
       "{'c', 'd'}"
      ]
     },
     "execution_count": 7,
     "metadata": {},
     "output_type": "execute_result"
    }
   ],
   "source": [
    "A.intersection(B)  #교집합"
   ]
  },
  {
   "cell_type": "code",
   "execution_count": 8,
   "id": "383f26d2-a27d-4ec1-82b4-e9a4889fcdcd",
   "metadata": {},
   "outputs": [
    {
     "ename": "TypeError",
     "evalue": "unsupported operand type(s) for *: 'set' and 'set'",
     "output_type": "error",
     "traceback": [
      "\u001b[0;31m---------------------------------------------------------------------------\u001b[0m",
      "\u001b[0;31mTypeError\u001b[0m                                 Traceback (most recent call last)",
      "\u001b[0;32m<ipython-input-8-47896efed660>\u001b[0m in \u001b[0;36m<module>\u001b[0;34m\u001b[0m\n\u001b[0;32m----> 1\u001b[0;31m \u001b[0mA\u001b[0m\u001b[0;34m*\u001b[0m\u001b[0mB\u001b[0m\u001b[0;34m\u001b[0m\u001b[0;34m\u001b[0m\u001b[0m\n\u001b[0m",
      "\u001b[0;31mTypeError\u001b[0m: unsupported operand type(s) for *: 'set' and 'set'"
     ]
    }
   ],
   "source": [
    "A*B  # *로 교집합이 되지 않음"
   ]
  },
  {
   "cell_type": "code",
   "execution_count": 63,
   "id": "b142dffd-a9e1-4ca5-91f1-de323dab9df0",
   "metadata": {},
   "outputs": [
    {
     "data": {
      "text/plain": [
       "{'c', 'd'}"
      ]
     },
     "execution_count": 63,
     "metadata": {},
     "output_type": "execute_result"
    }
   ],
   "source": [
    "A & B  # 요것도 교집합 가능"
   ]
  },
  {
   "cell_type": "code",
   "execution_count": 65,
   "id": "48a3afdc-9beb-48ba-9caf-36bc3be33a87",
   "metadata": {},
   "outputs": [
    {
     "data": {
      "text/plain": [
       "{'a', 'b'}"
      ]
     },
     "execution_count": 65,
     "metadata": {},
     "output_type": "execute_result"
    }
   ],
   "source": [
    "A.difference(B)  # 차집합"
   ]
  },
  {
   "cell_type": "code",
   "execution_count": 64,
   "id": "f67c8f2b-dec3-4319-b5bc-6dbe3961c3ef",
   "metadata": {},
   "outputs": [
    {
     "data": {
      "text/plain": [
       "{'a', 'b'}"
      ]
     },
     "execution_count": 64,
     "metadata": {},
     "output_type": "execute_result"
    }
   ],
   "source": [
    "A-B  # 리스트에서 가능하지 않았던 - 로 차집합 가능"
   ]
  },
  {
   "cell_type": "code",
   "execution_count": 69,
   "id": "35f14206-b3cf-4c67-a378-ffe7ff569283",
   "metadata": {},
   "outputs": [],
   "source": [
    "a=set('hello')"
   ]
  },
  {
   "cell_type": "code",
   "execution_count": 70,
   "id": "437b8c0e-f452-40d6-bfa7-3fe0994a4db6",
   "metadata": {},
   "outputs": [
    {
     "data": {
      "text/plain": [
       "{'e', 'h', 'l', 'o'}"
      ]
     },
     "execution_count": 70,
     "metadata": {},
     "output_type": "execute_result"
    }
   ],
   "source": [
    "a"
   ]
  },
  {
   "cell_type": "code",
   "execution_count": 71,
   "id": "c9aa07df-d74b-4b6c-a6dc-9a0fba46de49",
   "metadata": {},
   "outputs": [
    {
     "name": "stdout",
     "output_type": "stream",
     "text": [
      "e\n",
      "h\n",
      "l\n",
      "o\n"
     ]
    }
   ],
   "source": [
    "for i in a:\n",
    "    print(i)"
   ]
  },
  {
   "cell_type": "markdown",
   "id": "bcfe2dcc-fdde-4522-9a90-7f4a1b369ca8",
   "metadata": {},
   "source": [
    "**순서가 좀 이상하다 $\\to$ 집합은 원래 순서가 없다. $\\to$ 인덱싱이 불가능하다. $\\to$ 슬라이싱도 불가능**"
   ]
  },
  {
   "cell_type": "code",
   "execution_count": 72,
   "id": "bc64d2bd-cc94-4d81-941e-b39e0b5f82f7",
   "metadata": {},
   "outputs": [
    {
     "ename": "TypeError",
     "evalue": "'set' object is not subscriptable",
     "output_type": "error",
     "traceback": [
      "\u001b[0;31m---------------------------------------------------------------------------\u001b[0m",
      "\u001b[0;31mTypeError\u001b[0m                                 Traceback (most recent call last)",
      "\u001b[0;32m<ipython-input-72-6a1284577a36>\u001b[0m in \u001b[0;36m<module>\u001b[0;34m\u001b[0m\n\u001b[0;32m----> 1\u001b[0;31m \u001b[0ma\u001b[0m\u001b[0;34m[\u001b[0m\u001b[0;36m0\u001b[0m\u001b[0;34m]\u001b[0m\u001b[0;34m\u001b[0m\u001b[0;34m\u001b[0m\u001b[0m\n\u001b[0m",
      "\u001b[0;31mTypeError\u001b[0m: 'set' object is not subscriptable"
     ]
    }
   ],
   "source": [
    "a[0]"
   ]
  },
  {
   "cell_type": "markdown",
   "id": "94a58bc6-6b1c-4c1c-9dec-babdc3e3915d",
   "metadata": {},
   "source": [
    "집합 컴프리헨션"
   ]
  },
  {
   "cell_type": "code",
   "execution_count": 75,
   "id": "3ad51d35-fe28-4715-8330-4be91fe900ab",
   "metadata": {},
   "outputs": [],
   "source": [
    "C={2**x for x in [1,2,3,4]}  #2^1, 2^2..."
   ]
  },
  {
   "cell_type": "code",
   "execution_count": 74,
   "id": "e4ce3ced-250e-47f3-b64f-201556c24e3e",
   "metadata": {},
   "outputs": [
    {
     "data": {
      "text/plain": [
       "{2, 4, 8, 16}"
      ]
     },
     "execution_count": 74,
     "metadata": {},
     "output_type": "execute_result"
    }
   ],
   "source": [
    "C"
   ]
  },
  {
   "cell_type": "markdown",
   "id": "63843e5c-5831-41f4-8016-bf5e8834b2dd",
   "metadata": {},
   "source": [
    "----------"
   ]
  },
  {
   "cell_type": "markdown",
   "id": "31e47024-7cfe-412d-9ae6-d1e18fbe9785",
   "metadata": {},
   "source": [
    "### (5) `dict` "
   ]
  },
  {
   "cell_type": "markdown",
   "id": "3b358881-3c83-4b80-836f-5d7a1cdec574",
   "metadata": {},
   "source": [
    "사전 \n",
    "- boy: 소년\n",
    "- girl: 소녀 "
   ]
  },
  {
   "cell_type": "markdown",
   "id": "ce5fcaf8-bd0e-4ff9-8dde-3df3e9be1b12",
   "metadata": {},
   "source": [
    "girl 을 찾음 $\\to$ 소녀 "
   ]
  },
  {
   "cell_type": "code",
   "execution_count": 76,
   "id": "ddab9d56-e847-4962-8a38-18e3ba5b01a8",
   "metadata": {},
   "outputs": [],
   "source": [
    "mydict={'a':[1,2,3],'b':[3,4,5]}  #집합형으로 선언"
   ]
  },
  {
   "cell_type": "code",
   "execution_count": 37,
   "id": "90cd754c-8672-4ba1-84eb-0360a8881908",
   "metadata": {},
   "outputs": [
    {
     "data": {
      "text/plain": [
       "[1, 2, 3]"
      ]
     },
     "execution_count": 37,
     "metadata": {},
     "output_type": "execute_result"
    }
   ],
   "source": [
    "mydict['a']"
   ]
  },
  {
   "cell_type": "code",
   "execution_count": 40,
   "id": "b8ae5559-a3bd-4443-8fb6-4326a0712c99",
   "metadata": {},
   "outputs": [],
   "source": [
    "mylist=[[1,2,3],[3,4,5]]"
   ]
  },
  {
   "cell_type": "code",
   "execution_count": 41,
   "id": "93215f9e-ac10-407c-9a9e-9538d1409dcc",
   "metadata": {},
   "outputs": [
    {
     "data": {
      "text/plain": [
       "[1, 2, 3]"
      ]
     },
     "execution_count": 41,
     "metadata": {},
     "output_type": "execute_result"
    }
   ],
   "source": [
    "mylist[0]"
   ]
  },
  {
   "cell_type": "code",
   "execution_count": 42,
   "id": "281a7f56-90a7-4b70-9d77-f148f010450a",
   "metadata": {},
   "outputs": [
    {
     "data": {
      "text/plain": [
       "[3, 4, 5]"
      ]
     },
     "execution_count": 42,
     "metadata": {},
     "output_type": "execute_result"
    }
   ],
   "source": [
    "mylist[1]"
   ]
  },
  {
   "cell_type": "code",
   "execution_count": 77,
   "id": "b4ddf340-8894-44c2-9f82-0cc48095e91c",
   "metadata": {},
   "outputs": [
    {
     "data": {
      "text/plain": [
       "[1, 2, 3]"
      ]
     },
     "execution_count": 77,
     "metadata": {},
     "output_type": "execute_result"
    }
   ],
   "source": [
    "mydict['a']  # index가 아닌 내가 설정한 key로 집합을 찾는다!"
   ]
  },
  {
   "cell_type": "code",
   "execution_count": 44,
   "id": "9df92efa-8474-4a74-a12e-6d4479df925b",
   "metadata": {},
   "outputs": [
    {
     "data": {
      "text/plain": [
       "[3, 4, 5]"
      ]
     },
     "execution_count": 44,
     "metadata": {},
     "output_type": "execute_result"
    }
   ],
   "source": [
    "mydict['b']"
   ]
  },
  {
   "cell_type": "code",
   "execution_count": 45,
   "id": "44058fe5-ef27-4a94-b799-8f159b7ab7c8",
   "metadata": {},
   "outputs": [
    {
     "data": {
      "text/plain": [
       "[1, 2, 3, 3, 4, 5]"
      ]
     },
     "execution_count": 45,
     "metadata": {},
     "output_type": "execute_result"
    }
   ],
   "source": [
    "mylist[0]+mylist[1]"
   ]
  },
  {
   "cell_type": "code",
   "execution_count": 46,
   "id": "cec8d996-8680-4a03-86d9-cbf448b9435b",
   "metadata": {},
   "outputs": [
    {
     "data": {
      "text/plain": [
       "[1, 2, 3, 3, 4, 5]"
      ]
     },
     "execution_count": 46,
     "metadata": {},
     "output_type": "execute_result"
    }
   ],
   "source": [
    "mydict['a']+mydict['b']"
   ]
  },
  {
   "cell_type": "code",
   "execution_count": 47,
   "id": "cdda3d63-675c-46d7-b3e2-87b5cf7771bb",
   "metadata": {},
   "outputs": [
    {
     "data": {
      "text/plain": [
       "{'a': [1, 2, 3], 'b': [3, 4, 5]}"
      ]
     },
     "execution_count": 47,
     "metadata": {},
     "output_type": "execute_result"
    }
   ],
   "source": [
    "mydict"
   ]
  },
  {
   "cell_type": "code",
   "execution_count": 48,
   "id": "081f7e01-e942-4e17-9648-b8ea40fb8dbf",
   "metadata": {},
   "outputs": [
    {
     "ename": "KeyError",
     "evalue": "0",
     "output_type": "error",
     "traceback": [
      "\u001b[0;31m---------------------------------------------------------------------------\u001b[0m",
      "\u001b[0;31mKeyError\u001b[0m                                  Traceback (most recent call last)",
      "\u001b[0;32m<ipython-input-48-1529edbf7ad5>\u001b[0m in \u001b[0;36m<module>\u001b[0;34m\u001b[0m\n\u001b[0;32m----> 1\u001b[0;31m \u001b[0mmydict\u001b[0m\u001b[0;34m[\u001b[0m\u001b[0;36m0\u001b[0m\u001b[0;34m]\u001b[0m\u001b[0;34m\u001b[0m\u001b[0;34m\u001b[0m\u001b[0m\n\u001b[0m",
      "\u001b[0;31mKeyError\u001b[0m: 0"
     ]
    }
   ],
   "source": [
    "mydict[0]"
   ]
  },
  {
   "cell_type": "code",
   "execution_count": 49,
   "id": "38a38634-0cdb-4b67-af7c-5dc3d20e063a",
   "metadata": {},
   "outputs": [
    {
     "ename": "TypeError",
     "evalue": "unhashable type: 'slice'",
     "output_type": "error",
     "traceback": [
      "\u001b[0;31m---------------------------------------------------------------------------\u001b[0m",
      "\u001b[0;31mTypeError\u001b[0m                                 Traceback (most recent call last)",
      "\u001b[0;32m<ipython-input-49-0cfefbf5c1da>\u001b[0m in \u001b[0;36m<module>\u001b[0;34m\u001b[0m\n\u001b[0;32m----> 1\u001b[0;31m \u001b[0mmydict\u001b[0m\u001b[0;34m[\u001b[0m\u001b[0;34m'a'\u001b[0m\u001b[0;34m:\u001b[0m\u001b[0;34m'b'\u001b[0m\u001b[0;34m]\u001b[0m\u001b[0;34m\u001b[0m\u001b[0;34m\u001b[0m\u001b[0m\n\u001b[0m",
      "\u001b[0;31mTypeError\u001b[0m: unhashable type: 'slice'"
     ]
    }
   ],
   "source": [
    "mydict['a':'b']"
   ]
  },
  {
   "cell_type": "code",
   "execution_count": 52,
   "id": "340a01fb-b6e6-4886-82c8-3c814517ea8a",
   "metadata": {},
   "outputs": [
    {
     "data": {
      "text/plain": [
       "{'a': (1, 2, 3), 'b': (3, 4, 5)}"
      ]
     },
     "execution_count": 52,
     "metadata": {},
     "output_type": "execute_result"
    }
   ],
   "source": [
    "{'a':(1,2,3),'b':(3,4,5)}"
   ]
  },
  {
   "cell_type": "code",
   "execution_count": 65,
   "id": "ba5ba838-0420-4188-9abc-d42cef22b3c1",
   "metadata": {},
   "outputs": [
    {
     "data": {
      "text/plain": [
       "{'a': [1, 2, 3], 'b': [3, 4, 5]}"
      ]
     },
     "execution_count": 65,
     "metadata": {},
     "output_type": "execute_result"
    }
   ],
   "source": [
    "dict((['a',[1,2,3]],['b',[3,4,5]]))"
   ]
  },
  {
   "cell_type": "markdown",
   "id": "fa325aac-d59d-4625-b043-05d7dfafc73a",
   "metadata": {},
   "source": [
    "딕셔너리 컴프리핸션"
   ]
  },
  {
   "cell_type": "code",
   "execution_count": 66,
   "id": "51e971ff-c5ef-4978-89ea-f68469753680",
   "metadata": {},
   "outputs": [],
   "source": [
    "X={x:x**2 for x in (1,2,3,4)}"
   ]
  },
  {
   "cell_type": "code",
   "execution_count": 67,
   "id": "67b569d8-179f-4b33-b150-8f2e2efdc426",
   "metadata": {},
   "outputs": [
    {
     "data": {
      "text/plain": [
       "{1: 1, 2: 4, 3: 9, 4: 16}"
      ]
     },
     "execution_count": 67,
     "metadata": {},
     "output_type": "execute_result"
    }
   ],
   "source": [
    "X"
   ]
  },
  {
   "cell_type": "code",
   "execution_count": 73,
   "id": "f8154bac-9ac0-4291-9266-33830bac6d78",
   "metadata": {},
   "outputs": [
    {
     "data": {
      "text/plain": [
       "16"
      ]
     },
     "execution_count": 73,
     "metadata": {},
     "output_type": "execute_result"
    }
   ],
   "source": [
    "X[4]"
   ]
  },
  {
   "cell_type": "markdown",
   "id": "96917ac9-282e-4325-a3a3-4d8b9f74bee0",
   "metadata": {},
   "source": [
    "***이거 인덱싱아니야?***\n",
    "\n",
    "인덱싱은 아님 (하지만 마치 인덱싱처럼 보이기는 함) "
   ]
  },
  {
   "cell_type": "code",
   "execution_count": 76,
   "id": "62eed969-6114-46dc-8fde-9ddbe7da0b6c",
   "metadata": {},
   "outputs": [
    {
     "ename": "KeyError",
     "evalue": "-1",
     "output_type": "error",
     "traceback": [
      "\u001b[0;31m---------------------------------------------------------------------------\u001b[0m",
      "\u001b[0;31mKeyError\u001b[0m                                  Traceback (most recent call last)",
      "\u001b[0;32m<ipython-input-76-5864bf9e7d00>\u001b[0m in \u001b[0;36m<module>\u001b[0;34m\u001b[0m\n\u001b[0;32m----> 1\u001b[0;31m \u001b[0mX\u001b[0m\u001b[0;34m[\u001b[0m\u001b[0;34m-\u001b[0m\u001b[0;36m1\u001b[0m\u001b[0;34m]\u001b[0m\u001b[0;34m\u001b[0m\u001b[0;34m\u001b[0m\u001b[0m\n\u001b[0m",
      "\u001b[0;31mKeyError\u001b[0m: -1"
     ]
    }
   ],
   "source": [
    "X[-1]"
   ]
  },
  {
   "cell_type": "code",
   "execution_count": 77,
   "id": "40f2bb02-e78a-4550-b666-41571dd1bc30",
   "metadata": {},
   "outputs": [
    {
     "ename": "TypeError",
     "evalue": "unhashable type: 'slice'",
     "output_type": "error",
     "traceback": [
      "\u001b[0;31m---------------------------------------------------------------------------\u001b[0m",
      "\u001b[0;31mTypeError\u001b[0m                                 Traceback (most recent call last)",
      "\u001b[0;32m<ipython-input-77-14e849fefbc5>\u001b[0m in \u001b[0;36m<module>\u001b[0;34m\u001b[0m\n\u001b[0;32m----> 1\u001b[0;31m \u001b[0mX\u001b[0m\u001b[0;34m[\u001b[0m\u001b[0;36m2\u001b[0m\u001b[0;34m:\u001b[0m\u001b[0;36m5\u001b[0m\u001b[0;34m]\u001b[0m\u001b[0;34m\u001b[0m\u001b[0;34m\u001b[0m\u001b[0m\n\u001b[0m",
      "\u001b[0;31mTypeError\u001b[0m: unhashable type: 'slice'"
     ]
    }
   ],
   "source": [
    "X[2:5]"
   ]
  },
  {
   "cell_type": "code",
   "execution_count": 80,
   "id": "1f2a41b0-ca3e-4038-a138-b11419c3465a",
   "metadata": {},
   "outputs": [
    {
     "data": {
      "text/plain": [
       "[[1, 2, 3], [3, 4, 5]]"
      ]
     },
     "execution_count": 80,
     "metadata": {},
     "output_type": "execute_result"
    }
   ],
   "source": [
    "mylist"
   ]
  },
  {
   "cell_type": "code",
   "execution_count": 81,
   "id": "19fb96cb-b16d-4abd-9238-932126566f40",
   "metadata": {},
   "outputs": [],
   "source": [
    "mylist=[1,2,3,4,5]"
   ]
  },
  {
   "cell_type": "code",
   "execution_count": 83,
   "id": "baa7bdb3-bfab-46ec-92e1-4e54b110e001",
   "metadata": {},
   "outputs": [
    {
     "data": {
      "text/plain": [
       "4"
      ]
     },
     "execution_count": 83,
     "metadata": {},
     "output_type": "execute_result"
    }
   ],
   "source": [
    "mylist[-2]"
   ]
  },
  {
   "cell_type": "code",
   "execution_count": 85,
   "id": "d6e5b0c1-7998-4a8a-acdf-cce9c5ad87be",
   "metadata": {},
   "outputs": [
    {
     "ename": "KeyError",
     "evalue": "-1",
     "output_type": "error",
     "traceback": [
      "\u001b[0;31m---------------------------------------------------------------------------\u001b[0m",
      "\u001b[0;31mKeyError\u001b[0m                                  Traceback (most recent call last)",
      "\u001b[0;32m<ipython-input-85-5864bf9e7d00>\u001b[0m in \u001b[0;36m<module>\u001b[0;34m\u001b[0m\n\u001b[0;32m----> 1\u001b[0;31m \u001b[0mX\u001b[0m\u001b[0;34m[\u001b[0m\u001b[0;34m-\u001b[0m\u001b[0;36m1\u001b[0m\u001b[0;34m]\u001b[0m\u001b[0;34m\u001b[0m\u001b[0;34m\u001b[0m\u001b[0m\n\u001b[0m",
      "\u001b[0;31mKeyError\u001b[0m: -1"
     ]
    }
   ],
   "source": [
    "X[-1]"
   ]
  }
 ],
 "metadata": {
  "kernelspec": {
   "display_name": "Python 3 (ipykernel)",
   "language": "python",
   "name": "python3"
  },
  "language_info": {
   "codemirror_mode": {
    "name": "ipython",
    "version": 3
   },
   "file_extension": ".py",
   "mimetype": "text/x-python",
   "name": "python",
   "nbconvert_exporter": "python",
   "pygments_lexer": "ipython3",
   "version": "3.8.11"
  }
 },
 "nbformat": 4,
 "nbformat_minor": 5
}
