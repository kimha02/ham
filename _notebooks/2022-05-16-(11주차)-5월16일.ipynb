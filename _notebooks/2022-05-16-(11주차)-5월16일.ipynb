{
 "cells": [
  {
   "cell_type": "markdown",
   "id": "158061d9-a0af-45d1-bf5b-683e43a59f81",
   "metadata": {
    "id": "2fa2a175-6e8f-4f82-9261-5edb00541409"
   },
   "source": [
    "# (11주차) 5월16일 \n",
    "\n",
    "- toc:true\n",
    "- branch: master\n",
    "- badges: true\n",
    "- comments: true\n",
    "- author: 최규빈"
   ]
  },
  {
   "cell_type": "markdown",
   "id": "7918c1da-8764-48ff-b894-0e9d71dedcfc",
   "metadata": {
    "id": "7918c1da-8764-48ff-b894-0e9d71dedcfc"
   },
   "source": [
    "### 강의영상 "
   ]
  },
  {
   "cell_type": "markdown",
   "id": "509e902e-f2c9-4d73-a6c1-45e76c7a979a",
   "metadata": {
    "id": "509e902e-f2c9-4d73-a6c1-45e76c7a979a"
   },
   "source": [
    ">youtube: https://youtube.com/playlist?list=PLQqh36zP38-wlEuWT75L4hqGNEwoPpjWw"
   ]
  },
  {
   "cell_type": "markdown",
   "id": "16dc582e-8b7b-4713-858e-f0efdfd98b10",
   "metadata": {
    "id": "16dc582e-8b7b-4713-858e-f0efdfd98b10"
   },
   "source": [
    "### imports"
   ]
  },
  {
   "cell_type": "code",
   "execution_count": 1,
   "id": "1f9b3e9e-4af0-47b9-84c9-a82d1b7b9d31",
   "metadata": {
    "id": "1f9b3e9e-4af0-47b9-84c9-a82d1b7b9d31"
   },
   "outputs": [],
   "source": [
    "import tensorflow as tf \n",
    "import tensorflow.experimental.numpy as tnp \n",
    "import numpy as np \n",
    "import matplotlib.pyplot as plt"
   ]
  },
  {
   "cell_type": "code",
   "execution_count": 2,
   "id": "4aff778e-c93c-425d-8cbb-28652367c5b2",
   "metadata": {
    "id": "4aff778e-c93c-425d-8cbb-28652367c5b2"
   },
   "outputs": [],
   "source": [
    "tnp.experimental_enable_numpy_behavior()"
   ]
  },
  {
   "cell_type": "code",
   "execution_count": 3,
   "id": "7207e6aa-0a59-41e2-aac3-89d2efb5f6c1",
   "metadata": {
    "id": "7207e6aa-0a59-41e2-aac3-89d2efb5f6c1"
   },
   "outputs": [],
   "source": [
    "(x_train, y_train), (x_test, y_test) = tf.keras.datasets.fashion_mnist.load_data()"
   ]
  },
  {
   "cell_type": "code",
   "execution_count": 4,
   "id": "da80b9e5-d7dc-40c9-8d00-65bba5638e30",
   "metadata": {
    "id": "da80b9e5-d7dc-40c9-8d00-65bba5638e30"
   },
   "outputs": [
    {
     "name": "stderr",
     "output_type": "stream",
     "text": [
      "2022-05-23 21:39:56.340237: I tensorflow/stream_executor/cuda/cuda_gpu_executor.cc:939] successful NUMA node read from SysFS had negative value (-1), but there must be at least one NUMA node, so returning NUMA node zero\n",
      "2022-05-23 21:39:56.367654: I tensorflow/stream_executor/cuda/cuda_gpu_executor.cc:939] successful NUMA node read from SysFS had negative value (-1), but there must be at least one NUMA node, so returning NUMA node zero\n",
      "2022-05-23 21:39:56.368077: I tensorflow/stream_executor/cuda/cuda_gpu_executor.cc:939] successful NUMA node read from SysFS had negative value (-1), but there must be at least one NUMA node, so returning NUMA node zero\n",
      "2022-05-23 21:39:56.369320: I tensorflow/core/platform/cpu_feature_guard.cc:151] This TensorFlow binary is optimized with oneAPI Deep Neural Network Library (oneDNN) to use the following CPU instructions in performance-critical operations:  SSE4.1 SSE4.2 AVX AVX2 FMA\n",
      "To enable them in other operations, rebuild TensorFlow with the appropriate compiler flags.\n",
      "2022-05-23 21:39:56.369972: I tensorflow/stream_executor/cuda/cuda_gpu_executor.cc:939] successful NUMA node read from SysFS had negative value (-1), but there must be at least one NUMA node, so returning NUMA node zero\n",
      "2022-05-23 21:39:56.370348: I tensorflow/stream_executor/cuda/cuda_gpu_executor.cc:939] successful NUMA node read from SysFS had negative value (-1), but there must be at least one NUMA node, so returning NUMA node zero\n",
      "2022-05-23 21:39:56.370695: I tensorflow/stream_executor/cuda/cuda_gpu_executor.cc:939] successful NUMA node read from SysFS had negative value (-1), but there must be at least one NUMA node, so returning NUMA node zero\n",
      "2022-05-23 21:39:57.339356: I tensorflow/stream_executor/cuda/cuda_gpu_executor.cc:939] successful NUMA node read from SysFS had negative value (-1), but there must be at least one NUMA node, so returning NUMA node zero\n",
      "2022-05-23 21:39:57.339619: I tensorflow/stream_executor/cuda/cuda_gpu_executor.cc:939] successful NUMA node read from SysFS had negative value (-1), but there must be at least one NUMA node, so returning NUMA node zero\n",
      "2022-05-23 21:39:57.339842: I tensorflow/stream_executor/cuda/cuda_gpu_executor.cc:939] successful NUMA node read from SysFS had negative value (-1), but there must be at least one NUMA node, so returning NUMA node zero\n",
      "2022-05-23 21:39:57.340057: I tensorflow/core/common_runtime/gpu/gpu_device.cc:1525] Created device /job:localhost/replica:0/task:0/device:GPU:0 with 2244 MB memory:  -> device: 0, name: NVIDIA GeForce RTX 3090, pci bus id: 0000:09:00.0, compute capability: 8.6\n"
     ]
    }
   ],
   "source": [
    "X = tf.constant(x_train.reshape(-1,28,28,1),dtype=tf.float64)\n",
    "y = tf.keras.utils.to_categorical(y_train)\n",
    "XX = tf.constant(x_test.reshape(-1,28,28,1),dtype=tf.float64)\n",
    "yy = tf.keras.utils.to_categorical(y_test)"
   ]
  },
  {
   "cell_type": "markdown",
   "id": "699b2db5-eb9a-443c-9924-b28056e24d99",
   "metadata": {
    "id": "699b2db5-eb9a-443c-9924-b28056e24d99"
   },
   "source": [
    "`-` 첫시도"
   ]
  },
  {
   "cell_type": "code",
   "execution_count": 6,
   "id": "d630e3e0-2574-4ad4-91d5-a05c73bf8fc5",
   "metadata": {
    "id": "d630e3e0-2574-4ad4-91d5-a05c73bf8fc5",
    "outputId": "f4f65ab2-4cbe-4c72-9212-a804a735fe3f"
   },
   "outputs": [
    {
     "name": "stdout",
     "output_type": "stream",
     "text": [
      "Epoch 1/5\n",
      "  20/1875 [..............................] - ETA: 16s - loss: 34.3968 - accuracy: 0.4141"
     ]
    },
    {
     "name": "stderr",
     "output_type": "stream",
     "text": [
      "2022-05-23 21:44:13.592798: I tensorflow/stream_executor/cuda/cuda_blas.cc:1774] TensorFloat-32 will be used for the matrix multiplication. This will only be logged once.\n"
     ]
    },
    {
     "name": "stdout",
     "output_type": "stream",
     "text": [
      "1875/1875 [==============================] - 18s 9ms/step - loss: 1.0302 - accuracy: 0.7863\n",
      "Epoch 2/5\n",
      "1875/1875 [==============================] - 16s 9ms/step - loss: 0.4462 - accuracy: 0.8392\n",
      "Epoch 3/5\n",
      "1875/1875 [==============================] - 17s 9ms/step - loss: 0.4168 - accuracy: 0.8518\n",
      "Epoch 4/5\n",
      "1875/1875 [==============================] - 16s 8ms/step - loss: 0.3994 - accuracy: 0.8594\n",
      "Epoch 5/5\n",
      "1875/1875 [==============================] - 16s 9ms/step - loss: 0.3780 - accuracy: 0.8670\n"
     ]
    },
    {
     "data": {
      "text/plain": [
       "<keras.callbacks.History at 0x7f21904a29e0>"
      ]
     },
     "execution_count": 6,
     "metadata": {},
     "output_type": "execute_result"
    }
   ],
   "source": [
    "net1 = tf.keras.Sequential()\n",
    "net1.add(tf.keras.layers.Flatten())\n",
    "net1.add(tf.keras.layers.Dense(500,activation='relu'))\n",
    "net1.add(tf.keras.layers.Dense(500,activation='relu'))\n",
    "net1.add(tf.keras.layers.Dense(500,activation='relu'))\n",
    "net1.add(tf.keras.layers.Dense(500,activation='relu'))\n",
    "net1.add(tf.keras.layers.Dense(10,activation='softmax'))\n",
    "net1.compile(optimizer='adam', loss=tf.losses.categorical_crossentropy,metrics='accuracy')\n",
    "net1.fit(X,y,epochs=5)"
   ]
  },
  {
   "cell_type": "code",
   "execution_count": 7,
   "id": "2d5f021f-b06f-4cbb-875c-2eff3c2b2e2f",
   "metadata": {
    "id": "2d5f021f-b06f-4cbb-875c-2eff3c2b2e2f",
    "outputId": "d477d07d-15a4-4283-b7e4-49caefad95a0"
   },
   "outputs": [
    {
     "name": "stdout",
     "output_type": "stream",
     "text": [
      "313/313 [==============================] - 4s 12ms/step - loss: 0.4840 - accuracy: 0.8447\n"
     ]
    },
    {
     "data": {
      "text/plain": [
       "[0.48400625586509705, 0.8446999788284302]"
      ]
     },
     "execution_count": 7,
     "metadata": {},
     "output_type": "execute_result"
    }
   ],
   "source": [
    "net1.evaluate(XX,yy)"
   ]
  },
  {
   "cell_type": "code",
   "execution_count": 8,
   "id": "2222d929-7784-48d6-af5f-944682165714",
   "metadata": {
    "id": "2222d929-7784-48d6-af5f-944682165714",
    "outputId": "9b4b21ab-c6cb-4bae-f46a-c66866b15cd4"
   },
   "outputs": [
    {
     "name": "stdout",
     "output_type": "stream",
     "text": [
      "Model: \"sequential\"\n",
      "_________________________________________________________________\n",
      " Layer (type)                Output Shape              Param #   \n",
      "=================================================================\n",
      " flatten (Flatten)           (None, 784)               0         \n",
      "                                                                 \n",
      " dense (Dense)               (None, 500)               392500    \n",
      "                                                                 \n",
      " dense_1 (Dense)             (None, 500)               250500    \n",
      "                                                                 \n",
      " dense_2 (Dense)             (None, 500)               250500    \n",
      "                                                                 \n",
      " dense_3 (Dense)             (None, 500)               250500    \n",
      "                                                                 \n",
      " dense_4 (Dense)             (None, 10)                5010      \n",
      "                                                                 \n",
      "=================================================================\n",
      "Total params: 1,149,010\n",
      "Trainable params: 1,149,010\n",
      "Non-trainable params: 0\n",
      "_________________________________________________________________\n"
     ]
    }
   ],
   "source": [
    "net1.summary()"
   ]
  },
  {
   "cell_type": "markdown",
   "id": "9c1bfa66-e9eb-4702-be68-8cad97aca26f",
   "metadata": {
    "id": "9c1bfa66-e9eb-4702-be68-8cad97aca26f"
   },
   "source": [
    "`-` 두번째 시도"
   ]
  },
  {
   "cell_type": "code",
   "execution_count": 9,
   "id": "fbd22327-6b70-4294-b035-405747d5e32e",
   "metadata": {
    "id": "fbd22327-6b70-4294-b035-405747d5e32e",
    "outputId": "713c329b-8700-4c9b-b2e0-45072bc87781"
   },
   "outputs": [
    {
     "name": "stdout",
     "output_type": "stream",
     "text": [
      "Epoch 1/5\n"
     ]
    },
    {
     "name": "stderr",
     "output_type": "stream",
     "text": [
      "2022-05-23 21:46:35.626397: I tensorflow/stream_executor/cuda/cuda_dnn.cc:366] Loaded cuDNN version 8201\n",
      "2022-05-23 21:46:36.641592: I tensorflow/core/platform/default/subprocess.cc:304] Start cannot spawn child process: No such file or directory\n",
      "2022-05-23 21:46:36.642098: I tensorflow/core/platform/default/subprocess.cc:304] Start cannot spawn child process: No such file or directory\n",
      "2022-05-23 21:46:36.642115: W tensorflow/stream_executor/gpu/asm_compiler.cc:80] Couldn't get ptxas version string: INTERNAL: Couldn't invoke ptxas --version\n",
      "2022-05-23 21:46:36.642399: I tensorflow/core/platform/default/subprocess.cc:304] Start cannot spawn child process: No such file or directory\n",
      "2022-05-23 21:46:36.642443: W tensorflow/stream_executor/gpu/redzone_allocator.cc:314] INTERNAL: Failed to launch ptxas\n",
      "Relying on driver to perform ptx compilation. \n",
      "Modify $PATH to customize ptxas location.\n",
      "This message will be only logged once.\n"
     ]
    },
    {
     "name": "stdout",
     "output_type": "stream",
     "text": [
      "1875/1875 [==============================] - 13s 5ms/step - loss: 0.8365 - accuracy: 0.8022\n",
      "Epoch 2/5\n",
      "1875/1875 [==============================] - 10s 5ms/step - loss: 0.3718 - accuracy: 0.8662\n",
      "Epoch 3/5\n",
      "1875/1875 [==============================] - 10s 5ms/step - loss: 0.3371 - accuracy: 0.8790\n",
      "Epoch 4/5\n",
      "1875/1875 [==============================] - 10s 5ms/step - loss: 0.3120 - accuracy: 0.8873\n",
      "Epoch 5/5\n",
      "1875/1875 [==============================] - 10s 5ms/step - loss: 0.2947 - accuracy: 0.8928\n"
     ]
    },
    {
     "data": {
      "text/plain": [
       "<keras.callbacks.History at 0x7f2131c54d60>"
      ]
     },
     "execution_count": 9,
     "metadata": {},
     "output_type": "execute_result"
    }
   ],
   "source": [
    "net2 = tf.keras.Sequential()\n",
    "net2.add(tf.keras.layers.Conv2D(30,(2,2),activation='relu'))\n",
    "net2.add(tf.keras.layers.MaxPool2D()) \n",
    "net2.add(tf.keras.layers.Conv2D(30,(2,2),activation='relu'))\n",
    "net2.add(tf.keras.layers.MaxPool2D()) \n",
    "net2.add(tf.keras.layers.Flatten())\n",
    "#net2.add(tf.keras.layers.Dense(500,activation='relu'))\n",
    "net2.add(tf.keras.layers.Dense(10,activation='softmax'))\n",
    "net2.compile(optimizer='adam', loss=tf.losses.categorical_crossentropy,metrics='accuracy')\n",
    "net2.fit(X,y,epochs=5)"
   ]
  },
  {
   "cell_type": "code",
   "execution_count": 10,
   "id": "3e177600-bdb3-4752-b07c-d46b953b3bf7",
   "metadata": {
    "id": "3e177600-bdb3-4752-b07c-d46b953b3bf7",
    "outputId": "91ac8137-7f3c-440c-aa2b-e3e105e73098"
   },
   "outputs": [
    {
     "name": "stdout",
     "output_type": "stream",
     "text": [
      "313/313 [==============================] - 4s 12ms/step - loss: 0.3790 - accuracy: 0.8614\n"
     ]
    },
    {
     "data": {
      "text/plain": [
       "[0.37904319167137146, 0.8614000082015991]"
      ]
     },
     "execution_count": 10,
     "metadata": {},
     "output_type": "execute_result"
    }
   ],
   "source": [
    "net2.evaluate(XX,yy)"
   ]
  },
  {
   "cell_type": "code",
   "execution_count": 11,
   "id": "9d4f313d-e8b1-44ab-9921-ffef5b34cfa7",
   "metadata": {
    "id": "9d4f313d-e8b1-44ab-9921-ffef5b34cfa7",
    "outputId": "5b771528-9e93-4f36-e8e3-f6c53a02bf23"
   },
   "outputs": [
    {
     "name": "stdout",
     "output_type": "stream",
     "text": [
      "Model: \"sequential_1\"\n",
      "_________________________________________________________________\n",
      " Layer (type)                Output Shape              Param #   \n",
      "=================================================================\n",
      " conv2d (Conv2D)             (None, 27, 27, 30)        150       \n",
      "                                                                 \n",
      " max_pooling2d (MaxPooling2D  (None, 13, 13, 30)       0         \n",
      " )                                                               \n",
      "                                                                 \n",
      " conv2d_1 (Conv2D)           (None, 12, 12, 30)        3630      \n",
      "                                                                 \n",
      " max_pooling2d_1 (MaxPooling  (None, 6, 6, 30)         0         \n",
      " 2D)                                                             \n",
      "                                                                 \n",
      " flatten_1 (Flatten)         (None, 1080)              0         \n",
      "                                                                 \n",
      " dense_5 (Dense)             (None, 10)                10810     \n",
      "                                                                 \n",
      "=================================================================\n",
      "Total params: 14,590\n",
      "Trainable params: 14,590\n",
      "Non-trainable params: 0\n",
      "_________________________________________________________________\n"
     ]
    }
   ],
   "source": [
    "net2.summary()"
   ]
  },
  {
   "cell_type": "code",
   "execution_count": 12,
   "id": "792c1fe0-c8cc-4887-83ca-fc644a69067e",
   "metadata": {
    "id": "792c1fe0-c8cc-4887-83ca-fc644a69067e",
    "outputId": "181e0412-aa69-4cec-97dd-2b981fd9479d"
   },
   "outputs": [
    {
     "data": {
      "text/plain": [
       "0.012697887746842934"
      ]
     },
     "execution_count": 12,
     "metadata": {},
     "output_type": "execute_result"
    }
   ],
   "source": [
    "14590/ 1149010"
   ]
  },
  {
   "cell_type": "code",
   "execution_count": 13,
   "id": "21ce9fe2-f5f9-49aa-93c4-a51e5efec519",
   "metadata": {
    "id": "21ce9fe2-f5f9-49aa-93c4-a51e5efec519"
   },
   "outputs": [],
   "source": [
    "c1, m1, c2, m2, flttn, dns = net2.layers"
   ]
  },
  {
   "cell_type": "code",
   "execution_count": 15,
   "id": "9f35432b-20ae-4e8e-ae9c-36f5d4937793",
   "metadata": {
    "id": "9f35432b-20ae-4e8e-ae9c-36f5d4937793",
    "outputId": "0211ddad-f5cc-4fdc-8288-521ec97aecc7"
   },
   "outputs": [
    {
     "name": "stdout",
     "output_type": "stream",
     "text": [
      "(60000, 28, 28, 1)\n"
     ]
    },
    {
     "name": "stderr",
     "output_type": "stream",
     "text": [
      "2022-05-23 21:51:19.099279: W tensorflow/core/common_runtime/bfc_allocator.cc:462] Allocator (GPU_0_bfc) ran out of memory trying to allocate 4.89GiB (rounded to 5248800000)requested by op Conv2D\n",
      "If the cause is memory fragmentation maybe the environment variable 'TF_GPU_ALLOCATOR=cuda_malloc_async' will improve the situation. \n",
      "Current allocation summary follows.\n",
      "Current allocation summary follows.\n",
      "2022-05-23 21:51:19.099344: I tensorflow/core/common_runtime/bfc_allocator.cc:1010] BFCAllocator dump for GPU_0_bfc\n",
      "2022-05-23 21:51:19.099371: I tensorflow/core/common_runtime/bfc_allocator.cc:1017] Bin (256): \tTotal Chunks: 62, Chunks in use: 62. 15.5KiB allocated for chunks. 15.5KiB in use in bin. 1.4KiB client-requested in use in bin.\n",
      "2022-05-23 21:51:19.099386: I tensorflow/core/common_runtime/bfc_allocator.cc:1017] Bin (512): \tTotal Chunks: 4, Chunks in use: 3. 2.0KiB allocated for chunks. 1.5KiB in use in bin. 1.4KiB client-requested in use in bin.\n",
      "2022-05-23 21:51:19.099399: I tensorflow/core/common_runtime/bfc_allocator.cc:1017] Bin (1024): \tTotal Chunks: 1, Chunks in use: 1. 1.2KiB allocated for chunks. 1.2KiB in use in bin. 1.0KiB client-requested in use in bin.\n",
      "2022-05-23 21:51:19.099413: I tensorflow/core/common_runtime/bfc_allocator.cc:1017] Bin (2048): \tTotal Chunks: 12, Chunks in use: 12. 24.0KiB allocated for chunks. 24.0KiB in use in bin. 23.4KiB client-requested in use in bin.\n",
      "2022-05-23 21:51:19.099425: I tensorflow/core/common_runtime/bfc_allocator.cc:1017] Bin (4096): \tTotal Chunks: 0, Chunks in use: 0. 0B allocated for chunks. 0B in use in bin. 0B client-requested in use in bin.\n",
      "2022-05-23 21:51:19.099440: I tensorflow/core/common_runtime/bfc_allocator.cc:1017] Bin (8192): \tTotal Chunks: 2, Chunks in use: 2. 28.5KiB allocated for chunks. 28.5KiB in use in bin. 28.1KiB client-requested in use in bin.\n",
      "2022-05-23 21:51:19.099453: I tensorflow/core/common_runtime/bfc_allocator.cc:1017] Bin (16384): \tTotal Chunks: 4, Chunks in use: 4. 96.2KiB allocated for chunks. 96.2KiB in use in bin. 72.7KiB client-requested in use in bin.\n",
      "2022-05-23 21:51:19.099467: I tensorflow/core/common_runtime/bfc_allocator.cc:1017] Bin (32768): \tTotal Chunks: 2, Chunks in use: 2. 84.5KiB allocated for chunks. 84.5KiB in use in bin. 84.4KiB client-requested in use in bin.\n",
      "2022-05-23 21:51:19.099480: I tensorflow/core/common_runtime/bfc_allocator.cc:1017] Bin (65536): \tTotal Chunks: 1, Chunks in use: 1. 84.2KiB allocated for chunks. 84.2KiB in use in bin. 42.2KiB client-requested in use in bin.\n",
      "2022-05-23 21:51:19.099491: I tensorflow/core/common_runtime/bfc_allocator.cc:1017] Bin (131072): \tTotal Chunks: 0, Chunks in use: 0. 0B allocated for chunks. 0B in use in bin. 0B client-requested in use in bin.\n",
      "2022-05-23 21:51:19.099506: I tensorflow/core/common_runtime/bfc_allocator.cc:1017] Bin (262144): \tTotal Chunks: 3, Chunks in use: 1. 1.01MiB allocated for chunks. 390.8KiB in use in bin. 390.6KiB client-requested in use in bin.\n",
      "2022-05-23 21:51:19.099519: I tensorflow/core/common_runtime/bfc_allocator.cc:1017] Bin (524288): \tTotal Chunks: 8, Chunks in use: 8. 7.63MiB allocated for chunks. 7.63MiB in use in bin. 7.63MiB client-requested in use in bin.\n",
      "2022-05-23 21:51:19.099531: I tensorflow/core/common_runtime/bfc_allocator.cc:1017] Bin (1048576): \tTotal Chunks: 4, Chunks in use: 4. 5.98MiB allocated for chunks. 5.98MiB in use in bin. 5.44MiB client-requested in use in bin.\n",
      "2022-05-23 21:51:19.099543: I tensorflow/core/common_runtime/bfc_allocator.cc:1017] Bin (2097152): \tTotal Chunks: 2, Chunks in use: 2. 4.58MiB allocated for chunks. 4.58MiB in use in bin. 4.58MiB client-requested in use in bin.\n",
      "2022-05-23 21:51:19.099554: I tensorflow/core/common_runtime/bfc_allocator.cc:1017] Bin (4194304): \tTotal Chunks: 0, Chunks in use: 0. 0B allocated for chunks. 0B in use in bin. 0B client-requested in use in bin.\n",
      "2022-05-23 21:51:19.099566: I tensorflow/core/common_runtime/bfc_allocator.cc:1017] Bin (8388608): \tTotal Chunks: 0, Chunks in use: 0. 0B allocated for chunks. 0B in use in bin. 0B client-requested in use in bin.\n",
      "2022-05-23 21:51:19.099577: I tensorflow/core/common_runtime/bfc_allocator.cc:1017] Bin (16777216): \tTotal Chunks: 0, Chunks in use: 0. 0B allocated for chunks. 0B in use in bin. 0B client-requested in use in bin.\n",
      "2022-05-23 21:51:19.099590: I tensorflow/core/common_runtime/bfc_allocator.cc:1017] Bin (33554432): \tTotal Chunks: 1, Chunks in use: 1. 59.81MiB allocated for chunks. 59.81MiB in use in bin. 59.81MiB client-requested in use in bin.\n",
      "2022-05-23 21:51:19.099602: I tensorflow/core/common_runtime/bfc_allocator.cc:1017] Bin (67108864): \tTotal Chunks: 0, Chunks in use: 0. 0B allocated for chunks. 0B in use in bin. 0B client-requested in use in bin.\n",
      "2022-05-23 21:51:19.099621: I tensorflow/core/common_runtime/bfc_allocator.cc:1017] Bin (134217728): \tTotal Chunks: 2, Chunks in use: 2. 358.89MiB allocated for chunks. 358.89MiB in use in bin. 358.89MiB client-requested in use in bin.\n",
      "2022-05-23 21:51:19.099635: I tensorflow/core/common_runtime/bfc_allocator.cc:1017] Bin (268435456): \tTotal Chunks: 2, Chunks in use: 1. 1.76GiB allocated for chunks. 358.89MiB in use in bin. 358.89MiB client-requested in use in bin.\n",
      "2022-05-23 21:51:19.099728: I tensorflow/core/common_runtime/bfc_allocator.cc:1033] Bin for 4.89GiB was 256.00MiB, Chunk State: \n",
      "2022-05-23 21:51:19.099745: I tensorflow/core/common_runtime/bfc_allocator.cc:1039]   Size: 1.41GiB | Requested Size: 4B | in_use: 0 | bin_num: 20, prev:   Size: 179.44MiB | Requested Size: 179.44MiB | in_use: 1 | bin_num: -1\n",
      "2022-05-23 21:51:19.099754: I tensorflow/core/common_runtime/bfc_allocator.cc:1046] Next region of size 2353070080\n",
      "2022-05-23 21:51:19.099765: I tensorflow/core/common_runtime/bfc_allocator.cc:1066] InUse at 7f200c000000 of size 376320000 next 1\n",
      "2022-05-23 21:51:19.099775: I tensorflow/core/common_runtime/bfc_allocator.cc:1066] InUse at 7f20226e3000 of size 1280 next 2\n",
      "2022-05-23 21:51:19.099786: I tensorflow/core/common_runtime/bfc_allocator.cc:1066] InUse at 7f20226e3500 of size 62720000 next 3\n",
      "2022-05-23 21:51:19.099795: I tensorflow/core/common_runtime/bfc_allocator.cc:1066] InUse at 7f20262b3d00 of size 256 next 4\n",
      "2022-05-23 21:51:19.099803: I tensorflow/core/common_runtime/bfc_allocator.cc:1066] InUse at 7f20262b3e00 of size 256 next 5\n",
      "2022-05-23 21:51:19.099812: I tensorflow/core/common_runtime/bfc_allocator.cc:1066] InUse at 7f20262b3f00 of size 256 next 6\n",
      "2022-05-23 21:51:19.099820: I tensorflow/core/common_runtime/bfc_allocator.cc:1066] InUse at 7f20262b4000 of size 256 next 7\n",
      "2022-05-23 21:51:19.099829: I tensorflow/core/common_runtime/bfc_allocator.cc:1066] InUse at 7f20262b4100 of size 256 next 8\n",
      "2022-05-23 21:51:19.099837: I tensorflow/core/common_runtime/bfc_allocator.cc:1066] InUse at 7f20262b4200 of size 2400000 next 9\n",
      "2022-05-23 21:51:19.099846: I tensorflow/core/common_runtime/bfc_allocator.cc:1066] InUse at 7f20264fe100 of size 256 next 10\n",
      "2022-05-23 21:51:19.099855: I tensorflow/core/common_runtime/bfc_allocator.cc:1066] InUse at 7f20264fe200 of size 256 next 11\n",
      "2022-05-23 21:51:19.099863: I tensorflow/core/common_runtime/bfc_allocator.cc:1066] InUse at 7f20264fe300 of size 256 next 12\n",
      "2022-05-23 21:51:19.099872: I tensorflow/core/common_runtime/bfc_allocator.cc:1066] InUse at 7f20264fe400 of size 256 next 13\n",
      "2022-05-23 21:51:19.099881: I tensorflow/core/common_runtime/bfc_allocator.cc:1066] InUse at 7f20264fe500 of size 2048 next 14\n",
      "2022-05-23 21:51:19.099889: I tensorflow/core/common_runtime/bfc_allocator.cc:1066] InUse at 7f20264fed00 of size 256 next 15\n",
      "2022-05-23 21:51:19.099898: I tensorflow/core/common_runtime/bfc_allocator.cc:1066] InUse at 7f20264fee00 of size 256 next 18\n",
      "2022-05-23 21:51:19.099906: I tensorflow/core/common_runtime/bfc_allocator.cc:1066] InUse at 7f20264fef00 of size 2048 next 19\n",
      "2022-05-23 21:51:19.099915: I tensorflow/core/common_runtime/bfc_allocator.cc:1066] InUse at 7f20264ff700 of size 1998592 next 21\n",
      "2022-05-23 21:51:19.099924: I tensorflow/core/common_runtime/bfc_allocator.cc:1066] InUse at 7f20266e7600 of size 1133056 next 16\n",
      "2022-05-23 21:51:19.099933: I tensorflow/core/common_runtime/bfc_allocator.cc:1066] InUse at 7f20267fc000 of size 1568000 next 17\n",
      "2022-05-23 21:51:19.099942: I tensorflow/core/common_runtime/bfc_allocator.cc:1066] InUse at 7f202697ad00 of size 2048 next 20\n",
      "2022-05-23 21:51:19.099950: I tensorflow/core/common_runtime/bfc_allocator.cc:1066] InUse at 7f202697b500 of size 2048 next 26\n",
      "2022-05-23 21:51:19.099959: I tensorflow/core/common_runtime/bfc_allocator.cc:1066] InUse at 7f202697bd00 of size 256 next 27\n",
      "2022-05-23 21:51:19.099967: I tensorflow/core/common_runtime/bfc_allocator.cc:1066] InUse at 7f202697be00 of size 256 next 28\n",
      "2022-05-23 21:51:19.099977: I tensorflow/core/common_runtime/bfc_allocator.cc:1066] InUse at 7f202697bf00 of size 256 next 29\n",
      "2022-05-23 21:51:19.099986: I tensorflow/core/common_runtime/bfc_allocator.cc:1066] InUse at 7f202697c000 of size 256 next 30\n",
      "2022-05-23 21:51:19.099994: I tensorflow/core/common_runtime/bfc_allocator.cc:1066] InUse at 7f202697c100 of size 256 next 33\n",
      "2022-05-23 21:51:19.100002: I tensorflow/core/common_runtime/bfc_allocator.cc:1066] InUse at 7f202697c200 of size 256 next 34\n",
      "2022-05-23 21:51:19.100011: I tensorflow/core/common_runtime/bfc_allocator.cc:1066] InUse at 7f202697c300 of size 256 next 35\n",
      "2022-05-23 21:51:19.100019: I tensorflow/core/common_runtime/bfc_allocator.cc:1066] InUse at 7f202697c400 of size 256 next 36\n",
      "2022-05-23 21:51:19.100028: I tensorflow/core/common_runtime/bfc_allocator.cc:1066] InUse at 7f202697c500 of size 256 next 37\n",
      "2022-05-23 21:51:19.100036: I tensorflow/core/common_runtime/bfc_allocator.cc:1066] InUse at 7f202697c600 of size 2048 next 38\n",
      "2022-05-23 21:51:19.100045: I tensorflow/core/common_runtime/bfc_allocator.cc:1066] InUse at 7f202697ce00 of size 2048 next 39\n",
      "2022-05-23 21:51:19.100053: I tensorflow/core/common_runtime/bfc_allocator.cc:1066] InUse at 7f202697d600 of size 2048 next 41\n",
      "2022-05-23 21:51:19.100061: I tensorflow/core/common_runtime/bfc_allocator.cc:1066] InUse at 7f202697de00 of size 2048 next 43\n",
      "2022-05-23 21:51:19.100070: I tensorflow/core/common_runtime/bfc_allocator.cc:1066] InUse at 7f202697e600 of size 30720 next 31\n",
      "2022-05-23 21:51:19.100080: I tensorflow/core/common_runtime/bfc_allocator.cc:1066] InUse at 7f2026985e00 of size 20224 next 32\n",
      "2022-05-23 21:51:19.100089: I tensorflow/core/common_runtime/bfc_allocator.cc:1066] InUse at 7f202698ad00 of size 256 next 44\n",
      "2022-05-23 21:51:19.100097: I tensorflow/core/common_runtime/bfc_allocator.cc:1066] InUse at 7f202698ae00 of size 2048 next 46\n",
      "2022-05-23 21:51:19.100106: I tensorflow/core/common_runtime/bfc_allocator.cc:1066] InUse at 7f202698b600 of size 2048 next 48\n",
      "2022-05-23 21:51:19.100114: I tensorflow/core/common_runtime/bfc_allocator.cc:1066] InUse at 7f202698be00 of size 2048 next 50\n",
      "2022-05-23 21:51:19.100122: I tensorflow/core/common_runtime/bfc_allocator.cc:1066] InUse at 7f202698c600 of size 2048 next 52\n",
      "2022-05-23 21:51:19.100131: I tensorflow/core/common_runtime/bfc_allocator.cc:1066] InUse at 7f202698ce00 of size 20224 next 53\n",
      "2022-05-23 21:51:19.100139: I tensorflow/core/common_runtime/bfc_allocator.cc:1066] InUse at 7f2026991d00 of size 256 next 54\n",
      "2022-05-23 21:51:19.100148: I tensorflow/core/common_runtime/bfc_allocator.cc:1066] InUse at 7f2026991e00 of size 256 next 55\n",
      "2022-05-23 21:51:19.100156: I tensorflow/core/common_runtime/bfc_allocator.cc:1066] InUse at 7f2026991f00 of size 256 next 56\n",
      "2022-05-23 21:51:19.100164: I tensorflow/core/common_runtime/bfc_allocator.cc:1066] InUse at 7f2026992000 of size 256 next 57\n",
      "2022-05-23 21:51:19.100173: I tensorflow/core/common_runtime/bfc_allocator.cc:1066] InUse at 7f2026992100 of size 256 next 58\n",
      "2022-05-23 21:51:19.100181: I tensorflow/core/common_runtime/bfc_allocator.cc:1066] InUse at 7f2026992200 of size 256 next 59\n",
      "2022-05-23 21:51:19.100190: I tensorflow/core/common_runtime/bfc_allocator.cc:1066] InUse at 7f2026992300 of size 256 next 60\n",
      "2022-05-23 21:51:19.100198: I tensorflow/core/common_runtime/bfc_allocator.cc:1066] InUse at 7f2026992400 of size 256 next 61\n",
      "2022-05-23 21:51:19.100206: I tensorflow/core/common_runtime/bfc_allocator.cc:1066] InUse at 7f2026992500 of size 256 next 62\n",
      "2022-05-23 21:51:19.100214: I tensorflow/core/common_runtime/bfc_allocator.cc:1066] InUse at 7f2026992600 of size 256 next 63\n",
      "2022-05-23 21:51:19.100223: I tensorflow/core/common_runtime/bfc_allocator.cc:1066] InUse at 7f2026992700 of size 256 next 72\n",
      "2022-05-23 21:51:19.100232: I tensorflow/core/common_runtime/bfc_allocator.cc:1066] InUse at 7f2026992800 of size 400128 next 64\n",
      "2022-05-23 21:51:19.100240: I tensorflow/core/common_runtime/bfc_allocator.cc:1066] InUse at 7f20269f4300 of size 256 next 68\n",
      "2022-05-23 21:51:19.100249: I tensorflow/core/common_runtime/bfc_allocator.cc:1066] InUse at 7f20269f4400 of size 256 next 79\n",
      "2022-05-23 21:51:19.100257: I tensorflow/core/common_runtime/bfc_allocator.cc:1066] InUse at 7f20269f4500 of size 256 next 66\n",
      "2022-05-23 21:51:19.100266: I tensorflow/core/common_runtime/bfc_allocator.cc:1066] InUse at 7f20269f4600 of size 256 next 76\n",
      "2022-05-23 21:51:19.100274: I tensorflow/core/common_runtime/bfc_allocator.cc:1066] InUse at 7f20269f4700 of size 256 next 67\n",
      "2022-05-23 21:51:19.100282: I tensorflow/core/common_runtime/bfc_allocator.cc:1066] InUse at 7f20269f4800 of size 256 next 84\n",
      "2022-05-23 21:51:19.100291: I tensorflow/core/common_runtime/bfc_allocator.cc:1066] InUse at 7f20269f4900 of size 512 next 83\n",
      "2022-05-23 21:51:19.100300: I tensorflow/core/common_runtime/bfc_allocator.cc:1066] InUse at 7f20269f4b00 of size 256 next 85\n",
      "2022-05-23 21:51:19.100308: I tensorflow/core/common_runtime/bfc_allocator.cc:1066] InUse at 7f20269f4c00 of size 256 next 69\n",
      "2022-05-23 21:51:19.100317: I tensorflow/core/common_runtime/bfc_allocator.cc:1066] InUse at 7f20269f4d00 of size 256 next 65\n",
      "2022-05-23 21:51:19.100325: I tensorflow/core/common_runtime/bfc_allocator.cc:1066] InUse at 7f20269f4e00 of size 256 next 73\n",
      "2022-05-23 21:51:19.100333: I tensorflow/core/common_runtime/bfc_allocator.cc:1066] InUse at 7f20269f4f00 of size 256 next 75\n",
      "2022-05-23 21:51:19.100342: I tensorflow/core/common_runtime/bfc_allocator.cc:1066] InUse at 7f20269f5000 of size 256 next 71\n",
      "2022-05-23 21:51:19.100350: I tensorflow/core/common_runtime/bfc_allocator.cc:1066] InUse at 7f20269f5100 of size 256 next 77\n",
      "2022-05-23 21:51:19.100359: I tensorflow/core/common_runtime/bfc_allocator.cc:1066] InUse at 7f20269f5200 of size 512 next 81\n",
      "2022-05-23 21:51:19.100367: I tensorflow/core/common_runtime/bfc_allocator.cc:1066] InUse at 7f20269f5400 of size 256 next 86\n",
      "2022-05-23 21:51:19.100376: I tensorflow/core/common_runtime/bfc_allocator.cc:1066] InUse at 7f20269f5500 of size 27392 next 82\n",
      "2022-05-23 21:51:19.100384: I tensorflow/core/common_runtime/bfc_allocator.cc:1066] InUse at 7f20269fc000 of size 14592 next 70\n",
      "2022-05-23 21:51:19.100393: I tensorflow/core/common_runtime/bfc_allocator.cc:1066] InUse at 7f20269ff900 of size 256 next 87\n",
      "2022-05-23 21:51:19.100402: I tensorflow/core/common_runtime/bfc_allocator.cc:1066] InUse at 7f20269ffa00 of size 86272 next 80\n",
      "2022-05-23 21:51:19.100411: I tensorflow/core/common_runtime/bfc_allocator.cc:1066] InUse at 7f2026a14b00 of size 43264 next 78\n",
      "2022-05-23 21:51:19.100419: I tensorflow/core/common_runtime/bfc_allocator.cc:1066] InUse at 7f2026a1f400 of size 256 next 88\n",
      "2022-05-23 21:51:19.100428: I tensorflow/core/common_runtime/bfc_allocator.cc:1066] InUse at 7f2026a1f500 of size 512 next 89\n",
      "2022-05-23 21:51:19.100436: I tensorflow/core/common_runtime/bfc_allocator.cc:1066] InUse at 7f2026a1f700 of size 256 next 90\n",
      "2022-05-23 21:51:19.100445: I tensorflow/core/common_runtime/bfc_allocator.cc:1066] InUse at 7f2026a1f800 of size 14592 next 91\n",
      "2022-05-23 21:51:19.100453: I tensorflow/core/common_runtime/bfc_allocator.cc:1066] InUse at 7f2026a23100 of size 256 next 92\n",
      "2022-05-23 21:51:19.100462: I tensorflow/core/common_runtime/bfc_allocator.cc:1066] InUse at 7f2026a23200 of size 43264 next 93\n",
      "2022-05-23 21:51:19.100470: I tensorflow/core/common_runtime/bfc_allocator.cc:1066] InUse at 7f2026a2db00 of size 256 next 94\n",
      "2022-05-23 21:51:19.100478: I tensorflow/core/common_runtime/bfc_allocator.cc:1066] InUse at 7f2026a2dc00 of size 256 next 95\n",
      "2022-05-23 21:51:19.100487: I tensorflow/core/common_runtime/bfc_allocator.cc:1066] InUse at 7f2026a2dd00 of size 256 next 96\n",
      "2022-05-23 21:51:19.100495: I tensorflow/core/common_runtime/bfc_allocator.cc:1066] InUse at 7f2026a2de00 of size 256 next 97\n",
      "2022-05-23 21:51:19.100504: I tensorflow/core/common_runtime/bfc_allocator.cc:1066] InUse at 7f2026a2df00 of size 256 next 98\n",
      "2022-05-23 21:51:19.100512: I tensorflow/core/common_runtime/bfc_allocator.cc:1066] InUse at 7f2026a2e000 of size 256 next 99\n",
      "2022-05-23 21:51:19.100521: I tensorflow/core/common_runtime/bfc_allocator.cc:1066] InUse at 7f2026a2e100 of size 256 next 100\n",
      "2022-05-23 21:51:19.100529: I tensorflow/core/common_runtime/bfc_allocator.cc:1066] InUse at 7f2026a2e200 of size 256 next 101\n",
      "2022-05-23 21:51:19.100537: I tensorflow/core/common_runtime/bfc_allocator.cc:1066] InUse at 7f2026a2e300 of size 256 next 102\n",
      "2022-05-23 21:51:19.100546: I tensorflow/core/common_runtime/bfc_allocator.cc:1066] InUse at 7f2026a2e400 of size 256 next 113\n",
      "2022-05-23 21:51:19.100554: I tensorflow/core/common_runtime/bfc_allocator.cc:1066] InUse at 7f2026a2e500 of size 256 next 116\n",
      "2022-05-23 21:51:19.100563: I tensorflow/core/common_runtime/bfc_allocator.cc:1066] Free  at 7f2026a2e600 of size 512 next 106\n",
      "2022-05-23 21:51:19.100571: I tensorflow/core/common_runtime/bfc_allocator.cc:1066] InUse at 7f2026a2e800 of size 256 next 103\n",
      "2022-05-23 21:51:19.100580: I tensorflow/core/common_runtime/bfc_allocator.cc:1066] Free  at 7f2026a2e900 of size 264192 next 22\n",
      "2022-05-23 21:51:19.100589: I tensorflow/core/common_runtime/bfc_allocator.cc:1066] InUse at 7f2026a6f100 of size 1000192 next 23\n",
      "2022-05-23 21:51:19.100599: I tensorflow/core/common_runtime/bfc_allocator.cc:1066] InUse at 7f2026b63400 of size 1000192 next 25\n",
      "2022-05-23 21:51:19.100607: I tensorflow/core/common_runtime/bfc_allocator.cc:1066] InUse at 7f2026c57700 of size 1000192 next 24\n",
      "2022-05-23 21:51:19.100616: I tensorflow/core/common_runtime/bfc_allocator.cc:1066] InUse at 7f2026d4ba00 of size 1000192 next 40\n",
      "2022-05-23 21:51:19.100625: I tensorflow/core/common_runtime/bfc_allocator.cc:1066] InUse at 7f2026e3fd00 of size 1000192 next 42\n",
      "2022-05-23 21:51:19.100633: I tensorflow/core/common_runtime/bfc_allocator.cc:1066] InUse at 7f2026f34000 of size 1568000 next 45\n",
      "2022-05-23 21:51:19.100642: I tensorflow/core/common_runtime/bfc_allocator.cc:1066] InUse at 7f20270b2d00 of size 1000192 next 47\n",
      "2022-05-23 21:51:19.100650: I tensorflow/core/common_runtime/bfc_allocator.cc:1066] InUse at 7f20271a7000 of size 1000192 next 49\n",
      "2022-05-23 21:51:19.100659: I tensorflow/core/common_runtime/bfc_allocator.cc:1066] InUse at 7f202729b300 of size 1000192 next 51\n",
      "2022-05-23 21:51:19.100667: I tensorflow/core/common_runtime/bfc_allocator.cc:1066] InUse at 7f202738f600 of size 2400000 next 74\n",
      "2022-05-23 21:51:19.100676: I tensorflow/core/common_runtime/bfc_allocator.cc:1066] Free  at 7f20275d9500 of size 400128 next 108\n",
      "2022-05-23 21:51:19.100685: I tensorflow/core/common_runtime/bfc_allocator.cc:1066] InUse at 7f202763b000 of size 188160000 next 112\n",
      "2022-05-23 21:51:19.100693: I tensorflow/core/common_runtime/bfc_allocator.cc:1066] InUse at 7f20329ac800 of size 188160000 next 104\n",
      "2022-05-23 21:51:19.100702: I tensorflow/core/common_runtime/bfc_allocator.cc:1066] Free  at 7f203dd1e000 of size 1517232128 next 18446744073709551615\n",
      "2022-05-23 21:51:19.100711: I tensorflow/core/common_runtime/bfc_allocator.cc:1071]      Summary of in-use Chunks by size: \n",
      "2022-05-23 21:51:19.100722: I tensorflow/core/common_runtime/bfc_allocator.cc:1074] 62 Chunks of size 256 totalling 15.5KiB\n",
      "2022-05-23 21:51:19.100733: I tensorflow/core/common_runtime/bfc_allocator.cc:1074] 3 Chunks of size 512 totalling 1.5KiB\n",
      "2022-05-23 21:51:19.100743: I tensorflow/core/common_runtime/bfc_allocator.cc:1074] 1 Chunks of size 1280 totalling 1.2KiB\n",
      "2022-05-23 21:51:19.100753: I tensorflow/core/common_runtime/bfc_allocator.cc:1074] 12 Chunks of size 2048 totalling 24.0KiB\n",
      "2022-05-23 21:51:19.100763: I tensorflow/core/common_runtime/bfc_allocator.cc:1074] 2 Chunks of size 14592 totalling 28.5KiB\n",
      "2022-05-23 21:51:19.100773: I tensorflow/core/common_runtime/bfc_allocator.cc:1074] 2 Chunks of size 20224 totalling 39.5KiB\n",
      "2022-05-23 21:51:19.100783: I tensorflow/core/common_runtime/bfc_allocator.cc:1074] 1 Chunks of size 27392 totalling 26.8KiB\n",
      "2022-05-23 21:51:19.100793: I tensorflow/core/common_runtime/bfc_allocator.cc:1074] 1 Chunks of size 30720 totalling 30.0KiB\n",
      "2022-05-23 21:51:19.100803: I tensorflow/core/common_runtime/bfc_allocator.cc:1074] 2 Chunks of size 43264 totalling 84.5KiB\n",
      "2022-05-23 21:51:19.100813: I tensorflow/core/common_runtime/bfc_allocator.cc:1074] 1 Chunks of size 86272 totalling 84.2KiB\n",
      "2022-05-23 21:51:19.100823: I tensorflow/core/common_runtime/bfc_allocator.cc:1074] 1 Chunks of size 400128 totalling 390.8KiB\n",
      "2022-05-23 21:51:19.100833: I tensorflow/core/common_runtime/bfc_allocator.cc:1074] 8 Chunks of size 1000192 totalling 7.63MiB\n",
      "2022-05-23 21:51:19.100843: I tensorflow/core/common_runtime/bfc_allocator.cc:1074] 1 Chunks of size 1133056 totalling 1.08MiB\n",
      "2022-05-23 21:51:19.100852: I tensorflow/core/common_runtime/bfc_allocator.cc:1074] 2 Chunks of size 1568000 totalling 2.99MiB\n",
      "2022-05-23 21:51:19.100862: I tensorflow/core/common_runtime/bfc_allocator.cc:1074] 1 Chunks of size 1998592 totalling 1.91MiB\n",
      "2022-05-23 21:51:19.100872: I tensorflow/core/common_runtime/bfc_allocator.cc:1074] 2 Chunks of size 2400000 totalling 4.58MiB\n",
      "2022-05-23 21:51:19.100882: I tensorflow/core/common_runtime/bfc_allocator.cc:1074] 1 Chunks of size 62720000 totalling 59.81MiB\n",
      "2022-05-23 21:51:19.100892: I tensorflow/core/common_runtime/bfc_allocator.cc:1074] 2 Chunks of size 188160000 totalling 358.89MiB\n",
      "2022-05-23 21:51:19.100902: I tensorflow/core/common_runtime/bfc_allocator.cc:1074] 1 Chunks of size 376320000 totalling 358.89MiB\n",
      "2022-05-23 21:51:19.100913: I tensorflow/core/common_runtime/bfc_allocator.cc:1078] Sum Total of in-use chunks: 796.48MiB\n",
      "2022-05-23 21:51:19.100922: I tensorflow/core/common_runtime/bfc_allocator.cc:1080] total_region_allocated_bytes_: 2353070080 memory_limit_: 2353070080 available bytes: 0 curr_region_allocation_bytes_: 4706140160\n",
      "2022-05-23 21:51:19.100937: I tensorflow/core/common_runtime/bfc_allocator.cc:1086] Stats: \n",
      "Limit:                      2353070080\n",
      "InUse:                       835173120\n",
      "MaxInUse:                    835173120\n",
      "NumAllocs:                      835254\n",
      "MaxAllocSize:                376320000\n",
      "Reserved:                            0\n",
      "PeakReserved:                        0\n",
      "LargestFreeBlock:                    0\n",
      "\n",
      "2022-05-23 21:51:19.100955: W tensorflow/core/common_runtime/bfc_allocator.cc:474] ************************************________________________________________________________________\n",
      "2022-05-23 21:51:19.101000: W tensorflow/core/framework/op_kernel.cc:1745] OP_REQUIRES failed at conv_ops.cc:684 : RESOURCE_EXHAUSTED: OOM when allocating tensor with shape[60000,27,27,30] and type float on /job:localhost/replica:0/task:0/device:GPU:0 by allocator GPU_0_bfc\n"
     ]
    },
    {
     "ename": "ResourceExhaustedError",
     "evalue": "Exception encountered when calling layer \"conv2d\" (type Conv2D).\n\nOOM when allocating tensor with shape[60000,27,27,30] and type float on /job:localhost/replica:0/task:0/device:GPU:0 by allocator GPU_0_bfc [Op:Conv2D]\n\nCall arguments received:\n  • inputs=tf.Tensor(shape=(60000, 28, 28, 1), dtype=float32)",
     "output_type": "error",
     "traceback": [
      "\u001b[0;31m---------------------------------------------------------------------------\u001b[0m",
      "\u001b[0;31mResourceExhaustedError\u001b[0m                    Traceback (most recent call last)",
      "Input \u001b[0;32mIn [15]\u001b[0m, in \u001b[0;36m<cell line: 2>\u001b[0;34m()\u001b[0m\n\u001b[1;32m      1\u001b[0m \u001b[38;5;28mprint\u001b[39m(X\u001b[38;5;241m.\u001b[39mshape) \u001b[38;5;66;03m# 입력이미지 = 2D \u001b[39;00m\n\u001b[0;32m----> 2\u001b[0m \u001b[38;5;28mprint\u001b[39m(\u001b[43mc1\u001b[49m\u001b[43m(\u001b[49m\u001b[43mX\u001b[49m\u001b[43m)\u001b[49m\u001b[38;5;241m.\u001b[39mshape) \u001b[38;5;66;03m#2D \u001b[39;00m\n\u001b[1;32m      3\u001b[0m \u001b[38;5;28mprint\u001b[39m(m1(c1(X))\u001b[38;5;241m.\u001b[39mshape)  \u001b[38;5;66;03m#2D\u001b[39;00m\n\u001b[1;32m      4\u001b[0m \u001b[38;5;28mprint\u001b[39m(c2(m1(c1(X)))\u001b[38;5;241m.\u001b[39mshape) \u001b[38;5;66;03m#2D\u001b[39;00m\n",
      "File \u001b[0;32m~/anaconda3/envs/py310/lib/python3.10/site-packages/keras/utils/traceback_utils.py:67\u001b[0m, in \u001b[0;36mfilter_traceback.<locals>.error_handler\u001b[0;34m(*args, **kwargs)\u001b[0m\n\u001b[1;32m     65\u001b[0m \u001b[38;5;28;01mexcept\u001b[39;00m \u001b[38;5;167;01mException\u001b[39;00m \u001b[38;5;28;01mas\u001b[39;00m e:  \u001b[38;5;66;03m# pylint: disable=broad-except\u001b[39;00m\n\u001b[1;32m     66\u001b[0m   filtered_tb \u001b[38;5;241m=\u001b[39m _process_traceback_frames(e\u001b[38;5;241m.\u001b[39m__traceback__)\n\u001b[0;32m---> 67\u001b[0m   \u001b[38;5;28;01mraise\u001b[39;00m e\u001b[38;5;241m.\u001b[39mwith_traceback(filtered_tb) \u001b[38;5;28;01mfrom\u001b[39;00m \u001b[38;5;28mNone\u001b[39m\n\u001b[1;32m     68\u001b[0m \u001b[38;5;28;01mfinally\u001b[39;00m:\n\u001b[1;32m     69\u001b[0m   \u001b[38;5;28;01mdel\u001b[39;00m filtered_tb\n",
      "File \u001b[0;32m~/anaconda3/envs/py310/lib/python3.10/site-packages/tensorflow/python/eager/execute.py:58\u001b[0m, in \u001b[0;36mquick_execute\u001b[0;34m(op_name, num_outputs, inputs, attrs, ctx, name)\u001b[0m\n\u001b[1;32m     56\u001b[0m \u001b[38;5;28;01mtry\u001b[39;00m:\n\u001b[1;32m     57\u001b[0m   ctx\u001b[38;5;241m.\u001b[39mensure_initialized()\n\u001b[0;32m---> 58\u001b[0m   tensors \u001b[38;5;241m=\u001b[39m pywrap_tfe\u001b[38;5;241m.\u001b[39mTFE_Py_Execute(ctx\u001b[38;5;241m.\u001b[39m_handle, device_name, op_name,\n\u001b[1;32m     59\u001b[0m                                       inputs, attrs, num_outputs)\n\u001b[1;32m     60\u001b[0m \u001b[38;5;28;01mexcept\u001b[39;00m core\u001b[38;5;241m.\u001b[39m_NotOkStatusException \u001b[38;5;28;01mas\u001b[39;00m e:\n\u001b[1;32m     61\u001b[0m   \u001b[38;5;28;01mif\u001b[39;00m name \u001b[38;5;129;01mis\u001b[39;00m \u001b[38;5;129;01mnot\u001b[39;00m \u001b[38;5;28;01mNone\u001b[39;00m:\n",
      "\u001b[0;31mResourceExhaustedError\u001b[0m: Exception encountered when calling layer \"conv2d\" (type Conv2D).\n\nOOM when allocating tensor with shape[60000,27,27,30] and type float on /job:localhost/replica:0/task:0/device:GPU:0 by allocator GPU_0_bfc [Op:Conv2D]\n\nCall arguments received:\n  • inputs=tf.Tensor(shape=(60000, 28, 28, 1), dtype=float32)"
     ]
    }
   ],
   "source": [
    "print(X.shape) # 입력이미지 = 2D \n",
    "print(c1(X).shape) #2D \n",
    "print(m1(c1(X)).shape)  #2D\n",
    "print(c2(m1(c1(X))).shape) #2D\n",
    "print(m2(c2(m1(c1(X)))).shape) #2D\n",
    "print(flttn(m2(c2(m1(c1(X))))).shape)# 1D\n",
    "print(dns(flttn(m2(c2(m1(c1(X)))))).shape)# 1D"
   ]
  },
  {
   "cell_type": "markdown",
   "id": "839c0c6e-42c8-42f8-a95c-ec9dbf608f39",
   "metadata": {
    "id": "839c0c6e-42c8-42f8-a95c-ec9dbf608f39"
   },
   "source": [
    "### MaxPool2D"
   ]
  },
  {
   "cell_type": "markdown",
   "id": "71fa4575-d08b-4419-a8ec-9fe34dc74bf4",
   "metadata": {
    "id": "71fa4575-d08b-4419-a8ec-9fe34dc74bf4"
   },
   "source": [
    "#### 테스트1"
   ]
  },
  {
   "cell_type": "markdown",
   "id": "42f18227-357c-48ce-b98d-c6d418e3b9d1",
   "metadata": {
    "id": "42f18227-357c-48ce-b98d-c6d418e3b9d1"
   },
   "source": [
    "`-` 레이어생성 "
   ]
  },
  {
   "cell_type": "code",
   "execution_count": null,
   "id": "7791681d-c677-41d9-81ff-d4b0e2d38760",
   "metadata": {
    "id": "7791681d-c677-41d9-81ff-d4b0e2d38760"
   },
   "outputs": [],
   "source": [
    "m=tf.keras.layers.MaxPool2D()"
   ]
  },
  {
   "cell_type": "markdown",
   "id": "eb74ca8a-0f15-47d9-b57e-0e6b6f5076fc",
   "metadata": {
    "id": "eb74ca8a-0f15-47d9-b57e-0e6b6f5076fc"
   },
   "source": [
    "`-` 입력데이터"
   ]
  },
  {
   "cell_type": "code",
   "execution_count": null,
   "id": "01cb3396-d796-4182-8887-8ddda02b066d",
   "metadata": {
    "id": "01cb3396-d796-4182-8887-8ddda02b066d",
    "outputId": "25afe15b-b0a8-4022-e2d0-79f4f821db50"
   },
   "outputs": [],
   "source": [
    "XXX = tnp.arange(1*4*4*1).reshape(1,4,4,1)\n",
    "XXX.reshape(1,4,4)"
   ]
  },
  {
   "cell_type": "markdown",
   "id": "92ca3385-90a3-4c8d-8cde-5cc7b20fe743",
   "metadata": {
    "id": "92ca3385-90a3-4c8d-8cde-5cc7b20fe743"
   },
   "source": [
    "`-` 입력데이터가 레이어를 통과한 모습"
   ]
  },
  {
   "cell_type": "code",
   "execution_count": null,
   "id": "f253fa29-e6f1-4e97-b9f2-5d1ecb7e3325",
   "metadata": {
    "id": "f253fa29-e6f1-4e97-b9f2-5d1ecb7e3325",
    "outputId": "70959b67-ef4f-4758-a573-d52fe104dec2"
   },
   "outputs": [],
   "source": [
    "m(XXX).reshape(1,2,2)"
   ]
  },
  {
   "cell_type": "markdown",
   "id": "3b70c614-a997-4d5c-8396-52cc18199d38",
   "metadata": {
    "id": "3b70c614-a997-4d5c-8396-52cc18199d38"
   },
   "source": [
    "`-` MaxPool2D layer의 역할: (2,2)윈도우를 만들고 (2,2)윈도우에서 max를 뽑아 값을 기록, 윈도우를 움직이면서 반복 "
   ]
  },
  {
   "cell_type": "markdown",
   "id": "f633e962-ae8c-4118-9b97-ca2f72b563c5",
   "metadata": {
    "id": "f633e962-ae8c-4118-9b97-ca2f72b563c5"
   },
   "source": [
    "#### 테스트2"
   ]
  },
  {
   "cell_type": "code",
   "execution_count": null,
   "id": "a32cd4dc-5ee1-4b06-bfa2-4802662073dc",
   "metadata": {
    "id": "a32cd4dc-5ee1-4b06-bfa2-4802662073dc",
    "outputId": "1a40cb4e-a939-4b91-dff5-17553c8c0031"
   },
   "outputs": [],
   "source": [
    "XXX = tnp.arange(1*6*6*1).reshape(1,6,6,1)\n",
    "XXX.reshape(1,6,6)"
   ]
  },
  {
   "cell_type": "code",
   "execution_count": null,
   "id": "d5022e2c-0ec3-4250-aa43-83f3e4fd0294",
   "metadata": {
    "id": "d5022e2c-0ec3-4250-aa43-83f3e4fd0294",
    "outputId": "685174de-dfd4-474e-9ebc-c10090dabc80"
   },
   "outputs": [],
   "source": [
    "m(XXX).reshape(1,3,3)"
   ]
  },
  {
   "cell_type": "markdown",
   "id": "0d2dd6b0-dbee-416b-8a34-546d383bdbad",
   "metadata": {
    "id": "0d2dd6b0-dbee-416b-8a34-546d383bdbad"
   },
   "source": [
    "#### 테스트3"
   ]
  },
  {
   "cell_type": "code",
   "execution_count": null,
   "id": "db7eb3a2-c78c-49ab-a437-f771caecc0b5",
   "metadata": {
    "id": "db7eb3a2-c78c-49ab-a437-f771caecc0b5"
   },
   "outputs": [],
   "source": [
    "m=tf.keras.layers.MaxPool2D(pool_size=(3, 3))"
   ]
  },
  {
   "cell_type": "code",
   "execution_count": null,
   "id": "85a7f0ca-435b-46b9-b8fb-423278d167b7",
   "metadata": {
    "id": "85a7f0ca-435b-46b9-b8fb-423278d167b7",
    "outputId": "41c9d993-23c8-4e0d-94df-13594b9f965b"
   },
   "outputs": [],
   "source": [
    "XXX = tnp.arange(1*6*6*1).reshape(1,6,6,1)\n",
    "XXX.reshape(1,6,6)"
   ]
  },
  {
   "cell_type": "code",
   "execution_count": null,
   "id": "7e220b5d-b351-4364-8107-0ff98fd916da",
   "metadata": {
    "id": "7e220b5d-b351-4364-8107-0ff98fd916da",
    "outputId": "f72f2d32-594d-4973-c282-17ad7802248b"
   },
   "outputs": [],
   "source": [
    "m(XXX).reshape(1,2,2)"
   ]
  },
  {
   "cell_type": "markdown",
   "id": "b5a12865-d4fb-4076-a0df-3276ab405566",
   "metadata": {
    "id": "b5a12865-d4fb-4076-a0df-3276ab405566"
   },
   "source": [
    "#### 테스트4"
   ]
  },
  {
   "cell_type": "code",
   "execution_count": null,
   "id": "bdafc487-20d0-4c13-83c9-e13eb9e14d8a",
   "metadata": {
    "id": "bdafc487-20d0-4c13-83c9-e13eb9e14d8a"
   },
   "outputs": [],
   "source": [
    "m=tf.keras.layers.MaxPool2D(pool_size=(2, 2))"
   ]
  },
  {
   "cell_type": "code",
   "execution_count": null,
   "id": "5fdc2953-de7c-4542-b7ff-e177581862da",
   "metadata": {
    "id": "5fdc2953-de7c-4542-b7ff-e177581862da",
    "outputId": "5b5515a7-8f26-483d-fe36-cac1e68e1047"
   },
   "outputs": [],
   "source": [
    "XXX = tnp.arange(1*5*5*1).reshape(1,5,5,1)\n",
    "XXX.reshape(1,5,5)"
   ]
  },
  {
   "cell_type": "code",
   "execution_count": null,
   "id": "88423b66-9fd6-4a30-a4da-061cbe97017c",
   "metadata": {
    "id": "88423b66-9fd6-4a30-a4da-061cbe97017c",
    "outputId": "7dc564da-ee97-4ab8-8a5e-a6de31bc3011"
   },
   "outputs": [],
   "source": [
    "m(XXX).reshape(1,2,2)"
   ]
  },
  {
   "cell_type": "code",
   "execution_count": null,
   "id": "34b07753-2418-40ca-ac27-870b571a807c",
   "metadata": {
    "id": "34b07753-2418-40ca-ac27-870b571a807c"
   },
   "outputs": [],
   "source": [
    "m=tf.keras.layers.MaxPool2D(pool_size=(2, 2),padding=\"same\")"
   ]
  },
  {
   "cell_type": "code",
   "execution_count": null,
   "id": "bf7c74ae-1bf4-4f33-bab3-383d2d6f80be",
   "metadata": {
    "id": "bf7c74ae-1bf4-4f33-bab3-383d2d6f80be",
    "outputId": "68eeca97-53dc-466f-eb28-ce75d6fcce0d"
   },
   "outputs": [],
   "source": [
    "XXX = tnp.arange(1*5*5*1).reshape(1,5,5,1)\n",
    "XXX.reshape(1,5,5)"
   ]
  },
  {
   "cell_type": "code",
   "execution_count": null,
   "id": "3b485719-ff9d-49b0-a9b4-dbbb391f532e",
   "metadata": {
    "id": "3b485719-ff9d-49b0-a9b4-dbbb391f532e",
    "outputId": "73c7b80e-8425-40d0-e53b-e3979340b9b4"
   },
   "outputs": [],
   "source": [
    "m(XXX).reshape(1,3,3)"
   ]
  },
  {
   "cell_type": "markdown",
   "id": "455d6c71-f73a-4bcd-a4d9-33fce216e073",
   "metadata": {
    "id": "455d6c71-f73a-4bcd-a4d9-33fce216e073"
   },
   "source": [
    "#### 테스트5 "
   ]
  },
  {
   "cell_type": "code",
   "execution_count": null,
   "id": "e7fe1b09-07f7-4746-8bba-ba589b5603dd",
   "metadata": {
    "id": "e7fe1b09-07f7-4746-8bba-ba589b5603dd",
    "outputId": "de25add9-5ee3-4e44-c678-84d9fb67e11e"
   },
   "outputs": [],
   "source": [
    "XXX = tnp.arange(2*4*4*1).reshape(2,4,4,1)\n",
    "XXX.reshape(2,4,4)"
   ]
  },
  {
   "cell_type": "code",
   "execution_count": null,
   "id": "6a9dee7b-22cc-46b9-9d20-757f5c904b43",
   "metadata": {
    "id": "6a9dee7b-22cc-46b9-9d20-757f5c904b43",
    "outputId": "68c25730-daca-441e-bb25-b7271e5fbcc6"
   },
   "outputs": [],
   "source": [
    "m(XXX).reshape(2,2,2)"
   ]
  },
  {
   "cell_type": "markdown",
   "id": "0d23dad2-5e71-4f6b-986b-6f620c32b9ac",
   "metadata": {
    "id": "0d23dad2-5e71-4f6b-986b-6f620c32b9ac"
   },
   "source": [
    "#### 테스트6"
   ]
  },
  {
   "cell_type": "code",
   "execution_count": null,
   "id": "feba1874-dc57-4fb1-8b4f-99896602cef9",
   "metadata": {
    "id": "feba1874-dc57-4fb1-8b4f-99896602cef9"
   },
   "outputs": [],
   "source": [
    "XXX = tnp.arange(1*4*4*3).reshape(1,4,4,3)"
   ]
  },
  {
   "cell_type": "code",
   "execution_count": null,
   "id": "d9e57c14-10d4-405d-aa81-315474f0eedb",
   "metadata": {
    "id": "d9e57c14-10d4-405d-aa81-315474f0eedb",
    "outputId": "1e0a67f7-5013-43af-b772-9e32277ed322"
   },
   "outputs": [],
   "source": [
    "XXX[...,0]"
   ]
  },
  {
   "cell_type": "code",
   "execution_count": null,
   "id": "14d25cc5-4f2a-404c-9380-f5e9a11a51ed",
   "metadata": {
    "id": "14d25cc5-4f2a-404c-9380-f5e9a11a51ed",
    "outputId": "ec44deec-676b-480d-bbc3-6dc11cb32a35"
   },
   "outputs": [],
   "source": [
    "m(XXX)[...,0]"
   ]
  },
  {
   "cell_type": "markdown",
   "id": "1e733af5-480e-4deb-95a3-7173592ff3b3",
   "metadata": {
    "id": "1e733af5-480e-4deb-95a3-7173592ff3b3"
   },
   "source": [
    "### Conv2D "
   ]
  },
  {
   "cell_type": "markdown",
   "id": "a75334b8-4153-48aa-82af-6188bb55b61f",
   "metadata": {
    "id": "a75334b8-4153-48aa-82af-6188bb55b61f"
   },
   "source": [
    "#### 테스트1"
   ]
  },
  {
   "cell_type": "markdown",
   "id": "ad28e8f6-8b8a-48a5-a955-15c9fc24fb60",
   "metadata": {
    "id": "ad28e8f6-8b8a-48a5-a955-15c9fc24fb60"
   },
   "source": [
    "`-` 레이어생성 "
   ]
  },
  {
   "cell_type": "code",
   "execution_count": 16,
   "id": "31abec64-855b-4a27-9299-35c9f78ce6ee",
   "metadata": {
    "id": "31abec64-855b-4a27-9299-35c9f78ce6ee"
   },
   "outputs": [],
   "source": [
    "cnv = tf.keras.layers.Conv2D(1,(2,2))"
   ]
  },
  {
   "cell_type": "markdown",
   "id": "17ee313a-15b7-4fbf-99b3-7fe5ba596256",
   "metadata": {
    "id": "17ee313a-15b7-4fbf-99b3-7fe5ba596256"
   },
   "source": [
    "`-` XXX생성 "
   ]
  },
  {
   "cell_type": "code",
   "execution_count": 17,
   "id": "1d6b3e52-b510-455c-b1dd-fe3f1a52c2c2",
   "metadata": {
    "id": "1d6b3e52-b510-455c-b1dd-fe3f1a52c2c2",
    "outputId": "ef140e79-8108-4ae2-a555-27a7c77668ef"
   },
   "outputs": [
    {
     "data": {
      "text/plain": [
       "<tf.Tensor: shape=(1, 4, 4), dtype=float64, numpy=\n",
       "array([[[ 0.,  1.,  2.,  3.],\n",
       "        [ 4.,  5.,  6.,  7.],\n",
       "        [ 8.,  9., 10., 11.],\n",
       "        [12., 13., 14., 15.]]])>"
      ]
     },
     "execution_count": 17,
     "metadata": {},
     "output_type": "execute_result"
    }
   ],
   "source": [
    "XXX = tnp.arange(1*4*4*1,dtype=tf.float64).reshape(1,4,4,1)\n",
    "XXX.reshape(1,4,4)"
   ]
  },
  {
   "cell_type": "code",
   "execution_count": 18,
   "id": "30114419-cafa-4278-b557-c64c4f20a1a7",
   "metadata": {
    "id": "30114419-cafa-4278-b557-c64c4f20a1a7",
    "outputId": "c3e905ca-37d8-4bb7-e411-c37f1ff77874"
   },
   "outputs": [
    {
     "data": {
      "text/plain": [
       "<tf.Tensor: shape=(1, 3, 3), dtype=float32, numpy=\n",
       "array([[[ -4.494892 ,  -5.908124 ,  -7.3213553],\n",
       "        [-10.147818 , -11.5610485, -12.97428  ],\n",
       "        [-15.800743 , -17.213974 , -18.627207 ]]], dtype=float32)>"
      ]
     },
     "execution_count": 18,
     "metadata": {},
     "output_type": "execute_result"
    }
   ],
   "source": [
    "cnv(XXX).reshape(1,3,3)"
   ]
  },
  {
   "cell_type": "markdown",
   "id": "9d6cf539-1d41-40a5-a692-ee19b9371ef1",
   "metadata": {
    "id": "9d6cf539-1d41-40a5-a692-ee19b9371ef1"
   },
   "source": [
    "- XXX에서 cnv(XXX)로 가는 맵핑을 찾는건 쉽지 않아보인다. \n",
    "- 심지어 랜덤으로 결정되는 부분도 있어보임 "
   ]
  },
  {
   "cell_type": "markdown",
   "id": "1d4167be-745e-42fa-bb2a-a2ea49aef019",
   "metadata": {
    "id": "1d4167be-745e-42fa-bb2a-a2ea49aef019"
   },
   "source": [
    "`-` 코드정리 + 시드통일"
   ]
  },
  {
   "cell_type": "code",
   "execution_count": null,
   "id": "615584b9-7a3a-4064-9ebd-3687a2736bc6",
   "metadata": {
    "id": "615584b9-7a3a-4064-9ebd-3687a2736bc6"
   },
   "outputs": [],
   "source": [
    "tf.random.set_seed(43052)\n",
    "cnv = tf.keras.layers.Conv2D(1,(2,2))\n",
    "XXX = tnp.arange(1*4*4*1,dtype=tf.float64).reshape(1,4,4,1)"
   ]
  },
  {
   "cell_type": "markdown",
   "id": "d5662418-95c0-4321-8988-999292be75e5",
   "metadata": {
    "id": "d5662418-95c0-4321-8988-999292be75e5"
   },
   "source": [
    "`-` conv의 입출력"
   ]
  },
  {
   "cell_type": "code",
   "execution_count": null,
   "id": "9cb0f4cb-3312-475c-a15c-30581e030e1e",
   "metadata": {
    "id": "9cb0f4cb-3312-475c-a15c-30581e030e1e",
    "outputId": "fb62833a-133e-4c76-dcc7-4308e1ac74a0"
   },
   "outputs": [
    {
     "name": "stdout",
     "output_type": "stream",
     "text": [
      "tf.Tensor(\n",
      "[[[ 0.  1.  2.  3.]\n",
      "  [ 4.  5.  6.  7.]\n",
      "  [ 8.  9. 10. 11.]\n",
      "  [12. 13. 14. 15.]]], shape=(1, 4, 4), dtype=float64)\n",
      "tf.Tensor(\n",
      "[[[ -4.125754   -5.312817   -6.4998803]\n",
      "  [ -8.874006  -10.0610695 -11.248133 ]\n",
      "  [-13.622259  -14.809322  -15.996386 ]]], shape=(1, 3, 3), dtype=float32)\n"
     ]
    }
   ],
   "source": [
    "print(XXX.reshape(1,4,4))\n",
    "print(cnv(XXX).reshape(1,3,3))"
   ]
  },
  {
   "cell_type": "markdown",
   "id": "e683e00e-3ace-45fc-a68d-29b7362dac79",
   "metadata": {
    "id": "e683e00e-3ace-45fc-a68d-29b7362dac79"
   },
   "source": [
    "`-` conv연산 추론"
   ]
  },
  {
   "cell_type": "code",
   "execution_count": null,
   "id": "fb8240bc-4f38-4d35-9eed-b971503ab0e3",
   "metadata": {
    "id": "fb8240bc-4f38-4d35-9eed-b971503ab0e3",
    "outputId": "3688626f-ca02-4e59-bc74-ed93e030dd0c"
   },
   "outputs": [
    {
     "data": {
      "text/plain": [
       "<tf.Tensor: shape=(2, 2), dtype=float32, numpy=\n",
       "array([[-0.13014299, -0.23927206],\n",
       "       [-0.20175874, -0.6158894 ]], dtype=float32)>"
      ]
     },
     "execution_count": 142,
     "metadata": {},
     "output_type": "execute_result"
    }
   ],
   "source": [
    "tf.reshape(cnv.weights[0],(2,2))"
   ]
  },
  {
   "cell_type": "code",
   "execution_count": null,
   "id": "22a81c5d-6fb5-4b1f-8469-ac003c1d0997",
   "metadata": {
    "id": "22a81c5d-6fb5-4b1f-8469-ac003c1d0997",
    "outputId": "a46cc880-22d4-45ce-dc21-7dac559757a2"
   },
   "outputs": [
    {
     "data": {
      "text/plain": [
       "-4.1257540200000005"
      ]
     },
     "execution_count": 146,
     "metadata": {},
     "output_type": "execute_result"
    }
   ],
   "source": [
    "0 * -0.13014299 + 1 * -0.23927206 + 4 * -0.20175874 + 5 * -0.6158894 + 0 "
   ]
  },
  {
   "cell_type": "markdown",
   "id": "01dd1fc6-0fec-46b8-aa6d-a5e0b8785e4b",
   "metadata": {
    "id": "01dd1fc6-0fec-46b8-aa6d-a5e0b8785e4b"
   },
   "source": [
    "`-` 내가 정의한 weights를 대입하여 conv 연산 확인"
   ]
  },
  {
   "cell_type": "code",
   "execution_count": null,
   "id": "661a2dd8-6e85-4d0c-8d6f-d1e89d1221f5",
   "metadata": {
    "id": "661a2dd8-6e85-4d0c-8d6f-d1e89d1221f5",
    "outputId": "33134d1b-d5ff-4148-8dbe-706dc3bdd8b1"
   },
   "outputs": [
    {
     "data": {
      "text/plain": [
       "(2, 2, 1, 1)"
      ]
     },
     "execution_count": 153,
     "metadata": {},
     "output_type": "execute_result"
    }
   ],
   "source": [
    "cnv.get_weights()[0].shape"
   ]
  },
  {
   "cell_type": "code",
   "execution_count": null,
   "id": "8a049192-d97f-40dd-845f-61bde27ee392",
   "metadata": {
    "id": "8a049192-d97f-40dd-845f-61bde27ee392"
   },
   "outputs": [],
   "source": [
    "w = np.array([1/4,1/4,1/4,1/4],dtype=np.float32).reshape(2, 2, 1, 1)\n",
    "b = np.array([3],dtype=np.float32)"
   ]
  },
  {
   "cell_type": "code",
   "execution_count": null,
   "id": "3f691bc3-d9d2-4506-83ac-1ad69685d5b4",
   "metadata": {
    "id": "3f691bc3-d9d2-4506-83ac-1ad69685d5b4"
   },
   "outputs": [],
   "source": [
    "cnv.set_weights([w,b])"
   ]
  },
  {
   "cell_type": "code",
   "execution_count": null,
   "id": "d0a02431-b115-4e72-8aac-c6ba035f2cdf",
   "metadata": {
    "id": "d0a02431-b115-4e72-8aac-c6ba035f2cdf",
    "outputId": "85449eeb-a325-42e9-99d8-b22771eae30b"
   },
   "outputs": [
    {
     "data": {
      "text/plain": [
       "<tf.Tensor: shape=(1, 4, 4), dtype=float64, numpy=\n",
       "array([[[ 0.,  1.,  2.,  3.],\n",
       "        [ 4.,  5.,  6.,  7.],\n",
       "        [ 8.,  9., 10., 11.],\n",
       "        [12., 13., 14., 15.]]])>"
      ]
     },
     "execution_count": 172,
     "metadata": {},
     "output_type": "execute_result"
    }
   ],
   "source": [
    "XXX.reshape(1,4,4)"
   ]
  },
  {
   "cell_type": "code",
   "execution_count": null,
   "id": "d85618cb-e820-4fd4-a679-9708be4070d5",
   "metadata": {
    "id": "d85618cb-e820-4fd4-a679-9708be4070d5",
    "outputId": "28785ca5-5300-4c9d-8e7c-aef3c3fca79a"
   },
   "outputs": [
    {
     "data": {
      "text/plain": [
       "<tf.Tensor: shape=(1, 3, 3), dtype=float32, numpy=\n",
       "array([[[ 5.5,  6.5,  7.5],\n",
       "        [ 9.5, 10.5, 11.5],\n",
       "        [13.5, 14.5, 15.5]]], dtype=float32)>"
      ]
     },
     "execution_count": 170,
     "metadata": {},
     "output_type": "execute_result"
    }
   ],
   "source": [
    "cnv(XXX).reshape(1,3,3)"
   ]
  },
  {
   "cell_type": "code",
   "execution_count": null,
   "id": "548b9b81-85dc-4008-82a5-f14eb3708a75",
   "metadata": {
    "id": "548b9b81-85dc-4008-82a5-f14eb3708a75",
    "outputId": "7482a47c-3463-4d85-9e4b-d20eb5ea3bfe"
   },
   "outputs": [
    {
     "data": {
      "text/plain": [
       "(5.5, 6.5, 7.5)"
      ]
     },
     "execution_count": 176,
     "metadata": {},
     "output_type": "execute_result"
    }
   ],
   "source": [
    "np.mean([0,1,4,5])+3, np.mean([1,2,5,6])+3, np.mean([2,3,6,7])+3 "
   ]
  },
  {
   "cell_type": "markdown",
   "id": "19e4460f-9944-46dc-a017-6f4f056572e2",
   "metadata": {
    "id": "19e4460f-9944-46dc-a017-6f4f056572e2"
   },
   "source": [
    "#### tf.keras.layers.Conv2D(1,kernel_size=(2,2)) 요약"
   ]
  },
  {
   "cell_type": "markdown",
   "id": "02656331-13c4-43c3-a33b-5317c4866e9a",
   "metadata": {
    "id": "02656331-13c4-43c3-a33b-5317c4866e9a"
   },
   "source": [
    "`-` 요약"
   ]
  },
  {
   "cell_type": "markdown",
   "id": "c6575f7c-f2c5-4ebc-86df-66479b5d2bd2",
   "metadata": {
    "id": "c6575f7c-f2c5-4ebc-86df-66479b5d2bd2"
   },
   "source": [
    "(1) size=(2,2)인 윈도우를 만듬. \n",
    "\n",
    "(2) XXX에 윈도우를 통과시켜서 (2,2)크기의 sub XXX 를 얻음. sub XXX의 각 원소에 conv2d.weights[0]의 각 원소를 element-wise하게 곱한다. \n",
    "\n",
    "(3) (2)의 결과를 모두 더한다. 그리고 그 결과에 다시 conv2d.weights[1]을 수행 \n",
    "\n",
    "(4) 윈도우를 이동시키면서 반복!"
   ]
  },
  {
   "cell_type": "markdown",
   "id": "01c7db47-6485-4c37-a698-0efe6e480094",
   "metadata": {
    "id": "01c7db47-6485-4c37-a698-0efe6e480094",
    "tags": []
   },
   "source": [
    "#### 테스트2"
   ]
  },
  {
   "cell_type": "markdown",
   "id": "a587ea00-a382-45bf-9f95-5a1b14240251",
   "metadata": {
    "id": "a587ea00-a382-45bf-9f95-5a1b14240251"
   },
   "source": [
    "`-` 레이어와 XXX생성"
   ]
  },
  {
   "cell_type": "code",
   "execution_count": null,
   "id": "7a669c76-4b8c-487c-b3cd-bad69c3537cf",
   "metadata": {
    "id": "7a669c76-4b8c-487c-b3cd-bad69c3537cf"
   },
   "outputs": [],
   "source": [
    "tf.random.set_seed(43052)\n",
    "cnv = tf.keras.layers.Conv2D(1,(3,3))\n",
    "XXX = tnp.arange(1*5*5*1,dtype=tf.float64).reshape(1,5,5,1)"
   ]
  },
  {
   "cell_type": "code",
   "execution_count": null,
   "id": "e45c7cd8-23b4-4df2-b358-dd542d6c81b2",
   "metadata": {
    "id": "e45c7cd8-23b4-4df2-b358-dd542d6c81b2",
    "outputId": "b639b35c-1c45-4f60-8978-463a5074cf23"
   },
   "outputs": [
    {
     "data": {
      "text/plain": [
       "<tf.Tensor: shape=(1, 5, 5), dtype=float64, numpy=\n",
       "array([[[ 0.,  1.,  2.,  3.,  4.],\n",
       "        [ 5.,  6.,  7.,  8.,  9.],\n",
       "        [10., 11., 12., 13., 14.],\n",
       "        [15., 16., 17., 18., 19.],\n",
       "        [20., 21., 22., 23., 24.]]])>"
      ]
     },
     "execution_count": 198,
     "metadata": {},
     "output_type": "execute_result"
    }
   ],
   "source": [
    "XXX.reshape(1,5,5) ## 입력: XXX"
   ]
  },
  {
   "cell_type": "code",
   "execution_count": null,
   "id": "53796db5-e9b9-484b-8698-75b1fd4e894d",
   "metadata": {
    "id": "53796db5-e9b9-484b-8698-75b1fd4e894d",
    "outputId": "fc24c429-7d03-4db4-cd2e-903af8fec89a"
   },
   "outputs": [
    {
     "data": {
      "text/plain": [
       "<tf.Tensor: shape=(3, 3), dtype=float32, numpy=\n",
       "array([[-0.08676198, -0.1595147 , -0.13450584],\n",
       "       [-0.4105929 , -0.38366908,  0.07744962],\n",
       "       [-0.09255642,  0.4915564 ,  0.20828158]], dtype=float32)>"
      ]
     },
     "execution_count": 199,
     "metadata": {},
     "output_type": "execute_result"
    }
   ],
   "source": [
    "tf.reshape(cnv.weights[0],(3,3)) ## 커널의 가중치 "
   ]
  },
  {
   "cell_type": "code",
   "execution_count": null,
   "id": "88b90786-2370-49c9-b02e-5cae590f1fc5",
   "metadata": {
    "id": "88b90786-2370-49c9-b02e-5cae590f1fc5",
    "outputId": "e7b5711f-8945-49e9-ed0b-d28caa5fde06"
   },
   "outputs": [
    {
     "data": {
      "text/plain": [
       "<tf.Tensor: shape=(1, 3, 3), dtype=float32, numpy=\n",
       "array([[[ 2.7395768 ,  2.2492635 ,  1.7589504 ],\n",
       "        [ 0.28801066, -0.20230258, -0.6926158 ],\n",
       "        [-2.1635566 , -2.6538715 , -3.1441827 ]]], dtype=float32)>"
      ]
     },
     "execution_count": 200,
     "metadata": {},
     "output_type": "execute_result"
    }
   ],
   "source": [
    "cnv(XXX).reshape(1,3,3) ## 출력: conv(XXX)"
   ]
  },
  {
   "cell_type": "code",
   "execution_count": null,
   "id": "67a4337a-4640-4a07-8622-c55c870ade0a",
   "metadata": {
    "id": "67a4337a-4640-4a07-8622-c55c870ade0a",
    "outputId": "e7539157-f3ca-4ee2-98bf-bc032b29f1ba"
   },
   "outputs": [
    {
     "data": {
      "text/plain": [
       "<tf.Tensor: shape=(), dtype=float64, numpy=2.739577144384384>"
      ]
     },
     "execution_count": 201,
     "metadata": {},
     "output_type": "execute_result"
    }
   ],
   "source": [
    "tf.reduce_sum(XXX.reshape(1,5,5)[0,:3,:3] * tf.reshape(cnv.weights[0],(3,3)))"
   ]
  },
  {
   "cell_type": "markdown",
   "id": "028b335c-9542-4b20-9d4a-a9339409da18",
   "metadata": {
    "id": "028b335c-9542-4b20-9d4a-a9339409da18",
    "tags": []
   },
   "source": [
    "#### 테스트3"
   ]
  },
  {
   "cell_type": "markdown",
   "id": "b4f11523-6f72-4b0d-83bf-cba40d02f7f4",
   "metadata": {
    "id": "b4f11523-6f72-4b0d-83bf-cba40d02f7f4"
   },
   "source": [
    "![](https://github.com/guebin/2021BDA/blob/master/_notebooks/2021-11-04-conv.png?raw=true)"
   ]
  },
  {
   "cell_type": "code",
   "execution_count": null,
   "id": "a30e90e8-aa36-4cc7-af7e-cc79647cc9dc",
   "metadata": {
    "id": "a30e90e8-aa36-4cc7-af7e-cc79647cc9dc",
    "outputId": "2a4abc4f-f49b-4274-f349-b54362b308fe"
   },
   "outputs": [
    {
     "data": {
      "text/plain": [
       "<tf.Tensor: shape=(1, 5, 5), dtype=float64, numpy=\n",
       "array([[[3., 3., 2., 1., 0.],\n",
       "        [0., 0., 1., 3., 1.],\n",
       "        [3., 1., 2., 2., 3.],\n",
       "        [2., 0., 0., 2., 2.],\n",
       "        [2., 0., 0., 0., 1.]]])>"
      ]
     },
     "execution_count": 216,
     "metadata": {},
     "output_type": "execute_result"
    }
   ],
   "source": [
    "XXX = tf.constant([[3,3,2,1,0],[0,0,1,3,1],[3,1,2,2,3],[2,0,0,2,2],[2,0,0,0,1]],dtype=tf.float64).reshape(1,5,5,1)\n",
    "XXX.reshape(1,5,5)"
   ]
  },
  {
   "cell_type": "code",
   "execution_count": null,
   "id": "411acaf9-6713-4a38-a4e1-92a917db70dc",
   "metadata": {
    "id": "411acaf9-6713-4a38-a4e1-92a917db70dc"
   },
   "outputs": [],
   "source": [
    "cnv = tf.keras.layers.Conv2D(1,(3,3))"
   ]
  },
  {
   "cell_type": "code",
   "execution_count": null,
   "id": "6885e48b-4041-49fd-a070-dd6372c733fc",
   "metadata": {
    "id": "6885e48b-4041-49fd-a070-dd6372c733fc",
    "outputId": "a6043c09-dd2f-46e0-9b12-07f82cb8315f"
   },
   "outputs": [
    {
     "data": {
      "text/plain": [
       "[]"
      ]
     },
     "execution_count": 218,
     "metadata": {},
     "output_type": "execute_result"
    }
   ],
   "source": [
    "cnv.weights"
   ]
  },
  {
   "cell_type": "code",
   "execution_count": null,
   "id": "9f9d6290-d5a3-439e-b70e-3714b2928fbb",
   "metadata": {
    "id": "9f9d6290-d5a3-439e-b70e-3714b2928fbb",
    "outputId": "941d4c00-0169-40ce-c689-4768d27e2ded"
   },
   "outputs": [
    {
     "data": {
      "text/plain": [
       "<tf.Tensor: shape=(1, 3, 3), dtype=float32, numpy=\n",
       "array([[[1.7157198, 2.9689512, 2.7728844],\n",
       "        [2.4162836, 1.8230928, 2.9890852],\n",
       "        [1.9408667, 1.2231059, 2.2712555]]], dtype=float32)>"
      ]
     },
     "execution_count": 219,
     "metadata": {},
     "output_type": "execute_result"
    }
   ],
   "source": [
    "cnv(XXX).reshape(1,3,3)"
   ]
  },
  {
   "cell_type": "code",
   "execution_count": null,
   "id": "77c800c1-773f-4c3c-a816-4b247684bfed",
   "metadata": {
    "id": "77c800c1-773f-4c3c-a816-4b247684bfed",
    "outputId": "1854ad8f-25e0-417c-b75a-0c57e7122384"
   },
   "outputs": [
    {
     "data": {
      "text/plain": [
       "<tf.Variable 'conv2d_13/kernel:0' shape=(3, 3, 1, 1) dtype=float32, numpy=\n",
       "array([[[[ 0.28270614]],\n",
       "\n",
       "        [[-0.13318631]],\n",
       "\n",
       "        [[ 0.21818542]]],\n",
       "\n",
       "\n",
       "       [[[ 0.23769057]],\n",
       "\n",
       "        [[ 0.40044254]],\n",
       "\n",
       "        [[ 0.38520074]]],\n",
       "\n",
       "\n",
       "       [[[ 0.15709132]],\n",
       "\n",
       "        [[ 0.48156905]],\n",
       "\n",
       "        [[-0.25362712]]]], dtype=float32)>"
      ]
     },
     "execution_count": 222,
     "metadata": {},
     "output_type": "execute_result"
    }
   ],
   "source": [
    "cnv.weights[0]"
   ]
  },
  {
   "cell_type": "code",
   "execution_count": null,
   "id": "024913a8-7f7a-4556-8eac-e95e9fe9a335",
   "metadata": {
    "id": "024913a8-7f7a-4556-8eac-e95e9fe9a335"
   },
   "outputs": [],
   "source": [
    "_w = tf.constant([[0,1,2],[2,2,0],[0,1,2]],dtype=tf.float64).reshape(3,3,1,1)\n",
    "_b = tf.constant([0],dtype=tf.float64)"
   ]
  },
  {
   "cell_type": "code",
   "execution_count": null,
   "id": "7a5c9991-d011-425c-8922-e27fbe915289",
   "metadata": {
    "id": "7a5c9991-d011-425c-8922-e27fbe915289"
   },
   "outputs": [],
   "source": [
    "cnv.set_weights([_w,_b])"
   ]
  },
  {
   "cell_type": "code",
   "execution_count": null,
   "id": "ba1bddad-9bf5-4489-a730-db41cada6197",
   "metadata": {
    "id": "ba1bddad-9bf5-4489-a730-db41cada6197",
    "outputId": "4b1fbde1-fa92-4057-e2f5-c62fd6f36d57"
   },
   "outputs": [
    {
     "data": {
      "text/plain": [
       "<tf.Tensor: shape=(1, 3, 3), dtype=float32, numpy=\n",
       "array([[[12., 12., 17.],\n",
       "        [10., 17., 19.],\n",
       "        [ 9.,  6., 14.]]], dtype=float32)>"
      ]
     },
     "execution_count": 232,
     "metadata": {},
     "output_type": "execute_result"
    }
   ],
   "source": [
    "cnv(XXX).reshape(1,3,3)"
   ]
  },
  {
   "cell_type": "markdown",
   "id": "c59c0c72-ba78-4259-bf8d-45ff9f9247b9",
   "metadata": {
    "id": "c59c0c72-ba78-4259-bf8d-45ff9f9247b9"
   },
   "source": [
    "#### 테스트4"
   ]
  },
  {
   "cell_type": "code",
   "execution_count": null,
   "id": "d8c19f60-8f35-4cde-8b69-649d5d994322",
   "metadata": {
    "id": "d8c19f60-8f35-4cde-8b69-649d5d994322"
   },
   "outputs": [],
   "source": [
    "tf.random.set_seed(43052)\n",
    "cnv = tf.keras.layers.Conv2D(1,(2,2))\n",
    "XXX = tnp.arange(2*5*5*1,dtype=tf.float64).reshape(2,5,5,1)"
   ]
  },
  {
   "cell_type": "code",
   "execution_count": null,
   "id": "493c58f5-4163-414b-a293-284882e303e8",
   "metadata": {
    "id": "493c58f5-4163-414b-a293-284882e303e8",
    "outputId": "ba53e883-a08f-4596-df9e-19f7feebadfc"
   },
   "outputs": [
    {
     "name": "stdout",
     "output_type": "stream",
     "text": [
      "tf.Tensor(\n",
      "[[[ 0.  1.  2.  3.  4.]\n",
      "  [ 5.  6.  7.  8.  9.]\n",
      "  [10. 11. 12. 13. 14.]\n",
      "  [15. 16. 17. 18. 19.]\n",
      "  [20. 21. 22. 23. 24.]]\n",
      "\n",
      " [[25. 26. 27. 28. 29.]\n",
      "  [30. 31. 32. 33. 34.]\n",
      "  [35. 36. 37. 38. 39.]\n",
      "  [40. 41. 42. 43. 44.]\n",
      "  [45. 46. 47. 48. 49.]]], shape=(2, 5, 5), dtype=float64)\n",
      "tf.Tensor(\n",
      "[[[ 6.  7.  8.  9.]\n",
      "  [11. 12. 13. 14.]\n",
      "  [16. 17. 18. 19.]\n",
      "  [21. 22. 23. 24.]]\n",
      "\n",
      " [[31. 32. 33. 34.]\n",
      "  [36. 37. 38. 39.]\n",
      "  [41. 42. 43. 44.]\n",
      "  [46. 47. 48. 49.]]], shape=(2, 4, 4), dtype=float32)\n"
     ]
    }
   ],
   "source": [
    "print(XXX.reshape(2,5,5))\n",
    "cnv(XXX) # weights를 초기화 시키기 위해서 레이어를 1회 통과 \n",
    "cnv.set_weights([w,b])\n",
    "print(cnv(XXX).reshape(2,4,4))"
   ]
  },
  {
   "cell_type": "code",
   "execution_count": null,
   "id": "b51b503e-740c-4699-a029-7ddc841fcb86",
   "metadata": {
    "id": "b51b503e-740c-4699-a029-7ddc841fcb86",
    "outputId": "7e06157d-5152-48af-84b0-1337dd62c1b5"
   },
   "outputs": [
    {
     "data": {
      "text/plain": [
       "(6.0, 31.0)"
      ]
     },
     "execution_count": 257,
     "metadata": {},
     "output_type": "execute_result"
    }
   ],
   "source": [
    "np.mean([0,1,5,6])+3,np.mean([25,26,30,31])+3,"
   ]
  },
  {
   "cell_type": "markdown",
   "id": "36777d0c-eb19-452b-b835-70e068a3542d",
   "metadata": {
    "id": "36777d0c-eb19-452b-b835-70e068a3542d"
   },
   "source": [
    "#### 테스트5"
   ]
  },
  {
   "cell_type": "markdown",
   "id": "e7a6ba2b-4864-4bbe-b0e6-c6c39314b5e5",
   "metadata": {
    "id": "e7a6ba2b-4864-4bbe-b0e6-c6c39314b5e5"
   },
   "source": [
    "`-` "
   ]
  },
  {
   "cell_type": "code",
   "execution_count": null,
   "id": "f3d31496-0191-4837-a0c5-4eeec53111b5",
   "metadata": {
    "id": "f3d31496-0191-4837-a0c5-4eeec53111b5"
   },
   "outputs": [],
   "source": [
    "tf.random.set_seed(43052)\n",
    "cnv = tf.keras.layers.Conv2D(4,(2,2),activation='relu')\n",
    "XXX = tnp.arange(1*2*2*1,dtype=tf.float64).reshape(1,2,2,1)"
   ]
  },
  {
   "cell_type": "code",
   "execution_count": null,
   "id": "8d18d8aa-93d7-4e58-bc9a-171551fc144e",
   "metadata": {
    "id": "8d18d8aa-93d7-4e58-bc9a-171551fc144e",
    "outputId": "0903fae9-606c-4ac7-d890-74817e55b266"
   },
   "outputs": [
    {
     "name": "stdout",
     "output_type": "stream",
     "text": [
      "tf.Tensor(\n",
      "[[[0. 1.]\n",
      "  [2. 3.]]], shape=(1, 2, 2), dtype=float64)\n"
     ]
    }
   ],
   "source": [
    "print(XXX.reshape(1,2,2))"
   ]
  },
  {
   "cell_type": "code",
   "execution_count": null,
   "id": "59842396-9eea-4d17-b92b-82fdfdad144e",
   "metadata": {
    "id": "59842396-9eea-4d17-b92b-82fdfdad144e",
    "outputId": "02a9b6dc-c291-44f5-e53c-4a60ee0c33a4"
   },
   "outputs": [
    {
     "data": {
      "text/plain": [
       "<tf.Tensor: shape=(1, 1, 1, 4), dtype=float32, numpy=array([[[[1.048703, 0.      , 0.      , 0.      ]]]], dtype=float32)>"
      ]
     },
     "execution_count": 326,
     "metadata": {},
     "output_type": "execute_result"
    }
   ],
   "source": [
    "cnv(XXX)"
   ]
  },
  {
   "cell_type": "code",
   "execution_count": null,
   "id": "aafcd364-c4b4-44b5-89df-20480f566b31",
   "metadata": {
    "id": "aafcd364-c4b4-44b5-89df-20480f566b31",
    "outputId": "27506bc8-9a92-4c0c-e045-dae9b3a224bd"
   },
   "outputs": [
    {
     "data": {
      "text/plain": [
       "<tf.Variable 'conv2d_27/kernel:0' shape=(2, 2, 1, 4) dtype=float32, numpy=\n",
       "array([[[[-0.08230966, -0.15132892, -0.12760344, -0.38952267]],\n",
       "\n",
       "        [[-0.36398047,  0.07347518, -0.08780673,  0.46633136]]],\n",
       "\n",
       "\n",
       "       [[[ 0.19759327, -0.46042526, -0.15406173, -0.34838456]],\n",
       "\n",
       "        [[ 0.33916563, -0.08248386,  0.11705655, -0.49948823]]]],\n",
       "      dtype=float32)>"
      ]
     },
     "execution_count": 327,
     "metadata": {},
     "output_type": "execute_result"
    }
   ],
   "source": [
    "cnv.weights[0] # (2,2) 커널의 크기 // 1은 XXX의 채널수 // 4는 conv(XXX)의 채널수 "
   ]
  },
  {
   "cell_type": "code",
   "execution_count": null,
   "id": "6a8abf9a-a7d0-4dfd-b9f2-8c657f913683",
   "metadata": {
    "id": "6a8abf9a-a7d0-4dfd-b9f2-8c657f913683",
    "outputId": "5016d115-0770-4eed-bb8c-12331737b6a0"
   },
   "outputs": [
    {
     "data": {
      "text/plain": [
       "<tf.Tensor: shape=(2, 2), dtype=float32, numpy=\n",
       "array([[-0.08230966, -0.36398047],\n",
       "       [ 0.19759327,  0.33916563]], dtype=float32)>"
      ]
     },
     "execution_count": 281,
     "metadata": {},
     "output_type": "execute_result"
    }
   ],
   "source": [
    "cnv.weights[0][...,0].reshape(2,2) ## conv(XXX)의 첫번째채널 출력을 얻기 위해 곱해지는 w "
   ]
  },
  {
   "cell_type": "code",
   "execution_count": null,
   "id": "171f2ae5-06d9-450b-ac15-9723db067f63",
   "metadata": {
    "id": "171f2ae5-06d9-450b-ac15-9723db067f63",
    "outputId": "60a8cbb5-c8af-4f8b-d0c5-cbbd4f6cb02e"
   },
   "outputs": [
    {
     "data": {
      "text/plain": [
       "<tf.Tensor: shape=(), dtype=float64, numpy=1.0487029552459717>"
      ]
     },
     "execution_count": 282,
     "metadata": {},
     "output_type": "execute_result"
    }
   ],
   "source": [
    "tf.reduce_sum(XXX.reshape(1,2,2) * cnv.weights[0][...,0].reshape(2,2)) ### conv(XXX)의 첫번째 채널 출력결과 "
   ]
  },
  {
   "cell_type": "markdown",
   "id": "f5a87294-c00c-4de3-ad54-05be7c683933",
   "metadata": {
    "id": "f5a87294-c00c-4de3-ad54-05be7c683933"
   },
   "source": [
    "`-` 계산결과를 확인하기 쉽게 하기 위한 약간의 트릭"
   ]
  },
  {
   "cell_type": "code",
   "execution_count": null,
   "id": "4937eecd-dbdc-4d14-aac1-7e9583e36494",
   "metadata": {
    "id": "4937eecd-dbdc-4d14-aac1-7e9583e36494"
   },
   "outputs": [],
   "source": [
    "tf.random.set_seed(43052)\n",
    "cnv = tf.keras.layers.Conv2D(4,(2,2))\n",
    "XXX = tnp.array([1]*1*2*2*1,dtype=tf.float64).reshape(1,2,2,1)"
   ]
  },
  {
   "cell_type": "code",
   "execution_count": null,
   "id": "f863a7f9-2b8a-4bbc-82fc-653b8b30aab4",
   "metadata": {
    "id": "f863a7f9-2b8a-4bbc-82fc-653b8b30aab4",
    "outputId": "931242d6-d1d1-4556-94e1-cf7d62bb5279"
   },
   "outputs": [
    {
     "name": "stdout",
     "output_type": "stream",
     "text": [
      "tf.Tensor(\n",
      "[[[1. 1.]\n",
      "  [1. 1.]]], shape=(1, 2, 2), dtype=float64)\n"
     ]
    }
   ],
   "source": [
    "print(XXX.reshape(1,2,2))"
   ]
  },
  {
   "cell_type": "markdown",
   "id": "b165cd57-3ed1-43d0-bde9-1eca002b2843",
   "metadata": {
    "id": "b165cd57-3ed1-43d0-bde9-1eca002b2843"
   },
   "source": [
    "- 이렇게 XXX를 설정하면 cnv(XXX)의 결과는 단지 cnv의 weight들의 sum이 된다. "
   ]
  },
  {
   "cell_type": "code",
   "execution_count": null,
   "id": "24b6931e-771b-4378-9400-c531a06e806e",
   "metadata": {
    "id": "24b6931e-771b-4378-9400-c531a06e806e",
    "outputId": "2e260b4a-4daa-4016-d529-d357c115cac2"
   },
   "outputs": [
    {
     "data": {
      "text/plain": [
       "<tf.Tensor: shape=(1, 1, 1, 4), dtype=float32, numpy=\n",
       "array([[[[ 0.09046876, -0.6207629 , -0.25241536, -0.7710641 ]]]],\n",
       "      dtype=float32)>"
      ]
     },
     "execution_count": 287,
     "metadata": {},
     "output_type": "execute_result"
    }
   ],
   "source": [
    "cnv(XXX)"
   ]
  },
  {
   "cell_type": "code",
   "execution_count": null,
   "id": "149d1945-22f0-49c9-827f-8b7f2cfab22c",
   "metadata": {
    "id": "149d1945-22f0-49c9-827f-8b7f2cfab22c",
    "outputId": "4c3a524c-aefb-4dbd-e50e-349e1c4e685d"
   },
   "outputs": [
    {
     "data": {
      "text/plain": [
       "<tf.Variable 'conv2d_24/kernel:0' shape=(2, 2, 1, 4) dtype=float32, numpy=\n",
       "array([[[[-0.08230966, -0.15132892, -0.12760344, -0.38952267]],\n",
       "\n",
       "        [[-0.36398047,  0.07347518, -0.08780673,  0.46633136]]],\n",
       "\n",
       "\n",
       "       [[[ 0.19759327, -0.46042526, -0.15406173, -0.34838456]],\n",
       "\n",
       "        [[ 0.33916563, -0.08248386,  0.11705655, -0.49948823]]]],\n",
       "      dtype=float32)>"
      ]
     },
     "execution_count": 288,
     "metadata": {},
     "output_type": "execute_result"
    }
   ],
   "source": [
    "cnv.weights[0] # (2,2) 커널의 크기 // 1은 XXX의 채널수 // 4는 conv(XXX)의 채널수 "
   ]
  },
  {
   "cell_type": "code",
   "execution_count": null,
   "id": "8cbe2c4d-a2ac-4e39-8c1d-729cd67df45b",
   "metadata": {
    "id": "8cbe2c4d-a2ac-4e39-8c1d-729cd67df45b",
    "outputId": "6943ed33-97a5-455d-aad6-cb29c7eee207"
   },
   "outputs": [
    {
     "data": {
      "text/plain": [
       "<tf.Tensor: shape=(2, 2), dtype=float32, numpy=\n",
       "array([[-0.08230966, -0.36398047],\n",
       "       [ 0.19759327,  0.33916563]], dtype=float32)>"
      ]
     },
     "execution_count": 289,
     "metadata": {},
     "output_type": "execute_result"
    }
   ],
   "source": [
    "cnv.weights[0][...,0].reshape(2,2) ## conv(XXX)의 첫번째채널 출력을 얻기 위해 곱해지는 w "
   ]
  },
  {
   "cell_type": "code",
   "execution_count": null,
   "id": "e856dd07-3bc6-4559-976a-41519708c305",
   "metadata": {
    "id": "e856dd07-3bc6-4559-976a-41519708c305",
    "outputId": "dfb35e58-deca-4829-849b-2f13bde0a563"
   },
   "outputs": [
    {
     "data": {
      "text/plain": [
       "<tf.Tensor: shape=(), dtype=float32, numpy=0.090468764>"
      ]
     },
     "execution_count": 294,
     "metadata": {},
     "output_type": "execute_result"
    }
   ],
   "source": [
    "tf.reduce_sum(cnv.weights[0][...,0])\n",
    "#tf.reduce_sum(XXX.reshape(1,2,2) * cnv.weights[0][...,0].reshape(2,2)) ### conv(XXX)의 첫번째 채널 출력결과 "
   ]
  },
  {
   "cell_type": "markdown",
   "id": "0d41505d-3b6d-452c-af0b-b00d973de695",
   "metadata": {
    "id": "0d41505d-3b6d-452c-af0b-b00d973de695"
   },
   "source": [
    "#### 테스트6"
   ]
  },
  {
   "cell_type": "markdown",
   "id": "5cb495db-bc84-4e9f-b2c7-3bf0a7170559",
   "metadata": {
    "id": "5cb495db-bc84-4e9f-b2c7-3bf0a7170559"
   },
   "source": [
    "`-` 결과확인을 쉽게하기 위해서 XXX를 1로 통일"
   ]
  },
  {
   "cell_type": "code",
   "execution_count": null,
   "id": "f3f12488-e6af-477a-ba2b-5fe1dbb14e97",
   "metadata": {
    "id": "f3f12488-e6af-477a-ba2b-5fe1dbb14e97"
   },
   "outputs": [],
   "source": [
    "tf.random.set_seed(43052)\n",
    "cnv = tf.keras.layers.Conv2D(4,(2,2))\n",
    "XXX = tnp.array([1]*1*2*2*3,dtype=tf.float64).reshape(1,2,2,3)"
   ]
  },
  {
   "cell_type": "code",
   "execution_count": null,
   "id": "c11e8203-092e-4970-89e6-c3183c6ae2b5",
   "metadata": {
    "id": "c11e8203-092e-4970-89e6-c3183c6ae2b5",
    "outputId": "34c027cc-9a3f-4275-d45c-2e511d6dc0c0"
   },
   "outputs": [
    {
     "data": {
      "text/plain": [
       "<tf.Tensor: shape=(1, 1, 1, 4), dtype=float32, numpy=\n",
       "array([[[[ 0.3297621, -0.4498347, -1.0487393, -1.580095 ]]]],\n",
       "      dtype=float32)>"
      ]
     },
     "execution_count": 345,
     "metadata": {},
     "output_type": "execute_result"
    }
   ],
   "source": [
    "cnv(XXX)"
   ]
  },
  {
   "cell_type": "code",
   "execution_count": null,
   "id": "92d999eb-148c-4bc5-a11d-a53e90c560c1",
   "metadata": {
    "id": "92d999eb-148c-4bc5-a11d-a53e90c560c1",
    "outputId": "c34cd057-4065-48ab-cfed-2fe666afe31e"
   },
   "outputs": [
    {
     "data": {
      "text/plain": [
       "<tf.Variable 'conv2d_33/kernel:0' shape=(2, 2, 3, 4) dtype=float32, numpy=\n",
       "array([[[[-0.06956434, -0.12789628, -0.10784459, -0.32920673],\n",
       "         [-0.30761963,  0.06209785, -0.07421023,  0.3941219 ],\n",
       "         [ 0.16699678, -0.38913035, -0.13020593, -0.29443866]],\n",
       "\n",
       "        [[ 0.28664726, -0.0697116 ,  0.09893084, -0.4221446 ],\n",
       "         [-0.23161241, -0.16410837, -0.36420006,  0.12424195],\n",
       "         [-0.14245945,  0.36286396, -0.10751781,  0.1733647 ]]],\n",
       "\n",
       "\n",
       "       [[[ 0.02764335,  0.15547717, -0.42024496, -0.31893867],\n",
       "         [ 0.22414821,  0.3619454 , -0.00282967, -0.3503708 ],\n",
       "         [ 0.4610079 , -0.17417148,  0.00401336, -0.29777044]],\n",
       "\n",
       "        [[-0.1620284 , -0.42066965, -0.01578814, -0.4240524 ],\n",
       "         [ 0.37925082,  0.24236053,  0.3949356 , -0.20996472],\n",
       "         [-0.30264795, -0.28889188, -0.3237777 ,  0.37506342]]]],\n",
       "      dtype=float32)>"
      ]
     },
     "execution_count": 346,
     "metadata": {},
     "output_type": "execute_result"
    }
   ],
   "source": [
    "cnv.weights[0] ## (2,2)는 커널의 사이즈 // 3은 XXX의채널 // 4는 cnv(XXX)의 채널 "
   ]
  },
  {
   "cell_type": "code",
   "execution_count": null,
   "id": "c0bdec5e-4dfe-428a-bd34-03808c230243",
   "metadata": {
    "id": "c0bdec5e-4dfe-428a-bd34-03808c230243",
    "outputId": "f8361f83-87e7-4f70-e241-48b56f3f01fe"
   },
   "outputs": [
    {
     "data": {
      "text/plain": [
       "<tf.Tensor: shape=(2, 2, 3), dtype=float32, numpy=\n",
       "array([[[-0.06956434, -0.30761963,  0.16699678],\n",
       "        [ 0.28664726, -0.23161241, -0.14245945]],\n",
       "\n",
       "       [[ 0.02764335,  0.22414821,  0.4610079 ],\n",
       "        [-0.1620284 ,  0.37925082, -0.30264795]]], dtype=float32)>"
      ]
     },
     "execution_count": 347,
     "metadata": {},
     "output_type": "execute_result"
    }
   ],
   "source": [
    "cnv.weights[0][...,0] ## cnv(XXX)의 첫번째 채널결과를 얻기 위해서 사용하는 w "
   ]
  },
  {
   "cell_type": "code",
   "execution_count": null,
   "id": "04d9bee0-6efc-48f0-aca9-6fe5b1eb9b68",
   "metadata": {
    "id": "04d9bee0-6efc-48f0-aca9-6fe5b1eb9b68",
    "outputId": "cfdf37ef-8085-4720-985e-ae62e11415ef"
   },
   "outputs": [
    {
     "data": {
      "text/plain": [
       "<tf.Tensor: shape=(), dtype=float32, numpy=0.32976213>"
      ]
     },
     "execution_count": 348,
     "metadata": {},
     "output_type": "execute_result"
    }
   ],
   "source": [
    "tf.reduce_sum(cnv.weights[0][...,0]) ### cnv(XXX)의 첫번째 채널의 결과 "
   ]
  },
  {
   "cell_type": "code",
   "execution_count": null,
   "id": "f45cb0dc-36c7-495d-a260-5134667ea78e",
   "metadata": {
    "id": "f45cb0dc-36c7-495d-a260-5134667ea78e",
    "outputId": "69da9c86-a157-4a73-936f-7501e7801e01"
   },
   "outputs": [
    {
     "name": "stdout",
     "output_type": "stream",
     "text": [
      "tf.Tensor(0.32976213, shape=(), dtype=float32)\n",
      "tf.Tensor(-0.44983464, shape=(), dtype=float32)\n",
      "tf.Tensor(-1.0487392, shape=(), dtype=float32)\n",
      "tf.Tensor(-1.5800952, shape=(), dtype=float32)\n"
     ]
    }
   ],
   "source": [
    "print(tf.reduce_sum(cnv.weights[0][...,0]))\n",
    "print(tf.reduce_sum(cnv.weights[0][...,1]))\n",
    "print(tf.reduce_sum(cnv.weights[0][...,2]))\n",
    "print(tf.reduce_sum(cnv.weights[0][...,3])) ### cnv(XXX)의 결과 "
   ]
  },
  {
   "cell_type": "code",
   "execution_count": null,
   "id": "31045978-ddae-4bf4-9cc3-19b6dd1e521c",
   "metadata": {
    "id": "31045978-ddae-4bf4-9cc3-19b6dd1e521c"
   },
   "outputs": [],
   "source": [
    "w_red = cnv.weights[0][...,0][...,0] \n",
    "w_green = cnv.weights[0][...,0][...,1] \n",
    "w_blue = cnv.weights[0][...,0][...,2] "
   ]
  },
  {
   "cell_type": "code",
   "execution_count": null,
   "id": "10923f38-bc02-4338-9a26-d2a49820e74c",
   "metadata": {
    "id": "10923f38-bc02-4338-9a26-d2a49820e74c",
    "outputId": "3c4118ea-5210-4def-ff09-85c077873866"
   },
   "outputs": [
    {
     "data": {
      "text/plain": [
       "<tf.Tensor: shape=(), dtype=float64, numpy=0.32976213097572327>"
      ]
     },
     "execution_count": 351,
     "metadata": {},
     "output_type": "execute_result"
    }
   ],
   "source": [
    "tf.reduce_sum(XXX[...,0] * w_red + XXX[...,1] * w_green + XXX[...,2] * w_blue) ## cnv(XXX)의 첫채널 출력결과 "
   ]
  },
  {
   "cell_type": "markdown",
   "id": "bcb86f5c-dc63-479c-a2b9-472a906adfbf",
   "metadata": {
    "id": "bcb86f5c-dc63-479c-a2b9-472a906adfbf"
   },
   "source": [
    "### hw"
   ]
  },
  {
   "cell_type": "markdown",
   "id": "2609636a-d84a-4e3a-ba38-86a52d5fdb2e",
   "metadata": {
    "id": "2609636a-d84a-4e3a-ba38-86a52d5fdb2e"
   },
   "source": [
    "아래와 같은 흑백이미지가 있다고 하자. \n",
    "```\n",
    "0 0 0 1 1 1 \n",
    "0 0 0 1 1 1 \n",
    "0 0 0 1 1 1 \n",
    "0 0 0 1 1 1 \n",
    "0 0 0 1 1 1\n",
    "0 0 0 1 1 1 \n",
    "```\n",
    "\n",
    "위의 이미지에 아래와 같은 weight를 가진 필터를 적용하여 convolution한 결과를 계산하라. (bias는 0으로 가정한다) \n",
    "```\n",
    "-1 1 \n",
    "-1 1 \n",
    "```"
   ]
  },
  {
   "cell_type": "code",
   "execution_count": 46,
   "id": "3c3640f4-3195-4710-adaf-70bbe6dbc107",
   "metadata": {
    "id": "661a2dd8-6e85-4d0c-8d6f-d1e89d1221f5",
    "outputId": "33134d1b-d5ff-4148-8dbe-706dc3bdd8b1"
   },
   "outputs": [
    {
     "data": {
      "text/plain": [
       "(2, 2, 1, 1)"
      ]
     },
     "execution_count": 46,
     "metadata": {},
     "output_type": "execute_result"
    }
   ],
   "source": [
    "cnv.get_weights()[0].shape"
   ]
  },
  {
   "cell_type": "code",
   "execution_count": 47,
   "id": "0a39e3d3-a319-4f2a-9933-d14aab98cf68",
   "metadata": {
    "id": "8a049192-d97f-40dd-845f-61bde27ee392"
   },
   "outputs": [],
   "source": [
    "w = np.array([-1,1,-1,1],dtype=np.float32).reshape(2, 2, 1, 1)\n",
    "b = np.array([0],dtype=np.float32)"
   ]
  },
  {
   "cell_type": "code",
   "execution_count": 48,
   "id": "5b91859f-2740-40d8-bf40-d1d4f542a9fa",
   "metadata": {
    "id": "3f691bc3-d9d2-4506-83ac-1ad69685d5b4"
   },
   "outputs": [],
   "source": [
    "cnv.set_weights([w,b])"
   ]
  },
  {
   "cell_type": "code",
   "execution_count": 49,
   "id": "e235d7c2-0cef-435a-9490-40739de25434",
   "metadata": {},
   "outputs": [
    {
     "data": {
      "text/plain": [
       "<tf.Tensor: shape=(1, 6, 6), dtype=float64, numpy=\n",
       "array([[[0., 0., 0., 1., 1., 1.],\n",
       "        [0., 0., 0., 1., 1., 1.],\n",
       "        [0., 0., 0., 1., 1., 1.],\n",
       "        [0., 0., 0., 1., 1., 1.],\n",
       "        [0., 0., 0., 1., 1., 1.],\n",
       "        [0., 0., 0., 1., 1., 1.]]])>"
      ]
     },
     "execution_count": 49,
     "metadata": {},
     "output_type": "execute_result"
    }
   ],
   "source": [
    "XXX = tf.constant([[0,0,0,1,1,1],[0,0,0,1,1,1],[0,0,0,1,1,1],[0,0,0,1,1,1],[0,0,0,1,1,1],[0,0,0,1,1,1]],dtype=tf.float64).reshape(1,6,6,1)\n",
    "XXX.reshape(1,6,6)"
   ]
  },
  {
   "cell_type": "code",
   "execution_count": 50,
   "id": "6237bab0-ccd6-4c06-b921-654487b29c3c",
   "metadata": {
    "id": "d85618cb-e820-4fd4-a679-9708be4070d5",
    "outputId": "28785ca5-5300-4c9d-8e7c-aef3c3fca79a"
   },
   "outputs": [
    {
     "data": {
      "text/plain": [
       "<tf.Tensor: shape=(1, 5, 5), dtype=float32, numpy=\n",
       "array([[[0., 0., 2., 0., 0.],\n",
       "        [0., 0., 2., 0., 0.],\n",
       "        [0., 0., 2., 0., 0.],\n",
       "        [0., 0., 2., 0., 0.],\n",
       "        [0., 0., 2., 0., 0.]]], dtype=float32)>"
      ]
     },
     "execution_count": 50,
     "metadata": {},
     "output_type": "execute_result"
    }
   ],
   "source": [
    "cnv(XXX).reshape(1,5,5)"
   ]
  }
 ],
 "metadata": {
  "colab": {
   "name": "2022-05-16-(11주차) 5월16일.ipynb",
   "provenance": []
  },
  "kernelspec": {
   "display_name": "Python 3 (ipykernel)",
   "language": "python",
   "name": "python3"
  },
  "language_info": {
   "codemirror_mode": {
    "name": "ipython",
    "version": 3
   },
   "file_extension": ".py",
   "mimetype": "text/x-python",
   "name": "python",
   "nbconvert_exporter": "python",
   "pygments_lexer": "ipython3",
   "version": "3.8.12"
  }
 },
 "nbformat": 4,
 "nbformat_minor": 5
}
